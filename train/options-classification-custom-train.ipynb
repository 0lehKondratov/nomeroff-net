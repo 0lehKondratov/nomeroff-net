{
 "cells": [
  {
   "cell_type": "markdown",
   "metadata": {},
   "source": [
    "# This example demonstrate how to train region classification (standart image classification model)."
   ]
  },
  {
   "cell_type": "markdown",
   "metadata": {},
   "source": [
    "For train datasets please download last version of dataset [https://nomeroff.net.ua/datasets/](https://nomeroff.net.ua/datasets/). Unpack archive and rename to **./datasets/** .\n",
    "For examle\n",
    "```bash\n",
    "cd ./datasets\n",
    "wget https://nomeroff.net.ua/datasets/autoriaNumberplateOptions3Dataset-2021-03-05.zip\n",
    "unzip autoriaNumberplateOptions3Dataset-2021-03-05.zip\n",
    "mv autoriaNumberplateOptions3Dataset-2021-03-05 options\n",
    "```\n",
    "or use your own dataset."
   ]
  },
  {
   "cell_type": "code",
   "execution_count": 1,
   "metadata": {},
   "outputs": [],
   "source": [
    "# Specify device\n",
    "import os\n",
    "os.environ[\"CUDA_VISIBLE_DEVICES\"] = \"0\" \n",
    "# os.environ[\"CUDA_VISIBLE_DEVICES\"] = \"\"  # For CPU inference\n",
    "os.environ[\"TF_FORCE_GPU_ALLOW_GROWTH\"]=\"true\""
   ]
  },
  {
   "cell_type": "code",
   "execution_count": 2,
   "metadata": {},
   "outputs": [],
   "source": [
    "import os\n",
    "import sys\n",
    "import warnings\n",
    "warnings.filterwarnings('ignore')\n",
    "\n",
    "# change this property\n",
    "NOMEROFF_NET_DIR = os.path.abspath('../')\n",
    "\n",
    "DATASET_NAME = \"options\"\n",
    "VERSION = \"2021_05_22_uacustom\"\n",
    "\n",
    "LOG_DIR = os.path.join(NOMEROFF_NET_DIR, \"logs/\")\n",
    "PATH_TO_DATASET = os.path.join(NOMEROFF_NET_DIR, \"datasets/\", DATASET_NAME)\n",
    "PATH_TO_TMP_CUSTOM_DATASET = os.path.join(NOMEROFF_NET_DIR, \"datasets/\", f\"{DATASET_NAME}_custom\")\n",
    "RESULT_PATH = os.path.join(NOMEROFF_NET_DIR, \"models/\", 'numberplate_{}_{}.h5'.format(DATASET_NAME, VERSION))\n",
    "\n",
    "sys.path.append(NOMEROFF_NET_DIR)\n",
    "\n",
    "from NomeroffNet import OptionsDetector\n",
    "from NomeroffNet.tools import custom_options"
   ]
  },
  {
   "cell_type": "markdown",
   "metadata": {},
   "source": [
    "### Prepare custom data"
   ]
  },
  {
   "cell_type": "code",
   "execution_count": 3,
   "metadata": {},
   "outputs": [
    {
     "name": "stdout",
     "output_type": "stream",
     "text": [
      "Creating path \"/var/www/nomeroff-net21/datasets/options_custom\" for custom options\n",
      "dir: /var/www/nomeroff-net21/datasets/options option_dir train custom_options_sub_dirs[0] ann\n",
      "In train prepared 20466 records\n",
      "dir: /var/www/nomeroff-net21/datasets/options option_dir val custom_options_sub_dirs[0] ann\n",
      "In val prepared 6487 records\n",
      "dir: /var/www/nomeroff-net21/datasets/options option_dir test custom_options_sub_dirs[0] ann\n",
      "In test prepared 6160 records\n"
     ]
    }
   ],
   "source": [
    "class_region_custom = [\n",
    "            \"xx-unknown\",\n",
    "            \"eu-ua-2015\",\n",
    "            \"eu-ua-2004\",\n",
    "            \"eu-ua-1995\",\n",
    "            \"eu\",\n",
    "            \"xx-transit\",\n",
    "            \"eu-ua-ordlo-dpr\",\n",
    "            \"eu-ua-ordlo-lpr\",\n",
    "            \"su\"\n",
    "        ]\n",
    "\n",
    "customOptionsMaker = custom_options.CustomOptionsMaker(\n",
    "    PATH_TO_DATASET,\n",
    "    PATH_TO_TMP_CUSTOM_DATASET, \n",
    "    OptionsDetector.get_class_region_all(),\n",
    "    class_region_custom\n",
    ")\n",
    "customOptionsMaker.make()"
   ]
  },
  {
   "cell_type": "code",
   "execution_count": 6,
   "metadata": {},
   "outputs": [],
   "source": [
    "# definde your parameters\n",
    "class MyNpClassificator(OptionsDetector):\n",
    "    def __init__(self, options={}):\n",
    "        OptionsDetector.__init__(self, options)\n",
    "        \n",
    "        # output 2\n",
    "        self.CLASS_REGION = class_region_custom\n",
    "        \n",
    "        # output 3\n",
    "        self.CLASS_COUNT_LINE = [\"0\", \"1\", \"2\", \"3\"]\n",
    "        \n",
    "        self.EPOCHS           = 500\n",
    "        self.BATCH_SIZE       = 64\n",
    "        \n",
    "        self.HEIGHT         = 64\n",
    "        self.WEIGHT         = 295\n"
   ]
  },
  {
   "cell_type": "code",
   "execution_count": 7,
   "metadata": {},
   "outputs": [
    {
     "name": "stdout",
     "output_type": "stream",
     "text": [
      "START PREPARING\n",
      "start train build\n",
      "end train build\n",
      "start test build\n",
      "end test build\n",
      "start test build\n",
      "end test build\n",
      "DATA PREPARED\n"
     ]
    }
   ],
   "source": [
    "# initialize region detector.\n",
    "npClassificator = MyNpClassificator()\n",
    "npClassificator.prepare(PATH_TO_TMP_CUSTOM_DATASET, verbose=1)"
   ]
  },
  {
   "cell_type": "code",
   "execution_count": null,
   "metadata": {},
   "outputs": [
    {
     "name": "stderr",
     "output_type": "stream",
     "text": [
      "[TRAIN 1, 319] loss: 1.2127501964569092 loss_reg: 1.5925583839416504 loss_line: 0.8329417109489441 acc: 0.8450521230697632 acc_reg: 0.78125 acc_line: 0.9088541865348816: 100%|██████████| 319/319 [00:15<00:00, 19.94it/s]           \n",
      "[TRAIN 2, 1] loss: 0.19883844256401062 loss_reg: 0.256944477558136 loss_line: 0.14073237776756287 acc: 0.1458333432674408 acc_reg: 0.140625 acc_line: 0.1510416716337204:   1%|          | 2/319 [00:00<00:17, 17.72it/s]"
     ]
    },
    {
     "name": "stdout",
     "output_type": "stream",
     "text": [
      "[VALIDATION 1] val_acc: 0.8473081683168316 val_acc_reg: 0.781559405940594 val_acc_line: 0.9130569306930693 \n"
     ]
    },
    {
     "name": "stderr",
     "output_type": "stream",
     "text": [
      "[TRAIN 2, 319] loss: 1.1778500080108643 loss_reg: 1.5409902334213257 loss_line: 0.8147094249725342 acc: 0.875 acc_reg: 0.8255208730697632 acc_line: 0.9244791865348816: 100%|██████████| 319/319 [00:16<00:00, 19.75it/s]             \n",
      "[TRAIN 3, 1] loss: 0.19381892681121826 loss_reg: 0.2531009316444397 loss_line: 0.13453692197799683 acc: 0.1497395932674408 acc_reg: 0.1432291716337204 acc_line: 0.15625:   1%|          | 2/319 [00:00<00:18, 17.12it/s]"
     ]
    },
    {
     "name": "stdout",
     "output_type": "stream",
     "text": [
      "[VALIDATION 2] val_acc: 0.8974319306930693 val_acc_reg: 0.8454517326732673 val_acc_line: 0.9494121287128713 \n"
     ]
    },
    {
     "name": "stderr",
     "output_type": "stream",
     "text": [
      "[TRAIN 3, 319] loss: 1.1254968643188477 loss_reg: 1.4789084196090698 loss_line: 0.7720853686332703 acc: 0.9322916865348816 acc_reg: 0.890625 acc_line: 0.9739583730697632: 100%|██████████| 319/319 [00:16<00:00, 19.86it/s]          \n",
      "[TRAIN 4, 1] loss: 0.2042543739080429 loss_reg: 0.2714388370513916 loss_line: 0.1370699405670166 acc: 0.1393229216337204 acc_reg: 0.125 acc_line: 0.1536458432674408:   1%|          | 2/319 [00:00<00:18, 16.77it/s]"
     ]
    },
    {
     "name": "stdout",
     "output_type": "stream",
     "text": [
      "[VALIDATION 3] val_acc: 0.9123607673267327 val_acc_reg: 0.8632425742574258 val_acc_line: 0.9614789603960396 \n"
     ]
    },
    {
     "name": "stderr",
     "output_type": "stream",
     "text": [
      "[TRAIN 4, 319] loss: 1.1345100402832031 loss_reg: 1.4904865026474 loss_line: 0.7785335779190063 acc: 0.921875 acc_reg: 0.8802083730697632 acc_line: 0.9635416865348816: 100%|██████████| 319/319 [00:16<00:00, 19.66it/s]             \n",
      "[TRAIN 5, 1] loss: 0.18874073028564453 loss_reg: 0.2472139298915863 loss_line: 0.13026754558086395 acc: 0.1536458432674408 acc_reg: 0.1484375 acc_line: 0.1588541716337204:   1%|          | 2/319 [00:00<00:17, 17.66it/s]"
     ]
    },
    {
     "name": "stdout",
     "output_type": "stream",
     "text": [
      "[VALIDATION 4] val_acc: 0.9214882425742574 val_acc_reg: 0.8757735148514851 val_acc_line: 0.9672029702970297 \n"
     ]
    },
    {
     "name": "stderr",
     "output_type": "stream",
     "text": [
      "[TRAIN 5, 319] loss: 1.1350047588348389 loss_reg: 1.4983055591583252 loss_line: 0.7717040777206421 acc: 0.9231771230697632 acc_reg: 0.875 acc_line: 0.9713541865348816: 100%|██████████| 319/319 [00:15<00:00, 20.01it/s]             \n",
      "[TRAIN 6, 1] loss: 0.18946900963783264 loss_reg: 0.24775736033916473 loss_line: 0.13118065893650055 acc: 0.1536458432674408 acc_reg: 0.1484375 acc_line: 0.1588541716337204:   1%|          | 2/319 [00:00<00:17, 17.80it/s]"
     ]
    },
    {
     "name": "stdout",
     "output_type": "stream",
     "text": [
      "[VALIDATION 5] val_acc: 0.9180074257425742 val_acc_reg: 0.869740099009901 val_acc_line: 0.9662747524752475 \n"
     ]
    },
    {
     "name": "stderr",
     "output_type": "stream",
     "text": [
      "[TRAIN 6, 319] loss: 1.1280831098556519 loss_reg: 1.4930894374847412 loss_line: 0.763076663017273 acc: 0.9296875 acc_reg: 0.8776041865348816 acc_line: 0.9817708730697632: 100%|██████████| 319/319 [00:16<00:00, 19.93it/s]          \n",
      "[TRAIN 7, 1] loss: 0.1910136193037033 loss_reg: 0.25090491771698 loss_line: 0.13112233579158783 acc: 0.1510416716337204 acc_reg: 0.1432291716337204 acc_line: 0.1588541716337204:   1%|          | 2/319 [00:00<00:22, 14.09it/s]"
     ]
    },
    {
     "name": "stdout",
     "output_type": "stream",
     "text": [
      "[VALIDATION 6] val_acc: 0.9260519801980198 val_acc_reg: 0.8794863861386139 val_acc_line: 0.9726175742574258 \n"
     ]
    },
    {
     "name": "stderr",
     "output_type": "stream",
     "text": [
      "[TRAIN 7, 319] loss: 1.1210269927978516 loss_reg: 1.473894476890564 loss_line: 0.7681595683097839 acc: 0.9375 acc_reg: 0.9010416865348816 acc_line: 0.9739583730697632: 100%|██████████| 319/319 [00:15<00:00, 20.11it/s]             \n",
      "[TRAIN 8, 1] loss: 0.18280145525932312 loss_reg: 0.2416573166847229 loss_line: 0.12394559383392334 acc: 0.16015625 acc_reg: 0.1536458432674408 acc_line: 0.1666666716337204:   1%|          | 2/319 [00:00<00:17, 18.37it/s]"
     ]
    },
    {
     "name": "stdout",
     "output_type": "stream",
     "text": [
      "[VALIDATION 7] val_acc: 0.9298422029702971 val_acc_reg: 0.8831992574257426 val_acc_line: 0.9764851485148515 \n"
     ]
    },
    {
     "name": "stderr",
     "output_type": "stream",
     "text": [
      "[TRAIN 8, 319] loss: 1.1247260570526123 loss_reg: 1.478792428970337 loss_line: 0.7706598043441772 acc: 0.9309896230697632 acc_reg: 0.890625 acc_line: 0.9713541865348816: 100%|██████████| 319/319 [00:15<00:00, 20.23it/s]           \n",
      "[TRAIN 9, 1] loss: 0.19087481498718262 loss_reg: 0.2448844611644745 loss_line: 0.13686518371105194 acc: 0.1510416716337204 acc_reg: 0.1484375 acc_line: 0.1536458432674408:   1%|          | 2/319 [00:00<00:18, 17.07it/s]"
     ]
    },
    {
     "name": "stdout",
     "output_type": "stream",
     "text": [
      "[VALIDATION 8] val_acc: 0.9396658415841584 val_acc_reg: 0.8966584158415841 val_acc_line: 0.9826732673267327 \n"
     ]
    },
    {
     "name": "stderr",
     "output_type": "stream",
     "text": [
      "[TRAIN 9, 319] loss: 1.1231207847595215 loss_reg: 1.4745428562164307 loss_line: 0.7716987133026123 acc: 0.9348958730697632 acc_reg: 0.8984375 acc_line: 0.9713541865348816: 100%|██████████| 319/319 [00:15<00:00, 20.38it/s]         \n",
      "[TRAIN 10, 1] loss: 0.18149778246879578 loss_reg: 0.23905086517333984 loss_line: 0.12394469976425171 acc: 0.1614583432674408 acc_reg: 0.15625 acc_line: 0.1666666716337204:   1%|          | 2/319 [00:00<00:18, 17.40it/s]"
     ]
    },
    {
     "name": "stdout",
     "output_type": "stream",
     "text": [
      "[VALIDATION 9] val_acc: 0.9381961633663366 val_acc_reg: 0.8991336633663366 val_acc_line: 0.9772586633663366 \n"
     ]
    },
    {
     "name": "stderr",
     "output_type": "stream",
     "text": [
      "[TRAIN 10, 319] loss: 1.1040928363800049 loss_reg: 1.4458074569702148 loss_line: 0.7623782157897949 acc: 0.953125 acc_reg: 0.9244791865348816 acc_line: 0.9817708730697632: 100%|██████████| 319/319 [00:15<00:00, 20.31it/s]          \n",
      "[TRAIN 11, 1] loss: 0.18241643905639648 loss_reg: 0.24088698625564575 loss_line: 0.12394589185714722 acc: 0.1614583432674408 acc_reg: 0.15625 acc_line: 0.1666666716337204:   1%|          | 2/319 [00:00<00:18, 16.82it/s]"
     ]
    },
    {
     "name": "stdout",
     "output_type": "stream",
     "text": [
      "[VALIDATION 10] val_acc: 0.940052599009901 val_acc_reg: 0.8997524752475248 val_acc_line: 0.9803527227722773 \n"
     ]
    },
    {
     "name": "stderr",
     "output_type": "stream",
     "text": [
      "[TRAIN 11, 319] loss: 1.1079163551330566 loss_reg: 1.449682593345642 loss_line: 0.7661499381065369 acc: 0.9505208730697632 acc_reg: 0.9244791865348816 acc_line: 0.9765625: 100%|██████████| 319/319 [00:15<00:00, 20.19it/s]          \n",
      "[TRAIN 12, 1] loss: 0.18138299882411957 loss_reg: 0.238819420337677 loss_line: 0.12394657731056213 acc: 0.1614583432674408 acc_reg: 0.15625 acc_line: 0.1666666716337204:   1%|          | 2/319 [00:00<00:19, 16.59it/s]"
     ]
    },
    {
     "name": "stdout",
     "output_type": "stream",
     "text": [
      "[VALIDATION 11] val_acc: 0.934947400990099 val_acc_reg: 0.8932549504950495 val_acc_line: 0.9766398514851485 \n"
     ]
    },
    {
     "name": "stderr",
     "output_type": "stream",
     "text": [
      "[TRAIN 12, 319] loss: 1.0962098836898804 loss_reg: 1.4424083232879639 loss_line: 0.7500115633010864 acc: 0.9596354365348816 acc_reg: 0.9270833730697632 acc_line: 0.9921875: 100%|██████████| 319/319 [00:17<00:00, 18.43it/s]         \n",
      "[TRAIN 13, 1] loss: 0.18144330382347107 loss_reg: 0.23630213737487793 loss_line: 0.12658444046974182 acc: 0.1614583432674408 acc_reg: 0.1588541716337204 acc_line: 0.1640625:   1%|          | 2/319 [00:00<00:19, 15.95it/s]"
     ]
    },
    {
     "name": "stdout",
     "output_type": "stream",
     "text": [
      "[VALIDATION 12] val_acc: 0.9379641089108911 val_acc_reg: 0.8980507425742574 val_acc_line: 0.9778774752475248 \n"
     ]
    },
    {
     "name": "stderr",
     "output_type": "stream",
     "text": [
      "[TRAIN 13, 319] loss: 1.105728268623352 loss_reg: 1.4497798681259155 loss_line: 0.7616766691207886 acc: 0.9518229365348816 acc_reg: 0.921875 acc_line: 0.9817708730697632: 100%|██████████| 319/319 [00:16<00:00, 19.56it/s]           \n",
      "[TRAIN 14, 1] loss: 0.17982332408428192 loss_reg: 0.23389413952827454 loss_line: 0.1257525384426117 acc: 0.1627604216337204 acc_reg: 0.1614583432674408 acc_line: 0.1640625:   1%|          | 2/319 [00:00<00:20, 15.33it/s]"
     ]
    },
    {
     "name": "stdout",
     "output_type": "stream",
     "text": [
      "[VALIDATION 13] val_acc: 0.940052599009901 val_acc_reg: 0.8986695544554455 val_acc_line: 0.9814356435643564 \n"
     ]
    },
    {
     "name": "stderr",
     "output_type": "stream",
     "text": [
      "[TRAIN 14, 319] loss: 1.115837574005127 loss_reg: 1.471590280532837 loss_line: 0.7600848078727722 acc: 0.9427083730697632 acc_reg: 0.9010416865348816 acc_line: 0.984375: 100%|██████████| 319/319 [00:17<00:00, 18.73it/s]            \n",
      "[TRAIN 15, 1] loss: 0.18491891026496887 loss_reg: 0.2380610704421997 loss_line: 0.13177672028541565 acc: 0.1575520932674408 acc_reg: 0.15625 acc_line: 0.1588541716337204:   1%|          | 2/319 [00:00<00:18, 17.04it/s]"
     ]
    },
    {
     "name": "stdout",
     "output_type": "stream",
     "text": [
      "[VALIDATION 14] val_acc: 0.9381961633663366 val_acc_reg: 0.8963490099009901 val_acc_line: 0.9800433168316832 \n"
     ]
    },
    {
     "name": "stderr",
     "output_type": "stream",
     "text": [
      "[TRAIN 15, 319] loss: 1.0879651308059692 loss_reg: 1.4218215942382812 loss_line: 0.7541084289550781 acc: 0.96875 acc_reg: 0.9479166865348816 acc_line: 0.9895833730697632: 100%|██████████| 319/319 [00:16<00:00, 19.01it/s]           \n",
      "[TRAIN 16, 1] loss: 0.18535324931144714 loss_reg: 0.24155347049236298 loss_line: 0.12915301322937012 acc: 0.1575520932674408 acc_reg: 0.1536458432674408 acc_line: 0.1614583432674408:   1%|          | 2/319 [00:00<00:20, 15.72it/s]"
     ]
    },
    {
     "name": "stdout",
     "output_type": "stream",
     "text": [
      "[VALIDATION 15] val_acc: 0.9442295792079208 val_acc_reg: 0.9040841584158416 val_acc_line: 0.984375 \n"
     ]
    },
    {
     "name": "stderr",
     "output_type": "stream",
     "text": [
      "[TRAIN 16, 319] loss: 1.1142632961273193 loss_reg: 1.4672545194625854 loss_line: 0.761272132396698 acc: 0.9440104365348816 acc_reg: 0.90625 acc_line: 0.9817708730697632: 100%|██████████| 319/319 [00:16<00:00, 19.89it/s]            \n",
      "[TRAIN 17, 1] loss: 0.18020246922969818 loss_reg: 0.2364543378353119 loss_line: 0.12395061552524567 acc: 0.1627604216337204 acc_reg: 0.1588541716337204 acc_line: 0.1666666716337204:   1%|          | 2/319 [00:00<00:17, 17.72it/s]"
     ]
    },
    {
     "name": "stdout",
     "output_type": "stream",
     "text": [
      "[VALIDATION 16] val_acc: 0.9439975247524752 val_acc_reg: 0.9093440594059405 val_acc_line: 0.9786509900990099 \n"
     ]
    },
    {
     "name": "stderr",
     "output_type": "stream",
     "text": [
      "[TRAIN 17, 319] loss: 1.1138370037078857 loss_reg: 1.4727123975753784 loss_line: 0.7549617290496826 acc: 0.9440104365348816 acc_reg: 0.8984375 acc_line: 0.9895833730697632: 100%|██████████| 319/319 [00:17<00:00, 18.75it/s]         \n",
      "[TRAIN 18, 1] loss: 0.1804620325565338 loss_reg: 0.23640552163124084 loss_line: 0.12451852858066559 acc: 0.1627604216337204 acc_reg: 0.1588541716337204 acc_line: 0.1666666716337204:   1%|          | 2/319 [00:00<00:18, 16.86it/s]"
     ]
    },
    {
     "name": "stdout",
     "output_type": "stream",
     "text": [
      "[VALIDATION 17] val_acc: 0.9463180693069307 val_acc_reg: 0.9124381188118812 val_acc_line: 0.9801980198019802 \n"
     ]
    },
    {
     "name": "stderr",
     "output_type": "stream",
     "text": [
      "[TRAIN 18, 319] loss: 1.0829057693481445 loss_reg: 1.416372537612915 loss_line: 0.7494389414787292 acc: 0.9752604365348816 acc_reg: 0.9557291865348816 acc_line: 0.9947916865348816: 100%|██████████| 319/319 [00:16<00:00, 19.22it/s] \n",
      "[TRAIN 19, 1] loss: 0.18150874972343445 loss_reg: 0.2390727698802948 loss_line: 0.12394469976425171 acc: 0.1614583432674408 acc_reg: 0.15625 acc_line: 0.1666666716337204:   1%|          | 2/319 [00:00<00:20, 15.72it/s]"
     ]
    },
    {
     "name": "stdout",
     "output_type": "stream",
     "text": [
      "[VALIDATION 18] val_acc: 0.9455445544554455 val_acc_reg: 0.9119740099009901 val_acc_line: 0.979115099009901 \n"
     ]
    },
    {
     "name": "stderr",
     "output_type": "stream",
     "text": [
      "[TRAIN 19, 319] loss: 1.0975289344787598 loss_reg: 1.4376187324523926 loss_line: 0.7574392557144165 acc: 0.9596354365348816 acc_reg: 0.9348958730697632 acc_line: 0.984375: 100%|██████████| 319/319 [00:16<00:00, 19.01it/s]          \n",
      "[TRAIN 20, 1] loss: 0.19463054835796356 loss_reg: 0.2600751519203186 loss_line: 0.12918594479560852 acc: 0.1484375 acc_reg: 0.1354166716337204 acc_line: 0.1614583432674408:   1%|          | 3/319 [00:00<00:16, 19.60it/s]"
     ]
    },
    {
     "name": "stdout",
     "output_type": "stream",
     "text": [
      "[VALIDATION 19] val_acc: 0.9456992574257426 val_acc_reg: 0.9074876237623762 val_acc_line: 0.9839108910891089 \n"
     ]
    },
    {
     "name": "stderr",
     "output_type": "stream",
     "text": [
      "[TRAIN 20, 319] loss: 1.0981796979904175 loss_reg: 1.4472551345825195 loss_line: 0.7491042017936707 acc: 0.9596354365348816 acc_reg: 0.9244791865348816 acc_line: 0.9947916865348816: 100%|██████████| 319/319 [00:15<00:00, 20.18it/s]\n",
      "[TRAIN 21, 1] loss: 0.17890620231628418 loss_reg: 0.2338668555021286 loss_line: 0.12394556403160095 acc: 0.1640625 acc_reg: 0.1614583432674408 acc_line: 0.1666666716337204:   1%|          | 3/319 [00:00<00:14, 22.12it/s]"
     ]
    },
    {
     "name": "stdout",
     "output_type": "stream",
     "text": [
      "[VALIDATION 20] val_acc: 0.9456992574257426 val_acc_reg: 0.9094987623762376 val_acc_line: 0.9818997524752475 \n"
     ]
    },
    {
     "name": "stderr",
     "output_type": "stream",
     "text": [
      "[TRAIN 21, 319] loss: 1.0918117761611938 loss_reg: 1.4372761249542236 loss_line: 0.7463474273681641 acc: 0.9661458730697632 acc_reg: 0.9348958730697632 acc_line: 0.9973958730697632: 100%|██████████| 319/319 [00:16<00:00, 19.83it/s]\n",
      "[TRAIN 22, 1] loss: 0.18407461047172546 loss_reg: 0.24159947037696838 loss_line: 0.12654975056648254 acc: 0.1588541716337204 acc_reg: 0.1536458432674408 acc_line: 0.1640625:   1%|          | 2/319 [00:00<00:15, 19.84it/s]"
     ]
    },
    {
     "name": "stdout",
     "output_type": "stream",
     "text": [
      "[VALIDATION 21] val_acc: 0.945003094059406 val_acc_reg: 0.9056311881188119 val_acc_line: 0.984375 \n"
     ]
    },
    {
     "name": "stderr",
     "output_type": "stream",
     "text": [
      "[TRAIN 22, 319] loss: 1.1004557609558105 loss_reg: 1.4446719884872437 loss_line: 0.7562392950057983 acc: 0.9583333730697632 acc_reg: 0.9270833730697632 acc_line: 0.9895833730697632: 100%|██████████| 319/319 [00:16<00:00, 19.71it/s]\n",
      "[TRAIN 23, 1] loss: 0.18018363416194916 loss_reg: 0.2364174723625183 loss_line: 0.12394978106021881 acc: 0.1627604216337204 acc_reg: 0.1588541716337204 acc_line: 0.1666666716337204:   1%|          | 2/319 [00:00<00:16, 18.87it/s]"
     ]
    },
    {
     "name": "stdout",
     "output_type": "stream",
     "text": [
      "[VALIDATION 22] val_acc: 0.9500309405940595 val_acc_reg: 0.9139851485148515 val_acc_line: 0.9860767326732673 \n"
     ]
    },
    {
     "name": "stderr",
     "output_type": "stream",
     "text": [
      "[TRAIN 23, 319] loss: 1.0951976776123047 loss_reg: 1.4280270338058472 loss_line: 0.7623684406280518 acc: 0.9622396230697632 acc_reg: 0.9427083730697632 acc_line: 0.9817708730697632: 100%|██████████| 319/319 [00:16<00:00, 19.70it/s]\n",
      "[TRAIN 24, 1] loss: 0.18420881032943726 loss_reg: 0.2418687641620636 loss_line: 0.1265488713979721 acc: 0.1588541716337204 acc_reg: 0.1536458432674408 acc_line: 0.1640625:   1%|          | 2/319 [00:00<00:17, 17.83it/s]"
     ]
    },
    {
     "name": "stdout",
     "output_type": "stream",
     "text": [
      "[VALIDATION 23] val_acc: 0.9488706683168316 val_acc_reg: 0.9149133663366337 val_acc_line: 0.9828279702970297 \n"
     ]
    },
    {
     "name": "stderr",
     "output_type": "stream",
     "text": [
      "[TRAIN 24, 319] loss: 1.1160000562667847 loss_reg: 1.4617336988449097 loss_line: 0.7702662348747253 acc: 0.94140625 acc_reg: 0.9088541865348816 acc_line: 0.9739583730697632: 100%|██████████| 319/319 [00:16<00:00, 19.67it/s]        \n",
      "[TRAIN 25, 1] loss: 0.18538133800029755 loss_reg: 0.246817946434021 loss_line: 0.1239447221159935 acc: 0.1575520932674408 acc_reg: 0.1484375 acc_line: 0.1666666716337204:   1%|          | 3/319 [00:00<00:14, 22.25it/s]"
     ]
    },
    {
     "name": "stdout",
     "output_type": "stream",
     "text": [
      "[VALIDATION 24] val_acc: 0.9474783415841584 val_acc_reg: 0.9102722772277227 val_acc_line: 0.984684405940594 \n"
     ]
    },
    {
     "name": "stderr",
     "output_type": "stream",
     "text": [
      "[TRAIN 25, 319] loss: 1.0949630737304688 loss_reg: 1.4410489797592163 loss_line: 0.7488772869110107 acc: 0.9635416865348816 acc_reg: 0.9322916865348816 acc_line: 0.9947916865348816: 100%|██████████| 319/319 [00:15<00:00, 20.07it/s]\n"
     ]
    }
   ],
   "source": [
    "# train\n",
    "model = npClassificator.train(LOG_DIR)"
   ]
  },
  {
   "cell_type": "code",
   "execution_count": null,
   "metadata": {},
   "outputs": [],
   "source": [
    "npClassificator.load(os.path.join(LOG_DIR, \"./best.pb\"))"
   ]
  },
  {
   "cell_type": "code",
   "execution_count": null,
   "metadata": {},
   "outputs": [],
   "source": [
    "npClassificator.test()"
   ]
  },
  {
   "cell_type": "code",
   "execution_count": null,
   "metadata": {},
   "outputs": [],
   "source": [
    "npClassificator.save(RESULT_PATH)"
   ]
  },
  {
   "cell_type": "code",
   "execution_count": null,
   "metadata": {},
   "outputs": [],
   "source": [
    "%matplotlib inline"
   ]
  },
  {
   "cell_type": "code",
   "execution_count": null,
   "metadata": {},
   "outputs": [],
   "source": [
    "from NomeroffNet.Base.ImgGenerator import ImgGenerator\n",
    "import torch\n",
    "import json\n",
    "import cv2\n",
    "import matplotlib.pyplot as plt\n",
    "\n",
    "def show_img(img_path):\n",
    "    img = cv2.imread(img_path)\n",
    "    img = cv2.cvtColor(img, cv2.COLOR_BGR2RGB)\n",
    "    plt.imshow(img)\n",
    "    plt.show()\n",
    "\n",
    "def small_acc(npClassificator, path_dir=\"../datasets/options/test\", mode_torch=\"gpu\", min_acc=0.75):\n",
    "    imageGenerator = ImgGenerator(\n",
    "        path_dir,\n",
    "        npClassificator.WEIGHT,\n",
    "        npClassificator.HEIGHT,\n",
    "        npClassificator.BATCH_SIZE,\n",
    "        [len(npClassificator.CLASS_REGION), len(npClassificator.CLASS_COUNT_LINE)])\n",
    "    print(\"start imageGenerator build\")\n",
    "    imageGenerator.build_data()\n",
    "    print(\"end imageGenerator build\")\n",
    "    gen = imageGenerator.path_generator()\n",
    "    for i, (img_paths, inputs, labels) in enumerate(gen, 0):\n",
    "        # get the inputs; data is a list of [inputs, labels]\n",
    "        inputs = torch.from_numpy(inputs)\n",
    "        if mode_torch == \"gpu\":\n",
    "            inputs = inputs.cuda()\n",
    "        outputs = npClassificator.MODEL(inputs)\n",
    "        label_reg = torch.from_numpy(labels[0])\n",
    "        label_cnt = torch.from_numpy(labels[1])\n",
    "        if mode_torch == \"gpu\":\n",
    "            label_reg = label_reg.cuda()\n",
    "            label_cnt = label_cnt.cuda()\n",
    "        out_idx_reg = torch.max(outputs[0], 1)[1].cpu().numpy()\n",
    "        out_idx_line = torch.max(outputs[1], 1)[1].cpu().numpy()\n",
    "        \n",
    "        label_idx_reg = torch.max(label_reg, 1)[1].cpu().numpy()\n",
    "        label_idx_line = torch.max(label_cnt, 1)[1].cpu().numpy()\n",
    "        \n",
    "        # check reg\n",
    "        for o, l, p, tens in zip(out_idx_reg, label_idx_reg, img_paths, outputs[0]):\n",
    "            if o != l:\n",
    "                print(\"[WRONG REGION PREDICTED] pred\", o, l, p)\n",
    "                show_img(p)\n",
    "            elif tens[l] < min_acc:\n",
    "                print(\"[SMALL ACC REGION PREDICTED]  pred\", o, l, tens[l], p)\n",
    "                show_img(p)\n",
    "        # check line\n",
    "#         for o, l, p, tens in zip(out_idx_line, label_idx_line, img_paths, outputs[1]):\n",
    "#             if o != l:\n",
    "#                 print(\"[WRONG LINE PREDICTED]  pred\", o, l, p)\n",
    "#                 show_img(p)\n",
    "#             elif tens[l] < min_acc:\n",
    "#                 print(\"[SMALL ACC LINE PREDICTED]  pred\", o, l, tens[l], p)\n",
    "#                 show_img(p)"
   ]
  },
  {
   "cell_type": "code",
   "execution_count": null,
   "metadata": {},
   "outputs": [],
   "source": [
    "small_acc(npClassificator, \"../datasets/options/test\")"
   ]
  },
  {
   "cell_type": "code",
   "execution_count": null,
   "metadata": {},
   "outputs": [],
   "source": [
    "small_acc(npClassificator, \"../datasets/options/train\")"
   ]
  },
  {
   "cell_type": "code",
   "execution_count": null,
   "metadata": {},
   "outputs": [],
   "source": [
    "small_acc(npClassificator, \"../datasets/options/val\")"
   ]
  },
  {
   "cell_type": "code",
   "execution_count": null,
   "metadata": {},
   "outputs": [],
   "source": []
  }
 ],
 "metadata": {
  "kernelspec": {
   "display_name": "Python 3",
   "language": "python",
   "name": "python3"
  },
  "language_info": {
   "codemirror_mode": {
    "name": "ipython",
    "version": 3
   },
   "file_extension": ".py",
   "mimetype": "text/x-python",
   "name": "python",
   "nbconvert_exporter": "python",
   "pygments_lexer": "ipython3",
   "version": "3.8.7"
  }
 },
 "nbformat": 4,
 "nbformat_minor": 2
}
