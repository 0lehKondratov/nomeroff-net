{
 "cells": [
  {
   "cell_type": "markdown",
   "metadata": {},
   "source": [
    "# This example demonstrate how to train region classification (standart image classification model)."
   ]
  },
  {
   "cell_type": "markdown",
   "metadata": {},
   "source": [
    "For train datasets please download last version of dataset [https://nomeroff.net.ua/datasets/](https://nomeroff.net.ua/datasets/). Unpack archive and rename to **./datasets/** .\n",
    "For examle\n",
    "```bash\n",
    "cd ./datasets\n",
    "wget https://nomeroff.net.ua/datasets/autoriaNumberplateOptions3Dataset-2021-03-05.zip\n",
    "unzip autoriaNumberplateOptions3Dataset-2021-03-05.zip\n",
    "mv autoriaNumberplateOptions3Dataset-2021-03-05 options\n",
    "```\n",
    "or use your own dataset."
   ]
  },
  {
   "cell_type": "code",
   "execution_count": 8,
   "metadata": {},
   "outputs": [],
   "source": [
    "# Specify device\n",
    "import os\n",
    "os.environ[\"CUDA_VISIBLE_DEVICES\"] = \"0\" \n",
    "# os.environ[\"CUDA_VISIBLE_DEVICES\"] = \"\"  # For CPU inference\n",
    "os.environ[\"TF_FORCE_GPU_ALLOW_GROWTH\"]=\"true\""
   ]
  },
  {
   "cell_type": "code",
   "execution_count": 9,
   "metadata": {},
   "outputs": [],
   "source": [
    "import os\n",
    "import sys\n",
    "import warnings\n",
    "warnings.filterwarnings('ignore')\n",
    "\n",
    "# change this property\n",
    "NOMEROFF_NET_DIR = os.path.abspath('../')\n",
    "\n",
    "DATASET_NAME = \"options\"\n",
    "VERSION = \"2021_05_28_uacustom\"\n",
    "\n",
    "LOG_DIR = os.path.join(NOMEROFF_NET_DIR, \"logs/\")\n",
    "PATH_TO_DATASET = os.path.join(NOMEROFF_NET_DIR, \"datasets/\", DATASET_NAME)\n",
    "PATH_TO_TMP_CUSTOM_DATASET = os.path.join(NOMEROFF_NET_DIR, \"datasets/\", f\"{DATASET_NAME}_custom\")\n",
    "RESULT_PATH = os.path.join(NOMEROFF_NET_DIR, \"models/\", 'numberplate_{}_{}.h5'.format(DATASET_NAME, VERSION))\n",
    "\n",
    "sys.path.append(NOMEROFF_NET_DIR)\n",
    "\n",
    "from NomeroffNet import OptionsDetector\n",
    "from NomeroffNet.tools import custom_options"
   ]
  },
  {
   "cell_type": "markdown",
   "metadata": {},
   "source": [
    "### Prepare custom data"
   ]
  },
  {
   "cell_type": "code",
   "execution_count": 10,
   "metadata": {},
   "outputs": [
    {
     "name": "stdout",
     "output_type": "stream",
     "text": [
      "dir: /var/www/nomeroff-net21/datasets/options option_dir train custom_options_sub_dirs[0] ann\n",
      "In train prepared 20466 records\n",
      "dir: /var/www/nomeroff-net21/datasets/options option_dir val custom_options_sub_dirs[0] ann\n",
      "In val prepared 6487 records\n",
      "dir: /var/www/nomeroff-net21/datasets/options option_dir test custom_options_sub_dirs[0] ann\n",
      "In test prepared 6160 records\n"
     ]
    }
   ],
   "source": [
    "class_region_custom = [\n",
    "            \"xx-unknown\",\n",
    "            \"eu-ua-2015\",\n",
    "            \"eu-ua-2004\",\n",
    "            \"eu-ua-1995\",\n",
    "            \"eu\",\n",
    "            \"xx-transit\",\n",
    "            \"eu-ua-ordlo-dpr\",\n",
    "            \"eu-ua-ordlo-lpr\",\n",
    "            \"su\"\n",
    "        ]\n",
    "\n",
    "customOptionsMaker = custom_options.CustomOptionsMaker(\n",
    "    PATH_TO_DATASET,\n",
    "    PATH_TO_TMP_CUSTOM_DATASET, \n",
    "    OptionsDetector.get_class_region_all(),\n",
    "    class_region_custom\n",
    ")\n",
    "customOptionsMaker.make()"
   ]
  },
  {
   "cell_type": "code",
   "execution_count": 11,
   "metadata": {},
   "outputs": [],
   "source": [
    "# definde your parameters\n",
    "class MyNpClassificator(OptionsDetector):\n",
    "    def __init__(self, options={}):\n",
    "        OptionsDetector.__init__(self, options)\n",
    "        \n",
    "        # output 2\n",
    "        self.CLASS_REGION = class_region_custom\n",
    "        \n",
    "        # output 3\n",
    "        self.CLASS_COUNT_LINE = [\"0\", \"1\", \"2\", \"3\"]\n",
    "        \n",
    "        self.EPOCHS           = 1000\n",
    "        self.BATCH_SIZE       = 64\n",
    "        \n",
    "        self.HEIGHT         = 64\n",
    "        self.WEIGHT         = 295\n"
   ]
  },
  {
   "cell_type": "code",
   "execution_count": 12,
   "metadata": {},
   "outputs": [
    {
     "name": "stdout",
     "output_type": "stream",
     "text": [
      "START PREPARING\n",
      "start train build\n",
      "end train build\n",
      "start test build\n",
      "end test build\n",
      "start test build\n",
      "end test build\n",
      "DATA PREPARED\n"
     ]
    }
   ],
   "source": [
    "# initialize region detector.\n",
    "npClassificator = MyNpClassificator()\n",
    "npClassificator.prepare(PATH_TO_TMP_CUSTOM_DATASET, verbose=1)"
   ]
  },
  {
   "cell_type": "code",
   "execution_count": 12,
   "metadata": {},
   "outputs": [
    {
     "name": "stderr",
     "output_type": "stream",
     "text": [
      "[TRAIN 1, 319] loss: 1.267638921737671 loss_reg: 1.6956819295883179 loss_line: 0.8395959138870239 acc: 0.7942708730697632 acc_reg: 0.6744791865348816 acc_line: 0.9140625: 100%|██████████| 319/319 [00:15<00:00, 21.15it/s]          \n",
      "[TRAIN 2, 1] loss: 0.20096445083618164 loss_reg: 0.2684137523174286 loss_line: 0.1335151642560959 acc: 0.1419270932674408 acc_reg: 0.1276041716337204 acc_line: 0.15625:   1%|          | 2/319 [00:00<00:16, 18.89it/s]"
     ]
    },
    {
     "name": "stdout",
     "output_type": "stream",
     "text": [
      "[VALIDATION 1] val_acc: 0.8175278465346535 val_acc_reg: 0.7260210396039604 val_acc_line: 0.9090346534653465 \n"
     ]
    },
    {
     "name": "stderr",
     "output_type": "stream",
     "text": [
      "[TRAIN 2, 319] loss: 1.149393081665039 loss_reg: 1.5061973333358765 loss_line: 0.7925888895988464 acc: 0.9075521230697632 acc_reg: 0.8645833730697632 acc_line: 0.9505208730697632: 100%|██████████| 319/319 [00:14<00:00, 21.28it/s] \n",
      "[TRAIN 3, 1] loss: 0.18657571077346802 loss_reg: 0.2448519468307495 loss_line: 0.12829947471618652 acc: 0.15625 acc_reg: 0.1510416716337204 acc_line: 0.1614583432674408:   1%|          | 3/319 [00:00<00:14, 22.16it/s]"
     ]
    },
    {
     "name": "stdout",
     "output_type": "stream",
     "text": [
      "[VALIDATION 2] val_acc: 0.9004486386138614 val_acc_reg: 0.8528774752475248 val_acc_line: 0.948019801980198 \n"
     ]
    },
    {
     "name": "stderr",
     "output_type": "stream",
     "text": [
      "[TRAIN 3, 319] loss: 1.1403940916061401 loss_reg: 1.5005073547363281 loss_line: 0.7802807688713074 acc: 0.91796875 acc_reg: 0.8723958730697632 acc_line: 0.9635416865348816: 100%|██████████| 319/319 [00:15<00:00, 20.79it/s]        \n",
      "[TRAIN 4, 1] loss: 0.18254217505455017 loss_reg: 0.23907798528671265 loss_line: 0.1260063648223877 acc: 0.1614583432674408 acc_reg: 0.1588541716337204 acc_line: 0.1640625:   1%|          | 2/319 [00:00<00:17, 18.49it/s]"
     ]
    },
    {
     "name": "stdout",
     "output_type": "stream",
     "text": [
      "[VALIDATION 3] val_acc: 0.9170792079207921 val_acc_reg: 0.8669554455445545 val_acc_line: 0.9672029702970297 \n"
     ]
    },
    {
     "name": "stderr",
     "output_type": "stream",
     "text": [
      "[TRAIN 4, 319] loss: 1.1359171867370605 loss_reg: 1.4953793287277222 loss_line: 0.7764551043510437 acc: 0.921875 acc_reg: 0.8776041865348816 acc_line: 0.9661458730697632: 100%|██████████| 319/319 [00:15<00:00, 20.89it/s]          \n",
      "[TRAIN 5, 1] loss: 0.18970166146755219 loss_reg: 0.2521146833896637 loss_line: 0.12728865444660187 acc: 0.1536458432674408 acc_reg: 0.1432291716337204 acc_line: 0.1640625:   1%|          | 2/319 [00:00<00:16, 19.40it/s]"
     ]
    },
    {
     "name": "stdout",
     "output_type": "stream",
     "text": [
      "[VALIDATION 4] val_acc: 0.919012995049505 val_acc_reg: 0.8709777227722773 val_acc_line: 0.9670482673267327 \n"
     ]
    },
    {
     "name": "stderr",
     "output_type": "stream",
     "text": [
      "[TRAIN 5, 319] loss: 1.1228737831115723 loss_reg: 1.472386360168457 loss_line: 0.773361086845398 acc: 0.9361979365348816 acc_reg: 0.9010416865348816 acc_line: 0.9713541865348816: 100%|██████████| 319/319 [00:15<00:00, 20.71it/s]  \n",
      "[TRAIN 6, 1] loss: 0.18758152425289154 loss_reg: 0.24827830493450165 loss_line: 0.12688474357128143 acc: 0.1549479216337204 acc_reg: 0.1458333432674408 acc_line: 0.1640625:   1%|          | 2/319 [00:00<00:16, 19.44it/s]"
     ]
    },
    {
     "name": "stdout",
     "output_type": "stream",
     "text": [
      "[VALIDATION 5] val_acc: 0.919631806930693 val_acc_reg: 0.8680383663366337 val_acc_line: 0.9712252475247525 \n"
     ]
    },
    {
     "name": "stderr",
     "output_type": "stream",
     "text": [
      "[TRAIN 6, 319] loss: 1.1305286884307861 loss_reg: 1.496944785118103 loss_line: 0.7641124725341797 acc: 0.9270833730697632 acc_reg: 0.875 acc_line: 0.9791666865348816: 100%|██████████| 319/319 [00:15<00:00, 20.99it/s]              \n",
      "[TRAIN 7, 1] loss: 0.18149243295192719 loss_reg: 0.2390354871749878 loss_line: 0.12394937127828598 acc: 0.1614583432674408 acc_reg: 0.15625 acc_line: 0.1666666716337204:   1%|          | 3/319 [00:00<00:14, 21.96it/s]"
     ]
    },
    {
     "name": "stdout",
     "output_type": "stream",
     "text": [
      "[VALIDATION 6] val_acc: 0.9207147277227723 val_acc_reg: 0.8692759900990099 val_acc_line: 0.9721534653465347 \n"
     ]
    },
    {
     "name": "stderr",
     "output_type": "stream",
     "text": [
      "[TRAIN 7, 319] loss: 1.1286444664001465 loss_reg: 1.4947155714035034 loss_line: 0.7625735998153687 acc: 0.9296875 acc_reg: 0.8776041865348816 acc_line: 0.9817708730697632: 100%|██████████| 319/319 [00:15<00:00, 20.87it/s]         \n",
      "[TRAIN 8, 1] loss: 0.18612346053123474 loss_reg: 0.24804943799972534 loss_line: 0.12419744580984116 acc: 0.1575520932674408 acc_reg: 0.1484375 acc_line: 0.1666666716337204:   1%|          | 2/319 [00:00<00:16, 18.89it/s]"
     ]
    },
    {
     "name": "stdout",
     "output_type": "stream",
     "text": [
      "[VALIDATION 7] val_acc: 0.9287592821782178 val_acc_reg: 0.8819616336633663 val_acc_line: 0.9755569306930693 \n"
     ]
    },
    {
     "name": "stderr",
     "output_type": "stream",
     "text": [
      "[TRAIN 8, 319] loss: 1.1185890436172485 loss_reg: 1.4766539335250854 loss_line: 0.7605239748954773 acc: 0.9401041865348816 acc_reg: 0.8958333730697632 acc_line: 0.984375: 100%|██████████| 319/319 [00:14<00:00, 21.55it/s]          \n",
      "[TRAIN 9, 1] loss: 0.1883932650089264 loss_reg: 0.24781130254268646 loss_line: 0.12897521257400513 acc: 0.1549479216337204 acc_reg: 0.1484375 acc_line: 0.1614583432674408:   1%|          | 2/319 [00:00<00:17, 18.61it/s]"
     ]
    },
    {
     "name": "stdout",
     "output_type": "stream",
     "text": [
      "[VALIDATION 8] val_acc: 0.9340965346534653 val_acc_reg: 0.8875309405940595 val_acc_line: 0.9806621287128713 \n"
     ]
    },
    {
     "name": "stderr",
     "output_type": "stream",
     "text": [
      "[TRAIN 9, 319] loss: 1.1011676788330078 loss_reg: 1.4381051063537598 loss_line: 0.7642302513122559 acc: 0.95703125 acc_reg: 0.9348958730697632 acc_line: 0.9791666865348816: 100%|██████████| 319/319 [00:15<00:00, 21.21it/s]        \n",
      "[TRAIN 10, 1] loss: 0.18733620643615723 loss_reg: 0.24668529629707336 loss_line: 0.12798714637756348 acc: 0.1549479216337204 acc_reg: 0.1484375 acc_line: 0.1614583432674408:   1%|          | 3/319 [00:00<00:15, 20.14it/s]"
     ]
    },
    {
     "name": "stdout",
     "output_type": "stream",
     "text": [
      "[VALIDATION 9] val_acc: 0.942759900990099 val_acc_reg: 0.9033106435643564 val_acc_line: 0.9822091584158416 \n"
     ]
    },
    {
     "name": "stderr",
     "output_type": "stream",
     "text": [
      "[TRAIN 10, 319] loss: 1.1154359579086304 loss_reg: 1.4730051755905151 loss_line: 0.7578668594360352 acc: 0.9427083730697632 acc_reg: 0.9010416865348816 acc_line: 0.984375: 100%|██████████| 319/319 [00:15<00:00, 20.67it/s]          \n",
      "[TRAIN 11, 1] loss: 0.18407224118709564 loss_reg: 0.24181239306926727 loss_line: 0.1263321042060852 acc: 0.1588541716337204 acc_reg: 0.1536458432674408 acc_line: 0.1640625:   1%|          | 3/319 [00:00<00:15, 20.91it/s]"
     ]
    },
    {
     "name": "stdout",
     "output_type": "stream",
     "text": [
      "[VALIDATION 10] val_acc: 0.9354115099009901 val_acc_reg: 0.8988242574257426 val_acc_line: 0.9719987623762376 \n"
     ]
    },
    {
     "name": "stderr",
     "output_type": "stream",
     "text": [
      "[TRAIN 11, 319] loss: 1.1047613620758057 loss_reg: 1.4387221336364746 loss_line: 0.7708004713058472 acc: 0.953125 acc_reg: 0.9348958730697632 acc_line: 0.9713541865348816: 100%|██████████| 319/319 [00:15<00:00, 20.83it/s]          \n",
      "[TRAIN 12, 1] loss: 0.18693500757217407 loss_reg: 0.24732103943824768 loss_line: 0.12654897570610046 acc: 0.15625 acc_reg: 0.1484375 acc_line: 0.1640625:   1%|          | 2/319 [00:00<00:17, 18.11it/s]"
     ]
    },
    {
     "name": "stdout",
     "output_type": "stream",
     "text": [
      "[VALIDATION 11] val_acc: 0.9428372524752475 val_acc_reg: 0.9068688118811881 val_acc_line: 0.978805693069307 \n"
     ]
    },
    {
     "name": "stderr",
     "output_type": "stream",
     "text": [
      "[TRAIN 12, 319] loss: 1.099890947341919 loss_reg: 1.4480165243148804 loss_line: 0.7517654299736023 acc: 0.9557291865348816 acc_reg: 0.9192708730697632 acc_line: 0.9921875: 100%|██████████| 319/319 [00:15<00:00, 20.70it/s]          \n",
      "[TRAIN 13, 1] loss: 0.1841142475605011 loss_reg: 0.2442834973335266 loss_line: 0.12394498288631439 acc: 0.1588541716337204 acc_reg: 0.1510416716337204 acc_line: 0.1666666716337204:   1%|          | 2/319 [00:00<00:17, 18.60it/s]"
     ]
    },
    {
     "name": "stdout",
     "output_type": "stream",
     "text": [
      "[VALIDATION 12] val_acc: 0.9439975247524752 val_acc_reg: 0.906559405940594 val_acc_line: 0.9814356435643564 \n"
     ]
    },
    {
     "name": "stderr",
     "output_type": "stream",
     "text": [
      "[TRAIN 13, 319] loss: 1.1019227504730225 loss_reg: 1.4502043724060059 loss_line: 0.7536411285400391 acc: 0.9557291865348816 acc_reg: 0.921875 acc_line: 0.9895833730697632: 100%|██████████| 319/319 [00:15<00:00, 20.58it/s]          \n",
      "[TRAIN 14, 1] loss: 0.18150994181632996 loss_reg: 0.239075168967247 loss_line: 0.1239447146654129 acc: 0.1614583432674408 acc_reg: 0.15625 acc_line: 0.1666666716337204:   1%|          | 2/319 [00:00<00:16, 19.47it/s]"
     ]
    },
    {
     "name": "stdout",
     "output_type": "stream",
     "text": [
      "[VALIDATION 13] val_acc: 0.9421410891089109 val_acc_reg: 0.9039294554455446 val_acc_line: 0.9803527227722773 \n"
     ]
    },
    {
     "name": "stderr",
     "output_type": "stream",
     "text": [
      "[TRAIN 14, 319] loss: 1.0922149419784546 loss_reg: 1.4315040111541748 loss_line: 0.7529258131980896 acc: 0.9661458730697632 acc_reg: 0.9401041865348816 acc_line: 0.9921875: 100%|██████████| 319/319 [00:15<00:00, 20.76it/s]         \n",
      "[TRAIN 15, 1] loss: 0.18363294005393982 loss_reg: 0.24072936177253723 loss_line: 0.1265365332365036 acc: 0.1588541716337204 acc_reg: 0.1536458432674408 acc_line: 0.1640625:   1%|          | 2/319 [00:00<00:16, 19.73it/s]"
     ]
    },
    {
     "name": "stdout",
     "output_type": "stream",
     "text": [
      "[VALIDATION 14] val_acc: 0.9465501237623762 val_acc_reg: 0.9096534653465347 val_acc_line: 0.9834467821782178 \n"
     ]
    },
    {
     "name": "stderr",
     "output_type": "stream",
     "text": [
      "[TRAIN 15, 319] loss: 1.0960544347763062 loss_reg: 1.4443477392196655 loss_line: 0.7477610111236572 acc: 0.9596354365348816 acc_reg: 0.9244791865348816 acc_line: 0.9947916865348816: 100%|██████████| 319/319 [00:15<00:00, 20.86it/s]\n",
      "[TRAIN 16, 1] loss: 0.18151132762432098 loss_reg: 0.23647096753120422 loss_line: 0.12655170261859894 acc: 0.1614583432674408 acc_reg: 0.1588541716337204 acc_line: 0.1640625:   1%|          | 2/319 [00:00<00:16, 19.62it/s]"
     ]
    },
    {
     "name": "stdout",
     "output_type": "stream",
     "text": [
      "[VALIDATION 15] val_acc: 0.9459313118811881 val_acc_reg: 0.9064047029702971 val_acc_line: 0.9854579207920792 \n"
     ]
    },
    {
     "name": "stderr",
     "output_type": "stream",
     "text": [
      "[TRAIN 16, 319] loss: 1.0952608585357666 loss_reg: 1.4329923391342163 loss_line: 0.7575293779373169 acc: 0.9622396230697632 acc_reg: 0.9375 acc_line: 0.9869791865348816: 100%|██████████| 319/319 [00:15<00:00, 20.77it/s]            \n",
      "[TRAIN 17, 1] loss: 0.18250378966331482 loss_reg: 0.24030426144599915 loss_line: 0.1247032880783081 acc: 0.16015625 acc_reg: 0.1536458432674408 acc_line: 0.1666666716337204:   1%|          | 2/319 [00:00<00:18, 17.51it/s]"
     ]
    },
    {
     "name": "stdout",
     "output_type": "stream",
     "text": [
      "[VALIDATION 16] val_acc: 0.9470915841584159 val_acc_reg: 0.9096534653465347 val_acc_line: 0.9845297029702971 \n"
     ]
    },
    {
     "name": "stderr",
     "output_type": "stream",
     "text": [
      "[TRAIN 17, 319] loss: 1.0945756435394287 loss_reg: 1.4325718879699707 loss_line: 0.7565792798995972 acc: 0.9635416865348816 acc_reg: 0.9401041865348816 acc_line: 0.9869791865348816: 100%|██████████| 319/319 [00:15<00:00, 20.65it/s]\n",
      "[TRAIN 18, 1] loss: 0.1879020780324936 loss_reg: 0.23883876204490662 loss_line: 0.13696539402008057 acc: 0.1549479216337204 acc_reg: 0.15625 acc_line: 0.1536458432674408:   1%|          | 3/319 [00:00<00:15, 20.72it/s]"
     ]
    },
    {
     "name": "stdout",
     "output_type": "stream",
     "text": [
      "[VALIDATION 17] val_acc: 0.9429919554455446 val_acc_reg: 0.9102722772277227 val_acc_line: 0.9757116336633663 \n"
     ]
    },
    {
     "name": "stderr",
     "output_type": "stream",
     "text": [
      "[TRAIN 18, 319] loss: 1.0896958112716675 loss_reg: 1.4278788566589355 loss_line: 0.7515126466751099 acc: 0.96875 acc_reg: 0.9453125 acc_line: 0.9921875: 100%|██████████| 319/319 [00:15<00:00, 20.81it/s]                             \n",
      "[TRAIN 19, 1] loss: 0.1802070587873459 loss_reg: 0.23386524617671967 loss_line: 0.1265488713979721 acc: 0.1627604216337204 acc_reg: 0.1614583432674408 acc_line: 0.1640625:   1%|          | 3/319 [00:00<00:15, 19.99it/s]"
     ]
    },
    {
     "name": "stdout",
     "output_type": "stream",
     "text": [
      "[VALIDATION 18] val_acc: 0.9491027227722773 val_acc_reg: 0.9147586633663366 val_acc_line: 0.9834467821782178 \n"
     ]
    },
    {
     "name": "stderr",
     "output_type": "stream",
     "text": [
      "[TRAIN 19, 319] loss: 1.0933141708374023 loss_reg: 1.4377464056015015 loss_line: 0.7488818168640137 acc: 0.96484375 acc_reg: 0.9348958730697632 acc_line: 0.9947916865348816: 100%|██████████| 319/319 [00:15<00:00, 20.86it/s]        \n",
      "[TRAIN 20, 1] loss: 0.1815030574798584 loss_reg: 0.2390568107366562 loss_line: 0.1239493116736412 acc: 0.1614583432674408 acc_reg: 0.15625 acc_line: 0.1666666716337204:   1%|          | 3/319 [00:00<00:15, 20.77it/s]"
     ]
    },
    {
     "name": "stdout",
     "output_type": "stream",
     "text": [
      "[VALIDATION 19] val_acc: 0.9472462871287128 val_acc_reg: 0.9085705445544554 val_acc_line: 0.9859220297029703 \n"
     ]
    },
    {
     "name": "stderr",
     "output_type": "stream",
     "text": [
      "[TRAIN 20, 319] loss: 1.096710443496704 loss_reg: 1.4470298290252686 loss_line: 0.7463908195495605 acc: 0.9622396230697632 acc_reg: 0.9270833730697632 acc_line: 0.9973958730697632: 100%|██████████| 319/319 [00:15<00:00, 20.94it/s] \n",
      "[TRAIN 21, 1] loss: 0.1858571469783783 loss_reg: 0.24776163697242737 loss_line: 0.12395262718200684 acc: 0.1575520932674408 acc_reg: 0.1484375 acc_line: 0.1666666716337204:   1%|          | 2/319 [00:00<00:16, 19.66it/s]"
     ]
    },
    {
     "name": "stdout",
     "output_type": "stream",
     "text": [
      "[VALIDATION 20] val_acc: 0.9515006188118812 val_acc_reg: 0.9135210396039604 val_acc_line: 0.989480198019802 \n"
     ]
    },
    {
     "name": "stderr",
     "output_type": "stream",
     "text": [
      "[TRAIN 21, 319] loss: 1.0886344909667969 loss_reg: 1.4285725355148315 loss_line: 0.7486965656280518 acc: 0.96875 acc_reg: 0.9427083730697632 acc_line: 0.9947916865348816: 100%|██████████| 319/319 [00:15<00:00, 21.17it/s]           \n",
      "[TRAIN 22, 1] loss: 0.18150994181632996 loss_reg: 0.239075168967247 loss_line: 0.1239447146654129 acc: 0.1614583432674408 acc_reg: 0.15625 acc_line: 0.1666666716337204:   1%|          | 2/319 [00:00<00:18, 17.13it/s]"
     ]
    },
    {
     "name": "stdout",
     "output_type": "stream",
     "text": [
      "[VALIDATION 21] val_acc: 0.9488706683168316 val_acc_reg: 0.911509900990099 val_acc_line: 0.9862314356435643 \n"
     ]
    },
    {
     "name": "stderr",
     "output_type": "stream",
     "text": [
      "[TRAIN 22, 319] loss: 1.097792625427246 loss_reg: 1.444927453994751 loss_line: 0.7506579160690308 acc: 0.9596354365348816 acc_reg: 0.9270833730697632 acc_line: 0.9921875: 100%|██████████| 319/319 [00:15<00:00, 20.66it/s]           \n",
      "[TRAIN 23, 1] loss: 0.18143801391124725 loss_reg: 0.23870736360549927 loss_line: 0.12416867911815643 acc: 0.1614583432674408 acc_reg: 0.15625 acc_line: 0.1666666716337204:   1%|          | 3/319 [00:00<00:16, 19.27it/s]"
     ]
    },
    {
     "name": "stdout",
     "output_type": "stream",
     "text": [
      "[VALIDATION 22] val_acc: 0.9495668316831684 val_acc_reg: 0.9121287128712872 val_acc_line: 0.9870049504950495 \n"
     ]
    },
    {
     "name": "stderr",
     "output_type": "stream",
     "text": [
      "[TRAIN 23, 319] loss: 1.0990571975708008 loss_reg: 1.4473342895507812 loss_line: 0.7507802844047546 acc: 0.9583333730697632 acc_reg: 0.9244791865348816 acc_line: 0.9921875: 100%|██████████| 319/319 [00:14<00:00, 21.48it/s]         \n",
      "[TRAIN 24, 1] loss: 0.18151049315929413 loss_reg: 0.23907625675201416 loss_line: 0.1239447221159935 acc: 0.1614583432674408 acc_reg: 0.15625 acc_line: 0.1666666716337204:   1%|          | 2/319 [00:00<00:16, 19.67it/s]"
     ]
    },
    {
     "name": "stdout",
     "output_type": "stream",
     "text": [
      "[VALIDATION 23] val_acc: 0.9491800742574258 val_acc_reg: 0.9130569306930693 val_acc_line: 0.9853032178217822 \n"
     ]
    },
    {
     "name": "stderr",
     "output_type": "stream",
     "text": [
      "[TRAIN 24, 319] loss: 1.0865192413330078 loss_reg: 1.4267382621765137 loss_line: 0.7462999820709229 acc: 0.9713541865348816 acc_reg: 0.9453125 acc_line: 0.9973958730697632: 100%|██████████| 319/319 [00:14<00:00, 21.44it/s]         \n",
      "[TRAIN 25, 1] loss: 0.17760370671749115 loss_reg: 0.2312626838684082 loss_line: 0.1239447146654129 acc: 0.1653645932674408 acc_reg: 0.1640625 acc_line: 0.1666666716337204:   1%|          | 3/319 [00:00<00:13, 22.96it/s]"
     ]
    },
    {
     "name": "stdout",
     "output_type": "stream",
     "text": [
      "[VALIDATION 24] val_acc: 0.950417698019802 val_acc_reg: 0.9124381188118812 val_acc_line: 0.9883972772277227 \n"
     ]
    },
    {
     "name": "stderr",
     "output_type": "stream",
     "text": [
      "[TRAIN 25, 319] loss: 1.0883654356002808 loss_reg: 1.4299545288085938 loss_line: 0.7467761039733887 acc: 0.9700521230697632 acc_reg: 0.9427083730697632 acc_line: 0.9973958730697632: 100%|██████████| 319/319 [00:14<00:00, 21.43it/s]\n",
      "[TRAIN 26, 1] loss: 0.1788325011730194 loss_reg: 0.23372028768062592 loss_line: 0.1239447146654129 acc: 0.1640625 acc_reg: 0.1614583432674408 acc_line: 0.1666666716337204:   1%|          | 3/319 [00:00<00:14, 21.90it/s]"
     ]
    },
    {
     "name": "stdout",
     "output_type": "stream",
     "text": [
      "[VALIDATION 25] val_acc: 0.950417698019802 val_acc_reg: 0.9149133663366337 val_acc_line: 0.9859220297029703 \n"
     ]
    },
    {
     "name": "stderr",
     "output_type": "stream",
     "text": [
      "[TRAIN 26, 319] loss: 1.0864973068237305 loss_reg: 1.426548957824707 loss_line: 0.7464458346366882 acc: 0.9713541865348816 acc_reg: 0.9453125 acc_line: 0.9973958730697632: 100%|██████████| 319/319 [00:14<00:00, 21.39it/s]          \n",
      "[TRAIN 27, 1] loss: 0.1793929934501648 loss_reg: 0.2338659018278122 loss_line: 0.1249200850725174 acc: 0.1640625 acc_reg: 0.1614583432674408 acc_line: 0.1666666716337204:   1%|          | 2/319 [00:00<00:16, 19.53it/s]"
     ]
    },
    {
     "name": "stdout",
     "output_type": "stream",
     "text": [
      "[VALIDATION 26] val_acc: 0.9506497524752475 val_acc_reg: 0.9119740099009901 val_acc_line: 0.989325495049505 \n"
     ]
    },
    {
     "name": "stderr",
     "output_type": "stream",
     "text": [
      "[TRAIN 27, 319] loss: 1.101365327835083 loss_reg: 1.4552652835845947 loss_line: 0.7474653124809265 acc: 0.9557291865348816 acc_reg: 0.9166666865348816 acc_line: 0.9947916865348816: 100%|██████████| 319/319 [00:15<00:00, 20.88it/s] \n",
      "[TRAIN 28, 1] loss: 0.18281173706054688 loss_reg: 0.24167793989181519 loss_line: 0.12394555658102036 acc: 0.16015625 acc_reg: 0.1536458432674408 acc_line: 0.1666666716337204:   1%|          | 3/319 [00:00<00:15, 19.80it/s]"
     ]
    },
    {
     "name": "stdout",
     "output_type": "stream",
     "text": [
      "[VALIDATION 27] val_acc: 0.9472462871287128 val_acc_reg: 0.9074876237623762 val_acc_line: 0.9870049504950495 \n"
     ]
    },
    {
     "name": "stderr",
     "output_type": "stream",
     "text": [
      "[TRAIN 28, 319] loss: 1.1013641357421875 loss_reg: 1.4501546621322632 loss_line: 0.7525734305381775 acc: 0.9557291865348816 acc_reg: 0.921875 acc_line: 0.9895833730697632: 100%|██████████| 319/319 [00:15<00:00, 20.94it/s]          \n",
      "[TRAIN 29, 1] loss: 0.182987779378891 loss_reg: 0.2420130968093872 loss_line: 0.12396242469549179 acc: 0.16015625 acc_reg: 0.1536458432674408 acc_line: 0.1666666716337204:   1%|          | 3/319 [00:00<00:13, 23.75it/s]"
     ]
    },
    {
     "name": "stdout",
     "output_type": "stream",
     "text": [
      "[VALIDATION 28] val_acc: 0.948019801980198 val_acc_reg: 0.9079517326732673 val_acc_line: 0.9880878712871287 \n"
     ]
    },
    {
     "name": "stderr",
     "output_type": "stream",
     "text": [
      "[TRAIN 29, 319] loss: 1.0905866622924805 loss_reg: 1.4322999715805054 loss_line: 0.7488733530044556 acc: 0.9674479365348816 acc_reg: 0.9401041865348816 acc_line: 0.9947916865348816: 100%|██████████| 319/319 [00:15<00:00, 21.21it/s]\n",
      "[TRAIN 30, 1] loss: 0.17787790298461914 loss_reg: 0.23181109130382538 loss_line: 0.1239447295665741 acc: 0.1653645932674408 acc_reg: 0.1640625 acc_line: 0.1666666716337204:   1%|          | 2/319 [00:00<00:19, 15.86it/s]"
     ]
    },
    {
     "name": "stdout",
     "output_type": "stream",
     "text": [
      "[VALIDATION 29] val_acc: 0.9497988861386139 val_acc_reg: 0.9129022277227723 val_acc_line: 0.9866955445544554 \n"
     ]
    },
    {
     "name": "stderr",
     "output_type": "stream",
     "text": [
      "[TRAIN 30, 319] loss: 1.0876247882843018 loss_reg: 1.4289759397506714 loss_line: 0.746273398399353 acc: 0.9700521230697632 acc_reg: 0.9427083730697632 acc_line: 0.9973958730697632: 100%|██████████| 319/319 [00:14<00:00, 21.49it/s] \n",
      "[TRAIN 31, 1] loss: 0.18020787835121155 loss_reg: 0.236471027135849 loss_line: 0.1239447221159935 acc: 0.1627604216337204 acc_reg: 0.1588541716337204 acc_line: 0.1666666716337204:   1%|          | 3/319 [00:00<00:13, 22.58it/s]"
     ]
    },
    {
     "name": "stdout",
     "output_type": "stream",
     "text": [
      "[VALIDATION 30] val_acc: 0.9522741336633663 val_acc_reg: 0.9153774752475248 val_acc_line: 0.9891707920792079 \n"
     ]
    },
    {
     "name": "stderr",
     "output_type": "stream",
     "text": [
      "[TRAIN 31, 319] loss: 1.0962610244750977 loss_reg: 1.4417860507965088 loss_line: 0.7507357597351074 acc: 0.9609375 acc_reg: 0.9296875 acc_line: 0.9921875: 100%|██████████| 319/319 [00:14<00:00, 21.84it/s]                           \n",
      "[TRAIN 32, 1] loss: 0.18150994181632996 loss_reg: 0.2390751838684082 loss_line: 0.12394469976425171 acc: 0.1614583432674408 acc_reg: 0.15625 acc_line: 0.1666666716337204:   1%|          | 3/319 [00:00<00:14, 21.15it/s]"
     ]
    },
    {
     "name": "stdout",
     "output_type": "stream",
     "text": [
      "[VALIDATION 31] val_acc: 0.9460086633663366 val_acc_reg: 0.9116646039603961 val_acc_line: 0.9803527227722773 \n"
     ]
    },
    {
     "name": "stderr",
     "output_type": "stream",
     "text": [
      "[TRAIN 32, 319] loss: 1.0954458713531494 loss_reg: 1.4446194171905518 loss_line: 0.7462724447250366 acc: 0.9622396230697632 acc_reg: 0.9270833730697632 acc_line: 0.9973958730697632: 100%|██████████| 319/319 [00:14<00:00, 21.93it/s]\n",
      "[TRAIN 33, 1] loss: 0.17890629172325134 loss_reg: 0.23386786878108978 loss_line: 0.12394469976425171 acc: 0.1640625 acc_reg: 0.1614583432674408 acc_line: 0.1666666716337204:   1%|          | 2/319 [00:00<00:16, 19.27it/s]"
     ]
    },
    {
     "name": "stdout",
     "output_type": "stream",
     "text": [
      "[VALIDATION 32] val_acc: 0.9528929455445545 val_acc_reg: 0.9156868811881188 val_acc_line: 0.9900990099009901 \n"
     ]
    },
    {
     "name": "stderr",
     "output_type": "stream",
     "text": [
      "[TRAIN 33, 319] loss: 1.095679521560669 loss_reg: 1.4450860023498535 loss_line: 0.7462729215621948 acc: 0.9622396230697632 acc_reg: 0.9270833730697632 acc_line: 0.9973958730697632: 100%|██████████| 319/319 [00:14<00:00, 21.85it/s] \n",
      "[TRAIN 34, 1] loss: 0.18671850860118866 loss_reg: 0.2494918704032898 loss_line: 0.12394516170024872 acc: 0.15625 acc_reg: 0.1458333432674408 acc_line: 0.1666666716337204:   1%|          | 3/319 [00:00<00:14, 22.12it/s]"
     ]
    },
    {
     "name": "stdout",
     "output_type": "stream",
     "text": [
      "[VALIDATION 33] val_acc: 0.9533570544554455 val_acc_reg: 0.9156868811881188 val_acc_line: 0.9910272277227723 \n"
     ]
    },
    {
     "name": "stderr",
     "output_type": "stream",
     "text": [
      "[TRAIN 34, 319] loss: 1.098719835281372 loss_reg: 1.4495600461959839 loss_line: 0.7478795051574707 acc: 0.9583333730697632 acc_reg: 0.921875 acc_line: 0.9947916865348816: 100%|██████████| 319/319 [00:14<00:00, 21.78it/s]           \n",
      "[TRAIN 35, 1] loss: 0.18408428132534027 loss_reg: 0.23901546001434326 loss_line: 0.1291530877351761 acc: 0.1588541716337204 acc_reg: 0.15625 acc_line: 0.1614583432674408:   1%|          | 2/319 [00:00<00:15, 19.96it/s]"
     ]
    },
    {
     "name": "stdout",
     "output_type": "stream",
     "text": [
      "[VALIDATION 34] val_acc: 0.9494121287128713 val_acc_reg: 0.9105816831683168 val_acc_line: 0.9882425742574258 \n"
     ]
    },
    {
     "name": "stderr",
     "output_type": "stream",
     "text": [
      "[TRAIN 35, 319] loss: 1.0944069623947144 loss_reg: 1.4394259452819824 loss_line: 0.7493879199028015 acc: 0.9635416865348816 acc_reg: 0.9322916865348816 acc_line: 0.9947916865348816: 100%|██████████| 319/319 [00:14<00:00, 21.68it/s]\n",
      "[TRAIN 36, 1] loss: 0.1815047264099121 loss_reg: 0.23906473815441132 loss_line: 0.12394469976425171 acc: 0.1614583432674408 acc_reg: 0.15625 acc_line: 0.1666666716337204:   1%|          | 3/319 [00:00<00:14, 21.95it/s]"
     ]
    },
    {
     "name": "stdout",
     "output_type": "stream",
     "text": [
      "[VALIDATION 35] val_acc: 0.9515779702970297 val_acc_reg: 0.9136757425742574 val_acc_line: 0.989480198019802 \n"
     ]
    },
    {
     "name": "stderr",
     "output_type": "stream",
     "text": [
      "[TRAIN 36, 319] loss: 1.081456184387207 loss_reg: 1.4164862632751465 loss_line: 0.7464262247085571 acc: 0.9765625 acc_reg: 0.9557291865348816 acc_line: 0.9973958730697632: 100%|██████████| 319/319 [00:14<00:00, 21.75it/s]          \n",
      "[TRAIN 37, 1] loss: 0.18411414325237274 loss_reg: 0.244283527135849 loss_line: 0.12394475936889648 acc: 0.1588541716337204 acc_reg: 0.1510416716337204 acc_line: 0.1666666716337204:   1%|          | 3/319 [00:00<00:14, 22.12it/s]"
     ]
    },
    {
     "name": "stdout",
     "output_type": "stream",
     "text": [
      "[VALIDATION 36] val_acc: 0.9535117574257426 val_acc_reg: 0.9142945544554455 val_acc_line: 0.9927289603960396 \n"
     ]
    },
    {
     "name": "stderr",
     "output_type": "stream",
     "text": [
      "[TRAIN 37, 319] loss: 1.0864555835723877 loss_reg: 1.4266384840011597 loss_line: 0.7462725043296814 acc: 0.9713541865348816 acc_reg: 0.9453125 acc_line: 0.9973958730697632: 100%|██████████| 319/319 [00:14<00:00, 21.85it/s]         \n",
      "[TRAIN 38, 1] loss: 0.18282848596572876 loss_reg: 0.23907512426376343 loss_line: 0.12658186256885529 acc: 0.16015625 acc_reg: 0.15625 acc_line: 0.1640625:   1%|          | 3/319 [00:00<00:15, 20.44it/s]"
     ]
    },
    {
     "name": "stdout",
     "output_type": "stream",
     "text": [
      "[VALIDATION 37] val_acc: 0.9533570544554455 val_acc_reg: 0.9161509900990099 val_acc_line: 0.9905631188118812 \n"
     ]
    },
    {
     "name": "stderr",
     "output_type": "stream",
     "text": [
      "[TRAIN 38, 319] loss: 1.0949026346206665 loss_reg: 1.4373644590377808 loss_line: 0.7524408102035522 acc: 0.9635416865348816 acc_reg: 0.9348958730697632 acc_line: 0.9921875: 100%|██████████| 319/319 [00:14<00:00, 21.86it/s]         \n",
      "[TRAIN 39, 1] loss: 0.18284419178962708 loss_reg: 0.24174366891384125 loss_line: 0.12394469976425171 acc: 0.16015625 acc_reg: 0.1536458432674408 acc_line: 0.1666666716337204:   1%|          | 2/319 [00:00<00:16, 19.01it/s]"
     ]
    },
    {
     "name": "stdout",
     "output_type": "stream",
     "text": [
      "[VALIDATION 38] val_acc: 0.9525061881188119 val_acc_reg: 0.916615099009901 val_acc_line: 0.9883972772277227 \n"
     ]
    },
    {
     "name": "stderr",
     "output_type": "stream",
     "text": [
      "[TRAIN 39, 319] loss: 1.090364694595337 loss_reg: 1.4370602369308472 loss_line: 0.7436691522598267 acc: 0.9674479365348816 acc_reg: 0.9348958730697632 acc_line: 1.0: 100%|██████████| 319/319 [00:14<00:00, 21.79it/s]                \n",
      "[TRAIN 40, 1] loss: 0.18411462008953094 loss_reg: 0.24428454041481018 loss_line: 0.12394469976425171 acc: 0.1588541716337204 acc_reg: 0.1510416716337204 acc_line: 0.1666666716337204:   1%|          | 3/319 [00:00<00:14, 21.32it/s]"
     ]
    },
    {
     "name": "stdout",
     "output_type": "stream",
     "text": [
      "[VALIDATION 39] val_acc: 0.9498762376237624 val_acc_reg: 0.9129022277227723 val_acc_line: 0.9868502475247525 \n"
     ]
    },
    {
     "name": "stderr",
     "output_type": "stream",
     "text": [
      "[TRAIN 40, 319] loss: 1.094867467880249 loss_reg: 1.4408197402954102 loss_line: 0.7489153146743774 acc: 0.9635416865348816 acc_reg: 0.9322916865348816 acc_line: 0.9947916865348816: 100%|██████████| 319/319 [00:14<00:00, 21.80it/s] \n",
      "[TRAIN 41, 1] loss: 0.1867184042930603 loss_reg: 0.2494921088218689 loss_line: 0.12394469976425171 acc: 0.15625 acc_reg: 0.1458333432674408 acc_line: 0.1666666716337204:   1%|          | 3/319 [00:00<00:13, 22.82it/s]"
     ]
    },
    {
     "name": "stdout",
     "output_type": "stream",
     "text": [
      "[VALIDATION 40] val_acc: 0.9540532178217822 val_acc_reg: 0.9156868811881188 val_acc_line: 0.9924195544554455 \n"
     ]
    },
    {
     "name": "stderr",
     "output_type": "stream",
     "text": [
      "[TRAIN 41, 319] loss: 1.104191780090332 loss_reg: 1.4568381309509277 loss_line: 0.7515454292297363 acc: 0.953125 acc_reg: 0.9140625 acc_line: 0.9921875: 100%|██████████| 319/319 [00:14<00:00, 21.94it/s]                             \n",
      "[TRAIN 42, 1] loss: 0.18283304572105408 loss_reg: 0.2390752136707306 loss_line: 0.12659084796905518 acc: 0.16015625 acc_reg: 0.15625 acc_line: 0.1640625:   1%|          | 3/319 [00:00<00:14, 21.66it/s]"
     ]
    },
    {
     "name": "stdout",
     "output_type": "stream",
     "text": [
      "[VALIDATION 41] val_acc: 0.950572400990099 val_acc_reg: 0.9125928217821783 val_acc_line: 0.9885519801980198 \n"
     ]
    },
    {
     "name": "stderr",
     "output_type": "stream",
     "text": [
      "[TRAIN 42, 319] loss: 1.090614914894104 loss_reg: 1.4375615119934082 loss_line: 0.743668258190155 acc: 0.9674479365348816 acc_reg: 0.9348958730697632 acc_line: 1.0: 100%|██████████| 319/319 [00:14<00:00, 21.92it/s]                 \n",
      "[TRAIN 43, 1] loss: 0.1799982488155365 loss_reg: 0.2338668406009674 loss_line: 0.1261296272277832 acc: 0.1627604216337204 acc_reg: 0.1614583432674408 acc_line: 0.1640625:   1%|          | 3/319 [00:00<00:14, 22.19it/s]"
     ]
    },
    {
     "name": "stdout",
     "output_type": "stream",
     "text": [
      "[VALIDATION 42] val_acc: 0.950572400990099 val_acc_reg: 0.9104269801980198 val_acc_line: 0.9907178217821783 \n"
     ]
    },
    {
     "name": "stderr",
     "output_type": "stream",
     "text": [
      "[TRAIN 43, 319] loss: 1.1038780212402344 loss_reg: 1.4588793516159058 loss_line: 0.7488765716552734 acc: 0.9544271230697632 acc_reg: 0.9140625 acc_line: 0.9947916865348816: 100%|██████████| 319/319 [00:14<00:00, 21.78it/s]         \n",
      "[TRAIN 44, 1] loss: 0.18140658736228943 loss_reg: 0.23886847496032715 loss_line: 0.12394469976425171 acc: 0.1614583432674408 acc_reg: 0.15625 acc_line: 0.1666666716337204:   1%|          | 3/319 [00:00<00:13, 22.63it/s]"
     ]
    },
    {
     "name": "stdout",
     "output_type": "stream",
     "text": [
      "[VALIDATION 43] val_acc: 0.9532023514851485 val_acc_reg: 0.9173886138613861 val_acc_line: 0.9890160891089109 \n"
     ]
    },
    {
     "name": "stderr",
     "output_type": "stream",
     "text": [
      "[TRAIN 44, 319] loss: 1.0874696969985962 loss_reg: 1.4268630743026733 loss_line: 0.7480764389038086 acc: 0.9700521230697632 acc_reg: 0.9453125 acc_line: 0.9947916865348816: 100%|██████████| 319/319 [00:14<00:00, 21.73it/s]         \n",
      "[TRAIN 45, 1] loss: 0.18322806060314178 loss_reg: 0.24251119792461395 loss_line: 0.12394493073225021 acc: 0.16015625 acc_reg: 0.1536458432674408 acc_line: 0.1666666716337204:   1%|          | 3/319 [00:00<00:14, 21.87it/s]"
     ]
    },
    {
     "name": "stdout",
     "output_type": "stream",
     "text": [
      "[VALIDATION 44] val_acc: 0.9508044554455446 val_acc_reg: 0.9153774752475248 val_acc_line: 0.9862314356435643 \n"
     ]
    },
    {
     "name": "stderr",
     "output_type": "stream",
     "text": [
      "[TRAIN 45, 319] loss: 1.0859267711639404 loss_reg: 1.4204038381576538 loss_line: 0.7514495849609375 acc: 0.9713541865348816 acc_reg: 0.9505208730697632 acc_line: 0.9921875: 100%|██████████| 319/319 [00:14<00:00, 21.81it/s]         \n",
      "[TRAIN 46, 1] loss: 0.1788950264453888 loss_reg: 0.23384526371955872 loss_line: 0.12394477427005768 acc: 0.1640625 acc_reg: 0.1614583432674408 acc_line: 0.1666666716337204:   1%|          | 2/319 [00:00<00:16, 19.54it/s]"
     ]
    },
    {
     "name": "stdout",
     "output_type": "stream",
     "text": [
      "[VALIDATION 45] val_acc: 0.9570699257425742 val_acc_reg: 0.9235767326732673 val_acc_line: 0.9905631188118812 \n"
     ]
    },
    {
     "name": "stderr",
     "output_type": "stream",
     "text": [
      "[TRAIN 46, 319] loss: 1.0860264301300049 loss_reg: 1.4283827543258667 loss_line: 0.7436699867248535 acc: 0.9713541865348816 acc_reg: 0.9427083730697632 acc_line: 1.0: 100%|██████████| 319/319 [00:14<00:00, 21.87it/s]               \n",
      "[TRAIN 47, 1] loss: 0.17884966731071472 loss_reg: 0.23375463485717773 loss_line: 0.12394469976425171 acc: 0.1640625 acc_reg: 0.1614583432674408 acc_line: 0.1666666716337204:   1%|          | 2/319 [00:00<00:16, 19.21it/s]"
     ]
    },
    {
     "name": "stdout",
     "output_type": "stream",
     "text": [
      "[VALIDATION 46] val_acc: 0.9541305693069307 val_acc_reg: 0.9200185643564357 val_acc_line: 0.9882425742574258 \n"
     ]
    },
    {
     "name": "stderr",
     "output_type": "stream",
     "text": [
      "[TRAIN 47, 319] loss: 1.0836255550384521 loss_reg: 1.420997977256775 loss_line: 0.7462531328201294 acc: 0.9739583730697632 acc_reg: 0.9505208730697632 acc_line: 0.9973958730697632: 100%|██████████| 319/319 [00:14<00:00, 21.85it/s] \n",
      "[TRAIN 48, 1] loss: 0.18150568008422852 loss_reg: 0.23906664550304413 loss_line: 0.12394469976425171 acc: 0.1614583432674408 acc_reg: 0.15625 acc_line: 0.1666666716337204:   1%|          | 3/319 [00:00<00:14, 21.66it/s]"
     ]
    },
    {
     "name": "stdout",
     "output_type": "stream",
     "text": [
      "[VALIDATION 47] val_acc: 0.9562964108910891 val_acc_reg: 0.9243502475247525 val_acc_line: 0.9882425742574258 \n"
     ]
    },
    {
     "name": "stderr",
     "output_type": "stream",
     "text": [
      "[TRAIN 48, 319] loss: 1.0763285160064697 loss_reg: 1.4063832759857178 loss_line: 0.7462736964225769 acc: 0.9817708730697632 acc_reg: 0.9661458730697632 acc_line: 0.9973958730697632: 100%|██████████| 319/319 [00:14<00:00, 21.84it/s]\n",
      "[TRAIN 49, 1] loss: 0.18103563785552979 loss_reg: 0.23812657594680786 loss_line: 0.12394469976425171 acc: 0.1614583432674408 acc_reg: 0.15625 acc_line: 0.1666666716337204:   1%|          | 3/319 [00:00<00:14, 21.73it/s]"
     ]
    },
    {
     "name": "stdout",
     "output_type": "stream",
     "text": [
      "[VALIDATION 48] val_acc: 0.9565284653465347 val_acc_reg: 0.9234220297029703 val_acc_line: 0.989634900990099 \n"
     ]
    },
    {
     "name": "stderr",
     "output_type": "stream",
     "text": [
      "[TRAIN 49, 319] loss: 1.0891656875610352 loss_reg: 1.4287748336791992 loss_line: 0.7495564222335815 acc: 0.96875 acc_reg: 0.9427083730697632 acc_line: 0.9947916865348816: 100%|██████████| 319/319 [00:14<00:00, 21.91it/s]           \n",
      "[TRAIN 50, 1] loss: 0.1831243932247162 loss_reg: 0.2422991245985031 loss_line: 0.12394966185092926 acc: 0.16015625 acc_reg: 0.1536458432674408 acc_line: 0.1666666716337204:   1%|          | 3/319 [00:00<00:15, 20.88it/s]"
     ]
    },
    {
     "name": "stdout",
     "output_type": "stream",
     "text": [
      "[VALIDATION 49] val_acc: 0.9583075495049505 val_acc_reg: 0.9263613861386139 val_acc_line: 0.9902537128712872 \n"
     ]
    },
    {
     "name": "stderr",
     "output_type": "stream",
     "text": [
      "[TRAIN 50, 319] loss: 1.0721948146820068 loss_reg: 1.400715708732605 loss_line: 0.7436739206314087 acc: 0.9856771230697632 acc_reg: 0.9713541865348816 acc_line: 1.0: 100%|██████████| 319/319 [00:14<00:00, 21.47it/s]                \n",
      "[TRAIN 51, 1] loss: 0.18147532641887665 loss_reg: 0.23900596797466278 loss_line: 0.12394469976425171 acc: 0.1614583432674408 acc_reg: 0.15625 acc_line: 0.1666666716337204:   1%|          | 2/319 [00:00<00:16, 19.73it/s]"
     ]
    },
    {
     "name": "stdout",
     "output_type": "stream",
     "text": [
      "[VALIDATION 50] val_acc: 0.9561417079207921 val_acc_reg: 0.922184405940594 val_acc_line: 0.9900990099009901 \n"
     ]
    },
    {
     "name": "stderr",
     "output_type": "stream",
     "text": [
      "[TRAIN 51, 319] loss: 1.0766496658325195 loss_reg: 1.407027244567871 loss_line: 0.7462723255157471 acc: 0.98046875 acc_reg: 0.9635416865348816 acc_line: 0.9973958730697632: 100%|██████████| 319/319 [00:14<00:00, 21.98it/s]         \n",
      "[TRAIN 52, 1] loss: 0.18015357851982117 loss_reg: 0.23636242747306824 loss_line: 0.12394474446773529 acc: 0.1627604216337204 acc_reg: 0.1588541716337204 acc_line: 0.1666666716337204:   1%|          | 2/319 [00:00<00:16, 19.41it/s]"
     ]
    },
    {
     "name": "stdout",
     "output_type": "stream",
     "text": [
      "[VALIDATION 51] val_acc: 0.9540532178217822 val_acc_reg: 0.9197091584158416 val_acc_line: 0.9883972772277227 \n"
     ]
    },
    {
     "name": "stderr",
     "output_type": "stream",
     "text": [
      "[TRAIN 52, 319] loss: 1.0645450353622437 loss_reg: 1.3801424503326416 loss_line: 0.7489475011825562 acc: 0.9934896230697632 acc_reg: 0.9921875 acc_line: 0.9947916865348816: 100%|██████████| 319/319 [00:14<00:00, 21.30it/s]         \n",
      "[TRAIN 53, 1] loss: 0.17639176547527313 loss_reg: 0.22883880138397217 loss_line: 0.12394469976425171 acc: 0.1666666716337204 acc_reg: 0.1666666716337204 acc_line: 0.1666666716337204:   1%|          | 2/319 [00:00<00:16, 18.76it/s]"
     ]
    },
    {
     "name": "stdout",
     "output_type": "stream",
     "text": [
      "[VALIDATION 52] val_acc: 0.9824412128712872 val_acc_reg: 0.9769492574257426 val_acc_line: 0.9879331683168316 \n"
     ]
    },
    {
     "name": "stderr",
     "output_type": "stream",
     "text": [
      "[TRAIN 53, 319] loss: 1.0625531673431396 loss_reg: 1.381429672241211 loss_line: 0.7436765432357788 acc: 0.9947916865348816 acc_reg: 0.9895833730697632 acc_line: 1.0: 100%|██████████| 319/319 [00:14<00:00, 21.55it/s]                \n",
      "[TRAIN 54, 1] loss: 0.17630183696746826 loss_reg: 0.22865897417068481 loss_line: 0.12394469976425171 acc: 0.1666666716337204 acc_reg: 0.1666666716337204 acc_line: 0.1666666716337204:   1%|          | 3/319 [00:00<00:15, 20.55it/s]"
     ]
    },
    {
     "name": "stdout",
     "output_type": "stream",
     "text": [
      "[VALIDATION 53] val_acc: 0.9839108910891089 val_acc_reg: 0.9809715346534653 val_acc_line: 0.9868502475247525 \n"
     ]
    },
    {
     "name": "stderr",
     "output_type": "stream",
     "text": [
      "[TRAIN 54, 319] loss: 1.0620512962341309 loss_reg: 1.372621774673462 loss_line: 0.7514810562133789 acc: 0.99609375 acc_reg: 1.0 acc_line: 0.9921875: 100%|██████████| 319/319 [00:14<00:00, 21.40it/s]                                 \n",
      "[TRAIN 55, 1] loss: 0.1787835657596588 loss_reg: 0.2310619354248047 loss_line: 0.12650519609451294 acc: 0.1640625 acc_reg: 0.1640625 acc_line: 0.1640625:   1%|          | 3/319 [00:00<00:14, 21.43it/s]"
     ]
    },
    {
     "name": "stdout",
     "output_type": "stream",
     "text": [
      "[VALIDATION 54] val_acc: 0.9863087871287128 val_acc_reg: 0.9801980198019802 val_acc_line: 0.9924195544554455 \n"
     ]
    },
    {
     "name": "stderr",
     "output_type": "stream",
     "text": [
      "[TRAIN 55, 319] loss: 1.0627408027648926 loss_reg: 1.3791927099227905 loss_line: 0.7462887763977051 acc: 0.9947916865348816 acc_reg: 0.9921875 acc_line: 0.9973958730697632: 100%|██████████| 319/319 [00:14<00:00, 21.65it/s]         \n",
      "[TRAIN 56, 1] loss: 0.17633399367332458 loss_reg: 0.2286584973335266 loss_line: 0.12400947511196136 acc: 0.1666666716337204 acc_reg: 0.1666666716337204 acc_line: 0.1666666716337204:   1%|          | 2/319 [00:00<00:17, 17.94it/s]"
     ]
    },
    {
     "name": "stdout",
     "output_type": "stream",
     "text": [
      "[VALIDATION 55] val_acc: 0.9828279702970297 val_acc_reg: 0.9786509900990099 val_acc_line: 0.9870049504950495 \n"
     ]
    },
    {
     "name": "stderr",
     "output_type": "stream",
     "text": [
      "[TRAIN 56, 319] loss: 1.0605649948120117 loss_reg: 1.3748557567596436 loss_line: 0.7462743520736694 acc: 0.9973958730697632 acc_reg: 0.9973958730697632 acc_line: 0.9973958730697632: 100%|██████████| 319/319 [00:14<00:00, 21.59it/s]\n",
      "[TRAIN 57, 1] loss: 0.17630159854888916 loss_reg: 0.2286584973335266 loss_line: 0.12394469976425171 acc: 0.1666666716337204 acc_reg: 0.1666666716337204 acc_line: 0.1666666716337204:   1%|          | 3/319 [00:00<00:14, 21.43it/s]"
     ]
    },
    {
     "name": "stdout",
     "output_type": "stream",
     "text": [
      "[VALIDATION 56] val_acc: 0.9890934405940595 val_acc_reg: 0.9851485148514851 val_acc_line: 0.9930383663366337 \n"
     ]
    },
    {
     "name": "stderr",
     "output_type": "stream",
     "text": [
      "[TRAIN 57, 319] loss: 1.0606199502944946 loss_reg: 1.374569296836853 loss_line: 0.7466704845428467 acc: 0.9973958730697632 acc_reg: 0.9973958730697632 acc_line: 0.9973958730697632: 100%|██████████| 319/319 [00:14<00:00, 21.57it/s] \n",
      "[TRAIN 58, 1] loss: 0.17631080746650696 loss_reg: 0.22865897417068481 loss_line: 0.12396261096000671 acc: 0.1666666716337204 acc_reg: 0.1666666716337204 acc_line: 0.1666666716337204:   1%|          | 3/319 [00:00<00:15, 20.13it/s]"
     ]
    },
    {
     "name": "stdout",
     "output_type": "stream",
     "text": [
      "[VALIDATION 57] val_acc: 0.9867728960396039 val_acc_reg: 0.9832920792079208 val_acc_line: 0.9902537128712872 \n"
     ]
    },
    {
     "name": "stderr",
     "output_type": "stream",
     "text": [
      "[TRAIN 58, 319] loss: 1.0604007244110107 loss_reg: 1.3719528913497925 loss_line: 0.7488481998443604 acc: 0.9973958730697632 acc_reg: 1.0 acc_line: 0.9947916865348816: 100%|██████████| 319/319 [00:14<00:00, 21.55it/s]               \n",
      "[TRAIN 59, 1] loss: 0.17760370671749115 loss_reg: 0.2312626838684082 loss_line: 0.1239447146654129 acc: 0.1653645932674408 acc_reg: 0.1640625 acc_line: 0.1666666716337204:   1%|          | 2/319 [00:00<00:17, 18.25it/s]"
     ]
    },
    {
     "name": "stdout",
     "output_type": "stream",
     "text": [
      "[VALIDATION 58] val_acc: 0.9870049504950495 val_acc_reg: 0.9842202970297029 val_acc_line: 0.9897896039603961 \n"
     ]
    },
    {
     "name": "stderr",
     "output_type": "stream",
     "text": [
      "[TRAIN 59, 319] loss: 1.0629829168319702 loss_reg: 1.3770869970321655 loss_line: 0.7488788366317749 acc: 0.9947916865348816 acc_reg: 0.9947916865348816 acc_line: 0.9947916865348816: 100%|██████████| 319/319 [00:14<00:00, 21.75it/s]\n",
      "[TRAIN 60, 1] loss: 0.1763119399547577 loss_reg: 0.22865919768810272 loss_line: 0.12396465241909027 acc: 0.1666666716337204 acc_reg: 0.1666666716337204 acc_line: 0.1666666716337204:   1%|          | 2/319 [00:00<00:16, 19.32it/s]"
     ]
    },
    {
     "name": "stdout",
     "output_type": "stream",
     "text": [
      "[VALIDATION 59] val_acc: 0.9877784653465347 val_acc_reg: 0.984065594059406 val_acc_line: 0.9914913366336634 \n"
     ]
    },
    {
     "name": "stderr",
     "output_type": "stream",
     "text": [
      "[TRAIN 60, 319] loss: 1.059231162071228 loss_reg: 1.3721880912780762 loss_line: 0.7462742328643799 acc: 0.9986979365348816 acc_reg: 1.0 acc_line: 0.9973958730697632: 100%|██████████| 319/319 [00:14<00:00, 21.73it/s]                \n",
      "[TRAIN 61, 1] loss: 0.17686396837234497 loss_reg: 0.22978323698043823 loss_line: 0.12394469976425171 acc: 0.1666666716337204 acc_reg: 0.1666666716337204 acc_line: 0.1666666716337204:   1%|          | 3/319 [00:00<00:14, 21.44it/s]"
     ]
    },
    {
     "name": "stdout",
     "output_type": "stream",
     "text": [
      "[VALIDATION 60] val_acc: 0.9888613861386139 val_acc_reg: 0.9857673267326733 val_acc_line: 0.9919554455445545 \n"
     ]
    },
    {
     "name": "stderr",
     "output_type": "stream",
     "text": [
      "[TRAIN 61, 319] loss: 1.064770221710205 loss_reg: 1.3799211978912354 loss_line: 0.7496191263198853 acc: 0.9921875 acc_reg: 0.9921875 acc_line: 0.9921875: 100%|██████████| 319/319 [00:14<00:00, 21.53it/s]                            \n",
      "[TRAIN 62, 1] loss: 0.1784941405057907 loss_reg: 0.2286584973335266 loss_line: 0.12832976877689362 acc: 0.1640625 acc_reg: 0.1666666716337204 acc_line: 0.1614583432674408:   1%|          | 2/319 [00:00<00:17, 18.36it/s]"
     ]
    },
    {
     "name": "stdout",
     "output_type": "stream",
     "text": [
      "[VALIDATION 61] val_acc: 0.9878558168316832 val_acc_reg: 0.9842202970297029 val_acc_line: 0.9914913366336634 \n"
     ]
    },
    {
     "name": "stderr",
     "output_type": "stream",
     "text": [
      "[TRAIN 62, 319] loss: 1.0617128610610962 loss_reg: 1.3771384954452515 loss_line: 0.7462872862815857 acc: 0.99609375 acc_reg: 0.9947916865348816 acc_line: 0.9973958730697632: 100%|██████████| 319/319 [00:14<00:00, 21.66it/s]        \n",
      "[TRAIN 63, 1] loss: 0.1763020008802414 loss_reg: 0.22865931689739227 loss_line: 0.12394469976425171 acc: 0.1666666716337204 acc_reg: 0.1666666716337204 acc_line: 0.1666666716337204:   1%|          | 3/319 [00:00<00:14, 22.01it/s]"
     ]
    },
    {
     "name": "stdout",
     "output_type": "stream",
     "text": [
      "[VALIDATION 62] val_acc: 0.9891707920792079 val_acc_reg: 0.9845297029702971 val_acc_line: 0.9938118811881188 \n"
     ]
    },
    {
     "name": "stderr",
     "output_type": "stream",
     "text": [
      "[TRAIN 63, 319] loss: 1.0617437362670898 loss_reg: 1.3746103048324585 loss_line: 0.7488769888877869 acc: 0.99609375 acc_reg: 0.9973958730697632 acc_line: 0.9947916865348816: 100%|██████████| 319/319 [00:14<00:00, 21.70it/s]        \n",
      "[TRAIN 64, 1] loss: 0.17630159854888916 loss_reg: 0.2286584973335266 loss_line: 0.12394469976425171 acc: 0.1666666716337204 acc_reg: 0.1666666716337204 acc_line: 0.1666666716337204:   1%|          | 3/319 [00:00<00:15, 20.19it/s]"
     ]
    },
    {
     "name": "stdout",
     "output_type": "stream",
     "text": [
      "[VALIDATION 63] val_acc: 0.9904857673267327 val_acc_reg: 0.9874690594059405 val_acc_line: 0.9935024752475248 \n"
     ]
    },
    {
     "name": "stderr",
     "output_type": "stream",
     "text": [
      "[TRAIN 64, 319] loss: 1.061876893043518 loss_reg: 1.3748764991760254 loss_line: 0.7488771677017212 acc: 0.99609375 acc_reg: 0.9973958730697632 acc_line: 0.9947916865348816: 100%|██████████| 319/319 [00:14<00:00, 21.69it/s]         \n",
      "[TRAIN 65, 1] loss: 0.17771875858306885 loss_reg: 0.2314928025007248 loss_line: 0.12394469976425171 acc: 0.1653645932674408 acc_reg: 0.1640625 acc_line: 0.1666666716337204:   1%|          | 3/319 [00:00<00:14, 22.09it/s]"
     ]
    },
    {
     "name": "stdout",
     "output_type": "stream",
     "text": [
      "[VALIDATION 64] val_acc: 0.9883199257425742 val_acc_reg: 0.9832920792079208 val_acc_line: 0.9933477722772277 \n"
     ]
    },
    {
     "name": "stderr",
     "output_type": "stream",
     "text": [
      "[TRAIN 65, 319] loss: 1.065611720085144 loss_reg: 1.3823498487472534 loss_line: 0.7488736510276794 acc: 0.9921875 acc_reg: 0.9895833730697632 acc_line: 0.9947916865348816: 100%|██████████| 319/319 [00:14<00:00, 21.68it/s]          \n",
      "[TRAIN 66, 1] loss: 0.17630159854888916 loss_reg: 0.2286584973335266 loss_line: 0.12394469976425171 acc: 0.1666666716337204 acc_reg: 0.1666666716337204 acc_line: 0.1666666716337204:   1%|          | 3/319 [00:00<00:14, 21.20it/s]"
     ]
    },
    {
     "name": "stdout",
     "output_type": "stream",
     "text": [
      "[VALIDATION 65] val_acc: 0.9870049504950495 val_acc_reg: 0.9818997524752475 val_acc_line: 0.9921101485148515 \n"
     ]
    },
    {
     "name": "stderr",
     "output_type": "stream",
     "text": [
      "[TRAIN 66, 319] loss: 1.0607361793518066 loss_reg: 1.3741886615753174 loss_line: 0.7472836375236511 acc: 0.9973958730697632 acc_reg: 0.9973958730697632 acc_line: 0.9973958730697632: 100%|██████████| 319/319 [00:14<00:00, 21.69it/s]\n",
      "[TRAIN 67, 1] loss: 0.17630159854888916 loss_reg: 0.2286584973335266 loss_line: 0.12394469976425171 acc: 0.1666666716337204 acc_reg: 0.1666666716337204 acc_line: 0.1666666716337204:   1%|          | 3/319 [00:00<00:14, 21.45it/s]"
     ]
    },
    {
     "name": "stdout",
     "output_type": "stream",
     "text": [
      "[VALIDATION 66] val_acc: 0.989325495049505 val_acc_reg: 0.9873143564356436 val_acc_line: 0.9913366336633663 \n"
     ]
    },
    {
     "name": "stderr",
     "output_type": "stream",
     "text": [
      "[TRAIN 67, 319] loss: 1.0603649616241455 loss_reg: 1.3719514608383179 loss_line: 0.7487785220146179 acc: 0.9973958730697632 acc_reg: 1.0 acc_line: 0.9947916865348816: 100%|██████████| 319/319 [00:14<00:00, 21.64it/s]               \n",
      "[TRAIN 68, 1] loss: 0.17630164325237274 loss_reg: 0.2286585569381714 loss_line: 0.12394469976425171 acc: 0.1666666716337204 acc_reg: 0.1666666716337204 acc_line: 0.1666666716337204:   1%|          | 2/319 [00:00<00:17, 17.71it/s]"
     ]
    },
    {
     "name": "stdout",
     "output_type": "stream",
     "text": [
      "[VALIDATION 67] val_acc: 0.9905631188118812 val_acc_reg: 0.9883972772277227 val_acc_line: 0.9927289603960396 \n"
     ]
    },
    {
     "name": "stderr",
     "output_type": "stream",
     "text": [
      "[TRAIN 68, 319] loss: 1.060801386833191 loss_reg: 1.377934217453003 loss_line: 0.7436685562133789 acc: 0.99609375 acc_reg: 0.9921875 acc_line: 1.0: 100%|██████████| 319/319 [00:14<00:00, 21.62it/s]                                  \n",
      "[TRAIN 69, 1] loss: 0.17707359790802002 loss_reg: 0.23019635677337646 loss_line: 0.12395086139440536 acc: 0.1666666716337204 acc_reg: 0.1666666716337204 acc_line: 0.1666666716337204:   1%|          | 2/319 [00:00<00:16, 19.31it/s]"
     ]
    },
    {
     "name": "stdout",
     "output_type": "stream",
     "text": [
      "[VALIDATION 68] val_acc: 0.9827506188118812 val_acc_reg: 0.9789603960396039 val_acc_line: 0.9865408415841584 \n"
     ]
    },
    {
     "name": "stderr",
     "output_type": "stream",
     "text": [
      "[TRAIN 69, 319] loss: 1.060335397720337 loss_reg: 1.3743948936462402 loss_line: 0.7462756633758545 acc: 0.9973958730697632 acc_reg: 0.9973958730697632 acc_line: 0.9973958730697632: 100%|██████████| 319/319 [00:14<00:00, 21.60it/s] \n",
      "[TRAIN 70, 1] loss: 0.17630159854888916 loss_reg: 0.2286584973335266 loss_line: 0.12394469976425171 acc: 0.1666666716337204 acc_reg: 0.1666666716337204 acc_line: 0.1666666716337204:   1%|          | 3/319 [00:00<00:14, 21.53it/s]"
     ]
    },
    {
     "name": "stdout",
     "output_type": "stream",
     "text": [
      "[VALIDATION 69] val_acc: 0.9873143564356436 val_acc_reg: 0.9839108910891089 val_acc_line: 0.9907178217821783 \n"
     ]
    },
    {
     "name": "stderr",
     "output_type": "stream",
     "text": [
      "[TRAIN 70, 319] loss: 1.060766339302063 loss_reg: 1.3778619766235352 loss_line: 0.7436707019805908 acc: 0.9973958730697632 acc_reg: 0.9947916865348816 acc_line: 1.0: 100%|██████████| 319/319 [00:14<00:00, 21.83it/s]                \n",
      "[TRAIN 71, 1] loss: 0.17630159854888916 loss_reg: 0.2286584973335266 loss_line: 0.12394469976425171 acc: 0.1666666716337204 acc_reg: 0.1666666716337204 acc_line: 0.1666666716337204:   1%|          | 2/319 [00:00<00:16, 19.04it/s]"
     ]
    },
    {
     "name": "stdout",
     "output_type": "stream",
     "text": [
      "[VALIDATION 70] val_acc: 0.9868502475247525 val_acc_reg: 0.9823638613861386 val_acc_line: 0.9913366336633663 \n"
     ]
    },
    {
     "name": "stderr",
     "output_type": "stream",
     "text": [
      "[TRAIN 71, 319] loss: 1.0604403018951416 loss_reg: 1.377146601676941 loss_line: 0.7437338829040527 acc: 0.9973958730697632 acc_reg: 0.9947916865348816 acc_line: 1.0: 100%|██████████| 319/319 [00:14<00:00, 21.87it/s]                \n",
      "[TRAIN 72, 1] loss: 0.17869214713573456 loss_reg: 0.23340871930122375 loss_line: 0.12397556751966476 acc: 0.1640625 acc_reg: 0.1614583432674408 acc_line: 0.1666666716337204:   1%|          | 2/319 [00:00<00:16, 19.19it/s]"
     ]
    },
    {
     "name": "stdout",
     "output_type": "stream",
     "text": [
      "[VALIDATION 71] val_acc: 0.9880105198019802 val_acc_reg: 0.9853032178217822 val_acc_line: 0.9907178217821783 \n"
     ]
    },
    {
     "name": "stderr",
     "output_type": "stream",
     "text": [
      "[TRAIN 72, 319] loss: 1.060621976852417 loss_reg: 1.3749849796295166 loss_line: 0.7462586164474487 acc: 0.9973958730697632 acc_reg: 0.9973958730697632 acc_line: 0.9973958730697632: 100%|██████████| 319/319 [00:14<00:00, 21.90it/s] \n",
      "[TRAIN 73, 1] loss: 0.17633222043514252 loss_reg: 0.2286584973335266 loss_line: 0.12400593608617783 acc: 0.1666666716337204 acc_reg: 0.1666666716337204 acc_line: 0.1666666716337204:   1%|          | 3/319 [00:00<00:14, 21.64it/s]"
     ]
    },
    {
     "name": "stdout",
     "output_type": "stream",
     "text": [
      "[VALIDATION 72] val_acc: 0.9842976485148515 val_acc_reg: 0.9811262376237624 val_acc_line: 0.9874690594059405 \n"
     ]
    },
    {
     "name": "stderr",
     "output_type": "stream",
     "text": [
      "[TRAIN 73, 319] loss: 1.0617244243621826 loss_reg: 1.3797798156738281 loss_line: 0.7436690330505371 acc: 0.99609375 acc_reg: 0.9921875 acc_line: 1.0: 100%|██████████| 319/319 [00:14<00:00, 21.79it/s]                                \n",
      "[TRAIN 74, 1] loss: 0.17630216479301453 loss_reg: 0.22865897417068481 loss_line: 0.12394532561302185 acc: 0.1666666716337204 acc_reg: 0.1666666716337204 acc_line: 0.1666666716337204:   1%|          | 3/319 [00:00<00:14, 21.48it/s]"
     ]
    },
    {
     "name": "stdout",
     "output_type": "stream",
     "text": [
      "[VALIDATION 73] val_acc: 0.9884746287128713 val_acc_reg: 0.9868502475247525 val_acc_line: 0.9900990099009901 \n"
     ]
    },
    {
     "name": "stderr",
     "output_type": "stream",
     "text": [
      "[TRAIN 74, 319] loss: 1.0596566200256348 loss_reg: 1.3723034858703613 loss_line: 0.7470099329948425 acc: 0.9986979365348816 acc_reg: 1.0 acc_line: 0.9973958730697632: 100%|██████████| 319/319 [00:14<00:00, 21.95it/s]               \n",
      "[TRAIN 75, 1] loss: 0.17630162835121155 loss_reg: 0.2286585420370102 loss_line: 0.1239447146654129 acc: 0.1666666716337204 acc_reg: 0.1666666716337204 acc_line: 0.1666666716337204:   1%|          | 2/319 [00:00<00:17, 17.74it/s]"
     ]
    },
    {
     "name": "stdout",
     "output_type": "stream",
     "text": [
      "[VALIDATION 74] val_acc: 0.9882425742574258 val_acc_reg: 0.9854579207920792 val_acc_line: 0.9910272277227723 \n"
     ]
    },
    {
     "name": "stderr",
     "output_type": "stream",
     "text": [
      "[TRAIN 75, 319] loss: 1.0613675117492676 loss_reg: 1.3752379417419434 loss_line: 0.7474968433380127 acc: 0.99609375 acc_reg: 0.9973958730697632 acc_line: 0.9947916865348816: 100%|██████████| 319/319 [00:14<00:00, 21.95it/s]        \n",
      "[TRAIN 76, 1] loss: 0.17630159854888916 loss_reg: 0.228658527135849 loss_line: 0.12394469976425171 acc: 0.1666666716337204 acc_reg: 0.1666666716337204 acc_line: 0.1666666716337204:   1%|          | 3/319 [00:00<00:15, 20.63it/s]"
     ]
    },
    {
     "name": "stdout",
     "output_type": "stream",
     "text": [
      "[VALIDATION 75] val_acc: 0.9887840346534653 val_acc_reg: 0.9857673267326733 val_acc_line: 0.9918007425742574 \n"
     ]
    },
    {
     "name": "stderr",
     "output_type": "stream",
     "text": [
      "[TRAIN 76, 319] loss: 1.0612589120864868 loss_reg: 1.373148798942566 loss_line: 0.7493689060211182 acc: 0.9973958730697632 acc_reg: 1.0 acc_line: 0.9947916865348816: 100%|██████████| 319/319 [00:14<00:00, 22.08it/s]                \n",
      "[TRAIN 77, 1] loss: 0.17760984599590302 loss_reg: 0.22866420447826385 loss_line: 0.12655547261238098 acc: 0.1653645932674408 acc_reg: 0.1666666716337204 acc_line: 0.1640625:   1%|          | 3/319 [00:00<00:14, 21.07it/s]"
     ]
    },
    {
     "name": "stdout",
     "output_type": "stream",
     "text": [
      "[VALIDATION 76] val_acc: 0.986927599009901 val_acc_reg: 0.9822091584158416 val_acc_line: 0.9916460396039604 \n"
     ]
    },
    {
     "name": "stderr",
     "output_type": "stream",
     "text": [
      "[TRAIN 77, 319] loss: 1.060762643814087 loss_reg: 1.3771946430206299 loss_line: 0.7443304061889648 acc: 0.9973958730697632 acc_reg: 0.9947916865348816 acc_line: 1.0: 100%|██████████| 319/319 [00:14<00:00, 21.94it/s]                \n",
      "[TRAIN 78, 1] loss: 0.17630159854888916 loss_reg: 0.2286584973335266 loss_line: 0.1239447146654129 acc: 0.1666666716337204 acc_reg: 0.1666666716337204 acc_line: 0.1666666716337204:   1%|          | 3/319 [00:00<00:15, 20.20it/s]"
     ]
    },
    {
     "name": "stdout",
     "output_type": "stream",
     "text": [
      "[VALIDATION 77] val_acc: 0.9880105198019802 val_acc_reg: 0.9851485148514851 val_acc_line: 0.9908725247524752 \n"
     ]
    },
    {
     "name": "stderr",
     "output_type": "stream",
     "text": [
      "[TRAIN 78, 319] loss: 1.0591232776641846 loss_reg: 1.3722283840179443 loss_line: 0.7460180521011353 acc: 0.9986979365348816 acc_reg: 1.0 acc_line: 0.9973958730697632: 100%|██████████| 319/319 [00:14<00:00, 21.97it/s]               \n",
      "[TRAIN 79, 1] loss: 0.17630188167095184 loss_reg: 0.2286584973335266 loss_line: 0.12394525110721588 acc: 0.1666666716337204 acc_reg: 0.1666666716337204 acc_line: 0.1666666716337204:   1%|          | 2/319 [00:00<00:16, 19.57it/s]"
     ]
    },
    {
     "name": "stdout",
     "output_type": "stream",
     "text": [
      "[VALIDATION 78] val_acc: 0.9870049504950495 val_acc_reg: 0.9836014851485149 val_acc_line: 0.9904084158415841 \n"
     ]
    },
    {
     "name": "stderr",
     "output_type": "stream",
     "text": [
      "[TRAIN 79, 319] loss: 1.0668262243270874 loss_reg: 1.3844045400619507 loss_line: 0.749247670173645 acc: 0.9921875 acc_reg: 0.9895833730697632 acc_line: 0.9947916865348816: 100%|██████████| 319/319 [00:14<00:00, 22.02it/s]          \n",
      "[TRAIN 80, 1] loss: 0.17761492729187012 loss_reg: 0.23128437995910645 loss_line: 0.12394548952579498 acc: 0.1653645932674408 acc_reg: 0.1640625 acc_line: 0.1666666716337204:   1%|          | 3/319 [00:00<00:14, 22.26it/s]"
     ]
    },
    {
     "name": "stdout",
     "output_type": "stream",
     "text": [
      "[VALIDATION 79] val_acc: 0.9841429455445545 val_acc_reg: 0.9801980198019802 val_acc_line: 0.9880878712871287 \n"
     ]
    },
    {
     "name": "stderr",
     "output_type": "stream",
     "text": [
      "[TRAIN 80, 319] loss: 1.0591161251068115 loss_reg: 1.374563455581665 loss_line: 0.7436686754226685 acc: 0.9986979365348816 acc_reg: 0.9973958730697632 acc_line: 1.0: 100%|██████████| 319/319 [00:14<00:00, 21.92it/s]                \n",
      "[TRAIN 81, 1] loss: 0.17630159854888916 loss_reg: 0.2286584973335266 loss_line: 0.1239447146654129 acc: 0.1666666716337204 acc_reg: 0.1666666716337204 acc_line: 0.1666666716337204:   1%|          | 2/319 [00:00<00:16, 19.55it/s]"
     ]
    },
    {
     "name": "stdout",
     "output_type": "stream",
     "text": [
      "[VALIDATION 80] val_acc: 0.987082301980198 val_acc_reg: 0.9854579207920792 val_acc_line: 0.9887066831683168 \n"
     ]
    },
    {
     "name": "stderr",
     "output_type": "stream",
     "text": [
      "[TRAIN 81, 319] loss: 1.0605156421661377 loss_reg: 1.3773627281188965 loss_line: 0.743668258190155 acc: 0.9973958730697632 acc_reg: 0.9947916865348816 acc_line: 1.0: 100%|██████████| 319/319 [00:14<00:00, 21.99it/s]                \n",
      "[TRAIN 82, 1] loss: 0.17889299988746643 loss_reg: 0.2312626838684082 loss_line: 0.12652328610420227 acc: 0.1640625 acc_reg: 0.1640625 acc_line: 0.1640625:   1%|          | 2/319 [00:00<00:16, 18.87it/s]"
     ]
    },
    {
     "name": "stdout",
     "output_type": "stream",
     "text": [
      "[VALIDATION 81] val_acc: 0.9892481435643564 val_acc_reg: 0.9856126237623762 val_acc_line: 0.9928836633663366 \n"
     ]
    },
    {
     "name": "stderr",
     "output_type": "stream",
     "text": [
      "[TRAIN 82, 319] loss: 1.0604304075241089 loss_reg: 1.3719509840011597 loss_line: 0.7489098310470581 acc: 0.9973958730697632 acc_reg: 1.0 acc_line: 0.9947916865348816: 100%|██████████| 319/319 [00:14<00:00, 22.04it/s]               \n",
      "[TRAIN 83, 1] loss: 0.1776047796010971 loss_reg: 0.2286606878042221 loss_line: 0.1265488713979721 acc: 0.1653645932674408 acc_reg: 0.1666666716337204 acc_line: 0.1640625:   1%|          | 3/319 [00:00<00:14, 22.36it/s]"
     ]
    },
    {
     "name": "stdout",
     "output_type": "stream",
     "text": [
      "[VALIDATION 82] val_acc: 0.9852258663366337 val_acc_reg: 0.9831373762376238 val_acc_line: 0.9873143564356436 \n"
     ]
    },
    {
     "name": "stderr",
     "output_type": "stream",
     "text": [
      "[TRAIN 83, 319] loss: 1.0591117143630981 loss_reg: 1.3745551109313965 loss_line: 0.743668258190155 acc: 0.9986979365348816 acc_reg: 0.9973958730697632 acc_line: 1.0: 100%|██████████| 319/319 [00:14<00:00, 22.00it/s]                \n",
      "[TRAIN 84, 1] loss: 0.17630159854888916 loss_reg: 0.2286584973335266 loss_line: 0.12394469976425171 acc: 0.1666666716337204 acc_reg: 0.1666666716337204 acc_line: 0.1666666716337204:   1%|          | 2/319 [00:00<00:16, 19.56it/s]"
     ]
    },
    {
     "name": "stdout",
     "output_type": "stream",
     "text": [
      "[VALIDATION 83] val_acc: 0.986927599009901 val_acc_reg: 0.9862314356435643 val_acc_line: 0.9876237623762376 \n"
     ]
    },
    {
     "name": "stderr",
     "output_type": "stream",
     "text": [
      "[TRAIN 84, 319] loss: 1.0578402280807495 loss_reg: 1.3720121383666992 loss_line: 0.7436683177947998 acc: 1.0 acc_reg: 1.0 acc_line: 1.0: 100%|██████████| 319/319 [00:14<00:00, 22.04it/s]                                             \n",
      "[TRAIN 85, 1] loss: 0.17630168795585632 loss_reg: 0.22865864634513855 loss_line: 0.12394469976425171 acc: 0.1666666716337204 acc_reg: 0.1666666716337204 acc_line: 0.1666666716337204:   1%|          | 2/319 [00:00<00:16, 19.76it/s]"
     ]
    },
    {
     "name": "stdout",
     "output_type": "stream",
     "text": [
      "[VALIDATION 84] val_acc: 0.9900990099009901 val_acc_reg: 0.9876237623762376 val_acc_line: 0.9925742574257426 \n"
     ]
    },
    {
     "name": "stderr",
     "output_type": "stream",
     "text": [
      "[TRAIN 85, 319] loss: 1.060579776763916 loss_reg: 1.3748868703842163 loss_line: 0.7462728023529053 acc: 0.9973958730697632 acc_reg: 0.9973958730697632 acc_line: 0.9973958730697632: 100%|██████████| 319/319 [00:14<00:00, 21.95it/s] \n",
      "[TRAIN 86, 1] loss: 0.17630240321159363 loss_reg: 0.22866009175777435 loss_line: 0.12394469976425171 acc: 0.1666666716337204 acc_reg: 0.1666666716337204 acc_line: 0.1666666716337204:   1%|          | 3/319 [00:00<00:15, 20.74it/s]"
     ]
    },
    {
     "name": "stdout",
     "output_type": "stream",
     "text": [
      "[VALIDATION 85] val_acc: 0.9890160891089109 val_acc_reg: 0.9863861386138614 val_acc_line: 0.9916460396039604 \n"
     ]
    },
    {
     "name": "stderr",
     "output_type": "stream",
     "text": [
      "[TRAIN 86, 319] loss: 1.0592384338378906 loss_reg: 1.374808669090271 loss_line: 0.7436681985855103 acc: 0.9986979365348816 acc_reg: 0.9973958730697632 acc_line: 1.0: 100%|██████████| 319/319 [00:14<00:00, 21.79it/s]                \n",
      "[TRAIN 87, 1] loss: 0.17630159854888916 loss_reg: 0.2286584973335266 loss_line: 0.12394469976425171 acc: 0.1666666716337204 acc_reg: 0.1666666716337204 acc_line: 0.1666666716337204:   1%|          | 2/319 [00:00<00:16, 18.74it/s]"
     ]
    },
    {
     "name": "stdout",
     "output_type": "stream",
     "text": [
      "[VALIDATION 86] val_acc: 0.9891707920792079 val_acc_reg: 0.9877784653465347 val_acc_line: 0.9905631188118812 \n"
     ]
    },
    {
     "name": "stderr",
     "output_type": "stream",
     "text": [
      "[TRAIN 87, 319] loss: 1.0591133832931519 loss_reg: 1.374558448791504 loss_line: 0.7436683177947998 acc: 0.9986979365348816 acc_reg: 0.9973958730697632 acc_line: 1.0: 100%|██████████| 319/319 [00:14<00:00, 21.94it/s]                \n",
      "[TRAIN 88, 1] loss: 0.17760378122329712 loss_reg: 0.23126283288002014 loss_line: 0.1239447295665741 acc: 0.1653645932674408 acc_reg: 0.1640625 acc_line: 0.1666666716337204:   1%|          | 3/319 [00:00<00:15, 20.53it/s]"
     ]
    },
    {
     "name": "stdout",
     "output_type": "stream",
     "text": [
      "[VALIDATION 87] val_acc: 0.9890934405940595 val_acc_reg: 0.9871596534653465 val_acc_line: 0.9910272277227723 \n"
     ]
    },
    {
     "name": "stderr",
     "output_type": "stream",
     "text": [
      "[TRAIN 88, 319] loss: 1.063053011894226 loss_reg: 1.3745553493499756 loss_line: 0.7515506744384766 acc: 0.9947916865348816 acc_reg: 0.9973958730697632 acc_line: 0.9921875: 100%|██████████| 319/319 [00:14<00:00, 21.93it/s]          \n",
      "[TRAIN 89, 1] loss: 0.17630162835121155 loss_reg: 0.2286584973335266 loss_line: 0.12394475191831589 acc: 0.1666666716337204 acc_reg: 0.1666666716337204 acc_line: 0.1666666716337204:   1%|          | 3/319 [00:00<00:14, 22.30it/s]"
     ]
    },
    {
     "name": "stdout",
     "output_type": "stream",
     "text": [
      "[VALIDATION 88] val_acc: 0.9887840346534653 val_acc_reg: 0.9870049504950495 val_acc_line: 0.9905631188118812 \n"
     ]
    },
    {
     "name": "stderr",
     "output_type": "stream",
     "text": [
      "[TRAIN 89, 319] loss: 1.0578136444091797 loss_reg: 1.3719592094421387 loss_line: 0.7436681985855103 acc: 1.0 acc_reg: 1.0 acc_line: 1.0: 100%|██████████| 319/319 [00:14<00:00, 21.96it/s]                                             \n",
      "[TRAIN 90, 1] loss: 0.17634408175945282 loss_reg: 0.22874347865581512 loss_line: 0.12394469976425171 acc: 0.1666666716337204 acc_reg: 0.1666666716337204 acc_line: 0.1666666716337204:   1%|          | 3/319 [00:00<00:16, 19.70it/s]"
     ]
    },
    {
     "name": "stdout",
     "output_type": "stream",
     "text": [
      "[VALIDATION 89] val_acc: 0.9883972772277227 val_acc_reg: 0.9860767326732673 val_acc_line: 0.9907178217821783 \n"
     ]
    },
    {
     "name": "stderr",
     "output_type": "stream",
     "text": [
      "[TRAIN 90, 319] loss: 1.0614523887634277 loss_reg: 1.3766320943832397 loss_line: 0.7462726831436157 acc: 0.99609375 acc_reg: 0.9947916865348816 acc_line: 0.9973958730697632: 100%|██████████| 319/319 [00:14<00:00, 21.87it/s]        \n",
      "[TRAIN 91, 1] loss: 0.17630159854888916 loss_reg: 0.2286584973335266 loss_line: 0.12394469976425171 acc: 0.1666666716337204 acc_reg: 0.1666666716337204 acc_line: 0.1666666716337204:   1%|          | 2/319 [00:00<00:16, 18.90it/s]"
     ]
    },
    {
     "name": "stdout",
     "output_type": "stream",
     "text": [
      "[VALIDATION 90] val_acc: 0.9855352722772277 val_acc_reg: 0.9828279702970297 val_acc_line: 0.9882425742574258 \n"
     ]
    },
    {
     "name": "stderr",
     "output_type": "stream",
     "text": [
      "[TRAIN 91, 319] loss: 1.0592986345291138 loss_reg: 1.3749102354049683 loss_line: 0.743687093257904 acc: 0.9986979365348816 acc_reg: 0.9973958730697632 acc_line: 1.0: 100%|██████████| 319/319 [00:14<00:00, 21.87it/s]                \n",
      "[TRAIN 92, 1] loss: 0.17630159854888916 loss_reg: 0.2286584973335266 loss_line: 0.12394469976425171 acc: 0.1666666716337204 acc_reg: 0.1666666716337204 acc_line: 0.1666666716337204:   1%|          | 3/319 [00:00<00:14, 21.57it/s]"
     ]
    },
    {
     "name": "stdout",
     "output_type": "stream",
     "text": [
      "[VALIDATION 91] val_acc: 0.9894028465346535 val_acc_reg: 0.9882425742574258 val_acc_line: 0.9905631188118812 \n"
     ]
    },
    {
     "name": "stderr",
     "output_type": "stream",
     "text": [
      "[TRAIN 92, 319] loss: 1.058016061782837 loss_reg: 1.3719509840011597 loss_line: 0.7440809607505798 acc: 1.0 acc_reg: 1.0 acc_line: 1.0: 100%|██████████| 319/319 [00:14<00:00, 21.90it/s]                                              \n",
      "[TRAIN 93, 1] loss: 0.17630159854888916 loss_reg: 0.2286584973335266 loss_line: 0.12394469976425171 acc: 0.1666666716337204 acc_reg: 0.1666666716337204 acc_line: 0.1666666716337204:   1%|          | 2/319 [00:00<00:16, 18.93it/s]"
     ]
    },
    {
     "name": "stdout",
     "output_type": "stream",
     "text": [
      "[VALIDATION 92] val_acc: 0.9889387376237624 val_acc_reg: 0.9862314356435643 val_acc_line: 0.9916460396039604 \n"
     ]
    },
    {
     "name": "stderr",
     "output_type": "stream",
     "text": [
      "[TRAIN 93, 319] loss: 1.0615861415863037 loss_reg: 1.3745530843734741 loss_line: 0.748619019985199 acc: 0.99609375 acc_reg: 0.9973958730697632 acc_line: 0.9947916865348816: 100%|██████████| 319/319 [00:14<00:00, 21.95it/s]         \n",
      "[TRAIN 94, 1] loss: 0.17630168795585632 loss_reg: 0.22865864634513855 loss_line: 0.12394469976425171 acc: 0.1666666716337204 acc_reg: 0.1666666716337204 acc_line: 0.1666666716337204:   1%|          | 2/319 [00:00<00:17, 17.92it/s]"
     ]
    },
    {
     "name": "stdout",
     "output_type": "stream",
     "text": [
      "[VALIDATION 93] val_acc: 0.9894028465346535 val_acc_reg: 0.9859220297029703 val_acc_line: 0.9928836633663366 \n"
     ]
    },
    {
     "name": "stderr",
     "output_type": "stream",
     "text": [
      "[TRAIN 94, 319] loss: 1.0589790344238281 loss_reg: 1.3719509840011597 loss_line: 0.7460069060325623 acc: 0.9986979365348816 acc_reg: 1.0 acc_line: 0.9973958730697632: 100%|██████████| 319/319 [00:14<00:00, 21.91it/s]               \n",
      "[TRAIN 95, 1] loss: 0.1773400753736496 loss_reg: 0.23073545098304749 loss_line: 0.12394469976425171 acc: 0.1653645932674408 acc_reg: 0.1640625 acc_line: 0.1666666716337204:   1%|          | 2/319 [00:00<00:16, 19.09it/s]"
     ]
    },
    {
     "name": "stdout",
     "output_type": "stream",
     "text": [
      "[VALIDATION 94] val_acc: 0.9905631188118812 val_acc_reg: 0.9885519801980198 val_acc_line: 0.9925742574257426 \n"
     ]
    },
    {
     "name": "stderr",
     "output_type": "stream",
     "text": [
      "[TRAIN 95, 319] loss: 1.0591225624084473 loss_reg: 1.3719725608825684 loss_line: 0.7462725639343262 acc: 0.9986979365348816 acc_reg: 1.0 acc_line: 0.9973958730697632: 100%|██████████| 319/319 [00:14<00:00, 21.93it/s]               \n",
      "[TRAIN 96, 1] loss: 0.17630159854888916 loss_reg: 0.2286584973335266 loss_line: 0.1239447146654129 acc: 0.1666666716337204 acc_reg: 0.1666666716337204 acc_line: 0.1666666716337204:   1%|          | 3/319 [00:00<00:14, 21.94it/s]"
     ]
    },
    {
     "name": "stdout",
     "output_type": "stream",
     "text": [
      "[VALIDATION 95] val_acc: 0.9863087871287128 val_acc_reg: 0.9820544554455446 val_acc_line: 0.9905631188118812 \n"
     ]
    },
    {
     "name": "stderr",
     "output_type": "stream",
     "text": [
      "[TRAIN 96, 319] loss: 1.0591118335723877 loss_reg: 1.3745551109313965 loss_line: 0.743668258190155 acc: 0.9986979365348816 acc_reg: 0.9973958730697632 acc_line: 1.0: 100%|██████████| 319/319 [00:14<00:00, 21.92it/s]                \n",
      "[TRAIN 97, 1] loss: 0.17630159854888916 loss_reg: 0.2286584973335266 loss_line: 0.12394469976425171 acc: 0.1666666716337204 acc_reg: 0.1666666716337204 acc_line: 0.1666666716337204:   1%|          | 3/319 [00:00<00:15, 20.91it/s]"
     ]
    },
    {
     "name": "stdout",
     "output_type": "stream",
     "text": [
      "[VALIDATION 96] val_acc: 0.9888613861386139 val_acc_reg: 0.9854579207920792 val_acc_line: 0.9922648514851485 \n"
     ]
    },
    {
     "name": "stderr",
     "output_type": "stream",
     "text": [
      "[TRAIN 97, 319] loss: 1.0584053993225098 loss_reg: 1.3731412887573242 loss_line: 0.7436694502830505 acc: 1.0 acc_reg: 1.0 acc_line: 1.0: 100%|██████████| 319/319 [00:14<00:00, 21.98it/s]                                             \n",
      "[TRAIN 98, 1] loss: 0.1776038408279419 loss_reg: 0.2312629669904709 loss_line: 0.12394469976425171 acc: 0.1653645932674408 acc_reg: 0.1640625 acc_line: 0.1666666716337204:   1%|          | 3/319 [00:00<00:14, 21.68it/s]"
     ]
    },
    {
     "name": "stdout",
     "output_type": "stream",
     "text": [
      "[VALIDATION 97] val_acc: 0.9881652227722773 val_acc_reg: 0.9845297029702971 val_acc_line: 0.9918007425742574 \n"
     ]
    },
    {
     "name": "stderr",
     "output_type": "stream",
     "text": [
      "[TRAIN 98, 319] loss: 1.057845950126648 loss_reg: 1.3720135688781738 loss_line: 0.743678092956543 acc: 1.0 acc_reg: 1.0 acc_line: 1.0: 100%|██████████| 319/319 [00:14<00:00, 21.98it/s]                                               \n",
      "[TRAIN 99, 1] loss: 0.17630180716514587 loss_reg: 0.2286584973335266 loss_line: 0.12394510209560394 acc: 0.1666666716337204 acc_reg: 0.1666666716337204 acc_line: 0.1666666716337204:   1%|          | 2/319 [00:00<00:17, 18.45it/s]"
     ]
    },
    {
     "name": "stdout",
     "output_type": "stream",
     "text": [
      "[VALIDATION 98] val_acc: 0.9894028465346535 val_acc_reg: 0.9863861386138614 val_acc_line: 0.9924195544554455 \n"
     ]
    },
    {
     "name": "stderr",
     "output_type": "stream",
     "text": [
      "[TRAIN 99, 319] loss: 1.0612776279449463 loss_reg: 1.3736766576766968 loss_line: 0.7488782405853271 acc: 0.99609375 acc_reg: 0.9973958730697632 acc_line: 0.9947916865348816: 100%|██████████| 319/319 [00:14<00:00, 21.97it/s]        \n",
      "[TRAIN 100, 1] loss: 0.17890581488609314 loss_reg: 0.23126286268234253 loss_line: 0.12654875218868256 acc: 0.1640625 acc_reg: 0.1640625 acc_line: 0.1640625:   1%|          | 2/319 [00:00<00:17, 18.23it/s]"
     ]
    },
    {
     "name": "stdout",
     "output_type": "stream",
     "text": [
      "[VALIDATION 99] val_acc: 0.989634900990099 val_acc_reg: 0.9870049504950495 val_acc_line: 0.9922648514851485 \n"
     ]
    },
    {
     "name": "stderr",
     "output_type": "stream",
     "text": [
      "[TRAIN 100, 319] loss: 1.0591120719909668 loss_reg: 1.3719518184661865 loss_line: 0.7462723255157471 acc: 0.9986979365348816 acc_reg: 1.0 acc_line: 0.9973958730697632: 100%|██████████| 319/319 [00:14<00:00, 21.98it/s]               \n",
      "[TRAIN 101, 1] loss: 0.17630159854888916 loss_reg: 0.2286584973335266 loss_line: 0.12394469976425171 acc: 0.1666666716337204 acc_reg: 0.1666666716337204 acc_line: 0.1666666716337204:   1%|          | 3/319 [00:00<00:14, 21.46it/s]"
     ]
    },
    {
     "name": "stdout",
     "output_type": "stream",
     "text": [
      "[VALIDATION 100] val_acc: 0.9862314356435643 val_acc_reg: 0.9832920792079208 val_acc_line: 0.9891707920792079 \n"
     ]
    },
    {
     "name": "stderr",
     "output_type": "stream",
     "text": [
      "[TRAIN 101, 319] loss: 1.0627611875534058 loss_reg: 1.3791980743408203 loss_line: 0.7463240623474121 acc: 0.9947916865348816 acc_reg: 0.9921875 acc_line: 0.9973958730697632: 100%|██████████| 319/319 [00:14<00:00, 21.94it/s]         \n",
      "[TRAIN 102, 1] loss: 0.177667498588562 loss_reg: 0.2313443422317505 loss_line: 0.12399067729711533 acc: 0.1653645932674408 acc_reg: 0.1640625 acc_line: 0.1666666716337204:   1%|          | 3/319 [00:00<00:14, 22.12it/s]"
     ]
    },
    {
     "name": "stdout",
     "output_type": "stream",
     "text": [
      "[VALIDATION 101] val_acc: 0.9863087871287128 val_acc_reg: 0.9826732673267327 val_acc_line: 0.989944306930693 \n"
     ]
    },
    {
     "name": "stderr",
     "output_type": "stream",
     "text": [
      "[TRAIN 102, 319] loss: 1.0582008361816406 loss_reg: 1.372733473777771 loss_line: 0.743668258190155 acc: 1.0 acc_reg: 1.0 acc_line: 1.0: 100%|██████████| 319/319 [00:14<00:00, 21.90it/s]                                               \n",
      "[TRAIN 103, 1] loss: 0.17760401964187622 loss_reg: 0.2286584973335266 loss_line: 0.12654955685138702 acc: 0.1653645932674408 acc_reg: 0.1666666716337204 acc_line: 0.1640625:   1%|          | 2/319 [00:00<00:16, 19.78it/s]"
     ]
    },
    {
     "name": "stdout",
     "output_type": "stream",
     "text": [
      "[VALIDATION 102] val_acc: 0.9890934405940595 val_acc_reg: 0.9859220297029703 val_acc_line: 0.9922648514851485 \n"
     ]
    },
    {
     "name": "stderr",
     "output_type": "stream",
     "text": [
      "[TRAIN 103, 319] loss: 1.0671212673187256 loss_reg: 1.382218599319458 loss_line: 0.7520238161087036 acc: 0.9908854365348816 acc_reg: 0.9895833730697632 acc_line: 0.9921875: 100%|██████████| 319/319 [00:14<00:00, 21.81it/s]          \n",
      "[TRAIN 104, 1] loss: 0.1764618158340454 loss_reg: 0.2286587804555893 loss_line: 0.12426485121250153 acc: 0.1666666716337204 acc_reg: 0.1666666716337204 acc_line: 0.1666666716337204:   1%|          | 3/319 [00:00<00:14, 22.11it/s]"
     ]
    },
    {
     "name": "stdout",
     "output_type": "stream",
     "text": [
      "[VALIDATION 103] val_acc: 0.984065594059406 val_acc_reg: 0.9820544554455446 val_acc_line: 0.9860767326732673 \n"
     ]
    },
    {
     "name": "stderr",
     "output_type": "stream",
     "text": [
      "[TRAIN 104, 319] loss: 1.059112548828125 loss_reg: 1.3745564222335815 loss_line: 0.7436685562133789 acc: 0.9986979365348816 acc_reg: 0.9973958730697632 acc_line: 1.0: 100%|██████████| 319/319 [00:14<00:00, 21.88it/s]                \n",
      "[TRAIN 105, 1] loss: 0.17630159854888916 loss_reg: 0.2286584973335266 loss_line: 0.12394469976425171 acc: 0.1666666716337204 acc_reg: 0.1666666716337204 acc_line: 0.1666666716337204:   1%|          | 2/319 [00:00<00:16, 18.86it/s]"
     ]
    },
    {
     "name": "stdout",
     "output_type": "stream",
     "text": [
      "[VALIDATION 104] val_acc: 0.9880878712871287 val_acc_reg: 0.9859220297029703 val_acc_line: 0.9902537128712872 \n"
     ]
    },
    {
     "name": "stderr",
     "output_type": "stream",
     "text": [
      "[TRAIN 105, 319] loss: 1.0593054294586182 loss_reg: 1.3720035552978516 loss_line: 0.7466075420379639 acc: 0.9986979365348816 acc_reg: 1.0 acc_line: 0.9973958730697632: 100%|██████████| 319/319 [00:14<00:00, 21.89it/s]               \n",
      "[TRAIN 106, 1] loss: 0.17630940675735474 loss_reg: 0.2286585420370102 loss_line: 0.12396028637886047 acc: 0.1666666716337204 acc_reg: 0.1666666716337204 acc_line: 0.1666666716337204:   1%|          | 3/319 [00:00<00:14, 22.13it/s]"
     ]
    },
    {
     "name": "stdout",
     "output_type": "stream",
     "text": [
      "[VALIDATION 105] val_acc: 0.9883972772277227 val_acc_reg: 0.9857673267326733 val_acc_line: 0.9910272277227723 \n"
     ]
    },
    {
     "name": "stderr",
     "output_type": "stream",
     "text": [
      "[TRAIN 106, 319] loss: 1.060413122177124 loss_reg: 1.3745535612106323 loss_line: 0.7462725639343262 acc: 0.9973958730697632 acc_reg: 0.9973958730697632 acc_line: 0.9973958730697632: 100%|██████████| 319/319 [00:14<00:00, 21.85it/s] \n",
      "[TRAIN 107, 1] loss: 0.17630159854888916 loss_reg: 0.2286584973335266 loss_line: 0.12394469976425171 acc: 0.1666666716337204 acc_reg: 0.1666666716337204 acc_line: 0.1666666716337204:   1%|          | 2/319 [00:00<00:16, 19.06it/s]"
     ]
    },
    {
     "name": "stdout",
     "output_type": "stream",
     "text": [
      "[VALIDATION 106] val_acc: 0.9892481435643564 val_acc_reg: 0.9859220297029703 val_acc_line: 0.9925742574257426 \n"
     ]
    },
    {
     "name": "stderr",
     "output_type": "stream",
     "text": [
      "[TRAIN 107, 319] loss: 1.0610992908477783 loss_reg: 1.3759262561798096 loss_line: 0.7462722659111023 acc: 0.99609375 acc_reg: 0.9947916865348816 acc_line: 0.9973958730697632: 100%|██████████| 319/319 [00:14<00:00, 21.97it/s]        \n",
      "[TRAIN 108, 1] loss: 0.17660829424858093 loss_reg: 0.22927188873291016 loss_line: 0.12394469976425171 acc: 0.1666666716337204 acc_reg: 0.1666666716337204 acc_line: 0.1666666716337204:   1%|          | 2/319 [00:00<00:16, 19.45it/s]"
     ]
    },
    {
     "name": "stdout",
     "output_type": "stream",
     "text": [
      "[VALIDATION 107] val_acc: 0.9889387376237624 val_acc_reg: 0.9857673267326733 val_acc_line: 0.9921101485148515 \n"
     ]
    },
    {
     "name": "stderr",
     "output_type": "stream",
     "text": [
      "[TRAIN 108, 319] loss: 1.0591119527816772 loss_reg: 1.3745551109313965 loss_line: 0.7436686754226685 acc: 0.9986979365348816 acc_reg: 0.9973958730697632 acc_line: 1.0: 100%|██████████| 319/319 [00:14<00:00, 21.96it/s]              \n",
      "[TRAIN 109, 1] loss: 0.17630159854888916 loss_reg: 0.2286584973335266 loss_line: 0.12394469976425171 acc: 0.1666666716337204 acc_reg: 0.1666666716337204 acc_line: 0.1666666716337204:   1%|          | 3/319 [00:00<00:14, 21.90it/s]"
     ]
    },
    {
     "name": "stdout",
     "output_type": "stream",
     "text": [
      "[VALIDATION 108] val_acc: 0.9890160891089109 val_acc_reg: 0.9873143564356436 val_acc_line: 0.9907178217821783 \n"
     ]
    },
    {
     "name": "stderr",
     "output_type": "stream",
     "text": [
      "[TRAIN 109, 319] loss: 1.0592836141586304 loss_reg: 1.3719509840011597 loss_line: 0.7466160655021667 acc: 0.9986979365348816 acc_reg: 1.0 acc_line: 0.9973958730697632: 100%|██████████| 319/319 [00:14<00:00, 21.91it/s]               \n",
      "[TRAIN 110, 1] loss: 0.17630159854888916 loss_reg: 0.2286584973335266 loss_line: 0.12394469976425171 acc: 0.1666666716337204 acc_reg: 0.1666666716337204 acc_line: 0.1666666716337204:   1%|          | 3/319 [00:00<00:15, 20.70it/s]"
     ]
    },
    {
     "name": "stdout",
     "output_type": "stream",
     "text": [
      "[VALIDATION 109] val_acc: 0.9881652227722773 val_acc_reg: 0.9854579207920792 val_acc_line: 0.9908725247524752 \n"
     ]
    },
    {
     "name": "stderr",
     "output_type": "stream",
     "text": [
      "[TRAIN 110, 319] loss: 1.0696110725402832 loss_reg: 1.3852083683013916 loss_line: 0.7540139555931091 acc: 0.98828125 acc_reg: 0.9869791865348816 acc_line: 0.9895833730697632: 100%|██████████| 319/319 [00:14<00:00, 21.93it/s]        \n",
      "[TRAIN 111, 1] loss: 0.17756721377372742 loss_reg: 0.22866791486740112 loss_line: 0.12646648287773132 acc: 0.1653645932674408 acc_reg: 0.1666666716337204 acc_line: 0.1640625:   1%|          | 2/319 [00:00<00:16, 18.99it/s]"
     ]
    },
    {
     "name": "stdout",
     "output_type": "stream",
     "text": [
      "[VALIDATION 110] val_acc: 0.9850711633663366 val_acc_reg: 0.978805693069307 val_acc_line: 0.9913366336633663 \n"
     ]
    },
    {
     "name": "stderr",
     "output_type": "stream",
     "text": [
      "[TRAIN 111, 319] loss: 1.0604803562164307 loss_reg: 1.3745553493499756 loss_line: 0.746405303478241 acc: 0.9973958730697632 acc_reg: 0.9973958730697632 acc_line: 0.9973958730697632: 100%|██████████| 319/319 [00:14<00:00, 21.87it/s] \n",
      "[TRAIN 112, 1] loss: 0.1763055920600891 loss_reg: 0.2286601960659027 loss_line: 0.1239510104060173 acc: 0.1666666716337204 acc_reg: 0.1666666716337204 acc_line: 0.1666666716337204:   1%|          | 3/319 [00:00<00:15, 20.74it/s]"
     ]
    },
    {
     "name": "stdout",
     "output_type": "stream",
     "text": [
      "[VALIDATION 111] val_acc: 0.9863861386138614 val_acc_reg: 0.984065594059406 val_acc_line: 0.9887066831683168 \n"
     ]
    },
    {
     "name": "stderr",
     "output_type": "stream",
     "text": [
      "[TRAIN 112, 319] loss: 1.0591189861297607 loss_reg: 1.3745697736740112 loss_line: 0.7436681985855103 acc: 0.9986979365348816 acc_reg: 0.9973958730697632 acc_line: 1.0: 100%|██████████| 319/319 [00:14<00:00, 21.90it/s]               \n",
      "[TRAIN 113, 1] loss: 0.17760369181632996 loss_reg: 0.231262668967247 loss_line: 0.12394469976425171 acc: 0.1653645932674408 acc_reg: 0.1640625 acc_line: 0.1666666716337204:   1%|          | 3/319 [00:00<00:15, 20.71it/s]"
     ]
    },
    {
     "name": "stdout",
     "output_type": "stream",
     "text": [
      "[VALIDATION 112] val_acc: 0.9887066831683168 val_acc_reg: 0.9859220297029703 val_acc_line: 0.9914913366336634 \n"
     ]
    },
    {
     "name": "stderr",
     "output_type": "stream",
     "text": [
      "[TRAIN 113, 319] loss: 1.0604127645492554 loss_reg: 1.3745551109313965 loss_line: 0.7462703585624695 acc: 0.9973958730697632 acc_reg: 0.9973958730697632 acc_line: 0.9973958730697632: 100%|██████████| 319/319 [00:14<00:00, 21.84it/s]\n",
      "[TRAIN 114, 1] loss: 0.17630164325237274 loss_reg: 0.2286585569381714 loss_line: 0.12394469976425171 acc: 0.1666666716337204 acc_reg: 0.1666666716337204 acc_line: 0.1666666716337204:   1%|          | 2/319 [00:00<00:16, 18.74it/s]"
     ]
    },
    {
     "name": "stdout",
     "output_type": "stream",
     "text": [
      "[VALIDATION 113] val_acc: 0.9888613861386139 val_acc_reg: 0.9866955445544554 val_acc_line: 0.9910272277227723 \n"
     ]
    },
    {
     "name": "stderr",
     "output_type": "stream",
     "text": [
      "[TRAIN 114, 319] loss: 1.0578616857528687 loss_reg: 1.3720550537109375 loss_line: 0.7436681985855103 acc: 1.0 acc_reg: 1.0 acc_line: 1.0: 100%|██████████| 319/319 [00:14<00:00, 21.96it/s]                                             \n",
      "[TRAIN 115, 1] loss: 0.17630159854888916 loss_reg: 0.2286584973335266 loss_line: 0.12394469976425171 acc: 0.1666666716337204 acc_reg: 0.1666666716337204 acc_line: 0.1666666716337204:   1%|          | 3/319 [00:00<00:15, 20.91it/s]"
     ]
    },
    {
     "name": "stdout",
     "output_type": "stream",
     "text": [
      "[VALIDATION 114] val_acc: 0.9878558168316832 val_acc_reg: 0.9842202970297029 val_acc_line: 0.9914913366336634 \n"
     ]
    },
    {
     "name": "stderr",
     "output_type": "stream",
     "text": [
      "[TRAIN 115, 319] loss: 1.060318946838379 loss_reg: 1.3743653297424316 loss_line: 0.7462724447250366 acc: 0.9973958730697632 acc_reg: 0.9973958730697632 acc_line: 0.9973958730697632: 100%|██████████| 319/319 [00:14<00:00, 21.88it/s] \n",
      "[TRAIN 116, 1] loss: 0.1763017177581787 loss_reg: 0.2286584973335266 loss_line: 0.123944953083992 acc: 0.1666666716337204 acc_reg: 0.1666666716337204 acc_line: 0.1666666716337204:   1%|          | 2/319 [00:00<00:16, 18.68it/s]"
     ]
    },
    {
     "name": "stdout",
     "output_type": "stream",
     "text": [
      "[VALIDATION 115] val_acc: 0.9880105198019802 val_acc_reg: 0.984684405940594 val_acc_line: 0.9913366336633663 \n"
     ]
    },
    {
     "name": "stderr",
     "output_type": "stream",
     "text": [
      "[TRAIN 116, 319] loss: 1.061812162399292 loss_reg: 1.3797329664230347 loss_line: 0.7438914179801941 acc: 0.99609375 acc_reg: 0.9921875 acc_line: 1.0: 100%|██████████| 319/319 [00:14<00:00, 22.00it/s]                                 \n",
      "[TRAIN 117, 1] loss: 0.1776033341884613 loss_reg: 0.2312619537115097 loss_line: 0.12394469976425171 acc: 0.1653645932674408 acc_reg: 0.1640625 acc_line: 0.1666666716337204:   1%|          | 3/319 [00:00<00:16, 19.43it/s]"
     ]
    },
    {
     "name": "stdout",
     "output_type": "stream",
     "text": [
      "[VALIDATION 116] val_acc: 0.9900990099009901 val_acc_reg: 0.9876237623762376 val_acc_line: 0.9925742574257426 \n"
     ]
    },
    {
     "name": "stderr",
     "output_type": "stream",
     "text": [
      "[TRAIN 117, 319] loss: 1.0578135251998901 loss_reg: 1.3719509840011597 loss_line: 0.743675947189331 acc: 1.0 acc_reg: 1.0 acc_line: 1.0: 100%|██████████| 319/319 [00:14<00:00, 22.01it/s]                                              \n",
      "[TRAIN 118, 1] loss: 0.1769905984401703 loss_reg: 0.23003648221492767 loss_line: 0.12394469976425171 acc: 0.1653645932674408 acc_reg: 0.1640625 acc_line: 0.1666666716337204:   1%|          | 3/319 [00:00<00:14, 22.50it/s]"
     ]
    },
    {
     "name": "stdout",
     "output_type": "stream",
     "text": [
      "[VALIDATION 117] val_acc: 0.9891707920792079 val_acc_reg: 0.9880878712871287 val_acc_line: 0.9902537128712872 \n"
     ]
    },
    {
     "name": "stderr",
     "output_type": "stream",
     "text": [
      "[TRAIN 118, 319] loss: 1.0591404438018799 loss_reg: 1.3719816207885742 loss_line: 0.7462992072105408 acc: 0.9986979365348816 acc_reg: 1.0 acc_line: 0.9973958730697632: 100%|██████████| 319/319 [00:14<00:00, 22.03it/s]               \n",
      "[TRAIN 119, 1] loss: 0.1785791516304016 loss_reg: 0.23060940206050873 loss_line: 0.1265489012002945 acc: 0.1640625 acc_reg: 0.1640625 acc_line: 0.1640625:   1%|          | 3/319 [00:00<00:13, 23.18it/s]"
     ]
    },
    {
     "name": "stdout",
     "output_type": "stream",
     "text": [
      "[VALIDATION 118] val_acc: 0.9884746287128713 val_acc_reg: 0.9859220297029703 val_acc_line: 0.9910272277227723 \n"
     ]
    },
    {
     "name": "stderr",
     "output_type": "stream",
     "text": [
      "[TRAIN 119, 319] loss: 1.0630111694335938 loss_reg: 1.3771594762802124 loss_line: 0.7488631010055542 acc: 0.9947916865348816 acc_reg: 0.9947916865348816 acc_line: 0.9947916865348816: 100%|██████████| 319/319 [00:14<00:00, 21.84it/s]\n",
      "[TRAIN 120, 1] loss: 0.17630168795585632 loss_reg: 0.22865861654281616 loss_line: 0.12394475936889648 acc: 0.1666666716337204 acc_reg: 0.1666666716337204 acc_line: 0.1666666716337204:   1%|          | 3/319 [00:00<00:14, 21.64it/s]"
     ]
    },
    {
     "name": "stdout",
     "output_type": "stream",
     "text": [
      "[VALIDATION 119] val_acc: 0.9873143564356436 val_acc_reg: 0.984065594059406 val_acc_line: 0.9905631188118812 \n"
     ]
    },
    {
     "name": "stderr",
     "output_type": "stream",
     "text": [
      "[TRAIN 120, 319] loss: 1.0580098628997803 loss_reg: 1.3719596862792969 loss_line: 0.7440601587295532 acc: 1.0 acc_reg: 1.0 acc_line: 1.0: 100%|██████████| 319/319 [00:14<00:00, 21.75it/s]                                             \n",
      "[TRAIN 121, 1] loss: 0.17760369181632996 loss_reg: 0.231262668967247 loss_line: 0.12394469976425171 acc: 0.1653645932674408 acc_reg: 0.1640625 acc_line: 0.1666666716337204:   1%|          | 2/319 [00:00<00:16, 19.47it/s]"
     ]
    },
    {
     "name": "stdout",
     "output_type": "stream",
     "text": [
      "[VALIDATION 120] val_acc: 0.9884746287128713 val_acc_reg: 0.9842202970297029 val_acc_line: 0.9927289603960396 \n"
     ]
    },
    {
     "name": "stderr",
     "output_type": "stream",
     "text": [
      "[TRAIN 121, 319] loss: 1.0578097105026245 loss_reg: 1.3719509840011597 loss_line: 0.7436681985855103 acc: 1.0 acc_reg: 1.0 acc_line: 1.0: 100%|██████████| 319/319 [00:14<00:00, 21.83it/s]                                             \n",
      "[TRAIN 122, 1] loss: 0.17630159854888916 loss_reg: 0.2286584973335266 loss_line: 0.12394469976425171 acc: 0.1666666716337204 acc_reg: 0.1666666716337204 acc_line: 0.1666666716337204:   1%|          | 2/319 [00:00<00:16, 19.48it/s]"
     ]
    },
    {
     "name": "stdout",
     "output_type": "stream",
     "text": [
      "[VALIDATION 121] val_acc: 0.9877784653465347 val_acc_reg: 0.9839108910891089 val_acc_line: 0.9916460396039604 \n"
     ]
    },
    {
     "name": "stderr",
     "output_type": "stream",
     "text": [
      "[TRAIN 122, 319] loss: 1.0578097105026245 loss_reg: 1.3719509840011597 loss_line: 0.743668258190155 acc: 1.0 acc_reg: 1.0 acc_line: 1.0: 100%|██████████| 319/319 [00:14<00:00, 21.92it/s]                                              \n",
      "[TRAIN 123, 1] loss: 0.17760369181632996 loss_reg: 0.2286584973335266 loss_line: 0.1265488713979721 acc: 0.1653645932674408 acc_reg: 0.1666666716337204 acc_line: 0.1640625:   1%|          | 3/319 [00:00<00:14, 21.33it/s]"
     ]
    },
    {
     "name": "stdout",
     "output_type": "stream",
     "text": [
      "[VALIDATION 122] val_acc: 0.9874690594059405 val_acc_reg: 0.984684405940594 val_acc_line: 0.9902537128712872 \n"
     ]
    },
    {
     "name": "stderr",
     "output_type": "stream",
     "text": [
      "[TRAIN 123, 319] loss: 1.059112787246704 loss_reg: 1.3719528913497925 loss_line: 0.7462724447250366 acc: 0.9986979365348816 acc_reg: 1.0 acc_line: 0.9973958730697632: 100%|██████████| 319/319 [00:14<00:00, 21.85it/s]                \n",
      "[TRAIN 124, 1] loss: 0.17630159854888916 loss_reg: 0.2286584973335266 loss_line: 0.12394469976425171 acc: 0.1666666716337204 acc_reg: 0.1666666716337204 acc_line: 0.1666666716337204:   1%|          | 3/319 [00:00<00:14, 21.72it/s]"
     ]
    },
    {
     "name": "stdout",
     "output_type": "stream",
     "text": [
      "[VALIDATION 123] val_acc: 0.9884746287128713 val_acc_reg: 0.9874690594059405 val_acc_line: 0.989480198019802 \n"
     ]
    },
    {
     "name": "stderr",
     "output_type": "stream",
     "text": [
      "[TRAIN 124, 319] loss: 1.058058738708496 loss_reg: 1.372449278831482 loss_line: 0.7436681985855103 acc: 1.0 acc_reg: 1.0 acc_line: 1.0: 100%|██████████| 319/319 [00:14<00:00, 21.85it/s]                                               \n",
      "[TRAIN 125, 1] loss: 0.17630159854888916 loss_reg: 0.2286584973335266 loss_line: 0.12394469976425171 acc: 0.1666666716337204 acc_reg: 0.1666666716337204 acc_line: 0.1666666716337204:   1%|          | 3/319 [00:00<00:15, 20.99it/s]"
     ]
    },
    {
     "name": "stdout",
     "output_type": "stream",
     "text": [
      "[VALIDATION 124] val_acc: 0.9879331683168316 val_acc_reg: 0.9848391089108911 val_acc_line: 0.9910272277227723 \n"
     ]
    },
    {
     "name": "stderr",
     "output_type": "stream",
     "text": [
      "[TRAIN 125, 319] loss: 1.0591275691986084 loss_reg: 1.374586582183838 loss_line: 0.743668258190155 acc: 0.9986979365348816 acc_reg: 0.9973958730697632 acc_line: 1.0: 100%|██████████| 319/319 [00:14<00:00, 21.87it/s]                 \n",
      "[TRAIN 126, 1] loss: 0.17630159854888916 loss_reg: 0.2286584973335266 loss_line: 0.1239447146654129 acc: 0.1666666716337204 acc_reg: 0.1666666716337204 acc_line: 0.1666666716337204:   1%|          | 3/319 [00:00<00:15, 21.06it/s]"
     ]
    },
    {
     "name": "stdout",
     "output_type": "stream",
     "text": [
      "[VALIDATION 125] val_acc: 0.9887066831683168 val_acc_reg: 0.9851485148514851 val_acc_line: 0.9922648514851485 \n"
     ]
    },
    {
     "name": "stderr",
     "output_type": "stream",
     "text": [
      "[TRAIN 126, 319] loss: 1.0628113746643066 loss_reg: 1.377159595489502 loss_line: 0.7484632730484009 acc: 0.9947916865348816 acc_reg: 0.9947916865348816 acc_line: 0.9947916865348816: 100%|██████████| 319/319 [00:14<00:00, 21.88it/s] \n",
      "[TRAIN 127, 1] loss: 0.17630472779273987 loss_reg: 0.2286584973335266 loss_line: 0.12395095080137253 acc: 0.1666666716337204 acc_reg: 0.1666666716337204 acc_line: 0.1666666716337204:   1%|          | 3/319 [00:00<00:14, 21.35it/s]"
     ]
    },
    {
     "name": "stdout",
     "output_type": "stream",
     "text": [
      "[VALIDATION 126] val_acc: 0.9881652227722773 val_acc_reg: 0.9859220297029703 val_acc_line: 0.9904084158415841 \n"
     ]
    },
    {
     "name": "stderr",
     "output_type": "stream",
     "text": [
      "[TRAIN 127, 319] loss: 1.0612928867340088 loss_reg: 1.3789175748825073 loss_line: 0.7436681985855103 acc: 0.9973958730697632 acc_reg: 0.9947916865348816 acc_line: 1.0: 100%|██████████| 319/319 [00:14<00:00, 22.07it/s]               \n",
      "[TRAIN 128, 1] loss: 0.17630159854888916 loss_reg: 0.2286584973335266 loss_line: 0.12394469976425171 acc: 0.1666666716337204 acc_reg: 0.1666666716337204 acc_line: 0.1666666716337204:   1%|          | 2/319 [00:00<00:18, 17.23it/s]"
     ]
    },
    {
     "name": "stdout",
     "output_type": "stream",
     "text": [
      "[VALIDATION 127] val_acc: 0.9884746287128713 val_acc_reg: 0.984375 val_acc_line: 0.9925742574257426 \n"
     ]
    },
    {
     "name": "stderr",
     "output_type": "stream",
     "text": [
      "[TRAIN 128, 319] loss: 1.063125491142273 loss_reg: 1.374595046043396 loss_line: 0.7516558170318604 acc: 0.9947916865348816 acc_reg: 0.9973958730697632 acc_line: 0.9921875: 100%|██████████| 319/319 [00:14<00:00, 22.09it/s]           \n",
      "[TRAIN 129, 1] loss: 0.17630159854888916 loss_reg: 0.2286584973335266 loss_line: 0.12394469976425171 acc: 0.1666666716337204 acc_reg: 0.1666666716337204 acc_line: 0.1666666716337204:   1%|          | 3/319 [00:00<00:14, 22.01it/s]"
     ]
    },
    {
     "name": "stdout",
     "output_type": "stream",
     "text": [
      "[VALIDATION 128] val_acc: 0.9897896039603961 val_acc_reg: 0.9865408415841584 val_acc_line: 0.9930383663366337 \n"
     ]
    },
    {
     "name": "stderr",
     "output_type": "stream",
     "text": [
      "[TRAIN 129, 319] loss: 1.0604174137115479 loss_reg: 1.3745592832565308 loss_line: 0.7462754249572754 acc: 0.9973958730697632 acc_reg: 0.9973958730697632 acc_line: 0.9973958730697632: 100%|██████████| 319/319 [00:14<00:00, 22.05it/s]\n",
      "[TRAIN 130, 1] loss: 0.1767524927854538 loss_reg: 0.2295602560043335 loss_line: 0.1239447221159935 acc: 0.1666666716337204 acc_reg: 0.1666666716337204 acc_line: 0.1666666716337204:   1%|          | 3/319 [00:00<00:14, 21.95it/s]"
     ]
    },
    {
     "name": "stdout",
     "output_type": "stream",
     "text": [
      "[VALIDATION 129] val_acc: 0.9898669554455446 val_acc_reg: 0.9866955445544554 val_acc_line: 0.9930383663366337 \n"
     ]
    },
    {
     "name": "stderr",
     "output_type": "stream",
     "text": [
      "[TRAIN 130, 319] loss: 1.0591124296188354 loss_reg: 1.3719509840011597 loss_line: 0.7462736964225769 acc: 0.9986979365348816 acc_reg: 1.0 acc_line: 0.9973958730697632: 100%|██████████| 319/319 [00:14<00:00, 21.93it/s]               \n",
      "[TRAIN 131, 1] loss: 0.17630159854888916 loss_reg: 0.2286584973335266 loss_line: 0.12394469976425171 acc: 0.1666666716337204 acc_reg: 0.1666666716337204 acc_line: 0.1666666716337204:   1%|          | 3/319 [00:00<00:14, 21.89it/s]"
     ]
    },
    {
     "name": "stdout",
     "output_type": "stream",
     "text": [
      "[VALIDATION 130] val_acc: 0.9907951732673267 val_acc_reg: 0.989944306930693 val_acc_line: 0.9916460396039604 \n"
     ]
    },
    {
     "name": "stderr",
     "output_type": "stream",
     "text": [
      "[TRAIN 131, 319] loss: 1.0602538585662842 loss_reg: 1.3751401901245117 loss_line: 0.7453677654266357 acc: 0.9973958730697632 acc_reg: 0.9973958730697632 acc_line: 0.9973958730697632: 100%|██████████| 319/319 [00:14<00:00, 22.06it/s]\n",
      "[TRAIN 132, 1] loss: 0.17630162835121155 loss_reg: 0.2286584973335266 loss_line: 0.12394475191831589 acc: 0.1666666716337204 acc_reg: 0.1666666716337204 acc_line: 0.1666666716337204:   1%|          | 2/319 [00:00<00:15, 19.84it/s]"
     ]
    },
    {
     "name": "stdout",
     "output_type": "stream",
     "text": [
      "[VALIDATION 131] val_acc: 0.9904857673267327 val_acc_reg: 0.989480198019802 val_acc_line: 0.9914913366336634 \n"
     ]
    },
    {
     "name": "stderr",
     "output_type": "stream",
     "text": [
      "[TRAIN 132, 319] loss: 1.057809829711914 loss_reg: 1.3719511032104492 loss_line: 0.7436687350273132 acc: 1.0 acc_reg: 1.0 acc_line: 1.0: 100%|██████████| 319/319 [00:14<00:00, 22.05it/s]                                              \n",
      "[TRAIN 133, 1] loss: 0.17630159854888916 loss_reg: 0.2286584973335266 loss_line: 0.12394469976425171 acc: 0.1666666716337204 acc_reg: 0.1666666716337204 acc_line: 0.1666666716337204:   1%|          | 2/319 [00:00<00:16, 19.10it/s]"
     ]
    },
    {
     "name": "stdout",
     "output_type": "stream",
     "text": [
      "[VALIDATION 132] val_acc: 0.9873917079207921 val_acc_reg: 0.9837561881188119 val_acc_line: 0.9910272277227723 \n"
     ]
    },
    {
     "name": "stderr",
     "output_type": "stream",
     "text": [
      "[TRAIN 133, 319] loss: 1.0598386526107788 loss_reg: 1.3747037649154663 loss_line: 0.744973361492157 acc: 0.9973958730697632 acc_reg: 0.9973958730697632 acc_line: 0.9973958730697632: 100%|██████████| 319/319 [00:14<00:00, 21.94it/s] \n",
      "[TRAIN 134, 1] loss: 0.17760369181632996 loss_reg: 0.228658527135849 loss_line: 0.1265488713979721 acc: 0.1653645932674408 acc_reg: 0.1666666716337204 acc_line: 0.1640625:   1%|          | 2/319 [00:00<00:17, 17.95it/s]"
     ]
    },
    {
     "name": "stdout",
     "output_type": "stream",
     "text": [
      "[VALIDATION 133] val_acc: 0.9888613861386139 val_acc_reg: 0.9859220297029703 val_acc_line: 0.9918007425742574 \n"
     ]
    },
    {
     "name": "stderr",
     "output_type": "stream",
     "text": [
      "[TRAIN 134, 319] loss: 1.0603440999984741 loss_reg: 1.3770201206207275 loss_line: 0.7436681985855103 acc: 0.9973958730697632 acc_reg: 0.9947916865348816 acc_line: 1.0: 100%|██████████| 319/319 [00:14<00:00, 21.93it/s]               \n",
      "[TRAIN 135, 1] loss: 0.17760328948497772 loss_reg: 0.23126187920570374 loss_line: 0.12394469976425171 acc: 0.1653645932674408 acc_reg: 0.1640625 acc_line: 0.1666666716337204:   1%|          | 3/319 [00:00<00:15, 20.73it/s]"
     ]
    },
    {
     "name": "stdout",
     "output_type": "stream",
     "text": [
      "[VALIDATION 134] val_acc: 0.9904084158415841 val_acc_reg: 0.9879331683168316 val_acc_line: 0.9928836633663366 \n"
     ]
    },
    {
     "name": "stderr",
     "output_type": "stream",
     "text": [
      "[TRAIN 135, 319] loss: 1.0626853704452515 loss_reg: 1.3738964796066284 loss_line: 0.7514742612838745 acc: 0.9947916865348816 acc_reg: 0.9973958730697632 acc_line: 0.9921875: 100%|██████████| 319/319 [00:14<00:00, 21.97it/s]         \n",
      "[TRAIN 136, 1] loss: 0.17630159854888916 loss_reg: 0.2286584973335266 loss_line: 0.12394469976425171 acc: 0.1666666716337204 acc_reg: 0.1666666716337204 acc_line: 0.1666666716337204:   1%|          | 3/319 [00:00<00:14, 21.42it/s]"
     ]
    },
    {
     "name": "stdout",
     "output_type": "stream",
     "text": [
      "[VALIDATION 135] val_acc: 0.9898669554455446 val_acc_reg: 0.9882425742574258 val_acc_line: 0.9914913366336634 \n"
     ]
    },
    {
     "name": "stderr",
     "output_type": "stream",
     "text": [
      "[TRAIN 136, 319] loss: 1.059324026107788 loss_reg: 1.3720855712890625 loss_line: 0.7465622425079346 acc: 0.9986979365348816 acc_reg: 1.0 acc_line: 0.9973958730697632: 100%|██████████| 319/319 [00:14<00:00, 21.89it/s]                \n",
      "[TRAIN 137, 1] loss: 0.17630159854888916 loss_reg: 0.2286584973335266 loss_line: 0.12394469976425171 acc: 0.1666666716337204 acc_reg: 0.1666666716337204 acc_line: 0.1666666716337204:   1%|          | 3/319 [00:00<00:15, 20.94it/s]"
     ]
    },
    {
     "name": "stdout",
     "output_type": "stream",
     "text": [
      "[VALIDATION 136] val_acc: 0.9890160891089109 val_acc_reg: 0.9863861386138614 val_acc_line: 0.9916460396039604 \n"
     ]
    },
    {
     "name": "stderr",
     "output_type": "stream",
     "text": [
      "[TRAIN 137, 319] loss: 1.0583776235580444 loss_reg: 1.371953010559082 loss_line: 0.7448021769523621 acc: 1.0 acc_reg: 1.0 acc_line: 1.0: 100%|██████████| 319/319 [00:14<00:00, 22.05it/s]                                              \n",
      "[TRAIN 138, 1] loss: 0.17630159854888916 loss_reg: 0.2286584973335266 loss_line: 0.12394469976425171 acc: 0.1666666716337204 acc_reg: 0.1666666716337204 acc_line: 0.1666666716337204:   1%|          | 2/319 [00:00<00:16, 18.76it/s]"
     ]
    },
    {
     "name": "stdout",
     "output_type": "stream",
     "text": [
      "[VALIDATION 137] val_acc: 0.9894028465346535 val_acc_reg: 0.9870049504950495 val_acc_line: 0.9918007425742574 \n"
     ]
    },
    {
     "name": "stderr",
     "output_type": "stream",
     "text": [
      "[TRAIN 138, 319] loss: 1.0630154609680176 loss_reg: 1.3771593570709229 loss_line: 0.7488717436790466 acc: 0.9947916865348816 acc_reg: 0.9947916865348816 acc_line: 0.9947916865348816: 100%|██████████| 319/319 [00:14<00:00, 22.01it/s]\n",
      "[TRAIN 139, 1] loss: 0.17630162835121155 loss_reg: 0.228658527135849 loss_line: 0.1239447146654129 acc: 0.1666666716337204 acc_reg: 0.1666666716337204 acc_line: 0.1666666716337204:   1%|          | 3/319 [00:00<00:14, 21.25it/s]"
     ]
    },
    {
     "name": "stdout",
     "output_type": "stream",
     "text": [
      "[VALIDATION 138] val_acc: 0.9883972772277227 val_acc_reg: 0.9868502475247525 val_acc_line: 0.989944306930693 \n"
     ]
    },
    {
     "name": "stderr",
     "output_type": "stream",
     "text": [
      "[TRAIN 139, 319] loss: 1.0617769956588745 loss_reg: 1.377281904220581 loss_line: 0.7462723255157471 acc: 0.99609375 acc_reg: 0.9947916865348816 acc_line: 0.9973958730697632: 100%|██████████| 319/319 [00:14<00:00, 21.99it/s]         \n",
      "[TRAIN 140, 1] loss: 0.17760369181632996 loss_reg: 0.2312626838684082 loss_line: 0.12394469976425171 acc: 0.1653645932674408 acc_reg: 0.1640625 acc_line: 0.1666666716337204:   1%|          | 2/319 [00:00<00:16, 18.66it/s]"
     ]
    },
    {
     "name": "stdout",
     "output_type": "stream",
     "text": [
      "[VALIDATION 139] val_acc: 0.9897122524752475 val_acc_reg: 0.9879331683168316 val_acc_line: 0.9914913366336634 \n"
     ]
    },
    {
     "name": "stderr",
     "output_type": "stream",
     "text": [
      "[TRAIN 140, 319] loss: 1.0637325048446655 loss_reg: 1.3795056343078613 loss_line: 0.7479591369628906 acc: 0.9934896230697632 acc_reg: 0.9921875 acc_line: 0.9947916865348816: 100%|██████████| 319/319 [00:14<00:00, 21.94it/s]         \n",
      "[TRAIN 141, 1] loss: 0.17630159854888916 loss_reg: 0.2286584973335266 loss_line: 0.12394469976425171 acc: 0.1666666716337204 acc_reg: 0.1666666716337204 acc_line: 0.1666666716337204:   1%|          | 2/319 [00:00<00:17, 17.77it/s]"
     ]
    },
    {
     "name": "stdout",
     "output_type": "stream",
     "text": [
      "[VALIDATION 140] val_acc: 0.9862314356435643 val_acc_reg: 0.9837561881188119 val_acc_line: 0.9887066831683168 \n"
     ]
    },
    {
     "name": "stderr",
     "output_type": "stream",
     "text": [
      "[TRAIN 141, 319] loss: 1.0592353343963623 loss_reg: 1.3719511032104492 loss_line: 0.7465194463729858 acc: 0.9986979365348816 acc_reg: 1.0 acc_line: 0.9973958730697632: 100%|██████████| 319/319 [00:14<00:00, 21.92it/s]               \n",
      "[TRAIN 142, 1] loss: 0.17630168795585632 loss_reg: 0.2286584973335266 loss_line: 0.12394487857818604 acc: 0.1666666716337204 acc_reg: 0.1666666716337204 acc_line: 0.1666666716337204:   1%|          | 2/319 [00:00<00:17, 18.17it/s]"
     ]
    },
    {
     "name": "stdout",
     "output_type": "stream",
     "text": [
      "[VALIDATION 141] val_acc: 0.9889387376237624 val_acc_reg: 0.9859220297029703 val_acc_line: 0.9919554455445545 \n"
     ]
    },
    {
     "name": "stderr",
     "output_type": "stream",
     "text": [
      "[TRAIN 142, 319] loss: 1.0578129291534424 loss_reg: 1.3719570636749268 loss_line: 0.7436684966087341 acc: 1.0 acc_reg: 1.0 acc_line: 1.0: 100%|██████████| 319/319 [00:14<00:00, 21.93it/s]                                             \n",
      "[TRAIN 143, 1] loss: 0.17630159854888916 loss_reg: 0.2286584973335266 loss_line: 0.12394469976425171 acc: 0.1666666716337204 acc_reg: 0.1666666716337204 acc_line: 0.1666666716337204:   1%|          | 2/319 [00:00<00:16, 19.71it/s]"
     ]
    },
    {
     "name": "stdout",
     "output_type": "stream",
     "text": [
      "[VALIDATION 142] val_acc: 0.9886293316831684 val_acc_reg: 0.9862314356435643 val_acc_line: 0.9910272277227723 \n"
     ]
    },
    {
     "name": "stderr",
     "output_type": "stream",
     "text": [
      "[TRAIN 143, 319] loss: 1.0602325201034546 loss_reg: 1.3728363513946533 loss_line: 0.7476286888122559 acc: 0.9973958730697632 acc_reg: 1.0 acc_line: 0.9947916865348816: 100%|██████████| 319/319 [00:14<00:00, 21.82it/s]               \n",
      "[TRAIN 144, 1] loss: 0.17630159854888916 loss_reg: 0.2286584973335266 loss_line: 0.12394469976425171 acc: 0.1666666716337204 acc_reg: 0.1666666716337204 acc_line: 0.1666666716337204:   1%|          | 2/319 [00:00<00:15, 19.96it/s]"
     ]
    },
    {
     "name": "stdout",
     "output_type": "stream",
     "text": [
      "[VALIDATION 143] val_acc: 0.9861540841584159 val_acc_reg: 0.9823638613861386 val_acc_line: 0.989944306930693 \n"
     ]
    },
    {
     "name": "stderr",
     "output_type": "stream",
     "text": [
      "[TRAIN 144, 319] loss: 1.0578386783599854 loss_reg: 1.3719509840011597 loss_line: 0.7437261343002319 acc: 1.0 acc_reg: 1.0 acc_line: 1.0: 100%|██████████| 319/319 [00:14<00:00, 21.76it/s]                                             \n",
      "[TRAIN 145, 1] loss: 0.17630159854888916 loss_reg: 0.2286584973335266 loss_line: 0.12394469976425171 acc: 0.1666666716337204 acc_reg: 0.1666666716337204 acc_line: 0.1666666716337204:   1%|          | 2/319 [00:00<00:16, 19.23it/s]"
     ]
    },
    {
     "name": "stdout",
     "output_type": "stream",
     "text": [
      "[VALIDATION 144] val_acc: 0.9880105198019802 val_acc_reg: 0.9849938118811881 val_acc_line: 0.9910272277227723 \n"
     ]
    },
    {
     "name": "stderr",
     "output_type": "stream",
     "text": [
      "[TRAIN 145, 319] loss: 1.061715006828308 loss_reg: 1.3771575689315796 loss_line: 0.7462723255157471 acc: 0.99609375 acc_reg: 0.9947916865348816 acc_line: 0.9973958730697632: 100%|██████████| 319/319 [00:14<00:00, 21.84it/s]         \n",
      "[TRAIN 146, 1] loss: 0.17630159854888916 loss_reg: 0.2286584973335266 loss_line: 0.12394469976425171 acc: 0.1666666716337204 acc_reg: 0.1666666716337204 acc_line: 0.1666666716337204:   1%|          | 3/319 [00:00<00:15, 21.01it/s]"
     ]
    },
    {
     "name": "stdout",
     "output_type": "stream",
     "text": [
      "[VALIDATION 145] val_acc: 0.9903310643564357 val_acc_reg: 0.9874690594059405 val_acc_line: 0.9931930693069307 \n"
     ]
    },
    {
     "name": "stderr",
     "output_type": "stream",
     "text": [
      "[TRAIN 146, 319] loss: 1.0603240728378296 loss_reg: 1.3719992637634277 loss_line: 0.7486488223075867 acc: 0.9973958730697632 acc_reg: 1.0 acc_line: 0.9947916865348816: 100%|██████████| 319/319 [00:14<00:00, 21.78it/s]               \n",
      "[TRAIN 147, 1] loss: 0.17630159854888916 loss_reg: 0.2286584973335266 loss_line: 0.12394469976425171 acc: 0.1666666716337204 acc_reg: 0.1666666716337204 acc_line: 0.1666666716337204:   1%|          | 2/319 [00:00<00:16, 18.73it/s]"
     ]
    },
    {
     "name": "stdout",
     "output_type": "stream",
     "text": [
      "[VALIDATION 146] val_acc: 0.9892481435643564 val_acc_reg: 0.9863861386138614 val_acc_line: 0.9921101485148515 \n"
     ]
    },
    {
     "name": "stderr",
     "output_type": "stream",
     "text": [
      "[TRAIN 147, 319] loss: 1.0603697299957275 loss_reg: 1.3719518184661865 loss_line: 0.748787522315979 acc: 0.9973958730697632 acc_reg: 1.0 acc_line: 0.9947916865348816: 100%|██████████| 319/319 [00:14<00:00, 21.74it/s]                \n",
      "[TRAIN 148, 1] loss: 0.17630159854888916 loss_reg: 0.2286584973335266 loss_line: 0.12394469976425171 acc: 0.1666666716337204 acc_reg: 0.1666666716337204 acc_line: 0.1666666716337204:   1%|          | 2/319 [00:00<00:15, 19.96it/s]"
     ]
    },
    {
     "name": "stdout",
     "output_type": "stream",
     "text": [
      "[VALIDATION 147] val_acc: 0.9891707920792079 val_acc_reg: 0.9868502475247525 val_acc_line: 0.9914913366336634 \n"
     ]
    },
    {
     "name": "stderr",
     "output_type": "stream",
     "text": [
      "[TRAIN 148, 319] loss: 1.0604361295700073 loss_reg: 1.374599814414978 loss_line: 0.7462723255157471 acc: 0.9973958730697632 acc_reg: 0.9973958730697632 acc_line: 0.9973958730697632: 100%|██████████| 319/319 [00:14<00:00, 21.84it/s] \n",
      "[TRAIN 149, 1] loss: 0.17630159854888916 loss_reg: 0.2286584973335266 loss_line: 0.12394469976425171 acc: 0.1666666716337204 acc_reg: 0.1666666716337204 acc_line: 0.1666666716337204:   1%|          | 2/319 [00:00<00:16, 19.39it/s]"
     ]
    },
    {
     "name": "stdout",
     "output_type": "stream",
     "text": [
      "[VALIDATION 148] val_acc: 0.9863861386138614 val_acc_reg: 0.9826732673267327 val_acc_line: 0.9900990099009901 \n"
     ]
    },
    {
     "name": "stderr",
     "output_type": "stream",
     "text": [
      "[TRAIN 149, 319] loss: 1.059121012687683 loss_reg: 1.3745737075805664 loss_line: 0.7436684370040894 acc: 0.9986979365348816 acc_reg: 0.9973958730697632 acc_line: 1.0: 100%|██████████| 319/319 [00:14<00:00, 21.76it/s]                \n",
      "[TRAIN 150, 1] loss: 0.17630159854888916 loss_reg: 0.2286584973335266 loss_line: 0.12394469976425171 acc: 0.1666666716337204 acc_reg: 0.1666666716337204 acc_line: 0.1666666716337204:   1%|          | 3/319 [00:00<00:14, 21.64it/s]"
     ]
    },
    {
     "name": "stdout",
     "output_type": "stream",
     "text": [
      "[VALIDATION 149] val_acc: 0.9895575495049505 val_acc_reg: 0.9870049504950495 val_acc_line: 0.9921101485148515 \n"
     ]
    },
    {
     "name": "stderr",
     "output_type": "stream",
     "text": [
      "[TRAIN 150, 319] loss: 1.0578103065490723 loss_reg: 1.3719522953033447 loss_line: 0.7436681985855103 acc: 1.0 acc_reg: 1.0 acc_line: 1.0: 100%|██████████| 319/319 [00:14<00:00, 21.93it/s]                                             \n",
      "[TRAIN 151, 1] loss: 0.17776213586330414 loss_reg: 0.23157957196235657 loss_line: 0.12394469976425171 acc: 0.1653645932674408 acc_reg: 0.1640625 acc_line: 0.1666666716337204:   1%|          | 3/319 [00:00<00:14, 21.46it/s]"
     ]
    },
    {
     "name": "stdout",
     "output_type": "stream",
     "text": [
      "[VALIDATION 150] val_acc: 0.9895575495049505 val_acc_reg: 0.9873143564356436 val_acc_line: 0.9918007425742574 \n"
     ]
    },
    {
     "name": "stderr",
     "output_type": "stream",
     "text": [
      "[TRAIN 151, 319] loss: 1.0591609477996826 loss_reg: 1.3746275901794434 loss_line: 0.7436940670013428 acc: 0.9986979365348816 acc_reg: 0.9973958730697632 acc_line: 1.0: 100%|██████████| 319/319 [00:14<00:00, 21.88it/s]               \n",
      "[TRAIN 152, 1] loss: 0.17630159854888916 loss_reg: 0.2286584973335266 loss_line: 0.1239447221159935 acc: 0.1666666716337204 acc_reg: 0.1666666716337204 acc_line: 0.1666666716337204:   1%|          | 3/319 [00:00<00:15, 20.88it/s]"
     ]
    },
    {
     "name": "stdout",
     "output_type": "stream",
     "text": [
      "[VALIDATION 151] val_acc: 0.9912592821782178 val_acc_reg: 0.9887066831683168 val_acc_line: 0.9938118811881188 \n"
     ]
    },
    {
     "name": "stderr",
     "output_type": "stream",
     "text": [
      "[TRAIN 152, 319] loss: 1.0606729984283447 loss_reg: 1.3745551109313965 loss_line: 0.7467908263206482 acc: 0.9973958730697632 acc_reg: 0.9973958730697632 acc_line: 0.9973958730697632: 100%|██████████| 319/319 [00:14<00:00, 21.78it/s]\n",
      "[TRAIN 153, 1] loss: 0.17696988582611084 loss_reg: 0.22999510169029236 loss_line: 0.12394469976425171 acc: 0.1653645932674408 acc_reg: 0.1640625 acc_line: 0.1666666716337204:   1%|          | 3/319 [00:00<00:14, 21.25it/s]"
     ]
    },
    {
     "name": "stdout",
     "output_type": "stream",
     "text": [
      "[VALIDATION 152] val_acc: 0.9882425742574258 val_acc_reg: 0.9866955445544554 val_acc_line: 0.9897896039603961 \n"
     ]
    },
    {
     "name": "stderr",
     "output_type": "stream",
     "text": [
      "[TRAIN 153, 319] loss: 1.0578100681304932 loss_reg: 1.3719515800476074 loss_line: 0.743668258190155 acc: 1.0 acc_reg: 1.0 acc_line: 1.0: 100%|██████████| 319/319 [00:14<00:00, 21.82it/s]                                              \n",
      "[TRAIN 154, 1] loss: 0.17630159854888916 loss_reg: 0.2286584973335266 loss_line: 0.12394469976425171 acc: 0.1666666716337204 acc_reg: 0.1666666716337204 acc_line: 0.1666666716337204:   1%|          | 2/319 [00:00<00:15, 19.97it/s]"
     ]
    },
    {
     "name": "stdout",
     "output_type": "stream",
     "text": [
      "[VALIDATION 153] val_acc: 0.9906404702970297 val_acc_reg: 0.9879331683168316 val_acc_line: 0.9933477722772277 \n"
     ]
    },
    {
     "name": "stderr",
     "output_type": "stream",
     "text": [
      "[TRAIN 154, 319] loss: 1.0580344200134277 loss_reg: 1.372400164604187 loss_line: 0.7436685562133789 acc: 1.0 acc_reg: 1.0 acc_line: 1.0: 100%|██████████| 319/319 [00:14<00:00, 21.93it/s]                                              \n",
      "[TRAIN 155, 1] loss: 0.1775836944580078 loss_reg: 0.23122268915176392 loss_line: 0.12394469976425171 acc: 0.1653645932674408 acc_reg: 0.1640625 acc_line: 0.1666666716337204:   1%|          | 3/319 [00:00<00:15, 20.48it/s]"
     ]
    },
    {
     "name": "stdout",
     "output_type": "stream",
     "text": [
      "[VALIDATION 154] val_acc: 0.9914913366336634 val_acc_reg: 0.989325495049505 val_acc_line: 0.9936571782178217 \n"
     ]
    },
    {
     "name": "stderr",
     "output_type": "stream",
     "text": [
      "[TRAIN 155, 319] loss: 1.0578181743621826 loss_reg: 1.3719677925109863 loss_line: 0.7436683177947998 acc: 1.0 acc_reg: 1.0 acc_line: 1.0: 100%|██████████| 319/319 [00:14<00:00, 21.85it/s]                                             \n",
      "[TRAIN 156, 1] loss: 0.17630451917648315 loss_reg: 0.2286643236875534 loss_line: 0.1239447221159935 acc: 0.1666666716337204 acc_reg: 0.1666666716337204 acc_line: 0.1666666716337204:   1%|          | 3/319 [00:00<00:15, 20.44it/s]"
     ]
    },
    {
     "name": "stdout",
     "output_type": "stream",
     "text": [
      "[VALIDATION 155] val_acc: 0.9880878712871287 val_acc_reg: 0.9842202970297029 val_acc_line: 0.9919554455445545 \n"
     ]
    },
    {
     "name": "stderr",
     "output_type": "stream",
     "text": [
      "[TRAIN 156, 319] loss: 1.0594695806503296 loss_reg: 1.3752710819244385 loss_line: 0.7436681985855103 acc: 0.9986979365348816 acc_reg: 0.9973958730697632 acc_line: 1.0: 100%|██████████| 319/319 [00:14<00:00, 21.85it/s]               \n",
      "[TRAIN 157, 1] loss: 0.17630159854888916 loss_reg: 0.2286584973335266 loss_line: 0.12394469976425171 acc: 0.1666666716337204 acc_reg: 0.1666666716337204 acc_line: 0.1666666716337204:   1%|          | 3/319 [00:00<00:14, 21.65it/s]"
     ]
    },
    {
     "name": "stdout",
     "output_type": "stream",
     "text": [
      "[VALIDATION 156] val_acc: 0.9883972772277227 val_acc_reg: 0.9876237623762376 val_acc_line: 0.9891707920792079 \n"
     ]
    },
    {
     "name": "stderr",
     "output_type": "stream",
     "text": [
      "[TRAIN 157, 319] loss: 1.0602996349334717 loss_reg: 1.3745602369308472 loss_line: 0.7460389137268066 acc: 0.9973958730697632 acc_reg: 0.9973958730697632 acc_line: 0.9973958730697632: 100%|██████████| 319/319 [00:14<00:00, 21.86it/s]\n",
      "[TRAIN 158, 1] loss: 0.18020778894424438 loss_reg: 0.231262668967247 loss_line: 0.12915290892124176 acc: 0.1627604216337204 acc_reg: 0.1640625 acc_line: 0.1614583432674408:   1%|          | 3/319 [00:00<00:14, 21.29it/s]"
     ]
    },
    {
     "name": "stdout",
     "output_type": "stream",
     "text": [
      "[VALIDATION 157] val_acc: 0.9886293316831684 val_acc_reg: 0.9866955445544554 val_acc_line: 0.9905631188118812 \n"
     ]
    },
    {
     "name": "stderr",
     "output_type": "stream",
     "text": [
      "[TRAIN 158, 319] loss: 1.0579044818878174 loss_reg: 1.3719509840011597 loss_line: 0.7438578009605408 acc: 1.0 acc_reg: 1.0 acc_line: 1.0: 100%|██████████| 319/319 [00:14<00:00, 21.94it/s]                                            \n",
      "[TRAIN 159, 1] loss: 0.17630159854888916 loss_reg: 0.228658527135849 loss_line: 0.12394469976425171 acc: 0.1666666716337204 acc_reg: 0.1666666716337204 acc_line: 0.1666666716337204:   1%|          | 2/319 [00:00<00:16, 19.14it/s]"
     ]
    },
    {
     "name": "stdout",
     "output_type": "stream",
     "text": [
      "[VALIDATION 158] val_acc: 0.9881652227722773 val_acc_reg: 0.9865408415841584 val_acc_line: 0.9897896039603961 \n"
     ]
    },
    {
     "name": "stderr",
     "output_type": "stream",
     "text": [
      "[TRAIN 159, 319] loss: 1.0604276657104492 loss_reg: 1.3771556615829468 loss_line: 0.7436995506286621 acc: 0.9973958730697632 acc_reg: 0.9947916865348816 acc_line: 1.0: 100%|██████████| 319/319 [00:14<00:00, 21.91it/s]               \n",
      "[TRAIN 160, 1] loss: 0.17760245501995087 loss_reg: 0.2286584973335266 loss_line: 0.12654639780521393 acc: 0.1653645932674408 acc_reg: 0.1666666716337204 acc_line: 0.1640625:   1%|          | 3/319 [00:00<00:14, 21.11it/s]"
     ]
    },
    {
     "name": "stdout",
     "output_type": "stream",
     "text": [
      "[VALIDATION 159] val_acc: 0.9892481435643564 val_acc_reg: 0.9874690594059405 val_acc_line: 0.9910272277227723 \n"
     ]
    },
    {
     "name": "stderr",
     "output_type": "stream",
     "text": [
      "[TRAIN 160, 319] loss: 1.0604150295257568 loss_reg: 1.3719518184661865 loss_line: 0.7488784193992615 acc: 0.9973958730697632 acc_reg: 1.0 acc_line: 0.9947916865348816: 100%|██████████| 319/319 [00:14<00:00, 21.84it/s]               \n",
      "[TRAIN 161, 1] loss: 0.17630162835121155 loss_reg: 0.2286584973335266 loss_line: 0.1239447295665741 acc: 0.1666666716337204 acc_reg: 0.1666666716337204 acc_line: 0.1666666716337204:   1%|          | 2/319 [00:00<00:15, 19.96it/s]"
     ]
    },
    {
     "name": "stdout",
     "output_type": "stream",
     "text": [
      "[VALIDATION 160] val_acc: 0.9884746287128713 val_acc_reg: 0.9870049504950495 val_acc_line: 0.989944306930693 \n"
     ]
    },
    {
     "name": "stderr",
     "output_type": "stream",
     "text": [
      "[TRAIN 161, 319] loss: 1.0610191822052002 loss_reg: 1.3770909309387207 loss_line: 0.7449473142623901 acc: 0.9973958730697632 acc_reg: 0.9947916865348816 acc_line: 1.0: 100%|██████████| 319/319 [00:14<00:00, 21.90it/s]               \n",
      "[TRAIN 162, 1] loss: 0.17630159854888916 loss_reg: 0.2286584973335266 loss_line: 0.12394469976425171 acc: 0.1666666716337204 acc_reg: 0.1666666716337204 acc_line: 0.1666666716337204:   1%|          | 3/319 [00:00<00:15, 20.96it/s]"
     ]
    },
    {
     "name": "stdout",
     "output_type": "stream",
     "text": [
      "[VALIDATION 161] val_acc: 0.989634900990099 val_acc_reg: 0.9882425742574258 val_acc_line: 0.9910272277227723 \n"
     ]
    },
    {
     "name": "stderr",
     "output_type": "stream",
     "text": [
      "[TRAIN 162, 319] loss: 1.059326171875 loss_reg: 1.3719511032104492 loss_line: 0.746701180934906 acc: 0.9986979365348816 acc_reg: 1.0 acc_line: 0.9973958730697632: 100%|██████████| 319/319 [00:14<00:00, 21.93it/s]                    \n",
      "[TRAIN 163, 1] loss: 0.17884717881679535 loss_reg: 0.2286584973335266 loss_line: 0.1290358453989029 acc: 0.1640625 acc_reg: 0.1666666716337204 acc_line: 0.1614583432674408:   1%|          | 2/319 [00:00<00:16, 19.73it/s]"
     ]
    },
    {
     "name": "stdout",
     "output_type": "stream",
     "text": [
      "[VALIDATION 162] val_acc: 0.9862314356435643 val_acc_reg: 0.9857673267326733 val_acc_line: 0.9866955445544554 \n"
     ]
    },
    {
     "name": "stderr",
     "output_type": "stream",
     "text": [
      "[TRAIN 163, 319] loss: 1.0578097105026245 loss_reg: 1.3719509840011597 loss_line: 0.7436681985855103 acc: 1.0 acc_reg: 1.0 acc_line: 1.0: 100%|██████████| 319/319 [00:14<00:00, 21.86it/s]                                             \n",
      "[TRAIN 164, 1] loss: 0.17630159854888916 loss_reg: 0.2286584973335266 loss_line: 0.12394469976425171 acc: 0.1666666716337204 acc_reg: 0.1666666716337204 acc_line: 0.1666666716337204:   1%|          | 3/319 [00:00<00:15, 20.68it/s]"
     ]
    },
    {
     "name": "stdout",
     "output_type": "stream",
     "text": [
      "[VALIDATION 163] val_acc: 0.9897896039603961 val_acc_reg: 0.9890160891089109 val_acc_line: 0.9905631188118812 \n"
     ]
    },
    {
     "name": "stderr",
     "output_type": "stream",
     "text": [
      "[TRAIN 164, 319] loss: 1.0591017007827759 loss_reg: 1.374535083770752 loss_line: 0.743668258190155 acc: 0.9986979365348816 acc_reg: 0.9973958730697632 acc_line: 1.0: 100%|██████████| 319/319 [00:14<00:00, 21.98it/s]                 \n",
      "[TRAIN 165, 1] loss: 0.17630159854888916 loss_reg: 0.2286584973335266 loss_line: 0.12394469976425171 acc: 0.1666666716337204 acc_reg: 0.1666666716337204 acc_line: 0.1666666716337204:   1%|          | 3/319 [00:00<00:14, 21.51it/s]"
     ]
    },
    {
     "name": "stdout",
     "output_type": "stream",
     "text": [
      "[VALIDATION 164] val_acc: 0.9889387376237624 val_acc_reg: 0.9873143564356436 val_acc_line: 0.9905631188118812 \n"
     ]
    },
    {
     "name": "stderr",
     "output_type": "stream",
     "text": [
      "[TRAIN 165, 319] loss: 1.0641543865203857 loss_reg: 1.3820362091064453 loss_line: 0.7462722659111023 acc: 0.9934896230697632 acc_reg: 0.9895833730697632 acc_line: 0.9973958730697632: 100%|██████████| 319/319 [00:14<00:00, 22.02it/s]\n",
      "[TRAIN 166, 1] loss: 0.17630159854888916 loss_reg: 0.228658527135849 loss_line: 0.12394469976425171 acc: 0.1666666716337204 acc_reg: 0.1666666716337204 acc_line: 0.1666666716337204:   1%|          | 3/319 [00:00<00:15, 20.94it/s]"
     ]
    },
    {
     "name": "stdout",
     "output_type": "stream",
     "text": [
      "[VALIDATION 165] val_acc: 0.9900216584158416 val_acc_reg: 0.9885519801980198 val_acc_line: 0.9914913366336634 \n"
     ]
    },
    {
     "name": "stderr",
     "output_type": "stream",
     "text": [
      "[TRAIN 166, 319] loss: 1.0604139566421509 loss_reg: 1.3745555877685547 loss_line: 0.7462725043296814 acc: 0.9973958730697632 acc_reg: 0.9973958730697632 acc_line: 0.9973958730697632: 100%|██████████| 319/319 [00:14<00:00, 21.96it/s]\n",
      "[TRAIN 167, 1] loss: 0.17630159854888916 loss_reg: 0.2286584973335266 loss_line: 0.12394469976425171 acc: 0.1666666716337204 acc_reg: 0.1666666716337204 acc_line: 0.1666666716337204:   1%|          | 3/319 [00:00<00:13, 22.78it/s]"
     ]
    },
    {
     "name": "stdout",
     "output_type": "stream",
     "text": [
      "[VALIDATION 166] val_acc: 0.9894028465346535 val_acc_reg: 0.9873143564356436 val_acc_line: 0.9914913366336634 \n"
     ]
    },
    {
     "name": "stderr",
     "output_type": "stream",
     "text": [
      "[TRAIN 167, 319] loss: 1.0596479177474976 loss_reg: 1.373023271560669 loss_line: 0.7462723255157471 acc: 0.9986979365348816 acc_reg: 1.0 acc_line: 0.9973958730697632: 100%|██████████| 319/319 [00:14<00:00, 21.97it/s]                \n",
      "[TRAIN 168, 1] loss: 0.17630204558372498 loss_reg: 0.2286584973335266 loss_line: 0.12394558638334274 acc: 0.1666666716337204 acc_reg: 0.1666666716337204 acc_line: 0.1666666716337204:   1%|          | 2/319 [00:00<00:16, 19.21it/s]"
     ]
    },
    {
     "name": "stdout",
     "output_type": "stream",
     "text": [
      "[VALIDATION 167] val_acc: 0.9907178217821783 val_acc_reg: 0.989634900990099 val_acc_line: 0.9918007425742574 \n"
     ]
    },
    {
     "name": "stderr",
     "output_type": "stream",
     "text": [
      "[TRAIN 168, 319] loss: 1.0591118335723877 loss_reg: 1.3719509840011597 loss_line: 0.7462723255157471 acc: 0.9986979365348816 acc_reg: 1.0 acc_line: 0.9973958730697632: 100%|██████████| 319/319 [00:14<00:00, 21.89it/s]               \n",
      "[TRAIN 169, 1] loss: 0.17630159854888916 loss_reg: 0.2286584973335266 loss_line: 0.1239447221159935 acc: 0.1666666716337204 acc_reg: 0.1666666716337204 acc_line: 0.1666666716337204:   1%|          | 2/319 [00:00<00:16, 18.67it/s]"
     ]
    },
    {
     "name": "stdout",
     "output_type": "stream",
     "text": [
      "[VALIDATION 168] val_acc: 0.9904857673267327 val_acc_reg: 0.9887066831683168 val_acc_line: 0.9922648514851485 \n"
     ]
    },
    {
     "name": "stderr",
     "output_type": "stream",
     "text": [
      "[TRAIN 169, 319] loss: 1.0596067905426025 loss_reg: 1.375544786453247 loss_line: 0.743668794631958 acc: 0.9986979365348816 acc_reg: 0.9973958730697632 acc_line: 1.0: 100%|██████████| 319/319 [00:14<00:00, 21.82it/s]                 \n",
      "[TRAIN 170, 1] loss: 0.17630159854888916 loss_reg: 0.2286584973335266 loss_line: 0.1239447146654129 acc: 0.1666666716337204 acc_reg: 0.1666666716337204 acc_line: 0.1666666716337204:   1%|          | 3/319 [00:00<00:15, 21.02it/s]"
     ]
    },
    {
     "name": "stdout",
     "output_type": "stream",
     "text": [
      "[VALIDATION 169] val_acc: 0.987237004950495 val_acc_reg: 0.9857673267326733 val_acc_line: 0.9887066831683168 \n"
     ]
    },
    {
     "name": "stderr",
     "output_type": "stream",
     "text": [
      "[TRAIN 170, 319] loss: 1.0616904497146606 loss_reg: 1.3745039701461792 loss_line: 0.7488769888877869 acc: 0.99609375 acc_reg: 0.9973958730697632 acc_line: 0.9947916865348816: 100%|██████████| 319/319 [00:14<00:00, 22.04it/s]        \n",
      "[TRAIN 171, 1] loss: 0.17630159854888916 loss_reg: 0.2286584973335266 loss_line: 0.12394469976425171 acc: 0.1666666716337204 acc_reg: 0.1666666716337204 acc_line: 0.1666666716337204:   1%|          | 3/319 [00:00<00:14, 21.72it/s]"
     ]
    },
    {
     "name": "stdout",
     "output_type": "stream",
     "text": [
      "[VALIDATION 170] val_acc: 0.9888613861386139 val_acc_reg: 0.9863861386138614 val_acc_line: 0.9913366336633663 \n"
     ]
    },
    {
     "name": "stderr",
     "output_type": "stream",
     "text": [
      "[TRAIN 171, 319] loss: 1.058243989944458 loss_reg: 1.3728199005126953 loss_line: 0.7436681985855103 acc: 1.0 acc_reg: 1.0 acc_line: 1.0: 100%|██████████| 319/319 [00:14<00:00, 22.00it/s]                                              \n",
      "[TRAIN 172, 1] loss: 0.17630159854888916 loss_reg: 0.2286584973335266 loss_line: 0.12394469976425171 acc: 0.1666666716337204 acc_reg: 0.1666666716337204 acc_line: 0.1666666716337204:   1%|          | 3/319 [00:00<00:14, 21.69it/s]"
     ]
    },
    {
     "name": "stdout",
     "output_type": "stream",
     "text": [
      "[VALIDATION 171] val_acc: 0.9883972772277227 val_acc_reg: 0.9863861386138614 val_acc_line: 0.9904084158415841 \n"
     ]
    },
    {
     "name": "stderr",
     "output_type": "stream",
     "text": [
      "[TRAIN 172, 319] loss: 1.0578120946884155 loss_reg: 1.3719509840011597 loss_line: 0.7436730265617371 acc: 1.0 acc_reg: 1.0 acc_line: 1.0: 100%|██████████| 319/319 [00:14<00:00, 21.94it/s]                                             \n",
      "[TRAIN 173, 1] loss: 0.17630159854888916 loss_reg: 0.2286584973335266 loss_line: 0.12394469976425171 acc: 0.1666666716337204 acc_reg: 0.1666666716337204 acc_line: 0.1666666716337204:   1%|          | 3/319 [00:00<00:13, 23.51it/s]"
     ]
    },
    {
     "name": "stdout",
     "output_type": "stream",
     "text": [
      "[VALIDATION 172] val_acc: 0.9892481435643564 val_acc_reg: 0.9870049504950495 val_acc_line: 0.9914913366336634 \n"
     ]
    },
    {
     "name": "stderr",
     "output_type": "stream",
     "text": [
      "[TRAIN 173, 319] loss: 1.0578097105026245 loss_reg: 1.3719509840011597 loss_line: 0.7436681985855103 acc: 1.0 acc_reg: 1.0 acc_line: 1.0: 100%|██████████| 319/319 [00:14<00:00, 21.83it/s]                                             \n",
      "[TRAIN 174, 1] loss: 0.17760369181632996 loss_reg: 0.231262668967247 loss_line: 0.12394469976425171 acc: 0.1653645932674408 acc_reg: 0.1640625 acc_line: 0.1666666716337204:   1%|          | 2/319 [00:00<00:15, 19.96it/s]"
     ]
    },
    {
     "name": "stdout",
     "output_type": "stream",
     "text": [
      "[VALIDATION 173] val_acc: 0.9900216584158416 val_acc_reg: 0.9883972772277227 val_acc_line: 0.9916460396039604 \n"
     ]
    },
    {
     "name": "stderr",
     "output_type": "stream",
     "text": [
      "[TRAIN 174, 319] loss: 1.0578279495239258 loss_reg: 1.3719863891601562 loss_line: 0.7436693906784058 acc: 1.0 acc_reg: 1.0 acc_line: 1.0: 100%|██████████| 319/319 [00:14<00:00, 22.04it/s]                                             \n",
      "[TRAIN 175, 1] loss: 0.17630168795585632 loss_reg: 0.22865866124629974 loss_line: 0.12394469976425171 acc: 0.1666666716337204 acc_reg: 0.1666666716337204 acc_line: 0.1666666716337204:   1%|          | 3/319 [00:00<00:15, 20.95it/s]"
     ]
    },
    {
     "name": "stdout",
     "output_type": "stream",
     "text": [
      "[VALIDATION 174] val_acc: 0.989944306930693 val_acc_reg: 0.9883972772277227 val_acc_line: 0.9914913366336634 \n"
     ]
    },
    {
     "name": "stderr",
     "output_type": "stream",
     "text": [
      "[TRAIN 175, 319] loss: 1.0604140758514404 loss_reg: 1.3745555877685547 loss_line: 0.7462723255157471 acc: 0.9973958730697632 acc_reg: 0.9973958730697632 acc_line: 0.9973958730697632: 100%|██████████| 319/319 [00:14<00:00, 21.98it/s]\n",
      "[TRAIN 176, 1] loss: 0.17630982398986816 loss_reg: 0.22867494821548462 loss_line: 0.12394469976425171 acc: 0.1666666716337204 acc_reg: 0.1666666716337204 acc_line: 0.1666666716337204:   1%|          | 2/319 [00:00<00:15, 19.93it/s]"
     ]
    },
    {
     "name": "stdout",
     "output_type": "stream",
     "text": [
      "[VALIDATION 175] val_acc: 0.9883199257425742 val_acc_reg: 0.9882425742574258 val_acc_line: 0.9883972772277227 \n"
     ]
    },
    {
     "name": "stderr",
     "output_type": "stream",
     "text": [
      "[TRAIN 176, 319] loss: 1.061959981918335 loss_reg: 1.3776472806930542 loss_line: 0.7462724447250366 acc: 0.99609375 acc_reg: 0.9947916865348816 acc_line: 0.9973958730697632: 100%|██████████| 319/319 [00:14<00:00, 21.90it/s]         \n",
      "[TRAIN 177, 1] loss: 0.17630159854888916 loss_reg: 0.2286584973335266 loss_line: 0.12394469976425171 acc: 0.1666666716337204 acc_reg: 0.1666666716337204 acc_line: 0.1666666716337204:   1%|          | 2/319 [00:00<00:16, 19.21it/s]"
     ]
    },
    {
     "name": "stdout",
     "output_type": "stream",
     "text": [
      "[VALIDATION 176] val_acc: 0.9900990099009901 val_acc_reg: 0.9890160891089109 val_acc_line: 0.9911819306930693 \n"
     ]
    },
    {
     "name": "stderr",
     "output_type": "stream",
     "text": [
      "[TRAIN 177, 319] loss: 1.059291124343872 loss_reg: 1.3749046325683594 loss_line: 0.7436773777008057 acc: 0.9986979365348816 acc_reg: 0.9973958730697632 acc_line: 1.0: 100%|██████████| 319/319 [00:14<00:00, 21.91it/s]                \n",
      "[TRAIN 178, 1] loss: 0.17760369181632996 loss_reg: 0.231262668967247 loss_line: 0.12394469976425171 acc: 0.1653645932674408 acc_reg: 0.1640625 acc_line: 0.1666666716337204:   1%|          | 2/319 [00:00<00:16, 18.91it/s]"
     ]
    },
    {
     "name": "stdout",
     "output_type": "stream",
     "text": [
      "[VALIDATION 177] val_acc: 0.9886293316831684 val_acc_reg: 0.9876237623762376 val_acc_line: 0.989634900990099 \n"
     ]
    },
    {
     "name": "stderr",
     "output_type": "stream",
     "text": [
      "[TRAIN 178, 319] loss: 1.0578097105026245 loss_reg: 1.3719509840011597 loss_line: 0.7436681985855103 acc: 1.0 acc_reg: 1.0 acc_line: 1.0: 100%|██████████| 319/319 [00:14<00:00, 21.86it/s]                                             \n",
      "[TRAIN 179, 1] loss: 0.17760369181632996 loss_reg: 0.231262668967247 loss_line: 0.12394469976425171 acc: 0.1653645932674408 acc_reg: 0.1640625 acc_line: 0.1666666716337204:   1%|          | 3/319 [00:00<00:14, 21.64it/s]"
     ]
    },
    {
     "name": "stdout",
     "output_type": "stream",
     "text": [
      "[VALIDATION 178] val_acc: 0.9903310643564357 val_acc_reg: 0.9890160891089109 val_acc_line: 0.9916460396039604 \n"
     ]
    },
    {
     "name": "stderr",
     "output_type": "stream",
     "text": [
      "[TRAIN 179, 319] loss: 1.0617356300354004 loss_reg: 1.3797564506530762 loss_line: 0.7437148094177246 acc: 0.99609375 acc_reg: 0.9921875 acc_line: 1.0: 100%|██████████| 319/319 [00:14<00:00, 21.89it/s]                                \n",
      "[TRAIN 180, 1] loss: 0.17630264163017273 loss_reg: 0.22866058349609375 loss_line: 0.12394469976425171 acc: 0.1666666716337204 acc_reg: 0.1666666716337204 acc_line: 0.1666666716337204:   1%|          | 3/319 [00:00<00:14, 21.55it/s]"
     ]
    },
    {
     "name": "stdout",
     "output_type": "stream",
     "text": [
      "[VALIDATION 179] val_acc: 0.9915686881188119 val_acc_reg: 0.9904084158415841 val_acc_line: 0.9927289603960396 \n"
     ]
    },
    {
     "name": "stderr",
     "output_type": "stream",
     "text": [
      "[TRAIN 180, 319] loss: 1.059110403060913 loss_reg: 1.3745388984680176 loss_line: 0.743681788444519 acc: 0.9986979365348816 acc_reg: 0.9973958730697632 acc_line: 1.0: 100%|██████████| 319/319 [00:14<00:00, 21.94it/s]                 \n",
      "[TRAIN 181, 1] loss: 0.17630359530448914 loss_reg: 0.22866247594356537 loss_line: 0.12394469976425171 acc: 0.1666666716337204 acc_reg: 0.1666666716337204 acc_line: 0.1666666716337204:   1%|          | 3/319 [00:00<00:15, 20.92it/s]"
     ]
    },
    {
     "name": "stdout",
     "output_type": "stream",
     "text": [
      "[VALIDATION 180] val_acc: 0.9894028465346535 val_acc_reg: 0.9866955445544554 val_acc_line: 0.9921101485148515 \n"
     ]
    },
    {
     "name": "stderr",
     "output_type": "stream",
     "text": [
      "[TRAIN 181, 319] loss: 1.0594637393951416 loss_reg: 1.3722617626190186 loss_line: 0.7466656565666199 acc: 0.9986979365348816 acc_reg: 1.0 acc_line: 0.9973958730697632: 100%|██████████| 319/319 [00:14<00:00, 22.00it/s]              \n",
      "[TRAIN 182, 1] loss: 0.17630699276924133 loss_reg: 0.2286584973335266 loss_line: 0.12395548075437546 acc: 0.1666666716337204 acc_reg: 0.1666666716337204 acc_line: 0.1666666716337204:   1%|          | 2/319 [00:00<00:15, 19.89it/s]"
     ]
    },
    {
     "name": "stdout",
     "output_type": "stream",
     "text": [
      "[VALIDATION 181] val_acc: 0.9880105198019802 val_acc_reg: 0.9863861386138614 val_acc_line: 0.989634900990099 \n"
     ]
    },
    {
     "name": "stderr",
     "output_type": "stream",
     "text": [
      "[TRAIN 182, 319] loss: 1.0591137409210205 loss_reg: 1.3745554685592651 loss_line: 0.743672251701355 acc: 0.9986979365348816 acc_reg: 0.9973958730697632 acc_line: 1.0: 100%|██████████| 319/319 [00:14<00:00, 21.99it/s]                \n",
      "[TRAIN 183, 1] loss: 0.17760369181632996 loss_reg: 0.231262668967247 loss_line: 0.12394469976425171 acc: 0.1653645932674408 acc_reg: 0.1640625 acc_line: 0.1666666716337204:   1%|          | 2/319 [00:00<00:16, 19.14it/s]"
     ]
    },
    {
     "name": "stdout",
     "output_type": "stream",
     "text": [
      "[VALIDATION 182] val_acc: 0.9887066831683168 val_acc_reg: 0.9862314356435643 val_acc_line: 0.9911819306930693 \n"
     ]
    },
    {
     "name": "stderr",
     "output_type": "stream",
     "text": [
      "[TRAIN 183, 319] loss: 1.0578097105026245 loss_reg: 1.3719509840011597 loss_line: 0.7436681985855103 acc: 1.0 acc_reg: 1.0 acc_line: 1.0: 100%|██████████| 319/319 [00:14<00:00, 22.04it/s]                                             \n",
      "[TRAIN 184, 1] loss: 0.17760369181632996 loss_reg: 0.228658527135849 loss_line: 0.1265488713979721 acc: 0.1653645932674408 acc_reg: 0.1666666716337204 acc_line: 0.1640625:   1%|          | 2/319 [00:00<00:15, 19.81it/s]"
     ]
    },
    {
     "name": "stdout",
     "output_type": "stream",
     "text": [
      "[VALIDATION 183] val_acc: 0.9887840346534653 val_acc_reg: 0.9859220297029703 val_acc_line: 0.9916460396039604 \n"
     ]
    },
    {
     "name": "stderr",
     "output_type": "stream",
     "text": [
      "[TRAIN 184, 319] loss: 1.0591115951538086 loss_reg: 1.374554991722107 loss_line: 0.7436681985855103 acc: 0.9986979365348816 acc_reg: 0.9973958730697632 acc_line: 1.0: 100%|██████████| 319/319 [00:14<00:00, 21.96it/s]                \n",
      "[TRAIN 185, 1] loss: 0.17630159854888916 loss_reg: 0.2286584973335266 loss_line: 0.12394469976425171 acc: 0.1666666716337204 acc_reg: 0.1666666716337204 acc_line: 0.1666666716337204:   1%|          | 3/319 [00:00<00:14, 22.24it/s]"
     ]
    },
    {
     "name": "stdout",
     "output_type": "stream",
     "text": [
      "[VALIDATION 184] val_acc: 0.9891707920792079 val_acc_reg: 0.9866955445544554 val_acc_line: 0.9916460396039604 \n"
     ]
    },
    {
     "name": "stderr",
     "output_type": "stream",
     "text": [
      "[TRAIN 185, 319] loss: 1.05866277217865 loss_reg: 1.3732130527496338 loss_line: 0.744112491607666 acc: 0.9986979365348816 acc_reg: 0.9973958730697632 acc_line: 1.0: 100%|██████████| 319/319 [00:14<00:00, 21.94it/s]                  \n",
      "[TRAIN 186, 1] loss: 0.17630264163017273 loss_reg: 0.22866056859493256 loss_line: 0.12394469976425171 acc: 0.1666666716337204 acc_reg: 0.1666666716337204 acc_line: 0.1666666716337204:   1%|          | 3/319 [00:00<00:13, 22.91it/s]"
     ]
    },
    {
     "name": "stdout",
     "output_type": "stream",
     "text": [
      "[VALIDATION 185] val_acc: 0.9897122524752475 val_acc_reg: 0.9879331683168316 val_acc_line: 0.9914913366336634 \n"
     ]
    },
    {
     "name": "stderr",
     "output_type": "stream",
     "text": [
      "[TRAIN 186, 319] loss: 1.0591319799423218 loss_reg: 1.3719916343688965 loss_line: 0.7462723255157471 acc: 0.9986979365348816 acc_reg: 1.0 acc_line: 0.9973958730697632: 100%|██████████| 319/319 [00:14<00:00, 21.65it/s]               \n",
      "[TRAIN 187, 1] loss: 0.17760370671749115 loss_reg: 0.231262668967247 loss_line: 0.12394474446773529 acc: 0.1653645932674408 acc_reg: 0.1640625 acc_line: 0.1666666716337204:   1%|          | 3/319 [00:00<00:14, 21.78it/s]"
     ]
    },
    {
     "name": "stdout",
     "output_type": "stream",
     "text": [
      "[VALIDATION 186] val_acc: 0.9876237623762376 val_acc_reg: 0.9837561881188119 val_acc_line: 0.9914913366336634 \n"
     ]
    },
    {
     "name": "stderr",
     "output_type": "stream",
     "text": [
      "[TRAIN 187, 319] loss: 1.0578535795211792 loss_reg: 1.3719524145126343 loss_line: 0.743754506111145 acc: 1.0 acc_reg: 1.0 acc_line: 1.0: 100%|██████████| 319/319 [00:14<00:00, 21.75it/s]                                              \n",
      "[TRAIN 188, 1] loss: 0.17630159854888916 loss_reg: 0.2286584973335266 loss_line: 0.12394469976425171 acc: 0.1666666716337204 acc_reg: 0.1666666716337204 acc_line: 0.1666666716337204:   1%|          | 2/319 [00:00<00:17, 18.35it/s]"
     ]
    },
    {
     "name": "stdout",
     "output_type": "stream",
     "text": [
      "[VALIDATION 187] val_acc: 0.9890934405940595 val_acc_reg: 0.9868502475247525 val_acc_line: 0.9913366336633663 \n"
     ]
    },
    {
     "name": "stderr",
     "output_type": "stream",
     "text": [
      "[TRAIN 188, 319] loss: 1.0591938495635986 loss_reg: 1.3747055530548096 loss_line: 0.7436819076538086 acc: 0.9986979365348816 acc_reg: 0.9973958730697632 acc_line: 1.0: 100%|██████████| 319/319 [00:14<00:00, 21.96it/s]               \n",
      "[TRAIN 189, 1] loss: 0.17630164325237274 loss_reg: 0.22865860164165497 loss_line: 0.12394469976425171 acc: 0.1666666716337204 acc_reg: 0.1666666716337204 acc_line: 0.1666666716337204:   1%|          | 3/319 [00:00<00:14, 21.51it/s]"
     ]
    },
    {
     "name": "stdout",
     "output_type": "stream",
     "text": [
      "[VALIDATION 188] val_acc: 0.9878558168316832 val_acc_reg: 0.9853032178217822 val_acc_line: 0.9904084158415841 \n"
     ]
    },
    {
     "name": "stderr",
     "output_type": "stream",
     "text": [
      "[TRAIN 189, 319] loss: 1.0604138374328613 loss_reg: 1.3745553493499756 loss_line: 0.7462722659111023 acc: 0.9973958730697632 acc_reg: 0.9973958730697632 acc_line: 0.9973958730697632: 100%|██████████| 319/319 [00:14<00:00, 21.90it/s]\n",
      "[TRAIN 190, 1] loss: 0.17630159854888916 loss_reg: 0.2286584973335266 loss_line: 0.12394469976425171 acc: 0.1666666716337204 acc_reg: 0.1666666716337204 acc_line: 0.1666666716337204:   1%|          | 3/319 [00:00<00:14, 21.45it/s]"
     ]
    },
    {
     "name": "stdout",
     "output_type": "stream",
     "text": [
      "[VALIDATION 189] val_acc: 0.9856126237623762 val_acc_reg: 0.9836014851485149 val_acc_line: 0.9876237623762376 \n"
     ]
    },
    {
     "name": "stderr",
     "output_type": "stream",
     "text": [
      "[TRAIN 190, 319] loss: 1.0614805221557617 loss_reg: 1.3747565746307373 loss_line: 0.7482044696807861 acc: 0.99609375 acc_reg: 0.9973958730697632 acc_line: 0.9947916865348816: 100%|██████████| 319/319 [00:14<00:00, 21.87it/s]        \n",
      "[TRAIN 191, 1] loss: 0.17630165815353394 loss_reg: 0.22865860164165497 loss_line: 0.1239447295665741 acc: 0.1666666716337204 acc_reg: 0.1666666716337204 acc_line: 0.1666666716337204:   1%|          | 3/319 [00:00<00:14, 21.52it/s]"
     ]
    },
    {
     "name": "stdout",
     "output_type": "stream",
     "text": [
      "[VALIDATION 190] val_acc: 0.9892481435643564 val_acc_reg: 0.9863861386138614 val_acc_line: 0.9921101485148515 \n"
     ]
    },
    {
     "name": "stderr",
     "output_type": "stream",
     "text": [
      "[TRAIN 191, 319] loss: 1.0604153871536255 loss_reg: 1.3771603107452393 loss_line: 0.7436704635620117 acc: 0.9973958730697632 acc_reg: 0.9947916865348816 acc_line: 1.0: 100%|██████████| 319/319 [00:14<00:00, 21.81it/s]              \n",
      "[TRAIN 192, 1] loss: 0.17760369181632996 loss_reg: 0.231262668967247 loss_line: 0.12394469976425171 acc: 0.1653645932674408 acc_reg: 0.1640625 acc_line: 0.1666666716337204:   1%|          | 3/319 [00:00<00:13, 22.72it/s]"
     ]
    },
    {
     "name": "stdout",
     "output_type": "stream",
     "text": [
      "[VALIDATION 191] val_acc: 0.9891707920792079 val_acc_reg: 0.9862314356435643 val_acc_line: 0.9921101485148515 \n"
     ]
    },
    {
     "name": "stderr",
     "output_type": "stream",
     "text": [
      "[TRAIN 192, 319] loss: 1.0591118335723877 loss_reg: 1.3745551109313965 loss_line: 0.7436681985855103 acc: 0.9986979365348816 acc_reg: 0.9973958730697632 acc_line: 1.0: 100%|██████████| 319/319 [00:14<00:00, 21.88it/s]               \n",
      "[TRAIN 193, 1] loss: 0.17630159854888916 loss_reg: 0.2286584973335266 loss_line: 0.12394469976425171 acc: 0.1666666716337204 acc_reg: 0.1666666716337204 acc_line: 0.1666666716337204:   1%|          | 3/319 [00:00<00:14, 21.87it/s]"
     ]
    },
    {
     "name": "stdout",
     "output_type": "stream",
     "text": [
      "[VALIDATION 192] val_acc: 0.9886293316831684 val_acc_reg: 0.9862314356435643 val_acc_line: 0.9910272277227723 \n"
     ]
    },
    {
     "name": "stderr",
     "output_type": "stream",
     "text": [
      "[TRAIN 193, 319] loss: 1.0580403804779053 loss_reg: 1.3719511032104492 loss_line: 0.7441295981407166 acc: 1.0 acc_reg: 1.0 acc_line: 1.0: 100%|██████████| 319/319 [00:14<00:00, 21.99it/s]                                             \n",
      "[TRAIN 194, 1] loss: 0.17630159854888916 loss_reg: 0.2286584973335266 loss_line: 0.12394469976425171 acc: 0.1666666716337204 acc_reg: 0.1666666716337204 acc_line: 0.1666666716337204:   1%|          | 3/319 [00:00<00:15, 20.69it/s]"
     ]
    },
    {
     "name": "stdout",
     "output_type": "stream",
     "text": [
      "[VALIDATION 193] val_acc: 0.9895575495049505 val_acc_reg: 0.9871596534653465 val_acc_line: 0.9919554455445545 \n"
     ]
    },
    {
     "name": "stderr",
     "output_type": "stream",
     "text": [
      "[TRAIN 194, 319] loss: 1.0578097105026245 loss_reg: 1.3719511032104492 loss_line: 0.743668258190155 acc: 1.0 acc_reg: 1.0 acc_line: 1.0: 100%|██████████| 319/319 [00:14<00:00, 22.05it/s]                                              \n",
      "[TRAIN 195, 1] loss: 0.17760369181632996 loss_reg: 0.2312626838684082 loss_line: 0.12394469976425171 acc: 0.1653645932674408 acc_reg: 0.1640625 acc_line: 0.1666666716337204:   1%|          | 2/319 [00:00<00:15, 19.96it/s]"
     ]
    },
    {
     "name": "stdout",
     "output_type": "stream",
     "text": [
      "[VALIDATION 194] val_acc: 0.9897896039603961 val_acc_reg: 0.9871596534653465 val_acc_line: 0.9924195544554455 \n"
     ]
    },
    {
     "name": "stderr",
     "output_type": "stream",
     "text": [
      "[TRAIN 195, 319] loss: 1.057809829711914 loss_reg: 1.3719511032104492 loss_line: 0.7436683177947998 acc: 1.0 acc_reg: 1.0 acc_line: 1.0: 100%|██████████| 319/319 [00:14<00:00, 22.02it/s]                                              \n",
      "[TRAIN 196, 1] loss: 0.17630168795585632 loss_reg: 0.22865867614746094 loss_line: 0.12394469976425171 acc: 0.1666666716337204 acc_reg: 0.1666666716337204 acc_line: 0.1666666716337204:   1%|          | 3/319 [00:00<00:14, 21.37it/s]"
     ]
    },
    {
     "name": "stdout",
     "output_type": "stream",
     "text": [
      "[VALIDATION 195] val_acc: 0.9892481435643564 val_acc_reg: 0.989325495049505 val_acc_line: 0.9891707920792079 \n"
     ]
    },
    {
     "name": "stderr",
     "output_type": "stream",
     "text": [
      "[TRAIN 196, 319] loss: 1.063028335571289 loss_reg: 1.3797640800476074 loss_line: 0.7462927103042603 acc: 0.9947916865348816 acc_reg: 0.9921875 acc_line: 0.9973958730697632: 100%|██████████| 319/319 [00:14<00:00, 21.98it/s]          \n",
      "[TRAIN 197, 1] loss: 0.17759859561920166 loss_reg: 0.23125247657299042 loss_line: 0.12394469976425171 acc: 0.1653645932674408 acc_reg: 0.1640625 acc_line: 0.1666666716337204:   1%|          | 3/319 [00:00<00:14, 21.34it/s]"
     ]
    },
    {
     "name": "stdout",
     "output_type": "stream",
     "text": [
      "[VALIDATION 196] val_acc: 0.9863861386138614 val_acc_reg: 0.9823638613861386 val_acc_line: 0.9904084158415841 \n"
     ]
    },
    {
     "name": "stderr",
     "output_type": "stream",
     "text": [
      "[TRAIN 197, 319] loss: 1.0591185092926025 loss_reg: 1.3745687007904053 loss_line: 0.7436681985855103 acc: 0.9986979365348816 acc_reg: 0.9973958730697632 acc_line: 1.0: 100%|██████████| 319/319 [00:14<00:00, 21.96it/s]               \n",
      "[TRAIN 198, 1] loss: 0.17630159854888916 loss_reg: 0.2286584973335266 loss_line: 0.12394469976425171 acc: 0.1666666716337204 acc_reg: 0.1666666716337204 acc_line: 0.1666666716337204:   1%|          | 3/319 [00:00<00:15, 20.58it/s]"
     ]
    },
    {
     "name": "stdout",
     "output_type": "stream",
     "text": [
      "[VALIDATION 197] val_acc: 0.9883972772277227 val_acc_reg: 0.9859220297029703 val_acc_line: 0.9908725247524752 \n"
     ]
    },
    {
     "name": "stderr",
     "output_type": "stream",
     "text": [
      "[TRAIN 198, 319] loss: 1.0591124296188354 loss_reg: 1.3719522953033447 loss_line: 0.7462723255157471 acc: 0.9986979365348816 acc_reg: 1.0 acc_line: 0.9973958730697632: 100%|██████████| 319/319 [00:14<00:00, 21.98it/s]             \n",
      "[TRAIN 199, 1] loss: 0.17630165815353394 loss_reg: 0.22865861654281616 loss_line: 0.12394469976425171 acc: 0.1666666716337204 acc_reg: 0.1666666716337204 acc_line: 0.1666666716337204:   1%|          | 2/319 [00:00<00:16, 19.06it/s]"
     ]
    },
    {
     "name": "stdout",
     "output_type": "stream",
     "text": [
      "[VALIDATION 198] val_acc: 0.9884746287128713 val_acc_reg: 0.9849938118811881 val_acc_line: 0.9919554455445545 \n"
     ]
    },
    {
     "name": "stderr",
     "output_type": "stream",
     "text": [
      "[TRAIN 199, 319] loss: 1.0627009868621826 loss_reg: 1.379129409790039 loss_line: 0.7462725639343262 acc: 0.9947916865348816 acc_reg: 0.9921875 acc_line: 0.9973958730697632: 100%|██████████| 319/319 [00:14<00:00, 21.89it/s]          \n",
      "[TRAIN 200, 1] loss: 0.17630159854888916 loss_reg: 0.2286584973335266 loss_line: 0.12394469976425171 acc: 0.1666666716337204 acc_reg: 0.1666666716337204 acc_line: 0.1666666716337204:   1%|          | 2/319 [00:00<00:18, 17.01it/s]"
     ]
    },
    {
     "name": "stdout",
     "output_type": "stream",
     "text": [
      "[VALIDATION 199] val_acc: 0.9890934405940595 val_acc_reg: 0.9856126237623762 val_acc_line: 0.9925742574257426 \n"
     ]
    },
    {
     "name": "stderr",
     "output_type": "stream",
     "text": [
      "[TRAIN 200, 319] loss: 1.0591118335723877 loss_reg: 1.3745551109313965 loss_line: 0.7436685562133789 acc: 0.9986979365348816 acc_reg: 0.9973958730697632 acc_line: 1.0: 100%|██████████| 319/319 [00:14<00:00, 21.98it/s]               \n",
      "[TRAIN 201, 1] loss: 0.17767426371574402 loss_reg: 0.23123261332511902 loss_line: 0.12411592900753021 acc: 0.1653645932674408 acc_reg: 0.1640625 acc_line: 0.1666666716337204:   1%|          | 2/319 [00:00<00:16, 18.90it/s]"
     ]
    },
    {
     "name": "stdout",
     "output_type": "stream",
     "text": [
      "[VALIDATION 200] val_acc: 0.989944306930693 val_acc_reg: 0.9877784653465347 val_acc_line: 0.9921101485148515 \n"
     ]
    },
    {
     "name": "stderr",
     "output_type": "stream",
     "text": [
      "[TRAIN 201, 319] loss: 1.059232234954834 loss_reg: 1.3719830513000488 loss_line: 0.7464811205863953 acc: 0.9986979365348816 acc_reg: 1.0 acc_line: 0.9973958730697632: 100%|██████████| 319/319 [00:14<00:00, 21.98it/s]                \n",
      "[TRAIN 202, 1] loss: 0.17760369181632996 loss_reg: 0.2286584973335266 loss_line: 0.1265488713979721 acc: 0.1653645932674408 acc_reg: 0.1666666716337204 acc_line: 0.1640625:   1%|          | 3/319 [00:00<00:13, 22.84it/s]"
     ]
    },
    {
     "name": "stdout",
     "output_type": "stream",
     "text": [
      "[VALIDATION 201] val_acc: 0.9907951732673267 val_acc_reg: 0.9883972772277227 val_acc_line: 0.9931930693069307 \n"
     ]
    },
    {
     "name": "stderr",
     "output_type": "stream",
     "text": [
      "[TRAIN 202, 319] loss: 1.0623291730880737 loss_reg: 1.3745577335357666 loss_line: 0.7501007914543152 acc: 0.9947916865348816 acc_reg: 0.9973958730697632 acc_line: 0.9921875: 100%|██████████| 319/319 [00:14<00:00, 22.02it/s]         \n",
      "[TRAIN 203, 1] loss: 0.17630159854888916 loss_reg: 0.2286584973335266 loss_line: 0.12394469976425171 acc: 0.1666666716337204 acc_reg: 0.1666666716337204 acc_line: 0.1666666716337204:   1%|          | 2/319 [00:00<00:16, 19.73it/s]"
     ]
    },
    {
     "name": "stdout",
     "output_type": "stream",
     "text": [
      "[VALIDATION 202] val_acc: 0.9909498762376238 val_acc_reg: 0.9897896039603961 val_acc_line: 0.9921101485148515 \n"
     ]
    },
    {
     "name": "stderr",
     "output_type": "stream",
     "text": [
      "[TRAIN 203, 319] loss: 1.0650653839111328 loss_reg: 1.3764480352401733 loss_line: 0.7536829710006714 acc: 0.9921875 acc_reg: 0.9947916865348816 acc_line: 0.9895833730697632: 100%|██████████| 319/319 [00:14<00:00, 22.02it/s]         \n",
      "[TRAIN 204, 1] loss: 0.17630159854888916 loss_reg: 0.2286584973335266 loss_line: 0.12394469976425171 acc: 0.1666666716337204 acc_reg: 0.1666666716337204 acc_line: 0.1666666716337204:   1%|          | 3/319 [00:00<00:14, 21.40it/s]"
     ]
    },
    {
     "name": "stdout",
     "output_type": "stream",
     "text": [
      "[VALIDATION 203] val_acc: 0.9884746287128713 val_acc_reg: 0.9859220297029703 val_acc_line: 0.9910272277227723 \n"
     ]
    },
    {
     "name": "stderr",
     "output_type": "stream",
     "text": [
      "[TRAIN 204, 319] loss: 1.0643805265426636 loss_reg: 1.3772491216659546 loss_line: 0.7515117526054382 acc: 0.9934896230697632 acc_reg: 0.9947916865348816 acc_line: 0.9921875: 100%|██████████| 319/319 [00:14<00:00, 22.04it/s]         \n",
      "[TRAIN 205, 1] loss: 0.17630258202552795 loss_reg: 0.2286584973335266 loss_line: 0.1239466592669487 acc: 0.1666666716337204 acc_reg: 0.1666666716337204 acc_line: 0.1666666716337204:   1%|          | 2/319 [00:00<00:16, 19.06it/s]"
     ]
    },
    {
     "name": "stdout",
     "output_type": "stream",
     "text": [
      "[VALIDATION 204] val_acc: 0.989480198019802 val_acc_reg: 0.9863861386138614 val_acc_line: 0.9925742574257426 \n"
     ]
    },
    {
     "name": "stderr",
     "output_type": "stream",
     "text": [
      "[TRAIN 205, 319] loss: 1.0617144107818604 loss_reg: 1.3771562576293945 loss_line: 0.7462723255157471 acc: 0.99609375 acc_reg: 0.9947916865348816 acc_line: 0.9973958730697632: 100%|██████████| 319/319 [00:14<00:00, 22.10it/s]        \n",
      "[TRAIN 206, 1] loss: 0.17630170285701752 loss_reg: 0.22865870594978333 loss_line: 0.12394469976425171 acc: 0.1666666716337204 acc_reg: 0.1666666716337204 acc_line: 0.1666666716337204:   1%|          | 3/319 [00:00<00:14, 21.52it/s]"
     ]
    },
    {
     "name": "stdout",
     "output_type": "stream",
     "text": [
      "[VALIDATION 205] val_acc: 0.9910272277227723 val_acc_reg: 0.9887066831683168 val_acc_line: 0.9933477722772277 \n"
     ]
    },
    {
     "name": "stderr",
     "output_type": "stream",
     "text": [
      "[TRAIN 206, 319] loss: 1.0591142177581787 loss_reg: 1.374554991722107 loss_line: 0.7436734437942505 acc: 0.9986979365348816 acc_reg: 0.9973958730697632 acc_line: 1.0: 100%|██████████| 319/319 [00:14<00:00, 21.76it/s]                \n",
      "[TRAIN 207, 1] loss: 0.17630159854888916 loss_reg: 0.2286584973335266 loss_line: 0.12394469976425171 acc: 0.1666666716337204 acc_reg: 0.1666666716337204 acc_line: 0.1666666716337204:   1%|          | 2/319 [00:00<00:16, 19.40it/s]"
     ]
    },
    {
     "name": "stdout",
     "output_type": "stream",
     "text": [
      "[VALIDATION 206] val_acc: 0.986618193069307 val_acc_reg: 0.9825185643564357 val_acc_line: 0.9907178217821783 \n"
     ]
    },
    {
     "name": "stderr",
     "output_type": "stream",
     "text": [
      "[TRAIN 207, 319] loss: 1.0591224431991577 loss_reg: 1.3745551109313965 loss_line: 0.743689775466919 acc: 0.9986979365348816 acc_reg: 0.9973958730697632 acc_line: 1.0: 100%|██████████| 319/319 [00:14<00:00, 21.87it/s]                \n",
      "[TRAIN 208, 1] loss: 0.17630164325237274 loss_reg: 0.2286585569381714 loss_line: 0.12394469976425171 acc: 0.1666666716337204 acc_reg: 0.1666666716337204 acc_line: 0.1666666716337204:   1%|          | 3/319 [00:00<00:14, 21.52it/s]"
     ]
    },
    {
     "name": "stdout",
     "output_type": "stream",
     "text": [
      "[VALIDATION 207] val_acc: 0.9883972772277227 val_acc_reg: 0.9860767326732673 val_acc_line: 0.9907178217821783 \n"
     ]
    },
    {
     "name": "stderr",
     "output_type": "stream",
     "text": [
      "[TRAIN 208, 319] loss: 1.0591118335723877 loss_reg: 1.3719509840011597 loss_line: 0.7462723255157471 acc: 0.9986979365348816 acc_reg: 1.0 acc_line: 0.9973958730697632: 100%|██████████| 319/319 [00:14<00:00, 21.94it/s]               \n",
      "[TRAIN 209, 1] loss: 0.17630159854888916 loss_reg: 0.2286584973335266 loss_line: 0.12394469976425171 acc: 0.1666666716337204 acc_reg: 0.1666666716337204 acc_line: 0.1666666716337204:   1%|          | 2/319 [00:00<00:16, 18.79it/s]"
     ]
    },
    {
     "name": "stdout",
     "output_type": "stream",
     "text": [
      "[VALIDATION 208] val_acc: 0.989944306930693 val_acc_reg: 0.9876237623762376 val_acc_line: 0.9922648514851485 \n"
     ]
    },
    {
     "name": "stderr",
     "output_type": "stream",
     "text": [
      "[TRAIN 209, 319] loss: 1.0578097105026245 loss_reg: 1.3719509840011597 loss_line: 0.743668258190155 acc: 1.0 acc_reg: 1.0 acc_line: 1.0: 100%|██████████| 319/319 [00:14<00:00, 21.94it/s]                                              \n",
      "[TRAIN 210, 1] loss: 0.17630159854888916 loss_reg: 0.2286584973335266 loss_line: 0.12394469976425171 acc: 0.1666666716337204 acc_reg: 0.1666666716337204 acc_line: 0.1666666716337204:   1%|          | 3/319 [00:00<00:14, 21.57it/s]"
     ]
    },
    {
     "name": "stdout",
     "output_type": "stream",
     "text": [
      "[VALIDATION 209] val_acc: 0.989634900990099 val_acc_reg: 0.9885519801980198 val_acc_line: 0.9907178217821783 \n"
     ]
    },
    {
     "name": "stderr",
     "output_type": "stream",
     "text": [
      "[TRAIN 210, 319] loss: 1.0591118335723877 loss_reg: 1.3745551109313965 loss_line: 0.7436681985855103 acc: 0.9986979365348816 acc_reg: 0.9973958730697632 acc_line: 1.0: 100%|██████████| 319/319 [00:14<00:00, 21.84it/s]               \n",
      "[TRAIN 211, 1] loss: 0.17630159854888916 loss_reg: 0.2286584973335266 loss_line: 0.12394469976425171 acc: 0.1666666716337204 acc_reg: 0.1666666716337204 acc_line: 0.1666666716337204:   1%|          | 2/319 [00:00<00:20, 15.40it/s]"
     ]
    },
    {
     "name": "stdout",
     "output_type": "stream",
     "text": [
      "[VALIDATION 210] val_acc: 0.9911045792079208 val_acc_reg: 0.9887066831683168 val_acc_line: 0.9935024752475248 \n"
     ]
    },
    {
     "name": "stderr",
     "output_type": "stream",
     "text": [
      "[TRAIN 211, 319] loss: 1.0604138374328613 loss_reg: 1.3745553493499756 loss_line: 0.7462723255157471 acc: 0.9973958730697632 acc_reg: 0.9973958730697632 acc_line: 0.9973958730697632: 100%|██████████| 319/319 [00:14<00:00, 21.77it/s]\n",
      "[TRAIN 212, 1] loss: 0.17760369181632996 loss_reg: 0.231262668967247 loss_line: 0.12394469976425171 acc: 0.1653645932674408 acc_reg: 0.1640625 acc_line: 0.1666666716337204:   1%|          | 3/319 [00:00<00:14, 22.03it/s]"
     ]
    },
    {
     "name": "stdout",
     "output_type": "stream",
     "text": [
      "[VALIDATION 211] val_acc: 0.9900990099009901 val_acc_reg: 0.9873143564356436 val_acc_line: 0.9928836633663366 \n"
     ]
    },
    {
     "name": "stderr",
     "output_type": "stream",
     "text": [
      "[TRAIN 212, 319] loss: 1.0591118335723877 loss_reg: 1.3745553493499756 loss_line: 0.7436681985855103 acc: 0.9986979365348816 acc_reg: 0.9973958730697632 acc_line: 1.0: 100%|██████████| 319/319 [00:14<00:00, 21.88it/s]               \n",
      "[TRAIN 213, 1] loss: 0.17630159854888916 loss_reg: 0.2286584973335266 loss_line: 0.12394469976425171 acc: 0.1666666716337204 acc_reg: 0.1666666716337204 acc_line: 0.1666666716337204:   1%|          | 2/319 [00:00<00:15, 19.98it/s]"
     ]
    },
    {
     "name": "stdout",
     "output_type": "stream",
     "text": [
      "[VALIDATION 212] val_acc: 0.9878558168316832 val_acc_reg: 0.9860767326732673 val_acc_line: 0.989634900990099 \n"
     ]
    },
    {
     "name": "stderr",
     "output_type": "stream",
     "text": [
      "[TRAIN 213, 319] loss: 1.0578097105026245 loss_reg: 1.3719511032104492 loss_line: 0.7436681985855103 acc: 1.0 acc_reg: 1.0 acc_line: 1.0: 100%|██████████| 319/319 [00:14<00:00, 21.86it/s]                                             \n",
      "[TRAIN 214, 1] loss: 0.17630159854888916 loss_reg: 0.2286584973335266 loss_line: 0.12394469976425171 acc: 0.1666666716337204 acc_reg: 0.1666666716337204 acc_line: 0.1666666716337204:   1%|          | 3/319 [00:00<00:14, 21.82it/s]"
     ]
    },
    {
     "name": "stdout",
     "output_type": "stream",
     "text": [
      "[VALIDATION 213] val_acc: 0.989944306930693 val_acc_reg: 0.9877784653465347 val_acc_line: 0.9921101485148515 \n"
     ]
    },
    {
     "name": "stderr",
     "output_type": "stream",
     "text": [
      "[TRAIN 214, 319] loss: 1.0590572357177734 loss_reg: 1.3719513416290283 loss_line: 0.746163010597229 acc: 0.9986979365348816 acc_reg: 1.0 acc_line: 0.9973958730697632: 100%|██████████| 319/319 [00:14<00:00, 21.81it/s]                \n",
      "[TRAIN 215, 1] loss: 0.17630159854888916 loss_reg: 0.2286584973335266 loss_line: 0.12394469976425171 acc: 0.1666666716337204 acc_reg: 0.1666666716337204 acc_line: 0.1666666716337204:   1%|          | 3/319 [00:00<00:14, 22.07it/s]"
     ]
    },
    {
     "name": "stdout",
     "output_type": "stream",
     "text": [
      "[VALIDATION 214] val_acc: 0.9904084158415841 val_acc_reg: 0.9880878712871287 val_acc_line: 0.9927289603960396 \n"
     ]
    },
    {
     "name": "stderr",
     "output_type": "stream",
     "text": [
      "[TRAIN 215, 319] loss: 1.0578100681304932 loss_reg: 1.3719518184661865 loss_line: 0.743668258190155 acc: 1.0 acc_reg: 1.0 acc_line: 1.0: 100%|██████████| 319/319 [00:14<00:00, 21.78it/s]                                              \n",
      "[TRAIN 216, 1] loss: 0.17630159854888916 loss_reg: 0.2286584973335266 loss_line: 0.12394469976425171 acc: 0.1666666716337204 acc_reg: 0.1666666716337204 acc_line: 0.1666666716337204:   1%|          | 3/319 [00:00<00:15, 20.97it/s]"
     ]
    },
    {
     "name": "stdout",
     "output_type": "stream",
     "text": [
      "[VALIDATION 215] val_acc: 0.9889387376237624 val_acc_reg: 0.9863861386138614 val_acc_line: 0.9914913366336634 \n"
     ]
    },
    {
     "name": "stderr",
     "output_type": "stream",
     "text": [
      "[TRAIN 216, 319] loss: 1.0578097105026245 loss_reg: 1.3719511032104492 loss_line: 0.7436681985855103 acc: 1.0 acc_reg: 1.0 acc_line: 1.0: 100%|██████████| 319/319 [00:14<00:00, 21.78it/s]                                             \n",
      "[TRAIN 217, 1] loss: 0.17630159854888916 loss_reg: 0.2286584973335266 loss_line: 0.12394469976425171 acc: 0.1666666716337204 acc_reg: 0.1666666716337204 acc_line: 0.1666666716337204:   1%|          | 3/319 [00:00<00:13, 22.83it/s]"
     ]
    },
    {
     "name": "stdout",
     "output_type": "stream",
     "text": [
      "[VALIDATION 216] val_acc: 0.9889387376237624 val_acc_reg: 0.9866955445544554 val_acc_line: 0.9911819306930693 \n"
     ]
    },
    {
     "name": "stderr",
     "output_type": "stream",
     "text": [
      "[TRAIN 217, 319] loss: 1.0591334104537964 loss_reg: 1.3745983839035034 loss_line: 0.743668258190155 acc: 0.9986979365348816 acc_reg: 0.9973958730697632 acc_line: 1.0: 100%|██████████| 319/319 [00:14<00:00, 21.84it/s]                \n",
      "[TRAIN 218, 1] loss: 0.17630159854888916 loss_reg: 0.2286584973335266 loss_line: 0.12394469976425171 acc: 0.1666666716337204 acc_reg: 0.1666666716337204 acc_line: 0.1666666716337204:   1%|          | 3/319 [00:00<00:14, 22.31it/s]"
     ]
    },
    {
     "name": "stdout",
     "output_type": "stream",
     "text": [
      "[VALIDATION 217] val_acc: 0.9908725247524752 val_acc_reg: 0.9882425742574258 val_acc_line: 0.9935024752475248 \n"
     ]
    },
    {
     "name": "stderr",
     "output_type": "stream",
     "text": [
      "[TRAIN 218, 319] loss: 1.0587857961654663 loss_reg: 1.3739032745361328 loss_line: 0.7436681985855103 acc: 0.9986979365348816 acc_reg: 0.9973958730697632 acc_line: 1.0: 100%|██████████| 319/319 [00:14<00:00, 21.95it/s]               \n",
      "[TRAIN 219, 1] loss: 0.17630159854888916 loss_reg: 0.2286584973335266 loss_line: 0.12394469976425171 acc: 0.1666666716337204 acc_reg: 0.1666666716337204 acc_line: 0.1666666716337204:   1%|          | 3/319 [00:00<00:15, 20.82it/s]"
     ]
    },
    {
     "name": "stdout",
     "output_type": "stream",
     "text": [
      "[VALIDATION 218] val_acc: 0.9913366336633663 val_acc_reg: 0.9891707920792079 val_acc_line: 0.9935024752475248 \n"
     ]
    },
    {
     "name": "stderr",
     "output_type": "stream",
     "text": [
      "[TRAIN 219, 319] loss: 1.0591118335723877 loss_reg: 1.3745553493499756 loss_line: 0.743668258190155 acc: 0.9986979365348816 acc_reg: 0.9973958730697632 acc_line: 1.0: 100%|██████████| 319/319 [00:14<00:00, 21.86it/s]                \n",
      "[TRAIN 220, 1] loss: 0.17630159854888916 loss_reg: 0.2286584973335266 loss_line: 0.12394469976425171 acc: 0.1666666716337204 acc_reg: 0.1666666716337204 acc_line: 0.1666666716337204:   1%|          | 3/319 [00:00<00:15, 20.83it/s]"
     ]
    },
    {
     "name": "stdout",
     "output_type": "stream",
     "text": [
      "[VALIDATION 219] val_acc: 0.9902537128712872 val_acc_reg: 0.9870049504950495 val_acc_line: 0.9935024752475248 \n"
     ]
    },
    {
     "name": "stderr",
     "output_type": "stream",
     "text": [
      "[TRAIN 220, 319] loss: 1.0617159605026245 loss_reg: 1.3745553493499756 loss_line: 0.748876690864563 acc: 0.99609375 acc_reg: 0.9973958730697632 acc_line: 0.9947916865348816: 100%|██████████| 319/319 [00:14<00:00, 21.89it/s]         \n",
      "[TRAIN 221, 1] loss: 0.17630164325237274 loss_reg: 0.22865858674049377 loss_line: 0.12394469976425171 acc: 0.1666666716337204 acc_reg: 0.1666666716337204 acc_line: 0.1666666716337204:   1%|          | 2/319 [00:00<00:16, 19.79it/s]"
     ]
    },
    {
     "name": "stdout",
     "output_type": "stream",
     "text": [
      "[VALIDATION 220] val_acc: 0.9887840346534653 val_acc_reg: 0.9874690594059405 val_acc_line: 0.9900990099009901 \n"
     ]
    },
    {
     "name": "stderr",
     "output_type": "stream",
     "text": [
      "[TRAIN 221, 319] loss: 1.0589956045150757 loss_reg: 1.374322772026062 loss_line: 0.7436684370040894 acc: 0.9986979365348816 acc_reg: 0.9973958730697632 acc_line: 1.0: 100%|██████████| 319/319 [00:14<00:00, 21.85it/s]                \n",
      "[TRAIN 222, 1] loss: 0.17630159854888916 loss_reg: 0.2286584973335266 loss_line: 0.12394469976425171 acc: 0.1666666716337204 acc_reg: 0.1666666716337204 acc_line: 0.1666666716337204:   1%|          | 2/319 [00:00<00:16, 19.25it/s]"
     ]
    },
    {
     "name": "stdout",
     "output_type": "stream",
     "text": [
      "[VALIDATION 221] val_acc: 0.9870049504950495 val_acc_reg: 0.984684405940594 val_acc_line: 0.989325495049505 \n"
     ]
    },
    {
     "name": "stderr",
     "output_type": "stream",
     "text": [
      "[TRAIN 222, 319] loss: 1.0591130256652832 loss_reg: 1.3745551109313965 loss_line: 0.7436707019805908 acc: 0.9986979365348816 acc_reg: 0.9973958730697632 acc_line: 1.0: 100%|██████████| 319/319 [00:14<00:00, 21.93it/s]               \n",
      "[TRAIN 223, 1] loss: 0.17760369181632996 loss_reg: 0.231262668967247 loss_line: 0.12394469976425171 acc: 0.1653645932674408 acc_reg: 0.1640625 acc_line: 0.1666666716337204:   1%|          | 3/319 [00:00<00:14, 22.16it/s]"
     ]
    },
    {
     "name": "stdout",
     "output_type": "stream",
     "text": [
      "[VALIDATION 222] val_acc: 0.989325495049505 val_acc_reg: 0.9856126237623762 val_acc_line: 0.9930383663366337 \n"
     ]
    },
    {
     "name": "stderr",
     "output_type": "stream",
     "text": [
      "[TRAIN 223, 319] loss: 1.0591118335723877 loss_reg: 1.3719509840011597 loss_line: 0.7462723255157471 acc: 0.9986979365348816 acc_reg: 1.0 acc_line: 0.9973958730697632: 100%|██████████| 319/319 [00:14<00:00, 21.91it/s]               \n",
      "[TRAIN 224, 1] loss: 0.17760372161865234 loss_reg: 0.23126277327537537 loss_line: 0.12394469976425171 acc: 0.1653645932674408 acc_reg: 0.1640625 acc_line: 0.1666666716337204:   1%|          | 2/319 [00:00<00:16, 19.05it/s]"
     ]
    },
    {
     "name": "stdout",
     "output_type": "stream",
     "text": [
      "[VALIDATION 223] val_acc: 0.989325495049505 val_acc_reg: 0.9874690594059405 val_acc_line: 0.9911819306930693 \n"
     ]
    },
    {
     "name": "stderr",
     "output_type": "stream",
     "text": [
      "[TRAIN 224, 319] loss: 1.0578097105026245 loss_reg: 1.3719511032104492 loss_line: 0.743668258190155 acc: 1.0 acc_reg: 1.0 acc_line: 1.0: 100%|██████████| 319/319 [00:14<00:00, 21.91it/s]                                              \n",
      "[TRAIN 225, 1] loss: 0.17630170285701752 loss_reg: 0.22865870594978333 loss_line: 0.12394469976425171 acc: 0.1666666716337204 acc_reg: 0.1666666716337204 acc_line: 0.1666666716337204:   1%|          | 3/319 [00:00<00:15, 20.55it/s]"
     ]
    },
    {
     "name": "stdout",
     "output_type": "stream",
     "text": [
      "[VALIDATION 224] val_acc: 0.9903310643564357 val_acc_reg: 0.9880878712871287 val_acc_line: 0.9925742574257426 \n"
     ]
    },
    {
     "name": "stderr",
     "output_type": "stream",
     "text": [
      "[TRAIN 225, 319] loss: 1.0617687702178955 loss_reg: 1.379868984222412 loss_line: 0.743668258190155 acc: 0.99609375 acc_reg: 0.9921875 acc_line: 1.0: 100%|██████████| 319/319 [00:14<00:00, 21.87it/s]                                  \n",
      "[TRAIN 226, 1] loss: 0.17630159854888916 loss_reg: 0.2286584973335266 loss_line: 0.12394469976425171 acc: 0.1666666716337204 acc_reg: 0.1666666716337204 acc_line: 0.1666666716337204:   1%|          | 3/319 [00:00<00:16, 19.47it/s]"
     ]
    },
    {
     "name": "stdout",
     "output_type": "stream",
     "text": [
      "[VALIDATION 225] val_acc: 0.9897896039603961 val_acc_reg: 0.9865408415841584 val_acc_line: 0.9930383663366337 \n"
     ]
    },
    {
     "name": "stderr",
     "output_type": "stream",
     "text": [
      "[TRAIN 226, 319] loss: 1.0578397512435913 loss_reg: 1.3720111846923828 loss_line: 0.7436681985855103 acc: 1.0 acc_reg: 1.0 acc_line: 1.0: 100%|██████████| 319/319 [00:14<00:00, 21.94it/s]                                             \n",
      "[TRAIN 227, 1] loss: 0.17630159854888916 loss_reg: 0.2286584973335266 loss_line: 0.12394469976425171 acc: 0.1666666716337204 acc_reg: 0.1666666716337204 acc_line: 0.1666666716337204:   1%|          | 2/319 [00:00<00:16, 18.89it/s]"
     ]
    },
    {
     "name": "stdout",
     "output_type": "stream",
     "text": [
      "[VALIDATION 226] val_acc: 0.9903310643564357 val_acc_reg: 0.9880878712871287 val_acc_line: 0.9925742574257426 \n"
     ]
    },
    {
     "name": "stderr",
     "output_type": "stream",
     "text": [
      "[TRAIN 227, 319] loss: 1.0578097105026245 loss_reg: 1.3719511032104492 loss_line: 0.7436681985855103 acc: 1.0 acc_reg: 1.0 acc_line: 1.0: 100%|██████████| 319/319 [00:14<00:00, 21.87it/s]                                             \n",
      "[TRAIN 228, 1] loss: 0.17630159854888916 loss_reg: 0.2286584973335266 loss_line: 0.12394469976425171 acc: 0.1666666716337204 acc_reg: 0.1666666716337204 acc_line: 0.1666666716337204:   1%|          | 2/319 [00:00<00:18, 17.20it/s]"
     ]
    },
    {
     "name": "stdout",
     "output_type": "stream",
     "text": [
      "[VALIDATION 227] val_acc: 0.9909498762376238 val_acc_reg: 0.9880878712871287 val_acc_line: 0.9938118811881188 \n"
     ]
    },
    {
     "name": "stderr",
     "output_type": "stream",
     "text": [
      "[TRAIN 228, 319] loss: 1.0578112602233887 loss_reg: 1.371954321861267 loss_line: 0.7436681985855103 acc: 1.0 acc_reg: 1.0 acc_line: 1.0: 100%|██████████| 319/319 [00:14<00:00, 21.90it/s]                                              \n",
      "[TRAIN 229, 1] loss: 0.17630159854888916 loss_reg: 0.2286584973335266 loss_line: 0.12394469976425171 acc: 0.1666666716337204 acc_reg: 0.1666666716337204 acc_line: 0.1666666716337204:   1%|          | 2/319 [00:00<00:17, 18.21it/s]"
     ]
    },
    {
     "name": "stdout",
     "output_type": "stream",
     "text": [
      "[VALIDATION 228] val_acc: 0.9890934405940595 val_acc_reg: 0.9857673267326733 val_acc_line: 0.9924195544554455 \n"
     ]
    },
    {
     "name": "stderr",
     "output_type": "stream",
     "text": [
      "[TRAIN 229, 319] loss: 1.0603399276733398 loss_reg: 1.3719563484191895 loss_line: 0.7487236261367798 acc: 0.9973958730697632 acc_reg: 1.0 acc_line: 0.9947916865348816: 100%|██████████| 319/319 [00:14<00:00, 21.87it/s]               \n",
      "[TRAIN 230, 1] loss: 0.17630159854888916 loss_reg: 0.2286584973335266 loss_line: 0.12394469976425171 acc: 0.1666666716337204 acc_reg: 0.1666666716337204 acc_line: 0.1666666716337204:   1%|          | 3/319 [00:00<00:14, 21.64it/s]"
     ]
    },
    {
     "name": "stdout",
     "output_type": "stream",
     "text": [
      "[VALIDATION 229] val_acc: 0.9889387376237624 val_acc_reg: 0.9887066831683168 val_acc_line: 0.9891707920792079 \n"
     ]
    },
    {
     "name": "stderr",
     "output_type": "stream",
     "text": [
      "[TRAIN 230, 319] loss: 1.0581412315368652 loss_reg: 1.3726142644882202 loss_line: 0.743668258190155 acc: 1.0 acc_reg: 1.0 acc_line: 1.0: 100%|██████████| 319/319 [00:14<00:00, 21.82it/s]                                             \n",
      "[TRAIN 231, 1] loss: 0.17760369181632996 loss_reg: 0.231262668967247 loss_line: 0.12394469976425171 acc: 0.1653645932674408 acc_reg: 0.1640625 acc_line: 0.1666666716337204:   1%|          | 3/319 [00:00<00:14, 21.95it/s]"
     ]
    },
    {
     "name": "stdout",
     "output_type": "stream",
     "text": [
      "[VALIDATION 230] val_acc: 0.986927599009901 val_acc_reg: 0.9831373762376238 val_acc_line: 0.9907178217821783 \n"
     ]
    },
    {
     "name": "stderr",
     "output_type": "stream",
     "text": [
      "[TRAIN 231, 319] loss: 1.0591213703155518 loss_reg: 1.3745741844177246 loss_line: 0.7436684370040894 acc: 0.9986979365348816 acc_reg: 0.9973958730697632 acc_line: 1.0: 100%|██████████| 319/319 [00:14<00:00, 21.81it/s]              \n",
      "[TRAIN 232, 1] loss: 0.17630162835121155 loss_reg: 0.2286585420370102 loss_line: 0.12394469976425171 acc: 0.1666666716337204 acc_reg: 0.1666666716337204 acc_line: 0.1666666716337204:   1%|          | 2/319 [00:00<00:16, 19.22it/s]"
     ]
    },
    {
     "name": "stdout",
     "output_type": "stream",
     "text": [
      "[VALIDATION 231] val_acc: 0.9890160891089109 val_acc_reg: 0.9849938118811881 val_acc_line: 0.9930383663366337 \n"
     ]
    },
    {
     "name": "stderr",
     "output_type": "stream",
     "text": [
      "[TRAIN 232, 319] loss: 1.0583019256591797 loss_reg: 1.3720300197601318 loss_line: 0.744573712348938 acc: 1.0 acc_reg: 1.0 acc_line: 1.0: 100%|██████████| 319/319 [00:14<00:00, 21.81it/s]                                              \n",
      "[TRAIN 233, 1] loss: 0.17630159854888916 loss_reg: 0.2286584973335266 loss_line: 0.1239447146654129 acc: 0.1666666716337204 acc_reg: 0.1666666716337204 acc_line: 0.1666666716337204:   1%|          | 3/319 [00:00<00:15, 20.92it/s]"
     ]
    },
    {
     "name": "stdout",
     "output_type": "stream",
     "text": [
      "[VALIDATION 232] val_acc: 0.9894028465346535 val_acc_reg: 0.9860767326732673 val_acc_line: 0.9927289603960396 \n"
     ]
    },
    {
     "name": "stderr",
     "output_type": "stream",
     "text": [
      "[TRAIN 233, 319] loss: 1.0591118335723877 loss_reg: 1.3745551109313965 loss_line: 0.7436681985855103 acc: 0.9986979365348816 acc_reg: 0.9973958730697632 acc_line: 1.0: 100%|██████████| 319/319 [00:14<00:00, 21.79it/s]               \n",
      "[TRAIN 234, 1] loss: 0.17630159854888916 loss_reg: 0.2286584973335266 loss_line: 0.12394469976425171 acc: 0.1666666716337204 acc_reg: 0.1666666716337204 acc_line: 0.1666666716337204:   1%|          | 3/319 [00:00<00:14, 22.21it/s]"
     ]
    },
    {
     "name": "stdout",
     "output_type": "stream",
     "text": [
      "[VALIDATION 233] val_acc: 0.9890160891089109 val_acc_reg: 0.9874690594059405 val_acc_line: 0.9905631188118812 \n"
     ]
    },
    {
     "name": "stderr",
     "output_type": "stream",
     "text": [
      "[TRAIN 234, 319] loss: 1.057809829711914 loss_reg: 1.3719509840011597 loss_line: 0.7436684370040894 acc: 1.0 acc_reg: 1.0 acc_line: 1.0: 100%|██████████| 319/319 [00:14<00:00, 21.82it/s]                                              \n",
      "[TRAIN 235, 1] loss: 0.17630159854888916 loss_reg: 0.2286584973335266 loss_line: 0.12394469976425171 acc: 0.1666666716337204 acc_reg: 0.1666666716337204 acc_line: 0.1666666716337204:   1%|          | 2/319 [00:00<00:16, 18.74it/s]"
     ]
    },
    {
     "name": "stdout",
     "output_type": "stream",
     "text": [
      "[VALIDATION 234] val_acc: 0.9913366336633663 val_acc_reg: 0.9880878712871287 val_acc_line: 0.9945853960396039 \n"
     ]
    },
    {
     "name": "stderr",
     "output_type": "stream",
     "text": [
      "[TRAIN 235, 319] loss: 1.0591119527816772 loss_reg: 1.3719514608383179 loss_line: 0.7462723255157471 acc: 0.9986979365348816 acc_reg: 1.0 acc_line: 0.9973958730697632: 100%|██████████| 319/319 [00:14<00:00, 21.98it/s]               \n",
      "[TRAIN 236, 1] loss: 0.17630159854888916 loss_reg: 0.2286584973335266 loss_line: 0.12394469976425171 acc: 0.1666666716337204 acc_reg: 0.1666666716337204 acc_line: 0.1666666716337204:   1%|          | 2/319 [00:00<00:16, 19.33it/s]"
     ]
    },
    {
     "name": "stdout",
     "output_type": "stream",
     "text": [
      "[VALIDATION 235] val_acc: 0.9904084158415841 val_acc_reg: 0.9890160891089109 val_acc_line: 0.9918007425742574 \n"
     ]
    },
    {
     "name": "stderr",
     "output_type": "stream",
     "text": [
      "[TRAIN 236, 319] loss: 1.0591144561767578 loss_reg: 1.3719563484191895 loss_line: 0.7462724447250366 acc: 0.9986979365348816 acc_reg: 1.0 acc_line: 0.9973958730697632: 100%|██████████| 319/319 [00:14<00:00, 22.03it/s]               \n",
      "[TRAIN 237, 1] loss: 0.17630162835121155 loss_reg: 0.2286584973335266 loss_line: 0.12394474446773529 acc: 0.1666666716337204 acc_reg: 0.1666666716337204 acc_line: 0.1666666716337204:   1%|          | 3/319 [00:00<00:13, 22.62it/s]"
     ]
    },
    {
     "name": "stdout",
     "output_type": "stream",
     "text": [
      "[VALIDATION 236] val_acc: 0.9886293316831684 val_acc_reg: 0.9859220297029703 val_acc_line: 0.9913366336633663 \n"
     ]
    },
    {
     "name": "stderr",
     "output_type": "stream",
     "text": [
      "[TRAIN 237, 319] loss: 1.0591129064559937 loss_reg: 1.374557375907898 loss_line: 0.7436681985855103 acc: 0.9986979365348816 acc_reg: 0.9973958730697632 acc_line: 1.0: 100%|██████████| 319/319 [00:14<00:00, 21.91it/s]                \n",
      "[TRAIN 238, 1] loss: 0.17630159854888916 loss_reg: 0.2286584973335266 loss_line: 0.12394469976425171 acc: 0.1666666716337204 acc_reg: 0.1666666716337204 acc_line: 0.1666666716337204:   1%|          | 3/319 [00:00<00:15, 20.02it/s]"
     ]
    },
    {
     "name": "stdout",
     "output_type": "stream",
     "text": [
      "[VALIDATION 237] val_acc: 0.9884746287128713 val_acc_reg: 0.9871596534653465 val_acc_line: 0.9897896039603961 \n"
     ]
    },
    {
     "name": "stderr",
     "output_type": "stream",
     "text": [
      "[TRAIN 238, 319] loss: 1.0578153133392334 loss_reg: 1.371962070465088 loss_line: 0.7436681985855103 acc: 1.0 acc_reg: 1.0 acc_line: 1.0: 100%|██████████| 319/319 [00:14<00:00, 21.92it/s]                                              \n",
      "[TRAIN 239, 1] loss: 0.17630159854888916 loss_reg: 0.2286584973335266 loss_line: 0.12394469976425171 acc: 0.1666666716337204 acc_reg: 0.1666666716337204 acc_line: 0.1666666716337204:   1%|          | 3/319 [00:00<00:14, 21.47it/s]"
     ]
    },
    {
     "name": "stdout",
     "output_type": "stream",
     "text": [
      "[VALIDATION 238] val_acc: 0.9877784653465347 val_acc_reg: 0.9853032178217822 val_acc_line: 0.9902537128712872 \n"
     ]
    },
    {
     "name": "stderr",
     "output_type": "stream",
     "text": [
      "[TRAIN 239, 319] loss: 1.0578100681304932 loss_reg: 1.3719509840011597 loss_line: 0.7436689734458923 acc: 1.0 acc_reg: 1.0 acc_line: 1.0: 100%|██████████| 319/319 [00:14<00:00, 21.75it/s]                                             \n",
      "[TRAIN 240, 1] loss: 0.17630159854888916 loss_reg: 0.2286584973335266 loss_line: 0.12394469976425171 acc: 0.1666666716337204 acc_reg: 0.1666666716337204 acc_line: 0.1666666716337204:   1%|          | 2/319 [00:00<00:16, 19.26it/s]"
     ]
    },
    {
     "name": "stdout",
     "output_type": "stream",
     "text": [
      "[VALIDATION 239] val_acc: 0.9897896039603961 val_acc_reg: 0.9882425742574258 val_acc_line: 0.9913366336633663 \n"
     ]
    },
    {
     "name": "stderr",
     "output_type": "stream",
     "text": [
      "[TRAIN 240, 319] loss: 1.0604138374328613 loss_reg: 1.3719509840011597 loss_line: 0.748876690864563 acc: 0.9973958730697632 acc_reg: 1.0 acc_line: 0.9947916865348816: 100%|██████████| 319/319 [00:14<00:00, 21.83it/s]                \n",
      "[TRAIN 241, 1] loss: 0.17630231380462646 loss_reg: 0.22865992784500122 loss_line: 0.12394469976425171 acc: 0.1666666716337204 acc_reg: 0.1666666716337204 acc_line: 0.1666666716337204:   1%|          | 2/319 [00:00<00:17, 18.08it/s]"
     ]
    },
    {
     "name": "stdout",
     "output_type": "stream",
     "text": [
      "[VALIDATION 240] val_acc: 0.9890160891089109 val_acc_reg: 0.9876237623762376 val_acc_line: 0.9904084158415841 \n"
     ]
    },
    {
     "name": "stderr",
     "output_type": "stream",
     "text": [
      "[TRAIN 241, 319] loss: 1.05863356590271 loss_reg: 1.3719513416290283 loss_line: 0.7453157305717468 acc: 0.9986979365348816 acc_reg: 1.0 acc_line: 0.9973958730697632: 100%|██████████| 319/319 [00:14<00:00, 21.81it/s]                 \n",
      "[TRAIN 242, 1] loss: 0.17630159854888916 loss_reg: 0.2286584973335266 loss_line: 0.12394469976425171 acc: 0.1666666716337204 acc_reg: 0.1666666716337204 acc_line: 0.1666666716337204:   1%|          | 2/319 [00:00<00:17, 18.01it/s]"
     ]
    },
    {
     "name": "stdout",
     "output_type": "stream",
     "text": [
      "[VALIDATION 241] val_acc: 0.9885519801980198 val_acc_reg: 0.9888613861386139 val_acc_line: 0.9882425742574258 \n"
     ]
    },
    {
     "name": "stderr",
     "output_type": "stream",
     "text": [
      "[TRAIN 242, 319] loss: 1.0604138374328613 loss_reg: 1.3745553493499756 loss_line: 0.7462723255157471 acc: 0.9973958730697632 acc_reg: 0.9973958730697632 acc_line: 0.9973958730697632: 100%|██████████| 319/319 [00:14<00:00, 21.89it/s]\n",
      "[TRAIN 243, 1] loss: 0.17630228400230408 loss_reg: 0.22865983843803406 loss_line: 0.12394469976425171 acc: 0.1666666716337204 acc_reg: 0.1666666716337204 acc_line: 0.1666666716337204:   1%|          | 3/319 [00:00<00:14, 22.38it/s]"
     ]
    },
    {
     "name": "stdout",
     "output_type": "stream",
     "text": [
      "[VALIDATION 242] val_acc: 0.9883972772277227 val_acc_reg: 0.9854579207920792 val_acc_line: 0.9913366336633663 \n"
     ]
    },
    {
     "name": "stderr",
     "output_type": "stream",
     "text": [
      "[TRAIN 243, 319] loss: 1.0616388320922852 loss_reg: 1.3719509840011597 loss_line: 0.7513267397880554 acc: 0.99609375 acc_reg: 1.0 acc_line: 0.9921875: 100%|██████████| 319/319 [00:14<00:00, 22.01it/s]                                \n",
      "[TRAIN 244, 1] loss: 0.17630159854888916 loss_reg: 0.2286584973335266 loss_line: 0.12394469976425171 acc: 0.1666666716337204 acc_reg: 0.1666666716337204 acc_line: 0.1666666716337204:   1%|          | 2/319 [00:00<00:17, 18.52it/s]"
     ]
    },
    {
     "name": "stdout",
     "output_type": "stream",
     "text": [
      "[VALIDATION 243] val_acc: 0.989480198019802 val_acc_reg: 0.9873143564356436 val_acc_line: 0.9916460396039604 \n"
     ]
    },
    {
     "name": "stderr",
     "output_type": "stream",
     "text": [
      "[TRAIN 244, 319] loss: 1.0578206777572632 loss_reg: 1.371962547302246 loss_line: 0.7436785697937012 acc: 1.0 acc_reg: 1.0 acc_line: 1.0: 100%|██████████| 319/319 [00:14<00:00, 21.97it/s]                                              \n",
      "[TRAIN 245, 1] loss: 0.17760369181632996 loss_reg: 0.2286584973335266 loss_line: 0.1265488713979721 acc: 0.1653645932674408 acc_reg: 0.1666666716337204 acc_line: 0.1640625:   1%|          | 3/319 [00:00<00:14, 22.28it/s]"
     ]
    },
    {
     "name": "stdout",
     "output_type": "stream",
     "text": [
      "[VALIDATION 244] val_acc: 0.9894028465346535 val_acc_reg: 0.9871596534653465 val_acc_line: 0.9916460396039604 \n"
     ]
    },
    {
     "name": "stderr",
     "output_type": "stream",
     "text": [
      "[TRAIN 245, 319] loss: 1.0604137182235718 loss_reg: 1.3745548725128174 loss_line: 0.7462723255157471 acc: 0.9973958730697632 acc_reg: 0.9973958730697632 acc_line: 0.9973958730697632: 100%|██████████| 319/319 [00:14<00:00, 21.97it/s]\n",
      "[TRAIN 246, 1] loss: 0.17630159854888916 loss_reg: 0.2286584973335266 loss_line: 0.12394469976425171 acc: 0.1666666716337204 acc_reg: 0.1666666716337204 acc_line: 0.1666666716337204:   1%|          | 3/319 [00:00<00:14, 21.16it/s]"
     ]
    },
    {
     "name": "stdout",
     "output_type": "stream",
     "text": [
      "[VALIDATION 245] val_acc: 0.9909498762376238 val_acc_reg: 0.9887066831683168 val_acc_line: 0.9931930693069307 \n"
     ]
    },
    {
     "name": "stderr",
     "output_type": "stream",
     "text": [
      "[TRAIN 246, 319] loss: 1.0623362064361572 loss_reg: 1.3757970333099365 loss_line: 0.7488752603530884 acc: 0.9947916865348816 acc_reg: 0.9947916865348816 acc_line: 0.9947916865348816: 100%|██████████| 319/319 [00:14<00:00, 21.98it/s]\n",
      "[TRAIN 247, 1] loss: 0.17630159854888916 loss_reg: 0.228658527135849 loss_line: 0.12394469976425171 acc: 0.1666666716337204 acc_reg: 0.1666666716337204 acc_line: 0.1666666716337204:   1%|          | 2/319 [00:00<00:15, 19.94it/s]"
     ]
    },
    {
     "name": "stdout",
     "output_type": "stream",
     "text": [
      "[VALIDATION 246] val_acc: 0.9881652227722773 val_acc_reg: 0.9860767326732673 val_acc_line: 0.9902537128712872 \n"
     ]
    },
    {
     "name": "stderr",
     "output_type": "stream",
     "text": [
      "[TRAIN 247, 319] loss: 1.0617159605026245 loss_reg: 1.3771593570709229 loss_line: 0.7462723255157471 acc: 0.99609375 acc_reg: 0.9947916865348816 acc_line: 0.9973958730697632: 100%|██████████| 319/319 [00:14<00:00, 21.91it/s]        \n",
      "[TRAIN 248, 1] loss: 0.17630159854888916 loss_reg: 0.2286584973335266 loss_line: 0.12394469976425171 acc: 0.1666666716337204 acc_reg: 0.1666666716337204 acc_line: 0.1666666716337204:   1%|          | 2/319 [00:00<00:16, 19.74it/s]"
     ]
    },
    {
     "name": "stdout",
     "output_type": "stream",
     "text": [
      "[VALIDATION 247] val_acc: 0.9924195544554455 val_acc_reg: 0.9902537128712872 val_acc_line: 0.9945853960396039 \n"
     ]
    },
    {
     "name": "stderr",
     "output_type": "stream",
     "text": [
      "[TRAIN 248, 319] loss: 1.0595734119415283 loss_reg: 1.3754786252975464 loss_line: 0.7436681985855103 acc: 0.9986979365348816 acc_reg: 0.9973958730697632 acc_line: 1.0: 100%|██████████| 319/319 [00:14<00:00, 21.88it/s]               \n",
      "[TRAIN 249, 1] loss: 0.17630159854888916 loss_reg: 0.2286584973335266 loss_line: 0.12394469976425171 acc: 0.1666666716337204 acc_reg: 0.1666666716337204 acc_line: 0.1666666716337204:   1%|          | 3/319 [00:00<00:15, 19.78it/s]"
     ]
    },
    {
     "name": "stdout",
     "output_type": "stream",
     "text": [
      "[VALIDATION 248] val_acc: 0.9919554455445545 val_acc_reg: 0.989634900990099 val_acc_line: 0.9942759900990099 \n"
     ]
    },
    {
     "name": "stderr",
     "output_type": "stream",
     "text": [
      "[TRAIN 249, 319] loss: 1.0578097105026245 loss_reg: 1.3719511032104492 loss_line: 0.7436681985855103 acc: 1.0 acc_reg: 1.0 acc_line: 1.0: 100%|██████████| 319/319 [00:14<00:00, 21.81it/s]                                             \n",
      "[TRAIN 250, 1] loss: 0.17630323767662048 loss_reg: 0.22866177558898926 loss_line: 0.12394469976425171 acc: 0.1666666716337204 acc_reg: 0.1666666716337204 acc_line: 0.1666666716337204:   1%|          | 3/319 [00:00<00:14, 22.14it/s]"
     ]
    },
    {
     "name": "stdout",
     "output_type": "stream",
     "text": [
      "[VALIDATION 249] val_acc: 0.989944306930693 val_acc_reg: 0.9873143564356436 val_acc_line: 0.9925742574257426 \n"
     ]
    },
    {
     "name": "stderr",
     "output_type": "stream",
     "text": [
      "[TRAIN 250, 319] loss: 1.0591168403625488 loss_reg: 1.3745591640472412 loss_line: 0.743674635887146 acc: 0.9986979365348816 acc_reg: 0.9973958730697632 acc_line: 1.0: 100%|██████████| 319/319 [00:14<00:00, 21.95it/s]                \n",
      "[TRAIN 251, 1] loss: 0.17630159854888916 loss_reg: 0.2286584973335266 loss_line: 0.12394469976425171 acc: 0.1666666716337204 acc_reg: 0.1666666716337204 acc_line: 0.1666666716337204:   1%|          | 3/319 [00:00<00:14, 22.27it/s]"
     ]
    },
    {
     "name": "stdout",
     "output_type": "stream",
     "text": [
      "[VALIDATION 250] val_acc: 0.9870049504950495 val_acc_reg: 0.9860767326732673 val_acc_line: 0.9879331683168316 \n"
     ]
    },
    {
     "name": "stderr",
     "output_type": "stream",
     "text": [
      "[TRAIN 251, 319] loss: 1.0578097105026245 loss_reg: 1.3719509840011597 loss_line: 0.743668258190155 acc: 1.0 acc_reg: 1.0 acc_line: 1.0: 100%|██████████| 319/319 [00:14<00:00, 21.81it/s]                                              \n",
      "[TRAIN 252, 1] loss: 0.17630159854888916 loss_reg: 0.2286584973335266 loss_line: 0.12394469976425171 acc: 0.1666666716337204 acc_reg: 0.1666666716337204 acc_line: 0.1666666716337204:   1%|          | 2/319 [00:00<00:16, 19.63it/s]"
     ]
    },
    {
     "name": "stdout",
     "output_type": "stream",
     "text": [
      "[VALIDATION 251] val_acc: 0.9913366336633663 val_acc_reg: 0.9902537128712872 val_acc_line: 0.9924195544554455 \n"
     ]
    },
    {
     "name": "stderr",
     "output_type": "stream",
     "text": [
      "[TRAIN 252, 319] loss: 1.0578100681304932 loss_reg: 1.3719518184661865 loss_line: 0.7436681985855103 acc: 1.0 acc_reg: 1.0 acc_line: 1.0: 100%|██████████| 319/319 [00:14<00:00, 21.76it/s]                                             \n",
      "[TRAIN 253, 1] loss: 0.17630159854888916 loss_reg: 0.2286584973335266 loss_line: 0.12394469976425171 acc: 0.1666666716337204 acc_reg: 0.1666666716337204 acc_line: 0.1666666716337204:   1%|          | 3/319 [00:00<00:14, 21.47it/s]"
     ]
    },
    {
     "name": "stdout",
     "output_type": "stream",
     "text": [
      "[VALIDATION 252] val_acc: 0.9905631188118812 val_acc_reg: 0.9883972772277227 val_acc_line: 0.9927289603960396 \n"
     ]
    },
    {
     "name": "stderr",
     "output_type": "stream",
     "text": [
      "[TRAIN 253, 319] loss: 1.0578097105026245 loss_reg: 1.3719509840011597 loss_line: 0.7436681985855103 acc: 1.0 acc_reg: 1.0 acc_line: 1.0: 100%|██████████| 319/319 [00:14<00:00, 22.00it/s]                                             \n",
      "[TRAIN 254, 1] loss: 0.17630165815353394 loss_reg: 0.22865858674049377 loss_line: 0.12394474446773529 acc: 0.1666666716337204 acc_reg: 0.1666666716337204 acc_line: 0.1666666716337204:   1%|          | 3/319 [00:00<00:13, 22.93it/s]"
     ]
    },
    {
     "name": "stdout",
     "output_type": "stream",
     "text": [
      "[VALIDATION 253] val_acc: 0.9907178217821783 val_acc_reg: 0.9888613861386139 val_acc_line: 0.9925742574257426 \n"
     ]
    },
    {
     "name": "stderr",
     "output_type": "stream",
     "text": [
      "[TRAIN 254, 319] loss: 1.0578097105026245 loss_reg: 1.3719509840011597 loss_line: 0.7436681985855103 acc: 1.0 acc_reg: 1.0 acc_line: 1.0: 100%|██████████| 319/319 [00:14<00:00, 22.01it/s]                                             \n",
      "[TRAIN 255, 1] loss: 0.17760369181632996 loss_reg: 0.231262668967247 loss_line: 0.12394469976425171 acc: 0.1653645932674408 acc_reg: 0.1640625 acc_line: 0.1666666716337204:   1%|          | 3/319 [00:00<00:13, 23.48it/s]"
     ]
    },
    {
     "name": "stdout",
     "output_type": "stream",
     "text": [
      "[VALIDATION 254] val_acc: 0.9905631188118812 val_acc_reg: 0.9887066831683168 val_acc_line: 0.9924195544554455 \n"
     ]
    },
    {
     "name": "stderr",
     "output_type": "stream",
     "text": [
      "[TRAIN 255, 319] loss: 1.0578124523162842 loss_reg: 1.3719509840011597 loss_line: 0.7436737418174744 acc: 1.0 acc_reg: 1.0 acc_line: 1.0: 100%|██████████| 319/319 [00:14<00:00, 21.91it/s]                                             \n",
      "[TRAIN 256, 1] loss: 0.17630159854888916 loss_reg: 0.2286584973335266 loss_line: 0.12394469976425171 acc: 0.1666666716337204 acc_reg: 0.1666666716337204 acc_line: 0.1666666716337204:   1%|          | 2/319 [00:00<00:16, 19.81it/s]"
     ]
    },
    {
     "name": "stdout",
     "output_type": "stream",
     "text": [
      "[VALIDATION 255] val_acc: 0.9900990099009901 val_acc_reg: 0.9885519801980198 val_acc_line: 0.9916460396039604 \n"
     ]
    },
    {
     "name": "stderr",
     "output_type": "stream",
     "text": [
      "[TRAIN 256, 319] loss: 1.057828426361084 loss_reg: 1.3719887733459473 loss_line: 0.7436681985855103 acc: 1.0 acc_reg: 1.0 acc_line: 1.0: 100%|██████████| 319/319 [00:14<00:00, 21.97it/s]                                              \n",
      "[TRAIN 257, 1] loss: 0.176545187830925 loss_reg: 0.22914251685142517 loss_line: 0.1239478811621666 acc: 0.1666666716337204 acc_reg: 0.1666666716337204 acc_line: 0.1666666716337204:   1%|          | 3/319 [00:00<00:14, 22.51it/s]"
     ]
    },
    {
     "name": "stdout",
     "output_type": "stream",
     "text": [
      "[VALIDATION 256] val_acc: 0.9921101485148515 val_acc_reg: 0.9907178217821783 val_acc_line: 0.9935024752475248 \n"
     ]
    },
    {
     "name": "stderr",
     "output_type": "stream",
     "text": [
      "[TRAIN 257, 319] loss: 1.05887770652771 loss_reg: 1.3719514608383179 loss_line: 0.745803952217102 acc: 0.9986979365348816 acc_reg: 1.0 acc_line: 0.9973958730697632: 100%|██████████| 319/319 [00:14<00:00, 21.84it/s]                  \n",
      "[TRAIN 258, 1] loss: 0.17630168795585632 loss_reg: 0.22865867614746094 loss_line: 0.12394469976425171 acc: 0.1666666716337204 acc_reg: 0.1666666716337204 acc_line: 0.1666666716337204:   1%|          | 3/319 [00:00<00:15, 20.94it/s]"
     ]
    },
    {
     "name": "stdout",
     "output_type": "stream",
     "text": [
      "[VALIDATION 257] val_acc: 0.9890934405940595 val_acc_reg: 0.9865408415841584 val_acc_line: 0.9916460396039604 \n"
     ]
    },
    {
     "name": "stderr",
     "output_type": "stream",
     "text": [
      "[TRAIN 258, 319] loss: 1.0578097105026245 loss_reg: 1.3719509840011597 loss_line: 0.7436681985855103 acc: 1.0 acc_reg: 1.0 acc_line: 1.0: 100%|██████████| 319/319 [00:14<00:00, 21.89it/s]                                            \n",
      "[TRAIN 259, 1] loss: 0.17630159854888916 loss_reg: 0.2286584973335266 loss_line: 0.12394469976425171 acc: 0.1666666716337204 acc_reg: 0.1666666716337204 acc_line: 0.1666666716337204:   1%|          | 2/319 [00:00<00:16, 19.29it/s]"
     ]
    },
    {
     "name": "stdout",
     "output_type": "stream",
     "text": [
      "[VALIDATION 258] val_acc: 0.9884746287128713 val_acc_reg: 0.9859220297029703 val_acc_line: 0.9910272277227723 \n"
     ]
    },
    {
     "name": "stderr",
     "output_type": "stream",
     "text": [
      "[TRAIN 259, 319] loss: 1.0578097105026245 loss_reg: 1.3719509840011597 loss_line: 0.7436681985855103 acc: 1.0 acc_reg: 1.0 acc_line: 1.0: 100%|██████████| 319/319 [00:14<00:00, 21.90it/s]                                             \n",
      "[TRAIN 260, 1] loss: 0.17630159854888916 loss_reg: 0.2286584973335266 loss_line: 0.12394469976425171 acc: 0.1666666716337204 acc_reg: 0.1666666716337204 acc_line: 0.1666666716337204:   1%|          | 2/319 [00:00<00:16, 19.51it/s]"
     ]
    },
    {
     "name": "stdout",
     "output_type": "stream",
     "text": [
      "[VALIDATION 259] val_acc: 0.9906404702970297 val_acc_reg: 0.9874690594059405 val_acc_line: 0.9938118811881188 \n"
     ]
    },
    {
     "name": "stderr",
     "output_type": "stream",
     "text": [
      "[TRAIN 260, 319] loss: 1.0578097105026245 loss_reg: 1.3719509840011597 loss_line: 0.7436681985855103 acc: 1.0 acc_reg: 1.0 acc_line: 1.0: 100%|██████████| 319/319 [00:14<00:00, 21.90it/s]                                             \n",
      "[TRAIN 261, 1] loss: 0.17761240899562836 loss_reg: 0.23127971589565277 loss_line: 0.12394508719444275 acc: 0.1653645932674408 acc_reg: 0.1640625 acc_line: 0.1666666716337204:   1%|          | 3/319 [00:00<00:15, 21.05it/s]"
     ]
    },
    {
     "name": "stdout",
     "output_type": "stream",
     "text": [
      "[VALIDATION 260] val_acc: 0.9900990099009901 val_acc_reg: 0.9854579207920792 val_acc_line: 0.994740099009901 \n"
     ]
    },
    {
     "name": "stderr",
     "output_type": "stream",
     "text": [
      "[TRAIN 261, 319] loss: 1.057809829711914 loss_reg: 1.3719513416290283 loss_line: 0.7436681985855103 acc: 1.0 acc_reg: 1.0 acc_line: 1.0: 100%|██████████| 319/319 [00:14<00:00, 21.81it/s]                                              \n",
      "[TRAIN 262, 1] loss: 0.17630159854888916 loss_reg: 0.2286584973335266 loss_line: 0.12394469976425171 acc: 0.1666666716337204 acc_reg: 0.1666666716337204 acc_line: 0.1666666716337204:   1%|          | 3/319 [00:00<00:14, 21.48it/s]"
     ]
    },
    {
     "name": "stdout",
     "output_type": "stream",
     "text": [
      "[VALIDATION 261] val_acc: 0.9907178217821783 val_acc_reg: 0.9879331683168316 val_acc_line: 0.9935024752475248 \n"
     ]
    },
    {
     "name": "stderr",
     "output_type": "stream",
     "text": [
      "[TRAIN 262, 319] loss: 1.0604138374328613 loss_reg: 1.3771594762802124 loss_line: 0.7436681985855103 acc: 0.9973958730697632 acc_reg: 0.9947916865348816 acc_line: 1.0: 100%|██████████| 319/319 [00:14<00:00, 21.83it/s]               \n",
      "[TRAIN 263, 1] loss: 0.17630788683891296 loss_reg: 0.22867104411125183 loss_line: 0.12394469976425171 acc: 0.1666666716337204 acc_reg: 0.1666666716337204 acc_line: 0.1666666716337204:   1%|          | 3/319 [00:00<00:14, 22.38it/s]"
     ]
    },
    {
     "name": "stdout",
     "output_type": "stream",
     "text": [
      "[VALIDATION 262] val_acc: 0.9901763613861386 val_acc_reg: 0.9871596534653465 val_acc_line: 0.9931930693069307 \n"
     ]
    },
    {
     "name": "stderr",
     "output_type": "stream",
     "text": [
      "[TRAIN 263, 319] loss: 1.0578097105026245 loss_reg: 1.3719509840011597 loss_line: 0.7436681985855103 acc: 1.0 acc_reg: 1.0 acc_line: 1.0: 100%|██████████| 319/319 [00:14<00:00, 21.99it/s]                                             \n",
      "[TRAIN 264, 1] loss: 0.17760369181632996 loss_reg: 0.231262668967247 loss_line: 0.12394469976425171 acc: 0.1653645932674408 acc_reg: 0.1640625 acc_line: 0.1666666716337204:   1%|          | 2/319 [00:00<00:16, 19.59it/s]"
     ]
    },
    {
     "name": "stdout",
     "output_type": "stream",
     "text": [
      "[VALIDATION 263] val_acc: 0.9901763613861386 val_acc_reg: 0.9876237623762376 val_acc_line: 0.9927289603960396 \n"
     ]
    },
    {
     "name": "stderr",
     "output_type": "stream",
     "text": [
      "[TRAIN 264, 319] loss: 1.0583332777023315 loss_reg: 1.372981071472168 loss_line: 0.7436851263046265 acc: 1.0 acc_reg: 1.0 acc_line: 1.0: 100%|██████████| 319/319 [00:14<00:00, 21.94it/s]                                              \n",
      "[TRAIN 265, 1] loss: 0.17630159854888916 loss_reg: 0.2286584973335266 loss_line: 0.12394469976425171 acc: 0.1666666716337204 acc_reg: 0.1666666716337204 acc_line: 0.1666666716337204:   1%|          | 3/319 [00:00<00:13, 22.74it/s]"
     ]
    },
    {
     "name": "stdout",
     "output_type": "stream",
     "text": [
      "[VALIDATION 264] val_acc: 0.9897896039603961 val_acc_reg: 0.9880878712871287 val_acc_line: 0.9914913366336634 \n"
     ]
    },
    {
     "name": "stderr",
     "output_type": "stream",
     "text": [
      "[TRAIN 265, 319] loss: 1.057829737663269 loss_reg: 1.3719509840011597 loss_line: 0.7437083721160889 acc: 1.0 acc_reg: 1.0 acc_line: 1.0: 100%|██████████| 319/319 [00:14<00:00, 21.87it/s]                                              \n",
      "[TRAIN 266, 1] loss: 0.17764800786972046 loss_reg: 0.2286584973335266 loss_line: 0.1266375333070755 acc: 0.1653645932674408 acc_reg: 0.1666666716337204 acc_line: 0.1640625:   1%|          | 3/319 [00:00<00:13, 22.84it/s]"
     ]
    },
    {
     "name": "stdout",
     "output_type": "stream",
     "text": [
      "[VALIDATION 265] val_acc: 0.9915686881188119 val_acc_reg: 0.9905631188118812 val_acc_line: 0.9925742574257426 \n"
     ]
    },
    {
     "name": "stderr",
     "output_type": "stream",
     "text": [
      "[TRAIN 266, 319] loss: 1.0604138374328613 loss_reg: 1.3719509840011597 loss_line: 0.7488765120506287 acc: 0.9973958730697632 acc_reg: 1.0 acc_line: 0.9947916865348816: 100%|██████████| 319/319 [00:14<00:00, 21.93it/s]              \n",
      "[TRAIN 267, 1] loss: 0.17630159854888916 loss_reg: 0.2286584973335266 loss_line: 0.12394469976425171 acc: 0.1666666716337204 acc_reg: 0.1666666716337204 acc_line: 0.1666666716337204:   1%|          | 2/319 [00:00<00:16, 18.95it/s]"
     ]
    },
    {
     "name": "stdout",
     "output_type": "stream",
     "text": [
      "[VALIDATION 266] val_acc: 0.991878094059406 val_acc_reg: 0.989944306930693 val_acc_line: 0.9938118811881188 \n"
     ]
    },
    {
     "name": "stderr",
     "output_type": "stream",
     "text": [
      "[TRAIN 267, 319] loss: 1.0578703880310059 loss_reg: 1.3720725774765015 loss_line: 0.7436681985855103 acc: 1.0 acc_reg: 1.0 acc_line: 1.0: 100%|██████████| 319/319 [00:14<00:00, 21.97it/s]                                             \n",
      "[TRAIN 268, 1] loss: 0.17630159854888916 loss_reg: 0.228658527135849 loss_line: 0.12394469976425171 acc: 0.1666666716337204 acc_reg: 0.1666666716337204 acc_line: 0.1666666716337204:   1%|          | 2/319 [00:00<00:17, 18.39it/s]"
     ]
    },
    {
     "name": "stdout",
     "output_type": "stream",
     "text": [
      "[VALIDATION 267] val_acc: 0.9908725247524752 val_acc_reg: 0.989480198019802 val_acc_line: 0.9922648514851485 \n"
     ]
    },
    {
     "name": "stderr",
     "output_type": "stream",
     "text": [
      "[TRAIN 268, 319] loss: 1.0578097105026245 loss_reg: 1.3719509840011597 loss_line: 0.7436681985855103 acc: 1.0 acc_reg: 1.0 acc_line: 1.0: 100%|██████████| 319/319 [00:14<00:00, 22.01it/s]                                             \n",
      "[TRAIN 269, 1] loss: 0.17630159854888916 loss_reg: 0.2286584973335266 loss_line: 0.12394469976425171 acc: 0.1666666716337204 acc_reg: 0.1666666716337204 acc_line: 0.1666666716337204:   1%|          | 2/319 [00:00<00:16, 18.91it/s]"
     ]
    },
    {
     "name": "stdout",
     "output_type": "stream",
     "text": [
      "[VALIDATION 268] val_acc: 0.9902537128712872 val_acc_reg: 0.9900990099009901 val_acc_line: 0.9904084158415841 \n"
     ]
    },
    {
     "name": "stderr",
     "output_type": "stream",
     "text": [
      "[TRAIN 269, 319] loss: 1.0604138374328613 loss_reg: 1.3745551109313965 loss_line: 0.7462723255157471 acc: 0.9973958730697632 acc_reg: 0.9973958730697632 acc_line: 0.9973958730697632: 100%|██████████| 319/319 [00:14<00:00, 21.93it/s]\n",
      "[TRAIN 270, 1] loss: 0.17630159854888916 loss_reg: 0.2286584973335266 loss_line: 0.12394469976425171 acc: 0.1666666716337204 acc_reg: 0.1666666716337204 acc_line: 0.1666666716337204:   1%|          | 2/319 [00:00<00:16, 18.69it/s]"
     ]
    },
    {
     "name": "stdout",
     "output_type": "stream",
     "text": [
      "[VALIDATION 269] val_acc: 0.9906404702970297 val_acc_reg: 0.989325495049505 val_acc_line: 0.9919554455445545 \n"
     ]
    },
    {
     "name": "stderr",
     "output_type": "stream",
     "text": [
      "[TRAIN 270, 319] loss: 1.0617159605026245 loss_reg: 1.3719509840011597 loss_line: 0.7514806985855103 acc: 0.99609375 acc_reg: 1.0 acc_line: 0.9921875: 100%|██████████| 319/319 [00:14<00:00, 21.88it/s]                                \n",
      "[TRAIN 271, 1] loss: 0.17630159854888916 loss_reg: 0.2286584973335266 loss_line: 0.12394469976425171 acc: 0.1666666716337204 acc_reg: 0.1666666716337204 acc_line: 0.1666666716337204:   1%|          | 3/319 [00:00<00:14, 21.78it/s]"
     ]
    },
    {
     "name": "stdout",
     "output_type": "stream",
     "text": [
      "[VALIDATION 270] val_acc: 0.9901763613861386 val_acc_reg: 0.9883972772277227 val_acc_line: 0.9919554455445545 \n"
     ]
    },
    {
     "name": "stderr",
     "output_type": "stream",
     "text": [
      "[TRAIN 271, 319] loss: 1.0591118335723877 loss_reg: 1.3745553493499756 loss_line: 0.7436681985855103 acc: 0.9986979365348816 acc_reg: 0.9973958730697632 acc_line: 1.0: 100%|██████████| 319/319 [00:14<00:00, 21.87it/s]             \n",
      "[TRAIN 272, 1] loss: 0.17630159854888916 loss_reg: 0.2286584973335266 loss_line: 0.12394469976425171 acc: 0.1666666716337204 acc_reg: 0.1666666716337204 acc_line: 0.1666666716337204:   1%|          | 3/319 [00:00<00:14, 22.07it/s]"
     ]
    },
    {
     "name": "stdout",
     "output_type": "stream",
     "text": [
      "[VALIDATION 271] val_acc: 0.9917233910891089 val_acc_reg: 0.9904084158415841 val_acc_line: 0.9930383663366337 \n"
     ]
    },
    {
     "name": "stderr",
     "output_type": "stream",
     "text": [
      "[TRAIN 272, 319] loss: 1.0617083311080933 loss_reg: 1.3771593570709229 loss_line: 0.7462570071220398 acc: 0.99609375 acc_reg: 0.9947916865348816 acc_line: 0.9973958730697632: 100%|██████████| 319/319 [00:14<00:00, 21.84it/s]        \n",
      "[TRAIN 273, 1] loss: 0.17630159854888916 loss_reg: 0.2286584973335266 loss_line: 0.12394469976425171 acc: 0.1666666716337204 acc_reg: 0.1666666716337204 acc_line: 0.1666666716337204:   1%|          | 3/319 [00:00<00:14, 21.12it/s]"
     ]
    },
    {
     "name": "stdout",
     "output_type": "stream",
     "text": [
      "[VALIDATION 272] val_acc: 0.9906404702970297 val_acc_reg: 0.9879331683168316 val_acc_line: 0.9933477722772277 \n"
     ]
    },
    {
     "name": "stderr",
     "output_type": "stream",
     "text": [
      "[TRAIN 273, 319] loss: 1.057834506034851 loss_reg: 1.3719511032104492 loss_line: 0.7437178492546082 acc: 1.0 acc_reg: 1.0 acc_line: 1.0: 100%|██████████| 319/319 [00:14<00:00, 21.94it/s]                                              \n",
      "[TRAIN 274, 1] loss: 0.1776038110256195 loss_reg: 0.23126289248466492 loss_line: 0.12394469976425171 acc: 0.1653645932674408 acc_reg: 0.1640625 acc_line: 0.1666666716337204:   1%|          | 2/319 [00:00<00:16, 19.61it/s]"
     ]
    },
    {
     "name": "stdout",
     "output_type": "stream",
     "text": [
      "[VALIDATION 273] val_acc: 0.9890160891089109 val_acc_reg: 0.9860767326732673 val_acc_line: 0.9919554455445545 \n"
     ]
    },
    {
     "name": "stderr",
     "output_type": "stream",
     "text": [
      "[TRAIN 274, 319] loss: 1.0581462383270264 loss_reg: 1.372624158859253 loss_line: 0.7436681985855103 acc: 1.0 acc_reg: 1.0 acc_line: 1.0: 100%|██████████| 319/319 [00:14<00:00, 21.92it/s]                                              \n",
      "[TRAIN 275, 1] loss: 0.17630159854888916 loss_reg: 0.2286584973335266 loss_line: 0.12394469976425171 acc: 0.1666666716337204 acc_reg: 0.1666666716337204 acc_line: 0.1666666716337204:   1%|          | 2/319 [00:00<00:16, 19.27it/s]"
     ]
    },
    {
     "name": "stdout",
     "output_type": "stream",
     "text": [
      "[VALIDATION 274] val_acc: 0.9900216584158416 val_acc_reg: 0.9876237623762376 val_acc_line: 0.9924195544554455 \n"
     ]
    },
    {
     "name": "stderr",
     "output_type": "stream",
     "text": [
      "[TRAIN 275, 319] loss: 1.057809829711914 loss_reg: 1.3719515800476074 loss_line: 0.7436681985855103 acc: 1.0 acc_reg: 1.0 acc_line: 1.0: 100%|██████████| 319/319 [00:14<00:00, 21.91it/s]                                              \n",
      "[TRAIN 276, 1] loss: 0.1789054572582245 loss_reg: 0.23126202821731567 loss_line: 0.1265488713979721 acc: 0.1640625 acc_reg: 0.1640625 acc_line: 0.1640625:   1%|          | 3/319 [00:00<00:15, 20.76it/s]"
     ]
    },
    {
     "name": "stdout",
     "output_type": "stream",
     "text": [
      "[VALIDATION 275] val_acc: 0.989634900990099 val_acc_reg: 0.9876237623762376 val_acc_line: 0.9916460396039604 \n"
     ]
    },
    {
     "name": "stderr",
     "output_type": "stream",
     "text": [
      "[TRAIN 276, 319] loss: 1.0591118335723877 loss_reg: 1.3745553493499756 loss_line: 0.743668258190155 acc: 0.9986979365348816 acc_reg: 0.9973958730697632 acc_line: 1.0: 100%|██████████| 319/319 [00:14<00:00, 21.89it/s]                \n",
      "[TRAIN 277, 1] loss: 0.17760369181632996 loss_reg: 0.2312626838684082 loss_line: 0.12394469976425171 acc: 0.1653645932674408 acc_reg: 0.1640625 acc_line: 0.1666666716337204:   1%|          | 2/319 [00:00<00:15, 19.82it/s]"
     ]
    },
    {
     "name": "stdout",
     "output_type": "stream",
     "text": [
      "[VALIDATION 276] val_acc: 0.9900990099009901 val_acc_reg: 0.9887066831683168 val_acc_line: 0.9914913366336634 \n"
     ]
    },
    {
     "name": "stderr",
     "output_type": "stream",
     "text": [
      "[TRAIN 277, 319] loss: 1.0591118335723877 loss_reg: 1.3745551109313965 loss_line: 0.7436681985855103 acc: 0.9986979365348816 acc_reg: 0.9973958730697632 acc_line: 1.0: 100%|██████████| 319/319 [00:14<00:00, 21.90it/s]               \n",
      "[TRAIN 278, 1] loss: 0.17630159854888916 loss_reg: 0.2286584973335266 loss_line: 0.1239447146654129 acc: 0.1666666716337204 acc_reg: 0.1666666716337204 acc_line: 0.1666666716337204:   1%|          | 3/319 [00:00<00:15, 20.23it/s]"
     ]
    },
    {
     "name": "stdout",
     "output_type": "stream",
     "text": [
      "[VALIDATION 277] val_acc: 0.9895575495049505 val_acc_reg: 0.9876237623762376 val_acc_line: 0.9914913366336634 \n"
     ]
    },
    {
     "name": "stderr",
     "output_type": "stream",
     "text": [
      "[TRAIN 278, 319] loss: 1.0591119527816772 loss_reg: 1.3745558261871338 loss_line: 0.7436681985855103 acc: 0.9986979365348816 acc_reg: 0.9973958730697632 acc_line: 1.0: 100%|██████████| 319/319 [00:14<00:00, 21.89it/s]              \n",
      "[TRAIN 279, 1] loss: 0.17630159854888916 loss_reg: 0.2286584973335266 loss_line: 0.12394469976425171 acc: 0.1666666716337204 acc_reg: 0.1666666716337204 acc_line: 0.1666666716337204:   1%|          | 3/319 [00:00<00:14, 22.23it/s]"
     ]
    },
    {
     "name": "stdout",
     "output_type": "stream",
     "text": [
      "[VALIDATION 278] val_acc: 0.9903310643564357 val_acc_reg: 0.9885519801980198 val_acc_line: 0.9921101485148515 \n"
     ]
    },
    {
     "name": "stderr",
     "output_type": "stream",
     "text": [
      "[TRAIN 279, 319] loss: 1.0604133605957031 loss_reg: 1.3771584033966064 loss_line: 0.7436681985855103 acc: 0.9973958730697632 acc_reg: 0.9947916865348816 acc_line: 1.0: 100%|██████████| 319/319 [00:14<00:00, 21.99it/s]               \n",
      "[TRAIN 280, 1] loss: 0.17630159854888916 loss_reg: 0.2286584973335266 loss_line: 0.12394469976425171 acc: 0.1666666716337204 acc_reg: 0.1666666716337204 acc_line: 0.1666666716337204:   1%|          | 3/319 [00:00<00:14, 22.28it/s]"
     ]
    },
    {
     "name": "stdout",
     "output_type": "stream",
     "text": [
      "[VALIDATION 279] val_acc: 0.9924195544554455 val_acc_reg: 0.9913366336633663 val_acc_line: 0.9935024752475248 \n"
     ]
    },
    {
     "name": "stderr",
     "output_type": "stream",
     "text": [
      "[TRAIN 280, 319] loss: 1.0578181743621826 loss_reg: 1.3719680309295654 loss_line: 0.7436681985855103 acc: 1.0 acc_reg: 1.0 acc_line: 1.0: 100%|██████████| 319/319 [00:14<00:00, 21.97it/s]                                             \n",
      "[TRAIN 281, 1] loss: 0.17630159854888916 loss_reg: 0.2286584973335266 loss_line: 0.12394469976425171 acc: 0.1666666716337204 acc_reg: 0.1666666716337204 acc_line: 0.1666666716337204:   1%|          | 2/319 [00:00<00:16, 18.70it/s]"
     ]
    },
    {
     "name": "stdout",
     "output_type": "stream",
     "text": [
      "[VALIDATION 280] val_acc: 0.9903310643564357 val_acc_reg: 0.9879331683168316 val_acc_line: 0.9927289603960396 \n"
     ]
    },
    {
     "name": "stderr",
     "output_type": "stream",
     "text": [
      "[TRAIN 281, 319] loss: 1.0604180097579956 loss_reg: 1.374554991722107 loss_line: 0.7462806701660156 acc: 0.9973958730697632 acc_reg: 0.9973958730697632 acc_line: 0.9973958730697632: 100%|██████████| 319/319 [00:14<00:00, 22.03it/s] \n",
      "[TRAIN 282, 1] loss: 0.17630159854888916 loss_reg: 0.2286584973335266 loss_line: 0.12394469976425171 acc: 0.1666666716337204 acc_reg: 0.1666666716337204 acc_line: 0.1666666716337204:   1%|          | 2/319 [00:00<00:15, 19.90it/s]"
     ]
    },
    {
     "name": "stdout",
     "output_type": "stream",
     "text": [
      "[VALIDATION 281] val_acc: 0.9886293316831684 val_acc_reg: 0.9859220297029703 val_acc_line: 0.9913366336633663 \n"
     ]
    },
    {
     "name": "stderr",
     "output_type": "stream",
     "text": [
      "[TRAIN 282, 319] loss: 1.060473918914795 loss_reg: 1.3746755123138428 loss_line: 0.7462723255157471 acc: 0.9973958730697632 acc_reg: 0.9973958730697632 acc_line: 0.9973958730697632: 100%|██████████| 319/319 [00:14<00:00, 21.91it/s] \n",
      "[TRAIN 283, 1] loss: 0.17630159854888916 loss_reg: 0.2286584973335266 loss_line: 0.12394469976425171 acc: 0.1666666716337204 acc_reg: 0.1666666716337204 acc_line: 0.1666666716337204:   1%|          | 2/319 [00:00<00:17, 18.24it/s]"
     ]
    },
    {
     "name": "stdout",
     "output_type": "stream",
     "text": [
      "[VALIDATION 282] val_acc: 0.9914913366336634 val_acc_reg: 0.989634900990099 val_acc_line: 0.9933477722772277 \n"
     ]
    },
    {
     "name": "stderr",
     "output_type": "stream",
     "text": [
      "[TRAIN 283, 319] loss: 1.0604147911071777 loss_reg: 1.3745572566986084 loss_line: 0.7462724447250366 acc: 0.9973958730697632 acc_reg: 0.9973958730697632 acc_line: 0.9973958730697632: 100%|██████████| 319/319 [00:14<00:00, 22.01it/s]\n",
      "[TRAIN 284, 1] loss: 0.1763019561767578 loss_reg: 0.22865921258926392 loss_line: 0.12394469976425171 acc: 0.1666666716337204 acc_reg: 0.1666666716337204 acc_line: 0.1666666716337204:   1%|          | 3/319 [00:00<00:14, 22.27it/s]"
     ]
    },
    {
     "name": "stdout",
     "output_type": "stream",
     "text": [
      "[VALIDATION 283] val_acc: 0.9890934405940595 val_acc_reg: 0.9871596534653465 val_acc_line: 0.9910272277227723 \n"
     ]
    },
    {
     "name": "stderr",
     "output_type": "stream",
     "text": [
      "[TRAIN 284, 319] loss: 1.0599462985992432 loss_reg: 1.3720684051513672 loss_line: 0.7478241324424744 acc: 0.9973958730697632 acc_reg: 1.0 acc_line: 0.9947916865348816: 100%|██████████| 319/319 [00:14<00:00, 21.77it/s]               \n",
      "[TRAIN 285, 1] loss: 0.17630159854888916 loss_reg: 0.2286584973335266 loss_line: 0.12394469976425171 acc: 0.1666666716337204 acc_reg: 0.1666666716337204 acc_line: 0.1666666716337204:   1%|          | 3/319 [00:00<00:14, 21.51it/s]"
     ]
    },
    {
     "name": "stdout",
     "output_type": "stream",
     "text": [
      "[VALIDATION 284] val_acc: 0.989944306930693 val_acc_reg: 0.9879331683168316 val_acc_line: 0.9919554455445545 \n"
     ]
    },
    {
     "name": "stderr",
     "output_type": "stream",
     "text": [
      "[TRAIN 285, 319] loss: 1.0588196516036987 loss_reg: 1.3739690780639648 loss_line: 0.7436701059341431 acc: 0.9986979365348816 acc_reg: 0.9973958730697632 acc_line: 1.0: 100%|██████████| 319/319 [00:14<00:00, 21.84it/s]              \n",
      "[TRAIN 286, 1] loss: 0.17630159854888916 loss_reg: 0.2286584973335266 loss_line: 0.12394469976425171 acc: 0.1666666716337204 acc_reg: 0.1666666716337204 acc_line: 0.1666666716337204:   1%|          | 2/319 [00:00<00:16, 19.33it/s]"
     ]
    },
    {
     "name": "stdout",
     "output_type": "stream",
     "text": [
      "[VALIDATION 285] val_acc: 0.9916460396039604 val_acc_reg: 0.9905631188118812 val_acc_line: 0.9927289603960396 \n"
     ]
    },
    {
     "name": "stderr",
     "output_type": "stream",
     "text": [
      "[TRAIN 286, 319] loss: 1.0578097105026245 loss_reg: 1.3719509840011597 loss_line: 0.7436681985855103 acc: 1.0 acc_reg: 1.0 acc_line: 1.0: 100%|██████████| 319/319 [00:14<00:00, 21.83it/s]                                            \n",
      "[TRAIN 287, 1] loss: 0.17630159854888916 loss_reg: 0.2286584973335266 loss_line: 0.12394469976425171 acc: 0.1666666716337204 acc_reg: 0.1666666716337204 acc_line: 0.1666666716337204:   1%|          | 3/319 [00:00<00:14, 22.36it/s]"
     ]
    },
    {
     "name": "stdout",
     "output_type": "stream",
     "text": [
      "[VALIDATION 286] val_acc: 0.9886293316831684 val_acc_reg: 0.984065594059406 val_acc_line: 0.9931930693069307 \n"
     ]
    },
    {
     "name": "stderr",
     "output_type": "stream",
     "text": [
      "[TRAIN 287, 319] loss: 1.0591148138046265 loss_reg: 1.3745572566986084 loss_line: 0.7436723113059998 acc: 0.9986979365348816 acc_reg: 0.9973958730697632 acc_line: 1.0: 100%|██████████| 319/319 [00:14<00:00, 21.85it/s]               \n",
      "[TRAIN 288, 1] loss: 0.17630159854888916 loss_reg: 0.2286584973335266 loss_line: 0.12394469976425171 acc: 0.1666666716337204 acc_reg: 0.1666666716337204 acc_line: 0.1666666716337204:   1%|          | 3/319 [00:00<00:14, 21.25it/s]"
     ]
    },
    {
     "name": "stdout",
     "output_type": "stream",
     "text": [
      "[VALIDATION 287] val_acc: 0.9900990099009901 val_acc_reg: 0.9870049504950495 val_acc_line: 0.9931930693069307 \n"
     ]
    },
    {
     "name": "stderr",
     "output_type": "stream",
     "text": [
      "[TRAIN 288, 319] loss: 1.0591270923614502 loss_reg: 1.3719816207885742 loss_line: 0.7462723255157471 acc: 0.9986979365348816 acc_reg: 1.0 acc_line: 0.9973958730697632: 100%|██████████| 319/319 [00:14<00:00, 21.81it/s]               \n",
      "[TRAIN 289, 1] loss: 0.17630159854888916 loss_reg: 0.2286584973335266 loss_line: 0.12394469976425171 acc: 0.1666666716337204 acc_reg: 0.1666666716337204 acc_line: 0.1666666716337204:   1%|          | 3/319 [00:00<00:14, 22.37it/s]"
     ]
    },
    {
     "name": "stdout",
     "output_type": "stream",
     "text": [
      "[VALIDATION 288] val_acc: 0.9905631188118812 val_acc_reg: 0.9866955445544554 val_acc_line: 0.994430693069307 \n"
     ]
    },
    {
     "name": "stderr",
     "output_type": "stream",
     "text": [
      "[TRAIN 289, 319] loss: 1.0578097105026245 loss_reg: 1.3719509840011597 loss_line: 0.7436681985855103 acc: 1.0 acc_reg: 1.0 acc_line: 1.0: 100%|██████████| 319/319 [00:14<00:00, 21.89it/s]                                             \n",
      "[TRAIN 290, 1] loss: 0.17630159854888916 loss_reg: 0.2286584973335266 loss_line: 0.12394469976425171 acc: 0.1666666716337204 acc_reg: 0.1666666716337204 acc_line: 0.1666666716337204:   1%|          | 3/319 [00:00<00:16, 18.83it/s]"
     ]
    },
    {
     "name": "stdout",
     "output_type": "stream",
     "text": [
      "[VALIDATION 289] val_acc: 0.9897122524752475 val_acc_reg: 0.9865408415841584 val_acc_line: 0.9928836633663366 \n"
     ]
    },
    {
     "name": "stderr",
     "output_type": "stream",
     "text": [
      "[TRAIN 290, 319] loss: 1.0578097105026245 loss_reg: 1.3719509840011597 loss_line: 0.7436681985855103 acc: 1.0 acc_reg: 1.0 acc_line: 1.0: 100%|██████████| 319/319 [00:14<00:00, 22.03it/s]                                             \n",
      "[TRAIN 291, 1] loss: 0.17630159854888916 loss_reg: 0.2286584973335266 loss_line: 0.12394469976425171 acc: 0.1666666716337204 acc_reg: 0.1666666716337204 acc_line: 0.1666666716337204:   1%|          | 3/319 [00:00<00:14, 21.92it/s]"
     ]
    },
    {
     "name": "stdout",
     "output_type": "stream",
     "text": [
      "[VALIDATION 290] val_acc: 0.9897122524752475 val_acc_reg: 0.9874690594059405 val_acc_line: 0.9919554455445545 \n"
     ]
    },
    {
     "name": "stderr",
     "output_type": "stream",
     "text": [
      "[TRAIN 291, 319] loss: 1.0588743686676025 loss_reg: 1.3740805387496948 loss_line: 0.7436681985855103 acc: 0.9986979365348816 acc_reg: 0.9973958730697632 acc_line: 1.0: 100%|██████████| 319/319 [00:14<00:00, 21.94it/s]               \n",
      "[TRAIN 292, 1] loss: 0.17758411169052124 loss_reg: 0.23122352361679077 loss_line: 0.12394469976425171 acc: 0.1653645932674408 acc_reg: 0.1640625 acc_line: 0.1666666716337204:   1%|          | 3/319 [00:00<00:15, 20.93it/s]"
     ]
    },
    {
     "name": "stdout",
     "output_type": "stream",
     "text": [
      "[VALIDATION 291] val_acc: 0.9900216584158416 val_acc_reg: 0.9871596534653465 val_acc_line: 0.9928836633663366 \n"
     ]
    },
    {
     "name": "stderr",
     "output_type": "stream",
     "text": [
      "[TRAIN 292, 319] loss: 1.0591118335723877 loss_reg: 1.3719511032104492 loss_line: 0.7462724447250366 acc: 0.9986979365348816 acc_reg: 1.0 acc_line: 0.9973958730697632: 100%|██████████| 319/319 [00:14<00:00, 21.98it/s]               \n",
      "[TRAIN 293, 1] loss: 0.17630159854888916 loss_reg: 0.2286584973335266 loss_line: 0.12394469976425171 acc: 0.1666666716337204 acc_reg: 0.1666666716337204 acc_line: 0.1666666716337204:   1%|          | 3/319 [00:00<00:14, 21.67it/s]"
     ]
    },
    {
     "name": "stdout",
     "output_type": "stream",
     "text": [
      "[VALIDATION 292] val_acc: 0.9901763613861386 val_acc_reg: 0.9879331683168316 val_acc_line: 0.9924195544554455 \n"
     ]
    },
    {
     "name": "stderr",
     "output_type": "stream",
     "text": [
      "[TRAIN 293, 319] loss: 1.0578097105026245 loss_reg: 1.3719509840011597 loss_line: 0.743668258190155 acc: 1.0 acc_reg: 1.0 acc_line: 1.0: 100%|██████████| 319/319 [00:14<00:00, 22.05it/s]                                              \n",
      "[TRAIN 294, 1] loss: 0.17630159854888916 loss_reg: 0.2286584973335266 loss_line: 0.12394469976425171 acc: 0.1666666716337204 acc_reg: 0.1666666716337204 acc_line: 0.1666666716337204:   1%|          | 3/319 [00:00<00:14, 22.57it/s]"
     ]
    },
    {
     "name": "stdout",
     "output_type": "stream",
     "text": [
      "[VALIDATION 293] val_acc: 0.9907178217821783 val_acc_reg: 0.9887066831683168 val_acc_line: 0.9927289603960396 \n"
     ]
    },
    {
     "name": "stderr",
     "output_type": "stream",
     "text": [
      "[TRAIN 294, 319] loss: 1.057809829711914 loss_reg: 1.3719513416290283 loss_line: 0.7436681985855103 acc: 1.0 acc_reg: 1.0 acc_line: 1.0: 100%|██████████| 319/319 [00:14<00:00, 21.99it/s]                                              \n",
      "[TRAIN 295, 1] loss: 0.17890577018260956 loss_reg: 0.231262668967247 loss_line: 0.1265488713979721 acc: 0.1640625 acc_reg: 0.1640625 acc_line: 0.1640625:   1%|          | 2/319 [00:00<00:16, 18.90it/s]"
     ]
    },
    {
     "name": "stdout",
     "output_type": "stream",
     "text": [
      "[VALIDATION 294] val_acc: 0.9900990099009901 val_acc_reg: 0.9876237623762376 val_acc_line: 0.9925742574257426 \n"
     ]
    },
    {
     "name": "stderr",
     "output_type": "stream",
     "text": [
      "[TRAIN 295, 319] loss: 1.0591118335723877 loss_reg: 1.3719509840011597 loss_line: 0.7462723255157471 acc: 0.9986979365348816 acc_reg: 1.0 acc_line: 0.9973958730697632: 100%|██████████| 319/319 [00:14<00:00, 21.92it/s]       \n",
      "[TRAIN 296, 1] loss: 0.17630159854888916 loss_reg: 0.2286584973335266 loss_line: 0.1239447221159935 acc: 0.1666666716337204 acc_reg: 0.1666666716337204 acc_line: 0.1666666716337204:   1%|          | 3/319 [00:00<00:14, 22.12it/s]"
     ]
    },
    {
     "name": "stdout",
     "output_type": "stream",
     "text": [
      "[VALIDATION 295] val_acc: 0.9914913366336634 val_acc_reg: 0.989634900990099 val_acc_line: 0.9933477722772277 \n"
     ]
    },
    {
     "name": "stderr",
     "output_type": "stream",
     "text": [
      "[TRAIN 296, 319] loss: 1.0578097105026245 loss_reg: 1.3719509840011597 loss_line: 0.7436681985855103 acc: 1.0 acc_reg: 1.0 acc_line: 1.0: 100%|██████████| 319/319 [00:15<00:00, 21.04it/s]                                             \n",
      "[TRAIN 297, 1] loss: 0.17630159854888916 loss_reg: 0.2286584973335266 loss_line: 0.12394469976425171 acc: 0.1666666716337204 acc_reg: 0.1666666716337204 acc_line: 0.1666666716337204:   1%|          | 2/319 [00:00<00:16, 19.07it/s]"
     ]
    },
    {
     "name": "stdout",
     "output_type": "stream",
     "text": [
      "[VALIDATION 296] val_acc: 0.9898669554455446 val_acc_reg: 0.9870049504950495 val_acc_line: 0.9927289603960396 \n"
     ]
    },
    {
     "name": "stderr",
     "output_type": "stream",
     "text": [
      "[TRAIN 297, 319] loss: 1.059112787246704 loss_reg: 1.3745551109313965 loss_line: 0.7436704039573669 acc: 0.9986979365348816 acc_reg: 0.9973958730697632 acc_line: 1.0: 100%|██████████| 319/319 [00:14<00:00, 21.76it/s]                \n",
      "[TRAIN 298, 1] loss: 0.17630159854888916 loss_reg: 0.2286584973335266 loss_line: 0.12394469976425171 acc: 0.1666666716337204 acc_reg: 0.1666666716337204 acc_line: 0.1666666716337204:   1%|          | 3/319 [00:00<00:14, 21.44it/s]"
     ]
    },
    {
     "name": "stdout",
     "output_type": "stream",
     "text": [
      "[VALIDATION 297] val_acc: 0.9907951732673267 val_acc_reg: 0.9900990099009901 val_acc_line: 0.9914913366336634 \n"
     ]
    },
    {
     "name": "stderr",
     "output_type": "stream",
     "text": [
      "[TRAIN 298, 319] loss: 1.06291663646698 loss_reg: 1.3771557807922363 loss_line: 0.7486774921417236 acc: 0.9947916865348816 acc_reg: 0.9947916865348816 acc_line: 0.9947916865348816: 100%|██████████| 319/319 [00:14<00:00, 21.76it/s]  \n",
      "[TRAIN 299, 1] loss: 0.17630159854888916 loss_reg: 0.2286584973335266 loss_line: 0.12394469976425171 acc: 0.1666666716337204 acc_reg: 0.1666666716337204 acc_line: 0.1666666716337204:   1%|          | 3/319 [00:00<00:15, 20.82it/s]"
     ]
    },
    {
     "name": "stdout",
     "output_type": "stream",
     "text": [
      "[VALIDATION 298] val_acc: 0.9889387376237624 val_acc_reg: 0.9857673267326733 val_acc_line: 0.9921101485148515 \n"
     ]
    },
    {
     "name": "stderr",
     "output_type": "stream",
     "text": [
      "[TRAIN 299, 319] loss: 1.0595011711120605 loss_reg: 1.3719606399536133 loss_line: 0.7470418810844421 acc: 0.9986979365348816 acc_reg: 1.0 acc_line: 0.9973958730697632: 100%|██████████| 319/319 [00:14<00:00, 21.85it/s]               \n",
      "[TRAIN 300, 1] loss: 0.17630159854888916 loss_reg: 0.2286584973335266 loss_line: 0.12394469976425171 acc: 0.1666666716337204 acc_reg: 0.1666666716337204 acc_line: 0.1666666716337204:   1%|          | 3/319 [00:00<00:14, 21.58it/s]"
     ]
    },
    {
     "name": "stdout",
     "output_type": "stream",
     "text": [
      "[VALIDATION 299] val_acc: 0.9898669554455446 val_acc_reg: 0.9863861386138614 val_acc_line: 0.9933477722772277 \n"
     ]
    },
    {
     "name": "stderr",
     "output_type": "stream",
     "text": [
      "[TRAIN 300, 319] loss: 1.0578097105026245 loss_reg: 1.3719509840011597 loss_line: 0.7436681985855103 acc: 1.0 acc_reg: 1.0 acc_line: 1.0: 100%|██████████| 319/319 [00:14<00:00, 21.92it/s]                                             \n",
      "[TRAIN 301, 1] loss: 0.17630159854888916 loss_reg: 0.2286584973335266 loss_line: 0.12394469976425171 acc: 0.1666666716337204 acc_reg: 0.1666666716337204 acc_line: 0.1666666716337204:   1%|          | 2/319 [00:00<00:16, 18.77it/s]"
     ]
    },
    {
     "name": "stdout",
     "output_type": "stream",
     "text": [
      "[VALIDATION 300] val_acc: 0.9903310643564357 val_acc_reg: 0.9874690594059405 val_acc_line: 0.9931930693069307 \n"
     ]
    },
    {
     "name": "stderr",
     "output_type": "stream",
     "text": [
      "[TRAIN 301, 319] loss: 1.0594403743743896 loss_reg: 1.374411940574646 loss_line: 0.7444688677787781 acc: 0.9986979365348816 acc_reg: 0.9973958730697632 acc_line: 1.0: 100%|██████████| 319/319 [00:14<00:00, 21.79it/s]                \n",
      "[TRAIN 302, 1] loss: 0.17630159854888916 loss_reg: 0.2286584973335266 loss_line: 0.12394469976425171 acc: 0.1666666716337204 acc_reg: 0.1666666716337204 acc_line: 0.1666666716337204:   1%|          | 3/319 [00:00<00:14, 21.51it/s]"
     ]
    },
    {
     "name": "stdout",
     "output_type": "stream",
     "text": [
      "[VALIDATION 301] val_acc: 0.9900216584158416 val_acc_reg: 0.9887066831683168 val_acc_line: 0.9913366336633663 \n"
     ]
    },
    {
     "name": "stderr",
     "output_type": "stream",
     "text": [
      "[TRAIN 302, 319] loss: 1.059615969657898 loss_reg: 1.375563621520996 loss_line: 0.7436681985855103 acc: 0.9986979365348816 acc_reg: 0.9973958730697632 acc_line: 1.0: 100%|██████████| 319/319 [00:14<00:00, 21.81it/s]                 \n",
      "[TRAIN 303, 1] loss: 0.17760369181632996 loss_reg: 0.231262668967247 loss_line: 0.12394469976425171 acc: 0.1653645932674408 acc_reg: 0.1640625 acc_line: 0.1666666716337204:   1%|          | 3/319 [00:00<00:14, 22.23it/s]"
     ]
    },
    {
     "name": "stdout",
     "output_type": "stream",
     "text": [
      "[VALIDATION 302] val_acc: 0.9882425742574258 val_acc_reg: 0.9854579207920792 val_acc_line: 0.9910272277227723 \n"
     ]
    },
    {
     "name": "stderr",
     "output_type": "stream",
     "text": [
      "[TRAIN 303, 319] loss: 1.0578105449676514 loss_reg: 1.3719511032104492 loss_line: 0.7436696290969849 acc: 1.0 acc_reg: 1.0 acc_line: 1.0: 100%|██████████| 319/319 [00:14<00:00, 21.97it/s]                                             \n",
      "[TRAIN 304, 1] loss: 0.17630159854888916 loss_reg: 0.2286584973335266 loss_line: 0.12394469976425171 acc: 0.1666666716337204 acc_reg: 0.1666666716337204 acc_line: 0.1666666716337204:   1%|          | 3/319 [00:00<00:14, 21.31it/s]"
     ]
    },
    {
     "name": "stdout",
     "output_type": "stream",
     "text": [
      "[VALIDATION 303] val_acc: 0.9922648514851485 val_acc_reg: 0.9910272277227723 val_acc_line: 0.9935024752475248 \n"
     ]
    },
    {
     "name": "stderr",
     "output_type": "stream",
     "text": [
      "[TRAIN 304, 319] loss: 1.0578097105026245 loss_reg: 1.3719509840011597 loss_line: 0.743668258190155 acc: 1.0 acc_reg: 1.0 acc_line: 1.0: 100%|██████████| 319/319 [00:14<00:00, 22.03it/s]                                              \n",
      "[TRAIN 305, 1] loss: 0.17630159854888916 loss_reg: 0.2286584973335266 loss_line: 0.12394469976425171 acc: 0.1666666716337204 acc_reg: 0.1666666716337204 acc_line: 0.1666666716337204:   1%|          | 2/319 [00:00<00:15, 19.90it/s]"
     ]
    },
    {
     "name": "stdout",
     "output_type": "stream",
     "text": [
      "[VALIDATION 304] val_acc: 0.9890160891089109 val_acc_reg: 0.9857673267326733 val_acc_line: 0.9922648514851485 \n"
     ]
    },
    {
     "name": "stderr",
     "output_type": "stream",
     "text": [
      "[TRAIN 305, 319] loss: 1.0591119527816772 loss_reg: 1.3719509840011597 loss_line: 0.7462728023529053 acc: 0.9986979365348816 acc_reg: 1.0 acc_line: 0.9973958730697632: 100%|██████████| 319/319 [00:14<00:00, 21.99it/s]               \n",
      "[TRAIN 306, 1] loss: 0.17630159854888916 loss_reg: 0.2286584973335266 loss_line: 0.12394469976425171 acc: 0.1666666716337204 acc_reg: 0.1666666716337204 acc_line: 0.1666666716337204:   1%|          | 2/319 [00:00<00:17, 18.18it/s]"
     ]
    },
    {
     "name": "stdout",
     "output_type": "stream",
     "text": [
      "[VALIDATION 305] val_acc: 0.9908725247524752 val_acc_reg: 0.9882425742574258 val_acc_line: 0.9935024752475248 \n"
     ]
    },
    {
     "name": "stderr",
     "output_type": "stream",
     "text": [
      "[TRAIN 306, 319] loss: 1.057853102684021 loss_reg: 1.3719511032104492 loss_line: 0.743755042552948 acc: 1.0 acc_reg: 1.0 acc_line: 1.0: 100%|██████████| 319/319 [00:14<00:00, 21.97it/s]                                               \n",
      "[TRAIN 307, 1] loss: 0.1763342320919037 loss_reg: 0.22872374951839447 loss_line: 0.12394469976425171 acc: 0.1666666716337204 acc_reg: 0.1666666716337204 acc_line: 0.1666666716337204:   1%|          | 2/319 [00:00<00:17, 18.44it/s]"
     ]
    },
    {
     "name": "stdout",
     "output_type": "stream",
     "text": [
      "[VALIDATION 306] val_acc: 0.9922648514851485 val_acc_reg: 0.9908725247524752 val_acc_line: 0.9936571782178217 \n"
     ]
    },
    {
     "name": "stderr",
     "output_type": "stream",
     "text": [
      "[TRAIN 307, 319] loss: 1.0578097105026245 loss_reg: 1.3719511032104492 loss_line: 0.7436681985855103 acc: 1.0 acc_reg: 1.0 acc_line: 1.0: 100%|██████████| 319/319 [00:14<00:00, 21.92it/s]                                           \n",
      "[TRAIN 308, 1] loss: 0.17630159854888916 loss_reg: 0.2286584973335266 loss_line: 0.12394469976425171 acc: 0.1666666716337204 acc_reg: 0.1666666716337204 acc_line: 0.1666666716337204:   1%|          | 3/319 [00:00<00:13, 23.22it/s]"
     ]
    },
    {
     "name": "stdout",
     "output_type": "stream",
     "text": [
      "[VALIDATION 307] val_acc: 0.9924195544554455 val_acc_reg: 0.9913366336633663 val_acc_line: 0.9935024752475248 \n"
     ]
    },
    {
     "name": "stderr",
     "output_type": "stream",
     "text": [
      "[TRAIN 308, 319] loss: 1.0591118335723877 loss_reg: 1.3745551109313965 loss_line: 0.7436681985855103 acc: 0.9986979365348816 acc_reg: 0.9973958730697632 acc_line: 1.0: 100%|██████████| 319/319 [00:14<00:00, 21.90it/s]               \n",
      "[TRAIN 309, 1] loss: 0.17630159854888916 loss_reg: 0.2286584973335266 loss_line: 0.12394469976425171 acc: 0.1666666716337204 acc_reg: 0.1666666716337204 acc_line: 0.1666666716337204:   1%|          | 2/319 [00:00<00:16, 19.47it/s]"
     ]
    },
    {
     "name": "stdout",
     "output_type": "stream",
     "text": [
      "[VALIDATION 308] val_acc: 0.9897122524752475 val_acc_reg: 0.9871596534653465 val_acc_line: 0.9922648514851485 \n"
     ]
    },
    {
     "name": "stderr",
     "output_type": "stream",
     "text": [
      "[TRAIN 309, 319] loss: 1.061592936515808 loss_reg: 1.3744852542877197 loss_line: 0.7487006187438965 acc: 0.99609375 acc_reg: 0.9973958730697632 acc_line: 0.9947916865348816: 100%|██████████| 319/319 [00:14<00:00, 21.85it/s]         \n",
      "[TRAIN 310, 1] loss: 0.17630159854888916 loss_reg: 0.2286584973335266 loss_line: 0.12394469976425171 acc: 0.1666666716337204 acc_reg: 0.1666666716337204 acc_line: 0.1666666716337204:   1%|          | 3/319 [00:00<00:14, 22.09it/s]"
     ]
    },
    {
     "name": "stdout",
     "output_type": "stream",
     "text": [
      "[VALIDATION 309] val_acc: 0.9904857673267327 val_acc_reg: 0.9877784653465347 val_acc_line: 0.9931930693069307 \n"
     ]
    },
    {
     "name": "stderr",
     "output_type": "stream",
     "text": [
      "[TRAIN 310, 319] loss: 1.0604138374328613 loss_reg: 1.3745551109313965 loss_line: 0.7462723255157471 acc: 0.9973958730697632 acc_reg: 0.9973958730697632 acc_line: 0.9973958730697632: 100%|██████████| 319/319 [00:14<00:00, 21.91it/s]\n",
      "[TRAIN 311, 1] loss: 0.17630159854888916 loss_reg: 0.2286584973335266 loss_line: 0.12394469976425171 acc: 0.1666666716337204 acc_reg: 0.1666666716337204 acc_line: 0.1666666716337204:   1%|          | 2/319 [00:00<00:17, 18.61it/s]"
     ]
    },
    {
     "name": "stdout",
     "output_type": "stream",
     "text": [
      "[VALIDATION 310] val_acc: 0.9915686881188119 val_acc_reg: 0.989634900990099 val_acc_line: 0.9935024752475248 \n"
     ]
    },
    {
     "name": "stderr",
     "output_type": "stream",
     "text": [
      "[TRAIN 311, 319] loss: 1.0578097105026245 loss_reg: 1.3719509840011597 loss_line: 0.7436681985855103 acc: 1.0 acc_reg: 1.0 acc_line: 1.0: 100%|██████████| 319/319 [00:14<00:00, 21.97it/s]                                             \n",
      "[TRAIN 312, 1] loss: 0.17630159854888916 loss_reg: 0.2286584973335266 loss_line: 0.12394469976425171 acc: 0.1666666716337204 acc_reg: 0.1666666716337204 acc_line: 0.1666666716337204:   1%|          | 3/319 [00:00<00:14, 21.51it/s]"
     ]
    },
    {
     "name": "stdout",
     "output_type": "stream",
     "text": [
      "[VALIDATION 311] val_acc: 0.9903310643564357 val_acc_reg: 0.9883972772277227 val_acc_line: 0.9922648514851485 \n"
     ]
    },
    {
     "name": "stderr",
     "output_type": "stream",
     "text": [
      "[TRAIN 312, 319] loss: 1.0578097105026245 loss_reg: 1.3719511032104492 loss_line: 0.7436681985855103 acc: 1.0 acc_reg: 1.0 acc_line: 1.0: 100%|██████████| 319/319 [00:14<00:00, 21.93it/s]                                             \n",
      "[TRAIN 313, 1] loss: 0.17630159854888916 loss_reg: 0.2286584973335266 loss_line: 0.12394469976425171 acc: 0.1666666716337204 acc_reg: 0.1666666716337204 acc_line: 0.1666666716337204:   1%|          | 3/319 [00:00<00:14, 22.08it/s]"
     ]
    },
    {
     "name": "stdout",
     "output_type": "stream",
     "text": [
      "[VALIDATION 312] val_acc: 0.9902537128712872 val_acc_reg: 0.9870049504950495 val_acc_line: 0.9935024752475248 \n"
     ]
    },
    {
     "name": "stderr",
     "output_type": "stream",
     "text": [
      "[TRAIN 313, 319] loss: 1.0591118335723877 loss_reg: 1.3745551109313965 loss_line: 0.743668258190155 acc: 0.9986979365348816 acc_reg: 0.9973958730697632 acc_line: 1.0: 100%|██████████| 319/319 [00:14<00:00, 21.84it/s]                \n",
      "[TRAIN 314, 1] loss: 0.1763041466474533 loss_reg: 0.2286584973335266 loss_line: 0.1239498108625412 acc: 0.1666666716337204 acc_reg: 0.1666666716337204 acc_line: 0.1666666716337204:   1%|          | 3/319 [00:00<00:14, 22.53it/s]"
     ]
    },
    {
     "name": "stdout",
     "output_type": "stream",
     "text": [
      "[VALIDATION 313] val_acc: 0.9904084158415841 val_acc_reg: 0.9877784653465347 val_acc_line: 0.9930383663366337 \n"
     ]
    },
    {
     "name": "stderr",
     "output_type": "stream",
     "text": [
      "[TRAIN 314, 319] loss: 1.0591076612472534 loss_reg: 1.3719513416290283 loss_line: 0.7462639212608337 acc: 0.9986979365348816 acc_reg: 1.0 acc_line: 0.9973958730697632: 100%|██████████| 319/319 [00:14<00:00, 21.83it/s]               \n",
      "[TRAIN 315, 1] loss: 0.17630159854888916 loss_reg: 0.2286584973335266 loss_line: 0.1239447146654129 acc: 0.1666666716337204 acc_reg: 0.1666666716337204 acc_line: 0.1666666716337204:   1%|          | 2/319 [00:00<00:18, 17.39it/s]"
     ]
    },
    {
     "name": "stdout",
     "output_type": "stream",
     "text": [
      "[VALIDATION 314] val_acc: 0.9895575495049505 val_acc_reg: 0.9862314356435643 val_acc_line: 0.9928836633663366 \n"
     ]
    },
    {
     "name": "stderr",
     "output_type": "stream",
     "text": [
      "[TRAIN 315, 319] loss: 1.0629265308380127 loss_reg: 1.3773677349090576 loss_line: 0.7484850287437439 acc: 0.9947916865348816 acc_reg: 0.9947916865348816 acc_line: 0.9947916865348816: 100%|██████████| 319/319 [00:14<00:00, 21.94it/s]\n",
      "[TRAIN 316, 1] loss: 0.17630159854888916 loss_reg: 0.2286584973335266 loss_line: 0.12394469976425171 acc: 0.1666666716337204 acc_reg: 0.1666666716337204 acc_line: 0.1666666716337204:   1%|          | 2/319 [00:00<00:17, 18.39it/s]"
     ]
    },
    {
     "name": "stdout",
     "output_type": "stream",
     "text": [
      "[VALIDATION 315] val_acc: 0.987082301980198 val_acc_reg: 0.9837561881188119 val_acc_line: 0.9904084158415841 \n"
     ]
    },
    {
     "name": "stderr",
     "output_type": "stream",
     "text": [
      "[TRAIN 316, 319] loss: 1.059178113937378 loss_reg: 1.3746880292892456 loss_line: 0.7436681985855103 acc: 0.9986979365348816 acc_reg: 0.9973958730697632 acc_line: 1.0: 100%|██████████| 319/319 [00:14<00:00, 21.91it/s]                \n",
      "[TRAIN 317, 1] loss: 0.17630159854888916 loss_reg: 0.2286584973335266 loss_line: 0.12394469976425171 acc: 0.1666666716337204 acc_reg: 0.1666666716337204 acc_line: 0.1666666716337204:   1%|          | 3/319 [00:00<00:14, 21.75it/s]"
     ]
    },
    {
     "name": "stdout",
     "output_type": "stream",
     "text": [
      "[VALIDATION 316] val_acc: 0.9890160891089109 val_acc_reg: 0.9859220297029703 val_acc_line: 0.9921101485148515 \n"
     ]
    },
    {
     "name": "stderr",
     "output_type": "stream",
     "text": [
      "[TRAIN 317, 319] loss: 1.0578097105026245 loss_reg: 1.3719509840011597 loss_line: 0.7436681985855103 acc: 1.0 acc_reg: 1.0 acc_line: 1.0: 100%|██████████| 319/319 [00:14<00:00, 21.92it/s]                                             \n",
      "[TRAIN 318, 1] loss: 0.17630159854888916 loss_reg: 0.2286584973335266 loss_line: 0.12394469976425171 acc: 0.1666666716337204 acc_reg: 0.1666666716337204 acc_line: 0.1666666716337204:   1%|          | 3/319 [00:00<00:15, 20.92it/s]"
     ]
    },
    {
     "name": "stdout",
     "output_type": "stream",
     "text": [
      "[VALIDATION 317] val_acc: 0.9911819306930693 val_acc_reg: 0.9885519801980198 val_acc_line: 0.9938118811881188 \n"
     ]
    },
    {
     "name": "stderr",
     "output_type": "stream",
     "text": [
      "[TRAIN 318, 319] loss: 1.0578281879425049 loss_reg: 1.3719881772994995 loss_line: 0.7436681985855103 acc: 1.0 acc_reg: 1.0 acc_line: 1.0: 100%|██████████| 319/319 [00:14<00:00, 21.79it/s]                                             \n",
      "[TRAIN 319, 1] loss: 0.177260160446167 loss_reg: 0.23057562112808228 loss_line: 0.12394469976425171 acc: 0.1653645932674408 acc_reg: 0.1640625 acc_line: 0.1666666716337204:   1%|          | 3/319 [00:00<00:15, 20.89it/s]"
     ]
    },
    {
     "name": "stdout",
     "output_type": "stream",
     "text": [
      "[VALIDATION 318] val_acc: 0.9892481435643564 val_acc_reg: 0.9874690594059405 val_acc_line: 0.9910272277227723 \n"
     ]
    },
    {
     "name": "stderr",
     "output_type": "stream",
     "text": [
      "[TRAIN 319, 319] loss: 1.0630286931991577 loss_reg: 1.377180814743042 loss_line: 0.7488765716552734 acc: 0.9947916865348816 acc_reg: 0.9947916865348816 acc_line: 0.9947916865348816: 100%|██████████| 319/319 [00:14<00:00, 21.94it/s] \n",
      "[TRAIN 320, 1] loss: 0.17630159854888916 loss_reg: 0.2286584973335266 loss_line: 0.12394469976425171 acc: 0.1666666716337204 acc_reg: 0.1666666716337204 acc_line: 0.1666666716337204:   1%|          | 3/319 [00:00<00:14, 21.92it/s]"
     ]
    },
    {
     "name": "stdout",
     "output_type": "stream",
     "text": [
      "[VALIDATION 319] val_acc: 0.9887840346534653 val_acc_reg: 0.9859220297029703 val_acc_line: 0.9916460396039604 \n"
     ]
    },
    {
     "name": "stderr",
     "output_type": "stream",
     "text": [
      "[TRAIN 320, 319] loss: 1.0578103065490723 loss_reg: 1.3719513416290283 loss_line: 0.7436692714691162 acc: 1.0 acc_reg: 1.0 acc_line: 1.0: 100%|██████████| 319/319 [00:14<00:00, 21.80it/s]                                             \n",
      "[TRAIN 321, 1] loss: 0.17630164325237274 loss_reg: 0.2286585569381714 loss_line: 0.1239447146654129 acc: 0.1666666716337204 acc_reg: 0.1666666716337204 acc_line: 0.1666666716337204:   1%|          | 3/319 [00:00<00:14, 21.32it/s]"
     ]
    },
    {
     "name": "stdout",
     "output_type": "stream",
     "text": [
      "[VALIDATION 320] val_acc: 0.9897896039603961 val_acc_reg: 0.9876237623762376 val_acc_line: 0.9919554455445545 \n"
     ]
    },
    {
     "name": "stderr",
     "output_type": "stream",
     "text": [
      "[TRAIN 321, 319] loss: 1.0578100681304932 loss_reg: 1.3719515800476074 loss_line: 0.7436681985855103 acc: 1.0 acc_reg: 1.0 acc_line: 1.0: 100%|██████████| 319/319 [00:14<00:00, 21.77it/s]                                             \n",
      "[TRAIN 322, 1] loss: 0.17630159854888916 loss_reg: 0.2286584973335266 loss_line: 0.12394469976425171 acc: 0.1666666716337204 acc_reg: 0.1666666716337204 acc_line: 0.1666666716337204:   1%|          | 3/319 [00:00<00:14, 21.64it/s]"
     ]
    },
    {
     "name": "stdout",
     "output_type": "stream",
     "text": [
      "[VALIDATION 321] val_acc: 0.989325495049505 val_acc_reg: 0.9863861386138614 val_acc_line: 0.9922648514851485 \n"
     ]
    },
    {
     "name": "stderr",
     "output_type": "stream",
     "text": [
      "[TRAIN 322, 319] loss: 1.0578097105026245 loss_reg: 1.3719509840011597 loss_line: 0.7436681985855103 acc: 1.0 acc_reg: 1.0 acc_line: 1.0: 100%|██████████| 319/319 [00:14<00:00, 21.80it/s]                                             \n",
      "[TRAIN 323, 1] loss: 0.17630159854888916 loss_reg: 0.2286584973335266 loss_line: 0.12394469976425171 acc: 0.1666666716337204 acc_reg: 0.1666666716337204 acc_line: 0.1666666716337204:   1%|          | 2/319 [00:00<00:20, 15.25it/s]"
     ]
    },
    {
     "name": "stdout",
     "output_type": "stream",
     "text": [
      "[VALIDATION 322] val_acc: 0.9895575495049505 val_acc_reg: 0.9870049504950495 val_acc_line: 0.9921101485148515 \n"
     ]
    },
    {
     "name": "stderr",
     "output_type": "stream",
     "text": [
      "[TRAIN 323, 319] loss: 1.0617159605026245 loss_reg: 1.3771593570709229 loss_line: 0.7462723255157471 acc: 0.99609375 acc_reg: 0.9947916865348816 acc_line: 0.9973958730697632: 100%|██████████| 319/319 [00:14<00:00, 21.80it/s]        \n",
      "[TRAIN 324, 1] loss: 0.17630159854888916 loss_reg: 0.2286584973335266 loss_line: 0.12394469976425171 acc: 0.1666666716337204 acc_reg: 0.1666666716337204 acc_line: 0.1666666716337204:   1%|          | 2/319 [00:00<00:16, 19.18it/s]"
     ]
    },
    {
     "name": "stdout",
     "output_type": "stream",
     "text": [
      "[VALIDATION 323] val_acc: 0.9890934405940595 val_acc_reg: 0.9876237623762376 val_acc_line: 0.9905631188118812 \n"
     ]
    },
    {
     "name": "stderr",
     "output_type": "stream",
     "text": [
      "[TRAIN 324, 319] loss: 1.0578112602233887 loss_reg: 1.371954321861267 loss_line: 0.7436681985855103 acc: 1.0 acc_reg: 1.0 acc_line: 1.0: 100%|██████████| 319/319 [00:14<00:00, 21.80it/s]                                              \n",
      "[TRAIN 325, 1] loss: 0.17630159854888916 loss_reg: 0.2286584973335266 loss_line: 0.12394469976425171 acc: 0.1666666716337204 acc_reg: 0.1666666716337204 acc_line: 0.1666666716337204:   1%|          | 3/319 [00:00<00:15, 20.73it/s]"
     ]
    },
    {
     "name": "stdout",
     "output_type": "stream",
     "text": [
      "[VALIDATION 324] val_acc: 0.9890934405940595 val_acc_reg: 0.9845297029702971 val_acc_line: 0.9936571782178217 \n"
     ]
    },
    {
     "name": "stderr",
     "output_type": "stream",
     "text": [
      "[TRAIN 325, 319] loss: 1.0578118562698364 loss_reg: 1.3719509840011597 loss_line: 0.7436726093292236 acc: 1.0 acc_reg: 1.0 acc_line: 1.0: 100%|██████████| 319/319 [00:14<00:00, 21.77it/s]                                             \n",
      "[TRAIN 326, 1] loss: 0.17634367942810059 loss_reg: 0.2286584973335266 loss_line: 0.12402886152267456 acc: 0.1666666716337204 acc_reg: 0.1666666716337204 acc_line: 0.1666666716337204:   1%|          | 2/319 [00:00<00:16, 18.91it/s]"
     ]
    },
    {
     "name": "stdout",
     "output_type": "stream",
     "text": [
      "[VALIDATION 325] val_acc: 0.9902537128712872 val_acc_reg: 0.9874690594059405 val_acc_line: 0.9930383663366337 \n"
     ]
    },
    {
     "name": "stderr",
     "output_type": "stream",
     "text": [
      "[TRAIN 326, 319] loss: 1.0578097105026245 loss_reg: 1.3719509840011597 loss_line: 0.7436681985855103 acc: 1.0 acc_reg: 1.0 acc_line: 1.0: 100%|██████████| 319/319 [00:14<00:00, 21.69it/s]                                             \n",
      "[TRAIN 327, 1] loss: 0.1788925975561142 loss_reg: 0.231262668967247 loss_line: 0.1265225112438202 acc: 0.1640625 acc_reg: 0.1640625 acc_line: 0.1640625:   1%|          | 2/319 [00:00<00:17, 17.65it/s]"
     ]
    },
    {
     "name": "stdout",
     "output_type": "stream",
     "text": [
      "[VALIDATION 326] val_acc: 0.9902537128712872 val_acc_reg: 0.9879331683168316 val_acc_line: 0.9925742574257426 \n"
     ]
    },
    {
     "name": "stderr",
     "output_type": "stream",
     "text": [
      "[TRAIN 327, 319] loss: 1.059112310409546 loss_reg: 1.3719522953033447 loss_line: 0.7462724447250366 acc: 0.9986979365348816 acc_reg: 1.0 acc_line: 0.9973958730697632: 100%|██████████| 319/319 [00:14<00:00, 21.79it/s]                \n",
      "[TRAIN 328, 1] loss: 0.17630159854888916 loss_reg: 0.2286584973335266 loss_line: 0.12394469976425171 acc: 0.1666666716337204 acc_reg: 0.1666666716337204 acc_line: 0.1666666716337204:   1%|          | 2/319 [00:00<00:16, 19.75it/s]"
     ]
    },
    {
     "name": "stdout",
     "output_type": "stream",
     "text": [
      "[VALIDATION 327] val_acc: 0.9887066831683168 val_acc_reg: 0.9854579207920792 val_acc_line: 0.9919554455445545 \n"
     ]
    },
    {
     "name": "stderr",
     "output_type": "stream",
     "text": [
      "[TRAIN 328, 319] loss: 1.057822585105896 loss_reg: 1.3719511032104492 loss_line: 0.743694007396698 acc: 1.0 acc_reg: 1.0 acc_line: 1.0: 100%|██████████| 319/319 [00:14<00:00, 21.78it/s]                                               \n",
      "[TRAIN 329, 1] loss: 0.17630159854888916 loss_reg: 0.2286584973335266 loss_line: 0.12394469976425171 acc: 0.1666666716337204 acc_reg: 0.1666666716337204 acc_line: 0.1666666716337204:   1%|          | 3/319 [00:00<00:14, 21.70it/s]"
     ]
    },
    {
     "name": "stdout",
     "output_type": "stream",
     "text": [
      "[VALIDATION 328] val_acc: 0.9888613861386139 val_acc_reg: 0.9853032178217822 val_acc_line: 0.9924195544554455 \n"
     ]
    },
    {
     "name": "stderr",
     "output_type": "stream",
     "text": [
      "[TRAIN 329, 319] loss: 1.0578097105026245 loss_reg: 1.3719511032104492 loss_line: 0.7436681985855103 acc: 1.0 acc_reg: 1.0 acc_line: 1.0: 100%|██████████| 319/319 [00:14<00:00, 22.01it/s]                                             \n",
      "[TRAIN 330, 1] loss: 0.17630159854888916 loss_reg: 0.2286584973335266 loss_line: 0.12394469976425171 acc: 0.1666666716337204 acc_reg: 0.1666666716337204 acc_line: 0.1666666716337204:   1%|          | 3/319 [00:00<00:15, 20.25it/s]"
     ]
    },
    {
     "name": "stdout",
     "output_type": "stream",
     "text": [
      "[VALIDATION 329] val_acc: 0.989944306930693 val_acc_reg: 0.9873143564356436 val_acc_line: 0.9925742574257426 \n"
     ]
    },
    {
     "name": "stderr",
     "output_type": "stream",
     "text": [
      "[TRAIN 330, 319] loss: 1.0600802898406982 loss_reg: 1.3764923810958862 loss_line: 0.7436681985855103 acc: 0.9973958730697632 acc_reg: 0.9947916865348816 acc_line: 1.0: 100%|██████████| 319/319 [00:14<00:00, 21.94it/s]               \n",
      "[TRAIN 331, 1] loss: 0.17630159854888916 loss_reg: 0.2286584973335266 loss_line: 0.12394469976425171 acc: 0.1666666716337204 acc_reg: 0.1666666716337204 acc_line: 0.1666666716337204:   1%|          | 3/319 [00:00<00:14, 22.26it/s]"
     ]
    },
    {
     "name": "stdout",
     "output_type": "stream",
     "text": [
      "[VALIDATION 330] val_acc: 0.9891707920792079 val_acc_reg: 0.9862314356435643 val_acc_line: 0.9921101485148515 \n"
     ]
    },
    {
     "name": "stderr",
     "output_type": "stream",
     "text": [
      "[TRAIN 331, 319] loss: 1.059103012084961 loss_reg: 1.3719509840011597 loss_line: 0.7462550401687622 acc: 0.9986979365348816 acc_reg: 1.0 acc_line: 0.9973958730697632: 100%|██████████| 319/319 [00:14<00:00, 21.91it/s]                \n",
      "[TRAIN 332, 1] loss: 0.17630159854888916 loss_reg: 0.2286584973335266 loss_line: 0.12394469976425171 acc: 0.1666666716337204 acc_reg: 0.1666666716337204 acc_line: 0.1666666716337204:   1%|          | 3/319 [00:00<00:14, 21.75it/s]"
     ]
    },
    {
     "name": "stdout",
     "output_type": "stream",
     "text": [
      "[VALIDATION 331] val_acc: 0.9906404702970297 val_acc_reg: 0.9880878712871287 val_acc_line: 0.9931930693069307 \n"
     ]
    },
    {
     "name": "stderr",
     "output_type": "stream",
     "text": [
      "[TRAIN 332, 319] loss: 1.0585148334503174 loss_reg: 1.3719509840011597 loss_line: 0.7450786828994751 acc: 0.9986979365348816 acc_reg: 1.0 acc_line: 0.9973958730697632: 100%|██████████| 319/319 [00:14<00:00, 21.91it/s]               \n",
      "[TRAIN 333, 1] loss: 0.17630159854888916 loss_reg: 0.2286584973335266 loss_line: 0.12394469976425171 acc: 0.1666666716337204 acc_reg: 0.1666666716337204 acc_line: 0.1666666716337204:   1%|          | 3/319 [00:00<00:14, 22.32it/s]"
     ]
    },
    {
     "name": "stdout",
     "output_type": "stream",
     "text": [
      "[VALIDATION 332] val_acc: 0.9891707920792079 val_acc_reg: 0.9859220297029703 val_acc_line: 0.9924195544554455 \n"
     ]
    },
    {
     "name": "stderr",
     "output_type": "stream",
     "text": [
      "[TRAIN 333, 319] loss: 1.0604138374328613 loss_reg: 1.3745554685592651 loss_line: 0.7462723255157471 acc: 0.9973958730697632 acc_reg: 0.9973958730697632 acc_line: 0.9973958730697632: 100%|██████████| 319/319 [00:14<00:00, 21.90it/s]\n",
      "[TRAIN 334, 1] loss: 0.17630159854888916 loss_reg: 0.2286584973335266 loss_line: 0.12394469976425171 acc: 0.1666666716337204 acc_reg: 0.1666666716337204 acc_line: 0.1666666716337204:   1%|          | 3/319 [00:00<00:14, 21.15it/s]"
     ]
    },
    {
     "name": "stdout",
     "output_type": "stream",
     "text": [
      "[VALIDATION 333] val_acc: 0.9900216584158416 val_acc_reg: 0.9874690594059405 val_acc_line: 0.9925742574257426 \n"
     ]
    },
    {
     "name": "stderr",
     "output_type": "stream",
     "text": [
      "[TRAIN 334, 319] loss: 1.0578216314315796 loss_reg: 1.3719654083251953 loss_line: 0.7436777949333191 acc: 1.0 acc_reg: 1.0 acc_line: 1.0: 100%|██████████| 319/319 [00:14<00:00, 21.84it/s]                                             \n",
      "[TRAIN 335, 1] loss: 0.17630159854888916 loss_reg: 0.2286584973335266 loss_line: 0.12394469976425171 acc: 0.1666666716337204 acc_reg: 0.1666666716337204 acc_line: 0.1666666716337204:   1%|          | 3/319 [00:00<00:14, 21.21it/s]"
     ]
    },
    {
     "name": "stdout",
     "output_type": "stream",
     "text": [
      "[VALIDATION 334] val_acc: 0.9877784653465347 val_acc_reg: 0.9849938118811881 val_acc_line: 0.9905631188118812 \n"
     ]
    },
    {
     "name": "stderr",
     "output_type": "stream",
     "text": [
      "[TRAIN 335, 319] loss: 1.0603832006454468 loss_reg: 1.3770979642868042 loss_line: 0.743668258190155 acc: 0.9973958730697632 acc_reg: 0.9947916865348816 acc_line: 1.0: 100%|██████████| 319/319 [00:14<00:00, 21.79it/s]                \n",
      "[TRAIN 336, 1] loss: 0.17630159854888916 loss_reg: 0.2286584973335266 loss_line: 0.12394469976425171 acc: 0.1666666716337204 acc_reg: 0.1666666716337204 acc_line: 0.1666666716337204:   1%|          | 3/319 [00:00<00:14, 22.16it/s]"
     ]
    },
    {
     "name": "stdout",
     "output_type": "stream",
     "text": [
      "[VALIDATION 335] val_acc: 0.9891707920792079 val_acc_reg: 0.9862314356435643 val_acc_line: 0.9921101485148515 \n"
     ]
    },
    {
     "name": "stderr",
     "output_type": "stream",
     "text": [
      "[TRAIN 336, 319] loss: 1.0643198490142822 loss_reg: 1.3797649145126343 loss_line: 0.7488746047019958 acc: 0.9934896230697632 acc_reg: 0.9921875 acc_line: 0.9947916865348816: 100%|██████████| 319/319 [00:14<00:00, 21.90it/s]         \n",
      "[TRAIN 337, 1] loss: 0.17630159854888916 loss_reg: 0.2286584973335266 loss_line: 0.12394469976425171 acc: 0.1666666716337204 acc_reg: 0.1666666716337204 acc_line: 0.1666666716337204:   1%|          | 3/319 [00:00<00:14, 21.92it/s]"
     ]
    },
    {
     "name": "stdout",
     "output_type": "stream",
     "text": [
      "[VALIDATION 336] val_acc: 0.9910272277227723 val_acc_reg: 0.9891707920792079 val_acc_line: 0.9928836633663366 \n"
     ]
    },
    {
     "name": "stderr",
     "output_type": "stream",
     "text": [
      "[TRAIN 337, 319] loss: 1.057809829711914 loss_reg: 1.3719513416290283 loss_line: 0.743668258190155 acc: 1.0 acc_reg: 1.0 acc_line: 1.0: 100%|██████████| 319/319 [00:14<00:00, 21.94it/s]                                               \n",
      "[TRAIN 338, 1] loss: 0.17630255222320557 loss_reg: 0.2286584973335266 loss_line: 0.12394660711288452 acc: 0.1666666716337204 acc_reg: 0.1666666716337204 acc_line: 0.1666666716337204:   1%|          | 3/319 [00:00<00:15, 20.88it/s]"
     ]
    },
    {
     "name": "stdout",
     "output_type": "stream",
     "text": [
      "[VALIDATION 337] val_acc: 0.9897896039603961 val_acc_reg: 0.9882425742574258 val_acc_line: 0.9913366336633663 \n"
     ]
    },
    {
     "name": "stderr",
     "output_type": "stream",
     "text": [
      "[TRAIN 338, 319] loss: 1.0578097105026245 loss_reg: 1.3719509840011597 loss_line: 0.7436683177947998 acc: 1.0 acc_reg: 1.0 acc_line: 1.0: 100%|██████████| 319/319 [00:14<00:00, 21.69it/s]                                             \n",
      "[TRAIN 339, 1] loss: 0.17630159854888916 loss_reg: 0.2286584973335266 loss_line: 0.12394469976425171 acc: 0.1666666716337204 acc_reg: 0.1666666716337204 acc_line: 0.1666666716337204:   1%|          | 3/319 [00:00<00:15, 20.85it/s]"
     ]
    },
    {
     "name": "stdout",
     "output_type": "stream",
     "text": [
      "[VALIDATION 338] val_acc: 0.9895575495049505 val_acc_reg: 0.9865408415841584 val_acc_line: 0.9925742574257426 \n"
     ]
    },
    {
     "name": "stderr",
     "output_type": "stream",
     "text": [
      "[TRAIN 339, 319] loss: 1.0578283071517944 loss_reg: 1.371988296508789 loss_line: 0.743668258190155 acc: 1.0 acc_reg: 1.0 acc_line: 1.0: 100%|██████████| 319/319 [00:14<00:00, 21.86it/s]                                               \n",
      "[TRAIN 340, 1] loss: 0.17630159854888916 loss_reg: 0.2286584973335266 loss_line: 0.12394469976425171 acc: 0.1666666716337204 acc_reg: 0.1666666716337204 acc_line: 0.1666666716337204:   1%|          | 3/319 [00:00<00:15, 20.30it/s]"
     ]
    },
    {
     "name": "stdout",
     "output_type": "stream",
     "text": [
      "[VALIDATION 339] val_acc: 0.9890934405940595 val_acc_reg: 0.9870049504950495 val_acc_line: 0.9911819306930693 \n"
     ]
    },
    {
     "name": "stderr",
     "output_type": "stream",
     "text": [
      "[TRAIN 340, 319] loss: 1.0578097105026245 loss_reg: 1.3719511032104492 loss_line: 0.7436681985855103 acc: 1.0 acc_reg: 1.0 acc_line: 1.0: 100%|██████████| 319/319 [00:14<00:00, 21.87it/s]                                             \n",
      "[TRAIN 341, 1] loss: 0.17630159854888916 loss_reg: 0.2286584973335266 loss_line: 0.12394469976425171 acc: 0.1666666716337204 acc_reg: 0.1666666716337204 acc_line: 0.1666666716337204:   1%|          | 2/319 [00:00<00:16, 19.31it/s]"
     ]
    },
    {
     "name": "stdout",
     "output_type": "stream",
     "text": [
      "[VALIDATION 340] val_acc: 0.9890160891089109 val_acc_reg: 0.9870049504950495 val_acc_line: 0.9910272277227723 \n"
     ]
    },
    {
     "name": "stderr",
     "output_type": "stream",
     "text": [
      "[TRAIN 341, 319] loss: 1.0578097105026245 loss_reg: 1.3719511032104492 loss_line: 0.743668258190155 acc: 1.0 acc_reg: 1.0 acc_line: 1.0: 100%|██████████| 319/319 [00:14<00:00, 21.82it/s]                                              \n",
      "[TRAIN 342, 1] loss: 0.17630159854888916 loss_reg: 0.2286584973335266 loss_line: 0.12394469976425171 acc: 0.1666666716337204 acc_reg: 0.1666666716337204 acc_line: 0.1666666716337204:   1%|          | 2/319 [00:00<00:16, 19.64it/s]"
     ]
    },
    {
     "name": "stdout",
     "output_type": "stream",
     "text": [
      "[VALIDATION 341] val_acc: 0.9913366336633663 val_acc_reg: 0.9905631188118812 val_acc_line: 0.9921101485148515 \n"
     ]
    },
    {
     "name": "stderr",
     "output_type": "stream",
     "text": [
      "[TRAIN 342, 319] loss: 1.0591118335723877 loss_reg: 1.3719511032104492 loss_line: 0.7462724447250366 acc: 0.9986979365348816 acc_reg: 1.0 acc_line: 0.9973958730697632: 100%|██████████| 319/319 [00:14<00:00, 21.89it/s]               \n",
      "[TRAIN 343, 1] loss: 0.17630159854888916 loss_reg: 0.2286584973335266 loss_line: 0.12394469976425171 acc: 0.1666666716337204 acc_reg: 0.1666666716337204 acc_line: 0.1666666716337204:   1%|          | 3/319 [00:00<00:15, 20.74it/s]"
     ]
    },
    {
     "name": "stdout",
     "output_type": "stream",
     "text": [
      "[VALIDATION 342] val_acc: 0.9890160891089109 val_acc_reg: 0.9853032178217822 val_acc_line: 0.9927289603960396 \n"
     ]
    },
    {
     "name": "stderr",
     "output_type": "stream",
     "text": [
      "[TRAIN 343, 319] loss: 1.0603392124176025 loss_reg: 1.3770098686218262 loss_line: 0.7436681985855103 acc: 0.9973958730697632 acc_reg: 0.9947916865348816 acc_line: 1.0: 100%|██████████| 319/319 [00:14<00:00, 21.87it/s]               \n",
      "[TRAIN 344, 1] loss: 0.17630159854888916 loss_reg: 0.2286584973335266 loss_line: 0.12394469976425171 acc: 0.1666666716337204 acc_reg: 0.1666666716337204 acc_line: 0.1666666716337204:   1%|          | 2/319 [00:00<00:16, 19.65it/s]"
     ]
    },
    {
     "name": "stdout",
     "output_type": "stream",
     "text": [
      "[VALIDATION 343] val_acc: 0.9847617574257426 val_acc_reg: 0.9797339108910891 val_acc_line: 0.9897896039603961 \n"
     ]
    },
    {
     "name": "stderr",
     "output_type": "stream",
     "text": [
      "[TRAIN 344, 319] loss: 1.0603861808776855 loss_reg: 1.3771040439605713 loss_line: 0.7436684370040894 acc: 0.9973958730697632 acc_reg: 0.9947916865348816 acc_line: 1.0: 100%|██████████| 319/319 [00:14<00:00, 21.88it/s]               \n",
      "[TRAIN 345, 1] loss: 0.17760369181632996 loss_reg: 0.2286584973335266 loss_line: 0.1265488713979721 acc: 0.1653645932674408 acc_reg: 0.1666666716337204 acc_line: 0.1640625:   1%|          | 2/319 [00:00<00:15, 19.99it/s]"
     ]
    },
    {
     "name": "stdout",
     "output_type": "stream",
     "text": [
      "[VALIDATION 344] val_acc: 0.9883972772277227 val_acc_reg: 0.9854579207920792 val_acc_line: 0.9913366336633663 \n"
     ]
    },
    {
     "name": "stderr",
     "output_type": "stream",
     "text": [
      "[TRAIN 345, 319] loss: 1.0591119527816772 loss_reg: 1.3719513416290283 loss_line: 0.7462723255157471 acc: 0.9986979365348816 acc_reg: 1.0 acc_line: 0.9973958730697632: 100%|██████████| 319/319 [00:14<00:00, 21.96it/s]               \n",
      "[TRAIN 346, 1] loss: 0.17630159854888916 loss_reg: 0.2286584973335266 loss_line: 0.12394469976425171 acc: 0.1666666716337204 acc_reg: 0.1666666716337204 acc_line: 0.1666666716337204:   1%|          | 3/319 [00:00<00:14, 21.64it/s]"
     ]
    },
    {
     "name": "stdout",
     "output_type": "stream",
     "text": [
      "[VALIDATION 345] val_acc: 0.9883972772277227 val_acc_reg: 0.9849938118811881 val_acc_line: 0.9918007425742574 \n"
     ]
    },
    {
     "name": "stderr",
     "output_type": "stream",
     "text": [
      "[TRAIN 346, 319] loss: 1.061720848083496 loss_reg: 1.374566912651062 loss_line: 0.748874843120575 acc: 0.99609375 acc_reg: 0.9973958730697632 acc_line: 0.9947916865348816: 100%|██████████| 319/319 [00:14<00:00, 21.91it/s]           \n",
      "[TRAIN 347, 1] loss: 0.17630159854888916 loss_reg: 0.2286584973335266 loss_line: 0.1239447146654129 acc: 0.1666666716337204 acc_reg: 0.1666666716337204 acc_line: 0.1666666716337204:   1%|          | 2/319 [00:00<00:16, 18.90it/s]"
     ]
    },
    {
     "name": "stdout",
     "output_type": "stream",
     "text": [
      "[VALIDATION 346] val_acc: 0.9879331683168316 val_acc_reg: 0.9849938118811881 val_acc_line: 0.9908725247524752 \n"
     ]
    },
    {
     "name": "stderr",
     "output_type": "stream",
     "text": [
      "[TRAIN 347, 319] loss: 1.0591200590133667 loss_reg: 1.3719658851623535 loss_line: 0.7462741136550903 acc: 0.9986979365348816 acc_reg: 1.0 acc_line: 0.9973958730697632: 100%|██████████| 319/319 [00:14<00:00, 21.81it/s]               \n",
      "[TRAIN 348, 1] loss: 0.17630159854888916 loss_reg: 0.2286584973335266 loss_line: 0.12394469976425171 acc: 0.1666666716337204 acc_reg: 0.1666666716337204 acc_line: 0.1666666716337204:   1%|          | 2/319 [00:00<00:16, 19.08it/s]"
     ]
    },
    {
     "name": "stdout",
     "output_type": "stream",
     "text": [
      "[VALIDATION 347] val_acc: 0.9894028465346535 val_acc_reg: 0.9873143564356436 val_acc_line: 0.9914913366336634 \n"
     ]
    },
    {
     "name": "stderr",
     "output_type": "stream",
     "text": [
      "[TRAIN 348, 319] loss: 1.0584983825683594 loss_reg: 1.3719509840011597 loss_line: 0.7450456023216248 acc: 0.9986979365348816 acc_reg: 1.0 acc_line: 0.9973958730697632: 100%|██████████| 319/319 [00:14<00:00, 21.74it/s]               \n",
      "[TRAIN 349, 1] loss: 0.17630159854888916 loss_reg: 0.2286584973335266 loss_line: 0.12394469976425171 acc: 0.1666666716337204 acc_reg: 0.1666666716337204 acc_line: 0.1666666716337204:   1%|          | 2/319 [00:00<00:15, 19.87it/s]"
     ]
    },
    {
     "name": "stdout",
     "output_type": "stream",
     "text": [
      "[VALIDATION 348] val_acc: 0.9890934405940595 val_acc_reg: 0.9873143564356436 val_acc_line: 0.9908725247524752 \n"
     ]
    },
    {
     "name": "stderr",
     "output_type": "stream",
     "text": [
      "[TRAIN 349, 319] loss: 1.0579227209091187 loss_reg: 1.3719509840011597 loss_line: 0.7438940405845642 acc: 1.0 acc_reg: 1.0 acc_line: 1.0: 100%|██████████| 319/319 [00:14<00:00, 21.75it/s]                                           \n",
      "[TRAIN 350, 1] loss: 0.17630162835121155 loss_reg: 0.2286584973335266 loss_line: 0.12394474446773529 acc: 0.1666666716337204 acc_reg: 0.1666666716337204 acc_line: 0.1666666716337204:   1%|          | 3/319 [00:00<00:14, 21.74it/s]"
     ]
    },
    {
     "name": "stdout",
     "output_type": "stream",
     "text": [
      "[VALIDATION 349] val_acc: 0.989944306930693 val_acc_reg: 0.9877784653465347 val_acc_line: 0.9921101485148515 \n"
     ]
    },
    {
     "name": "stderr",
     "output_type": "stream",
     "text": [
      "[TRAIN 350, 319] loss: 1.0578097105026245 loss_reg: 1.3719509840011597 loss_line: 0.743668258190155 acc: 1.0 acc_reg: 1.0 acc_line: 1.0: 100%|██████████| 319/319 [00:14<00:00, 21.64it/s]                                              \n",
      "[TRAIN 351, 1] loss: 0.17630159854888916 loss_reg: 0.2286584973335266 loss_line: 0.12394469976425171 acc: 0.1666666716337204 acc_reg: 0.1666666716337204 acc_line: 0.1666666716337204:   1%|          | 3/319 [00:00<00:15, 20.56it/s]"
     ]
    },
    {
     "name": "stdout",
     "output_type": "stream",
     "text": [
      "[VALIDATION 350] val_acc: 0.9904084158415841 val_acc_reg: 0.9877784653465347 val_acc_line: 0.9930383663366337 \n"
     ]
    },
    {
     "name": "stderr",
     "output_type": "stream",
     "text": [
      "[TRAIN 351, 319] loss: 1.0591118335723877 loss_reg: 1.3745551109313965 loss_line: 0.7436681985855103 acc: 0.9986979365348816 acc_reg: 0.9973958730697632 acc_line: 1.0: 100%|██████████| 319/319 [00:14<00:00, 21.68it/s]             \n",
      "[TRAIN 352, 1] loss: 0.17630159854888916 loss_reg: 0.2286584973335266 loss_line: 0.12394469976425171 acc: 0.1666666716337204 acc_reg: 0.1666666716337204 acc_line: 0.1666666716337204:   1%|          | 3/319 [00:00<00:14, 21.98it/s]"
     ]
    },
    {
     "name": "stdout",
     "output_type": "stream",
     "text": [
      "[VALIDATION 351] val_acc: 0.9898669554455446 val_acc_reg: 0.9879331683168316 val_acc_line: 0.9918007425742574 \n"
     ]
    },
    {
     "name": "stderr",
     "output_type": "stream",
     "text": [
      "[TRAIN 352, 319] loss: 1.0604138374328613 loss_reg: 1.3745551109313965 loss_line: 0.7462723255157471 acc: 0.9973958730697632 acc_reg: 0.9973958730697632 acc_line: 0.9973958730697632: 100%|██████████| 319/319 [00:14<00:00, 21.84it/s]\n",
      "[TRAIN 353, 1] loss: 0.17630159854888916 loss_reg: 0.2286584973335266 loss_line: 0.12394469976425171 acc: 0.1666666716337204 acc_reg: 0.1666666716337204 acc_line: 0.1666666716337204:   1%|          | 2/319 [00:00<00:16, 19.58it/s]"
     ]
    },
    {
     "name": "stdout",
     "output_type": "stream",
     "text": [
      "[VALIDATION 352] val_acc: 0.989325495049505 val_acc_reg: 0.9868502475247525 val_acc_line: 0.9918007425742574 \n"
     ]
    },
    {
     "name": "stderr",
     "output_type": "stream",
     "text": [
      "[TRAIN 353, 319] loss: 1.0578163862228394 loss_reg: 1.3719643354415894 loss_line: 0.7436681985855103 acc: 1.0 acc_reg: 1.0 acc_line: 1.0: 100%|██████████| 319/319 [00:14<00:00, 21.91it/s]                                             \n",
      "[TRAIN 354, 1] loss: 0.17630159854888916 loss_reg: 0.2286584973335266 loss_line: 0.12394469976425171 acc: 0.1666666716337204 acc_reg: 0.1666666716337204 acc_line: 0.1666666716337204:   1%|          | 3/319 [00:00<00:14, 21.49it/s]"
     ]
    },
    {
     "name": "stdout",
     "output_type": "stream",
     "text": [
      "[VALIDATION 353] val_acc: 0.9911045792079208 val_acc_reg: 0.9885519801980198 val_acc_line: 0.9936571782178217 \n"
     ]
    },
    {
     "name": "stderr",
     "output_type": "stream",
     "text": [
      "[TRAIN 354, 319] loss: 1.0591135025024414 loss_reg: 1.3745588064193726 loss_line: 0.7436681985855103 acc: 0.9986979365348816 acc_reg: 0.9973958730697632 acc_line: 1.0: 100%|██████████| 319/319 [00:14<00:00, 21.87it/s]              \n",
      "[TRAIN 355, 1] loss: 0.17630159854888916 loss_reg: 0.2286584973335266 loss_line: 0.12394469976425171 acc: 0.1666666716337204 acc_reg: 0.1666666716337204 acc_line: 0.1666666716337204:   1%|          | 3/319 [00:00<00:14, 21.74it/s]"
     ]
    },
    {
     "name": "stdout",
     "output_type": "stream",
     "text": [
      "[VALIDATION 354] val_acc: 0.9908725247524752 val_acc_reg: 0.9887066831683168 val_acc_line: 0.9930383663366337 \n"
     ]
    },
    {
     "name": "stderr",
     "output_type": "stream",
     "text": [
      "[TRAIN 355, 319] loss: 1.0578097105026245 loss_reg: 1.3719509840011597 loss_line: 0.7436681985855103 acc: 1.0 acc_reg: 1.0 acc_line: 1.0: 100%|██████████| 319/319 [00:14<00:00, 21.95it/s]                                             \n",
      "[TRAIN 356, 1] loss: 0.17630159854888916 loss_reg: 0.2286584973335266 loss_line: 0.12394469976425171 acc: 0.1666666716337204 acc_reg: 0.1666666716337204 acc_line: 0.1666666716337204:   1%|          | 2/319 [00:00<00:16, 19.29it/s]"
     ]
    },
    {
     "name": "stdout",
     "output_type": "stream",
     "text": [
      "[VALIDATION 355] val_acc: 0.9904857673267327 val_acc_reg: 0.9882425742574258 val_acc_line: 0.9927289603960396 \n"
     ]
    },
    {
     "name": "stderr",
     "output_type": "stream",
     "text": [
      "[TRAIN 356, 319] loss: 1.0604138374328613 loss_reg: 1.3771593570709229 loss_line: 0.7436681985855103 acc: 0.9973958730697632 acc_reg: 0.9947916865348816 acc_line: 1.0: 100%|██████████| 319/319 [00:14<00:00, 21.99it/s]               \n",
      "[TRAIN 357, 1] loss: 0.17630159854888916 loss_reg: 0.2286584973335266 loss_line: 0.12394469976425171 acc: 0.1666666716337204 acc_reg: 0.1666666716337204 acc_line: 0.1666666716337204:   1%|          | 3/319 [00:00<00:14, 21.24it/s]"
     ]
    },
    {
     "name": "stdout",
     "output_type": "stream",
     "text": [
      "[VALIDATION 356] val_acc: 0.9897896039603961 val_acc_reg: 0.9863861386138614 val_acc_line: 0.9931930693069307 \n"
     ]
    },
    {
     "name": "stderr",
     "output_type": "stream",
     "text": [
      "[TRAIN 357, 319] loss: 1.0595096349716187 loss_reg: 1.3745553493499756 loss_line: 0.7444640398025513 acc: 0.9986979365348816 acc_reg: 0.9973958730697632 acc_line: 1.0: 100%|██████████| 319/319 [00:14<00:00, 21.96it/s]               \n",
      "[TRAIN 358, 1] loss: 0.17630159854888916 loss_reg: 0.228658527135849 loss_line: 0.12394469976425171 acc: 0.1666666716337204 acc_reg: 0.1666666716337204 acc_line: 0.1666666716337204:   1%|          | 3/319 [00:00<00:14, 22.44it/s]"
     ]
    },
    {
     "name": "stdout",
     "output_type": "stream",
     "text": [
      "[VALIDATION 357] val_acc: 0.9906404702970297 val_acc_reg: 0.9887066831683168 val_acc_line: 0.9925742574257426 \n"
     ]
    },
    {
     "name": "stderr",
     "output_type": "stream",
     "text": [
      "[TRAIN 358, 319] loss: 1.0604143142700195 loss_reg: 1.3771594762802124 loss_line: 0.7436692714691162 acc: 0.9973958730697632 acc_reg: 0.9947916865348816 acc_line: 1.0: 100%|██████████| 319/319 [00:14<00:00, 21.94it/s]               \n",
      "[TRAIN 359, 1] loss: 0.17630159854888916 loss_reg: 0.2286584973335266 loss_line: 0.12394469976425171 acc: 0.1666666716337204 acc_reg: 0.1666666716337204 acc_line: 0.1666666716337204:   1%|          | 3/319 [00:00<00:14, 21.91it/s]"
     ]
    },
    {
     "name": "stdout",
     "output_type": "stream",
     "text": [
      "[VALIDATION 358] val_acc: 0.989944306930693 val_acc_reg: 0.9883972772277227 val_acc_line: 0.9914913366336634 \n"
     ]
    },
    {
     "name": "stderr",
     "output_type": "stream",
     "text": [
      "[TRAIN 359, 319] loss: 1.063016414642334 loss_reg: 1.3771562576293945 loss_line: 0.7488765120506287 acc: 0.9947916865348816 acc_reg: 0.9947916865348816 acc_line: 0.9947916865348816: 100%|██████████| 319/319 [00:14<00:00, 21.98it/s] \n",
      "[TRAIN 360, 1] loss: 0.17630159854888916 loss_reg: 0.2286584973335266 loss_line: 0.12394469976425171 acc: 0.1666666716337204 acc_reg: 0.1666666716337204 acc_line: 0.1666666716337204:   1%|          | 2/319 [00:00<00:16, 19.10it/s]"
     ]
    },
    {
     "name": "stdout",
     "output_type": "stream",
     "text": [
      "[VALIDATION 359] val_acc: 0.9887066831683168 val_acc_reg: 0.9868502475247525 val_acc_line: 0.9905631188118812 \n"
     ]
    },
    {
     "name": "stderr",
     "output_type": "stream",
     "text": [
      "[TRAIN 360, 319] loss: 1.0591118335723877 loss_reg: 1.3719509840011597 loss_line: 0.7462723255157471 acc: 0.9986979365348816 acc_reg: 1.0 acc_line: 0.9973958730697632: 100%|██████████| 319/319 [00:14<00:00, 21.91it/s]               \n",
      "[TRAIN 361, 1] loss: 0.17630159854888916 loss_reg: 0.2286584973335266 loss_line: 0.12394469976425171 acc: 0.1666666716337204 acc_reg: 0.1666666716337204 acc_line: 0.1666666716337204:   1%|          | 2/319 [00:00<00:16, 19.71it/s]"
     ]
    },
    {
     "name": "stdout",
     "output_type": "stream",
     "text": [
      "[VALIDATION 360] val_acc: 0.9890160891089109 val_acc_reg: 0.9871596534653465 val_acc_line: 0.9908725247524752 \n"
     ]
    },
    {
     "name": "stderr",
     "output_type": "stream",
     "text": [
      "[TRAIN 361, 319] loss: 1.0591118335723877 loss_reg: 1.3745551109313965 loss_line: 0.7436681985855103 acc: 0.9986979365348816 acc_reg: 0.9973958730697632 acc_line: 1.0: 100%|██████████| 319/319 [00:14<00:00, 21.86it/s]               \n",
      "[TRAIN 362, 1] loss: 0.17630159854888916 loss_reg: 0.2286584973335266 loss_line: 0.12394469976425171 acc: 0.1666666716337204 acc_reg: 0.1666666716337204 acc_line: 0.1666666716337204:   1%|          | 3/319 [00:00<00:17, 18.14it/s]"
     ]
    },
    {
     "name": "stdout",
     "output_type": "stream",
     "text": [
      "[VALIDATION 361] val_acc: 0.989634900990099 val_acc_reg: 0.9862314356435643 val_acc_line: 0.9930383663366337 \n"
     ]
    },
    {
     "name": "stderr",
     "output_type": "stream",
     "text": [
      "[TRAIN 362, 319] loss: 1.0591118335723877 loss_reg: 1.3745553493499756 loss_line: 0.7436681985855103 acc: 0.9986979365348816 acc_reg: 0.9973958730697632 acc_line: 1.0: 100%|██████████| 319/319 [00:14<00:00, 21.88it/s]               \n",
      "[TRAIN 363, 1] loss: 0.17630159854888916 loss_reg: 0.2286584973335266 loss_line: 0.12394469976425171 acc: 0.1666666716337204 acc_reg: 0.1666666716337204 acc_line: 0.1666666716337204:   1%|          | 3/319 [00:00<00:16, 19.00it/s]"
     ]
    },
    {
     "name": "stdout",
     "output_type": "stream",
     "text": [
      "[VALIDATION 362] val_acc: 0.9903310643564357 val_acc_reg: 0.9887066831683168 val_acc_line: 0.9919554455445545 \n"
     ]
    },
    {
     "name": "stderr",
     "output_type": "stream",
     "text": [
      "[TRAIN 363, 319] loss: 1.0591943264007568 loss_reg: 1.3721160888671875 loss_line: 0.7462724447250366 acc: 0.9986979365348816 acc_reg: 1.0 acc_line: 0.9973958730697632: 100%|██████████| 319/319 [00:14<00:00, 21.98it/s]               \n",
      "[TRAIN 364, 1] loss: 0.17630159854888916 loss_reg: 0.2286584973335266 loss_line: 0.12394469976425171 acc: 0.1666666716337204 acc_reg: 0.1666666716337204 acc_line: 0.1666666716337204:   1%|          | 3/319 [00:00<00:13, 22.59it/s]"
     ]
    },
    {
     "name": "stdout",
     "output_type": "stream",
     "text": [
      "[VALIDATION 363] val_acc: 0.9901763613861386 val_acc_reg: 0.9877784653465347 val_acc_line: 0.9925742574257426 \n"
     ]
    },
    {
     "name": "stderr",
     "output_type": "stream",
     "text": [
      "[TRAIN 364, 319] loss: 1.0604138374328613 loss_reg: 1.3745553493499756 loss_line: 0.7462723255157471 acc: 0.9973958730697632 acc_reg: 0.9973958730697632 acc_line: 0.9973958730697632: 100%|██████████| 319/319 [00:14<00:00, 21.90it/s]\n",
      "[TRAIN 365, 1] loss: 0.17630159854888916 loss_reg: 0.2286584973335266 loss_line: 0.12394469976425171 acc: 0.1666666716337204 acc_reg: 0.1666666716337204 acc_line: 0.1666666716337204:   1%|          | 2/319 [00:00<00:16, 19.13it/s]"
     ]
    },
    {
     "name": "stdout",
     "output_type": "stream",
     "text": [
      "[VALIDATION 364] val_acc: 0.9900216584158416 val_acc_reg: 0.9877784653465347 val_acc_line: 0.9922648514851485 \n"
     ]
    },
    {
     "name": "stderr",
     "output_type": "stream",
     "text": [
      "[TRAIN 365, 319] loss: 1.0591135025024414 loss_reg: 1.3719544410705566 loss_line: 0.7462724447250366 acc: 0.9986979365348816 acc_reg: 1.0 acc_line: 0.9973958730697632: 100%|██████████| 319/319 [00:14<00:00, 21.86it/s]               \n",
      "[TRAIN 366, 1] loss: 0.17630159854888916 loss_reg: 0.2286584973335266 loss_line: 0.1239447146654129 acc: 0.1666666716337204 acc_reg: 0.1666666716337204 acc_line: 0.1666666716337204:   1%|          | 2/319 [00:00<00:17, 18.09it/s]"
     ]
    },
    {
     "name": "stdout",
     "output_type": "stream",
     "text": [
      "[VALIDATION 365] val_acc: 0.9919554455445545 val_acc_reg: 0.9897896039603961 val_acc_line: 0.9941212871287128 \n"
     ]
    },
    {
     "name": "stderr",
     "output_type": "stream",
     "text": [
      "[TRAIN 366, 319] loss: 1.0578097105026245 loss_reg: 1.3719509840011597 loss_line: 0.7436681985855103 acc: 1.0 acc_reg: 1.0 acc_line: 1.0: 100%|██████████| 319/319 [00:14<00:00, 21.76it/s]                                            \n",
      "[TRAIN 367, 1] loss: 0.17630159854888916 loss_reg: 0.2286584973335266 loss_line: 0.12394469976425171 acc: 0.1666666716337204 acc_reg: 0.1666666716337204 acc_line: 0.1666666716337204:   1%|          | 3/319 [00:00<00:14, 21.53it/s]"
     ]
    },
    {
     "name": "stdout",
     "output_type": "stream",
     "text": [
      "[VALIDATION 366] val_acc: 0.9913366336633663 val_acc_reg: 0.9891707920792079 val_acc_line: 0.9935024752475248 \n"
     ]
    },
    {
     "name": "stderr",
     "output_type": "stream",
     "text": [
      "[TRAIN 367, 319] loss: 1.0578830242156982 loss_reg: 1.3720099925994873 loss_line: 0.7437559962272644 acc: 1.0 acc_reg: 1.0 acc_line: 1.0: 100%|██████████| 319/319 [00:14<00:00, 21.78it/s]                                             \n",
      "[TRAIN 368, 1] loss: 0.17630159854888916 loss_reg: 0.2286584973335266 loss_line: 0.12394469976425171 acc: 0.1666666716337204 acc_reg: 0.1666666716337204 acc_line: 0.1666666716337204:   1%|          | 2/319 [00:00<00:16, 18.74it/s]"
     ]
    },
    {
     "name": "stdout",
     "output_type": "stream",
     "text": [
      "[VALIDATION 367] val_acc: 0.9913366336633663 val_acc_reg: 0.9882425742574258 val_acc_line: 0.994430693069307 \n"
     ]
    },
    {
     "name": "stderr",
     "output_type": "stream",
     "text": [
      "[TRAIN 368, 319] loss: 1.0578097105026245 loss_reg: 1.3719511032104492 loss_line: 0.7436681985855103 acc: 1.0 acc_reg: 1.0 acc_line: 1.0: 100%|██████████| 319/319 [00:14<00:00, 21.90it/s]                                             \n",
      "[TRAIN 369, 1] loss: 0.17760369181632996 loss_reg: 0.2312626838684082 loss_line: 0.12394469976425171 acc: 0.1653645932674408 acc_reg: 0.1640625 acc_line: 0.1666666716337204:   1%|          | 3/319 [00:00<00:15, 19.93it/s]"
     ]
    },
    {
     "name": "stdout",
     "output_type": "stream",
     "text": [
      "[VALIDATION 368] val_acc: 0.9898669554455446 val_acc_reg: 0.9865408415841584 val_acc_line: 0.9931930693069307 \n"
     ]
    },
    {
     "name": "stderr",
     "output_type": "stream",
     "text": [
      "[TRAIN 369, 319] loss: 1.0591094493865967 loss_reg: 1.3719509840011597 loss_line: 0.7462676763534546 acc: 0.9986979365348816 acc_reg: 1.0 acc_line: 0.9973958730697632: 100%|██████████| 319/319 [00:14<00:00, 21.86it/s]               \n",
      "[TRAIN 370, 1] loss: 0.17630159854888916 loss_reg: 0.2286584973335266 loss_line: 0.12394469976425171 acc: 0.1666666716337204 acc_reg: 0.1666666716337204 acc_line: 0.1666666716337204:   1%|          | 3/319 [00:00<00:15, 20.71it/s]"
     ]
    },
    {
     "name": "stdout",
     "output_type": "stream",
     "text": [
      "[VALIDATION 369] val_acc: 0.9887066831683168 val_acc_reg: 0.9856126237623762 val_acc_line: 0.9918007425742574 \n"
     ]
    },
    {
     "name": "stderr",
     "output_type": "stream",
     "text": [
      "[TRAIN 370, 319] loss: 1.0591120719909668 loss_reg: 1.3745530843734741 loss_line: 0.7436709403991699 acc: 0.9986979365348816 acc_reg: 0.9973958730697632 acc_line: 1.0: 100%|██████████| 319/319 [00:14<00:00, 21.85it/s]               \n",
      "[TRAIN 371, 1] loss: 0.17630159854888916 loss_reg: 0.2286584973335266 loss_line: 0.12394469976425171 acc: 0.1666666716337204 acc_reg: 0.1666666716337204 acc_line: 0.1666666716337204:   1%|          | 2/319 [00:00<00:17, 17.78it/s]"
     ]
    },
    {
     "name": "stdout",
     "output_type": "stream",
     "text": [
      "[VALIDATION 370] val_acc: 0.989634900990099 val_acc_reg: 0.9880878712871287 val_acc_line: 0.9911819306930693 \n"
     ]
    },
    {
     "name": "stderr",
     "output_type": "stream",
     "text": [
      "[TRAIN 371, 319] loss: 1.0591118335723877 loss_reg: 1.3745553493499756 loss_line: 0.7436681985855103 acc: 0.9986979365348816 acc_reg: 0.9973958730697632 acc_line: 1.0: 100%|██████████| 319/319 [00:14<00:00, 21.79it/s]               \n",
      "[TRAIN 372, 1] loss: 0.17760369181632996 loss_reg: 0.2312626838684082 loss_line: 0.12394469976425171 acc: 0.1653645932674408 acc_reg: 0.1640625 acc_line: 0.1666666716337204:   1%|          | 3/319 [00:00<00:14, 21.23it/s]"
     ]
    },
    {
     "name": "stdout",
     "output_type": "stream",
     "text": [
      "[VALIDATION 371] val_acc: 0.9884746287128713 val_acc_reg: 0.9849938118811881 val_acc_line: 0.9919554455445545 \n"
     ]
    },
    {
     "name": "stderr",
     "output_type": "stream",
     "text": [
      "[TRAIN 372, 319] loss: 1.060417890548706 loss_reg: 1.374563217163086 loss_line: 0.7462723255157471 acc: 0.9973958730697632 acc_reg: 0.9973958730697632 acc_line: 0.9973958730697632: 100%|██████████| 319/319 [00:14<00:00, 21.91it/s]  \n",
      "[TRAIN 373, 1] loss: 0.17630159854888916 loss_reg: 0.2286584973335266 loss_line: 0.12394469976425171 acc: 0.1666666716337204 acc_reg: 0.1666666716337204 acc_line: 0.1666666716337204:   1%|          | 3/319 [00:00<00:14, 21.31it/s]"
     ]
    },
    {
     "name": "stdout",
     "output_type": "stream",
     "text": [
      "[VALIDATION 372] val_acc: 0.9892481435643564 val_acc_reg: 0.9863861386138614 val_acc_line: 0.9921101485148515 \n"
     ]
    },
    {
     "name": "stderr",
     "output_type": "stream",
     "text": [
      "[TRAIN 373, 319] loss: 1.059706687927246 loss_reg: 1.3731410503387451 loss_line: 0.7462723255157471 acc: 0.9986979365348816 acc_reg: 1.0 acc_line: 0.9973958730697632: 100%|██████████| 319/319 [00:14<00:00, 21.77it/s]                \n",
      "[TRAIN 374, 1] loss: 0.17630159854888916 loss_reg: 0.2286584973335266 loss_line: 0.12394469976425171 acc: 0.1666666716337204 acc_reg: 0.1666666716337204 acc_line: 0.1666666716337204:   1%|          | 3/319 [00:00<00:13, 23.35it/s]"
     ]
    },
    {
     "name": "stdout",
     "output_type": "stream",
     "text": [
      "[VALIDATION 373] val_acc: 0.9913366336633663 val_acc_reg: 0.989944306930693 val_acc_line: 0.9927289603960396 \n"
     ]
    },
    {
     "name": "stderr",
     "output_type": "stream",
     "text": [
      "[TRAIN 374, 319] loss: 1.0604138374328613 loss_reg: 1.3771593570709229 loss_line: 0.7436681985855103 acc: 0.9973958730697632 acc_reg: 0.9947916865348816 acc_line: 1.0: 100%|██████████| 319/319 [00:14<00:00, 21.91it/s]               \n",
      "[TRAIN 375, 1] loss: 0.17630159854888916 loss_reg: 0.2286584973335266 loss_line: 0.12394469976425171 acc: 0.1666666716337204 acc_reg: 0.1666666716337204 acc_line: 0.1666666716337204:   1%|          | 2/319 [00:00<00:16, 19.29it/s]"
     ]
    },
    {
     "name": "stdout",
     "output_type": "stream",
     "text": [
      "[VALIDATION 374] val_acc: 0.9919554455445545 val_acc_reg: 0.9905631188118812 val_acc_line: 0.9933477722772277 \n"
     ]
    },
    {
     "name": "stderr",
     "output_type": "stream",
     "text": [
      "[TRAIN 375, 319] loss: 1.0608699321746826 loss_reg: 1.3780711889266968 loss_line: 0.7436684370040894 acc: 0.9973958730697632 acc_reg: 0.9947916865348816 acc_line: 1.0: 100%|██████████| 319/319 [00:14<00:00, 21.93it/s]               \n",
      "[TRAIN 376, 1] loss: 0.17630159854888916 loss_reg: 0.2286584973335266 loss_line: 0.12394469976425171 acc: 0.1666666716337204 acc_reg: 0.1666666716337204 acc_line: 0.1666666716337204:   1%|          | 3/319 [00:00<00:14, 22.47it/s]"
     ]
    },
    {
     "name": "stdout",
     "output_type": "stream",
     "text": [
      "[VALIDATION 375] val_acc: 0.9891707920792079 val_acc_reg: 0.9879331683168316 val_acc_line: 0.9904084158415841 \n"
     ]
    },
    {
     "name": "stderr",
     "output_type": "stream",
     "text": [
      "[TRAIN 376, 319] loss: 1.0578097105026245 loss_reg: 1.3719509840011597 loss_line: 0.7436681985855103 acc: 1.0 acc_reg: 1.0 acc_line: 1.0: 100%|██████████| 319/319 [00:14<00:00, 21.95it/s]                                             \n",
      "[TRAIN 377, 1] loss: 0.17630159854888916 loss_reg: 0.2286584973335266 loss_line: 0.12394469976425171 acc: 0.1666666716337204 acc_reg: 0.1666666716337204 acc_line: 0.1666666716337204:   1%|          | 3/319 [00:00<00:15, 20.30it/s]"
     ]
    },
    {
     "name": "stdout",
     "output_type": "stream",
     "text": [
      "[VALIDATION 376] val_acc: 0.9915686881188119 val_acc_reg: 0.989944306930693 val_acc_line: 0.9931930693069307 \n"
     ]
    },
    {
     "name": "stderr",
     "output_type": "stream",
     "text": [
      "[TRAIN 377, 319] loss: 1.058542251586914 loss_reg: 1.3734163045883179 loss_line: 0.7436681985855103 acc: 0.9986979365348816 acc_reg: 0.9973958730697632 acc_line: 1.0: 100%|██████████| 319/319 [00:14<00:00, 21.93it/s]                \n",
      "[TRAIN 378, 1] loss: 0.17630159854888916 loss_reg: 0.2286584973335266 loss_line: 0.12394469976425171 acc: 0.1666666716337204 acc_reg: 0.1666666716337204 acc_line: 0.1666666716337204:   1%|          | 2/319 [00:00<00:16, 19.64it/s]"
     ]
    },
    {
     "name": "stdout",
     "output_type": "stream",
     "text": [
      "[VALIDATION 377] val_acc: 0.9910272277227723 val_acc_reg: 0.9897896039603961 val_acc_line: 0.9922648514851485 \n"
     ]
    },
    {
     "name": "stderr",
     "output_type": "stream",
     "text": [
      "[TRAIN 378, 319] loss: 1.0578097105026245 loss_reg: 1.3719511032104492 loss_line: 0.7436681985855103 acc: 1.0 acc_reg: 1.0 acc_line: 1.0: 100%|██████████| 319/319 [00:14<00:00, 21.93it/s]                                             \n",
      "[TRAIN 379, 1] loss: 0.17760375142097473 loss_reg: 0.22865861654281616 loss_line: 0.1265488862991333 acc: 0.1653645932674408 acc_reg: 0.1666666716337204 acc_line: 0.1640625:   1%|          | 3/319 [00:00<00:14, 21.15it/s]"
     ]
    },
    {
     "name": "stdout",
     "output_type": "stream",
     "text": [
      "[VALIDATION 378] val_acc: 0.9917233910891089 val_acc_reg: 0.9900990099009901 val_acc_line: 0.9933477722772277 \n"
     ]
    },
    {
     "name": "stderr",
     "output_type": "stream",
     "text": [
      "[TRAIN 379, 319] loss: 1.0586470365524292 loss_reg: 1.3719509840011597 loss_line: 0.7453428506851196 acc: 0.9986979365348816 acc_reg: 1.0 acc_line: 0.9973958730697632: 100%|██████████| 319/319 [00:14<00:00, 21.92it/s]               \n",
      "[TRAIN 380, 1] loss: 0.17668688297271729 loss_reg: 0.2286585569381714 loss_line: 0.12471520900726318 acc: 0.1666666716337204 acc_reg: 0.1666666716337204 acc_line: 0.1666666716337204:   1%|          | 2/319 [00:00<00:16, 18.76it/s]"
     ]
    },
    {
     "name": "stdout",
     "output_type": "stream",
     "text": [
      "[VALIDATION 379] val_acc: 0.989944306930693 val_acc_reg: 0.9871596534653465 val_acc_line: 0.9927289603960396 \n"
     ]
    },
    {
     "name": "stderr",
     "output_type": "stream",
     "text": [
      "[TRAIN 380, 319] loss: 1.059614658355713 loss_reg: 1.3755507469177246 loss_line: 0.7436785101890564 acc: 0.9986979365348816 acc_reg: 0.9973958730697632 acc_line: 1.0: 100%|██████████| 319/319 [00:14<00:00, 21.96it/s]                \n",
      "[TRAIN 381, 1] loss: 0.17760369181632996 loss_reg: 0.2312626838684082 loss_line: 0.12394469976425171 acc: 0.1653645932674408 acc_reg: 0.1640625 acc_line: 0.1666666716337204:   1%|          | 3/319 [00:00<00:14, 22.18it/s]"
     ]
    },
    {
     "name": "stdout",
     "output_type": "stream",
     "text": [
      "[VALIDATION 380] val_acc: 0.9907951732673267 val_acc_reg: 0.9890160891089109 val_acc_line: 0.9925742574257426 \n"
     ]
    },
    {
     "name": "stderr",
     "output_type": "stream",
     "text": [
      "[TRAIN 381, 319] loss: 1.0588268041610718 loss_reg: 1.3739852905273438 loss_line: 0.7436681985855103 acc: 0.9986979365348816 acc_reg: 0.9973958730697632 acc_line: 1.0: 100%|██████████| 319/319 [00:14<00:00, 21.78it/s]               \n",
      "[TRAIN 382, 1] loss: 0.17652806639671326 loss_reg: 0.2291114330291748 loss_line: 0.12394469976425171 acc: 0.1666666716337204 acc_reg: 0.1666666716337204 acc_line: 0.1666666716337204:   1%|          | 2/319 [00:00<00:16, 19.56it/s]"
     ]
    },
    {
     "name": "stdout",
     "output_type": "stream",
     "text": [
      "[VALIDATION 381] val_acc: 0.9897896039603961 val_acc_reg: 0.9883972772277227 val_acc_line: 0.9911819306930693 \n"
     ]
    },
    {
     "name": "stderr",
     "output_type": "stream",
     "text": [
      "[TRAIN 382, 319] loss: 1.05784010887146 loss_reg: 1.3719509840011597 loss_line: 0.7437288165092468 acc: 1.0 acc_reg: 1.0 acc_line: 1.0: 100%|██████████| 319/319 [00:14<00:00, 21.86it/s]                                               \n",
      "[TRAIN 383, 1] loss: 0.1763017177581787 loss_reg: 0.2286584973335266 loss_line: 0.12394493818283081 acc: 0.1666666716337204 acc_reg: 0.1666666716337204 acc_line: 0.1666666716337204:   1%|          | 2/319 [00:00<00:16, 18.94it/s]"
     ]
    },
    {
     "name": "stdout",
     "output_type": "stream",
     "text": [
      "[VALIDATION 382] val_acc: 0.9903310643564357 val_acc_reg: 0.9879331683168316 val_acc_line: 0.9927289603960396 \n"
     ]
    },
    {
     "name": "stderr",
     "output_type": "stream",
     "text": [
      "[TRAIN 383, 319] loss: 1.059715986251831 loss_reg: 1.373159408569336 loss_line: 0.7462725043296814 acc: 0.9973958730697632 acc_reg: 0.9973958730697632 acc_line: 0.9973958730697632: 100%|██████████| 319/319 [00:14<00:00, 21.77it/s]  \n",
      "[TRAIN 384, 1] loss: 0.17630159854888916 loss_reg: 0.2286584973335266 loss_line: 0.12394469976425171 acc: 0.1666666716337204 acc_reg: 0.1666666716337204 acc_line: 0.1666666716337204:   1%|          | 3/319 [00:00<00:14, 21.31it/s]"
     ]
    },
    {
     "name": "stdout",
     "output_type": "stream",
     "text": [
      "[VALIDATION 383] val_acc: 0.9915686881188119 val_acc_reg: 0.9900990099009901 val_acc_line: 0.9930383663366337 \n"
     ]
    },
    {
     "name": "stderr",
     "output_type": "stream",
     "text": [
      "[TRAIN 384, 319] loss: 1.0591118335723877 loss_reg: 1.3745551109313965 loss_line: 0.7436681985855103 acc: 0.9986979365348816 acc_reg: 0.9973958730697632 acc_line: 1.0: 100%|██████████| 319/319 [00:14<00:00, 21.67it/s]               \n",
      "[TRAIN 385, 1] loss: 0.17630159854888916 loss_reg: 0.2286584973335266 loss_line: 0.12394469976425171 acc: 0.1666666716337204 acc_reg: 0.1666666716337204 acc_line: 0.1666666716337204:   1%|          | 3/319 [00:00<00:15, 20.96it/s]"
     ]
    },
    {
     "name": "stdout",
     "output_type": "stream",
     "text": [
      "[VALIDATION 384] val_acc: 0.9916460396039604 val_acc_reg: 0.9907178217821783 val_acc_line: 0.9925742574257426 \n"
     ]
    },
    {
     "name": "stderr",
     "output_type": "stream",
     "text": [
      "[TRAIN 385, 319] loss: 1.0578097105026245 loss_reg: 1.3719509840011597 loss_line: 0.7436681985855103 acc: 1.0 acc_reg: 1.0 acc_line: 1.0: 100%|██████████| 319/319 [00:14<00:00, 21.93it/s]                                           \n",
      "[TRAIN 386, 1] loss: 0.17630159854888916 loss_reg: 0.2286584973335266 loss_line: 0.12394469976425171 acc: 0.1666666716337204 acc_reg: 0.1666666716337204 acc_line: 0.1666666716337204:   1%|          | 2/319 [00:00<00:16, 18.91it/s]"
     ]
    },
    {
     "name": "stdout",
     "output_type": "stream",
     "text": [
      "[VALIDATION 385] val_acc: 0.9915686881188119 val_acc_reg: 0.9908725247524752 val_acc_line: 0.9922648514851485 \n"
     ]
    },
    {
     "name": "stderr",
     "output_type": "stream",
     "text": [
      "[TRAIN 386, 319] loss: 1.0604138374328613 loss_reg: 1.3745553493499756 loss_line: 0.7462723255157471 acc: 0.9973958730697632 acc_reg: 0.9973958730697632 acc_line: 0.9973958730697632: 100%|██████████| 319/319 [00:14<00:00, 21.94it/s]\n",
      "[TRAIN 387, 1] loss: 0.17630159854888916 loss_reg: 0.2286584973335266 loss_line: 0.12394469976425171 acc: 0.1666666716337204 acc_reg: 0.1666666716337204 acc_line: 0.1666666716337204:   1%|          | 3/319 [00:00<00:14, 22.30it/s]"
     ]
    },
    {
     "name": "stdout",
     "output_type": "stream",
     "text": [
      "[VALIDATION 386] val_acc: 0.9928063118811881 val_acc_reg: 0.9905631188118812 val_acc_line: 0.995049504950495 \n"
     ]
    },
    {
     "name": "stderr",
     "output_type": "stream",
     "text": [
      "[TRAIN 387, 319] loss: 1.0604138374328613 loss_reg: 1.3719511032104492 loss_line: 0.7488765716552734 acc: 0.9973958730697632 acc_reg: 1.0 acc_line: 0.9947916865348816: 100%|██████████| 319/319 [00:14<00:00, 21.91it/s]              \n",
      "[TRAIN 388, 1] loss: 0.17630159854888916 loss_reg: 0.2286584973335266 loss_line: 0.12394469976425171 acc: 0.1666666716337204 acc_reg: 0.1666666716337204 acc_line: 0.1666666716337204:   1%|          | 3/319 [00:00<00:14, 21.11it/s]"
     ]
    },
    {
     "name": "stdout",
     "output_type": "stream",
     "text": [
      "[VALIDATION 387] val_acc: 0.9914913366336634 val_acc_reg: 0.9900990099009901 val_acc_line: 0.9928836633663366 \n"
     ]
    },
    {
     "name": "stderr",
     "output_type": "stream",
     "text": [
      "[TRAIN 388, 319] loss: 1.0578097105026245 loss_reg: 1.3719509840011597 loss_line: 0.7436681985855103 acc: 1.0 acc_reg: 1.0 acc_line: 1.0: 100%|██████████| 319/319 [00:14<00:00, 21.98it/s]                                             \n",
      "[TRAIN 389, 1] loss: 0.17630159854888916 loss_reg: 0.2286584973335266 loss_line: 0.12394469976425171 acc: 0.1666666716337204 acc_reg: 0.1666666716337204 acc_line: 0.1666666716337204:   1%|          | 2/319 [00:00<00:17, 18.02it/s]"
     ]
    },
    {
     "name": "stdout",
     "output_type": "stream",
     "text": [
      "[VALIDATION 388] val_acc: 0.9913366336633663 val_acc_reg: 0.9905631188118812 val_acc_line: 0.9921101485148515 \n"
     ]
    },
    {
     "name": "stderr",
     "output_type": "stream",
     "text": [
      "[TRAIN 389, 319] loss: 1.0591118335723877 loss_reg: 1.3745551109313965 loss_line: 0.7436681985855103 acc: 0.9986979365348816 acc_reg: 0.9973958730697632 acc_line: 1.0: 100%|██████████| 319/319 [00:14<00:00, 22.01it/s]               \n",
      "[TRAIN 390, 1] loss: 0.17630159854888916 loss_reg: 0.2286584973335266 loss_line: 0.12394469976425171 acc: 0.1666666716337204 acc_reg: 0.1666666716337204 acc_line: 0.1666666716337204:   1%|          | 2/319 [00:00<00:16, 19.32it/s]"
     ]
    },
    {
     "name": "stdout",
     "output_type": "stream",
     "text": [
      "[VALIDATION 389] val_acc: 0.989944306930693 val_acc_reg: 0.9876237623762376 val_acc_line: 0.9922648514851485 \n"
     ]
    },
    {
     "name": "stderr",
     "output_type": "stream",
     "text": [
      "[TRAIN 390, 319] loss: 1.0614346265792847 loss_reg: 1.3766186237335205 loss_line: 0.7462508082389832 acc: 0.99609375 acc_reg: 0.9947916865348816 acc_line: 0.9973958730697632: 100%|██████████| 319/319 [00:14<00:00, 21.99it/s]        \n",
      "[TRAIN 391, 1] loss: 0.17759864032268524 loss_reg: 0.23125259578227997 loss_line: 0.12394469976425171 acc: 0.1653645932674408 acc_reg: 0.1640625 acc_line: 0.1666666716337204:   1%|          | 3/319 [00:00<00:15, 20.77it/s]"
     ]
    },
    {
     "name": "stdout",
     "output_type": "stream",
     "text": [
      "[VALIDATION 390] val_acc: 0.9891707920792079 val_acc_reg: 0.9857673267326733 val_acc_line: 0.9925742574257426 \n"
     ]
    },
    {
     "name": "stderr",
     "output_type": "stream",
     "text": [
      "[TRAIN 391, 319] loss: 1.0578105449676514 loss_reg: 1.3719509840011597 loss_line: 0.7436696887016296 acc: 1.0 acc_reg: 1.0 acc_line: 1.0: 100%|██████████| 319/319 [00:14<00:00, 22.03it/s]                                             \n",
      "[TRAIN 392, 1] loss: 0.17630159854888916 loss_reg: 0.2286584973335266 loss_line: 0.12394469976425171 acc: 0.1666666716337204 acc_reg: 0.1666666716337204 acc_line: 0.1666666716337204:   1%|          | 2/319 [00:00<00:16, 18.87it/s]"
     ]
    },
    {
     "name": "stdout",
     "output_type": "stream",
     "text": [
      "[VALIDATION 391] val_acc: 0.9900990099009901 val_acc_reg: 0.9880878712871287 val_acc_line: 0.9921101485148515 \n"
     ]
    },
    {
     "name": "stderr",
     "output_type": "stream",
     "text": [
      "[TRAIN 392, 319] loss: 1.0591472387313843 loss_reg: 1.3745553493499756 loss_line: 0.7437392473220825 acc: 0.9986979365348816 acc_reg: 0.9973958730697632 acc_line: 1.0: 100%|██████████| 319/319 [00:14<00:00, 22.00it/s]               \n",
      "[TRAIN 393, 1] loss: 0.17630159854888916 loss_reg: 0.2286584973335266 loss_line: 0.12394469976425171 acc: 0.1666666716337204 acc_reg: 0.1666666716337204 acc_line: 0.1666666716337204:   1%|          | 3/319 [00:00<00:13, 23.16it/s]"
     ]
    },
    {
     "name": "stdout",
     "output_type": "stream",
     "text": [
      "[VALIDATION 392] val_acc: 0.9901763613861386 val_acc_reg: 0.989325495049505 val_acc_line: 0.9910272277227723 \n"
     ]
    },
    {
     "name": "stderr",
     "output_type": "stream",
     "text": [
      "[TRAIN 393, 319] loss: 1.059112787246704 loss_reg: 1.3719511032104492 loss_line: 0.7462743520736694 acc: 0.9986979365348816 acc_reg: 1.0 acc_line: 0.9973958730697632: 100%|██████████| 319/319 [00:14<00:00, 21.99it/s]                \n",
      "[TRAIN 394, 1] loss: 0.17630159854888916 loss_reg: 0.2286584973335266 loss_line: 0.12394469976425171 acc: 0.1666666716337204 acc_reg: 0.1666666716337204 acc_line: 0.1666666716337204:   1%|          | 3/319 [00:00<00:14, 21.72it/s]"
     ]
    },
    {
     "name": "stdout",
     "output_type": "stream",
     "text": [
      "[VALIDATION 393] val_acc: 0.9895575495049505 val_acc_reg: 0.9880878712871287 val_acc_line: 0.9910272277227723 \n"
     ]
    },
    {
     "name": "stderr",
     "output_type": "stream",
     "text": [
      "[TRAIN 394, 319] loss: 1.0617140531539917 loss_reg: 1.3745570182800293 loss_line: 0.7488710284233093 acc: 0.99609375 acc_reg: 0.9973958730697632 acc_line: 0.9947916865348816: 100%|██████████| 319/319 [00:14<00:00, 21.96it/s]        \n",
      "[TRAIN 395, 1] loss: 0.17630159854888916 loss_reg: 0.2286584973335266 loss_line: 0.12394469976425171 acc: 0.1666666716337204 acc_reg: 0.1666666716337204 acc_line: 0.1666666716337204:   1%|          | 3/319 [00:00<00:15, 20.93it/s]"
     ]
    },
    {
     "name": "stdout",
     "output_type": "stream",
     "text": [
      "[VALIDATION 394] val_acc: 0.9905631188118812 val_acc_reg: 0.9876237623762376 val_acc_line: 0.9935024752475248 \n"
     ]
    },
    {
     "name": "stderr",
     "output_type": "stream",
     "text": [
      "[TRAIN 395, 319] loss: 1.0578701496124268 loss_reg: 1.3720721006393433 loss_line: 0.7436681985855103 acc: 1.0 acc_reg: 1.0 acc_line: 1.0: 100%|██████████| 319/319 [00:14<00:00, 21.96it/s]                                             \n",
      "[TRAIN 396, 1] loss: 0.17630159854888916 loss_reg: 0.2286584973335266 loss_line: 0.12394469976425171 acc: 0.1666666716337204 acc_reg: 0.1666666716337204 acc_line: 0.1666666716337204:   1%|          | 2/319 [00:00<00:15, 19.84it/s]"
     ]
    },
    {
     "name": "stdout",
     "output_type": "stream",
     "text": [
      "[VALIDATION 395] val_acc: 0.9911045792079208 val_acc_reg: 0.9880878712871287 val_acc_line: 0.9941212871287128 \n"
     ]
    },
    {
     "name": "stderr",
     "output_type": "stream",
     "text": [
      "[TRAIN 396, 319] loss: 1.0617159605026245 loss_reg: 1.3771594762802124 loss_line: 0.7462724447250366 acc: 0.99609375 acc_reg: 0.9947916865348816 acc_line: 0.9973958730697632: 100%|██████████| 319/319 [00:14<00:00, 21.96it/s]       \n",
      "[TRAIN 397, 1] loss: 0.17630159854888916 loss_reg: 0.2286584973335266 loss_line: 0.12394469976425171 acc: 0.1666666716337204 acc_reg: 0.1666666716337204 acc_line: 0.1666666716337204:   1%|          | 2/319 [00:00<00:18, 17.28it/s]"
     ]
    },
    {
     "name": "stdout",
     "output_type": "stream",
     "text": [
      "[VALIDATION 396] val_acc: 0.9920327970297029 val_acc_reg: 0.9897896039603961 val_acc_line: 0.9942759900990099 \n"
     ]
    },
    {
     "name": "stderr",
     "output_type": "stream",
     "text": [
      "[TRAIN 397, 319] loss: 1.0578097105026245 loss_reg: 1.3719509840011597 loss_line: 0.7436681985855103 acc: 1.0 acc_reg: 1.0 acc_line: 1.0: 100%|██████████| 319/319 [00:14<00:00, 21.95it/s]                                             \n",
      "[TRAIN 398, 1] loss: 0.17630159854888916 loss_reg: 0.2286584973335266 loss_line: 0.12394469976425171 acc: 0.1666666716337204 acc_reg: 0.1666666716337204 acc_line: 0.1666666716337204:   1%|          | 3/319 [00:00<00:14, 21.74it/s]"
     ]
    },
    {
     "name": "stdout",
     "output_type": "stream",
     "text": [
      "[VALIDATION 397] val_acc: 0.9897896039603961 val_acc_reg: 0.9876237623762376 val_acc_line: 0.9919554455445545 \n"
     ]
    },
    {
     "name": "stderr",
     "output_type": "stream",
     "text": [
      "[TRAIN 398, 319] loss: 1.0578097105026245 loss_reg: 1.3719509840011597 loss_line: 0.7436681985855103 acc: 1.0 acc_reg: 1.0 acc_line: 1.0: 100%|██████████| 319/319 [00:14<00:00, 22.05it/s]                                             \n",
      "[TRAIN 399, 1] loss: 0.17630159854888916 loss_reg: 0.2286584973335266 loss_line: 0.12394469976425171 acc: 0.1666666716337204 acc_reg: 0.1666666716337204 acc_line: 0.1666666716337204:   1%|          | 3/319 [00:00<00:15, 20.91it/s]"
     ]
    },
    {
     "name": "stdout",
     "output_type": "stream",
     "text": [
      "[VALIDATION 398] val_acc: 0.992496905940594 val_acc_reg: 0.9908725247524752 val_acc_line: 0.9941212871287128 \n"
     ]
    },
    {
     "name": "stderr",
     "output_type": "stream",
     "text": [
      "[TRAIN 399, 319] loss: 1.0578372478485107 loss_reg: 1.371999979019165 loss_line: 0.7436747550964355 acc: 1.0 acc_reg: 1.0 acc_line: 1.0: 100%|██████████| 319/319 [00:14<00:00, 21.94it/s]                                              \n",
      "[TRAIN 400, 1] loss: 0.17630159854888916 loss_reg: 0.2286584973335266 loss_line: 0.12394469976425171 acc: 0.1666666716337204 acc_reg: 0.1666666716337204 acc_line: 0.1666666716337204:   1%|          | 3/319 [00:00<00:14, 21.19it/s]"
     ]
    },
    {
     "name": "stdout",
     "output_type": "stream",
     "text": [
      "[VALIDATION 399] val_acc: 0.9921101485148515 val_acc_reg: 0.9904084158415841 val_acc_line: 0.9938118811881188 \n"
     ]
    },
    {
     "name": "stderr",
     "output_type": "stream",
     "text": [
      "[TRAIN 400, 319] loss: 1.0611746311187744 loss_reg: 1.3742177486419678 loss_line: 0.748131275177002 acc: 0.99609375 acc_reg: 0.9973958730697632 acc_line: 0.9947916865348816: 100%|██████████| 319/319 [00:14<00:00, 21.98it/s]         \n",
      "[TRAIN 401, 1] loss: 0.17760369181632996 loss_reg: 0.231262668967247 loss_line: 0.12394469976425171 acc: 0.1653645932674408 acc_reg: 0.1640625 acc_line: 0.1666666716337204:   1%|          | 3/319 [00:00<00:14, 22.48it/s]"
     ]
    },
    {
     "name": "stdout",
     "output_type": "stream",
     "text": [
      "[VALIDATION 400] val_acc: 0.9895575495049505 val_acc_reg: 0.9862314356435643 val_acc_line: 0.9928836633663366 \n"
     ]
    },
    {
     "name": "stderr",
     "output_type": "stream",
     "text": [
      "[TRAIN 401, 319] loss: 1.057809829711914 loss_reg: 1.3719509840011597 loss_line: 0.7436684370040894 acc: 1.0 acc_reg: 1.0 acc_line: 1.0: 100%|██████████| 319/319 [00:14<00:00, 21.98it/s]                                              \n",
      "[TRAIN 402, 1] loss: 0.17630159854888916 loss_reg: 0.2286584973335266 loss_line: 0.12394469976425171 acc: 0.1666666716337204 acc_reg: 0.1666666716337204 acc_line: 0.1666666716337204:   1%|          | 3/319 [00:00<00:15, 20.71it/s]"
     ]
    },
    {
     "name": "stdout",
     "output_type": "stream",
     "text": [
      "[VALIDATION 401] val_acc: 0.9914139851485149 val_acc_reg: 0.9888613861386139 val_acc_line: 0.9939665841584159 \n"
     ]
    },
    {
     "name": "stderr",
     "output_type": "stream",
     "text": [
      "[TRAIN 402, 319] loss: 1.0591120719909668 loss_reg: 1.3719509840011597 loss_line: 0.7462729215621948 acc: 0.9986979365348816 acc_reg: 1.0 acc_line: 0.9973958730697632: 100%|██████████| 319/319 [00:14<00:00, 21.94it/s]               \n",
      "[TRAIN 403, 1] loss: 0.17630159854888916 loss_reg: 0.2286584973335266 loss_line: 0.12394469976425171 acc: 0.1666666716337204 acc_reg: 0.1666666716337204 acc_line: 0.1666666716337204:   1%|          | 2/319 [00:00<00:16, 19.47it/s]"
     ]
    },
    {
     "name": "stdout",
     "output_type": "stream",
     "text": [
      "[VALIDATION 402] val_acc: 0.9912592821782178 val_acc_reg: 0.989325495049505 val_acc_line: 0.9931930693069307 \n"
     ]
    },
    {
     "name": "stderr",
     "output_type": "stream",
     "text": [
      "[TRAIN 403, 319] loss: 1.0578097105026245 loss_reg: 1.3719509840011597 loss_line: 0.7436681985855103 acc: 1.0 acc_reg: 1.0 acc_line: 1.0: 100%|██████████| 319/319 [00:14<00:00, 22.07it/s]                                             \n",
      "[TRAIN 404, 1] loss: 0.17760369181632996 loss_reg: 0.2286584973335266 loss_line: 0.1265488564968109 acc: 0.1653645932674408 acc_reg: 0.1666666716337204 acc_line: 0.1640625:   1%|          | 3/319 [00:00<00:14, 21.66it/s]"
     ]
    },
    {
     "name": "stdout",
     "output_type": "stream",
     "text": [
      "[VALIDATION 403] val_acc: 0.9908725247524752 val_acc_reg: 0.9897896039603961 val_acc_line: 0.9919554455445545 \n"
     ]
    },
    {
     "name": "stderr",
     "output_type": "stream",
     "text": [
      "[TRAIN 404, 319] loss: 1.0604138374328613 loss_reg: 1.3745551109313965 loss_line: 0.7462724447250366 acc: 0.9973958730697632 acc_reg: 0.9973958730697632 acc_line: 0.9973958730697632: 100%|██████████| 319/319 [00:14<00:00, 21.99it/s]\n",
      "[TRAIN 405, 1] loss: 0.17630159854888916 loss_reg: 0.2286584973335266 loss_line: 0.12394469976425171 acc: 0.1666666716337204 acc_reg: 0.1666666716337204 acc_line: 0.1666666716337204:   1%|          | 2/319 [00:00<00:16, 19.38it/s]"
     ]
    },
    {
     "name": "stdout",
     "output_type": "stream",
     "text": [
      "[VALIDATION 404] val_acc: 0.9915686881188119 val_acc_reg: 0.9897896039603961 val_acc_line: 0.9933477722772277 \n"
     ]
    },
    {
     "name": "stderr",
     "output_type": "stream",
     "text": [
      "[TRAIN 405, 319] loss: 1.0592178106307983 loss_reg: 1.3721635341644287 loss_line: 0.7462719678878784 acc: 0.9986979365348816 acc_reg: 1.0 acc_line: 0.9973958730697632: 100%|██████████| 319/319 [00:14<00:00, 21.96it/s]               \n",
      "[TRAIN 406, 1] loss: 0.17630159854888916 loss_reg: 0.2286584973335266 loss_line: 0.12394469976425171 acc: 0.1666666716337204 acc_reg: 0.1666666716337204 acc_line: 0.1666666716337204:   1%|          | 3/319 [00:00<00:14, 21.14it/s]"
     ]
    },
    {
     "name": "stdout",
     "output_type": "stream",
     "text": [
      "[VALIDATION 405] val_acc: 0.989634900990099 val_acc_reg: 0.9860767326732673 val_acc_line: 0.9931930693069307 \n"
     ]
    },
    {
     "name": "stderr",
     "output_type": "stream",
     "text": [
      "[TRAIN 406, 319] loss: 1.060671091079712 loss_reg: 1.3719528913497925 loss_line: 0.7493895888328552 acc: 0.9973958730697632 acc_reg: 1.0 acc_line: 0.9947916865348816: 100%|██████████| 319/319 [00:14<00:00, 21.97it/s]                \n",
      "[TRAIN 407, 1] loss: 0.17630159854888916 loss_reg: 0.2286584973335266 loss_line: 0.12394469976425171 acc: 0.1666666716337204 acc_reg: 0.1666666716337204 acc_line: 0.1666666716337204:   1%|          | 3/319 [00:00<00:14, 22.04it/s]"
     ]
    },
    {
     "name": "stdout",
     "output_type": "stream",
     "text": [
      "[VALIDATION 406] val_acc: 0.9898669554455446 val_acc_reg: 0.9876237623762376 val_acc_line: 0.9921101485148515 \n"
     ]
    },
    {
     "name": "stderr",
     "output_type": "stream",
     "text": [
      "[TRAIN 407, 319] loss: 1.0619871616363525 loss_reg: 1.3750979900360107 loss_line: 0.7488762736320496 acc: 0.99609375 acc_reg: 0.9973958730697632 acc_line: 0.9947916865348816: 100%|██████████| 319/319 [00:14<00:00, 21.81it/s]        \n",
      "[TRAIN 408, 1] loss: 0.17630159854888916 loss_reg: 0.2286584973335266 loss_line: 0.12394469976425171 acc: 0.1666666716337204 acc_reg: 0.1666666716337204 acc_line: 0.1666666716337204:   1%|          | 3/319 [00:00<00:14, 21.55it/s]"
     ]
    },
    {
     "name": "stdout",
     "output_type": "stream",
     "text": [
      "[VALIDATION 407] val_acc: 0.9917233910891089 val_acc_reg: 0.989944306930693 val_acc_line: 0.9935024752475248 \n"
     ]
    },
    {
     "name": "stderr",
     "output_type": "stream",
     "text": [
      "[TRAIN 408, 319] loss: 1.0578097105026245 loss_reg: 1.3719509840011597 loss_line: 0.7436681985855103 acc: 1.0 acc_reg: 1.0 acc_line: 1.0: 100%|██████████| 319/319 [00:14<00:00, 21.83it/s]                                             \n",
      "[TRAIN 409, 1] loss: 0.17630159854888916 loss_reg: 0.2286584973335266 loss_line: 0.12394469976425171 acc: 0.1666666716337204 acc_reg: 0.1666666716337204 acc_line: 0.1666666716337204:   1%|          | 3/319 [00:00<00:14, 21.20it/s]"
     ]
    },
    {
     "name": "stdout",
     "output_type": "stream",
     "text": [
      "[VALIDATION 408] val_acc: 0.9907178217821783 val_acc_reg: 0.9888613861386139 val_acc_line: 0.9925742574257426 \n"
     ]
    },
    {
     "name": "stderr",
     "output_type": "stream",
     "text": [
      "[TRAIN 409, 319] loss: 1.0603420734405518 loss_reg: 1.3739125728607178 loss_line: 0.7467712759971619 acc: 0.9973958730697632 acc_reg: 0.9973958730697632 acc_line: 0.9973958730697632: 100%|██████████| 319/319 [00:14<00:00, 21.86it/s]\n",
      "[TRAIN 410, 1] loss: 0.17630159854888916 loss_reg: 0.2286584973335266 loss_line: 0.12394469976425171 acc: 0.1666666716337204 acc_reg: 0.1666666716337204 acc_line: 0.1666666716337204:   1%|          | 2/319 [00:00<00:15, 19.93it/s]"
     ]
    },
    {
     "name": "stdout",
     "output_type": "stream",
     "text": [
      "[VALIDATION 409] val_acc: 0.9900990099009901 val_acc_reg: 0.9868502475247525 val_acc_line: 0.9933477722772277 \n"
     ]
    },
    {
     "name": "stderr",
     "output_type": "stream",
     "text": [
      "[TRAIN 410, 319] loss: 1.0591661930084229 loss_reg: 1.3746641874313354 loss_line: 0.7436683177947998 acc: 0.9986979365348816 acc_reg: 0.9973958730697632 acc_line: 1.0: 100%|██████████| 319/319 [00:14<00:00, 21.87it/s]               \n",
      "[TRAIN 411, 1] loss: 0.17630159854888916 loss_reg: 0.2286584973335266 loss_line: 0.12394469976425171 acc: 0.1666666716337204 acc_reg: 0.1666666716337204 acc_line: 0.1666666716337204:   1%|          | 2/319 [00:00<00:16, 19.79it/s]"
     ]
    },
    {
     "name": "stdout",
     "output_type": "stream",
     "text": [
      "[VALIDATION 410] val_acc: 0.9900990099009901 val_acc_reg: 0.9870049504950495 val_acc_line: 0.9931930693069307 \n"
     ]
    },
    {
     "name": "stderr",
     "output_type": "stream",
     "text": [
      "[TRAIN 411, 319] loss: 1.0591118335723877 loss_reg: 1.3719509840011597 loss_line: 0.7462725639343262 acc: 0.9986979365348816 acc_reg: 1.0 acc_line: 0.9973958730697632: 100%|██████████| 319/319 [00:14<00:00, 21.93it/s]               \n",
      "[TRAIN 412, 1] loss: 0.17632490396499634 loss_reg: 0.22870510816574097 loss_line: 0.12394469976425171 acc: 0.1666666716337204 acc_reg: 0.1666666716337204 acc_line: 0.1666666716337204:   1%|          | 3/319 [00:00<00:13, 22.75it/s]"
     ]
    },
    {
     "name": "stdout",
     "output_type": "stream",
     "text": [
      "[VALIDATION 411] val_acc: 0.9911819306930693 val_acc_reg: 0.9877784653465347 val_acc_line: 0.9945853960396039 \n"
     ]
    },
    {
     "name": "stderr",
     "output_type": "stream",
     "text": [
      "[TRAIN 412, 319] loss: 1.057809829711914 loss_reg: 1.3719513416290283 loss_line: 0.7436681985855103 acc: 1.0 acc_reg: 1.0 acc_line: 1.0: 100%|██████████| 319/319 [00:14<00:00, 21.86it/s]                                              \n",
      "[TRAIN 413, 1] loss: 0.17630159854888916 loss_reg: 0.2286584973335266 loss_line: 0.12394469976425171 acc: 0.1666666716337204 acc_reg: 0.1666666716337204 acc_line: 0.1666666716337204:   1%|          | 2/319 [00:00<00:16, 19.66it/s]"
     ]
    },
    {
     "name": "stdout",
     "output_type": "stream",
     "text": [
      "[VALIDATION 412] val_acc: 0.9910272277227723 val_acc_reg: 0.9887066831683168 val_acc_line: 0.9933477722772277 \n"
     ]
    },
    {
     "name": "stderr",
     "output_type": "stream",
     "text": [
      "[TRAIN 413, 319] loss: 1.057830572128296 loss_reg: 1.3719513416290283 loss_line: 0.7437099814414978 acc: 1.0 acc_reg: 1.0 acc_line: 1.0: 100%|██████████| 319/319 [00:14<00:00, 21.83it/s]                                              \n",
      "[TRAIN 414, 1] loss: 0.17630159854888916 loss_reg: 0.2286584973335266 loss_line: 0.12394469976425171 acc: 0.1666666716337204 acc_reg: 0.1666666716337204 acc_line: 0.1666666716337204:   1%|          | 2/319 [00:00<00:17, 18.42it/s]"
     ]
    },
    {
     "name": "stdout",
     "output_type": "stream",
     "text": [
      "[VALIDATION 413] val_acc: 0.9903310643564357 val_acc_reg: 0.9868502475247525 val_acc_line: 0.9938118811881188 \n"
     ]
    },
    {
     "name": "stderr",
     "output_type": "stream",
     "text": [
      "[TRAIN 414, 319] loss: 1.0589725971221924 loss_reg: 1.3719513416290283 loss_line: 0.7459936141967773 acc: 0.9986979365348816 acc_reg: 1.0 acc_line: 0.9973958730697632: 100%|██████████| 319/319 [00:14<00:00, 21.83it/s]             \n",
      "[TRAIN 415, 1] loss: 0.17630159854888916 loss_reg: 0.2286584973335266 loss_line: 0.12394469976425171 acc: 0.1666666716337204 acc_reg: 0.1666666716337204 acc_line: 0.1666666716337204:   1%|          | 3/319 [00:00<00:15, 20.33it/s]"
     ]
    },
    {
     "name": "stdout",
     "output_type": "stream",
     "text": [
      "[VALIDATION 414] val_acc: 0.9904084158415841 val_acc_reg: 0.9877784653465347 val_acc_line: 0.9930383663366337 \n"
     ]
    },
    {
     "name": "stderr",
     "output_type": "stream",
     "text": [
      "[TRAIN 415, 319] loss: 1.0578097105026245 loss_reg: 1.3719509840011597 loss_line: 0.7436681985855103 acc: 1.0 acc_reg: 1.0 acc_line: 1.0: 100%|██████████| 319/319 [00:14<00:00, 21.85it/s]                                             \n",
      "[TRAIN 416, 1] loss: 0.17630159854888916 loss_reg: 0.2286584973335266 loss_line: 0.12394469976425171 acc: 0.1666666716337204 acc_reg: 0.1666666716337204 acc_line: 0.1666666716337204:   1%|          | 3/319 [00:00<00:14, 22.36it/s]"
     ]
    },
    {
     "name": "stdout",
     "output_type": "stream",
     "text": [
      "[VALIDATION 415] val_acc: 0.9901763613861386 val_acc_reg: 0.9865408415841584 val_acc_line: 0.9938118811881188 \n"
     ]
    },
    {
     "name": "stderr",
     "output_type": "stream",
     "text": [
      "[TRAIN 416, 319] loss: 1.0578097105026245 loss_reg: 1.3719511032104492 loss_line: 0.7436681985855103 acc: 1.0 acc_reg: 1.0 acc_line: 1.0: 100%|██████████| 319/319 [00:14<00:00, 21.85it/s]                                             \n",
      "[TRAIN 417, 1] loss: 0.17630159854888916 loss_reg: 0.2286584973335266 loss_line: 0.12394469976425171 acc: 0.1666666716337204 acc_reg: 0.1666666716337204 acc_line: 0.1666666716337204:   1%|          | 3/319 [00:00<00:14, 21.32it/s]"
     ]
    },
    {
     "name": "stdout",
     "output_type": "stream",
     "text": [
      "[VALIDATION 416] val_acc: 0.9923422029702971 val_acc_reg: 0.9904084158415841 val_acc_line: 0.9942759900990099 \n"
     ]
    },
    {
     "name": "stderr",
     "output_type": "stream",
     "text": [
      "[TRAIN 417, 319] loss: 1.0578097105026245 loss_reg: 1.3719509840011597 loss_line: 0.7436681985855103 acc: 1.0 acc_reg: 1.0 acc_line: 1.0: 100%|██████████| 319/319 [00:14<00:00, 21.89it/s]                                             \n",
      "[TRAIN 418, 1] loss: 0.17630159854888916 loss_reg: 0.2286584973335266 loss_line: 0.12394469976425171 acc: 0.1666666716337204 acc_reg: 0.1666666716337204 acc_line: 0.1666666716337204:   1%|          | 2/319 [00:00<00:18, 16.80it/s]"
     ]
    },
    {
     "name": "stdout",
     "output_type": "stream",
     "text": [
      "[VALIDATION 417] val_acc: 0.9916460396039604 val_acc_reg: 0.989325495049505 val_acc_line: 0.9939665841584159 \n"
     ]
    },
    {
     "name": "stderr",
     "output_type": "stream",
     "text": [
      "[TRAIN 418, 319] loss: 1.0604139566421509 loss_reg: 1.3771593570709229 loss_line: 0.7436684966087341 acc: 0.9973958730697632 acc_reg: 0.9947916865348816 acc_line: 1.0: 100%|██████████| 319/319 [00:14<00:00, 21.94it/s]              \n",
      "[TRAIN 419, 1] loss: 0.17630159854888916 loss_reg: 0.2286584973335266 loss_line: 0.12394469976425171 acc: 0.1666666716337204 acc_reg: 0.1666666716337204 acc_line: 0.1666666716337204:   1%|          | 2/319 [00:00<00:17, 17.61it/s]"
     ]
    },
    {
     "name": "stdout",
     "output_type": "stream",
     "text": [
      "[VALIDATION 418] val_acc: 0.9911819306930693 val_acc_reg: 0.989944306930693 val_acc_line: 0.9924195544554455 \n"
     ]
    },
    {
     "name": "stderr",
     "output_type": "stream",
     "text": [
      "[TRAIN 419, 319] loss: 1.059114933013916 loss_reg: 1.3719509840011597 loss_line: 0.746278703212738 acc: 0.9986979365348816 acc_reg: 1.0 acc_line: 0.9973958730697632: 100%|██████████| 319/319 [00:14<00:00, 21.91it/s]                 \n",
      "[TRAIN 420, 1] loss: 0.17630159854888916 loss_reg: 0.2286584973335266 loss_line: 0.12394469976425171 acc: 0.1666666716337204 acc_reg: 0.1666666716337204 acc_line: 0.1666666716337204:   1%|          | 3/319 [00:00<00:14, 21.65it/s]"
     ]
    },
    {
     "name": "stdout",
     "output_type": "stream",
     "text": [
      "[VALIDATION 419] val_acc: 0.9908725247524752 val_acc_reg: 0.9902537128712872 val_acc_line: 0.9914913366336634 \n"
     ]
    },
    {
     "name": "stderr",
     "output_type": "stream",
     "text": [
      "[TRAIN 420, 319] loss: 1.0578100681304932 loss_reg: 1.3719515800476074 loss_line: 0.7436685562133789 acc: 1.0 acc_reg: 1.0 acc_line: 1.0: 100%|██████████| 319/319 [00:14<00:00, 21.82it/s]                                             \n",
      "[TRAIN 421, 1] loss: 0.17630159854888916 loss_reg: 0.2286584973335266 loss_line: 0.12394469976425171 acc: 0.1666666716337204 acc_reg: 0.1666666716337204 acc_line: 0.1666666716337204:   1%|          | 2/319 [00:00<00:16, 19.49it/s]"
     ]
    },
    {
     "name": "stdout",
     "output_type": "stream",
     "text": [
      "[VALIDATION 420] val_acc: 0.9907951732673267 val_acc_reg: 0.9891707920792079 val_acc_line: 0.9924195544554455 \n"
     ]
    },
    {
     "name": "stderr",
     "output_type": "stream",
     "text": [
      "[TRAIN 421, 319] loss: 1.0578097105026245 loss_reg: 1.3719509840011597 loss_line: 0.743668258190155 acc: 1.0 acc_reg: 1.0 acc_line: 1.0: 100%|██████████| 319/319 [00:14<00:00, 21.82it/s]                                              \n",
      "[TRAIN 422, 1] loss: 0.17630159854888916 loss_reg: 0.2286584973335266 loss_line: 0.12394469976425171 acc: 0.1666666716337204 acc_reg: 0.1666666716337204 acc_line: 0.1666666716337204:   1%|          | 2/319 [00:00<00:16, 18.82it/s]"
     ]
    },
    {
     "name": "stdout",
     "output_type": "stream",
     "text": [
      "[VALIDATION 421] val_acc: 0.9914913366336634 val_acc_reg: 0.989944306930693 val_acc_line: 0.9930383663366337 \n"
     ]
    },
    {
     "name": "stderr",
     "output_type": "stream",
     "text": [
      "[TRAIN 422, 319] loss: 1.0578097105026245 loss_reg: 1.3719509840011597 loss_line: 0.7436681985855103 acc: 1.0 acc_reg: 1.0 acc_line: 1.0: 100%|██████████| 319/319 [00:14<00:00, 21.83it/s]                                             \n",
      "[TRAIN 423, 1] loss: 0.17760369181632996 loss_reg: 0.231262668967247 loss_line: 0.12394469976425171 acc: 0.1653645932674408 acc_reg: 0.1640625 acc_line: 0.1666666716337204:   1%|          | 3/319 [00:00<00:14, 22.46it/s]"
     ]
    },
    {
     "name": "stdout",
     "output_type": "stream",
     "text": [
      "[VALIDATION 422] val_acc: 0.9909498762376238 val_acc_reg: 0.9891707920792079 val_acc_line: 0.9927289603960396 \n"
     ]
    },
    {
     "name": "stderr",
     "output_type": "stream",
     "text": [
      "[TRAIN 423, 319] loss: 1.0578964948654175 loss_reg: 1.3719509840011597 loss_line: 0.7438418865203857 acc: 1.0 acc_reg: 1.0 acc_line: 1.0: 100%|██████████| 319/319 [00:14<00:00, 21.83it/s]                                             \n",
      "[TRAIN 424, 1] loss: 0.17630159854888916 loss_reg: 0.2286584973335266 loss_line: 0.1239447146654129 acc: 0.1666666716337204 acc_reg: 0.1666666716337204 acc_line: 0.1666666716337204:   1%|          | 3/319 [00:00<00:13, 22.94it/s]"
     ]
    },
    {
     "name": "stdout",
     "output_type": "stream",
     "text": [
      "[VALIDATION 423] val_acc: 0.9900216584158416 val_acc_reg: 0.9877784653465347 val_acc_line: 0.9922648514851485 \n"
     ]
    },
    {
     "name": "stderr",
     "output_type": "stream",
     "text": [
      "[TRAIN 424, 319] loss: 1.0617139339447021 loss_reg: 1.3797595500946045 loss_line: 0.7436681985855103 acc: 0.99609375 acc_reg: 0.9921875 acc_line: 1.0: 100%|██████████| 319/319 [00:14<00:00, 21.75it/s]                                \n",
      "[TRAIN 425, 1] loss: 0.17630159854888916 loss_reg: 0.2286584973335266 loss_line: 0.12394469976425171 acc: 0.1666666716337204 acc_reg: 0.1666666716337204 acc_line: 0.1666666716337204:   1%|          | 3/319 [00:00<00:14, 22.24it/s]"
     ]
    },
    {
     "name": "stdout",
     "output_type": "stream",
     "text": [
      "[VALIDATION 424] val_acc: 0.9916460396039604 val_acc_reg: 0.9890160891089109 val_acc_line: 0.9942759900990099 \n"
     ]
    },
    {
     "name": "stderr",
     "output_type": "stream",
     "text": [
      "[TRAIN 425, 319] loss: 1.0585092306137085 loss_reg: 1.371959924697876 loss_line: 0.7450584769248962 acc: 0.9986979365348816 acc_reg: 1.0 acc_line: 0.9973958730697632: 100%|██████████| 319/319 [00:14<00:00, 21.93it/s]                \n",
      "[TRAIN 426, 1] loss: 0.17630159854888916 loss_reg: 0.2286584973335266 loss_line: 0.12394469976425171 acc: 0.1666666716337204 acc_reg: 0.1666666716337204 acc_line: 0.1666666716337204:   1%|          | 3/319 [00:00<00:15, 21.04it/s]"
     ]
    },
    {
     "name": "stdout",
     "output_type": "stream",
     "text": [
      "[VALIDATION 425] val_acc: 0.989325495049505 val_acc_reg: 0.9857673267326733 val_acc_line: 0.9928836633663366 \n"
     ]
    },
    {
     "name": "stderr",
     "output_type": "stream",
     "text": [
      "[TRAIN 426, 319] loss: 1.0618081092834473 loss_reg: 1.374868392944336 loss_line: 0.7487480044364929 acc: 0.99609375 acc_reg: 0.9973958730697632 acc_line: 0.9947916865348816: 100%|██████████| 319/319 [00:14<00:00, 21.99it/s]         \n",
      "[TRAIN 427, 1] loss: 0.17630159854888916 loss_reg: 0.2286584973335266 loss_line: 0.12394469976425171 acc: 0.1666666716337204 acc_reg: 0.1666666716337204 acc_line: 0.1666666716337204:   1%|          | 3/319 [00:00<00:14, 21.59it/s]"
     ]
    },
    {
     "name": "stdout",
     "output_type": "stream",
     "text": [
      "[VALIDATION 426] val_acc: 0.9914139851485149 val_acc_reg: 0.989325495049505 val_acc_line: 0.9935024752475248 \n"
     ]
    },
    {
     "name": "stderr",
     "output_type": "stream",
     "text": [
      "[TRAIN 427, 319] loss: 1.0610178709030151 loss_reg: 1.378367304801941 loss_line: 0.7436681985855103 acc: 0.99609375 acc_reg: 0.9921875 acc_line: 1.0: 100%|██████████| 319/319 [00:14<00:00, 21.80it/s]                                 \n",
      "[TRAIN 428, 1] loss: 0.17630159854888916 loss_reg: 0.2286584973335266 loss_line: 0.12394469976425171 acc: 0.1666666716337204 acc_reg: 0.1666666716337204 acc_line: 0.1666666716337204:   1%|          | 2/319 [00:00<00:16, 19.38it/s]"
     ]
    },
    {
     "name": "stdout",
     "output_type": "stream",
     "text": [
      "[VALIDATION 427] val_acc: 0.9912592821782178 val_acc_reg: 0.989480198019802 val_acc_line: 0.9930383663366337 \n"
     ]
    },
    {
     "name": "stderr",
     "output_type": "stream",
     "text": [
      "[TRAIN 428, 319] loss: 1.057816982269287 loss_reg: 1.3719509840011597 loss_line: 0.7436827421188354 acc: 1.0 acc_reg: 1.0 acc_line: 1.0: 100%|██████████| 319/319 [00:14<00:00, 21.75it/s]                                              \n",
      "[TRAIN 429, 1] loss: 0.17630159854888916 loss_reg: 0.2286584973335266 loss_line: 0.12394469976425171 acc: 0.1666666716337204 acc_reg: 0.1666666716337204 acc_line: 0.1666666716337204:   1%|          | 2/319 [00:00<00:16, 19.67it/s]"
     ]
    },
    {
     "name": "stdout",
     "output_type": "stream",
     "text": [
      "[VALIDATION 428] val_acc: 0.9921101485148515 val_acc_reg: 0.9911819306930693 val_acc_line: 0.9930383663366337 \n"
     ]
    },
    {
     "name": "stderr",
     "output_type": "stream",
     "text": [
      "[TRAIN 429, 319] loss: 1.0615538358688354 loss_reg: 1.3768353462219238 loss_line: 0.7462723255157471 acc: 0.99609375 acc_reg: 0.9947916865348816 acc_line: 0.9973958730697632: 100%|██████████| 319/319 [00:14<00:00, 21.79it/s]        \n",
      "[TRAIN 430, 1] loss: 0.17630159854888916 loss_reg: 0.2286584973335266 loss_line: 0.12394469976425171 acc: 0.1666666716337204 acc_reg: 0.1666666716337204 acc_line: 0.1666666716337204:   1%|          | 2/319 [00:00<00:16, 19.71it/s]"
     ]
    },
    {
     "name": "stdout",
     "output_type": "stream",
     "text": [
      "[VALIDATION 429] val_acc: 0.9904084158415841 val_acc_reg: 0.9888613861386139 val_acc_line: 0.9919554455445545 \n"
     ]
    },
    {
     "name": "stderr",
     "output_type": "stream",
     "text": [
      "[TRAIN 430, 319] loss: 1.0578097105026245 loss_reg: 1.3719509840011597 loss_line: 0.7436681985855103 acc: 1.0 acc_reg: 1.0 acc_line: 1.0: 100%|██████████| 319/319 [00:14<00:00, 21.68it/s]                                             \n",
      "[TRAIN 431, 1] loss: 0.17630168795585632 loss_reg: 0.22865867614746094 loss_line: 0.12394469976425171 acc: 0.1666666716337204 acc_reg: 0.1666666716337204 acc_line: 0.1666666716337204:   1%|          | 3/319 [00:00<00:15, 20.69it/s]"
     ]
    },
    {
     "name": "stdout",
     "output_type": "stream",
     "text": [
      "[VALIDATION 430] val_acc: 0.9906404702970297 val_acc_reg: 0.989325495049505 val_acc_line: 0.9919554455445545 \n"
     ]
    },
    {
     "name": "stderr",
     "output_type": "stream",
     "text": [
      "[TRAIN 431, 319] loss: 1.0591118335723877 loss_reg: 1.3745553493499756 loss_line: 0.7436681985855103 acc: 0.9986979365348816 acc_reg: 0.9973958730697632 acc_line: 1.0: 100%|██████████| 319/319 [00:14<00:00, 21.77it/s]               \n",
      "[TRAIN 432, 1] loss: 0.17630159854888916 loss_reg: 0.2286584973335266 loss_line: 0.12394469976425171 acc: 0.1666666716337204 acc_reg: 0.1666666716337204 acc_line: 0.1666666716337204:   1%|          | 3/319 [00:00<00:14, 21.55it/s]"
     ]
    },
    {
     "name": "stdout",
     "output_type": "stream",
     "text": [
      "[VALIDATION 431] val_acc: 0.9921875 val_acc_reg: 0.9905631188118812 val_acc_line: 0.9938118811881188 \n"
     ]
    },
    {
     "name": "stderr",
     "output_type": "stream",
     "text": [
      "[TRAIN 432, 319] loss: 1.0603697299957275 loss_reg: 1.3744667768478394 loss_line: 0.7462723255157471 acc: 0.9973958730697632 acc_reg: 0.9973958730697632 acc_line: 0.9973958730697632: 100%|██████████| 319/319 [00:14<00:00, 21.78it/s]\n",
      "[TRAIN 433, 1] loss: 0.17760369181632996 loss_reg: 0.2286584973335266 loss_line: 0.1265488713979721 acc: 0.1653645932674408 acc_reg: 0.1666666716337204 acc_line: 0.1640625:   1%|          | 3/319 [00:00<00:14, 21.09it/s]"
     ]
    },
    {
     "name": "stdout",
     "output_type": "stream",
     "text": [
      "[VALIDATION 432] val_acc: 0.9921101485148515 val_acc_reg: 0.9910272277227723 val_acc_line: 0.9931930693069307 \n"
     ]
    },
    {
     "name": "stderr",
     "output_type": "stream",
     "text": [
      "[TRAIN 433, 319] loss: 1.0591132640838623 loss_reg: 1.3745583295822144 loss_line: 0.7436681985855103 acc: 0.9986979365348816 acc_reg: 0.9973958730697632 acc_line: 1.0: 100%|██████████| 319/319 [00:14<00:00, 21.69it/s]               \n",
      "[TRAIN 434, 1] loss: 0.17740270495414734 loss_reg: 0.23086068034172058 loss_line: 0.12394469976425171 acc: 0.1653645932674408 acc_reg: 0.1640625 acc_line: 0.1666666716337204:   1%|          | 2/319 [00:00<00:15, 19.91it/s]"
     ]
    },
    {
     "name": "stdout",
     "output_type": "stream",
     "text": [
      "[VALIDATION 433] val_acc: 0.9890160891089109 val_acc_reg: 0.9874690594059405 val_acc_line: 0.9905631188118812 \n"
     ]
    },
    {
     "name": "stderr",
     "output_type": "stream",
     "text": [
      "[TRAIN 434, 319] loss: 1.060418963432312 loss_reg: 1.3771591186523438 loss_line: 0.7436785697937012 acc: 0.9973958730697632 acc_reg: 0.9947916865348816 acc_line: 1.0: 100%|██████████| 319/319 [00:14<00:00, 21.95it/s]                \n",
      "[TRAIN 435, 1] loss: 0.17676183581352234 loss_reg: 0.2286585569381714 loss_line: 0.1248650774359703 acc: 0.1666666716337204 acc_reg: 0.1666666716337204 acc_line: 0.1666666716337204:   1%|          | 3/319 [00:00<00:15, 19.88it/s]"
     ]
    },
    {
     "name": "stdout",
     "output_type": "stream",
     "text": [
      "[VALIDATION 434] val_acc: 0.9887066831683168 val_acc_reg: 0.9882425742574258 val_acc_line: 0.9891707920792079 \n"
     ]
    },
    {
     "name": "stderr",
     "output_type": "stream",
     "text": [
      "[TRAIN 435, 319] loss: 1.0617159605026245 loss_reg: 1.3771594762802124 loss_line: 0.7462723255157471 acc: 0.99609375 acc_reg: 0.9947916865348816 acc_line: 0.9973958730697632: 100%|██████████| 319/319 [00:14<00:00, 21.87it/s]        \n",
      "[TRAIN 436, 1] loss: 0.17630159854888916 loss_reg: 0.2286584973335266 loss_line: 0.12394469976425171 acc: 0.1666666716337204 acc_reg: 0.1666666716337204 acc_line: 0.1666666716337204:   1%|          | 2/319 [00:00<00:16, 19.31it/s]"
     ]
    },
    {
     "name": "stdout",
     "output_type": "stream",
     "text": [
      "[VALIDATION 435] val_acc: 0.9921101485148515 val_acc_reg: 0.9907178217821783 val_acc_line: 0.9935024752475248 \n"
     ]
    },
    {
     "name": "stderr",
     "output_type": "stream",
     "text": [
      "[TRAIN 436, 319] loss: 1.0578097105026245 loss_reg: 1.3719509840011597 loss_line: 0.7436681985855103 acc: 1.0 acc_reg: 1.0 acc_line: 1.0: 100%|██████████| 319/319 [00:14<00:00, 21.91it/s]                                           \n",
      "[TRAIN 437, 1] loss: 0.17630159854888916 loss_reg: 0.2286584973335266 loss_line: 0.12394469976425171 acc: 0.1666666716337204 acc_reg: 0.1666666716337204 acc_line: 0.1666666716337204:   1%|          | 3/319 [00:00<00:15, 20.78it/s]"
     ]
    },
    {
     "name": "stdout",
     "output_type": "stream",
     "text": [
      "[VALIDATION 436] val_acc: 0.989944306930693 val_acc_reg: 0.989325495049505 val_acc_line: 0.9905631188118812 \n"
     ]
    },
    {
     "name": "stderr",
     "output_type": "stream",
     "text": [
      "[TRAIN 437, 319] loss: 1.0578097105026245 loss_reg: 1.3719509840011597 loss_line: 0.7436681985855103 acc: 1.0 acc_reg: 1.0 acc_line: 1.0: 100%|██████████| 319/319 [00:14<00:00, 21.86it/s]                                             \n",
      "[TRAIN 438, 1] loss: 0.17630159854888916 loss_reg: 0.2286584973335266 loss_line: 0.12394469976425171 acc: 0.1666666716337204 acc_reg: 0.1666666716337204 acc_line: 0.1666666716337204:   1%|          | 2/319 [00:00<00:17, 18.13it/s]"
     ]
    },
    {
     "name": "stdout",
     "output_type": "stream",
     "text": [
      "[VALIDATION 437] val_acc: 0.9923422029702971 val_acc_reg: 0.9900990099009901 val_acc_line: 0.9945853960396039 \n"
     ]
    },
    {
     "name": "stderr",
     "output_type": "stream",
     "text": [
      "[TRAIN 438, 319] loss: 1.0617159605026245 loss_reg: 1.3771593570709229 loss_line: 0.7462723255157471 acc: 0.99609375 acc_reg: 0.9947916865348816 acc_line: 0.9973958730697632: 100%|██████████| 319/319 [00:14<00:00, 21.95it/s]        \n",
      "[TRAIN 439, 1] loss: 0.17630159854888916 loss_reg: 0.2286584973335266 loss_line: 0.12394469976425171 acc: 0.1666666716337204 acc_reg: 0.1666666716337204 acc_line: 0.1666666716337204:   1%|          | 3/319 [00:00<00:13, 23.01it/s]"
     ]
    },
    {
     "name": "stdout",
     "output_type": "stream",
     "text": [
      "[VALIDATION 438] val_acc: 0.9910272277227723 val_acc_reg: 0.9888613861386139 val_acc_line: 0.9931930693069307 \n"
     ]
    },
    {
     "name": "stderr",
     "output_type": "stream",
     "text": [
      "[TRAIN 439, 319] loss: 1.0578097105026245 loss_reg: 1.3719509840011597 loss_line: 0.7436681985855103 acc: 1.0 acc_reg: 1.0 acc_line: 1.0: 100%|██████████| 319/319 [00:14<00:00, 21.84it/s]                                             \n",
      "[TRAIN 440, 1] loss: 0.17630165815353394 loss_reg: 0.22865861654281616 loss_line: 0.1239447146654129 acc: 0.1666666716337204 acc_reg: 0.1666666716337204 acc_line: 0.1666666716337204:   1%|          | 3/319 [00:00<00:14, 21.31it/s]"
     ]
    },
    {
     "name": "stdout",
     "output_type": "stream",
     "text": [
      "[VALIDATION 439] val_acc: 0.9900990099009901 val_acc_reg: 0.9885519801980198 val_acc_line: 0.9916460396039604 \n"
     ]
    },
    {
     "name": "stderr",
     "output_type": "stream",
     "text": [
      "[TRAIN 440, 319] loss: 1.0591118335723877 loss_reg: 1.3745551109313965 loss_line: 0.7436681985855103 acc: 0.9986979365348816 acc_reg: 0.9973958730697632 acc_line: 1.0: 100%|██████████| 319/319 [00:14<00:00, 21.77it/s]               \n",
      "[TRAIN 441, 1] loss: 0.17630159854888916 loss_reg: 0.2286584973335266 loss_line: 0.12394469976425171 acc: 0.1666666716337204 acc_reg: 0.1666666716337204 acc_line: 0.1666666716337204:   1%|          | 2/319 [00:00<00:16, 18.90it/s]"
     ]
    },
    {
     "name": "stdout",
     "output_type": "stream",
     "text": [
      "[VALIDATION 440] val_acc: 0.9919554455445545 val_acc_reg: 0.9902537128712872 val_acc_line: 0.9936571782178217 \n"
     ]
    },
    {
     "name": "stderr",
     "output_type": "stream",
     "text": [
      "[TRAIN 441, 319] loss: 1.0604146718978882 loss_reg: 1.374556541442871 loss_line: 0.7462728023529053 acc: 0.9973958730697632 acc_reg: 0.9973958730697632 acc_line: 0.9973958730697632: 100%|██████████| 319/319 [00:14<00:00, 21.92it/s] \n",
      "[TRAIN 442, 1] loss: 0.17630159854888916 loss_reg: 0.2286584973335266 loss_line: 0.12394469976425171 acc: 0.1666666716337204 acc_reg: 0.1666666716337204 acc_line: 0.1666666716337204:   1%|          | 2/319 [00:00<00:16, 19.41it/s]"
     ]
    },
    {
     "name": "stdout",
     "output_type": "stream",
     "text": [
      "[VALIDATION 441] val_acc: 0.9903310643564357 val_acc_reg: 0.9880878712871287 val_acc_line: 0.9925742574257426 \n"
     ]
    },
    {
     "name": "stderr",
     "output_type": "stream",
     "text": [
      "[TRAIN 442, 319] loss: 1.0604138374328613 loss_reg: 1.3745551109313965 loss_line: 0.7462725043296814 acc: 0.9973958730697632 acc_reg: 0.9973958730697632 acc_line: 0.9973958730697632: 100%|██████████| 319/319 [00:14<00:00, 21.89it/s]\n",
      "[TRAIN 443, 1] loss: 0.17630159854888916 loss_reg: 0.2286584973335266 loss_line: 0.12394469976425171 acc: 0.1666666716337204 acc_reg: 0.1666666716337204 acc_line: 0.1666666716337204:   1%|          | 3/319 [00:00<00:14, 21.50it/s]"
     ]
    },
    {
     "name": "stdout",
     "output_type": "stream",
     "text": [
      "[VALIDATION 442] val_acc: 0.9904084158415841 val_acc_reg: 0.9877784653465347 val_acc_line: 0.9930383663366337 \n"
     ]
    },
    {
     "name": "stderr",
     "output_type": "stream",
     "text": [
      "[TRAIN 443, 319] loss: 1.057905673980713 loss_reg: 1.372143268585205 loss_line: 0.7436681985855103 acc: 1.0 acc_reg: 1.0 acc_line: 1.0: 100%|██████████| 319/319 [00:14<00:00, 21.92it/s]                                               \n",
      "[TRAIN 444, 1] loss: 0.17630159854888916 loss_reg: 0.2286584973335266 loss_line: 0.12394469976425171 acc: 0.1666666716337204 acc_reg: 0.1666666716337204 acc_line: 0.1666666716337204:   1%|          | 3/319 [00:00<00:14, 21.47it/s]"
     ]
    },
    {
     "name": "stdout",
     "output_type": "stream",
     "text": [
      "[VALIDATION 443] val_acc: 0.9904857673267327 val_acc_reg: 0.9866955445544554 val_acc_line: 0.9942759900990099 \n"
     ]
    },
    {
     "name": "stderr",
     "output_type": "stream",
     "text": [
      "[TRAIN 444, 319] loss: 1.0578097105026245 loss_reg: 1.3719509840011597 loss_line: 0.7436681985855103 acc: 1.0 acc_reg: 1.0 acc_line: 1.0: 100%|██████████| 319/319 [00:14<00:00, 22.01it/s]                                             \n",
      "[TRAIN 445, 1] loss: 0.17630159854888916 loss_reg: 0.2286584973335266 loss_line: 0.12394469976425171 acc: 0.1666666716337204 acc_reg: 0.1666666716337204 acc_line: 0.1666666716337204:   1%|          | 3/319 [00:00<00:14, 21.83it/s]"
     ]
    },
    {
     "name": "stdout",
     "output_type": "stream",
     "text": [
      "[VALIDATION 444] val_acc: 0.9912592821782178 val_acc_reg: 0.9890160891089109 val_acc_line: 0.9935024752475248 \n"
     ]
    },
    {
     "name": "stderr",
     "output_type": "stream",
     "text": [
      "[TRAIN 445, 319] loss: 1.0586379766464233 loss_reg: 1.3719509840011597 loss_line: 0.7453247904777527 acc: 0.9986979365348816 acc_reg: 1.0 acc_line: 0.9973958730697632: 100%|██████████| 319/319 [00:14<00:00, 21.99it/s]               \n",
      "[TRAIN 446, 1] loss: 0.17760376632213593 loss_reg: 0.23126280307769775 loss_line: 0.12394469976425171 acc: 0.1653645932674408 acc_reg: 0.1640625 acc_line: 0.1666666716337204:   1%|          | 2/319 [00:00<00:16, 19.48it/s]"
     ]
    },
    {
     "name": "stdout",
     "output_type": "stream",
     "text": [
      "[VALIDATION 445] val_acc: 0.9900990099009901 val_acc_reg: 0.9880878712871287 val_acc_line: 0.9921101485148515 \n"
     ]
    },
    {
     "name": "stderr",
     "output_type": "stream",
     "text": [
      "[TRAIN 446, 319] loss: 1.0591118335723877 loss_reg: 1.3719509840011597 loss_line: 0.7462724447250366 acc: 0.9986979365348816 acc_reg: 1.0 acc_line: 0.9973958730697632: 100%|██████████| 319/319 [00:14<00:00, 21.94it/s]               \n",
      "[TRAIN 447, 1] loss: 0.17630159854888916 loss_reg: 0.2286584973335266 loss_line: 0.12394469976425171 acc: 0.1666666716337204 acc_reg: 0.1666666716337204 acc_line: 0.1666666716337204:   1%|          | 3/319 [00:00<00:14, 21.91it/s]"
     ]
    },
    {
     "name": "stdout",
     "output_type": "stream",
     "text": [
      "[VALIDATION 446] val_acc: 0.989480198019802 val_acc_reg: 0.9868502475247525 val_acc_line: 0.9921101485148515 \n"
     ]
    },
    {
     "name": "stderr",
     "output_type": "stream",
     "text": [
      "[TRAIN 447, 319] loss: 1.06041419506073 loss_reg: 1.3719509840011597 loss_line: 0.748877227306366 acc: 0.9973958730697632 acc_reg: 1.0 acc_line: 0.9947916865348816: 100%|██████████| 319/319 [00:14<00:00, 21.92it/s]                \n",
      "[TRAIN 448, 1] loss: 0.17630159854888916 loss_reg: 0.2286584973335266 loss_line: 0.12394469976425171 acc: 0.1666666716337204 acc_reg: 0.1666666716337204 acc_line: 0.1666666716337204:   1%|          | 3/319 [00:00<00:14, 22.16it/s]"
     ]
    },
    {
     "name": "stdout",
     "output_type": "stream",
     "text": [
      "[VALIDATION 447] val_acc: 0.9886293316831684 val_acc_reg: 0.9865408415841584 val_acc_line: 0.9907178217821783 \n"
     ]
    },
    {
     "name": "stderr",
     "output_type": "stream",
     "text": [
      "[TRAIN 448, 319] loss: 1.0591118335723877 loss_reg: 1.3719509840011597 loss_line: 0.7462723255157471 acc: 0.9986979365348816 acc_reg: 1.0 acc_line: 0.9973958730697632: 100%|██████████| 319/319 [00:14<00:00, 21.93it/s]               \n",
      "[TRAIN 449, 1] loss: 0.17630159854888916 loss_reg: 0.2286584973335266 loss_line: 0.12394469976425171 acc: 0.1666666716337204 acc_reg: 0.1666666716337204 acc_line: 0.1666666716337204:   1%|          | 3/319 [00:00<00:15, 20.69it/s]"
     ]
    },
    {
     "name": "stdout",
     "output_type": "stream",
     "text": [
      "[VALIDATION 448] val_acc: 0.9882425742574258 val_acc_reg: 0.9863861386138614 val_acc_line: 0.9900990099009901 \n"
     ]
    },
    {
     "name": "stderr",
     "output_type": "stream",
     "text": [
      "[TRAIN 449, 319] loss: 1.0589985847473145 loss_reg: 1.3743289709091187 loss_line: 0.7436681985855103 acc: 0.9986979365348816 acc_reg: 0.9973958730697632 acc_line: 1.0: 100%|██████████| 319/319 [00:14<00:00, 21.75it/s]               \n",
      "[TRAIN 450, 1] loss: 0.17630159854888916 loss_reg: 0.2286584973335266 loss_line: 0.12394469976425171 acc: 0.1666666716337204 acc_reg: 0.1666666716337204 acc_line: 0.1666666716337204:   1%|          | 3/319 [00:00<00:14, 21.34it/s]"
     ]
    },
    {
     "name": "stdout",
     "output_type": "stream",
     "text": [
      "[VALIDATION 449] val_acc: 0.9913366336633663 val_acc_reg: 0.989480198019802 val_acc_line: 0.9931930693069307 \n"
     ]
    },
    {
     "name": "stderr",
     "output_type": "stream",
     "text": [
      "[TRAIN 450, 319] loss: 1.057889461517334 loss_reg: 1.3721102476119995 loss_line: 0.7436684370040894 acc: 1.0 acc_reg: 1.0 acc_line: 1.0: 100%|██████████| 319/319 [00:14<00:00, 21.79it/s]                                              \n",
      "[TRAIN 451, 1] loss: 0.17760369181632996 loss_reg: 0.231262668967247 loss_line: 0.12394469976425171 acc: 0.1653645932674408 acc_reg: 0.1640625 acc_line: 0.1666666716337204:   1%|          | 2/319 [00:00<00:17, 18.06it/s]"
     ]
    },
    {
     "name": "stdout",
     "output_type": "stream",
     "text": [
      "[VALIDATION 450] val_acc: 0.9886293316831684 val_acc_reg: 0.9865408415841584 val_acc_line: 0.9907178217821783 \n"
     ]
    },
    {
     "name": "stderr",
     "output_type": "stream",
     "text": [
      "[TRAIN 451, 319] loss: 1.0578097105026245 loss_reg: 1.3719509840011597 loss_line: 0.7436681985855103 acc: 1.0 acc_reg: 1.0 acc_line: 1.0: 100%|██████████| 319/319 [00:14<00:00, 21.99it/s]                                             \n",
      "[TRAIN 452, 1] loss: 0.177176833152771 loss_reg: 0.2304089516401291 loss_line: 0.12394469976425171 acc: 0.1653645932674408 acc_reg: 0.1640625 acc_line: 0.1666666716337204:   1%|          | 3/319 [00:00<00:14, 22.37it/s]"
     ]
    },
    {
     "name": "stdout",
     "output_type": "stream",
     "text": [
      "[VALIDATION 451] val_acc: 0.9900990099009901 val_acc_reg: 0.9882425742574258 val_acc_line: 0.9919554455445545 \n"
     ]
    },
    {
     "name": "stderr",
     "output_type": "stream",
     "text": [
      "[TRAIN 452, 319] loss: 1.058976650238037 loss_reg: 1.3742849826812744 loss_line: 0.7436681985855103 acc: 0.9986979365348816 acc_reg: 0.9973958730697632 acc_line: 1.0: 100%|██████████| 319/319 [00:14<00:00, 21.97it/s]                \n",
      "[TRAIN 453, 1] loss: 0.17630159854888916 loss_reg: 0.2286584973335266 loss_line: 0.12394469976425171 acc: 0.1666666716337204 acc_reg: 0.1666666716337204 acc_line: 0.1666666716337204:   1%|          | 3/319 [00:00<00:14, 21.59it/s]"
     ]
    },
    {
     "name": "stdout",
     "output_type": "stream",
     "text": [
      "[VALIDATION 452] val_acc: 0.9927289603960396 val_acc_reg: 0.9900990099009901 val_acc_line: 0.9953589108910891 \n"
     ]
    },
    {
     "name": "stderr",
     "output_type": "stream",
     "text": [
      "[TRAIN 453, 319] loss: 1.0578097105026245 loss_reg: 1.3719509840011597 loss_line: 0.7436681985855103 acc: 1.0 acc_reg: 1.0 acc_line: 1.0: 100%|██████████| 319/319 [00:14<00:00, 21.92it/s]                                             \n",
      "[TRAIN 454, 1] loss: 0.17630159854888916 loss_reg: 0.2286584973335266 loss_line: 0.12394469976425171 acc: 0.1666666716337204 acc_reg: 0.1666666716337204 acc_line: 0.1666666716337204:   1%|          | 3/319 [00:00<00:13, 23.12it/s]"
     ]
    },
    {
     "name": "stdout",
     "output_type": "stream",
     "text": [
      "[VALIDATION 453] val_acc: 0.9920327970297029 val_acc_reg: 0.9897896039603961 val_acc_line: 0.9942759900990099 \n"
     ]
    },
    {
     "name": "stderr",
     "output_type": "stream",
     "text": [
      "[TRAIN 454, 319] loss: 1.0578429698944092 loss_reg: 1.3719509840011597 loss_line: 0.7437347173690796 acc: 1.0 acc_reg: 1.0 acc_line: 1.0: 100%|██████████| 319/319 [00:14<00:00, 21.92it/s]                                             \n",
      "[TRAIN 455, 1] loss: 0.17890577018260956 loss_reg: 0.2286584973335266 loss_line: 0.1291530430316925 acc: 0.1640625 acc_reg: 0.1666666716337204 acc_line: 0.1614583432674408:   1%|          | 2/319 [00:00<00:15, 19.90it/s]"
     ]
    },
    {
     "name": "stdout",
     "output_type": "stream",
     "text": [
      "[VALIDATION 454] val_acc: 0.9918007425742574 val_acc_reg: 0.989325495049505 val_acc_line: 0.9942759900990099 \n"
     ]
    },
    {
     "name": "stderr",
     "output_type": "stream",
     "text": [
      "[TRAIN 455, 319] loss: 1.0591042041778564 loss_reg: 1.3719509840011597 loss_line: 0.7462570667266846 acc: 0.9986979365348816 acc_reg: 1.0 acc_line: 0.9973958730697632: 100%|██████████| 319/319 [00:14<00:00, 21.86it/s]               \n",
      "[TRAIN 456, 1] loss: 0.17760369181632996 loss_reg: 0.2286584973335266 loss_line: 0.1265488713979721 acc: 0.1653645932674408 acc_reg: 0.1666666716337204 acc_line: 0.1640625:   1%|          | 3/319 [00:00<00:15, 21.04it/s]"
     ]
    },
    {
     "name": "stdout",
     "output_type": "stream",
     "text": [
      "[VALIDATION 455] val_acc: 0.9907178217821783 val_acc_reg: 0.9877784653465347 val_acc_line: 0.9936571782178217 \n"
     ]
    },
    {
     "name": "stderr",
     "output_type": "stream",
     "text": [
      "[TRAIN 456, 319] loss: 1.0604138374328613 loss_reg: 1.3719509840011597 loss_line: 0.7488765716552734 acc: 0.9973958730697632 acc_reg: 1.0 acc_line: 0.9947916865348816: 100%|██████████| 319/319 [00:14<00:00, 21.86it/s]               \n",
      "[TRAIN 457, 1] loss: 0.17630159854888916 loss_reg: 0.2286584973335266 loss_line: 0.12394469976425171 acc: 0.1666666716337204 acc_reg: 0.1666666716337204 acc_line: 0.1666666716337204:   1%|          | 2/319 [00:00<00:17, 18.64it/s]"
     ]
    },
    {
     "name": "stdout",
     "output_type": "stream",
     "text": [
      "[VALIDATION 456] val_acc: 0.9894028465346535 val_acc_reg: 0.9859220297029703 val_acc_line: 0.9928836633663366 \n"
     ]
    },
    {
     "name": "stderr",
     "output_type": "stream",
     "text": [
      "[TRAIN 457, 319] loss: 1.0596654415130615 loss_reg: 1.3727319240570068 loss_line: 0.7465989589691162 acc: 0.9986979365348816 acc_reg: 1.0 acc_line: 0.9973958730697632: 100%|██████████| 319/319 [00:14<00:00, 21.85it/s]               \n",
      "[TRAIN 458, 1] loss: 0.1773606538772583 loss_reg: 0.23066990077495575 loss_line: 0.12405140697956085 acc: 0.1653645932674408 acc_reg: 0.1640625 acc_line: 0.1666666716337204:   1%|          | 3/319 [00:00<00:14, 21.26it/s]"
     ]
    },
    {
     "name": "stdout",
     "output_type": "stream",
     "text": [
      "[VALIDATION 457] val_acc: 0.9895575495049505 val_acc_reg: 0.9870049504950495 val_acc_line: 0.9921101485148515 \n"
     ]
    },
    {
     "name": "stderr",
     "output_type": "stream",
     "text": [
      "[TRAIN 458, 319] loss: 1.0578097105026245 loss_reg: 1.3719509840011597 loss_line: 0.743668258190155 acc: 1.0 acc_reg: 1.0 acc_line: 1.0: 100%|██████████| 319/319 [00:14<00:00, 21.83it/s]                                              \n",
      "[TRAIN 459, 1] loss: 0.17630159854888916 loss_reg: 0.2286584973335266 loss_line: 0.12394469976425171 acc: 0.1666666716337204 acc_reg: 0.1666666716337204 acc_line: 0.1666666716337204:   1%|          | 2/319 [00:00<00:17, 18.62it/s]"
     ]
    },
    {
     "name": "stdout",
     "output_type": "stream",
     "text": [
      "[VALIDATION 458] val_acc: 0.9921101485148515 val_acc_reg: 0.989325495049505 val_acc_line: 0.994894801980198 \n"
     ]
    },
    {
     "name": "stderr",
     "output_type": "stream",
     "text": [
      "[TRAIN 459, 319] loss: 1.0578097105026245 loss_reg: 1.3719509840011597 loss_line: 0.743668258190155 acc: 1.0 acc_reg: 1.0 acc_line: 1.0: 100%|██████████| 319/319 [00:14<00:00, 21.88it/s]                                              \n",
      "[TRAIN 460, 1] loss: 0.17630159854888916 loss_reg: 0.2286584973335266 loss_line: 0.12394469976425171 acc: 0.1666666716337204 acc_reg: 0.1666666716337204 acc_line: 0.1666666716337204:   1%|          | 2/319 [00:00<00:16, 19.08it/s]"
     ]
    },
    {
     "name": "stdout",
     "output_type": "stream",
     "text": [
      "[VALIDATION 459] val_acc: 0.9921101485148515 val_acc_reg: 0.989480198019802 val_acc_line: 0.994740099009901 \n"
     ]
    },
    {
     "name": "stderr",
     "output_type": "stream",
     "text": [
      "[TRAIN 460, 319] loss: 1.059124231338501 loss_reg: 1.3745801448822021 loss_line: 0.7436681985855103 acc: 0.9986979365348816 acc_reg: 0.9973958730697632 acc_line: 1.0: 100%|██████████| 319/319 [00:14<00:00, 21.88it/s]              \n",
      "[TRAIN 461, 1] loss: 0.17630159854888916 loss_reg: 0.2286584973335266 loss_line: 0.12394469976425171 acc: 0.1666666716337204 acc_reg: 0.1666666716337204 acc_line: 0.1666666716337204:   1%|          | 3/319 [00:00<00:14, 22.31it/s]"
     ]
    },
    {
     "name": "stdout",
     "output_type": "stream",
     "text": [
      "[VALIDATION 460] val_acc: 0.9907951732673267 val_acc_reg: 0.9880878712871287 val_acc_line: 0.9935024752475248 \n"
     ]
    },
    {
     "name": "stderr",
     "output_type": "stream",
     "text": [
      "[TRAIN 461, 319] loss: 1.0591108798980713 loss_reg: 1.3745535612106323 loss_line: 0.7436681985855103 acc: 0.9986979365348816 acc_reg: 0.9973958730697632 acc_line: 1.0: 100%|██████████| 319/319 [00:14<00:00, 21.81it/s]               \n",
      "[TRAIN 462, 1] loss: 0.17630159854888916 loss_reg: 0.2286584973335266 loss_line: 0.12394469976425171 acc: 0.1666666716337204 acc_reg: 0.1666666716337204 acc_line: 0.1666666716337204:   1%|          | 2/319 [00:00<00:16, 19.23it/s]"
     ]
    },
    {
     "name": "stdout",
     "output_type": "stream",
     "text": [
      "[VALIDATION 461] val_acc: 0.9909498762376238 val_acc_reg: 0.9877784653465347 val_acc_line: 0.9941212871287128 \n"
     ]
    },
    {
     "name": "stderr",
     "output_type": "stream",
     "text": [
      "[TRAIN 462, 319] loss: 1.0578097105026245 loss_reg: 1.3719509840011597 loss_line: 0.7436681985855103 acc: 1.0 acc_reg: 1.0 acc_line: 1.0: 100%|██████████| 319/319 [00:14<00:00, 21.85it/s]                                             \n",
      "[TRAIN 463, 1] loss: 0.17630159854888916 loss_reg: 0.2286584973335266 loss_line: 0.12394469976425171 acc: 0.1666666716337204 acc_reg: 0.1666666716337204 acc_line: 0.1666666716337204:   1%|          | 3/319 [00:00<00:14, 21.41it/s]"
     ]
    },
    {
     "name": "stdout",
     "output_type": "stream",
     "text": [
      "[VALIDATION 462] val_acc: 0.9911045792079208 val_acc_reg: 0.9888613861386139 val_acc_line: 0.9933477722772277 \n"
     ]
    },
    {
     "name": "stderr",
     "output_type": "stream",
     "text": [
      "[TRAIN 463, 319] loss: 1.0580389499664307 loss_reg: 1.3724095821380615 loss_line: 0.7436681985855103 acc: 1.0 acc_reg: 1.0 acc_line: 1.0: 100%|██████████| 319/319 [00:14<00:00, 21.76it/s]                                             \n",
      "[TRAIN 464, 1] loss: 0.17630159854888916 loss_reg: 0.2286584973335266 loss_line: 0.12394469976425171 acc: 0.1666666716337204 acc_reg: 0.1666666716337204 acc_line: 0.1666666716337204:   1%|          | 3/319 [00:00<00:14, 21.81it/s]"
     ]
    },
    {
     "name": "stdout",
     "output_type": "stream",
     "text": [
      "[VALIDATION 463] val_acc: 0.9912592821782178 val_acc_reg: 0.9887066831683168 val_acc_line: 0.9938118811881188 \n"
     ]
    },
    {
     "name": "stderr",
     "output_type": "stream",
     "text": [
      "[TRAIN 464, 319] loss: 1.062976598739624 loss_reg: 1.3797638416290283 loss_line: 0.7461890578269958 acc: 0.9947916865348816 acc_reg: 0.9921875 acc_line: 0.9973958730697632: 100%|██████████| 319/319 [00:14<00:00, 22.01it/s]          \n",
      "[TRAIN 465, 1] loss: 0.17630192637443542 loss_reg: 0.22865913808345795 loss_line: 0.12394469976425171 acc: 0.1666666716337204 acc_reg: 0.1666666716337204 acc_line: 0.1666666716337204:   1%|          | 3/319 [00:00<00:14, 21.15it/s]"
     ]
    },
    {
     "name": "stdout",
     "output_type": "stream",
     "text": [
      "[VALIDATION 464] val_acc: 0.9918007425742574 val_acc_reg: 0.989480198019802 val_acc_line: 0.9941212871287128 \n"
     ]
    },
    {
     "name": "stderr",
     "output_type": "stream",
     "text": [
      "[TRAIN 465, 319] loss: 1.0591118335723877 loss_reg: 1.3719509840011597 loss_line: 0.7462723255157471 acc: 0.9986979365348816 acc_reg: 1.0 acc_line: 0.9973958730697632: 100%|██████████| 319/319 [00:14<00:00, 21.98it/s]               \n",
      "[TRAIN 466, 1] loss: 0.17630188167095184 loss_reg: 0.2286585420370102 loss_line: 0.12394523620605469 acc: 0.1666666716337204 acc_reg: 0.1666666716337204 acc_line: 0.1666666716337204:   1%|          | 3/319 [00:00<00:14, 22.12it/s]"
     ]
    },
    {
     "name": "stdout",
     "output_type": "stream",
     "text": [
      "[VALIDATION 465] val_acc: 0.9900216584158416 val_acc_reg: 0.9883972772277227 val_acc_line: 0.9916460396039604 \n"
     ]
    },
    {
     "name": "stderr",
     "output_type": "stream",
     "text": [
      "[TRAIN 466, 319] loss: 1.0591118335723877 loss_reg: 1.3745553493499756 loss_line: 0.7436681985855103 acc: 0.9986979365348816 acc_reg: 0.9973958730697632 acc_line: 1.0: 100%|██████████| 319/319 [00:14<00:00, 21.92it/s]               \n",
      "[TRAIN 467, 1] loss: 0.17630159854888916 loss_reg: 0.2286584973335266 loss_line: 0.12394469976425171 acc: 0.1666666716337204 acc_reg: 0.1666666716337204 acc_line: 0.1666666716337204:   1%|          | 2/319 [00:00<00:16, 18.81it/s]"
     ]
    },
    {
     "name": "stdout",
     "output_type": "stream",
     "text": [
      "[VALIDATION 466] val_acc: 0.9911819306930693 val_acc_reg: 0.9879331683168316 val_acc_line: 0.994430693069307 \n"
     ]
    },
    {
     "name": "stderr",
     "output_type": "stream",
     "text": [
      "[TRAIN 467, 319] loss: 1.0588335990905762 loss_reg: 1.3739988803863525 loss_line: 0.7436681985855103 acc: 0.9986979365348816 acc_reg: 0.9973958730697632 acc_line: 1.0: 100%|██████████| 319/319 [00:14<00:00, 21.82it/s]               \n",
      "[TRAIN 468, 1] loss: 0.17630159854888916 loss_reg: 0.2286584973335266 loss_line: 0.12394469976425171 acc: 0.1666666716337204 acc_reg: 0.1666666716337204 acc_line: 0.1666666716337204:   1%|          | 3/319 [00:00<00:14, 21.51it/s]"
     ]
    },
    {
     "name": "stdout",
     "output_type": "stream",
     "text": [
      "[VALIDATION 467] val_acc: 0.9914913366336634 val_acc_reg: 0.989325495049505 val_acc_line: 0.9936571782178217 \n"
     ]
    },
    {
     "name": "stderr",
     "output_type": "stream",
     "text": [
      "[TRAIN 468, 319] loss: 1.0578129291534424 loss_reg: 1.371957540512085 loss_line: 0.7436681985855103 acc: 1.0 acc_reg: 1.0 acc_line: 1.0: 100%|██████████| 319/319 [00:14<00:00, 21.87it/s]                                              \n",
      "[TRAIN 469, 1] loss: 0.17630159854888916 loss_reg: 0.2286584973335266 loss_line: 0.12394469976425171 acc: 0.1666666716337204 acc_reg: 0.1666666716337204 acc_line: 0.1666666716337204:   1%|          | 2/319 [00:00<00:16, 18.71it/s]"
     ]
    },
    {
     "name": "stdout",
     "output_type": "stream",
     "text": [
      "[VALIDATION 468] val_acc: 0.9890934405940595 val_acc_reg: 0.9863861386138614 val_acc_line: 0.9918007425742574 \n"
     ]
    },
    {
     "name": "stderr",
     "output_type": "stream",
     "text": [
      "[TRAIN 469, 319] loss: 1.0604138374328613 loss_reg: 1.3771594762802124 loss_line: 0.743668258190155 acc: 0.9973958730697632 acc_reg: 0.9947916865348816 acc_line: 1.0: 100%|██████████| 319/319 [00:14<00:00, 21.78it/s]                \n",
      "[TRAIN 470, 1] loss: 0.17630159854888916 loss_reg: 0.2286584973335266 loss_line: 0.12394469976425171 acc: 0.1666666716337204 acc_reg: 0.1666666716337204 acc_line: 0.1666666716337204:   1%|          | 2/319 [00:00<00:19, 16.53it/s]"
     ]
    },
    {
     "name": "stdout",
     "output_type": "stream",
     "text": [
      "[VALIDATION 469] val_acc: 0.9898669554455446 val_acc_reg: 0.9882425742574258 val_acc_line: 0.9914913366336634 \n"
     ]
    },
    {
     "name": "stderr",
     "output_type": "stream",
     "text": [
      "[TRAIN 470, 319] loss: 1.0617159605026245 loss_reg: 1.3771594762802124 loss_line: 0.7462723255157471 acc: 0.99609375 acc_reg: 0.9947916865348816 acc_line: 0.9973958730697632: 100%|██████████| 319/319 [00:14<00:00, 21.83it/s]        \n",
      "[TRAIN 471, 1] loss: 0.17630159854888916 loss_reg: 0.2286584973335266 loss_line: 0.12394469976425171 acc: 0.1666666716337204 acc_reg: 0.1666666716337204 acc_line: 0.1666666716337204:   1%|          | 3/319 [00:00<00:13, 24.24it/s]"
     ]
    },
    {
     "name": "stdout",
     "output_type": "stream",
     "text": [
      "[VALIDATION 470] val_acc: 0.9909498762376238 val_acc_reg: 0.9891707920792079 val_acc_line: 0.9927289603960396 \n"
     ]
    },
    {
     "name": "stderr",
     "output_type": "stream",
     "text": [
      "[TRAIN 471, 319] loss: 1.0596847534179688 loss_reg: 1.3756804466247559 loss_line: 0.7436889410018921 acc: 0.9986979365348816 acc_reg: 0.9973958730697632 acc_line: 1.0: 100%|██████████| 319/319 [00:14<00:00, 21.85it/s]               \n",
      "[TRAIN 472, 1] loss: 0.17630159854888916 loss_reg: 0.2286584973335266 loss_line: 0.12394469976425171 acc: 0.1666666716337204 acc_reg: 0.1666666716337204 acc_line: 0.1666666716337204:   1%|          | 2/319 [00:00<00:16, 19.10it/s]"
     ]
    },
    {
     "name": "stdout",
     "output_type": "stream",
     "text": [
      "[VALIDATION 471] val_acc: 0.9920327970297029 val_acc_reg: 0.9897896039603961 val_acc_line: 0.9942759900990099 \n"
     ]
    },
    {
     "name": "stderr",
     "output_type": "stream",
     "text": [
      "[TRAIN 472, 319] loss: 1.0591118335723877 loss_reg: 1.3745551109313965 loss_line: 0.7436681985855103 acc: 0.9986979365348816 acc_reg: 0.9973958730697632 acc_line: 1.0: 100%|██████████| 319/319 [00:14<00:00, 21.86it/s]               \n",
      "[TRAIN 473, 1] loss: 0.17630159854888916 loss_reg: 0.2286584973335266 loss_line: 0.12394469976425171 acc: 0.1666666716337204 acc_reg: 0.1666666716337204 acc_line: 0.1666666716337204:   1%|          | 3/319 [00:00<00:14, 21.46it/s]"
     ]
    },
    {
     "name": "stdout",
     "output_type": "stream",
     "text": [
      "[VALIDATION 472] val_acc: 0.9912592821782178 val_acc_reg: 0.9882425742574258 val_acc_line: 0.9942759900990099 \n"
     ]
    },
    {
     "name": "stderr",
     "output_type": "stream",
     "text": [
      "[TRAIN 473, 319] loss: 1.057810664176941 loss_reg: 1.3719528913497925 loss_line: 0.7436681985855103 acc: 1.0 acc_reg: 1.0 acc_line: 1.0: 100%|██████████| 319/319 [00:14<00:00, 21.85it/s]                                              \n",
      "[TRAIN 474, 1] loss: 0.17630159854888916 loss_reg: 0.2286584973335266 loss_line: 0.12394469976425171 acc: 0.1666666716337204 acc_reg: 0.1666666716337204 acc_line: 0.1666666716337204:   1%|          | 3/319 [00:00<00:13, 23.67it/s]"
     ]
    },
    {
     "name": "stdout",
     "output_type": "stream",
     "text": [
      "[VALIDATION 473] val_acc: 0.9923422029702971 val_acc_reg: 0.9900990099009901 val_acc_line: 0.9945853960396039 \n"
     ]
    },
    {
     "name": "stderr",
     "output_type": "stream",
     "text": [
      "[TRAIN 474, 319] loss: 1.0578174591064453 loss_reg: 1.3719509840011597 loss_line: 0.7436836957931519 acc: 1.0 acc_reg: 1.0 acc_line: 1.0: 100%|██████████| 319/319 [00:14<00:00, 21.87it/s]                                             \n",
      "[TRAIN 475, 1] loss: 0.17630159854888916 loss_reg: 0.2286584973335266 loss_line: 0.12394469976425171 acc: 0.1666666716337204 acc_reg: 0.1666666716337204 acc_line: 0.1666666716337204:   1%|          | 2/319 [00:00<00:16, 19.40it/s]"
     ]
    },
    {
     "name": "stdout",
     "output_type": "stream",
     "text": [
      "[VALIDATION 474] val_acc: 0.9903310643564357 val_acc_reg: 0.9888613861386139 val_acc_line: 0.9918007425742574 \n"
     ]
    },
    {
     "name": "stderr",
     "output_type": "stream",
     "text": [
      "[TRAIN 475, 319] loss: 1.0591118335723877 loss_reg: 1.3719509840011597 loss_line: 0.7462723255157471 acc: 0.9986979365348816 acc_reg: 1.0 acc_line: 0.9973958730697632: 100%|██████████| 319/319 [00:14<00:00, 22.00it/s]               \n",
      "[TRAIN 476, 1] loss: 0.1775514930486679 loss_reg: 0.2311582863330841 loss_line: 0.12394469976425171 acc: 0.1653645932674408 acc_reg: 0.1640625 acc_line: 0.1666666716337204:   1%|          | 3/319 [00:00<00:13, 22.99it/s]"
     ]
    },
    {
     "name": "stdout",
     "output_type": "stream",
     "text": [
      "[VALIDATION 475] val_acc: 0.9912592821782178 val_acc_reg: 0.9882425742574258 val_acc_line: 0.9942759900990099 \n"
     ]
    },
    {
     "name": "stderr",
     "output_type": "stream",
     "text": [
      "[TRAIN 476, 319] loss: 1.0578097105026245 loss_reg: 1.3719509840011597 loss_line: 0.7436681985855103 acc: 1.0 acc_reg: 1.0 acc_line: 1.0: 100%|██████████| 319/319 [00:14<00:00, 21.97it/s]                                             \n",
      "[TRAIN 477, 1] loss: 0.17630159854888916 loss_reg: 0.2286584973335266 loss_line: 0.12394469976425171 acc: 0.1666666716337204 acc_reg: 0.1666666716337204 acc_line: 0.1666666716337204:   1%|          | 2/319 [00:00<00:16, 19.68it/s]"
     ]
    },
    {
     "name": "stdout",
     "output_type": "stream",
     "text": [
      "[VALIDATION 476] val_acc: 0.9921101485148515 val_acc_reg: 0.9897896039603961 val_acc_line: 0.994430693069307 \n"
     ]
    },
    {
     "name": "stderr",
     "output_type": "stream",
     "text": [
      "[TRAIN 477, 319] loss: 1.0578144788742065 loss_reg: 1.3719509840011597 loss_line: 0.7436778545379639 acc: 1.0 acc_reg: 1.0 acc_line: 1.0: 100%|██████████| 319/319 [00:14<00:00, 21.95it/s]                                             \n",
      "[TRAIN 478, 1] loss: 0.17630159854888916 loss_reg: 0.2286584973335266 loss_line: 0.12394469976425171 acc: 0.1666666716337204 acc_reg: 0.1666666716337204 acc_line: 0.1666666716337204:   1%|          | 2/319 [00:00<00:17, 18.59it/s]"
     ]
    },
    {
     "name": "stdout",
     "output_type": "stream",
     "text": [
      "[VALIDATION 477] val_acc: 0.9910272277227723 val_acc_reg: 0.9888613861386139 val_acc_line: 0.9931930693069307 \n"
     ]
    },
    {
     "name": "stderr",
     "output_type": "stream",
     "text": [
      "[TRAIN 478, 319] loss: 1.057809829711914 loss_reg: 1.3719513416290283 loss_line: 0.7436681985855103 acc: 1.0 acc_reg: 1.0 acc_line: 1.0: 100%|██████████| 319/319 [00:14<00:00, 21.95it/s]                                              \n",
      "[TRAIN 479, 1] loss: 0.17630159854888916 loss_reg: 0.2286584973335266 loss_line: 0.12394469976425171 acc: 0.1666666716337204 acc_reg: 0.1666666716337204 acc_line: 0.1666666716337204:   1%|          | 3/319 [00:00<00:15, 20.69it/s]"
     ]
    },
    {
     "name": "stdout",
     "output_type": "stream",
     "text": [
      "[VALIDATION 478] val_acc: 0.9912592821782178 val_acc_reg: 0.9877784653465347 val_acc_line: 0.994740099009901 \n"
     ]
    },
    {
     "name": "stderr",
     "output_type": "stream",
     "text": [
      "[TRAIN 479, 319] loss: 1.0579602718353271 loss_reg: 1.3719509840011597 loss_line: 0.7439694404602051 acc: 1.0 acc_reg: 1.0 acc_line: 1.0: 100%|██████████| 319/319 [00:14<00:00, 21.90it/s]                                             \n",
      "[TRAIN 480, 1] loss: 0.17630159854888916 loss_reg: 0.2286584973335266 loss_line: 0.12394469976425171 acc: 0.1666666716337204 acc_reg: 0.1666666716337204 acc_line: 0.1666666716337204:   1%|          | 3/319 [00:00<00:15, 20.63it/s]"
     ]
    },
    {
     "name": "stdout",
     "output_type": "stream",
     "text": [
      "[VALIDATION 479] val_acc: 0.9891707920792079 val_acc_reg: 0.9880878712871287 val_acc_line: 0.9902537128712872 \n"
     ]
    },
    {
     "name": "stderr",
     "output_type": "stream",
     "text": [
      "[TRAIN 480, 319] loss: 1.0604138374328613 loss_reg: 1.3745551109313965 loss_line: 0.7462724447250366 acc: 0.9973958730697632 acc_reg: 0.9973958730697632 acc_line: 0.9973958730697632: 100%|██████████| 319/319 [00:14<00:00, 21.98it/s]\n",
      "[TRAIN 481, 1] loss: 0.17635655403137207 loss_reg: 0.22876840829849243 loss_line: 0.12394469976425171 acc: 0.1666666716337204 acc_reg: 0.1666666716337204 acc_line: 0.1666666716337204:   1%|          | 3/319 [00:00<00:15, 20.70it/s]"
     ]
    },
    {
     "name": "stdout",
     "output_type": "stream",
     "text": [
      "[VALIDATION 480] val_acc: 0.9910272277227723 val_acc_reg: 0.9890160891089109 val_acc_line: 0.9930383663366337 \n"
     ]
    },
    {
     "name": "stderr",
     "output_type": "stream",
     "text": [
      "[TRAIN 481, 319] loss: 1.0591257810592651 loss_reg: 1.3745559453964233 loss_line: 0.7436956167221069 acc: 0.9986979365348816 acc_reg: 0.9973958730697632 acc_line: 1.0: 100%|██████████| 319/319 [00:14<00:00, 21.97it/s]               \n",
      "[TRAIN 482, 1] loss: 0.17630159854888916 loss_reg: 0.2286584973335266 loss_line: 0.12394469976425171 acc: 0.1666666716337204 acc_reg: 0.1666666716337204 acc_line: 0.1666666716337204:   1%|          | 2/319 [00:00<00:16, 18.72it/s]"
     ]
    },
    {
     "name": "stdout",
     "output_type": "stream",
     "text": [
      "[VALIDATION 481] val_acc: 0.9906404702970297 val_acc_reg: 0.9882425742574258 val_acc_line: 0.9930383663366337 \n"
     ]
    },
    {
     "name": "stderr",
     "output_type": "stream",
     "text": [
      "[TRAIN 482, 319] loss: 1.0578097105026245 loss_reg: 1.3719509840011597 loss_line: 0.7436681985855103 acc: 1.0 acc_reg: 1.0 acc_line: 1.0: 100%|██████████| 319/319 [00:14<00:00, 21.95it/s]                                             \n",
      "[TRAIN 483, 1] loss: 0.17630159854888916 loss_reg: 0.2286584973335266 loss_line: 0.12394469976425171 acc: 0.1666666716337204 acc_reg: 0.1666666716337204 acc_line: 0.1666666716337204:   1%|          | 3/319 [00:00<00:15, 20.46it/s]"
     ]
    },
    {
     "name": "stdout",
     "output_type": "stream",
     "text": [
      "[VALIDATION 482] val_acc: 0.9910272277227723 val_acc_reg: 0.9890160891089109 val_acc_line: 0.9930383663366337 \n"
     ]
    },
    {
     "name": "stderr",
     "output_type": "stream",
     "text": [
      "[TRAIN 483, 319] loss: 1.0578097105026245 loss_reg: 1.3719511032104492 loss_line: 0.7436681985855103 acc: 1.0 acc_reg: 1.0 acc_line: 1.0: 100%|██████████| 319/319 [00:14<00:00, 21.97it/s]                                             \n",
      "[TRAIN 484, 1] loss: 0.17634475231170654 loss_reg: 0.22874483466148376 loss_line: 0.12394469976425171 acc: 0.1666666716337204 acc_reg: 0.1666666716337204 acc_line: 0.1666666716337204:   1%|          | 3/319 [00:00<00:14, 21.96it/s]"
     ]
    },
    {
     "name": "stdout",
     "output_type": "stream",
     "text": [
      "[VALIDATION 483] val_acc: 0.9914913366336634 val_acc_reg: 0.9904084158415841 val_acc_line: 0.9925742574257426 \n"
     ]
    },
    {
     "name": "stderr",
     "output_type": "stream",
     "text": [
      "[TRAIN 484, 319] loss: 1.0604138374328613 loss_reg: 1.3719509840011597 loss_line: 0.7488765120506287 acc: 0.9973958730697632 acc_reg: 1.0 acc_line: 0.9947916865348816: 100%|██████████| 319/319 [00:14<00:00, 21.91it/s]               \n",
      "[TRAIN 485, 1] loss: 0.17630159854888916 loss_reg: 0.2286584973335266 loss_line: 0.1239447146654129 acc: 0.1666666716337204 acc_reg: 0.1666666716337204 acc_line: 0.1666666716337204:   1%|          | 3/319 [00:00<00:14, 21.95it/s]"
     ]
    },
    {
     "name": "stdout",
     "output_type": "stream",
     "text": [
      "[VALIDATION 484] val_acc: 0.9902537128712872 val_acc_reg: 0.9890160891089109 val_acc_line: 0.9914913366336634 \n"
     ]
    },
    {
     "name": "stderr",
     "output_type": "stream",
     "text": [
      "[TRAIN 485, 319] loss: 1.0590251684188843 loss_reg: 1.3743818998336792 loss_line: 0.7436681985855103 acc: 0.9986979365348816 acc_reg: 0.9973958730697632 acc_line: 1.0: 100%|██████████| 319/319 [00:14<00:00, 21.97it/s]               \n",
      "[TRAIN 486, 1] loss: 0.17630162835121155 loss_reg: 0.2286585420370102 loss_line: 0.12394469976425171 acc: 0.1666666716337204 acc_reg: 0.1666666716337204 acc_line: 0.1666666716337204:   1%|          | 3/319 [00:00<00:15, 20.86it/s]"
     ]
    },
    {
     "name": "stdout",
     "output_type": "stream",
     "text": [
      "[VALIDATION 485] val_acc: 0.9914913366336634 val_acc_reg: 0.989325495049505 val_acc_line: 0.9936571782178217 \n"
     ]
    },
    {
     "name": "stderr",
     "output_type": "stream",
     "text": [
      "[TRAIN 486, 319] loss: 1.0578111410140991 loss_reg: 1.3719509840011597 loss_line: 0.7436709403991699 acc: 1.0 acc_reg: 1.0 acc_line: 1.0: 100%|██████████| 319/319 [00:14<00:00, 21.92it/s]                                             \n",
      "[TRAIN 487, 1] loss: 0.17630159854888916 loss_reg: 0.2286584973335266 loss_line: 0.12394469976425171 acc: 0.1666666716337204 acc_reg: 0.1666666716337204 acc_line: 0.1666666716337204:   1%|          | 3/319 [00:00<00:15, 20.56it/s]"
     ]
    },
    {
     "name": "stdout",
     "output_type": "stream",
     "text": [
      "[VALIDATION 486] val_acc: 0.9916460396039604 val_acc_reg: 0.989480198019802 val_acc_line: 0.9938118811881188 \n"
     ]
    },
    {
     "name": "stderr",
     "output_type": "stream",
     "text": [
      "[TRAIN 487, 319] loss: 1.0593879222869873 loss_reg: 1.3751070499420166 loss_line: 0.7436684370040894 acc: 0.9986979365348816 acc_reg: 0.9973958730697632 acc_line: 1.0: 100%|██████████| 319/319 [00:14<00:00, 21.96it/s]              \n",
      "[TRAIN 488, 1] loss: 0.17630159854888916 loss_reg: 0.2286584973335266 loss_line: 0.1239447146654129 acc: 0.1666666716337204 acc_reg: 0.1666666716337204 acc_line: 0.1666666716337204:   1%|          | 2/319 [00:00<00:17, 17.81it/s]"
     ]
    },
    {
     "name": "stdout",
     "output_type": "stream",
     "text": [
      "[VALIDATION 487] val_acc: 0.9901763613861386 val_acc_reg: 0.9876237623762376 val_acc_line: 0.9927289603960396 \n"
     ]
    },
    {
     "name": "stderr",
     "output_type": "stream",
     "text": [
      "[TRAIN 488, 319] loss: 1.0578153133392334 loss_reg: 1.371962308883667 loss_line: 0.7436681985855103 acc: 1.0 acc_reg: 1.0 acc_line: 1.0: 100%|██████████| 319/319 [00:14<00:00, 21.91it/s]                                              \n",
      "[TRAIN 489, 1] loss: 0.17688137292861938 loss_reg: 0.2286584973335266 loss_line: 0.12510426342487335 acc: 0.1653645932674408 acc_reg: 0.1666666716337204 acc_line: 0.1640625:   1%|          | 2/319 [00:00<00:16, 19.64it/s]"
     ]
    },
    {
     "name": "stdout",
     "output_type": "stream",
     "text": [
      "[VALIDATION 488] val_acc: 0.9903310643564357 val_acc_reg: 0.9887066831683168 val_acc_line: 0.9919554455445545 \n"
     ]
    },
    {
     "name": "stderr",
     "output_type": "stream",
     "text": [
      "[TRAIN 489, 319] loss: 1.0578097105026245 loss_reg: 1.3719509840011597 loss_line: 0.743668258190155 acc: 1.0 acc_reg: 1.0 acc_line: 1.0: 100%|██████████| 319/319 [00:14<00:00, 21.93it/s]                                              \n",
      "[TRAIN 490, 1] loss: 0.17630159854888916 loss_reg: 0.2286584973335266 loss_line: 0.12394469976425171 acc: 0.1666666716337204 acc_reg: 0.1666666716337204 acc_line: 0.1666666716337204:   1%|          | 3/319 [00:00<00:14, 21.14it/s]"
     ]
    },
    {
     "name": "stdout",
     "output_type": "stream",
     "text": [
      "[VALIDATION 489] val_acc: 0.9912592821782178 val_acc_reg: 0.9885519801980198 val_acc_line: 0.9939665841584159 \n"
     ]
    },
    {
     "name": "stderr",
     "output_type": "stream",
     "text": [
      "[TRAIN 490, 319] loss: 1.0591118335723877 loss_reg: 1.3745551109313965 loss_line: 0.7436681985855103 acc: 0.9986979365348816 acc_reg: 0.9973958730697632 acc_line: 1.0: 100%|██████████| 319/319 [00:14<00:00, 21.90it/s]               \n",
      "[TRAIN 491, 1] loss: 0.17630159854888916 loss_reg: 0.2286584973335266 loss_line: 0.12394469976425171 acc: 0.1666666716337204 acc_reg: 0.1666666716337204 acc_line: 0.1666666716337204:   1%|          | 3/319 [00:00<00:14, 21.81it/s]"
     ]
    },
    {
     "name": "stdout",
     "output_type": "stream",
     "text": [
      "[VALIDATION 490] val_acc: 0.9902537128712872 val_acc_reg: 0.9880878712871287 val_acc_line: 0.9924195544554455 \n"
     ]
    },
    {
     "name": "stderr",
     "output_type": "stream",
     "text": [
      "[TRAIN 491, 319] loss: 1.0578097105026245 loss_reg: 1.3719509840011597 loss_line: 0.7436681985855103 acc: 1.0 acc_reg: 1.0 acc_line: 1.0: 100%|██████████| 319/319 [00:14<00:00, 21.91it/s]                                             \n",
      "[TRAIN 492, 1] loss: 0.17759929597377777 loss_reg: 0.23125389218330383 loss_line: 0.12394469976425171 acc: 0.1653645932674408 acc_reg: 0.1640625 acc_line: 0.1666666716337204:   1%|          | 3/319 [00:00<00:14, 21.90it/s]"
     ]
    },
    {
     "name": "stdout",
     "output_type": "stream",
     "text": [
      "[VALIDATION 491] val_acc: 0.9888613861386139 val_acc_reg: 0.9873143564356436 val_acc_line: 0.9904084158415841 \n"
     ]
    },
    {
     "name": "stderr",
     "output_type": "stream",
     "text": [
      "[TRAIN 492, 319] loss: 1.0578097105026245 loss_reg: 1.3719509840011597 loss_line: 0.743668258190155 acc: 1.0 acc_reg: 1.0 acc_line: 1.0: 100%|██████████| 319/319 [00:14<00:00, 21.93it/s]                                              \n",
      "[TRAIN 493, 1] loss: 0.17630159854888916 loss_reg: 0.2286584973335266 loss_line: 0.12394469976425171 acc: 0.1666666716337204 acc_reg: 0.1666666716337204 acc_line: 0.1666666716337204:   1%|          | 2/319 [00:00<00:16, 19.78it/s]"
     ]
    },
    {
     "name": "stdout",
     "output_type": "stream",
     "text": [
      "[VALIDATION 492] val_acc: 0.9892481435643564 val_acc_reg: 0.9868502475247525 val_acc_line: 0.9916460396039604 \n"
     ]
    },
    {
     "name": "stderr",
     "output_type": "stream",
     "text": [
      "[TRAIN 493, 319] loss: 1.0591118335723877 loss_reg: 1.3745551109313965 loss_line: 0.7436681985855103 acc: 0.9986979365348816 acc_reg: 0.9973958730697632 acc_line: 1.0: 100%|██████████| 319/319 [00:14<00:00, 21.88it/s]             \n",
      "[TRAIN 494, 1] loss: 0.17630159854888916 loss_reg: 0.2286584973335266 loss_line: 0.12394469976425171 acc: 0.1666666716337204 acc_reg: 0.1666666716337204 acc_line: 0.1666666716337204:   1%|          | 2/319 [00:00<00:16, 19.60it/s]"
     ]
    },
    {
     "name": "stdout",
     "output_type": "stream",
     "text": [
      "[VALIDATION 493] val_acc: 0.9918007425742574 val_acc_reg: 0.9888613861386139 val_acc_line: 0.994740099009901 \n"
     ]
    },
    {
     "name": "stderr",
     "output_type": "stream",
     "text": [
      "[TRAIN 494, 319] loss: 1.0590860843658447 loss_reg: 1.3745038509368896 loss_line: 0.7436681985855103 acc: 0.9986979365348816 acc_reg: 0.9973958730697632 acc_line: 1.0: 100%|██████████| 319/319 [00:14<00:00, 21.86it/s]               \n",
      "[TRAIN 495, 1] loss: 0.17630159854888916 loss_reg: 0.2286584973335266 loss_line: 0.12394469976425171 acc: 0.1666666716337204 acc_reg: 0.1666666716337204 acc_line: 0.1666666716337204:   1%|          | 3/319 [00:00<00:14, 21.10it/s]"
     ]
    },
    {
     "name": "stdout",
     "output_type": "stream",
     "text": [
      "[VALIDATION 494] val_acc: 0.9908725247524752 val_acc_reg: 0.9876237623762376 val_acc_line: 0.9941212871287128 \n"
     ]
    },
    {
     "name": "stderr",
     "output_type": "stream",
     "text": [
      "[TRAIN 495, 319] loss: 1.0578097105026245 loss_reg: 1.3719509840011597 loss_line: 0.7436681985855103 acc: 1.0 acc_reg: 1.0 acc_line: 1.0: 100%|██████████| 319/319 [00:14<00:00, 21.91it/s]                                             \n",
      "[TRAIN 496, 1] loss: 0.17630159854888916 loss_reg: 0.2286584973335266 loss_line: 0.12394469976425171 acc: 0.1666666716337204 acc_reg: 0.1666666716337204 acc_line: 0.1666666716337204:   1%|          | 3/319 [00:00<00:14, 22.05it/s]"
     ]
    },
    {
     "name": "stdout",
     "output_type": "stream",
     "text": [
      "[VALIDATION 495] val_acc: 0.9906404702970297 val_acc_reg: 0.9890160891089109 val_acc_line: 0.9922648514851485 \n"
     ]
    },
    {
     "name": "stderr",
     "output_type": "stream",
     "text": [
      "[TRAIN 496, 319] loss: 1.0578097105026245 loss_reg: 1.3719509840011597 loss_line: 0.7436681985855103 acc: 1.0 acc_reg: 1.0 acc_line: 1.0: 100%|██████████| 319/319 [00:14<00:00, 21.93it/s]                                             \n",
      "[TRAIN 497, 1] loss: 0.17630159854888916 loss_reg: 0.2286584973335266 loss_line: 0.12394469976425171 acc: 0.1666666716337204 acc_reg: 0.1666666716337204 acc_line: 0.1666666716337204:   1%|          | 2/319 [00:00<00:16, 19.16it/s]"
     ]
    },
    {
     "name": "stdout",
     "output_type": "stream",
     "text": [
      "[VALIDATION 496] val_acc: 0.9911819306930693 val_acc_reg: 0.9880878712871287 val_acc_line: 0.9942759900990099 \n"
     ]
    },
    {
     "name": "stderr",
     "output_type": "stream",
     "text": [
      "[TRAIN 497, 319] loss: 1.059112787246704 loss_reg: 1.3719533681869507 loss_line: 0.7462723255157471 acc: 0.9986979365348816 acc_reg: 1.0 acc_line: 0.9973958730697632: 100%|██████████| 319/319 [00:14<00:00, 21.86it/s]                \n",
      "[TRAIN 498, 1] loss: 0.17630159854888916 loss_reg: 0.2286584973335266 loss_line: 0.12394469976425171 acc: 0.1666666716337204 acc_reg: 0.1666666716337204 acc_line: 0.1666666716337204:   1%|          | 3/319 [00:00<00:14, 21.95it/s]"
     ]
    },
    {
     "name": "stdout",
     "output_type": "stream",
     "text": [
      "[VALIDATION 497] val_acc: 0.9911819306930693 val_acc_reg: 0.9887066831683168 val_acc_line: 0.9936571782178217 \n"
     ]
    },
    {
     "name": "stderr",
     "output_type": "stream",
     "text": [
      "[TRAIN 498, 319] loss: 1.0578097105026245 loss_reg: 1.3719509840011597 loss_line: 0.7436681985855103 acc: 1.0 acc_reg: 1.0 acc_line: 1.0: 100%|██████████| 319/319 [00:14<00:00, 21.83it/s]                                             \n",
      "[TRAIN 499, 1] loss: 0.17630159854888916 loss_reg: 0.2286584973335266 loss_line: 0.12394469976425171 acc: 0.1666666716337204 acc_reg: 0.1666666716337204 acc_line: 0.1666666716337204:   1%|          | 2/319 [00:00<00:17, 18.25it/s]"
     ]
    },
    {
     "name": "stdout",
     "output_type": "stream",
     "text": [
      "[VALIDATION 498] val_acc: 0.9926516089108911 val_acc_reg: 0.9914913366336634 val_acc_line: 0.9938118811881188 \n"
     ]
    },
    {
     "name": "stderr",
     "output_type": "stream",
     "text": [
      "[TRAIN 499, 319] loss: 1.0578097105026245 loss_reg: 1.3719509840011597 loss_line: 0.7436681985855103 acc: 1.0 acc_reg: 1.0 acc_line: 1.0: 100%|██████████| 319/319 [00:14<00:00, 21.76it/s]                                             \n",
      "[TRAIN 500, 1] loss: 0.17630159854888916 loss_reg: 0.2286584973335266 loss_line: 0.12394469976425171 acc: 0.1666666716337204 acc_reg: 0.1666666716337204 acc_line: 0.1666666716337204:   1%|          | 2/319 [00:00<00:16, 18.85it/s]"
     ]
    },
    {
     "name": "stdout",
     "output_type": "stream",
     "text": [
      "[VALIDATION 499] val_acc: 0.9928836633663366 val_acc_reg: 0.9914913366336634 val_acc_line: 0.9942759900990099 \n"
     ]
    },
    {
     "name": "stderr",
     "output_type": "stream",
     "text": [
      "[TRAIN 500, 319] loss: 1.0578289031982422 loss_reg: 1.371959924697876 loss_line: 0.7436978220939636 acc: 1.0 acc_reg: 1.0 acc_line: 1.0: 100%|██████████| 319/319 [00:14<00:00, 21.93it/s]                                              \n",
      "[TRAIN 501, 1] loss: 0.17630159854888916 loss_reg: 0.2286584973335266 loss_line: 0.12394469976425171 acc: 0.1666666716337204 acc_reg: 0.1666666716337204 acc_line: 0.1666666716337204:   1%|          | 3/319 [00:00<00:13, 23.23it/s]"
     ]
    },
    {
     "name": "stdout",
     "output_type": "stream",
     "text": [
      "[VALIDATION 500] val_acc: 0.9913366336633663 val_acc_reg: 0.9887066831683168 val_acc_line: 0.9939665841584159 \n"
     ]
    },
    {
     "name": "stderr",
     "output_type": "stream",
     "text": [
      "[TRAIN 501, 319] loss: 1.0591118335723877 loss_reg: 1.3745553493499756 loss_line: 0.7436681985855103 acc: 0.9986979365348816 acc_reg: 0.9973958730697632 acc_line: 1.0: 100%|██████████| 319/319 [00:14<00:00, 21.91it/s]               \n",
      "[TRAIN 502, 1] loss: 0.17630159854888916 loss_reg: 0.2286584973335266 loss_line: 0.12394469976425171 acc: 0.1666666716337204 acc_reg: 0.1666666716337204 acc_line: 0.1666666716337204:   1%|          | 2/319 [00:00<00:16, 18.79it/s]"
     ]
    },
    {
     "name": "stdout",
     "output_type": "stream",
     "text": [
      "[VALIDATION 501] val_acc: 0.9898669554455446 val_acc_reg: 0.9863861386138614 val_acc_line: 0.9933477722772277 \n"
     ]
    },
    {
     "name": "stderr",
     "output_type": "stream",
     "text": [
      "[TRAIN 502, 319] loss: 1.0591161251068115 loss_reg: 1.3745551109313965 loss_line: 0.7436768412590027 acc: 0.9986979365348816 acc_reg: 0.9973958730697632 acc_line: 1.0: 100%|██████████| 319/319 [00:14<00:00, 21.92it/s]               \n",
      "[TRAIN 503, 1] loss: 0.17630159854888916 loss_reg: 0.2286584973335266 loss_line: 0.12394469976425171 acc: 0.1666666716337204 acc_reg: 0.1666666716337204 acc_line: 0.1666666716337204:   1%|          | 2/319 [00:00<00:16, 18.97it/s]"
     ]
    },
    {
     "name": "stdout",
     "output_type": "stream",
     "text": [
      "[VALIDATION 502] val_acc: 0.9906404702970297 val_acc_reg: 0.9883972772277227 val_acc_line: 0.9928836633663366 \n"
     ]
    },
    {
     "name": "stderr",
     "output_type": "stream",
     "text": [
      "[TRAIN 503, 319] loss: 1.0591118335723877 loss_reg: 1.3719509840011597 loss_line: 0.7462723255157471 acc: 0.9986979365348816 acc_reg: 1.0 acc_line: 0.9973958730697632: 100%|██████████| 319/319 [00:14<00:00, 21.77it/s]               \n",
      "[TRAIN 504, 1] loss: 0.17630159854888916 loss_reg: 0.2286584973335266 loss_line: 0.12394469976425171 acc: 0.1666666716337204 acc_reg: 0.1666666716337204 acc_line: 0.1666666716337204:   1%|          | 2/319 [00:00<00:15, 19.95it/s]"
     ]
    },
    {
     "name": "stdout",
     "output_type": "stream",
     "text": [
      "[VALIDATION 503] val_acc: 0.9928063118811881 val_acc_reg: 0.9911819306930693 val_acc_line: 0.994430693069307 \n"
     ]
    },
    {
     "name": "stderr",
     "output_type": "stream",
     "text": [
      "[TRAIN 504, 319] loss: 1.0578097105026245 loss_reg: 1.3719509840011597 loss_line: 0.7436681985855103 acc: 1.0 acc_reg: 1.0 acc_line: 1.0: 100%|██████████| 319/319 [00:14<00:00, 21.84it/s]                                             \n",
      "[TRAIN 505, 1] loss: 0.17890577018260956 loss_reg: 0.2338668406009674 loss_line: 0.12394469976425171 acc: 0.1640625 acc_reg: 0.1614583432674408 acc_line: 0.1666666716337204:   1%|          | 3/319 [00:00<00:15, 20.68it/s]"
     ]
    },
    {
     "name": "stdout",
     "output_type": "stream",
     "text": [
      "[VALIDATION 504] val_acc: 0.9922648514851485 val_acc_reg: 0.9911819306930693 val_acc_line: 0.9933477722772277 \n"
     ]
    },
    {
     "name": "stderr",
     "output_type": "stream",
     "text": [
      "[TRAIN 505, 319] loss: 1.0578216314315796 loss_reg: 1.3719509840011597 loss_line: 0.74369215965271 acc: 1.0 acc_reg: 1.0 acc_line: 1.0: 100%|██████████| 319/319 [00:14<00:00, 21.95it/s]                                               \n",
      "[TRAIN 506, 1] loss: 0.17630159854888916 loss_reg: 0.2286584973335266 loss_line: 0.12394469976425171 acc: 0.1666666716337204 acc_reg: 0.1666666716337204 acc_line: 0.1666666716337204:   1%|          | 3/319 [00:00<00:14, 22.24it/s]"
     ]
    },
    {
     "name": "stdout",
     "output_type": "stream",
     "text": [
      "[VALIDATION 505] val_acc: 0.9900990099009901 val_acc_reg: 0.9880878712871287 val_acc_line: 0.9921101485148515 \n"
     ]
    },
    {
     "name": "stderr",
     "output_type": "stream",
     "text": [
      "[TRAIN 506, 319] loss: 1.0578097105026245 loss_reg: 1.3719509840011597 loss_line: 0.7436681985855103 acc: 1.0 acc_reg: 1.0 acc_line: 1.0: 100%|██████████| 319/319 [00:14<00:00, 21.89it/s]                                             \n",
      "[TRAIN 507, 1] loss: 0.17630159854888916 loss_reg: 0.2286584973335266 loss_line: 0.12394469976425171 acc: 0.1666666716337204 acc_reg: 0.1666666716337204 acc_line: 0.1666666716337204:   1%|          | 3/319 [00:00<00:14, 22.11it/s]"
     ]
    },
    {
     "name": "stdout",
     "output_type": "stream",
     "text": [
      "[VALIDATION 506] val_acc: 0.9915686881188119 val_acc_reg: 0.989325495049505 val_acc_line: 0.9938118811881188 \n"
     ]
    },
    {
     "name": "stderr",
     "output_type": "stream",
     "text": [
      "[TRAIN 507, 319] loss: 1.0591118335723877 loss_reg: 1.3745553493499756 loss_line: 0.7436681985855103 acc: 0.9986979365348816 acc_reg: 0.9973958730697632 acc_line: 1.0: 100%|██████████| 319/319 [00:14<00:00, 22.16it/s]               \n",
      "[TRAIN 508, 1] loss: 0.17630159854888916 loss_reg: 0.2286584973335266 loss_line: 0.12394469976425171 acc: 0.1666666716337204 acc_reg: 0.1666666716337204 acc_line: 0.1666666716337204:   1%|          | 3/319 [00:00<00:14, 22.52it/s]"
     ]
    },
    {
     "name": "stdout",
     "output_type": "stream",
     "text": [
      "[VALIDATION 507] val_acc: 0.9906404702970297 val_acc_reg: 0.9871596534653465 val_acc_line: 0.9941212871287128 \n"
     ]
    },
    {
     "name": "stderr",
     "output_type": "stream",
     "text": [
      "[TRAIN 508, 319] loss: 1.063913345336914 loss_reg: 1.3822859525680542 loss_line: 0.7455406188964844 acc: 0.9934896230697632 acc_reg: 0.9895833730697632 acc_line: 0.9973958730697632: 100%|██████████| 319/319 [00:14<00:00, 22.04it/s]\n",
      "[TRAIN 509, 1] loss: 0.1763017475605011 loss_reg: 0.2286584973335266 loss_line: 0.1239449679851532 acc: 0.1666666716337204 acc_reg: 0.1666666716337204 acc_line: 0.1666666716337204:   1%|          | 3/319 [00:00<00:13, 23.57it/s]"
     ]
    },
    {
     "name": "stdout",
     "output_type": "stream",
     "text": [
      "[VALIDATION 508] val_acc: 0.9886293316831684 val_acc_reg: 0.9849938118811881 val_acc_line: 0.9922648514851485 \n"
     ]
    },
    {
     "name": "stderr",
     "output_type": "stream",
     "text": [
      "[TRAIN 509, 319] loss: 1.0584276914596558 loss_reg: 1.3719509840011597 loss_line: 0.7449043989181519 acc: 0.9986979365348816 acc_reg: 1.0 acc_line: 0.9973958730697632: 100%|██████████| 319/319 [00:14<00:00, 21.96it/s]               \n",
      "[TRAIN 510, 1] loss: 0.17630159854888916 loss_reg: 0.2286584973335266 loss_line: 0.12394469976425171 acc: 0.1666666716337204 acc_reg: 0.1666666716337204 acc_line: 0.1666666716337204:   1%|          | 3/319 [00:00<00:15, 20.79it/s]"
     ]
    },
    {
     "name": "stdout",
     "output_type": "stream",
     "text": [
      "[VALIDATION 509] val_acc: 0.9921101485148515 val_acc_reg: 0.9904084158415841 val_acc_line: 0.9938118811881188 \n"
     ]
    },
    {
     "name": "stderr",
     "output_type": "stream",
     "text": [
      "[TRAIN 510, 319] loss: 1.0591118335723877 loss_reg: 1.3719509840011597 loss_line: 0.7462723255157471 acc: 0.9986979365348816 acc_reg: 1.0 acc_line: 0.9973958730697632: 100%|██████████| 319/319 [00:14<00:00, 21.97it/s]               \n",
      "[TRAIN 511, 1] loss: 0.17630159854888916 loss_reg: 0.2286584973335266 loss_line: 0.12394469976425171 acc: 0.1666666716337204 acc_reg: 0.1666666716337204 acc_line: 0.1666666716337204:   1%|          | 3/319 [00:00<00:15, 20.14it/s]"
     ]
    },
    {
     "name": "stdout",
     "output_type": "stream",
     "text": [
      "[VALIDATION 510] val_acc: 0.9927289603960396 val_acc_reg: 0.9910272277227723 val_acc_line: 0.994430693069307 \n"
     ]
    },
    {
     "name": "stderr",
     "output_type": "stream",
     "text": [
      "[TRAIN 511, 319] loss: 1.0584129095077515 loss_reg: 1.3719509840011597 loss_line: 0.7448745965957642 acc: 0.9986979365348816 acc_reg: 1.0 acc_line: 0.9973958730697632: 100%|██████████| 319/319 [00:14<00:00, 21.89it/s]               \n",
      "[TRAIN 512, 1] loss: 0.17630159854888916 loss_reg: 0.2286584973335266 loss_line: 0.12394469976425171 acc: 0.1666666716337204 acc_reg: 0.1666666716337204 acc_line: 0.1666666716337204:   1%|          | 2/319 [00:00<00:15, 19.97it/s]"
     ]
    },
    {
     "name": "stdout",
     "output_type": "stream",
     "text": [
      "[VALIDATION 511] val_acc: 0.9924195544554455 val_acc_reg: 0.9904084158415841 val_acc_line: 0.994430693069307 \n"
     ]
    },
    {
     "name": "stderr",
     "output_type": "stream",
     "text": [
      "[TRAIN 512, 319] loss: 1.0591118335723877 loss_reg: 1.3745551109313965 loss_line: 0.7436681985855103 acc: 0.9986979365348816 acc_reg: 0.9973958730697632 acc_line: 1.0: 100%|██████████| 319/319 [00:14<00:00, 21.97it/s]               \n",
      "[TRAIN 513, 1] loss: 0.17630159854888916 loss_reg: 0.2286584973335266 loss_line: 0.12394469976425171 acc: 0.1666666716337204 acc_reg: 0.1666666716337204 acc_line: 0.1666666716337204:   1%|          | 2/319 [00:00<00:16, 19.42it/s]"
     ]
    },
    {
     "name": "stdout",
     "output_type": "stream",
     "text": [
      "[VALIDATION 512] val_acc: 0.9928063118811881 val_acc_reg: 0.9919554455445545 val_acc_line: 0.9936571782178217 \n"
     ]
    },
    {
     "name": "stderr",
     "output_type": "stream",
     "text": [
      "[TRAIN 513, 319] loss: 1.0591092109680176 loss_reg: 1.374550223350525 loss_line: 0.7436681985855103 acc: 0.9986979365348816 acc_reg: 0.9973958730697632 acc_line: 1.0: 100%|██████████| 319/319 [00:14<00:00, 22.03it/s]                \n",
      "[TRAIN 514, 1] loss: 0.17630159854888916 loss_reg: 0.2286584973335266 loss_line: 0.12394469976425171 acc: 0.1666666716337204 acc_reg: 0.1666666716337204 acc_line: 0.1666666716337204:   1%|          | 2/319 [00:00<00:17, 17.68it/s]"
     ]
    },
    {
     "name": "stdout",
     "output_type": "stream",
     "text": [
      "[VALIDATION 513] val_acc: 0.9933477722772277 val_acc_reg: 0.9914913366336634 val_acc_line: 0.9952042079207921 \n"
     ]
    },
    {
     "name": "stderr",
     "output_type": "stream",
     "text": [
      "[TRAIN 514, 319] loss: 1.0590896606445312 loss_reg: 1.3745110034942627 loss_line: 0.7436681985855103 acc: 0.9986979365348816 acc_reg: 0.9973958730697632 acc_line: 1.0: 100%|██████████| 319/319 [00:14<00:00, 21.93it/s]               \n",
      "[TRAIN 515, 1] loss: 0.17630159854888916 loss_reg: 0.2286584973335266 loss_line: 0.12394469976425171 acc: 0.1666666716337204 acc_reg: 0.1666666716337204 acc_line: 0.1666666716337204:   1%|          | 3/319 [00:00<00:14, 21.59it/s]"
     ]
    },
    {
     "name": "stdout",
     "output_type": "stream",
     "text": [
      "[VALIDATION 514] val_acc: 0.9914913366336634 val_acc_reg: 0.9910272277227723 val_acc_line: 0.9919554455445545 \n"
     ]
    },
    {
     "name": "stderr",
     "output_type": "stream",
     "text": [
      "[TRAIN 515, 319] loss: 1.0604143142700195 loss_reg: 1.374556064605713 loss_line: 0.7462723255157471 acc: 0.9973958730697632 acc_reg: 0.9973958730697632 acc_line: 0.9973958730697632: 100%|██████████| 319/319 [00:14<00:00, 21.96it/s] \n",
      "[TRAIN 516, 1] loss: 0.17630159854888916 loss_reg: 0.2286584973335266 loss_line: 0.12394469976425171 acc: 0.1666666716337204 acc_reg: 0.1666666716337204 acc_line: 0.1666666716337204:   1%|          | 2/319 [00:00<00:16, 19.81it/s]"
     ]
    },
    {
     "name": "stdout",
     "output_type": "stream",
     "text": [
      "[VALIDATION 515] val_acc: 0.9912592821782178 val_acc_reg: 0.989944306930693 val_acc_line: 0.9925742574257426 \n"
     ]
    },
    {
     "name": "stderr",
     "output_type": "stream",
     "text": [
      "[TRAIN 516, 319] loss: 1.0578097105026245 loss_reg: 1.3719509840011597 loss_line: 0.7436681985855103 acc: 1.0 acc_reg: 1.0 acc_line: 1.0: 100%|██████████| 319/319 [00:14<00:00, 21.77it/s]                                             \n",
      "[TRAIN 517, 1] loss: 0.17630159854888916 loss_reg: 0.2286584973335266 loss_line: 0.12394469976425171 acc: 0.1666666716337204 acc_reg: 0.1666666716337204 acc_line: 0.1666666716337204:   1%|          | 3/319 [00:00<00:14, 21.61it/s]"
     ]
    },
    {
     "name": "stdout",
     "output_type": "stream",
     "text": [
      "[VALIDATION 516] val_acc: 0.9922648514851485 val_acc_reg: 0.9914913366336634 val_acc_line: 0.9930383663366337 \n"
     ]
    },
    {
     "name": "stderr",
     "output_type": "stream",
     "text": [
      "[TRAIN 517, 319] loss: 1.0578097105026245 loss_reg: 1.3719511032104492 loss_line: 0.7436683177947998 acc: 1.0 acc_reg: 1.0 acc_line: 1.0: 100%|██████████| 319/319 [00:14<00:00, 21.93it/s]                                             \n",
      "[TRAIN 518, 1] loss: 0.17630159854888916 loss_reg: 0.2286584973335266 loss_line: 0.12394469976425171 acc: 0.1666666716337204 acc_reg: 0.1666666716337204 acc_line: 0.1666666716337204:   1%|          | 3/319 [00:00<00:14, 21.74it/s]"
     ]
    },
    {
     "name": "stdout",
     "output_type": "stream",
     "text": [
      "[VALIDATION 517] val_acc: 0.9908725247524752 val_acc_reg: 0.9885519801980198 val_acc_line: 0.9931930693069307 \n"
     ]
    },
    {
     "name": "stderr",
     "output_type": "stream",
     "text": [
      "[TRAIN 518, 319] loss: 1.0578300952911377 loss_reg: 1.3719916343688965 loss_line: 0.743668258190155 acc: 1.0 acc_reg: 1.0 acc_line: 1.0: 100%|██████████| 319/319 [00:14<00:00, 21.97it/s]                                             \n",
      "[TRAIN 519, 1] loss: 0.17630159854888916 loss_reg: 0.2286584973335266 loss_line: 0.12394469976425171 acc: 0.1666666716337204 acc_reg: 0.1666666716337204 acc_line: 0.1666666716337204:   1%|          | 2/319 [00:00<00:16, 19.81it/s]"
     ]
    },
    {
     "name": "stdout",
     "output_type": "stream",
     "text": [
      "[VALIDATION 518] val_acc: 0.9923422029702971 val_acc_reg: 0.9908725247524752 val_acc_line: 0.9938118811881188 \n"
     ]
    },
    {
     "name": "stderr",
     "output_type": "stream",
     "text": [
      "[TRAIN 519, 319] loss: 1.0579521656036377 loss_reg: 1.371954321861267 loss_line: 0.7439498901367188 acc: 1.0 acc_reg: 1.0 acc_line: 1.0: 100%|██████████| 319/319 [00:14<00:00, 21.95it/s]                                              \n",
      "[TRAIN 520, 1] loss: 0.17630159854888916 loss_reg: 0.228658527135849 loss_line: 0.12394469976425171 acc: 0.1666666716337204 acc_reg: 0.1666666716337204 acc_line: 0.1666666716337204:   1%|          | 3/319 [00:00<00:14, 21.81it/s]"
     ]
    },
    {
     "name": "stdout",
     "output_type": "stream",
     "text": [
      "[VALIDATION 519] val_acc: 0.9914139851485149 val_acc_reg: 0.989480198019802 val_acc_line: 0.9933477722772277 \n"
     ]
    },
    {
     "name": "stderr",
     "output_type": "stream",
     "text": [
      "[TRAIN 520, 319] loss: 1.0591118335723877 loss_reg: 1.3745551109313965 loss_line: 0.7436681985855103 acc: 0.9986979365348816 acc_reg: 0.9973958730697632 acc_line: 1.0: 100%|██████████| 319/319 [00:14<00:00, 22.01it/s]               \n",
      "[TRAIN 521, 1] loss: 0.17630159854888916 loss_reg: 0.2286584973335266 loss_line: 0.12394469976425171 acc: 0.1666666716337204 acc_reg: 0.1666666716337204 acc_line: 0.1666666716337204:   1%|          | 3/319 [00:00<00:13, 22.80it/s]"
     ]
    },
    {
     "name": "stdout",
     "output_type": "stream",
     "text": [
      "[VALIDATION 520] val_acc: 0.9906404702970297 val_acc_reg: 0.9883972772277227 val_acc_line: 0.9928836633663366 \n"
     ]
    },
    {
     "name": "stderr",
     "output_type": "stream",
     "text": [
      "[TRAIN 521, 319] loss: 1.0578144788742065 loss_reg: 1.3719606399536133 loss_line: 0.7436681985855103 acc: 1.0 acc_reg: 1.0 acc_line: 1.0: 100%|██████████| 319/319 [00:14<00:00, 21.92it/s]                                             \n",
      "[TRAIN 522, 1] loss: 0.17630159854888916 loss_reg: 0.2286584973335266 loss_line: 0.12394469976425171 acc: 0.1666666716337204 acc_reg: 0.1666666716337204 acc_line: 0.1666666716337204:   1%|          | 2/319 [00:00<00:15, 19.98it/s]"
     ]
    },
    {
     "name": "stdout",
     "output_type": "stream",
     "text": [
      "[VALIDATION 521] val_acc: 0.9915686881188119 val_acc_reg: 0.9888613861386139 val_acc_line: 0.9942759900990099 \n"
     ]
    },
    {
     "name": "stderr",
     "output_type": "stream",
     "text": [
      "[TRAIN 522, 319] loss: 1.0587139129638672 loss_reg: 1.3737596273422241 loss_line: 0.7436681985855103 acc: 0.9986979365348816 acc_reg: 0.9973958730697632 acc_line: 1.0: 100%|██████████| 319/319 [00:14<00:00, 21.93it/s]               \n",
      "[TRAIN 523, 1] loss: 0.17630159854888916 loss_reg: 0.2286584973335266 loss_line: 0.12394469976425171 acc: 0.1666666716337204 acc_reg: 0.1666666716337204 acc_line: 0.1666666716337204:   1%|          | 3/319 [00:00<00:14, 21.29it/s]"
     ]
    },
    {
     "name": "stdout",
     "output_type": "stream",
     "text": [
      "[VALIDATION 522] val_acc: 0.9904084158415841 val_acc_reg: 0.9874690594059405 val_acc_line: 0.9933477722772277 \n"
     ]
    },
    {
     "name": "stderr",
     "output_type": "stream",
     "text": [
      "[TRAIN 523, 319] loss: 1.0591118335723877 loss_reg: 1.3745551109313965 loss_line: 0.7436681985855103 acc: 0.9986979365348816 acc_reg: 0.9973958730697632 acc_line: 1.0: 100%|██████████| 319/319 [00:14<00:00, 21.99it/s]               \n",
      "[TRAIN 524, 1] loss: 0.17630159854888916 loss_reg: 0.2286584973335266 loss_line: 0.12394469976425171 acc: 0.1666666716337204 acc_reg: 0.1666666716337204 acc_line: 0.1666666716337204:   1%|          | 3/319 [00:00<00:14, 21.54it/s]"
     ]
    },
    {
     "name": "stdout",
     "output_type": "stream",
     "text": [
      "[VALIDATION 523] val_acc: 0.9930383663366337 val_acc_reg: 0.9914913366336634 val_acc_line: 0.9945853960396039 \n"
     ]
    },
    {
     "name": "stderr",
     "output_type": "stream",
     "text": [
      "[TRAIN 524, 319] loss: 1.0591118335723877 loss_reg: 1.3745551109313965 loss_line: 0.7436681985855103 acc: 0.9986979365348816 acc_reg: 0.9973958730697632 acc_line: 1.0: 100%|██████████| 319/319 [00:14<00:00, 22.10it/s]               \n",
      "[TRAIN 525, 1] loss: 0.17630159854888916 loss_reg: 0.2286584973335266 loss_line: 0.12394469976425171 acc: 0.1666666716337204 acc_reg: 0.1666666716337204 acc_line: 0.1666666716337204:   1%|          | 2/319 [00:00<00:16, 19.03it/s]"
     ]
    },
    {
     "name": "stdout",
     "output_type": "stream",
     "text": [
      "[VALIDATION 524] val_acc: 0.9909498762376238 val_acc_reg: 0.9882425742574258 val_acc_line: 0.9936571782178217 \n"
     ]
    },
    {
     "name": "stderr",
     "output_type": "stream",
     "text": [
      "[TRAIN 525, 319] loss: 1.0591118335723877 loss_reg: 1.3719509840011597 loss_line: 0.7462724447250366 acc: 0.9986979365348816 acc_reg: 1.0 acc_line: 0.9973958730697632: 100%|██████████| 319/319 [00:14<00:00, 22.12it/s]              \n",
      "[TRAIN 526, 1] loss: 0.17630159854888916 loss_reg: 0.2286584973335266 loss_line: 0.12394469976425171 acc: 0.1666666716337204 acc_reg: 0.1666666716337204 acc_line: 0.1666666716337204:   1%|          | 2/319 [00:00<00:15, 19.85it/s]"
     ]
    },
    {
     "name": "stdout",
     "output_type": "stream",
     "text": [
      "[VALIDATION 525] val_acc: 0.9905631188118812 val_acc_reg: 0.9880878712871287 val_acc_line: 0.9930383663366337 \n"
     ]
    },
    {
     "name": "stderr",
     "output_type": "stream",
     "text": [
      "[TRAIN 526, 319] loss: 1.0591118335723877 loss_reg: 1.3745553493499756 loss_line: 0.7436681985855103 acc: 0.9986979365348816 acc_reg: 0.9973958730697632 acc_line: 1.0: 100%|██████████| 319/319 [00:14<00:00, 21.93it/s]               \n",
      "[TRAIN 527, 1] loss: 0.17630159854888916 loss_reg: 0.2286584973335266 loss_line: 0.12394469976425171 acc: 0.1666666716337204 acc_reg: 0.1666666716337204 acc_line: 0.1666666716337204:   1%|          | 3/319 [00:00<00:13, 22.97it/s]"
     ]
    },
    {
     "name": "stdout",
     "output_type": "stream",
     "text": [
      "[VALIDATION 526] val_acc: 0.9909498762376238 val_acc_reg: 0.989480198019802 val_acc_line: 0.9924195544554455 \n"
     ]
    },
    {
     "name": "stderr",
     "output_type": "stream",
     "text": [
      "[TRAIN 527, 319] loss: 1.0578097105026245 loss_reg: 1.3719509840011597 loss_line: 0.7436681985855103 acc: 1.0 acc_reg: 1.0 acc_line: 1.0: 100%|██████████| 319/319 [00:14<00:00, 21.98it/s]                                             \n",
      "[TRAIN 528, 1] loss: 0.17630159854888916 loss_reg: 0.2286584973335266 loss_line: 0.12394469976425171 acc: 0.1666666716337204 acc_reg: 0.1666666716337204 acc_line: 0.1666666716337204:   1%|          | 3/319 [00:00<00:13, 22.75it/s]"
     ]
    },
    {
     "name": "stdout",
     "output_type": "stream",
     "text": [
      "[VALIDATION 527] val_acc: 0.9906404702970297 val_acc_reg: 0.989325495049505 val_acc_line: 0.9919554455445545 \n"
     ]
    },
    {
     "name": "stderr",
     "output_type": "stream",
     "text": [
      "[TRAIN 528, 319] loss: 1.0578211545944214 loss_reg: 1.3719513416290283 loss_line: 0.7436909079551697 acc: 1.0 acc_reg: 1.0 acc_line: 1.0: 100%|██████████| 319/319 [00:14<00:00, 21.77it/s]                                             \n",
      "[TRAIN 529, 1] loss: 0.17630159854888916 loss_reg: 0.2286584973335266 loss_line: 0.12394469976425171 acc: 0.1666666716337204 acc_reg: 0.1666666716337204 acc_line: 0.1666666716337204:   1%|          | 2/319 [00:00<00:18, 17.29it/s]"
     ]
    },
    {
     "name": "stdout",
     "output_type": "stream",
     "text": [
      "[VALIDATION 528] val_acc: 0.9900990099009901 val_acc_reg: 0.9885519801980198 val_acc_line: 0.9916460396039604 \n"
     ]
    },
    {
     "name": "stderr",
     "output_type": "stream",
     "text": [
      "[TRAIN 529, 319] loss: 1.0591129064559937 loss_reg: 1.3719532489776611 loss_line: 0.7462723255157471 acc: 0.9986979365348816 acc_reg: 1.0 acc_line: 0.9973958730697632: 100%|██████████| 319/319 [00:14<00:00, 21.80it/s]               \n",
      "[TRAIN 530, 1] loss: 0.17760369181632996 loss_reg: 0.2312626838684082 loss_line: 0.12394469976425171 acc: 0.1653645932674408 acc_reg: 0.1640625 acc_line: 0.1666666716337204:   1%|          | 3/319 [00:00<00:14, 21.14it/s]"
     ]
    },
    {
     "name": "stdout",
     "output_type": "stream",
     "text": [
      "[VALIDATION 529] val_acc: 0.9880878712871287 val_acc_reg: 0.9849938118811881 val_acc_line: 0.9911819306930693 \n"
     ]
    },
    {
     "name": "stderr",
     "output_type": "stream",
     "text": [
      "[TRAIN 530, 319] loss: 1.0578097105026245 loss_reg: 1.3719509840011597 loss_line: 0.7436681985855103 acc: 1.0 acc_reg: 1.0 acc_line: 1.0: 100%|██████████| 319/319 [00:14<00:00, 21.85it/s]                                             \n",
      "[TRAIN 531, 1] loss: 0.17630159854888916 loss_reg: 0.2286584973335266 loss_line: 0.12394469976425171 acc: 0.1666666716337204 acc_reg: 0.1666666716337204 acc_line: 0.1666666716337204:   1%|          | 3/319 [00:00<00:14, 22.03it/s]"
     ]
    },
    {
     "name": "stdout",
     "output_type": "stream",
     "text": [
      "[VALIDATION 530] val_acc: 0.9887840346534653 val_acc_reg: 0.9856126237623762 val_acc_line: 0.9919554455445545 \n"
     ]
    },
    {
     "name": "stderr",
     "output_type": "stream",
     "text": [
      "[TRAIN 531, 319] loss: 1.0578097105026245 loss_reg: 1.3719509840011597 loss_line: 0.7436681985855103 acc: 1.0 acc_reg: 1.0 acc_line: 1.0: 100%|██████████| 319/319 [00:14<00:00, 21.89it/s]                                             \n",
      "[TRAIN 532, 1] loss: 0.17630159854888916 loss_reg: 0.2286584973335266 loss_line: 0.12394469976425171 acc: 0.1666666716337204 acc_reg: 0.1666666716337204 acc_line: 0.1666666716337204:   1%|          | 3/319 [00:00<00:14, 22.25it/s]"
     ]
    },
    {
     "name": "stdout",
     "output_type": "stream",
     "text": [
      "[VALIDATION 531] val_acc: 0.9890934405940595 val_acc_reg: 0.9880878712871287 val_acc_line: 0.9900990099009901 \n"
     ]
    },
    {
     "name": "stderr",
     "output_type": "stream",
     "text": [
      "[TRAIN 532, 319] loss: 1.0578097105026245 loss_reg: 1.3719511032104492 loss_line: 0.7436681985855103 acc: 1.0 acc_reg: 1.0 acc_line: 1.0: 100%|██████████| 319/319 [00:14<00:00, 21.92it/s]                                             \n",
      "[TRAIN 533, 1] loss: 0.17630159854888916 loss_reg: 0.2286584973335266 loss_line: 0.12394469976425171 acc: 0.1666666716337204 acc_reg: 0.1666666716337204 acc_line: 0.1666666716337204:   1%|          | 2/319 [00:00<00:16, 18.75it/s]"
     ]
    },
    {
     "name": "stdout",
     "output_type": "stream",
     "text": [
      "[VALIDATION 532] val_acc: 0.9914139851485149 val_acc_reg: 0.9890160891089109 val_acc_line: 0.9938118811881188 \n"
     ]
    },
    {
     "name": "stderr",
     "output_type": "stream",
     "text": [
      "[TRAIN 533, 319] loss: 1.0578097105026245 loss_reg: 1.3719511032104492 loss_line: 0.7436681985855103 acc: 1.0 acc_reg: 1.0 acc_line: 1.0: 100%|██████████| 319/319 [00:14<00:00, 21.88it/s]                                             \n",
      "[TRAIN 534, 1] loss: 0.17630159854888916 loss_reg: 0.2286584973335266 loss_line: 0.12394469976425171 acc: 0.1666666716337204 acc_reg: 0.1666666716337204 acc_line: 0.1666666716337204:   1%|          | 3/319 [00:00<00:14, 21.13it/s]"
     ]
    },
    {
     "name": "stdout",
     "output_type": "stream",
     "text": [
      "[VALIDATION 533] val_acc: 0.9900216584158416 val_acc_reg: 0.9874690594059405 val_acc_line: 0.9925742574257426 \n"
     ]
    },
    {
     "name": "stderr",
     "output_type": "stream",
     "text": [
      "[TRAIN 534, 319] loss: 1.0578097105026245 loss_reg: 1.3719509840011597 loss_line: 0.7436681985855103 acc: 1.0 acc_reg: 1.0 acc_line: 1.0: 100%|██████████| 319/319 [00:14<00:00, 21.84it/s]                                             \n",
      "[TRAIN 535, 1] loss: 0.17630164325237274 loss_reg: 0.22865858674049377 loss_line: 0.1239447146654129 acc: 0.1666666716337204 acc_reg: 0.1666666716337204 acc_line: 0.1666666716337204:   1%|          | 2/319 [00:00<00:16, 19.09it/s]"
     ]
    },
    {
     "name": "stdout",
     "output_type": "stream",
     "text": [
      "[VALIDATION 534] val_acc: 0.989944306930693 val_acc_reg: 0.9883972772277227 val_acc_line: 0.9914913366336634 \n"
     ]
    },
    {
     "name": "stderr",
     "output_type": "stream",
     "text": [
      "[TRAIN 535, 319] loss: 1.0578097105026245 loss_reg: 1.3719511032104492 loss_line: 0.7436681985855103 acc: 1.0 acc_reg: 1.0 acc_line: 1.0: 100%|██████████| 319/319 [00:14<00:00, 21.98it/s]                                             \n",
      "[TRAIN 536, 1] loss: 0.17630159854888916 loss_reg: 0.2286584973335266 loss_line: 0.12394469976425171 acc: 0.1666666716337204 acc_reg: 0.1666666716337204 acc_line: 0.1666666716337204:   1%|          | 2/319 [00:00<00:16, 19.51it/s]"
     ]
    },
    {
     "name": "stdout",
     "output_type": "stream",
     "text": [
      "[VALIDATION 535] val_acc: 0.9919554455445545 val_acc_reg: 0.9907178217821783 val_acc_line: 0.9931930693069307 \n"
     ]
    },
    {
     "name": "stderr",
     "output_type": "stream",
     "text": [
      "[TRAIN 536, 319] loss: 1.0578097105026245 loss_reg: 1.3719509840011597 loss_line: 0.7436681985855103 acc: 1.0 acc_reg: 1.0 acc_line: 1.0: 100%|██████████| 319/319 [00:14<00:00, 21.96it/s]                                             \n",
      "[TRAIN 537, 1] loss: 0.17630159854888916 loss_reg: 0.2286584973335266 loss_line: 0.12394469976425171 acc: 0.1666666716337204 acc_reg: 0.1666666716337204 acc_line: 0.1666666716337204:   1%|          | 2/319 [00:00<00:16, 18.70it/s]"
     ]
    },
    {
     "name": "stdout",
     "output_type": "stream",
     "text": [
      "[VALIDATION 536] val_acc: 0.9908725247524752 val_acc_reg: 0.9887066831683168 val_acc_line: 0.9930383663366337 \n"
     ]
    },
    {
     "name": "stderr",
     "output_type": "stream",
     "text": [
      "[TRAIN 537, 319] loss: 1.0591118335723877 loss_reg: 1.3745551109313965 loss_line: 0.7436684370040894 acc: 0.9986979365348816 acc_reg: 0.9973958730697632 acc_line: 1.0: 100%|██████████| 319/319 [00:14<00:00, 22.01it/s]              \n",
      "[TRAIN 538, 1] loss: 0.17630159854888916 loss_reg: 0.2286584973335266 loss_line: 0.12394469976425171 acc: 0.1666666716337204 acc_reg: 0.1666666716337204 acc_line: 0.1666666716337204:   1%|          | 3/319 [00:00<00:13, 22.78it/s]"
     ]
    },
    {
     "name": "stdout",
     "output_type": "stream",
     "text": [
      "[VALIDATION 537] val_acc: 0.9900216584158416 val_acc_reg: 0.9880878712871287 val_acc_line: 0.9919554455445545 \n"
     ]
    },
    {
     "name": "stderr",
     "output_type": "stream",
     "text": [
      "[TRAIN 538, 319] loss: 1.057870864868164 loss_reg: 1.3719509840011597 loss_line: 0.7437905073165894 acc: 1.0 acc_reg: 1.0 acc_line: 1.0: 100%|██████████| 319/319 [00:14<00:00, 22.05it/s]                                              \n",
      "[TRAIN 539, 1] loss: 0.17630159854888916 loss_reg: 0.2286584973335266 loss_line: 0.12394469976425171 acc: 0.1666666716337204 acc_reg: 0.1666666716337204 acc_line: 0.1666666716337204:   1%|          | 3/319 [00:00<00:14, 22.55it/s]"
     ]
    },
    {
     "name": "stdout",
     "output_type": "stream",
     "text": [
      "[VALIDATION 538] val_acc: 0.9913366336633663 val_acc_reg: 0.9897896039603961 val_acc_line: 0.9928836633663366 \n"
     ]
    },
    {
     "name": "stderr",
     "output_type": "stream",
     "text": [
      "[TRAIN 539, 319] loss: 1.0591119527816772 loss_reg: 1.3745554685592651 loss_line: 0.7436681985855103 acc: 0.9986979365348816 acc_reg: 0.9973958730697632 acc_line: 1.0: 100%|██████████| 319/319 [00:14<00:00, 21.93it/s]               \n",
      "[TRAIN 540, 1] loss: 0.17630159854888916 loss_reg: 0.2286584973335266 loss_line: 0.12394469976425171 acc: 0.1666666716337204 acc_reg: 0.1666666716337204 acc_line: 0.1666666716337204:   1%|          | 3/319 [00:00<00:14, 22.38it/s]"
     ]
    },
    {
     "name": "stdout",
     "output_type": "stream",
     "text": [
      "[VALIDATION 539] val_acc: 0.9900990099009901 val_acc_reg: 0.9882425742574258 val_acc_line: 0.9919554455445545 \n"
     ]
    },
    {
     "name": "stderr",
     "output_type": "stream",
     "text": [
      "[TRAIN 540, 319] loss: 1.0578097105026245 loss_reg: 1.3719509840011597 loss_line: 0.7436681985855103 acc: 1.0 acc_reg: 1.0 acc_line: 1.0: 100%|██████████| 319/319 [00:14<00:00, 21.94it/s]                                             \n",
      "[TRAIN 541, 1] loss: 0.17630159854888916 loss_reg: 0.2286584973335266 loss_line: 0.12394469976425171 acc: 0.1666666716337204 acc_reg: 0.1666666716337204 acc_line: 0.1666666716337204:   1%|          | 3/319 [00:00<00:15, 20.92it/s]"
     ]
    },
    {
     "name": "stdout",
     "output_type": "stream",
     "text": [
      "[VALIDATION 540] val_acc: 0.9932704207920792 val_acc_reg: 0.9921101485148515 val_acc_line: 0.994430693069307 \n"
     ]
    },
    {
     "name": "stderr",
     "output_type": "stream",
     "text": [
      "[TRAIN 541, 319] loss: 1.0604428052902222 loss_reg: 1.3746131658554077 loss_line: 0.7462723255157471 acc: 0.9973958730697632 acc_reg: 0.9973958730697632 acc_line: 0.9973958730697632: 100%|██████████| 319/319 [00:14<00:00, 21.99it/s]\n",
      "[TRAIN 542, 1] loss: 0.17630159854888916 loss_reg: 0.2286584973335266 loss_line: 0.12394469976425171 acc: 0.1666666716337204 acc_reg: 0.1666666716337204 acc_line: 0.1666666716337204:   1%|          | 3/319 [00:00<00:14, 21.20it/s]"
     ]
    },
    {
     "name": "stdout",
     "output_type": "stream",
     "text": [
      "[VALIDATION 541] val_acc: 0.9911819306930693 val_acc_reg: 0.9897896039603961 val_acc_line: 0.9925742574257426 \n"
     ]
    },
    {
     "name": "stderr",
     "output_type": "stream",
     "text": [
      "[TRAIN 542, 319] loss: 1.0591118335723877 loss_reg: 1.3719509840011597 loss_line: 0.7462723255157471 acc: 0.9986979365348816 acc_reg: 1.0 acc_line: 0.9973958730697632: 100%|██████████| 319/319 [00:14<00:00, 21.99it/s]               \n",
      "[TRAIN 543, 1] loss: 0.17630159854888916 loss_reg: 0.2286584973335266 loss_line: 0.12394469976425171 acc: 0.1666666716337204 acc_reg: 0.1666666716337204 acc_line: 0.1666666716337204:   1%|          | 3/319 [00:00<00:15, 20.98it/s]"
     ]
    },
    {
     "name": "stdout",
     "output_type": "stream",
     "text": [
      "[VALIDATION 542] val_acc: 0.9917233910891089 val_acc_reg: 0.989944306930693 val_acc_line: 0.9935024752475248 \n"
     ]
    },
    {
     "name": "stderr",
     "output_type": "stream",
     "text": [
      "[TRAIN 543, 319] loss: 1.0591154098510742 loss_reg: 1.3745553493499756 loss_line: 0.7436755895614624 acc: 0.9986979365348816 acc_reg: 0.9973958730697632 acc_line: 1.0: 100%|██████████| 319/319 [00:14<00:00, 21.98it/s]               \n",
      "[TRAIN 544, 1] loss: 0.17760369181632996 loss_reg: 0.2286584973335266 loss_line: 0.1265488713979721 acc: 0.1653645932674408 acc_reg: 0.1666666716337204 acc_line: 0.1640625:   1%|          | 3/319 [00:00<00:15, 20.82it/s]"
     ]
    },
    {
     "name": "stdout",
     "output_type": "stream",
     "text": [
      "[VALIDATION 543] val_acc: 0.9911819306930693 val_acc_reg: 0.989480198019802 val_acc_line: 0.9928836633663366 \n"
     ]
    },
    {
     "name": "stderr",
     "output_type": "stream",
     "text": [
      "[TRAIN 544, 319] loss: 1.0578458309173584 loss_reg: 1.3719509840011597 loss_line: 0.743740439414978 acc: 1.0 acc_reg: 1.0 acc_line: 1.0: 100%|██████████| 319/319 [00:14<00:00, 21.95it/s]                                              \n",
      "[TRAIN 545, 1] loss: 0.17630159854888916 loss_reg: 0.2286584973335266 loss_line: 0.12394469976425171 acc: 0.1666666716337204 acc_reg: 0.1666666716337204 acc_line: 0.1666666716337204:   1%|          | 2/319 [00:00<00:16, 19.06it/s]"
     ]
    },
    {
     "name": "stdout",
     "output_type": "stream",
     "text": [
      "[VALIDATION 544] val_acc: 0.991878094059406 val_acc_reg: 0.9911819306930693 val_acc_line: 0.9925742574257426 \n"
     ]
    },
    {
     "name": "stderr",
     "output_type": "stream",
     "text": [
      "[TRAIN 545, 319] loss: 1.0602214336395264 loss_reg: 1.3745551109313965 loss_line: 0.7458874583244324 acc: 0.9973958730697632 acc_reg: 0.9973958730697632 acc_line: 0.9973958730697632: 100%|██████████| 319/319 [00:14<00:00, 21.95it/s]\n",
      "[TRAIN 546, 1] loss: 0.17630159854888916 loss_reg: 0.2286584973335266 loss_line: 0.12394469976425171 acc: 0.1666666716337204 acc_reg: 0.1666666716337204 acc_line: 0.1666666716337204:   1%|          | 2/319 [00:00<00:16, 19.20it/s]"
     ]
    },
    {
     "name": "stdout",
     "output_type": "stream",
     "text": [
      "[VALIDATION 545] val_acc: 0.9919554455445545 val_acc_reg: 0.989634900990099 val_acc_line: 0.9942759900990099 \n"
     ]
    },
    {
     "name": "stderr",
     "output_type": "stream",
     "text": [
      "[TRAIN 546, 319] loss: 1.0578144788742065 loss_reg: 1.3719605207443237 loss_line: 0.7436681985855103 acc: 1.0 acc_reg: 1.0 acc_line: 1.0: 100%|██████████| 319/319 [00:14<00:00, 21.93it/s]                                             \n",
      "[TRAIN 547, 1] loss: 0.17630159854888916 loss_reg: 0.2286584973335266 loss_line: 0.12394469976425171 acc: 0.1666666716337204 acc_reg: 0.1666666716337204 acc_line: 0.1666666716337204:   1%|          | 3/319 [00:00<00:14, 21.70it/s]"
     ]
    },
    {
     "name": "stdout",
     "output_type": "stream",
     "text": [
      "[VALIDATION 546] val_acc: 0.9902537128712872 val_acc_reg: 0.9856126237623762 val_acc_line: 0.994894801980198 \n"
     ]
    },
    {
     "name": "stderr",
     "output_type": "stream",
     "text": [
      "[TRAIN 547, 319] loss: 1.0591133832931519 loss_reg: 1.3745578527450562 loss_line: 0.7436687350273132 acc: 0.9986979365348816 acc_reg: 0.9973958730697632 acc_line: 1.0: 100%|██████████| 319/319 [00:14<00:00, 21.97it/s]              \n",
      "[TRAIN 548, 1] loss: 0.17760369181632996 loss_reg: 0.2312626838684082 loss_line: 0.12394469976425171 acc: 0.1653645932674408 acc_reg: 0.1640625 acc_line: 0.1666666716337204:   1%|          | 3/319 [00:00<00:14, 21.78it/s]"
     ]
    },
    {
     "name": "stdout",
     "output_type": "stream",
     "text": [
      "[VALIDATION 547] val_acc: 0.9919554455445545 val_acc_reg: 0.9908725247524752 val_acc_line: 0.9930383663366337 \n"
     ]
    },
    {
     "name": "stderr",
     "output_type": "stream",
     "text": [
      "[TRAIN 548, 319] loss: 1.0578101873397827 loss_reg: 1.3719520568847656 loss_line: 0.7436681985855103 acc: 1.0 acc_reg: 1.0 acc_line: 1.0: 100%|██████████| 319/319 [00:14<00:00, 22.06it/s]                                            \n",
      "[TRAIN 549, 1] loss: 0.17630337178707123 loss_reg: 0.2286584973335266 loss_line: 0.12394824624061584 acc: 0.1666666716337204 acc_reg: 0.1666666716337204 acc_line: 0.1666666716337204:   1%|          | 3/319 [00:00<00:14, 21.39it/s]"
     ]
    },
    {
     "name": "stdout",
     "output_type": "stream",
     "text": [
      "[VALIDATION 548] val_acc: 0.9924195544554455 val_acc_reg: 0.9907178217821783 val_acc_line: 0.9941212871287128 \n"
     ]
    },
    {
     "name": "stderr",
     "output_type": "stream",
     "text": [
      "[TRAIN 549, 319] loss: 1.0578097105026245 loss_reg: 1.3719511032104492 loss_line: 0.7436681985855103 acc: 1.0 acc_reg: 1.0 acc_line: 1.0: 100%|██████████| 319/319 [00:14<00:00, 21.93it/s]                                             \n",
      "[TRAIN 550, 1] loss: 0.17630159854888916 loss_reg: 0.2286584973335266 loss_line: 0.12394469976425171 acc: 0.1666666716337204 acc_reg: 0.1666666716337204 acc_line: 0.1666666716337204:   1%|          | 3/319 [00:00<00:14, 22.44it/s]"
     ]
    },
    {
     "name": "stdout",
     "output_type": "stream",
     "text": [
      "[VALIDATION 549] val_acc: 0.9905631188118812 val_acc_reg: 0.9888613861386139 val_acc_line: 0.9922648514851485 \n"
     ]
    },
    {
     "name": "stderr",
     "output_type": "stream",
     "text": [
      "[TRAIN 550, 319] loss: 1.0578097105026245 loss_reg: 1.3719509840011597 loss_line: 0.7436681985855103 acc: 1.0 acc_reg: 1.0 acc_line: 1.0: 100%|██████████| 319/319 [00:14<00:00, 21.97it/s]                                             \n",
      "[TRAIN 551, 1] loss: 0.17630159854888916 loss_reg: 0.2286584973335266 loss_line: 0.12394469976425171 acc: 0.1666666716337204 acc_reg: 0.1666666716337204 acc_line: 0.1666666716337204:   1%|          | 3/319 [00:00<00:14, 22.33it/s]"
     ]
    },
    {
     "name": "stdout",
     "output_type": "stream",
     "text": [
      "[VALIDATION 550] val_acc: 0.9921101485148515 val_acc_reg: 0.9900990099009901 val_acc_line: 0.9941212871287128 \n"
     ]
    },
    {
     "name": "stderr",
     "output_type": "stream",
     "text": [
      "[TRAIN 551, 319] loss: 1.0578097105026245 loss_reg: 1.3719509840011597 loss_line: 0.7436681985855103 acc: 1.0 acc_reg: 1.0 acc_line: 1.0: 100%|██████████| 319/319 [00:14<00:00, 21.93it/s]                                             \n",
      "[TRAIN 552, 1] loss: 0.17630159854888916 loss_reg: 0.2286584973335266 loss_line: 0.12394469976425171 acc: 0.1666666716337204 acc_reg: 0.1666666716337204 acc_line: 0.1666666716337204:   1%|          | 2/319 [00:00<00:15, 19.91it/s]"
     ]
    },
    {
     "name": "stdout",
     "output_type": "stream",
     "text": [
      "[VALIDATION 551] val_acc: 0.9919554455445545 val_acc_reg: 0.989944306930693 val_acc_line: 0.9939665841584159 \n"
     ]
    },
    {
     "name": "stderr",
     "output_type": "stream",
     "text": [
      "[TRAIN 552, 319] loss: 1.0616779327392578 loss_reg: 1.3744791746139526 loss_line: 0.7488765120506287 acc: 0.99609375 acc_reg: 0.9973958730697632 acc_line: 0.9947916865348816: 100%|██████████| 319/319 [00:14<00:00, 21.95it/s]        \n",
      "[TRAIN 553, 1] loss: 0.17630159854888916 loss_reg: 0.2286584973335266 loss_line: 0.12394469976425171 acc: 0.1666666716337204 acc_reg: 0.1666666716337204 acc_line: 0.1666666716337204:   1%|          | 2/319 [00:00<00:17, 18.36it/s]"
     ]
    },
    {
     "name": "stdout",
     "output_type": "stream",
     "text": [
      "[VALIDATION 552] val_acc: 0.9929610148514851 val_acc_reg: 0.9911819306930693 val_acc_line: 0.994740099009901 \n"
     ]
    },
    {
     "name": "stderr",
     "output_type": "stream",
     "text": [
      "[TRAIN 553, 319] loss: 1.0578097105026245 loss_reg: 1.3719509840011597 loss_line: 0.7436681985855103 acc: 1.0 acc_reg: 1.0 acc_line: 1.0: 100%|██████████| 319/319 [00:14<00:00, 21.92it/s]                                             \n",
      "[TRAIN 554, 1] loss: 0.17760369181632996 loss_reg: 0.2312626838684082 loss_line: 0.12394469976425171 acc: 0.1653645932674408 acc_reg: 0.1640625 acc_line: 0.1666666716337204:   1%|          | 3/319 [00:00<00:15, 20.70it/s]"
     ]
    },
    {
     "name": "stdout",
     "output_type": "stream",
     "text": [
      "[VALIDATION 553] val_acc: 0.9918007425742574 val_acc_reg: 0.989480198019802 val_acc_line: 0.9941212871287128 \n"
     ]
    },
    {
     "name": "stderr",
     "output_type": "stream",
     "text": [
      "[TRAIN 554, 319] loss: 1.0578101873397827 loss_reg: 1.3719520568847656 loss_line: 0.7436681985855103 acc: 1.0 acc_reg: 1.0 acc_line: 1.0: 100%|██████████| 319/319 [00:14<00:00, 22.00it/s]                                             \n",
      "[TRAIN 555, 1] loss: 0.17630159854888916 loss_reg: 0.2286584973335266 loss_line: 0.12394469976425171 acc: 0.1666666716337204 acc_reg: 0.1666666716337204 acc_line: 0.1666666716337204:   1%|          | 3/319 [00:00<00:15, 19.77it/s]"
     ]
    },
    {
     "name": "stdout",
     "output_type": "stream",
     "text": [
      "[VALIDATION 554] val_acc: 0.9913366336633663 val_acc_reg: 0.9888613861386139 val_acc_line: 0.9938118811881188 \n"
     ]
    },
    {
     "name": "stderr",
     "output_type": "stream",
     "text": [
      "[TRAIN 555, 319] loss: 1.0604302883148193 loss_reg: 1.3745875358581543 loss_line: 0.7462726831436157 acc: 0.9973958730697632 acc_reg: 0.9973958730697632 acc_line: 0.9973958730697632: 100%|██████████| 319/319 [00:14<00:00, 21.97it/s]\n",
      "[TRAIN 556, 1] loss: 0.17630159854888916 loss_reg: 0.2286584973335266 loss_line: 0.12394469976425171 acc: 0.1666666716337204 acc_reg: 0.1666666716337204 acc_line: 0.1666666716337204:   1%|          | 3/319 [00:00<00:14, 21.51it/s]"
     ]
    },
    {
     "name": "stdout",
     "output_type": "stream",
     "text": [
      "[VALIDATION 555] val_acc: 0.991878094059406 val_acc_reg: 0.9907178217821783 val_acc_line: 0.9930383663366337 \n"
     ]
    },
    {
     "name": "stderr",
     "output_type": "stream",
     "text": [
      "[TRAIN 556, 319] loss: 1.0578097105026245 loss_reg: 1.3719509840011597 loss_line: 0.7436681985855103 acc: 1.0 acc_reg: 1.0 acc_line: 1.0: 100%|██████████| 319/319 [00:14<00:00, 21.91it/s]                                             \n",
      "[TRAIN 557, 1] loss: 0.17630159854888916 loss_reg: 0.2286584973335266 loss_line: 0.12394469976425171 acc: 0.1666666716337204 acc_reg: 0.1666666716337204 acc_line: 0.1666666716337204:   1%|          | 3/319 [00:00<00:15, 20.77it/s]"
     ]
    },
    {
     "name": "stdout",
     "output_type": "stream",
     "text": [
      "[VALIDATION 556] val_acc: 0.9906404702970297 val_acc_reg: 0.9885519801980198 val_acc_line: 0.9927289603960396 \n"
     ]
    },
    {
     "name": "stderr",
     "output_type": "stream",
     "text": [
      "[TRAIN 557, 319] loss: 1.0591118335723877 loss_reg: 1.3745551109313965 loss_line: 0.7436681985855103 acc: 0.9986979365348816 acc_reg: 0.9973958730697632 acc_line: 1.0: 100%|██████████| 319/319 [00:14<00:00, 21.99it/s]               \n",
      "[TRAIN 558, 1] loss: 0.17630159854888916 loss_reg: 0.2286584973335266 loss_line: 0.12394469976425171 acc: 0.1666666716337204 acc_reg: 0.1666666716337204 acc_line: 0.1666666716337204:   1%|          | 2/319 [00:00<00:16, 19.40it/s]"
     ]
    },
    {
     "name": "stdout",
     "output_type": "stream",
     "text": [
      "[VALIDATION 557] val_acc: 0.9915686881188119 val_acc_reg: 0.9902537128712872 val_acc_line: 0.9928836633663366 \n"
     ]
    },
    {
     "name": "stderr",
     "output_type": "stream",
     "text": [
      "[TRAIN 558, 319] loss: 1.0591118335723877 loss_reg: 1.3745551109313965 loss_line: 0.7436681985855103 acc: 0.9986979365348816 acc_reg: 0.9973958730697632 acc_line: 1.0: 100%|██████████| 319/319 [00:14<00:00, 22.01it/s]               \n",
      "[TRAIN 559, 1] loss: 0.17630159854888916 loss_reg: 0.2286584973335266 loss_line: 0.12394469976425171 acc: 0.1666666716337204 acc_reg: 0.1666666716337204 acc_line: 0.1666666716337204:   1%|          | 3/319 [00:00<00:14, 22.07it/s]"
     ]
    },
    {
     "name": "stdout",
     "output_type": "stream",
     "text": [
      "[VALIDATION 558] val_acc: 0.989634900990099 val_acc_reg: 0.9879331683168316 val_acc_line: 0.9913366336633663 \n"
     ]
    },
    {
     "name": "stderr",
     "output_type": "stream",
     "text": [
      "[TRAIN 559, 319] loss: 1.0578112602233887 loss_reg: 1.371954321861267 loss_line: 0.743668258190155 acc: 1.0 acc_reg: 1.0 acc_line: 1.0: 100%|██████████| 319/319 [00:14<00:00, 21.91it/s]                                               \n",
      "[TRAIN 560, 1] loss: 0.17630474269390106 loss_reg: 0.2286648005247116 loss_line: 0.12394469976425171 acc: 0.1666666716337204 acc_reg: 0.1666666716337204 acc_line: 0.1666666716337204:   1%|          | 3/319 [00:00<00:15, 21.06it/s]"
     ]
    },
    {
     "name": "stdout",
     "output_type": "stream",
     "text": [
      "[VALIDATION 559] val_acc: 0.9904084158415841 val_acc_reg: 0.9871596534653465 val_acc_line: 0.9936571782178217 \n"
     ]
    },
    {
     "name": "stderr",
     "output_type": "stream",
     "text": [
      "[TRAIN 560, 319] loss: 1.0578097105026245 loss_reg: 1.3719509840011597 loss_line: 0.7436681985855103 acc: 1.0 acc_reg: 1.0 acc_line: 1.0: 100%|██████████| 319/319 [00:14<00:00, 21.99it/s]                                             \n",
      "[TRAIN 561, 1] loss: 0.17630159854888916 loss_reg: 0.2286584973335266 loss_line: 0.12394469976425171 acc: 0.1666666716337204 acc_reg: 0.1666666716337204 acc_line: 0.1666666716337204:   1%|          | 3/319 [00:00<00:13, 22.77it/s]"
     ]
    },
    {
     "name": "stdout",
     "output_type": "stream",
     "text": [
      "[VALIDATION 560] val_acc: 0.9905631188118812 val_acc_reg: 0.9883972772277227 val_acc_line: 0.9927289603960396 \n"
     ]
    },
    {
     "name": "stderr",
     "output_type": "stream",
     "text": [
      "[TRAIN 561, 319] loss: 1.0591424703598022 loss_reg: 1.3745551109313965 loss_line: 0.7437297105789185 acc: 0.9986979365348816 acc_reg: 0.9973958730697632 acc_line: 1.0: 100%|██████████| 319/319 [00:14<00:00, 21.99it/s]               \n",
      "[TRAIN 562, 1] loss: 0.17630159854888916 loss_reg: 0.2286584973335266 loss_line: 0.1239447146654129 acc: 0.1666666716337204 acc_reg: 0.1666666716337204 acc_line: 0.1666666716337204:   1%|          | 3/319 [00:00<00:14, 21.80it/s]"
     ]
    },
    {
     "name": "stdout",
     "output_type": "stream",
     "text": [
      "[VALIDATION 561] val_acc: 0.9913366336633663 val_acc_reg: 0.989944306930693 val_acc_line: 0.9927289603960396 \n"
     ]
    },
    {
     "name": "stderr",
     "output_type": "stream",
     "text": [
      "[TRAIN 562, 319] loss: 1.0578097105026245 loss_reg: 1.3719509840011597 loss_line: 0.7436681985855103 acc: 1.0 acc_reg: 1.0 acc_line: 1.0: 100%|██████████| 319/319 [00:14<00:00, 21.90it/s]                                             \n",
      "[TRAIN 563, 1] loss: 0.17630159854888916 loss_reg: 0.2286584973335266 loss_line: 0.12394469976425171 acc: 0.1666666716337204 acc_reg: 0.1666666716337204 acc_line: 0.1666666716337204:   1%|          | 2/319 [00:00<00:16, 19.57it/s]"
     ]
    },
    {
     "name": "stdout",
     "output_type": "stream",
     "text": [
      "[VALIDATION 562] val_acc: 0.9923422029702971 val_acc_reg: 0.9907178217821783 val_acc_line: 0.9939665841584159 \n"
     ]
    },
    {
     "name": "stderr",
     "output_type": "stream",
     "text": [
      "[TRAIN 563, 319] loss: 1.0578097105026245 loss_reg: 1.3719509840011597 loss_line: 0.7436681985855103 acc: 1.0 acc_reg: 1.0 acc_line: 1.0: 100%|██████████| 319/319 [00:14<00:00, 22.00it/s]                                             \n",
      "[TRAIN 564, 1] loss: 0.17630159854888916 loss_reg: 0.2286584973335266 loss_line: 0.12394469976425171 acc: 0.1666666716337204 acc_reg: 0.1666666716337204 acc_line: 0.1666666716337204:   1%|          | 3/319 [00:00<00:14, 21.98it/s]"
     ]
    },
    {
     "name": "stdout",
     "output_type": "stream",
     "text": [
      "[VALIDATION 563] val_acc: 0.9906404702970297 val_acc_reg: 0.989634900990099 val_acc_line: 0.9916460396039604 \n"
     ]
    },
    {
     "name": "stderr",
     "output_type": "stream",
     "text": [
      "[TRAIN 564, 319] loss: 1.0591118335723877 loss_reg: 1.3719509840011597 loss_line: 0.7462723255157471 acc: 0.9986979365348816 acc_reg: 1.0 acc_line: 0.9973958730697632: 100%|██████████| 319/319 [00:14<00:00, 22.00it/s]               \n",
      "[TRAIN 565, 1] loss: 0.17760369181632996 loss_reg: 0.2312626838684082 loss_line: 0.12394469976425171 acc: 0.1653645932674408 acc_reg: 0.1640625 acc_line: 0.1666666716337204:   1%|          | 2/319 [00:00<00:21, 14.80it/s]"
     ]
    },
    {
     "name": "stdout",
     "output_type": "stream",
     "text": [
      "[VALIDATION 564] val_acc: 0.9901763613861386 val_acc_reg: 0.9887066831683168 val_acc_line: 0.9916460396039604 \n"
     ]
    },
    {
     "name": "stderr",
     "output_type": "stream",
     "text": [
      "[TRAIN 565, 319] loss: 1.0578454732894897 loss_reg: 1.3719509840011597 loss_line: 0.7437397241592407 acc: 1.0 acc_reg: 1.0 acc_line: 1.0: 100%|██████████| 319/319 [00:14<00:00, 21.96it/s]                                             \n",
      "[TRAIN 566, 1] loss: 0.17630159854888916 loss_reg: 0.2286584973335266 loss_line: 0.12394469976425171 acc: 0.1666666716337204 acc_reg: 0.1666666716337204 acc_line: 0.1666666716337204:   1%|          | 3/319 [00:00<00:14, 21.77it/s]"
     ]
    },
    {
     "name": "stdout",
     "output_type": "stream",
     "text": [
      "[VALIDATION 565] val_acc: 0.9916460396039604 val_acc_reg: 0.9902537128712872 val_acc_line: 0.9930383663366337 \n"
     ]
    },
    {
     "name": "stderr",
     "output_type": "stream",
     "text": [
      "[TRAIN 566, 319] loss: 1.0578097105026245 loss_reg: 1.3719509840011597 loss_line: 0.7436681985855103 acc: 1.0 acc_reg: 1.0 acc_line: 1.0: 100%|██████████| 319/319 [00:14<00:00, 22.01it/s]                                             \n",
      "[TRAIN 567, 1] loss: 0.17630159854888916 loss_reg: 0.2286584973335266 loss_line: 0.12394469976425171 acc: 0.1666666716337204 acc_reg: 0.1666666716337204 acc_line: 0.1666666716337204:   1%|          | 3/319 [00:00<00:14, 21.21it/s]"
     ]
    },
    {
     "name": "stdout",
     "output_type": "stream",
     "text": [
      "[VALIDATION 566] val_acc: 0.9921101485148515 val_acc_reg: 0.989944306930693 val_acc_line: 0.9942759900990099 \n"
     ]
    },
    {
     "name": "stderr",
     "output_type": "stream",
     "text": [
      "[TRAIN 567, 319] loss: 1.0578097105026245 loss_reg: 1.3719509840011597 loss_line: 0.7436681985855103 acc: 1.0 acc_reg: 1.0 acc_line: 1.0: 100%|██████████| 319/319 [00:14<00:00, 21.98it/s]                                             \n",
      "[TRAIN 568, 1] loss: 0.17630159854888916 loss_reg: 0.2286584973335266 loss_line: 0.12394469976425171 acc: 0.1666666716337204 acc_reg: 0.1666666716337204 acc_line: 0.1666666716337204:   1%|          | 2/319 [00:00<00:16, 18.86it/s]"
     ]
    },
    {
     "name": "stdout",
     "output_type": "stream",
     "text": [
      "[VALIDATION 567] val_acc: 0.9920327970297029 val_acc_reg: 0.9900990099009901 val_acc_line: 0.9939665841584159 \n"
     ]
    },
    {
     "name": "stderr",
     "output_type": "stream",
     "text": [
      "[TRAIN 568, 319] loss: 1.0578120946884155 loss_reg: 1.3719509840011597 loss_line: 0.7436729669570923 acc: 1.0 acc_reg: 1.0 acc_line: 1.0: 100%|██████████| 319/319 [00:14<00:00, 21.98it/s]                                             \n",
      "[TRAIN 569, 1] loss: 0.17630159854888916 loss_reg: 0.2286584973335266 loss_line: 0.12394469976425171 acc: 0.1666666716337204 acc_reg: 0.1666666716337204 acc_line: 0.1666666716337204:   1%|          | 3/319 [00:00<00:14, 21.78it/s]"
     ]
    },
    {
     "name": "stdout",
     "output_type": "stream",
     "text": [
      "[VALIDATION 568] val_acc: 0.9922648514851485 val_acc_reg: 0.9908725247524752 val_acc_line: 0.9936571782178217 \n"
     ]
    },
    {
     "name": "stderr",
     "output_type": "stream",
     "text": [
      "[TRAIN 569, 319] loss: 1.0591118335723877 loss_reg: 1.3745551109313965 loss_line: 0.7436681985855103 acc: 0.9986979365348816 acc_reg: 0.9973958730697632 acc_line: 1.0: 100%|██████████| 319/319 [00:14<00:00, 21.95it/s]               \n",
      "[TRAIN 570, 1] loss: 0.17630872130393982 loss_reg: 0.2286584973335266 loss_line: 0.12395893782377243 acc: 0.1666666716337204 acc_reg: 0.1666666716337204 acc_line: 0.1666666716337204:   1%|          | 2/319 [00:00<00:16, 19.42it/s]"
     ]
    },
    {
     "name": "stdout",
     "output_type": "stream",
     "text": [
      "[VALIDATION 569] val_acc: 0.9918007425742574 val_acc_reg: 0.9897896039603961 val_acc_line: 0.9938118811881188 \n"
     ]
    },
    {
     "name": "stderr",
     "output_type": "stream",
     "text": [
      "[TRAIN 570, 319] loss: 1.0578097105026245 loss_reg: 1.3719509840011597 loss_line: 0.7436681985855103 acc: 1.0 acc_reg: 1.0 acc_line: 1.0: 100%|██████████| 319/319 [00:14<00:00, 21.91it/s]                                             \n",
      "[TRAIN 571, 1] loss: 0.17760369181632996 loss_reg: 0.2312626838684082 loss_line: 0.12394469976425171 acc: 0.1653645932674408 acc_reg: 0.1640625 acc_line: 0.1666666716337204:   1%|          | 2/319 [00:00<00:16, 19.39it/s]"
     ]
    },
    {
     "name": "stdout",
     "output_type": "stream",
     "text": [
      "[VALIDATION 570] val_acc: 0.9928063118811881 val_acc_reg: 0.9910272277227723 val_acc_line: 0.9945853960396039 \n"
     ]
    },
    {
     "name": "stderr",
     "output_type": "stream",
     "text": [
      "[TRAIN 571, 319] loss: 1.0591118335723877 loss_reg: 1.3745551109313965 loss_line: 0.7436681985855103 acc: 0.9986979365348816 acc_reg: 0.9973958730697632 acc_line: 1.0: 100%|██████████| 319/319 [00:14<00:00, 21.96it/s]               \n",
      "[TRAIN 572, 1] loss: 0.17630159854888916 loss_reg: 0.2286584973335266 loss_line: 0.12394469976425171 acc: 0.1666666716337204 acc_reg: 0.1666666716337204 acc_line: 0.1666666716337204:   1%|          | 3/319 [00:00<00:15, 20.66it/s]"
     ]
    },
    {
     "name": "stdout",
     "output_type": "stream",
     "text": [
      "[VALIDATION 571] val_acc: 0.9916460396039604 val_acc_reg: 0.9897896039603961 val_acc_line: 0.9935024752475248 \n"
     ]
    },
    {
     "name": "stderr",
     "output_type": "stream",
     "text": [
      "[TRAIN 572, 319] loss: 1.0591129064559937 loss_reg: 1.3745574951171875 loss_line: 0.7436681985855103 acc: 0.9986979365348816 acc_reg: 0.9973958730697632 acc_line: 1.0: 100%|██████████| 319/319 [00:14<00:00, 21.90it/s]               \n",
      "[TRAIN 573, 1] loss: 0.17630159854888916 loss_reg: 0.2286584973335266 loss_line: 0.12394469976425171 acc: 0.1666666716337204 acc_reg: 0.1666666716337204 acc_line: 0.1666666716337204:   1%|          | 2/319 [00:00<00:17, 17.78it/s]"
     ]
    },
    {
     "name": "stdout",
     "output_type": "stream",
     "text": [
      "[VALIDATION 572] val_acc: 0.9900216584158416 val_acc_reg: 0.9885519801980198 val_acc_line: 0.9914913366336634 \n"
     ]
    },
    {
     "name": "stderr",
     "output_type": "stream",
     "text": [
      "[TRAIN 573, 319] loss: 1.0604418516159058 loss_reg: 1.3770108222961426 loss_line: 0.7438728213310242 acc: 0.9973958730697632 acc_reg: 0.9947916865348816 acc_line: 1.0: 100%|██████████| 319/319 [00:14<00:00, 21.96it/s]               \n",
      "[TRAIN 574, 1] loss: 0.17630159854888916 loss_reg: 0.2286584973335266 loss_line: 0.12394469976425171 acc: 0.1666666716337204 acc_reg: 0.1666666716337204 acc_line: 0.1666666716337204:   1%|          | 2/319 [00:00<00:16, 19.05it/s]"
     ]
    },
    {
     "name": "stdout",
     "output_type": "stream",
     "text": [
      "[VALIDATION 573] val_acc: 0.9907178217821783 val_acc_reg: 0.9883972772277227 val_acc_line: 0.9930383663366337 \n"
     ]
    },
    {
     "name": "stderr",
     "output_type": "stream",
     "text": [
      "[TRAIN 574, 319] loss: 1.0604138374328613 loss_reg: 1.3745551109313965 loss_line: 0.7462723255157471 acc: 0.9973958730697632 acc_reg: 0.9973958730697632 acc_line: 0.9973958730697632: 100%|██████████| 319/319 [00:14<00:00, 21.95it/s]\n",
      "[TRAIN 575, 1] loss: 0.17630159854888916 loss_reg: 0.2286584973335266 loss_line: 0.12394469976425171 acc: 0.1666666716337204 acc_reg: 0.1666666716337204 acc_line: 0.1666666716337204:   1%|          | 3/319 [00:00<00:15, 20.94it/s]"
     ]
    },
    {
     "name": "stdout",
     "output_type": "stream",
     "text": [
      "[VALIDATION 574] val_acc: 0.9906404702970297 val_acc_reg: 0.9891707920792079 val_acc_line: 0.9921101485148515 \n"
     ]
    },
    {
     "name": "stderr",
     "output_type": "stream",
     "text": [
      "[TRAIN 575, 319] loss: 1.0591118335723877 loss_reg: 1.3719509840011597 loss_line: 0.7462724447250366 acc: 0.9986979365348816 acc_reg: 1.0 acc_line: 0.9973958730697632: 100%|██████████| 319/319 [00:14<00:00, 21.98it/s]              \n",
      "[TRAIN 576, 1] loss: 0.1763020008802414 loss_reg: 0.22865889966487885 loss_line: 0.12394507974386215 acc: 0.1666666716337204 acc_reg: 0.1666666716337204 acc_line: 0.1666666716337204:   1%|          | 3/319 [00:00<00:14, 21.13it/s]"
     ]
    },
    {
     "name": "stdout",
     "output_type": "stream",
     "text": [
      "[VALIDATION 575] val_acc: 0.9900990099009901 val_acc_reg: 0.9888613861386139 val_acc_line: 0.9913366336633663 \n"
     ]
    },
    {
     "name": "stderr",
     "output_type": "stream",
     "text": [
      "[TRAIN 576, 319] loss: 1.0604161024093628 loss_reg: 1.3745596408843994 loss_line: 0.7462724447250366 acc: 0.9973958730697632 acc_reg: 0.9973958730697632 acc_line: 0.9973958730697632: 100%|██████████| 319/319 [00:14<00:00, 21.94it/s]\n",
      "[TRAIN 577, 1] loss: 0.17630159854888916 loss_reg: 0.2286584973335266 loss_line: 0.12394469976425171 acc: 0.1666666716337204 acc_reg: 0.1666666716337204 acc_line: 0.1666666716337204:   1%|          | 3/319 [00:00<00:14, 22.23it/s]"
     ]
    },
    {
     "name": "stdout",
     "output_type": "stream",
     "text": [
      "[VALIDATION 576] val_acc: 0.9909498762376238 val_acc_reg: 0.9897896039603961 val_acc_line: 0.9921101485148515 \n"
     ]
    },
    {
     "name": "stderr",
     "output_type": "stream",
     "text": [
      "[TRAIN 577, 319] loss: 1.0591118335723877 loss_reg: 1.3719509840011597 loss_line: 0.7462723255157471 acc: 0.9986979365348816 acc_reg: 1.0 acc_line: 0.9973958730697632: 100%|██████████| 319/319 [00:14<00:00, 21.89it/s]               \n",
      "[TRAIN 578, 1] loss: 0.17630159854888916 loss_reg: 0.2286584973335266 loss_line: 0.12394469976425171 acc: 0.1666666716337204 acc_reg: 0.1666666716337204 acc_line: 0.1666666716337204:   1%|          | 3/319 [00:00<00:14, 21.85it/s]"
     ]
    },
    {
     "name": "stdout",
     "output_type": "stream",
     "text": [
      "[VALIDATION 577] val_acc: 0.9918007425742574 val_acc_reg: 0.989944306930693 val_acc_line: 0.9936571782178217 \n"
     ]
    },
    {
     "name": "stderr",
     "output_type": "stream",
     "text": [
      "[TRAIN 578, 319] loss: 1.0591118335723877 loss_reg: 1.3719509840011597 loss_line: 0.7462723255157471 acc: 0.9986979365348816 acc_reg: 1.0 acc_line: 0.9973958730697632: 100%|██████████| 319/319 [00:14<00:00, 21.82it/s]               \n",
      "[TRAIN 579, 1] loss: 0.17630159854888916 loss_reg: 0.2286584973335266 loss_line: 0.12394469976425171 acc: 0.1666666716337204 acc_reg: 0.1666666716337204 acc_line: 0.1666666716337204:   1%|          | 2/319 [00:00<00:16, 19.10it/s]"
     ]
    },
    {
     "name": "stdout",
     "output_type": "stream",
     "text": [
      "[VALIDATION 578] val_acc: 0.9918007425742574 val_acc_reg: 0.9904084158415841 val_acc_line: 0.9931930693069307 \n"
     ]
    },
    {
     "name": "stderr",
     "output_type": "stream",
     "text": [
      "[TRAIN 579, 319] loss: 1.0578097105026245 loss_reg: 1.3719509840011597 loss_line: 0.7436681985855103 acc: 1.0 acc_reg: 1.0 acc_line: 1.0: 100%|██████████| 319/319 [00:14<00:00, 21.86it/s]                                             \n",
      "[TRAIN 580, 1] loss: 0.17630159854888916 loss_reg: 0.2286584973335266 loss_line: 0.12394469976425171 acc: 0.1666666716337204 acc_reg: 0.1666666716337204 acc_line: 0.1666666716337204:   1%|          | 2/319 [00:00<00:16, 19.31it/s]"
     ]
    },
    {
     "name": "stdout",
     "output_type": "stream",
     "text": [
      "[VALIDATION 579] val_acc: 0.9908725247524752 val_acc_reg: 0.9887066831683168 val_acc_line: 0.9930383663366337 \n"
     ]
    },
    {
     "name": "stderr",
     "output_type": "stream",
     "text": [
      "[TRAIN 580, 319] loss: 1.0591211318969727 loss_reg: 1.3719509840011597 loss_line: 0.746290922164917 acc: 0.9986979365348816 acc_reg: 1.0 acc_line: 0.9973958730697632: 100%|██████████| 319/319 [00:14<00:00, 21.92it/s]                \n",
      "[TRAIN 581, 1] loss: 0.17630159854888916 loss_reg: 0.2286584973335266 loss_line: 0.12394469976425171 acc: 0.1666666716337204 acc_reg: 0.1666666716337204 acc_line: 0.1666666716337204:   1%|          | 3/319 [00:00<00:15, 20.02it/s]"
     ]
    },
    {
     "name": "stdout",
     "output_type": "stream",
     "text": [
      "[VALIDATION 580] val_acc: 0.989480198019802 val_acc_reg: 0.9882425742574258 val_acc_line: 0.9907178217821783 \n"
     ]
    },
    {
     "name": "stderr",
     "output_type": "stream",
     "text": [
      "[TRAIN 581, 319] loss: 1.0591118335723877 loss_reg: 1.3745553493499756 loss_line: 0.7436681985855103 acc: 0.9986979365348816 acc_reg: 0.9973958730697632 acc_line: 1.0: 100%|██████████| 319/319 [00:14<00:00, 21.96it/s]               \n",
      "[TRAIN 582, 1] loss: 0.17630159854888916 loss_reg: 0.2286584973335266 loss_line: 0.12394469976425171 acc: 0.1666666716337204 acc_reg: 0.1666666716337204 acc_line: 0.1666666716337204:   1%|          | 3/319 [00:00<00:14, 21.60it/s]"
     ]
    },
    {
     "name": "stdout",
     "output_type": "stream",
     "text": [
      "[VALIDATION 581] val_acc: 0.9900216584158416 val_acc_reg: 0.9871596534653465 val_acc_line: 0.9928836633663366 \n"
     ]
    },
    {
     "name": "stderr",
     "output_type": "stream",
     "text": [
      "[TRAIN 582, 319] loss: 1.0578097105026245 loss_reg: 1.3719509840011597 loss_line: 0.7436681985855103 acc: 1.0 acc_reg: 1.0 acc_line: 1.0: 100%|██████████| 319/319 [00:14<00:00, 21.71it/s]                                            \n",
      "[TRAIN 583, 1] loss: 0.17630159854888916 loss_reg: 0.2286584973335266 loss_line: 0.12394469976425171 acc: 0.1666666716337204 acc_reg: 0.1666666716337204 acc_line: 0.1666666716337204:   1%|          | 2/319 [00:00<00:16, 19.70it/s]"
     ]
    },
    {
     "name": "stdout",
     "output_type": "stream",
     "text": [
      "[VALIDATION 582] val_acc: 0.9887066831683168 val_acc_reg: 0.9851485148514851 val_acc_line: 0.9922648514851485 \n"
     ]
    },
    {
     "name": "stderr",
     "output_type": "stream",
     "text": [
      "[TRAIN 583, 319] loss: 1.0578097105026245 loss_reg: 1.3719509840011597 loss_line: 0.7436681985855103 acc: 1.0 acc_reg: 1.0 acc_line: 1.0: 100%|██████████| 319/319 [00:14<00:00, 21.85it/s]                                             \n",
      "[TRAIN 584, 1] loss: 0.17630159854888916 loss_reg: 0.2286584973335266 loss_line: 0.12394469976425171 acc: 0.1666666716337204 acc_reg: 0.1666666716337204 acc_line: 0.1666666716337204:   1%|          | 2/319 [00:00<00:16, 19.13it/s]"
     ]
    },
    {
     "name": "stdout",
     "output_type": "stream",
     "text": [
      "[VALIDATION 583] val_acc: 0.9900990099009901 val_acc_reg: 0.9874690594059405 val_acc_line: 0.9927289603960396 \n"
     ]
    },
    {
     "name": "stderr",
     "output_type": "stream",
     "text": [
      "[TRAIN 584, 319] loss: 1.0591118335723877 loss_reg: 1.3719509840011597 loss_line: 0.7462723255157471 acc: 0.9986979365348816 acc_reg: 1.0 acc_line: 0.9973958730697632: 100%|██████████| 319/319 [00:14<00:00, 21.83it/s]             \n",
      "[TRAIN 585, 1] loss: 0.17760369181632996 loss_reg: 0.2286584973335266 loss_line: 0.1265488713979721 acc: 0.1653645932674408 acc_reg: 0.1666666716337204 acc_line: 0.1640625:   1%|          | 3/319 [00:00<00:14, 21.42it/s]"
     ]
    },
    {
     "name": "stdout",
     "output_type": "stream",
     "text": [
      "[VALIDATION 584] val_acc: 0.9903310643564357 val_acc_reg: 0.9887066831683168 val_acc_line: 0.9919554455445545 \n"
     ]
    },
    {
     "name": "stderr",
     "output_type": "stream",
     "text": [
      "[TRAIN 585, 319] loss: 1.0578097105026245 loss_reg: 1.3719509840011597 loss_line: 0.7436681985855103 acc: 1.0 acc_reg: 1.0 acc_line: 1.0: 100%|██████████| 319/319 [00:14<00:00, 21.88it/s]                                             \n",
      "[TRAIN 586, 1] loss: 0.17760369181632996 loss_reg: 0.231262668967247 loss_line: 0.12394469976425171 acc: 0.1653645932674408 acc_reg: 0.1640625 acc_line: 0.1666666716337204:   1%|          | 2/319 [00:00<00:16, 19.78it/s]"
     ]
    },
    {
     "name": "stdout",
     "output_type": "stream",
     "text": [
      "[VALIDATION 585] val_acc: 0.9909498762376238 val_acc_reg: 0.989944306930693 val_acc_line: 0.9919554455445545 \n"
     ]
    },
    {
     "name": "stderr",
     "output_type": "stream",
     "text": [
      "[TRAIN 586, 319] loss: 1.0586060285568237 loss_reg: 1.3719509840011597 loss_line: 0.7452610731124878 acc: 0.9986979365348816 acc_reg: 1.0 acc_line: 0.9973958730697632: 100%|██████████| 319/319 [00:14<00:00, 21.98it/s]               \n",
      "[TRAIN 587, 1] loss: 0.17630159854888916 loss_reg: 0.2286584973335266 loss_line: 0.12394469976425171 acc: 0.1666666716337204 acc_reg: 0.1666666716337204 acc_line: 0.1666666716337204:   1%|          | 3/319 [00:00<00:14, 21.85it/s]"
     ]
    },
    {
     "name": "stdout",
     "output_type": "stream",
     "text": [
      "[VALIDATION 586] val_acc: 0.9914913366336634 val_acc_reg: 0.989480198019802 val_acc_line: 0.9935024752475248 \n"
     ]
    },
    {
     "name": "stderr",
     "output_type": "stream",
     "text": [
      "[TRAIN 587, 319] loss: 1.0591118335723877 loss_reg: 1.3719509840011597 loss_line: 0.7462723255157471 acc: 0.9986979365348816 acc_reg: 1.0 acc_line: 0.9973958730697632: 100%|██████████| 319/319 [00:14<00:00, 21.94it/s]               \n",
      "[TRAIN 588, 1] loss: 0.17630243301391602 loss_reg: 0.22866016626358032 loss_line: 0.12394469976425171 acc: 0.1666666716337204 acc_reg: 0.1666666716337204 acc_line: 0.1666666716337204:   1%|          | 3/319 [00:00<00:14, 21.25it/s]"
     ]
    },
    {
     "name": "stdout",
     "output_type": "stream",
     "text": [
      "[VALIDATION 587] val_acc: 0.9927289603960396 val_acc_reg: 0.9908725247524752 val_acc_line: 0.9945853960396039 \n"
     ]
    },
    {
     "name": "stderr",
     "output_type": "stream",
     "text": [
      "[TRAIN 588, 319] loss: 1.0578097105026245 loss_reg: 1.3719509840011597 loss_line: 0.7436681985855103 acc: 1.0 acc_reg: 1.0 acc_line: 1.0: 100%|██████████| 319/319 [00:14<00:00, 21.93it/s]                                             \n",
      "[TRAIN 589, 1] loss: 0.17630159854888916 loss_reg: 0.2286584973335266 loss_line: 0.12394469976425171 acc: 0.1666666716337204 acc_reg: 0.1666666716337204 acc_line: 0.1666666716337204:   1%|          | 2/319 [00:00<00:16, 19.33it/s]"
     ]
    },
    {
     "name": "stdout",
     "output_type": "stream",
     "text": [
      "[VALIDATION 588] val_acc: 0.9906404702970297 val_acc_reg: 0.989480198019802 val_acc_line: 0.9918007425742574 \n"
     ]
    },
    {
     "name": "stderr",
     "output_type": "stream",
     "text": [
      "[TRAIN 589, 319] loss: 1.0591118335723877 loss_reg: 1.3719509840011597 loss_line: 0.7462723255157471 acc: 0.9986979365348816 acc_reg: 1.0 acc_line: 0.9973958730697632: 100%|██████████| 319/319 [00:14<00:00, 22.00it/s]               \n",
      "[TRAIN 590, 1] loss: 0.17630159854888916 loss_reg: 0.2286584973335266 loss_line: 0.12394469976425171 acc: 0.1666666716337204 acc_reg: 0.1666666716337204 acc_line: 0.1666666716337204:   1%|          | 2/319 [00:00<00:17, 18.21it/s]"
     ]
    },
    {
     "name": "stdout",
     "output_type": "stream",
     "text": [
      "[VALIDATION 589] val_acc: 0.989944306930693 val_acc_reg: 0.9887066831683168 val_acc_line: 0.9911819306930693 \n"
     ]
    },
    {
     "name": "stderr",
     "output_type": "stream",
     "text": [
      "[TRAIN 590, 319] loss: 1.0578386783599854 loss_reg: 1.3719509840011597 loss_line: 0.7437260150909424 acc: 1.0 acc_reg: 1.0 acc_line: 1.0: 100%|██████████| 319/319 [00:14<00:00, 21.97it/s]                                             \n",
      "[TRAIN 591, 1] loss: 0.17630159854888916 loss_reg: 0.2286584973335266 loss_line: 0.12394469976425171 acc: 0.1666666716337204 acc_reg: 0.1666666716337204 acc_line: 0.1666666716337204:   1%|          | 2/319 [00:00<00:17, 18.15it/s]"
     ]
    },
    {
     "name": "stdout",
     "output_type": "stream",
     "text": [
      "[VALIDATION 590] val_acc: 0.9904857673267327 val_acc_reg: 0.9871596534653465 val_acc_line: 0.9938118811881188 \n"
     ]
    },
    {
     "name": "stderr",
     "output_type": "stream",
     "text": [
      "[TRAIN 591, 319] loss: 1.0578097105026245 loss_reg: 1.3719509840011597 loss_line: 0.7436681985855103 acc: 1.0 acc_reg: 1.0 acc_line: 1.0: 100%|██████████| 319/319 [00:14<00:00, 21.96it/s]                                             \n",
      "[TRAIN 592, 1] loss: 0.17630159854888916 loss_reg: 0.2286584973335266 loss_line: 0.12394469976425171 acc: 0.1666666716337204 acc_reg: 0.1666666716337204 acc_line: 0.1666666716337204:   1%|          | 3/319 [00:00<00:14, 21.51it/s]"
     ]
    },
    {
     "name": "stdout",
     "output_type": "stream",
     "text": [
      "[VALIDATION 591] val_acc: 0.9919554455445545 val_acc_reg: 0.9902537128712872 val_acc_line: 0.9936571782178217 \n"
     ]
    },
    {
     "name": "stderr",
     "output_type": "stream",
     "text": [
      "[TRAIN 592, 319] loss: 1.0580843687057495 loss_reg: 1.3719509840011597 loss_line: 0.7442173957824707 acc: 1.0 acc_reg: 1.0 acc_line: 1.0: 100%|██████████| 319/319 [00:14<00:00, 21.99it/s]                                           \n",
      "[TRAIN 593, 1] loss: 0.17630159854888916 loss_reg: 0.2286584973335266 loss_line: 0.12394469976425171 acc: 0.1666666716337204 acc_reg: 0.1666666716337204 acc_line: 0.1666666716337204:   1%|          | 2/319 [00:00<00:16, 19.56it/s]"
     ]
    },
    {
     "name": "stdout",
     "output_type": "stream",
     "text": [
      "[VALIDATION 592] val_acc: 0.989480198019802 val_acc_reg: 0.9856126237623762 val_acc_line: 0.9933477722772277 \n"
     ]
    },
    {
     "name": "stderr",
     "output_type": "stream",
     "text": [
      "[TRAIN 593, 319] loss: 1.0578097105026245 loss_reg: 1.3719509840011597 loss_line: 0.7436681985855103 acc: 1.0 acc_reg: 1.0 acc_line: 1.0: 100%|██████████| 319/319 [00:14<00:00, 22.06it/s]                                             \n",
      "[TRAIN 594, 1] loss: 0.17630159854888916 loss_reg: 0.2286584973335266 loss_line: 0.12394469976425171 acc: 0.1666666716337204 acc_reg: 0.1666666716337204 acc_line: 0.1666666716337204:   1%|          | 3/319 [00:00<00:13, 23.30it/s]"
     ]
    },
    {
     "name": "stdout",
     "output_type": "stream",
     "text": [
      "[VALIDATION 593] val_acc: 0.9917233910891089 val_acc_reg: 0.989325495049505 val_acc_line: 0.9941212871287128 \n"
     ]
    },
    {
     "name": "stderr",
     "output_type": "stream",
     "text": [
      "[TRAIN 594, 319] loss: 1.0578097105026245 loss_reg: 1.3719509840011597 loss_line: 0.7436681985855103 acc: 1.0 acc_reg: 1.0 acc_line: 1.0: 100%|██████████| 319/319 [00:14<00:00, 21.89it/s]                                             \n",
      "[TRAIN 595, 1] loss: 0.17630159854888916 loss_reg: 0.2286584973335266 loss_line: 0.12394469976425171 acc: 0.1666666716337204 acc_reg: 0.1666666716337204 acc_line: 0.1666666716337204:   1%|          | 2/319 [00:00<00:15, 19.83it/s]"
     ]
    },
    {
     "name": "stdout",
     "output_type": "stream",
     "text": [
      "[VALIDATION 594] val_acc: 0.9914139851485149 val_acc_reg: 0.989325495049505 val_acc_line: 0.9935024752475248 \n"
     ]
    },
    {
     "name": "stderr",
     "output_type": "stream",
     "text": [
      "[TRAIN 595, 319] loss: 1.0591118335723877 loss_reg: 1.3719511032104492 loss_line: 0.7462723255157471 acc: 0.9986979365348816 acc_reg: 1.0 acc_line: 0.9973958730697632: 100%|██████████| 319/319 [00:14<00:00, 21.87it/s]              \n",
      "[TRAIN 596, 1] loss: 0.17630159854888916 loss_reg: 0.2286584973335266 loss_line: 0.12394469976425171 acc: 0.1666666716337204 acc_reg: 0.1666666716337204 acc_line: 0.1666666716337204:   1%|          | 2/319 [00:00<00:18, 17.59it/s]"
     ]
    },
    {
     "name": "stdout",
     "output_type": "stream",
     "text": [
      "[VALIDATION 595] val_acc: 0.9909498762376238 val_acc_reg: 0.9883972772277227 val_acc_line: 0.9935024752475248 \n"
     ]
    },
    {
     "name": "stderr",
     "output_type": "stream",
     "text": [
      "[TRAIN 596, 319] loss: 1.0591118335723877 loss_reg: 1.3719511032104492 loss_line: 0.7462723255157471 acc: 0.9986979365348816 acc_reg: 1.0 acc_line: 0.9973958730697632: 100%|██████████| 319/319 [00:14<00:00, 21.84it/s]               \n",
      "[TRAIN 597, 1] loss: 0.17630159854888916 loss_reg: 0.2286584973335266 loss_line: 0.12394469976425171 acc: 0.1666666716337204 acc_reg: 0.1666666716337204 acc_line: 0.1666666716337204:   1%|          | 2/319 [00:00<00:16, 19.77it/s]"
     ]
    },
    {
     "name": "stdout",
     "output_type": "stream",
     "text": [
      "[VALIDATION 596] val_acc: 0.9913366336633663 val_acc_reg: 0.9902537128712872 val_acc_line: 0.9924195544554455 \n"
     ]
    },
    {
     "name": "stderr",
     "output_type": "stream",
     "text": [
      "[TRAIN 597, 319] loss: 1.059261679649353 loss_reg: 1.3722093105316162 loss_line: 0.7463139295578003 acc: 0.9986979365348816 acc_reg: 1.0 acc_line: 0.9973958730697632: 100%|██████████| 319/319 [00:14<00:00, 21.87it/s]                \n",
      "[TRAIN 598, 1] loss: 0.17630159854888916 loss_reg: 0.2286584973335266 loss_line: 0.12394469976425171 acc: 0.1666666716337204 acc_reg: 0.1666666716337204 acc_line: 0.1666666716337204:   1%|          | 2/319 [00:00<00:16, 19.65it/s]"
     ]
    },
    {
     "name": "stdout",
     "output_type": "stream",
     "text": [
      "[VALIDATION 597] val_acc: 0.992496905940594 val_acc_reg: 0.9913366336633663 val_acc_line: 0.9936571782178217 \n"
     ]
    },
    {
     "name": "stderr",
     "output_type": "stream",
     "text": [
      "[TRAIN 598, 319] loss: 1.0591118335723877 loss_reg: 1.3745553493499756 loss_line: 0.7436681985855103 acc: 0.9986979365348816 acc_reg: 0.9973958730697632 acc_line: 1.0: 100%|██████████| 319/319 [00:14<00:00, 21.75it/s]               \n",
      "[TRAIN 599, 1] loss: 0.17630159854888916 loss_reg: 0.2286584973335266 loss_line: 0.12394469976425171 acc: 0.1666666716337204 acc_reg: 0.1666666716337204 acc_line: 0.1666666716337204:   1%|          | 3/319 [00:00<00:14, 21.61it/s]"
     ]
    },
    {
     "name": "stdout",
     "output_type": "stream",
     "text": [
      "[VALIDATION 598] val_acc: 0.9911045792079208 val_acc_reg: 0.989634900990099 val_acc_line: 0.9925742574257426 \n"
     ]
    },
    {
     "name": "stderr",
     "output_type": "stream",
     "text": [
      "[TRAIN 599, 319] loss: 1.058382272720337 loss_reg: 1.3719515800476074 loss_line: 0.7448129057884216 acc: 0.9986979365348816 acc_reg: 1.0 acc_line: 0.9973958730697632: 100%|██████████| 319/319 [00:14<00:00, 21.71it/s]                \n",
      "[TRAIN 600, 1] loss: 0.17630159854888916 loss_reg: 0.2286584973335266 loss_line: 0.12394469976425171 acc: 0.1666666716337204 acc_reg: 0.1666666716337204 acc_line: 0.1666666716337204:   1%|          | 3/319 [00:00<00:14, 21.32it/s]"
     ]
    },
    {
     "name": "stdout",
     "output_type": "stream",
     "text": [
      "[VALIDATION 599] val_acc: 0.9910272277227723 val_acc_reg: 0.9887066831683168 val_acc_line: 0.9933477722772277 \n"
     ]
    },
    {
     "name": "stderr",
     "output_type": "stream",
     "text": [
      "[TRAIN 600, 319] loss: 1.057809829711914 loss_reg: 1.3719513416290283 loss_line: 0.7436681985855103 acc: 1.0 acc_reg: 1.0 acc_line: 1.0: 100%|██████████| 319/319 [00:14<00:00, 21.95it/s]                                              \n",
      "[TRAIN 601, 1] loss: 0.17630159854888916 loss_reg: 0.2286584973335266 loss_line: 0.12394469976425171 acc: 0.1666666716337204 acc_reg: 0.1666666716337204 acc_line: 0.1666666716337204:   1%|          | 2/319 [00:00<00:16, 18.94it/s]"
     ]
    },
    {
     "name": "stdout",
     "output_type": "stream",
     "text": [
      "[VALIDATION 600] val_acc: 0.9904084158415841 val_acc_reg: 0.9890160891089109 val_acc_line: 0.9918007425742574 \n"
     ]
    },
    {
     "name": "stderr",
     "output_type": "stream",
     "text": [
      "[TRAIN 601, 319] loss: 1.0578101873397827 loss_reg: 1.3719520568847656 loss_line: 0.7436681985855103 acc: 1.0 acc_reg: 1.0 acc_line: 1.0: 100%|██████████| 319/319 [00:14<00:00, 21.98it/s]                                             \n",
      "[TRAIN 602, 1] loss: 0.17630159854888916 loss_reg: 0.2286584973335266 loss_line: 0.12394469976425171 acc: 0.1666666716337204 acc_reg: 0.1666666716337204 acc_line: 0.1666666716337204:   1%|          | 3/319 [00:00<00:14, 22.26it/s]"
     ]
    },
    {
     "name": "stdout",
     "output_type": "stream",
     "text": [
      "[VALIDATION 601] val_acc: 0.9897896039603961 val_acc_reg: 0.9868502475247525 val_acc_line: 0.9927289603960396 \n"
     ]
    },
    {
     "name": "stderr",
     "output_type": "stream",
     "text": [
      "[TRAIN 602, 319] loss: 1.0591118335723877 loss_reg: 1.3745553493499756 loss_line: 0.7436681985855103 acc: 0.9986979365348816 acc_reg: 0.9973958730697632 acc_line: 1.0: 100%|██████████| 319/319 [00:14<00:00, 21.95it/s]               \n",
      "[TRAIN 603, 1] loss: 0.17760369181632996 loss_reg: 0.231262668967247 loss_line: 0.12394469976425171 acc: 0.1653645932674408 acc_reg: 0.1640625 acc_line: 0.1666666716337204:   1%|          | 3/319 [00:00<00:15, 20.96it/s]"
     ]
    },
    {
     "name": "stdout",
     "output_type": "stream",
     "text": [
      "[VALIDATION 602] val_acc: 0.9913366336633663 val_acc_reg: 0.9885519801980198 val_acc_line: 0.9941212871287128 \n"
     ]
    },
    {
     "name": "stderr",
     "output_type": "stream",
     "text": [
      "[TRAIN 603, 319] loss: 1.0591118335723877 loss_reg: 1.3745551109313965 loss_line: 0.7436681985855103 acc: 0.9986979365348816 acc_reg: 0.9973958730697632 acc_line: 1.0: 100%|██████████| 319/319 [00:14<00:00, 22.05it/s]               \n",
      "[TRAIN 604, 1] loss: 0.17630159854888916 loss_reg: 0.2286584973335266 loss_line: 0.12394469976425171 acc: 0.1666666716337204 acc_reg: 0.1666666716337204 acc_line: 0.1666666716337204:   1%|          | 3/319 [00:00<00:15, 21.02it/s]"
     ]
    },
    {
     "name": "stdout",
     "output_type": "stream",
     "text": [
      "[VALIDATION 603] val_acc: 0.9907178217821783 val_acc_reg: 0.989325495049505 val_acc_line: 0.9921101485148515 \n"
     ]
    },
    {
     "name": "stderr",
     "output_type": "stream",
     "text": [
      "[TRAIN 604, 319] loss: 1.0578097105026245 loss_reg: 1.3719509840011597 loss_line: 0.7436681985855103 acc: 1.0 acc_reg: 1.0 acc_line: 1.0: 100%|██████████| 319/319 [00:14<00:00, 21.97it/s]                                           \n",
      "[TRAIN 605, 1] loss: 0.17630159854888916 loss_reg: 0.2286584973335266 loss_line: 0.12394469976425171 acc: 0.1666666716337204 acc_reg: 0.1666666716337204 acc_line: 0.1666666716337204:   1%|          | 3/319 [00:00<00:15, 20.89it/s]"
     ]
    },
    {
     "name": "stdout",
     "output_type": "stream",
     "text": [
      "[VALIDATION 604] val_acc: 0.9907951732673267 val_acc_reg: 0.9877784653465347 val_acc_line: 0.9938118811881188 \n"
     ]
    },
    {
     "name": "stderr",
     "output_type": "stream",
     "text": [
      "[TRAIN 605, 319] loss: 1.0591142177581787 loss_reg: 1.3719561100006104 loss_line: 0.7462723255157471 acc: 0.9986979365348816 acc_reg: 1.0 acc_line: 0.9973958730697632: 100%|██████████| 319/319 [00:14<00:00, 21.97it/s]               \n",
      "[TRAIN 606, 1] loss: 0.17631962895393372 loss_reg: 0.22869454324245453 loss_line: 0.12394469976425171 acc: 0.1666666716337204 acc_reg: 0.1666666716337204 acc_line: 0.1666666716337204:   1%|          | 3/319 [00:00<00:14, 22.36it/s]"
     ]
    },
    {
     "name": "stdout",
     "output_type": "stream",
     "text": [
      "[VALIDATION 605] val_acc: 0.9914913366336634 val_acc_reg: 0.9883972772277227 val_acc_line: 0.9945853960396039 \n"
     ]
    },
    {
     "name": "stderr",
     "output_type": "stream",
     "text": [
      "[TRAIN 606, 319] loss: 1.0591118335723877 loss_reg: 1.3745553493499756 loss_line: 0.7436681985855103 acc: 0.9986979365348816 acc_reg: 0.9973958730697632 acc_line: 1.0: 100%|██████████| 319/319 [00:14<00:00, 21.90it/s]               \n",
      "[TRAIN 607, 1] loss: 0.17630159854888916 loss_reg: 0.2286584973335266 loss_line: 0.12394469976425171 acc: 0.1666666716337204 acc_reg: 0.1666666716337204 acc_line: 0.1666666716337204:   1%|          | 2/319 [00:00<00:15, 19.89it/s]"
     ]
    },
    {
     "name": "stdout",
     "output_type": "stream",
     "text": [
      "[VALIDATION 606] val_acc: 0.9908725247524752 val_acc_reg: 0.9877784653465347 val_acc_line: 0.9939665841584159 \n"
     ]
    },
    {
     "name": "stderr",
     "output_type": "stream",
     "text": [
      "[TRAIN 607, 319] loss: 1.0578187704086304 loss_reg: 1.371969223022461 loss_line: 0.7436681985855103 acc: 1.0 acc_reg: 1.0 acc_line: 1.0: 100%|██████████| 319/319 [00:14<00:00, 21.90it/s]                                              \n",
      "[TRAIN 608, 1] loss: 0.17630159854888916 loss_reg: 0.2286584973335266 loss_line: 0.12394469976425171 acc: 0.1666666716337204 acc_reg: 0.1666666716337204 acc_line: 0.1666666716337204:   1%|          | 3/319 [00:00<00:14, 21.42it/s]"
     ]
    },
    {
     "name": "stdout",
     "output_type": "stream",
     "text": [
      "[VALIDATION 607] val_acc: 0.9890934405940595 val_acc_reg: 0.9862314356435643 val_acc_line: 0.9919554455445545 \n"
     ]
    },
    {
     "name": "stderr",
     "output_type": "stream",
     "text": [
      "[TRAIN 608, 319] loss: 1.0578097105026245 loss_reg: 1.3719509840011597 loss_line: 0.7436681985855103 acc: 1.0 acc_reg: 1.0 acc_line: 1.0: 100%|██████████| 319/319 [00:14<00:00, 21.98it/s]                                           \n",
      "[TRAIN 609, 1] loss: 0.17630159854888916 loss_reg: 0.2286584973335266 loss_line: 0.12394469976425171 acc: 0.1666666716337204 acc_reg: 0.1666666716337204 acc_line: 0.1666666716337204:   1%|          | 2/319 [00:00<00:15, 19.88it/s]"
     ]
    },
    {
     "name": "stdout",
     "output_type": "stream",
     "text": [
      "[VALIDATION 608] val_acc: 0.9878558168316832 val_acc_reg: 0.9836014851485149 val_acc_line: 0.9921101485148515 \n"
     ]
    },
    {
     "name": "stderr",
     "output_type": "stream",
     "text": [
      "[TRAIN 609, 319] loss: 1.0604140758514404 loss_reg: 1.3771593570709229 loss_line: 0.7436684370040894 acc: 0.9973958730697632 acc_reg: 0.9947916865348816 acc_line: 1.0: 100%|██████████| 319/319 [00:14<00:00, 21.99it/s]               \n",
      "[TRAIN 610, 1] loss: 0.17630159854888916 loss_reg: 0.2286584973335266 loss_line: 0.12394469976425171 acc: 0.1666666716337204 acc_reg: 0.1666666716337204 acc_line: 0.1666666716337204:   1%|          | 2/319 [00:00<00:16, 19.03it/s]"
     ]
    },
    {
     "name": "stdout",
     "output_type": "stream",
     "text": [
      "[VALIDATION 609] val_acc: 0.9908725247524752 val_acc_reg: 0.9887066831683168 val_acc_line: 0.9930383663366337 \n"
     ]
    },
    {
     "name": "stderr",
     "output_type": "stream",
     "text": [
      "[TRAIN 610, 319] loss: 1.0591118335723877 loss_reg: 1.3745551109313965 loss_line: 0.7436681985855103 acc: 0.9986979365348816 acc_reg: 0.9973958730697632 acc_line: 1.0: 100%|██████████| 319/319 [00:14<00:00, 21.96it/s]               \n",
      "[TRAIN 611, 1] loss: 0.17630159854888916 loss_reg: 0.2286584973335266 loss_line: 0.12394469976425171 acc: 0.1666666716337204 acc_reg: 0.1666666716337204 acc_line: 0.1666666716337204:   1%|          | 2/319 [00:00<00:16, 19.23it/s]"
     ]
    },
    {
     "name": "stdout",
     "output_type": "stream",
     "text": [
      "[VALIDATION 610] val_acc: 0.9905631188118812 val_acc_reg: 0.9891707920792079 val_acc_line: 0.9919554455445545 \n"
     ]
    },
    {
     "name": "stderr",
     "output_type": "stream",
     "text": [
      "[TRAIN 611, 319] loss: 1.0591118335723877 loss_reg: 1.3719509840011597 loss_line: 0.7462723255157471 acc: 0.9986979365348816 acc_reg: 1.0 acc_line: 0.9973958730697632: 100%|██████████| 319/319 [00:14<00:00, 21.96it/s]               \n",
      "[TRAIN 612, 1] loss: 0.17630299925804138 loss_reg: 0.22866126894950867 loss_line: 0.12394469976425171 acc: 0.1666666716337204 acc_reg: 0.1666666716337204 acc_line: 0.1666666716337204:   1%|          | 3/319 [00:00<00:14, 21.39it/s]"
     ]
    },
    {
     "name": "stdout",
     "output_type": "stream",
     "text": [
      "[VALIDATION 611] val_acc: 0.9913366336633663 val_acc_reg: 0.989634900990099 val_acc_line: 0.9930383663366337 \n"
     ]
    },
    {
     "name": "stderr",
     "output_type": "stream",
     "text": [
      "[TRAIN 612, 319] loss: 1.0604138374328613 loss_reg: 1.3719509840011597 loss_line: 0.7488765120506287 acc: 0.9973958730697632 acc_reg: 1.0 acc_line: 0.9947916865348816: 100%|██████████| 319/319 [00:14<00:00, 21.93it/s]               \n",
      "[TRAIN 613, 1] loss: 0.17630159854888916 loss_reg: 0.2286584973335266 loss_line: 0.12394469976425171 acc: 0.1666666716337204 acc_reg: 0.1666666716337204 acc_line: 0.1666666716337204:   1%|          | 2/319 [00:00<00:17, 18.31it/s]"
     ]
    },
    {
     "name": "stdout",
     "output_type": "stream",
     "text": [
      "[VALIDATION 612] val_acc: 0.9910272277227723 val_acc_reg: 0.9897896039603961 val_acc_line: 0.9922648514851485 \n"
     ]
    },
    {
     "name": "stderr",
     "output_type": "stream",
     "text": [
      "[TRAIN 613, 319] loss: 1.0617159605026245 loss_reg: 1.3771593570709229 loss_line: 0.7462725043296814 acc: 0.99609375 acc_reg: 0.9947916865348816 acc_line: 0.9973958730697632: 100%|██████████| 319/319 [00:14<00:00, 21.96it/s]        \n",
      "[TRAIN 614, 1] loss: 0.17630159854888916 loss_reg: 0.2286584973335266 loss_line: 0.12394469976425171 acc: 0.1666666716337204 acc_reg: 0.1666666716337204 acc_line: 0.1666666716337204:   1%|          | 3/319 [00:00<00:14, 21.76it/s]"
     ]
    },
    {
     "name": "stdout",
     "output_type": "stream",
     "text": [
      "[VALIDATION 613] val_acc: 0.9910272277227723 val_acc_reg: 0.9883972772277227 val_acc_line: 0.9936571782178217 \n"
     ]
    },
    {
     "name": "stderr",
     "output_type": "stream",
     "text": [
      "[TRAIN 614, 319] loss: 1.0591118335723877 loss_reg: 1.3745554685592651 loss_line: 0.7436681985855103 acc: 0.9986979365348816 acc_reg: 0.9973958730697632 acc_line: 1.0: 100%|██████████| 319/319 [00:14<00:00, 21.97it/s]               \n",
      "[TRAIN 615, 1] loss: 0.17759928107261658 loss_reg: 0.23125384747982025 loss_line: 0.12394469976425171 acc: 0.1653645932674408 acc_reg: 0.1640625 acc_line: 0.1666666716337204:   1%|          | 2/319 [00:00<00:16, 19.57it/s]"
     ]
    },
    {
     "name": "stdout",
     "output_type": "stream",
     "text": [
      "[VALIDATION 614] val_acc: 0.9904857673267327 val_acc_reg: 0.9877784653465347 val_acc_line: 0.9931930693069307 \n"
     ]
    },
    {
     "name": "stderr",
     "output_type": "stream",
     "text": [
      "[TRAIN 615, 319] loss: 1.0604162216186523 loss_reg: 1.3719547986984253 loss_line: 0.7488774061203003 acc: 0.9973958730697632 acc_reg: 1.0 acc_line: 0.9947916865348816: 100%|██████████| 319/319 [00:14<00:00, 21.91it/s]               \n",
      "[TRAIN 616, 1] loss: 0.17760369181632996 loss_reg: 0.2286584973335266 loss_line: 0.1265488713979721 acc: 0.1653645932674408 acc_reg: 0.1666666716337204 acc_line: 0.1640625:   1%|          | 2/319 [00:00<00:15, 19.96it/s]"
     ]
    },
    {
     "name": "stdout",
     "output_type": "stream",
     "text": [
      "[VALIDATION 615] val_acc: 0.9909498762376238 val_acc_reg: 0.9879331683168316 val_acc_line: 0.9939665841584159 \n"
     ]
    },
    {
     "name": "stderr",
     "output_type": "stream",
     "text": [
      "[TRAIN 616, 319] loss: 1.0578097105026245 loss_reg: 1.3719509840011597 loss_line: 0.7436681985855103 acc: 1.0 acc_reg: 1.0 acc_line: 1.0: 100%|██████████| 319/319 [00:14<00:00, 22.01it/s]                                             \n",
      "[TRAIN 617, 1] loss: 0.17630159854888916 loss_reg: 0.2286584973335266 loss_line: 0.12394469976425171 acc: 0.1666666716337204 acc_reg: 0.1666666716337204 acc_line: 0.1666666716337204:   1%|          | 2/319 [00:00<00:16, 19.22it/s]"
     ]
    },
    {
     "name": "stdout",
     "output_type": "stream",
     "text": [
      "[VALIDATION 616] val_acc: 0.9908725247524752 val_acc_reg: 0.9888613861386139 val_acc_line: 0.9928836633663366 \n"
     ]
    },
    {
     "name": "stderr",
     "output_type": "stream",
     "text": [
      "[TRAIN 617, 319] loss: 1.0601309537887573 loss_reg: 1.3739895820617676 loss_line: 0.7462723255157471 acc: 0.9973958730697632 acc_reg: 0.9973958730697632 acc_line: 0.9973958730697632: 100%|██████████| 319/319 [00:14<00:00, 22.00it/s]\n",
      "[TRAIN 618, 1] loss: 0.17630159854888916 loss_reg: 0.2286584973335266 loss_line: 0.12394469976425171 acc: 0.1666666716337204 acc_reg: 0.1666666716337204 acc_line: 0.1666666716337204:   1%|          | 3/319 [00:00<00:14, 21.43it/s]"
     ]
    },
    {
     "name": "stdout",
     "output_type": "stream",
     "text": [
      "[VALIDATION 617] val_acc: 0.9923422029702971 val_acc_reg: 0.9902537128712872 val_acc_line: 0.994430693069307 \n"
     ]
    },
    {
     "name": "stderr",
     "output_type": "stream",
     "text": [
      "[TRAIN 618, 319] loss: 1.06171452999115 loss_reg: 1.3771564960479736 loss_line: 0.7462723255157471 acc: 0.99609375 acc_reg: 0.9947916865348816 acc_line: 0.9973958730697632: 100%|██████████| 319/319 [00:14<00:00, 21.94it/s]          \n",
      "[TRAIN 619, 1] loss: 0.17631247639656067 loss_reg: 0.22868023812770844 loss_line: 0.12394469976425171 acc: 0.1666666716337204 acc_reg: 0.1666666716337204 acc_line: 0.1666666716337204:   1%|          | 2/319 [00:00<00:16, 18.82it/s]"
     ]
    },
    {
     "name": "stdout",
     "output_type": "stream",
     "text": [
      "[VALIDATION 618] val_acc: 0.9910272277227723 val_acc_reg: 0.9888613861386139 val_acc_line: 0.9931930693069307 \n"
     ]
    },
    {
     "name": "stderr",
     "output_type": "stream",
     "text": [
      "[TRAIN 619, 319] loss: 1.057809829711914 loss_reg: 1.3719514608383179 loss_line: 0.7436681985855103 acc: 1.0 acc_reg: 1.0 acc_line: 1.0: 100%|██████████| 319/319 [00:14<00:00, 21.90it/s]                                              \n",
      "[TRAIN 620, 1] loss: 0.17630237340927124 loss_reg: 0.2286584973335266 loss_line: 0.12394624203443527 acc: 0.1666666716337204 acc_reg: 0.1666666716337204 acc_line: 0.1666666716337204:   1%|          | 3/319 [00:00<00:15, 20.96it/s]"
     ]
    },
    {
     "name": "stdout",
     "output_type": "stream",
     "text": [
      "[VALIDATION 619] val_acc: 0.9887066831683168 val_acc_reg: 0.9854579207920792 val_acc_line: 0.9919554455445545 \n"
     ]
    },
    {
     "name": "stderr",
     "output_type": "stream",
     "text": [
      "[TRAIN 620, 319] loss: 1.0600858926773071 loss_reg: 1.3726484775543213 loss_line: 0.7475234270095825 acc: 0.9973958730697632 acc_reg: 1.0 acc_line: 0.9947916865348816: 100%|██████████| 319/319 [00:14<00:00, 21.89it/s]               \n",
      "[TRAIN 621, 1] loss: 0.17630159854888916 loss_reg: 0.2286584973335266 loss_line: 0.12394469976425171 acc: 0.1666666716337204 acc_reg: 0.1666666716337204 acc_line: 0.1666666716337204:   1%|          | 3/319 [00:00<00:13, 22.58it/s]"
     ]
    },
    {
     "name": "stdout",
     "output_type": "stream",
     "text": [
      "[VALIDATION 620] val_acc: 0.9918007425742574 val_acc_reg: 0.989944306930693 val_acc_line: 0.9936571782178217 \n"
     ]
    },
    {
     "name": "stderr",
     "output_type": "stream",
     "text": [
      "[TRAIN 621, 319] loss: 1.0578097105026245 loss_reg: 1.3719509840011597 loss_line: 0.7436681985855103 acc: 1.0 acc_reg: 1.0 acc_line: 1.0: 100%|██████████| 319/319 [00:14<00:00, 21.81it/s]                                             \n",
      "[TRAIN 622, 1] loss: 0.17630159854888916 loss_reg: 0.2286584973335266 loss_line: 0.12394469976425171 acc: 0.1666666716337204 acc_reg: 0.1666666716337204 acc_line: 0.1666666716337204:   1%|          | 3/319 [00:00<00:13, 22.96it/s]"
     ]
    },
    {
     "name": "stdout",
     "output_type": "stream",
     "text": [
      "[VALIDATION 621] val_acc: 0.9928836633663366 val_acc_reg: 0.9905631188118812 val_acc_line: 0.9952042079207921 \n"
     ]
    },
    {
     "name": "stderr",
     "output_type": "stream",
     "text": [
      "[TRAIN 622, 319] loss: 1.0578097105026245 loss_reg: 1.3719509840011597 loss_line: 0.7436681985855103 acc: 1.0 acc_reg: 1.0 acc_line: 1.0: 100%|██████████| 319/319 [00:14<00:00, 21.75it/s]                                             \n",
      "[TRAIN 623, 1] loss: 0.1775227040052414 loss_reg: 0.2286584973335266 loss_line: 0.12638692557811737 acc: 0.1653645932674408 acc_reg: 0.1666666716337204 acc_line: 0.1640625:   1%|          | 3/319 [00:00<00:14, 21.38it/s]"
     ]
    },
    {
     "name": "stdout",
     "output_type": "stream",
     "text": [
      "[VALIDATION 622] val_acc: 0.991878094059406 val_acc_reg: 0.9904084158415841 val_acc_line: 0.9933477722772277 \n"
     ]
    },
    {
     "name": "stderr",
     "output_type": "stream",
     "text": [
      "[TRAIN 623, 319] loss: 1.0602455139160156 loss_reg: 1.3719509840011597 loss_line: 0.7485398054122925 acc: 0.9973958730697632 acc_reg: 1.0 acc_line: 0.9947916865348816: 100%|██████████| 319/319 [00:14<00:00, 21.93it/s]               \n",
      "[TRAIN 624, 1] loss: 0.17630159854888916 loss_reg: 0.2286584973335266 loss_line: 0.12394469976425171 acc: 0.1666666716337204 acc_reg: 0.1666666716337204 acc_line: 0.1666666716337204:   1%|          | 3/319 [00:00<00:13, 23.08it/s]"
     ]
    },
    {
     "name": "stdout",
     "output_type": "stream",
     "text": [
      "[VALIDATION 623] val_acc: 0.9907178217821783 val_acc_reg: 0.9870049504950495 val_acc_line: 0.994430693069307 \n"
     ]
    },
    {
     "name": "stderr",
     "output_type": "stream",
     "text": [
      "[TRAIN 624, 319] loss: 1.0617159605026245 loss_reg: 1.3745551109313965 loss_line: 0.7488765120506287 acc: 0.99609375 acc_reg: 0.9973958730697632 acc_line: 0.9947916865348816: 100%|██████████| 319/319 [00:14<00:00, 21.95it/s]        \n",
      "[TRAIN 625, 1] loss: 0.1763017177581787 loss_reg: 0.2286587357521057 loss_line: 0.12394469976425171 acc: 0.1666666716337204 acc_reg: 0.1666666716337204 acc_line: 0.1666666716337204:   1%|          | 3/319 [00:00<00:15, 20.32it/s]"
     ]
    },
    {
     "name": "stdout",
     "output_type": "stream",
     "text": [
      "[VALIDATION 624] val_acc: 0.9921101485148515 val_acc_reg: 0.9897896039603961 val_acc_line: 0.994430693069307 \n"
     ]
    },
    {
     "name": "stderr",
     "output_type": "stream",
     "text": [
      "[TRAIN 625, 319] loss: 1.0578097105026245 loss_reg: 1.3719509840011597 loss_line: 0.7436681985855103 acc: 1.0 acc_reg: 1.0 acc_line: 1.0: 100%|██████████| 319/319 [00:14<00:00, 21.89it/s]                                             \n",
      "[TRAIN 626, 1] loss: 0.17630159854888916 loss_reg: 0.2286584973335266 loss_line: 0.12394469976425171 acc: 0.1666666716337204 acc_reg: 0.1666666716337204 acc_line: 0.1666666716337204:   1%|          | 3/319 [00:00<00:15, 20.93it/s]"
     ]
    },
    {
     "name": "stdout",
     "output_type": "stream",
     "text": [
      "[VALIDATION 625] val_acc: 0.9921875 val_acc_reg: 0.989944306930693 val_acc_line: 0.994430693069307 \n"
     ]
    },
    {
     "name": "stderr",
     "output_type": "stream",
     "text": [
      "[TRAIN 626, 319] loss: 1.0591418743133545 loss_reg: 1.3719509840011597 loss_line: 0.7463325262069702 acc: 0.9986979365348816 acc_reg: 1.0 acc_line: 0.9973958730697632: 100%|██████████| 319/319 [00:14<00:00, 21.88it/s]               \n",
      "[TRAIN 627, 1] loss: 0.17630159854888916 loss_reg: 0.228658527135849 loss_line: 0.12394469976425171 acc: 0.1666666716337204 acc_reg: 0.1666666716337204 acc_line: 0.1666666716337204:   1%|          | 2/319 [00:00<00:16, 19.06it/s]"
     ]
    },
    {
     "name": "stdout",
     "output_type": "stream",
     "text": [
      "[VALIDATION 626] val_acc: 0.9916460396039604 val_acc_reg: 0.9890160891089109 val_acc_line: 0.9942759900990099 \n"
     ]
    },
    {
     "name": "stderr",
     "output_type": "stream",
     "text": [
      "[TRAIN 627, 319] loss: 1.0591118335723877 loss_reg: 1.3745553493499756 loss_line: 0.7436681985855103 acc: 0.9986979365348816 acc_reg: 0.9973958730697632 acc_line: 1.0: 100%|██████████| 319/319 [00:14<00:00, 21.92it/s]               \n",
      "[TRAIN 628, 1] loss: 0.17630159854888916 loss_reg: 0.2286584973335266 loss_line: 0.12394469976425171 acc: 0.1666666716337204 acc_reg: 0.1666666716337204 acc_line: 0.1666666716337204:   1%|          | 3/319 [00:00<00:14, 21.31it/s]"
     ]
    },
    {
     "name": "stdout",
     "output_type": "stream",
     "text": [
      "[VALIDATION 627] val_acc: 0.9916460396039604 val_acc_reg: 0.9900990099009901 val_acc_line: 0.9931930693069307 \n"
     ]
    },
    {
     "name": "stderr",
     "output_type": "stream",
     "text": [
      "[TRAIN 628, 319] loss: 1.0591118335723877 loss_reg: 1.3719511032104492 loss_line: 0.7462723255157471 acc: 0.9986979365348816 acc_reg: 1.0 acc_line: 0.9973958730697632: 100%|██████████| 319/319 [00:14<00:00, 21.89it/s]               \n",
      "[TRAIN 629, 1] loss: 0.17630159854888916 loss_reg: 0.2286584973335266 loss_line: 0.12394469976425171 acc: 0.1666666716337204 acc_reg: 0.1666666716337204 acc_line: 0.1666666716337204:   1%|          | 3/319 [00:00<00:15, 20.69it/s]"
     ]
    },
    {
     "name": "stdout",
     "output_type": "stream",
     "text": [
      "[VALIDATION 628] val_acc: 0.9917233910891089 val_acc_reg: 0.9890160891089109 val_acc_line: 0.994430693069307 \n"
     ]
    },
    {
     "name": "stderr",
     "output_type": "stream",
     "text": [
      "[TRAIN 629, 319] loss: 1.065413236618042 loss_reg: 1.3793458938598633 loss_line: 0.7514806985855103 acc: 0.9921875 acc_reg: 0.9921875 acc_line: 0.9921875: 100%|██████████| 319/319 [00:14<00:00, 22.04it/s]                            \n",
      "[TRAIN 630, 1] loss: 0.17630159854888916 loss_reg: 0.2286584973335266 loss_line: 0.12394469976425171 acc: 0.1666666716337204 acc_reg: 0.1666666716337204 acc_line: 0.1666666716337204:   1%|          | 2/319 [00:00<00:15, 19.90it/s]"
     ]
    },
    {
     "name": "stdout",
     "output_type": "stream",
     "text": [
      "[VALIDATION 629] val_acc: 0.9909498762376238 val_acc_reg: 0.9887066831683168 val_acc_line: 0.9931930693069307 \n"
     ]
    },
    {
     "name": "stderr",
     "output_type": "stream",
     "text": [
      "[TRAIN 630, 319] loss: 1.0591118335723877 loss_reg: 1.3745551109313965 loss_line: 0.7436681985855103 acc: 0.9986979365348816 acc_reg: 0.9973958730697632 acc_line: 1.0: 100%|██████████| 319/319 [00:14<00:00, 21.99it/s]               \n",
      "[TRAIN 631, 1] loss: 0.17630159854888916 loss_reg: 0.2286584973335266 loss_line: 0.12394469976425171 acc: 0.1666666716337204 acc_reg: 0.1666666716337204 acc_line: 0.1666666716337204:   1%|          | 2/319 [00:00<00:16, 19.57it/s]"
     ]
    },
    {
     "name": "stdout",
     "output_type": "stream",
     "text": [
      "[VALIDATION 630] val_acc: 0.9907178217821783 val_acc_reg: 0.989480198019802 val_acc_line: 0.9919554455445545 \n"
     ]
    },
    {
     "name": "stderr",
     "output_type": "stream",
     "text": [
      "[TRAIN 631, 319] loss: 1.0578097105026245 loss_reg: 1.3719509840011597 loss_line: 0.7436681985855103 acc: 1.0 acc_reg: 1.0 acc_line: 1.0: 100%|██████████| 319/319 [00:14<00:00, 21.81it/s]                                             \n",
      "[TRAIN 632, 1] loss: 0.17630159854888916 loss_reg: 0.2286584973335266 loss_line: 0.12394469976425171 acc: 0.1666666716337204 acc_reg: 0.1666666716337204 acc_line: 0.1666666716337204:   1%|          | 3/319 [00:00<00:15, 20.73it/s]"
     ]
    },
    {
     "name": "stdout",
     "output_type": "stream",
     "text": [
      "[VALIDATION 631] val_acc: 0.9904084158415841 val_acc_reg: 0.9879331683168316 val_acc_line: 0.9928836633663366 \n"
     ]
    },
    {
     "name": "stderr",
     "output_type": "stream",
     "text": [
      "[TRAIN 632, 319] loss: 1.0630180835723877 loss_reg: 1.3771593570709229 loss_line: 0.7488767504692078 acc: 0.9947916865348816 acc_reg: 0.9947916865348816 acc_line: 0.9947916865348816: 100%|██████████| 319/319 [00:14<00:00, 21.83it/s]\n",
      "[TRAIN 633, 1] loss: 0.17630159854888916 loss_reg: 0.2286584973335266 loss_line: 0.12394469976425171 acc: 0.1666666716337204 acc_reg: 0.1666666716337204 acc_line: 0.1666666716337204:   1%|          | 2/319 [00:00<00:17, 17.99it/s]"
     ]
    },
    {
     "name": "stdout",
     "output_type": "stream",
     "text": [
      "[VALIDATION 632] val_acc: 0.9887840346534653 val_acc_reg: 0.9859220297029703 val_acc_line: 0.9916460396039604 \n"
     ]
    },
    {
     "name": "stderr",
     "output_type": "stream",
     "text": [
      "[TRAIN 633, 319] loss: 1.057820200920105 loss_reg: 1.3719509840011597 loss_line: 0.743689239025116 acc: 1.0 acc_reg: 1.0 acc_line: 1.0: 100%|██████████| 319/319 [00:14<00:00, 21.88it/s]                                               \n",
      "[TRAIN 634, 1] loss: 0.17759010195732117 loss_reg: 0.23123548924922943 loss_line: 0.12394469976425171 acc: 0.1653645932674408 acc_reg: 0.1640625 acc_line: 0.1666666716337204:   1%|          | 2/319 [00:00<00:17, 17.85it/s]"
     ]
    },
    {
     "name": "stdout",
     "output_type": "stream",
     "text": [
      "[VALIDATION 633] val_acc: 0.9895575495049505 val_acc_reg: 0.9863861386138614 val_acc_line: 0.9927289603960396 \n"
     ]
    },
    {
     "name": "stderr",
     "output_type": "stream",
     "text": [
      "[TRAIN 634, 319] loss: 1.0590537786483765 loss_reg: 1.3744394779205322 loss_line: 0.7436681985855103 acc: 0.9986979365348816 acc_reg: 0.9973958730697632 acc_line: 1.0: 100%|██████████| 319/319 [00:14<00:00, 21.88it/s]               \n",
      "[TRAIN 635, 1] loss: 0.17630159854888916 loss_reg: 0.2286584973335266 loss_line: 0.12394469976425171 acc: 0.1666666716337204 acc_reg: 0.1666666716337204 acc_line: 0.1666666716337204:   1%|          | 2/319 [00:00<00:20, 15.11it/s]"
     ]
    },
    {
     "name": "stdout",
     "output_type": "stream",
     "text": [
      "[VALIDATION 634] val_acc: 0.9917233910891089 val_acc_reg: 0.9890160891089109 val_acc_line: 0.994430693069307 \n"
     ]
    },
    {
     "name": "stderr",
     "output_type": "stream",
     "text": [
      "[TRAIN 635, 319] loss: 1.0591456890106201 loss_reg: 1.3746230602264404 loss_line: 0.7436681985855103 acc: 0.9986979365348816 acc_reg: 0.9973958730697632 acc_line: 1.0: 100%|██████████| 319/319 [00:14<00:00, 21.87it/s]               \n",
      "[TRAIN 636, 1] loss: 0.17630159854888916 loss_reg: 0.2286584973335266 loss_line: 0.12394469976425171 acc: 0.1666666716337204 acc_reg: 0.1666666716337204 acc_line: 0.1666666716337204:   1%|          | 2/319 [00:00<00:16, 18.90it/s]"
     ]
    },
    {
     "name": "stdout",
     "output_type": "stream",
     "text": [
      "[VALIDATION 635] val_acc: 0.9905631188118812 val_acc_reg: 0.9888613861386139 val_acc_line: 0.9922648514851485 \n"
     ]
    },
    {
     "name": "stderr",
     "output_type": "stream",
     "text": [
      "[TRAIN 636, 319] loss: 1.0578097105026245 loss_reg: 1.3719509840011597 loss_line: 0.743668258190155 acc: 1.0 acc_reg: 1.0 acc_line: 1.0: 100%|██████████| 319/319 [00:14<00:00, 21.87it/s]                                              \n",
      "[TRAIN 637, 1] loss: 0.17630159854888916 loss_reg: 0.2286584973335266 loss_line: 0.12394469976425171 acc: 0.1666666716337204 acc_reg: 0.1666666716337204 acc_line: 0.1666666716337204:   1%|          | 3/319 [00:00<00:13, 22.94it/s]"
     ]
    },
    {
     "name": "stdout",
     "output_type": "stream",
     "text": [
      "[VALIDATION 636] val_acc: 0.9905631188118812 val_acc_reg: 0.9883972772277227 val_acc_line: 0.9927289603960396 \n"
     ]
    },
    {
     "name": "stderr",
     "output_type": "stream",
     "text": [
      "[TRAIN 637, 319] loss: 1.0578097105026245 loss_reg: 1.3719511032104492 loss_line: 0.7436681985855103 acc: 1.0 acc_reg: 1.0 acc_line: 1.0: 100%|██████████| 319/319 [00:14<00:00, 21.78it/s]                                             \n",
      "[TRAIN 638, 1] loss: 0.17760369181632996 loss_reg: 0.231262668967247 loss_line: 0.12394469976425171 acc: 0.1653645932674408 acc_reg: 0.1640625 acc_line: 0.1666666716337204:   1%|          | 2/319 [00:00<00:20, 15.25it/s]"
     ]
    },
    {
     "name": "stdout",
     "output_type": "stream",
     "text": [
      "[VALIDATION 637] val_acc: 0.9915686881188119 val_acc_reg: 0.989325495049505 val_acc_line: 0.9938118811881188 \n"
     ]
    },
    {
     "name": "stderr",
     "output_type": "stream",
     "text": [
      "[TRAIN 638, 319] loss: 1.0591176748275757 loss_reg: 1.3719627857208252 loss_line: 0.7462723255157471 acc: 0.9986979365348816 acc_reg: 1.0 acc_line: 0.9973958730697632: 100%|██████████| 319/319 [00:14<00:00, 21.77it/s]               \n",
      "[TRAIN 639, 1] loss: 0.17630159854888916 loss_reg: 0.2286584973335266 loss_line: 0.12394469976425171 acc: 0.1666666716337204 acc_reg: 0.1666666716337204 acc_line: 0.1666666716337204:   1%|          | 2/319 [00:00<00:17, 18.02it/s]"
     ]
    },
    {
     "name": "stdout",
     "output_type": "stream",
     "text": [
      "[VALIDATION 638] val_acc: 0.9894028465346535 val_acc_reg: 0.9865408415841584 val_acc_line: 0.9922648514851485 \n"
     ]
    },
    {
     "name": "stderr",
     "output_type": "stream",
     "text": [
      "[TRAIN 639, 319] loss: 1.058480143547058 loss_reg: 1.373208999633789 loss_line: 0.743751049041748 acc: 0.9986979365348816 acc_reg: 0.9973958730697632 acc_line: 1.0: 100%|██████████| 319/319 [00:14<00:00, 21.95it/s]                  \n",
      "[TRAIN 640, 1] loss: 0.17760369181632996 loss_reg: 0.2286584973335266 loss_line: 0.1265488713979721 acc: 0.1653645932674408 acc_reg: 0.1666666716337204 acc_line: 0.1640625:   1%|          | 2/319 [00:00<00:16, 19.40it/s]"
     ]
    },
    {
     "name": "stdout",
     "output_type": "stream",
     "text": [
      "[VALIDATION 639] val_acc: 0.9907178217821783 val_acc_reg: 0.9883972772277227 val_acc_line: 0.9930383663366337 \n"
     ]
    },
    {
     "name": "stderr",
     "output_type": "stream",
     "text": [
      "[TRAIN 640, 319] loss: 1.0591118335723877 loss_reg: 1.3745553493499756 loss_line: 0.7436681985855103 acc: 0.9986979365348816 acc_reg: 0.9973958730697632 acc_line: 1.0: 100%|██████████| 319/319 [00:14<00:00, 21.78it/s]               \n",
      "[TRAIN 641, 1] loss: 0.17630711197853088 loss_reg: 0.22866950929164886 loss_line: 0.12394469976425171 acc: 0.1666666716337204 acc_reg: 0.1666666716337204 acc_line: 0.1666666716337204:   1%|          | 3/319 [00:00<00:14, 21.39it/s]"
     ]
    },
    {
     "name": "stdout",
     "output_type": "stream",
     "text": [
      "[VALIDATION 640] val_acc: 0.9924195544554455 val_acc_reg: 0.989634900990099 val_acc_line: 0.9952042079207921 \n"
     ]
    },
    {
     "name": "stderr",
     "output_type": "stream",
     "text": [
      "[TRAIN 641, 319] loss: 1.061715841293335 loss_reg: 1.3719509840011597 loss_line: 0.7514805793762207 acc: 0.99609375 acc_reg: 1.0 acc_line: 0.9921875: 100%|██████████| 319/319 [00:14<00:00, 21.89it/s]                                 \n",
      "[TRAIN 642, 1] loss: 0.17630159854888916 loss_reg: 0.2286584973335266 loss_line: 0.12394469976425171 acc: 0.1666666716337204 acc_reg: 0.1666666716337204 acc_line: 0.1666666716337204:   1%|          | 2/319 [00:00<00:16, 19.46it/s]"
     ]
    },
    {
     "name": "stdout",
     "output_type": "stream",
     "text": [
      "[VALIDATION 641] val_acc: 0.9905631188118812 val_acc_reg: 0.989325495049505 val_acc_line: 0.9918007425742574 \n"
     ]
    },
    {
     "name": "stderr",
     "output_type": "stream",
     "text": [
      "[TRAIN 642, 319] loss: 1.0578097105026245 loss_reg: 1.3719511032104492 loss_line: 0.7436681985855103 acc: 1.0 acc_reg: 1.0 acc_line: 1.0: 100%|██████████| 319/319 [00:14<00:00, 22.00it/s]                                             \n",
      "[TRAIN 643, 1] loss: 0.17630159854888916 loss_reg: 0.2286584973335266 loss_line: 0.12394469976425171 acc: 0.1666666716337204 acc_reg: 0.1666666716337204 acc_line: 0.1666666716337204:   1%|          | 3/319 [00:00<00:14, 21.88it/s]"
     ]
    },
    {
     "name": "stdout",
     "output_type": "stream",
     "text": [
      "[VALIDATION 642] val_acc: 0.9892481435643564 val_acc_reg: 0.9866955445544554 val_acc_line: 0.9918007425742574 \n"
     ]
    },
    {
     "name": "stderr",
     "output_type": "stream",
     "text": [
      "[TRAIN 643, 319] loss: 1.0578097105026245 loss_reg: 1.3719509840011597 loss_line: 0.743668258190155 acc: 1.0 acc_reg: 1.0 acc_line: 1.0: 100%|██████████| 319/319 [00:14<00:00, 21.92it/s]                                              \n",
      "[TRAIN 644, 1] loss: 0.17630159854888916 loss_reg: 0.2286584973335266 loss_line: 0.12394469976425171 acc: 0.1666666716337204 acc_reg: 0.1666666716337204 acc_line: 0.1666666716337204:   1%|          | 3/319 [00:00<00:14, 21.26it/s]"
     ]
    },
    {
     "name": "stdout",
     "output_type": "stream",
     "text": [
      "[VALIDATION 643] val_acc: 0.9913366336633663 val_acc_reg: 0.989634900990099 val_acc_line: 0.9930383663366337 \n"
     ]
    },
    {
     "name": "stderr",
     "output_type": "stream",
     "text": [
      "[TRAIN 644, 319] loss: 1.0578097105026245 loss_reg: 1.3719509840011597 loss_line: 0.7436681985855103 acc: 1.0 acc_reg: 1.0 acc_line: 1.0: 100%|██████████| 319/319 [00:14<00:00, 21.97it/s]                                            \n",
      "[TRAIN 645, 1] loss: 0.17630234360694885 loss_reg: 0.2286584973335266 loss_line: 0.1239461749792099 acc: 0.1666666716337204 acc_reg: 0.1666666716337204 acc_line: 0.1666666716337204:   1%|          | 3/319 [00:00<00:14, 22.17it/s]"
     ]
    },
    {
     "name": "stdout",
     "output_type": "stream",
     "text": [
      "[VALIDATION 644] val_acc: 0.9904857673267327 val_acc_reg: 0.9883972772277227 val_acc_line: 0.9925742574257426 \n"
     ]
    },
    {
     "name": "stderr",
     "output_type": "stream",
     "text": [
      "[TRAIN 645, 319] loss: 1.0591113567352295 loss_reg: 1.3745543956756592 loss_line: 0.7436681985855103 acc: 0.9986979365348816 acc_reg: 0.9973958730697632 acc_line: 1.0: 100%|██████████| 319/319 [00:14<00:00, 21.93it/s]               \n",
      "[TRAIN 646, 1] loss: 0.17760369181632996 loss_reg: 0.2286584973335266 loss_line: 0.1265488713979721 acc: 0.1653645932674408 acc_reg: 0.1666666716337204 acc_line: 0.1640625:   1%|          | 2/319 [00:00<00:17, 18.02it/s]"
     ]
    },
    {
     "name": "stdout",
     "output_type": "stream",
     "text": [
      "[VALIDATION 645] val_acc: 0.9903310643564357 val_acc_reg: 0.9882425742574258 val_acc_line: 0.9924195544554455 \n"
     ]
    },
    {
     "name": "stderr",
     "output_type": "stream",
     "text": [
      "[TRAIN 646, 319] loss: 1.0578097105026245 loss_reg: 1.3719509840011597 loss_line: 0.7436681985855103 acc: 1.0 acc_reg: 1.0 acc_line: 1.0: 100%|██████████| 319/319 [00:14<00:00, 22.07it/s]                                          \n",
      "[TRAIN 647, 1] loss: 0.17630159854888916 loss_reg: 0.2286584973335266 loss_line: 0.12394469976425171 acc: 0.1666666716337204 acc_reg: 0.1666666716337204 acc_line: 0.1666666716337204:   1%|          | 3/319 [00:00<00:14, 21.42it/s]"
     ]
    },
    {
     "name": "stdout",
     "output_type": "stream",
     "text": [
      "[VALIDATION 646] val_acc: 0.9904084158415841 val_acc_reg: 0.9883972772277227 val_acc_line: 0.9924195544554455 \n"
     ]
    },
    {
     "name": "stderr",
     "output_type": "stream",
     "text": [
      "[TRAIN 647, 319] loss: 1.0578097105026245 loss_reg: 1.3719509840011597 loss_line: 0.7436681985855103 acc: 1.0 acc_reg: 1.0 acc_line: 1.0: 100%|██████████| 319/319 [00:14<00:00, 22.01it/s]                                            \n",
      "[TRAIN 648, 1] loss: 0.17760400474071503 loss_reg: 0.23126332461833954 loss_line: 0.12394469976425171 acc: 0.1653645932674408 acc_reg: 0.1640625 acc_line: 0.1666666716337204:   1%|          | 3/319 [00:00<00:13, 23.14it/s]"
     ]
    },
    {
     "name": "stdout",
     "output_type": "stream",
     "text": [
      "[VALIDATION 647] val_acc: 0.9910272277227723 val_acc_reg: 0.9887066831683168 val_acc_line: 0.9933477722772277 \n"
     ]
    },
    {
     "name": "stderr",
     "output_type": "stream",
     "text": [
      "[TRAIN 648, 319] loss: 1.059109091758728 loss_reg: 1.3719509840011597 loss_line: 0.7462671995162964 acc: 0.9986979365348816 acc_reg: 1.0 acc_line: 0.9973958730697632: 100%|██████████| 319/319 [00:14<00:00, 21.69it/s]                \n",
      "[TRAIN 649, 1] loss: 0.17630159854888916 loss_reg: 0.2286584973335266 loss_line: 0.12394469976425171 acc: 0.1666666716337204 acc_reg: 0.1666666716337204 acc_line: 0.1666666716337204:   1%|          | 2/319 [00:00<00:16, 19.30it/s]"
     ]
    },
    {
     "name": "stdout",
     "output_type": "stream",
     "text": [
      "[VALIDATION 648] val_acc: 0.992496905940594 val_acc_reg: 0.9907178217821783 val_acc_line: 0.9942759900990099 \n"
     ]
    },
    {
     "name": "stderr",
     "output_type": "stream",
     "text": [
      "[TRAIN 649, 319] loss: 1.0578097105026245 loss_reg: 1.3719511032104492 loss_line: 0.7436681985855103 acc: 1.0 acc_reg: 1.0 acc_line: 1.0: 100%|██████████| 319/319 [00:14<00:00, 22.02it/s]                                             \n",
      "[TRAIN 650, 1] loss: 0.17630159854888916 loss_reg: 0.2286584973335266 loss_line: 0.12394469976425171 acc: 0.1666666716337204 acc_reg: 0.1666666716337204 acc_line: 0.1666666716337204:   1%|          | 2/319 [00:00<00:15, 19.93it/s]"
     ]
    },
    {
     "name": "stdout",
     "output_type": "stream",
     "text": [
      "[VALIDATION 649] val_acc: 0.9912592821782178 val_acc_reg: 0.989944306930693 val_acc_line: 0.9925742574257426 \n"
     ]
    },
    {
     "name": "stderr",
     "output_type": "stream",
     "text": [
      "[TRAIN 650, 319] loss: 1.0604443550109863 loss_reg: 1.3772205114364624 loss_line: 0.7436681985855103 acc: 0.9973958730697632 acc_reg: 0.9947916865348816 acc_line: 1.0: 100%|██████████| 319/319 [00:14<00:00, 21.95it/s]               \n",
      "[TRAIN 651, 1] loss: 0.17760369181632996 loss_reg: 0.2286584973335266 loss_line: 0.1265488862991333 acc: 0.1653645932674408 acc_reg: 0.1666666716337204 acc_line: 0.1640625:   1%|          | 3/319 [00:00<00:13, 22.67it/s]"
     ]
    },
    {
     "name": "stdout",
     "output_type": "stream",
     "text": [
      "[VALIDATION 650] val_acc: 0.9908725247524752 val_acc_reg: 0.9882425742574258 val_acc_line: 0.9935024752475248 \n"
     ]
    },
    {
     "name": "stderr",
     "output_type": "stream",
     "text": [
      "[TRAIN 651, 319] loss: 1.0591118335723877 loss_reg: 1.3745553493499756 loss_line: 0.743668258190155 acc: 0.9986979365348816 acc_reg: 0.9973958730697632 acc_line: 1.0: 100%|██████████| 319/319 [00:14<00:00, 21.94it/s]                \n",
      "[TRAIN 652, 1] loss: 0.17630159854888916 loss_reg: 0.2286584973335266 loss_line: 0.12394469976425171 acc: 0.1666666716337204 acc_reg: 0.1666666716337204 acc_line: 0.1666666716337204:   1%|          | 2/319 [00:00<00:16, 19.78it/s]"
     ]
    },
    {
     "name": "stdout",
     "output_type": "stream",
     "text": [
      "[VALIDATION 651] val_acc: 0.9920327970297029 val_acc_reg: 0.9907178217821783 val_acc_line: 0.9933477722772277 \n"
     ]
    },
    {
     "name": "stderr",
     "output_type": "stream",
     "text": [
      "[TRAIN 652, 319] loss: 1.0578097105026245 loss_reg: 1.3719509840011597 loss_line: 0.7436681985855103 acc: 1.0 acc_reg: 1.0 acc_line: 1.0: 100%|██████████| 319/319 [00:14<00:00, 21.92it/s]                                             \n",
      "[TRAIN 653, 1] loss: 0.17630159854888916 loss_reg: 0.228658527135849 loss_line: 0.12394469976425171 acc: 0.1666666716337204 acc_reg: 0.1666666716337204 acc_line: 0.1666666716337204:   1%|          | 2/319 [00:00<00:16, 19.61it/s]"
     ]
    },
    {
     "name": "stdout",
     "output_type": "stream",
     "text": [
      "[VALIDATION 652] val_acc: 0.9914139851485149 val_acc_reg: 0.9888613861386139 val_acc_line: 0.9939665841584159 \n"
     ]
    },
    {
     "name": "stderr",
     "output_type": "stream",
     "text": [
      "[TRAIN 653, 319] loss: 1.0591118335723877 loss_reg: 1.3745553493499756 loss_line: 0.7436681985855103 acc: 0.9986979365348816 acc_reg: 0.9973958730697632 acc_line: 1.0: 100%|██████████| 319/319 [00:14<00:00, 21.97it/s]               \n",
      "[TRAIN 654, 1] loss: 0.17630159854888916 loss_reg: 0.2286584973335266 loss_line: 0.12394469976425171 acc: 0.1666666716337204 acc_reg: 0.1666666716337204 acc_line: 0.1666666716337204:   1%|          | 2/319 [00:00<00:16, 19.49it/s]"
     ]
    },
    {
     "name": "stdout",
     "output_type": "stream",
     "text": [
      "[VALIDATION 653] val_acc: 0.991878094059406 val_acc_reg: 0.9891707920792079 val_acc_line: 0.9945853960396039 \n"
     ]
    },
    {
     "name": "stderr",
     "output_type": "stream",
     "text": [
      "[TRAIN 654, 319] loss: 1.0578651428222656 loss_reg: 1.372062087059021 loss_line: 0.7436681985855103 acc: 1.0 acc_reg: 1.0 acc_line: 1.0: 100%|██████████| 319/319 [00:14<00:00, 21.96it/s]                                              \n",
      "[TRAIN 655, 1] loss: 0.17630159854888916 loss_reg: 0.2286584973335266 loss_line: 0.12394469976425171 acc: 0.1666666716337204 acc_reg: 0.1666666716337204 acc_line: 0.1666666716337204:   1%|          | 3/319 [00:00<00:14, 21.49it/s]"
     ]
    },
    {
     "name": "stdout",
     "output_type": "stream",
     "text": [
      "[VALIDATION 654] val_acc: 0.9907951732673267 val_acc_reg: 0.9880878712871287 val_acc_line: 0.9935024752475248 \n"
     ]
    },
    {
     "name": "stderr",
     "output_type": "stream",
     "text": [
      "[TRAIN 655, 319] loss: 1.0591130256652832 loss_reg: 1.3745577335357666 loss_line: 0.7436681985855103 acc: 0.9986979365348816 acc_reg: 0.9973958730697632 acc_line: 1.0: 100%|██████████| 319/319 [00:14<00:00, 21.91it/s]               \n",
      "[TRAIN 656, 1] loss: 0.17630159854888916 loss_reg: 0.2286584973335266 loss_line: 0.12394469976425171 acc: 0.1666666716337204 acc_reg: 0.1666666716337204 acc_line: 0.1666666716337204:   1%|          | 2/319 [00:00<00:15, 19.94it/s]"
     ]
    },
    {
     "name": "stdout",
     "output_type": "stream",
     "text": [
      "[VALIDATION 655] val_acc: 0.9902537128712872 val_acc_reg: 0.9876237623762376 val_acc_line: 0.9928836633663366 \n"
     ]
    },
    {
     "name": "stderr",
     "output_type": "stream",
     "text": [
      "[TRAIN 656, 319] loss: 1.0591118335723877 loss_reg: 1.3719509840011597 loss_line: 0.7462723255157471 acc: 0.9986979365348816 acc_reg: 1.0 acc_line: 0.9973958730697632: 100%|██████████| 319/319 [00:14<00:00, 21.86it/s]               \n",
      "[TRAIN 657, 1] loss: 0.17630159854888916 loss_reg: 0.2286584973335266 loss_line: 0.12394469976425171 acc: 0.1666666716337204 acc_reg: 0.1666666716337204 acc_line: 0.1666666716337204:   1%|          | 3/319 [00:00<00:14, 21.54it/s]"
     ]
    },
    {
     "name": "stdout",
     "output_type": "stream",
     "text": [
      "[VALIDATION 656] val_acc: 0.9900990099009901 val_acc_reg: 0.9871596534653465 val_acc_line: 0.9930383663366337 \n"
     ]
    },
    {
     "name": "stderr",
     "output_type": "stream",
     "text": [
      "[TRAIN 657, 319] loss: 1.0604124069213867 loss_reg: 1.3719509840011597 loss_line: 0.7488735914230347 acc: 0.9973958730697632 acc_reg: 1.0 acc_line: 0.9947916865348816: 100%|██████████| 319/319 [00:14<00:00, 21.91it/s]               \n",
      "[TRAIN 658, 1] loss: 0.17630159854888916 loss_reg: 0.2286584973335266 loss_line: 0.12394469976425171 acc: 0.1666666716337204 acc_reg: 0.1666666716337204 acc_line: 0.1666666716337204:   1%|          | 3/319 [00:00<00:15, 20.17it/s]"
     ]
    },
    {
     "name": "stdout",
     "output_type": "stream",
     "text": [
      "[VALIDATION 657] val_acc: 0.9919554455445545 val_acc_reg: 0.9905631188118812 val_acc_line: 0.9933477722772277 \n"
     ]
    },
    {
     "name": "stderr",
     "output_type": "stream",
     "text": [
      "[TRAIN 658, 319] loss: 1.0578097105026245 loss_reg: 1.3719509840011597 loss_line: 0.7436681985855103 acc: 1.0 acc_reg: 1.0 acc_line: 1.0: 100%|██████████| 319/319 [00:14<00:00, 21.94it/s]                                             \n",
      "[TRAIN 659, 1] loss: 0.17630159854888916 loss_reg: 0.2286584973335266 loss_line: 0.12394469976425171 acc: 0.1666666716337204 acc_reg: 0.1666666716337204 acc_line: 0.1666666716337204:   1%|          | 3/319 [00:00<00:14, 21.89it/s]"
     ]
    },
    {
     "name": "stdout",
     "output_type": "stream",
     "text": [
      "[VALIDATION 658] val_acc: 0.9924195544554455 val_acc_reg: 0.9902537128712872 val_acc_line: 0.9945853960396039 \n"
     ]
    },
    {
     "name": "stderr",
     "output_type": "stream",
     "text": [
      "[TRAIN 659, 319] loss: 1.0578097105026245 loss_reg: 1.3719509840011597 loss_line: 0.7436681985855103 acc: 1.0 acc_reg: 1.0 acc_line: 1.0: 100%|██████████| 319/319 [00:14<00:00, 21.95it/s]                                           \n",
      "[TRAIN 660, 1] loss: 0.17630159854888916 loss_reg: 0.2286584973335266 loss_line: 0.12394469976425171 acc: 0.1666666716337204 acc_reg: 0.1666666716337204 acc_line: 0.1666666716337204:   1%|          | 2/319 [00:00<00:16, 19.60it/s]"
     ]
    },
    {
     "name": "stdout",
     "output_type": "stream",
     "text": [
      "[VALIDATION 659] val_acc: 0.9894028465346535 val_acc_reg: 0.9866955445544554 val_acc_line: 0.9921101485148515 \n"
     ]
    },
    {
     "name": "stderr",
     "output_type": "stream",
     "text": [
      "[TRAIN 660, 319] loss: 1.0591120719909668 loss_reg: 1.3745558261871338 loss_line: 0.7436683177947998 acc: 0.9986979365348816 acc_reg: 0.9973958730697632 acc_line: 1.0: 100%|██████████| 319/319 [00:14<00:00, 21.89it/s]               \n",
      "[TRAIN 661, 1] loss: 0.17630159854888916 loss_reg: 0.2286584973335266 loss_line: 0.12394469976425171 acc: 0.1666666716337204 acc_reg: 0.1666666716337204 acc_line: 0.1666666716337204:   1%|          | 3/319 [00:00<00:15, 20.32it/s]"
     ]
    },
    {
     "name": "stdout",
     "output_type": "stream",
     "text": [
      "[VALIDATION 660] val_acc: 0.9907178217821783 val_acc_reg: 0.9882425742574258 val_acc_line: 0.9931930693069307 \n"
     ]
    },
    {
     "name": "stderr",
     "output_type": "stream",
     "text": [
      "[TRAIN 661, 319] loss: 1.0591148138046265 loss_reg: 1.3719571828842163 loss_line: 0.7462723255157471 acc: 0.9986979365348816 acc_reg: 1.0 acc_line: 0.9973958730697632: 100%|██████████| 319/319 [00:14<00:00, 21.80it/s]               \n",
      "[TRAIN 662, 1] loss: 0.17630159854888916 loss_reg: 0.2286584973335266 loss_line: 0.12394469976425171 acc: 0.1666666716337204 acc_reg: 0.1666666716337204 acc_line: 0.1666666716337204:   1%|          | 3/319 [00:00<00:13, 22.60it/s]"
     ]
    },
    {
     "name": "stdout",
     "output_type": "stream",
     "text": [
      "[VALIDATION 661] val_acc: 0.9912592821782178 val_acc_reg: 0.9902537128712872 val_acc_line: 0.9922648514851485 \n"
     ]
    },
    {
     "name": "stderr",
     "output_type": "stream",
     "text": [
      "[TRAIN 662, 319] loss: 1.0591118335723877 loss_reg: 1.3745553493499756 loss_line: 0.7436681985855103 acc: 0.9986979365348816 acc_reg: 0.9973958730697632 acc_line: 1.0: 100%|██████████| 319/319 [00:14<00:00, 21.83it/s]               \n",
      "[TRAIN 663, 1] loss: 0.17760369181632996 loss_reg: 0.2312626838684082 loss_line: 0.12394469976425171 acc: 0.1653645932674408 acc_reg: 0.1640625 acc_line: 0.1666666716337204:   1%|          | 3/319 [00:00<00:14, 21.28it/s]"
     ]
    },
    {
     "name": "stdout",
     "output_type": "stream",
     "text": [
      "[VALIDATION 662] val_acc: 0.9915686881188119 val_acc_reg: 0.9908725247524752 val_acc_line: 0.9922648514851485 \n"
     ]
    },
    {
     "name": "stderr",
     "output_type": "stream",
     "text": [
      "[TRAIN 663, 319] loss: 1.0591118335723877 loss_reg: 1.3745551109313965 loss_line: 0.7436681985855103 acc: 0.9986979365348816 acc_reg: 0.9973958730697632 acc_line: 1.0: 100%|██████████| 319/319 [00:14<00:00, 21.89it/s]               \n",
      "[TRAIN 664, 1] loss: 0.17630159854888916 loss_reg: 0.2286584973335266 loss_line: 0.12394469976425171 acc: 0.1666666716337204 acc_reg: 0.1666666716337204 acc_line: 0.1666666716337204:   1%|          | 3/319 [00:00<00:14, 22.21it/s]"
     ]
    },
    {
     "name": "stdout",
     "output_type": "stream",
     "text": [
      "[VALIDATION 663] val_acc: 0.9929610148514851 val_acc_reg: 0.9919554455445545 val_acc_line: 0.9939665841584159 \n"
     ]
    },
    {
     "name": "stderr",
     "output_type": "stream",
     "text": [
      "[TRAIN 664, 319] loss: 1.0591118335723877 loss_reg: 1.3745553493499756 loss_line: 0.7436681985855103 acc: 0.9986979365348816 acc_reg: 0.9973958730697632 acc_line: 1.0: 100%|██████████| 319/319 [00:14<00:00, 21.92it/s]             \n",
      "[TRAIN 665, 1] loss: 0.17630159854888916 loss_reg: 0.2286584973335266 loss_line: 0.12394469976425171 acc: 0.1666666716337204 acc_reg: 0.1666666716337204 acc_line: 0.1666666716337204:   1%|          | 2/319 [00:00<00:19, 15.91it/s]"
     ]
    },
    {
     "name": "stdout",
     "output_type": "stream",
     "text": [
      "[VALIDATION 664] val_acc: 0.9919554455445545 val_acc_reg: 0.9913366336633663 val_acc_line: 0.9925742574257426 \n"
     ]
    },
    {
     "name": "stderr",
     "output_type": "stream",
     "text": [
      "[TRAIN 665, 319] loss: 1.0578097105026245 loss_reg: 1.3719509840011597 loss_line: 0.7436681985855103 acc: 1.0 acc_reg: 1.0 acc_line: 1.0: 100%|██████████| 319/319 [00:14<00:00, 21.89it/s]                                             \n",
      "[TRAIN 666, 1] loss: 0.17630159854888916 loss_reg: 0.2286584973335266 loss_line: 0.12394469976425171 acc: 0.1666666716337204 acc_reg: 0.1666666716337204 acc_line: 0.1666666716337204:   1%|          | 3/319 [00:00<00:14, 21.99it/s]"
     ]
    },
    {
     "name": "stdout",
     "output_type": "stream",
     "text": [
      "[VALIDATION 665] val_acc: 0.9908725247524752 val_acc_reg: 0.9885519801980198 val_acc_line: 0.9931930693069307 \n"
     ]
    },
    {
     "name": "stderr",
     "output_type": "stream",
     "text": [
      "[TRAIN 666, 319] loss: 1.059767246246338 loss_reg: 1.375866174697876 loss_line: 0.7436681985855103 acc: 0.9973958730697632 acc_reg: 0.9947916865348816 acc_line: 1.0: 100%|██████████| 319/319 [00:14<00:00, 21.95it/s]                 \n",
      "[TRAIN 667, 1] loss: 0.17630159854888916 loss_reg: 0.2286584973335266 loss_line: 0.12394469976425171 acc: 0.1666666716337204 acc_reg: 0.1666666716337204 acc_line: 0.1666666716337204:   1%|          | 3/319 [00:00<00:13, 22.83it/s]"
     ]
    },
    {
     "name": "stdout",
     "output_type": "stream",
     "text": [
      "[VALIDATION 666] val_acc: 0.9907951732673267 val_acc_reg: 0.989325495049505 val_acc_line: 0.9922648514851485 \n"
     ]
    },
    {
     "name": "stderr",
     "output_type": "stream",
     "text": [
      "[TRAIN 667, 319] loss: 1.05783212184906 loss_reg: 1.3719958066940308 loss_line: 0.7436681985855103 acc: 1.0 acc_reg: 1.0 acc_line: 1.0: 100%|██████████| 319/319 [00:14<00:00, 21.98it/s]                                               \n",
      "[TRAIN 668, 1] loss: 0.1763019859790802 loss_reg: 0.2286584973335266 loss_line: 0.1239454448223114 acc: 0.1666666716337204 acc_reg: 0.1666666716337204 acc_line: 0.1666666716337204:   1%|          | 3/319 [00:00<00:14, 21.35it/s]"
     ]
    },
    {
     "name": "stdout",
     "output_type": "stream",
     "text": [
      "[VALIDATION 667] val_acc: 0.9904084158415841 val_acc_reg: 0.9885519801980198 val_acc_line: 0.9922648514851485 \n"
     ]
    },
    {
     "name": "stderr",
     "output_type": "stream",
     "text": [
      "[TRAIN 668, 319] loss: 1.0578097105026245 loss_reg: 1.3719509840011597 loss_line: 0.7436683177947998 acc: 1.0 acc_reg: 1.0 acc_line: 1.0: 100%|██████████| 319/319 [00:14<00:00, 21.93it/s]                                             \n",
      "[TRAIN 669, 1] loss: 0.17630159854888916 loss_reg: 0.2286584973335266 loss_line: 0.12394469976425171 acc: 0.1666666716337204 acc_reg: 0.1666666716337204 acc_line: 0.1666666716337204:   1%|          | 3/319 [00:00<00:15, 21.00it/s]"
     ]
    },
    {
     "name": "stdout",
     "output_type": "stream",
     "text": [
      "[VALIDATION 668] val_acc: 0.9905631188118812 val_acc_reg: 0.9866955445544554 val_acc_line: 0.994430693069307 \n"
     ]
    },
    {
     "name": "stderr",
     "output_type": "stream",
     "text": [
      "[TRAIN 669, 319] loss: 1.0578097105026245 loss_reg: 1.3719509840011597 loss_line: 0.743668258190155 acc: 1.0 acc_reg: 1.0 acc_line: 1.0: 100%|██████████| 319/319 [00:14<00:00, 22.03it/s]                                              \n",
      "[TRAIN 670, 1] loss: 0.17630159854888916 loss_reg: 0.2286584973335266 loss_line: 0.12394469976425171 acc: 0.1666666716337204 acc_reg: 0.1666666716337204 acc_line: 0.1666666716337204:   1%|          | 2/319 [00:00<00:15, 19.90it/s]"
     ]
    },
    {
     "name": "stdout",
     "output_type": "stream",
     "text": [
      "[VALIDATION 669] val_acc: 0.9894028465346535 val_acc_reg: 0.9859220297029703 val_acc_line: 0.9928836633663366 \n"
     ]
    },
    {
     "name": "stderr",
     "output_type": "stream",
     "text": [
      "[TRAIN 670, 319] loss: 1.0578097105026245 loss_reg: 1.3719509840011597 loss_line: 0.7436681985855103 acc: 1.0 acc_reg: 1.0 acc_line: 1.0: 100%|██████████| 319/319 [00:14<00:00, 22.02it/s]                                             \n",
      "[TRAIN 671, 1] loss: 0.17630159854888916 loss_reg: 0.2286584973335266 loss_line: 0.12394469976425171 acc: 0.1666666716337204 acc_reg: 0.1666666716337204 acc_line: 0.1666666716337204:   1%|          | 3/319 [00:00<00:15, 20.84it/s]"
     ]
    },
    {
     "name": "stdout",
     "output_type": "stream",
     "text": [
      "[VALIDATION 670] val_acc: 0.9907178217821783 val_acc_reg: 0.9885519801980198 val_acc_line: 0.9928836633663366 \n"
     ]
    },
    {
     "name": "stderr",
     "output_type": "stream",
     "text": [
      "[TRAIN 671, 319] loss: 1.0578398704528809 loss_reg: 1.3719509840011597 loss_line: 0.7437286376953125 acc: 1.0 acc_reg: 1.0 acc_line: 1.0: 100%|██████████| 319/319 [00:14<00:00, 21.99it/s]                                             \n",
      "[TRAIN 672, 1] loss: 0.17630159854888916 loss_reg: 0.2286584973335266 loss_line: 0.12394469976425171 acc: 0.1666666716337204 acc_reg: 0.1666666716337204 acc_line: 0.1666666716337204:   1%|          | 3/319 [00:00<00:14, 22.28it/s]"
     ]
    },
    {
     "name": "stdout",
     "output_type": "stream",
     "text": [
      "[VALIDATION 671] val_acc: 0.9914913366336634 val_acc_reg: 0.9902537128712872 val_acc_line: 0.9927289603960396 \n"
     ]
    },
    {
     "name": "stderr",
     "output_type": "stream",
     "text": [
      "[TRAIN 672, 319] loss: 1.0591118335723877 loss_reg: 1.3719509840011597 loss_line: 0.7462723255157471 acc: 0.9986979365348816 acc_reg: 1.0 acc_line: 0.9973958730697632: 100%|██████████| 319/319 [00:14<00:00, 22.00it/s]               \n",
      "[TRAIN 673, 1] loss: 0.17760369181632996 loss_reg: 0.231262668967247 loss_line: 0.12394469976425171 acc: 0.1653645932674408 acc_reg: 0.1640625 acc_line: 0.1666666716337204:   1%|          | 3/319 [00:00<00:14, 21.63it/s]"
     ]
    },
    {
     "name": "stdout",
     "output_type": "stream",
     "text": [
      "[VALIDATION 672] val_acc: 0.9912592821782178 val_acc_reg: 0.9887066831683168 val_acc_line: 0.9938118811881188 \n"
     ]
    },
    {
     "name": "stderr",
     "output_type": "stream",
     "text": [
      "[TRAIN 673, 319] loss: 1.0578097105026245 loss_reg: 1.3719509840011597 loss_line: 0.7436681985855103 acc: 1.0 acc_reg: 1.0 acc_line: 1.0: 100%|██████████| 319/319 [00:14<00:00, 22.05it/s]                                             \n",
      "[TRAIN 674, 1] loss: 0.17630159854888916 loss_reg: 0.2286584973335266 loss_line: 0.12394469976425171 acc: 0.1666666716337204 acc_reg: 0.1666666716337204 acc_line: 0.1666666716337204:   1%|          | 3/319 [00:00<00:14, 22.22it/s]"
     ]
    },
    {
     "name": "stdout",
     "output_type": "stream",
     "text": [
      "[VALIDATION 673] val_acc: 0.9913366336633663 val_acc_reg: 0.9885519801980198 val_acc_line: 0.9941212871287128 \n"
     ]
    },
    {
     "name": "stderr",
     "output_type": "stream",
     "text": [
      "[TRAIN 674, 319] loss: 1.0578097105026245 loss_reg: 1.3719509840011597 loss_line: 0.7436681985855103 acc: 1.0 acc_reg: 1.0 acc_line: 1.0: 100%|██████████| 319/319 [00:14<00:00, 21.94it/s]                                             \n",
      "[TRAIN 675, 1] loss: 0.17631050944328308 loss_reg: 0.22867628931999207 loss_line: 0.12394469976425171 acc: 0.1666666716337204 acc_reg: 0.1666666716337204 acc_line: 0.1666666716337204:   1%|          | 3/319 [00:00<00:14, 21.61it/s]"
     ]
    },
    {
     "name": "stdout",
     "output_type": "stream",
     "text": [
      "[VALIDATION 674] val_acc: 0.9895575495049505 val_acc_reg: 0.9874690594059405 val_acc_line: 0.9916460396039604 \n"
     ]
    },
    {
     "name": "stderr",
     "output_type": "stream",
     "text": [
      "[TRAIN 675, 319] loss: 1.0591118335723877 loss_reg: 1.3745553493499756 loss_line: 0.7436681985855103 acc: 0.9986979365348816 acc_reg: 0.9973958730697632 acc_line: 1.0: 100%|██████████| 319/319 [00:14<00:00, 21.95it/s]               \n",
      "[TRAIN 676, 1] loss: 0.17630159854888916 loss_reg: 0.2286584973335266 loss_line: 0.12394469976425171 acc: 0.1666666716337204 acc_reg: 0.1666666716337204 acc_line: 0.1666666716337204:   1%|          | 3/319 [00:00<00:13, 22.74it/s]"
     ]
    },
    {
     "name": "stdout",
     "output_type": "stream",
     "text": [
      "[VALIDATION 675] val_acc: 0.9914913366336634 val_acc_reg: 0.989634900990099 val_acc_line: 0.9933477722772277 \n"
     ]
    },
    {
     "name": "stderr",
     "output_type": "stream",
     "text": [
      "[TRAIN 676, 319] loss: 1.0578097105026245 loss_reg: 1.3719509840011597 loss_line: 0.7436681985855103 acc: 1.0 acc_reg: 1.0 acc_line: 1.0: 100%|██████████| 319/319 [00:14<00:00, 21.93it/s]                                             \n",
      "[TRAIN 677, 1] loss: 0.17760369181632996 loss_reg: 0.2312626838684082 loss_line: 0.12394469976425171 acc: 0.1653645932674408 acc_reg: 0.1640625 acc_line: 0.1666666716337204:   1%|          | 3/319 [00:00<00:14, 21.41it/s]"
     ]
    },
    {
     "name": "stdout",
     "output_type": "stream",
     "text": [
      "[VALIDATION 676] val_acc: 0.9909498762376238 val_acc_reg: 0.989480198019802 val_acc_line: 0.9924195544554455 \n"
     ]
    },
    {
     "name": "stderr",
     "output_type": "stream",
     "text": [
      "[TRAIN 677, 319] loss: 1.057809829711914 loss_reg: 1.3719511032104492 loss_line: 0.7436684370040894 acc: 1.0 acc_reg: 1.0 acc_line: 1.0: 100%|██████████| 319/319 [00:14<00:00, 21.84it/s]                                              \n",
      "[TRAIN 678, 1] loss: 0.17630159854888916 loss_reg: 0.2286584973335266 loss_line: 0.12394469976425171 acc: 0.1666666716337204 acc_reg: 0.1666666716337204 acc_line: 0.1666666716337204:   1%|          | 2/319 [00:00<00:16, 19.25it/s]"
     ]
    },
    {
     "name": "stdout",
     "output_type": "stream",
     "text": [
      "[VALIDATION 677] val_acc: 0.9911819306930693 val_acc_reg: 0.9897896039603961 val_acc_line: 0.9925742574257426 \n"
     ]
    },
    {
     "name": "stderr",
     "output_type": "stream",
     "text": [
      "[TRAIN 678, 319] loss: 1.0617945194244385 loss_reg: 1.374712347984314 loss_line: 0.7488765120506287 acc: 0.99609375 acc_reg: 0.9973958730697632 acc_line: 0.9947916865348816: 100%|██████████| 319/319 [00:14<00:00, 21.74it/s]         \n",
      "[TRAIN 679, 1] loss: 0.17630159854888916 loss_reg: 0.2286584973335266 loss_line: 0.12394469976425171 acc: 0.1666666716337204 acc_reg: 0.1666666716337204 acc_line: 0.1666666716337204:   1%|          | 3/319 [00:00<00:14, 21.24it/s]"
     ]
    },
    {
     "name": "stdout",
     "output_type": "stream",
     "text": [
      "[VALIDATION 678] val_acc: 0.9898669554455446 val_acc_reg: 0.9873143564356436 val_acc_line: 0.9924195544554455 \n"
     ]
    },
    {
     "name": "stderr",
     "output_type": "stream",
     "text": [
      "[TRAIN 679, 319] loss: 1.0578097105026245 loss_reg: 1.3719509840011597 loss_line: 0.7436681985855103 acc: 1.0 acc_reg: 1.0 acc_line: 1.0: 100%|██████████| 319/319 [00:14<00:00, 21.88it/s]                                             \n",
      "[TRAIN 680, 1] loss: 0.17630159854888916 loss_reg: 0.2286584973335266 loss_line: 0.12394469976425171 acc: 0.1666666716337204 acc_reg: 0.1666666716337204 acc_line: 0.1666666716337204:   1%|          | 3/319 [00:00<00:14, 21.54it/s]"
     ]
    },
    {
     "name": "stdout",
     "output_type": "stream",
     "text": [
      "[VALIDATION 679] val_acc: 0.9915686881188119 val_acc_reg: 0.9900990099009901 val_acc_line: 0.9930383663366337 \n"
     ]
    },
    {
     "name": "stderr",
     "output_type": "stream",
     "text": [
      "[TRAIN 680, 319] loss: 1.0591118335723877 loss_reg: 1.3745551109313965 loss_line: 0.7436681985855103 acc: 0.9986979365348816 acc_reg: 0.9973958730697632 acc_line: 1.0: 100%|██████████| 319/319 [00:14<00:00, 21.84it/s]               \n",
      "[TRAIN 681, 1] loss: 0.17630159854888916 loss_reg: 0.2286584973335266 loss_line: 0.1239447146654129 acc: 0.1666666716337204 acc_reg: 0.1666666716337204 acc_line: 0.1666666716337204:   1%|          | 2/319 [00:00<00:17, 18.52it/s]"
     ]
    },
    {
     "name": "stdout",
     "output_type": "stream",
     "text": [
      "[VALIDATION 680] val_acc: 0.9901763613861386 val_acc_reg: 0.9874690594059405 val_acc_line: 0.9928836633663366 \n"
     ]
    },
    {
     "name": "stderr",
     "output_type": "stream",
     "text": [
      "[TRAIN 681, 319] loss: 1.0578097105026245 loss_reg: 1.3719509840011597 loss_line: 0.7436681985855103 acc: 1.0 acc_reg: 1.0 acc_line: 1.0: 100%|██████████| 319/319 [00:14<00:00, 21.77it/s]                                             \n",
      "[TRAIN 682, 1] loss: 0.17630159854888916 loss_reg: 0.2286584973335266 loss_line: 0.12394469976425171 acc: 0.1666666716337204 acc_reg: 0.1666666716337204 acc_line: 0.1666666716337204:   1%|          | 2/319 [00:00<00:15, 19.99it/s]"
     ]
    },
    {
     "name": "stdout",
     "output_type": "stream",
     "text": [
      "[VALIDATION 681] val_acc: 0.9913366336633663 val_acc_reg: 0.989944306930693 val_acc_line: 0.9927289603960396 \n"
     ]
    },
    {
     "name": "stderr",
     "output_type": "stream",
     "text": [
      "[TRAIN 682, 319] loss: 1.0591120719909668 loss_reg: 1.374556064605713 loss_line: 0.7436681985855103 acc: 0.9986979365348816 acc_reg: 0.9973958730697632 acc_line: 1.0: 100%|██████████| 319/319 [00:14<00:00, 21.85it/s]                \n",
      "[TRAIN 683, 1] loss: 0.17630170285701752 loss_reg: 0.22865870594978333 loss_line: 0.12394469976425171 acc: 0.1666666716337204 acc_reg: 0.1666666716337204 acc_line: 0.1666666716337204:   1%|          | 2/319 [00:00<00:16, 18.94it/s]"
     ]
    },
    {
     "name": "stdout",
     "output_type": "stream",
     "text": [
      "[VALIDATION 682] val_acc: 0.9895575495049505 val_acc_reg: 0.9879331683168316 val_acc_line: 0.9911819306930693 \n"
     ]
    },
    {
     "name": "stderr",
     "output_type": "stream",
     "text": [
      "[TRAIN 683, 319] loss: 1.0578892230987549 loss_reg: 1.3719509840011597 loss_line: 0.7438270449638367 acc: 1.0 acc_reg: 1.0 acc_line: 1.0: 100%|██████████| 319/319 [00:14<00:00, 21.77it/s]                                             \n",
      "[TRAIN 684, 1] loss: 0.17760221660137177 loss_reg: 0.23125964403152466 loss_line: 0.12394475936889648 acc: 0.1653645932674408 acc_reg: 0.1640625 acc_line: 0.1666666716337204:   1%|          | 3/319 [00:00<00:14, 22.09it/s]"
     ]
    },
    {
     "name": "stdout",
     "output_type": "stream",
     "text": [
      "[VALIDATION 683] val_acc: 0.9910272277227723 val_acc_reg: 0.9891707920792079 val_acc_line: 0.9928836633663366 \n"
     ]
    },
    {
     "name": "stderr",
     "output_type": "stream",
     "text": [
      "[TRAIN 684, 319] loss: 1.0591119527816772 loss_reg: 1.3745551109313965 loss_line: 0.7436686754226685 acc: 0.9986979365348816 acc_reg: 0.9973958730697632 acc_line: 1.0: 100%|██████████| 319/319 [00:14<00:00, 21.90it/s]               \n",
      "[TRAIN 685, 1] loss: 0.17630159854888916 loss_reg: 0.2286584973335266 loss_line: 0.12394469976425171 acc: 0.1666666716337204 acc_reg: 0.1666666716337204 acc_line: 0.1666666716337204:   1%|          | 3/319 [00:00<00:14, 21.13it/s]"
     ]
    },
    {
     "name": "stdout",
     "output_type": "stream",
     "text": [
      "[VALIDATION 684] val_acc: 0.9890934405940595 val_acc_reg: 0.9866955445544554 val_acc_line: 0.9914913366336634 \n"
     ]
    },
    {
     "name": "stderr",
     "output_type": "stream",
     "text": [
      "[TRAIN 685, 319] loss: 1.057809829711914 loss_reg: 1.3719509840011597 loss_line: 0.7436684966087341 acc: 1.0 acc_reg: 1.0 acc_line: 1.0: 100%|██████████| 319/319 [00:14<00:00, 21.84it/s]                                              \n",
      "[TRAIN 686, 1] loss: 0.17630159854888916 loss_reg: 0.2286584973335266 loss_line: 0.12394469976425171 acc: 0.1666666716337204 acc_reg: 0.1666666716337204 acc_line: 0.1666666716337204:   1%|          | 2/319 [00:00<00:15, 19.86it/s]"
     ]
    },
    {
     "name": "stdout",
     "output_type": "stream",
     "text": [
      "[VALIDATION 685] val_acc: 0.9887840346534653 val_acc_reg: 0.9866955445544554 val_acc_line: 0.9908725247524752 \n"
     ]
    },
    {
     "name": "stderr",
     "output_type": "stream",
     "text": [
      "[TRAIN 686, 319] loss: 1.0596356391906738 loss_reg: 1.3729989528656006 loss_line: 0.7462723255157471 acc: 0.9986979365348816 acc_reg: 1.0 acc_line: 0.9973958730697632: 100%|██████████| 319/319 [00:14<00:00, 21.82it/s]               \n",
      "[TRAIN 687, 1] loss: 0.17630159854888916 loss_reg: 0.2286584973335266 loss_line: 0.12394469976425171 acc: 0.1666666716337204 acc_reg: 0.1666666716337204 acc_line: 0.1666666716337204:   1%|          | 2/319 [00:00<00:16, 19.48it/s]"
     ]
    },
    {
     "name": "stdout",
     "output_type": "stream",
     "text": [
      "[VALIDATION 686] val_acc: 0.9904857673267327 val_acc_reg: 0.9876237623762376 val_acc_line: 0.9933477722772277 \n"
     ]
    },
    {
     "name": "stderr",
     "output_type": "stream",
     "text": [
      "[TRAIN 687, 319] loss: 1.0590403079986572 loss_reg: 1.3719509840011597 loss_line: 0.7461295127868652 acc: 0.9986979365348816 acc_reg: 1.0 acc_line: 0.9973958730697632: 100%|██████████| 319/319 [00:14<00:00, 21.75it/s]               \n",
      "[TRAIN 688, 1] loss: 0.17630159854888916 loss_reg: 0.2286584973335266 loss_line: 0.12394469976425171 acc: 0.1666666716337204 acc_reg: 0.1666666716337204 acc_line: 0.1666666716337204:   1%|          | 2/319 [00:00<00:16, 19.16it/s]"
     ]
    },
    {
     "name": "stdout",
     "output_type": "stream",
     "text": [
      "[VALIDATION 687] val_acc: 0.9921875 val_acc_reg: 0.989480198019802 val_acc_line: 0.994894801980198 \n"
     ]
    },
    {
     "name": "stderr",
     "output_type": "stream",
     "text": [
      "[TRAIN 688, 319] loss: 1.0591118335723877 loss_reg: 1.3719509840011597 loss_line: 0.7462723255157471 acc: 0.9986979365348816 acc_reg: 1.0 acc_line: 0.9973958730697632: 100%|██████████| 319/319 [00:14<00:00, 21.72it/s]               \n",
      "[TRAIN 689, 1] loss: 0.17630159854888916 loss_reg: 0.2286584973335266 loss_line: 0.12394469976425171 acc: 0.1666666716337204 acc_reg: 0.1666666716337204 acc_line: 0.1666666716337204:   1%|          | 3/319 [00:00<00:15, 20.85it/s]"
     ]
    },
    {
     "name": "stdout",
     "output_type": "stream",
     "text": [
      "[VALIDATION 688] val_acc: 0.9919554455445545 val_acc_reg: 0.9897896039603961 val_acc_line: 0.9941212871287128 \n"
     ]
    },
    {
     "name": "stderr",
     "output_type": "stream",
     "text": [
      "[TRAIN 689, 319] loss: 1.0591580867767334 loss_reg: 1.3719509840011597 loss_line: 0.7463648319244385 acc: 0.9986979365348816 acc_reg: 1.0 acc_line: 0.9973958730697632: 100%|██████████| 319/319 [00:14<00:00, 21.71it/s]               \n",
      "[TRAIN 690, 1] loss: 0.17630159854888916 loss_reg: 0.2286584973335266 loss_line: 0.12394469976425171 acc: 0.1666666716337204 acc_reg: 0.1666666716337204 acc_line: 0.1666666716337204:   1%|          | 3/319 [00:00<00:14, 22.36it/s]"
     ]
    },
    {
     "name": "stdout",
     "output_type": "stream",
     "text": [
      "[VALIDATION 689] val_acc: 0.9907951732673267 val_acc_reg: 0.9883972772277227 val_acc_line: 0.9931930693069307 \n"
     ]
    },
    {
     "name": "stderr",
     "output_type": "stream",
     "text": [
      "[TRAIN 690, 319] loss: 1.0617159605026245 loss_reg: 1.3745551109313965 loss_line: 0.7488765120506287 acc: 0.99609375 acc_reg: 0.9973958730697632 acc_line: 0.9947916865348816: 100%|██████████| 319/319 [00:14<00:00, 21.75it/s]        \n",
      "[TRAIN 691, 1] loss: 0.17630159854888916 loss_reg: 0.2286584973335266 loss_line: 0.12394469976425171 acc: 0.1666666716337204 acc_reg: 0.1666666716337204 acc_line: 0.1666666716337204:   1%|          | 3/319 [00:00<00:15, 20.89it/s]"
     ]
    },
    {
     "name": "stdout",
     "output_type": "stream",
     "text": [
      "[VALIDATION 690] val_acc: 0.9907951732673267 val_acc_reg: 0.9890160891089109 val_acc_line: 0.9925742574257426 \n"
     ]
    },
    {
     "name": "stderr",
     "output_type": "stream",
     "text": [
      "[TRAIN 691, 319] loss: 1.0578097105026245 loss_reg: 1.3719509840011597 loss_line: 0.7436681985855103 acc: 1.0 acc_reg: 1.0 acc_line: 1.0: 100%|██████████| 319/319 [00:14<00:00, 21.81it/s]                                            \n",
      "[TRAIN 692, 1] loss: 0.17630159854888916 loss_reg: 0.2286584973335266 loss_line: 0.12394469976425171 acc: 0.1666666716337204 acc_reg: 0.1666666716337204 acc_line: 0.1666666716337204:   1%|          | 2/319 [00:00<00:16, 19.78it/s]"
     ]
    },
    {
     "name": "stdout",
     "output_type": "stream",
     "text": [
      "[VALIDATION 691] val_acc: 0.9909498762376238 val_acc_reg: 0.9890160891089109 val_acc_line: 0.9928836633663366 \n"
     ]
    },
    {
     "name": "stderr",
     "output_type": "stream",
     "text": [
      "[TRAIN 692, 319] loss: 1.057810664176941 loss_reg: 1.3719528913497925 loss_line: 0.7436681985855103 acc: 1.0 acc_reg: 1.0 acc_line: 1.0: 100%|██████████| 319/319 [00:14<00:00, 21.87it/s]                                              \n",
      "[TRAIN 693, 1] loss: 0.17630159854888916 loss_reg: 0.2286584973335266 loss_line: 0.12394469976425171 acc: 0.1666666716337204 acc_reg: 0.1666666716337204 acc_line: 0.1666666716337204:   1%|          | 3/319 [00:00<00:14, 21.77it/s]"
     ]
    },
    {
     "name": "stdout",
     "output_type": "stream",
     "text": [
      "[VALIDATION 692] val_acc: 0.9902537128712872 val_acc_reg: 0.9876237623762376 val_acc_line: 0.9928836633663366 \n"
     ]
    },
    {
     "name": "stderr",
     "output_type": "stream",
     "text": [
      "[TRAIN 693, 319] loss: 1.0591320991516113 loss_reg: 1.3719919919967651 loss_line: 0.7462723255157471 acc: 0.9986979365348816 acc_reg: 1.0 acc_line: 0.9973958730697632: 100%|██████████| 319/319 [00:14<00:00, 21.85it/s]               \n",
      "[TRAIN 694, 1] loss: 0.17630159854888916 loss_reg: 0.2286584973335266 loss_line: 0.12394469976425171 acc: 0.1666666716337204 acc_reg: 0.1666666716337204 acc_line: 0.1666666716337204:   1%|          | 3/319 [00:00<00:14, 21.97it/s]"
     ]
    },
    {
     "name": "stdout",
     "output_type": "stream",
     "text": [
      "[VALIDATION 693] val_acc: 0.9907178217821783 val_acc_reg: 0.9883972772277227 val_acc_line: 0.9930383663366337 \n"
     ]
    },
    {
     "name": "stderr",
     "output_type": "stream",
     "text": [
      "[TRAIN 694, 319] loss: 1.0604138374328613 loss_reg: 1.3745551109313965 loss_line: 0.7462723255157471 acc: 0.9973958730697632 acc_reg: 0.9973958730697632 acc_line: 0.9973958730697632: 100%|██████████| 319/319 [00:14<00:00, 21.90it/s]\n",
      "[TRAIN 695, 1] loss: 0.17630159854888916 loss_reg: 0.2286584973335266 loss_line: 0.12394469976425171 acc: 0.1666666716337204 acc_reg: 0.1666666716337204 acc_line: 0.1666666716337204:   1%|          | 2/319 [00:00<00:15, 19.96it/s]"
     ]
    },
    {
     "name": "stdout",
     "output_type": "stream",
     "text": [
      "[VALIDATION 694] val_acc: 0.9915686881188119 val_acc_reg: 0.9897896039603961 val_acc_line: 0.9933477722772277 \n"
     ]
    },
    {
     "name": "stderr",
     "output_type": "stream",
     "text": [
      "[TRAIN 695, 319] loss: 1.0583722591400146 loss_reg: 1.3730759620666504 loss_line: 0.7436681985855103 acc: 1.0 acc_reg: 1.0 acc_line: 1.0: 100%|██████████| 319/319 [00:14<00:00, 22.05it/s]                                             \n",
      "[TRAIN 696, 1] loss: 0.17630159854888916 loss_reg: 0.2286584973335266 loss_line: 0.12394469976425171 acc: 0.1666666716337204 acc_reg: 0.1666666716337204 acc_line: 0.1666666716337204:   1%|          | 3/319 [00:00<00:15, 19.89it/s]"
     ]
    },
    {
     "name": "stdout",
     "output_type": "stream",
     "text": [
      "[VALIDATION 695] val_acc: 0.9915686881188119 val_acc_reg: 0.9905631188118812 val_acc_line: 0.9925742574257426 \n"
     ]
    },
    {
     "name": "stderr",
     "output_type": "stream",
     "text": [
      "[TRAIN 696, 319] loss: 1.0591118335723877 loss_reg: 1.3719509840011597 loss_line: 0.7462723255157471 acc: 0.9986979365348816 acc_reg: 1.0 acc_line: 0.9973958730697632: 100%|██████████| 319/319 [00:14<00:00, 21.97it/s]               \n",
      "[TRAIN 697, 1] loss: 0.17630159854888916 loss_reg: 0.2286584973335266 loss_line: 0.12394469976425171 acc: 0.1666666716337204 acc_reg: 0.1666666716337204 acc_line: 0.1666666716337204:   1%|          | 2/319 [00:00<00:17, 17.90it/s]"
     ]
    },
    {
     "name": "stdout",
     "output_type": "stream",
     "text": [
      "[VALIDATION 696] val_acc: 0.9917233910891089 val_acc_reg: 0.9905631188118812 val_acc_line: 0.9928836633663366 \n"
     ]
    },
    {
     "name": "stderr",
     "output_type": "stream",
     "text": [
      "[TRAIN 697, 319] loss: 1.0604138374328613 loss_reg: 1.3745551109313965 loss_line: 0.7462723255157471 acc: 0.9973958730697632 acc_reg: 0.9973958730697632 acc_line: 0.9973958730697632: 100%|██████████| 319/319 [00:14<00:00, 21.96it/s]\n",
      "[TRAIN 698, 1] loss: 0.17630159854888916 loss_reg: 0.2286584973335266 loss_line: 0.12394469976425171 acc: 0.1666666716337204 acc_reg: 0.1666666716337204 acc_line: 0.1666666716337204:   1%|          | 2/319 [00:00<00:16, 19.04it/s]"
     ]
    },
    {
     "name": "stdout",
     "output_type": "stream",
     "text": [
      "[VALIDATION 697] val_acc: 0.9925742574257426 val_acc_reg: 0.9916460396039604 val_acc_line: 0.9935024752475248 \n"
     ]
    },
    {
     "name": "stderr",
     "output_type": "stream",
     "text": [
      "[TRAIN 698, 319] loss: 1.059112310409546 loss_reg: 1.3719509840011597 loss_line: 0.746273398399353 acc: 0.9986979365348816 acc_reg: 1.0 acc_line: 0.9973958730697632: 100%|██████████| 319/319 [00:14<00:00, 21.87it/s]                 \n",
      "[TRAIN 699, 1] loss: 0.17630159854888916 loss_reg: 0.2286584973335266 loss_line: 0.12394469976425171 acc: 0.1666666716337204 acc_reg: 0.1666666716337204 acc_line: 0.1666666716337204:   1%|          | 2/319 [00:00<00:16, 19.31it/s]"
     ]
    },
    {
     "name": "stdout",
     "output_type": "stream",
     "text": [
      "[VALIDATION 698] val_acc: 0.9917233910891089 val_acc_reg: 0.9904084158415841 val_acc_line: 0.9930383663366337 \n"
     ]
    },
    {
     "name": "stderr",
     "output_type": "stream",
     "text": [
      "[TRAIN 699, 319] loss: 1.0578097105026245 loss_reg: 1.3719509840011597 loss_line: 0.7436681985855103 acc: 1.0 acc_reg: 1.0 acc_line: 1.0: 100%|██████████| 319/319 [00:14<00:00, 21.76it/s]                                             \n",
      "[TRAIN 700, 1] loss: 0.17630159854888916 loss_reg: 0.2286584973335266 loss_line: 0.1239447146654129 acc: 0.1666666716337204 acc_reg: 0.1666666716337204 acc_line: 0.1666666716337204:   1%|          | 3/319 [00:00<00:14, 21.42it/s]"
     ]
    },
    {
     "name": "stdout",
     "output_type": "stream",
     "text": [
      "[VALIDATION 699] val_acc: 0.9915686881188119 val_acc_reg: 0.9902537128712872 val_acc_line: 0.9928836633663366 \n"
     ]
    },
    {
     "name": "stderr",
     "output_type": "stream",
     "text": [
      "[TRAIN 700, 319] loss: 1.0580880641937256 loss_reg: 1.3719509840011597 loss_line: 0.7442247271537781 acc: 1.0 acc_reg: 1.0 acc_line: 1.0: 100%|██████████| 319/319 [00:14<00:00, 21.76it/s]                                             \n",
      "[TRAIN 701, 1] loss: 0.17630159854888916 loss_reg: 0.2286584973335266 loss_line: 0.12394469976425171 acc: 0.1666666716337204 acc_reg: 0.1666666716337204 acc_line: 0.1666666716337204:   1%|          | 3/319 [00:00<00:14, 22.10it/s]"
     ]
    },
    {
     "name": "stdout",
     "output_type": "stream",
     "text": [
      "[VALIDATION 700] val_acc: 0.9930383663366337 val_acc_reg: 0.9910272277227723 val_acc_line: 0.995049504950495 \n"
     ]
    },
    {
     "name": "stderr",
     "output_type": "stream",
     "text": [
      "[TRAIN 701, 319] loss: 1.06303870677948 loss_reg: 1.3745551109313965 loss_line: 0.7515219449996948 acc: 0.9947916865348816 acc_reg: 0.9973958730697632 acc_line: 0.9921875: 100%|██████████| 319/319 [00:14<00:00, 21.81it/s]           \n",
      "[TRAIN 702, 1] loss: 0.17630159854888916 loss_reg: 0.2286584973335266 loss_line: 0.12394469976425171 acc: 0.1666666716337204 acc_reg: 0.1666666716337204 acc_line: 0.1666666716337204:   1%|          | 2/319 [00:00<00:17, 18.45it/s]"
     ]
    },
    {
     "name": "stdout",
     "output_type": "stream",
     "text": [
      "[VALIDATION 701] val_acc: 0.9907951732673267 val_acc_reg: 0.989480198019802 val_acc_line: 0.9921101485148515 \n"
     ]
    },
    {
     "name": "stderr",
     "output_type": "stream",
     "text": [
      "[TRAIN 702, 319] loss: 1.0591118335723877 loss_reg: 1.3745551109313965 loss_line: 0.7436681985855103 acc: 0.9986979365348816 acc_reg: 0.9973958730697632 acc_line: 1.0: 100%|██████████| 319/319 [00:14<00:00, 21.83it/s]               \n",
      "[TRAIN 703, 1] loss: 0.17760369181632996 loss_reg: 0.2286584973335266 loss_line: 0.1265488713979721 acc: 0.1653645932674408 acc_reg: 0.1666666716337204 acc_line: 0.1640625:   1%|          | 2/319 [00:00<00:17, 18.53it/s]"
     ]
    },
    {
     "name": "stdout",
     "output_type": "stream",
     "text": [
      "[VALIDATION 702] val_acc: 0.9905631188118812 val_acc_reg: 0.9890160891089109 val_acc_line: 0.9921101485148515 \n"
     ]
    },
    {
     "name": "stderr",
     "output_type": "stream",
     "text": [
      "[TRAIN 703, 319] loss: 1.0604138374328613 loss_reg: 1.3745553493499756 loss_line: 0.7462723255157471 acc: 0.9973958730697632 acc_reg: 0.9973958730697632 acc_line: 0.9973958730697632: 100%|██████████| 319/319 [00:14<00:00, 21.96it/s]\n",
      "[TRAIN 704, 1] loss: 0.17630159854888916 loss_reg: 0.2286584973335266 loss_line: 0.12394469976425171 acc: 0.1666666716337204 acc_reg: 0.1666666716337204 acc_line: 0.1666666716337204:   1%|          | 2/319 [00:00<00:15, 19.97it/s]"
     ]
    },
    {
     "name": "stdout",
     "output_type": "stream",
     "text": [
      "[VALIDATION 703] val_acc: 0.9897122524752475 val_acc_reg: 0.9876237623762376 val_acc_line: 0.9918007425742574 \n"
     ]
    },
    {
     "name": "stderr",
     "output_type": "stream",
     "text": [
      "[TRAIN 704, 319] loss: 1.0605294704437256 loss_reg: 1.3747862577438354 loss_line: 0.7462723255157471 acc: 0.9973958730697632 acc_reg: 0.9973958730697632 acc_line: 0.9973958730697632: 100%|██████████| 319/319 [00:14<00:00, 21.91it/s]\n",
      "[TRAIN 705, 1] loss: 0.17630159854888916 loss_reg: 0.2286584973335266 loss_line: 0.12394469976425171 acc: 0.1666666716337204 acc_reg: 0.1666666716337204 acc_line: 0.1666666716337204:   1%|          | 3/319 [00:00<00:14, 21.77it/s]"
     ]
    },
    {
     "name": "stdout",
     "output_type": "stream",
     "text": [
      "[VALIDATION 704] val_acc: 0.9912592821782178 val_acc_reg: 0.989325495049505 val_acc_line: 0.9931930693069307 \n"
     ]
    },
    {
     "name": "stderr",
     "output_type": "stream",
     "text": [
      "[TRAIN 705, 319] loss: 1.0591771602630615 loss_reg: 1.3719643354415894 loss_line: 0.7463900446891785 acc: 0.9986979365348816 acc_reg: 1.0 acc_line: 0.9973958730697632: 100%|██████████| 319/319 [00:14<00:00, 21.95it/s]             \n",
      "[TRAIN 706, 1] loss: 0.17630159854888916 loss_reg: 0.2286584973335266 loss_line: 0.12394469976425171 acc: 0.1666666716337204 acc_reg: 0.1666666716337204 acc_line: 0.1666666716337204:   1%|          | 3/319 [00:00<00:14, 21.57it/s]"
     ]
    },
    {
     "name": "stdout",
     "output_type": "stream",
     "text": [
      "[VALIDATION 705] val_acc: 0.989480198019802 val_acc_reg: 0.9877784653465347 val_acc_line: 0.9911819306930693 \n"
     ]
    },
    {
     "name": "stderr",
     "output_type": "stream",
     "text": [
      "[TRAIN 706, 319] loss: 1.0591118335723877 loss_reg: 1.3745553493499756 loss_line: 0.7436681985855103 acc: 0.9986979365348816 acc_reg: 0.9973958730697632 acc_line: 1.0: 100%|██████████| 319/319 [00:14<00:00, 21.90it/s]               \n",
      "[TRAIN 707, 1] loss: 0.17630159854888916 loss_reg: 0.2286584973335266 loss_line: 0.12394469976425171 acc: 0.1666666716337204 acc_reg: 0.1666666716337204 acc_line: 0.1666666716337204:   1%|          | 2/319 [00:00<00:16, 18.86it/s]"
     ]
    },
    {
     "name": "stdout",
     "output_type": "stream",
     "text": [
      "[VALIDATION 706] val_acc: 0.9914913366336634 val_acc_reg: 0.9897896039603961 val_acc_line: 0.9931930693069307 \n"
     ]
    },
    {
     "name": "stderr",
     "output_type": "stream",
     "text": [
      "[TRAIN 707, 319] loss: 1.0591118335723877 loss_reg: 1.3719509840011597 loss_line: 0.7462723255157471 acc: 0.9986979365348816 acc_reg: 1.0 acc_line: 0.9973958730697632: 100%|██████████| 319/319 [00:14<00:00, 22.01it/s]              \n",
      "[TRAIN 708, 1] loss: 0.17630159854888916 loss_reg: 0.2286584973335266 loss_line: 0.12394469976425171 acc: 0.1666666716337204 acc_reg: 0.1666666716337204 acc_line: 0.1666666716337204:   1%|          | 3/319 [00:00<00:14, 21.51it/s]"
     ]
    },
    {
     "name": "stdout",
     "output_type": "stream",
     "text": [
      "[VALIDATION 707] val_acc: 0.9914913366336634 val_acc_reg: 0.9902537128712872 val_acc_line: 0.9927289603960396 \n"
     ]
    },
    {
     "name": "stderr",
     "output_type": "stream",
     "text": [
      "[TRAIN 708, 319] loss: 1.0591118335723877 loss_reg: 1.3719509840011597 loss_line: 0.7462723255157471 acc: 0.9986979365348816 acc_reg: 1.0 acc_line: 0.9973958730697632: 100%|██████████| 319/319 [00:14<00:00, 21.96it/s]               \n",
      "[TRAIN 709, 1] loss: 0.17630159854888916 loss_reg: 0.2286584973335266 loss_line: 0.12394469976425171 acc: 0.1666666716337204 acc_reg: 0.1666666716337204 acc_line: 0.1666666716337204:   1%|          | 3/319 [00:00<00:14, 22.24it/s]"
     ]
    },
    {
     "name": "stdout",
     "output_type": "stream",
     "text": [
      "[VALIDATION 708] val_acc: 0.9919554455445545 val_acc_reg: 0.9907178217821783 val_acc_line: 0.9931930693069307 \n"
     ]
    },
    {
     "name": "stderr",
     "output_type": "stream",
     "text": [
      "[TRAIN 709, 319] loss: 1.0578097105026245 loss_reg: 1.3719509840011597 loss_line: 0.7436681985855103 acc: 1.0 acc_reg: 1.0 acc_line: 1.0: 100%|██████████| 319/319 [00:14<00:00, 21.92it/s]                                           \n",
      "[TRAIN 710, 1] loss: 0.17630159854888916 loss_reg: 0.2286584973335266 loss_line: 0.12394469976425171 acc: 0.1666666716337204 acc_reg: 0.1666666716337204 acc_line: 0.1666666716337204:   1%|          | 3/319 [00:00<00:14, 22.44it/s]"
     ]
    },
    {
     "name": "stdout",
     "output_type": "stream",
     "text": [
      "[VALIDATION 709] val_acc: 0.9917233910891089 val_acc_reg: 0.9913366336633663 val_acc_line: 0.9921101485148515 \n"
     ]
    },
    {
     "name": "stderr",
     "output_type": "stream",
     "text": [
      "[TRAIN 710, 319] loss: 1.0578097105026245 loss_reg: 1.3719509840011597 loss_line: 0.7436681985855103 acc: 1.0 acc_reg: 1.0 acc_line: 1.0: 100%|██████████| 319/319 [00:14<00:00, 21.97it/s]                                             \n",
      "[TRAIN 711, 1] loss: 0.17630159854888916 loss_reg: 0.2286584973335266 loss_line: 0.12394469976425171 acc: 0.1666666716337204 acc_reg: 0.1666666716337204 acc_line: 0.1666666716337204:   1%|          | 3/319 [00:00<00:15, 20.69it/s]"
     ]
    },
    {
     "name": "stdout",
     "output_type": "stream",
     "text": [
      "[VALIDATION 710] val_acc: 0.9910272277227723 val_acc_reg: 0.9904084158415841 val_acc_line: 0.9916460396039604 \n"
     ]
    },
    {
     "name": "stderr",
     "output_type": "stream",
     "text": [
      "[TRAIN 711, 319] loss: 1.057809829711914 loss_reg: 1.3719509840011597 loss_line: 0.7436684370040894 acc: 1.0 acc_reg: 1.0 acc_line: 1.0: 100%|██████████| 319/319 [00:14<00:00, 21.89it/s]                                              \n",
      "[TRAIN 712, 1] loss: 0.17630159854888916 loss_reg: 0.2286584973335266 loss_line: 0.12394469976425171 acc: 0.1666666716337204 acc_reg: 0.1666666716337204 acc_line: 0.1666666716337204:   1%|          | 3/319 [00:00<00:15, 20.47it/s]"
     ]
    },
    {
     "name": "stdout",
     "output_type": "stream",
     "text": [
      "[VALIDATION 711] val_acc: 0.9910272277227723 val_acc_reg: 0.9890160891089109 val_acc_line: 0.9930383663366337 \n"
     ]
    },
    {
     "name": "stderr",
     "output_type": "stream",
     "text": [
      "[TRAIN 712, 319] loss: 1.0591118335723877 loss_reg: 1.3745551109313965 loss_line: 0.7436681985855103 acc: 0.9986979365348816 acc_reg: 0.9973958730697632 acc_line: 1.0: 100%|██████████| 319/319 [00:14<00:00, 21.86it/s]               \n",
      "[TRAIN 713, 1] loss: 0.17630159854888916 loss_reg: 0.2286584973335266 loss_line: 0.12394469976425171 acc: 0.1666666716337204 acc_reg: 0.1666666716337204 acc_line: 0.1666666716337204:   1%|          | 3/319 [00:00<00:15, 20.60it/s]"
     ]
    },
    {
     "name": "stdout",
     "output_type": "stream",
     "text": [
      "[VALIDATION 712] val_acc: 0.9889387376237624 val_acc_reg: 0.9874690594059405 val_acc_line: 0.9904084158415841 \n"
     ]
    },
    {
     "name": "stderr",
     "output_type": "stream",
     "text": [
      "[TRAIN 713, 319] loss: 1.0578107833862305 loss_reg: 1.3719509840011597 loss_line: 0.7436705827713013 acc: 1.0 acc_reg: 1.0 acc_line: 1.0: 100%|██████████| 319/319 [00:14<00:00, 21.78it/s]                                             \n",
      "[TRAIN 714, 1] loss: 0.17630159854888916 loss_reg: 0.2286584973335266 loss_line: 0.12394469976425171 acc: 0.1666666716337204 acc_reg: 0.1666666716337204 acc_line: 0.1666666716337204:   1%|          | 3/319 [00:00<00:15, 20.50it/s]"
     ]
    },
    {
     "name": "stdout",
     "output_type": "stream",
     "text": [
      "[VALIDATION 713] val_acc: 0.9914913366336634 val_acc_reg: 0.989944306930693 val_acc_line: 0.9930383663366337 \n"
     ]
    },
    {
     "name": "stderr",
     "output_type": "stream",
     "text": [
      "[TRAIN 714, 319] loss: 1.0578097105026245 loss_reg: 1.3719509840011597 loss_line: 0.7436681985855103 acc: 1.0 acc_reg: 1.0 acc_line: 1.0: 100%|██████████| 319/319 [00:14<00:00, 21.65it/s]                                             \n",
      "[TRAIN 715, 1] loss: 0.17630159854888916 loss_reg: 0.2286584973335266 loss_line: 0.12394469976425171 acc: 0.1666666716337204 acc_reg: 0.1666666716337204 acc_line: 0.1666666716337204:   1%|          | 2/319 [00:00<00:17, 18.52it/s]"
     ]
    },
    {
     "name": "stdout",
     "output_type": "stream",
     "text": [
      "[VALIDATION 714] val_acc: 0.9907178217821783 val_acc_reg: 0.9885519801980198 val_acc_line: 0.9928836633663366 \n"
     ]
    },
    {
     "name": "stderr",
     "output_type": "stream",
     "text": [
      "[TRAIN 715, 319] loss: 1.0591113567352295 loss_reg: 1.3719509840011597 loss_line: 0.746271550655365 acc: 0.9986979365348816 acc_reg: 1.0 acc_line: 0.9973958730697632: 100%|██████████| 319/319 [00:14<00:00, 21.82it/s]                \n",
      "[TRAIN 716, 1] loss: 0.17636939883232117 loss_reg: 0.22879406809806824 loss_line: 0.12394469976425171 acc: 0.1666666716337204 acc_reg: 0.1666666716337204 acc_line: 0.1666666716337204:   1%|          | 3/319 [00:00<00:14, 22.38it/s]"
     ]
    },
    {
     "name": "stdout",
     "output_type": "stream",
     "text": [
      "[VALIDATION 715] val_acc: 0.9890934405940595 val_acc_reg: 0.9868502475247525 val_acc_line: 0.9913366336633663 \n"
     ]
    },
    {
     "name": "stderr",
     "output_type": "stream",
     "text": [
      "[TRAIN 716, 319] loss: 1.0604138374328613 loss_reg: 1.3771593570709229 loss_line: 0.743668258190155 acc: 0.9973958730697632 acc_reg: 0.9947916865348816 acc_line: 1.0: 100%|██████████| 319/319 [00:14<00:00, 21.84it/s]                \n",
      "[TRAIN 717, 1] loss: 0.1763017624616623 loss_reg: 0.2286584973335266 loss_line: 0.12394501268863678 acc: 0.1666666716337204 acc_reg: 0.1666666716337204 acc_line: 0.1666666716337204:   1%|          | 3/319 [00:00<00:15, 20.37it/s]"
     ]
    },
    {
     "name": "stdout",
     "output_type": "stream",
     "text": [
      "[VALIDATION 716] val_acc: 0.9897122524752475 val_acc_reg: 0.9870049504950495 val_acc_line: 0.9924195544554455 \n"
     ]
    },
    {
     "name": "stderr",
     "output_type": "stream",
     "text": [
      "[TRAIN 717, 319] loss: 1.0591118335723877 loss_reg: 1.3745551109313965 loss_line: 0.7436681985855103 acc: 0.9986979365348816 acc_reg: 0.9973958730697632 acc_line: 1.0: 100%|██████████| 319/319 [00:14<00:00, 21.81it/s]              \n",
      "[TRAIN 718, 1] loss: 0.17630164325237274 loss_reg: 0.22865858674049377 loss_line: 0.12394469976425171 acc: 0.1666666716337204 acc_reg: 0.1666666716337204 acc_line: 0.1666666716337204:   1%|          | 2/319 [00:00<00:15, 19.93it/s]"
     ]
    },
    {
     "name": "stdout",
     "output_type": "stream",
     "text": [
      "[VALIDATION 717] val_acc: 0.9906404702970297 val_acc_reg: 0.9888613861386139 val_acc_line: 0.9924195544554455 \n"
     ]
    },
    {
     "name": "stderr",
     "output_type": "stream",
     "text": [
      "[TRAIN 718, 319] loss: 1.0578227043151855 loss_reg: 1.3719772100448608 loss_line: 0.7436681985855103 acc: 1.0 acc_reg: 1.0 acc_line: 1.0: 100%|██████████| 319/319 [00:14<00:00, 21.92it/s]                                             \n",
      "[TRAIN 719, 1] loss: 0.17630159854888916 loss_reg: 0.2286584973335266 loss_line: 0.12394469976425171 acc: 0.1666666716337204 acc_reg: 0.1666666716337204 acc_line: 0.1666666716337204:   1%|          | 2/319 [00:00<00:16, 18.96it/s]"
     ]
    },
    {
     "name": "stdout",
     "output_type": "stream",
     "text": [
      "[VALIDATION 718] val_acc: 0.9914139851485149 val_acc_reg: 0.9900990099009901 val_acc_line: 0.9927289603960396 \n"
     ]
    },
    {
     "name": "stderr",
     "output_type": "stream",
     "text": [
      "[TRAIN 719, 319] loss: 1.0578097105026245 loss_reg: 1.3719509840011597 loss_line: 0.7436681985855103 acc: 1.0 acc_reg: 1.0 acc_line: 1.0: 100%|██████████| 319/319 [00:14<00:00, 21.98it/s]                                             \n",
      "[TRAIN 720, 1] loss: 0.17760369181632996 loss_reg: 0.2286584973335266 loss_line: 0.1265488713979721 acc: 0.1653645932674408 acc_reg: 0.1666666716337204 acc_line: 0.1640625:   1%|          | 3/319 [00:00<00:14, 22.00it/s]"
     ]
    },
    {
     "name": "stdout",
     "output_type": "stream",
     "text": [
      "[VALIDATION 719] val_acc: 0.9904857673267327 val_acc_reg: 0.9888613861386139 val_acc_line: 0.9921101485148515 \n"
     ]
    },
    {
     "name": "stderr",
     "output_type": "stream",
     "text": [
      "[TRAIN 720, 319] loss: 1.0578100681304932 loss_reg: 1.3719518184661865 loss_line: 0.7436681985855103 acc: 1.0 acc_reg: 1.0 acc_line: 1.0: 100%|██████████| 319/319 [00:14<00:00, 21.85it/s]                                             \n",
      "[TRAIN 721, 1] loss: 0.17630159854888916 loss_reg: 0.2286584973335266 loss_line: 0.12394469976425171 acc: 0.1666666716337204 acc_reg: 0.1666666716337204 acc_line: 0.1666666716337204:   1%|          | 3/319 [00:00<00:14, 21.37it/s]"
     ]
    },
    {
     "name": "stdout",
     "output_type": "stream",
     "text": [
      "[VALIDATION 720] val_acc: 0.9909498762376238 val_acc_reg: 0.989325495049505 val_acc_line: 0.9925742574257426 \n"
     ]
    },
    {
     "name": "stderr",
     "output_type": "stream",
     "text": [
      "[TRAIN 721, 319] loss: 1.0591118335723877 loss_reg: 1.3745551109313965 loss_line: 0.7436681985855103 acc: 0.9986979365348816 acc_reg: 0.9973958730697632 acc_line: 1.0: 100%|██████████| 319/319 [00:14<00:00, 21.80it/s]               \n",
      "[TRAIN 722, 1] loss: 0.17630159854888916 loss_reg: 0.2286584973335266 loss_line: 0.12394469976425171 acc: 0.1666666716337204 acc_reg: 0.1666666716337204 acc_line: 0.1666666716337204:   1%|          | 3/319 [00:00<00:15, 20.78it/s]"
     ]
    },
    {
     "name": "stdout",
     "output_type": "stream",
     "text": [
      "[VALIDATION 721] val_acc: 0.9914139851485149 val_acc_reg: 0.9900990099009901 val_acc_line: 0.9927289603960396 \n"
     ]
    },
    {
     "name": "stderr",
     "output_type": "stream",
     "text": [
      "[TRAIN 722, 319] loss: 1.0578097105026245 loss_reg: 1.3719509840011597 loss_line: 0.7436681985855103 acc: 1.0 acc_reg: 1.0 acc_line: 1.0: 100%|██████████| 319/319 [00:14<00:00, 21.83it/s]                                            \n",
      "[TRAIN 723, 1] loss: 0.17630159854888916 loss_reg: 0.2286584973335266 loss_line: 0.12394469976425171 acc: 0.1666666716337204 acc_reg: 0.1666666716337204 acc_line: 0.1666666716337204:   1%|          | 3/319 [00:00<00:15, 20.85it/s]"
     ]
    },
    {
     "name": "stdout",
     "output_type": "stream",
     "text": [
      "[VALIDATION 722] val_acc: 0.9910272277227723 val_acc_reg: 0.989634900990099 val_acc_line: 0.9924195544554455 \n"
     ]
    },
    {
     "name": "stderr",
     "output_type": "stream",
     "text": [
      "[TRAIN 723, 319] loss: 1.0604161024093628 loss_reg: 1.374559760093689 loss_line: 0.7462723255157471 acc: 0.9973958730697632 acc_reg: 0.9973958730697632 acc_line: 0.9973958730697632: 100%|██████████| 319/319 [00:14<00:00, 21.87it/s] \n",
      "[TRAIN 724, 1] loss: 0.17630159854888916 loss_reg: 0.2286584973335266 loss_line: 0.12394469976425171 acc: 0.1666666716337204 acc_reg: 0.1666666716337204 acc_line: 0.1666666716337204:   1%|          | 2/319 [00:00<00:17, 17.69it/s]"
     ]
    },
    {
     "name": "stdout",
     "output_type": "stream",
     "text": [
      "[VALIDATION 723] val_acc: 0.9912592821782178 val_acc_reg: 0.9902537128712872 val_acc_line: 0.9922648514851485 \n"
     ]
    },
    {
     "name": "stderr",
     "output_type": "stream",
     "text": [
      "[TRAIN 724, 319] loss: 1.0578097105026245 loss_reg: 1.3719509840011597 loss_line: 0.7436681985855103 acc: 1.0 acc_reg: 1.0 acc_line: 1.0: 100%|██████████| 319/319 [00:14<00:00, 21.88it/s]                                             \n",
      "[TRAIN 725, 1] loss: 0.17630159854888916 loss_reg: 0.2286584973335266 loss_line: 0.12394469976425171 acc: 0.1666666716337204 acc_reg: 0.1666666716337204 acc_line: 0.1666666716337204:   1%|          | 3/319 [00:00<00:14, 21.43it/s]"
     ]
    },
    {
     "name": "stdout",
     "output_type": "stream",
     "text": [
      "[VALIDATION 724] val_acc: 0.9906404702970297 val_acc_reg: 0.9890160891089109 val_acc_line: 0.9922648514851485 \n"
     ]
    },
    {
     "name": "stderr",
     "output_type": "stream",
     "text": [
      "[TRAIN 725, 319] loss: 1.0604137182235718 loss_reg: 1.374554991722107 loss_line: 0.7462723255157471 acc: 0.9973958730697632 acc_reg: 0.9973958730697632 acc_line: 0.9973958730697632: 100%|██████████| 319/319 [00:14<00:00, 21.95it/s] \n",
      "[TRAIN 726, 1] loss: 0.17630159854888916 loss_reg: 0.2286584973335266 loss_line: 0.12394469976425171 acc: 0.1666666716337204 acc_reg: 0.1666666716337204 acc_line: 0.1666666716337204:   1%|          | 3/319 [00:00<00:14, 21.51it/s]"
     ]
    },
    {
     "name": "stdout",
     "output_type": "stream",
     "text": [
      "[VALIDATION 725] val_acc: 0.9915686881188119 val_acc_reg: 0.989634900990099 val_acc_line: 0.9935024752475248 \n"
     ]
    },
    {
     "name": "stderr",
     "output_type": "stream",
     "text": [
      "[TRAIN 726, 319] loss: 1.0578097105026245 loss_reg: 1.3719509840011597 loss_line: 0.7436681985855103 acc: 1.0 acc_reg: 1.0 acc_line: 1.0: 100%|██████████| 319/319 [00:14<00:00, 21.89it/s]                                             \n",
      "[TRAIN 727, 1] loss: 0.17630159854888916 loss_reg: 0.2286584973335266 loss_line: 0.12394469976425171 acc: 0.1666666716337204 acc_reg: 0.1666666716337204 acc_line: 0.1666666716337204:   1%|          | 3/319 [00:00<00:14, 21.18it/s]"
     ]
    },
    {
     "name": "stdout",
     "output_type": "stream",
     "text": [
      "[VALIDATION 726] val_acc: 0.9907951732673267 val_acc_reg: 0.9890160891089109 val_acc_line: 0.9925742574257426 \n"
     ]
    },
    {
     "name": "stderr",
     "output_type": "stream",
     "text": [
      "[TRAIN 727, 319] loss: 1.0594689846038818 loss_reg: 1.3752696514129639 loss_line: 0.7436681985855103 acc: 0.9986979365348816 acc_reg: 0.9973958730697632 acc_line: 1.0: 100%|██████████| 319/319 [00:14<00:00, 21.87it/s]             \n",
      "[TRAIN 728, 1] loss: 0.17630159854888916 loss_reg: 0.2286584973335266 loss_line: 0.12394469976425171 acc: 0.1666666716337204 acc_reg: 0.1666666716337204 acc_line: 0.1666666716337204:   1%|          | 3/319 [00:00<00:14, 22.27it/s]"
     ]
    },
    {
     "name": "stdout",
     "output_type": "stream",
     "text": [
      "[VALIDATION 727] val_acc: 0.9910272277227723 val_acc_reg: 0.9888613861386139 val_acc_line: 0.9931930693069307 \n"
     ]
    },
    {
     "name": "stderr",
     "output_type": "stream",
     "text": [
      "[TRAIN 728, 319] loss: 1.0578097105026245 loss_reg: 1.3719511032104492 loss_line: 0.7436681985855103 acc: 1.0 acc_reg: 1.0 acc_line: 1.0: 100%|██████████| 319/319 [00:14<00:00, 22.00it/s]                                             \n",
      "[TRAIN 729, 1] loss: 0.17630159854888916 loss_reg: 0.2286584973335266 loss_line: 0.12394469976425171 acc: 0.1666666716337204 acc_reg: 0.1666666716337204 acc_line: 0.1666666716337204:   1%|          | 2/319 [00:00<00:17, 17.82it/s]"
     ]
    },
    {
     "name": "stdout",
     "output_type": "stream",
     "text": [
      "[VALIDATION 728] val_acc: 0.9903310643564357 val_acc_reg: 0.9880878712871287 val_acc_line: 0.9925742574257426 \n"
     ]
    },
    {
     "name": "stderr",
     "output_type": "stream",
     "text": [
      "[TRAIN 729, 319] loss: 1.0591118335723877 loss_reg: 1.3745551109313965 loss_line: 0.7436681985855103 acc: 0.9986979365348816 acc_reg: 0.9973958730697632 acc_line: 1.0: 100%|██████████| 319/319 [00:14<00:00, 21.99it/s]               \n",
      "[TRAIN 730, 1] loss: 0.17630159854888916 loss_reg: 0.2286584973335266 loss_line: 0.12394469976425171 acc: 0.1666666716337204 acc_reg: 0.1666666716337204 acc_line: 0.1666666716337204:   1%|          | 3/319 [00:00<00:15, 20.46it/s]"
     ]
    },
    {
     "name": "stdout",
     "output_type": "stream",
     "text": [
      "[VALIDATION 729] val_acc: 0.9895575495049505 val_acc_reg: 0.9879331683168316 val_acc_line: 0.9911819306930693 \n"
     ]
    },
    {
     "name": "stderr",
     "output_type": "stream",
     "text": [
      "[TRAIN 730, 319] loss: 1.0578097105026245 loss_reg: 1.3719509840011597 loss_line: 0.7436681985855103 acc: 1.0 acc_reg: 1.0 acc_line: 1.0: 100%|██████████| 319/319 [00:14<00:00, 21.92it/s]                                             \n",
      "[TRAIN 731, 1] loss: 0.17630159854888916 loss_reg: 0.2286584973335266 loss_line: 0.12394469976425171 acc: 0.1666666716337204 acc_reg: 0.1666666716337204 acc_line: 0.1666666716337204:   1%|          | 3/319 [00:00<00:14, 21.54it/s]"
     ]
    },
    {
     "name": "stdout",
     "output_type": "stream",
     "text": [
      "[VALIDATION 730] val_acc: 0.9908725247524752 val_acc_reg: 0.989325495049505 val_acc_line: 0.9924195544554455 \n"
     ]
    },
    {
     "name": "stderr",
     "output_type": "stream",
     "text": [
      "[TRAIN 731, 319] loss: 1.0578097105026245 loss_reg: 1.3719509840011597 loss_line: 0.743668258190155 acc: 1.0 acc_reg: 1.0 acc_line: 1.0: 100%|██████████| 319/319 [00:14<00:00, 21.95it/s]                                              \n",
      "[TRAIN 732, 1] loss: 0.17630159854888916 loss_reg: 0.2286584973335266 loss_line: 0.12394469976425171 acc: 0.1666666716337204 acc_reg: 0.1666666716337204 acc_line: 0.1666666716337204:   1%|          | 3/319 [00:00<00:14, 22.53it/s]"
     ]
    },
    {
     "name": "stdout",
     "output_type": "stream",
     "text": [
      "[VALIDATION 731] val_acc: 0.9918007425742574 val_acc_reg: 0.9905631188118812 val_acc_line: 0.9930383663366337 \n"
     ]
    },
    {
     "name": "stderr",
     "output_type": "stream",
     "text": [
      "[TRAIN 732, 319] loss: 1.0578097105026245 loss_reg: 1.3719509840011597 loss_line: 0.7436681985855103 acc: 1.0 acc_reg: 1.0 acc_line: 1.0: 100%|██████████| 319/319 [00:14<00:00, 21.94it/s]                                             \n",
      "[TRAIN 733, 1] loss: 0.17630164325237274 loss_reg: 0.2286584973335266 loss_line: 0.12394477427005768 acc: 0.1666666716337204 acc_reg: 0.1666666716337204 acc_line: 0.1666666716337204:   1%|          | 3/319 [00:00<00:14, 21.62it/s]"
     ]
    },
    {
     "name": "stdout",
     "output_type": "stream",
     "text": [
      "[VALIDATION 732] val_acc: 0.9907951732673267 val_acc_reg: 0.9891707920792079 val_acc_line: 0.9924195544554455 \n"
     ]
    },
    {
     "name": "stderr",
     "output_type": "stream",
     "text": [
      "[TRAIN 733, 319] loss: 1.0578097105026245 loss_reg: 1.3719509840011597 loss_line: 0.7436681985855103 acc: 1.0 acc_reg: 1.0 acc_line: 1.0: 100%|██████████| 319/319 [00:14<00:00, 21.97it/s]                                             \n",
      "[TRAIN 734, 1] loss: 0.17630159854888916 loss_reg: 0.2286584973335266 loss_line: 0.12394469976425171 acc: 0.1666666716337204 acc_reg: 0.1666666716337204 acc_line: 0.1666666716337204:   1%|          | 3/319 [00:00<00:14, 21.42it/s]"
     ]
    },
    {
     "name": "stdout",
     "output_type": "stream",
     "text": [
      "[VALIDATION 733] val_acc: 0.9902537128712872 val_acc_reg: 0.9888613861386139 val_acc_line: 0.9916460396039604 \n"
     ]
    },
    {
     "name": "stderr",
     "output_type": "stream",
     "text": [
      "[TRAIN 734, 319] loss: 1.0591118335723877 loss_reg: 1.3745551109313965 loss_line: 0.7436681985855103 acc: 0.9986979365348816 acc_reg: 0.9973958730697632 acc_line: 1.0: 100%|██████████| 319/319 [00:14<00:00, 21.95it/s]               \n",
      "[TRAIN 735, 1] loss: 0.17760369181632996 loss_reg: 0.2312626838684082 loss_line: 0.12394469976425171 acc: 0.1653645932674408 acc_reg: 0.1640625 acc_line: 0.1666666716337204:   1%|          | 2/319 [00:00<00:17, 18.57it/s]"
     ]
    },
    {
     "name": "stdout",
     "output_type": "stream",
     "text": [
      "[VALIDATION 734] val_acc: 0.9912592821782178 val_acc_reg: 0.9910272277227723 val_acc_line: 0.9914913366336634 \n"
     ]
    },
    {
     "name": "stderr",
     "output_type": "stream",
     "text": [
      "[TRAIN 735, 319] loss: 1.0591118335723877 loss_reg: 1.3719509840011597 loss_line: 0.7462723255157471 acc: 0.9986979365348816 acc_reg: 1.0 acc_line: 0.9973958730697632: 100%|██████████| 319/319 [00:14<00:00, 22.03it/s]               \n",
      "[TRAIN 736, 1] loss: 0.17630159854888916 loss_reg: 0.2286584973335266 loss_line: 0.12394469976425171 acc: 0.1666666716337204 acc_reg: 0.1666666716337204 acc_line: 0.1666666716337204:   1%|          | 2/319 [00:00<00:16, 18.65it/s]"
     ]
    },
    {
     "name": "stdout",
     "output_type": "stream",
     "text": [
      "[VALIDATION 735] val_acc: 0.9910272277227723 val_acc_reg: 0.9907178217821783 val_acc_line: 0.9913366336633663 \n"
     ]
    },
    {
     "name": "stderr",
     "output_type": "stream",
     "text": [
      "[TRAIN 736, 319] loss: 1.0578097105026245 loss_reg: 1.3719509840011597 loss_line: 0.7436681985855103 acc: 1.0 acc_reg: 1.0 acc_line: 1.0: 100%|██████████| 319/319 [00:14<00:00, 21.95it/s]                                             \n",
      "[TRAIN 737, 1] loss: 0.17630159854888916 loss_reg: 0.2286584973335266 loss_line: 0.12394469976425171 acc: 0.1666666716337204 acc_reg: 0.1666666716337204 acc_line: 0.1666666716337204:   1%|          | 3/319 [00:00<00:15, 20.78it/s]"
     ]
    },
    {
     "name": "stdout",
     "output_type": "stream",
     "text": [
      "[VALIDATION 736] val_acc: 0.9922648514851485 val_acc_reg: 0.9908725247524752 val_acc_line: 0.9936571782178217 \n"
     ]
    },
    {
     "name": "stderr",
     "output_type": "stream",
     "text": [
      "[TRAIN 737, 319] loss: 1.0591118335723877 loss_reg: 1.3745551109313965 loss_line: 0.7436681985855103 acc: 0.9986979365348816 acc_reg: 0.9973958730697632 acc_line: 1.0: 100%|██████████| 319/319 [00:14<00:00, 21.87it/s]               \n",
      "[TRAIN 738, 1] loss: 0.17630159854888916 loss_reg: 0.2286584973335266 loss_line: 0.12394469976425171 acc: 0.1666666716337204 acc_reg: 0.1666666716337204 acc_line: 0.1666666716337204:   1%|          | 2/319 [00:00<00:16, 19.32it/s]"
     ]
    },
    {
     "name": "stdout",
     "output_type": "stream",
     "text": [
      "[VALIDATION 737] val_acc: 0.9900990099009901 val_acc_reg: 0.989325495049505 val_acc_line: 0.9908725247524752 \n"
     ]
    },
    {
     "name": "stderr",
     "output_type": "stream",
     "text": [
      "[TRAIN 738, 319] loss: 1.0578097105026245 loss_reg: 1.3719509840011597 loss_line: 0.7436681985855103 acc: 1.0 acc_reg: 1.0 acc_line: 1.0: 100%|██████████| 319/319 [00:14<00:00, 21.86it/s]                                             \n",
      "[TRAIN 739, 1] loss: 0.17630159854888916 loss_reg: 0.2286584973335266 loss_line: 0.12394469976425171 acc: 0.1666666716337204 acc_reg: 0.1666666716337204 acc_line: 0.1666666716337204:   1%|          | 3/319 [00:00<00:14, 21.81it/s]"
     ]
    },
    {
     "name": "stdout",
     "output_type": "stream",
     "text": [
      "[VALIDATION 738] val_acc: 0.9904857673267327 val_acc_reg: 0.989480198019802 val_acc_line: 0.9914913366336634 \n"
     ]
    },
    {
     "name": "stderr",
     "output_type": "stream",
     "text": [
      "[TRAIN 739, 319] loss: 1.0578817129135132 loss_reg: 1.3720951080322266 loss_line: 0.7436681985855103 acc: 1.0 acc_reg: 1.0 acc_line: 1.0: 100%|██████████| 319/319 [00:14<00:00, 21.97it/s]                                             \n",
      "[TRAIN 740, 1] loss: 0.17630206048488617 loss_reg: 0.22865942120552063 loss_line: 0.12394469976425171 acc: 0.1666666716337204 acc_reg: 0.1666666716337204 acc_line: 0.1666666716337204:   1%|          | 3/319 [00:00<00:15, 20.83it/s]"
     ]
    },
    {
     "name": "stdout",
     "output_type": "stream",
     "text": [
      "[VALIDATION 739] val_acc: 0.9923422029702971 val_acc_reg: 0.9905631188118812 val_acc_line: 0.9941212871287128 \n"
     ]
    },
    {
     "name": "stderr",
     "output_type": "stream",
     "text": [
      "[TRAIN 740, 319] loss: 1.0591118335723877 loss_reg: 1.3719509840011597 loss_line: 0.7462723255157471 acc: 0.9986979365348816 acc_reg: 1.0 acc_line: 0.9973958730697632: 100%|██████████| 319/319 [00:14<00:00, 22.04it/s]               \n",
      "[TRAIN 741, 1] loss: 0.17630159854888916 loss_reg: 0.228658527135849 loss_line: 0.12394469976425171 acc: 0.1666666716337204 acc_reg: 0.1666666716337204 acc_line: 0.1666666716337204:   1%|          | 2/319 [00:00<00:16, 19.39it/s]"
     ]
    },
    {
     "name": "stdout",
     "output_type": "stream",
     "text": [
      "[VALIDATION 740] val_acc: 0.9911045792079208 val_acc_reg: 0.9897896039603961 val_acc_line: 0.9924195544554455 \n"
     ]
    },
    {
     "name": "stderr",
     "output_type": "stream",
     "text": [
      "[TRAIN 741, 319] loss: 1.0604156255722046 loss_reg: 1.3745551109313965 loss_line: 0.7462759017944336 acc: 0.9973958730697632 acc_reg: 0.9973958730697632 acc_line: 0.9973958730697632: 100%|██████████| 319/319 [00:14<00:00, 21.96it/s]\n",
      "[TRAIN 742, 1] loss: 0.17630159854888916 loss_reg: 0.2286584973335266 loss_line: 0.12394469976425171 acc: 0.1666666716337204 acc_reg: 0.1666666716337204 acc_line: 0.1666666716337204:   1%|          | 3/319 [00:00<00:14, 22.29it/s]"
     ]
    },
    {
     "name": "stdout",
     "output_type": "stream",
     "text": [
      "[VALIDATION 741] val_acc: 0.9911819306930693 val_acc_reg: 0.989325495049505 val_acc_line: 0.9930383663366337 \n"
     ]
    },
    {
     "name": "stderr",
     "output_type": "stream",
     "text": [
      "[TRAIN 742, 319] loss: 1.0610077381134033 loss_reg: 1.3744745254516602 loss_line: 0.7475408315658569 acc: 0.99609375 acc_reg: 0.9973958730697632 acc_line: 0.9947916865348816: 100%|██████████| 319/319 [00:14<00:00, 21.91it/s]        \n",
      "[TRAIN 743, 1] loss: 0.17630159854888916 loss_reg: 0.2286584973335266 loss_line: 0.12394469976425171 acc: 0.1666666716337204 acc_reg: 0.1666666716337204 acc_line: 0.1666666716337204:   1%|          | 2/319 [00:00<00:16, 19.32it/s]"
     ]
    },
    {
     "name": "stdout",
     "output_type": "stream",
     "text": [
      "[VALIDATION 742] val_acc: 0.9908725247524752 val_acc_reg: 0.9880878712871287 val_acc_line: 0.9936571782178217 \n"
     ]
    },
    {
     "name": "stderr",
     "output_type": "stream",
     "text": [
      "[TRAIN 743, 319] loss: 1.0603885650634766 loss_reg: 1.37710702419281 loss_line: 0.7436701059341431 acc: 0.9973958730697632 acc_reg: 0.9947916865348816 acc_line: 1.0: 100%|██████████| 319/319 [00:14<00:00, 21.84it/s]                 \n",
      "[TRAIN 744, 1] loss: 0.17760418355464935 loss_reg: 0.231263667345047 loss_line: 0.1239447146654129 acc: 0.1653645932674408 acc_reg: 0.1640625 acc_line: 0.1666666716337204:   1%|          | 3/319 [00:00<00:14, 21.82it/s]"
     ]
    },
    {
     "name": "stdout",
     "output_type": "stream",
     "text": [
      "[VALIDATION 743] val_acc: 0.9895575495049505 val_acc_reg: 0.9868502475247525 val_acc_line: 0.9922648514851485 \n"
     ]
    },
    {
     "name": "stderr",
     "output_type": "stream",
     "text": [
      "[TRAIN 744, 319] loss: 1.059112787246704 loss_reg: 1.371953010559082 loss_line: 0.7462723255157471 acc: 0.9986979365348816 acc_reg: 1.0 acc_line: 0.9973958730697632: 100%|██████████| 319/319 [00:14<00:00, 21.83it/s]                 \n",
      "[TRAIN 745, 1] loss: 0.17630159854888916 loss_reg: 0.2286584973335266 loss_line: 0.12394469976425171 acc: 0.1666666716337204 acc_reg: 0.1666666716337204 acc_line: 0.1666666716337204:   1%|          | 3/319 [00:00<00:14, 21.51it/s]"
     ]
    },
    {
     "name": "stdout",
     "output_type": "stream",
     "text": [
      "[VALIDATION 744] val_acc: 0.9914139851485149 val_acc_reg: 0.9897896039603961 val_acc_line: 0.9930383663366337 \n"
     ]
    },
    {
     "name": "stderr",
     "output_type": "stream",
     "text": [
      "[TRAIN 745, 319] loss: 1.060372233390808 loss_reg: 1.3719509840011597 loss_line: 0.7487933039665222 acc: 0.9973958730697632 acc_reg: 1.0 acc_line: 0.9947916865348816: 100%|██████████| 319/319 [00:14<00:00, 21.91it/s]              \n",
      "[TRAIN 746, 1] loss: 0.17630159854888916 loss_reg: 0.2286584973335266 loss_line: 0.12394469976425171 acc: 0.1666666716337204 acc_reg: 0.1666666716337204 acc_line: 0.1666666716337204:   1%|          | 2/319 [00:00<00:15, 19.97it/s]"
     ]
    },
    {
     "name": "stdout",
     "output_type": "stream",
     "text": [
      "[VALIDATION 745] val_acc: 0.9905631188118812 val_acc_reg: 0.9888613861386139 val_acc_line: 0.9922648514851485 \n"
     ]
    },
    {
     "name": "stderr",
     "output_type": "stream",
     "text": [
      "[TRAIN 746, 319] loss: 1.0591118335723877 loss_reg: 1.3745551109313965 loss_line: 0.7436681985855103 acc: 0.9986979365348816 acc_reg: 0.9973958730697632 acc_line: 1.0: 100%|██████████| 319/319 [00:14<00:00, 21.87it/s]               \n",
      "[TRAIN 747, 1] loss: 0.17630159854888916 loss_reg: 0.2286584973335266 loss_line: 0.12394469976425171 acc: 0.1666666716337204 acc_reg: 0.1666666716337204 acc_line: 0.1666666716337204:   1%|          | 2/319 [00:00<00:16, 19.15it/s]"
     ]
    },
    {
     "name": "stdout",
     "output_type": "stream",
     "text": [
      "[VALIDATION 746] val_acc: 0.9917233910891089 val_acc_reg: 0.9897896039603961 val_acc_line: 0.9936571782178217 \n"
     ]
    },
    {
     "name": "stderr",
     "output_type": "stream",
     "text": [
      "[TRAIN 747, 319] loss: 1.0591118335723877 loss_reg: 1.3745551109313965 loss_line: 0.743668258190155 acc: 0.9986979365348816 acc_reg: 0.9973958730697632 acc_line: 1.0: 100%|██████████| 319/319 [00:14<00:00, 21.78it/s]                \n",
      "[TRAIN 748, 1] loss: 0.17630159854888916 loss_reg: 0.2286584973335266 loss_line: 0.12394469976425171 acc: 0.1666666716337204 acc_reg: 0.1666666716337204 acc_line: 0.1666666716337204:   1%|          | 3/319 [00:00<00:13, 22.66it/s]"
     ]
    },
    {
     "name": "stdout",
     "output_type": "stream",
     "text": [
      "[VALIDATION 747] val_acc: 0.9910272277227723 val_acc_reg: 0.989634900990099 val_acc_line: 0.9924195544554455 \n"
     ]
    },
    {
     "name": "stderr",
     "output_type": "stream",
     "text": [
      "[TRAIN 748, 319] loss: 1.0590318441390991 loss_reg: 1.3719934225082397 loss_line: 0.7460703253746033 acc: 0.9986979365348816 acc_reg: 1.0 acc_line: 0.9973958730697632: 100%|██████████| 319/319 [00:14<00:00, 22.02it/s]               \n",
      "[TRAIN 749, 1] loss: 0.17630159854888916 loss_reg: 0.2286584973335266 loss_line: 0.12394469976425171 acc: 0.1666666716337204 acc_reg: 0.1666666716337204 acc_line: 0.1666666716337204:   1%|          | 3/319 [00:00<00:13, 22.97it/s]"
     ]
    },
    {
     "name": "stdout",
     "output_type": "stream",
     "text": [
      "[VALIDATION 748] val_acc: 0.9888613861386139 val_acc_reg: 0.9866955445544554 val_acc_line: 0.9910272277227723 \n"
     ]
    },
    {
     "name": "stderr",
     "output_type": "stream",
     "text": [
      "[TRAIN 749, 319] loss: 1.0591118335723877 loss_reg: 1.3719509840011597 loss_line: 0.7462723255157471 acc: 0.9986979365348816 acc_reg: 1.0 acc_line: 0.9973958730697632: 100%|██████████| 319/319 [00:14<00:00, 22.04it/s]               \n",
      "[TRAIN 750, 1] loss: 0.17630159854888916 loss_reg: 0.2286584973335266 loss_line: 0.12394469976425171 acc: 0.1666666716337204 acc_reg: 0.1666666716337204 acc_line: 0.1666666716337204:   1%|          | 3/319 [00:00<00:14, 21.17it/s]"
     ]
    },
    {
     "name": "stdout",
     "output_type": "stream",
     "text": [
      "[VALIDATION 749] val_acc: 0.9911045792079208 val_acc_reg: 0.9888613861386139 val_acc_line: 0.9933477722772277 \n"
     ]
    },
    {
     "name": "stderr",
     "output_type": "stream",
     "text": [
      "[TRAIN 750, 319] loss: 1.0584648847579956 loss_reg: 1.3732614517211914 loss_line: 0.7436681985855103 acc: 0.9986979365348816 acc_reg: 0.9973958730697632 acc_line: 1.0: 100%|██████████| 319/319 [00:14<00:00, 21.84it/s]               \n",
      "[TRAIN 751, 1] loss: 0.17630159854888916 loss_reg: 0.2286584973335266 loss_line: 0.12394469976425171 acc: 0.1666666716337204 acc_reg: 0.1666666716337204 acc_line: 0.1666666716337204:   1%|          | 2/319 [00:00<00:17, 18.14it/s]"
     ]
    },
    {
     "name": "stdout",
     "output_type": "stream",
     "text": [
      "[VALIDATION 750] val_acc: 0.9909498762376238 val_acc_reg: 0.9890160891089109 val_acc_line: 0.9928836633663366 \n"
     ]
    },
    {
     "name": "stderr",
     "output_type": "stream",
     "text": [
      "[TRAIN 751, 319] loss: 1.0591247081756592 loss_reg: 1.3745808601379395 loss_line: 0.7436681985855103 acc: 0.9986979365348816 acc_reg: 0.9973958730697632 acc_line: 1.0: 100%|██████████| 319/319 [00:14<00:00, 21.98it/s]               \n",
      "[TRAIN 752, 1] loss: 0.17630159854888916 loss_reg: 0.2286584973335266 loss_line: 0.12394469976425171 acc: 0.1666666716337204 acc_reg: 0.1666666716337204 acc_line: 0.1666666716337204:   1%|          | 2/319 [00:00<00:16, 19.39it/s]"
     ]
    },
    {
     "name": "stdout",
     "output_type": "stream",
     "text": [
      "[VALIDATION 751] val_acc: 0.9897122524752475 val_acc_reg: 0.9876237623762376 val_acc_line: 0.9918007425742574 \n"
     ]
    },
    {
     "name": "stderr",
     "output_type": "stream",
     "text": [
      "[TRAIN 752, 319] loss: 1.0591118335723877 loss_reg: 1.3719509840011597 loss_line: 0.7462723255157471 acc: 0.9986979365348816 acc_reg: 1.0 acc_line: 0.9973958730697632: 100%|██████████| 319/319 [00:14<00:00, 21.97it/s]               \n",
      "[TRAIN 753, 1] loss: 0.17630159854888916 loss_reg: 0.2286584973335266 loss_line: 0.12394469976425171 acc: 0.1666666716337204 acc_reg: 0.1666666716337204 acc_line: 0.1666666716337204:   1%|          | 2/319 [00:00<00:15, 19.87it/s]"
     ]
    },
    {
     "name": "stdout",
     "output_type": "stream",
     "text": [
      "[VALIDATION 752] val_acc: 0.9916460396039604 val_acc_reg: 0.989325495049505 val_acc_line: 0.9939665841584159 \n"
     ]
    },
    {
     "name": "stderr",
     "output_type": "stream",
     "text": [
      "[TRAIN 753, 319] loss: 1.0591224431991577 loss_reg: 1.3745551109313965 loss_line: 0.7436895370483398 acc: 0.9986979365348816 acc_reg: 0.9973958730697632 acc_line: 1.0: 100%|██████████| 319/319 [00:14<00:00, 22.00it/s]              \n",
      "[TRAIN 754, 1] loss: 0.17630159854888916 loss_reg: 0.2286584973335266 loss_line: 0.12394469976425171 acc: 0.1666666716337204 acc_reg: 0.1666666716337204 acc_line: 0.1666666716337204:   1%|          | 3/319 [00:00<00:14, 21.17it/s]"
     ]
    },
    {
     "name": "stdout",
     "output_type": "stream",
     "text": [
      "[VALIDATION 753] val_acc: 0.9925742574257426 val_acc_reg: 0.9905631188118812 val_acc_line: 0.9945853960396039 \n"
     ]
    },
    {
     "name": "stderr",
     "output_type": "stream",
     "text": [
      "[TRAIN 754, 319] loss: 1.060415267944336 loss_reg: 1.3771624565124512 loss_line: 0.7436681985855103 acc: 0.9973958730697632 acc_reg: 0.9947916865348816 acc_line: 1.0: 100%|██████████| 319/319 [00:14<00:00, 21.91it/s]                \n",
      "[TRAIN 755, 1] loss: 0.17630159854888916 loss_reg: 0.2286584973335266 loss_line: 0.1239447221159935 acc: 0.1666666716337204 acc_reg: 0.1666666716337204 acc_line: 0.1666666716337204:   1%|          | 2/319 [00:00<00:16, 19.40it/s]"
     ]
    },
    {
     "name": "stdout",
     "output_type": "stream",
     "text": [
      "[VALIDATION 754] val_acc: 0.9908725247524752 val_acc_reg: 0.9885519801980198 val_acc_line: 0.9931930693069307 \n"
     ]
    },
    {
     "name": "stderr",
     "output_type": "stream",
     "text": [
      "[TRAIN 755, 319] loss: 1.0591120719909668 loss_reg: 1.3745551109313965 loss_line: 0.743668794631958 acc: 0.9986979365348816 acc_reg: 0.9973958730697632 acc_line: 1.0: 100%|██████████| 319/319 [00:14<00:00, 21.88it/s]                \n",
      "[TRAIN 756, 1] loss: 0.17630159854888916 loss_reg: 0.2286584973335266 loss_line: 0.12394469976425171 acc: 0.1666666716337204 acc_reg: 0.1666666716337204 acc_line: 0.1666666716337204:   1%|          | 3/319 [00:00<00:14, 21.51it/s]"
     ]
    },
    {
     "name": "stdout",
     "output_type": "stream",
     "text": [
      "[VALIDATION 755] val_acc: 0.9912592821782178 val_acc_reg: 0.9883972772277227 val_acc_line: 0.9941212871287128 \n"
     ]
    },
    {
     "name": "stderr",
     "output_type": "stream",
     "text": [
      "[TRAIN 756, 319] loss: 1.057809829711914 loss_reg: 1.3719509840011597 loss_line: 0.7436684370040894 acc: 1.0 acc_reg: 1.0 acc_line: 1.0: 100%|██████████| 319/319 [00:14<00:00, 21.91it/s]                                            \n",
      "[TRAIN 757, 1] loss: 0.17630162835121155 loss_reg: 0.2286584973335266 loss_line: 0.12394474446773529 acc: 0.1666666716337204 acc_reg: 0.1666666716337204 acc_line: 0.1666666716337204:   1%|          | 2/319 [00:00<00:16, 19.17it/s]"
     ]
    },
    {
     "name": "stdout",
     "output_type": "stream",
     "text": [
      "[VALIDATION 756] val_acc: 0.9904857673267327 val_acc_reg: 0.9887066831683168 val_acc_line: 0.9922648514851485 \n"
     ]
    },
    {
     "name": "stderr",
     "output_type": "stream",
     "text": [
      "[TRAIN 757, 319] loss: 1.0591118335723877 loss_reg: 1.3745551109313965 loss_line: 0.7436681985855103 acc: 0.9986979365348816 acc_reg: 0.9973958730697632 acc_line: 1.0: 100%|██████████| 319/319 [00:14<00:00, 21.97it/s]               \n",
      "[TRAIN 758, 1] loss: 0.17630159854888916 loss_reg: 0.2286584973335266 loss_line: 0.12394469976425171 acc: 0.1666666716337204 acc_reg: 0.1666666716337204 acc_line: 0.1666666716337204:   1%|          | 3/319 [00:00<00:14, 21.65it/s]"
     ]
    },
    {
     "name": "stdout",
     "output_type": "stream",
     "text": [
      "[VALIDATION 757] val_acc: 0.9904084158415841 val_acc_reg: 0.9876237623762376 val_acc_line: 0.9931930693069307 \n"
     ]
    },
    {
     "name": "stderr",
     "output_type": "stream",
     "text": [
      "[TRAIN 758, 319] loss: 1.0604138374328613 loss_reg: 1.3745551109313965 loss_line: 0.7462723255157471 acc: 0.9973958730697632 acc_reg: 0.9973958730697632 acc_line: 0.9973958730697632: 100%|██████████| 319/319 [00:14<00:00, 21.95it/s]\n",
      "[TRAIN 759, 1] loss: 0.17630159854888916 loss_reg: 0.2286584973335266 loss_line: 0.12394469976425171 acc: 0.1666666716337204 acc_reg: 0.1666666716337204 acc_line: 0.1666666716337204:   1%|          | 2/319 [00:00<00:16, 18.99it/s]"
     ]
    },
    {
     "name": "stdout",
     "output_type": "stream",
     "text": [
      "[VALIDATION 758] val_acc: 0.9912592821782178 val_acc_reg: 0.989325495049505 val_acc_line: 0.9931930693069307 \n"
     ]
    },
    {
     "name": "stderr",
     "output_type": "stream",
     "text": [
      "[TRAIN 759, 319] loss: 1.0591118335723877 loss_reg: 1.3719509840011597 loss_line: 0.7462723255157471 acc: 0.9986979365348816 acc_reg: 1.0 acc_line: 0.9973958730697632: 100%|██████████| 319/319 [00:14<00:00, 21.97it/s]               \n",
      "[TRAIN 760, 1] loss: 0.17630159854888916 loss_reg: 0.2286584973335266 loss_line: 0.12394469976425171 acc: 0.1666666716337204 acc_reg: 0.1666666716337204 acc_line: 0.1666666716337204:   1%|          | 3/319 [00:00<00:14, 21.67it/s]"
     ]
    },
    {
     "name": "stdout",
     "output_type": "stream",
     "text": [
      "[VALIDATION 759] val_acc: 0.9897896039603961 val_acc_reg: 0.9865408415841584 val_acc_line: 0.9930383663366337 \n"
     ]
    },
    {
     "name": "stderr",
     "output_type": "stream",
     "text": [
      "[TRAIN 760, 319] loss: 1.0578110218048096 loss_reg: 1.3719537258148193 loss_line: 0.7436681985855103 acc: 1.0 acc_reg: 1.0 acc_line: 1.0: 100%|██████████| 319/319 [00:14<00:00, 22.01it/s]                                             \n",
      "[TRAIN 761, 1] loss: 0.17630159854888916 loss_reg: 0.2286584973335266 loss_line: 0.12394469976425171 acc: 0.1666666716337204 acc_reg: 0.1666666716337204 acc_line: 0.1666666716337204:   1%|          | 3/319 [00:00<00:13, 23.00it/s]"
     ]
    },
    {
     "name": "stdout",
     "output_type": "stream",
     "text": [
      "[VALIDATION 760] val_acc: 0.9910272277227723 val_acc_reg: 0.9890160891089109 val_acc_line: 0.9930383663366337 \n"
     ]
    },
    {
     "name": "stderr",
     "output_type": "stream",
     "text": [
      "[TRAIN 761, 319] loss: 1.0578097105026245 loss_reg: 1.3719509840011597 loss_line: 0.7436681985855103 acc: 1.0 acc_reg: 1.0 acc_line: 1.0: 100%|██████████| 319/319 [00:14<00:00, 22.00it/s]                                             \n",
      "[TRAIN 762, 1] loss: 0.17630159854888916 loss_reg: 0.2286584973335266 loss_line: 0.12394469976425171 acc: 0.1666666716337204 acc_reg: 0.1666666716337204 acc_line: 0.1666666716337204:   1%|          | 3/319 [00:00<00:14, 21.12it/s]"
     ]
    },
    {
     "name": "stdout",
     "output_type": "stream",
     "text": [
      "[VALIDATION 761] val_acc: 0.9908725247524752 val_acc_reg: 0.9883972772277227 val_acc_line: 0.9933477722772277 \n"
     ]
    },
    {
     "name": "stderr",
     "output_type": "stream",
     "text": [
      "[TRAIN 762, 319] loss: 1.0616886615753174 loss_reg: 1.3745006322860718 loss_line: 0.7488765120506287 acc: 0.99609375 acc_reg: 0.9973958730697632 acc_line: 0.9947916865348816: 100%|██████████| 319/319 [00:14<00:00, 21.97it/s]        \n",
      "[TRAIN 763, 1] loss: 0.17630159854888916 loss_reg: 0.2286584973335266 loss_line: 0.12394469976425171 acc: 0.1666666716337204 acc_reg: 0.1666666716337204 acc_line: 0.1666666716337204:   1%|          | 3/319 [00:00<00:15, 20.35it/s]"
     ]
    },
    {
     "name": "stdout",
     "output_type": "stream",
     "text": [
      "[VALIDATION 762] val_acc: 0.9919554455445545 val_acc_reg: 0.9900990099009901 val_acc_line: 0.9938118811881188 \n"
     ]
    },
    {
     "name": "stderr",
     "output_type": "stream",
     "text": [
      "[TRAIN 763, 319] loss: 1.0578114986419678 loss_reg: 1.371954321861267 loss_line: 0.7436684370040894 acc: 1.0 acc_reg: 1.0 acc_line: 1.0: 100%|██████████| 319/319 [00:14<00:00, 21.90it/s]                                              \n",
      "[TRAIN 764, 1] loss: 0.17630159854888916 loss_reg: 0.2286584973335266 loss_line: 0.12394469976425171 acc: 0.1666666716337204 acc_reg: 0.1666666716337204 acc_line: 0.1666666716337204:   1%|          | 2/319 [00:00<00:16, 19.58it/s]"
     ]
    },
    {
     "name": "stdout",
     "output_type": "stream",
     "text": [
      "[VALIDATION 763] val_acc: 0.9921875 val_acc_reg: 0.989480198019802 val_acc_line: 0.994894801980198 \n"
     ]
    },
    {
     "name": "stderr",
     "output_type": "stream",
     "text": [
      "[TRAIN 764, 319] loss: 1.0593293905258179 loss_reg: 1.3749744892120361 loss_line: 0.7436842322349548 acc: 0.9986979365348816 acc_reg: 0.9973958730697632 acc_line: 1.0: 100%|██████████| 319/319 [00:14<00:00, 21.86it/s]               \n",
      "[TRAIN 765, 1] loss: 0.17630159854888916 loss_reg: 0.2286584973335266 loss_line: 0.12394469976425171 acc: 0.1666666716337204 acc_reg: 0.1666666716337204 acc_line: 0.1666666716337204:   1%|          | 3/319 [00:00<00:15, 20.49it/s]"
     ]
    },
    {
     "name": "stdout",
     "output_type": "stream",
     "text": [
      "[VALIDATION 764] val_acc: 0.9913366336633663 val_acc_reg: 0.9890160891089109 val_acc_line: 0.9936571782178217 \n"
     ]
    },
    {
     "name": "stderr",
     "output_type": "stream",
     "text": [
      "[TRAIN 765, 319] loss: 1.0578097105026245 loss_reg: 1.3719509840011597 loss_line: 0.7436681985855103 acc: 1.0 acc_reg: 1.0 acc_line: 1.0: 100%|██████████| 319/319 [00:14<00:00, 21.91it/s]                                             \n",
      "[TRAIN 766, 1] loss: 0.17630159854888916 loss_reg: 0.2286584973335266 loss_line: 0.12394469976425171 acc: 0.1666666716337204 acc_reg: 0.1666666716337204 acc_line: 0.1666666716337204:   1%|          | 2/319 [00:00<00:16, 19.56it/s]"
     ]
    },
    {
     "name": "stdout",
     "output_type": "stream",
     "text": [
      "[VALIDATION 765] val_acc: 0.9914139851485149 val_acc_reg: 0.989480198019802 val_acc_line: 0.9933477722772277 \n"
     ]
    },
    {
     "name": "stderr",
     "output_type": "stream",
     "text": [
      "[TRAIN 766, 319] loss: 1.0578097105026245 loss_reg: 1.3719509840011597 loss_line: 0.7436681985855103 acc: 1.0 acc_reg: 1.0 acc_line: 1.0: 100%|██████████| 319/319 [00:14<00:00, 21.89it/s]                                             \n",
      "[TRAIN 767, 1] loss: 0.17630159854888916 loss_reg: 0.2286584973335266 loss_line: 0.12394469976425171 acc: 0.1666666716337204 acc_reg: 0.1666666716337204 acc_line: 0.1666666716337204:   1%|          | 3/319 [00:00<00:14, 22.16it/s]"
     ]
    },
    {
     "name": "stdout",
     "output_type": "stream",
     "text": [
      "[VALIDATION 766] val_acc: 0.9904857673267327 val_acc_reg: 0.989325495049505 val_acc_line: 0.9916460396039604 \n"
     ]
    },
    {
     "name": "stderr",
     "output_type": "stream",
     "text": [
      "[TRAIN 767, 319] loss: 1.0591118335723877 loss_reg: 1.3719509840011597 loss_line: 0.7462723255157471 acc: 0.9986979365348816 acc_reg: 1.0 acc_line: 0.9973958730697632: 100%|██████████| 319/319 [00:14<00:00, 21.77it/s]               \n",
      "[TRAIN 768, 1] loss: 0.17760369181632996 loss_reg: 0.231262668967247 loss_line: 0.12394469976425171 acc: 0.1653645932674408 acc_reg: 0.1640625 acc_line: 0.1666666716337204:   1%|          | 3/319 [00:00<00:13, 22.80it/s]"
     ]
    },
    {
     "name": "stdout",
     "output_type": "stream",
     "text": [
      "[VALIDATION 767] val_acc: 0.9920327970297029 val_acc_reg: 0.9911819306930693 val_acc_line: 0.9928836633663366 \n"
     ]
    },
    {
     "name": "stderr",
     "output_type": "stream",
     "text": [
      "[TRAIN 768, 319] loss: 1.0578687191009521 loss_reg: 1.3719509840011597 loss_line: 0.7437860369682312 acc: 1.0 acc_reg: 1.0 acc_line: 1.0: 100%|██████████| 319/319 [00:14<00:00, 21.87it/s]                                             \n",
      "[TRAIN 769, 1] loss: 0.17630159854888916 loss_reg: 0.2286584973335266 loss_line: 0.12394469976425171 acc: 0.1666666716337204 acc_reg: 0.1666666716337204 acc_line: 0.1666666716337204:   1%|          | 3/319 [00:00<00:14, 21.57it/s]"
     ]
    },
    {
     "name": "stdout",
     "output_type": "stream",
     "text": [
      "[VALIDATION 768] val_acc: 0.9922648514851485 val_acc_reg: 0.9897896039603961 val_acc_line: 0.994740099009901 \n"
     ]
    },
    {
     "name": "stderr",
     "output_type": "stream",
     "text": [
      "[TRAIN 769, 319] loss: 1.0591154098510742 loss_reg: 1.3745627403259277 loss_line: 0.7436681985855103 acc: 0.9986979365348816 acc_reg: 0.9973958730697632 acc_line: 1.0: 100%|██████████| 319/319 [00:14<00:00, 21.99it/s]               \n",
      "[TRAIN 770, 1] loss: 0.17630159854888916 loss_reg: 0.2286584973335266 loss_line: 0.12394469976425171 acc: 0.1666666716337204 acc_reg: 0.1666666716337204 acc_line: 0.1666666716337204:   1%|          | 3/319 [00:00<00:15, 20.65it/s]"
     ]
    },
    {
     "name": "stdout",
     "output_type": "stream",
     "text": [
      "[VALIDATION 769] val_acc: 0.9914913366336634 val_acc_reg: 0.9905631188118812 val_acc_line: 0.9924195544554455 \n"
     ]
    },
    {
     "name": "stderr",
     "output_type": "stream",
     "text": [
      "[TRAIN 770, 319] loss: 1.0578097105026245 loss_reg: 1.3719509840011597 loss_line: 0.7436681985855103 acc: 1.0 acc_reg: 1.0 acc_line: 1.0: 100%|██████████| 319/319 [00:14<00:00, 21.82it/s]                                             \n",
      "[TRAIN 771, 1] loss: 0.17630159854888916 loss_reg: 0.228658527135849 loss_line: 0.12394469976425171 acc: 0.1666666716337204 acc_reg: 0.1666666716337204 acc_line: 0.1666666716337204:   1%|          | 3/319 [00:00<00:13, 23.37it/s]"
     ]
    },
    {
     "name": "stdout",
     "output_type": "stream",
     "text": [
      "[VALIDATION 770] val_acc: 0.9906404702970297 val_acc_reg: 0.9887066831683168 val_acc_line: 0.9925742574257426 \n"
     ]
    },
    {
     "name": "stderr",
     "output_type": "stream",
     "text": [
      "[TRAIN 771, 319] loss: 1.0578157901763916 loss_reg: 1.3719509840011597 loss_line: 0.7436804175376892 acc: 1.0 acc_reg: 1.0 acc_line: 1.0: 100%|██████████| 319/319 [00:14<00:00, 21.85it/s]                                             \n",
      "[TRAIN 772, 1] loss: 0.17630159854888916 loss_reg: 0.2286584973335266 loss_line: 0.12394469976425171 acc: 0.1666666716337204 acc_reg: 0.1666666716337204 acc_line: 0.1666666716337204:   1%|          | 3/319 [00:00<00:14, 21.33it/s]"
     ]
    },
    {
     "name": "stdout",
     "output_type": "stream",
     "text": [
      "[VALIDATION 771] val_acc: 0.9906404702970297 val_acc_reg: 0.9890160891089109 val_acc_line: 0.9922648514851485 \n"
     ]
    },
    {
     "name": "stderr",
     "output_type": "stream",
     "text": [
      "[TRAIN 772, 319] loss: 1.0578097105026245 loss_reg: 1.3719509840011597 loss_line: 0.7436681985855103 acc: 1.0 acc_reg: 1.0 acc_line: 1.0: 100%|██████████| 319/319 [00:14<00:00, 21.91it/s]                                           \n",
      "[TRAIN 773, 1] loss: 0.17630159854888916 loss_reg: 0.2286584973335266 loss_line: 0.12394469976425171 acc: 0.1666666716337204 acc_reg: 0.1666666716337204 acc_line: 0.1666666716337204:   1%|          | 3/319 [00:00<00:14, 21.18it/s]"
     ]
    },
    {
     "name": "stdout",
     "output_type": "stream",
     "text": [
      "[VALIDATION 772] val_acc: 0.9920327970297029 val_acc_reg: 0.9902537128712872 val_acc_line: 0.9938118811881188 \n"
     ]
    },
    {
     "name": "stderr",
     "output_type": "stream",
     "text": [
      "[TRAIN 773, 319] loss: 1.0578097105026245 loss_reg: 1.3719509840011597 loss_line: 0.7436681985855103 acc: 1.0 acc_reg: 1.0 acc_line: 1.0: 100%|██████████| 319/319 [00:14<00:00, 21.89it/s]                                             \n",
      "[TRAIN 774, 1] loss: 0.17630159854888916 loss_reg: 0.2286584973335266 loss_line: 0.12394469976425171 acc: 0.1666666716337204 acc_reg: 0.1666666716337204 acc_line: 0.1666666716337204:   1%|          | 3/319 [00:00<00:13, 22.70it/s]"
     ]
    },
    {
     "name": "stdout",
     "output_type": "stream",
     "text": [
      "[VALIDATION 773] val_acc: 0.9914139851485149 val_acc_reg: 0.989480198019802 val_acc_line: 0.9933477722772277 \n"
     ]
    },
    {
     "name": "stderr",
     "output_type": "stream",
     "text": [
      "[TRAIN 774, 319] loss: 1.0578097105026245 loss_reg: 1.3719509840011597 loss_line: 0.7436681985855103 acc: 1.0 acc_reg: 1.0 acc_line: 1.0: 100%|██████████| 319/319 [00:14<00:00, 21.99it/s]                                             \n",
      "[TRAIN 775, 1] loss: 0.17630159854888916 loss_reg: 0.2286584973335266 loss_line: 0.12394469976425171 acc: 0.1666666716337204 acc_reg: 0.1666666716337204 acc_line: 0.1666666716337204:   1%|          | 3/319 [00:00<00:14, 21.34it/s]"
     ]
    },
    {
     "name": "stdout",
     "output_type": "stream",
     "text": [
      "[VALIDATION 774] val_acc: 0.9907951732673267 val_acc_reg: 0.9883972772277227 val_acc_line: 0.9931930693069307 \n"
     ]
    },
    {
     "name": "stderr",
     "output_type": "stream",
     "text": [
      "[TRAIN 775, 319] loss: 1.0578112602233887 loss_reg: 1.3719542026519775 loss_line: 0.7436681985855103 acc: 1.0 acc_reg: 1.0 acc_line: 1.0: 100%|██████████| 319/319 [00:14<00:00, 22.08it/s]                                            \n",
      "[TRAIN 776, 1] loss: 0.17630159854888916 loss_reg: 0.2286584973335266 loss_line: 0.12394469976425171 acc: 0.1666666716337204 acc_reg: 0.1666666716337204 acc_line: 0.1666666716337204:   1%|          | 2/319 [00:00<00:17, 17.71it/s]"
     ]
    },
    {
     "name": "stdout",
     "output_type": "stream",
     "text": [
      "[VALIDATION 775] val_acc: 0.9917233910891089 val_acc_reg: 0.989480198019802 val_acc_line: 0.9939665841584159 \n"
     ]
    },
    {
     "name": "stderr",
     "output_type": "stream",
     "text": [
      "[TRAIN 776, 319] loss: 1.0578097105026245 loss_reg: 1.3719509840011597 loss_line: 0.7436681985855103 acc: 1.0 acc_reg: 1.0 acc_line: 1.0: 100%|██████████| 319/319 [00:14<00:00, 21.91it/s]                                             \n",
      "[TRAIN 777, 1] loss: 0.17630159854888916 loss_reg: 0.2286584973335266 loss_line: 0.12394469976425171 acc: 0.1666666716337204 acc_reg: 0.1666666716337204 acc_line: 0.1666666716337204:   1%|          | 2/319 [00:00<00:17, 17.97it/s]"
     ]
    },
    {
     "name": "stdout",
     "output_type": "stream",
     "text": [
      "[VALIDATION 776] val_acc: 0.9912592821782178 val_acc_reg: 0.9882425742574258 val_acc_line: 0.9942759900990099 \n"
     ]
    },
    {
     "name": "stderr",
     "output_type": "stream",
     "text": [
      "[TRAIN 777, 319] loss: 1.057856798171997 loss_reg: 1.3720452785491943 loss_line: 0.7436681985855103 acc: 1.0 acc_reg: 1.0 acc_line: 1.0: 100%|██████████| 319/319 [00:14<00:00, 21.98it/s]                                              \n",
      "[TRAIN 778, 1] loss: 0.17630159854888916 loss_reg: 0.2286584973335266 loss_line: 0.12394469976425171 acc: 0.1666666716337204 acc_reg: 0.1666666716337204 acc_line: 0.1666666716337204:   1%|          | 3/319 [00:00<00:14, 22.22it/s]"
     ]
    },
    {
     "name": "stdout",
     "output_type": "stream",
     "text": [
      "[VALIDATION 777] val_acc: 0.9921101485148515 val_acc_reg: 0.989634900990099 val_acc_line: 0.9945853960396039 \n"
     ]
    },
    {
     "name": "stderr",
     "output_type": "stream",
     "text": [
      "[TRAIN 778, 319] loss: 1.0578097105026245 loss_reg: 1.3719509840011597 loss_line: 0.743668258190155 acc: 1.0 acc_reg: 1.0 acc_line: 1.0: 100%|██████████| 319/319 [00:14<00:00, 21.93it/s]                                              \n",
      "[TRAIN 779, 1] loss: 0.17630159854888916 loss_reg: 0.2286584973335266 loss_line: 0.12394469976425171 acc: 0.1666666716337204 acc_reg: 0.1666666716337204 acc_line: 0.1666666716337204:   1%|          | 2/319 [00:00<00:16, 19.07it/s]"
     ]
    },
    {
     "name": "stdout",
     "output_type": "stream",
     "text": [
      "[VALIDATION 778] val_acc: 0.9922648514851485 val_acc_reg: 0.9907178217821783 val_acc_line: 0.9938118811881188 \n"
     ]
    },
    {
     "name": "stderr",
     "output_type": "stream",
     "text": [
      "[TRAIN 779, 319] loss: 1.0578097105026245 loss_reg: 1.3719509840011597 loss_line: 0.7436681985855103 acc: 1.0 acc_reg: 1.0 acc_line: 1.0: 100%|██████████| 319/319 [00:14<00:00, 21.91it/s]                                           \n",
      "[TRAIN 780, 1] loss: 0.17760369181632996 loss_reg: 0.231262668967247 loss_line: 0.12394469976425171 acc: 0.1653645932674408 acc_reg: 0.1640625 acc_line: 0.1666666716337204:   1%|          | 3/319 [00:00<00:14, 22.29it/s]"
     ]
    },
    {
     "name": "stdout",
     "output_type": "stream",
     "text": [
      "[VALIDATION 779] val_acc: 0.9908725247524752 val_acc_reg: 0.9891707920792079 val_acc_line: 0.9925742574257426 \n"
     ]
    },
    {
     "name": "stderr",
     "output_type": "stream",
     "text": [
      "[TRAIN 780, 319] loss: 1.0578097105026245 loss_reg: 1.3719509840011597 loss_line: 0.7436681985855103 acc: 1.0 acc_reg: 1.0 acc_line: 1.0: 100%|██████████| 319/319 [00:14<00:00, 21.68it/s]                                             \n",
      "[TRAIN 781, 1] loss: 0.17630159854888916 loss_reg: 0.2286584973335266 loss_line: 0.12394469976425171 acc: 0.1666666716337204 acc_reg: 0.1666666716337204 acc_line: 0.1666666716337204:   1%|          | 2/319 [00:00<00:16, 18.84it/s]"
     ]
    },
    {
     "name": "stdout",
     "output_type": "stream",
     "text": [
      "[VALIDATION 780] val_acc: 0.9921875 val_acc_reg: 0.9908725247524752 val_acc_line: 0.9935024752475248 \n"
     ]
    },
    {
     "name": "stderr",
     "output_type": "stream",
     "text": [
      "[TRAIN 781, 319] loss: 1.061703085899353 loss_reg: 1.3771337270736694 loss_line: 0.7462723255157471 acc: 0.99609375 acc_reg: 0.9947916865348816 acc_line: 0.9973958730697632: 100%|██████████| 319/319 [00:14<00:00, 22.09it/s]         \n",
      "[TRAIN 782, 1] loss: 0.17630159854888916 loss_reg: 0.2286584973335266 loss_line: 0.12394469976425171 acc: 0.1666666716337204 acc_reg: 0.1666666716337204 acc_line: 0.1666666716337204:   1%|          | 3/319 [00:00<00:13, 22.84it/s]"
     ]
    },
    {
     "name": "stdout",
     "output_type": "stream",
     "text": [
      "[VALIDATION 781] val_acc: 0.9921875 val_acc_reg: 0.9913366336633663 val_acc_line: 0.9930383663366337 \n"
     ]
    },
    {
     "name": "stderr",
     "output_type": "stream",
     "text": [
      "[TRAIN 782, 319] loss: 1.0591118335723877 loss_reg: 1.3719509840011597 loss_line: 0.7462723255157471 acc: 0.9986979365348816 acc_reg: 1.0 acc_line: 0.9973958730697632: 100%|██████████| 319/319 [00:14<00:00, 21.97it/s]               \n",
      "[TRAIN 783, 1] loss: 0.17630159854888916 loss_reg: 0.2286584973335266 loss_line: 0.12394469976425171 acc: 0.1666666716337204 acc_reg: 0.1666666716337204 acc_line: 0.1666666716337204:   1%|          | 2/319 [00:00<00:16, 19.59it/s]"
     ]
    },
    {
     "name": "stdout",
     "output_type": "stream",
     "text": [
      "[VALIDATION 782] val_acc: 0.9911045792079208 val_acc_reg: 0.9891707920792079 val_acc_line: 0.9930383663366337 \n"
     ]
    },
    {
     "name": "stderr",
     "output_type": "stream",
     "text": [
      "[TRAIN 783, 319] loss: 1.0578117370605469 loss_reg: 1.3719509840011597 loss_line: 0.7436723709106445 acc: 1.0 acc_reg: 1.0 acc_line: 1.0: 100%|██████████| 319/319 [00:14<00:00, 21.96it/s]                                             \n",
      "[TRAIN 784, 1] loss: 0.17630159854888916 loss_reg: 0.2286584973335266 loss_line: 0.12394469976425171 acc: 0.1666666716337204 acc_reg: 0.1666666716337204 acc_line: 0.1666666716337204:   1%|          | 2/319 [00:00<00:16, 19.49it/s]"
     ]
    },
    {
     "name": "stdout",
     "output_type": "stream",
     "text": [
      "[VALIDATION 783] val_acc: 0.9911045792079208 val_acc_reg: 0.9873143564356436 val_acc_line: 0.994894801980198 \n"
     ]
    },
    {
     "name": "stderr",
     "output_type": "stream",
     "text": [
      "[TRAIN 784, 319] loss: 1.0591120719909668 loss_reg: 1.3719518184661865 loss_line: 0.7462723255157471 acc: 0.9986979365348816 acc_reg: 1.0 acc_line: 0.9973958730697632: 100%|██████████| 319/319 [00:14<00:00, 21.88it/s]               \n",
      "[TRAIN 785, 1] loss: 0.17630207538604736 loss_reg: 0.22865945100784302 loss_line: 0.12394469976425171 acc: 0.1666666716337204 acc_reg: 0.1666666716337204 acc_line: 0.1666666716337204:   1%|          | 3/319 [00:00<00:15, 20.79it/s]"
     ]
    },
    {
     "name": "stdout",
     "output_type": "stream",
     "text": [
      "[VALIDATION 784] val_acc: 0.989480198019802 val_acc_reg: 0.9870049504950495 val_acc_line: 0.9919554455445545 \n"
     ]
    },
    {
     "name": "stderr",
     "output_type": "stream",
     "text": [
      "[TRAIN 785, 319] loss: 1.0591118335723877 loss_reg: 1.3719509840011597 loss_line: 0.7462723255157471 acc: 0.9986979365348816 acc_reg: 1.0 acc_line: 0.9973958730697632: 100%|██████████| 319/319 [00:14<00:00, 21.93it/s]               \n",
      "[TRAIN 786, 1] loss: 0.17630159854888916 loss_reg: 0.2286584973335266 loss_line: 0.12394469976425171 acc: 0.1666666716337204 acc_reg: 0.1666666716337204 acc_line: 0.1666666716337204:   1%|          | 3/319 [00:00<00:14, 21.65it/s]"
     ]
    },
    {
     "name": "stdout",
     "output_type": "stream",
     "text": [
      "[VALIDATION 785] val_acc: 0.9913366336633663 val_acc_reg: 0.9890160891089109 val_acc_line: 0.9936571782178217 \n"
     ]
    },
    {
     "name": "stderr",
     "output_type": "stream",
     "text": [
      "[TRAIN 786, 319] loss: 1.0578097105026245 loss_reg: 1.3719509840011597 loss_line: 0.7436681985855103 acc: 1.0 acc_reg: 1.0 acc_line: 1.0: 100%|██████████| 319/319 [00:14<00:00, 21.84it/s]                                             \n",
      "[TRAIN 787, 1] loss: 0.17630159854888916 loss_reg: 0.2286584973335266 loss_line: 0.12394469976425171 acc: 0.1666666716337204 acc_reg: 0.1666666716337204 acc_line: 0.1666666716337204:   1%|          | 2/319 [00:00<00:16, 18.94it/s]"
     ]
    },
    {
     "name": "stdout",
     "output_type": "stream",
     "text": [
      "[VALIDATION 786] val_acc: 0.9923422029702971 val_acc_reg: 0.9902537128712872 val_acc_line: 0.994430693069307 \n"
     ]
    },
    {
     "name": "stderr",
     "output_type": "stream",
     "text": [
      "[TRAIN 787, 319] loss: 1.0591118335723877 loss_reg: 1.3745551109313965 loss_line: 0.7436681985855103 acc: 0.9986979365348816 acc_reg: 0.9973958730697632 acc_line: 1.0: 100%|██████████| 319/319 [00:14<00:00, 21.84it/s]               \n",
      "[TRAIN 788, 1] loss: 0.17630159854888916 loss_reg: 0.2286584973335266 loss_line: 0.12394469976425171 acc: 0.1666666716337204 acc_reg: 0.1666666716337204 acc_line: 0.1666666716337204:   1%|          | 2/319 [00:00<00:16, 19.51it/s]"
     ]
    },
    {
     "name": "stdout",
     "output_type": "stream",
     "text": [
      "[VALIDATION 787] val_acc: 0.9911045792079208 val_acc_reg: 0.9873143564356436 val_acc_line: 0.994894801980198 \n"
     ]
    },
    {
     "name": "stderr",
     "output_type": "stream",
     "text": [
      "[TRAIN 788, 319] loss: 1.0591157674789429 loss_reg: 1.3719584941864014 loss_line: 0.7462729811668396 acc: 0.9986979365348816 acc_reg: 1.0 acc_line: 0.9973958730697632: 100%|██████████| 319/319 [00:14<00:00, 21.90it/s]               \n",
      "[TRAIN 789, 1] loss: 0.17630159854888916 loss_reg: 0.2286584973335266 loss_line: 0.12394469976425171 acc: 0.1666666716337204 acc_reg: 0.1666666716337204 acc_line: 0.1666666716337204:   1%|          | 3/319 [00:00<00:14, 21.96it/s]"
     ]
    },
    {
     "name": "stdout",
     "output_type": "stream",
     "text": [
      "[VALIDATION 788] val_acc: 0.9918007425742574 val_acc_reg: 0.989634900990099 val_acc_line: 0.9939665841584159 \n"
     ]
    },
    {
     "name": "stderr",
     "output_type": "stream",
     "text": [
      "[TRAIN 789, 319] loss: 1.0578100681304932 loss_reg: 1.3719509840011597 loss_line: 0.743668794631958 acc: 1.0 acc_reg: 1.0 acc_line: 1.0: 100%|██████████| 319/319 [00:14<00:00, 21.86it/s]                                              \n",
      "[TRAIN 790, 1] loss: 0.17630520462989807 loss_reg: 0.2286611795425415 loss_line: 0.12394921481609344 acc: 0.1666666716337204 acc_reg: 0.1666666716337204 acc_line: 0.1666666716337204:   1%|          | 2/319 [00:00<00:15, 19.88it/s]"
     ]
    },
    {
     "name": "stdout",
     "output_type": "stream",
     "text": [
      "[VALIDATION 789] val_acc: 0.9908725247524752 val_acc_reg: 0.9882425742574258 val_acc_line: 0.9935024752475248 \n"
     ]
    },
    {
     "name": "stderr",
     "output_type": "stream",
     "text": [
      "[TRAIN 790, 319] loss: 1.0591118335723877 loss_reg: 1.3719509840011597 loss_line: 0.7462723255157471 acc: 0.9986979365348816 acc_reg: 1.0 acc_line: 0.9973958730697632: 100%|██████████| 319/319 [00:14<00:00, 21.81it/s]               \n",
      "[TRAIN 791, 1] loss: 0.17630159854888916 loss_reg: 0.2286584973335266 loss_line: 0.12394469976425171 acc: 0.1666666716337204 acc_reg: 0.1666666716337204 acc_line: 0.1666666716337204:   1%|          | 3/319 [00:00<00:14, 21.47it/s]"
     ]
    },
    {
     "name": "stdout",
     "output_type": "stream",
     "text": [
      "[VALIDATION 790] val_acc: 0.9885519801980198 val_acc_reg: 0.9853032178217822 val_acc_line: 0.9918007425742574 \n"
     ]
    },
    {
     "name": "stderr",
     "output_type": "stream",
     "text": [
      "[TRAIN 791, 319] loss: 1.0591118335723877 loss_reg: 1.3719509840011597 loss_line: 0.7462723255157471 acc: 0.9986979365348816 acc_reg: 1.0 acc_line: 0.9973958730697632: 100%|██████████| 319/319 [00:14<00:00, 21.86it/s]               \n",
      "[TRAIN 792, 1] loss: 0.17630159854888916 loss_reg: 0.2286584973335266 loss_line: 0.12394469976425171 acc: 0.1666666716337204 acc_reg: 0.1666666716337204 acc_line: 0.1666666716337204:   1%|          | 3/319 [00:00<00:15, 19.78it/s]"
     ]
    },
    {
     "name": "stdout",
     "output_type": "stream",
     "text": [
      "[VALIDATION 791] val_acc: 0.9909498762376238 val_acc_reg: 0.9890160891089109 val_acc_line: 0.9928836633663366 \n"
     ]
    },
    {
     "name": "stderr",
     "output_type": "stream",
     "text": [
      "[TRAIN 792, 319] loss: 1.0591118335723877 loss_reg: 1.3719509840011597 loss_line: 0.7462723255157471 acc: 0.9986979365348816 acc_reg: 1.0 acc_line: 0.9973958730697632: 100%|██████████| 319/319 [00:14<00:00, 21.86it/s]               \n",
      "[TRAIN 793, 1] loss: 0.17630159854888916 loss_reg: 0.2286584973335266 loss_line: 0.12394469976425171 acc: 0.1666666716337204 acc_reg: 0.1666666716337204 acc_line: 0.1666666716337204:   1%|          | 2/319 [00:00<00:15, 19.93it/s]"
     ]
    },
    {
     "name": "stdout",
     "output_type": "stream",
     "text": [
      "[VALIDATION 792] val_acc: 0.9914139851485149 val_acc_reg: 0.9888613861386139 val_acc_line: 0.9939665841584159 \n"
     ]
    },
    {
     "name": "stderr",
     "output_type": "stream",
     "text": [
      "[TRAIN 793, 319] loss: 1.0591119527816772 loss_reg: 1.3719514608383179 loss_line: 0.7462724447250366 acc: 0.9986979365348816 acc_reg: 1.0 acc_line: 0.9973958730697632: 100%|██████████| 319/319 [00:14<00:00, 21.94it/s]               \n",
      "[TRAIN 794, 1] loss: 0.1763022392988205 loss_reg: 0.22865921258926392 loss_line: 0.12394528090953827 acc: 0.1666666716337204 acc_reg: 0.1666666716337204 acc_line: 0.1666666716337204:   1%|          | 2/319 [00:00<00:16, 19.41it/s]"
     ]
    },
    {
     "name": "stdout",
     "output_type": "stream",
     "text": [
      "[VALIDATION 793] val_acc: 0.9900216584158416 val_acc_reg: 0.9876237623762376 val_acc_line: 0.9924195544554455 \n"
     ]
    },
    {
     "name": "stderr",
     "output_type": "stream",
     "text": [
      "[TRAIN 794, 319] loss: 1.0591124296188354 loss_reg: 1.3719509840011597 loss_line: 0.7462736368179321 acc: 0.9986979365348816 acc_reg: 1.0 acc_line: 0.9973958730697632: 100%|██████████| 319/319 [00:14<00:00, 21.88it/s]               \n",
      "[TRAIN 795, 1] loss: 0.17760369181632996 loss_reg: 0.231262668967247 loss_line: 0.12394469976425171 acc: 0.1653645932674408 acc_reg: 0.1640625 acc_line: 0.1666666716337204:   1%|          | 3/319 [00:00<00:14, 22.24it/s]"
     ]
    },
    {
     "name": "stdout",
     "output_type": "stream",
     "text": [
      "[VALIDATION 794] val_acc: 0.9902537128712872 val_acc_reg: 0.9887066831683168 val_acc_line: 0.9918007425742574 \n"
     ]
    },
    {
     "name": "stderr",
     "output_type": "stream",
     "text": [
      "[TRAIN 795, 319] loss: 1.0578097105026245 loss_reg: 1.3719509840011597 loss_line: 0.7436681985855103 acc: 1.0 acc_reg: 1.0 acc_line: 1.0: 100%|██████████| 319/319 [00:14<00:00, 21.91it/s]                                             \n",
      "[TRAIN 796, 1] loss: 0.17630159854888916 loss_reg: 0.2286584973335266 loss_line: 0.12394469976425171 acc: 0.1666666716337204 acc_reg: 0.1666666716337204 acc_line: 0.1666666716337204:   1%|          | 2/319 [00:00<00:19, 16.43it/s]"
     ]
    },
    {
     "name": "stdout",
     "output_type": "stream",
     "text": [
      "[VALIDATION 795] val_acc: 0.9898669554455446 val_acc_reg: 0.9885519801980198 val_acc_line: 0.9911819306930693 \n"
     ]
    },
    {
     "name": "stderr",
     "output_type": "stream",
     "text": [
      "[TRAIN 796, 319] loss: 1.0578097105026245 loss_reg: 1.3719509840011597 loss_line: 0.7436681985855103 acc: 1.0 acc_reg: 1.0 acc_line: 1.0: 100%|██████████| 319/319 [00:14<00:00, 21.91it/s]                                             \n",
      "[TRAIN 797, 1] loss: 0.17630159854888916 loss_reg: 0.2286584973335266 loss_line: 0.12394469976425171 acc: 0.1666666716337204 acc_reg: 0.1666666716337204 acc_line: 0.1666666716337204:   1%|          | 2/319 [00:00<00:15, 19.95it/s]"
     ]
    },
    {
     "name": "stdout",
     "output_type": "stream",
     "text": [
      "[VALIDATION 796] val_acc: 0.9900216584158416 val_acc_reg: 0.9891707920792079 val_acc_line: 0.9908725247524752 \n"
     ]
    },
    {
     "name": "stderr",
     "output_type": "stream",
     "text": [
      "[TRAIN 797, 319] loss: 1.0592312812805176 loss_reg: 1.3745551109313965 loss_line: 0.7439073324203491 acc: 0.9986979365348816 acc_reg: 0.9973958730697632 acc_line: 1.0: 100%|██████████| 319/319 [00:14<00:00, 21.89it/s]              \n",
      "[TRAIN 798, 1] loss: 0.17760369181632996 loss_reg: 0.2286584973335266 loss_line: 0.1265488713979721 acc: 0.1653645932674408 acc_reg: 0.1666666716337204 acc_line: 0.1640625:   1%|          | 2/319 [00:00<00:16, 19.12it/s]"
     ]
    },
    {
     "name": "stdout",
     "output_type": "stream",
     "text": [
      "[VALIDATION 797] val_acc: 0.9911045792079208 val_acc_reg: 0.989325495049505 val_acc_line: 0.9928836633663366 \n"
     ]
    },
    {
     "name": "stderr",
     "output_type": "stream",
     "text": [
      "[TRAIN 798, 319] loss: 1.0591118335723877 loss_reg: 1.3745551109313965 loss_line: 0.7436681985855103 acc: 0.9986979365348816 acc_reg: 0.9973958730697632 acc_line: 1.0: 100%|██████████| 319/319 [00:14<00:00, 21.95it/s]               \n",
      "[TRAIN 799, 1] loss: 0.17630159854888916 loss_reg: 0.2286584973335266 loss_line: 0.12394469976425171 acc: 0.1666666716337204 acc_reg: 0.1666666716337204 acc_line: 0.1666666716337204:   1%|          | 3/319 [00:00<00:14, 21.95it/s]"
     ]
    },
    {
     "name": "stdout",
     "output_type": "stream",
     "text": [
      "[VALIDATION 798] val_acc: 0.9913366336633663 val_acc_reg: 0.9888613861386139 val_acc_line: 0.9938118811881188 \n"
     ]
    },
    {
     "name": "stderr",
     "output_type": "stream",
     "text": [
      "[TRAIN 799, 319] loss: 1.0578097105026245 loss_reg: 1.3719509840011597 loss_line: 0.7436681985855103 acc: 1.0 acc_reg: 1.0 acc_line: 1.0: 100%|██████████| 319/319 [00:14<00:00, 21.89it/s]                                             \n",
      "[TRAIN 800, 1] loss: 0.17630159854888916 loss_reg: 0.2286584973335266 loss_line: 0.12394469976425171 acc: 0.1666666716337204 acc_reg: 0.1666666716337204 acc_line: 0.1666666716337204:   1%|          | 3/319 [00:00<00:14, 21.47it/s]"
     ]
    },
    {
     "name": "stdout",
     "output_type": "stream",
     "text": [
      "[VALIDATION 799] val_acc: 0.992496905940594 val_acc_reg: 0.989944306930693 val_acc_line: 0.995049504950495 \n"
     ]
    },
    {
     "name": "stderr",
     "output_type": "stream",
     "text": [
      "[TRAIN 800, 319] loss: 1.0578100681304932 loss_reg: 1.3719511032104492 loss_line: 0.7436690330505371 acc: 1.0 acc_reg: 1.0 acc_line: 1.0: 100%|██████████| 319/319 [00:14<00:00, 21.86it/s]                                             \n",
      "[TRAIN 801, 1] loss: 0.17630159854888916 loss_reg: 0.2286584973335266 loss_line: 0.12394469976425171 acc: 0.1666666716337204 acc_reg: 0.1666666716337204 acc_line: 0.1666666716337204:   1%|          | 3/319 [00:00<00:15, 20.11it/s]"
     ]
    },
    {
     "name": "stdout",
     "output_type": "stream",
     "text": [
      "[VALIDATION 800] val_acc: 0.9904084158415841 val_acc_reg: 0.9880878712871287 val_acc_line: 0.9927289603960396 \n"
     ]
    },
    {
     "name": "stderr",
     "output_type": "stream",
     "text": [
      "[TRAIN 801, 319] loss: 1.0591118335723877 loss_reg: 1.3719509840011597 loss_line: 0.7462723255157471 acc: 0.9986979365348816 acc_reg: 1.0 acc_line: 0.9973958730697632: 100%|██████████| 319/319 [00:14<00:00, 21.94it/s]               \n",
      "[TRAIN 802, 1] loss: 0.17630159854888916 loss_reg: 0.2286584973335266 loss_line: 0.12394469976425171 acc: 0.1666666716337204 acc_reg: 0.1666666716337204 acc_line: 0.1666666716337204:   1%|          | 3/319 [00:00<00:14, 21.73it/s]"
     ]
    },
    {
     "name": "stdout",
     "output_type": "stream",
     "text": [
      "[VALIDATION 801] val_acc: 0.9908725247524752 val_acc_reg: 0.9890160891089109 val_acc_line: 0.9927289603960396 \n"
     ]
    },
    {
     "name": "stderr",
     "output_type": "stream",
     "text": [
      "[TRAIN 802, 319] loss: 1.0591118335723877 loss_reg: 1.3719509840011597 loss_line: 0.7462724447250366 acc: 0.9986979365348816 acc_reg: 1.0 acc_line: 0.9973958730697632: 100%|██████████| 319/319 [00:14<00:00, 21.97it/s]               \n",
      "[TRAIN 803, 1] loss: 0.17630159854888916 loss_reg: 0.2286584973335266 loss_line: 0.12394469976425171 acc: 0.1666666716337204 acc_reg: 0.1666666716337204 acc_line: 0.1666666716337204:   1%|          | 2/319 [00:00<00:17, 18.41it/s]"
     ]
    },
    {
     "name": "stdout",
     "output_type": "stream",
     "text": [
      "[VALIDATION 802] val_acc: 0.9909498762376238 val_acc_reg: 0.9891707920792079 val_acc_line: 0.9927289603960396 \n"
     ]
    },
    {
     "name": "stderr",
     "output_type": "stream",
     "text": [
      "[TRAIN 803, 319] loss: 1.0578097105026245 loss_reg: 1.3719509840011597 loss_line: 0.7436681985855103 acc: 1.0 acc_reg: 1.0 acc_line: 1.0: 100%|██████████| 319/319 [00:14<00:00, 21.92it/s]                                             \n",
      "[TRAIN 804, 1] loss: 0.17630159854888916 loss_reg: 0.2286584973335266 loss_line: 0.12394469976425171 acc: 0.1666666716337204 acc_reg: 0.1666666716337204 acc_line: 0.1666666716337204:   1%|          | 2/319 [00:00<00:18, 16.91it/s]"
     ]
    },
    {
     "name": "stdout",
     "output_type": "stream",
     "text": [
      "[VALIDATION 803] val_acc: 0.9926516089108911 val_acc_reg: 0.9902537128712872 val_acc_line: 0.995049504950495 \n"
     ]
    },
    {
     "name": "stderr",
     "output_type": "stream",
     "text": [
      "[TRAIN 804, 319] loss: 1.0591118335723877 loss_reg: 1.3745551109313965 loss_line: 0.7436681985855103 acc: 0.9986979365348816 acc_reg: 0.9973958730697632 acc_line: 1.0: 100%|██████████| 319/319 [00:14<00:00, 21.94it/s]               \n",
      "[TRAIN 805, 1] loss: 0.17630159854888916 loss_reg: 0.2286584973335266 loss_line: 0.12394469976425171 acc: 0.1666666716337204 acc_reg: 0.1666666716337204 acc_line: 0.1666666716337204:   1%|          | 3/319 [00:00<00:14, 22.16it/s]"
     ]
    },
    {
     "name": "stdout",
     "output_type": "stream",
     "text": [
      "[VALIDATION 804] val_acc: 0.991878094059406 val_acc_reg: 0.9897896039603961 val_acc_line: 0.9939665841584159 \n"
     ]
    },
    {
     "name": "stderr",
     "output_type": "stream",
     "text": [
      "[TRAIN 805, 319] loss: 1.0578097105026245 loss_reg: 1.3719509840011597 loss_line: 0.7436681985855103 acc: 1.0 acc_reg: 1.0 acc_line: 1.0: 100%|██████████| 319/319 [00:14<00:00, 21.96it/s]                                           \n",
      "[TRAIN 806, 1] loss: 0.17630159854888916 loss_reg: 0.2286584973335266 loss_line: 0.12394469976425171 acc: 0.1666666716337204 acc_reg: 0.1666666716337204 acc_line: 0.1666666716337204:   1%|          | 3/319 [00:00<00:14, 21.41it/s]"
     ]
    },
    {
     "name": "stdout",
     "output_type": "stream",
     "text": [
      "[VALIDATION 805] val_acc: 0.9920327970297029 val_acc_reg: 0.9908725247524752 val_acc_line: 0.9931930693069307 \n"
     ]
    },
    {
     "name": "stderr",
     "output_type": "stream",
     "text": [
      "[TRAIN 806, 319] loss: 1.0604138374328613 loss_reg: 1.3771593570709229 loss_line: 0.7436681985855103 acc: 0.9973958730697632 acc_reg: 0.9947916865348816 acc_line: 1.0: 100%|██████████| 319/319 [00:14<00:00, 22.03it/s]               \n",
      "[TRAIN 807, 1] loss: 0.17630159854888916 loss_reg: 0.2286584973335266 loss_line: 0.12394469976425171 acc: 0.1666666716337204 acc_reg: 0.1666666716337204 acc_line: 0.1666666716337204:   1%|          | 3/319 [00:00<00:14, 21.58it/s]"
     ]
    },
    {
     "name": "stdout",
     "output_type": "stream",
     "text": [
      "[VALIDATION 806] val_acc: 0.9906404702970297 val_acc_reg: 0.9887066831683168 val_acc_line: 0.9925742574257426 \n"
     ]
    },
    {
     "name": "stderr",
     "output_type": "stream",
     "text": [
      "[TRAIN 807, 319] loss: 1.0578097105026245 loss_reg: 1.3719509840011597 loss_line: 0.7436681985855103 acc: 1.0 acc_reg: 1.0 acc_line: 1.0: 100%|██████████| 319/319 [00:14<00:00, 21.95it/s]                                             \n",
      "[TRAIN 808, 1] loss: 0.17630159854888916 loss_reg: 0.2286584973335266 loss_line: 0.1239447146654129 acc: 0.1666666716337204 acc_reg: 0.1666666716337204 acc_line: 0.1666666716337204:   1%|          | 2/319 [00:00<00:15, 19.94it/s]"
     ]
    },
    {
     "name": "stdout",
     "output_type": "stream",
     "text": [
      "[VALIDATION 807] val_acc: 0.9925742574257426 val_acc_reg: 0.9908725247524752 val_acc_line: 0.9942759900990099 \n"
     ]
    },
    {
     "name": "stderr",
     "output_type": "stream",
     "text": [
      "[TRAIN 808, 319] loss: 1.0591144561767578 loss_reg: 1.3719509840011597 loss_line: 0.7462778091430664 acc: 0.9986979365348816 acc_reg: 1.0 acc_line: 0.9973958730697632: 100%|██████████| 319/319 [00:14<00:00, 22.00it/s]              \n",
      "[TRAIN 809, 1] loss: 0.17630159854888916 loss_reg: 0.2286584973335266 loss_line: 0.12394469976425171 acc: 0.1666666716337204 acc_reg: 0.1666666716337204 acc_line: 0.1666666716337204:   1%|          | 3/319 [00:00<00:14, 21.86it/s]"
     ]
    },
    {
     "name": "stdout",
     "output_type": "stream",
     "text": [
      "[VALIDATION 808] val_acc: 0.9915686881188119 val_acc_reg: 0.989480198019802 val_acc_line: 0.9936571782178217 \n"
     ]
    },
    {
     "name": "stderr",
     "output_type": "stream",
     "text": [
      "[TRAIN 809, 319] loss: 1.057813048362732 loss_reg: 1.371957778930664 loss_line: 0.7436681985855103 acc: 1.0 acc_reg: 1.0 acc_line: 1.0: 100%|██████████| 319/319 [00:14<00:00, 21.98it/s]                                               \n",
      "[TRAIN 810, 1] loss: 0.17630159854888916 loss_reg: 0.2286584973335266 loss_line: 0.12394469976425171 acc: 0.1666666716337204 acc_reg: 0.1666666716337204 acc_line: 0.1666666716337204:   1%|          | 2/319 [00:00<00:15, 19.83it/s]"
     ]
    },
    {
     "name": "stdout",
     "output_type": "stream",
     "text": [
      "[VALIDATION 809] val_acc: 0.9911045792079208 val_acc_reg: 0.9877784653465347 val_acc_line: 0.994430693069307 \n"
     ]
    },
    {
     "name": "stderr",
     "output_type": "stream",
     "text": [
      "[TRAIN 810, 319] loss: 1.0591118335723877 loss_reg: 1.3719509840011597 loss_line: 0.7462723255157471 acc: 0.9986979365348816 acc_reg: 1.0 acc_line: 0.9973958730697632: 100%|██████████| 319/319 [00:14<00:00, 21.99it/s]               \n",
      "[TRAIN 811, 1] loss: 0.17630159854888916 loss_reg: 0.2286584973335266 loss_line: 0.12394469976425171 acc: 0.1666666716337204 acc_reg: 0.1666666716337204 acc_line: 0.1666666716337204:   1%|          | 3/319 [00:00<00:15, 20.27it/s]"
     ]
    },
    {
     "name": "stdout",
     "output_type": "stream",
     "text": [
      "[VALIDATION 810] val_acc: 0.9908725247524752 val_acc_reg: 0.9882425742574258 val_acc_line: 0.9935024752475248 \n"
     ]
    },
    {
     "name": "stderr",
     "output_type": "stream",
     "text": [
      "[TRAIN 811, 319] loss: 1.0591118335723877 loss_reg: 1.3719509840011597 loss_line: 0.7462723255157471 acc: 0.9986979365348816 acc_reg: 1.0 acc_line: 0.9973958730697632: 100%|██████████| 319/319 [00:14<00:00, 22.03it/s]               \n",
      "[TRAIN 812, 1] loss: 0.17630159854888916 loss_reg: 0.2286584973335266 loss_line: 0.12394469976425171 acc: 0.1666666716337204 acc_reg: 0.1666666716337204 acc_line: 0.1666666716337204:   1%|          | 3/319 [00:00<00:14, 21.61it/s]"
     ]
    },
    {
     "name": "stdout",
     "output_type": "stream",
     "text": [
      "[VALIDATION 811] val_acc: 0.9902537128712872 val_acc_reg: 0.9870049504950495 val_acc_line: 0.9935024752475248 \n"
     ]
    },
    {
     "name": "stderr",
     "output_type": "stream",
     "text": [
      "[TRAIN 812, 319] loss: 1.0591119527816772 loss_reg: 1.3745554685592651 loss_line: 0.7436681985855103 acc: 0.9986979365348816 acc_reg: 0.9973958730697632 acc_line: 1.0: 100%|██████████| 319/319 [00:14<00:00, 21.98it/s]               \n",
      "[TRAIN 813, 1] loss: 0.17630159854888916 loss_reg: 0.2286584973335266 loss_line: 0.12394469976425171 acc: 0.1666666716337204 acc_reg: 0.1666666716337204 acc_line: 0.1666666716337204:   1%|          | 3/319 [00:00<00:14, 21.34it/s]"
     ]
    },
    {
     "name": "stdout",
     "output_type": "stream",
     "text": [
      "[VALIDATION 812] val_acc: 0.9915686881188119 val_acc_reg: 0.9897896039603961 val_acc_line: 0.9933477722772277 \n"
     ]
    },
    {
     "name": "stderr",
     "output_type": "stream",
     "text": [
      "[TRAIN 813, 319] loss: 1.0578097105026245 loss_reg: 1.3719509840011597 loss_line: 0.7436681985855103 acc: 1.0 acc_reg: 1.0 acc_line: 1.0: 100%|██████████| 319/319 [00:14<00:00, 21.82it/s]                                           \n",
      "[TRAIN 814, 1] loss: 0.17630159854888916 loss_reg: 0.2286584973335266 loss_line: 0.12394469976425171 acc: 0.1666666716337204 acc_reg: 0.1666666716337204 acc_line: 0.1666666716337204:   1%|          | 3/319 [00:00<00:16, 19.61it/s]"
     ]
    },
    {
     "name": "stdout",
     "output_type": "stream",
     "text": [
      "[VALIDATION 813] val_acc: 0.9904857673267327 val_acc_reg: 0.9888613861386139 val_acc_line: 0.9921101485148515 \n"
     ]
    },
    {
     "name": "stderr",
     "output_type": "stream",
     "text": [
      "[TRAIN 814, 319] loss: 1.0589274168014526 loss_reg: 1.3720581531524658 loss_line: 0.7457964420318604 acc: 0.9986979365348816 acc_reg: 1.0 acc_line: 0.9973958730697632: 100%|██████████| 319/319 [00:14<00:00, 21.95it/s]               \n",
      "[TRAIN 815, 1] loss: 0.17630159854888916 loss_reg: 0.2286584973335266 loss_line: 0.12394469976425171 acc: 0.1666666716337204 acc_reg: 0.1666666716337204 acc_line: 0.1666666716337204:   1%|          | 2/319 [00:00<00:17, 17.81it/s]"
     ]
    },
    {
     "name": "stdout",
     "output_type": "stream",
     "text": [
      "[VALIDATION 814] val_acc: 0.9907951732673267 val_acc_reg: 0.9888613861386139 val_acc_line: 0.9927289603960396 \n"
     ]
    },
    {
     "name": "stderr",
     "output_type": "stream",
     "text": [
      "[TRAIN 815, 319] loss: 1.0591118335723877 loss_reg: 1.3745551109313965 loss_line: 0.7436681985855103 acc: 0.9986979365348816 acc_reg: 0.9973958730697632 acc_line: 1.0: 100%|██████████| 319/319 [00:14<00:00, 21.95it/s]               \n",
      "[TRAIN 816, 1] loss: 0.17630159854888916 loss_reg: 0.2286584973335266 loss_line: 0.12394469976425171 acc: 0.1666666716337204 acc_reg: 0.1666666716337204 acc_line: 0.1666666716337204:   1%|          | 3/319 [00:00<00:13, 23.17it/s]"
     ]
    },
    {
     "name": "stdout",
     "output_type": "stream",
     "text": [
      "[VALIDATION 815] val_acc: 0.9901763613861386 val_acc_reg: 0.9873143564356436 val_acc_line: 0.9930383663366337 \n"
     ]
    },
    {
     "name": "stderr",
     "output_type": "stream",
     "text": [
      "[TRAIN 816, 319] loss: 1.0578097105026245 loss_reg: 1.3719509840011597 loss_line: 0.7436681985855103 acc: 1.0 acc_reg: 1.0 acc_line: 1.0: 100%|██████████| 319/319 [00:14<00:00, 22.02it/s]                                             \n",
      "[TRAIN 817, 1] loss: 0.17630168795585632 loss_reg: 0.2286584973335266 loss_line: 0.12394484132528305 acc: 0.1666666716337204 acc_reg: 0.1666666716337204 acc_line: 0.1666666716337204:   1%|          | 3/319 [00:00<00:14, 21.38it/s]"
     ]
    },
    {
     "name": "stdout",
     "output_type": "stream",
     "text": [
      "[VALIDATION 816] val_acc: 0.9920327970297029 val_acc_reg: 0.9910272277227723 val_acc_line: 0.9930383663366337 \n"
     ]
    },
    {
     "name": "stderr",
     "output_type": "stream",
     "text": [
      "[TRAIN 817, 319] loss: 1.0578097105026245 loss_reg: 1.3719509840011597 loss_line: 0.7436681985855103 acc: 1.0 acc_reg: 1.0 acc_line: 1.0: 100%|██████████| 319/319 [00:14<00:00, 21.92it/s]                                           \n",
      "[TRAIN 818, 1] loss: 0.17630159854888916 loss_reg: 0.2286584973335266 loss_line: 0.12394469976425171 acc: 0.1666666716337204 acc_reg: 0.1666666716337204 acc_line: 0.1666666716337204:   1%|          | 2/319 [00:00<00:16, 18.77it/s]"
     ]
    },
    {
     "name": "stdout",
     "output_type": "stream",
     "text": [
      "[VALIDATION 817] val_acc: 0.9904084158415841 val_acc_reg: 0.9885519801980198 val_acc_line: 0.9922648514851485 \n"
     ]
    },
    {
     "name": "stderr",
     "output_type": "stream",
     "text": [
      "[TRAIN 818, 319] loss: 1.0578097105026245 loss_reg: 1.3719509840011597 loss_line: 0.7436681985855103 acc: 1.0 acc_reg: 1.0 acc_line: 1.0: 100%|██████████| 319/319 [00:14<00:00, 21.85it/s]                                             \n",
      "[TRAIN 819, 1] loss: 0.17630159854888916 loss_reg: 0.2286584973335266 loss_line: 0.12394469976425171 acc: 0.1666666716337204 acc_reg: 0.1666666716337204 acc_line: 0.1666666716337204:   1%|          | 2/319 [00:00<00:16, 19.48it/s]"
     ]
    },
    {
     "name": "stdout",
     "output_type": "stream",
     "text": [
      "[VALIDATION 818] val_acc: 0.9916460396039604 val_acc_reg: 0.9904084158415841 val_acc_line: 0.9928836633663366 \n"
     ]
    },
    {
     "name": "stderr",
     "output_type": "stream",
     "text": [
      "[TRAIN 819, 319] loss: 1.0578097105026245 loss_reg: 1.3719509840011597 loss_line: 0.743668258190155 acc: 1.0 acc_reg: 1.0 acc_line: 1.0: 100%|██████████| 319/319 [00:14<00:00, 21.83it/s]                                              \n",
      "[TRAIN 820, 1] loss: 0.17630159854888916 loss_reg: 0.2286584973335266 loss_line: 0.12394469976425171 acc: 0.1666666716337204 acc_reg: 0.1666666716337204 acc_line: 0.1666666716337204:   1%|          | 2/319 [00:00<00:16, 19.30it/s]"
     ]
    },
    {
     "name": "stdout",
     "output_type": "stream",
     "text": [
      "[VALIDATION 819] val_acc: 0.9909498762376238 val_acc_reg: 0.9887066831683168 val_acc_line: 0.9931930693069307 \n"
     ]
    },
    {
     "name": "stderr",
     "output_type": "stream",
     "text": [
      "[TRAIN 820, 319] loss: 1.0591143369674683 loss_reg: 1.3745551109313965 loss_line: 0.7436735033988953 acc: 0.9986979365348816 acc_reg: 0.9973958730697632 acc_line: 1.0: 100%|██████████| 319/319 [00:14<00:00, 21.83it/s]               \n",
      "[TRAIN 821, 1] loss: 0.17630159854888916 loss_reg: 0.2286584973335266 loss_line: 0.12394469976425171 acc: 0.1666666716337204 acc_reg: 0.1666666716337204 acc_line: 0.1666666716337204:   1%|          | 3/319 [00:00<00:14, 21.40it/s]"
     ]
    },
    {
     "name": "stdout",
     "output_type": "stream",
     "text": [
      "[VALIDATION 820] val_acc: 0.9918007425742574 val_acc_reg: 0.9904084158415841 val_acc_line: 0.9931930693069307 \n"
     ]
    },
    {
     "name": "stderr",
     "output_type": "stream",
     "text": [
      "[TRAIN 821, 319] loss: 1.0591391324996948 loss_reg: 1.372005820274353 loss_line: 0.7462724447250366 acc: 0.9986979365348816 acc_reg: 1.0 acc_line: 0.9973958730697632: 100%|██████████| 319/319 [00:14<00:00, 21.89it/s]                \n",
      "[TRAIN 822, 1] loss: 0.17760369181632996 loss_reg: 0.2286584973335266 loss_line: 0.1265488713979721 acc: 0.1653645932674408 acc_reg: 0.1666666716337204 acc_line: 0.1640625:   1%|          | 2/319 [00:00<00:15, 19.91it/s]"
     ]
    },
    {
     "name": "stdout",
     "output_type": "stream",
     "text": [
      "[VALIDATION 821] val_acc: 0.9900990099009901 val_acc_reg: 0.9882425742574258 val_acc_line: 0.9919554455445545 \n"
     ]
    },
    {
     "name": "stderr",
     "output_type": "stream",
     "text": [
      "[TRAIN 822, 319] loss: 1.0578097105026245 loss_reg: 1.3719509840011597 loss_line: 0.7436681985855103 acc: 1.0 acc_reg: 1.0 acc_line: 1.0: 100%|██████████| 319/319 [00:14<00:00, 21.88it/s]                                             \n",
      "[TRAIN 823, 1] loss: 0.17630159854888916 loss_reg: 0.2286584973335266 loss_line: 0.12394469976425171 acc: 0.1666666716337204 acc_reg: 0.1666666716337204 acc_line: 0.1666666716337204:   1%|          | 3/319 [00:00<00:14, 21.92it/s]"
     ]
    },
    {
     "name": "stdout",
     "output_type": "stream",
     "text": [
      "[VALIDATION 822] val_acc: 0.9898669554455446 val_acc_reg: 0.9890160891089109 val_acc_line: 0.9907178217821783 \n"
     ]
    },
    {
     "name": "stderr",
     "output_type": "stream",
     "text": [
      "[TRAIN 823, 319] loss: 1.0608298778533936 loss_reg: 1.37538743019104 loss_line: 0.7462725043296814 acc: 0.9973958730697632 acc_reg: 0.9973958730697632 acc_line: 0.9973958730697632: 100%|██████████| 319/319 [00:14<00:00, 21.83it/s]  \n",
      "[TRAIN 824, 1] loss: 0.17630159854888916 loss_reg: 0.2286584973335266 loss_line: 0.12394469976425171 acc: 0.1666666716337204 acc_reg: 0.1666666716337204 acc_line: 0.1666666716337204:   1%|          | 3/319 [00:00<00:14, 21.23it/s]"
     ]
    },
    {
     "name": "stdout",
     "output_type": "stream",
     "text": [
      "[VALIDATION 823] val_acc: 0.9906404702970297 val_acc_reg: 0.9900990099009901 val_acc_line: 0.9911819306930693 \n"
     ]
    },
    {
     "name": "stderr",
     "output_type": "stream",
     "text": [
      "[TRAIN 824, 319] loss: 1.0591118335723877 loss_reg: 1.3745553493499756 loss_line: 0.7436681985855103 acc: 0.9986979365348816 acc_reg: 0.9973958730697632 acc_line: 1.0: 100%|██████████| 319/319 [00:14<00:00, 21.81it/s]               \n",
      "[TRAIN 825, 1] loss: 0.17633286118507385 loss_reg: 0.2286584973335266 loss_line: 0.1240072101354599 acc: 0.1666666716337204 acc_reg: 0.1666666716337204 acc_line: 0.1666666716337204:   1%|          | 2/319 [00:00<00:16, 19.43it/s]"
     ]
    },
    {
     "name": "stdout",
     "output_type": "stream",
     "text": [
      "[VALIDATION 824] val_acc: 0.9915686881188119 val_acc_reg: 0.989325495049505 val_acc_line: 0.9938118811881188 \n"
     ]
    },
    {
     "name": "stderr",
     "output_type": "stream",
     "text": [
      "[TRAIN 825, 319] loss: 1.0604138374328613 loss_reg: 1.3745553493499756 loss_line: 0.7462723255157471 acc: 0.9973958730697632 acc_reg: 0.9973958730697632 acc_line: 0.9973958730697632: 100%|██████████| 319/319 [00:14<00:00, 21.83it/s]\n",
      "[TRAIN 826, 1] loss: 0.1763911247253418 loss_reg: 0.2286584973335266 loss_line: 0.12412373721599579 acc: 0.1666666716337204 acc_reg: 0.1666666716337204 acc_line: 0.1666666716337204:   1%|          | 3/319 [00:00<00:15, 20.94it/s]"
     ]
    },
    {
     "name": "stdout",
     "output_type": "stream",
     "text": [
      "[VALIDATION 825] val_acc: 0.9909498762376238 val_acc_reg: 0.9882425742574258 val_acc_line: 0.9936571782178217 \n"
     ]
    },
    {
     "name": "stderr",
     "output_type": "stream",
     "text": [
      "[TRAIN 826, 319] loss: 1.0578097105026245 loss_reg: 1.3719509840011597 loss_line: 0.7436681985855103 acc: 1.0 acc_reg: 1.0 acc_line: 1.0: 100%|██████████| 319/319 [00:14<00:00, 21.84it/s]                                             \n",
      "[TRAIN 827, 1] loss: 0.17760369181632996 loss_reg: 0.2286584973335266 loss_line: 0.1265488713979721 acc: 0.1653645932674408 acc_reg: 0.1666666716337204 acc_line: 0.1640625:   1%|          | 3/319 [00:00<00:14, 21.84it/s]"
     ]
    },
    {
     "name": "stdout",
     "output_type": "stream",
     "text": [
      "[VALIDATION 826] val_acc: 0.9907951732673267 val_acc_reg: 0.9888613861386139 val_acc_line: 0.9927289603960396 \n"
     ]
    },
    {
     "name": "stderr",
     "output_type": "stream",
     "text": [
      "[TRAIN 827, 319] loss: 1.0578097105026245 loss_reg: 1.3719509840011597 loss_line: 0.7436681985855103 acc: 1.0 acc_reg: 1.0 acc_line: 1.0: 100%|██████████| 319/319 [00:14<00:00, 21.89it/s]                                             \n",
      "[TRAIN 828, 1] loss: 0.17630159854888916 loss_reg: 0.2286584973335266 loss_line: 0.12394469976425171 acc: 0.1666666716337204 acc_reg: 0.1666666716337204 acc_line: 0.1666666716337204:   1%|          | 3/319 [00:00<00:14, 21.87it/s]"
     ]
    },
    {
     "name": "stdout",
     "output_type": "stream",
     "text": [
      "[VALIDATION 827] val_acc: 0.9905631188118812 val_acc_reg: 0.9887066831683168 val_acc_line: 0.9924195544554455 \n"
     ]
    },
    {
     "name": "stderr",
     "output_type": "stream",
     "text": [
      "[TRAIN 828, 319] loss: 1.0617163181304932 loss_reg: 1.3797640800476074 loss_line: 0.7436684966087341 acc: 0.99609375 acc_reg: 0.9921875 acc_line: 1.0: 100%|██████████| 319/319 [00:14<00:00, 21.99it/s]                              \n",
      "[TRAIN 829, 1] loss: 0.17630159854888916 loss_reg: 0.2286584973335266 loss_line: 0.12394469976425171 acc: 0.1666666716337204 acc_reg: 0.1666666716337204 acc_line: 0.1666666716337204:   1%|          | 2/319 [00:00<00:15, 19.84it/s]"
     ]
    },
    {
     "name": "stdout",
     "output_type": "stream",
     "text": [
      "[VALIDATION 828] val_acc: 0.9909498762376238 val_acc_reg: 0.9885519801980198 val_acc_line: 0.9933477722772277 \n"
     ]
    },
    {
     "name": "stderr",
     "output_type": "stream",
     "text": [
      "[TRAIN 829, 319] loss: 1.0578097105026245 loss_reg: 1.3719511032104492 loss_line: 0.7436681985855103 acc: 1.0 acc_reg: 1.0 acc_line: 1.0: 100%|██████████| 319/319 [00:14<00:00, 21.87it/s]                                             \n",
      "[TRAIN 830, 1] loss: 0.17630159854888916 loss_reg: 0.2286584973335266 loss_line: 0.12394469976425171 acc: 0.1666666716337204 acc_reg: 0.1666666716337204 acc_line: 0.1666666716337204:   1%|          | 3/319 [00:00<00:15, 20.69it/s]"
     ]
    },
    {
     "name": "stdout",
     "output_type": "stream",
     "text": [
      "[VALIDATION 829] val_acc: 0.9891707920792079 val_acc_reg: 0.9865408415841584 val_acc_line: 0.9918007425742574 \n"
     ]
    },
    {
     "name": "stderr",
     "output_type": "stream",
     "text": [
      "[TRAIN 830, 319] loss: 1.0578097105026245 loss_reg: 1.3719511032104492 loss_line: 0.7436681985855103 acc: 1.0 acc_reg: 1.0 acc_line: 1.0: 100%|██████████| 319/319 [00:14<00:00, 21.89it/s]                                             \n",
      "[TRAIN 831, 1] loss: 0.17630159854888916 loss_reg: 0.2286584973335266 loss_line: 0.12394469976425171 acc: 0.1666666716337204 acc_reg: 0.1666666716337204 acc_line: 0.1666666716337204:   1%|          | 3/319 [00:00<00:13, 22.73it/s]"
     ]
    },
    {
     "name": "stdout",
     "output_type": "stream",
     "text": [
      "[VALIDATION 830] val_acc: 0.9905631188118812 val_acc_reg: 0.9880878712871287 val_acc_line: 0.9930383663366337 \n"
     ]
    },
    {
     "name": "stderr",
     "output_type": "stream",
     "text": [
      "[TRAIN 831, 319] loss: 1.0578126907348633 loss_reg: 1.3719570636749268 loss_line: 0.7436681985855103 acc: 1.0 acc_reg: 1.0 acc_line: 1.0: 100%|██████████| 319/319 [00:14<00:00, 21.97it/s]                                             \n",
      "[TRAIN 832, 1] loss: 0.17630159854888916 loss_reg: 0.2286584973335266 loss_line: 0.12394469976425171 acc: 0.1666666716337204 acc_reg: 0.1666666716337204 acc_line: 0.1666666716337204:   1%|          | 2/319 [00:00<00:17, 17.98it/s]"
     ]
    },
    {
     "name": "stdout",
     "output_type": "stream",
     "text": [
      "[VALIDATION 831] val_acc: 0.9916460396039604 val_acc_reg: 0.9891707920792079 val_acc_line: 0.9941212871287128 \n"
     ]
    },
    {
     "name": "stderr",
     "output_type": "stream",
     "text": [
      "[TRAIN 832, 319] loss: 1.057809829711914 loss_reg: 1.3719514608383179 loss_line: 0.7436681985855103 acc: 1.0 acc_reg: 1.0 acc_line: 1.0: 100%|██████████| 319/319 [00:14<00:00, 21.96it/s]                                            \n",
      "[TRAIN 833, 1] loss: 0.17760369181632996 loss_reg: 0.2312626838684082 loss_line: 0.12394469976425171 acc: 0.1653645932674408 acc_reg: 0.1640625 acc_line: 0.1666666716337204:   1%|          | 2/319 [00:00<00:16, 19.07it/s]"
     ]
    },
    {
     "name": "stdout",
     "output_type": "stream",
     "text": [
      "[VALIDATION 832] val_acc: 0.9922648514851485 val_acc_reg: 0.989944306930693 val_acc_line: 0.9945853960396039 \n"
     ]
    },
    {
     "name": "stderr",
     "output_type": "stream",
     "text": [
      "[TRAIN 833, 319] loss: 1.0592856407165527 loss_reg: 1.3749029636383057 loss_line: 0.7436681985855103 acc: 0.9986979365348816 acc_reg: 0.9973958730697632 acc_line: 1.0: 100%|██████████| 319/319 [00:14<00:00, 21.97it/s]               \n",
      "[TRAIN 834, 1] loss: 0.17630159854888916 loss_reg: 0.2286584973335266 loss_line: 0.12394469976425171 acc: 0.1666666716337204 acc_reg: 0.1666666716337204 acc_line: 0.1666666716337204:   1%|          | 3/319 [00:00<00:14, 22.23it/s]"
     ]
    },
    {
     "name": "stdout",
     "output_type": "stream",
     "text": [
      "[VALIDATION 833] val_acc: 0.9907951732673267 val_acc_reg: 0.989325495049505 val_acc_line: 0.9922648514851485 \n"
     ]
    },
    {
     "name": "stderr",
     "output_type": "stream",
     "text": [
      "[TRAIN 834, 319] loss: 1.058039903640747 loss_reg: 1.3724112510681152 loss_line: 0.7436681985855103 acc: 1.0 acc_reg: 1.0 acc_line: 1.0: 100%|██████████| 319/319 [00:14<00:00, 21.94it/s]                                              \n",
      "[TRAIN 835, 1] loss: 0.17630159854888916 loss_reg: 0.2286584973335266 loss_line: 0.12394469976425171 acc: 0.1666666716337204 acc_reg: 0.1666666716337204 acc_line: 0.1666666716337204:   1%|          | 3/319 [00:00<00:15, 21.05it/s]"
     ]
    },
    {
     "name": "stdout",
     "output_type": "stream",
     "text": [
      "[VALIDATION 834] val_acc: 0.9901763613861386 val_acc_reg: 0.9879331683168316 val_acc_line: 0.9924195544554455 \n"
     ]
    },
    {
     "name": "stderr",
     "output_type": "stream",
     "text": [
      "[TRAIN 835, 319] loss: 1.0604138374328613 loss_reg: 1.3745551109313965 loss_line: 0.7462723255157471 acc: 0.9973958730697632 acc_reg: 0.9973958730697632 acc_line: 0.9973958730697632: 100%|██████████| 319/319 [00:14<00:00, 21.96it/s]\n",
      "[TRAIN 836, 1] loss: 0.17760369181632996 loss_reg: 0.2286584973335266 loss_line: 0.1265488713979721 acc: 0.1653645932674408 acc_reg: 0.1666666716337204 acc_line: 0.1640625:   1%|          | 2/319 [00:00<00:16, 19.13it/s]"
     ]
    },
    {
     "name": "stdout",
     "output_type": "stream",
     "text": [
      "[VALIDATION 835] val_acc: 0.9895575495049505 val_acc_reg: 0.9882425742574258 val_acc_line: 0.9908725247524752 \n"
     ]
    },
    {
     "name": "stderr",
     "output_type": "stream",
     "text": [
      "[TRAIN 836, 319] loss: 1.0591118335723877 loss_reg: 1.3745553493499756 loss_line: 0.7436681985855103 acc: 0.9986979365348816 acc_reg: 0.9973958730697632 acc_line: 1.0: 100%|██████████| 319/319 [00:14<00:00, 21.95it/s]               \n",
      "[TRAIN 837, 1] loss: 0.17630159854888916 loss_reg: 0.2286584973335266 loss_line: 0.12394469976425171 acc: 0.1666666716337204 acc_reg: 0.1666666716337204 acc_line: 0.1666666716337204:   1%|          | 2/319 [00:00<00:16, 19.28it/s]"
     ]
    },
    {
     "name": "stdout",
     "output_type": "stream",
     "text": [
      "[VALIDATION 836] val_acc: 0.9897896039603961 val_acc_reg: 0.9883972772277227 val_acc_line: 0.9911819306930693 \n"
     ]
    },
    {
     "name": "stderr",
     "output_type": "stream",
     "text": [
      "[TRAIN 837, 319] loss: 1.0603959560394287 loss_reg: 1.3745551109313965 loss_line: 0.7462365627288818 acc: 0.9973958730697632 acc_reg: 0.9973958730697632 acc_line: 0.9973958730697632: 100%|██████████| 319/319 [00:14<00:00, 21.89it/s]\n",
      "[TRAIN 838, 1] loss: 0.17630159854888916 loss_reg: 0.2286584973335266 loss_line: 0.12394469976425171 acc: 0.1666666716337204 acc_reg: 0.1666666716337204 acc_line: 0.1666666716337204:   1%|          | 2/319 [00:00<00:16, 18.81it/s]"
     ]
    },
    {
     "name": "stdout",
     "output_type": "stream",
     "text": [
      "[VALIDATION 837] val_acc: 0.9912592821782178 val_acc_reg: 0.989325495049505 val_acc_line: 0.9931930693069307 \n"
     ]
    },
    {
     "name": "stderr",
     "output_type": "stream",
     "text": [
      "[TRAIN 838, 319] loss: 1.0578097105026245 loss_reg: 1.3719509840011597 loss_line: 0.7436681985855103 acc: 1.0 acc_reg: 1.0 acc_line: 1.0: 100%|██████████| 319/319 [00:14<00:00, 21.88it/s]                                           \n",
      "[TRAIN 839, 1] loss: 0.17630159854888916 loss_reg: 0.2286584973335266 loss_line: 0.12394469976425171 acc: 0.1666666716337204 acc_reg: 0.1666666716337204 acc_line: 0.1666666716337204:   1%|          | 3/319 [00:00<00:15, 20.76it/s]"
     ]
    },
    {
     "name": "stdout",
     "output_type": "stream",
     "text": [
      "[VALIDATION 838] val_acc: 0.9911045792079208 val_acc_reg: 0.9885519801980198 val_acc_line: 0.9936571782178217 \n"
     ]
    },
    {
     "name": "stderr",
     "output_type": "stream",
     "text": [
      "[TRAIN 839, 319] loss: 1.0578100681304932 loss_reg: 1.3719509840011597 loss_line: 0.7436691522598267 acc: 1.0 acc_reg: 1.0 acc_line: 1.0: 100%|██████████| 319/319 [00:14<00:00, 21.78it/s]                                             \n",
      "[TRAIN 840, 1] loss: 0.17630159854888916 loss_reg: 0.2286584973335266 loss_line: 0.12394469976425171 acc: 0.1666666716337204 acc_reg: 0.1666666716337204 acc_line: 0.1666666716337204:   1%|          | 2/319 [00:00<00:15, 20.00it/s]"
     ]
    },
    {
     "name": "stdout",
     "output_type": "stream",
     "text": [
      "[VALIDATION 839] val_acc: 0.9898669554455446 val_acc_reg: 0.9880878712871287 val_acc_line: 0.9916460396039604 \n"
     ]
    },
    {
     "name": "stderr",
     "output_type": "stream",
     "text": [
      "[TRAIN 840, 319] loss: 1.0578097105026245 loss_reg: 1.3719509840011597 loss_line: 0.7436681985855103 acc: 1.0 acc_reg: 1.0 acc_line: 1.0: 100%|██████████| 319/319 [00:14<00:00, 21.75it/s]                                             \n",
      "[TRAIN 841, 1] loss: 0.17630159854888916 loss_reg: 0.2286584973335266 loss_line: 0.12394469976425171 acc: 0.1666666716337204 acc_reg: 0.1666666716337204 acc_line: 0.1666666716337204:   1%|          | 2/319 [00:00<00:16, 19.32it/s]"
     ]
    },
    {
     "name": "stdout",
     "output_type": "stream",
     "text": [
      "[VALIDATION 840] val_acc: 0.9932704207920792 val_acc_reg: 0.9916460396039604 val_acc_line: 0.994894801980198 \n"
     ]
    },
    {
     "name": "stderr",
     "output_type": "stream",
     "text": [
      "[TRAIN 841, 319] loss: 1.0597084760665894 loss_reg: 1.373144507408142 loss_line: 0.7462723255157471 acc: 0.9986979365348816 acc_reg: 1.0 acc_line: 0.9973958730697632: 100%|██████████| 319/319 [00:14<00:00, 21.87it/s]                \n",
      "[TRAIN 842, 1] loss: 0.17760369181632996 loss_reg: 0.2286584973335266 loss_line: 0.1265488713979721 acc: 0.1653645932674408 acc_reg: 0.1666666716337204 acc_line: 0.1640625:   1%|          | 2/319 [00:00<00:16, 19.51it/s]"
     ]
    },
    {
     "name": "stdout",
     "output_type": "stream",
     "text": [
      "[VALIDATION 841] val_acc: 0.9906404702970297 val_acc_reg: 0.9868502475247525 val_acc_line: 0.994430693069307 \n"
     ]
    },
    {
     "name": "stderr",
     "output_type": "stream",
     "text": [
      "[TRAIN 842, 319] loss: 1.0578097105026245 loss_reg: 1.3719509840011597 loss_line: 0.7436681985855103 acc: 1.0 acc_reg: 1.0 acc_line: 1.0: 100%|██████████| 319/319 [00:14<00:00, 21.77it/s]                                             \n",
      "[TRAIN 843, 1] loss: 0.17733609676361084 loss_reg: 0.23072749376296997 loss_line: 0.12394469976425171 acc: 0.1653645932674408 acc_reg: 0.1640625 acc_line: 0.1666666716337204:   1%|          | 3/319 [00:00<00:14, 21.84it/s]"
     ]
    },
    {
     "name": "stdout",
     "output_type": "stream",
     "text": [
      "[VALIDATION 842] val_acc: 0.9909498762376238 val_acc_reg: 0.9885519801980198 val_acc_line: 0.9933477722772277 \n"
     ]
    },
    {
     "name": "stderr",
     "output_type": "stream",
     "text": [
      "[TRAIN 843, 319] loss: 1.0591118335723877 loss_reg: 1.3745551109313965 loss_line: 0.7436681985855103 acc: 0.9986979365348816 acc_reg: 0.9973958730697632 acc_line: 1.0: 100%|██████████| 319/319 [00:14<00:00, 21.77it/s]               \n",
      "[TRAIN 844, 1] loss: 0.17630159854888916 loss_reg: 0.2286584973335266 loss_line: 0.12394469976425171 acc: 0.1666666716337204 acc_reg: 0.1666666716337204 acc_line: 0.1666666716337204:   1%|          | 3/319 [00:00<00:14, 21.56it/s]"
     ]
    },
    {
     "name": "stdout",
     "output_type": "stream",
     "text": [
      "[VALIDATION 843] val_acc: 0.9924195544554455 val_acc_reg: 0.989634900990099 val_acc_line: 0.9952042079207921 \n"
     ]
    },
    {
     "name": "stderr",
     "output_type": "stream",
     "text": [
      "[TRAIN 844, 319] loss: 1.0591118335723877 loss_reg: 1.3719509840011597 loss_line: 0.7462724447250366 acc: 0.9986979365348816 acc_reg: 1.0 acc_line: 0.9973958730697632: 100%|██████████| 319/319 [00:14<00:00, 21.83it/s]              \n",
      "[TRAIN 845, 1] loss: 0.17630159854888916 loss_reg: 0.2286584973335266 loss_line: 0.12394469976425171 acc: 0.1666666716337204 acc_reg: 0.1666666716337204 acc_line: 0.1666666716337204:   1%|          | 2/319 [00:00<00:18, 17.16it/s]"
     ]
    },
    {
     "name": "stdout",
     "output_type": "stream",
     "text": [
      "[VALIDATION 844] val_acc: 0.9917233910891089 val_acc_reg: 0.9905631188118812 val_acc_line: 0.9928836633663366 \n"
     ]
    },
    {
     "name": "stderr",
     "output_type": "stream",
     "text": [
      "[TRAIN 845, 319] loss: 1.0578097105026245 loss_reg: 1.3719511032104492 loss_line: 0.7436681985855103 acc: 1.0 acc_reg: 1.0 acc_line: 1.0: 100%|██████████| 319/319 [00:14<00:00, 21.80it/s]                                             \n",
      "[TRAIN 846, 1] loss: 0.17630159854888916 loss_reg: 0.2286584973335266 loss_line: 0.12394469976425171 acc: 0.1666666716337204 acc_reg: 0.1666666716337204 acc_line: 0.1666666716337204:   1%|          | 2/319 [00:00<00:16, 19.01it/s]"
     ]
    },
    {
     "name": "stdout",
     "output_type": "stream",
     "text": [
      "[VALIDATION 845] val_acc: 0.9913366336633663 val_acc_reg: 0.9897896039603961 val_acc_line: 0.9928836633663366 \n"
     ]
    },
    {
     "name": "stderr",
     "output_type": "stream",
     "text": [
      "[TRAIN 846, 319] loss: 1.0591118335723877 loss_reg: 1.3719509840011597 loss_line: 0.7462723255157471 acc: 0.9986979365348816 acc_reg: 1.0 acc_line: 0.9973958730697632: 100%|██████████| 319/319 [00:14<00:00, 21.51it/s]               \n",
      "[TRAIN 847, 1] loss: 0.17630159854888916 loss_reg: 0.2286584973335266 loss_line: 0.12394469976425171 acc: 0.1666666716337204 acc_reg: 0.1666666716337204 acc_line: 0.1666666716337204:   1%|          | 2/319 [00:00<00:16, 19.65it/s]"
     ]
    },
    {
     "name": "stdout",
     "output_type": "stream",
     "text": [
      "[VALIDATION 846] val_acc: 0.9910272277227723 val_acc_reg: 0.989480198019802 val_acc_line: 0.9925742574257426 \n"
     ]
    },
    {
     "name": "stderr",
     "output_type": "stream",
     "text": [
      "[TRAIN 847, 319] loss: 1.0591118335723877 loss_reg: 1.3745551109313965 loss_line: 0.7436681985855103 acc: 0.9986979365348816 acc_reg: 0.9973958730697632 acc_line: 1.0: 100%|██████████| 319/319 [00:14<00:00, 21.81it/s]             \n",
      "[TRAIN 848, 1] loss: 0.17630159854888916 loss_reg: 0.2286584973335266 loss_line: 0.12394469976425171 acc: 0.1666666716337204 acc_reg: 0.1666666716337204 acc_line: 0.1666666716337204:   1%|          | 3/319 [00:00<00:15, 20.79it/s]"
     ]
    },
    {
     "name": "stdout",
     "output_type": "stream",
     "text": [
      "[VALIDATION 847] val_acc: 0.9911819306930693 val_acc_reg: 0.9885519801980198 val_acc_line: 0.9938118811881188 \n"
     ]
    },
    {
     "name": "stderr",
     "output_type": "stream",
     "text": [
      "[TRAIN 848, 319] loss: 1.0591118335723877 loss_reg: 1.3719509840011597 loss_line: 0.7462723255157471 acc: 0.9986979365348816 acc_reg: 1.0 acc_line: 0.9973958730697632: 100%|██████████| 319/319 [00:14<00:00, 21.83it/s]               \n",
      "[TRAIN 849, 1] loss: 0.17630159854888916 loss_reg: 0.2286584973335266 loss_line: 0.12394469976425171 acc: 0.1666666716337204 acc_reg: 0.1666666716337204 acc_line: 0.1666666716337204:   1%|          | 3/319 [00:00<00:14, 22.19it/s]"
     ]
    },
    {
     "name": "stdout",
     "output_type": "stream",
     "text": [
      "[VALIDATION 848] val_acc: 0.9921875 val_acc_reg: 0.989634900990099 val_acc_line: 0.994740099009901 \n"
     ]
    },
    {
     "name": "stderr",
     "output_type": "stream",
     "text": [
      "[TRAIN 849, 319] loss: 1.0578097105026245 loss_reg: 1.3719509840011597 loss_line: 0.7436681985855103 acc: 1.0 acc_reg: 1.0 acc_line: 1.0: 100%|██████████| 319/319 [00:14<00:00, 21.83it/s]                                             \n",
      "[TRAIN 850, 1] loss: 0.17630159854888916 loss_reg: 0.2286584973335266 loss_line: 0.12394469976425171 acc: 0.1666666716337204 acc_reg: 0.1666666716337204 acc_line: 0.1666666716337204:   0%|          | 0/319 [00:00<?, ?it/s]"
     ]
    },
    {
     "name": "stdout",
     "output_type": "stream",
     "text": [
      "[VALIDATION 849] val_acc: 0.9920327970297029 val_acc_reg: 0.9900990099009901 val_acc_line: 0.9939665841584159 \n"
     ]
    },
    {
     "name": "stderr",
     "output_type": "stream",
     "text": [
      "[TRAIN 850, 319] loss: 1.0591118335723877 loss_reg: 1.3745551109313965 loss_line: 0.7436681985855103 acc: 0.9986979365348816 acc_reg: 0.9973958730697632 acc_line: 1.0: 100%|██████████| 319/319 [00:14<00:00, 21.80it/s]               \n",
      "[TRAIN 851, 1] loss: 0.17630159854888916 loss_reg: 0.2286584973335266 loss_line: 0.12394469976425171 acc: 0.1666666716337204 acc_reg: 0.1666666716337204 acc_line: 0.1666666716337204:   1%|          | 3/319 [00:00<00:14, 21.55it/s]"
     ]
    },
    {
     "name": "stdout",
     "output_type": "stream",
     "text": [
      "[VALIDATION 850] val_acc: 0.9904084158415841 val_acc_reg: 0.9879331683168316 val_acc_line: 0.9928836633663366 \n"
     ]
    },
    {
     "name": "stderr",
     "output_type": "stream",
     "text": [
      "[TRAIN 851, 319] loss: 1.0591118335723877 loss_reg: 1.3745551109313965 loss_line: 0.7436681985855103 acc: 0.9986979365348816 acc_reg: 0.9973958730697632 acc_line: 1.0: 100%|██████████| 319/319 [00:14<00:00, 21.88it/s]               \n",
      "[TRAIN 852, 1] loss: 0.17630159854888916 loss_reg: 0.2286584973335266 loss_line: 0.12394469976425171 acc: 0.1666666716337204 acc_reg: 0.1666666716337204 acc_line: 0.1666666716337204:   1%|          | 2/319 [00:00<00:16, 19.57it/s]"
     ]
    },
    {
     "name": "stdout",
     "output_type": "stream",
     "text": [
      "[VALIDATION 851] val_acc: 0.9918007425742574 val_acc_reg: 0.989634900990099 val_acc_line: 0.9939665841584159 \n"
     ]
    },
    {
     "name": "stderr",
     "output_type": "stream",
     "text": [
      "[TRAIN 852, 319] loss: 1.057812213897705 loss_reg: 1.3719562292099 loss_line: 0.7436681985855103 acc: 1.0 acc_reg: 1.0 acc_line: 1.0: 100%|██████████| 319/319 [00:14<00:00, 22.02it/s]                                               \n",
      "[TRAIN 853, 1] loss: 0.17630159854888916 loss_reg: 0.2286584973335266 loss_line: 0.12394469976425171 acc: 0.1666666716337204 acc_reg: 0.1666666716337204 acc_line: 0.1666666716337204:   1%|          | 2/319 [00:00<00:16, 19.78it/s]"
     ]
    },
    {
     "name": "stdout",
     "output_type": "stream",
     "text": [
      "[VALIDATION 852] val_acc: 0.9907178217821783 val_acc_reg: 0.9877784653465347 val_acc_line: 0.9936571782178217 \n"
     ]
    },
    {
     "name": "stderr",
     "output_type": "stream",
     "text": [
      "[TRAIN 853, 319] loss: 1.0591118335723877 loss_reg: 1.3745551109313965 loss_line: 0.7436681985855103 acc: 0.9986979365348816 acc_reg: 0.9973958730697632 acc_line: 1.0: 100%|██████████| 319/319 [00:14<00:00, 21.93it/s]               \n",
      "[TRAIN 854, 1] loss: 0.17760369181632996 loss_reg: 0.2286584973335266 loss_line: 0.1265488713979721 acc: 0.1653645932674408 acc_reg: 0.1666666716337204 acc_line: 0.1640625:   1%|          | 2/319 [00:00<00:16, 18.83it/s]"
     ]
    },
    {
     "name": "stdout",
     "output_type": "stream",
     "text": [
      "[VALIDATION 853] val_acc: 0.9914913366336634 val_acc_reg: 0.9888613861386139 val_acc_line: 0.9941212871287128 \n"
     ]
    },
    {
     "name": "stderr",
     "output_type": "stream",
     "text": [
      "[TRAIN 854, 319] loss: 1.0578176975250244 loss_reg: 1.371967077255249 loss_line: 0.7436681985855103 acc: 1.0 acc_reg: 1.0 acc_line: 1.0: 100%|██████████| 319/319 [00:14<00:00, 21.99it/s]                                              \n",
      "[TRAIN 855, 1] loss: 0.17630162835121155 loss_reg: 0.2286584973335266 loss_line: 0.12394474446773529 acc: 0.1666666716337204 acc_reg: 0.1666666716337204 acc_line: 0.1666666716337204:   1%|          | 3/319 [00:00<00:14, 21.49it/s]"
     ]
    },
    {
     "name": "stdout",
     "output_type": "stream",
     "text": [
      "[VALIDATION 854] val_acc: 0.9911819306930693 val_acc_reg: 0.989480198019802 val_acc_line: 0.9928836633663366 \n"
     ]
    },
    {
     "name": "stderr",
     "output_type": "stream",
     "text": [
      "[TRAIN 855, 319] loss: 1.0578148365020752 loss_reg: 1.3719509840011597 loss_line: 0.7436783313751221 acc: 1.0 acc_reg: 1.0 acc_line: 1.0: 100%|██████████| 319/319 [00:14<00:00, 21.98it/s]                                             \n",
      "[TRAIN 856, 1] loss: 0.17630159854888916 loss_reg: 0.2286584973335266 loss_line: 0.12394469976425171 acc: 0.1666666716337204 acc_reg: 0.1666666716337204 acc_line: 0.1666666716337204:   1%|          | 2/319 [00:00<00:15, 19.81it/s]"
     ]
    },
    {
     "name": "stdout",
     "output_type": "stream",
     "text": [
      "[VALIDATION 855] val_acc: 0.9901763613861386 val_acc_reg: 0.9874690594059405 val_acc_line: 0.9928836633663366 \n"
     ]
    },
    {
     "name": "stderr",
     "output_type": "stream",
     "text": [
      "[TRAIN 856, 319] loss: 1.0578097105026245 loss_reg: 1.3719509840011597 loss_line: 0.7436681985855103 acc: 1.0 acc_reg: 1.0 acc_line: 1.0: 100%|██████████| 319/319 [00:14<00:00, 21.98it/s]                                             \n",
      "[TRAIN 857, 1] loss: 0.17630159854888916 loss_reg: 0.2286584973335266 loss_line: 0.12394469976425171 acc: 0.1666666716337204 acc_reg: 0.1666666716337204 acc_line: 0.1666666716337204:   1%|          | 3/319 [00:00<00:14, 22.34it/s]"
     ]
    },
    {
     "name": "stdout",
     "output_type": "stream",
     "text": [
      "[VALIDATION 856] val_acc: 0.9916460396039604 val_acc_reg: 0.9890160891089109 val_acc_line: 0.9942759900990099 \n"
     ]
    },
    {
     "name": "stderr",
     "output_type": "stream",
     "text": [
      "[TRAIN 857, 319] loss: 1.0578100681304932 loss_reg: 1.3719515800476074 loss_line: 0.743668258190155 acc: 1.0 acc_reg: 1.0 acc_line: 1.0: 100%|██████████| 319/319 [00:14<00:00, 21.96it/s]                                              \n",
      "[TRAIN 858, 1] loss: 0.17630159854888916 loss_reg: 0.2286584973335266 loss_line: 0.12394469976425171 acc: 0.1666666716337204 acc_reg: 0.1666666716337204 acc_line: 0.1666666716337204:   1%|          | 3/319 [00:00<00:14, 22.05it/s]"
     ]
    },
    {
     "name": "stdout",
     "output_type": "stream",
     "text": [
      "[VALIDATION 857] val_acc: 0.9898669554455446 val_acc_reg: 0.9885519801980198 val_acc_line: 0.9911819306930693 \n"
     ]
    },
    {
     "name": "stderr",
     "output_type": "stream",
     "text": [
      "[TRAIN 858, 319] loss: 1.0617159605026245 loss_reg: 1.3719511032104492 loss_line: 0.7514806985855103 acc: 0.99609375 acc_reg: 1.0 acc_line: 0.9921875: 100%|██████████| 319/319 [00:14<00:00, 21.84it/s]                               \n",
      "[TRAIN 859, 1] loss: 0.17759892344474792 loss_reg: 0.23125314712524414 loss_line: 0.12394469976425171 acc: 0.1653645932674408 acc_reg: 0.1640625 acc_line: 0.1666666716337204:   1%|          | 3/319 [00:00<00:14, 21.12it/s]"
     ]
    },
    {
     "name": "stdout",
     "output_type": "stream",
     "text": [
      "[VALIDATION 858] val_acc: 0.9895575495049505 val_acc_reg: 0.9860767326732673 val_acc_line: 0.9930383663366337 \n"
     ]
    },
    {
     "name": "stderr",
     "output_type": "stream",
     "text": [
      "[TRAIN 859, 319] loss: 1.0617159605026245 loss_reg: 1.3745551109313965 loss_line: 0.7488765716552734 acc: 0.99609375 acc_reg: 0.9973958730697632 acc_line: 0.9947916865348816: 100%|██████████| 319/319 [00:14<00:00, 21.77it/s]      \n",
      "[TRAIN 860, 1] loss: 0.17760369181632996 loss_reg: 0.231262668967247 loss_line: 0.12394469976425171 acc: 0.1653645932674408 acc_reg: 0.1640625 acc_line: 0.1666666716337204:   1%|          | 2/319 [00:00<00:17, 17.75it/s]"
     ]
    },
    {
     "name": "stdout",
     "output_type": "stream",
     "text": [
      "[VALIDATION 859] val_acc: 0.9914139851485149 val_acc_reg: 0.9897896039603961 val_acc_line: 0.9930383663366337 \n"
     ]
    },
    {
     "name": "stderr",
     "output_type": "stream",
     "text": [
      "[TRAIN 860, 319] loss: 1.0591118335723877 loss_reg: 1.3719509840011597 loss_line: 0.7462723255157471 acc: 0.9986979365348816 acc_reg: 1.0 acc_line: 0.9973958730697632: 100%|██████████| 319/319 [00:14<00:00, 21.89it/s]               \n",
      "[TRAIN 861, 1] loss: 0.17630159854888916 loss_reg: 0.2286584973335266 loss_line: 0.12394469976425171 acc: 0.1666666716337204 acc_reg: 0.1666666716337204 acc_line: 0.1666666716337204:   1%|          | 3/319 [00:00<00:13, 22.89it/s]"
     ]
    },
    {
     "name": "stdout",
     "output_type": "stream",
     "text": [
      "[VALIDATION 860] val_acc: 0.9905631188118812 val_acc_reg: 0.9879331683168316 val_acc_line: 0.9931930693069307 \n"
     ]
    },
    {
     "name": "stderr",
     "output_type": "stream",
     "text": [
      "[TRAIN 861, 319] loss: 1.0578097105026245 loss_reg: 1.3719509840011597 loss_line: 0.7436681985855103 acc: 1.0 acc_reg: 1.0 acc_line: 1.0: 100%|██████████| 319/319 [00:14<00:00, 21.81it/s]                                             \n",
      "[TRAIN 862, 1] loss: 0.17630159854888916 loss_reg: 0.2286584973335266 loss_line: 0.12394469976425171 acc: 0.1666666716337204 acc_reg: 0.1666666716337204 acc_line: 0.1666666716337204:   1%|          | 3/319 [00:00<00:13, 22.65it/s]"
     ]
    },
    {
     "name": "stdout",
     "output_type": "stream",
     "text": [
      "[VALIDATION 861] val_acc: 0.9914913366336634 val_acc_reg: 0.9888613861386139 val_acc_line: 0.9941212871287128 \n"
     ]
    },
    {
     "name": "stderr",
     "output_type": "stream",
     "text": [
      "[TRAIN 862, 319] loss: 1.0591118335723877 loss_reg: 1.3719509840011597 loss_line: 0.7462723255157471 acc: 0.9986979365348816 acc_reg: 1.0 acc_line: 0.9973958730697632: 100%|██████████| 319/319 [00:14<00:00, 21.77it/s]               \n",
      "[TRAIN 863, 1] loss: 0.17630159854888916 loss_reg: 0.2286584973335266 loss_line: 0.12394469976425171 acc: 0.1666666716337204 acc_reg: 0.1666666716337204 acc_line: 0.1666666716337204:   1%|          | 3/319 [00:00<00:15, 20.93it/s]"
     ]
    },
    {
     "name": "stdout",
     "output_type": "stream",
     "text": [
      "[VALIDATION 862] val_acc: 0.9904084158415841 val_acc_reg: 0.9871596534653465 val_acc_line: 0.9936571782178217 \n"
     ]
    },
    {
     "name": "stderr",
     "output_type": "stream",
     "text": [
      "[TRAIN 863, 319] loss: 1.0587133169174194 loss_reg: 1.373758316040039 loss_line: 0.7436681985855103 acc: 0.9986979365348816 acc_reg: 0.9973958730697632 acc_line: 1.0: 100%|██████████| 319/319 [00:14<00:00, 21.89it/s]                \n",
      "[TRAIN 864, 1] loss: 0.17630159854888916 loss_reg: 0.2286584973335266 loss_line: 0.12394469976425171 acc: 0.1666666716337204 acc_reg: 0.1666666716337204 acc_line: 0.1666666716337204:   1%|          | 3/319 [00:00<00:15, 20.45it/s]"
     ]
    },
    {
     "name": "stdout",
     "output_type": "stream",
     "text": [
      "[VALIDATION 863] val_acc: 0.9897896039603961 val_acc_reg: 0.9880878712871287 val_acc_line: 0.9914913366336634 \n"
     ]
    },
    {
     "name": "stderr",
     "output_type": "stream",
     "text": [
      "[TRAIN 864, 319] loss: 1.0578097105026245 loss_reg: 1.3719509840011597 loss_line: 0.7436681985855103 acc: 1.0 acc_reg: 1.0 acc_line: 1.0: 100%|██████████| 319/319 [00:14<00:00, 21.99it/s]                                             \n",
      "[TRAIN 865, 1] loss: 0.17630159854888916 loss_reg: 0.2286584973335266 loss_line: 0.12394469976425171 acc: 0.1666666716337204 acc_reg: 0.1666666716337204 acc_line: 0.1666666716337204:   1%|          | 2/319 [00:00<00:16, 19.17it/s]"
     ]
    },
    {
     "name": "stdout",
     "output_type": "stream",
     "text": [
      "[VALIDATION 864] val_acc: 0.9902537128712872 val_acc_reg: 0.9876237623762376 val_acc_line: 0.9928836633663366 \n"
     ]
    },
    {
     "name": "stderr",
     "output_type": "stream",
     "text": [
      "[TRAIN 865, 319] loss: 1.0591118335723877 loss_reg: 1.3745551109313965 loss_line: 0.7436681985855103 acc: 0.9986979365348816 acc_reg: 0.9973958730697632 acc_line: 1.0: 100%|██████████| 319/319 [00:14<00:00, 21.94it/s]               \n",
      "[TRAIN 866, 1] loss: 0.17630159854888916 loss_reg: 0.2286584973335266 loss_line: 0.12394469976425171 acc: 0.1666666716337204 acc_reg: 0.1666666716337204 acc_line: 0.1666666716337204:   1%|          | 2/319 [00:00<00:16, 18.95it/s]"
     ]
    },
    {
     "name": "stdout",
     "output_type": "stream",
     "text": [
      "[VALIDATION 865] val_acc: 0.9908725247524752 val_acc_reg: 0.9890160891089109 val_acc_line: 0.9927289603960396 \n"
     ]
    },
    {
     "name": "stderr",
     "output_type": "stream",
     "text": [
      "[TRAIN 866, 319] loss: 1.0578097105026245 loss_reg: 1.3719509840011597 loss_line: 0.743668258190155 acc: 1.0 acc_reg: 1.0 acc_line: 1.0: 100%|██████████| 319/319 [00:14<00:00, 21.92it/s]                                              \n",
      "[TRAIN 867, 1] loss: 0.17630159854888916 loss_reg: 0.2286584973335266 loss_line: 0.12394469976425171 acc: 0.1666666716337204 acc_reg: 0.1666666716337204 acc_line: 0.1666666716337204:   1%|          | 3/319 [00:00<00:14, 22.16it/s]"
     ]
    },
    {
     "name": "stdout",
     "output_type": "stream",
     "text": [
      "[VALIDATION 866] val_acc: 0.9904857673267327 val_acc_reg: 0.9879331683168316 val_acc_line: 0.9930383663366337 \n"
     ]
    },
    {
     "name": "stderr",
     "output_type": "stream",
     "text": [
      "[TRAIN 867, 319] loss: 1.0591118335723877 loss_reg: 1.3719509840011597 loss_line: 0.7462723255157471 acc: 0.9986979365348816 acc_reg: 1.0 acc_line: 0.9973958730697632: 100%|██████████| 319/319 [00:14<00:00, 21.92it/s]               \n",
      "[TRAIN 868, 1] loss: 0.17760369181632996 loss_reg: 0.231262668967247 loss_line: 0.12394469976425171 acc: 0.1653645932674408 acc_reg: 0.1640625 acc_line: 0.1666666716337204:   1%|          | 3/319 [00:00<00:14, 22.06it/s]"
     ]
    },
    {
     "name": "stdout",
     "output_type": "stream",
     "text": [
      "[VALIDATION 867] val_acc: 0.9920327970297029 val_acc_reg: 0.9905631188118812 val_acc_line: 0.9935024752475248 \n"
     ]
    },
    {
     "name": "stderr",
     "output_type": "stream",
     "text": [
      "[TRAIN 868, 319] loss: 1.0578097105026245 loss_reg: 1.3719509840011597 loss_line: 0.7436681985855103 acc: 1.0 acc_reg: 1.0 acc_line: 1.0: 100%|██████████| 319/319 [00:14<00:00, 21.97it/s]                                             \n",
      "[TRAIN 869, 1] loss: 0.17630159854888916 loss_reg: 0.2286584973335266 loss_line: 0.12394469976425171 acc: 0.1666666716337204 acc_reg: 0.1666666716337204 acc_line: 0.1666666716337204:   1%|          | 2/319 [00:00<00:16, 19.09it/s]"
     ]
    },
    {
     "name": "stdout",
     "output_type": "stream",
     "text": [
      "[VALIDATION 868] val_acc: 0.9912592821782178 val_acc_reg: 0.9885519801980198 val_acc_line: 0.9939665841584159 \n"
     ]
    },
    {
     "name": "stderr",
     "output_type": "stream",
     "text": [
      "[TRAIN 869, 319] loss: 1.057849645614624 loss_reg: 1.3720309734344482 loss_line: 0.7436681985855103 acc: 1.0 acc_reg: 1.0 acc_line: 1.0: 100%|██████████| 319/319 [00:14<00:00, 21.93it/s]                                              \n",
      "[TRAIN 870, 1] loss: 0.17630159854888916 loss_reg: 0.2286584973335266 loss_line: 0.12394469976425171 acc: 0.1666666716337204 acc_reg: 0.1666666716337204 acc_line: 0.1666666716337204:   1%|          | 3/319 [00:00<00:14, 22.16it/s]"
     ]
    },
    {
     "name": "stdout",
     "output_type": "stream",
     "text": [
      "[VALIDATION 869] val_acc: 0.9909498762376238 val_acc_reg: 0.9873143564356436 val_acc_line: 0.9945853960396039 \n"
     ]
    },
    {
     "name": "stderr",
     "output_type": "stream",
     "text": [
      "[TRAIN 870, 319] loss: 1.057810664176941 loss_reg: 1.3719509840011597 loss_line: 0.7436701655387878 acc: 1.0 acc_reg: 1.0 acc_line: 1.0: 100%|██████████| 319/319 [00:14<00:00, 21.91it/s]                                              \n",
      "[TRAIN 871, 1] loss: 0.17630159854888916 loss_reg: 0.2286584973335266 loss_line: 0.12394469976425171 acc: 0.1666666716337204 acc_reg: 0.1666666716337204 acc_line: 0.1666666716337204:   1%|          | 3/319 [00:00<00:14, 22.11it/s]"
     ]
    },
    {
     "name": "stdout",
     "output_type": "stream",
     "text": [
      "[VALIDATION 870] val_acc: 0.9911045792079208 val_acc_reg: 0.989325495049505 val_acc_line: 0.9928836633663366 \n"
     ]
    },
    {
     "name": "stderr",
     "output_type": "stream",
     "text": [
      "[TRAIN 871, 319] loss: 1.0578104257583618 loss_reg: 1.3719525337219238 loss_line: 0.7436681985855103 acc: 1.0 acc_reg: 1.0 acc_line: 1.0: 100%|██████████| 319/319 [00:14<00:00, 21.92it/s]                                             \n",
      "[TRAIN 872, 1] loss: 0.17630159854888916 loss_reg: 0.2286584973335266 loss_line: 0.12394469976425171 acc: 0.1666666716337204 acc_reg: 0.1666666716337204 acc_line: 0.1666666716337204:   1%|          | 3/319 [00:00<00:14, 22.30it/s]"
     ]
    },
    {
     "name": "stdout",
     "output_type": "stream",
     "text": [
      "[VALIDATION 871] val_acc: 0.9907951732673267 val_acc_reg: 0.9873143564356436 val_acc_line: 0.9942759900990099 \n"
     ]
    },
    {
     "name": "stderr",
     "output_type": "stream",
     "text": [
      "[TRAIN 872, 319] loss: 1.0591118335723877 loss_reg: 1.3719509840011597 loss_line: 0.7462723255157471 acc: 0.9986979365348816 acc_reg: 1.0 acc_line: 0.9973958730697632: 100%|██████████| 319/319 [00:14<00:00, 21.93it/s]               \n",
      "[TRAIN 873, 1] loss: 0.17630159854888916 loss_reg: 0.2286584973335266 loss_line: 0.12394469976425171 acc: 0.1666666716337204 acc_reg: 0.1666666716337204 acc_line: 0.1666666716337204:   1%|          | 2/319 [00:00<00:18, 17.52it/s]"
     ]
    },
    {
     "name": "stdout",
     "output_type": "stream",
     "text": [
      "[VALIDATION 872] val_acc: 0.9897122524752475 val_acc_reg: 0.9863861386138614 val_acc_line: 0.9930383663366337 \n"
     ]
    },
    {
     "name": "stderr",
     "output_type": "stream",
     "text": [
      "[TRAIN 873, 319] loss: 1.0604150295257568 loss_reg: 1.3771617412567139 loss_line: 0.7436681985855103 acc: 0.9973958730697632 acc_reg: 0.9947916865348816 acc_line: 1.0: 100%|██████████| 319/319 [00:14<00:00, 21.97it/s]               \n",
      "[TRAIN 874, 1] loss: 0.17630159854888916 loss_reg: 0.2286584973335266 loss_line: 0.12394469976425171 acc: 0.1666666716337204 acc_reg: 0.1666666716337204 acc_line: 0.1666666716337204:   1%|          | 3/319 [00:00<00:14, 22.07it/s]"
     ]
    },
    {
     "name": "stdout",
     "output_type": "stream",
     "text": [
      "[VALIDATION 873] val_acc: 0.9907951732673267 val_acc_reg: 0.9879331683168316 val_acc_line: 0.9936571782178217 \n"
     ]
    },
    {
     "name": "stderr",
     "output_type": "stream",
     "text": [
      "[TRAIN 874, 319] loss: 1.0578097105026245 loss_reg: 1.3719511032104492 loss_line: 0.7436681985855103 acc: 1.0 acc_reg: 1.0 acc_line: 1.0: 100%|██████████| 319/319 [00:14<00:00, 21.97it/s]                                             \n",
      "[TRAIN 875, 1] loss: 0.17630159854888916 loss_reg: 0.2286584973335266 loss_line: 0.12394469976425171 acc: 0.1666666716337204 acc_reg: 0.1666666716337204 acc_line: 0.1666666716337204:   1%|          | 2/319 [00:00<00:17, 18.10it/s]"
     ]
    },
    {
     "name": "stdout",
     "output_type": "stream",
     "text": [
      "[VALIDATION 874] val_acc: 0.9907951732673267 val_acc_reg: 0.9883972772277227 val_acc_line: 0.9931930693069307 \n"
     ]
    },
    {
     "name": "stderr",
     "output_type": "stream",
     "text": [
      "[TRAIN 875, 319] loss: 1.0591118335723877 loss_reg: 1.3745551109313965 loss_line: 0.7436681985855103 acc: 0.9986979365348816 acc_reg: 0.9973958730697632 acc_line: 1.0: 100%|██████████| 319/319 [00:14<00:00, 22.02it/s]               \n",
      "[TRAIN 876, 1] loss: 0.17630159854888916 loss_reg: 0.2286584973335266 loss_line: 0.12394469976425171 acc: 0.1666666716337204 acc_reg: 0.1666666716337204 acc_line: 0.1666666716337204:   1%|          | 3/319 [00:00<00:14, 21.34it/s]"
     ]
    },
    {
     "name": "stdout",
     "output_type": "stream",
     "text": [
      "[VALIDATION 875] val_acc: 0.9904084158415841 val_acc_reg: 0.9888613861386139 val_acc_line: 0.9919554455445545 \n"
     ]
    },
    {
     "name": "stderr",
     "output_type": "stream",
     "text": [
      "[TRAIN 876, 319] loss: 1.0591118335723877 loss_reg: 1.3745551109313965 loss_line: 0.7436681985855103 acc: 0.9986979365348816 acc_reg: 0.9973958730697632 acc_line: 1.0: 100%|██████████| 319/319 [00:14<00:00, 21.96it/s]               \n",
      "[TRAIN 877, 1] loss: 0.17630159854888916 loss_reg: 0.2286584973335266 loss_line: 0.12394469976425171 acc: 0.1666666716337204 acc_reg: 0.1666666716337204 acc_line: 0.1666666716337204:   1%|          | 2/319 [00:00<00:15, 19.99it/s]"
     ]
    },
    {
     "name": "stdout",
     "output_type": "stream",
     "text": [
      "[VALIDATION 876] val_acc: 0.9917233910891089 val_acc_reg: 0.9891707920792079 val_acc_line: 0.9942759900990099 \n"
     ]
    },
    {
     "name": "stderr",
     "output_type": "stream",
     "text": [
      "[TRAIN 877, 319] loss: 1.0578097105026245 loss_reg: 1.3719509840011597 loss_line: 0.7436681985855103 acc: 1.0 acc_reg: 1.0 acc_line: 1.0: 100%|██████████| 319/319 [00:14<00:00, 21.98it/s]                                            \n",
      "[TRAIN 878, 1] loss: 0.17630159854888916 loss_reg: 0.2286584973335266 loss_line: 0.12394469976425171 acc: 0.1666666716337204 acc_reg: 0.1666666716337204 acc_line: 0.1666666716337204:   1%|          | 3/319 [00:00<00:14, 21.57it/s]"
     ]
    },
    {
     "name": "stdout",
     "output_type": "stream",
     "text": [
      "[VALIDATION 877] val_acc: 0.9911045792079208 val_acc_reg: 0.9887066831683168 val_acc_line: 0.9935024752475248 \n"
     ]
    },
    {
     "name": "stderr",
     "output_type": "stream",
     "text": [
      "[TRAIN 878, 319] loss: 1.0578097105026245 loss_reg: 1.3719509840011597 loss_line: 0.7436681985855103 acc: 1.0 acc_reg: 1.0 acc_line: 1.0: 100%|██████████| 319/319 [00:14<00:00, 21.87it/s]                                             \n",
      "[TRAIN 879, 1] loss: 0.17630159854888916 loss_reg: 0.2286584973335266 loss_line: 0.12394469976425171 acc: 0.1666666716337204 acc_reg: 0.1666666716337204 acc_line: 0.1666666716337204:   1%|          | 3/319 [00:00<00:15, 20.74it/s]"
     ]
    },
    {
     "name": "stdout",
     "output_type": "stream",
     "text": [
      "[VALIDATION 878] val_acc: 0.9898669554455446 val_acc_reg: 0.9877784653465347 val_acc_line: 0.9919554455445545 \n"
     ]
    },
    {
     "name": "stderr",
     "output_type": "stream",
     "text": [
      "[TRAIN 879, 319] loss: 1.0578097105026245 loss_reg: 1.3719509840011597 loss_line: 0.743668258190155 acc: 1.0 acc_reg: 1.0 acc_line: 1.0: 100%|██████████| 319/319 [00:14<00:00, 21.65it/s]                                              \n",
      "[TRAIN 880, 1] loss: 0.17630159854888916 loss_reg: 0.2286584973335266 loss_line: 0.12394469976425171 acc: 0.1666666716337204 acc_reg: 0.1666666716337204 acc_line: 0.1666666716337204:   1%|          | 3/319 [00:00<00:14, 21.30it/s]"
     ]
    },
    {
     "name": "stdout",
     "output_type": "stream",
     "text": [
      "[VALIDATION 879] val_acc: 0.9904084158415841 val_acc_reg: 0.9879331683168316 val_acc_line: 0.9928836633663366 \n"
     ]
    },
    {
     "name": "stderr",
     "output_type": "stream",
     "text": [
      "[TRAIN 880, 319] loss: 1.0578097105026245 loss_reg: 1.3719509840011597 loss_line: 0.7436681985855103 acc: 1.0 acc_reg: 1.0 acc_line: 1.0: 100%|██████████| 319/319 [00:14<00:00, 21.79it/s]                                             \n",
      "[TRAIN 881, 1] loss: 0.17760369181632996 loss_reg: 0.2286584973335266 loss_line: 0.1265488713979721 acc: 0.1653645932674408 acc_reg: 0.1666666716337204 acc_line: 0.1640625:   1%|          | 3/319 [00:00<00:14, 21.29it/s]"
     ]
    },
    {
     "name": "stdout",
     "output_type": "stream",
     "text": [
      "[VALIDATION 880] val_acc: 0.9917233910891089 val_acc_reg: 0.989480198019802 val_acc_line: 0.9939665841584159 \n"
     ]
    },
    {
     "name": "stderr",
     "output_type": "stream",
     "text": [
      "[TRAIN 881, 319] loss: 1.0578097105026245 loss_reg: 1.3719509840011597 loss_line: 0.7436681985855103 acc: 1.0 acc_reg: 1.0 acc_line: 1.0: 100%|██████████| 319/319 [00:14<00:00, 21.76it/s]                                             \n",
      "[TRAIN 882, 1] loss: 0.17630159854888916 loss_reg: 0.2286584973335266 loss_line: 0.12394469976425171 acc: 0.1666666716337204 acc_reg: 0.1666666716337204 acc_line: 0.1666666716337204:   1%|          | 3/319 [00:00<00:14, 22.39it/s]"
     ]
    },
    {
     "name": "stdout",
     "output_type": "stream",
     "text": [
      "[VALIDATION 881] val_acc: 0.9913366336633663 val_acc_reg: 0.9904084158415841 val_acc_line: 0.9922648514851485 \n"
     ]
    },
    {
     "name": "stderr",
     "output_type": "stream",
     "text": [
      "[TRAIN 882, 319] loss: 1.0617175102233887 loss_reg: 1.377159833908081 loss_line: 0.7462753057479858 acc: 0.99609375 acc_reg: 0.9947916865348816 acc_line: 0.9973958730697632: 100%|██████████| 319/319 [00:14<00:00, 21.82it/s]         \n",
      "[TRAIN 883, 1] loss: 0.17630159854888916 loss_reg: 0.2286584973335266 loss_line: 0.12394469976425171 acc: 0.1666666716337204 acc_reg: 0.1666666716337204 acc_line: 0.1666666716337204:   1%|          | 3/319 [00:00<00:14, 21.97it/s]"
     ]
    },
    {
     "name": "stdout",
     "output_type": "stream",
     "text": [
      "[VALIDATION 882] val_acc: 0.9907178217821783 val_acc_reg: 0.9887066831683168 val_acc_line: 0.9927289603960396 \n"
     ]
    },
    {
     "name": "stderr",
     "output_type": "stream",
     "text": [
      "[TRAIN 883, 319] loss: 1.0578116178512573 loss_reg: 1.3719509840011597 loss_line: 0.7436721324920654 acc: 1.0 acc_reg: 1.0 acc_line: 1.0: 100%|██████████| 319/319 [00:14<00:00, 21.96it/s]                                             \n",
      "[TRAIN 884, 1] loss: 0.17630159854888916 loss_reg: 0.2286584973335266 loss_line: 0.12394469976425171 acc: 0.1666666716337204 acc_reg: 0.1666666716337204 acc_line: 0.1666666716337204:   1%|          | 2/319 [00:00<00:16, 19.03it/s]"
     ]
    },
    {
     "name": "stdout",
     "output_type": "stream",
     "text": [
      "[VALIDATION 883] val_acc: 0.9915686881188119 val_acc_reg: 0.989634900990099 val_acc_line: 0.9935024752475248 \n"
     ]
    },
    {
     "name": "stderr",
     "output_type": "stream",
     "text": [
      "[TRAIN 884, 319] loss: 1.0604138374328613 loss_reg: 1.3745551109313965 loss_line: 0.7462723255157471 acc: 0.9973958730697632 acc_reg: 0.9973958730697632 acc_line: 0.9973958730697632: 100%|██████████| 319/319 [00:14<00:00, 21.96it/s]\n",
      "[TRAIN 885, 1] loss: 0.17760369181632996 loss_reg: 0.2286584973335266 loss_line: 0.1265488713979721 acc: 0.1653645932674408 acc_reg: 0.1666666716337204 acc_line: 0.1640625:   1%|          | 3/319 [00:00<00:14, 21.95it/s]"
     ]
    },
    {
     "name": "stdout",
     "output_type": "stream",
     "text": [
      "[VALIDATION 884] val_acc: 0.9900990099009901 val_acc_reg: 0.9879331683168316 val_acc_line: 0.9922648514851485 \n"
     ]
    },
    {
     "name": "stderr",
     "output_type": "stream",
     "text": [
      "[TRAIN 885, 319] loss: 1.0604138374328613 loss_reg: 1.3771593570709229 loss_line: 0.7436681985855103 acc: 0.9973958730697632 acc_reg: 0.9947916865348816 acc_line: 1.0: 100%|██████████| 319/319 [00:14<00:00, 21.90it/s]               \n",
      "[TRAIN 886, 1] loss: 0.17630159854888916 loss_reg: 0.2286584973335266 loss_line: 0.12394469976425171 acc: 0.1666666716337204 acc_reg: 0.1666666716337204 acc_line: 0.1666666716337204:   1%|          | 3/319 [00:00<00:15, 20.72it/s]"
     ]
    },
    {
     "name": "stdout",
     "output_type": "stream",
     "text": [
      "[VALIDATION 885] val_acc: 0.9912592821782178 val_acc_reg: 0.9887066831683168 val_acc_line: 0.9938118811881188 \n"
     ]
    },
    {
     "name": "stderr",
     "output_type": "stream",
     "text": [
      "[TRAIN 886, 319] loss: 1.0591118335723877 loss_reg: 1.3745551109313965 loss_line: 0.7436681985855103 acc: 0.9986979365348816 acc_reg: 0.9973958730697632 acc_line: 1.0: 100%|██████████| 319/319 [00:14<00:00, 21.93it/s]               \n",
      "[TRAIN 887, 1] loss: 0.17630159854888916 loss_reg: 0.2286584973335266 loss_line: 0.12394469976425171 acc: 0.1666666716337204 acc_reg: 0.1666666716337204 acc_line: 0.1666666716337204:   1%|          | 3/319 [00:00<00:14, 21.09it/s]"
     ]
    },
    {
     "name": "stdout",
     "output_type": "stream",
     "text": [
      "[VALIDATION 886] val_acc: 0.9910272277227723 val_acc_reg: 0.9911819306930693 val_acc_line: 0.9908725247524752 \n"
     ]
    },
    {
     "name": "stderr",
     "output_type": "stream",
     "text": [
      "[TRAIN 887, 319] loss: 1.0578097105026245 loss_reg: 1.3719509840011597 loss_line: 0.7436681985855103 acc: 1.0 acc_reg: 1.0 acc_line: 1.0: 100%|██████████| 319/319 [00:14<00:00, 21.96it/s]                                             \n",
      "[TRAIN 888, 1] loss: 0.17630159854888916 loss_reg: 0.2286584973335266 loss_line: 0.12394469976425171 acc: 0.1666666716337204 acc_reg: 0.1666666716337204 acc_line: 0.1666666716337204:   1%|          | 3/319 [00:00<00:15, 20.64it/s]"
     ]
    },
    {
     "name": "stdout",
     "output_type": "stream",
     "text": [
      "[VALIDATION 887] val_acc: 0.989944306930693 val_acc_reg: 0.9885519801980198 val_acc_line: 0.9913366336633663 \n"
     ]
    },
    {
     "name": "stderr",
     "output_type": "stream",
     "text": [
      "[TRAIN 888, 319] loss: 1.0578097105026245 loss_reg: 1.3719509840011597 loss_line: 0.743668258190155 acc: 1.0 acc_reg: 1.0 acc_line: 1.0: 100%|██████████| 319/319 [00:14<00:00, 21.97it/s]                                              \n",
      "[TRAIN 889, 1] loss: 0.17630159854888916 loss_reg: 0.2286584973335266 loss_line: 0.12394469976425171 acc: 0.1666666716337204 acc_reg: 0.1666666716337204 acc_line: 0.1666666716337204:   1%|          | 2/319 [00:00<00:16, 19.27it/s]"
     ]
    },
    {
     "name": "stdout",
     "output_type": "stream",
     "text": [
      "[VALIDATION 888] val_acc: 0.992496905940594 val_acc_reg: 0.9910272277227723 val_acc_line: 0.9939665841584159 \n"
     ]
    },
    {
     "name": "stderr",
     "output_type": "stream",
     "text": [
      "[TRAIN 889, 319] loss: 1.0580772161483765 loss_reg: 1.3724861145019531 loss_line: 0.7436681985855103 acc: 1.0 acc_reg: 1.0 acc_line: 1.0: 100%|██████████| 319/319 [00:14<00:00, 22.02it/s]                                             \n",
      "[TRAIN 890, 1] loss: 0.17630159854888916 loss_reg: 0.2286584973335266 loss_line: 0.12394469976425171 acc: 0.1666666716337204 acc_reg: 0.1666666716337204 acc_line: 0.1666666716337204:   1%|          | 2/319 [00:00<00:17, 18.48it/s]"
     ]
    },
    {
     "name": "stdout",
     "output_type": "stream",
     "text": [
      "[VALIDATION 889] val_acc: 0.9907951732673267 val_acc_reg: 0.9891707920792079 val_acc_line: 0.9924195544554455 \n"
     ]
    },
    {
     "name": "stderr",
     "output_type": "stream",
     "text": [
      "[TRAIN 890, 319] loss: 1.0578364133834839 loss_reg: 1.372004508972168 loss_line: 0.743668258190155 acc: 1.0 acc_reg: 1.0 acc_line: 1.0: 100%|██████████| 319/319 [00:14<00:00, 21.88it/s]                                               \n",
      "[TRAIN 891, 1] loss: 0.17630159854888916 loss_reg: 0.2286584973335266 loss_line: 0.12394469976425171 acc: 0.1666666716337204 acc_reg: 0.1666666716337204 acc_line: 0.1666666716337204:   1%|          | 3/319 [00:00<00:14, 22.02it/s]"
     ]
    },
    {
     "name": "stdout",
     "output_type": "stream",
     "text": [
      "[VALIDATION 890] val_acc: 0.9911819306930693 val_acc_reg: 0.989325495049505 val_acc_line: 0.9930383663366337 \n"
     ]
    },
    {
     "name": "stderr",
     "output_type": "stream",
     "text": [
      "[TRAIN 891, 319] loss: 1.059325098991394 loss_reg: 1.3749818801879883 loss_line: 0.7436681985855103 acc: 0.9986979365348816 acc_reg: 0.9973958730697632 acc_line: 1.0: 100%|██████████| 319/319 [00:14<00:00, 21.83it/s]                \n",
      "[TRAIN 892, 1] loss: 0.17630159854888916 loss_reg: 0.2286584973335266 loss_line: 0.12394469976425171 acc: 0.1666666716337204 acc_reg: 0.1666666716337204 acc_line: 0.1666666716337204:   1%|          | 3/319 [00:00<00:14, 22.35it/s]"
     ]
    },
    {
     "name": "stdout",
     "output_type": "stream",
     "text": [
      "[VALIDATION 891] val_acc: 0.9900216584158416 val_acc_reg: 0.9879331683168316 val_acc_line: 0.9921101485148515 \n"
     ]
    },
    {
     "name": "stderr",
     "output_type": "stream",
     "text": [
      "[TRAIN 892, 319] loss: 1.0578097105026245 loss_reg: 1.3719509840011597 loss_line: 0.7436681985855103 acc: 1.0 acc_reg: 1.0 acc_line: 1.0: 100%|██████████| 319/319 [00:14<00:00, 21.83it/s]                                             \n",
      "[TRAIN 893, 1] loss: 0.17630159854888916 loss_reg: 0.2286584973335266 loss_line: 0.12394469976425171 acc: 0.1666666716337204 acc_reg: 0.1666666716337204 acc_line: 0.1666666716337204:   1%|          | 2/319 [00:00<00:16, 19.69it/s]"
     ]
    },
    {
     "name": "stdout",
     "output_type": "stream",
     "text": [
      "[VALIDATION 892] val_acc: 0.9918007425742574 val_acc_reg: 0.9897896039603961 val_acc_line: 0.9938118811881188 \n"
     ]
    },
    {
     "name": "stderr",
     "output_type": "stream",
     "text": [
      "[TRAIN 893, 319] loss: 1.0578101873397827 loss_reg: 1.3719520568847656 loss_line: 0.7436681985855103 acc: 1.0 acc_reg: 1.0 acc_line: 1.0: 100%|██████████| 319/319 [00:14<00:00, 21.81it/s]                                             \n",
      "[TRAIN 894, 1] loss: 0.17630159854888916 loss_reg: 0.2286584973335266 loss_line: 0.12394469976425171 acc: 0.1666666716337204 acc_reg: 0.1666666716337204 acc_line: 0.1666666716337204:   1%|          | 3/319 [00:00<00:14, 21.97it/s]"
     ]
    },
    {
     "name": "stdout",
     "output_type": "stream",
     "text": [
      "[VALIDATION 893] val_acc: 0.9911819306930693 val_acc_reg: 0.9880878712871287 val_acc_line: 0.9942759900990099 \n"
     ]
    },
    {
     "name": "stderr",
     "output_type": "stream",
     "text": [
      "[TRAIN 894, 319] loss: 1.0591118335723877 loss_reg: 1.3745551109313965 loss_line: 0.7436681985855103 acc: 0.9986979365348816 acc_reg: 0.9973958730697632 acc_line: 1.0: 100%|██████████| 319/319 [00:14<00:00, 21.93it/s]               \n",
      "[TRAIN 895, 1] loss: 0.17630159854888916 loss_reg: 0.2286584973335266 loss_line: 0.12394469976425171 acc: 0.1666666716337204 acc_reg: 0.1666666716337204 acc_line: 0.1666666716337204:   1%|          | 3/319 [00:00<00:14, 21.51it/s]"
     ]
    },
    {
     "name": "stdout",
     "output_type": "stream",
     "text": [
      "[VALIDATION 894] val_acc: 0.9910272277227723 val_acc_reg: 0.9877784653465347 val_acc_line: 0.9942759900990099 \n"
     ]
    },
    {
     "name": "stderr",
     "output_type": "stream",
     "text": [
      "[TRAIN 895, 319] loss: 1.0578097105026245 loss_reg: 1.3719511032104492 loss_line: 0.7436681985855103 acc: 1.0 acc_reg: 1.0 acc_line: 1.0: 100%|██████████| 319/319 [00:14<00:00, 22.04it/s]                                             \n",
      "[TRAIN 896, 1] loss: 0.17630159854888916 loss_reg: 0.2286584973335266 loss_line: 0.12394469976425171 acc: 0.1666666716337204 acc_reg: 0.1666666716337204 acc_line: 0.1666666716337204:   1%|          | 3/319 [00:00<00:14, 22.15it/s]"
     ]
    },
    {
     "name": "stdout",
     "output_type": "stream",
     "text": [
      "[VALIDATION 895] val_acc: 0.9913366336633663 val_acc_reg: 0.9891707920792079 val_acc_line: 0.9935024752475248 \n"
     ]
    },
    {
     "name": "stderr",
     "output_type": "stream",
     "text": [
      "[TRAIN 896, 319] loss: 1.0593804121017456 loss_reg: 1.3750903606414795 loss_line: 0.7436703443527222 acc: 0.9986979365348816 acc_reg: 0.9973958730697632 acc_line: 1.0: 100%|██████████| 319/319 [00:14<00:00, 21.96it/s]               \n",
      "[TRAIN 897, 1] loss: 0.17630159854888916 loss_reg: 0.2286584973335266 loss_line: 0.12394469976425171 acc: 0.1666666716337204 acc_reg: 0.1666666716337204 acc_line: 0.1666666716337204:   1%|          | 3/319 [00:00<00:13, 22.58it/s]"
     ]
    },
    {
     "name": "stdout",
     "output_type": "stream",
     "text": [
      "[VALIDATION 896] val_acc: 0.9917233910891089 val_acc_reg: 0.9904084158415841 val_acc_line: 0.9930383663366337 \n"
     ]
    },
    {
     "name": "stderr",
     "output_type": "stream",
     "text": [
      "[TRAIN 897, 319] loss: 1.0591118335723877 loss_reg: 1.3745551109313965 loss_line: 0.7436681985855103 acc: 0.9986979365348816 acc_reg: 0.9973958730697632 acc_line: 1.0: 100%|██████████| 319/319 [00:14<00:00, 21.96it/s]               \n",
      "[TRAIN 898, 1] loss: 0.17630159854888916 loss_reg: 0.2286584973335266 loss_line: 0.12394469976425171 acc: 0.1666666716337204 acc_reg: 0.1666666716337204 acc_line: 0.1666666716337204:   1%|          | 3/319 [00:00<00:14, 21.83it/s]"
     ]
    },
    {
     "name": "stdout",
     "output_type": "stream",
     "text": [
      "[VALIDATION 897] val_acc: 0.9916460396039604 val_acc_reg: 0.9897896039603961 val_acc_line: 0.9935024752475248 \n"
     ]
    },
    {
     "name": "stderr",
     "output_type": "stream",
     "text": [
      "[TRAIN 898, 319] loss: 1.057830572128296 loss_reg: 1.371992826461792 loss_line: 0.7436681985855103 acc: 1.0 acc_reg: 1.0 acc_line: 1.0: 100%|██████████| 319/319 [00:14<00:00, 21.95it/s]                                               \n",
      "[TRAIN 899, 1] loss: 0.17630159854888916 loss_reg: 0.2286584973335266 loss_line: 0.12394469976425171 acc: 0.1666666716337204 acc_reg: 0.1666666716337204 acc_line: 0.1666666716337204:   1%|          | 3/319 [00:00<00:14, 21.57it/s]"
     ]
    },
    {
     "name": "stdout",
     "output_type": "stream",
     "text": [
      "[VALIDATION 898] val_acc: 0.9915686881188119 val_acc_reg: 0.9887066831683168 val_acc_line: 0.994430693069307 \n"
     ]
    },
    {
     "name": "stderr",
     "output_type": "stream",
     "text": [
      "[TRAIN 899, 319] loss: 1.0595498085021973 loss_reg: 1.3745551109313965 loss_line: 0.744544267654419 acc: 0.9986979365348816 acc_reg: 0.9973958730697632 acc_line: 1.0: 100%|██████████| 319/319 [00:14<00:00, 22.00it/s]                \n",
      "[TRAIN 900, 1] loss: 0.17630159854888916 loss_reg: 0.2286584973335266 loss_line: 0.12394469976425171 acc: 0.1666666716337204 acc_reg: 0.1666666716337204 acc_line: 0.1666666716337204:   1%|          | 2/319 [00:00<00:16, 19.70it/s]"
     ]
    },
    {
     "name": "stdout",
     "output_type": "stream",
     "text": [
      "[VALIDATION 899] val_acc: 0.9926516089108911 val_acc_reg: 0.9905631188118812 val_acc_line: 0.994740099009901 \n"
     ]
    },
    {
     "name": "stderr",
     "output_type": "stream",
     "text": [
      "[TRAIN 900, 319] loss: 1.0578097105026245 loss_reg: 1.3719509840011597 loss_line: 0.7436681985855103 acc: 1.0 acc_reg: 1.0 acc_line: 1.0: 100%|██████████| 319/319 [00:14<00:00, 21.95it/s]                                             \n",
      "[TRAIN 901, 1] loss: 0.17630159854888916 loss_reg: 0.2286584973335266 loss_line: 0.12394469976425171 acc: 0.1666666716337204 acc_reg: 0.1666666716337204 acc_line: 0.1666666716337204:   1%|          | 3/319 [00:00<00:14, 21.85it/s]"
     ]
    },
    {
     "name": "stdout",
     "output_type": "stream",
     "text": [
      "[VALIDATION 900] val_acc: 0.991878094059406 val_acc_reg: 0.989944306930693 val_acc_line: 0.9938118811881188 \n"
     ]
    },
    {
     "name": "stderr",
     "output_type": "stream",
     "text": [
      "[TRAIN 901, 319] loss: 1.0578097105026245 loss_reg: 1.3719509840011597 loss_line: 0.7436681985855103 acc: 1.0 acc_reg: 1.0 acc_line: 1.0: 100%|██████████| 319/319 [00:14<00:00, 21.90it/s]                                             \n",
      "[TRAIN 902, 1] loss: 0.17630159854888916 loss_reg: 0.2286584973335266 loss_line: 0.12394469976425171 acc: 0.1666666716337204 acc_reg: 0.1666666716337204 acc_line: 0.1666666716337204:   1%|          | 3/319 [00:00<00:14, 21.93it/s]"
     ]
    },
    {
     "name": "stdout",
     "output_type": "stream",
     "text": [
      "[VALIDATION 901] val_acc: 0.9921101485148515 val_acc_reg: 0.989480198019802 val_acc_line: 0.994740099009901 \n"
     ]
    },
    {
     "name": "stderr",
     "output_type": "stream",
     "text": [
      "[TRAIN 902, 319] loss: 1.0591118335723877 loss_reg: 1.3719511032104492 loss_line: 0.7462723255157471 acc: 0.9986979365348816 acc_reg: 1.0 acc_line: 0.9973958730697632: 100%|██████████| 319/319 [00:14<00:00, 21.89it/s]               \n",
      "[TRAIN 903, 1] loss: 0.17630159854888916 loss_reg: 0.2286584973335266 loss_line: 0.12394469976425171 acc: 0.1666666716337204 acc_reg: 0.1666666716337204 acc_line: 0.1666666716337204:   1%|          | 3/319 [00:00<00:13, 22.92it/s]"
     ]
    },
    {
     "name": "stdout",
     "output_type": "stream",
     "text": [
      "[VALIDATION 902] val_acc: 0.9900216584158416 val_acc_reg: 0.9866955445544554 val_acc_line: 0.9933477722772277 \n"
     ]
    },
    {
     "name": "stderr",
     "output_type": "stream",
     "text": [
      "[TRAIN 903, 319] loss: 1.0578097105026245 loss_reg: 1.3719509840011597 loss_line: 0.7436681985855103 acc: 1.0 acc_reg: 1.0 acc_line: 1.0: 100%|██████████| 319/319 [00:14<00:00, 22.03it/s]                                             \n",
      "[TRAIN 904, 1] loss: 0.17630159854888916 loss_reg: 0.2286584973335266 loss_line: 0.12394469976425171 acc: 0.1666666716337204 acc_reg: 0.1666666716337204 acc_line: 0.1666666716337204:   1%|          | 2/319 [00:00<00:18, 17.16it/s]"
     ]
    },
    {
     "name": "stdout",
     "output_type": "stream",
     "text": [
      "[VALIDATION 903] val_acc: 0.9904857673267327 val_acc_reg: 0.9876237623762376 val_acc_line: 0.9933477722772277 \n"
     ]
    },
    {
     "name": "stderr",
     "output_type": "stream",
     "text": [
      "[TRAIN 904, 319] loss: 1.0591118335723877 loss_reg: 1.3719511032104492 loss_line: 0.7462723255157471 acc: 0.9986979365348816 acc_reg: 1.0 acc_line: 0.9973958730697632: 100%|██████████| 319/319 [00:14<00:00, 21.96it/s]               \n",
      "[TRAIN 905, 1] loss: 0.17630159854888916 loss_reg: 0.2286584973335266 loss_line: 0.12394469976425171 acc: 0.1666666716337204 acc_reg: 0.1666666716337204 acc_line: 0.1666666716337204:   1%|          | 3/319 [00:00<00:13, 23.09it/s]"
     ]
    },
    {
     "name": "stdout",
     "output_type": "stream",
     "text": [
      "[VALIDATION 904] val_acc: 0.9914139851485149 val_acc_reg: 0.989480198019802 val_acc_line: 0.9933477722772277 \n"
     ]
    },
    {
     "name": "stderr",
     "output_type": "stream",
     "text": [
      "[TRAIN 905, 319] loss: 1.0604137182235718 loss_reg: 1.3719509840011597 loss_line: 0.7488763332366943 acc: 0.9973958730697632 acc_reg: 1.0 acc_line: 0.9947916865348816: 100%|██████████| 319/319 [00:14<00:00, 21.97it/s]               \n",
      "[TRAIN 906, 1] loss: 0.17630159854888916 loss_reg: 0.2286584973335266 loss_line: 0.12394469976425171 acc: 0.1666666716337204 acc_reg: 0.1666666716337204 acc_line: 0.1666666716337204:   1%|          | 3/319 [00:00<00:15, 20.34it/s]"
     ]
    },
    {
     "name": "stdout",
     "output_type": "stream",
     "text": [
      "[VALIDATION 905] val_acc: 0.9915686881188119 val_acc_reg: 0.989325495049505 val_acc_line: 0.9938118811881188 \n"
     ]
    },
    {
     "name": "stderr",
     "output_type": "stream",
     "text": [
      "[TRAIN 906, 319] loss: 1.0580768585205078 loss_reg: 1.3724855184555054 loss_line: 0.7436681985855103 acc: 1.0 acc_reg: 1.0 acc_line: 1.0: 100%|██████████| 319/319 [00:14<00:00, 21.85it/s]                                             \n",
      "[TRAIN 907, 1] loss: 0.17630159854888916 loss_reg: 0.2286584973335266 loss_line: 0.12394469976425171 acc: 0.1666666716337204 acc_reg: 0.1666666716337204 acc_line: 0.1666666716337204:   1%|          | 2/319 [00:00<00:16, 19.68it/s]"
     ]
    },
    {
     "name": "stdout",
     "output_type": "stream",
     "text": [
      "[VALIDATION 906] val_acc: 0.9925742574257426 val_acc_reg: 0.9907178217821783 val_acc_line: 0.994430693069307 \n"
     ]
    },
    {
     "name": "stderr",
     "output_type": "stream",
     "text": [
      "[TRAIN 907, 319] loss: 1.0578968524932861 loss_reg: 1.3721253871917725 loss_line: 0.7436681985855103 acc: 1.0 acc_reg: 1.0 acc_line: 1.0: 100%|██████████| 319/319 [00:14<00:00, 21.88it/s]                                             \n",
      "[TRAIN 908, 1] loss: 0.17630159854888916 loss_reg: 0.2286584973335266 loss_line: 0.12394469976425171 acc: 0.1666666716337204 acc_reg: 0.1666666716337204 acc_line: 0.1666666716337204:   1%|          | 2/319 [00:00<00:16, 19.49it/s]"
     ]
    },
    {
     "name": "stdout",
     "output_type": "stream",
     "text": [
      "[VALIDATION 907] val_acc: 0.9918007425742574 val_acc_reg: 0.989944306930693 val_acc_line: 0.9936571782178217 \n"
     ]
    },
    {
     "name": "stderr",
     "output_type": "stream",
     "text": [
      "[TRAIN 908, 319] loss: 1.0591118335723877 loss_reg: 1.3719509840011597 loss_line: 0.7462723255157471 acc: 0.9986979365348816 acc_reg: 1.0 acc_line: 0.9973958730697632: 100%|██████████| 319/319 [00:14<00:00, 21.85it/s]               \n",
      "[TRAIN 909, 1] loss: 0.17760369181632996 loss_reg: 0.2286584973335266 loss_line: 0.1265488713979721 acc: 0.1653645932674408 acc_reg: 0.1666666716337204 acc_line: 0.1640625:   1%|          | 3/319 [00:00<00:14, 21.61it/s]"
     ]
    },
    {
     "name": "stdout",
     "output_type": "stream",
     "text": [
      "[VALIDATION 908] val_acc: 0.9906404702970297 val_acc_reg: 0.9874690594059405 val_acc_line: 0.9938118811881188 \n"
     ]
    },
    {
     "name": "stderr",
     "output_type": "stream",
     "text": [
      "[TRAIN 909, 319] loss: 1.0590790510177612 loss_reg: 1.3719509840011597 loss_line: 0.7462067604064941 acc: 0.9986979365348816 acc_reg: 1.0 acc_line: 0.9973958730697632: 100%|██████████| 319/319 [00:14<00:00, 21.90it/s]            \n",
      "[TRAIN 910, 1] loss: 0.17630159854888916 loss_reg: 0.2286584973335266 loss_line: 0.12394469976425171 acc: 0.1666666716337204 acc_reg: 0.1666666716337204 acc_line: 0.1666666716337204:   1%|          | 2/319 [00:00<00:16, 19.24it/s]"
     ]
    },
    {
     "name": "stdout",
     "output_type": "stream",
     "text": [
      "[VALIDATION 909] val_acc: 0.9906404702970297 val_acc_reg: 0.9876237623762376 val_acc_line: 0.9936571782178217 \n"
     ]
    },
    {
     "name": "stderr",
     "output_type": "stream",
     "text": [
      "[TRAIN 910, 319] loss: 1.0604138374328613 loss_reg: 1.3719509840011597 loss_line: 0.7488765120506287 acc: 0.9973958730697632 acc_reg: 1.0 acc_line: 0.9947916865348816: 100%|██████████| 319/319 [00:14<00:00, 21.88it/s]               \n",
      "[TRAIN 911, 1] loss: 0.17630159854888916 loss_reg: 0.2286584973335266 loss_line: 0.12394469976425171 acc: 0.1666666716337204 acc_reg: 0.1666666716337204 acc_line: 0.1666666716337204:   1%|          | 3/319 [00:00<00:14, 22.40it/s]"
     ]
    },
    {
     "name": "stdout",
     "output_type": "stream",
     "text": [
      "[VALIDATION 910] val_acc: 0.9901763613861386 val_acc_reg: 0.9890160891089109 val_acc_line: 0.9913366336633663 \n"
     ]
    },
    {
     "name": "stderr",
     "output_type": "stream",
     "text": [
      "[TRAIN 911, 319] loss: 1.0578097105026245 loss_reg: 1.3719509840011597 loss_line: 0.7436681985855103 acc: 1.0 acc_reg: 1.0 acc_line: 1.0: 100%|██████████| 319/319 [00:14<00:00, 21.87it/s]                                             \n",
      "[TRAIN 912, 1] loss: 0.17630159854888916 loss_reg: 0.2286584973335266 loss_line: 0.12394469976425171 acc: 0.1666666716337204 acc_reg: 0.1666666716337204 acc_line: 0.1666666716337204:   1%|          | 2/319 [00:00<00:15, 19.83it/s]"
     ]
    },
    {
     "name": "stdout",
     "output_type": "stream",
     "text": [
      "[VALIDATION 911] val_acc: 0.9914139851485149 val_acc_reg: 0.9897896039603961 val_acc_line: 0.9930383663366337 \n"
     ]
    },
    {
     "name": "stderr",
     "output_type": "stream",
     "text": [
      "[TRAIN 912, 319] loss: 1.0580832958221436 loss_reg: 1.3724983930587769 loss_line: 0.7436681985855103 acc: 1.0 acc_reg: 1.0 acc_line: 1.0: 100%|██████████| 319/319 [00:14<00:00, 21.66it/s]                                             \n",
      "[TRAIN 913, 1] loss: 0.17630159854888916 loss_reg: 0.2286584973335266 loss_line: 0.12394469976425171 acc: 0.1666666716337204 acc_reg: 0.1666666716337204 acc_line: 0.1666666716337204:   1%|          | 2/319 [00:00<00:17, 17.65it/s]"
     ]
    },
    {
     "name": "stdout",
     "output_type": "stream",
     "text": [
      "[VALIDATION 912] val_acc: 0.9921101485148515 val_acc_reg: 0.9902537128712872 val_acc_line: 0.9939665841584159 \n"
     ]
    },
    {
     "name": "stderr",
     "output_type": "stream",
     "text": [
      "[TRAIN 913, 319] loss: 1.059000015258789 loss_reg: 1.3743317127227783 loss_line: 0.7436681985855103 acc: 0.9986979365348816 acc_reg: 0.9973958730697632 acc_line: 1.0: 100%|██████████| 319/319 [00:14<00:00, 21.91it/s]                \n",
      "[TRAIN 914, 1] loss: 0.17630159854888916 loss_reg: 0.2286584973335266 loss_line: 0.12394469976425171 acc: 0.1666666716337204 acc_reg: 0.1666666716337204 acc_line: 0.1666666716337204:   1%|          | 3/319 [00:00<00:14, 22.30it/s]"
     ]
    },
    {
     "name": "stdout",
     "output_type": "stream",
     "text": [
      "[VALIDATION 913] val_acc: 0.9925742574257426 val_acc_reg: 0.9904084158415841 val_acc_line: 0.994740099009901 \n"
     ]
    },
    {
     "name": "stderr",
     "output_type": "stream",
     "text": [
      "[TRAIN 914, 319] loss: 1.0591118335723877 loss_reg: 1.3719509840011597 loss_line: 0.7462723255157471 acc: 0.9986979365348816 acc_reg: 1.0 acc_line: 0.9973958730697632: 100%|██████████| 319/319 [00:14<00:00, 21.96it/s]               \n",
      "[TRAIN 915, 1] loss: 0.17630159854888916 loss_reg: 0.2286584973335266 loss_line: 0.12394469976425171 acc: 0.1666666716337204 acc_reg: 0.1666666716337204 acc_line: 0.1666666716337204:   1%|          | 2/319 [00:00<00:17, 17.76it/s]"
     ]
    },
    {
     "name": "stdout",
     "output_type": "stream",
     "text": [
      "[VALIDATION 914] val_acc: 0.9924195544554455 val_acc_reg: 0.9904084158415841 val_acc_line: 0.994430693069307 \n"
     ]
    },
    {
     "name": "stderr",
     "output_type": "stream",
     "text": [
      "[TRAIN 915, 319] loss: 1.0604138374328613 loss_reg: 1.3771593570709229 loss_line: 0.7436681985855103 acc: 0.9973958730697632 acc_reg: 0.9947916865348816 acc_line: 1.0: 100%|██████████| 319/319 [00:14<00:00, 21.98it/s]             \n",
      "[TRAIN 916, 1] loss: 0.17630159854888916 loss_reg: 0.2286584973335266 loss_line: 0.12394469976425171 acc: 0.1666666716337204 acc_reg: 0.1666666716337204 acc_line: 0.1666666716337204:   1%|          | 3/319 [00:00<00:15, 20.74it/s]"
     ]
    },
    {
     "name": "stdout",
     "output_type": "stream",
     "text": [
      "[VALIDATION 915] val_acc: 0.9906404702970297 val_acc_reg: 0.9888613861386139 val_acc_line: 0.9924195544554455 \n"
     ]
    },
    {
     "name": "stderr",
     "output_type": "stream",
     "text": [
      "[TRAIN 916, 319] loss: 1.059116244316101 loss_reg: 1.371952772140503 loss_line: 0.7462796568870544 acc: 0.9986979365348816 acc_reg: 1.0 acc_line: 0.9973958730697632: 100%|██████████| 319/319 [00:14<00:00, 21.87it/s]                 \n",
      "[TRAIN 917, 1] loss: 0.17630159854888916 loss_reg: 0.2286584973335266 loss_line: 0.12394469976425171 acc: 0.1666666716337204 acc_reg: 0.1666666716337204 acc_line: 0.1666666716337204:   1%|          | 2/319 [00:00<00:17, 18.45it/s]"
     ]
    },
    {
     "name": "stdout",
     "output_type": "stream",
     "text": [
      "[VALIDATION 916] val_acc: 0.9901763613861386 val_acc_reg: 0.9876237623762376 val_acc_line: 0.9927289603960396 \n"
     ]
    },
    {
     "name": "stderr",
     "output_type": "stream",
     "text": [
      "[TRAIN 917, 319] loss: 1.0578097105026245 loss_reg: 1.3719509840011597 loss_line: 0.7436681985855103 acc: 1.0 acc_reg: 1.0 acc_line: 1.0: 100%|██████████| 319/319 [00:14<00:00, 21.80it/s]                                             \n",
      "[TRAIN 918, 1] loss: 0.17630159854888916 loss_reg: 0.2286584973335266 loss_line: 0.12394469976425171 acc: 0.1666666716337204 acc_reg: 0.1666666716337204 acc_line: 0.1666666716337204:   1%|          | 2/319 [00:00<00:16, 19.16it/s]"
     ]
    },
    {
     "name": "stdout",
     "output_type": "stream",
     "text": [
      "[VALIDATION 917] val_acc: 0.9895575495049505 val_acc_reg: 0.9877784653465347 val_acc_line: 0.9913366336633663 \n"
     ]
    },
    {
     "name": "stderr",
     "output_type": "stream",
     "text": [
      "[TRAIN 918, 319] loss: 1.0578097105026245 loss_reg: 1.3719509840011597 loss_line: 0.7436681985855103 acc: 1.0 acc_reg: 1.0 acc_line: 1.0: 100%|██████████| 319/319 [00:14<00:00, 21.88it/s]                                             \n",
      "[TRAIN 919, 1] loss: 0.17760369181632996 loss_reg: 0.231262668967247 loss_line: 0.12394469976425171 acc: 0.1653645932674408 acc_reg: 0.1640625 acc_line: 0.1666666716337204:   1%|          | 2/319 [00:00<00:16, 19.49it/s]"
     ]
    },
    {
     "name": "stdout",
     "output_type": "stream",
     "text": [
      "[VALIDATION 918] val_acc: 0.9898669554455446 val_acc_reg: 0.9873143564356436 val_acc_line: 0.9924195544554455 \n"
     ]
    },
    {
     "name": "stderr",
     "output_type": "stream",
     "text": [
      "[TRAIN 919, 319] loss: 1.0591118335723877 loss_reg: 1.3719509840011597 loss_line: 0.7462724447250366 acc: 0.9986979365348816 acc_reg: 1.0 acc_line: 0.9973958730697632: 100%|██████████| 319/319 [00:14<00:00, 21.92it/s]               \n",
      "[TRAIN 920, 1] loss: 0.17630159854888916 loss_reg: 0.2286584973335266 loss_line: 0.12394469976425171 acc: 0.1666666716337204 acc_reg: 0.1666666716337204 acc_line: 0.1666666716337204:   1%|          | 3/319 [00:00<00:14, 21.86it/s]"
     ]
    },
    {
     "name": "stdout",
     "output_type": "stream",
     "text": [
      "[VALIDATION 919] val_acc: 0.9894028465346535 val_acc_reg: 0.9874690594059405 val_acc_line: 0.9913366336633663 \n"
     ]
    },
    {
     "name": "stderr",
     "output_type": "stream",
     "text": [
      "[TRAIN 920, 319] loss: 1.0599470138549805 loss_reg: 1.3736217021942139 loss_line: 0.7462723255157471 acc: 0.9973958730697632 acc_reg: 0.9973958730697632 acc_line: 0.9973958730697632: 100%|██████████| 319/319 [00:14<00:00, 21.91it/s]\n",
      "[TRAIN 921, 1] loss: 0.17630159854888916 loss_reg: 0.2286584973335266 loss_line: 0.12394469976425171 acc: 0.1666666716337204 acc_reg: 0.1666666716337204 acc_line: 0.1666666716337204:   1%|          | 3/319 [00:00<00:15, 20.28it/s]"
     ]
    },
    {
     "name": "stdout",
     "output_type": "stream",
     "text": [
      "[VALIDATION 920] val_acc: 0.9914913366336634 val_acc_reg: 0.989480198019802 val_acc_line: 0.9935024752475248 \n"
     ]
    },
    {
     "name": "stderr",
     "output_type": "stream",
     "text": [
      "[TRAIN 921, 319] loss: 1.0591118335723877 loss_reg: 1.3719509840011597 loss_line: 0.7462723255157471 acc: 0.9986979365348816 acc_reg: 1.0 acc_line: 0.9973958730697632: 100%|██████████| 319/319 [00:14<00:00, 21.91it/s]               \n",
      "[TRAIN 922, 1] loss: 0.17890577018260956 loss_reg: 0.231262668967247 loss_line: 0.1265488713979721 acc: 0.1640625 acc_reg: 0.1640625 acc_line: 0.1640625:   1%|          | 3/319 [00:00<00:15, 20.17it/s]"
     ]
    },
    {
     "name": "stdout",
     "output_type": "stream",
     "text": [
      "[VALIDATION 921] val_acc: 0.9901763613861386 val_acc_reg: 0.9876237623762376 val_acc_line: 0.9927289603960396 \n"
     ]
    },
    {
     "name": "stderr",
     "output_type": "stream",
     "text": [
      "[TRAIN 922, 319] loss: 1.0578097105026245 loss_reg: 1.3719509840011597 loss_line: 0.743668258190155 acc: 1.0 acc_reg: 1.0 acc_line: 1.0: 100%|██████████| 319/319 [00:14<00:00, 21.82it/s]                                              \n",
      "[TRAIN 923, 1] loss: 0.17630159854888916 loss_reg: 0.2286584973335266 loss_line: 0.12394469976425171 acc: 0.1666666716337204 acc_reg: 0.1666666716337204 acc_line: 0.1666666716337204:   1%|          | 3/319 [00:00<00:14, 21.29it/s]"
     ]
    },
    {
     "name": "stdout",
     "output_type": "stream",
     "text": [
      "[VALIDATION 922] val_acc: 0.9897896039603961 val_acc_reg: 0.9873143564356436 val_acc_line: 0.9922648514851485 \n"
     ]
    },
    {
     "name": "stderr",
     "output_type": "stream",
     "text": [
      "[TRAIN 923, 319] loss: 1.0578097105026245 loss_reg: 1.3719509840011597 loss_line: 0.7436681985855103 acc: 1.0 acc_reg: 1.0 acc_line: 1.0: 100%|██████████| 319/319 [00:14<00:00, 21.89it/s]                                             \n",
      "[TRAIN 924, 1] loss: 0.17630159854888916 loss_reg: 0.2286584973335266 loss_line: 0.12394469976425171 acc: 0.1666666716337204 acc_reg: 0.1666666716337204 acc_line: 0.1666666716337204:   1%|          | 2/319 [00:00<00:16, 19.57it/s]"
     ]
    },
    {
     "name": "stdout",
     "output_type": "stream",
     "text": [
      "[VALIDATION 923] val_acc: 0.9912592821782178 val_acc_reg: 0.9890160891089109 val_acc_line: 0.9935024752475248 \n"
     ]
    },
    {
     "name": "stderr",
     "output_type": "stream",
     "text": [
      "[TRAIN 924, 319] loss: 1.0591118335723877 loss_reg: 1.3745553493499756 loss_line: 0.7436681985855103 acc: 0.9986979365348816 acc_reg: 0.9973958730697632 acc_line: 1.0: 100%|██████████| 319/319 [00:14<00:00, 21.88it/s]               \n",
      "[TRAIN 925, 1] loss: 0.17630159854888916 loss_reg: 0.2286584973335266 loss_line: 0.12394469976425171 acc: 0.1666666716337204 acc_reg: 0.1666666716337204 acc_line: 0.1666666716337204:   1%|          | 3/319 [00:00<00:14, 21.52it/s]"
     ]
    },
    {
     "name": "stdout",
     "output_type": "stream",
     "text": [
      "[VALIDATION 924] val_acc: 0.9900216584158416 val_acc_reg: 0.9877784653465347 val_acc_line: 0.9922648514851485 \n"
     ]
    },
    {
     "name": "stderr",
     "output_type": "stream",
     "text": [
      "[TRAIN 925, 319] loss: 1.0591118335723877 loss_reg: 1.3745551109313965 loss_line: 0.7436681985855103 acc: 0.9986979365348816 acc_reg: 0.9973958730697632 acc_line: 1.0: 100%|██████████| 319/319 [00:14<00:00, 21.98it/s]               \n",
      "[TRAIN 926, 1] loss: 0.17630159854888916 loss_reg: 0.2286584973335266 loss_line: 0.12394469976425171 acc: 0.1666666716337204 acc_reg: 0.1666666716337204 acc_line: 0.1666666716337204:   1%|          | 2/319 [00:00<00:16, 19.06it/s]"
     ]
    },
    {
     "name": "stdout",
     "output_type": "stream",
     "text": [
      "[VALIDATION 925] val_acc: 0.991878094059406 val_acc_reg: 0.9900990099009901 val_acc_line: 0.9936571782178217 \n"
     ]
    },
    {
     "name": "stderr",
     "output_type": "stream",
     "text": [
      "[TRAIN 926, 319] loss: 1.0591118335723877 loss_reg: 1.3745551109313965 loss_line: 0.7436681985855103 acc: 0.9986979365348816 acc_reg: 0.9973958730697632 acc_line: 1.0: 100%|██████████| 319/319 [00:14<00:00, 22.05it/s]               \n",
      "[TRAIN 927, 1] loss: 0.17630159854888916 loss_reg: 0.2286584973335266 loss_line: 0.12394469976425171 acc: 0.1666666716337204 acc_reg: 0.1666666716337204 acc_line: 0.1666666716337204:   1%|          | 3/319 [00:00<00:15, 20.48it/s]"
     ]
    },
    {
     "name": "stdout",
     "output_type": "stream",
     "text": [
      "[VALIDATION 926] val_acc: 0.991878094059406 val_acc_reg: 0.9902537128712872 val_acc_line: 0.9935024752475248 \n"
     ]
    },
    {
     "name": "stderr",
     "output_type": "stream",
     "text": [
      "[TRAIN 927, 319] loss: 1.059823751449585 loss_reg: 1.375978946685791 loss_line: 0.7436681985855103 acc: 0.9973958730697632 acc_reg: 0.9947916865348816 acc_line: 1.0: 100%|██████████| 319/319 [00:14<00:00, 21.96it/s]                 \n",
      "[TRAIN 928, 1] loss: 0.17630159854888916 loss_reg: 0.2286584973335266 loss_line: 0.12394469976425171 acc: 0.1666666716337204 acc_reg: 0.1666666716337204 acc_line: 0.1666666716337204:   1%|          | 2/319 [00:00<00:16, 19.80it/s]"
     ]
    },
    {
     "name": "stdout",
     "output_type": "stream",
     "text": [
      "[VALIDATION 927] val_acc: 0.9911819306930693 val_acc_reg: 0.9888613861386139 val_acc_line: 0.9935024752475248 \n"
     ]
    },
    {
     "name": "stderr",
     "output_type": "stream",
     "text": [
      "[TRAIN 928, 319] loss: 1.0604138374328613 loss_reg: 1.3771594762802124 loss_line: 0.7436681985855103 acc: 0.9973958730697632 acc_reg: 0.9947916865348816 acc_line: 1.0: 100%|██████████| 319/319 [00:14<00:00, 21.82it/s]               \n",
      "[TRAIN 929, 1] loss: 0.17630159854888916 loss_reg: 0.2286584973335266 loss_line: 0.12394469976425171 acc: 0.1666666716337204 acc_reg: 0.1666666716337204 acc_line: 0.1666666716337204:   1%|          | 2/319 [00:00<00:16, 18.82it/s]"
     ]
    },
    {
     "name": "stdout",
     "output_type": "stream",
     "text": [
      "[VALIDATION 928] val_acc: 0.9912592821782178 val_acc_reg: 0.9891707920792079 val_acc_line: 0.9933477722772277 \n"
     ]
    },
    {
     "name": "stderr",
     "output_type": "stream",
     "text": [
      "[TRAIN 929, 319] loss: 1.0578097105026245 loss_reg: 1.3719509840011597 loss_line: 0.7436681985855103 acc: 1.0 acc_reg: 1.0 acc_line: 1.0: 100%|██████████| 319/319 [00:14<00:00, 21.76it/s]                                             \n",
      "[TRAIN 930, 1] loss: 0.17630159854888916 loss_reg: 0.2286584973335266 loss_line: 0.12394469976425171 acc: 0.1666666716337204 acc_reg: 0.1666666716337204 acc_line: 0.1666666716337204:   1%|          | 3/319 [00:00<00:14, 21.69it/s]"
     ]
    },
    {
     "name": "stdout",
     "output_type": "stream",
     "text": [
      "[VALIDATION 929] val_acc: 0.9921101485148515 val_acc_reg: 0.9913366336633663 val_acc_line: 0.9928836633663366 \n"
     ]
    },
    {
     "name": "stderr",
     "output_type": "stream",
     "text": [
      "[TRAIN 930, 319] loss: 1.05912446975708 loss_reg: 1.3719509840011597 loss_line: 0.7462978363037109 acc: 0.9986979365348816 acc_reg: 1.0 acc_line: 0.9973958730697632: 100%|██████████| 319/319 [00:14<00:00, 21.84it/s]                 \n",
      "[TRAIN 931, 1] loss: 0.17760375142097473 loss_reg: 0.2286584973335266 loss_line: 0.12654899060726166 acc: 0.1653645932674408 acc_reg: 0.1666666716337204 acc_line: 0.1640625:   1%|          | 2/319 [00:00<00:17, 18.08it/s]"
     ]
    },
    {
     "name": "stdout",
     "output_type": "stream",
     "text": [
      "[VALIDATION 930] val_acc: 0.9914913366336634 val_acc_reg: 0.9908725247524752 val_acc_line: 0.9921101485148515 \n"
     ]
    },
    {
     "name": "stderr",
     "output_type": "stream",
     "text": [
      "[TRAIN 931, 319] loss: 1.0578097105026245 loss_reg: 1.3719509840011597 loss_line: 0.7436681985855103 acc: 1.0 acc_reg: 1.0 acc_line: 1.0: 100%|██████████| 319/319 [00:14<00:00, 21.87it/s]                                             \n",
      "[TRAIN 932, 1] loss: 0.17630159854888916 loss_reg: 0.2286584973335266 loss_line: 0.12394469976425171 acc: 0.1666666716337204 acc_reg: 0.1666666716337204 acc_line: 0.1666666716337204:   1%|          | 2/319 [00:00<00:16, 19.45it/s]"
     ]
    },
    {
     "name": "stdout",
     "output_type": "stream",
     "text": [
      "[VALIDATION 931] val_acc: 0.989480198019802 val_acc_reg: 0.9868502475247525 val_acc_line: 0.9921101485148515 \n"
     ]
    },
    {
     "name": "stderr",
     "output_type": "stream",
     "text": [
      "[TRAIN 932, 319] loss: 1.0578160285949707 loss_reg: 1.3719509840011597 loss_line: 0.7436808943748474 acc: 1.0 acc_reg: 1.0 acc_line: 1.0: 100%|██████████| 319/319 [00:14<00:00, 21.95it/s]                                             \n",
      "[TRAIN 933, 1] loss: 0.17630159854888916 loss_reg: 0.2286584973335266 loss_line: 0.12394469976425171 acc: 0.1666666716337204 acc_reg: 0.1666666716337204 acc_line: 0.1666666716337204:   1%|          | 3/319 [00:00<00:14, 22.00it/s]"
     ]
    },
    {
     "name": "stdout",
     "output_type": "stream",
     "text": [
      "[VALIDATION 932] val_acc: 0.9907178217821783 val_acc_reg: 0.9900990099009901 val_acc_line: 0.9913366336633663 \n"
     ]
    },
    {
     "name": "stderr",
     "output_type": "stream",
     "text": [
      "[TRAIN 933, 319] loss: 1.0578097105026245 loss_reg: 1.3719509840011597 loss_line: 0.7436681985855103 acc: 1.0 acc_reg: 1.0 acc_line: 1.0: 100%|██████████| 319/319 [00:14<00:00, 21.98it/s]                                             \n",
      "[TRAIN 934, 1] loss: 0.17630159854888916 loss_reg: 0.2286584973335266 loss_line: 0.12394469976425171 acc: 0.1666666716337204 acc_reg: 0.1666666716337204 acc_line: 0.1666666716337204:   1%|          | 2/319 [00:00<00:16, 19.55it/s]"
     ]
    },
    {
     "name": "stdout",
     "output_type": "stream",
     "text": [
      "[VALIDATION 933] val_acc: 0.9916460396039604 val_acc_reg: 0.989944306930693 val_acc_line: 0.9933477722772277 \n"
     ]
    },
    {
     "name": "stderr",
     "output_type": "stream",
     "text": [
      "[TRAIN 934, 319] loss: 1.0578097105026245 loss_reg: 1.3719509840011597 loss_line: 0.7436681985855103 acc: 1.0 acc_reg: 1.0 acc_line: 1.0: 100%|██████████| 319/319 [00:14<00:00, 21.99it/s]                                             \n",
      "[TRAIN 935, 1] loss: 0.17630159854888916 loss_reg: 0.2286584973335266 loss_line: 0.1239447146654129 acc: 0.1666666716337204 acc_reg: 0.1666666716337204 acc_line: 0.1666666716337204:   1%|          | 3/319 [00:00<00:15, 20.91it/s]"
     ]
    },
    {
     "name": "stdout",
     "output_type": "stream",
     "text": [
      "[VALIDATION 934] val_acc: 0.9927289603960396 val_acc_reg: 0.9908725247524752 val_acc_line: 0.9945853960396039 \n"
     ]
    },
    {
     "name": "stderr",
     "output_type": "stream",
     "text": [
      "[TRAIN 935, 319] loss: 1.0591118335723877 loss_reg: 1.3719509840011597 loss_line: 0.7462723255157471 acc: 0.9986979365348816 acc_reg: 1.0 acc_line: 0.9973958730697632: 100%|██████████| 319/319 [00:14<00:00, 22.00it/s]               \n",
      "[TRAIN 936, 1] loss: 0.17630159854888916 loss_reg: 0.2286584973335266 loss_line: 0.12394469976425171 acc: 0.1666666716337204 acc_reg: 0.1666666716337204 acc_line: 0.1666666716337204:   1%|          | 2/319 [00:00<00:16, 19.80it/s]"
     ]
    },
    {
     "name": "stdout",
     "output_type": "stream",
     "text": [
      "[VALIDATION 935] val_acc: 0.9911819306930693 val_acc_reg: 0.989634900990099 val_acc_line: 0.9927289603960396 \n"
     ]
    },
    {
     "name": "stderr",
     "output_type": "stream",
     "text": [
      "[TRAIN 936, 319] loss: 1.0591118335723877 loss_reg: 1.3745553493499756 loss_line: 0.7436681985855103 acc: 0.9986979365348816 acc_reg: 0.9973958730697632 acc_line: 1.0: 100%|██████████| 319/319 [00:14<00:00, 21.91it/s]             \n",
      "[TRAIN 937, 1] loss: 0.17630159854888916 loss_reg: 0.2286584973335266 loss_line: 0.12394469976425171 acc: 0.1666666716337204 acc_reg: 0.1666666716337204 acc_line: 0.1666666716337204:   1%|          | 2/319 [00:00<00:16, 19.06it/s]"
     ]
    },
    {
     "name": "stdout",
     "output_type": "stream",
     "text": [
      "[VALIDATION 936] val_acc: 0.9916460396039604 val_acc_reg: 0.989325495049505 val_acc_line: 0.9939665841584159 \n"
     ]
    },
    {
     "name": "stderr",
     "output_type": "stream",
     "text": [
      "[TRAIN 937, 319] loss: 1.0578196048736572 loss_reg: 1.3719706535339355 loss_line: 0.7436681985855103 acc: 1.0 acc_reg: 1.0 acc_line: 1.0: 100%|██████████| 319/319 [00:14<00:00, 21.83it/s]                                             \n",
      "[TRAIN 938, 1] loss: 0.17630159854888916 loss_reg: 0.2286584973335266 loss_line: 0.12394469976425171 acc: 0.1666666716337204 acc_reg: 0.1666666716337204 acc_line: 0.1666666716337204:   1%|          | 2/319 [00:00<00:15, 19.84it/s]"
     ]
    },
    {
     "name": "stdout",
     "output_type": "stream",
     "text": [
      "[VALIDATION 937] val_acc: 0.991878094059406 val_acc_reg: 0.9888613861386139 val_acc_line: 0.994894801980198 \n"
     ]
    },
    {
     "name": "stderr",
     "output_type": "stream",
     "text": [
      "[TRAIN 938, 319] loss: 1.0591108798980713 loss_reg: 1.3719509840011597 loss_line: 0.7462705969810486 acc: 0.9986979365348816 acc_reg: 1.0 acc_line: 0.9973958730697632: 100%|██████████| 319/319 [00:14<00:00, 21.87it/s]               \n",
      "[TRAIN 939, 1] loss: 0.17630159854888916 loss_reg: 0.2286584973335266 loss_line: 0.12394469976425171 acc: 0.1666666716337204 acc_reg: 0.1666666716337204 acc_line: 0.1666666716337204:   1%|          | 3/319 [00:00<00:15, 20.93it/s]"
     ]
    },
    {
     "name": "stdout",
     "output_type": "stream",
     "text": [
      "[VALIDATION 938] val_acc: 0.9928063118811881 val_acc_reg: 0.9913366336633663 val_acc_line: 0.9942759900990099 \n"
     ]
    },
    {
     "name": "stderr",
     "output_type": "stream",
     "text": [
      "[TRAIN 939, 319] loss: 1.0578097105026245 loss_reg: 1.3719509840011597 loss_line: 0.7436681985855103 acc: 1.0 acc_reg: 1.0 acc_line: 1.0: 100%|██████████| 319/319 [00:14<00:00, 21.92it/s]                                             \n",
      "[TRAIN 940, 1] loss: 0.17630159854888916 loss_reg: 0.2286584973335266 loss_line: 0.12394469976425171 acc: 0.1666666716337204 acc_reg: 0.1666666716337204 acc_line: 0.1666666716337204:   1%|          | 3/319 [00:00<00:13, 22.60it/s]"
     ]
    },
    {
     "name": "stdout",
     "output_type": "stream",
     "text": [
      "[VALIDATION 939] val_acc: 0.9918007425742574 val_acc_reg: 0.9900990099009901 val_acc_line: 0.9935024752475248 \n"
     ]
    },
    {
     "name": "stderr",
     "output_type": "stream",
     "text": [
      "[TRAIN 940, 319] loss: 1.0578097105026245 loss_reg: 1.3719509840011597 loss_line: 0.7436681985855103 acc: 1.0 acc_reg: 1.0 acc_line: 1.0: 100%|██████████| 319/319 [00:14<00:00, 21.96it/s]                                             \n",
      "[TRAIN 941, 1] loss: 0.17630159854888916 loss_reg: 0.2286584973335266 loss_line: 0.12394469976425171 acc: 0.1666666716337204 acc_reg: 0.1666666716337204 acc_line: 0.1666666716337204:   1%|          | 3/319 [00:00<00:14, 21.72it/s]"
     ]
    },
    {
     "name": "stdout",
     "output_type": "stream",
     "text": [
      "[VALIDATION 940] val_acc: 0.9914913366336634 val_acc_reg: 0.989944306930693 val_acc_line: 0.9930383663366337 \n"
     ]
    },
    {
     "name": "stderr",
     "output_type": "stream",
     "text": [
      "[TRAIN 941, 319] loss: 1.0578097105026245 loss_reg: 1.3719511032104492 loss_line: 0.7436681985855103 acc: 1.0 acc_reg: 1.0 acc_line: 1.0: 100%|██████████| 319/319 [00:14<00:00, 21.97it/s]                                             \n",
      "[TRAIN 942, 1] loss: 0.17630159854888916 loss_reg: 0.2286584973335266 loss_line: 0.12394469976425171 acc: 0.1666666716337204 acc_reg: 0.1666666716337204 acc_line: 0.1666666716337204:   1%|          | 2/319 [00:00<00:16, 19.71it/s]"
     ]
    },
    {
     "name": "stdout",
     "output_type": "stream",
     "text": [
      "[VALIDATION 941] val_acc: 0.9913366336633663 val_acc_reg: 0.9883972772277227 val_acc_line: 0.9942759900990099 \n"
     ]
    },
    {
     "name": "stderr",
     "output_type": "stream",
     "text": [
      "[TRAIN 942, 319] loss: 1.0578097105026245 loss_reg: 1.3719509840011597 loss_line: 0.7436681985855103 acc: 1.0 acc_reg: 1.0 acc_line: 1.0: 100%|██████████| 319/319 [00:14<00:00, 21.90it/s]                                             \n",
      "[TRAIN 943, 1] loss: 0.17630159854888916 loss_reg: 0.2286584973335266 loss_line: 0.12394469976425171 acc: 0.1666666716337204 acc_reg: 0.1666666716337204 acc_line: 0.1666666716337204:   1%|          | 2/319 [00:00<00:16, 19.31it/s]"
     ]
    },
    {
     "name": "stdout",
     "output_type": "stream",
     "text": [
      "[VALIDATION 942] val_acc: 0.9907178217821783 val_acc_reg: 0.9880878712871287 val_acc_line: 0.9933477722772277 \n"
     ]
    },
    {
     "name": "stderr",
     "output_type": "stream",
     "text": [
      "[TRAIN 943, 319] loss: 1.0591118335723877 loss_reg: 1.3745551109313965 loss_line: 0.7436681985855103 acc: 0.9986979365348816 acc_reg: 0.9973958730697632 acc_line: 1.0: 100%|██████████| 319/319 [00:14<00:00, 21.95it/s]               \n",
      "[TRAIN 944, 1] loss: 0.17630159854888916 loss_reg: 0.2286584973335266 loss_line: 0.12394469976425171 acc: 0.1666666716337204 acc_reg: 0.1666666716337204 acc_line: 0.1666666716337204:   1%|          | 2/319 [00:00<00:16, 19.11it/s]"
     ]
    },
    {
     "name": "stdout",
     "output_type": "stream",
     "text": [
      "[VALIDATION 943] val_acc: 0.9926516089108911 val_acc_reg: 0.989480198019802 val_acc_line: 0.9958230198019802 \n"
     ]
    },
    {
     "name": "stderr",
     "output_type": "stream",
     "text": [
      "[TRAIN 944, 319] loss: 1.0591118335723877 loss_reg: 1.3745553493499756 loss_line: 0.7436681985855103 acc: 0.9986979365348816 acc_reg: 0.9973958730697632 acc_line: 1.0: 100%|██████████| 319/319 [00:14<00:00, 21.92it/s]               \n",
      "[TRAIN 945, 1] loss: 0.17630159854888916 loss_reg: 0.2286584973335266 loss_line: 0.12394469976425171 acc: 0.1666666716337204 acc_reg: 0.1666666716337204 acc_line: 0.1666666716337204:   1%|          | 3/319 [00:00<00:14, 21.75it/s]"
     ]
    },
    {
     "name": "stdout",
     "output_type": "stream",
     "text": [
      "[VALIDATION 944] val_acc: 0.9903310643564357 val_acc_reg: 0.9882425742574258 val_acc_line: 0.9924195544554455 \n"
     ]
    },
    {
     "name": "stderr",
     "output_type": "stream",
     "text": [
      "[TRAIN 945, 319] loss: 1.0591118335723877 loss_reg: 1.3719511032104492 loss_line: 0.7462723255157471 acc: 0.9986979365348816 acc_reg: 1.0 acc_line: 0.9973958730697632: 100%|██████████| 319/319 [00:14<00:00, 21.79it/s]             \n",
      "[TRAIN 946, 1] loss: 0.17630159854888916 loss_reg: 0.2286584973335266 loss_line: 0.1239447146654129 acc: 0.1666666716337204 acc_reg: 0.1666666716337204 acc_line: 0.1666666716337204:   1%|          | 3/319 [00:00<00:14, 22.48it/s]"
     ]
    },
    {
     "name": "stdout",
     "output_type": "stream",
     "text": [
      "[VALIDATION 945] val_acc: 0.9908725247524752 val_acc_reg: 0.989325495049505 val_acc_line: 0.9924195544554455 \n"
     ]
    },
    {
     "name": "stderr",
     "output_type": "stream",
     "text": [
      "[TRAIN 946, 319] loss: 1.0578097105026245 loss_reg: 1.3719509840011597 loss_line: 0.7436681985855103 acc: 1.0 acc_reg: 1.0 acc_line: 1.0: 100%|██████████| 319/319 [00:14<00:00, 21.94it/s]                                             \n",
      "[TRAIN 947, 1] loss: 0.17630159854888916 loss_reg: 0.2286584973335266 loss_line: 0.12394469976425171 acc: 0.1666666716337204 acc_reg: 0.1666666716337204 acc_line: 0.1666666716337204:   1%|          | 2/319 [00:00<00:19, 16.51it/s]"
     ]
    },
    {
     "name": "stdout",
     "output_type": "stream",
     "text": [
      "[VALIDATION 946] val_acc: 0.9908725247524752 val_acc_reg: 0.9874690594059405 val_acc_line: 0.9942759900990099 \n"
     ]
    },
    {
     "name": "stderr",
     "output_type": "stream",
     "text": [
      "[TRAIN 947, 319] loss: 1.0578097105026245 loss_reg: 1.3719509840011597 loss_line: 0.7436681985855103 acc: 1.0 acc_reg: 1.0 acc_line: 1.0: 100%|██████████| 319/319 [00:14<00:00, 21.90it/s]                                             \n",
      "[TRAIN 948, 1] loss: 0.17630164325237274 loss_reg: 0.22865860164165497 loss_line: 0.12394469976425171 acc: 0.1666666716337204 acc_reg: 0.1666666716337204 acc_line: 0.1666666716337204:   1%|          | 3/319 [00:00<00:14, 22.25it/s]"
     ]
    },
    {
     "name": "stdout",
     "output_type": "stream",
     "text": [
      "[VALIDATION 947] val_acc: 0.9910272277227723 val_acc_reg: 0.989480198019802 val_acc_line: 0.9925742574257426 \n"
     ]
    },
    {
     "name": "stderr",
     "output_type": "stream",
     "text": [
      "[TRAIN 948, 319] loss: 1.0578097105026245 loss_reg: 1.3719509840011597 loss_line: 0.7436681985855103 acc: 1.0 acc_reg: 1.0 acc_line: 1.0: 100%|██████████| 319/319 [00:14<00:00, 21.97it/s]                                             \n",
      "[TRAIN 949, 1] loss: 0.17630212008953094 loss_reg: 0.22865954041481018 loss_line: 0.12394469976425171 acc: 0.1666666716337204 acc_reg: 0.1666666716337204 acc_line: 0.1666666716337204:   1%|          | 3/319 [00:00<00:13, 23.08it/s]"
     ]
    },
    {
     "name": "stdout",
     "output_type": "stream",
     "text": [
      "[VALIDATION 948] val_acc: 0.9913366336633663 val_acc_reg: 0.9887066831683168 val_acc_line: 0.9939665841584159 \n"
     ]
    },
    {
     "name": "stderr",
     "output_type": "stream",
     "text": [
      "[TRAIN 949, 319] loss: 1.0578134059906006 loss_reg: 1.3719509840011597 loss_line: 0.7436755895614624 acc: 1.0 acc_reg: 1.0 acc_line: 1.0: 100%|██████████| 319/319 [00:14<00:00, 21.83it/s]                                             \n",
      "[TRAIN 950, 1] loss: 0.17630159854888916 loss_reg: 0.2286584973335266 loss_line: 0.1239447146654129 acc: 0.1666666716337204 acc_reg: 0.1666666716337204 acc_line: 0.1666666716337204:   1%|          | 3/319 [00:00<00:15, 21.02it/s]"
     ]
    },
    {
     "name": "stdout",
     "output_type": "stream",
     "text": [
      "[VALIDATION 949] val_acc: 0.9909498762376238 val_acc_reg: 0.9880878712871287 val_acc_line: 0.9938118811881188 \n"
     ]
    },
    {
     "name": "stderr",
     "output_type": "stream",
     "text": [
      "[TRAIN 950, 319] loss: 1.059080958366394 loss_reg: 1.3744934797286987 loss_line: 0.7436681985855103 acc: 0.9986979365348816 acc_reg: 0.9973958730697632 acc_line: 1.0: 100%|██████████| 319/319 [00:14<00:00, 21.95it/s]              \n",
      "[TRAIN 951, 1] loss: 0.17630159854888916 loss_reg: 0.2286584973335266 loss_line: 0.12394469976425171 acc: 0.1666666716337204 acc_reg: 0.1666666716337204 acc_line: 0.1666666716337204:   1%|          | 3/319 [00:00<00:15, 20.86it/s]"
     ]
    },
    {
     "name": "stdout",
     "output_type": "stream",
     "text": [
      "[VALIDATION 950] val_acc: 0.9918007425742574 val_acc_reg: 0.9911819306930693 val_acc_line: 0.9924195544554455 \n"
     ]
    },
    {
     "name": "stderr",
     "output_type": "stream",
     "text": [
      "[TRAIN 951, 319] loss: 1.057809829711914 loss_reg: 1.3719509840011597 loss_line: 0.7436684370040894 acc: 1.0 acc_reg: 1.0 acc_line: 1.0: 100%|██████████| 319/319 [00:14<00:00, 22.01it/s]                                              \n",
      "[TRAIN 952, 1] loss: 0.17630159854888916 loss_reg: 0.2286584973335266 loss_line: 0.12394469976425171 acc: 0.1666666716337204 acc_reg: 0.1666666716337204 acc_line: 0.1666666716337204:   1%|          | 2/319 [00:00<00:16, 19.41it/s]"
     ]
    },
    {
     "name": "stdout",
     "output_type": "stream",
     "text": [
      "[VALIDATION 951] val_acc: 0.992496905940594 val_acc_reg: 0.9913366336633663 val_acc_line: 0.9936571782178217 \n"
     ]
    },
    {
     "name": "stderr",
     "output_type": "stream",
     "text": [
      "[TRAIN 952, 319] loss: 1.0591118335723877 loss_reg: 1.3745551109313965 loss_line: 0.7436681985855103 acc: 0.9986979365348816 acc_reg: 0.9973958730697632 acc_line: 1.0: 100%|██████████| 319/319 [00:14<00:00, 21.82it/s]               \n",
      "[TRAIN 953, 1] loss: 0.17760369181632996 loss_reg: 0.231262668967247 loss_line: 0.12394469976425171 acc: 0.1653645932674408 acc_reg: 0.1640625 acc_line: 0.1666666716337204:   1%|          | 3/319 [00:00<00:14, 22.32it/s]"
     ]
    },
    {
     "name": "stdout",
     "output_type": "stream",
     "text": [
      "[VALIDATION 952] val_acc: 0.9912592821782178 val_acc_reg: 0.9888613861386139 val_acc_line: 0.9936571782178217 \n"
     ]
    },
    {
     "name": "stderr",
     "output_type": "stream",
     "text": [
      "[TRAIN 953, 319] loss: 1.057813048362732 loss_reg: 1.3719509840011597 loss_line: 0.7436747550964355 acc: 1.0 acc_reg: 1.0 acc_line: 1.0: 100%|██████████| 319/319 [00:14<00:00, 21.73it/s]                                              \n",
      "[TRAIN 954, 1] loss: 0.17630159854888916 loss_reg: 0.2286584973335266 loss_line: 0.12394469976425171 acc: 0.1666666716337204 acc_reg: 0.1666666716337204 acc_line: 0.1666666716337204:   1%|          | 3/319 [00:00<00:14, 22.46it/s]"
     ]
    },
    {
     "name": "stdout",
     "output_type": "stream",
     "text": [
      "[VALIDATION 953] val_acc: 0.9914913366336634 val_acc_reg: 0.9900990099009901 val_acc_line: 0.9928836633663366 \n"
     ]
    },
    {
     "name": "stderr",
     "output_type": "stream",
     "text": [
      "[TRAIN 954, 319] loss: 1.0616786479949951 loss_reg: 1.3796889781951904 loss_line: 0.7436681985855103 acc: 0.99609375 acc_reg: 0.9921875 acc_line: 1.0: 100%|██████████| 319/319 [00:14<00:00, 21.79it/s]                                \n",
      "[TRAIN 955, 1] loss: 0.17630159854888916 loss_reg: 0.2286584973335266 loss_line: 0.1239447221159935 acc: 0.1666666716337204 acc_reg: 0.1666666716337204 acc_line: 0.1666666716337204:   1%|          | 3/319 [00:00<00:14, 22.53it/s]"
     ]
    },
    {
     "name": "stdout",
     "output_type": "stream",
     "text": [
      "[VALIDATION 954] val_acc: 0.9906404702970297 val_acc_reg: 0.9879331683168316 val_acc_line: 0.9933477722772277 \n"
     ]
    },
    {
     "name": "stderr",
     "output_type": "stream",
     "text": [
      "[TRAIN 955, 319] loss: 1.0591118335723877 loss_reg: 1.3719509840011597 loss_line: 0.7462723255157471 acc: 0.9986979365348816 acc_reg: 1.0 acc_line: 0.9973958730697632: 100%|██████████| 319/319 [00:14<00:00, 21.74it/s]               \n",
      "[TRAIN 956, 1] loss: 0.17630159854888916 loss_reg: 0.2286584973335266 loss_line: 0.12394469976425171 acc: 0.1666666716337204 acc_reg: 0.1666666716337204 acc_line: 0.1666666716337204:   1%|          | 2/319 [00:00<00:16, 19.17it/s]"
     ]
    },
    {
     "name": "stdout",
     "output_type": "stream",
     "text": [
      "[VALIDATION 955] val_acc: 0.9921875 val_acc_reg: 0.9905631188118812 val_acc_line: 0.9938118811881188 \n"
     ]
    },
    {
     "name": "stderr",
     "output_type": "stream",
     "text": [
      "[TRAIN 956, 319] loss: 1.0578097105026245 loss_reg: 1.3719509840011597 loss_line: 0.7436681985855103 acc: 1.0 acc_reg: 1.0 acc_line: 1.0: 100%|██████████| 319/319 [00:14<00:00, 21.88it/s]                                             \n",
      "[TRAIN 957, 1] loss: 0.17630159854888916 loss_reg: 0.2286584973335266 loss_line: 0.12394469976425171 acc: 0.1666666716337204 acc_reg: 0.1666666716337204 acc_line: 0.1666666716337204:   1%|          | 3/319 [00:00<00:14, 21.87it/s]"
     ]
    },
    {
     "name": "stdout",
     "output_type": "stream",
     "text": [
      "[VALIDATION 956] val_acc: 0.991878094059406 val_acc_reg: 0.9891707920792079 val_acc_line: 0.9945853960396039 \n"
     ]
    },
    {
     "name": "stderr",
     "output_type": "stream",
     "text": [
      "[TRAIN 957, 319] loss: 1.057809829711914 loss_reg: 1.3719513416290283 loss_line: 0.7436681985855103 acc: 1.0 acc_reg: 1.0 acc_line: 1.0: 100%|██████████| 319/319 [00:14<00:00, 21.82it/s]                                              \n",
      "[TRAIN 958, 1] loss: 0.17630617320537567 loss_reg: 0.2286584973335266 loss_line: 0.12395384162664413 acc: 0.1666666716337204 acc_reg: 0.1666666716337204 acc_line: 0.1666666716337204:   1%|          | 3/319 [00:00<00:15, 20.41it/s]"
     ]
    },
    {
     "name": "stdout",
     "output_type": "stream",
     "text": [
      "[VALIDATION 957] val_acc: 0.9908725247524752 val_acc_reg: 0.9880878712871287 val_acc_line: 0.9936571782178217 \n"
     ]
    },
    {
     "name": "stderr",
     "output_type": "stream",
     "text": [
      "[TRAIN 958, 319] loss: 1.0591118335723877 loss_reg: 1.3745551109313965 loss_line: 0.7436681985855103 acc: 0.9986979365348816 acc_reg: 0.9973958730697632 acc_line: 1.0: 100%|██████████| 319/319 [00:14<00:00, 21.89it/s]               \n",
      "[TRAIN 959, 1] loss: 0.17630159854888916 loss_reg: 0.2286584973335266 loss_line: 0.12394469976425171 acc: 0.1666666716337204 acc_reg: 0.1666666716337204 acc_line: 0.1666666716337204:   1%|          | 2/319 [00:00<00:17, 18.14it/s]"
     ]
    },
    {
     "name": "stdout",
     "output_type": "stream",
     "text": [
      "[VALIDATION 958] val_acc: 0.9912592821782178 val_acc_reg: 0.989480198019802 val_acc_line: 0.9930383663366337 \n"
     ]
    },
    {
     "name": "stderr",
     "output_type": "stream",
     "text": [
      "[TRAIN 959, 319] loss: 1.0578101873397827 loss_reg: 1.3719520568847656 loss_line: 0.7436681985855103 acc: 1.0 acc_reg: 1.0 acc_line: 1.0: 100%|██████████| 319/319 [00:14<00:00, 21.88it/s]                                             \n",
      "[TRAIN 960, 1] loss: 0.17760369181632996 loss_reg: 0.2312626838684082 loss_line: 0.12394469976425171 acc: 0.1653645932674408 acc_reg: 0.1640625 acc_line: 0.1666666716337204:   1%|          | 3/319 [00:00<00:15, 19.77it/s]"
     ]
    },
    {
     "name": "stdout",
     "output_type": "stream",
     "text": [
      "[VALIDATION 959] val_acc: 0.9914139851485149 val_acc_reg: 0.989480198019802 val_acc_line: 0.9933477722772277 \n"
     ]
    },
    {
     "name": "stderr",
     "output_type": "stream",
     "text": [
      "[TRAIN 960, 319] loss: 1.0591118335723877 loss_reg: 1.3745553493499756 loss_line: 0.7436681985855103 acc: 0.9986979365348816 acc_reg: 0.9973958730697632 acc_line: 1.0: 100%|██████████| 319/319 [00:14<00:00, 21.95it/s]              \n",
      "[TRAIN 961, 1] loss: 0.17630159854888916 loss_reg: 0.2286584973335266 loss_line: 0.12394469976425171 acc: 0.1666666716337204 acc_reg: 0.1666666716337204 acc_line: 0.1666666716337204:   1%|          | 3/319 [00:00<00:15, 20.68it/s]"
     ]
    },
    {
     "name": "stdout",
     "output_type": "stream",
     "text": [
      "[VALIDATION 960] val_acc: 0.9921875 val_acc_reg: 0.9907178217821783 val_acc_line: 0.9936571782178217 \n"
     ]
    },
    {
     "name": "stderr",
     "output_type": "stream",
     "text": [
      "[TRAIN 961, 319] loss: 1.0578097105026245 loss_reg: 1.3719509840011597 loss_line: 0.7436681985855103 acc: 1.0 acc_reg: 1.0 acc_line: 1.0: 100%|██████████| 319/319 [00:14<00:00, 21.94it/s]                                             \n",
      "[TRAIN 962, 1] loss: 0.17630159854888916 loss_reg: 0.2286584973335266 loss_line: 0.12394469976425171 acc: 0.1666666716337204 acc_reg: 0.1666666716337204 acc_line: 0.1666666716337204:   1%|          | 3/319 [00:00<00:15, 20.72it/s]"
     ]
    },
    {
     "name": "stdout",
     "output_type": "stream",
     "text": [
      "[VALIDATION 961] val_acc: 0.9916460396039604 val_acc_reg: 0.9904084158415841 val_acc_line: 0.9928836633663366 \n"
     ]
    },
    {
     "name": "stderr",
     "output_type": "stream",
     "text": [
      "[TRAIN 962, 319] loss: 1.0591181516647339 loss_reg: 1.3745675086975098 loss_line: 0.7436689138412476 acc: 0.9986979365348816 acc_reg: 0.9973958730697632 acc_line: 1.0: 100%|██████████| 319/319 [00:14<00:00, 21.89it/s]               \n",
      "[TRAIN 963, 1] loss: 0.17630159854888916 loss_reg: 0.2286584973335266 loss_line: 0.12394469976425171 acc: 0.1666666716337204 acc_reg: 0.1666666716337204 acc_line: 0.1666666716337204:   1%|          | 3/319 [00:00<00:16, 19.70it/s]"
     ]
    },
    {
     "name": "stdout",
     "output_type": "stream",
     "text": [
      "[VALIDATION 962] val_acc: 0.9906404702970297 val_acc_reg: 0.9890160891089109 val_acc_line: 0.9922648514851485 \n"
     ]
    },
    {
     "name": "stderr",
     "output_type": "stream",
     "text": [
      "[TRAIN 963, 319] loss: 1.0578100681304932 loss_reg: 1.3719518184661865 loss_line: 0.7436681985855103 acc: 1.0 acc_reg: 1.0 acc_line: 1.0: 100%|██████████| 319/319 [00:14<00:00, 21.91it/s]                                             \n",
      "[TRAIN 964, 1] loss: 0.17630159854888916 loss_reg: 0.2286584973335266 loss_line: 0.12394469976425171 acc: 0.1666666716337204 acc_reg: 0.1666666716337204 acc_line: 0.1666666716337204:   1%|          | 2/319 [00:00<00:16, 19.48it/s]"
     ]
    },
    {
     "name": "stdout",
     "output_type": "stream",
     "text": [
      "[VALIDATION 963] val_acc: 0.9918007425742574 val_acc_reg: 0.989634900990099 val_acc_line: 0.9939665841584159 \n"
     ]
    },
    {
     "name": "stderr",
     "output_type": "stream",
     "text": [
      "[TRAIN 964, 319] loss: 1.0591118335723877 loss_reg: 1.3719511032104492 loss_line: 0.7462724447250366 acc: 0.9986979365348816 acc_reg: 1.0 acc_line: 0.9973958730697632: 100%|██████████| 319/319 [00:14<00:00, 21.95it/s]               \n",
      "[TRAIN 965, 1] loss: 0.17760369181632996 loss_reg: 0.231262668967247 loss_line: 0.12394469976425171 acc: 0.1653645932674408 acc_reg: 0.1640625 acc_line: 0.1666666716337204:   1%|          | 2/319 [00:00<00:16, 19.56it/s]"
     ]
    },
    {
     "name": "stdout",
     "output_type": "stream",
     "text": [
      "[VALIDATION 964] val_acc: 0.9917233910891089 val_acc_reg: 0.989325495049505 val_acc_line: 0.9941212871287128 \n"
     ]
    },
    {
     "name": "stderr",
     "output_type": "stream",
     "text": [
      "[TRAIN 965, 319] loss: 1.0578097105026245 loss_reg: 1.3719509840011597 loss_line: 0.7436681985855103 acc: 1.0 acc_reg: 1.0 acc_line: 1.0: 100%|██████████| 319/319 [00:14<00:00, 21.90it/s]                                             \n",
      "[TRAIN 966, 1] loss: 0.17630159854888916 loss_reg: 0.2286584973335266 loss_line: 0.12394469976425171 acc: 0.1666666716337204 acc_reg: 0.1666666716337204 acc_line: 0.1666666716337204:   1%|          | 3/319 [00:00<00:15, 20.99it/s]"
     ]
    },
    {
     "name": "stdout",
     "output_type": "stream",
     "text": [
      "[VALIDATION 965] val_acc: 0.9913366336633663 val_acc_reg: 0.9907178217821783 val_acc_line: 0.9919554455445545 \n"
     ]
    },
    {
     "name": "stderr",
     "output_type": "stream",
     "text": [
      "[TRAIN 966, 319] loss: 1.0591118335723877 loss_reg: 1.3745551109313965 loss_line: 0.7436681985855103 acc: 0.9986979365348816 acc_reg: 0.9973958730697632 acc_line: 1.0: 100%|██████████| 319/319 [00:14<00:00, 22.01it/s]               \n",
      "[TRAIN 967, 1] loss: 0.17630159854888916 loss_reg: 0.2286584973335266 loss_line: 0.12394469976425171 acc: 0.1666666716337204 acc_reg: 0.1666666716337204 acc_line: 0.1666666716337204:   1%|          | 3/319 [00:00<00:15, 20.76it/s]"
     ]
    },
    {
     "name": "stdout",
     "output_type": "stream",
     "text": [
      "[VALIDATION 966] val_acc: 0.9913366336633663 val_acc_reg: 0.9891707920792079 val_acc_line: 0.9935024752475248 \n"
     ]
    },
    {
     "name": "stderr",
     "output_type": "stream",
     "text": [
      "[TRAIN 967, 319] loss: 1.0578097105026245 loss_reg: 1.3719509840011597 loss_line: 0.7436681985855103 acc: 1.0 acc_reg: 1.0 acc_line: 1.0: 100%|██████████| 319/319 [00:14<00:00, 22.02it/s]                                             \n",
      "[TRAIN 968, 1] loss: 0.17630159854888916 loss_reg: 0.2286584973335266 loss_line: 0.12394469976425171 acc: 0.1666666716337204 acc_reg: 0.1666666716337204 acc_line: 0.1666666716337204:   1%|          | 3/319 [00:00<00:14, 22.21it/s]"
     ]
    },
    {
     "name": "stdout",
     "output_type": "stream",
     "text": [
      "[VALIDATION 967] val_acc: 0.9914139851485149 val_acc_reg: 0.989480198019802 val_acc_line: 0.9933477722772277 \n"
     ]
    },
    {
     "name": "stderr",
     "output_type": "stream",
     "text": [
      "[TRAIN 968, 319] loss: 1.0591118335723877 loss_reg: 1.3745551109313965 loss_line: 0.7436681985855103 acc: 0.9986979365348816 acc_reg: 0.9973958730697632 acc_line: 1.0: 100%|██████████| 319/319 [00:14<00:00, 21.92it/s]               \n",
      "[TRAIN 969, 1] loss: 0.17630159854888916 loss_reg: 0.2286584973335266 loss_line: 0.12394469976425171 acc: 0.1666666716337204 acc_reg: 0.1666666716337204 acc_line: 0.1666666716337204:   1%|          | 2/319 [00:00<00:17, 18.27it/s]"
     ]
    },
    {
     "name": "stdout",
     "output_type": "stream",
     "text": [
      "[VALIDATION 968] val_acc: 0.9906404702970297 val_acc_reg: 0.9880878712871287 val_acc_line: 0.9931930693069307 \n"
     ]
    },
    {
     "name": "stderr",
     "output_type": "stream",
     "text": [
      "[TRAIN 969, 319] loss: 1.0591118335723877 loss_reg: 1.3745553493499756 loss_line: 0.7436681985855103 acc: 0.9986979365348816 acc_reg: 0.9973958730697632 acc_line: 1.0: 100%|██████████| 319/319 [00:14<00:00, 22.02it/s]               \n",
      "[TRAIN 970, 1] loss: 0.17630159854888916 loss_reg: 0.2286584973335266 loss_line: 0.12394469976425171 acc: 0.1666666716337204 acc_reg: 0.1666666716337204 acc_line: 0.1666666716337204:   1%|          | 3/319 [00:00<00:14, 21.20it/s]"
     ]
    },
    {
     "name": "stdout",
     "output_type": "stream",
     "text": [
      "[VALIDATION 969] val_acc: 0.9914913366336634 val_acc_reg: 0.9891707920792079 val_acc_line: 0.9938118811881188 \n"
     ]
    },
    {
     "name": "stderr",
     "output_type": "stream",
     "text": [
      "[TRAIN 970, 319] loss: 1.0592124462127686 loss_reg: 1.37455415725708 loss_line: 0.7438702583312988 acc: 0.9986979365348816 acc_reg: 0.9973958730697632 acc_line: 1.0: 100%|██████████| 319/319 [00:14<00:00, 21.96it/s]                 \n",
      "[TRAIN 971, 1] loss: 0.17630159854888916 loss_reg: 0.2286584973335266 loss_line: 0.12394469976425171 acc: 0.1666666716337204 acc_reg: 0.1666666716337204 acc_line: 0.1666666716337204:   1%|          | 3/319 [00:00<00:13, 23.25it/s]"
     ]
    },
    {
     "name": "stdout",
     "output_type": "stream",
     "text": [
      "[VALIDATION 970] val_acc: 0.9904857673267327 val_acc_reg: 0.9874690594059405 val_acc_line: 0.9935024752475248 \n"
     ]
    },
    {
     "name": "stderr",
     "output_type": "stream",
     "text": [
      "[TRAIN 971, 319] loss: 1.0591118335723877 loss_reg: 1.3745551109313965 loss_line: 0.7436681985855103 acc: 0.9986979365348816 acc_reg: 0.9973958730697632 acc_line: 1.0: 100%|██████████| 319/319 [00:14<00:00, 21.99it/s]               \n",
      "[TRAIN 972, 1] loss: 0.17630162835121155 loss_reg: 0.2286584973335266 loss_line: 0.1239447295665741 acc: 0.1666666716337204 acc_reg: 0.1666666716337204 acc_line: 0.1666666716337204:   1%|          | 3/319 [00:00<00:14, 21.10it/s]"
     ]
    },
    {
     "name": "stdout",
     "output_type": "stream",
     "text": [
      "[VALIDATION 971] val_acc: 0.9913366336633663 val_acc_reg: 0.9885519801980198 val_acc_line: 0.9941212871287128 \n"
     ]
    },
    {
     "name": "stderr",
     "output_type": "stream",
     "text": [
      "[TRAIN 972, 319] loss: 1.0590612888336182 loss_reg: 1.3719509840011597 loss_line: 0.7461715936660767 acc: 0.9986979365348816 acc_reg: 1.0 acc_line: 0.9973958730697632: 100%|██████████| 319/319 [00:14<00:00, 21.99it/s]               \n",
      "[TRAIN 973, 1] loss: 0.17760369181632996 loss_reg: 0.231262668967247 loss_line: 0.1239447146654129 acc: 0.1653645932674408 acc_reg: 0.1640625 acc_line: 0.1666666716337204:   1%|          | 3/319 [00:00<00:14, 21.59it/s]"
     ]
    },
    {
     "name": "stdout",
     "output_type": "stream",
     "text": [
      "[VALIDATION 972] val_acc: 0.9922648514851485 val_acc_reg: 0.9900990099009901 val_acc_line: 0.994430693069307 \n"
     ]
    },
    {
     "name": "stderr",
     "output_type": "stream",
     "text": [
      "[TRAIN 973, 319] loss: 1.0578100681304932 loss_reg: 1.371951937675476 loss_line: 0.7436681985855103 acc: 1.0 acc_reg: 1.0 acc_line: 1.0: 100%|██████████| 319/319 [00:14<00:00, 22.04it/s]                                              \n",
      "[TRAIN 974, 1] loss: 0.17630159854888916 loss_reg: 0.2286584973335266 loss_line: 0.12394469976425171 acc: 0.1666666716337204 acc_reg: 0.1666666716337204 acc_line: 0.1666666716337204:   1%|          | 3/319 [00:00<00:13, 22.63it/s]"
     ]
    },
    {
     "name": "stdout",
     "output_type": "stream",
     "text": [
      "[VALIDATION 973] val_acc: 0.9906404702970297 val_acc_reg: 0.9880878712871287 val_acc_line: 0.9931930693069307 \n"
     ]
    },
    {
     "name": "stderr",
     "output_type": "stream",
     "text": [
      "[TRAIN 974, 319] loss: 1.060487985610962 loss_reg: 1.3747034072875977 loss_line: 0.7462723255157471 acc: 0.9973958730697632 acc_reg: 0.9973958730697632 acc_line: 0.9973958730697632: 100%|██████████| 319/319 [00:14<00:00, 21.95it/s] \n",
      "[TRAIN 975, 1] loss: 0.17630159854888916 loss_reg: 0.2286584973335266 loss_line: 0.12394469976425171 acc: 0.1666666716337204 acc_reg: 0.1666666716337204 acc_line: 0.1666666716337204:   1%|          | 3/319 [00:00<00:14, 21.94it/s]"
     ]
    },
    {
     "name": "stdout",
     "output_type": "stream",
     "text": [
      "[VALIDATION 974] val_acc: 0.9921101485148515 val_acc_reg: 0.989480198019802 val_acc_line: 0.994740099009901 \n"
     ]
    },
    {
     "name": "stderr",
     "output_type": "stream",
     "text": [
      "[TRAIN 975, 319] loss: 1.0591118335723877 loss_reg: 1.3745553493499756 loss_line: 0.7436681985855103 acc: 0.9986979365348816 acc_reg: 0.9973958730697632 acc_line: 1.0: 100%|██████████| 319/319 [00:14<00:00, 21.88it/s]             \n",
      "[TRAIN 976, 1] loss: 0.17630159854888916 loss_reg: 0.2286584973335266 loss_line: 0.12394469976425171 acc: 0.1666666716337204 acc_reg: 0.1666666716337204 acc_line: 0.1666666716337204:   1%|          | 2/319 [00:00<00:16, 19.46it/s]"
     ]
    },
    {
     "name": "stdout",
     "output_type": "stream",
     "text": [
      "[VALIDATION 975] val_acc: 0.9914913366336634 val_acc_reg: 0.9902537128712872 val_acc_line: 0.9927289603960396 \n"
     ]
    },
    {
     "name": "stderr",
     "output_type": "stream",
     "text": [
      "[TRAIN 976, 319] loss: 1.0591118335723877 loss_reg: 1.3745551109313965 loss_line: 0.7436681985855103 acc: 0.9986979365348816 acc_reg: 0.9973958730697632 acc_line: 1.0: 100%|██████████| 319/319 [00:14<00:00, 21.76it/s]               \n",
      "[TRAIN 977, 1] loss: 0.17630159854888916 loss_reg: 0.2286584973335266 loss_line: 0.12394469976425171 acc: 0.1666666716337204 acc_reg: 0.1666666716337204 acc_line: 0.1666666716337204:   1%|          | 3/319 [00:00<00:14, 21.86it/s]"
     ]
    },
    {
     "name": "stdout",
     "output_type": "stream",
     "text": [
      "[VALIDATION 976] val_acc: 0.9921101485148515 val_acc_reg: 0.9900990099009901 val_acc_line: 0.9941212871287128 \n"
     ]
    },
    {
     "name": "stderr",
     "output_type": "stream",
     "text": [
      "[TRAIN 977, 319] loss: 1.0578097105026245 loss_reg: 1.3719509840011597 loss_line: 0.7436681985855103 acc: 1.0 acc_reg: 1.0 acc_line: 1.0: 100%|██████████| 319/319 [00:14<00:00, 21.78it/s]                                             \n",
      "[TRAIN 978, 1] loss: 0.17630159854888916 loss_reg: 0.2286584973335266 loss_line: 0.12394469976425171 acc: 0.1666666716337204 acc_reg: 0.1666666716337204 acc_line: 0.1666666716337204:   1%|          | 3/319 [00:00<00:14, 22.29it/s]"
     ]
    },
    {
     "name": "stdout",
     "output_type": "stream",
     "text": [
      "[VALIDATION 977] val_acc: 0.991878094059406 val_acc_reg: 0.9891707920792079 val_acc_line: 0.9945853960396039 \n"
     ]
    },
    {
     "name": "stderr",
     "output_type": "stream",
     "text": [
      "[TRAIN 978, 319] loss: 1.0591115951538086 loss_reg: 1.374554991722107 loss_line: 0.7436681985855103 acc: 0.9986979365348816 acc_reg: 0.9973958730697632 acc_line: 1.0: 100%|██████████| 319/319 [00:14<00:00, 21.63it/s]                \n",
      "[TRAIN 979, 1] loss: 0.17630159854888916 loss_reg: 0.2286584973335266 loss_line: 0.12394469976425171 acc: 0.1666666716337204 acc_reg: 0.1666666716337204 acc_line: 0.1666666716337204:   1%|          | 2/319 [00:00<00:17, 18.43it/s]"
     ]
    },
    {
     "name": "stdout",
     "output_type": "stream",
     "text": [
      "[VALIDATION 978] val_acc: 0.9915686881188119 val_acc_reg: 0.9890160891089109 val_acc_line: 0.9941212871287128 \n"
     ]
    },
    {
     "name": "stderr",
     "output_type": "stream",
     "text": [
      "[TRAIN 979, 319] loss: 1.0603288412094116 loss_reg: 1.3719509840011597 loss_line: 0.7487063407897949 acc: 0.9973958730697632 acc_reg: 1.0 acc_line: 0.9947916865348816: 100%|██████████| 319/319 [00:14<00:00, 22.00it/s]               \n",
      "[TRAIN 980, 1] loss: 0.17630159854888916 loss_reg: 0.2286584973335266 loss_line: 0.12394469976425171 acc: 0.1666666716337204 acc_reg: 0.1666666716337204 acc_line: 0.1666666716337204:   1%|          | 2/319 [00:00<00:16, 19.42it/s]"
     ]
    },
    {
     "name": "stdout",
     "output_type": "stream",
     "text": [
      "[VALIDATION 979] val_acc: 0.9918007425742574 val_acc_reg: 0.9902537128712872 val_acc_line: 0.9933477722772277 \n"
     ]
    },
    {
     "name": "stderr",
     "output_type": "stream",
     "text": [
      "[TRAIN 980, 319] loss: 1.0591118335723877 loss_reg: 1.3745553493499756 loss_line: 0.7436681985855103 acc: 0.9986979365348816 acc_reg: 0.9973958730697632 acc_line: 1.0: 100%|██████████| 319/319 [00:14<00:00, 22.00it/s]               \n",
      "[TRAIN 981, 1] loss: 0.17760369181632996 loss_reg: 0.2286584973335266 loss_line: 0.1265488713979721 acc: 0.1653645932674408 acc_reg: 0.1666666716337204 acc_line: 0.1640625:   1%|          | 3/319 [00:00<00:14, 21.50it/s]"
     ]
    },
    {
     "name": "stdout",
     "output_type": "stream",
     "text": [
      "[VALIDATION 980] val_acc: 0.9911045792079208 val_acc_reg: 0.989325495049505 val_acc_line: 0.9928836633663366 \n"
     ]
    },
    {
     "name": "stderr",
     "output_type": "stream",
     "text": [
      "[TRAIN 981, 319] loss: 1.0578097105026245 loss_reg: 1.3719511032104492 loss_line: 0.7436681985855103 acc: 1.0 acc_reg: 1.0 acc_line: 1.0: 100%|██████████| 319/319 [00:14<00:00, 22.02it/s]                                             \n",
      "[TRAIN 982, 1] loss: 0.17630159854888916 loss_reg: 0.2286584973335266 loss_line: 0.12394469976425171 acc: 0.1666666716337204 acc_reg: 0.1666666716337204 acc_line: 0.1666666716337204:   1%|          | 3/319 [00:00<00:15, 21.00it/s]"
     ]
    },
    {
     "name": "stdout",
     "output_type": "stream",
     "text": [
      "[VALIDATION 981] val_acc: 0.9928063118811881 val_acc_reg: 0.9910272277227723 val_acc_line: 0.9945853960396039 \n"
     ]
    },
    {
     "name": "stderr",
     "output_type": "stream",
     "text": [
      "[TRAIN 982, 319] loss: 1.0628751516342163 loss_reg: 1.3797636032104492 loss_line: 0.7459866404533386 acc: 0.9947916865348816 acc_reg: 0.9921875 acc_line: 0.9973958730697632: 100%|██████████| 319/319 [00:14<00:00, 21.99it/s]         \n",
      "[TRAIN 983, 1] loss: 0.17630159854888916 loss_reg: 0.2286584973335266 loss_line: 0.12394469976425171 acc: 0.1666666716337204 acc_reg: 0.1666666716337204 acc_line: 0.1666666716337204:   1%|          | 2/319 [00:00<00:16, 18.78it/s]"
     ]
    },
    {
     "name": "stdout",
     "output_type": "stream",
     "text": [
      "[VALIDATION 982] val_acc: 0.9911819306930693 val_acc_reg: 0.989480198019802 val_acc_line: 0.9928836633663366 \n"
     ]
    },
    {
     "name": "stderr",
     "output_type": "stream",
     "text": [
      "[TRAIN 983, 319] loss: 1.0578097105026245 loss_reg: 1.3719509840011597 loss_line: 0.7436681985855103 acc: 1.0 acc_reg: 1.0 acc_line: 1.0: 100%|██████████| 319/319 [00:14<00:00, 22.00it/s]                                             \n",
      "[TRAIN 984, 1] loss: 0.17630159854888916 loss_reg: 0.2286584973335266 loss_line: 0.12394469976425171 acc: 0.1666666716337204 acc_reg: 0.1666666716337204 acc_line: 0.1666666716337204:   1%|          | 2/319 [00:00<00:16, 19.37it/s]"
     ]
    },
    {
     "name": "stdout",
     "output_type": "stream",
     "text": [
      "[VALIDATION 983] val_acc: 0.9921875 val_acc_reg: 0.9905631188118812 val_acc_line: 0.9938118811881188 \n"
     ]
    },
    {
     "name": "stderr",
     "output_type": "stream",
     "text": [
      "[TRAIN 984, 319] loss: 1.0591118335723877 loss_reg: 1.3745553493499756 loss_line: 0.7436681985855103 acc: 0.9986979365348816 acc_reg: 0.9973958730697632 acc_line: 1.0: 100%|██████████| 319/319 [00:14<00:00, 21.99it/s]               \n",
      "[TRAIN 985, 1] loss: 0.17630159854888916 loss_reg: 0.2286584973335266 loss_line: 0.12394469976425171 acc: 0.1666666716337204 acc_reg: 0.1666666716337204 acc_line: 0.1666666716337204:   1%|          | 3/319 [00:00<00:14, 21.25it/s]"
     ]
    },
    {
     "name": "stdout",
     "output_type": "stream",
     "text": [
      "[VALIDATION 984] val_acc: 0.992496905940594 val_acc_reg: 0.9908725247524752 val_acc_line: 0.9941212871287128 \n"
     ]
    },
    {
     "name": "stderr",
     "output_type": "stream",
     "text": [
      "[TRAIN 985, 319] loss: 1.0578097105026245 loss_reg: 1.3719511032104492 loss_line: 0.7436681985855103 acc: 1.0 acc_reg: 1.0 acc_line: 1.0: 100%|██████████| 319/319 [00:14<00:00, 21.91it/s]                                             \n",
      "[TRAIN 986, 1] loss: 0.17630159854888916 loss_reg: 0.2286584973335266 loss_line: 0.12394469976425171 acc: 0.1666666716337204 acc_reg: 0.1666666716337204 acc_line: 0.1666666716337204:   1%|          | 3/319 [00:00<00:15, 20.51it/s]"
     ]
    },
    {
     "name": "stdout",
     "output_type": "stream",
     "text": [
      "[VALIDATION 985] val_acc: 0.9915686881188119 val_acc_reg: 0.9913366336633663 val_acc_line: 0.9918007425742574 \n"
     ]
    },
    {
     "name": "stderr",
     "output_type": "stream",
     "text": [
      "[TRAIN 986, 319] loss: 1.0578097105026245 loss_reg: 1.3719509840011597 loss_line: 0.7436681985855103 acc: 1.0 acc_reg: 1.0 acc_line: 1.0: 100%|██████████| 319/319 [00:14<00:00, 22.00it/s]                                             \n",
      "[TRAIN 987, 1] loss: 0.17760369181632996 loss_reg: 0.2286584973335266 loss_line: 0.1265488713979721 acc: 0.1653645932674408 acc_reg: 0.1666666716337204 acc_line: 0.1640625:   1%|          | 3/319 [00:00<00:15, 20.63it/s]"
     ]
    },
    {
     "name": "stdout",
     "output_type": "stream",
     "text": [
      "[VALIDATION 986] val_acc: 0.9924195544554455 val_acc_reg: 0.9908725247524752 val_acc_line: 0.9939665841584159 \n"
     ]
    },
    {
     "name": "stderr",
     "output_type": "stream",
     "text": [
      "[TRAIN 987, 319] loss: 1.0578097105026245 loss_reg: 1.3719509840011597 loss_line: 0.7436681985855103 acc: 1.0 acc_reg: 1.0 acc_line: 1.0: 100%|██████████| 319/319 [00:14<00:00, 21.93it/s]                                             \n",
      "[TRAIN 988, 1] loss: 0.17630159854888916 loss_reg: 0.2286584973335266 loss_line: 0.12394469976425171 acc: 0.1666666716337204 acc_reg: 0.1666666716337204 acc_line: 0.1666666716337204:   1%|          | 3/319 [00:00<00:14, 21.64it/s]"
     ]
    },
    {
     "name": "stdout",
     "output_type": "stream",
     "text": [
      "[VALIDATION 987] val_acc: 0.9928836633663366 val_acc_reg: 0.9921101485148515 val_acc_line: 0.9936571782178217 \n"
     ]
    },
    {
     "name": "stderr",
     "output_type": "stream",
     "text": [
      "[TRAIN 988, 319] loss: 1.0604138374328613 loss_reg: 1.3745553493499756 loss_line: 0.7462724447250366 acc: 0.9973958730697632 acc_reg: 0.9973958730697632 acc_line: 0.9973958730697632: 100%|██████████| 319/319 [00:14<00:00, 21.96it/s]\n",
      "[TRAIN 989, 1] loss: 0.17630159854888916 loss_reg: 0.2286584973335266 loss_line: 0.12394469976425171 acc: 0.1666666716337204 acc_reg: 0.1666666716337204 acc_line: 0.1666666716337204:   1%|          | 3/319 [00:00<00:14, 21.54it/s]"
     ]
    },
    {
     "name": "stdout",
     "output_type": "stream",
     "text": [
      "[VALIDATION 988] val_acc: 0.991878094059406 val_acc_reg: 0.9897896039603961 val_acc_line: 0.9939665841584159 \n"
     ]
    },
    {
     "name": "stderr",
     "output_type": "stream",
     "text": [
      "[TRAIN 989, 319] loss: 1.0578097105026245 loss_reg: 1.3719511032104492 loss_line: 0.7436681985855103 acc: 1.0 acc_reg: 1.0 acc_line: 1.0: 100%|██████████| 319/319 [00:14<00:00, 21.96it/s]                                             \n",
      "[TRAIN 990, 1] loss: 0.17643480002880096 loss_reg: 0.22892490029335022 loss_line: 0.12394469976425171 acc: 0.1666666716337204 acc_reg: 0.1666666716337204 acc_line: 0.1666666716337204:   1%|          | 2/319 [00:00<00:16, 19.16it/s]"
     ]
    },
    {
     "name": "stdout",
     "output_type": "stream",
     "text": [
      "[VALIDATION 989] val_acc: 0.9916460396039604 val_acc_reg: 0.9891707920792079 val_acc_line: 0.9941212871287128 \n"
     ]
    },
    {
     "name": "stderr",
     "output_type": "stream",
     "text": [
      "[TRAIN 990, 319] loss: 1.060420036315918 loss_reg: 1.3745675086975098 loss_line: 0.7462723255157471 acc: 0.9973958730697632 acc_reg: 0.9973958730697632 acc_line: 0.9973958730697632: 100%|██████████| 319/319 [00:14<00:00, 21.99it/s] \n",
      "[TRAIN 991, 1] loss: 0.17630159854888916 loss_reg: 0.2286584973335266 loss_line: 0.12394469976425171 acc: 0.1666666716337204 acc_reg: 0.1666666716337204 acc_line: 0.1666666716337204:   1%|          | 2/319 [00:00<00:16, 19.25it/s]"
     ]
    },
    {
     "name": "stdout",
     "output_type": "stream",
     "text": [
      "[VALIDATION 990] val_acc: 0.9895575495049505 val_acc_reg: 0.9873143564356436 val_acc_line: 0.9918007425742574 \n"
     ]
    },
    {
     "name": "stderr",
     "output_type": "stream",
     "text": [
      "[TRAIN 991, 319] loss: 1.0591118335723877 loss_reg: 1.3719511032104492 loss_line: 0.7462723255157471 acc: 0.9986979365348816 acc_reg: 1.0 acc_line: 0.9973958730697632: 100%|██████████| 319/319 [00:14<00:00, 21.90it/s]             \n",
      "[TRAIN 992, 1] loss: 0.17630159854888916 loss_reg: 0.2286584973335266 loss_line: 0.12394469976425171 acc: 0.1666666716337204 acc_reg: 0.1666666716337204 acc_line: 0.1666666716337204:   1%|          | 2/319 [00:00<00:16, 19.21it/s]"
     ]
    },
    {
     "name": "stdout",
     "output_type": "stream",
     "text": [
      "[VALIDATION 991] val_acc: 0.9900216584158416 val_acc_reg: 0.9868502475247525 val_acc_line: 0.9931930693069307 \n"
     ]
    },
    {
     "name": "stderr",
     "output_type": "stream",
     "text": [
      "[TRAIN 992, 319] loss: 1.0578655004501343 loss_reg: 1.3720626831054688 loss_line: 0.7436681985855103 acc: 1.0 acc_reg: 1.0 acc_line: 1.0: 100%|██████████| 319/319 [00:14<00:00, 21.93it/s]                                             \n",
      "[TRAIN 993, 1] loss: 0.17630159854888916 loss_reg: 0.2286584973335266 loss_line: 0.12394469976425171 acc: 0.1666666716337204 acc_reg: 0.1666666716337204 acc_line: 0.1666666716337204:   1%|          | 2/319 [00:00<00:16, 18.84it/s]"
     ]
    },
    {
     "name": "stdout",
     "output_type": "stream",
     "text": [
      "[VALIDATION 992] val_acc: 0.9904084158415841 val_acc_reg: 0.9888613861386139 val_acc_line: 0.9919554455445545 \n"
     ]
    },
    {
     "name": "stderr",
     "output_type": "stream",
     "text": [
      "[TRAIN 993, 319] loss: 1.0644140243530273 loss_reg: 1.3773472309112549 loss_line: 0.7514806985855103 acc: 0.9934896230697632 acc_reg: 0.9947916865348816 acc_line: 0.9921875: 100%|██████████| 319/319 [00:14<00:00, 21.87it/s]         \n",
      "[TRAIN 994, 1] loss: 0.17630159854888916 loss_reg: 0.2286584973335266 loss_line: 0.12394469976425171 acc: 0.1666666716337204 acc_reg: 0.1666666716337204 acc_line: 0.1666666716337204:   1%|          | 2/319 [00:00<00:17, 18.36it/s]"
     ]
    },
    {
     "name": "stdout",
     "output_type": "stream",
     "text": [
      "[VALIDATION 993] val_acc: 0.9906404702970297 val_acc_reg: 0.9887066831683168 val_acc_line: 0.9925742574257426 \n"
     ]
    },
    {
     "name": "stderr",
     "output_type": "stream",
     "text": [
      "[TRAIN 994, 319] loss: 1.0591464042663574 loss_reg: 1.374618411064148 loss_line: 0.7436742186546326 acc: 0.9986979365348816 acc_reg: 0.9973958730697632 acc_line: 1.0: 100%|██████████| 319/319 [00:14<00:00, 21.90it/s]                \n",
      "[TRAIN 995, 1] loss: 0.17630159854888916 loss_reg: 0.2286584973335266 loss_line: 0.12394469976425171 acc: 0.1666666716337204 acc_reg: 0.1666666716337204 acc_line: 0.1666666716337204:   1%|          | 3/319 [00:00<00:14, 21.37it/s]"
     ]
    },
    {
     "name": "stdout",
     "output_type": "stream",
     "text": [
      "[VALIDATION 994] val_acc: 0.9897122524752475 val_acc_reg: 0.9877784653465347 val_acc_line: 0.9916460396039604 \n"
     ]
    },
    {
     "name": "stderr",
     "output_type": "stream",
     "text": [
      "[TRAIN 995, 319] loss: 1.0604121685028076 loss_reg: 1.3719509840011597 loss_line: 0.7488731741905212 acc: 0.9973958730697632 acc_reg: 1.0 acc_line: 0.9947916865348816: 100%|██████████| 319/319 [00:14<00:00, 21.84it/s]               \n",
      "[TRAIN 996, 1] loss: 0.17630159854888916 loss_reg: 0.2286584973335266 loss_line: 0.12394469976425171 acc: 0.1666666716337204 acc_reg: 0.1666666716337204 acc_line: 0.1666666716337204:   1%|          | 2/319 [00:00<00:16, 19.08it/s]"
     ]
    },
    {
     "name": "stdout",
     "output_type": "stream",
     "text": [
      "[VALIDATION 995] val_acc: 0.9911819306930693 val_acc_reg: 0.9890160891089109 val_acc_line: 0.9933477722772277 \n"
     ]
    },
    {
     "name": "stderr",
     "output_type": "stream",
     "text": [
      "[TRAIN 996, 319] loss: 1.0578097105026245 loss_reg: 1.3719509840011597 loss_line: 0.7436681985855103 acc: 1.0 acc_reg: 1.0 acc_line: 1.0: 100%|██████████| 319/319 [00:14<00:00, 21.91it/s]                                             \n",
      "[TRAIN 997, 1] loss: 0.18020784854888916 loss_reg: 0.2338668555021286 loss_line: 0.1265488713979721 acc: 0.1627604216337204 acc_reg: 0.1614583432674408 acc_line: 0.1640625:   1%|          | 2/319 [00:00<00:15, 19.99it/s]"
     ]
    },
    {
     "name": "stdout",
     "output_type": "stream",
     "text": [
      "[VALIDATION 996] val_acc: 0.9921875 val_acc_reg: 0.9902537128712872 val_acc_line: 0.9941212871287128 \n"
     ]
    },
    {
     "name": "stderr",
     "output_type": "stream",
     "text": [
      "[TRAIN 997, 319] loss: 1.0578097105026245 loss_reg: 1.3719509840011597 loss_line: 0.7436681985855103 acc: 1.0 acc_reg: 1.0 acc_line: 1.0: 100%|██████████| 319/319 [00:14<00:00, 21.81it/s]                                           \n",
      "[TRAIN 998, 1] loss: 0.17630159854888916 loss_reg: 0.2286584973335266 loss_line: 0.12394469976425171 acc: 0.1666666716337204 acc_reg: 0.1666666716337204 acc_line: 0.1666666716337204:   1%|          | 2/319 [00:00<00:16, 19.50it/s]"
     ]
    },
    {
     "name": "stdout",
     "output_type": "stream",
     "text": [
      "[VALIDATION 997] val_acc: 0.9928063118811881 val_acc_reg: 0.9914913366336634 val_acc_line: 0.9941212871287128 \n"
     ]
    },
    {
     "name": "stderr",
     "output_type": "stream",
     "text": [
      "[TRAIN 998, 319] loss: 1.0591046810150146 loss_reg: 1.3745408058166504 loss_line: 0.7436681985855103 acc: 0.9986979365348816 acc_reg: 0.9973958730697632 acc_line: 1.0: 100%|██████████| 319/319 [00:14<00:00, 21.89it/s]               \n",
      "[TRAIN 999, 1] loss: 0.17760369181632996 loss_reg: 0.231262668967247 loss_line: 0.12394469976425171 acc: 0.1653645932674408 acc_reg: 0.1640625 acc_line: 0.1666666716337204:   1%|          | 3/319 [00:00<00:15, 20.42it/s]"
     ]
    },
    {
     "name": "stdout",
     "output_type": "stream",
     "text": [
      "[VALIDATION 998] val_acc: 0.989944306930693 val_acc_reg: 0.9871596534653465 val_acc_line: 0.9927289603960396 \n"
     ]
    },
    {
     "name": "stderr",
     "output_type": "stream",
     "text": [
      "[TRAIN 999, 319] loss: 1.0591118335723877 loss_reg: 1.3745551109313965 loss_line: 0.7436681985855103 acc: 0.9986979365348816 acc_reg: 0.9973958730697632 acc_line: 1.0: 100%|██████████| 319/319 [00:14<00:00, 21.98it/s]             \n",
      "[TRAIN 1000, 1] loss: 0.17630159854888916 loss_reg: 0.2286584973335266 loss_line: 0.1239447146654129 acc: 0.1666666716337204 acc_reg: 0.1666666716337204 acc_line: 0.1666666716337204:   1%|          | 3/319 [00:00<00:14, 21.64it/s]"
     ]
    },
    {
     "name": "stdout",
     "output_type": "stream",
     "text": [
      "[VALIDATION 999] val_acc: 0.9916460396039604 val_acc_reg: 0.989634900990099 val_acc_line: 0.9936571782178217 \n"
     ]
    },
    {
     "name": "stderr",
     "output_type": "stream",
     "text": [
      "[TRAIN 1000, 319] loss: 1.0591117143630981 loss_reg: 1.3745551109313965 loss_line: 0.7436681985855103 acc: 0.9986979365348816 acc_reg: 0.9973958730697632 acc_line: 1.0: 100%|██████████| 319/319 [00:14<00:00, 21.92it/s]               \n"
     ]
    },
    {
     "name": "stdout",
     "output_type": "stream",
     "text": [
      "[VALIDATION 1000] val_acc: 0.9919554455445545 val_acc_reg: 0.9900990099009901 val_acc_line: 0.9938118811881188 \n",
      "Finished Training\n"
     ]
    }
   ],
   "source": [
    "# train\n",
    "model = npClassificator.train(LOG_DIR)"
   ]
  },
  {
   "cell_type": "code",
   "execution_count": 13,
   "metadata": {},
   "outputs": [],
   "source": [
    "npClassificator.load(os.path.join(LOG_DIR, \"./best.pb\"))"
   ]
  },
  {
   "cell_type": "code",
   "execution_count": 14,
   "metadata": {},
   "outputs": [
    {
     "data": {
      "text/plain": [
       "(0.9920247395833334, 0.9912109375, 0.9928385416666666)"
      ]
     },
     "execution_count": 14,
     "metadata": {},
     "output_type": "execute_result"
    }
   ],
   "source": [
    "npClassificator.test()"
   ]
  },
  {
   "cell_type": "code",
   "execution_count": 14,
   "metadata": {},
   "outputs": [
    {
     "name": "stdout",
     "output_type": "stream",
     "text": [
      "model save to /var/www/nomeroff-net21/models/numberplate_options_2021_05_25_uacustom.h5\n"
     ]
    }
   ],
   "source": [
    "npClassificator.save(RESULT_PATH)"
   ]
  },
  {
   "cell_type": "code",
   "execution_count": 16,
   "metadata": {},
   "outputs": [
    {
     "name": "stdout",
     "output_type": "stream",
     "text": [
      "model save to /var/www/nomeroff-net21/models/numberplate_options_2021_05_28_uacustom.pt\n"
     ]
    }
   ],
   "source": [
    "npClassificator.save('/var/www/nomeroff-net21/models/numberplate_options_2021_05_28_uacustom.pt')"
   ]
  },
  {
   "cell_type": "code",
   "execution_count": null,
   "metadata": {},
   "outputs": [],
   "source": []
  },
  {
   "cell_type": "code",
   "execution_count": null,
   "metadata": {},
   "outputs": [],
   "source": [
    "%matplotlib inline"
   ]
  },
  {
   "cell_type": "code",
   "execution_count": null,
   "metadata": {},
   "outputs": [],
   "source": [
    "from NomeroffNet.Base.ImgGenerator import ImgGenerator\n",
    "import torch\n",
    "import json\n",
    "import cv2\n",
    "import matplotlib.pyplot as plt\n",
    "\n",
    "def show_img(img_path):\n",
    "    img = cv2.imread(img_path)\n",
    "    img = cv2.cvtColor(img, cv2.COLOR_BGR2RGB)\n",
    "    plt.imshow(img)\n",
    "    plt.show()\n",
    "\n",
    "def small_acc(npClassificator, path_dir=\"../datasets/options/test\", mode_torch=\"gpu\", min_acc=0.75):\n",
    "    imageGenerator = ImgGenerator(\n",
    "        path_dir,\n",
    "        npClassificator.WEIGHT,\n",
    "        npClassificator.HEIGHT,\n",
    "        npClassificator.BATCH_SIZE,\n",
    "        [len(npClassificator.CLASS_REGION), len(npClassificator.CLASS_COUNT_LINE)])\n",
    "    print(\"start imageGenerator build\")\n",
    "    imageGenerator.build_data()\n",
    "    print(\"end imageGenerator build\")\n",
    "    gen = imageGenerator.path_generator()\n",
    "    for i, (img_paths, inputs, labels) in enumerate(gen, 0):\n",
    "        # get the inputs; data is a list of [inputs, labels]\n",
    "        inputs = torch.from_numpy(inputs)\n",
    "        if mode_torch == \"gpu\":\n",
    "            inputs = inputs.cuda()\n",
    "        outputs = npClassificator.MODEL(inputs)\n",
    "        label_reg = torch.from_numpy(labels[0])\n",
    "        label_cnt = torch.from_numpy(labels[1])\n",
    "        if mode_torch == \"gpu\":\n",
    "            label_reg = label_reg.cuda()\n",
    "            label_cnt = label_cnt.cuda()\n",
    "        out_idx_reg = torch.max(outputs[0], 1)[1].cpu().numpy()\n",
    "        out_idx_line = torch.max(outputs[1], 1)[1].cpu().numpy()\n",
    "        \n",
    "        label_idx_reg = torch.max(label_reg, 1)[1].cpu().numpy()\n",
    "        label_idx_line = torch.max(label_cnt, 1)[1].cpu().numpy()\n",
    "        \n",
    "        # check reg\n",
    "        for o, l, p, tens in zip(out_idx_reg, label_idx_reg, img_paths, outputs[0]):\n",
    "            if o != l:\n",
    "                print(\"[WRONG REGION PREDICTED] pred\", o, l, p)\n",
    "                show_img(p)\n",
    "            elif tens[l] < min_acc:\n",
    "                print(\"[SMALL ACC REGION PREDICTED]  pred\", o, l, tens[l], p)\n",
    "                show_img(p)\n",
    "        # check line\n",
    "#         for o, l, p, tens in zip(out_idx_line, label_idx_line, img_paths, outputs[1]):\n",
    "#             if o != l:\n",
    "#                 print(\"[WRONG LINE PREDICTED]  pred\", o, l, p)\n",
    "#                 show_img(p)\n",
    "#             elif tens[l] < min_acc:\n",
    "#                 print(\"[SMALL ACC LINE PREDICTED]  pred\", o, l, tens[l], p)\n",
    "#                 show_img(p)"
   ]
  },
  {
   "cell_type": "code",
   "execution_count": null,
   "metadata": {},
   "outputs": [],
   "source": [
    "small_acc(npClassificator, \"../datasets/options/test\")"
   ]
  },
  {
   "cell_type": "code",
   "execution_count": null,
   "metadata": {},
   "outputs": [],
   "source": [
    "small_acc(npClassificator, \"../datasets/options/train\")"
   ]
  },
  {
   "cell_type": "code",
   "execution_count": null,
   "metadata": {},
   "outputs": [],
   "source": [
    "small_acc(npClassificator, \"../datasets/options/val\")"
   ]
  },
  {
   "cell_type": "code",
   "execution_count": null,
   "metadata": {},
   "outputs": [],
   "source": []
  }
 ],
 "metadata": {
  "kernelspec": {
   "display_name": "Python 3",
   "language": "python",
   "name": "python3"
  },
  "language_info": {
   "codemirror_mode": {
    "name": "ipython",
    "version": 3
   },
   "file_extension": ".py",
   "mimetype": "text/x-python",
   "name": "python",
   "nbconvert_exporter": "python",
   "pygments_lexer": "ipython3",
   "version": "3.9.5"
  }
 },
 "nbformat": 4,
 "nbformat_minor": 2
}
