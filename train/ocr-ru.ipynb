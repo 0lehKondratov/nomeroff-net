{
 "cells": [
  {
   "cell_type": "markdown",
   "metadata": {},
   "source": [
    "# Train OCR text Detector quick example"
   ]
  },
  {
   "cell_type": "markdown",
   "metadata": {},
   "source": [
    "For train datasets please download last version of ocr datasets [https://nomeroff.net.ua/datasets/](https://nomeroff.net.ua/datasets/). Unpack archive and rename to **./datasets/ocr** .\n",
    "For examle\n",
    "```bash\n",
    "cd ./datasets/ocr\n",
    "wget https://nomeroff.net.ua/datasets/autoriaNumberplateOcrUa-2019-02-19.zip\n",
    "unzip autoriaNumberplateOcrUa-2019-02-19.zip\n",
    "mv autoriaNumberplateOcrUa-2019-02-19 ua\n",
    "```\n",
    "or use your own dataset."
   ]
  },
  {
   "cell_type": "code",
   "execution_count": 10,
   "metadata": {},
   "outputs": [],
   "source": [
    "import os\n",
    "import sys\n",
    "import warnings\n",
    "warnings.filterwarnings('ignore')\n",
    "\n",
    "import keras\n",
    "keras.backend.clear_session()\n",
    "\n",
    "# change this property\n",
    "NOMEROFF_NET_DIR = os.path.abspath('../')\n",
    "\n",
    "DATASET_NAME = \"ru\"\n",
    "VERSION = \"3\"\n",
    "MODE = \"cpu\"\n",
    "PATH_TO_DATASET = os.path.join(NOMEROFF_NET_DIR, \"datasets/ocr/\", DATASET_NAME)\n",
    "RESULT_MODEL_PATH = os.path.join(NOMEROFF_NET_DIR, \"models/\", 'anpr_ocr_{}_{}-{}.h5'.format(DATASET_NAME, VERSION, MODE))\n",
    "\n",
    "FROZEN_MODEL_PATH = os.path.join(NOMEROFF_NET_DIR, \"models/\", 'anpr_ocr_{}_{}-{}.pb'.format(DATASET_NAME, VERSION, MODE))\n",
    "\n",
    "sys.path.append(NOMEROFF_NET_DIR)\n",
    "\n",
    "from NomeroffNet.Base import OCR, convert_keras_to_freeze_pb"
   ]
  },
  {
   "cell_type": "code",
   "execution_count": 11,
   "metadata": {},
   "outputs": [],
   "source": [
    "class ru(OCR):\n",
    "    def __init__(self):\n",
    "        OCR.__init__(self)\n",
    "        # only for usage model\n",
    "        # in train generate automaticly\n",
    "        self.letters = [\"0\", \"1\", \"2\", \"3\", \"4\", \"5\", \"6\", \"7\", \"8\", \"9\", \"A\", \"B\", \"C\", \"E\", \"H\", \"K\", \"M\", \"O\", \"P\", \"T\", \"X\", \"Y\"]\n",
    "        \n",
    "        self.EPOCHS = 1"
   ]
  },
  {
   "cell_type": "code",
   "execution_count": 12,
   "metadata": {},
   "outputs": [
    {
     "name": "stdout",
     "output_type": "stream",
     "text": [
      "GET ALPHABET\n",
      "Max plate length in \"val\": 9\n",
      "Max plate length in \"train\": 9\n",
      "Max plate length in \"test\": 9\n",
      "Max plate length in train, test and val do match\n",
      "Letters in train, val and test do match\n",
      "Letters: 0 1 2 3 4 5 6 7 8 9 A B C E H K M O P T X Y\n",
      "\n",
      "EXPLAIN DATA TRANSFORMATIONS\n",
      "Text generator output (data which will be fed into the neutral network):\n",
      "1) the_input (image)\n",
      "2) the_labels (plate number): M004BY199 is encoded as [16, 0, 0, 4, 11, 21, 1, 9, 9]\n",
      "3) input_length (width of image that is fed to the loss function): 30 == 128 / 4 - 2\n",
      "4) label_length (length of plate number): 9\n",
      "START BUILD DATA\n",
      "DATA PREPARED\n"
     ]
    }
   ],
   "source": [
    "ocrTextDetector = ru()\n",
    "model = ocrTextDetector.prepare(PATH_TO_DATASET, aug_count=0)"
   ]
  },
  {
   "cell_type": "code",
   "execution_count": 14,
   "metadata": {},
   "outputs": [],
   "source": [
    "#model = ocrTextDetector.load(RESULT_MODEL_PATH)\n",
    "#RESULT_MODEL_PATH"
   ]
  },
  {
   "cell_type": "code",
   "execution_count": 8,
   "metadata": {},
   "outputs": [
    {
     "name": "stdout",
     "output_type": "stream",
     "text": [
      "\n",
      "START TRAINING\n",
      "__________________________________________________________________________________________________\n",
      "Layer (type)                    Output Shape         Param #     Connected to                     \n",
      "==================================================================================================\n",
      "the_input (InputLayer)          (None, 128, 64, 1)   0                                            \n",
      "__________________________________________________________________________________________________\n",
      "conv1 (Conv2D)                  (None, 128, 64, 16)  160         the_input[0][0]                  \n",
      "__________________________________________________________________________________________________\n",
      "max1 (MaxPooling2D)             (None, 64, 32, 16)   0           conv1[0][0]                      \n",
      "__________________________________________________________________________________________________\n",
      "conv2 (Conv2D)                  (None, 64, 32, 16)   2320        max1[0][0]                       \n",
      "__________________________________________________________________________________________________\n",
      "max2 (MaxPooling2D)             (None, 32, 16, 16)   0           conv2[0][0]                      \n",
      "__________________________________________________________________________________________________\n",
      "reshape (Reshape)               (None, 32, 256)      0           max2[0][0]                       \n",
      "__________________________________________________________________________________________________\n",
      "dense1 (Dense)                  (None, 32, 32)       8224        reshape[0][0]                    \n",
      "__________________________________________________________________________________________________\n",
      "gru1 (GRU)                      (None, 32, 512)      837120      dense1[0][0]                     \n",
      "__________________________________________________________________________________________________\n",
      "gru1_b (GRU)                    (None, 32, 512)      837120      dense1[0][0]                     \n",
      "__________________________________________________________________________________________________\n",
      "add_5 (Add)                     (None, 32, 512)      0           gru1[0][0]                       \n",
      "                                                                 gru1_b[0][0]                     \n",
      "__________________________________________________________________________________________________\n",
      "gru2 (GRU)                      (None, 32, 512)      1574400     add_5[0][0]                      \n",
      "__________________________________________________________________________________________________\n",
      "gru2_b (GRU)                    (None, 32, 512)      1574400     add_5[0][0]                      \n",
      "__________________________________________________________________________________________________\n",
      "concatenate_5 (Concatenate)     (None, 32, 1024)     0           gru2[0][0]                       \n",
      "                                                                 gru2_b[0][0]                     \n",
      "__________________________________________________________________________________________________\n",
      "dense2 (Dense)                  (None, 32, 23)       23575       concatenate_5[0][0]              \n",
      "__________________________________________________________________________________________________\n",
      "softmax (Activation)            (None, 32, 23)       0           dense2[0][0]                     \n",
      "==================================================================================================\n",
      "Total params: 4,857,319\n",
      "Trainable params: 4,857,319\n",
      "Non-trainable params: 0\n",
      "__________________________________________________________________________________________________\n",
      "Epoch 1/1\n",
      "4422/4422 [==============================] - 354s 80ms/step - loss: 0.9428 - val_loss: 0.4067\n"
     ]
    }
   ],
   "source": [
    "model = ocrTextDetector.train(mode=MODE, is_random=1)"
   ]
  },
  {
   "cell_type": "code",
   "execution_count": 15,
   "metadata": {},
   "outputs": [
    {
     "name": "stdout",
     "output_type": "stream",
     "text": [
      "\n",
      "RUN TEST\n",
      "\n",
      "Predicted: \t\t O653BX125\n",
      "True: \t\t\t H047BY125\n",
      "\n",
      "Predicted: \t\t B639MY16\n",
      "True: \t\t\t B639MY116\n",
      "\n",
      "Predicted: \t\t O536OO48\n",
      "True: \t\t\t O536OO43\n",
      "\n",
      "Predicted: \t\t M283YH31\n",
      "True: \t\t\t P709AH31\n",
      "\n",
      "Predicted: \t\t B936TM86\n",
      "True: \t\t\t B956TA86\n",
      "\n",
      "Predicted: \t\t Y512PK52\n",
      "True: \t\t\t Y542PK52\n",
      "\n",
      "Predicted: \t\t T659AP197\n",
      "True: \t\t\t T689AP197\n",
      "\n",
      "Predicted: \t\t H120HH32\n",
      "True: \t\t\t H120HH39\n",
      "\n",
      "Predicted: \t\t Y013YY6\n",
      "True: \t\t\t Y013YY26\n",
      "\n",
      "Predicted: \t\t X303PX02\n",
      "True: \t\t\t X303PK02\n",
      "\n",
      "Predicted: \t\t A302YT15\n",
      "True: \t\t\t A302TT152\n",
      "\n",
      "Predicted: \t\t X518XX51\n",
      "True: \t\t\t X518XX61\n",
      "\n",
      "Predicted: \t\t X123HK62\n",
      "True: \t\t\t Y123HK62\n",
      "\n",
      "Predicted: \t\t H577AMP197\n",
      "True: \t\t\t H577AP197\n",
      "\n",
      "Predicted: \t\t X193BH19\n",
      "True: \t\t\t X193BH197\n",
      "\n",
      "Predicted: \t\t E5B2PO46\n",
      "True: \t\t\t E282PO46\n",
      "\n",
      "Predicted: \t\t PM813KK31\n",
      "True: \t\t\t M813KK31\n",
      "\n",
      "Predicted: \t\t K707KH8\n",
      "True: \t\t\t K707KP58\n",
      "acc: 0.9633401221995926\n"
     ]
    }
   ],
   "source": [
    "ocrTextDetector.test(verbose=True)"
   ]
  },
  {
   "cell_type": "code",
   "execution_count": 10,
   "metadata": {},
   "outputs": [
    {
     "name": "stdout",
     "output_type": "stream",
     "text": [
      "SAVED TO /mnt/data/var/www/html2/js/nomeroff-net/models/anpr_ocr_ru_3-cpu.h5\n"
     ]
    }
   ],
   "source": [
    "ocrTextDetector.save(RESULT_MODEL_PATH, verbose=True)"
   ]
  },
  {
   "cell_type": "code",
   "execution_count": 13,
   "metadata": {},
   "outputs": [
    {
     "data": {
      "text/plain": [
       "'/mnt/data/var/www/html2/js/nomeroff-net/models/anpr_ocr_ru_3-cpu.h5'"
      ]
     },
     "execution_count": 13,
     "metadata": {},
     "output_type": "execute_result"
    }
   ],
   "source": [
    "RESULT_MODEL_PATH"
   ]
  },
  {
   "cell_type": "code",
   "execution_count": 14,
   "metadata": {},
   "outputs": [
    {
     "data": {
      "text/plain": [
       "<keras.engine.training.Model at 0x7f7ca417f048>"
      ]
     },
     "execution_count": 14,
     "metadata": {},
     "output_type": "execute_result"
    }
   ],
   "source": [
    "ocrTextDetector.load(RESULT_MODEL_PATH)"
   ]
  },
  {
   "cell_type": "markdown",
   "metadata": {},
   "source": [
    "### Convert keras OCR  .h5 model to .pb graph"
   ]
  },
  {
   "cell_type": "code",
   "execution_count": 16,
   "metadata": {},
   "outputs": [
    {
     "name": "stdout",
     "output_type": "stream",
     "text": [
      "OUTPUT: softmax_ru/truediv\n",
      "INPUT: the_input_ru\n",
      "__________________________________________________________________________________________________\n",
      "Layer (type)                    Output Shape         Param #     Connected to                     \n",
      "==================================================================================================\n",
      "the_input_ru (InputLayer)       (None, 128, 64, 1)   0                                            \n",
      "__________________________________________________________________________________________________\n",
      "conv1 (Conv2D)                  (None, 128, 64, 16)  160         the_input_ru[0][0]               \n",
      "__________________________________________________________________________________________________\n",
      "max1 (MaxPooling2D)             (None, 64, 32, 16)   0           conv1[0][0]                      \n",
      "__________________________________________________________________________________________________\n",
      "conv2 (Conv2D)                  (None, 64, 32, 16)   2320        max1[0][0]                       \n",
      "__________________________________________________________________________________________________\n",
      "max2 (MaxPooling2D)             (None, 32, 16, 16)   0           conv2[0][0]                      \n",
      "__________________________________________________________________________________________________\n",
      "reshape (Reshape)               (None, 32, 256)      0           max2[0][0]                       \n",
      "__________________________________________________________________________________________________\n",
      "dense1 (Dense)                  (None, 32, 32)       8224        reshape[0][0]                    \n",
      "__________________________________________________________________________________________________\n",
      "gru1 (GRU)                      (None, 32, 512)      837120      dense1[0][0]                     \n",
      "__________________________________________________________________________________________________\n",
      "gru1_b (GRU)                    (None, 32, 512)      837120      dense1[0][0]                     \n",
      "__________________________________________________________________________________________________\n",
      "add_5 (Add)                     (None, 32, 512)      0           gru1[0][0]                       \n",
      "                                                                 gru1_b[0][0]                     \n",
      "__________________________________________________________________________________________________\n",
      "gru2 (GRU)                      (None, 32, 512)      1574400     add_5[0][0]                      \n",
      "__________________________________________________________________________________________________\n",
      "gru2_b (GRU)                    (None, 32, 512)      1574400     add_5[0][0]                      \n",
      "__________________________________________________________________________________________________\n",
      "concatenate_5 (Concatenate)     (None, 32, 1024)     0           gru2[0][0]                       \n",
      "                                                                 gru2_b[0][0]                     \n",
      "__________________________________________________________________________________________________\n",
      "dense2 (Dense)                  (None, 32, 23)       23575       concatenate_5[0][0]              \n",
      "__________________________________________________________________________________________________\n",
      "softmax_ru (Activation)         (None, 32, 23)       0           dense2[0][0]                     \n",
      "==================================================================================================\n",
      "Total params: 4,857,319\n",
      "Trainable params: 4,857,319\n",
      "Non-trainable params: 0\n",
      "__________________________________________________________________________________________________\n"
     ]
    }
   ],
   "source": [
    "import keras\n",
    "keras.backend.clear_session()\n",
    "model = ocrTextDetector.load(RESULT_MODEL_PATH)\n",
    "convert_keras_to_freeze_pb(model, FROZEN_MODEL_PATH)"
   ]
  },
  {
   "cell_type": "code",
   "execution_count": 3,
   "metadata": {},
   "outputs": [],
   "source": [
    "# import keras\n",
    "# PATH = \"../models/anpr_ocr_ru_3-cpu.h5\"\n",
    "\n",
    "# model = keras.models.load_model(PATH, compile=False)\n",
    "# model.summary()\n",
    "\n",
    "# inp = model.get_layer(\"the_input\")\n",
    "# out = model.get_layer(\"softmax\")\n",
    "\n",
    "# # set new names\n",
    "# inp.name = \"the_input_ru\"\n",
    "# out.name = \"softmax_ru\"\n",
    "\n",
    "# net_inp = inp.input\n",
    "# net_out = out.output\n",
    "# model = keras.Model(input=net_inp, output=net_out)\n",
    "\n",
    "# model.summary()\n",
    "\n",
    "# model.save(PATH)\n"
   ]
  },
  {
   "cell_type": "code",
   "execution_count": null,
   "metadata": {},
   "outputs": [],
   "source": []
  }
 ],
 "metadata": {
  "kernelspec": {
   "display_name": "Python 3",
   "language": "python",
   "name": "python3"
  },
  "language_info": {
   "codemirror_mode": {
    "name": "ipython",
    "version": 3
   },
   "file_extension": ".py",
   "mimetype": "text/x-python",
   "name": "python",
   "nbconvert_exporter": "python",
   "pygments_lexer": "ipython3",
   "version": "3.6.8"
  }
 },
 "nbformat": 4,
 "nbformat_minor": 2
}
