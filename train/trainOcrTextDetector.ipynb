{
 "cells": [
  {
   "cell_type": "markdown",
   "metadata": {},
   "source": [
    "# Train OCR text Detector quick example"
   ]
  },
  {
   "cell_type": "code",
   "execution_count": 1,
   "metadata": {},
   "outputs": [
    {
     "name": "stderr",
     "output_type": "stream",
     "text": [
      "Using TensorFlow backend.\n"
     ]
    }
   ],
   "source": [
    "import os\n",
    "import sys\n",
    "\n",
    "# change this property\n",
    "NOMEROFF_NET_DIR = \"/var/www/html2/js/nomeroff-net/\"\n",
    "PATH_TO_AUTORIA_NUMBERPLATE_COUNTRY_DATASET = \"/mnt/datasets/anpr_ocr/data/\"\n",
    "MODEL_PATH = os.path.join(NOMEROFF_NET_DIR, \"models/ocr_np_text_trained.h5\")\n",
    "\n",
    "sys.path.append(NOMEROFF_NET_DIR)\n",
    "\n",
    "from NomeroffNet.Base import OCR"
   ]
  },
  {
   "cell_type": "code",
   "execution_count": 2,
   "metadata": {},
   "outputs": [],
   "source": [
    "#ocrTextDetector = OCR()"
   ]
  },
  {
   "cell_type": "code",
   "execution_count": 3,
   "metadata": {},
   "outputs": [],
   "source": [
    "#model = ocrTextDetector.train(\"/mnt/datasets/anpr_ocr/data\", model_path=MODEL_PATH)"
   ]
  },
  {
   "cell_type": "markdown",
   "metadata": {},
   "source": [
    "## Usage"
   ]
  },
  {
   "cell_type": "code",
   "execution_count": 4,
   "metadata": {},
   "outputs": [],
   "source": [
    "import matplotlib.image as mpimg\n",
    "\n",
    "class ukrOCR(OCR):\n",
    "    def __init__(self):\n",
    "        OCR.__init__(self)\n",
    "        self.letters = [\"0\", \"1\", \"2\", \"3\", \"4\", \"5\", \"6\", \"7\", \"8\", \"9\", \"A\", \"B\", \"C\", \"E\", \"H\", \"I\", \"K\", \"M\", \"O\", \"P\", \"T\", \"X\"] # just copy "
   ]
  },
  {
   "cell_type": "code",
   "execution_count": 5,
   "metadata": {},
   "outputs": [
    {
     "name": "stdout",
     "output_type": "stream",
     "text": [
      "WARNING:tensorflow:From /usr/local/lib/python3.6/site-packages/tensorflow/python/framework/op_def_library.py:263: colocate_with (from tensorflow.python.framework.ops) is deprecated and will be removed in a future version.\n",
      "Instructions for updating:\n",
      "Colocations handled automatically by placer.\n",
      "WARNING:tensorflow:From /usr/local/lib64/python3.6/site-packages/keras/backend/tensorflow_backend.py:4159: to_int32 (from tensorflow.python.ops.math_ops) is deprecated and will be removed in a future version.\n",
      "Instructions for updating:\n",
      "Use tf.cast instead.\n",
      "WARNING:tensorflow:From /usr/local/lib64/python3.6/site-packages/keras/backend/tensorflow_backend.py:4139: to_int64 (from tensorflow.python.ops.math_ops) is deprecated and will be removed in a future version.\n",
      "Instructions for updating:\n",
      "Use tf.cast instead.\n"
     ]
    },
    {
     "data": {
      "text/plain": [
       "<keras.engine.training.Model at 0x7f185943f2b0>"
      ]
     },
     "execution_count": 5,
     "metadata": {},
     "output_type": "execute_result"
    }
   ],
   "source": [
    "textDetector = ukrOCR()\n",
    "textDetector.load(os.path.join(\"../models/anpr_ocr_ua_1_2_11-gpu.h5\"))"
   ]
  },
  {
   "cell_type": "code",
   "execution_count": 6,
   "metadata": {},
   "outputs": [
    {
     "name": "stderr",
     "output_type": "stream",
     "text": [
      "/var/www/html2/js/nomeroff-net/NomeroffNet/Base/OCR.py:248: UserWarning: Update your `Model` call to the Keras 2 API: `Model(inputs=Tensor(\"th..., outputs=Tensor(\"so...)`\n",
      "  model = Model(input=net_inp, output=net_out)\n"
     ]
    },
    {
     "name": "stdout",
     "output_type": "stream",
     "text": [
      "/data/test/anpr_ocr/test/img/BE6287AM.png\n",
      "Predicted: \t\t\t BE6087AM\n",
      "Annotate: \t\t\t BE6287AM\n",
      "/data/test/anpr_ocr/test/img/BC1270AM.png\n",
      "Predicted: \t\t\t BC12103T\n",
      "Annotate: \t\t\t BC1210AM\n",
      "/data/test/anpr_ocr/test/img/AA6935TH.png\n",
      "Predicted: \t\t\t AA6935T\n",
      "Annotate: \t\t\t AA6935TX\n",
      "/data/test/anpr_ocr/test/img/AA0714BP.png\n",
      "Predicted: \t\t\t AA0145PXM\n",
      "Annotate: \t\t\t AA0145PX\n",
      "/data/test/anpr_ocr/test/img/AC7026BO.png\n",
      "Predicted: \t\t\t AO7026BO\n",
      "Annotate: \t\t\t AC7026BO\n",
      "/data/test/anpr_ocr/test/img/AI1000OC.png\n",
      "Predicted: \t\t\t AI1000CC\n",
      "Annotate: \t\t\t AI1000OC\n",
      "/data/test/anpr_ocr/test/img/AI4637HE.png\n",
      "Predicted: \t\t\t AI4637BE\n",
      "Annotate: \t\t\t AI4637HE\n",
      "/data/test/anpr_ocr/test/img/AI2268EP.png\n",
      "Predicted: \t\t\t AI2268EB\n",
      "Annotate: \t\t\t AI2268EP\n",
      "/data/test/anpr_ocr/test/img/AC2846AP.png\n",
      "Predicted: \t\t\t AC2846AP\n",
      "Annotate: \t\t\t AC2046AP\n",
      "/data/test/anpr_ocr/test/img/BK0695CA.png\n",
      "Predicted: \t\t\t BK0696CA\n",
      "Annotate: \t\t\t BK0695CA\n",
      "/data/test/anpr_ocr/test/img/AC2282CE.png\n",
      "Predicted: \t\t\t AE2282CE\n",
      "Annotate: \t\t\t BE2282CE\n",
      "/data/test/anpr_ocr/test/img/CE4305AM.png\n",
      "Predicted: \t\t\t CE4309AMM\n",
      "Annotate: \t\t\t CE4309AM\n",
      "/data/test/anpr_ocr/test/img/BX5824AB.png\n",
      "Predicted: \t\t\t BM5824AB\n",
      "Annotate: \t\t\t BX5824AB\n",
      "/data/test/anpr_ocr/test/img/BI1901CO.png\n",
      "Predicted: \t\t\t BO7907P\n",
      "Annotate: \t\t\t AI7907CP\n",
      "/data/test/anpr_ocr/test/img/AC3396CB.png\n",
      "Predicted: \t\t\t E8333CA\n",
      "Annotate: \t\t\t AM1031CA\n",
      "66.60916256904602\n"
     ]
    }
   ],
   "source": [
    "import cv2\n",
    "import numpy as np\n",
    "import os\n",
    "import json\n",
    "import time\n",
    "\n",
    "time1 = time.time()\n",
    "\n",
    "rootDir = '/data/test/anpr_ocr/test'\n",
    "\n",
    "anns = os.path.join(rootDir, \"ann\")\n",
    "imgs = os.path.join(rootDir, \"img\")\n",
    "for dirName, subdirList, fileList in os.walk(imgs):\n",
    "    for fname in fileList:\n",
    "        full_fname = os.path.join(dirName, fname)\n",
    "        img = cv2.imread(full_fname)\n",
    "        \n",
    "        predicted = textDetector.predict(img)\n",
    "        \n",
    "        full_ann_fname = os.path.join(anns, f\"{fname[:-4]}.json\")\n",
    "        with open(full_ann_fname) as fann:\n",
    "            data_ann = json.load(fann)\n",
    "        \n",
    "        if data_ann['description'] != predicted:\n",
    "            print(full_fname)\n",
    "            print(f\"Predicted: \\t\\t\\t {predicted}\")\n",
    "            print(f\"Annotate: \\t\\t\\t {data_ann['description']}\")\n",
    "            \n",
    "print(time.time() - time1)"
   ]
  },
  {
   "cell_type": "code",
   "execution_count": 7,
   "metadata": {},
   "outputs": [
    {
     "data": {
      "text/plain": [
       "0.8448425310603872"
      ]
     },
     "execution_count": 7,
     "metadata": {},
     "output_type": "execute_result"
    }
   ],
   "source": [
    "(3807+4965)/(12017-1634)"
   ]
  },
  {
   "cell_type": "code",
   "execution_count": 8,
   "metadata": {},
   "outputs": [
    {
     "data": {
      "text/plain": [
       "0.9587798845836768"
      ]
     },
     "execution_count": 8,
     "metadata": {},
     "output_type": "execute_result"
    }
   ],
   "source": [
    "(2037+1452)/(4255-616)"
   ]
  },
  {
   "cell_type": "code",
   "execution_count": 9,
   "metadata": {},
   "outputs": [
    {
     "data": {
      "text/plain": [
       "0.9547803617571059"
      ]
     },
     "execution_count": 9,
     "metadata": {},
     "output_type": "execute_result"
    }
   ],
   "source": [
    "(2091+1604)/(4458-588)"
   ]
  },
  {
   "cell_type": "code",
   "execution_count": 10,
   "metadata": {},
   "outputs": [
    {
     "data": {
      "text/plain": [
       "0.8444986890877859"
      ]
     },
     "execution_count": 10,
     "metadata": {},
     "output_type": "execute_result"
    }
   ],
   "source": [
    "(3607+5734)/(12637-1576)"
   ]
  },
  {
   "cell_type": "code",
   "execution_count": 11,
   "metadata": {},
   "outputs": [
    {
     "data": {
      "text/plain": [
       "True"
      ]
     },
     "execution_count": 11,
     "metadata": {},
     "output_type": "execute_result"
    }
   ],
   "source": [
    "1 in (1, 2)"
   ]
  },
  {
   "cell_type": "code",
   "execution_count": 12,
   "metadata": {},
   "outputs": [
    {
     "data": {
      "text/plain": [
       "0.8510508945631405"
      ]
     },
     "execution_count": 12,
     "metadata": {},
     "output_type": "execute_result"
    }
   ],
   "source": [
    "(3837+5962)/(13755-2241)"
   ]
  },
  {
   "cell_type": "code",
   "execution_count": 13,
   "metadata": {},
   "outputs": [
    {
     "data": {
      "text/plain": [
       "0.9503105590062112"
      ]
     },
     "execution_count": 13,
     "metadata": {},
     "output_type": "execute_result"
    }
   ],
   "source": [
    "(2208+1617)/(4814-789)"
   ]
  },
  {
   "cell_type": "code",
   "execution_count": 14,
   "metadata": {},
   "outputs": [
    {
     "data": {
      "text/plain": [
       "0.8335120643431635"
      ]
     },
     "execution_count": 14,
     "metadata": {},
     "output_type": "execute_result"
    }
   ],
   "source": [
    "(2766+3452)/(8852-1392)"
   ]
  },
  {
   "cell_type": "code",
   "execution_count": 15,
   "metadata": {},
   "outputs": [
    {
     "data": {
      "text/plain": [
       "0.9490491567994259"
      ]
     },
     "execution_count": 15,
     "metadata": {},
     "output_type": "execute_result"
    }
   ],
   "source": [
    "(1581+1064)/(3270-483)"
   ]
  },
  {
   "cell_type": "code",
   "execution_count": null,
   "metadata": {},
   "outputs": [],
   "source": []
  }
 ],
 "metadata": {
  "kernelspec": {
   "display_name": "Python 3",
   "language": "python",
   "name": "python3"
  },
  "language_info": {
   "codemirror_mode": {
    "name": "ipython",
    "version": 3
   },
   "file_extension": ".py",
   "mimetype": "text/x-python",
   "name": "python",
   "nbconvert_exporter": "python",
   "pygments_lexer": "ipython3",
   "version": "3.6.8"
  }
 },
 "nbformat": 4,
 "nbformat_minor": 2
}
