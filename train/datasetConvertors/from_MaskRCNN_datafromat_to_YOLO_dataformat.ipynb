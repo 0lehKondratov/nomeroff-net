{
 "cells": [
  {
   "cell_type": "code",
   "execution_count": 1,
   "metadata": {},
   "outputs": [],
   "source": [
    "import sys\n",
    "import os\n",
    "import json\n",
    "import glob\n",
    "import cv2\n",
    "import tqdm\n",
    "import matplotlib.pyplot as plt\n",
    "from PIL import Image\n",
    "from PIL import ExifTags\n",
    "import numpy as np\n",
    "from PIL import ImageOps"
   ]
  },
  {
   "cell_type": "code",
   "execution_count": 2,
   "metadata": {},
   "outputs": [],
   "source": [
    "CLASSES = ['numberplate']\n",
    "STATES  = [\"val\",\"train\"]#\n",
    "\n",
    "PATH_TO_RES_ANN = \"./npdata/labels/{}\"\n",
    "PATH_TO_RES_IMAGES  = \"./npdata/images/{}\"\n",
    "\n",
    "PATH_TO_JSON    = \"./autoriaNumberplateDataset-2021-03-01/{}/via_region_data.json\"\n",
    "PATH_TO_IMAGES  = \"./autoriaNumberplateDataset-2021-03-01/{}\""
   ]
  },
  {
   "cell_type": "code",
   "execution_count": 3,
   "metadata": {},
   "outputs": [],
   "source": [
    "%matplotlib inline\n",
    "plt.rcParams[\"figure.figsize\"] = (20,10)"
   ]
  },
  {
   "cell_type": "code",
   "execution_count": 4,
   "metadata": {},
   "outputs": [],
   "source": [
    "def rotate_image_by_exif(image):\n",
    "    \"\"\"\n",
    "    Rotate photo\n",
    "\n",
    "    Parameters\n",
    "    ----------\n",
    "    image\n",
    "    \"\"\"\n",
    "    try:\n",
    "        orientation = 274  # key of orientation ExifTags\n",
    "        if image._getexif() is not None:\n",
    "            exif = dict(image._getexif().items())\n",
    "            if orientation in exif.keys():\n",
    "                if exif[orientation] == 3:\n",
    "                    image = image.rotate(180, expand=True)\n",
    "                    image = ImageOps.mirror(image)\n",
    "                elif exif[orientation] == 6:\n",
    "                    image = image.rotate(270, expand=True)\n",
    "                    image = ImageOps.mirror(image)\n",
    "                elif exif[orientation] == 8:\n",
    "                    image = image.rotate(90, expand=True)\n",
    "                    image = ImageOps.mirror(image)\n",
    "    except AttributeError:\n",
    "        pass\n",
    "    return image"
   ]
  },
  {
   "cell_type": "code",
   "execution_count": 5,
   "metadata": {},
   "outputs": [],
   "source": [
    "def load_annotations(path_to_res_ann, \n",
    "                     path_to_res_images, \n",
    "                     path_to_images, \n",
    "                     path_to_json, classes = ['numberplate'], debug=True):\n",
    "    with open(path_to_json) as ann:\n",
    "        annData = json.load(ann)\n",
    "    cat2label = {k: i for i, k in enumerate(classes)}\n",
    "    image_list = annData\n",
    "    \n",
    "    for _id in tqdm.tqdm(image_list[\"_via_img_metadata\"]):\n",
    "        is_corrupted = 0\n",
    "        image_id = image_list[\"_via_img_metadata\"][_id][\"filename\"]\n",
    "        filename = f'{path_to_images}/{image_id}'\n",
    "        #print(filename)\n",
    "        pil_image = Image.open(filename)\n",
    "        pil_image = rotate_image_by_exif(pil_image)\n",
    "        image = np.array(pil_image)\n",
    "        height, width, c = image.shape\n",
    "        to_txt_data = []\n",
    "        for region in image_list[\"_via_img_metadata\"][_id][\"regions\"]:\n",
    "            label_id  = 0\n",
    "            #label_id = cat2label[bbox_name]\n",
    "            if region[\"shape_attributes\"].get(\"all_points_x\", None) is None:\n",
    "                continue\n",
    "            if region[\"shape_attributes\"].get(\"all_points_y\", None) is None:\n",
    "                continue\n",
    "            bbox = [\n",
    "                min(region[\"shape_attributes\"][\"all_points_x\"]),\n",
    "                min(region[\"shape_attributes\"][\"all_points_y\"]),\n",
    "                max(region[\"shape_attributes\"][\"all_points_x\"]),\n",
    "                max(region[\"shape_attributes\"][\"all_points_y\"]),\n",
    "            ]\n",
    "            \n",
    "            w = bbox[2] - bbox[0]\n",
    "            h = bbox[3] - bbox[1]\n",
    "            \n",
    "            mx = bbox[0]+w/2\n",
    "            my = bbox[1]+h/2\n",
    "            \n",
    "            # class x_center y_center width height\n",
    "            yolo_bbox = [label_id, mx/width, my/height, w/width, h/height]\n",
    "            if yolo_bbox[1] >= 1 \\\n",
    "                or yolo_bbox[2] >= 1 \\\n",
    "                or yolo_bbox[3] >= 1 \\\n",
    "                or yolo_bbox[4] >= 1:\n",
    "                print(\"[corrupted]\", filename, width, height)\n",
    "                print(bbox)\n",
    "                print(yolo_bbox)\n",
    "                is_corrupted = 1\n",
    "            yolo_bbox = \" \".join([str(item) for item in yolo_bbox])\n",
    "            to_txt_data.append(yolo_bbox)\n",
    "            if debug or is_corrupted:\n",
    "                cv2.rectangle(image, \n",
    "                    (int(bbox[0]), int(bbox[1])), \n",
    "                    (int(bbox[2]), int(bbox[3])), \n",
    "                    (0,120,255), \n",
    "                    3)\n",
    "        \n",
    "        res_path =  f'{path_to_res_ann}/{\".\".join(image_id.split(\".\")[:-1])}.txt'\n",
    "        if debug or is_corrupted:\n",
    "            print(res_path)\n",
    "            print(\"\\n\".join(to_txt_data))\n",
    "            print(\"______________________\")\n",
    "            plt.imshow(image)\n",
    "            plt.show()\n",
    "            pass\n",
    "        else:\n",
    "            with open(res_path, \"w\") as wFile:\n",
    "                wFile.write(\"\\n\".join(to_txt_data))\n",
    "            cv2.imwrite(os.path.join(path_to_res_images, os.path.basename(filename)), image)"
   ]
  },
  {
   "cell_type": "markdown",
   "metadata": {},
   "source": [
    "<img src=\"https://user-images.githubusercontent.com/26833433/98809572-0bc4d580-241e-11eb-844e-eee756f878c2.png\">"
   ]
  },
  {
   "cell_type": "code",
   "execution_count": null,
   "metadata": {
    "scrolled": false
   },
   "outputs": [
    {
     "name": "stderr",
     "output_type": "stream",
     "text": [
      "100%|██████████| 376/376 [00:09<00:00, 37.81it/s]\n",
      " 30%|███       | 1443/4776 [00:36<01:30, 36.77it/s]"
     ]
    }
   ],
   "source": [
    "for state in STATES:\n",
    "    path_to_res_ann    = PATH_TO_RES_ANN.format(state)\n",
    "    path_to_res_images = PATH_TO_RES_IMAGES.format(state)\n",
    "    \n",
    "    path_to_json    = PATH_TO_JSON.format(state)\n",
    "    path_to_images  = PATH_TO_IMAGES.format(state)\n",
    "    \n",
    "    load_annotations(path_to_res_ann, \n",
    "                     path_to_res_images,\n",
    "                     path_to_images, \n",
    "                     path_to_json, \n",
    "                     debug=False)"
   ]
  },
  {
   "cell_type": "code",
   "execution_count": null,
   "metadata": {},
   "outputs": [],
   "source": [
    "# deleted 369353199-28729250.jpeg\n"
   ]
  },
  {
   "cell_type": "code",
   "execution_count": 24,
   "metadata": {},
   "outputs": [
    {
     "data": {
      "text/plain": [
       "2"
      ]
     },
     "execution_count": 24,
     "metadata": {},
     "output_type": "execute_result"
    }
   ],
   "source": [
    "1+1"
   ]
  },
  {
   "cell_type": "code",
   "execution_count": null,
   "metadata": {},
   "outputs": [],
   "source": []
  }
 ],
 "metadata": {
  "kernelspec": {
   "display_name": "Python 3",
   "language": "python",
   "name": "python3"
  },
  "language_info": {
   "codemirror_mode": {
    "name": "ipython",
    "version": 3
   },
   "file_extension": ".py",
   "mimetype": "text/x-python",
   "name": "python",
   "nbconvert_exporter": "python",
   "pygments_lexer": "ipython3",
   "version": "3.9.0"
  }
 },
 "nbformat": 4,
 "nbformat_minor": 4
}
