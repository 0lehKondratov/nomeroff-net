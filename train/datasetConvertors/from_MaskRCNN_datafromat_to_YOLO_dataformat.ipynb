{
 "cells": [
  {
   "cell_type": "code",
   "execution_count": 1,
   "metadata": {},
   "outputs": [],
   "source": [
    "import sys\n",
    "import os\n",
    "import json\n",
    "import glob\n",
    "import cv2\n",
    "import tqdm\n",
    "import matplotlib.pyplot as plt\n",
    "from PIL import Image\n",
    "from PIL import ExifTags\n",
    "import numpy as np"
   ]
  },
  {
   "cell_type": "code",
   "execution_count": 2,
   "metadata": {},
   "outputs": [],
   "source": [
    "CLASSES = ['numberplate']\n",
    "STATES  = [\"train\", \"val\"]\n",
    "\n",
    "PATH_TO_JSON    = \"./npdata/{}/via_region_data.json\"\n",
    "PATH_TO_RES_ANN = \"./npdata/labels/{}\"\n",
    "PATH_TO_IMAGES  = \"./npdata/images/{}\""
   ]
  },
  {
   "cell_type": "code",
   "execution_count": 3,
   "metadata": {},
   "outputs": [],
   "source": [
    "%matplotlib inline\n",
    "plt.rcParams[\"figure.figsize\"] = (20,10)"
   ]
  },
  {
   "cell_type": "code",
   "execution_count": 6,
   "metadata": {},
   "outputs": [],
   "source": [
    "def load_annotations(path_to_res_ann, path_to_images, path_to_json, classes = ['numberplate'], debug=True):\n",
    "    with open(path_to_json) as ann:\n",
    "        annData = json.load(ann)\n",
    "    cat2label = {k: i for i, k in enumerate(classes)}\n",
    "    image_list = annData\n",
    "    \n",
    "    for _id in tqdm.tqdm(image_list[\"_via_img_metadata\"]):\n",
    "        image_id = image_list[\"_via_img_metadata\"][_id][\"filename\"]\n",
    "        filename = f'{path_to_images}/{image_id}'\n",
    "        pil_image = Image.open(filename)\n",
    "        image = np.array(pil_image)\n",
    "        width, height= pil_image.size\n",
    "        \n",
    "        to_txt_data = []\n",
    "        for region in image_list[\"_via_img_metadata\"][_id][\"regions\"]:\n",
    "            label_id  = 0\n",
    "            #label_id = cat2label[bbox_name]\n",
    "            if region[\"shape_attributes\"].get(\"all_points_x\", None) is None:\n",
    "                continue\n",
    "            if region[\"shape_attributes\"].get(\"all_points_y\", None) is None:\n",
    "                continue\n",
    "            bbox = [\n",
    "                min(region[\"shape_attributes\"][\"all_points_x\"]),\n",
    "                min(region[\"shape_attributes\"][\"all_points_y\"]),\n",
    "                max(region[\"shape_attributes\"][\"all_points_x\"]),\n",
    "                max(region[\"shape_attributes\"][\"all_points_y\"]),\n",
    "            ]\n",
    "            \n",
    "            w = bbox[2] - bbox[0]\n",
    "            h = bbox[3] - bbox[1]\n",
    "            \n",
    "            mx = bbox[0]+w/2\n",
    "            my = bbox[1]+h/2\n",
    "            \n",
    "            # class x_center y_center width height\n",
    "            yolo_bbox = \" \".join([str(item) for item in [label_id, mx/width, my/height, w/width, h/height]])\n",
    "            to_txt_data.append(yolo_bbox)\n",
    "            if debug:\n",
    "                cv2.rectangle(image, \n",
    "                    (int(bbox[0]), int(bbox[1])), \n",
    "                    (int(bbox[2]), int(bbox[3])), \n",
    "                    (0,120,255), \n",
    "                    3)\n",
    "        \n",
    "        res_path =  f'{path_to_res_ann}/{\".\".join(image_id.split(\".\")[:-1])}.txt'\n",
    "        if debug:\n",
    "            print(res_path)\n",
    "            print(\"\\n\".join(to_txt_data))\n",
    "            print(\"______________________\")\n",
    "            plt.imshow(image)\n",
    "            plt.show()\n",
    "            \n",
    "        else:\n",
    "            with open(res_path, \"w\") as wFile:\n",
    "                wFile.write(\"\\n\".join(to_txt_data))\n",
    "            pil_image.save(filename)"
   ]
  },
  {
   "cell_type": "markdown",
   "metadata": {},
   "source": [
    "<img src=\"https://user-images.githubusercontent.com/26833433/98809572-0bc4d580-241e-11eb-844e-eee756f878c2.png\">"
   ]
  },
  {
   "cell_type": "code",
   "execution_count": 7,
   "metadata": {
    "scrolled": false
   },
   "outputs": [
    {
     "name": "stderr",
     "output_type": "stream",
     "text": [
      "100%|██████████| 2748/2748 [00:35<00:00, 76.73it/s] \n",
      "100%|██████████| 376/376 [00:04<00:00, 80.28it/s]\n"
     ]
    }
   ],
   "source": [
    "for state in STATES:\n",
    "    path_to_json    = PATH_TO_JSON.format(state)\n",
    "    path_to_res_ann = PATH_TO_RES_ANN.format(state)\n",
    "    path_to_images  = PATH_TO_IMAGES.format(state)\n",
    "    \n",
    "    load_annotations(path_to_res_ann, path_to_images, path_to_json, debug=False)"
   ]
  },
  {
   "cell_type": "code",
   "execution_count": null,
   "metadata": {},
   "outputs": [],
   "source": []
  }
 ],
 "metadata": {
  "kernelspec": {
   "display_name": "Python 3",
   "language": "python",
   "name": "python3"
  },
  "language_info": {
   "codemirror_mode": {
    "name": "ipython",
    "version": 3
   },
   "file_extension": ".py",
   "mimetype": "text/x-python",
   "name": "python",
   "nbconvert_exporter": "python",
   "pygments_lexer": "ipython3",
   "version": "3.9.0"
  }
 },
 "nbformat": 4,
 "nbformat_minor": 4
}
