{
 "cells": [
  {
   "cell_type": "markdown",
   "metadata": {},
   "source": [
    "# Convert h5 model to trt model"
   ]
  },
  {
   "cell_type": "code",
   "execution_count": 1,
   "metadata": {},
   "outputs": [],
   "source": [
    "import sys \n",
    "import os\n",
    "\n",
    "NOMEROFF_NET_DIR = \"../../\"\n",
    "\n",
    "# setup result model dirs\n",
    "SAVED_MODEL_DIR  = os.path.join(NOMEROFF_NET_DIR, \"./models/saved_model_ocr_eu\")\n",
    "TRT_SAVED_MODEL_DIR  = os.path.join(NOMEROFF_NET_DIR, \"./models/trt_saved_model_ocr_eu\")\n",
    "\n",
    "sys.path.append(NOMEROFF_NET_DIR)"
   ]
  },
  {
   "cell_type": "code",
   "execution_count": 2,
   "metadata": {},
   "outputs": [],
   "source": [
    "import tensorflow as tf\n",
    "import matplotlib.image as mpimg\n",
    "\n",
    "from NomeroffNet import  TextDetector"
   ]
  },
  {
   "cell_type": "markdown",
   "metadata": {},
   "source": [
    "## load latest h5 model"
   ]
  },
  {
   "cell_type": "code",
   "execution_count": 3,
   "metadata": {},
   "outputs": [
    {
     "data": {
      "text/plain": [
       "<tensorflow.python.keras.engine.functional.Functional at 0x7fce0414f080>"
      ]
     },
     "execution_count": 3,
     "metadata": {},
     "output_type": "execute_result"
    }
   ],
   "source": [
    "textDetector = TextDetector.get_static_module(\"eu\")()\n",
    "textDetector.load(\"latest\")"
   ]
  },
  {
   "cell_type": "code",
   "execution_count": 4,
   "metadata": {},
   "outputs": [
    {
     "name": "stdout",
     "output_type": "stream",
     "text": [
      "Model: \"functional_1\"\n",
      "__________________________________________________________________________________________________\n",
      "Layer (type)                    Output Shape         Param #     Connected to                     \n",
      "==================================================================================================\n",
      "the_input_eu (InputLayer)       [(None, 128, 64, 1)] 0                                            \n",
      "__________________________________________________________________________________________________\n",
      "conv1 (Conv2D)                  (None, 128, 64, 16)  160         the_input_eu[0][0]               \n",
      "__________________________________________________________________________________________________\n",
      "max1 (MaxPooling2D)             (None, 64, 32, 16)   0           conv1[0][0]                      \n",
      "__________________________________________________________________________________________________\n",
      "conv2 (Conv2D)                  (None, 64, 32, 16)   2320        max1[0][0]                       \n",
      "__________________________________________________________________________________________________\n",
      "max2 (MaxPooling2D)             (None, 32, 16, 16)   0           conv2[0][0]                      \n",
      "__________________________________________________________________________________________________\n",
      "reshape (Reshape)               (None, 32, 256)      0           max2[0][0]                       \n",
      "__________________________________________________________________________________________________\n",
      "dense1 (Dense)                  (None, 32, 32)       8224        reshape[0][0]                    \n",
      "__________________________________________________________________________________________________\n",
      "gru1 (GRU)                      (None, 32, 512)      838656      dense1[0][0]                     \n",
      "__________________________________________________________________________________________________\n",
      "gru1_b (GRU)                    (None, 32, 512)      838656      dense1[0][0]                     \n",
      "__________________________________________________________________________________________________\n",
      "add_13 (Add)                    (None, 32, 512)      0           gru1[0][0]                       \n",
      "                                                                 gru1_b[0][0]                     \n",
      "__________________________________________________________________________________________________\n",
      "gru2 (GRU)                      (None, 32, 512)      1575936     add_13[0][0]                     \n",
      "__________________________________________________________________________________________________\n",
      "gru2_b (GRU)                    (None, 32, 512)      1575936     add_13[0][0]                     \n",
      "__________________________________________________________________________________________________\n",
      "concatenate_13 (Concatenate)    (None, 32, 1024)     0           gru2[0][0]                       \n",
      "                                                                 gru2_b[0][0]                     \n",
      "__________________________________________________________________________________________________\n",
      "dense2 (Dense)                  (None, 32, 37)       37925       concatenate_13[0][0]             \n",
      "__________________________________________________________________________________________________\n",
      "softmax_eu (Activation)         (None, 32, 37)       0           dense2[0][0]                     \n",
      "==================================================================================================\n",
      "Total params: 4,877,813\n",
      "Trainable params: 4,877,813\n",
      "Non-trainable params: 0\n",
      "__________________________________________________________________________________________________\n"
     ]
    }
   ],
   "source": [
    "textDetector.MODEL.summary()"
   ]
  },
  {
   "cell_type": "markdown",
   "metadata": {},
   "source": [
    "## convert to pb model"
   ]
  },
  {
   "cell_type": "code",
   "execution_count": 5,
   "metadata": {},
   "outputs": [
    {
     "name": "stdout",
     "output_type": "stream",
     "text": [
      "WARNING:tensorflow:From /usr/local/lib/python3.6/dist-packages/tensorflow/python/training/tracking/tracking.py:111: Model.state_updates (from tensorflow.python.keras.engine.training) is deprecated and will be removed in a future version.\n",
      "Instructions for updating:\n",
      "This property should not be used in TensorFlow 2.0, as updates are applied automatically.\n",
      "WARNING:tensorflow:From /usr/local/lib/python3.6/dist-packages/tensorflow/python/training/tracking/tracking.py:111: Layer.updates (from tensorflow.python.keras.engine.base_layer) is deprecated and will be removed in a future version.\n",
      "Instructions for updating:\n",
      "This property should not be used in TensorFlow 2.0, as updates are applied automatically.\n",
      "INFO:tensorflow:Assets written to: ../.././models/saved_model_ocr_eu/assets\n"
     ]
    }
   ],
   "source": [
    "tf.saved_model.save(textDetector.MODEL, SAVED_MODEL_DIR)"
   ]
  },
  {
   "cell_type": "markdown",
   "metadata": {},
   "source": [
    "## convert pb model to trt model"
   ]
  },
  {
   "cell_type": "code",
   "execution_count": 6,
   "metadata": {},
   "outputs": [
    {
     "name": "stdout",
     "output_type": "stream",
     "text": [
      "INFO:tensorflow:Linked TensorRT version: (7, 1, 3)\n",
      "INFO:tensorflow:Loaded TensorRT version: (7, 1, 3)\n",
      "INFO:tensorflow:Assets written to: ../.././models/trt_saved_model_ocr_eu/assets\n"
     ]
    }
   ],
   "source": [
    "params = tf.experimental.tensorrt.ConversionParams(\n",
    "    minimum_segment_size=50,\n",
    "    max_workspace_size_bytes=1 << 25,\n",
    "    precision_mode  = \"FP16\",\n",
    ")\n",
    "\n",
    "converter = tf.experimental.tensorrt.Converter(\n",
    "    input_saved_model_dir=SAVED_MODEL_DIR,\n",
    "    conversion_params=params)\n",
    "converter.convert()\n",
    "converter.save(TRT_SAVED_MODEL_DIR)"
   ]
  },
  {
   "cell_type": "markdown",
   "metadata": {},
   "source": [
    "## run trt model"
   ]
  },
  {
   "cell_type": "code",
   "execution_count": 7,
   "metadata": {},
   "outputs": [],
   "source": [
    "saved_model_loaded = tf.saved_model.load(TRT_SAVED_MODEL_DIR)"
   ]
  },
  {
   "cell_type": "code",
   "execution_count": 8,
   "metadata": {},
   "outputs": [],
   "source": [
    "import matplotlib.image as mpimg\n",
    "import numpy as np\n",
    "\n",
    "img_path = '../../examples/crop_np_images/JJF509.png'\n",
    "imgs = [mpimg.imread(img_path)]\n",
    "Xs = []\n",
    "for img in imgs:\n",
    "    Xs.append(textDetector.normalize_pb(img[:,:,:3]))"
   ]
  },
  {
   "cell_type": "code",
   "execution_count": 9,
   "metadata": {},
   "outputs": [],
   "source": [
    "f = saved_model_loaded.signatures[\"serving_default\"]"
   ]
  },
  {
   "cell_type": "code",
   "execution_count": 10,
   "metadata": {},
   "outputs": [],
   "source": [
    "tensorX = tf.convert_to_tensor(np.array(Xs).astype(np.float32))"
   ]
  },
  {
   "cell_type": "code",
   "execution_count": 11,
   "metadata": {},
   "outputs": [
    {
     "data": {
      "text/plain": [
       "<tf.Tensor: shape=(1, 32, 37), dtype=float32, numpy=\n",
       "array([[[6.6797278e-05, 3.7861180e-03, 3.2796801e-05, ...,\n",
       "         1.5257907e-02, 4.9162541e-06, 5.6130207e-01],\n",
       "        [5.4070333e-12, 2.1345683e-09, 2.8306021e-12, ...,\n",
       "         1.4669770e-08, 6.8138447e-13, 9.9999869e-01],\n",
       "        [7.3350289e-21, 6.7008826e-18, 6.6396486e-22, ...,\n",
       "         1.1695365e-17, 1.2215078e-20, 1.0000000e+00],\n",
       "        ...,\n",
       "        [5.8439135e-21, 4.0507810e-24, 4.5943956e-23, ...,\n",
       "         4.2304713e-24, 2.1328006e-28, 1.0000000e+00],\n",
       "        [1.3270533e-11, 5.1692188e-14, 6.1852731e-13, ...,\n",
       "         1.0263432e-16, 8.0694207e-18, 9.9990261e-01],\n",
       "        [7.7257534e-10, 3.9994804e-12, 2.8472367e-09, ...,\n",
       "         4.2879600e-16, 2.1247113e-16, 1.4693139e-11]]], dtype=float32)>"
      ]
     },
     "execution_count": 11,
     "metadata": {},
     "output_type": "execute_result"
    }
   ],
   "source": [
    "f(tensorX)[\"softmax_eu\"]"
   ]
  },
  {
   "cell_type": "code",
   "execution_count": null,
   "metadata": {},
   "outputs": [],
   "source": []
  }
 ],
 "metadata": {
  "kernelspec": {
   "display_name": "Python 3",
   "language": "python",
   "name": "python3"
  },
  "language_info": {
   "codemirror_mode": {
    "name": "ipython",
    "version": 3
   },
   "file_extension": ".py",
   "mimetype": "text/x-python",
   "name": "python",
   "nbconvert_exporter": "python",
   "pygments_lexer": "ipython3",
   "version": "3.6.9"
  }
 },
 "nbformat": 4,
 "nbformat_minor": 4
}
