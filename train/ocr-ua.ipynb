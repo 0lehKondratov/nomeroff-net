{
 "cells": [
  {
   "cell_type": "markdown",
   "metadata": {},
   "source": [
    "# Train OCR text Detector quick example"
   ]
  },
  {
   "cell_type": "markdown",
   "metadata": {},
   "source": [
    "For train datasets please download last version of ocr datasets [https://nomeroff.net.ua/datasets/](https://nomeroff.net.ua/datasets/). Unpack archive and rename to **./datasets/ocr** .\n",
    "For examle\n",
    "```bash\n",
    "cd ./datasets/ocr\n",
    "wget https://nomeroff.net.ua/datasets/autoriaNumberplateOcrUa-2019-02-19.zip\n",
    "unzip autoriaNumberplateOcrUa-2019-02-19.zip\n",
    "mv autoriaNumberplateOcrUa-2019-02-19 ua\n",
    "```\n",
    "or use your own dataset."
   ]
  },
  {
   "cell_type": "code",
   "execution_count": 6,
   "metadata": {},
   "outputs": [],
   "source": [
    "import os\n",
    "import sys\n",
    "import warnings\n",
    "warnings.filterwarnings('ignore')\n",
    "\n",
    "# change this property\n",
    "NOMEROFF_NET_DIR = os.path.abspath('../')\n",
    "\n",
    "DATASET_NAME = \"ua\"\n",
    "VERSION = \"12\"\n",
    "MODE = \"gpu\"\n",
    "PATH_TO_DATASET = os.path.join(NOMEROFF_NET_DIR, \"datasets/ocr/\", DATASET_NAME)\n",
    "RESULT_MODEL_PATH = os.path.join(NOMEROFF_NET_DIR, \"models/\", 'anpr_ocr_{}_{}-{}.h5'.format(DATASET_NAME, VERSION, MODE))\n",
    "\n",
    "FROZEN_MODEL_PATH = os.path.join(NOMEROFF_NET_DIR, \"models/\", 'anpr_ocr_{}_{}-{}.pb'.format(DATASET_NAME, VERSION, MODE))\n",
    "\n",
    "sys.path.append(NOMEROFF_NET_DIR)\n",
    "\n",
    "from NomeroffNet.Base import OCR, convert_keras_to_freeze_pb"
   ]
  },
  {
   "cell_type": "code",
   "execution_count": 7,
   "metadata": {},
   "outputs": [],
   "source": [
    "class eu_ua_2004_2015(OCR):\n",
    "    def __init__(self):\n",
    "        OCR.__init__(self)\n",
    "        # only for usage model\n",
    "        # in train generate automaticly\n",
    "        self.letters = [\"0\", \"1\", \"2\", \"3\", \"4\", \"5\", \"6\", \"7\", \"8\", \"9\", \"A\", \"B\", \"C\", \"E\", \"H\", \"I\", \"K\", \"M\", \"O\", \"P\", \"T\", \"X\"]\n",
    "        \n",
    "        self.EPOCHS = 1"
   ]
  },
  {
   "cell_type": "code",
   "execution_count": 8,
   "metadata": {},
   "outputs": [
    {
     "name": "stdout",
     "output_type": "stream",
     "text": [
      "GET ALPHABET\n",
      "Max plate length in \"val\": 8\n",
      "Max plate length in \"train\": 8\n",
      "Max plate length in \"test\": 8\n",
      "Max plate length in train, test and val do match\n",
      "Letters in train, val and test do match\n",
      "Letters: 0 1 2 3 4 5 6 7 8 9 A B C E H I K M O P T X\n",
      "\n",
      "EXPLAIN DATA TRANSFORMATIONS\n",
      "Text generator output (data which will be fed into the neutral network):\n",
      "1) the_input (image)\n",
      "2) the_labels (plate number): BC3098BH is encoded as [11, 12, 3, 0, 9, 8, 11, 14]\n",
      "3) input_length (width of image that is fed to the loss function): 30 == 128 / 4 - 2\n",
      "4) label_length (length of plate number): 8\n",
      "START BUILD DATA\n",
      "DATA PREPARED\n"
     ]
    }
   ],
   "source": [
    "ocrTextDetector = eu_ua_2004_2015()\n",
    "model = ocrTextDetector.prepare(PATH_TO_DATASET, aug_count=0)"
   ]
  },
  {
   "cell_type": "code",
   "execution_count": 9,
   "metadata": {},
   "outputs": [
    {
     "name": "stdout",
     "output_type": "stream",
     "text": [
      "\n",
      "START TRAINING\n"
     ]
    },
    {
     "name": "stderr",
     "output_type": "stream",
     "text": [
      "WARNING: Logging before flag parsing goes to stderr.\n",
      "W0305 16:22:57.300883 140263479395648 deprecation.py:323] From /usr/local/lib64/python3.6/site-packages/keras/backend/tensorflow_backend.py:4249: to_int32 (from tensorflow.python.ops.math_ops) is deprecated and will be removed in a future version.\n",
      "Instructions for updating:\n",
      "Use tf.cast instead.\n",
      "W0305 16:22:57.381569 140263479395648 deprecation.py:323] From /usr/local/lib64/python3.6/site-packages/keras/backend/tensorflow_backend.py:4229: to_int64 (from tensorflow.python.ops.math_ops) is deprecated and will be removed in a future version.\n",
      "Instructions for updating:\n",
      "Use tf.cast instead.\n"
     ]
    },
    {
     "name": "stdout",
     "output_type": "stream",
     "text": [
      "__________________________________________________________________________________________________\n",
      "Layer (type)                    Output Shape         Param #     Connected to                     \n",
      "==================================================================================================\n",
      "the_input (InputLayer)          (None, 128, 64, 1)   0                                            \n",
      "__________________________________________________________________________________________________\n",
      "conv1 (Conv2D)                  (None, 128, 64, 16)  160         the_input[0][0]                  \n",
      "__________________________________________________________________________________________________\n",
      "max1 (MaxPooling2D)             (None, 64, 32, 16)   0           conv1[0][0]                      \n",
      "__________________________________________________________________________________________________\n",
      "conv2 (Conv2D)                  (None, 64, 32, 16)   2320        max1[0][0]                       \n",
      "__________________________________________________________________________________________________\n",
      "max2 (MaxPooling2D)             (None, 32, 16, 16)   0           conv2[0][0]                      \n",
      "__________________________________________________________________________________________________\n",
      "reshape (Reshape)               (None, 32, 256)      0           max2[0][0]                       \n",
      "__________________________________________________________________________________________________\n",
      "dense1 (Dense)                  (None, 32, 32)       8224        reshape[0][0]                    \n",
      "__________________________________________________________________________________________________\n",
      "gru1 (CuDNNGRU)                 (None, 32, 512)      838656      dense1[0][0]                     \n",
      "__________________________________________________________________________________________________\n",
      "gru1_b (CuDNNGRU)               (None, 32, 512)      838656      dense1[0][0]                     \n",
      "__________________________________________________________________________________________________\n",
      "add_1 (Add)                     (None, 32, 512)      0           gru1[0][0]                       \n",
      "                                                                 gru1_b[0][0]                     \n",
      "__________________________________________________________________________________________________\n",
      "gru2 (CuDNNGRU)                 (None, 32, 512)      1575936     add_1[0][0]                      \n",
      "__________________________________________________________________________________________________\n",
      "gru2_b (CuDNNGRU)               (None, 32, 512)      1575936     add_1[0][0]                      \n",
      "__________________________________________________________________________________________________\n",
      "concatenate_1 (Concatenate)     (None, 32, 1024)     0           gru2[0][0]                       \n",
      "                                                                 gru2_b[0][0]                     \n",
      "__________________________________________________________________________________________________\n",
      "dense2 (Dense)                  (None, 32, 23)       23575       concatenate_1[0][0]              \n",
      "__________________________________________________________________________________________________\n",
      "softmax (Activation)            (None, 32, 23)       0           dense2[0][0]                     \n",
      "==================================================================================================\n",
      "Total params: 4,863,463\n",
      "Trainable params: 4,863,463\n",
      "Non-trainable params: 0\n",
      "__________________________________________________________________________________________________\n",
      "Epoch 1/1\n",
      "14500/14500 [==============================] - 350s 24ms/step - loss: 0.3532 - val_loss: 0.1634\n"
     ]
    }
   ],
   "source": [
    "model = ocrTextDetector.train(mode=MODE)"
   ]
  },
  {
   "cell_type": "code",
   "execution_count": 11,
   "metadata": {},
   "outputs": [
    {
     "name": "stdout",
     "output_type": "stream",
     "text": [
      "\n",
      "RUN TEST\n",
      "\n",
      "Predicted: \t\t AT1494HM\n",
      "True: \t\t\t AI1494HI\n",
      "\n",
      "Predicted: \t\t BE6267AM\n",
      "True: \t\t\t BE6287AM\n",
      "\n",
      "Predicted: \t\t BC1210AT\n",
      "True: \t\t\t BC1210AM\n",
      "\n",
      "Predicted: \t\t AA6935T\n",
      "True: \t\t\t AA6935TX\n",
      "\n",
      "Predicted: \t\t AA0145P\n",
      "True: \t\t\t AA0145PX\n",
      "\n",
      "Predicted: \t\t AO7026BO\n",
      "True: \t\t\t AC7026BO\n",
      "\n",
      "Predicted: \t\t AA0190AE\n",
      "True: \t\t\t AA0130AE\n",
      "\n",
      "Predicted: \t\t AI10000C\n",
      "True: \t\t\t AI1000OC\n",
      "\n",
      "Predicted: \t\t BO4687BB\n",
      "True: \t\t\t AI4637HE\n",
      "\n",
      "Predicted: \t\t AC2846AP\n",
      "True: \t\t\t AC2046AP\n",
      "\n",
      "Predicted: \t\t AB7524CMK\n",
      "True: \t\t\t AB7524CK\n",
      "\n",
      "Predicted: \t\t B5824AB\n",
      "True: \t\t\t BX5824AB\n",
      "\n",
      "Predicted: \t\t BE6937XC\n",
      "True: \t\t\t BE6937XO\n",
      "\n",
      "Predicted: \t\t X7997CE\n",
      "True: \t\t\t AI7907CP\n",
      "\n",
      "Predicted: \t\t BHHB535CA\n",
      "True: \t\t\t AM1031CA\n",
      "acc: 0.9794801641586868\n"
     ]
    }
   ],
   "source": [
    "ocrTextDetector.test(verbose=True)"
   ]
  },
  {
   "cell_type": "code",
   "execution_count": 11,
   "metadata": {},
   "outputs": [
    {
     "name": "stdout",
     "output_type": "stream",
     "text": [
      "SAVED TO /mnt/data/var/www/html2/js/nomeroff-net/models/anpr_ocr_ua_1-gpu.h5\n"
     ]
    }
   ],
   "source": [
    "ocrTextDetector.save(RESULT_MODEL_PATH, verbose=True)\n",
    "#model = ocrTextDetector.load(RESULT_MODEL_PATH)"
   ]
  },
  {
   "cell_type": "code",
   "execution_count": 10,
   "metadata": {},
   "outputs": [],
   "source": [
    "#model = ocrTextDetector.load(RESULT_MODEL_PATH)"
   ]
  },
  {
   "cell_type": "markdown",
   "metadata": {},
   "source": [
    "### Convert keras OCR  .h5 model to .pb graph"
   ]
  },
  {
   "cell_type": "code",
   "execution_count": 12,
   "metadata": {},
   "outputs": [
    {
     "name": "stdout",
     "output_type": "stream",
     "text": [
      "OUTPUT: softmax_eu_ua_2004_2015/truediv\n",
      "INPUT: the_input_eu_ua_2004_2015\n",
      "__________________________________________________________________________________________________\n",
      "Layer (type)                    Output Shape         Param #     Connected to                     \n",
      "==================================================================================================\n",
      "the_input_eu_ua_2004_2015 (Inpu (None, 128, 64, 1)   0                                            \n",
      "__________________________________________________________________________________________________\n",
      "conv1 (Conv2D)                  (None, 128, 64, 16)  160         the_input_eu_ua_2004_2015[0][0]  \n",
      "__________________________________________________________________________________________________\n",
      "max1 (MaxPooling2D)             (None, 64, 32, 16)   0           conv1[0][0]                      \n",
      "__________________________________________________________________________________________________\n",
      "conv2 (Conv2D)                  (None, 64, 32, 16)   2320        max1[0][0]                       \n",
      "__________________________________________________________________________________________________\n",
      "max2 (MaxPooling2D)             (None, 32, 16, 16)   0           conv2[0][0]                      \n",
      "__________________________________________________________________________________________________\n",
      "reshape (Reshape)               (None, 32, 256)      0           max2[0][0]                       \n",
      "__________________________________________________________________________________________________\n",
      "dense1 (Dense)                  (None, 32, 32)       8224        reshape[0][0]                    \n",
      "__________________________________________________________________________________________________\n",
      "gru1 (GRU)                      (None, 32, 512)      837120      dense1[0][0]                     \n",
      "__________________________________________________________________________________________________\n",
      "gru1_b (GRU)                    (None, 32, 512)      837120      dense1[0][0]                     \n",
      "__________________________________________________________________________________________________\n",
      "add_2 (Add)                     (None, 32, 512)      0           gru1[0][0]                       \n",
      "                                                                 gru1_b[0][0]                     \n",
      "__________________________________________________________________________________________________\n",
      "gru2 (GRU)                      (None, 32, 512)      1574400     add_2[0][0]                      \n",
      "__________________________________________________________________________________________________\n",
      "gru2_b (GRU)                    (None, 32, 512)      1574400     add_2[0][0]                      \n",
      "__________________________________________________________________________________________________\n",
      "concatenate_2 (Concatenate)     (None, 32, 1024)     0           gru2[0][0]                       \n",
      "                                                                 gru2_b[0][0]                     \n",
      "__________________________________________________________________________________________________\n",
      "dense2 (Dense)                  (None, 32, 23)       23575       concatenate_2[0][0]              \n",
      "__________________________________________________________________________________________________\n",
      "softmax_eu_ua_2004_2015 (Activa (None, 32, 23)       0           dense2[0][0]                     \n",
      "==================================================================================================\n",
      "Total params: 4,857,319\n",
      "Trainable params: 4,857,319\n",
      "Non-trainable params: 0\n",
      "__________________________________________________________________________________________________\n"
     ]
    }
   ],
   "source": [
    "import keras\n",
    "keras.backend.clear_session()\n",
    "model = ocrTextDetector.load(RESULT_MODEL_PATH)\n",
    "convert_keras_to_freeze_pb(model, FROZEN_MODEL_PATH)"
   ]
  },
  {
   "cell_type": "code",
   "execution_count": null,
   "metadata": {},
   "outputs": [],
   "source": []
  }
 ],
 "metadata": {
  "kernelspec": {
   "display_name": "Python 3",
   "language": "python",
   "name": "python3"
  },
  "language_info": {
   "codemirror_mode": {
    "name": "ipython",
    "version": 3
   },
   "file_extension": ".py",
   "mimetype": "text/x-python",
   "name": "python",
   "nbconvert_exporter": "python",
   "pygments_lexer": "ipython3",
   "version": "3.6.8"
  }
 },
 "nbformat": 4,
 "nbformat_minor": 2
}
