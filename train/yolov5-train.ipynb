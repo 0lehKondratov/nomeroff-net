{
 "cells": [
  {
   "cell_type": "markdown",
   "metadata": {},
   "source": [
    "# This example demonstrate how to train region detector model (standart image classification model)."
   ]
  },
  {
   "cell_type": "markdown",
   "metadata": {},
   "source": [
    "For train datasets please download last version of dataset [https://nomeroff.net.ua/datasets/](https://nomeroff.net.ua/datasets/). Unpack archive and rename to **./datasets/** .\n",
    "For examle\n",
    "```bash\n",
    "cd ./datasets\n",
    "wget https://nomeroff.net.ua/datasets/autoriaNumberplateDataset-2021-03-01.zip\n",
    "unzip autoriaNumberplateDataset-2021-03-01.zip\n",
    "mv autoriaNumberplateDataset-2021-03-01 np\n",
    "```\n",
    "or use your own dataset.\n",
    "\n",
    "After that you have to convert the dataset to yolo format:\n",
    "\n",
    "**nomeroff-net/train/datasetConvertors/from_MaskRCNN_datafromat_to_YOLO_dataformat.ipynb**"
   ]
  },
  {
   "cell_type": "code",
   "execution_count": null,
   "metadata": {},
   "outputs": [],
   "source": [
    "!cd yolov5; python3 train.py --data np.yaml --cfg yolov5s.yaml --batch-size 64;"
   ]
  }
 ],
 "metadata": {
  "kernelspec": {
   "display_name": "Python 3",
   "language": "python",
   "name": "python3"
  },
  "language_info": {
   "codemirror_mode": {
    "name": "ipython",
    "version": 3
   },
   "file_extension": ".py",
   "mimetype": "text/x-python",
   "name": "python",
   "nbconvert_exporter": "python",
   "pygments_lexer": "ipython3",
   "version": "3.8.6"
  }
 },
 "nbformat": 4,
 "nbformat_minor": 4
}
