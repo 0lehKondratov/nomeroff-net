{
 "cells": [
  {
   "cell_type": "markdown",
   "metadata": {},
   "source": [
    "# Train OCR text Detector quick example"
   ]
  },
  {
   "cell_type": "markdown",
   "metadata": {},
   "source": [
    "For train datasets please download last version of ocr datasets [https://nomeroff.net.ua/datasets/](https://nomeroff.net.ua/datasets/). Unpack archive and rename to **./datasets/ocr** .\n",
    "For examle\n",
    "```bash\n",
    "cd ./datasets/ocr\n",
    "wget https://nomeroff.net.ua/datasets/autoriaNumberplateOcrBy-2020-10-09.zip\n",
    "unzip autoriaNumberplateOcrBy-2020-10-09.zip\n",
    "mv autoriaNumberplateOcrBy-2020-10-09 by\n",
    "```\n",
    "or use your own dataset."
   ]
  },
  {
   "cell_type": "code",
   "execution_count": 1,
   "metadata": {},
   "outputs": [],
   "source": [
    "# Specify device\n",
    "import os\n",
    "os.environ[\"CUDA_VISIBLE_DEVICES\"] = \"0\" \n",
    "os.environ[\"TF_FORCE_GPU_ALLOW_GROWTH\"]=\"true\""
   ]
  },
  {
   "cell_type": "code",
   "execution_count": 2,
   "metadata": {},
   "outputs": [],
   "source": [
    "# from tensorflow.compat.v1 import ConfigProto\n",
    "# from tensorflow.compat.v1 import InteractiveSession\n",
    "\n",
    "# config = ConfigProto()\n",
    "# config.gpu_options.allow_growth = True\n",
    "# session = InteractiveSession(config=config)"
   ]
  },
  {
   "cell_type": "code",
   "execution_count": 3,
   "metadata": {},
   "outputs": [],
   "source": [
    "import os\n",
    "import sys\n",
    "import warnings\n",
    "warnings.filterwarnings('ignore')\n",
    "\n",
    "# change this property\n",
    "NOMEROFF_NET_DIR = os.path.abspath('../')\n",
    "\n",
    "DATASET_NAME = \"by\"\n",
    "VERSION = \"2021_08_28_tensorflow_v2.3\"\n",
    "PATH_TO_DATASET = os.path.join(NOMEROFF_NET_DIR, \"datasets/ocr/\", DATASET_NAME)\n",
    "RESULT_MODEL_PATH = os.path.join(NOMEROFF_NET_DIR, \"models/\", 'anpr_ocr_{}_{}.h5'.format(DATASET_NAME, VERSION))\n",
    "\n",
    "sys.path.append(NOMEROFF_NET_DIR)\n",
    "\n",
    "from NomeroffNet.Base import OCR"
   ]
  },
  {
   "cell_type": "code",
   "execution_count": 4,
   "metadata": {},
   "outputs": [],
   "source": [
    "class by(OCR):\n",
    "    def __init__(self):\n",
    "        OCR.__init__(self)\n",
    "        # only for usage model\n",
    "        # in train generate automaticly\n",
    "        self.letters = [\"0\", \"1\", \"2\", \"3\", \"4\", \"5\", \"6\", \"7\", \"8\", \"9\", \"A\", \"B\", \"C\", \"E\", \"H\", \"I\", \"K\", \"M\", \"O\", \"P\", \"T\", \"X\"]\n",
    "        \n",
    "        self.EPOCHS = 2"
   ]
  },
  {
   "cell_type": "code",
   "execution_count": 5,
   "metadata": {},
   "outputs": [],
   "source": [
    "ocrTextDetector = by()"
   ]
  },
  {
   "cell_type": "code",
   "execution_count": 9,
   "metadata": {},
   "outputs": [
    {
     "data": {
      "text/plain": [
       "<tensorflow.python.keras.engine.functional.Functional at 0x7fc6be80ed30>"
      ]
     },
     "execution_count": 9,
     "metadata": {},
     "output_type": "execute_result"
    }
   ],
   "source": [
    "#ocrTextDetector.load('/var/www/nomeroff-net23/models/anpr_ocr_by_2021_07_29_tensorflow_v2.3_1.h5', verbose=False)\n",
    "ocrTextDetector.load('/var/www/nomeroff-net23/models/1/anpr_ocr_by_2021_08_29_tensorflow_v2.3.h5', verbose=False)"
   ]
  },
  {
   "cell_type": "code",
   "execution_count": 7,
   "metadata": {},
   "outputs": [
    {
     "name": "stdout",
     "output_type": "stream",
     "text": [
      "GET ALPHABET\n",
      "Max plate length in \"val\": 7\n",
      "Max plate length in \"train\": 7\n",
      "Max plate length in \"test\": 7\n",
      "Letters train  {'M', '8', 'C', 'X', '1', '4', '0', 'H', 'I', '5', 'K', '7', 'B', 'P', 'A', 'T', '3', '6', 'O', '2', 'E', '9'}\n",
      "Letters val  {'M', '8', 'C', 'X', '1', '4', '0', 'H', 'I', '5', 'K', '7', 'B', 'P', 'A', 'T', '3', '6', 'O', '2', 'E', '9'}\n",
      "Letters test  {'M', '8', 'C', 'X', '1', '4', '0', 'H', 'I', '5', 'K', '7', 'B', 'A', 'P', 'T', '3', '6', 'O', '2', 'E', '9'}\n",
      "Max plate length in train, test and val do match\n",
      "Letters in train, val and test do match\n",
      "Letters: 0 1 2 3 4 5 6 7 8 9 A B C E H I K M O P T X\n",
      "\n",
      "EXPLAIN DATA TRANSFORMATIONS\n",
      "Text generator output (data which will be fed into the neutral network):\n",
      "1) the_input (image)\n",
      "2) the_labels (plate number): 8127EM7 is encoded as [8, 1, 2, 7, 13, 17, 7]\n",
      "3) input_length (width of image that is fed to the loss function): 30 == 128 / 4 - 2\n",
      "4) label_length (length of plate number): 7\n",
      "START BUILD DATA\n",
      "DATA PREPARED\n"
     ]
    }
   ],
   "source": [
    "#ocrTextDetector = by()\n",
    "model = ocrTextDetector.prepare(PATH_TO_DATASET, use_aug=False)"
   ]
  },
  {
   "cell_type": "code",
   "execution_count": 8,
   "metadata": {},
   "outputs": [],
   "source": [
    "# A = {'M', 'P', 'X', 'I', 'T', 'C', '5', '3', '6', '0', '7', '2', '8', 'С', 'E', 'B', '1', 'H', 'O', 'K', 'A', '4', '9'}\n",
    "# B = {'P', 'M', 'X', 'I', 'T', 'C', '5', '3', '6', '0', '7', '2', '8', 'E', 'B', '1', 'H', 'O', 'K', 'A', '4', '9'}\n",
    "# A-B"
   ]
  },
  {
   "cell_type": "code",
   "execution_count": 9,
   "metadata": {},
   "outputs": [
    {
     "name": "stdout",
     "output_type": "stream",
     "text": [
      "\n",
      "START TRAINING\n",
      "Model: \"model_1\"\n",
      "__________________________________________________________________________________________________\n",
      "Layer (type)                    Output Shape         Param #     Connected to                     \n",
      "==================================================================================================\n",
      "the_input_by (InputLayer)       [(None, 128, 64, 1)] 0                                            \n",
      "__________________________________________________________________________________________________\n",
      "conv1 (Conv2D)                  (None, 128, 64, 16)  160         the_input_by[0][0]               \n",
      "__________________________________________________________________________________________________\n",
      "max1 (MaxPooling2D)             (None, 64, 32, 16)   0           conv1[0][0]                      \n",
      "__________________________________________________________________________________________________\n",
      "conv2 (Conv2D)                  (None, 64, 32, 16)   2320        max1[0][0]                       \n",
      "__________________________________________________________________________________________________\n",
      "max2 (MaxPooling2D)             (None, 32, 16, 16)   0           conv2[0][0]                      \n",
      "__________________________________________________________________________________________________\n",
      "reshape (Reshape)               (None, 32, 256)      0           max2[0][0]                       \n",
      "__________________________________________________________________________________________________\n",
      "dense1 (Dense)                  (None, 32, 32)       8224        reshape[0][0]                    \n",
      "__________________________________________________________________________________________________\n",
      "gru1 (GRU)                      (None, 32, 512)      838656      dense1[0][0]                     \n",
      "__________________________________________________________________________________________________\n",
      "gru1_b (GRU)                    (None, 32, 512)      838656      dense1[0][0]                     \n",
      "__________________________________________________________________________________________________\n",
      "add (Add)                       (None, 32, 512)      0           gru1[0][0]                       \n",
      "                                                                 gru1_b[0][0]                     \n",
      "__________________________________________________________________________________________________\n",
      "gru2 (GRU)                      (None, 32, 512)      1575936     add[0][0]                        \n",
      "__________________________________________________________________________________________________\n",
      "gru2_b (GRU)                    (None, 32, 512)      1575936     add[0][0]                        \n",
      "__________________________________________________________________________________________________\n",
      "concatenate (Concatenate)       (None, 32, 1024)     0           gru2[0][0]                       \n",
      "                                                                 gru2_b[0][0]                     \n",
      "__________________________________________________________________________________________________\n",
      "dense2 (Dense)                  (None, 32, 23)       23575       concatenate[0][0]                \n",
      "__________________________________________________________________________________________________\n",
      "softmax_by (Activation)         (None, 32, 23)       0           dense2[0][0]                     \n",
      "==================================================================================================\n",
      "Total params: 4,863,463\n",
      "Trainable params: 4,863,463\n",
      "Non-trainable params: 0\n",
      "__________________________________________________________________________________________________\n",
      "Epoch 1/2\n",
      "161256/161256 [==============================] - 2787s 17ms/step - loss: 0.1145 - val_loss: 0.2277\n",
      "Epoch 2/2\n",
      "161256/161256 [==============================] - 2578s 16ms/step - loss: 0.0030 - val_loss: 0.2072\n"
     ]
    }
   ],
   "source": [
    "model = ocrTextDetector.train()"
   ]
  },
  {
   "cell_type": "code",
   "execution_count": 10,
   "metadata": {},
   "outputs": [
    {
     "name": "stdout",
     "output_type": "stream",
     "text": [
      "\n",
      "RUN TEST\n",
      "[INFO] net_inp KerasTensor(type_spec=TensorSpec(shape=(None, 128, 64, 1), dtype=tf.float32, name='the_input_by'), name='the_input_by', description=\"created by layer 'the_input_by'\")\n",
      "[INFO] net_out KerasTensor(type_spec=TensorSpec(shape=(None, 32, 23), dtype=tf.float32, name=None), name='softmax_by/Softmax:0', description=\"created by layer 'softmax_by'\")\n",
      "\n",
      "Predicted: \t\t 9349CC7C7\n",
      "True: \t\t\t 9349CC7\n",
      "\n",
      "Predicted: \t\t 7805KC5\n",
      "True: \t\t\t 7885KC5\n",
      "\n",
      "Predicted: \t\t 6927CM7\n",
      "True: \t\t\t 5927CM7\n",
      "\n",
      "Predicted: \t\t 15410CE7\n",
      "True: \t\t\t 1533CE7\n",
      "\n",
      "Predicted: \t\t A14875\n",
      "True: \t\t\t AT14875\n",
      "\n",
      "Predicted: \t\t 8721KX7\n",
      "True: \t\t\t 6721KX7\n",
      "\n",
      "Predicted: \t\t 93000EM7\n",
      "True: \t\t\t 3000EM7\n",
      "\n",
      "Predicted: \t\t 1828MC5\n",
      "True: \t\t\t 1828MC7\n",
      "\n",
      "Predicted: \t\t 1717B7\n",
      "True: \t\t\t 1717EH7\n",
      "\n",
      "Predicted: \t\t 1334PI7\n",
      "True: \t\t\t 1331PI7\n",
      "\n",
      "Predicted: \t\t 76591HA7\n",
      "True: \t\t\t 7659HA7\n",
      "\n",
      "Predicted: \t\t 8911MI7\n",
      "True: \t\t\t 8811MI7\n",
      "Test processing time: 1.3975989818572998 seconds\n",
      "acc: 0.9900414937759336\n"
     ]
    }
   ],
   "source": [
    "ocrTextDetector.test(verbose=True)"
   ]
  },
  {
   "cell_type": "code",
   "execution_count": 11,
   "metadata": {},
   "outputs": [
    {
     "name": "stdout",
     "output_type": "stream",
     "text": [
      "WARNING:tensorflow:Compiled the loaded model, but the compiled metrics have yet to be built. `model.compile_metrics` will be empty until you train or evaluate the model.\n",
      "SAVED TO /var/www/nomeroff-net23/models/anpr_ocr_by_2021_08_27_tensorflow_v2.3.h5\n"
     ]
    }
   ],
   "source": [
    "ocrTextDetector.save(RESULT_MODEL_PATH, verbose=True)"
   ]
  },
  {
   "cell_type": "code",
   "execution_count": null,
   "metadata": {},
   "outputs": [],
   "source": [
    "# Train with aug"
   ]
  },
  {
   "cell_type": "code",
   "execution_count": null,
   "metadata": {},
   "outputs": [
    {
     "name": "stdout",
     "output_type": "stream",
     "text": [
      "GET ALPHABET\n",
      "Max plate length in \"val\": 7\n",
      "Max plate length in \"train\": 7\n",
      "Max plate length in \"test\": 7\n",
      "Letters train  {'O', '9', '5', '0', 'T', '1', 'A', 'P', 'H', 'B', '8', '7', 'X', 'C', 'K', 'E', '3', 'I', '2', 'M', '4', '6'}\n",
      "Letters val  {'9', 'O', '5', '0', 'T', '1', 'A', 'P', 'B', 'H', '8', '7', 'X', 'C', 'K', 'E', '3', 'I', '2', 'M', '4', '6'}\n",
      "Letters test  {'O', '9', '5', '0', 'T', '1', 'A', 'P', 'B', 'H', '8', '7', 'X', 'C', 'K', 'E', '3', 'I', '2', 'M', '4', '6'}\n",
      "Max plate length in train, test and val do match\n",
      "Letters in train, val and test do match\n",
      "Letters: 0 1 2 3 4 5 6 7 8 9 A B C E H I K M O P T X\n",
      "\n",
      "EXPLAIN DATA TRANSFORMATIONS\n",
      "Text generator output (data which will be fed into the neutral network):\n",
      "1) the_input (image)\n",
      "2) the_labels (plate number): 8127EM7 is encoded as [8, 1, 2, 7, 13, 17, 7]\n",
      "3) input_length (width of image that is fed to the loss function): 30 == 128 / 4 - 2\n",
      "4) label_length (length of plate number): 7\n",
      "START BUILD DATA\n",
      "DATA PREPARED\n",
      "\n",
      "START TRAINING\n",
      "Model: \"model_1\"\n",
      "__________________________________________________________________________________________________\n",
      "Layer (type)                    Output Shape         Param #     Connected to                     \n",
      "==================================================================================================\n",
      "the_input_by (InputLayer)       [(None, 128, 64, 1)] 0                                            \n",
      "__________________________________________________________________________________________________\n",
      "conv1 (Conv2D)                  (None, 128, 64, 16)  160         the_input_by[0][0]               \n",
      "__________________________________________________________________________________________________\n",
      "max1 (MaxPooling2D)             (None, 64, 32, 16)   0           conv1[0][0]                      \n",
      "__________________________________________________________________________________________________\n",
      "conv2 (Conv2D)                  (None, 64, 32, 16)   2320        max1[0][0]                       \n",
      "__________________________________________________________________________________________________\n",
      "max2 (MaxPooling2D)             (None, 32, 16, 16)   0           conv2[0][0]                      \n",
      "__________________________________________________________________________________________________\n",
      "reshape (Reshape)               (None, 32, 256)      0           max2[0][0]                       \n",
      "__________________________________________________________________________________________________\n",
      "dense1 (Dense)                  (None, 32, 32)       8224        reshape[0][0]                    \n",
      "__________________________________________________________________________________________________\n",
      "gru1 (GRU)                      (None, 32, 512)      838656      dense1[0][0]                     \n",
      "__________________________________________________________________________________________________\n",
      "gru1_b (GRU)                    (None, 32, 512)      838656      dense1[0][0]                     \n",
      "__________________________________________________________________________________________________\n",
      "add (Add)                       (None, 32, 512)      0           gru1[0][0]                       \n",
      "                                                                 gru1_b[0][0]                     \n",
      "__________________________________________________________________________________________________\n",
      "gru2 (GRU)                      (None, 32, 512)      1575936     add[0][0]                        \n",
      "__________________________________________________________________________________________________\n",
      "gru2_b (GRU)                    (None, 32, 512)      1575936     add[0][0]                        \n",
      "__________________________________________________________________________________________________\n",
      "concatenate (Concatenate)       (None, 32, 1024)     0           gru2[0][0]                       \n",
      "                                                                 gru2_b[0][0]                     \n",
      "__________________________________________________________________________________________________\n",
      "dense2 (Dense)                  (None, 32, 23)       23575       concatenate[0][0]                \n",
      "__________________________________________________________________________________________________\n",
      "softmax_by (Activation)         (None, 32, 23)       0           dense2[0][0]                     \n",
      "==================================================================================================\n",
      "Total params: 4,863,463\n",
      "Trainable params: 4,863,463\n",
      "Non-trainable params: 0\n",
      "__________________________________________________________________________________________________\n",
      "161177/161177 [==============================] - 2577s 16ms/step - loss: 0.0052 - val_loss: 0.1229\n",
      "\n",
      "RUN TEST\n",
      "[INFO] net_inp KerasTensor(type_spec=TensorSpec(shape=(None, 128, 64, 1), dtype=tf.float32, name='the_input_by'), name='the_input_by', description=\"created by layer 'the_input_by'\")\n",
      "[INFO] net_out KerasTensor(type_spec=TensorSpec(shape=(None, 32, 23), dtype=tf.float32, name=None), name='softmax_by/Softmax:0', description=\"created by layer 'softmax_by'\")\n",
      "\n",
      "Predicted: \t\t 6927CM7\n",
      "True: \t\t\t 5927CM7\n",
      "\n",
      "Predicted: \t\t 1333CE7\n",
      "True: \t\t\t 1533CE7\n",
      "\n",
      "Predicted: \t\t 1023PI7\n",
      "True: \t\t\t 1021PI7\n",
      "\n",
      "Predicted: \t\t 4269PM7\n",
      "True: \t\t\t 4268PM7\n",
      "\n",
      "Predicted: \t\t AA3387\n",
      "True: \t\t\t AA93387\n",
      "\n",
      "Predicted: \t\t 5731CT7\n",
      "True: \t\t\t 5731CI7\n",
      "\n",
      "Predicted: \t\t 716CH7\n",
      "True: \t\t\t 7167CH7\n",
      "\n",
      "Predicted: \t\t 4713KO7\n",
      "True: \t\t\t 4213KO7\n",
      "\n",
      "Predicted: \t\t 2382MA7\n",
      "True: \t\t\t 2322MA7\n",
      "\n",
      "Predicted: \t\t 533MX5\n",
      "True: \t\t\t 5331MX5\n",
      "\n",
      "Predicted: \t\t 9877IA7\n",
      "True: \t\t\t 9877IA2\n",
      "\n",
      "Predicted: \t\t 1150CT7\n",
      "True: \t\t\t 1158CT7\n",
      "\n",
      "Predicted: \t\t 5003M5\n",
      "True: \t\t\t 5003MM5\n",
      "\n",
      "Predicted: \t\t AM5460O5\n",
      "True: \t\t\t AM54605\n",
      "\n",
      "Predicted: \t\t 59580CE7\n",
      "True: \t\t\t 5580CE7\n",
      "\n",
      "Predicted: \t\t 0851H7\n",
      "True: \t\t\t 0851BH7\n",
      "\n",
      "Predicted: \t\t 0546IC7\n",
      "True: \t\t\t 0540IC7\n",
      "\n",
      "Predicted: \t\t 0956KI7\n",
      "True: \t\t\t 0356KI7\n",
      "\n",
      "Predicted: \t\t 8911MI7\n",
      "True: \t\t\t 8811MI7\n",
      "\n",
      "Predicted: \t\t 6820CK7\n",
      "True: \t\t\t 6870CK7\n",
      "Test processing time: 1.1238737106323242 seconds\n",
      "acc: 0.983402489626556\n",
      "WARNING:tensorflow:Compiled the loaded model, but the compiled metrics have yet to be built. `model.compile_metrics` will be empty until you train or evaluate the model.\n",
      "SAVED TO /var/www/nomeroff-net23/models/anpr_ocr_by_2021_08_28_tensorflow_v2.3_11.h5\n",
      "GET ALPHABET\n",
      "Max plate length in \"val\": 7\n",
      "Max plate length in \"train\": 7\n",
      "Max plate length in \"test\": 7\n",
      "Letters train  {'O', '9', '5', '0', 'T', '1', 'A', 'P', 'H', 'B', '8', '7', 'X', 'C', 'K', 'E', '3', 'I', '2', 'M', '4', '6'}\n",
      "Letters val  {'9', 'O', '5', '0', 'T', '1', 'A', 'P', 'B', 'H', '8', '7', 'X', 'C', 'K', 'E', '3', 'I', '2', 'M', '4', '6'}\n",
      "Letters test  {'O', '9', '5', '0', 'T', '1', 'A', 'P', 'B', 'H', '8', '7', 'X', 'C', 'K', 'E', '3', 'I', '2', 'M', '4', '6'}\n",
      "Max plate length in train, test and val do match\n",
      "Letters in train, val and test do match\n",
      "Letters: 0 1 2 3 4 5 6 7 8 9 A B C E H I K M O P T X\n",
      "\n",
      "EXPLAIN DATA TRANSFORMATIONS\n",
      "Text generator output (data which will be fed into the neutral network):\n",
      "1) the_input (image)\n",
      "2) the_labels (plate number): 8127EM7 is encoded as [8, 1, 2, 7, 13, 17, 7]\n",
      "3) input_length (width of image that is fed to the loss function): 30 == 128 / 4 - 2\n",
      "4) label_length (length of plate number): 7\n",
      "START BUILD DATA\n",
      "DATA PREPARED\n",
      "\n",
      "START TRAINING\n",
      "Model: \"model_5\"\n",
      "__________________________________________________________________________________________________\n",
      "Layer (type)                    Output Shape         Param #     Connected to                     \n",
      "==================================================================================================\n",
      "the_input_by (InputLayer)       [(None, 128, 64, 1)] 0                                            \n",
      "__________________________________________________________________________________________________\n",
      "conv1 (Conv2D)                  (None, 128, 64, 16)  160         the_input_by[0][0]               \n",
      "__________________________________________________________________________________________________\n",
      "max1 (MaxPooling2D)             (None, 64, 32, 16)   0           conv1[0][0]                      \n",
      "__________________________________________________________________________________________________\n",
      "conv2 (Conv2D)                  (None, 64, 32, 16)   2320        max1[0][0]                       \n",
      "__________________________________________________________________________________________________\n",
      "max2 (MaxPooling2D)             (None, 32, 16, 16)   0           conv2[0][0]                      \n",
      "__________________________________________________________________________________________________\n",
      "reshape (Reshape)               (None, 32, 256)      0           max2[0][0]                       \n",
      "__________________________________________________________________________________________________\n",
      "dense1 (Dense)                  (None, 32, 32)       8224        reshape[0][0]                    \n",
      "__________________________________________________________________________________________________\n",
      "gru1 (GRU)                      (None, 32, 512)      838656      dense1[0][0]                     \n",
      "__________________________________________________________________________________________________\n",
      "gru1_b (GRU)                    (None, 32, 512)      838656      dense1[0][0]                     \n",
      "__________________________________________________________________________________________________\n",
      "add_1 (Add)                     (None, 32, 512)      0           gru1[0][0]                       \n",
      "                                                                 gru1_b[0][0]                     \n",
      "__________________________________________________________________________________________________\n",
      "gru2 (GRU)                      (None, 32, 512)      1575936     add_1[0][0]                      \n",
      "__________________________________________________________________________________________________\n",
      "gru2_b (GRU)                    (None, 32, 512)      1575936     add_1[0][0]                      \n",
      "__________________________________________________________________________________________________\n",
      "concatenate_1 (Concatenate)     (None, 32, 1024)     0           gru2[0][0]                       \n",
      "                                                                 gru2_b[0][0]                     \n",
      "__________________________________________________________________________________________________\n",
      "dense2 (Dense)                  (None, 32, 23)       23575       concatenate_1[0][0]              \n",
      "__________________________________________________________________________________________________\n",
      "softmax_by (Activation)         (None, 32, 23)       0           dense2[0][0]                     \n",
      "==================================================================================================\n",
      "Total params: 4,863,463\n",
      "Trainable params: 4,863,463\n",
      "Non-trainable params: 0\n",
      "__________________________________________________________________________________________________\n"
     ]
    },
    {
     "name": "stdout",
     "output_type": "stream",
     "text": [
      "161177/161177 [==============================] - 2543s 16ms/step - loss: 0.0020 - val_loss: 0.1136\n",
      "\n",
      "RUN TEST\n",
      "[INFO] net_inp KerasTensor(type_spec=TensorSpec(shape=(None, 128, 64, 1), dtype=tf.float32, name='the_input_by'), name='the_input_by', description=\"created by layer 'the_input_by'\")\n",
      "[INFO] net_out KerasTensor(type_spec=TensorSpec(shape=(None, 32, 23), dtype=tf.float32, name=None), name='softmax_by/Softmax:0', description=\"created by layer 'softmax_by'\")\n",
      "\n",
      "Predicted: \t\t 69217CM7\n",
      "True: \t\t\t 5927CM7\n",
      "\n",
      "Predicted: \t\t 1580CE7\n",
      "True: \t\t\t 1533CE7\n",
      "\n",
      "Predicted: \t\t 1023PI7\n",
      "True: \t\t\t 1021PI7\n",
      "\n",
      "Predicted: \t\t 9110KM4\n",
      "True: \t\t\t 9119KM4\n",
      "\n",
      "Predicted: \t\t 55296CK7\n",
      "True: \t\t\t 5296CK7\n",
      "\n",
      "Predicted: \t\t 5731CT7\n",
      "True: \t\t\t 5731CI7\n",
      "\n",
      "Predicted: \t\t 7162CH7\n",
      "True: \t\t\t 7167CH7\n",
      "\n",
      "Predicted: \t\t 8776HA7\n",
      "True: \t\t\t 0776HA7\n",
      "\n",
      "Predicted: \t\t 4713KO7\n",
      "True: \t\t\t 4213KO7\n",
      "\n",
      "Predicted: \t\t 41828MC7\n",
      "True: \t\t\t 1828MC7\n",
      "\n",
      "Predicted: \t\t 1637OA7\n",
      "True: \t\t\t 3637OA7\n",
      "\n",
      "Predicted: \t\t 9877IA6\n",
      "True: \t\t\t 9877IA2\n",
      "\n",
      "Predicted: \t\t AI94144\n",
      "True: \t\t\t AI84144\n",
      "\n",
      "Predicted: \t\t 0851OH7\n",
      "True: \t\t\t 0851BH7\n",
      "\n",
      "Predicted: \t\t 1331BI7\n",
      "True: \t\t\t 1331PI7\n",
      "\n",
      "Predicted: \t\t 2150KI5\n",
      "True: \t\t\t 2150KI7\n",
      "Test processing time: 1.2124288082122803 seconds\n",
      "acc: 0.9867219917012449\n",
      "WARNING:tensorflow:Compiled the loaded model, but the compiled metrics have yet to be built. `model.compile_metrics` will be empty until you train or evaluate the model.\n",
      "SAVED TO /var/www/nomeroff-net23/models/anpr_ocr_by_2021_08_28_tensorflow_v2.3_12.h5\n",
      "GET ALPHABET\n",
      "Max plate length in \"val\": 7\n",
      "Max plate length in \"train\": 7\n",
      "Max plate length in \"test\": 7\n",
      "Letters train  {'O', '9', '5', '0', 'T', '1', 'A', 'P', 'H', 'B', '8', '7', 'X', 'C', 'K', 'E', '3', 'I', '2', 'M', '4', '6'}\n",
      "Letters val  {'9', 'O', '5', '0', 'T', '1', 'A', 'P', 'B', 'H', '8', '7', 'X', 'C', 'K', 'E', '3', 'I', '2', 'M', '4', '6'}\n",
      "Letters test  {'O', '9', '5', '0', 'T', '1', 'A', 'P', 'B', 'H', '8', '7', 'X', 'C', 'K', 'E', '3', 'I', '2', 'M', '4', '6'}\n",
      "Max plate length in train, test and val do match\n",
      "Letters in train, val and test do match\n",
      "Letters: 0 1 2 3 4 5 6 7 8 9 A B C E H I K M O P T X\n",
      "\n",
      "EXPLAIN DATA TRANSFORMATIONS\n"
     ]
    }
   ],
   "source": [
    "for i in range(11,14):\n",
    "    ocrTextDetector = by()\n",
    "    ocrTextDetector.EPOCHS = 1\n",
    "\n",
    "    model = ocrTextDetector.prepare(PATH_TO_DATASET, use_aug=True)\n",
    "\n",
    "    model = ocrTextDetector.train(load_last_weights=True, is_random=i)    \n",
    "    ocrTextDetector.test(verbose=True)\n",
    "\n",
    "    ocrTextDetector.save(os.path.join(NOMEROFF_NET_DIR, \"models/\", 'anpr_ocr_{}_{}_{}.h5'.format(DATASET_NAME, VERSION, i)), verbose=True)    \n",
    "    "
   ]
  },
  {
   "cell_type": "code",
   "execution_count": 26,
   "metadata": {},
   "outputs": [
    {
     "name": "stdout",
     "output_type": "stream",
     "text": [
      "\n",
      "RUN TEST\n",
      "[INFO] net_inp KerasTensor(type_spec=TensorSpec(shape=(None, 128, 64, 1), dtype=tf.float32, name='the_input_by'), name='the_input_by', description=\"created by layer 'the_input_by'\")\n",
      "[INFO] net_out KerasTensor(type_spec=TensorSpec(shape=(None, 32, 23), dtype=tf.float32, name=None), name='softmax_by/Softmax:0', description=\"created by layer 'softmax_by'\")\n",
      "\n",
      "Predicted: \t\t 19349CC7\n",
      "True: \t\t\t 9349CC7\n",
      "\n",
      "Predicted: \t\t 6927CM7\n",
      "True: \t\t\t 5927CM7\n",
      "\n",
      "Predicted: \t\t 133CET7\n",
      "True: \t\t\t 1533CE7\n",
      "\n",
      "Predicted: \t\t 8721KX7\n",
      "True: \t\t\t 6721KX7\n",
      "\n",
      "Predicted: \t\t 9110KI4\n",
      "True: \t\t\t 9119KM4\n",
      "\n",
      "Predicted: \t\t 8113EH5\n",
      "True: \t\t\t 9113EH5\n",
      "\n",
      "Predicted: \t\t 43213KO7\n",
      "True: \t\t\t 4213KO7\n",
      "\n",
      "Predicted: \t\t 3637MOA7\n",
      "True: \t\t\t 3637OA7\n",
      "\n",
      "Predicted: \t\t 8877IAX7\n",
      "True: \t\t\t 9877IA2\n",
      "\n",
      "Predicted: \t\t AI8414I6\n",
      "True: \t\t\t AI84144\n",
      "\n",
      "Predicted: \t\t 454605\n",
      "True: \t\t\t AM54605\n",
      "\n",
      "Predicted: \t\t 1717H7\n",
      "True: \t\t\t 1717EH7\n",
      "\n",
      "Predicted: \t\t 0546IC7\n",
      "True: \t\t\t 0540IC7\n",
      "\n",
      "Predicted: \t\t 8318A7\n",
      "True: \t\t\t 8318TA7\n",
      "\n",
      "Predicted: \t\t 2931HK7\n",
      "True: \t\t\t 3931HK7\n",
      "Test processing time: 1.2653393745422363 seconds\n",
      "acc: 0.9875518672199171\n"
     ]
    }
   ],
   "source": [
    "#ocrTextDetector.load('/var/www/nomeroff-net23/models/anpr_ocr_by_2021_08_27_tensorflow_v2.3_0.h5', verbose=False)\n",
    "ocrTextDetector.test(verbose=True)"
   ]
  },
  {
   "cell_type": "code",
   "execution_count": null,
   "metadata": {},
   "outputs": [],
   "source": [
    "ocrTextDetector.save(RESULT_MODEL_PATH, verbose=True)"
   ]
  },
  {
   "cell_type": "code",
   "execution_count": null,
   "metadata": {},
   "outputs": [],
   "source": [
    "ocrTextDetector.load(RESULT_MODEL_PATH, verbose=False)"
   ]
  },
  {
   "cell_type": "code",
   "execution_count": null,
   "metadata": {},
   "outputs": [],
   "source": [
    "ocrTextDetector.load('/home/www/nomeroff-net/models/anpr_ocr_ru_2020_10_07_tensorflow_v2.3.h5', verbose=True)"
   ]
  },
  {
   "cell_type": "code",
   "execution_count": null,
   "metadata": {},
   "outputs": [],
   "source": [
    "from tensorflow.python.compiler.tensorrt import trt_convert as trt\n",
    "converter = trt.TrtGraphConverterV2(input_saved_model_dir=RESULT_MODEL_PATH)\n",
    "converter.convert()\n",
    "converter.save(output_saved_model_dir)"
   ]
  },
  {
   "cell_type": "code",
   "execution_count": null,
   "metadata": {},
   "outputs": [],
   "source": [
    "converter.convert()"
   ]
  },
  {
   "cell_type": "code",
   "execution_count": null,
   "metadata": {},
   "outputs": [],
   "source": [
    "from NomeroffNet.Base import convert_keras_to_freeze_pb"
   ]
  },
  {
   "cell_type": "code",
   "execution_count": null,
   "metadata": {},
   "outputs": [],
   "source": [
    "RESULT_MODEL_PATH1 = '/var/www/nomeroff-net/models/anpr_ocr_ru_2020_09_09_tensorflow_v2'\n",
    "RESULT_MODEL_PATH_TRT = '/var/www/nomeroff-net/models/anpr_ocr_ru_2020_09_09_tensorflow_v2_trt'"
   ]
  },
  {
   "cell_type": "code",
   "execution_count": null,
   "metadata": {},
   "outputs": [],
   "source": [
    "#ocrTextDetector.save(RESULT_MODEL_PATH1, verbose=True)"
   ]
  },
  {
   "cell_type": "code",
   "execution_count": null,
   "metadata": {},
   "outputs": [],
   "source": [
    "from tensorflow.python.compiler.tensorrt import trt_convert as trt\n",
    "converter = trt.TrtGraphConverterV2(input_saved_model_dir=RESULT_MODEL_PATH1)\n",
    "converter.convert()\n",
    "converter.save(RESULT_MODEL_PATH_TRT)"
   ]
  },
  {
   "cell_type": "code",
   "execution_count": null,
   "metadata": {},
   "outputs": [],
   "source": []
  }
 ],
 "metadata": {
  "kernelspec": {
   "display_name": "Python 3",
   "language": "python",
   "name": "python3"
  },
  "language_info": {
   "codemirror_mode": {
    "name": "ipython",
    "version": 3
   },
   "file_extension": ".py",
   "mimetype": "text/x-python",
   "name": "python",
   "nbconvert_exporter": "python",
   "pygments_lexer": "ipython3",
   "version": "3.9.6"
  }
 },
 "nbformat": 4,
 "nbformat_minor": 2
}
