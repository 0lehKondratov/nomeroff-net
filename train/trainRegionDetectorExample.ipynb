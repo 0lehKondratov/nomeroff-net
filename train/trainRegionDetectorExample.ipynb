{
 "cells": [
  {
   "cell_type": "markdown",
   "metadata": {},
   "source": [
    "# This example demonstrate how to train region detector model (standart image classification model).\n",
    "## Before starting download trainable [model](https://nomeroff.net.ua/datasets/autoriaNPCountryDataset-2019-01-14.zip)."
   ]
  },
  {
   "cell_type": "code",
   "execution_count": null,
   "metadata": {},
   "outputs": [],
   "source": [
    "import os\n",
    "import sys\n",
    "\n",
    "# change this property\n",
    "NOMEROFF_NET_DIR = \"/var/www/nomeroff-net/\"\n",
    "PATH_TO_AUTORIA_NUMBERPLATE_COUNTRY_DATASET = \"/var/www/datasets/autoriaNPCountryDataset-2019-01-14/\"\n",
    "RESULT_DIR = os.path.join(NOMEROFF_NET_DIR, \"models\")\n",
    "\n",
    "sys.path.append(NOMEROFF_NET_DIR)\n",
    "\n",
    "from NomeroffNet import  RegionDetector"
   ]
  },
  {
   "cell_type": "code",
   "execution_count": null,
   "metadata": {},
   "outputs": [],
   "source": [
    "# definde your parameters\n",
    "class MyRectDetector(RegionDetector):\n",
    "     def __init__(self):\n",
    "        RegionDetector.__init__(self)\n",
    "        # outputs\n",
    "        self.CLASS_LABELS = [\"xx-unknown\", \"eu-ua-2015\", \"eu-ua-2004\", \"eu-ua-1995\", \"eu\", \"xx-transit\"]\n",
    "        self.EPOCHS = 1\n",
    "        self.ENSEMBLES = 2\n",
    "\n",
    "\n",
    "# initialize region detector.\n",
    "regionDetector = MyRectDetector()\n",
    "\n",
    "# train\n",
    "regionDetector.train(PATH_TO_AUTORIA_NUMBERPLATE_COUNTRY_DATASET, RESULT_DIR)"
   ]
  },
  {
   "cell_type": "code",
   "execution_count": null,
   "metadata": {},
   "outputs": [],
   "source": []
  }
 ],
 "metadata": {
  "kernelspec": {
   "display_name": "Python 3",
   "language": "python",
   "name": "python3"
  },
  "language_info": {
   "codemirror_mode": {
    "name": "ipython",
    "version": 3
   },
   "file_extension": ".py",
   "mimetype": "text/x-python",
   "name": "python",
   "nbconvert_exporter": "python",
   "pygments_lexer": "ipython3",
   "version": "3.6.6"
  }
 },
 "nbformat": 4,
 "nbformat_minor": 2
}
