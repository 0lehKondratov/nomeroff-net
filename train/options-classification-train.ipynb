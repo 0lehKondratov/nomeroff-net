{
 "cells": [
  {
   "cell_type": "markdown",
   "metadata": {},
   "source": [
    "# This example demonstrate how to train region classification (standart image classification model)."
   ]
  },
  {
   "cell_type": "code",
   "execution_count": 2,
   "metadata": {},
   "outputs": [],
   "source": [
    "# Specify device\n",
    "import os\n",
    "os.environ[\"CUDA_VISIBLE_DEVICES\"] = \"0\" \n",
    "# os.environ[\"CUDA_VISIBLE_DEVICES\"] = \"\"  # For CPU inference\n",
    "os.environ[\"TF_FORCE_GPU_ALLOW_GROWTH\"]=\"true\""
   ]
  },
  {
   "cell_type": "code",
   "execution_count": 3,
   "metadata": {},
   "outputs": [],
   "source": [
    "import os\n",
    "import sys\n",
    "import warnings\n",
    "warnings.filterwarnings('ignore')\n",
    "\n",
    "# Nomeroff-Net path\n",
    "NOMEROFF_NET_DIR = os.path.abspath('../')\n",
    "sys.path.append(NOMEROFF_NET_DIR)"
   ]
  },
  {
   "cell_type": "code",
   "execution_count": 4,
   "metadata": {},
   "outputs": [],
   "source": [
    "# auto download latest dataset\n",
    "from NomeroffNet.tools import modelhub\n",
    "\n",
    "# auto download latest dataset\n",
    "#info = modelhub.download_dataset_for_model(\"numberplate_options\")\n",
    "#PATH_TO_DATASET = info[\"dataset_path\"]\n",
    "\n",
    "# local path dataset\n",
    "PATH_TO_DATASET = os.path.join(NOMEROFF_NET_DIR, \"./data/dataset/OptionsDetector/numberplate_options_example\")"
   ]
  },
  {
   "cell_type": "code",
   "execution_count": 5,
   "metadata": {},
   "outputs": [
    {
     "data": {
      "text/plain": [
       "'/mnt/data/var/www/nomeroff-net/./data/dataset/OptionsDetector/numberplate_options_example'"
      ]
     },
     "execution_count": 5,
     "metadata": {},
     "output_type": "execute_result"
    }
   ],
   "source": [
    "PATH_TO_DATASET"
   ]
  },
  {
   "cell_type": "code",
   "execution_count": 6,
   "metadata": {},
   "outputs": [],
   "source": [
    "DATASET_NAME = \"options\"\n",
    "VERSION = \"2021_07_08_pytorch_lightning\"\n",
    "\n",
    "RESULT_PATH = os.path.join(NOMEROFF_NET_DIR, \"./data/models/\", 'numberplate_{}_{}.ckpt'.format(DATASET_NAME, VERSION))"
   ]
  },
  {
   "cell_type": "code",
   "execution_count": 10,
   "metadata": {},
   "outputs": [],
   "source": [
    "from NomeroffNet import OptionsDetector\n",
    "\n",
    "# definde your parameters\n",
    "class MyNpClassificator(OptionsDetector):\n",
    "    def __init__(self):\n",
    "        OptionsDetector.__init__(self)\n",
    "        \n",
    "        # outputs 2\n",
    "        self.class_region = [\n",
    "            \"xx-unknown\", \n",
    "            \"eu-ua-2015\", \n",
    "            \"eu-ua-2004\", \n",
    "            \"eu-ua-1995\", \n",
    "            \"eu\", \n",
    "            \"xx-transit\", \n",
    "            \"ru\", \n",
    "            \"kz\", \n",
    "            \"eu-ua-ordlo-dnr\", \n",
    "            \"eu-ua-ordlo-lnr\", \n",
    "            \"ge\", \n",
    "            \"by\", \n",
    "            \"su\", \n",
    "            \"kg\"\n",
    "        ]\n",
    "        \n",
    "        # output 3\n",
    "        self.count_lines = [\"0\", \"1\", \"2\", \"3\"]\n",
    "        \n",
    "        self.epochs           = 1\n",
    "        self.batch_size       = 1\n",
    "        \n",
    "        # count gpu for train\n",
    "        self.gpus = 0\n",
    "        \n",
    "        self.height         = 64\n",
    "        self.width         = 295\n"
   ]
  },
  {
   "cell_type": "code",
   "execution_count": 11,
   "metadata": {},
   "outputs": [
    {
     "name": "stdout",
     "output_type": "stream",
     "text": [
      "START PREPARING\n",
      "DATA PREPARED\n"
     ]
    }
   ],
   "source": [
    "# initialize region detector.\n",
    "npClassificator = MyNpClassificator()\n",
    "npClassificator.prepare(PATH_TO_DATASET, verbose=1)"
   ]
  },
  {
   "cell_type": "code",
   "execution_count": 12,
   "metadata": {
    "scrolled": false
   },
   "outputs": [
    {
     "data": {
      "application/vnd.jupyter.widget-view+json": {
       "model_id": "",
       "version_major": 2,
       "version_minor": 0
      },
      "text/plain": [
       "HBox(children=(FloatProgress(value=1.0, bar_style='info', description='Validation sanity check', layout=Layout…"
      ]
     },
     "metadata": {},
     "output_type": "display_data"
    },
    {
     "data": {
      "application/vnd.jupyter.widget-view+json": {
       "model_id": "2bc12050a7404895bab10b222a702d79",
       "version_major": 2,
       "version_minor": 0
      },
      "text/plain": [
       "HBox(children=(FloatProgress(value=1.0, bar_style='info', description='Training', layout=Layout(flex='2'), max…"
      ]
     },
     "metadata": {},
     "output_type": "display_data"
    },
    {
     "data": {
      "application/vnd.jupyter.widget-view+json": {
       "model_id": "",
       "version_major": 2,
       "version_minor": 0
      },
      "text/plain": [
       "HBox(children=(FloatProgress(value=1.0, bar_style='info', description='Validating', layout=Layout(flex='2'), m…"
      ]
     },
     "metadata": {},
     "output_type": "display_data"
    },
    {
     "name": "stdout",
     "output_type": "stream",
     "text": [
      "\n",
      "[INFO] best model path /mnt/data/var/www/nomeroff-net/train/lightning_logs/version_36/checkpoints/epoch=0-step=0.ckpt\n"
     ]
    },
    {
     "data": {
      "application/vnd.jupyter.widget-view+json": {
       "model_id": "7665e369611a4d9195318b5389bf7493",
       "version_major": 2,
       "version_minor": 0
      },
      "text/plain": [
       "HBox(children=(FloatProgress(value=1.0, bar_style='info', description='Testing', layout=Layout(flex='2'), max=…"
      ]
     },
     "metadata": {},
     "output_type": "display_data"
    },
    {
     "name": "stdout",
     "output_type": "stream",
     "text": [
      "\n",
      "--------------------------------------------------------------------------------\n",
      "DATALOADER:0 TEST RESULTS\n",
      "{'test_accuracy': 1.0, 'test_loss': 1.2801380157470703}\n",
      "--------------------------------------------------------------------------------\n"
     ]
    }
   ],
   "source": [
    "# train\n",
    "model = npClassificator.train()"
   ]
  },
  {
   "cell_type": "code",
   "execution_count": 13,
   "metadata": {},
   "outputs": [
    {
     "name": "stdout",
     "output_type": "stream",
     "text": [
      "START PREPARING\n",
      "DATA PREPARED\n"
     ]
    }
   ],
   "source": [
    "npClassificator.prepare(PATH_TO_DATASET, verbose=1)"
   ]
  },
  {
   "cell_type": "code",
   "execution_count": 14,
   "metadata": {},
   "outputs": [
    {
     "data": {
      "application/vnd.jupyter.widget-view+json": {
       "model_id": "4a6965757e6a45b7b29cfb5b28d84586",
       "version_major": 2,
       "version_minor": 0
      },
      "text/plain": [
       "HBox(children=(FloatProgress(value=1.0, bar_style='info', description='Testing', layout=Layout(flex='2'), max=…"
      ]
     },
     "metadata": {},
     "output_type": "display_data"
    },
    {
     "name": "stdout",
     "output_type": "stream",
     "text": [
      "\n",
      "--------------------------------------------------------------------------------\n",
      "DATALOADER:0 TEST RESULTS\n",
      "{'test_accuracy': 1.0, 'test_loss': 1.2801380157470703}\n",
      "--------------------------------------------------------------------------------\n"
     ]
    },
    {
     "data": {
      "text/plain": [
       "[{'test_loss': 1.2801380157470703, 'test_accuracy': 1.0}]"
      ]
     },
     "execution_count": 14,
     "metadata": {},
     "output_type": "execute_result"
    }
   ],
   "source": [
    "npClassificator.test()"
   ]
  },
  {
   "cell_type": "code",
   "execution_count": 15,
   "metadata": {},
   "outputs": [
    {
     "name": "stdout",
     "output_type": "stream",
     "text": [
      "model save to /mnt/data/var/www/nomeroff-net/./data/models/numberplate_options_2021_07_08_pytorch_lightning.ckpt\n"
     ]
    }
   ],
   "source": [
    "npClassificator.save(RESULT_PATH)"
   ]
  },
  {
   "cell_type": "markdown",
   "metadata": {},
   "source": [
    "# Classification Report"
   ]
  },
  {
   "cell_type": "code",
   "execution_count": 16,
   "metadata": {},
   "outputs": [
    {
     "data": {
      "text/plain": [
       "NPOptionsNet(\n",
       "  (inp_conv): Conv2d(3, 32, kernel_size=(3, 3), stride=(1, 1))\n",
       "  (conv1): Conv2d(32, 64, kernel_size=(3, 3), stride=(1, 1))\n",
       "  (conv2): Conv2d(64, 128, kernel_size=(3, 3), stride=(1, 1))\n",
       "  (conv3): Conv2d(128, 128, kernel_size=(3, 3), stride=(1, 1))\n",
       "  (pool): MaxPool2d(kernel_size=2, stride=2, padding=0, dilation=1, ceil_mode=False)\n",
       "  (dropout_reg): Dropout(p=0.2, inplace=False)\n",
       "  (fc1_reg): Linear(in_features=4096, out_features=512, bias=True)\n",
       "  (fc2_reg): Linear(in_features=512, out_features=256, bias=True)\n",
       "  (batch_norm_reg): BatchNorm1d(512, eps=1e-05, momentum=0.1, affine=True, track_running_stats=True)\n",
       "  (fc3_reg): Linear(in_features=256, out_features=14, bias=True)\n",
       "  (dropout_line): Dropout(p=0.2, inplace=False)\n",
       "  (fc1_line): Linear(in_features=4096, out_features=512, bias=True)\n",
       "  (fc2_line): Linear(in_features=512, out_features=256, bias=True)\n",
       "  (batch_norm_line): BatchNorm1d(512, eps=1e-05, momentum=0.1, affine=True, track_running_stats=True)\n",
       "  (fc3_line): Linear(in_features=256, out_features=4, bias=True)\n",
       ")"
      ]
     },
     "execution_count": 16,
     "metadata": {},
     "output_type": "execute_result"
    }
   ],
   "source": [
    "npClassificator.load(RESULT_PATH)"
   ]
  },
  {
   "cell_type": "code",
   "execution_count": 17,
   "metadata": {},
   "outputs": [
    {
     "ename": "ModuleNotFoundError",
     "evalue": "No module named 'NomeroffNet.data_modules.option_img_generator'",
     "output_type": "error",
     "traceback": [
      "\u001b[0;31m---------------------------------------------------------------------------\u001b[0m",
      "\u001b[0;31mModuleNotFoundError\u001b[0m                       Traceback (most recent call last)",
      "\u001b[0;32m<ipython-input-17-1a2e76f971cb>\u001b[0m in \u001b[0;36m<module>\u001b[0;34m\u001b[0m\n\u001b[0;32m----> 1\u001b[0;31m \u001b[0;32mfrom\u001b[0m \u001b[0mNomeroffNet\u001b[0m\u001b[0;34m.\u001b[0m\u001b[0mdata_modules\u001b[0m\u001b[0;34m.\u001b[0m\u001b[0moption_img_generator\u001b[0m \u001b[0;32mimport\u001b[0m \u001b[0mImgGenerator\u001b[0m\u001b[0;34m\u001b[0m\u001b[0;34m\u001b[0m\u001b[0m\n\u001b[0m\u001b[1;32m      2\u001b[0m \u001b[0;32mfrom\u001b[0m \u001b[0msklearn\u001b[0m\u001b[0;34m.\u001b[0m\u001b[0mmetrics\u001b[0m \u001b[0;32mimport\u001b[0m \u001b[0mclassification_report\u001b[0m\u001b[0;34m\u001b[0m\u001b[0;34m\u001b[0m\u001b[0m\n\u001b[1;32m      3\u001b[0m \u001b[0;32mimport\u001b[0m \u001b[0mtorch\u001b[0m\u001b[0;34m\u001b[0m\u001b[0;34m\u001b[0m\u001b[0m\n\u001b[1;32m      4\u001b[0m \u001b[0;34m\u001b[0m\u001b[0m\n\u001b[1;32m      5\u001b[0m def options_classification_report(npClassificator, \n",
      "\u001b[0;31mModuleNotFoundError\u001b[0m: No module named 'NomeroffNet.data_modules.option_img_generator'"
     ]
    }
   ],
   "source": [
    "from NomeroffNet.data_modules.option_img_generator import ImgGenerator\n",
    "from sklearn.metrics import classification_report\n",
    "import torch\n",
    "\n",
    "def options_classification_report(npClassificator, \n",
    "                                  path_dir=os.path.join(PATH_TO_DATASET, \"test\"), \n",
    "                                  mode_torch=\"gpu\"):\n",
    "    imageGenerator = ImgGenerator(\n",
    "        path_dir,\n",
    "        npClassificator.width,\n",
    "        npClassificator.height,\n",
    "        npClassificator.batch_size,\n",
    "        [len(npClassificator.class_region), len(npClassificator.count_lines)])\n",
    "    imageGenerator.build_data()\n",
    "    gen = imageGenerator.path_generator()\n",
    "    \n",
    "    out_idx_reg_all = []\n",
    "    out_idx_line_all = []\n",
    "    label_idx_reg_all = []\n",
    "    label_idx_line_all = []\n",
    "    for i, (img_paths, inputs, labels) in enumerate(gen, 0):\n",
    "        # get the inputs; data is a list of [inputs, labels]\n",
    "        inputs = torch.from_numpy(inputs)\n",
    "        if mode_torch == \"gpu\":\n",
    "            inputs = inputs.cuda()\n",
    "            npClassificator.model.cuda()\n",
    "        with torch.no_grad():\n",
    "            outputs = npClassificator.model(inputs)\n",
    "        label_reg = torch.from_numpy(labels[0])\n",
    "        label_cnt = torch.from_numpy(labels[1])\n",
    "        if mode_torch == \"gpu\":\n",
    "            label_reg = label_reg.cuda()\n",
    "            label_cnt = label_cnt.cuda()\n",
    "        \n",
    "        out_idx_reg = torch.max(outputs[0], 1)[1].cpu().numpy()\n",
    "        out_idx_line = torch.max(outputs[1], 1)[1].cpu().numpy()\n",
    "        \n",
    "        label_idx_reg = torch.max(label_reg, 1)[1].cpu().numpy()\n",
    "        label_idx_line = torch.max(label_cnt, 1)[1].cpu().numpy()\n",
    "        \n",
    "        out_idx_reg_all.extend(out_idx_reg)\n",
    "        out_idx_line_all.extend(out_idx_line)\n",
    "        label_idx_reg_all.extend(label_idx_reg)\n",
    "        label_idx_line_all.extend(label_idx_line)\n",
    "    #print(\"out_idx_reg_all\", out_idx_reg_all)\n",
    "    print(\"\\n\\nclass region classification report:\")\n",
    "    print(classification_report(label_idx_reg_all, \n",
    "                                out_idx_reg_all, \n",
    "                                target_names=npClassificator.class_region))\n",
    "    print(\"\\n\\ncount lines classification report:\")\n",
    "    print(classification_report(label_idx_line_all, \n",
    "                                out_idx_line_all, \n",
    "                                target_names=npClassificator.count_lines))"
   ]
  },
  {
   "cell_type": "code",
   "execution_count": 18,
   "metadata": {
    "scrolled": false
   },
   "outputs": [
    {
     "ename": "NameError",
     "evalue": "name 'options_classification_report' is not defined",
     "output_type": "error",
     "traceback": [
      "\u001b[0;31m---------------------------------------------------------------------------\u001b[0m",
      "\u001b[0;31mNameError\u001b[0m                                 Traceback (most recent call last)",
      "\u001b[0;32m<ipython-input-18-8abc3f509f48>\u001b[0m in \u001b[0;36m<module>\u001b[0;34m\u001b[0m\n\u001b[0;32m----> 1\u001b[0;31m \u001b[0moptions_classification_report\u001b[0m\u001b[0;34m(\u001b[0m\u001b[0mnpClassificator\u001b[0m\u001b[0;34m)\u001b[0m\u001b[0;34m\u001b[0m\u001b[0;34m\u001b[0m\u001b[0m\n\u001b[0m",
      "\u001b[0;31mNameError\u001b[0m: name 'options_classification_report' is not defined"
     ]
    }
   ],
   "source": [
    "options_classification_report(npClassificator)"
   ]
  },
  {
   "cell_type": "markdown",
   "metadata": {},
   "source": [
    "# Check small accuracy images"
   ]
  },
  {
   "cell_type": "code",
   "execution_count": 12,
   "metadata": {},
   "outputs": [
    {
     "data": {
      "text/plain": [
       "NPOptionsNet(\n",
       "  (inp_conv): Conv2d(3, 32, kernel_size=(3, 3), stride=(1, 1))\n",
       "  (conv1): Conv2d(32, 64, kernel_size=(3, 3), stride=(1, 1))\n",
       "  (conv2): Conv2d(64, 128, kernel_size=(3, 3), stride=(1, 1))\n",
       "  (conv3): Conv2d(128, 128, kernel_size=(3, 3), stride=(1, 1))\n",
       "  (pool): MaxPool2d(kernel_size=2, stride=2, padding=0, dilation=1, ceil_mode=False)\n",
       "  (dropout_reg): Dropout(p=0.2, inplace=False)\n",
       "  (fc1_reg): Linear(in_features=4096, out_features=512, bias=True)\n",
       "  (fc2_reg): Linear(in_features=512, out_features=256, bias=True)\n",
       "  (batch_norm_reg): BatchNorm1d(512, eps=1e-05, momentum=0.1, affine=True, track_running_stats=True)\n",
       "  (fc3_reg): Linear(in_features=256, out_features=15, bias=True)\n",
       "  (dropout_line): Dropout(p=0.2, inplace=False)\n",
       "  (fc1_line): Linear(in_features=4096, out_features=512, bias=True)\n",
       "  (fc2_line): Linear(in_features=512, out_features=256, bias=True)\n",
       "  (batch_norm_line): BatchNorm1d(512, eps=1e-05, momentum=0.1, affine=True, track_running_stats=True)\n",
       "  (fc3_line): Linear(in_features=256, out_features=4, bias=True)\n",
       ")"
      ]
     },
     "execution_count": 12,
     "metadata": {},
     "output_type": "execute_result"
    }
   ],
   "source": [
    "npClassificator.load(RESULT_PATH)"
   ]
  },
  {
   "cell_type": "code",
   "execution_count": 13,
   "metadata": {},
   "outputs": [],
   "source": [
    "%matplotlib inline"
   ]
  },
  {
   "cell_type": "code",
   "execution_count": 20,
   "metadata": {},
   "outputs": [],
   "source": [
    "from NomeroffNet.data_modules.option_img_generator import ImgGenerator\n",
    "import torch\n",
    "import json\n",
    "import cv2\n",
    "import matplotlib.pyplot as plt\n",
    "\n",
    "def show_img(img_path):\n",
    "    img = cv2.imread(img_path)\n",
    "    img = cv2.cvtColor(img, cv2.COLOR_BGR2RGB)\n",
    "    plt.imshow(img)\n",
    "    plt.show()\n",
    "\n",
    "def small_acc(npClassificator, \n",
    "              path_dir=os.path.join(PATH_TO_DATASET, \"test\"), \n",
    "              mode_torch=\"gpu\", \n",
    "              min_acc=0.75):\n",
    "    imageGenerator = ImgGenerator(\n",
    "        path_dir,\n",
    "        npClassificator.width,\n",
    "        npClassificator.height,\n",
    "        npClassificator.batch_size,\n",
    "        [len(npClassificator.class_region), len(npClassificator.count_lines)])\n",
    "    print(\"start imageGenerator build\")\n",
    "    imageGenerator.build_data()\n",
    "    print(\"end imageGenerator build\")\n",
    "    gen = imageGenerator.path_generator()\n",
    "    for i, (img_paths, inputs, labels) in enumerate(gen, 0):\n",
    "        # get the inputs; data is a list of [inputs, labels]\n",
    "        inputs = torch.from_numpy(inputs)\n",
    "        if mode_torch == \"gpu\":\n",
    "            inputs = inputs.cuda()\n",
    "        outputs = npClassificator.model(inputs)\n",
    "        label_reg = torch.from_numpy(labels[0])\n",
    "        label_cnt = torch.from_numpy(labels[1])\n",
    "        if mode_torch == \"gpu\":\n",
    "            label_reg = label_reg.cuda()\n",
    "            label_cnt = label_cnt.cuda()\n",
    "        out_idx_reg = torch.max(outputs[0], 1)[1].cpu().numpy()\n",
    "        out_idx_line = torch.max(outputs[1], 1)[1].cpu().numpy()\n",
    "        \n",
    "        label_idx_reg = torch.max(label_reg, 1)[1].cpu().numpy()\n",
    "        label_idx_line = torch.max(label_cnt, 1)[1].cpu().numpy()\n",
    "        \n",
    "        # check reg\n",
    "        for o, l, p, tens in zip(out_idx_reg, label_idx_reg, img_paths, outputs[0]):\n",
    "            if o != l:\n",
    "                print(\"[WRONG REGION PREDICTED] pred\", o, l, p)\n",
    "                show_img(p)\n",
    "            elif tens[l] < min_acc:\n",
    "                print(\"[SMALL ACC REGION PREDICTED]  pred\", o, l, tens[l], p)\n",
    "                show_img(p)\n",
    "        # check line\n",
    "#         for o, l, p, tens in zip(out_idx_line, label_idx_line, img_paths, outputs[1]):\n",
    "#             if o != l:\n",
    "#                 print(\"[WRONG LINE PREDICTED]  pred\", o, l, p)\n",
    "#                 show_img(p)\n",
    "#             elif tens[l] < min_acc:\n",
    "#                 print(\"[SMALL ACC LINE PREDICTED]  pred\", o, l, tens[l], p)\n",
    "#                 show_img(p)"
   ]
  },
  {
   "cell_type": "code",
   "execution_count": null,
   "metadata": {},
   "outputs": [],
   "source": [
    "small_acc(npClassificator, os.path.join(PATH_TO_DATASET, \"test\"))"
   ]
  },
  {
   "cell_type": "code",
   "execution_count": null,
   "metadata": {},
   "outputs": [],
   "source": [
    "small_acc(npClassificator, os.path.join(PATH_TO_DATASET, \"train\"))"
   ]
  },
  {
   "cell_type": "code",
   "execution_count": null,
   "metadata": {},
   "outputs": [],
   "source": [
    "small_acc(npClassificator, os.path.join(PATH_TO_DATASET, \"val\"))"
   ]
  },
  {
   "cell_type": "code",
   "execution_count": null,
   "metadata": {},
   "outputs": [],
   "source": []
  },
  {
   "cell_type": "code",
   "execution_count": null,
   "metadata": {},
   "outputs": [],
   "source": []
  }
 ],
 "metadata": {
  "kernelspec": {
   "display_name": "Python 3",
   "language": "python",
   "name": "python3"
  },
  "language_info": {
   "codemirror_mode": {
    "name": "ipython",
    "version": 3
   },
   "file_extension": ".py",
   "mimetype": "text/x-python",
   "name": "python",
   "nbconvert_exporter": "python",
   "pygments_lexer": "ipython3",
   "version": "3.8.7"
  }
 },
 "nbformat": 4,
 "nbformat_minor": 2
}
