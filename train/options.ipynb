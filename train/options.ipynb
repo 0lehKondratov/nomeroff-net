{
 "cells": [
  {
   "cell_type": "markdown",
   "metadata": {},
   "source": [
    "# This example demonstrate how to train region detector model (standart image classification model)."
   ]
  },
  {
   "cell_type": "markdown",
   "metadata": {},
   "source": [
    "For train datasets please download last version of dataset [https://nomeroff.net.ua/datasets/](https://nomeroff.net.ua/datasets/). Unpack archive and rename to **./datasets/** .\n",
    "For examle\n",
    "```bash\n",
    "cd ./datasets/ocr\n",
    "wget https://nomeroff.net.ua/datasets/autoriaNumberplateOptionsDataset-2019-02-20.zip\n",
    "unzip autoriaNumberplateOptionsDataset-2019-02-20.zip\n",
    "mv autoriaNumberplateOptionsDataset-2019-02-20 ua\n",
    "```\n",
    "or use your own dataset."
   ]
  },
  {
   "cell_type": "code",
   "execution_count": 1,
   "metadata": {},
   "outputs": [
    {
     "name": "stderr",
     "output_type": "stream",
     "text": [
      "Using TensorFlow backend.\n"
     ]
    }
   ],
   "source": [
    "import os\n",
    "import sys\n",
    "import warnings\n",
    "warnings.filterwarnings('ignore')\n",
    "\n",
    "# change this property\n",
    "NOMEROFF_NET_DIR = os.path.abspath('../')\n",
    "\n",
    "DATASET_NAME = \"options\"\n",
    "VERSION = \"2019_2_20\"\n",
    "\n",
    "LOG_DIR = os.path.join(NOMEROFF_NET_DIR, \"logs/\")\n",
    "PATH_TO_DATASET = os.path.join(NOMEROFF_NET_DIR, \"datasets/\", DATASET_NAME)\n",
    "RESULT_PATH = os.path.join(NOMEROFF_NET_DIR, \"models/\", 'numberplate_{}_{}.h5'.format(DATASET_NAME, VERSION))\n",
    "\n",
    "FROZEN_MODEL_PATH = os.path.join(NOMEROFF_NET_DIR, \"models/\", 'numberplate_{}_{}.pb'.format(DATASET_NAME, VERSION))\n",
    "\n",
    "sys.path.append(NOMEROFF_NET_DIR)\n",
    "\n",
    "from NomeroffNet import OptionsDetector\n",
    "from NomeroffNet.Base import convert_keras_to_freeze_pb"
   ]
  },
  {
   "cell_type": "code",
   "execution_count": 2,
   "metadata": {},
   "outputs": [],
   "source": [
    "# definde your parameters\n",
    "# definde your parameters\n",
    "class MyNumberClassificator(OptionsDetector):\n",
    "    def __init__(self):\n",
    "        OptionsDetector.__init__(self)\n",
    "        # outputs 1\n",
    "        self.CLASS_STATE = [\"BACKGROUND\", \"FILLED\", \"NOT_FILLED\"]\n",
    "        \n",
    "        # outputs 2\n",
    "        self.CLASS_REGION = [\"xx-unknown\", \"eu-ua-2015\", \"eu-ua-2004\", \"eu-ua-1995\", \"eu\", \"xx-transit\"]\n",
    "        \n",
    "        self.EPOCHS           = 2\n",
    "        self.BATCH_SIZE       = 10\n",
    "        \n",
    "        self.HEIGHT         = 64\n",
    "        self.WEIGHT         = 295\n"
   ]
  },
  {
   "cell_type": "code",
   "execution_count": 3,
   "metadata": {},
   "outputs": [
    {
     "name": "stdout",
     "output_type": "stream",
     "text": [
      "START PREPARING\n",
      "start train build\n",
      "end train build\n",
      "start test build\n",
      "end test build\n",
      "start test build\n",
      "end test build\n",
      "DATA PREPARED\n"
     ]
    }
   ],
   "source": [
    "# initialize region detector.\n",
    "numberClassificator = MyNumberClassificator()\n",
    "numberClassificator.prepare(PATH_TO_DATASET)"
   ]
  },
  {
   "cell_type": "code",
   "execution_count": 4,
   "metadata": {},
   "outputs": [
    {
     "name": "stdout",
     "output_type": "stream",
     "text": [
      "Epoch 1/2\n",
      "1/1 [==============================] - 3s 3s/step - loss: 2.8959 - REGION_loss: 1.7895 - STATE_loss: 1.1025 - REGION_acc: 0.4000 - STATE_acc: 0.2000 - val_loss: 2.4067 - val_REGION_loss: 1.6337 - val_STATE_loss: 0.7692 - val_REGION_acc: 0.6000 - val_STATE_acc: 0.8000\n",
      "Epoch 2/2\n",
      "1/1 [==============================] - 2s 2s/step - loss: 2.6703 - REGION_loss: 1.6351 - STATE_loss: 1.0314 - REGION_acc: 0.9000 - STATE_acc: 0.8000 - val_loss: 2.3286 - val_REGION_loss: 1.5869 - val_STATE_loss: 0.7379 - val_REGION_acc: 0.5000 - val_STATE_acc: 0.8000\n"
     ]
    }
   ],
   "source": [
    "# train\n",
    "model = numberClassificator.train(LOG_DIR)"
   ]
  },
  {
   "cell_type": "code",
   "execution_count": 5,
   "metadata": {},
   "outputs": [
    {
     "name": "stdout",
     "output_type": "stream",
     "text": [
      "test loss: 2.2244772911071777\n",
      "test loss: 1.5994236469268799    test loss: 0.6212207078933716\n",
      "test acc: 0.5    test acc 1.0\n"
     ]
    },
    {
     "data": {
      "text/plain": [
       "(2.2244772911071777, 1.5994236469268799, 0.6212207078933716, 0.5, 1.0)"
      ]
     },
     "execution_count": 5,
     "metadata": {},
     "output_type": "execute_result"
    }
   ],
   "source": [
    "numberClassificator.test()"
   ]
  },
  {
   "cell_type": "code",
   "execution_count": 6,
   "metadata": {},
   "outputs": [
    {
     "name": "stdout",
     "output_type": "stream",
     "text": [
      "model save to /mnt/data/www/nomeroff-net/models/numberplate_options_2019_2_20.h5\n"
     ]
    }
   ],
   "source": [
    "numberClassificator.save(RESULT_PATH)\n",
    "#model = numberClassificator.load(RESULT_PATH)"
   ]
  },
  {
   "cell_type": "markdown",
   "metadata": {},
   "source": [
    "### Convert keras options .h5 model to .pb graph"
   ]
  },
  {
   "cell_type": "code",
   "execution_count": null,
   "metadata": {},
   "outputs": [],
   "source": [
    "convert_keras_to_freeze_pb(numberClassificator.MODEL, FROZEN_MODEL_PATH)"
   ]
  }
 ],
 "metadata": {
  "kernelspec": {
   "display_name": "Python 3",
   "language": "python",
   "name": "python3"
  },
  "language_info": {
   "codemirror_mode": {
    "name": "ipython",
    "version": 3
   },
   "file_extension": ".py",
   "mimetype": "text/x-python",
   "name": "python",
   "nbconvert_exporter": "python",
   "pygments_lexer": "ipython3",
   "version": "3.6.6"
  }
 },
 "nbformat": 4,
 "nbformat_minor": 2
}
