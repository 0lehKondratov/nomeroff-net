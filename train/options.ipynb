{
 "cells": [
  {
   "cell_type": "markdown",
   "metadata": {},
   "source": [
    "# This example demonstrate how to train region detector model (standart image classification model)."
   ]
  },
  {
   "cell_type": "markdown",
   "metadata": {},
   "source": [
    "For train datasets please download last version of dataset [https://nomeroff.net.ua/datasets/](https://nomeroff.net.ua/datasets/). Unpack archive and rename to **./datasets/** .\n",
    "For examle\n",
    "```bash\n",
    "cd ./datasets\n",
    "wget https://nomeroff.net.ua/datasets/autoriaNumberplateOptions3Dataset-2020-10-01.zip\n",
    "unzip autoriaNumberplateOptions3Dataset-2020-10-01.zip\n",
    "mv autoriaNumberplateOptions3Dataset-2020-10-01 options\n",
    "```\n",
    "or use your own dataset."
   ]
  },
  {
   "cell_type": "code",
   "execution_count": 1,
   "metadata": {},
   "outputs": [],
   "source": [
    "# Specify device\n",
    "import os\n",
    "os.environ[\"CUDA_VISIBLE_DEVICES\"] = \"0\" "
   ]
  },
  {
   "cell_type": "code",
   "execution_count": 2,
   "metadata": {},
   "outputs": [],
   "source": [
    "from tensorflow.compat.v1 import ConfigProto\n",
    "from tensorflow.compat.v1 import InteractiveSession\n",
    "\n",
    "config = ConfigProto()\n",
    "config.gpu_options.allow_growth = True\n",
    "session = InteractiveSession(config=config)"
   ]
  },
  {
   "cell_type": "code",
   "execution_count": 4,
   "metadata": {},
   "outputs": [],
   "source": [
    "import os\n",
    "import sys\n",
    "import warnings\n",
    "warnings.filterwarnings('ignore')\n",
    "\n",
    "# change this property\n",
    "NOMEROFF_NET_DIR = os.path.abspath('../')\n",
    "\n",
    "DATASET_NAME = \"options\"\n",
    "VERSION = \"2020_12_17_tensorflow_v2_3\"\n",
    "\n",
    "LOG_DIR = os.path.join(NOMEROFF_NET_DIR, \"logs/\")\n",
    "PATH_TO_DATASET = os.path.join(NOMEROFF_NET_DIR, \"datasets/\", DATASET_NAME)\n",
    "RESULT_PATH = os.path.join(NOMEROFF_NET_DIR, \"models/\", 'numberplate_{}_{}.h5'.format(DATASET_NAME, VERSION))\n",
    "\n",
    "sys.path.append(NOMEROFF_NET_DIR)\n",
    "\n",
    "from NomeroffNet import OptionsDetector"
   ]
  },
  {
   "cell_type": "code",
   "execution_count": 6,
   "metadata": {},
   "outputs": [],
   "source": [
    "# definde your parameters\n",
    "class MyNpClassificator(OptionsDetector):\n",
    "    def __init__(self):\n",
    "        OptionsDetector.__init__(self)\n",
    "        # outputs 1\n",
    "        self.CLASS_STATE = [\"garbage\", \"filled\", \"not filled\", \"empty\"]\n",
    "        \n",
    "        # outputs 2\n",
    "        self.CLASS_REGION = [\"xx-unknown\", \"eu-ua-2015\", \"eu-ua-2004\", \"eu-ua-1995\", \"eu\", \"xx-transit\", \"ru\", \"kz\", \"eu-ua-ordlo-dnr\", \"eu-ua-ordlo-lnr\", \"ge\", \"by\", \"su\", \"kg\"]\n",
    "        \n",
    "        # output 3\n",
    "        self.CLASS_COUNT_LINE = [\"0\", \"1\", \"2\", \"3\"]\n",
    "        \n",
    "        self.EPOCHS           = 100\n",
    "        self.BATCH_SIZE       = 64\n",
    "        \n",
    "        self.HEIGHT         = 64\n",
    "        self.WEIGHT         = 295\n"
   ]
  },
  {
   "cell_type": "code",
   "execution_count": 7,
   "metadata": {},
   "outputs": [
    {
     "name": "stdout",
     "output_type": "stream",
     "text": [
      "START PREPARING\n",
      "start train build\n",
      "end train build\n",
      "start test build\n",
      "end test build\n",
      "start test build\n",
      "end test build\n",
      "DATA PREPARED\n"
     ]
    }
   ],
   "source": [
    "# initialize region detector.\n",
    "npClassificator = MyNpClassificator()\n",
    "npClassificator.prepare(PATH_TO_DATASET, verbose=1)"
   ]
  },
  {
   "cell_type": "code",
   "execution_count": 8,
   "metadata": {},
   "outputs": [
    {
     "name": "stdout",
     "output_type": "stream",
     "text": [
      "Epoch 1/100\n",
      "517/517 [==============================] - 57s 94ms/step - loss: 2.7027 - REGION_loss: 1.6825 - STATE_loss: 0.4822 - COUNT_LINE_loss: 0.5112 - REGION_accuracy: 0.5392 - STATE_accuracy: 0.8988 - COUNT_LINE_accuracy: 0.8704 - val_loss: 1.6621 - val_REGION_loss: 1.0488 - val_STATE_loss: 0.3013 - val_COUNT_LINE_loss: 0.2701 - val_REGION_accuracy: 0.8313 - val_STATE_accuracy: 0.8141 - val_COUNT_LINE_accuracy: 0.8705\n",
      "Epoch 2/100\n",
      "517/517 [==============================] - 151s 291ms/step - loss: 0.6768 - REGION_loss: 0.4416 - STATE_loss: 0.0993 - COUNT_LINE_loss: 0.0939 - REGION_accuracy: 0.8895 - STATE_accuracy: 0.9671 - COUNT_LINE_accuracy: 0.9698 - val_loss: 0.4429 - val_REGION_loss: 0.2431 - val_STATE_loss: 0.0846 - val_COUNT_LINE_loss: 0.0743 - val_REGION_accuracy: 0.9444 - val_STATE_accuracy: 0.9708 - val_COUNT_LINE_accuracy: 0.9752\n",
      "Epoch 3/100\n",
      "517/517 [==============================] - 151s 291ms/step - loss: 0.3676 - REGION_loss: 0.2106 - STATE_loss: 0.0614 - COUNT_LINE_loss: 0.0552 - REGION_accuracy: 0.9493 - STATE_accuracy: 0.9818 - COUNT_LINE_accuracy: 0.9825 - val_loss: 0.2868 - val_REGION_loss: 0.1407 - val_STATE_loss: 0.0595 - val_COUNT_LINE_loss: 0.0477 - val_REGION_accuracy: 0.9664 - val_STATE_accuracy: 0.9812 - val_COUNT_LINE_accuracy: 0.9845\n",
      "Epoch 4/100\n",
      "517/517 [==============================] - 149s 289ms/step - loss: 0.2632 - REGION_loss: 0.1357 - STATE_loss: 0.0465 - COUNT_LINE_loss: 0.0424 - REGION_accuracy: 0.9681 - STATE_accuracy: 0.9866 - COUNT_LINE_accuracy: 0.9864 - val_loss: 0.2456 - val_REGION_loss: 0.1130 - val_STATE_loss: 0.0555 - val_COUNT_LINE_loss: 0.0396 - val_REGION_accuracy: 0.9705 - val_STATE_accuracy: 0.9820 - val_COUNT_LINE_accuracy: 0.9861\n",
      "Epoch 5/100\n",
      "517/517 [==============================] - 151s 293ms/step - loss: 0.2103 - REGION_loss: 0.1025 - STATE_loss: 0.0384 - COUNT_LINE_loss: 0.0321 - REGION_accuracy: 0.9747 - STATE_accuracy: 0.9892 - COUNT_LINE_accuracy: 0.9907 - val_loss: 0.2006 - val_REGION_loss: 0.0948 - val_STATE_loss: 0.0401 - val_COUNT_LINE_loss: 0.0296 - val_REGION_accuracy: 0.9750 - val_STATE_accuracy: 0.9881 - val_COUNT_LINE_accuracy: 0.9908\n",
      "Epoch 6/100\n",
      "517/517 [==============================] - 152s 293ms/step - loss: 0.1703 - REGION_loss: 0.0779 - STATE_loss: 0.0314 - COUNT_LINE_loss: 0.0251 - REGION_accuracy: 0.9806 - STATE_accuracy: 0.9910 - COUNT_LINE_accuracy: 0.9926 - val_loss: 0.1754 - val_REGION_loss: 0.0768 - val_STATE_loss: 0.0362 - val_COUNT_LINE_loss: 0.0273 - val_REGION_accuracy: 0.9804 - val_STATE_accuracy: 0.9890 - val_COUNT_LINE_accuracy: 0.9913\n",
      "Epoch 7/100\n",
      "517/517 [==============================] - 150s 289ms/step - loss: 0.1586 - REGION_loss: 0.0712 - STATE_loss: 0.0296 - COUNT_LINE_loss: 0.0230 - REGION_accuracy: 0.9818 - STATE_accuracy: 0.9903 - COUNT_LINE_accuracy: 0.9930 - val_loss: 0.1785 - val_REGION_loss: 0.0779 - val_STATE_loss: 0.0387 - val_COUNT_LINE_loss: 0.0277 - val_REGION_accuracy: 0.9796 - val_STATE_accuracy: 0.9880 - val_COUNT_LINE_accuracy: 0.9917\n",
      "Epoch 8/100\n",
      "517/517 [==============================] - 150s 291ms/step - loss: 0.1262 - REGION_loss: 0.0536 - STATE_loss: 0.0216 - COUNT_LINE_loss: 0.0170 - REGION_accuracy: 0.9864 - STATE_accuracy: 0.9933 - COUNT_LINE_accuracy: 0.9950 - val_loss: 0.1398 - val_REGION_loss: 0.0589 - val_STATE_loss: 0.0279 - val_COUNT_LINE_loss: 0.0197 - val_REGION_accuracy: 0.9846 - val_STATE_accuracy: 0.9904 - val_COUNT_LINE_accuracy: 0.9932\n",
      "Epoch 9/100\n",
      "517/517 [==============================] - 151s 292ms/step - loss: 0.1081 - REGION_loss: 0.0431 - STATE_loss: 0.0168 - COUNT_LINE_loss: 0.0151 - REGION_accuracy: 0.9900 - STATE_accuracy: 0.9950 - COUNT_LINE_accuracy: 0.9965 - val_loss: 0.1423 - val_REGION_loss: 0.0576 - val_STATE_loss: 0.0286 - val_COUNT_LINE_loss: 0.0237 - val_REGION_accuracy: 0.9851 - val_STATE_accuracy: 0.9897 - val_COUNT_LINE_accuracy: 0.9928\n",
      "Epoch 10/100\n",
      "517/517 [==============================] - 150s 291ms/step - loss: 0.1079 - REGION_loss: 0.0412 - STATE_loss: 0.0194 - COUNT_LINE_loss: 0.0150 - REGION_accuracy: 0.9904 - STATE_accuracy: 0.9941 - COUNT_LINE_accuracy: 0.9957 - val_loss: 0.1348 - val_REGION_loss: 0.0555 - val_STATE_loss: 0.0276 - val_COUNT_LINE_loss: 0.0200 - val_REGION_accuracy: 0.9865 - val_STATE_accuracy: 0.9920 - val_COUNT_LINE_accuracy: 0.9942\n",
      "Epoch 11/100\n",
      "517/517 [==============================] - 149s 289ms/step - loss: 0.0882 - REGION_loss: 0.0325 - STATE_loss: 0.0130 - COUNT_LINE_loss: 0.0112 - REGION_accuracy: 0.9923 - STATE_accuracy: 0.9964 - COUNT_LINE_accuracy: 0.9971 - val_loss: 0.1256 - val_REGION_loss: 0.0491 - val_STATE_loss: 0.0273 - val_COUNT_LINE_loss: 0.0182 - val_REGION_accuracy: 0.9867 - val_STATE_accuracy: 0.9915 - val_COUNT_LINE_accuracy: 0.9931\n",
      "Epoch 12/100\n",
      "517/517 [==============================] - 149s 288ms/step - loss: 0.0920 - REGION_loss: 0.0350 - STATE_loss: 0.0148 - COUNT_LINE_loss: 0.0114 - REGION_accuracy: 0.9921 - STATE_accuracy: 0.9959 - COUNT_LINE_accuracy: 0.9971 - val_loss: 0.1505 - val_REGION_loss: 0.0603 - val_STATE_loss: 0.0289 - val_COUNT_LINE_loss: 0.0309 - val_REGION_accuracy: 0.9862 - val_STATE_accuracy: 0.9907 - val_COUNT_LINE_accuracy: 0.9910\n",
      "Epoch 13/100\n",
      "517/517 [==============================] - 148s 287ms/step - loss: 0.0844 - REGION_loss: 0.0320 - STATE_loss: 0.0124 - COUNT_LINE_loss: 0.0098 - REGION_accuracy: 0.9927 - STATE_accuracy: 0.9964 - COUNT_LINE_accuracy: 0.9978 - val_loss: 0.1423 - val_REGION_loss: 0.0576 - val_STATE_loss: 0.0309 - val_COUNT_LINE_loss: 0.0240 - val_REGION_accuracy: 0.9866 - val_STATE_accuracy: 0.9910 - val_COUNT_LINE_accuracy: 0.9925\n",
      "Epoch 14/100\n",
      "517/517 [==============================] - 149s 288ms/step - loss: 0.0783 - REGION_loss: 0.0278 - STATE_loss: 0.0116 - COUNT_LINE_loss: 0.0092 - REGION_accuracy: 0.9933 - STATE_accuracy: 0.9972 - COUNT_LINE_accuracy: 0.9976 - val_loss: 0.1305 - val_REGION_loss: 0.0529 - val_STATE_loss: 0.0216 - val_COUNT_LINE_loss: 0.0269 - val_REGION_accuracy: 0.9874 - val_STATE_accuracy: 0.9925 - val_COUNT_LINE_accuracy: 0.9908\n",
      "Epoch 15/100\n",
      "517/517 [==============================] - 148s 287ms/step - loss: 0.0681 - REGION_loss: 0.0227 - STATE_loss: 0.0090 - COUNT_LINE_loss: 0.0074 - REGION_accuracy: 0.9945 - STATE_accuracy: 0.9973 - COUNT_LINE_accuracy: 0.9983 - val_loss: 0.1184 - val_REGION_loss: 0.0472 - val_STATE_loss: 0.0258 - val_COUNT_LINE_loss: 0.0168 - val_REGION_accuracy: 0.9873 - val_STATE_accuracy: 0.9920 - val_COUNT_LINE_accuracy: 0.9944\n",
      "Epoch 16/100\n",
      "517/517 [==============================] - 149s 288ms/step - loss: 0.0660 - REGION_loss: 0.0208 - STATE_loss: 0.0089 - COUNT_LINE_loss: 0.0079 - REGION_accuracy: 0.9954 - STATE_accuracy: 0.9972 - COUNT_LINE_accuracy: 0.9979 - val_loss: 0.1136 - val_REGION_loss: 0.0473 - val_STATE_loss: 0.0221 - val_COUNT_LINE_loss: 0.0161 - val_REGION_accuracy: 0.9874 - val_STATE_accuracy: 0.9936 - val_COUNT_LINE_accuracy: 0.9946\n",
      "Epoch 17/100\n",
      "517/517 [==============================] - 149s 288ms/step - loss: 0.0613 - REGION_loss: 0.0181 - STATE_loss: 0.0089 - COUNT_LINE_loss: 0.0064 - REGION_accuracy: 0.9959 - STATE_accuracy: 0.9973 - COUNT_LINE_accuracy: 0.9984 - val_loss: 0.1260 - val_REGION_loss: 0.0523 - val_STATE_loss: 0.0255 - val_COUNT_LINE_loss: 0.0207 - val_REGION_accuracy: 0.9864 - val_STATE_accuracy: 0.9931 - val_COUNT_LINE_accuracy: 0.9935\n",
      "Epoch 18/100\n",
      "517/517 [==============================] - 149s 289ms/step - loss: 0.0550 - REGION_loss: 0.0158 - STATE_loss: 0.0069 - COUNT_LINE_loss: 0.0048 - REGION_accuracy: 0.9968 - STATE_accuracy: 0.9979 - COUNT_LINE_accuracy: 0.9990 - val_loss: 0.1122 - val_REGION_loss: 0.0452 - val_STATE_loss: 0.0227 - val_COUNT_LINE_loss: 0.0172 - val_REGION_accuracy: 0.9883 - val_STATE_accuracy: 0.9925 - val_COUNT_LINE_accuracy: 0.9946\n",
      "Epoch 19/100\n",
      "517/517 [==============================] - 149s 288ms/step - loss: 0.0560 - REGION_loss: 0.0159 - STATE_loss: 0.0076 - COUNT_LINE_loss: 0.0056 - REGION_accuracy: 0.9967 - STATE_accuracy: 0.9978 - COUNT_LINE_accuracy: 0.9984 - val_loss: 0.1223 - val_REGION_loss: 0.0540 - val_STATE_loss: 0.0229 - val_COUNT_LINE_loss: 0.0189 - val_REGION_accuracy: 0.9868 - val_STATE_accuracy: 0.9936 - val_COUNT_LINE_accuracy: 0.9944\n",
      "Epoch 20/100\n"
     ]
    },
    {
     "name": "stdout",
     "output_type": "stream",
     "text": [
      "517/517 [==============================] - 149s 289ms/step - loss: 0.0499 - REGION_loss: 0.0138 - STATE_loss: 0.0056 - COUNT_LINE_loss: 0.0041 - REGION_accuracy: 0.9975 - STATE_accuracy: 0.9985 - COUNT_LINE_accuracy: 0.9992 - val_loss: 0.1098 - val_REGION_loss: 0.0417 - val_STATE_loss: 0.0236 - val_COUNT_LINE_loss: 0.0186 - val_REGION_accuracy: 0.9896 - val_STATE_accuracy: 0.9930 - val_COUNT_LINE_accuracy: 0.9939\n",
      "Epoch 21/100\n",
      "517/517 [==============================] - 149s 288ms/step - loss: 0.0514 - REGION_loss: 0.0152 - STATE_loss: 0.0064 - COUNT_LINE_loss: 0.0040 - REGION_accuracy: 0.9967 - STATE_accuracy: 0.9981 - COUNT_LINE_accuracy: 0.9990 - val_loss: 0.0977 - val_REGION_loss: 0.0423 - val_STATE_loss: 0.0167 - val_COUNT_LINE_loss: 0.0133 - val_REGION_accuracy: 0.9889 - val_STATE_accuracy: 0.9953 - val_COUNT_LINE_accuracy: 0.9955\n",
      "Epoch 22/100\n",
      "517/517 [==============================] - 149s 288ms/step - loss: 0.0481 - REGION_loss: 0.0133 - STATE_loss: 0.0054 - COUNT_LINE_loss: 0.0041 - REGION_accuracy: 0.9974 - STATE_accuracy: 0.9984 - COUNT_LINE_accuracy: 0.9991 - val_loss: 0.1062 - val_REGION_loss: 0.0490 - val_STATE_loss: 0.0219 - val_COUNT_LINE_loss: 0.0104 - val_REGION_accuracy: 0.9893 - val_STATE_accuracy: 0.9938 - val_COUNT_LINE_accuracy: 0.9962\n",
      "Epoch 23/100\n",
      "517/517 [==============================] - 149s 288ms/step - loss: 0.0458 - REGION_loss: 0.0129 - STATE_loss: 0.0053 - COUNT_LINE_loss: 0.0029 - REGION_accuracy: 0.9973 - STATE_accuracy: 0.9987 - COUNT_LINE_accuracy: 0.9996 - val_loss: 0.1017 - val_REGION_loss: 0.0403 - val_STATE_loss: 0.0211 - val_COUNT_LINE_loss: 0.0160 - val_REGION_accuracy: 0.9906 - val_STATE_accuracy: 0.9944 - val_COUNT_LINE_accuracy: 0.9948\n",
      "Epoch 24/100\n",
      "517/517 [==============================] - 149s 287ms/step - loss: 0.0457 - REGION_loss: 0.0128 - STATE_loss: 0.0042 - COUNT_LINE_loss: 0.0045 - REGION_accuracy: 0.9972 - STATE_accuracy: 0.9991 - COUNT_LINE_accuracy: 0.9986 - val_loss: 0.0975 - val_REGION_loss: 0.0394 - val_STATE_loss: 0.0210 - val_COUNT_LINE_loss: 0.0132 - val_REGION_accuracy: 0.9902 - val_STATE_accuracy: 0.9941 - val_COUNT_LINE_accuracy: 0.9962\n",
      "Epoch 25/100\n",
      "517/517 [==============================] - 149s 287ms/step - loss: 0.0410 - REGION_loss: 0.0090 - STATE_loss: 0.0050 - COUNT_LINE_loss: 0.0032 - REGION_accuracy: 0.9985 - STATE_accuracy: 0.9989 - COUNT_LINE_accuracy: 0.9995 - val_loss: 0.0962 - val_REGION_loss: 0.0418 - val_STATE_loss: 0.0188 - val_COUNT_LINE_loss: 0.0122 - val_REGION_accuracy: 0.9904 - val_STATE_accuracy: 0.9946 - val_COUNT_LINE_accuracy: 0.9956\n",
      "Epoch 26/100\n",
      "517/517 [==============================] - 149s 289ms/step - loss: 0.0407 - REGION_loss: 0.0101 - STATE_loss: 0.0043 - COUNT_LINE_loss: 0.0030 - REGION_accuracy: 0.9982 - STATE_accuracy: 0.9992 - COUNT_LINE_accuracy: 0.9993 - val_loss: 0.0977 - val_REGION_loss: 0.0423 - val_STATE_loss: 0.0179 - val_COUNT_LINE_loss: 0.0147 - val_REGION_accuracy: 0.9910 - val_STATE_accuracy: 0.9948 - val_COUNT_LINE_accuracy: 0.9952\n",
      "Epoch 27/100\n",
      "517/517 [==============================] - 148s 287ms/step - loss: 0.0378 - REGION_loss: 0.0089 - STATE_loss: 0.0035 - COUNT_LINE_loss: 0.0026 - REGION_accuracy: 0.9986 - STATE_accuracy: 0.9991 - COUNT_LINE_accuracy: 0.9996 - val_loss: 0.0986 - val_REGION_loss: 0.0452 - val_STATE_loss: 0.0195 - val_COUNT_LINE_loss: 0.0114 - val_REGION_accuracy: 0.9887 - val_STATE_accuracy: 0.9945 - val_COUNT_LINE_accuracy: 0.9956\n",
      "Epoch 28/100\n",
      "517/517 [==============================] - 149s 288ms/step - loss: 0.0428 - REGION_loss: 0.0105 - STATE_loss: 0.0063 - COUNT_LINE_loss: 0.0037 - REGION_accuracy: 0.9982 - STATE_accuracy: 0.9987 - COUNT_LINE_accuracy: 0.9992 - val_loss: 0.0962 - val_REGION_loss: 0.0401 - val_STATE_loss: 0.0198 - val_COUNT_LINE_loss: 0.0143 - val_REGION_accuracy: 0.9904 - val_STATE_accuracy: 0.9946 - val_COUNT_LINE_accuracy: 0.9959\n",
      "Epoch 29/100\n",
      "517/517 [==============================] - 149s 287ms/step - loss: 0.0400 - REGION_loss: 0.0097 - STATE_loss: 0.0048 - COUNT_LINE_loss: 0.0036 - REGION_accuracy: 0.9984 - STATE_accuracy: 0.9989 - COUNT_LINE_accuracy: 0.9993 - val_loss: 0.1017 - val_REGION_loss: 0.0423 - val_STATE_loss: 0.0225 - val_COUNT_LINE_loss: 0.0154 - val_REGION_accuracy: 0.9901 - val_STATE_accuracy: 0.9932 - val_COUNT_LINE_accuracy: 0.9957\n",
      "Epoch 30/100\n",
      "517/517 [==============================] - 148s 286ms/step - loss: 0.0345 - REGION_loss: 0.0072 - STATE_loss: 0.0039 - COUNT_LINE_loss: 0.0020 - REGION_accuracy: 0.9990 - STATE_accuracy: 0.9991 - COUNT_LINE_accuracy: 0.9997 - val_loss: 0.1202 - val_REGION_loss: 0.0506 - val_STATE_loss: 0.0265 - val_COUNT_LINE_loss: 0.0218 - val_REGION_accuracy: 0.9886 - val_STATE_accuracy: 0.9935 - val_COUNT_LINE_accuracy: 0.9942\n",
      "Epoch 31/100\n",
      "517/517 [==============================] - 148s 287ms/step - loss: 0.0351 - REGION_loss: 0.0081 - STATE_loss: 0.0032 - COUNT_LINE_loss: 0.0025 - REGION_accuracy: 0.9983 - STATE_accuracy: 0.9995 - COUNT_LINE_accuracy: 0.9996 - val_loss: 0.0894 - val_REGION_loss: 0.0354 - val_STATE_loss: 0.0213 - val_COUNT_LINE_loss: 0.0118 - val_REGION_accuracy: 0.9916 - val_STATE_accuracy: 0.9941 - val_COUNT_LINE_accuracy: 0.9967\n",
      "Epoch 32/100\n",
      "517/517 [==============================] - 148s 287ms/step - loss: 0.0304 - REGION_loss: 0.0059 - STATE_loss: 0.0022 - COUNT_LINE_loss: 0.0016 - REGION_accuracy: 0.9990 - STATE_accuracy: 0.9996 - COUNT_LINE_accuracy: 0.9998 - val_loss: 0.0939 - val_REGION_loss: 0.0426 - val_STATE_loss: 0.0187 - val_COUNT_LINE_loss: 0.0122 - val_REGION_accuracy: 0.9902 - val_STATE_accuracy: 0.9955 - val_COUNT_LINE_accuracy: 0.9957\n",
      "Epoch 33/100\n",
      "517/517 [==============================] - 149s 288ms/step - loss: 0.0326 - REGION_loss: 0.0075 - STATE_loss: 0.0030 - COUNT_LINE_loss: 0.0020 - REGION_accuracy: 0.9984 - STATE_accuracy: 0.9995 - COUNT_LINE_accuracy: 0.9997 - val_loss: 0.0916 - val_REGION_loss: 0.0404 - val_STATE_loss: 0.0186 - val_COUNT_LINE_loss: 0.0127 - val_REGION_accuracy: 0.9907 - val_STATE_accuracy: 0.9950 - val_COUNT_LINE_accuracy: 0.9955\n",
      "Epoch 34/100\n",
      "517/517 [==============================] - 149s 287ms/step - loss: 0.0307 - REGION_loss: 0.0064 - STATE_loss: 0.0026 - COUNT_LINE_loss: 0.0018 - REGION_accuracy: 0.9988 - STATE_accuracy: 0.9995 - COUNT_LINE_accuracy: 0.9998 - val_loss: 0.0956 - val_REGION_loss: 0.0386 - val_STATE_loss: 0.0214 - val_COUNT_LINE_loss: 0.0160 - val_REGION_accuracy: 0.9920 - val_STATE_accuracy: 0.9941 - val_COUNT_LINE_accuracy: 0.9951\n",
      "Epoch 35/100\n",
      "517/517 [==============================] - 149s 288ms/step - loss: 0.0353 - REGION_loss: 0.0097 - STATE_loss: 0.0036 - COUNT_LINE_loss: 0.0025 - REGION_accuracy: 0.9980 - STATE_accuracy: 0.9990 - COUNT_LINE_accuracy: 0.9993 - val_loss: 0.0926 - val_REGION_loss: 0.0394 - val_STATE_loss: 0.0218 - val_COUNT_LINE_loss: 0.0122 - val_REGION_accuracy: 0.9921 - val_STATE_accuracy: 0.9944 - val_COUNT_LINE_accuracy: 0.9962\n",
      "Epoch 36/100\n",
      "517/517 [==============================] - 148s 287ms/step - loss: 0.0310 - REGION_loss: 0.0070 - STATE_loss: 0.0030 - COUNT_LINE_loss: 0.0020 - REGION_accuracy: 0.9985 - STATE_accuracy: 0.9994 - COUNT_LINE_accuracy: 0.9997 - val_loss: 0.0975 - val_REGION_loss: 0.0437 - val_STATE_loss: 0.0216 - val_COUNT_LINE_loss: 0.0133 - val_REGION_accuracy: 0.9900 - val_STATE_accuracy: 0.9939 - val_COUNT_LINE_accuracy: 0.9951\n",
      "Epoch 37/100\n",
      "517/517 [==============================] - 149s 288ms/step - loss: 0.0286 - REGION_loss: 0.0058 - STATE_loss: 0.0027 - COUNT_LINE_loss: 0.0014 - REGION_accuracy: 0.9989 - STATE_accuracy: 0.9996 - COUNT_LINE_accuracy: 0.9999 - val_loss: 0.1030 - val_REGION_loss: 0.0419 - val_STATE_loss: 0.0260 - val_COUNT_LINE_loss: 0.0166 - val_REGION_accuracy: 0.9913 - val_STATE_accuracy: 0.9942 - val_COUNT_LINE_accuracy: 0.9949\n",
      "Epoch 38/100\n",
      "517/517 [==============================] - 149s 288ms/step - loss: 0.0325 - REGION_loss: 0.0079 - STATE_loss: 0.0037 - COUNT_LINE_loss: 0.0025 - REGION_accuracy: 0.9985 - STATE_accuracy: 0.9992 - COUNT_LINE_accuracy: 0.9994 - val_loss: 0.0875 - val_REGION_loss: 0.0412 - val_STATE_loss: 0.0163 - val_COUNT_LINE_loss: 0.0119 - val_REGION_accuracy: 0.9909 - val_STATE_accuracy: 0.9946 - val_COUNT_LINE_accuracy: 0.9964\n",
      "Epoch 39/100\n"
     ]
    },
    {
     "name": "stdout",
     "output_type": "stream",
     "text": [
      "517/517 [==============================] - 149s 289ms/step - loss: 0.0326 - REGION_loss: 0.0075 - STATE_loss: 0.0034 - COUNT_LINE_loss: 0.0035 - REGION_accuracy: 0.9987 - STATE_accuracy: 0.9995 - COUNT_LINE_accuracy: 0.9995 - val_loss: 0.1007 - val_REGION_loss: 0.0417 - val_STATE_loss: 0.0255 - val_COUNT_LINE_loss: 0.0156 - val_REGION_accuracy: 0.9913 - val_STATE_accuracy: 0.9931 - val_COUNT_LINE_accuracy: 0.9952\n",
      "Epoch 40/100\n",
      "517/517 [==============================] - 148s 287ms/step - loss: 0.0291 - REGION_loss: 0.0068 - STATE_loss: 0.0025 - COUNT_LINE_loss: 0.0021 - REGION_accuracy: 0.9990 - STATE_accuracy: 0.9996 - COUNT_LINE_accuracy: 0.9996 - val_loss: 0.1052 - val_REGION_loss: 0.0415 - val_STATE_loss: 0.0304 - val_COUNT_LINE_loss: 0.0156 - val_REGION_accuracy: 0.9917 - val_STATE_accuracy: 0.9925 - val_COUNT_LINE_accuracy: 0.9953\n",
      "Epoch 41/100\n",
      "517/517 [==============================] - 148s 287ms/step - loss: 0.0262 - REGION_loss: 0.0047 - STATE_loss: 0.0022 - COUNT_LINE_loss: 0.0017 - REGION_accuracy: 0.9994 - STATE_accuracy: 0.9996 - COUNT_LINE_accuracy: 0.9999 - val_loss: 0.0942 - val_REGION_loss: 0.0411 - val_STATE_loss: 0.0213 - val_COUNT_LINE_loss: 0.0144 - val_REGION_accuracy: 0.9909 - val_STATE_accuracy: 0.9952 - val_COUNT_LINE_accuracy: 0.9963\n",
      "Epoch 42/100\n",
      "517/517 [==============================] - 155s 300ms/step - loss: 0.0276 - REGION_loss: 0.0058 - STATE_loss: 0.0029 - COUNT_LINE_loss: 0.0016 - REGION_accuracy: 0.9985 - STATE_accuracy: 0.9994 - COUNT_LINE_accuracy: 0.9998 - val_loss: 0.0997 - val_REGION_loss: 0.0418 - val_STATE_loss: 0.0229 - val_COUNT_LINE_loss: 0.0179 - val_REGION_accuracy: 0.9897 - val_STATE_accuracy: 0.9942 - val_COUNT_LINE_accuracy: 0.9943\n",
      "Epoch 43/100\n",
      "517/517 [==============================] - 159s 308ms/step - loss: 0.0259 - REGION_loss: 0.0052 - STATE_loss: 0.0023 - COUNT_LINE_loss: 0.0014 - REGION_accuracy: 0.9993 - STATE_accuracy: 0.9995 - COUNT_LINE_accuracy: 0.9997 - val_loss: 0.1017 - val_REGION_loss: 0.0453 - val_STATE_loss: 0.0259 - val_COUNT_LINE_loss: 0.0137 - val_REGION_accuracy: 0.9903 - val_STATE_accuracy: 0.9932 - val_COUNT_LINE_accuracy: 0.9963\n",
      "Epoch 44/100\n",
      "517/517 [==============================] - 160s 309ms/step - loss: 0.0271 - REGION_loss: 0.0059 - STATE_loss: 0.0023 - COUNT_LINE_loss: 0.0021 - REGION_accuracy: 0.9991 - STATE_accuracy: 0.9995 - COUNT_LINE_accuracy: 0.9995 - val_loss: 0.0844 - val_REGION_loss: 0.0387 - val_STATE_loss: 0.0176 - val_COUNT_LINE_loss: 0.0116 - val_REGION_accuracy: 0.9927 - val_STATE_accuracy: 0.9958 - val_COUNT_LINE_accuracy: 0.9969\n",
      "Epoch 45/100\n",
      "517/517 [==============================] - 157s 303ms/step - loss: 0.0253 - REGION_loss: 0.0051 - STATE_loss: 0.0022 - COUNT_LINE_loss: 0.0015 - REGION_accuracy: 0.9991 - STATE_accuracy: 0.9995 - COUNT_LINE_accuracy: 0.9998 - val_loss: 0.0903 - val_REGION_loss: 0.0387 - val_STATE_loss: 0.0208 - val_COUNT_LINE_loss: 0.0145 - val_REGION_accuracy: 0.9910 - val_STATE_accuracy: 0.9951 - val_COUNT_LINE_accuracy: 0.9962\n",
      "Epoch 46/100\n",
      "517/517 [==============================] - 155s 300ms/step - loss: 0.0260 - REGION_loss: 0.0061 - STATE_loss: 0.0022 - COUNT_LINE_loss: 0.0016 - REGION_accuracy: 0.9988 - STATE_accuracy: 0.9996 - COUNT_LINE_accuracy: 0.9998 - val_loss: 0.0839 - val_REGION_loss: 0.0348 - val_STATE_loss: 0.0216 - val_COUNT_LINE_loss: 0.0114 - val_REGION_accuracy: 0.9915 - val_STATE_accuracy: 0.9938 - val_COUNT_LINE_accuracy: 0.9953\n",
      "Epoch 47/100\n",
      "517/517 [==============================] - 161s 311ms/step - loss: 0.0249 - REGION_loss: 0.0040 - STATE_loss: 0.0024 - COUNT_LINE_loss: 0.0025 - REGION_accuracy: 0.9996 - STATE_accuracy: 0.9996 - COUNT_LINE_accuracy: 0.9996 - val_loss: 0.0999 - val_REGION_loss: 0.0456 - val_STATE_loss: 0.0233 - val_COUNT_LINE_loss: 0.0151 - val_REGION_accuracy: 0.9917 - val_STATE_accuracy: 0.9948 - val_COUNT_LINE_accuracy: 0.9957\n",
      "Epoch 48/100\n",
      "517/517 [==============================] - 160s 310ms/step - loss: 0.0230 - REGION_loss: 0.0042 - STATE_loss: 0.0019 - COUNT_LINE_loss: 0.0012 - REGION_accuracy: 0.9994 - STATE_accuracy: 0.9997 - COUNT_LINE_accuracy: 0.9999 - val_loss: 0.0847 - val_REGION_loss: 0.0377 - val_STATE_loss: 0.0205 - val_COUNT_LINE_loss: 0.0109 - val_REGION_accuracy: 0.9915 - val_STATE_accuracy: 0.9950 - val_COUNT_LINE_accuracy: 0.9963\n",
      "Epoch 49/100\n",
      "517/517 [==============================] - 166s 321ms/step - loss: 0.0225 - REGION_loss: 0.0046 - STATE_loss: 0.0014 - COUNT_LINE_loss: 9.4517e-04 - REGION_accuracy: 0.9991 - STATE_accuracy: 0.9998 - COUNT_LINE_accuracy: 1.0000 - val_loss: 0.0914 - val_REGION_loss: 0.0393 - val_STATE_loss: 0.0223 - val_COUNT_LINE_loss: 0.0144 - val_REGION_accuracy: 0.9916 - val_STATE_accuracy: 0.9943 - val_COUNT_LINE_accuracy: 0.9955\n",
      "Epoch 50/100\n",
      "517/517 [==============================] - 162s 313ms/step - loss: 0.0236 - REGION_loss: 0.0045 - STATE_loss: 0.0022 - COUNT_LINE_loss: 0.0016 - REGION_accuracy: 0.9993 - STATE_accuracy: 0.9994 - COUNT_LINE_accuracy: 0.9997 - val_loss: 0.0909 - val_REGION_loss: 0.0427 - val_STATE_loss: 0.0193 - val_COUNT_LINE_loss: 0.0138 - val_REGION_accuracy: 0.9911 - val_STATE_accuracy: 0.9948 - val_COUNT_LINE_accuracy: 0.9959\n",
      "Epoch 51/100\n",
      "517/517 [==============================] - 159s 308ms/step - loss: 0.0222 - REGION_loss: 0.0036 - STATE_loss: 0.0021 - COUNT_LINE_loss: 0.0015 - REGION_accuracy: 0.9996 - STATE_accuracy: 0.9995 - COUNT_LINE_accuracy: 0.9997 - val_loss: 0.0841 - val_REGION_loss: 0.0344 - val_STATE_loss: 0.0204 - val_COUNT_LINE_loss: 0.0144 - val_REGION_accuracy: 0.9920 - val_STATE_accuracy: 0.9946 - val_COUNT_LINE_accuracy: 0.9960\n",
      "Epoch 52/100\n",
      "517/517 [==============================] - 161s 311ms/step - loss: 0.0218 - REGION_loss: 0.0040 - STATE_loss: 0.0018 - COUNT_LINE_loss: 0.0011 - REGION_accuracy: 0.9995 - STATE_accuracy: 0.9998 - COUNT_LINE_accuracy: 0.9999 - val_loss: 0.0868 - val_REGION_loss: 0.0362 - val_STATE_loss: 0.0216 - val_COUNT_LINE_loss: 0.0144 - val_REGION_accuracy: 0.9920 - val_STATE_accuracy: 0.9945 - val_COUNT_LINE_accuracy: 0.9957\n",
      "Epoch 53/100\n",
      "517/517 [==============================] - 159s 307ms/step - loss: 0.0220 - REGION_loss: 0.0047 - STATE_loss: 0.0017 - COUNT_LINE_loss: 0.0010 - REGION_accuracy: 0.9992 - STATE_accuracy: 0.9996 - COUNT_LINE_accuracy: 0.9999 - val_loss: 0.0977 - val_REGION_loss: 0.0471 - val_STATE_loss: 0.0232 - val_COUNT_LINE_loss: 0.0130 - val_REGION_accuracy: 0.9910 - val_STATE_accuracy: 0.9942 - val_COUNT_LINE_accuracy: 0.9957\n",
      "Epoch 54/100\n",
      "517/517 [==============================] - 159s 308ms/step - loss: 0.0200 - REGION_loss: 0.0030 - STATE_loss: 0.0014 - COUNT_LINE_loss: 0.0011 - REGION_accuracy: 0.9997 - STATE_accuracy: 0.9999 - COUNT_LINE_accuracy: 0.9998 - val_loss: 0.0895 - val_REGION_loss: 0.0372 - val_STATE_loss: 0.0232 - val_COUNT_LINE_loss: 0.0149 - val_REGION_accuracy: 0.9910 - val_STATE_accuracy: 0.9946 - val_COUNT_LINE_accuracy: 0.9958\n",
      "Epoch 55/100\n",
      "517/517 [==============================] - 158s 305ms/step - loss: 0.0215 - REGION_loss: 0.0047 - STATE_loss: 0.0014 - COUNT_LINE_loss: 0.0011 - REGION_accuracy: 0.9994 - STATE_accuracy: 0.9997 - COUNT_LINE_accuracy: 0.9999 - val_loss: 0.0933 - val_REGION_loss: 0.0390 - val_STATE_loss: 0.0233 - val_COUNT_LINE_loss: 0.0170 - val_REGION_accuracy: 0.9911 - val_STATE_accuracy: 0.9946 - val_COUNT_LINE_accuracy: 0.9955\n",
      "Epoch 56/100\n",
      "517/517 [==============================] - 150s 290ms/step - loss: 0.0213 - REGION_loss: 0.0042 - STATE_loss: 0.0016 - COUNT_LINE_loss: 0.0014 - REGION_accuracy: 0.9994 - STATE_accuracy: 0.9997 - COUNT_LINE_accuracy: 0.9997 - val_loss: 0.0842 - val_REGION_loss: 0.0371 - val_STATE_loss: 0.0193 - val_COUNT_LINE_loss: 0.0140 - val_REGION_accuracy: 0.9918 - val_STATE_accuracy: 0.9953 - val_COUNT_LINE_accuracy: 0.9962\n",
      "Epoch 57/100\n",
      "517/517 [==============================] - 150s 290ms/step - loss: 0.0204 - REGION_loss: 0.0036 - STATE_loss: 0.0017 - COUNT_LINE_loss: 0.0012 - REGION_accuracy: 0.9995 - STATE_accuracy: 0.9996 - COUNT_LINE_accuracy: 0.9998 - val_loss: 0.0874 - val_REGION_loss: 0.0389 - val_STATE_loss: 0.0221 - val_COUNT_LINE_loss: 0.0125 - val_REGION_accuracy: 0.9925 - val_STATE_accuracy: 0.9942 - val_COUNT_LINE_accuracy: 0.9952\n",
      "Epoch 58/100\n"
     ]
    },
    {
     "name": "stdout",
     "output_type": "stream",
     "text": [
      "517/517 [==============================] - 150s 289ms/step - loss: 0.0196 - REGION_loss: 0.0037 - STATE_loss: 0.0012 - COUNT_LINE_loss: 8.3933e-04 - REGION_accuracy: 0.9993 - STATE_accuracy: 0.9998 - COUNT_LINE_accuracy: 1.0000 - val_loss: 0.0838 - val_REGION_loss: 0.0347 - val_STATE_loss: 0.0212 - val_COUNT_LINE_loss: 0.0140 - val_REGION_accuracy: 0.9929 - val_STATE_accuracy: 0.9944 - val_COUNT_LINE_accuracy: 0.9955\n",
      "Epoch 59/100\n",
      "517/517 [==============================] - 149s 289ms/step - loss: 0.0189 - REGION_loss: 0.0026 - STATE_loss: 0.0013 - COUNT_LINE_loss: 0.0012 - REGION_accuracy: 0.9998 - STATE_accuracy: 0.9998 - COUNT_LINE_accuracy: 0.9999 - val_loss: 0.0836 - val_REGION_loss: 0.0356 - val_STATE_loss: 0.0218 - val_COUNT_LINE_loss: 0.0124 - val_REGION_accuracy: 0.9928 - val_STATE_accuracy: 0.9946 - val_COUNT_LINE_accuracy: 0.9963\n",
      "Epoch 60/100\n",
      "517/517 [==============================] - 149s 289ms/step - loss: 0.0189 - REGION_loss: 0.0028 - STATE_loss: 0.0015 - COUNT_LINE_loss: 8.6177e-04 - REGION_accuracy: 0.9998 - STATE_accuracy: 0.9998 - COUNT_LINE_accuracy: 1.0000 - val_loss: 0.0806 - val_REGION_loss: 0.0353 - val_STATE_loss: 0.0193 - val_COUNT_LINE_loss: 0.0123 - val_REGION_accuracy: 0.9929 - val_STATE_accuracy: 0.9952 - val_COUNT_LINE_accuracy: 0.9962\n",
      "Epoch 61/100\n",
      "517/517 [==============================] - 153s 296ms/step - loss: 0.0200 - REGION_loss: 0.0026 - STATE_loss: 0.0021 - COUNT_LINE_loss: 0.0016 - REGION_accuracy: 0.9997 - STATE_accuracy: 0.9996 - COUNT_LINE_accuracy: 0.9997 - val_loss: 0.0808 - val_REGION_loss: 0.0339 - val_STATE_loss: 0.0210 - val_COUNT_LINE_loss: 0.0122 - val_REGION_accuracy: 0.9931 - val_STATE_accuracy: 0.9950 - val_COUNT_LINE_accuracy: 0.9962\n",
      "Epoch 62/100\n",
      "517/517 [==============================] - 159s 307ms/step - loss: 0.0184 - REGION_loss: 0.0029 - STATE_loss: 9.8026e-04 - COUNT_LINE_loss: 9.0934e-04 - REGION_accuracy: 0.9996 - STATE_accuracy: 0.9999 - COUNT_LINE_accuracy: 0.9999 - val_loss: 0.0769 - val_REGION_loss: 0.0346 - val_STATE_loss: 0.0180 - val_COUNT_LINE_loss: 0.0107 - val_REGION_accuracy: 0.9925 - val_STATE_accuracy: 0.9953 - val_COUNT_LINE_accuracy: 0.9967\n",
      "Epoch 63/100\n",
      "517/517 [==============================] - 156s 301ms/step - loss: 0.0180 - REGION_loss: 0.0023 - STATE_loss: 0.0012 - COUNT_LINE_loss: 9.1879e-04 - REGION_accuracy: 0.9999 - STATE_accuracy: 0.9998 - COUNT_LINE_accuracy: 0.9999 - val_loss: 0.0847 - val_REGION_loss: 0.0368 - val_STATE_loss: 0.0204 - val_COUNT_LINE_loss: 0.0138 - val_REGION_accuracy: 0.9920 - val_STATE_accuracy: 0.9946 - val_COUNT_LINE_accuracy: 0.9957\n",
      "Epoch 64/100\n",
      "517/517 [==============================] - 149s 289ms/step - loss: 0.0183 - REGION_loss: 0.0025 - STATE_loss: 0.0011 - COUNT_LINE_loss: 0.0011 - REGION_accuracy: 0.9997 - STATE_accuracy: 0.9998 - COUNT_LINE_accuracy: 0.9998 - val_loss: 0.0750 - val_REGION_loss: 0.0316 - val_STATE_loss: 0.0194 - val_COUNT_LINE_loss: 0.0104 - val_REGION_accuracy: 0.9938 - val_STATE_accuracy: 0.9952 - val_COUNT_LINE_accuracy: 0.9965\n",
      "Epoch 65/100\n",
      "517/517 [==============================] - 150s 289ms/step - loss: 0.0180 - REGION_loss: 0.0026 - STATE_loss: 0.0012 - COUNT_LINE_loss: 6.6577e-04 - REGION_accuracy: 0.9997 - STATE_accuracy: 0.9998 - COUNT_LINE_accuracy: 1.0000 - val_loss: 0.0865 - val_REGION_loss: 0.0395 - val_STATE_loss: 0.0213 - val_COUNT_LINE_loss: 0.0122 - val_REGION_accuracy: 0.9920 - val_STATE_accuracy: 0.9950 - val_COUNT_LINE_accuracy: 0.9965\n",
      "Epoch 66/100\n",
      "517/517 [==============================] - 149s 289ms/step - loss: 0.0202 - REGION_loss: 0.0036 - STATE_loss: 0.0018 - COUNT_LINE_loss: 0.0013 - REGION_accuracy: 0.9992 - STATE_accuracy: 0.9995 - COUNT_LINE_accuracy: 0.9997 - val_loss: 0.0802 - val_REGION_loss: 0.0343 - val_STATE_loss: 0.0208 - val_COUNT_LINE_loss: 0.0116 - val_REGION_accuracy: 0.9927 - val_STATE_accuracy: 0.9948 - val_COUNT_LINE_accuracy: 0.9964\n",
      "Epoch 67/100\n",
      "517/517 [==============================] - 149s 289ms/step - loss: 0.0179 - REGION_loss: 0.0027 - STATE_loss: 0.0011 - COUNT_LINE_loss: 6.7501e-04 - REGION_accuracy: 0.9996 - STATE_accuracy: 0.9998 - COUNT_LINE_accuracy: 1.0000 - val_loss: 0.0778 - val_REGION_loss: 0.0323 - val_STATE_loss: 0.0199 - val_COUNT_LINE_loss: 0.0122 - val_REGION_accuracy: 0.9924 - val_STATE_accuracy: 0.9946 - val_COUNT_LINE_accuracy: 0.9962\n",
      "Epoch 68/100\n",
      "517/517 [==============================] - 149s 288ms/step - loss: 0.0178 - REGION_loss: 0.0026 - STATE_loss: 0.0011 - COUNT_LINE_loss: 7.4032e-04 - REGION_accuracy: 0.9998 - STATE_accuracy: 0.9998 - COUNT_LINE_accuracy: 1.0000 - val_loss: 0.0853 - val_REGION_loss: 0.0394 - val_STATE_loss: 0.0212 - val_COUNT_LINE_loss: 0.0113 - val_REGION_accuracy: 0.9925 - val_STATE_accuracy: 0.9953 - val_COUNT_LINE_accuracy: 0.9967\n",
      "Epoch 69/100\n",
      "517/517 [==============================] - 149s 288ms/step - loss: 0.0177 - REGION_loss: 0.0026 - STATE_loss: 9.9007e-04 - COUNT_LINE_loss: 8.0992e-04 - REGION_accuracy: 0.9997 - STATE_accuracy: 0.9999 - COUNT_LINE_accuracy: 1.0000 - val_loss: 0.0822 - val_REGION_loss: 0.0335 - val_STATE_loss: 0.0223 - val_COUNT_LINE_loss: 0.0130 - val_REGION_accuracy: 0.9928 - val_STATE_accuracy: 0.9942 - val_COUNT_LINE_accuracy: 0.9958\n",
      "Epoch 70/100\n",
      "517/517 [==============================] - 150s 290ms/step - loss: 0.0172 - REGION_loss: 0.0023 - STATE_loss: 9.8159e-04 - COUNT_LINE_loss: 6.6551e-04 - REGION_accuracy: 0.9999 - STATE_accuracy: 0.9999 - COUNT_LINE_accuracy: 1.0000 - val_loss: 0.0805 - val_REGION_loss: 0.0363 - val_STATE_loss: 0.0198 - val_COUNT_LINE_loss: 0.0111 - val_REGION_accuracy: 0.9921 - val_STATE_accuracy: 0.9951 - val_COUNT_LINE_accuracy: 0.9966\n",
      "Epoch 71/100\n",
      "517/517 [==============================] - 148s 287ms/step - loss: 0.0226 - REGION_loss: 0.0042 - STATE_loss: 0.0026 - COUNT_LINE_loss: 0.0025 - REGION_accuracy: 0.9996 - STATE_accuracy: 0.9997 - COUNT_LINE_accuracy: 0.9997 - val_loss: 0.0786 - val_REGION_loss: 0.0335 - val_STATE_loss: 0.0198 - val_COUNT_LINE_loss: 0.0121 - val_REGION_accuracy: 0.9929 - val_STATE_accuracy: 0.9952 - val_COUNT_LINE_accuracy: 0.9962\n",
      "Epoch 72/100\n",
      "517/517 [==============================] - 149s 289ms/step - loss: 0.0180 - REGION_loss: 0.0029 - STATE_loss: 0.0011 - COUNT_LINE_loss: 7.2898e-04 - REGION_accuracy: 0.9995 - STATE_accuracy: 0.9999 - COUNT_LINE_accuracy: 1.0000 - val_loss: 0.0823 - val_REGION_loss: 0.0353 - val_STATE_loss: 0.0216 - val_COUNT_LINE_loss: 0.0123 - val_REGION_accuracy: 0.9927 - val_STATE_accuracy: 0.9945 - val_COUNT_LINE_accuracy: 0.9964\n",
      "Epoch 73/100\n",
      "517/517 [==============================] - 149s 289ms/step - loss: 0.0177 - REGION_loss: 0.0025 - STATE_loss: 0.0010 - COUNT_LINE_loss: 9.9974e-04 - REGION_accuracy: 0.9998 - STATE_accuracy: 0.9999 - COUNT_LINE_accuracy: 0.9999 - val_loss: 0.0821 - val_REGION_loss: 0.0358 - val_STATE_loss: 0.0208 - val_COUNT_LINE_loss: 0.0124 - val_REGION_accuracy: 0.9922 - val_STATE_accuracy: 0.9951 - val_COUNT_LINE_accuracy: 0.9964\n",
      "Epoch 74/100\n",
      "517/517 [==============================] - 151s 291ms/step - loss: 0.0182 - REGION_loss: 0.0030 - STATE_loss: 0.0010 - COUNT_LINE_loss: 0.0010 - REGION_accuracy: 0.9996 - STATE_accuracy: 0.9999 - COUNT_LINE_accuracy: 0.9999 - val_loss: 0.0768 - val_REGION_loss: 0.0341 - val_STATE_loss: 0.0190 - val_COUNT_LINE_loss: 0.0106 - val_REGION_accuracy: 0.9929 - val_STATE_accuracy: 0.9951 - val_COUNT_LINE_accuracy: 0.9965\n",
      "Epoch 75/100\n",
      "517/517 [==============================] - 150s 291ms/step - loss: 0.0187 - REGION_loss: 0.0035 - STATE_loss: 0.0013 - COUNT_LINE_loss: 8.6383e-04 - REGION_accuracy: 0.9995 - STATE_accuracy: 0.9996 - COUNT_LINE_accuracy: 1.0000 - val_loss: 0.0827 - val_REGION_loss: 0.0359 - val_STATE_loss: 0.0210 - val_COUNT_LINE_loss: 0.0128 - val_REGION_accuracy: 0.9924 - val_STATE_accuracy: 0.9948 - val_COUNT_LINE_accuracy: 0.9964\n",
      "Epoch 76/100\n",
      "517/517 [==============================] - 151s 292ms/step - loss: 0.0179 - REGION_loss: 0.0030 - STATE_loss: 0.0011 - COUNT_LINE_loss: 7.1949e-04 - REGION_accuracy: 0.9996 - STATE_accuracy: 0.9998 - COUNT_LINE_accuracy: 1.0000 - val_loss: 0.0806 - val_REGION_loss: 0.0359 - val_STATE_loss: 0.0204 - val_COUNT_LINE_loss: 0.0113 - val_REGION_accuracy: 0.9928 - val_STATE_accuracy: 0.9950 - val_COUNT_LINE_accuracy: 0.9967\n"
     ]
    },
    {
     "name": "stdout",
     "output_type": "stream",
     "text": [
      "Epoch 77/100\n",
      "517/517 [==============================] - 151s 293ms/step - loss: 0.0177 - REGION_loss: 0.0024 - STATE_loss: 0.0012 - COUNT_LINE_loss: 0.0011 - REGION_accuracy: 0.9999 - STATE_accuracy: 0.9997 - COUNT_LINE_accuracy: 0.9999 - val_loss: 0.0813 - val_REGION_loss: 0.0354 - val_STATE_loss: 0.0206 - val_COUNT_LINE_loss: 0.0123 - val_REGION_accuracy: 0.9925 - val_STATE_accuracy: 0.9948 - val_COUNT_LINE_accuracy: 0.9963\n",
      "Epoch 78/100\n",
      "517/517 [==============================] - 151s 292ms/step - loss: 0.0172 - REGION_loss: 0.0021 - STATE_loss: 0.0014 - COUNT_LINE_loss: 7.3910e-04 - REGION_accuracy: 1.0000 - STATE_accuracy: 0.9997 - COUNT_LINE_accuracy: 1.0000 - val_loss: 0.0755 - val_REGION_loss: 0.0326 - val_STATE_loss: 0.0189 - val_COUNT_LINE_loss: 0.0110 - val_REGION_accuracy: 0.9932 - val_STATE_accuracy: 0.9952 - val_COUNT_LINE_accuracy: 0.9970\n",
      "Epoch 79/100\n",
      "517/517 [==============================] - 152s 294ms/step - loss: 0.0179 - REGION_loss: 0.0028 - STATE_loss: 0.0010 - COUNT_LINE_loss: 0.0011 - REGION_accuracy: 0.9998 - STATE_accuracy: 0.9999 - COUNT_LINE_accuracy: 0.9998 - val_loss: 0.0822 - val_REGION_loss: 0.0358 - val_STATE_loss: 0.0214 - val_COUNT_LINE_loss: 0.0119 - val_REGION_accuracy: 0.9924 - val_STATE_accuracy: 0.9948 - val_COUNT_LINE_accuracy: 0.9966\n",
      "Epoch 80/100\n",
      "517/517 [==============================] - 153s 296ms/step - loss: 0.0173 - REGION_loss: 0.0025 - STATE_loss: 9.4383e-04 - COUNT_LINE_loss: 8.9174e-04 - REGION_accuracy: 0.9998 - STATE_accuracy: 0.9999 - COUNT_LINE_accuracy: 0.9999 - val_loss: 0.0879 - val_REGION_loss: 0.0409 - val_STATE_loss: 0.0210 - val_COUNT_LINE_loss: 0.0130 - val_REGION_accuracy: 0.9917 - val_STATE_accuracy: 0.9949 - val_COUNT_LINE_accuracy: 0.9959\n",
      "Epoch 81/100\n",
      "517/517 [==============================] - 154s 297ms/step - loss: 0.0173 - REGION_loss: 0.0026 - STATE_loss: 0.0010 - COUNT_LINE_loss: 6.6392e-04 - REGION_accuracy: 0.9998 - STATE_accuracy: 0.9998 - COUNT_LINE_accuracy: 1.0000 - val_loss: 0.0763 - val_REGION_loss: 0.0337 - val_STATE_loss: 0.0186 - val_COUNT_LINE_loss: 0.0110 - val_REGION_accuracy: 0.9928 - val_STATE_accuracy: 0.9952 - val_COUNT_LINE_accuracy: 0.9967\n",
      "Epoch 82/100\n",
      "517/517 [==============================] - 153s 297ms/step - loss: 0.0177 - REGION_loss: 0.0028 - STATE_loss: 0.0011 - COUNT_LINE_loss: 7.9641e-04 - REGION_accuracy: 0.9998 - STATE_accuracy: 0.9998 - COUNT_LINE_accuracy: 1.0000 - val_loss: 0.0823 - val_REGION_loss: 0.0340 - val_STATE_loss: 0.0229 - val_COUNT_LINE_loss: 0.0124 - val_REGION_accuracy: 0.9927 - val_STATE_accuracy: 0.9944 - val_COUNT_LINE_accuracy: 0.9964\n",
      "Epoch 83/100\n",
      "517/517 [==============================] - 152s 294ms/step - loss: 0.0174 - REGION_loss: 0.0023 - STATE_loss: 0.0011 - COUNT_LINE_loss: 9.6021e-04 - REGION_accuracy: 0.9998 - STATE_accuracy: 0.9997 - COUNT_LINE_accuracy: 0.9999 - val_loss: 0.0830 - val_REGION_loss: 0.0385 - val_STATE_loss: 0.0198 - val_COUNT_LINE_loss: 0.0116 - val_REGION_accuracy: 0.9917 - val_STATE_accuracy: 0.9949 - val_COUNT_LINE_accuracy: 0.9963\n",
      "Epoch 84/100\n",
      "517/517 [==============================] - 152s 295ms/step - loss: 0.0174 - REGION_loss: 0.0027 - STATE_loss: 0.0011 - COUNT_LINE_loss: 6.9929e-04 - REGION_accuracy: 0.9998 - STATE_accuracy: 0.9998 - COUNT_LINE_accuracy: 1.0000 - val_loss: 0.0807 - val_REGION_loss: 0.0342 - val_STATE_loss: 0.0212 - val_COUNT_LINE_loss: 0.0123 - val_REGION_accuracy: 0.9927 - val_STATE_accuracy: 0.9950 - val_COUNT_LINE_accuracy: 0.9963\n",
      "Epoch 85/100\n",
      "517/517 [==============================] - 150s 290ms/step - loss: 0.0175 - REGION_loss: 0.0027 - STATE_loss: 9.7931e-04 - COUNT_LINE_loss: 7.9340e-04 - REGION_accuracy: 0.9998 - STATE_accuracy: 0.9998 - COUNT_LINE_accuracy: 0.9999 - val_loss: 0.0806 - val_REGION_loss: 0.0314 - val_STATE_loss: 0.0231 - val_COUNT_LINE_loss: 0.0131 - val_REGION_accuracy: 0.9929 - val_STATE_accuracy: 0.9946 - val_COUNT_LINE_accuracy: 0.9963\n",
      "Epoch 86/100\n",
      "517/517 [==============================] - 150s 291ms/step - loss: 0.0174 - REGION_loss: 0.0025 - STATE_loss: 0.0012 - COUNT_LINE_loss: 7.4434e-04 - REGION_accuracy: 0.9999 - STATE_accuracy: 0.9998 - COUNT_LINE_accuracy: 1.0000 - val_loss: 0.0828 - val_REGION_loss: 0.0404 - val_STATE_loss: 0.0187 - val_COUNT_LINE_loss: 0.0107 - val_REGION_accuracy: 0.9914 - val_STATE_accuracy: 0.9951 - val_COUNT_LINE_accuracy: 0.9969\n",
      "Epoch 87/100\n",
      "517/517 [==============================] - 150s 291ms/step - loss: 0.0181 - REGION_loss: 0.0030 - STATE_loss: 9.9473e-04 - COUNT_LINE_loss: 0.0011 - REGION_accuracy: 0.9996 - STATE_accuracy: 0.9999 - COUNT_LINE_accuracy: 0.9998 - val_loss: 0.0751 - val_REGION_loss: 0.0319 - val_STATE_loss: 0.0199 - val_COUNT_LINE_loss: 0.0104 - val_REGION_accuracy: 0.9937 - val_STATE_accuracy: 0.9952 - val_COUNT_LINE_accuracy: 0.9966\n",
      "Epoch 88/100\n",
      "517/517 [==============================] - 152s 294ms/step - loss: 0.0175 - REGION_loss: 0.0026 - STATE_loss: 0.0011 - COUNT_LINE_loss: 7.4077e-04 - REGION_accuracy: 0.9996 - STATE_accuracy: 0.9999 - COUNT_LINE_accuracy: 1.0000 - val_loss: 0.0877 - val_REGION_loss: 0.0390 - val_STATE_loss: 0.0211 - val_COUNT_LINE_loss: 0.0146 - val_REGION_accuracy: 0.9915 - val_STATE_accuracy: 0.9945 - val_COUNT_LINE_accuracy: 0.9957\n",
      "Epoch 89/100\n",
      "517/517 [==============================] - 152s 294ms/step - loss: 0.0183 - REGION_loss: 0.0034 - STATE_loss: 0.0010 - COUNT_LINE_loss: 8.5928e-04 - REGION_accuracy: 0.9996 - STATE_accuracy: 0.9999 - COUNT_LINE_accuracy: 0.9999 - val_loss: 0.0716 - val_REGION_loss: 0.0299 - val_STATE_loss: 0.0191 - val_COUNT_LINE_loss: 0.0096 - val_REGION_accuracy: 0.9937 - val_STATE_accuracy: 0.9952 - val_COUNT_LINE_accuracy: 0.9972\n",
      "Epoch 90/100\n",
      "517/517 [==============================] - 152s 295ms/step - loss: 0.0181 - REGION_loss: 0.0033 - STATE_loss: 0.0012 - COUNT_LINE_loss: 6.5931e-04 - REGION_accuracy: 0.9995 - STATE_accuracy: 0.9998 - COUNT_LINE_accuracy: 1.0000 - val_loss: 0.0810 - val_REGION_loss: 0.0343 - val_STATE_loss: 0.0210 - val_COUNT_LINE_loss: 0.0128 - val_REGION_accuracy: 0.9923 - val_STATE_accuracy: 0.9948 - val_COUNT_LINE_accuracy: 0.9963\n",
      "Epoch 91/100\n",
      "517/517 [==============================] - 150s 291ms/step - loss: 0.0211 - REGION_loss: 0.0039 - STATE_loss: 0.0018 - COUNT_LINE_loss: 0.0023 - REGION_accuracy: 0.9994 - STATE_accuracy: 0.9996 - COUNT_LINE_accuracy: 0.9997 - val_loss: 0.0786 - val_REGION_loss: 0.0335 - val_STATE_loss: 0.0209 - val_COUNT_LINE_loss: 0.0112 - val_REGION_accuracy: 0.9929 - val_STATE_accuracy: 0.9949 - val_COUNT_LINE_accuracy: 0.9964\n",
      "Epoch 92/100\n",
      "517/517 [==============================] - 150s 291ms/step - loss: 0.0174 - REGION_loss: 0.0023 - STATE_loss: 0.0012 - COUNT_LINE_loss: 9.1558e-04 - REGION_accuracy: 0.9998 - STATE_accuracy: 0.9998 - COUNT_LINE_accuracy: 0.9999 - val_loss: 0.0850 - val_REGION_loss: 0.0396 - val_STATE_loss: 0.0203 - val_COUNT_LINE_loss: 0.0121 - val_REGION_accuracy: 0.9916 - val_STATE_accuracy: 0.9951 - val_COUNT_LINE_accuracy: 0.9964\n",
      "Epoch 93/100\n",
      "517/517 [==============================] - 153s 296ms/step - loss: 0.0178 - REGION_loss: 0.0031 - STATE_loss: 9.7127e-04 - COUNT_LINE_loss: 7.0619e-04 - REGION_accuracy: 0.9996 - STATE_accuracy: 0.9999 - COUNT_LINE_accuracy: 1.0000 - val_loss: 0.0748 - val_REGION_loss: 0.0331 - val_STATE_loss: 0.0180 - val_COUNT_LINE_loss: 0.0107 - val_REGION_accuracy: 0.9931 - val_STATE_accuracy: 0.9951 - val_COUNT_LINE_accuracy: 0.9965\n",
      "Epoch 94/100\n",
      "517/517 [==============================] - 153s 295ms/step - loss: 0.0180 - REGION_loss: 0.0031 - STATE_loss: 0.0012 - COUNT_LINE_loss: 7.0804e-04 - REGION_accuracy: 0.9996 - STATE_accuracy: 0.9998 - COUNT_LINE_accuracy: 1.0000 - val_loss: 0.0788 - val_REGION_loss: 0.0331 - val_STATE_loss: 0.0217 - val_COUNT_LINE_loss: 0.0110 - val_REGION_accuracy: 0.9929 - val_STATE_accuracy: 0.9948 - val_COUNT_LINE_accuracy: 0.9966\n",
      "Epoch 95/100\n",
      "517/517 [==============================] - 158s 306ms/step - loss: 0.0175 - REGION_loss: 0.0028 - STATE_loss: 9.1284e-04 - COUNT_LINE_loss: 7.1469e-04 - REGION_accuracy: 0.9995 - STATE_accuracy: 0.9999 - COUNT_LINE_accuracy: 1.0000 - val_loss: 0.0891 - val_REGION_loss: 0.0372 - val_STATE_loss: 0.0248 - val_COUNT_LINE_loss: 0.0140 - val_REGION_accuracy: 0.9920 - val_STATE_accuracy: 0.9942 - val_COUNT_LINE_accuracy: 0.9960\n"
     ]
    },
    {
     "name": "stdout",
     "output_type": "stream",
     "text": [
      "Epoch 96/100\n",
      "517/517 [==============================] - 159s 307ms/step - loss: 0.0171 - REGION_loss: 0.0023 - STATE_loss: 0.0011 - COUNT_LINE_loss: 6.8737e-04 - REGION_accuracy: 0.9998 - STATE_accuracy: 0.9998 - COUNT_LINE_accuracy: 1.0000 - val_loss: 0.0825 - val_REGION_loss: 0.0379 - val_STATE_loss: 0.0194 - val_COUNT_LINE_loss: 0.0122 - val_REGION_accuracy: 0.9921 - val_STATE_accuracy: 0.9945 - val_COUNT_LINE_accuracy: 0.9959\n",
      "Epoch 97/100\n",
      "517/517 [==============================] - 158s 307ms/step - loss: 0.0182 - REGION_loss: 0.0027 - STATE_loss: 0.0016 - COUNT_LINE_loss: 9.4029e-04 - REGION_accuracy: 0.9998 - STATE_accuracy: 0.9996 - COUNT_LINE_accuracy: 1.0000 - val_loss: 0.0800 - val_REGION_loss: 0.0363 - val_STATE_loss: 0.0185 - val_COUNT_LINE_loss: 0.0121 - val_REGION_accuracy: 0.9921 - val_STATE_accuracy: 0.9956 - val_COUNT_LINE_accuracy: 0.9965\n",
      "Epoch 98/100\n",
      "517/517 [==============================] - 158s 307ms/step - loss: 0.0190 - REGION_loss: 0.0031 - STATE_loss: 0.0017 - COUNT_LINE_loss: 0.0012 - REGION_accuracy: 0.9996 - STATE_accuracy: 0.9996 - COUNT_LINE_accuracy: 0.9997 - val_loss: 0.0771 - val_REGION_loss: 0.0319 - val_STATE_loss: 0.0207 - val_COUNT_LINE_loss: 0.0115 - val_REGION_accuracy: 0.9930 - val_STATE_accuracy: 0.9948 - val_COUNT_LINE_accuracy: 0.9963\n",
      "Epoch 99/100\n",
      "517/517 [==============================] - 159s 307ms/step - loss: 0.0176 - REGION_loss: 0.0027 - STATE_loss: 0.0011 - COUNT_LINE_loss: 7.0315e-04 - REGION_accuracy: 0.9998 - STATE_accuracy: 0.9999 - COUNT_LINE_accuracy: 1.0000 - val_loss: 0.0839 - val_REGION_loss: 0.0400 - val_STATE_loss: 0.0203 - val_COUNT_LINE_loss: 0.0106 - val_REGION_accuracy: 0.9918 - val_STATE_accuracy: 0.9951 - val_COUNT_LINE_accuracy: 0.9971\n",
      "Epoch 100/100\n",
      "517/517 [==============================] - 157s 304ms/step - loss: 0.0175 - REGION_loss: 0.0024 - STATE_loss: 0.0011 - COUNT_LINE_loss: 9.8685e-04 - REGION_accuracy: 0.9999 - STATE_accuracy: 0.9998 - COUNT_LINE_accuracy: 0.9999 - val_loss: 0.0708 - val_REGION_loss: 0.0290 - val_STATE_loss: 0.0173 - val_COUNT_LINE_loss: 0.0115 - val_REGION_accuracy: 0.9937 - val_STATE_accuracy: 0.9953 - val_COUNT_LINE_accuracy: 0.9966\n"
     ]
    }
   ],
   "source": [
    "# train\n",
    "model = npClassificator.train(LOG_DIR, cnn=\"simple\")"
   ]
  },
  {
   "cell_type": "code",
   "execution_count": 11,
   "metadata": {},
   "outputs": [
    {
     "name": "stdout",
     "output_type": "stream",
     "text": [
      "WARNING:tensorflow:From /home/www/nomeroff-net/NomeroffNet/OptionsDetector.py:246: Model.evaluate_generator (from tensorflow.python.keras.engine.training) is deprecated and will be removed in a future version.\n",
      "Instructions for updating:\n",
      "Please use Model.evaluate, which supports generators.\n",
      "test loss: 0.07031703740358353\n",
      "test loss: 0.02467857114970684    test loss: 0.01761162467300892       test loss: 0.009411533363163471\n",
      "test acc: 0.9938446879386902    test acc 0.9955018758773804      test acc 0.9976325631141663\n"
     ]
    },
    {
     "data": {
      "text/plain": [
       "(0.07031703740358353,\n",
       " 0.02467857114970684,\n",
       " 0.01761162467300892,\n",
       " 0.009411533363163471,\n",
       " 0.9938446879386902,\n",
       " 0.9955018758773804,\n",
       " 0.9976325631141663)"
      ]
     },
     "execution_count": 11,
     "metadata": {},
     "output_type": "execute_result"
    }
   ],
   "source": [
    "npClassificator.test()"
   ]
  },
  {
   "cell_type": "code",
   "execution_count": 10,
   "metadata": {},
   "outputs": [
    {
     "name": "stdout",
     "output_type": "stream",
     "text": [
      "model save to /var/www/nomeroff-net/models/numberplate_options_2020_12_17_tensorflow_v2_3.h5\n"
     ]
    }
   ],
   "source": [
    "npClassificator.save(RESULT_PATH)"
   ]
  },
  {
   "cell_type": "code",
   "execution_count": 9,
   "metadata": {},
   "outputs": [
    {
     "name": "stdout",
     "output_type": "stream",
     "text": [
      "test loss: 0.09577925503253937\n",
      "test loss: 0.039863694459199905    test loss: 0.0264976155012846       test loss: 0.01639874279499054\n",
      "test acc: 0.9906716346740723    test acc 0.9938199520111084      test acc 0.9954524040222168\n"
     ]
    },
    {
     "data": {
      "text/plain": [
       "(0.09577925503253937,\n",
       " 0.039863694459199905,\n",
       " 0.0264976155012846,\n",
       " 0.01639874279499054,\n",
       " 0.9906716346740723,\n",
       " 0.9938199520111084,\n",
       " 0.9954524040222168)"
      ]
     },
     "execution_count": 9,
     "metadata": {},
     "output_type": "execute_result"
    }
   ],
   "source": [
    "npClassificator.test()"
   ]
  },
  {
   "cell_type": "code",
   "execution_count": null,
   "metadata": {},
   "outputs": [],
   "source": []
  }
 ],
 "metadata": {
  "kernelspec": {
   "display_name": "Python 3",
   "language": "python",
   "name": "python3"
  },
  "language_info": {
   "codemirror_mode": {
    "name": "ipython",
    "version": 3
   },
   "file_extension": ".py",
   "mimetype": "text/x-python",
   "name": "python",
   "nbconvert_exporter": "python",
   "pygments_lexer": "ipython3",
   "version": "3.6.12"
  }
 },
 "nbformat": 4,
 "nbformat_minor": 2
}
