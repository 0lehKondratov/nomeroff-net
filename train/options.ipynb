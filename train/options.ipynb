{
 "cells": [
  {
   "cell_type": "markdown",
   "metadata": {},
   "source": [
    "# This example demonstrate how to train region detector model (standart image classification model)."
   ]
  },
  {
   "cell_type": "markdown",
   "metadata": {},
   "source": [
    "For train datasets please download last version of dataset [https://nomeroff.net.ua/datasets/](https://nomeroff.net.ua/datasets/). Unpack archive and rename to **./datasets/** .\n",
    "For examle\n",
    "```bash\n",
    "cd ./datasets/ocr\n",
    "wget https://nomeroff.net.ua/datasets/autoriaNumberplateOptionsDataset-2019-02-20.zip\n",
    "unzip autoriaNumberplateOptionsDataset-2019-02-20.zip\n",
    "mv autoriaNumberplateOptionsDataset-2019-02-20 ua\n",
    "```\n",
    "or use your own dataset."
   ]
  },
  {
   "cell_type": "code",
   "execution_count": 1,
   "metadata": {},
   "outputs": [
    {
     "name": "stderr",
     "output_type": "stream",
     "text": [
      "Using TensorFlow backend.\n",
      "WARNING: Logging before flag parsing goes to stderr.\n",
      "W0521 13:07:24.870541 140176885851968 deprecation_wrapper.py:119] From /mnt/data/var/www/html2/js/nomeroff-net_2/NomeroffNet/Detector.py:12: The name tf.ConfigProto is deprecated. Please use tf.compat.v1.ConfigProto instead.\n",
      "\n",
      "W0521 13:07:24.871182 140176885851968 deprecation_wrapper.py:119] From /mnt/data/var/www/html2/js/nomeroff-net_2/NomeroffNet/Detector.py:14: The name tf.Session is deprecated. Please use tf.compat.v1.Session instead.\n",
      "\n"
     ]
    }
   ],
   "source": [
    "import os\n",
    "import sys\n",
    "import warnings\n",
    "warnings.filterwarnings('ignore')\n",
    "\n",
    "# change this property\n",
    "NOMEROFF_NET_DIR = os.path.abspath('../')\n",
    "\n",
    "DATASET_NAME = \"options\"\n",
    "VERSION = \"2019_05_20\"\n",
    "\n",
    "LOG_DIR = os.path.join(NOMEROFF_NET_DIR, \"logs/\")\n",
    "PATH_TO_DATASET = os.path.join(NOMEROFF_NET_DIR, \"datasets/\", \"options\")\n",
    "RESULT_PATH = os.path.join(NOMEROFF_NET_DIR, \"models/\", 'numberplate_{}_{}.h5'.format(DATASET_NAME, VERSION))\n",
    "\n",
    "FROZEN_MODEL_PATH = os.path.join(NOMEROFF_NET_DIR, \"models/\", 'numberplate_{}_{}.pb'.format(DATASET_NAME, VERSION))\n",
    "\n",
    "sys.path.append(NOMEROFF_NET_DIR)\n",
    "\n",
    "from NomeroffNet import OptionsDetector\n",
    "from NomeroffNet.Base import convert_keras_to_freeze_pb"
   ]
  },
  {
   "cell_type": "code",
   "execution_count": 4,
   "metadata": {},
   "outputs": [],
   "source": [
    "# definde your parameters\n",
    "# definde your parameters\n",
    "class MyNumberClassificator(OptionsDetector):\n",
    "    def __init__(self):\n",
    "        OptionsDetector.__init__(self)\n",
    "        # outputs 1\n",
    "        self.CLASS_STATE = [\"BACKGROUND\", \"FILLED\", \"NOT_FILLED\"]\n",
    "        \n",
    "        # outputs 2\n",
    "        self.CLASS_REGION = [\"xx-unknown\", \"eu-ua-2015\", \"eu-ua-2004\", \"eu-ua-1995\", \"eu\", \"xx-transit\", \"ru\", \"kz\"]\n",
    "        \n",
    "        self.EPOCHS           = 100\n",
    "        self.BATCH_SIZE       = 64\n",
    "        \n",
    "        self.HEIGHT         = 64\n",
    "        self.WEIGHT         = 295\n"
   ]
  },
  {
   "cell_type": "code",
   "execution_count": 5,
   "metadata": {},
   "outputs": [
    {
     "name": "stdout",
     "output_type": "stream",
     "text": [
      "START PREPARING\n",
      "start train build\n",
      "end train build\n",
      "start test build\n",
      "end test build\n",
      "start test build\n",
      "end test build\n",
      "DATA PREPARED\n"
     ]
    }
   ],
   "source": [
    "# initialize region detector.\n",
    "numberClassificator = MyNumberClassificator()\n",
    "numberClassificator.prepare(PATH_TO_DATASET)"
   ]
  },
  {
   "cell_type": "code",
   "execution_count": 6,
   "metadata": {},
   "outputs": [
    {
     "name": "stderr",
     "output_type": "stream",
     "text": [
      "W0521 13:07:45.161778 140176885851968 deprecation_wrapper.py:119] From /usr/local/lib/python3.7/site-packages/keras/backend/tensorflow_backend.py:74: The name tf.get_default_graph is deprecated. Please use tf.compat.v1.get_default_graph instead.\n",
      "\n",
      "W0521 13:07:45.165253 140176885851968 deprecation_wrapper.py:119] From /usr/local/lib/python3.7/site-packages/keras/backend/tensorflow_backend.py:517: The name tf.placeholder is deprecated. Please use tf.compat.v1.placeholder instead.\n",
      "\n",
      "W0521 13:07:45.177252 140176885851968 deprecation_wrapper.py:119] From /usr/local/lib/python3.7/site-packages/keras/backend/tensorflow_backend.py:4138: The name tf.random_uniform is deprecated. Please use tf.random.uniform instead.\n",
      "\n",
      "W0521 13:07:45.199065 140176885851968 deprecation_wrapper.py:119] From /usr/local/lib/python3.7/site-packages/keras/backend/tensorflow_backend.py:3976: The name tf.nn.max_pool is deprecated. Please use tf.nn.max_pool2d instead.\n",
      "\n",
      "W0521 13:07:45.241659 140176885851968 deprecation.py:506] From /usr/local/lib/python3.7/site-packages/keras/backend/tensorflow_backend.py:3445: calling dropout (from tensorflow.python.ops.nn_ops) with keep_prob is deprecated and will be removed in a future version.\n",
      "Instructions for updating:\n",
      "Please use `rate` instead of `keep_prob`. Rate should be set to `rate = 1 - keep_prob`.\n",
      "W0521 13:07:45.277344 140176885851968 deprecation.py:506] From /usr/local/lib/python3.7/site-packages/tensorflow/python/training/moving_averages.py:212: calling Zeros.__init__ (from tensorflow.python.ops.init_ops) with dtype is deprecated and will be removed in a future version.\n",
      "Instructions for updating:\n",
      "Call initializer instance with the dtype argument instead of passing it to the constructor\n",
      "W0521 13:07:45.529681 140176885851968 deprecation_wrapper.py:119] From /usr/local/lib/python3.7/site-packages/keras/optimizers.py:790: The name tf.train.Optimizer is deprecated. Please use tf.compat.v1.train.Optimizer instead.\n",
      "\n"
     ]
    },
    {
     "name": "stdout",
     "output_type": "stream",
     "text": [
      "Epoch 1/100\n",
      "458/457 [==============================] - 26s 56ms/step - loss: 1.0007 - REGION_loss: 0.6334 - STATE_loss: 0.1688 - COUNT_LINE_loss: 0.1711 - REGION_acc: 0.8029 - STATE_acc: 0.9500 - COUNT_LINE_acc: 0.9452 - val_loss: 0.4426 - val_REGION_loss: 0.2133 - val_STATE_loss: 0.1244 - val_COUNT_LINE_loss: 0.0722 - val_REGION_acc: 0.9375 - val_STATE_acc: 0.9611 - val_COUNT_LINE_acc: 0.9769\n",
      "Epoch 2/100\n",
      "458/457 [==============================] - 170s 371ms/step - loss: 0.3479 - REGION_loss: 0.1808 - STATE_loss: 0.0760 - COUNT_LINE_loss: 0.0596 - REGION_acc: 0.9479 - STATE_acc: 0.9745 - COUNT_LINE_acc: 0.9800 - val_loss: 0.3174 - val_REGION_loss: 0.1571 - val_STATE_loss: 0.0777 - val_COUNT_LINE_loss: 0.0521 - val_REGION_acc: 0.9571 - val_STATE_acc: 0.9768 - val_COUNT_LINE_acc: 0.9838\n",
      "Epoch 3/100\n",
      "458/457 [==============================] - 170s 371ms/step - loss: 0.2336 - REGION_loss: 0.1088 - STATE_loss: 0.0545 - COUNT_LINE_loss: 0.0407 - REGION_acc: 0.9693 - STATE_acc: 0.9825 - COUNT_LINE_acc: 0.9870 - val_loss: 0.2399 - val_REGION_loss: 0.0904 - val_STATE_loss: 0.0741 - val_COUNT_LINE_loss: 0.0466 - val_REGION_acc: 0.9731 - val_STATE_acc: 0.9756 - val_COUNT_LINE_acc: 0.9841\n",
      "Epoch 4/100\n",
      "458/457 [==============================] - 171s 374ms/step - loss: 0.1848 - REGION_loss: 0.0797 - STATE_loss: 0.0443 - COUNT_LINE_loss: 0.0329 - REGION_acc: 0.9765 - STATE_acc: 0.9857 - COUNT_LINE_acc: 0.9888 - val_loss: 0.1771 - val_REGION_loss: 0.0680 - val_STATE_loss: 0.0489 - val_COUNT_LINE_loss: 0.0329 - val_REGION_acc: 0.9799 - val_STATE_acc: 0.9858 - val_COUNT_LINE_acc: 0.9890\n",
      "Epoch 5/100\n",
      "458/457 [==============================] - 167s 365ms/step - loss: 0.1524 - REGION_loss: 0.0644 - STATE_loss: 0.0346 - COUNT_LINE_loss: 0.0269 - REGION_acc: 0.9815 - STATE_acc: 0.9896 - COUNT_LINE_acc: 0.9909 - val_loss: 0.2068 - val_REGION_loss: 0.0783 - val_STATE_loss: 0.0583 - val_COUNT_LINE_loss: 0.0442 - val_REGION_acc: 0.9774 - val_STATE_acc: 0.9810 - val_COUNT_LINE_acc: 0.9850\n",
      "Epoch 6/100\n",
      "458/457 [==============================] - 171s 373ms/step - loss: 0.1358 - REGION_loss: 0.0552 - STATE_loss: 0.0322 - COUNT_LINE_loss: 0.0231 - REGION_acc: 0.9841 - STATE_acc: 0.9900 - COUNT_LINE_acc: 0.9924 - val_loss: 0.1476 - val_REGION_loss: 0.0582 - val_STATE_loss: 0.0399 - val_COUNT_LINE_loss: 0.0250 - val_REGION_acc: 0.9841 - val_STATE_acc: 0.9888 - val_COUNT_LINE_acc: 0.9917\n",
      "Epoch 7/100\n",
      "458/457 [==============================] - 169s 369ms/step - loss: 0.1169 - REGION_loss: 0.0459 - STATE_loss: 0.0254 - COUNT_LINE_loss: 0.0212 - REGION_acc: 0.9873 - STATE_acc: 0.9918 - COUNT_LINE_acc: 0.9929 - val_loss: 0.1283 - val_REGION_loss: 0.0473 - val_STATE_loss: 0.0349 - val_COUNT_LINE_loss: 0.0224 - val_REGION_acc: 0.9869 - val_STATE_acc: 0.9895 - val_COUNT_LINE_acc: 0.9926\n",
      "Epoch 8/100\n",
      "458/457 [==============================] - 169s 368ms/step - loss: 0.1027 - REGION_loss: 0.0387 - STATE_loss: 0.0237 - COUNT_LINE_loss: 0.0169 - REGION_acc: 0.9893 - STATE_acc: 0.9924 - COUNT_LINE_acc: 0.9946 - val_loss: 0.1261 - val_REGION_loss: 0.0430 - val_STATE_loss: 0.0378 - val_COUNT_LINE_loss: 0.0223 - val_REGION_acc: 0.9884 - val_STATE_acc: 0.9886 - val_COUNT_LINE_acc: 0.9929\n",
      "Epoch 9/100\n",
      "458/457 [==============================] - 168s 367ms/step - loss: 0.0925 - REGION_loss: 0.0333 - STATE_loss: 0.0212 - COUNT_LINE_loss: 0.0154 - REGION_acc: 0.9903 - STATE_acc: 0.9939 - COUNT_LINE_acc: 0.9950 - val_loss: 0.1241 - val_REGION_loss: 0.0444 - val_STATE_loss: 0.0356 - val_COUNT_LINE_loss: 0.0219 - val_REGION_acc: 0.9886 - val_STATE_acc: 0.9903 - val_COUNT_LINE_acc: 0.9937\n",
      "Epoch 10/100\n",
      "458/457 [==============================] - 166s 362ms/step - loss: 0.0865 - REGION_loss: 0.0325 - STATE_loss: 0.0189 - COUNT_LINE_loss: 0.0131 - REGION_acc: 0.9905 - STATE_acc: 0.9944 - COUNT_LINE_acc: 0.9961 - val_loss: 0.1102 - val_REGION_loss: 0.0381 - val_STATE_loss: 0.0291 - val_COUNT_LINE_loss: 0.0213 - val_REGION_acc: 0.9900 - val_STATE_acc: 0.9920 - val_COUNT_LINE_acc: 0.9936\n",
      "Epoch 11/100\n",
      "458/457 [==============================] - 167s 365ms/step - loss: 0.0832 - REGION_loss: 0.0298 - STATE_loss: 0.0183 - COUNT_LINE_loss: 0.0137 - REGION_acc: 0.9915 - STATE_acc: 0.9946 - COUNT_LINE_acc: 0.9956 - val_loss: 0.1199 - val_REGION_loss: 0.0437 - val_STATE_loss: 0.0338 - val_COUNT_LINE_loss: 0.0214 - val_REGION_acc: 0.9890 - val_STATE_acc: 0.9902 - val_COUNT_LINE_acc: 0.9938\n",
      "Epoch 12/100\n",
      "458/457 [==============================] - 169s 369ms/step - loss: 0.0724 - REGION_loss: 0.0251 - STATE_loss: 0.0148 - COUNT_LINE_loss: 0.0117 - REGION_acc: 0.9930 - STATE_acc: 0.9956 - COUNT_LINE_acc: 0.9966 - val_loss: 0.0984 - val_REGION_loss: 0.0312 - val_STATE_loss: 0.0292 - val_COUNT_LINE_loss: 0.0173 - val_REGION_acc: 0.9925 - val_STATE_acc: 0.9911 - val_COUNT_LINE_acc: 0.9945\n",
      "Epoch 13/100\n",
      "458/457 [==============================] - 169s 369ms/step - loss: 0.0671 - REGION_loss: 0.0225 - STATE_loss: 0.0141 - COUNT_LINE_loss: 0.0100 - REGION_acc: 0.9934 - STATE_acc: 0.9962 - COUNT_LINE_acc: 0.9971 - val_loss: 0.1034 - val_REGION_loss: 0.0377 - val_STATE_loss: 0.0287 - val_COUNT_LINE_loss: 0.0169 - val_REGION_acc: 0.9896 - val_STATE_acc: 0.9919 - val_COUNT_LINE_acc: 0.9954\n",
      "Epoch 14/100\n",
      "458/457 [==============================] - 168s 367ms/step - loss: 0.0655 - REGION_loss: 0.0226 - STATE_loss: 0.0131 - COUNT_LINE_loss: 0.0099 - REGION_acc: 0.9944 - STATE_acc: 0.9963 - COUNT_LINE_acc: 0.9972 - val_loss: 0.0877 - val_REGION_loss: 0.0299 - val_STATE_loss: 0.0225 - val_COUNT_LINE_loss: 0.0155 - val_REGION_acc: 0.9919 - val_STATE_acc: 0.9929 - val_COUNT_LINE_acc: 0.9955\n",
      "Epoch 15/100\n",
      "458/457 [==============================] - 175s 382ms/step - loss: 0.0617 - REGION_loss: 0.0187 - STATE_loss: 0.0146 - COUNT_LINE_loss: 0.0089 - REGION_acc: 0.9948 - STATE_acc: 0.9953 - COUNT_LINE_acc: 0.9974 - val_loss: 0.1049 - val_REGION_loss: 0.0364 - val_STATE_loss: 0.0290 - val_COUNT_LINE_loss: 0.0203 - val_REGION_acc: 0.9903 - val_STATE_acc: 0.9925 - val_COUNT_LINE_acc: 0.9940\n",
      "Epoch 16/100\n",
      "458/457 [==============================] - 174s 380ms/step - loss: 0.0607 - REGION_loss: 0.0186 - STATE_loss: 0.0128 - COUNT_LINE_loss: 0.0103 - REGION_acc: 0.9948 - STATE_acc: 0.9965 - COUNT_LINE_acc: 0.9972 - val_loss: 0.1093 - val_REGION_loss: 0.0309 - val_STATE_loss: 0.0346 - val_COUNT_LINE_loss: 0.0249 - val_REGION_acc: 0.9915 - val_STATE_acc: 0.9900 - val_COUNT_LINE_acc: 0.9928\n",
      "Epoch 17/100\n",
      "458/457 [==============================] - 172s 375ms/step - loss: 0.0535 - REGION_loss: 0.0151 - STATE_loss: 0.0110 - COUNT_LINE_loss: 0.0088 - REGION_acc: 0.9962 - STATE_acc: 0.9969 - COUNT_LINE_acc: 0.9975 - val_loss: 0.0921 - val_REGION_loss: 0.0335 - val_STATE_loss: 0.0241 - val_COUNT_LINE_loss: 0.0160 - val_REGION_acc: 0.9912 - val_STATE_acc: 0.9925 - val_COUNT_LINE_acc: 0.9950\n",
      "Epoch 18/100\n",
      "458/457 [==============================] - 170s 372ms/step - loss: 0.0564 - REGION_loss: 0.0174 - STATE_loss: 0.0121 - COUNT_LINE_loss: 0.0086 - REGION_acc: 0.9955 - STATE_acc: 0.9966 - COUNT_LINE_acc: 0.9977 - val_loss: 0.0887 - val_REGION_loss: 0.0310 - val_STATE_loss: 0.0260 - val_COUNT_LINE_loss: 0.0135 - val_REGION_acc: 0.9924 - val_STATE_acc: 0.9924 - val_COUNT_LINE_acc: 0.9957\n",
      "Epoch 19/100\n",
      "458/457 [==============================] - 169s 369ms/step - loss: 0.0542 - REGION_loss: 0.0171 - STATE_loss: 0.0111 - COUNT_LINE_loss: 0.0080 - REGION_acc: 0.9954 - STATE_acc: 0.9969 - COUNT_LINE_acc: 0.9978 - val_loss: 0.0815 - val_REGION_loss: 0.0294 - val_STATE_loss: 0.0203 - val_COUNT_LINE_loss: 0.0141 - val_REGION_acc: 0.9923 - val_STATE_acc: 0.9938 - val_COUNT_LINE_acc: 0.9954\n",
      "Epoch 20/100\n",
      "458/457 [==============================] - 175s 383ms/step - loss: 0.0506 - REGION_loss: 0.0156 - STATE_loss: 0.0105 - COUNT_LINE_loss: 0.0069 - REGION_acc: 0.9960 - STATE_acc: 0.9970 - COUNT_LINE_acc: 0.9982 - val_loss: 0.0887 - val_REGION_loss: 0.0320 - val_STATE_loss: 0.0233 - val_COUNT_LINE_loss: 0.0161 - val_REGION_acc: 0.9911 - val_STATE_acc: 0.9936 - val_COUNT_LINE_acc: 0.9947\n",
      "Epoch 21/100\n"
     ]
    },
    {
     "name": "stdout",
     "output_type": "stream",
     "text": [
      "458/457 [==============================] - 175s 383ms/step - loss: 0.0501 - REGION_loss: 0.0155 - STATE_loss: 0.0102 - COUNT_LINE_loss: 0.0072 - REGION_acc: 0.9961 - STATE_acc: 0.9970 - COUNT_LINE_acc: 0.9982 - val_loss: 0.0679 - val_REGION_loss: 0.0215 - val_STATE_loss: 0.0186 - val_COUNT_LINE_loss: 0.0108 - val_REGION_acc: 0.9936 - val_STATE_acc: 0.9954 - val_COUNT_LINE_acc: 0.9968\n",
      "Epoch 22/100\n",
      "458/457 [==============================] - 187s 409ms/step - loss: 0.0454 - REGION_loss: 0.0135 - STATE_loss: 0.0093 - COUNT_LINE_loss: 0.0056 - REGION_acc: 0.9967 - STATE_acc: 0.9970 - COUNT_LINE_acc: 0.9984 - val_loss: 0.0894 - val_REGION_loss: 0.0290 - val_STATE_loss: 0.0268 - val_COUNT_LINE_loss: 0.0168 - val_REGION_acc: 0.9925 - val_STATE_acc: 0.9932 - val_COUNT_LINE_acc: 0.9950\n",
      "Epoch 23/100\n",
      "458/457 [==============================] - 173s 378ms/step - loss: 0.0431 - REGION_loss: 0.0136 - STATE_loss: 0.0077 - COUNT_LINE_loss: 0.0051 - REGION_acc: 0.9965 - STATE_acc: 0.9976 - COUNT_LINE_acc: 0.9987 - val_loss: 0.0918 - val_REGION_loss: 0.0312 - val_STATE_loss: 0.0267 - val_COUNT_LINE_loss: 0.0174 - val_REGION_acc: 0.9917 - val_STATE_acc: 0.9934 - val_COUNT_LINE_acc: 0.9940\n",
      "Epoch 24/100\n",
      "458/457 [==============================] - 168s 368ms/step - loss: 0.0446 - REGION_loss: 0.0143 - STATE_loss: 0.0087 - COUNT_LINE_loss: 0.0052 - REGION_acc: 0.9966 - STATE_acc: 0.9976 - COUNT_LINE_acc: 0.9985 - val_loss: 0.1118 - val_REGION_loss: 0.0412 - val_STATE_loss: 0.0315 - val_COUNT_LINE_loss: 0.0229 - val_REGION_acc: 0.9903 - val_STATE_acc: 0.9928 - val_COUNT_LINE_acc: 0.9947\n",
      "Epoch 25/100\n",
      "458/457 [==============================] - 169s 369ms/step - loss: 0.0415 - REGION_loss: 0.0115 - STATE_loss: 0.0089 - COUNT_LINE_loss: 0.0050 - REGION_acc: 0.9970 - STATE_acc: 0.9974 - COUNT_LINE_acc: 0.9985 - val_loss: 0.0766 - val_REGION_loss: 0.0240 - val_STATE_loss: 0.0218 - val_COUNT_LINE_loss: 0.0149 - val_REGION_acc: 0.9940 - val_STATE_acc: 0.9951 - val_COUNT_LINE_acc: 0.9958\n",
      "Epoch 26/100\n",
      "458/457 [==============================] - 177s 386ms/step - loss: 0.0413 - REGION_loss: 0.0127 - STATE_loss: 0.0078 - COUNT_LINE_loss: 0.0051 - REGION_acc: 0.9968 - STATE_acc: 0.9980 - COUNT_LINE_acc: 0.9986 - val_loss: 0.0824 - val_REGION_loss: 0.0276 - val_STATE_loss: 0.0230 - val_COUNT_LINE_loss: 0.0163 - val_REGION_acc: 0.9929 - val_STATE_acc: 0.9949 - val_COUNT_LINE_acc: 0.9961\n",
      "Epoch 27/100\n",
      "458/457 [==============================] - 190s 415ms/step - loss: 0.0389 - REGION_loss: 0.0113 - STATE_loss: 0.0074 - COUNT_LINE_loss: 0.0047 - REGION_acc: 0.9970 - STATE_acc: 0.9979 - COUNT_LINE_acc: 0.9990 - val_loss: 0.0782 - val_REGION_loss: 0.0249 - val_STATE_loss: 0.0208 - val_COUNT_LINE_loss: 0.0171 - val_REGION_acc: 0.9936 - val_STATE_acc: 0.9950 - val_COUNT_LINE_acc: 0.9957\n",
      "Epoch 28/100\n",
      "458/457 [==============================] - 185s 403ms/step - loss: 0.0377 - REGION_loss: 0.0115 - STATE_loss: 0.0063 - COUNT_LINE_loss: 0.0046 - REGION_acc: 0.9970 - STATE_acc: 0.9983 - COUNT_LINE_acc: 0.9988 - val_loss: 0.0878 - val_REGION_loss: 0.0288 - val_STATE_loss: 0.0253 - val_COUNT_LINE_loss: 0.0185 - val_REGION_acc: 0.9933 - val_STATE_acc: 0.9944 - val_COUNT_LINE_acc: 0.9953\n",
      "Epoch 29/100\n",
      "458/457 [==============================] - 182s 396ms/step - loss: 0.0383 - REGION_loss: 0.0102 - STATE_loss: 0.0075 - COUNT_LINE_loss: 0.0056 - REGION_acc: 0.9976 - STATE_acc: 0.9980 - COUNT_LINE_acc: 0.9986 - val_loss: 0.0980 - val_REGION_loss: 0.0308 - val_STATE_loss: 0.0290 - val_COUNT_LINE_loss: 0.0234 - val_REGION_acc: 0.9921 - val_STATE_acc: 0.9929 - val_COUNT_LINE_acc: 0.9942\n",
      "Epoch 30/100\n",
      "458/457 [==============================] - 180s 394ms/step - loss: 0.0361 - REGION_loss: 0.0104 - STATE_loss: 0.0065 - COUNT_LINE_loss: 0.0044 - REGION_acc: 0.9975 - STATE_acc: 0.9983 - COUNT_LINE_acc: 0.9989 - val_loss: 0.0759 - val_REGION_loss: 0.0223 - val_STATE_loss: 0.0249 - val_COUNT_LINE_loss: 0.0141 - val_REGION_acc: 0.9944 - val_STATE_acc: 0.9942 - val_COUNT_LINE_acc: 0.9966\n",
      "Epoch 31/100\n",
      "458/457 [==============================] - 182s 398ms/step - loss: 0.0346 - REGION_loss: 0.0096 - STATE_loss: 0.0063 - COUNT_LINE_loss: 0.0042 - REGION_acc: 0.9976 - STATE_acc: 0.9983 - COUNT_LINE_acc: 0.9989 - val_loss: 0.0751 - val_REGION_loss: 0.0247 - val_STATE_loss: 0.0193 - val_COUNT_LINE_loss: 0.0168 - val_REGION_acc: 0.9941 - val_STATE_acc: 0.9949 - val_COUNT_LINE_acc: 0.9958\n",
      "Epoch 32/100\n",
      "458/457 [==============================] - 185s 404ms/step - loss: 0.0316 - REGION_loss: 0.0084 - STATE_loss: 0.0050 - COUNT_LINE_loss: 0.0038 - REGION_acc: 0.9981 - STATE_acc: 0.9985 - COUNT_LINE_acc: 0.9991 - val_loss: 0.0804 - val_REGION_loss: 0.0264 - val_STATE_loss: 0.0232 - val_COUNT_LINE_loss: 0.0165 - val_REGION_acc: 0.9941 - val_STATE_acc: 0.9947 - val_COUNT_LINE_acc: 0.9962\n",
      "Epoch 33/100\n",
      "458/457 [==============================] - 191s 417ms/step - loss: 0.0283 - REGION_loss: 0.0071 - STATE_loss: 0.0042 - COUNT_LINE_loss: 0.0027 - REGION_acc: 0.9985 - STATE_acc: 0.9990 - COUNT_LINE_acc: 0.9996 - val_loss: 0.0728 - val_REGION_loss: 0.0229 - val_STATE_loss: 0.0212 - val_COUNT_LINE_loss: 0.0144 - val_REGION_acc: 0.9938 - val_STATE_acc: 0.9949 - val_COUNT_LINE_acc: 0.9959\n",
      "Epoch 34/100\n",
      "458/457 [==============================] - 189s 412ms/step - loss: 0.0262 - REGION_loss: 0.0059 - STATE_loss: 0.0037 - COUNT_LINE_loss: 0.0023 - REGION_acc: 0.9987 - STATE_acc: 0.9992 - COUNT_LINE_acc: 0.9994 - val_loss: 0.0662 - val_REGION_loss: 0.0202 - val_STATE_loss: 0.0189 - val_COUNT_LINE_loss: 0.0129 - val_REGION_acc: 0.9957 - val_STATE_acc: 0.9954 - val_COUNT_LINE_acc: 0.9967\n",
      "Epoch 35/100\n",
      "458/457 [==============================] - 185s 405ms/step - loss: 0.0274 - REGION_loss: 0.0069 - STATE_loss: 0.0037 - COUNT_LINE_loss: 0.0026 - REGION_acc: 0.9983 - STATE_acc: 0.9991 - COUNT_LINE_acc: 0.9995 - val_loss: 0.0715 - val_REGION_loss: 0.0227 - val_STATE_loss: 0.0194 - val_COUNT_LINE_loss: 0.0153 - val_REGION_acc: 0.9950 - val_STATE_acc: 0.9954 - val_COUNT_LINE_acc: 0.9955\n",
      "Epoch 36/100\n",
      "458/457 [==============================] - 183s 400ms/step - loss: 0.0274 - REGION_loss: 0.0057 - STATE_loss: 0.0044 - COUNT_LINE_loss: 0.0031 - REGION_acc: 0.9987 - STATE_acc: 0.9987 - COUNT_LINE_acc: 0.9991 - val_loss: 0.0719 - val_REGION_loss: 0.0244 - val_STATE_loss: 0.0191 - val_COUNT_LINE_loss: 0.0143 - val_REGION_acc: 0.9947 - val_STATE_acc: 0.9951 - val_COUNT_LINE_acc: 0.9966\n",
      "Epoch 37/100\n",
      "458/457 [==============================] - 184s 402ms/step - loss: 0.0283 - REGION_loss: 0.0066 - STATE_loss: 0.0043 - COUNT_LINE_loss: 0.0033 - REGION_acc: 0.9987 - STATE_acc: 0.9989 - COUNT_LINE_acc: 0.9992 - val_loss: 0.0644 - val_REGION_loss: 0.0179 - val_STATE_loss: 0.0193 - val_COUNT_LINE_loss: 0.0131 - val_REGION_acc: 0.9953 - val_STATE_acc: 0.9946 - val_COUNT_LINE_acc: 0.9966\n",
      "Epoch 38/100\n",
      "458/457 [==============================] - 181s 395ms/step - loss: 0.0226 - REGION_loss: 0.0040 - STATE_loss: 0.0025 - COUNT_LINE_loss: 0.0020 - REGION_acc: 0.9993 - STATE_acc: 0.9994 - COUNT_LINE_acc: 0.9997 - val_loss: 0.0665 - val_REGION_loss: 0.0219 - val_STATE_loss: 0.0187 - val_COUNT_LINE_loss: 0.0119 - val_REGION_acc: 0.9946 - val_STATE_acc: 0.9961 - val_COUNT_LINE_acc: 0.9972\n",
      "Epoch 39/100\n",
      "458/457 [==============================] - 179s 391ms/step - loss: 0.0283 - REGION_loss: 0.0061 - STATE_loss: 0.0046 - COUNT_LINE_loss: 0.0036 - REGION_acc: 0.9989 - STATE_acc: 0.9989 - COUNT_LINE_acc: 0.9990 - val_loss: 0.0662 - val_REGION_loss: 0.0208 - val_STATE_loss: 0.0198 - val_COUNT_LINE_loss: 0.0116 - val_REGION_acc: 0.9950 - val_STATE_acc: 0.9949 - val_COUNT_LINE_acc: 0.9967\n",
      "Epoch 40/100\n",
      "458/457 [==============================] - 190s 414ms/step - loss: 0.0274 - REGION_loss: 0.0067 - STATE_loss: 0.0041 - COUNT_LINE_loss: 0.0026 - REGION_acc: 0.9985 - STATE_acc: 0.9990 - COUNT_LINE_acc: 0.9995 - val_loss: 0.0580 - val_REGION_loss: 0.0159 - val_STATE_loss: 0.0185 - val_COUNT_LINE_loss: 0.0097 - val_REGION_acc: 0.9961 - val_STATE_acc: 0.9951 - val_COUNT_LINE_acc: 0.9972\n",
      "Epoch 41/100\n"
     ]
    },
    {
     "name": "stdout",
     "output_type": "stream",
     "text": [
      "458/457 [==============================] - 185s 403ms/step - loss: 0.0254 - REGION_loss: 0.0059 - STATE_loss: 0.0035 - COUNT_LINE_loss: 0.0021 - REGION_acc: 0.9987 - STATE_acc: 0.9991 - COUNT_LINE_acc: 0.9996 - val_loss: 0.0605 - val_REGION_loss: 0.0175 - val_STATE_loss: 0.0165 - val_COUNT_LINE_loss: 0.0126 - val_REGION_acc: 0.9949 - val_STATE_acc: 0.9958 - val_COUNT_LINE_acc: 0.9968\n",
      "Epoch 42/100\n",
      "458/457 [==============================] - 174s 379ms/step - loss: 0.0270 - REGION_loss: 0.0062 - STATE_loss: 0.0041 - COUNT_LINE_loss: 0.0028 - REGION_acc: 0.9986 - STATE_acc: 0.9991 - COUNT_LINE_acc: 0.9995 - val_loss: 0.0717 - val_REGION_loss: 0.0241 - val_STATE_loss: 0.0194 - val_COUNT_LINE_loss: 0.0143 - val_REGION_acc: 0.9950 - val_STATE_acc: 0.9946 - val_COUNT_LINE_acc: 0.9955\n",
      "Epoch 43/100\n",
      "458/457 [==============================] - 168s 366ms/step - loss: 0.0252 - REGION_loss: 0.0055 - STATE_loss: 0.0036 - COUNT_LINE_loss: 0.0023 - REGION_acc: 0.9988 - STATE_acc: 0.9991 - COUNT_LINE_acc: 0.9996 - val_loss: 0.0685 - val_REGION_loss: 0.0214 - val_STATE_loss: 0.0207 - val_COUNT_LINE_loss: 0.0126 - val_REGION_acc: 0.9947 - val_STATE_acc: 0.9953 - val_COUNT_LINE_acc: 0.9965\n",
      "Epoch 44/100\n",
      "458/457 [==============================] - 181s 395ms/step - loss: 0.0247 - REGION_loss: 0.0052 - STATE_loss: 0.0029 - COUNT_LINE_loss: 0.0028 - REGION_acc: 0.9990 - STATE_acc: 0.9994 - COUNT_LINE_acc: 0.9993 - val_loss: 0.0703 - val_REGION_loss: 0.0239 - val_STATE_loss: 0.0191 - val_COUNT_LINE_loss: 0.0136 - val_REGION_acc: 0.9946 - val_STATE_acc: 0.9949 - val_COUNT_LINE_acc: 0.9963\n",
      "Epoch 45/100\n",
      "458/457 [==============================] - 173s 377ms/step - loss: 0.0244 - REGION_loss: 0.0051 - STATE_loss: 0.0034 - COUNT_LINE_loss: 0.0022 - REGION_acc: 0.9993 - STATE_acc: 0.9992 - COUNT_LINE_acc: 0.9996 - val_loss: 0.0626 - val_REGION_loss: 0.0190 - val_STATE_loss: 0.0191 - val_COUNT_LINE_loss: 0.0107 - val_REGION_acc: 0.9954 - val_STATE_acc: 0.9950 - val_COUNT_LINE_acc: 0.9972\n",
      "Epoch 46/100\n",
      "458/457 [==============================] - 174s 380ms/step - loss: 0.0242 - REGION_loss: 0.0051 - STATE_loss: 0.0033 - COUNT_LINE_loss: 0.0022 - REGION_acc: 0.9990 - STATE_acc: 0.9991 - COUNT_LINE_acc: 0.9995 - val_loss: 0.0617 - val_REGION_loss: 0.0183 - val_STATE_loss: 0.0168 - val_COUNT_LINE_loss: 0.0130 - val_REGION_acc: 0.9949 - val_STATE_acc: 0.9957 - val_COUNT_LINE_acc: 0.9966\n",
      "Epoch 47/100\n",
      "458/457 [==============================] - 169s 368ms/step - loss: 0.0254 - REGION_loss: 0.0059 - STATE_loss: 0.0038 - COUNT_LINE_loss: 0.0020 - REGION_acc: 0.9986 - STATE_acc: 0.9992 - COUNT_LINE_acc: 0.9998 - val_loss: 0.0647 - val_REGION_loss: 0.0211 - val_STATE_loss: 0.0188 - val_COUNT_LINE_loss: 0.0112 - val_REGION_acc: 0.9946 - val_STATE_acc: 0.9954 - val_COUNT_LINE_acc: 0.9970\n",
      "Epoch 48/100\n",
      "458/457 [==============================] - 178s 388ms/step - loss: 0.0256 - REGION_loss: 0.0066 - STATE_loss: 0.0030 - COUNT_LINE_loss: 0.0024 - REGION_acc: 0.9987 - STATE_acc: 0.9994 - COUNT_LINE_acc: 0.9995 - val_loss: 0.0676 - val_REGION_loss: 0.0196 - val_STATE_loss: 0.0223 - val_COUNT_LINE_loss: 0.0122 - val_REGION_acc: 0.9951 - val_STATE_acc: 0.9955 - val_COUNT_LINE_acc: 0.9967\n",
      "Epoch 49/100\n",
      "458/457 [==============================] - 172s 376ms/step - loss: 0.0231 - REGION_loss: 0.0045 - STATE_loss: 0.0031 - COUNT_LINE_loss: 0.0019 - REGION_acc: 0.9990 - STATE_acc: 0.9990 - COUNT_LINE_acc: 0.9996 - val_loss: 0.0635 - val_REGION_loss: 0.0187 - val_STATE_loss: 0.0184 - val_COUNT_LINE_loss: 0.0129 - val_REGION_acc: 0.9959 - val_STATE_acc: 0.9957 - val_COUNT_LINE_acc: 0.9963\n",
      "Epoch 50/100\n",
      "458/457 [==============================] - 183s 400ms/step - loss: 0.0249 - REGION_loss: 0.0056 - STATE_loss: 0.0035 - COUNT_LINE_loss: 0.0023 - REGION_acc: 0.9988 - STATE_acc: 0.9991 - COUNT_LINE_acc: 0.9996 - val_loss: 0.0659 - val_REGION_loss: 0.0210 - val_STATE_loss: 0.0162 - val_COUNT_LINE_loss: 0.0152 - val_REGION_acc: 0.9958 - val_STATE_acc: 0.9965 - val_COUNT_LINE_acc: 0.9965\n",
      "Epoch 51/100\n",
      "458/457 [==============================] - 183s 400ms/step - loss: 0.0253 - REGION_loss: 0.0055 - STATE_loss: 0.0033 - COUNT_LINE_loss: 0.0030 - REGION_acc: 0.9988 - STATE_acc: 0.9991 - COUNT_LINE_acc: 0.9994 - val_loss: 0.0644 - val_REGION_loss: 0.0202 - val_STATE_loss: 0.0198 - val_COUNT_LINE_loss: 0.0110 - val_REGION_acc: 0.9951 - val_STATE_acc: 0.9953 - val_COUNT_LINE_acc: 0.9971\n",
      "Epoch 52/100\n",
      "458/457 [==============================] - 176s 384ms/step - loss: 0.0233 - REGION_loss: 0.0045 - STATE_loss: 0.0033 - COUNT_LINE_loss: 0.0021 - REGION_acc: 0.9992 - STATE_acc: 0.9994 - COUNT_LINE_acc: 0.9996 - val_loss: 0.0564 - val_REGION_loss: 0.0146 - val_STATE_loss: 0.0170 - val_COUNT_LINE_loss: 0.0113 - val_REGION_acc: 0.9965 - val_STATE_acc: 0.9950 - val_COUNT_LINE_acc: 0.9968\n",
      "Epoch 53/100\n",
      "458/457 [==============================] - 177s 387ms/step - loss: 0.0232 - REGION_loss: 0.0052 - STATE_loss: 0.0030 - COUNT_LINE_loss: 0.0015 - REGION_acc: 0.9990 - STATE_acc: 0.9993 - COUNT_LINE_acc: 0.9997 - val_loss: 0.0637 - val_REGION_loss: 0.0223 - val_STATE_loss: 0.0168 - val_COUNT_LINE_loss: 0.0110 - val_REGION_acc: 0.9951 - val_STATE_acc: 0.9962 - val_COUNT_LINE_acc: 0.9974\n",
      "Epoch 54/100\n",
      "458/457 [==============================] - 177s 387ms/step - loss: 0.0241 - REGION_loss: 0.0052 - STATE_loss: 0.0032 - COUNT_LINE_loss: 0.0022 - REGION_acc: 0.9988 - STATE_acc: 0.9991 - COUNT_LINE_acc: 0.9996 - val_loss: 0.0655 - val_REGION_loss: 0.0192 - val_STATE_loss: 0.0218 - val_COUNT_LINE_loss: 0.0111 - val_REGION_acc: 0.9955 - val_STATE_acc: 0.9946 - val_COUNT_LINE_acc: 0.9967\n",
      "Epoch 55/100\n",
      "458/457 [==============================] - 176s 384ms/step - loss: 0.0263 - REGION_loss: 0.0063 - STATE_loss: 0.0034 - COUNT_LINE_loss: 0.0031 - REGION_acc: 0.9987 - STATE_acc: 0.9991 - COUNT_LINE_acc: 0.9993 - val_loss: 0.0493 - val_REGION_loss: 0.0145 - val_STATE_loss: 0.0122 - val_COUNT_LINE_loss: 0.0092 - val_REGION_acc: 0.9965 - val_STATE_acc: 0.9972 - val_COUNT_LINE_acc: 0.9970\n",
      "Epoch 56/100\n",
      "458/457 [==============================] - 177s 387ms/step - loss: 0.0251 - REGION_loss: 0.0058 - STATE_loss: 0.0034 - COUNT_LINE_loss: 0.0025 - REGION_acc: 0.9987 - STATE_acc: 0.9991 - COUNT_LINE_acc: 0.9996 - val_loss: 0.0672 - val_REGION_loss: 0.0222 - val_STATE_loss: 0.0186 - val_COUNT_LINE_loss: 0.0130 - val_REGION_acc: 0.9950 - val_STATE_acc: 0.9953 - val_COUNT_LINE_acc: 0.9965\n",
      "Epoch 57/100\n",
      "458/457 [==============================] - 182s 398ms/step - loss: 0.0229 - REGION_loss: 0.0044 - STATE_loss: 0.0030 - COUNT_LINE_loss: 0.0020 - REGION_acc: 0.9992 - STATE_acc: 0.9994 - COUNT_LINE_acc: 0.9996 - val_loss: 0.0700 - val_REGION_loss: 0.0207 - val_STATE_loss: 0.0222 - val_COUNT_LINE_loss: 0.0137 - val_REGION_acc: 0.9947 - val_STATE_acc: 0.9947 - val_COUNT_LINE_acc: 0.9962\n",
      "Epoch 58/100\n",
      "458/457 [==============================] - 182s 398ms/step - loss: 0.0232 - REGION_loss: 0.0048 - STATE_loss: 0.0033 - COUNT_LINE_loss: 0.0017 - REGION_acc: 0.9993 - STATE_acc: 0.9993 - COUNT_LINE_acc: 0.9997 - val_loss: 0.0627 - val_REGION_loss: 0.0198 - val_STATE_loss: 0.0173 - val_COUNT_LINE_loss: 0.0121 - val_REGION_acc: 0.9954 - val_STATE_acc: 0.9958 - val_COUNT_LINE_acc: 0.9970\n",
      "Epoch 59/100\n",
      "458/457 [==============================] - 184s 402ms/step - loss: 0.0248 - REGION_loss: 0.0057 - STATE_loss: 0.0033 - COUNT_LINE_loss: 0.0024 - REGION_acc: 0.9987 - STATE_acc: 0.9990 - COUNT_LINE_acc: 0.9995 - val_loss: 0.0638 - val_REGION_loss: 0.0229 - val_STATE_loss: 0.0164 - val_COUNT_LINE_loss: 0.0111 - val_REGION_acc: 0.9946 - val_STATE_acc: 0.9962 - val_COUNT_LINE_acc: 0.9974\n",
      "Epoch 60/100\n",
      "458/457 [==============================] - 173s 379ms/step - loss: 0.0243 - REGION_loss: 0.0052 - STATE_loss: 0.0036 - COUNT_LINE_loss: 0.0021 - REGION_acc: 0.9990 - STATE_acc: 0.9991 - COUNT_LINE_acc: 0.9996 - val_loss: 0.0564 - val_REGION_loss: 0.0137 - val_STATE_loss: 0.0185 - val_COUNT_LINE_loss: 0.0109 - val_REGION_acc: 0.9962 - val_STATE_acc: 0.9959 - val_COUNT_LINE_acc: 0.9971\n",
      "Epoch 61/100\n"
     ]
    },
    {
     "name": "stdout",
     "output_type": "stream",
     "text": [
      "458/457 [==============================] - 169s 368ms/step - loss: 0.0263 - REGION_loss: 0.0060 - STATE_loss: 0.0037 - COUNT_LINE_loss: 0.0031 - REGION_acc: 0.9986 - STATE_acc: 0.9991 - COUNT_LINE_acc: 0.9994 - val_loss: 0.0820 - val_REGION_loss: 0.0262 - val_STATE_loss: 0.0244 - val_COUNT_LINE_loss: 0.0180 - val_REGION_acc: 0.9942 - val_STATE_acc: 0.9940 - val_COUNT_LINE_acc: 0.9954\n",
      "Epoch 62/100\n",
      "458/457 [==============================] - 168s 366ms/step - loss: 0.0238 - REGION_loss: 0.0051 - STATE_loss: 0.0032 - COUNT_LINE_loss: 0.0021 - REGION_acc: 0.9989 - STATE_acc: 0.9992 - COUNT_LINE_acc: 0.9996 - val_loss: 0.0626 - val_REGION_loss: 0.0195 - val_STATE_loss: 0.0175 - val_COUNT_LINE_loss: 0.0121 - val_REGION_acc: 0.9957 - val_STATE_acc: 0.9955 - val_COUNT_LINE_acc: 0.9971\n",
      "Epoch 63/100\n",
      "458/457 [==============================] - 167s 366ms/step - loss: 0.0243 - REGION_loss: 0.0051 - STATE_loss: 0.0037 - COUNT_LINE_loss: 0.0022 - REGION_acc: 0.9991 - STATE_acc: 0.9990 - COUNT_LINE_acc: 0.9995 - val_loss: 0.0756 - val_REGION_loss: 0.0238 - val_STATE_loss: 0.0221 - val_COUNT_LINE_loss: 0.0163 - val_REGION_acc: 0.9944 - val_STATE_acc: 0.9946 - val_COUNT_LINE_acc: 0.9963\n",
      "Epoch 64/100\n",
      "458/457 [==============================] - 168s 368ms/step - loss: 0.0228 - REGION_loss: 0.0047 - STATE_loss: 0.0029 - COUNT_LINE_loss: 0.0019 - REGION_acc: 0.9992 - STATE_acc: 0.9992 - COUNT_LINE_acc: 0.9997 - val_loss: 0.0607 - val_REGION_loss: 0.0169 - val_STATE_loss: 0.0184 - val_COUNT_LINE_loss: 0.0120 - val_REGION_acc: 0.9962 - val_STATE_acc: 0.9958 - val_COUNT_LINE_acc: 0.9970\n",
      "Epoch 65/100\n",
      "458/457 [==============================] - 169s 369ms/step - loss: 0.0247 - REGION_loss: 0.0053 - STATE_loss: 0.0038 - COUNT_LINE_loss: 0.0022 - REGION_acc: 0.9990 - STATE_acc: 0.9991 - COUNT_LINE_acc: 0.9996 - val_loss: 0.0666 - val_REGION_loss: 0.0226 - val_STATE_loss: 0.0178 - val_COUNT_LINE_loss: 0.0128 - val_REGION_acc: 0.9946 - val_STATE_acc: 0.9954 - val_COUNT_LINE_acc: 0.9961\n",
      "Epoch 66/100\n",
      "458/457 [==============================] - 169s 370ms/step - loss: 0.0227 - REGION_loss: 0.0051 - STATE_loss: 0.0026 - COUNT_LINE_loss: 0.0016 - REGION_acc: 0.9990 - STATE_acc: 0.9995 - COUNT_LINE_acc: 0.9997 - val_loss: 0.0590 - val_REGION_loss: 0.0173 - val_STATE_loss: 0.0172 - val_COUNT_LINE_loss: 0.0112 - val_REGION_acc: 0.9957 - val_STATE_acc: 0.9957 - val_COUNT_LINE_acc: 0.9966\n",
      "Epoch 67/100\n",
      "458/457 [==============================] - 167s 365ms/step - loss: 0.0244 - REGION_loss: 0.0054 - STATE_loss: 0.0034 - COUNT_LINE_loss: 0.0022 - REGION_acc: 0.9989 - STATE_acc: 0.9992 - COUNT_LINE_acc: 0.9996 - val_loss: 0.0606 - val_REGION_loss: 0.0189 - val_STATE_loss: 0.0187 - val_COUNT_LINE_loss: 0.0096 - val_REGION_acc: 0.9961 - val_STATE_acc: 0.9950 - val_COUNT_LINE_acc: 0.9965\n",
      "Epoch 68/100\n",
      "458/457 [==============================] - 168s 367ms/step - loss: 0.0252 - REGION_loss: 0.0050 - STATE_loss: 0.0042 - COUNT_LINE_loss: 0.0027 - REGION_acc: 0.9990 - STATE_acc: 0.9989 - COUNT_LINE_acc: 0.9993 - val_loss: 0.0728 - val_REGION_loss: 0.0223 - val_STATE_loss: 0.0216 - val_COUNT_LINE_loss: 0.0155 - val_REGION_acc: 0.9947 - val_STATE_acc: 0.9951 - val_COUNT_LINE_acc: 0.9966\n",
      "Epoch 69/100\n",
      "458/457 [==============================] - 167s 364ms/step - loss: 0.0231 - REGION_loss: 0.0042 - STATE_loss: 0.0034 - COUNT_LINE_loss: 0.0021 - REGION_acc: 0.9991 - STATE_acc: 0.9989 - COUNT_LINE_acc: 0.9995 - val_loss: 0.0538 - val_REGION_loss: 0.0169 - val_STATE_loss: 0.0151 - val_COUNT_LINE_loss: 0.0084 - val_REGION_acc: 0.9963 - val_STATE_acc: 0.9965 - val_COUNT_LINE_acc: 0.9971\n",
      "Epoch 70/100\n",
      "458/457 [==============================] - 176s 385ms/step - loss: 0.0242 - REGION_loss: 0.0047 - STATE_loss: 0.0037 - COUNT_LINE_loss: 0.0024 - REGION_acc: 0.9991 - STATE_acc: 0.9990 - COUNT_LINE_acc: 0.9995 - val_loss: 0.0690 - val_REGION_loss: 0.0236 - val_STATE_loss: 0.0176 - val_COUNT_LINE_loss: 0.0144 - val_REGION_acc: 0.9950 - val_STATE_acc: 0.9961 - val_COUNT_LINE_acc: 0.9958\n",
      "Epoch 71/100\n",
      "458/457 [==============================] - 171s 374ms/step - loss: 0.0226 - REGION_loss: 0.0043 - STATE_loss: 0.0030 - COUNT_LINE_loss: 0.0018 - REGION_acc: 0.9991 - STATE_acc: 0.9991 - COUNT_LINE_acc: 0.9998 - val_loss: 0.0588 - val_REGION_loss: 0.0155 - val_STATE_loss: 0.0207 - val_COUNT_LINE_loss: 0.0092 - val_REGION_acc: 0.9965 - val_STATE_acc: 0.9949 - val_COUNT_LINE_acc: 0.9965\n",
      "Epoch 72/100\n",
      "458/457 [==============================] - 173s 378ms/step - loss: 0.0239 - REGION_loss: 0.0050 - STATE_loss: 0.0035 - COUNT_LINE_loss: 0.0020 - REGION_acc: 0.9990 - STATE_acc: 0.9992 - COUNT_LINE_acc: 0.9997 - val_loss: 0.0724 - val_REGION_loss: 0.0219 - val_STATE_loss: 0.0218 - val_COUNT_LINE_loss: 0.0152 - val_REGION_acc: 0.9947 - val_STATE_acc: 0.9944 - val_COUNT_LINE_acc: 0.9955\n",
      "Epoch 73/100\n",
      "458/457 [==============================] - 171s 373ms/step - loss: 0.0227 - REGION_loss: 0.0048 - STATE_loss: 0.0028 - COUNT_LINE_loss: 0.0016 - REGION_acc: 0.9991 - STATE_acc: 0.9992 - COUNT_LINE_acc: 0.9997 - val_loss: 0.0583 - val_REGION_loss: 0.0192 - val_STATE_loss: 0.0158 - val_COUNT_LINE_loss: 0.0099 - val_REGION_acc: 0.9957 - val_STATE_acc: 0.9961 - val_COUNT_LINE_acc: 0.9974\n",
      "Epoch 74/100\n",
      "458/457 [==============================] - 171s 373ms/step - loss: 0.0230 - REGION_loss: 0.0043 - STATE_loss: 0.0032 - COUNT_LINE_loss: 0.0021 - REGION_acc: 0.9992 - STATE_acc: 0.9992 - COUNT_LINE_acc: 0.9996 - val_loss: 0.0693 - val_REGION_loss: 0.0190 - val_STATE_loss: 0.0215 - val_COUNT_LINE_loss: 0.0154 - val_REGION_acc: 0.9953 - val_STATE_acc: 0.9945 - val_COUNT_LINE_acc: 0.9959\n",
      "Epoch 75/100\n",
      "458/457 [==============================] - 170s 372ms/step - loss: 0.0231 - REGION_loss: 0.0042 - STATE_loss: 0.0031 - COUNT_LINE_loss: 0.0023 - REGION_acc: 0.9992 - STATE_acc: 0.9992 - COUNT_LINE_acc: 0.9995 - val_loss: 0.0603 - val_REGION_loss: 0.0233 - val_STATE_loss: 0.0151 - val_COUNT_LINE_loss: 0.0085 - val_REGION_acc: 0.9942 - val_STATE_acc: 0.9961 - val_COUNT_LINE_acc: 0.9974\n",
      "Epoch 76/100\n",
      "458/457 [==============================] - 176s 384ms/step - loss: 0.0228 - REGION_loss: 0.0047 - STATE_loss: 0.0030 - COUNT_LINE_loss: 0.0018 - REGION_acc: 0.9991 - STATE_acc: 0.9992 - COUNT_LINE_acc: 0.9997 - val_loss: 0.0632 - val_REGION_loss: 0.0178 - val_STATE_loss: 0.0182 - val_COUNT_LINE_loss: 0.0137 - val_REGION_acc: 0.9957 - val_STATE_acc: 0.9958 - val_COUNT_LINE_acc: 0.9963\n",
      "Epoch 77/100\n",
      "458/457 [==============================] - 169s 370ms/step - loss: 0.0229 - REGION_loss: 0.0043 - STATE_loss: 0.0036 - COUNT_LINE_loss: 0.0016 - REGION_acc: 0.9990 - STATE_acc: 0.9991 - COUNT_LINE_acc: 0.9997 - val_loss: 0.0699 - val_REGION_loss: 0.0225 - val_STATE_loss: 0.0204 - val_COUNT_LINE_loss: 0.0135 - val_REGION_acc: 0.9951 - val_STATE_acc: 0.9950 - val_COUNT_LINE_acc: 0.9962\n",
      "Epoch 78/100\n",
      "458/457 [==============================] - 169s 369ms/step - loss: 0.0250 - REGION_loss: 0.0060 - STATE_loss: 0.0033 - COUNT_LINE_loss: 0.0023 - REGION_acc: 0.9989 - STATE_acc: 0.9991 - COUNT_LINE_acc: 0.9995 - val_loss: 0.0624 - val_REGION_loss: 0.0182 - val_STATE_loss: 0.0187 - val_COUNT_LINE_loss: 0.0122 - val_REGION_acc: 0.9955 - val_STATE_acc: 0.9955 - val_COUNT_LINE_acc: 0.9963\n",
      "Epoch 79/100\n",
      "458/457 [==============================] - 168s 367ms/step - loss: 0.0235 - REGION_loss: 0.0046 - STATE_loss: 0.0033 - COUNT_LINE_loss: 0.0021 - REGION_acc: 0.9992 - STATE_acc: 0.9991 - COUNT_LINE_acc: 0.9996 - val_loss: 0.0650 - val_REGION_loss: 0.0213 - val_STATE_loss: 0.0167 - val_COUNT_LINE_loss: 0.0136 - val_REGION_acc: 0.9951 - val_STATE_acc: 0.9957 - val_COUNT_LINE_acc: 0.9965\n",
      "Epoch 80/100\n",
      "458/457 [==============================] - 169s 370ms/step - loss: 0.0254 - REGION_loss: 0.0058 - STATE_loss: 0.0041 - COUNT_LINE_loss: 0.0022 - REGION_acc: 0.9989 - STATE_acc: 0.9991 - COUNT_LINE_acc: 0.9996 - val_loss: 0.0652 - val_REGION_loss: 0.0221 - val_STATE_loss: 0.0181 - val_COUNT_LINE_loss: 0.0115 - val_REGION_acc: 0.9955 - val_STATE_acc: 0.9954 - val_COUNT_LINE_acc: 0.9971\n",
      "Epoch 81/100\n"
     ]
    },
    {
     "name": "stdout",
     "output_type": "stream",
     "text": [
      "458/457 [==============================] - 168s 368ms/step - loss: 0.0234 - REGION_loss: 0.0049 - STATE_loss: 0.0030 - COUNT_LINE_loss: 0.0020 - REGION_acc: 0.9990 - STATE_acc: 0.9993 - COUNT_LINE_acc: 0.9996 - val_loss: 0.0651 - val_REGION_loss: 0.0178 - val_STATE_loss: 0.0197 - val_COUNT_LINE_loss: 0.0142 - val_REGION_acc: 0.9966 - val_STATE_acc: 0.9949 - val_COUNT_LINE_acc: 0.9961\n",
      "Epoch 82/100\n",
      "458/457 [==============================] - 171s 373ms/step - loss: 0.0247 - REGION_loss: 0.0050 - STATE_loss: 0.0039 - COUNT_LINE_loss: 0.0024 - REGION_acc: 0.9991 - STATE_acc: 0.9991 - COUNT_LINE_acc: 0.9996 - val_loss: 0.0635 - val_REGION_loss: 0.0206 - val_STATE_loss: 0.0183 - val_COUNT_LINE_loss: 0.0112 - val_REGION_acc: 0.9957 - val_STATE_acc: 0.9959 - val_COUNT_LINE_acc: 0.9968\n",
      "Epoch 83/100\n",
      "458/457 [==============================] - 173s 378ms/step - loss: 0.0226 - REGION_loss: 0.0046 - STATE_loss: 0.0029 - COUNT_LINE_loss: 0.0017 - REGION_acc: 0.9990 - STATE_acc: 0.9992 - COUNT_LINE_acc: 0.9997 - val_loss: 0.0664 - val_REGION_loss: 0.0229 - val_STATE_loss: 0.0183 - val_COUNT_LINE_loss: 0.0118 - val_REGION_acc: 0.9945 - val_STATE_acc: 0.9951 - val_COUNT_LINE_acc: 0.9965\n",
      "Epoch 84/100\n",
      "458/457 [==============================] - 168s 367ms/step - loss: 0.0237 - REGION_loss: 0.0046 - STATE_loss: 0.0034 - COUNT_LINE_loss: 0.0023 - REGION_acc: 0.9992 - STATE_acc: 0.9992 - COUNT_LINE_acc: 0.9995 - val_loss: 0.0611 - val_REGION_loss: 0.0170 - val_STATE_loss: 0.0189 - val_COUNT_LINE_loss: 0.0119 - val_REGION_acc: 0.9963 - val_STATE_acc: 0.9959 - val_COUNT_LINE_acc: 0.9974\n",
      "Epoch 85/100\n",
      "458/457 [==============================] - 172s 376ms/step - loss: 0.0255 - REGION_loss: 0.0063 - STATE_loss: 0.0037 - COUNT_LINE_loss: 0.0021 - REGION_acc: 0.9986 - STATE_acc: 0.9992 - COUNT_LINE_acc: 0.9997 - val_loss: 0.0574 - val_REGION_loss: 0.0163 - val_STATE_loss: 0.0171 - val_COUNT_LINE_loss: 0.0106 - val_REGION_acc: 0.9961 - val_STATE_acc: 0.9961 - val_COUNT_LINE_acc: 0.9971\n",
      "Epoch 86/100\n",
      "458/457 [==============================] - 171s 374ms/step - loss: 0.0242 - REGION_loss: 0.0049 - STATE_loss: 0.0035 - COUNT_LINE_loss: 0.0023 - REGION_acc: 0.9990 - STATE_acc: 0.9992 - COUNT_LINE_acc: 0.9995 - val_loss: 0.0786 - val_REGION_loss: 0.0282 - val_STATE_loss: 0.0218 - val_COUNT_LINE_loss: 0.0153 - val_REGION_acc: 0.9941 - val_STATE_acc: 0.9947 - val_COUNT_LINE_acc: 0.9967\n",
      "Epoch 87/100\n",
      "458/457 [==============================] - 170s 372ms/step - loss: 0.0243 - REGION_loss: 0.0049 - STATE_loss: 0.0037 - COUNT_LINE_loss: 0.0023 - REGION_acc: 0.9988 - STATE_acc: 0.9991 - COUNT_LINE_acc: 0.9996 - val_loss: 0.0576 - val_REGION_loss: 0.0175 - val_STATE_loss: 0.0164 - val_COUNT_LINE_loss: 0.0103 - val_REGION_acc: 0.9959 - val_STATE_acc: 0.9955 - val_COUNT_LINE_acc: 0.9968\n",
      "Epoch 88/100\n",
      "458/457 [==============================] - 172s 376ms/step - loss: 0.0242 - REGION_loss: 0.0050 - STATE_loss: 0.0036 - COUNT_LINE_loss: 0.0022 - REGION_acc: 0.9991 - STATE_acc: 0.9990 - COUNT_LINE_acc: 0.9996 - val_loss: 0.0598 - val_REGION_loss: 0.0164 - val_STATE_loss: 0.0188 - val_COUNT_LINE_loss: 0.0112 - val_REGION_acc: 0.9957 - val_STATE_acc: 0.9955 - val_COUNT_LINE_acc: 0.9968\n",
      "Epoch 89/100\n",
      "458/457 [==============================] - 168s 367ms/step - loss: 0.0238 - REGION_loss: 0.0045 - STATE_loss: 0.0036 - COUNT_LINE_loss: 0.0023 - REGION_acc: 0.9993 - STATE_acc: 0.9991 - COUNT_LINE_acc: 0.9994 - val_loss: 0.0672 - val_REGION_loss: 0.0226 - val_STATE_loss: 0.0184 - val_COUNT_LINE_loss: 0.0128 - val_REGION_acc: 0.9947 - val_STATE_acc: 0.9955 - val_COUNT_LINE_acc: 0.9965\n",
      "Epoch 90/100\n",
      "458/457 [==============================] - 173s 377ms/step - loss: 0.0266 - REGION_loss: 0.0061 - STATE_loss: 0.0042 - COUNT_LINE_loss: 0.0029 - REGION_acc: 0.9988 - STATE_acc: 0.9989 - COUNT_LINE_acc: 0.9994 - val_loss: 0.0700 - val_REGION_loss: 0.0202 - val_STATE_loss: 0.0213 - val_COUNT_LINE_loss: 0.0151 - val_REGION_acc: 0.9951 - val_STATE_acc: 0.9947 - val_COUNT_LINE_acc: 0.9961\n",
      "Epoch 91/100\n",
      "458/457 [==============================] - 171s 372ms/step - loss: 0.0246 - REGION_loss: 0.0055 - STATE_loss: 0.0034 - COUNT_LINE_loss: 0.0023 - REGION_acc: 0.9987 - STATE_acc: 0.9992 - COUNT_LINE_acc: 0.9996 - val_loss: 0.0521 - val_REGION_loss: 0.0167 - val_STATE_loss: 0.0146 - val_COUNT_LINE_loss: 0.0073 - val_REGION_acc: 0.9961 - val_STATE_acc: 0.9962 - val_COUNT_LINE_acc: 0.9975\n",
      "Epoch 92/100\n",
      "458/457 [==============================] - 170s 371ms/step - loss: 0.0245 - REGION_loss: 0.0050 - STATE_loss: 0.0039 - COUNT_LINE_loss: 0.0022 - REGION_acc: 0.9989 - STATE_acc: 0.9991 - COUNT_LINE_acc: 0.9996 - val_loss: 0.0734 - val_REGION_loss: 0.0234 - val_STATE_loss: 0.0204 - val_COUNT_LINE_loss: 0.0161 - val_REGION_acc: 0.9942 - val_STATE_acc: 0.9953 - val_COUNT_LINE_acc: 0.9961\n",
      "Epoch 93/100\n",
      "458/457 [==============================] - 166s 362ms/step - loss: 0.0246 - REGION_loss: 0.0050 - STATE_loss: 0.0039 - COUNT_LINE_loss: 0.0023 - REGION_acc: 0.9990 - STATE_acc: 0.9991 - COUNT_LINE_acc: 0.9996 - val_loss: 0.0733 - val_REGION_loss: 0.0264 - val_STATE_loss: 0.0203 - val_COUNT_LINE_loss: 0.0131 - val_REGION_acc: 0.9942 - val_STATE_acc: 0.9955 - val_COUNT_LINE_acc: 0.9965\n",
      "Epoch 94/100\n",
      "458/457 [==============================] - 168s 367ms/step - loss: 0.0249 - REGION_loss: 0.0057 - STATE_loss: 0.0039 - COUNT_LINE_loss: 0.0019 - REGION_acc: 0.9989 - STATE_acc: 0.9989 - COUNT_LINE_acc: 0.9997 - val_loss: 0.0619 - val_REGION_loss: 0.0176 - val_STATE_loss: 0.0201 - val_COUNT_LINE_loss: 0.0108 - val_REGION_acc: 0.9953 - val_STATE_acc: 0.9954 - val_COUNT_LINE_acc: 0.9968\n",
      "Epoch 95/100\n",
      "458/457 [==============================] - 170s 371ms/step - loss: 0.0238 - REGION_loss: 0.0045 - STATE_loss: 0.0036 - COUNT_LINE_loss: 0.0022 - REGION_acc: 0.9991 - STATE_acc: 0.9991 - COUNT_LINE_acc: 0.9994 - val_loss: 0.0541 - val_REGION_loss: 0.0168 - val_STATE_loss: 0.0152 - val_COUNT_LINE_loss: 0.0088 - val_REGION_acc: 0.9954 - val_STATE_acc: 0.9959 - val_COUNT_LINE_acc: 0.9967\n",
      "Epoch 96/100\n",
      "458/457 [==============================] - 167s 364ms/step - loss: 0.0251 - REGION_loss: 0.0052 - STATE_loss: 0.0038 - COUNT_LINE_loss: 0.0026 - REGION_acc: 0.9990 - STATE_acc: 0.9990 - COUNT_LINE_acc: 0.9996 - val_loss: 0.0601 - val_REGION_loss: 0.0172 - val_STATE_loss: 0.0182 - val_COUNT_LINE_loss: 0.0113 - val_REGION_acc: 0.9958 - val_STATE_acc: 0.9957 - val_COUNT_LINE_acc: 0.9966\n",
      "Epoch 97/100\n",
      "458/457 [==============================] - 167s 365ms/step - loss: 0.0226 - REGION_loss: 0.0046 - STATE_loss: 0.0027 - COUNT_LINE_loss: 0.0019 - REGION_acc: 0.9991 - STATE_acc: 0.9996 - COUNT_LINE_acc: 0.9996 - val_loss: 0.0678 - val_REGION_loss: 0.0210 - val_STATE_loss: 0.0211 - val_COUNT_LINE_loss: 0.0123 - val_REGION_acc: 0.9949 - val_STATE_acc: 0.9954 - val_COUNT_LINE_acc: 0.9971\n",
      "Epoch 98/100\n",
      "458/457 [==============================] - 166s 363ms/step - loss: 0.0228 - REGION_loss: 0.0047 - STATE_loss: 0.0031 - COUNT_LINE_loss: 0.0016 - REGION_acc: 0.9990 - STATE_acc: 0.9992 - COUNT_LINE_acc: 0.9998 - val_loss: 0.0633 - val_REGION_loss: 0.0239 - val_STATE_loss: 0.0148 - val_COUNT_LINE_loss: 0.0112 - val_REGION_acc: 0.9949 - val_STATE_acc: 0.9962 - val_COUNT_LINE_acc: 0.9968\n",
      "Epoch 99/100\n",
      "458/457 [==============================] - 169s 369ms/step - loss: 0.0230 - REGION_loss: 0.0045 - STATE_loss: 0.0032 - COUNT_LINE_loss: 0.0019 - REGION_acc: 0.9991 - STATE_acc: 0.9991 - COUNT_LINE_acc: 0.9997 - val_loss: 0.0659 - val_REGION_loss: 0.0172 - val_STATE_loss: 0.0212 - val_COUNT_LINE_loss: 0.0140 - val_REGION_acc: 0.9957 - val_STATE_acc: 0.9945 - val_COUNT_LINE_acc: 0.9966\n",
      "Epoch 100/100\n",
      "458/457 [==============================] - 168s 367ms/step - loss: 0.0245 - REGION_loss: 0.0054 - STATE_loss: 0.0038 - COUNT_LINE_loss: 0.0019 - REGION_acc: 0.9988 - STATE_acc: 0.9991 - COUNT_LINE_acc: 0.9996 - val_loss: 0.0781 - val_REGION_loss: 0.0253 - val_STATE_loss: 0.0231 - val_COUNT_LINE_loss: 0.0163 - val_REGION_acc: 0.9949 - val_STATE_acc: 0.9947 - val_COUNT_LINE_acc: 0.9958\n"
     ]
    }
   ],
   "source": [
    "# train\n",
    "model = numberClassificator.train(LOG_DIR, cnn=\"simple\")"
   ]
  },
  {
   "cell_type": "code",
   "execution_count": 7,
   "metadata": {},
   "outputs": [
    {
     "name": "stdout",
     "output_type": "stream",
     "text": [
      "test loss: 0.06200433138194455\n",
      "test loss: 0.017560282735322296    test loss: 0.022101840123675075       test loss: 0.008883426265503444\n",
      "test acc: 0.9952731092436975    test acc 0.9948792016806722      test acc 0.9972426470588235\n"
     ]
    },
    {
     "data": {
      "text/plain": [
       "(0.06200433138194455,\n",
       " 0.017560282735322296,\n",
       " 0.022101840123675075,\n",
       " 0.008883426265503444,\n",
       " 0.9952731092436975,\n",
       " 0.9948792016806722,\n",
       " 0.9972426470588235)"
      ]
     },
     "execution_count": 7,
     "metadata": {},
     "output_type": "execute_result"
    }
   ],
   "source": [
    "numberClassificator.test()"
   ]
  },
  {
   "cell_type": "code",
   "execution_count": 8,
   "metadata": {},
   "outputs": [],
   "source": [
    "RESULT_PATH = '/mnt/data/var/www/html2/js/nomeroff-net_2/models/numberplate_options_2019_05_21.h5'"
   ]
  },
  {
   "cell_type": "code",
   "execution_count": 8,
   "metadata": {},
   "outputs": [
    {
     "name": "stdout",
     "output_type": "stream",
     "text": [
      "model save to /mnt/data/var/www/html2/js/nomeroff-net_2/models/numberplate_options_2019_05_20.h5\n"
     ]
    }
   ],
   "source": [
    "numberClassificator.save(RESULT_PATH)\n",
    "#model = numberClassificator.load(RESULT_PATH)"
   ]
  },
  {
   "cell_type": "markdown",
   "metadata": {},
   "source": [
    "### Convert keras options .h5 model to .pb graph"
   ]
  },
  {
   "cell_type": "code",
   "execution_count": 9,
   "metadata": {},
   "outputs": [
    {
     "name": "stdout",
     "output_type": "stream",
     "text": [
      "OUTPUT: REGION/Softmax,STATE/Softmax,COUNT_LINE/Softmax\n",
      "INPUT: input_1\n",
      "__________________________________________________________________________________________________\n",
      "Layer (type)                    Output Shape         Param #     Connected to                     \n",
      "==================================================================================================\n",
      "input_1 (InputLayer)            (None, 64, 295, 3)   0                                            \n",
      "__________________________________________________________________________________________________\n",
      "conv2d_1 (Conv2D)               (None, 62, 293, 32)  896         input_1[0][0]                    \n",
      "__________________________________________________________________________________________________\n",
      "max_pooling2d_1 (MaxPooling2D)  (None, 31, 146, 32)  0           conv2d_1[0][0]                   \n",
      "__________________________________________________________________________________________________\n",
      "conv2d_2 (Conv2D)               (None, 29, 144, 64)  18496       max_pooling2d_1[0][0]            \n",
      "__________________________________________________________________________________________________\n",
      "max_pooling2d_2 (MaxPooling2D)  (None, 14, 72, 64)   0           conv2d_2[0][0]                   \n",
      "__________________________________________________________________________________________________\n",
      "conv2d_3 (Conv2D)               (None, 12, 70, 128)  73856       max_pooling2d_2[0][0]            \n",
      "__________________________________________________________________________________________________\n",
      "max_pooling2d_3 (MaxPooling2D)  (None, 6, 35, 128)   0           conv2d_3[0][0]                   \n",
      "__________________________________________________________________________________________________\n",
      "conv2d_4 (Conv2D)               (None, 4, 33, 128)   147584      max_pooling2d_3[0][0]            \n",
      "__________________________________________________________________________________________________\n",
      "max_pooling2d_4 (MaxPooling2D)  (None, 2, 16, 128)   0           conv2d_4[0][0]                   \n",
      "__________________________________________________________________________________________________\n",
      "flatten_1 (Flatten)             (None, 4096)         0           max_pooling2d_4[0][0]            \n",
      "__________________________________________________________________________________________________\n",
      "flatten_2 (Flatten)             (None, 4096)         0           max_pooling2d_4[0][0]            \n",
      "__________________________________________________________________________________________________\n",
      "flatten_3 (Flatten)             (None, 4096)         0           max_pooling2d_4[0][0]            \n",
      "__________________________________________________________________________________________________\n",
      "dropout_1 (Dropout)             (None, 4096)         0           flatten_1[0][0]                  \n",
      "__________________________________________________________________________________________________\n",
      "dropout_2 (Dropout)             (None, 4096)         0           flatten_2[0][0]                  \n",
      "__________________________________________________________________________________________________\n",
      "dropout_3 (Dropout)             (None, 4096)         0           flatten_3[0][0]                  \n",
      "__________________________________________________________________________________________________\n",
      "dense_1 (Dense)                 (None, 512)          2097664     dropout_1[0][0]                  \n",
      "__________________________________________________________________________________________________\n",
      "dense_3 (Dense)                 (None, 512)          2097664     dropout_2[0][0]                  \n",
      "__________________________________________________________________________________________________\n",
      "dense_5 (Dense)                 (None, 512)          2097664     dropout_3[0][0]                  \n",
      "__________________________________________________________________________________________________\n",
      "batch_normalization_1 (BatchNor (None, 512)          2048        dense_1[0][0]                    \n",
      "__________________________________________________________________________________________________\n",
      "batch_normalization_2 (BatchNor (None, 512)          2048        dense_3[0][0]                    \n",
      "__________________________________________________________________________________________________\n",
      "batch_normalization_3 (BatchNor (None, 512)          2048        dense_5[0][0]                    \n",
      "__________________________________________________________________________________________________\n",
      "dense_2 (Dense)                 (None, 8)            4104        batch_normalization_1[0][0]      \n",
      "__________________________________________________________________________________________________\n",
      "dense_4 (Dense)                 (None, 3)            1539        batch_normalization_2[0][0]      \n",
      "__________________________________________________________________________________________________\n",
      "dense_6 (Dense)                 (None, 3)            1539        batch_normalization_3[0][0]      \n",
      "__________________________________________________________________________________________________\n",
      "REGION (Activation)             (None, 8)            0           dense_2[0][0]                    \n",
      "__________________________________________________________________________________________________\n",
      "STATE (Activation)              (None, 3)            0           dense_4[0][0]                    \n",
      "__________________________________________________________________________________________________\n",
      "COUNT_LINE (Activation)         (None, 3)            0           dense_6[0][0]                    \n",
      "==================================================================================================\n",
      "Total params: 6,547,150\n",
      "Trainable params: 6,544,078\n",
      "Non-trainable params: 3,072\n",
      "__________________________________________________________________________________________________\n"
     ]
    },
    {
     "name": "stderr",
     "output_type": "stream",
     "text": [
      "W0521 17:56:18.797257 140176885851968 deprecation.py:323] From /usr/local/lib/python3.7/site-packages/tensorflow/python/tools/freeze_graph.py:127: checkpoint_exists (from tensorflow.python.training.checkpoint_management) is deprecated and will be removed in a future version.\n",
      "Instructions for updating:\n",
      "Use standard file APIs to check for files with this prefix.\n",
      "W0521 17:56:19.430083 140176885851968 deprecation.py:323] From /usr/local/lib/python3.7/site-packages/tensorflow/python/tools/freeze_graph.py:232: convert_variables_to_constants (from tensorflow.python.framework.graph_util_impl) is deprecated and will be removed in a future version.\n",
      "Instructions for updating:\n",
      "Use `tf.compat.v1.graph_util.convert_variables_to_constants`\n",
      "W0521 17:56:19.430560 140176885851968 deprecation.py:323] From /usr/local/lib/python3.7/site-packages/tensorflow/python/framework/graph_util_impl.py:270: extract_sub_graph (from tensorflow.python.framework.graph_util_impl) is deprecated and will be removed in a future version.\n",
      "Instructions for updating:\n",
      "Use `tf.compat.v1.graph_util.extract_sub_graph`\n"
     ]
    }
   ],
   "source": [
    "import keras\n",
    "keras.backend.clear_session()\n",
    "model = numberClassificator.load(RESULT_PATH)\n",
    "convert_keras_to_freeze_pb(numberClassificator.MODEL, FROZEN_MODEL_PATH)"
   ]
  },
  {
   "cell_type": "code",
   "execution_count": null,
   "metadata": {},
   "outputs": [],
   "source": []
  }
 ],
 "metadata": {
  "kernelspec": {
   "display_name": "Python 3",
   "language": "python",
   "name": "python3"
  },
  "language_info": {
   "codemirror_mode": {
    "name": "ipython",
    "version": 3
   },
   "file_extension": ".py",
   "mimetype": "text/x-python",
   "name": "python",
   "nbconvert_exporter": "python",
   "pygments_lexer": "ipython3",
   "version": "3.6.6"
  }
 },
 "nbformat": 4,
 "nbformat_minor": 2
}
