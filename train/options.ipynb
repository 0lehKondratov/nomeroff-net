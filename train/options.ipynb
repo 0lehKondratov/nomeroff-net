{
 "cells": [
  {
   "cell_type": "markdown",
   "metadata": {},
   "source": [
    "# This example demonstrate how to train region detector model (standart image classification model)."
   ]
  },
  {
   "cell_type": "markdown",
   "metadata": {},
   "source": [
    "For train datasets please download last version of dataset [https://nomeroff.net.ua/datasets/](https://nomeroff.net.ua/datasets/). Unpack archive and rename to **./datasets/** .\n",
    "For examle\n",
    "```bash\n",
    "cd ./datasets\n",
    "wget https://nomeroff.net.ua/datasets/autoriaNumberplateOptions3Dataset-2019-10-04.zip\n",
    "unzip autoriaNumberplateOptions3Dataset-2019-10-04.zip\n",
    "mv autoriaNumberplateOptions3Dataset-2019-10-04 options\n",
    "```\n",
    "or use your own dataset."
   ]
  },
  {
   "cell_type": "code",
   "execution_count": 1,
   "metadata": {},
   "outputs": [
    {
     "name": "stderr",
     "output_type": "stream",
     "text": [
      "Using TensorFlow backend.\n"
     ]
    }
   ],
   "source": [
    "import os\n",
    "import sys\n",
    "import warnings\n",
    "warnings.filterwarnings('ignore')\n",
    "\n",
    "# change this property\n",
    "NOMEROFF_NET_DIR = os.path.abspath('../')\n",
    "\n",
    "DATASET_NAME = \"options\"\n",
    "VERSION = \"2020_08_20_tensorflow_v2\"\n",
    "\n",
    "LOG_DIR = os.path.join(NOMEROFF_NET_DIR, \"logs/\")\n",
    "PATH_TO_DATASET = os.path.join(NOMEROFF_NET_DIR, \"datasets/\", DATASET_NAME)\n",
    "RESULT_PATH = os.path.join(NOMEROFF_NET_DIR, \"models/\", 'numberplate_{}_{}.h5'.format(DATASET_NAME, VERSION))\n",
    "\n",
    "sys.path.append(NOMEROFF_NET_DIR)\n",
    "\n",
    "from NomeroffNet import OptionsDetector"
   ]
  },
  {
   "cell_type": "code",
   "execution_count": 2,
   "metadata": {},
   "outputs": [],
   "source": [
    "# definde your parameters\n",
    "class MyNpClassificator(OptionsDetector):\n",
    "    def __init__(self):\n",
    "        OptionsDetector.__init__(self)\n",
    "        # outputs 1\n",
    "        self.CLASS_STATE = [\"garbage\", \"filled\", \"not filled\", \"empty\"]\n",
    "        \n",
    "        # outputs 2\n",
    "        self.CLASS_REGION = [\"xx-unknown\", \"eu-ua-2015\", \"eu-ua-2004\", \"eu-ua-1995\", \"eu\", \"xx-transit\", \"ru\", \"kz\", \"eu-ua-ordlo-dnr\", \"eu-ua-ordlo-lnr\", \"ge\"]\n",
    "        \n",
    "        # output 3\n",
    "        self.CLASS_COUNT_LINE = [\"0\", \"1\", \"2\"]\n",
    "        \n",
    "        self.EPOCHS           = 100\n",
    "        self.BATCH_SIZE       = 64\n",
    "        \n",
    "        self.HEIGHT         = 64\n",
    "        self.WEIGHT         = 295\n"
   ]
  },
  {
   "cell_type": "code",
   "execution_count": 3,
   "metadata": {},
   "outputs": [
    {
     "name": "stdout",
     "output_type": "stream",
     "text": [
      "START PREPARING\n",
      "start train build\n",
      "end train build\n",
      "start test build\n",
      "end test build\n",
      "start test build\n",
      "end test build\n",
      "DATA PREPARED\n"
     ]
    }
   ],
   "source": [
    "# initialize region detector.\n",
    "npClassificator = MyNpClassificator()\n",
    "npClassificator.prepare(PATH_TO_DATASET, verbose=1)"
   ]
  },
  {
   "cell_type": "code",
   "execution_count": 4,
   "metadata": {},
   "outputs": [
    {
     "name": "stdout",
     "output_type": "stream",
     "text": [
      "WARNING:tensorflow:From /mnt/storage2/var/www/nomeroff-net/NomeroffNet/OptionsDetector.py:229: Model.fit_generator (from tensorflow.python.keras.engine.training) is deprecated and will be removed in a future version.\n",
      "Instructions for updating:\n",
      "Please use Model.fit, which supports generators.\n",
      "Epoch 1/100\n",
      "485/484 [==============================] - 28s 58ms/step - loss: 1.4767 - REGION_loss: 0.9646 - STATE_loss: 0.2505 - COUNT_LINE_loss: 0.2317 - REGION_accuracy: 0.7309 - STATE_accuracy: 0.9385 - COUNT_LINE_accuracy: 0.9308 - val_loss: 1.6448 - val_REGION_loss: 0.9822 - val_STATE_loss: 0.3169 - val_COUNT_LINE_loss: 0.3090 - val_REGION_accuracy: 0.8286 - val_STATE_accuracy: 0.7986 - val_COUNT_LINE_accuracy: 0.7649\n",
      "Epoch 2/100\n",
      "485/484 [==============================] - 188s 388ms/step - loss: 0.5232 - REGION_loss: 0.3120 - STATE_loss: 0.0940 - COUNT_LINE_loss: 0.0809 - REGION_accuracy: 0.9180 - STATE_accuracy: 0.9701 - COUNT_LINE_accuracy: 0.9730 - val_loss: 0.4727 - val_REGION_loss: 0.2644 - val_STATE_loss: 0.0928 - val_COUNT_LINE_loss: 0.0803 - val_REGION_accuracy: 0.9234 - val_STATE_accuracy: 0.9703 - val_COUNT_LINE_accuracy: 0.9723\n",
      "Epoch 3/100\n",
      "485/484 [==============================] - 184s 379ms/step - loss: 0.3613 - REGION_loss: 0.1944 - STATE_loss: 0.0735 - COUNT_LINE_loss: 0.0593 - REGION_accuracy: 0.9457 - STATE_accuracy: 0.9772 - COUNT_LINE_accuracy: 0.9802 - val_loss: 0.3381 - val_REGION_loss: 0.1731 - val_STATE_loss: 0.0757 - val_COUNT_LINE_loss: 0.0561 - val_REGION_accuracy: 0.9505 - val_STATE_accuracy: 0.9776 - val_COUNT_LINE_accuracy: 0.9801\n",
      "Epoch 4/100\n",
      "485/484 [==============================] - 185s 382ms/step - loss: 0.2814 - REGION_loss: 0.1429 - STATE_loss: 0.0597 - COUNT_LINE_loss: 0.0465 - REGION_accuracy: 0.9596 - STATE_accuracy: 0.9806 - COUNT_LINE_accuracy: 0.9843 - val_loss: 0.2739 - val_REGION_loss: 0.1266 - val_STATE_loss: 0.0680 - val_COUNT_LINE_loss: 0.0475 - val_REGION_accuracy: 0.9668 - val_STATE_accuracy: 0.9779 - val_COUNT_LINE_accuracy: 0.9840\n",
      "Epoch 5/100\n",
      "485/484 [==============================] - 185s 381ms/step - loss: 0.2394 - REGION_loss: 0.1154 - STATE_loss: 0.0523 - COUNT_LINE_loss: 0.0406 - REGION_accuracy: 0.9680 - STATE_accuracy: 0.9839 - COUNT_LINE_accuracy: 0.9865 - val_loss: 0.2469 - val_REGION_loss: 0.1126 - val_STATE_loss: 0.0619 - val_COUNT_LINE_loss: 0.0419 - val_REGION_accuracy: 0.9708 - val_STATE_accuracy: 0.9808 - val_COUNT_LINE_accuracy: 0.9856\n",
      "Epoch 6/100\n",
      "485/484 [==============================] - 184s 379ms/step - loss: 0.2029 - REGION_loss: 0.0955 - STATE_loss: 0.0436 - COUNT_LINE_loss: 0.0337 - REGION_accuracy: 0.9735 - STATE_accuracy: 0.9866 - COUNT_LINE_accuracy: 0.9891 - val_loss: 0.2140 - val_REGION_loss: 0.1026 - val_STATE_loss: 0.0475 - val_COUNT_LINE_loss: 0.0342 - val_REGION_accuracy: 0.9705 - val_STATE_accuracy: 0.9854 - val_COUNT_LINE_accuracy: 0.9887\n",
      "Epoch 7/100\n",
      "485/484 [==============================] - 182s 374ms/step - loss: 0.1793 - REGION_loss: 0.0825 - STATE_loss: 0.0383 - COUNT_LINE_loss: 0.0292 - REGION_accuracy: 0.9775 - STATE_accuracy: 0.9882 - COUNT_LINE_accuracy: 0.9904 - val_loss: 0.2437 - val_REGION_loss: 0.1058 - val_STATE_loss: 0.0613 - val_COUNT_LINE_loss: 0.0476 - val_REGION_accuracy: 0.9689 - val_STATE_accuracy: 0.9802 - val_COUNT_LINE_accuracy: 0.9827\n",
      "Epoch 8/100\n",
      "485/484 [==============================] - 183s 378ms/step - loss: 0.1642 - REGION_loss: 0.0738 - STATE_loss: 0.0354 - COUNT_LINE_loss: 0.0264 - REGION_accuracy: 0.9786 - STATE_accuracy: 0.9891 - COUNT_LINE_accuracy: 0.9919 - val_loss: 0.2129 - val_REGION_loss: 0.0955 - val_STATE_loss: 0.0535 - val_COUNT_LINE_loss: 0.0356 - val_REGION_accuracy: 0.9751 - val_STATE_accuracy: 0.9835 - val_COUNT_LINE_accuracy: 0.9892\n",
      "Epoch 9/100\n",
      "485/484 [==============================] - 184s 379ms/step - loss: 0.1477 - REGION_loss: 0.0652 - STATE_loss: 0.0310 - COUNT_LINE_loss: 0.0233 - REGION_accuracy: 0.9819 - STATE_accuracy: 0.9904 - COUNT_LINE_accuracy: 0.9924 - val_loss: 0.1619 - val_REGION_loss: 0.0718 - val_STATE_loss: 0.0379 - val_COUNT_LINE_loss: 0.0244 - val_REGION_accuracy: 0.9797 - val_STATE_accuracy: 0.9878 - val_COUNT_LINE_accuracy: 0.9908\n",
      "Epoch 10/100\n",
      "485/484 [==============================] - 182s 376ms/step - loss: 0.1313 - REGION_loss: 0.0569 - STATE_loss: 0.0270 - COUNT_LINE_loss: 0.0197 - REGION_accuracy: 0.9843 - STATE_accuracy: 0.9917 - COUNT_LINE_accuracy: 0.9937 - val_loss: 0.1645 - val_REGION_loss: 0.0642 - val_STATE_loss: 0.0411 - val_COUNT_LINE_loss: 0.0318 - val_REGION_accuracy: 0.9834 - val_STATE_accuracy: 0.9878 - val_COUNT_LINE_accuracy: 0.9892\n",
      "Epoch 11/100\n",
      "485/484 [==============================] - 185s 381ms/step - loss: 0.1178 - REGION_loss: 0.0487 - STATE_loss: 0.0244 - COUNT_LINE_loss: 0.0175 - REGION_accuracy: 0.9872 - STATE_accuracy: 0.9928 - COUNT_LINE_accuracy: 0.9946 - val_loss: 0.1548 - val_REGION_loss: 0.0614 - val_STATE_loss: 0.0426 - val_COUNT_LINE_loss: 0.0238 - val_REGION_accuracy: 0.9827 - val_STATE_accuracy: 0.9873 - val_COUNT_LINE_accuracy: 0.9925\n",
      "Epoch 12/100\n",
      "485/484 [==============================] - 182s 374ms/step - loss: 0.1187 - REGION_loss: 0.0498 - STATE_loss: 0.0251 - COUNT_LINE_loss: 0.0170 - REGION_accuracy: 0.9866 - STATE_accuracy: 0.9925 - COUNT_LINE_accuracy: 0.9950 - val_loss: 0.1377 - val_REGION_loss: 0.0560 - val_STATE_loss: 0.0338 - val_COUNT_LINE_loss: 0.0211 - val_REGION_accuracy: 0.9845 - val_STATE_accuracy: 0.9892 - val_COUNT_LINE_accuracy: 0.9931\n",
      "Epoch 13/100\n",
      "485/484 [==============================] - 186s 384ms/step - loss: 0.1028 - REGION_loss: 0.0417 - STATE_loss: 0.0202 - COUNT_LINE_loss: 0.0145 - REGION_accuracy: 0.9890 - STATE_accuracy: 0.9943 - COUNT_LINE_accuracy: 0.9955 - val_loss: 0.1305 - val_REGION_loss: 0.0547 - val_STATE_loss: 0.0298 - val_COUNT_LINE_loss: 0.0196 - val_REGION_accuracy: 0.9847 - val_STATE_accuracy: 0.9910 - val_COUNT_LINE_accuracy: 0.9938\n",
      "Epoch 14/100\n",
      "485/484 [==============================] - 182s 376ms/step - loss: 0.1023 - REGION_loss: 0.0398 - STATE_loss: 0.0209 - COUNT_LINE_loss: 0.0155 - REGION_accuracy: 0.9894 - STATE_accuracy: 0.9937 - COUNT_LINE_accuracy: 0.9953 - val_loss: 0.1374 - val_REGION_loss: 0.0539 - val_STATE_loss: 0.0340 - val_COUNT_LINE_loss: 0.0236 - val_REGION_accuracy: 0.9850 - val_STATE_accuracy: 0.9895 - val_COUNT_LINE_accuracy: 0.9926\n",
      "Epoch 15/100\n",
      "485/484 [==============================] - 184s 380ms/step - loss: 0.0951 - REGION_loss: 0.0367 - STATE_loss: 0.0181 - COUNT_LINE_loss: 0.0146 - REGION_accuracy: 0.9898 - STATE_accuracy: 0.9947 - COUNT_LINE_accuracy: 0.9954 - val_loss: 0.1149 - val_REGION_loss: 0.0480 - val_STATE_loss: 0.0266 - val_COUNT_LINE_loss: 0.0149 - val_REGION_accuracy: 0.9870 - val_STATE_accuracy: 0.9918 - val_COUNT_LINE_accuracy: 0.9948\n",
      "Epoch 16/100\n",
      "485/484 [==============================] - 184s 379ms/step - loss: 0.0939 - REGION_loss: 0.0370 - STATE_loss: 0.0193 - COUNT_LINE_loss: 0.0122 - REGION_accuracy: 0.9904 - STATE_accuracy: 0.9940 - COUNT_LINE_accuracy: 0.9963 - val_loss: 0.1320 - val_REGION_loss: 0.0553 - val_STATE_loss: 0.0295 - val_COUNT_LINE_loss: 0.0220 - val_REGION_accuracy: 0.9854 - val_STATE_accuracy: 0.9913 - val_COUNT_LINE_accuracy: 0.9932\n",
      "Epoch 17/100\n",
      "485/484 [==============================] - 185s 380ms/step - loss: 0.0869 - REGION_loss: 0.0323 - STATE_loss: 0.0167 - COUNT_LINE_loss: 0.0129 - REGION_accuracy: 0.9914 - STATE_accuracy: 0.9950 - COUNT_LINE_accuracy: 0.9960 - val_loss: 0.1177 - val_REGION_loss: 0.0459 - val_STATE_loss: 0.0289 - val_COUNT_LINE_loss: 0.0180 - val_REGION_accuracy: 0.9867 - val_STATE_accuracy: 0.9911 - val_COUNT_LINE_accuracy: 0.9934\n",
      "Epoch 18/100\n",
      "485/484 [==============================] - 186s 383ms/step - loss: 0.0881 - REGION_loss: 0.0326 - STATE_loss: 0.0179 - COUNT_LINE_loss: 0.0128 - REGION_accuracy: 0.9911 - STATE_accuracy: 0.9949 - COUNT_LINE_accuracy: 0.9961 - val_loss: 0.1136 - val_REGION_loss: 0.0477 - val_STATE_loss: 0.0262 - val_COUNT_LINE_loss: 0.0151 - val_REGION_accuracy: 0.9871 - val_STATE_accuracy: 0.9922 - val_COUNT_LINE_accuracy: 0.9953\n",
      "Epoch 19/100\n",
      "485/484 [==============================] - 188s 388ms/step - loss: 0.0811 - REGION_loss: 0.0297 - STATE_loss: 0.0161 - COUNT_LINE_loss: 0.0109 - REGION_accuracy: 0.9924 - STATE_accuracy: 0.9953 - COUNT_LINE_accuracy: 0.9967 - val_loss: 0.1096 - val_REGION_loss: 0.0414 - val_STATE_loss: 0.0269 - val_COUNT_LINE_loss: 0.0172 - val_REGION_accuracy: 0.9887 - val_STATE_accuracy: 0.9919 - val_COUNT_LINE_accuracy: 0.9948\n",
      "Epoch 20/100\n",
      "485/484 [==============================] - 184s 379ms/step - loss: 0.0755 - REGION_loss: 0.0271 - STATE_loss: 0.0142 - COUNT_LINE_loss: 0.0101 - REGION_accuracy: 0.9930 - STATE_accuracy: 0.9960 - COUNT_LINE_accuracy: 0.9972 - val_loss: 0.1190 - val_REGION_loss: 0.0511 - val_STATE_loss: 0.0271 - val_COUNT_LINE_loss: 0.0169 - val_REGION_accuracy: 0.9875 - val_STATE_accuracy: 0.9914 - val_COUNT_LINE_accuracy: 0.9941\n",
      "Epoch 21/100\n",
      "485/484 [==============================] - 184s 380ms/step - loss: 0.0781 - REGION_loss: 0.0271 - STATE_loss: 0.0161 - COUNT_LINE_loss: 0.0112 - REGION_accuracy: 0.9928 - STATE_accuracy: 0.9955 - COUNT_LINE_accuracy: 0.9968 - val_loss: 0.1213 - val_REGION_loss: 0.0467 - val_STATE_loss: 0.0306 - val_COUNT_LINE_loss: 0.0204 - val_REGION_accuracy: 0.9882 - val_STATE_accuracy: 0.9911 - val_COUNT_LINE_accuracy: 0.9940\n",
      "Epoch 22/100\n",
      "485/484 [==============================] - 183s 377ms/step - loss: 0.0725 - REGION_loss: 0.0261 - STATE_loss: 0.0138 - COUNT_LINE_loss: 0.0092 - REGION_accuracy: 0.9931 - STATE_accuracy: 0.9963 - COUNT_LINE_accuracy: 0.9976 - val_loss: 0.1133 - val_REGION_loss: 0.0459 - val_STATE_loss: 0.0281 - val_COUNT_LINE_loss: 0.0160 - val_REGION_accuracy: 0.9884 - val_STATE_accuracy: 0.9918 - val_COUNT_LINE_accuracy: 0.9941\n",
      "Epoch 23/100\n",
      "485/484 [==============================] - 180s 372ms/step - loss: 0.0667 - REGION_loss: 0.0221 - STATE_loss: 0.0124 - COUNT_LINE_loss: 0.0090 - REGION_accuracy: 0.9941 - STATE_accuracy: 0.9963 - COUNT_LINE_accuracy: 0.9970 - val_loss: 0.1124 - val_REGION_loss: 0.0433 - val_STATE_loss: 0.0278 - val_COUNT_LINE_loss: 0.0183 - val_REGION_accuracy: 0.9893 - val_STATE_accuracy: 0.9906 - val_COUNT_LINE_accuracy: 0.9938\n",
      "Epoch 24/100\n",
      "485/484 [==============================] - 186s 383ms/step - loss: 0.0666 - REGION_loss: 0.0223 - STATE_loss: 0.0126 - COUNT_LINE_loss: 0.0088 - REGION_accuracy: 0.9947 - STATE_accuracy: 0.9965 - COUNT_LINE_accuracy: 0.9973 - val_loss: 0.0950 - val_REGION_loss: 0.0363 - val_STATE_loss: 0.0245 - val_COUNT_LINE_loss: 0.0114 - val_REGION_accuracy: 0.9897 - val_STATE_accuracy: 0.9925 - val_COUNT_LINE_accuracy: 0.9957\n",
      "Epoch 25/100\n",
      "485/484 [==============================] - 186s 383ms/step - loss: 0.0659 - REGION_loss: 0.0232 - STATE_loss: 0.0126 - COUNT_LINE_loss: 0.0073 - REGION_accuracy: 0.9940 - STATE_accuracy: 0.9969 - COUNT_LINE_accuracy: 0.9982 - val_loss: 0.1121 - val_REGION_loss: 0.0455 - val_STATE_loss: 0.0265 - val_COUNT_LINE_loss: 0.0175 - val_REGION_accuracy: 0.9893 - val_STATE_accuracy: 0.9924 - val_COUNT_LINE_accuracy: 0.9941\n",
      "Epoch 26/100\n",
      "485/484 [==============================] - 185s 382ms/step - loss: 0.0650 - REGION_loss: 0.0226 - STATE_loss: 0.0125 - COUNT_LINE_loss: 0.0073 - REGION_accuracy: 0.9939 - STATE_accuracy: 0.9968 - COUNT_LINE_accuracy: 0.9981 - val_loss: 0.1064 - val_REGION_loss: 0.0450 - val_STATE_loss: 0.0219 - val_COUNT_LINE_loss: 0.0172 - val_REGION_accuracy: 0.9894 - val_STATE_accuracy: 0.9926 - val_COUNT_LINE_accuracy: 0.9942\n",
      "Epoch 27/100\n",
      "485/484 [==============================] - 184s 379ms/step - loss: 0.0622 - REGION_loss: 0.0212 - STATE_loss: 0.0107 - COUNT_LINE_loss: 0.0081 - REGION_accuracy: 0.9948 - STATE_accuracy: 0.9971 - COUNT_LINE_accuracy: 0.9978 - val_loss: 0.1094 - val_REGION_loss: 0.0433 - val_STATE_loss: 0.0263 - val_COUNT_LINE_loss: 0.0177 - val_REGION_accuracy: 0.9892 - val_STATE_accuracy: 0.9919 - val_COUNT_LINE_accuracy: 0.9941\n",
      "Epoch 28/100\n",
      "485/484 [==============================] - 185s 382ms/step - loss: 0.0623 - REGION_loss: 0.0219 - STATE_loss: 0.0111 - COUNT_LINE_loss: 0.0073 - REGION_accuracy: 0.9945 - STATE_accuracy: 0.9967 - COUNT_LINE_accuracy: 0.9980 - val_loss: 0.1085 - val_REGION_loss: 0.0439 - val_STATE_loss: 0.0258 - val_COUNT_LINE_loss: 0.0171 - val_REGION_accuracy: 0.9899 - val_STATE_accuracy: 0.9925 - val_COUNT_LINE_accuracy: 0.9936\n",
      "Epoch 29/100\n",
      "485/484 [==============================] - 189s 390ms/step - loss: 0.0591 - REGION_loss: 0.0196 - STATE_loss: 0.0109 - COUNT_LINE_loss: 0.0070 - REGION_accuracy: 0.9949 - STATE_accuracy: 0.9968 - COUNT_LINE_accuracy: 0.9982 - val_loss: 0.0961 - val_REGION_loss: 0.0372 - val_STATE_loss: 0.0245 - val_COUNT_LINE_loss: 0.0129 - val_REGION_accuracy: 0.9911 - val_STATE_accuracy: 0.9927 - val_COUNT_LINE_accuracy: 0.9961\n",
      "Epoch 30/100\n",
      "485/484 [==============================] - 184s 379ms/step - loss: 0.0580 - REGION_loss: 0.0188 - STATE_loss: 0.0107 - COUNT_LINE_loss: 0.0072 - REGION_accuracy: 0.9953 - STATE_accuracy: 0.9971 - COUNT_LINE_accuracy: 0.9977 - val_loss: 0.0995 - val_REGION_loss: 0.0404 - val_STATE_loss: 0.0223 - val_COUNT_LINE_loss: 0.0157 - val_REGION_accuracy: 0.9902 - val_STATE_accuracy: 0.9932 - val_COUNT_LINE_accuracy: 0.9947\n",
      "Epoch 31/100\n",
      "485/484 [==============================] - 184s 379ms/step - loss: 0.0552 - REGION_loss: 0.0184 - STATE_loss: 0.0095 - COUNT_LINE_loss: 0.0062 - REGION_accuracy: 0.9955 - STATE_accuracy: 0.9972 - COUNT_LINE_accuracy: 0.9986 - val_loss: 0.1006 - val_REGION_loss: 0.0388 - val_STATE_loss: 0.0248 - val_COUNT_LINE_loss: 0.0160 - val_REGION_accuracy: 0.9906 - val_STATE_accuracy: 0.9925 - val_COUNT_LINE_accuracy: 0.9957\n",
      "Epoch 32/100\n",
      "485/484 [==============================] - 178s 367ms/step - loss: 0.0556 - REGION_loss: 0.0176 - STATE_loss: 0.0103 - COUNT_LINE_loss: 0.0068 - REGION_accuracy: 0.9956 - STATE_accuracy: 0.9970 - COUNT_LINE_accuracy: 0.9982 - val_loss: 0.0999 - val_REGION_loss: 0.0389 - val_STATE_loss: 0.0239 - val_COUNT_LINE_loss: 0.0164 - val_REGION_accuracy: 0.9903 - val_STATE_accuracy: 0.9932 - val_COUNT_LINE_accuracy: 0.9954\n",
      "Epoch 33/100\n",
      "485/484 [==============================] - 183s 378ms/step - loss: 0.0567 - REGION_loss: 0.0184 - STATE_loss: 0.0110 - COUNT_LINE_loss: 0.0066 - REGION_accuracy: 0.9953 - STATE_accuracy: 0.9968 - COUNT_LINE_accuracy: 0.9981 - val_loss: 0.0981 - val_REGION_loss: 0.0393 - val_STATE_loss: 0.0226 - val_COUNT_LINE_loss: 0.0157 - val_REGION_accuracy: 0.9902 - val_STATE_accuracy: 0.9934 - val_COUNT_LINE_accuracy: 0.9947\n",
      "Epoch 34/100\n",
      "485/484 [==============================] - 186s 384ms/step - loss: 0.0502 - REGION_loss: 0.0153 - STATE_loss: 0.0082 - COUNT_LINE_loss: 0.0062 - REGION_accuracy: 0.9962 - STATE_accuracy: 0.9978 - COUNT_LINE_accuracy: 0.9984 - val_loss: 0.0870 - val_REGION_loss: 0.0343 - val_STATE_loss: 0.0197 - val_COUNT_LINE_loss: 0.0126 - val_REGION_accuracy: 0.9910 - val_STATE_accuracy: 0.9931 - val_COUNT_LINE_accuracy: 0.9959\n",
      "Epoch 35/100\n",
      "485/484 [==============================] - 183s 377ms/step - loss: 0.0509 - REGION_loss: 0.0156 - STATE_loss: 0.0087 - COUNT_LINE_loss: 0.0062 - REGION_accuracy: 0.9962 - STATE_accuracy: 0.9975 - COUNT_LINE_accuracy: 0.9983 - val_loss: 0.0921 - val_REGION_loss: 0.0320 - val_STATE_loss: 0.0250 - val_COUNT_LINE_loss: 0.0149 - val_REGION_accuracy: 0.9921 - val_STATE_accuracy: 0.9916 - val_COUNT_LINE_accuracy: 0.9941\n",
      "Epoch 36/100\n",
      "485/484 [==============================] - 184s 380ms/step - loss: 0.0527 - REGION_loss: 0.0154 - STATE_loss: 0.0100 - COUNT_LINE_loss: 0.0072 - REGION_accuracy: 0.9961 - STATE_accuracy: 0.9970 - COUNT_LINE_accuracy: 0.9981 - val_loss: 0.0898 - val_REGION_loss: 0.0350 - val_STATE_loss: 0.0210 - val_COUNT_LINE_loss: 0.0139 - val_REGION_accuracy: 0.9911 - val_STATE_accuracy: 0.9937 - val_COUNT_LINE_accuracy: 0.9958\n",
      "Epoch 37/100\n",
      "485/484 [==============================] - 181s 373ms/step - loss: 0.0527 - REGION_loss: 0.0163 - STATE_loss: 0.0098 - COUNT_LINE_loss: 0.0069 - REGION_accuracy: 0.9958 - STATE_accuracy: 0.9972 - COUNT_LINE_accuracy: 0.9980 - val_loss: 0.0968 - val_REGION_loss: 0.0372 - val_STATE_loss: 0.0232 - val_COUNT_LINE_loss: 0.0167 - val_REGION_accuracy: 0.9906 - val_STATE_accuracy: 0.9932 - val_COUNT_LINE_accuracy: 0.9947\n",
      "Epoch 38/100\n"
     ]
    },
    {
     "name": "stdout",
     "output_type": "stream",
     "text": [
      "485/484 [==============================] - 182s 376ms/step - loss: 0.0492 - REGION_loss: 0.0152 - STATE_loss: 0.0081 - COUNT_LINE_loss: 0.0063 - REGION_accuracy: 0.9963 - STATE_accuracy: 0.9976 - COUNT_LINE_accuracy: 0.9981 - val_loss: 0.0829 - val_REGION_loss: 0.0358 - val_STATE_loss: 0.0168 - val_COUNT_LINE_loss: 0.0107 - val_REGION_accuracy: 0.9915 - val_STATE_accuracy: 0.9946 - val_COUNT_LINE_accuracy: 0.9967\n",
      "Epoch 39/100\n",
      "485/484 [==============================] - 184s 378ms/step - loss: 0.0420 - REGION_loss: 0.0117 - STATE_loss: 0.0068 - COUNT_LINE_loss: 0.0041 - REGION_accuracy: 0.9972 - STATE_accuracy: 0.9982 - COUNT_LINE_accuracy: 0.9991 - val_loss: 0.0774 - val_REGION_loss: 0.0295 - val_STATE_loss: 0.0168 - val_COUNT_LINE_loss: 0.0117 - val_REGION_accuracy: 0.9930 - val_STATE_accuracy: 0.9957 - val_COUNT_LINE_accuracy: 0.9969\n",
      "Epoch 40/100\n",
      "485/484 [==============================] - 182s 376ms/step - loss: 0.0440 - REGION_loss: 0.0123 - STATE_loss: 0.0075 - COUNT_LINE_loss: 0.0049 - REGION_accuracy: 0.9972 - STATE_accuracy: 0.9976 - COUNT_LINE_accuracy: 0.9985 - val_loss: 0.0888 - val_REGION_loss: 0.0359 - val_STATE_loss: 0.0189 - val_COUNT_LINE_loss: 0.0148 - val_REGION_accuracy: 0.9918 - val_STATE_accuracy: 0.9945 - val_COUNT_LINE_accuracy: 0.9961\n",
      "Epoch 41/100\n",
      "485/484 [==============================] - 182s 374ms/step - loss: 0.0428 - REGION_loss: 0.0125 - STATE_loss: 0.0069 - COUNT_LINE_loss: 0.0042 - REGION_accuracy: 0.9969 - STATE_accuracy: 0.9980 - COUNT_LINE_accuracy: 0.9989 - val_loss: 0.0972 - val_REGION_loss: 0.0420 - val_STATE_loss: 0.0190 - val_COUNT_LINE_loss: 0.0171 - val_REGION_accuracy: 0.9900 - val_STATE_accuracy: 0.9936 - val_COUNT_LINE_accuracy: 0.9948\n",
      "Epoch 42/100\n",
      "485/484 [==============================] - 183s 376ms/step - loss: 0.0449 - REGION_loss: 0.0130 - STATE_loss: 0.0074 - COUNT_LINE_loss: 0.0056 - REGION_accuracy: 0.9967 - STATE_accuracy: 0.9981 - COUNT_LINE_accuracy: 0.9987 - val_loss: 0.1009 - val_REGION_loss: 0.0397 - val_STATE_loss: 0.0247 - val_COUNT_LINE_loss: 0.0178 - val_REGION_accuracy: 0.9909 - val_STATE_accuracy: 0.9935 - val_COUNT_LINE_accuracy: 0.9952\n",
      "Epoch 43/100\n",
      "485/484 [==============================] - 181s 372ms/step - loss: 0.0449 - REGION_loss: 0.0126 - STATE_loss: 0.0084 - COUNT_LINE_loss: 0.0052 - REGION_accuracy: 0.9970 - STATE_accuracy: 0.9978 - COUNT_LINE_accuracy: 0.9987 - val_loss: 0.0854 - val_REGION_loss: 0.0345 - val_STATE_loss: 0.0206 - val_COUNT_LINE_loss: 0.0117 - val_REGION_accuracy: 0.9924 - val_STATE_accuracy: 0.9943 - val_COUNT_LINE_accuracy: 0.9966\n",
      "Epoch 44/100\n",
      "485/484 [==============================] - 184s 379ms/step - loss: 0.0452 - REGION_loss: 0.0136 - STATE_loss: 0.0080 - COUNT_LINE_loss: 0.0051 - REGION_accuracy: 0.9968 - STATE_accuracy: 0.9976 - COUNT_LINE_accuracy: 0.9987 - val_loss: 0.0968 - val_REGION_loss: 0.0417 - val_STATE_loss: 0.0218 - val_COUNT_LINE_loss: 0.0148 - val_REGION_accuracy: 0.9905 - val_STATE_accuracy: 0.9946 - val_COUNT_LINE_accuracy: 0.9958\n",
      "Epoch 45/100\n",
      "485/484 [==============================] - 184s 380ms/step - loss: 0.0422 - REGION_loss: 0.0124 - STATE_loss: 0.0066 - COUNT_LINE_loss: 0.0049 - REGION_accuracy: 0.9967 - STATE_accuracy: 0.9982 - COUNT_LINE_accuracy: 0.9986 - val_loss: 0.0912 - val_REGION_loss: 0.0341 - val_STATE_loss: 0.0236 - val_COUNT_LINE_loss: 0.0152 - val_REGION_accuracy: 0.9921 - val_STATE_accuracy: 0.9926 - val_COUNT_LINE_accuracy: 0.9950\n",
      "Epoch 46/100\n",
      "485/484 [==============================] - 181s 374ms/step - loss: 0.0435 - REGION_loss: 0.0123 - STATE_loss: 0.0079 - COUNT_LINE_loss: 0.0052 - REGION_accuracy: 0.9973 - STATE_accuracy: 0.9978 - COUNT_LINE_accuracy: 0.9987 - val_loss: 0.0849 - val_REGION_loss: 0.0360 - val_STATE_loss: 0.0168 - val_COUNT_LINE_loss: 0.0141 - val_REGION_accuracy: 0.9920 - val_STATE_accuracy: 0.9947 - val_COUNT_LINE_accuracy: 0.9958\n",
      "Epoch 47/100\n",
      "485/484 [==============================] - 184s 379ms/step - loss: 0.0437 - REGION_loss: 0.0130 - STATE_loss: 0.0077 - COUNT_LINE_loss: 0.0052 - REGION_accuracy: 0.9969 - STATE_accuracy: 0.9977 - COUNT_LINE_accuracy: 0.9985 - val_loss: 0.0878 - val_REGION_loss: 0.0356 - val_STATE_loss: 0.0216 - val_COUNT_LINE_loss: 0.0129 - val_REGION_accuracy: 0.9926 - val_STATE_accuracy: 0.9948 - val_COUNT_LINE_accuracy: 0.9967\n",
      "Epoch 48/100\n",
      "485/484 [==============================] - 184s 380ms/step - loss: 0.0407 - REGION_loss: 0.0118 - STATE_loss: 0.0065 - COUNT_LINE_loss: 0.0046 - REGION_accuracy: 0.9973 - STATE_accuracy: 0.9981 - COUNT_LINE_accuracy: 0.9988 - val_loss: 0.0812 - val_REGION_loss: 0.0313 - val_STATE_loss: 0.0199 - val_COUNT_LINE_loss: 0.0124 - val_REGION_accuracy: 0.9920 - val_STATE_accuracy: 0.9941 - val_COUNT_LINE_accuracy: 0.9962\n",
      "Epoch 49/100\n",
      "485/484 [==============================] - 184s 379ms/step - loss: 0.0396 - REGION_loss: 0.0106 - STATE_loss: 0.0066 - COUNT_LINE_loss: 0.0048 - REGION_accuracy: 0.9975 - STATE_accuracy: 0.9982 - COUNT_LINE_accuracy: 0.9989 - val_loss: 0.0911 - val_REGION_loss: 0.0398 - val_STATE_loss: 0.0205 - val_COUNT_LINE_loss: 0.0134 - val_REGION_accuracy: 0.9910 - val_STATE_accuracy: 0.9937 - val_COUNT_LINE_accuracy: 0.9962\n",
      "Epoch 50/100\n",
      "485/484 [==============================] - 178s 368ms/step - loss: 0.0379 - REGION_loss: 0.0106 - STATE_loss: 0.0058 - COUNT_LINE_loss: 0.0041 - REGION_accuracy: 0.9977 - STATE_accuracy: 0.9986 - COUNT_LINE_accuracy: 0.9988 - val_loss: 0.0798 - val_REGION_loss: 0.0314 - val_STATE_loss: 0.0189 - val_COUNT_LINE_loss: 0.0121 - val_REGION_accuracy: 0.9919 - val_STATE_accuracy: 0.9946 - val_COUNT_LINE_accuracy: 0.9962\n",
      "Epoch 51/100\n",
      "485/484 [==============================] - 181s 373ms/step - loss: 0.0358 - REGION_loss: 0.0094 - STATE_loss: 0.0050 - COUNT_LINE_loss: 0.0039 - REGION_accuracy: 0.9980 - STATE_accuracy: 0.9988 - COUNT_LINE_accuracy: 0.9989 - val_loss: 0.0735 - val_REGION_loss: 0.0322 - val_STATE_loss: 0.0133 - val_COUNT_LINE_loss: 0.0106 - val_REGION_accuracy: 0.9924 - val_STATE_accuracy: 0.9961 - val_COUNT_LINE_accuracy: 0.9968\n",
      "Epoch 52/100\n",
      "485/484 [==============================] - 181s 372ms/step - loss: 0.0326 - REGION_loss: 0.0080 - STATE_loss: 0.0041 - COUNT_LINE_loss: 0.0031 - REGION_accuracy: 0.9981 - STATE_accuracy: 0.9988 - COUNT_LINE_accuracy: 0.9994 - val_loss: 0.0836 - val_REGION_loss: 0.0353 - val_STATE_loss: 0.0170 - val_COUNT_LINE_loss: 0.0139 - val_REGION_accuracy: 0.9927 - val_STATE_accuracy: 0.9947 - val_COUNT_LINE_accuracy: 0.9962\n",
      "Epoch 53/100\n",
      "485/484 [==============================] - 181s 373ms/step - loss: 0.0319 - REGION_loss: 0.0077 - STATE_loss: 0.0041 - COUNT_LINE_loss: 0.0027 - REGION_accuracy: 0.9985 - STATE_accuracy: 0.9989 - COUNT_LINE_accuracy: 0.9995 - val_loss: 0.0764 - val_REGION_loss: 0.0290 - val_STATE_loss: 0.0187 - val_COUNT_LINE_loss: 0.0113 - val_REGION_accuracy: 0.9929 - val_STATE_accuracy: 0.9947 - val_COUNT_LINE_accuracy: 0.9963\n",
      "Epoch 54/100\n",
      "485/484 [==============================] - 181s 372ms/step - loss: 0.0319 - REGION_loss: 0.0074 - STATE_loss: 0.0045 - COUNT_LINE_loss: 0.0027 - REGION_accuracy: 0.9983 - STATE_accuracy: 0.9989 - COUNT_LINE_accuracy: 0.9996 - val_loss: 0.0738 - val_REGION_loss: 0.0296 - val_STATE_loss: 0.0162 - val_COUNT_LINE_loss: 0.0107 - val_REGION_accuracy: 0.9934 - val_STATE_accuracy: 0.9954 - val_COUNT_LINE_accuracy: 0.9966\n",
      "Epoch 55/100\n",
      "485/484 [==============================] - 182s 374ms/step - loss: 0.0342 - REGION_loss: 0.0085 - STATE_loss: 0.0054 - COUNT_LINE_loss: 0.0030 - REGION_accuracy: 0.9983 - STATE_accuracy: 0.9986 - COUNT_LINE_accuracy: 0.9993 - val_loss: 0.0734 - val_REGION_loss: 0.0275 - val_STATE_loss: 0.0167 - val_COUNT_LINE_loss: 0.0118 - val_REGION_accuracy: 0.9940 - val_STATE_accuracy: 0.9952 - val_COUNT_LINE_accuracy: 0.9962\n",
      "Epoch 56/100\n",
      "485/484 [==============================] - 179s 369ms/step - loss: 0.0321 - REGION_loss: 0.0077 - STATE_loss: 0.0043 - COUNT_LINE_loss: 0.0029 - REGION_accuracy: 0.9983 - STATE_accuracy: 0.9990 - COUNT_LINE_accuracy: 0.9993 - val_loss: 0.0763 - val_REGION_loss: 0.0304 - val_STATE_loss: 0.0164 - val_COUNT_LINE_loss: 0.0122 - val_REGION_accuracy: 0.9937 - val_STATE_accuracy: 0.9961 - val_COUNT_LINE_accuracy: 0.9966\n",
      "Epoch 57/100\n",
      "485/484 [==============================] - 180s 372ms/step - loss: 0.0328 - REGION_loss: 0.0084 - STATE_loss: 0.0041 - COUNT_LINE_loss: 0.0031 - REGION_accuracy: 0.9983 - STATE_accuracy: 0.9989 - COUNT_LINE_accuracy: 0.9992 - val_loss: 0.0660 - val_REGION_loss: 0.0266 - val_STATE_loss: 0.0144 - val_COUNT_LINE_loss: 0.0078 - val_REGION_accuracy: 0.9937 - val_STATE_accuracy: 0.9964 - val_COUNT_LINE_accuracy: 0.9978\n",
      "Epoch 58/100\n",
      "485/484 [==============================] - 178s 366ms/step - loss: 0.0336 - REGION_loss: 0.0080 - STATE_loss: 0.0049 - COUNT_LINE_loss: 0.0036 - REGION_accuracy: 0.9984 - STATE_accuracy: 0.9987 - COUNT_LINE_accuracy: 0.9991 - val_loss: 0.0754 - val_REGION_loss: 0.0285 - val_STATE_loss: 0.0180 - val_COUNT_LINE_loss: 0.0116 - val_REGION_accuracy: 0.9936 - val_STATE_accuracy: 0.9947 - val_COUNT_LINE_accuracy: 0.9961\n",
      "Epoch 59/100\n",
      "485/484 [==============================] - 176s 363ms/step - loss: 0.0330 - REGION_loss: 0.0084 - STATE_loss: 0.0043 - COUNT_LINE_loss: 0.0030 - REGION_accuracy: 0.9982 - STATE_accuracy: 0.9988 - COUNT_LINE_accuracy: 0.9994 - val_loss: 0.0736 - val_REGION_loss: 0.0315 - val_STATE_loss: 0.0162 - val_COUNT_LINE_loss: 0.0088 - val_REGION_accuracy: 0.9940 - val_STATE_accuracy: 0.9954 - val_COUNT_LINE_accuracy: 0.9969\n",
      "Epoch 60/100\n",
      "485/484 [==============================] - 176s 364ms/step - loss: 0.0325 - REGION_loss: 0.0078 - STATE_loss: 0.0044 - COUNT_LINE_loss: 0.0031 - REGION_accuracy: 0.9985 - STATE_accuracy: 0.9986 - COUNT_LINE_accuracy: 0.9993 - val_loss: 0.0764 - val_REGION_loss: 0.0314 - val_STATE_loss: 0.0158 - val_COUNT_LINE_loss: 0.0121 - val_REGION_accuracy: 0.9926 - val_STATE_accuracy: 0.9954 - val_COUNT_LINE_accuracy: 0.9966\n",
      "Epoch 61/100\n",
      "485/484 [==============================] - 178s 366ms/step - loss: 0.0328 - REGION_loss: 0.0085 - STATE_loss: 0.0045 - COUNT_LINE_loss: 0.0026 - REGION_accuracy: 0.9983 - STATE_accuracy: 0.9990 - COUNT_LINE_accuracy: 0.9994 - val_loss: 0.0775 - val_REGION_loss: 0.0302 - val_STATE_loss: 0.0184 - val_COUNT_LINE_loss: 0.0118 - val_REGION_accuracy: 0.9931 - val_STATE_accuracy: 0.9950 - val_COUNT_LINE_accuracy: 0.9964\n",
      "Epoch 62/100\n",
      "485/484 [==============================] - 174s 359ms/step - loss: 0.0325 - REGION_loss: 0.0080 - STATE_loss: 0.0041 - COUNT_LINE_loss: 0.0032 - REGION_accuracy: 0.9983 - STATE_accuracy: 0.9989 - COUNT_LINE_accuracy: 0.9993 - val_loss: 0.0778 - val_REGION_loss: 0.0305 - val_STATE_loss: 0.0182 - val_COUNT_LINE_loss: 0.0121 - val_REGION_accuracy: 0.9938 - val_STATE_accuracy: 0.9951 - val_COUNT_LINE_accuracy: 0.9964\n",
      "Epoch 63/100\n",
      "485/484 [==============================] - 176s 363ms/step - loss: 0.0309 - REGION_loss: 0.0069 - STATE_loss: 0.0034 - COUNT_LINE_loss: 0.0035 - REGION_accuracy: 0.9984 - STATE_accuracy: 0.9993 - COUNT_LINE_accuracy: 0.9991 - val_loss: 0.0639 - val_REGION_loss: 0.0236 - val_STATE_loss: 0.0144 - val_COUNT_LINE_loss: 0.0089 - val_REGION_accuracy: 0.9952 - val_STATE_accuracy: 0.9962 - val_COUNT_LINE_accuracy: 0.9972\n",
      "Epoch 64/100\n",
      "485/484 [==============================] - 177s 366ms/step - loss: 0.0328 - REGION_loss: 0.0082 - STATE_loss: 0.0047 - COUNT_LINE_loss: 0.0029 - REGION_accuracy: 0.9984 - STATE_accuracy: 0.9987 - COUNT_LINE_accuracy: 0.9993 - val_loss: 0.0753 - val_REGION_loss: 0.0311 - val_STATE_loss: 0.0165 - val_COUNT_LINE_loss: 0.0107 - val_REGION_accuracy: 0.9932 - val_STATE_accuracy: 0.9952 - val_COUNT_LINE_accuracy: 0.9967\n",
      "Epoch 65/100\n",
      "485/484 [==============================] - 176s 364ms/step - loss: 0.0341 - REGION_loss: 0.0087 - STATE_loss: 0.0051 - COUNT_LINE_loss: 0.0033 - REGION_accuracy: 0.9984 - STATE_accuracy: 0.9986 - COUNT_LINE_accuracy: 0.9992 - val_loss: 0.0755 - val_REGION_loss: 0.0319 - val_STATE_loss: 0.0158 - val_COUNT_LINE_loss: 0.0108 - val_REGION_accuracy: 0.9931 - val_STATE_accuracy: 0.9953 - val_COUNT_LINE_accuracy: 0.9967\n",
      "Epoch 66/100\n",
      "485/484 [==============================] - 175s 361ms/step - loss: 0.0319 - REGION_loss: 0.0074 - STATE_loss: 0.0044 - COUNT_LINE_loss: 0.0031 - REGION_accuracy: 0.9986 - STATE_accuracy: 0.9988 - COUNT_LINE_accuracy: 0.9993 - val_loss: 0.0703 - val_REGION_loss: 0.0279 - val_STATE_loss: 0.0160 - val_COUNT_LINE_loss: 0.0093 - val_REGION_accuracy: 0.9931 - val_STATE_accuracy: 0.9953 - val_COUNT_LINE_accuracy: 0.9973\n",
      "Epoch 67/100\n",
      "485/484 [==============================] - 176s 363ms/step - loss: 0.0311 - REGION_loss: 0.0071 - STATE_loss: 0.0041 - COUNT_LINE_loss: 0.0029 - REGION_accuracy: 0.9984 - STATE_accuracy: 0.9989 - COUNT_LINE_accuracy: 0.9994 - val_loss: 0.0730 - val_REGION_loss: 0.0276 - val_STATE_loss: 0.0173 - val_COUNT_LINE_loss: 0.0111 - val_REGION_accuracy: 0.9945 - val_STATE_accuracy: 0.9948 - val_COUNT_LINE_accuracy: 0.9968\n",
      "Epoch 68/100\n",
      "485/484 [==============================] - 175s 360ms/step - loss: 0.0321 - REGION_loss: 0.0079 - STATE_loss: 0.0043 - COUNT_LINE_loss: 0.0029 - REGION_accuracy: 0.9983 - STATE_accuracy: 0.9989 - COUNT_LINE_accuracy: 0.9994 - val_loss: 0.0758 - val_REGION_loss: 0.0306 - val_STATE_loss: 0.0155 - val_COUNT_LINE_loss: 0.0128 - val_REGION_accuracy: 0.9932 - val_STATE_accuracy: 0.9956 - val_COUNT_LINE_accuracy: 0.9967\n",
      "Epoch 69/100\n",
      "485/484 [==============================] - 179s 369ms/step - loss: 0.0327 - REGION_loss: 0.0077 - STATE_loss: 0.0049 - COUNT_LINE_loss: 0.0031 - REGION_accuracy: 0.9984 - STATE_accuracy: 0.9988 - COUNT_LINE_accuracy: 0.9993 - val_loss: 0.0819 - val_REGION_loss: 0.0324 - val_STATE_loss: 0.0193 - val_COUNT_LINE_loss: 0.0134 - val_REGION_accuracy: 0.9920 - val_STATE_accuracy: 0.9942 - val_COUNT_LINE_accuracy: 0.9959\n",
      "Epoch 70/100\n",
      "485/484 [==============================] - 177s 365ms/step - loss: 0.0313 - REGION_loss: 0.0070 - STATE_loss: 0.0044 - COUNT_LINE_loss: 0.0030 - REGION_accuracy: 0.9987 - STATE_accuracy: 0.9990 - COUNT_LINE_accuracy: 0.9994 - val_loss: 0.0817 - val_REGION_loss: 0.0326 - val_STATE_loss: 0.0203 - val_COUNT_LINE_loss: 0.0119 - val_REGION_accuracy: 0.9934 - val_STATE_accuracy: 0.9942 - val_COUNT_LINE_accuracy: 0.9968\n",
      "Epoch 71/100\n",
      "485/484 [==============================] - 179s 369ms/step - loss: 0.0302 - REGION_loss: 0.0069 - STATE_loss: 0.0039 - COUNT_LINE_loss: 0.0026 - REGION_accuracy: 0.9987 - STATE_accuracy: 0.9991 - COUNT_LINE_accuracy: 0.9995 - val_loss: 0.0685 - val_REGION_loss: 0.0280 - val_STATE_loss: 0.0141 - val_COUNT_LINE_loss: 0.0096 - val_REGION_accuracy: 0.9929 - val_STATE_accuracy: 0.9963 - val_COUNT_LINE_accuracy: 0.9967\n",
      "Epoch 72/100\n",
      "485/484 [==============================] - 176s 363ms/step - loss: 0.0296 - REGION_loss: 0.0064 - STATE_loss: 0.0034 - COUNT_LINE_loss: 0.0029 - REGION_accuracy: 0.9989 - STATE_accuracy: 0.9991 - COUNT_LINE_accuracy: 0.9994 - val_loss: 0.0790 - val_REGION_loss: 0.0327 - val_STATE_loss: 0.0186 - val_COUNT_LINE_loss: 0.0109 - val_REGION_accuracy: 0.9932 - val_STATE_accuracy: 0.9945 - val_COUNT_LINE_accuracy: 0.9973\n",
      "Epoch 73/100\n",
      "485/484 [==============================] - 179s 369ms/step - loss: 0.0322 - REGION_loss: 0.0073 - STATE_loss: 0.0045 - COUNT_LINE_loss: 0.0036 - REGION_accuracy: 0.9986 - STATE_accuracy: 0.9988 - COUNT_LINE_accuracy: 0.9992 - val_loss: 0.0753 - val_REGION_loss: 0.0297 - val_STATE_loss: 0.0168 - val_COUNT_LINE_loss: 0.0121 - val_REGION_accuracy: 0.9940 - val_STATE_accuracy: 0.9954 - val_COUNT_LINE_accuracy: 0.9972\n",
      "Epoch 74/100\n",
      "485/484 [==============================] - 176s 364ms/step - loss: 0.0320 - REGION_loss: 0.0077 - STATE_loss: 0.0046 - COUNT_LINE_loss: 0.0029 - REGION_accuracy: 0.9984 - STATE_accuracy: 0.9989 - COUNT_LINE_accuracy: 0.9993 - val_loss: 0.0738 - val_REGION_loss: 0.0301 - val_STATE_loss: 0.0162 - val_COUNT_LINE_loss: 0.0107 - val_REGION_accuracy: 0.9938 - val_STATE_accuracy: 0.9957 - val_COUNT_LINE_accuracy: 0.9968\n",
      "Epoch 75/100\n",
      "485/484 [==============================] - 179s 370ms/step - loss: 0.0314 - REGION_loss: 0.0080 - STATE_loss: 0.0037 - COUNT_LINE_loss: 0.0029 - REGION_accuracy: 0.9983 - STATE_accuracy: 0.9991 - COUNT_LINE_accuracy: 0.9994 - val_loss: 0.0732 - val_REGION_loss: 0.0278 - val_STATE_loss: 0.0173 - val_COUNT_LINE_loss: 0.0113 - val_REGION_accuracy: 0.9934 - val_STATE_accuracy: 0.9951 - val_COUNT_LINE_accuracy: 0.9967\n",
      "Epoch 76/100\n"
     ]
    },
    {
     "name": "stdout",
     "output_type": "stream",
     "text": [
      "485/484 [==============================] - 177s 365ms/step - loss: 0.0318 - REGION_loss: 0.0078 - STATE_loss: 0.0044 - COUNT_LINE_loss: 0.0028 - REGION_accuracy: 0.9984 - STATE_accuracy: 0.9989 - COUNT_LINE_accuracy: 0.9995 - val_loss: 0.0730 - val_REGION_loss: 0.0303 - val_STATE_loss: 0.0165 - val_COUNT_LINE_loss: 0.0095 - val_REGION_accuracy: 0.9929 - val_STATE_accuracy: 0.9953 - val_COUNT_LINE_accuracy: 0.9970\n",
      "Epoch 77/100\n",
      "485/484 [==============================] - 176s 363ms/step - loss: 0.0306 - REGION_loss: 0.0074 - STATE_loss: 0.0038 - COUNT_LINE_loss: 0.0026 - REGION_accuracy: 0.9984 - STATE_accuracy: 0.9990 - COUNT_LINE_accuracy: 0.9995 - val_loss: 0.0719 - val_REGION_loss: 0.0286 - val_STATE_loss: 0.0157 - val_COUNT_LINE_loss: 0.0108 - val_REGION_accuracy: 0.9943 - val_STATE_accuracy: 0.9958 - val_COUNT_LINE_accuracy: 0.9973\n",
      "Epoch 78/100\n",
      "485/484 [==============================] - 178s 366ms/step - loss: 0.0314 - REGION_loss: 0.0072 - STATE_loss: 0.0045 - COUNT_LINE_loss: 0.0029 - REGION_accuracy: 0.9985 - STATE_accuracy: 0.9989 - COUNT_LINE_accuracy: 0.9995 - val_loss: 0.0787 - val_REGION_loss: 0.0303 - val_STATE_loss: 0.0203 - val_COUNT_LINE_loss: 0.0113 - val_REGION_accuracy: 0.9927 - val_STATE_accuracy: 0.9941 - val_COUNT_LINE_accuracy: 0.9967\n",
      "Epoch 79/100\n",
      "485/484 [==============================] - 175s 360ms/step - loss: 0.0305 - REGION_loss: 0.0067 - STATE_loss: 0.0044 - COUNT_LINE_loss: 0.0027 - REGION_accuracy: 0.9988 - STATE_accuracy: 0.9990 - COUNT_LINE_accuracy: 0.9994 - val_loss: 0.0677 - val_REGION_loss: 0.0265 - val_STATE_loss: 0.0152 - val_COUNT_LINE_loss: 0.0092 - val_REGION_accuracy: 0.9942 - val_STATE_accuracy: 0.9958 - val_COUNT_LINE_accuracy: 0.9973\n",
      "Epoch 80/100\n",
      "485/484 [==============================] - 176s 363ms/step - loss: 0.0307 - REGION_loss: 0.0073 - STATE_loss: 0.0042 - COUNT_LINE_loss: 0.0025 - REGION_accuracy: 0.9984 - STATE_accuracy: 0.9988 - COUNT_LINE_accuracy: 0.9996 - val_loss: 0.0763 - val_REGION_loss: 0.0274 - val_STATE_loss: 0.0190 - val_COUNT_LINE_loss: 0.0132 - val_REGION_accuracy: 0.9936 - val_STATE_accuracy: 0.9948 - val_COUNT_LINE_accuracy: 0.9963\n",
      "Epoch 81/100\n",
      "485/484 [==============================] - 179s 369ms/step - loss: 0.0326 - REGION_loss: 0.0081 - STATE_loss: 0.0044 - COUNT_LINE_loss: 0.0033 - REGION_accuracy: 0.9985 - STATE_accuracy: 0.9991 - COUNT_LINE_accuracy: 0.9993 - val_loss: 0.0786 - val_REGION_loss: 0.0320 - val_STATE_loss: 0.0187 - val_COUNT_LINE_loss: 0.0112 - val_REGION_accuracy: 0.9932 - val_STATE_accuracy: 0.9948 - val_COUNT_LINE_accuracy: 0.9966\n",
      "Epoch 82/100\n",
      "485/484 [==============================] - 178s 367ms/step - loss: 0.0309 - REGION_loss: 0.0070 - STATE_loss: 0.0042 - COUNT_LINE_loss: 0.0029 - REGION_accuracy: 0.9986 - STATE_accuracy: 0.9988 - COUNT_LINE_accuracy: 0.9994 - val_loss: 0.0758 - val_REGION_loss: 0.0304 - val_STATE_loss: 0.0161 - val_COUNT_LINE_loss: 0.0125 - val_REGION_accuracy: 0.9927 - val_STATE_accuracy: 0.9956 - val_COUNT_LINE_accuracy: 0.9963\n",
      "Epoch 83/100\n",
      "485/484 [==============================] - 179s 370ms/step - loss: 0.0311 - REGION_loss: 0.0072 - STATE_loss: 0.0044 - COUNT_LINE_loss: 0.0027 - REGION_accuracy: 0.9986 - STATE_accuracy: 0.9989 - COUNT_LINE_accuracy: 0.9995 - val_loss: 0.0712 - val_REGION_loss: 0.0290 - val_STATE_loss: 0.0165 - val_COUNT_LINE_loss: 0.0090 - val_REGION_accuracy: 0.9932 - val_STATE_accuracy: 0.9961 - val_COUNT_LINE_accuracy: 0.9975\n",
      "Epoch 84/100\n",
      "485/484 [==============================] - 179s 370ms/step - loss: 0.0285 - REGION_loss: 0.0058 - STATE_loss: 0.0036 - COUNT_LINE_loss: 0.0023 - REGION_accuracy: 0.9989 - STATE_accuracy: 0.9991 - COUNT_LINE_accuracy: 0.9994 - val_loss: 0.0724 - val_REGION_loss: 0.0280 - val_STATE_loss: 0.0170 - val_COUNT_LINE_loss: 0.0107 - val_REGION_accuracy: 0.9943 - val_STATE_accuracy: 0.9953 - val_COUNT_LINE_accuracy: 0.9967\n",
      "Epoch 85/100\n",
      "485/484 [==============================] - 182s 376ms/step - loss: 0.0310 - REGION_loss: 0.0076 - STATE_loss: 0.0038 - COUNT_LINE_loss: 0.0029 - REGION_accuracy: 0.9986 - STATE_accuracy: 0.9991 - COUNT_LINE_accuracy: 0.9994 - val_loss: 0.0720 - val_REGION_loss: 0.0285 - val_STATE_loss: 0.0167 - val_COUNT_LINE_loss: 0.0101 - val_REGION_accuracy: 0.9937 - val_STATE_accuracy: 0.9954 - val_COUNT_LINE_accuracy: 0.9974\n",
      "Epoch 86/100\n",
      "485/484 [==============================] - 182s 376ms/step - loss: 0.0290 - REGION_loss: 0.0064 - STATE_loss: 0.0033 - COUNT_LINE_loss: 0.0025 - REGION_accuracy: 0.9986 - STATE_accuracy: 0.9993 - COUNT_LINE_accuracy: 0.9995 - val_loss: 0.0769 - val_REGION_loss: 0.0310 - val_STATE_loss: 0.0179 - val_COUNT_LINE_loss: 0.0113 - val_REGION_accuracy: 0.9942 - val_STATE_accuracy: 0.9950 - val_COUNT_LINE_accuracy: 0.9972\n",
      "Epoch 87/100\n",
      "485/484 [==============================] - 180s 371ms/step - loss: 0.0315 - REGION_loss: 0.0075 - STATE_loss: 0.0044 - COUNT_LINE_loss: 0.0028 - REGION_accuracy: 0.9986 - STATE_accuracy: 0.9987 - COUNT_LINE_accuracy: 0.9994 - val_loss: 0.0716 - val_REGION_loss: 0.0285 - val_STATE_loss: 0.0159 - val_COUNT_LINE_loss: 0.0104 - val_REGION_accuracy: 0.9935 - val_STATE_accuracy: 0.9957 - val_COUNT_LINE_accuracy: 0.9972\n",
      "Epoch 88/100\n",
      "485/484 [==============================] - 179s 370ms/step - loss: 0.0321 - REGION_loss: 0.0082 - STATE_loss: 0.0043 - COUNT_LINE_loss: 0.0028 - REGION_accuracy: 0.9985 - STATE_accuracy: 0.9990 - COUNT_LINE_accuracy: 0.9995 - val_loss: 0.0731 - val_REGION_loss: 0.0288 - val_STATE_loss: 0.0167 - val_COUNT_LINE_loss: 0.0108 - val_REGION_accuracy: 0.9936 - val_STATE_accuracy: 0.9948 - val_COUNT_LINE_accuracy: 0.9969\n",
      "Epoch 89/100\n",
      "485/484 [==============================] - 185s 381ms/step - loss: 0.0290 - REGION_loss: 0.0067 - STATE_loss: 0.0036 - COUNT_LINE_loss: 0.0020 - REGION_accuracy: 0.9986 - STATE_accuracy: 0.9992 - COUNT_LINE_accuracy: 0.9996 - val_loss: 0.0609 - val_REGION_loss: 0.0236 - val_STATE_loss: 0.0136 - val_COUNT_LINE_loss: 0.0070 - val_REGION_accuracy: 0.9936 - val_STATE_accuracy: 0.9959 - val_COUNT_LINE_accuracy: 0.9979\n",
      "Epoch 90/100\n",
      "485/484 [==============================] - 183s 378ms/step - loss: 0.0318 - REGION_loss: 0.0081 - STATE_loss: 0.0041 - COUNT_LINE_loss: 0.0029 - REGION_accuracy: 0.9983 - STATE_accuracy: 0.9989 - COUNT_LINE_accuracy: 0.9994 - val_loss: 0.0730 - val_REGION_loss: 0.0278 - val_STATE_loss: 0.0174 - val_COUNT_LINE_loss: 0.0110 - val_REGION_accuracy: 0.9940 - val_STATE_accuracy: 0.9950 - val_COUNT_LINE_accuracy: 0.9970\n",
      "Epoch 91/100\n",
      "485/484 [==============================] - 179s 369ms/step - loss: 0.0293 - REGION_loss: 0.0064 - STATE_loss: 0.0037 - COUNT_LINE_loss: 0.0024 - REGION_accuracy: 0.9986 - STATE_accuracy: 0.9991 - COUNT_LINE_accuracy: 0.9995 - val_loss: 0.0770 - val_REGION_loss: 0.0323 - val_STATE_loss: 0.0166 - val_COUNT_LINE_loss: 0.0113 - val_REGION_accuracy: 0.9931 - val_STATE_accuracy: 0.9952 - val_COUNT_LINE_accuracy: 0.9970\n",
      "Epoch 92/100\n",
      "485/484 [==============================] - 180s 371ms/step - loss: 0.0294 - REGION_loss: 0.0068 - STATE_loss: 0.0033 - COUNT_LINE_loss: 0.0025 - REGION_accuracy: 0.9986 - STATE_accuracy: 0.9993 - COUNT_LINE_accuracy: 0.9996 - val_loss: 0.0751 - val_REGION_loss: 0.0295 - val_STATE_loss: 0.0182 - val_COUNT_LINE_loss: 0.0107 - val_REGION_accuracy: 0.9931 - val_STATE_accuracy: 0.9950 - val_COUNT_LINE_accuracy: 0.9967\n",
      "Epoch 93/100\n",
      "485/484 [==============================] - 182s 375ms/step - loss: 0.0296 - REGION_loss: 0.0068 - STATE_loss: 0.0035 - COUNT_LINE_loss: 0.0025 - REGION_accuracy: 0.9988 - STATE_accuracy: 0.9992 - COUNT_LINE_accuracy: 0.9994 - val_loss: 0.0738 - val_REGION_loss: 0.0287 - val_STATE_loss: 0.0171 - val_COUNT_LINE_loss: 0.0112 - val_REGION_accuracy: 0.9934 - val_STATE_accuracy: 0.9956 - val_COUNT_LINE_accuracy: 0.9967\n",
      "Epoch 94/100\n",
      "485/484 [==============================] - 181s 374ms/step - loss: 0.0308 - REGION_loss: 0.0075 - STATE_loss: 0.0041 - COUNT_LINE_loss: 0.0024 - REGION_accuracy: 0.9982 - STATE_accuracy: 0.9991 - COUNT_LINE_accuracy: 0.9994 - val_loss: 0.0801 - val_REGION_loss: 0.0324 - val_STATE_loss: 0.0187 - val_COUNT_LINE_loss: 0.0123 - val_REGION_accuracy: 0.9935 - val_STATE_accuracy: 0.9951 - val_COUNT_LINE_accuracy: 0.9966\n",
      "Epoch 95/100\n",
      "485/484 [==============================] - 181s 373ms/step - loss: 0.0304 - REGION_loss: 0.0073 - STATE_loss: 0.0035 - COUNT_LINE_loss: 0.0027 - REGION_accuracy: 0.9985 - STATE_accuracy: 0.9991 - COUNT_LINE_accuracy: 0.9995 - val_loss: 0.0704 - val_REGION_loss: 0.0272 - val_STATE_loss: 0.0159 - val_COUNT_LINE_loss: 0.0106 - val_REGION_accuracy: 0.9946 - val_STATE_accuracy: 0.9962 - val_COUNT_LINE_accuracy: 0.9972\n",
      "Epoch 96/100\n",
      "485/484 [==============================] - 182s 374ms/step - loss: 0.0305 - REGION_loss: 0.0072 - STATE_loss: 0.0039 - COUNT_LINE_loss: 0.0027 - REGION_accuracy: 0.9986 - STATE_accuracy: 0.9992 - COUNT_LINE_accuracy: 0.9994 - val_loss: 0.0760 - val_REGION_loss: 0.0336 - val_STATE_loss: 0.0155 - val_COUNT_LINE_loss: 0.0102 - val_REGION_accuracy: 0.9927 - val_STATE_accuracy: 0.9953 - val_COUNT_LINE_accuracy: 0.9972\n",
      "Epoch 97/100\n",
      "485/484 [==============================] - 180s 370ms/step - loss: 0.0302 - REGION_loss: 0.0069 - STATE_loss: 0.0038 - COUNT_LINE_loss: 0.0027 - REGION_accuracy: 0.9985 - STATE_accuracy: 0.9991 - COUNT_LINE_accuracy: 0.9995 - val_loss: 0.0743 - val_REGION_loss: 0.0276 - val_STATE_loss: 0.0173 - val_COUNT_LINE_loss: 0.0126 - val_REGION_accuracy: 0.9930 - val_STATE_accuracy: 0.9954 - val_COUNT_LINE_accuracy: 0.9968\n",
      "Epoch 98/100\n",
      "485/484 [==============================] - 181s 373ms/step - loss: 0.0312 - REGION_loss: 0.0073 - STATE_loss: 0.0047 - COUNT_LINE_loss: 0.0025 - REGION_accuracy: 0.9986 - STATE_accuracy: 0.9990 - COUNT_LINE_accuracy: 0.9995 - val_loss: 0.0762 - val_REGION_loss: 0.0319 - val_STATE_loss: 0.0173 - val_COUNT_LINE_loss: 0.0102 - val_REGION_accuracy: 0.9922 - val_STATE_accuracy: 0.9948 - val_COUNT_LINE_accuracy: 0.9964\n",
      "Epoch 99/100\n",
      "485/484 [==============================] - 183s 377ms/step - loss: 0.0307 - REGION_loss: 0.0074 - STATE_loss: 0.0036 - COUNT_LINE_loss: 0.0030 - REGION_accuracy: 0.9983 - STATE_accuracy: 0.9993 - COUNT_LINE_accuracy: 0.9994 - val_loss: 0.0684 - val_REGION_loss: 0.0275 - val_STATE_loss: 0.0147 - val_COUNT_LINE_loss: 0.0095 - val_REGION_accuracy: 0.9934 - val_STATE_accuracy: 0.9959 - val_COUNT_LINE_accuracy: 0.9969\n",
      "Epoch 100/100\n",
      "485/484 [==============================] - 182s 376ms/step - loss: 0.0306 - REGION_loss: 0.0071 - STATE_loss: 0.0045 - COUNT_LINE_loss: 0.0022 - REGION_accuracy: 0.9986 - STATE_accuracy: 0.9988 - COUNT_LINE_accuracy: 0.9995 - val_loss: 0.0802 - val_REGION_loss: 0.0296 - val_STATE_loss: 0.0200 - val_COUNT_LINE_loss: 0.0138 - val_REGION_accuracy: 0.9929 - val_STATE_accuracy: 0.9946 - val_COUNT_LINE_accuracy: 0.9953\n"
     ]
    }
   ],
   "source": [
    "# train\n",
    "model = npClassificator.train(LOG_DIR, cnn=\"simple\")"
   ]
  },
  {
   "cell_type": "code",
   "execution_count": 7,
   "metadata": {},
   "outputs": [
    {
     "name": "stdout",
     "output_type": "stream",
     "text": [
      "WARNING:tensorflow:From /mnt/storage2/var/www/nomeroff-net/NomeroffNet/OptionsDetector.py:254: Model.evaluate_generator (from tensorflow.python.keras.engine.training) is deprecated and will be removed in a future version.\n",
      "Instructions for updating:\n",
      "Please use Model.evaluate, which supports generators.\n",
      "test loss: 0.06794439256191254\n",
      "test loss: 0.02302922122180462    test loss: 0.01853366196155548       test loss: 0.009634378366172314\n",
      "test acc: 0.9948326945304871    test acc 0.9959399700164795      test acc 0.9972932934761047\n"
     ]
    },
    {
     "data": {
      "text/plain": [
       "(0.06794439256191254,\n",
       " 0.02302922122180462,\n",
       " 0.01853366196155548,\n",
       " 0.009634378366172314,\n",
       " 0.9948326945304871,\n",
       " 0.9959399700164795,\n",
       " 0.9972932934761047)"
      ]
     },
     "execution_count": 7,
     "metadata": {},
     "output_type": "execute_result"
    }
   ],
   "source": [
    "npClassificator.test()"
   ]
  },
  {
   "cell_type": "code",
   "execution_count": 9,
   "metadata": {},
   "outputs": [
    {
     "name": "stdout",
     "output_type": "stream",
     "text": [
      "model save to /mnt/storage2/var/www/nomeroff-net/models/numberplate_options_2020_08_20_tensorflow_v2.3.h5\n"
     ]
    }
   ],
   "source": [
    "npClassificator.save(RESULT_PATH)"
   ]
  },
  {
   "cell_type": "code",
   "execution_count": null,
   "metadata": {},
   "outputs": [],
   "source": []
  }
 ],
 "metadata": {
  "kernelspec": {
   "display_name": "Python 3",
   "language": "python",
   "name": "python3"
  },
  "language_info": {
   "codemirror_mode": {
    "name": "ipython",
    "version": 3
   },
   "file_extension": ".py",
   "mimetype": "text/x-python",
   "name": "python",
   "nbconvert_exporter": "python",
   "pygments_lexer": "ipython3",
   "version": "3.8.5"
  }
 },
 "nbformat": 4,
 "nbformat_minor": 2
}
