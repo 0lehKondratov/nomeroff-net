{
 "cells": [
  {
   "cell_type": "markdown",
   "metadata": {},
   "source": [
    "# This example demonstrate how to train region detector model (standart image classification model)."
   ]
  },
  {
   "cell_type": "markdown",
   "metadata": {},
   "source": [
    "For train datasets please download last version of dataset [https://nomeroff.net.ua/datasets/](https://nomeroff.net.ua/datasets/). Unpack archive and rename to **./datasets/** .\n",
    "For examle\n",
    "```bash\n",
    "cd ./datasets/ocr\n",
    "wget https://nomeroff.net.ua/datasets/autoriaNumberplateOptionsDataset-2019-02-20.zip\n",
    "unzip autoriaNumberplateOptionsDataset-2019-02-20.zip\n",
    "mv autoriaNumberplateOptionsDataset-2019-02-20 ua\n",
    "```\n",
    "or use your own dataset."
   ]
  },
  {
   "cell_type": "code",
   "execution_count": 1,
   "metadata": {},
   "outputs": [
    {
     "name": "stdout",
     "output_type": "stream",
     "text": [
      "Limited tf.compat.v2.summary API due to missing TensorBoard installation\n"
     ]
    },
    {
     "name": "stderr",
     "output_type": "stream",
     "text": [
      "Using TensorFlow backend.\n"
     ]
    }
   ],
   "source": [
    "import os\n",
    "import sys\n",
    "import warnings\n",
    "warnings.filterwarnings('ignore')\n",
    "\n",
    "# change this property\n",
    "NOMEROFF_NET_DIR = os.path.abspath('../')\n",
    "\n",
    "DATASET_NAME = \"options\"\n",
    "VERSION = \"2019_03_05\"\n",
    "\n",
    "LOG_DIR = os.path.join(NOMEROFF_NET_DIR, \"logs/\")\n",
    "PATH_TO_DATASET = os.path.join(NOMEROFF_NET_DIR, \"datasets/\", DATASET_NAME)\n",
    "RESULT_PATH = os.path.join(NOMEROFF_NET_DIR, \"models/\", 'numberplate_{}_{}.h5'.format(DATASET_NAME, VERSION))\n",
    "\n",
    "FROZEN_MODEL_PATH = os.path.join(NOMEROFF_NET_DIR, \"models/\", 'numberplate_{}_{}.pb'.format(DATASET_NAME, VERSION))\n",
    "\n",
    "sys.path.append(NOMEROFF_NET_DIR)\n",
    "\n",
    "from NomeroffNet import OptionsDetector\n",
    "from NomeroffNet.Base import convert_keras_to_freeze_pb"
   ]
  },
  {
   "cell_type": "code",
   "execution_count": 2,
   "metadata": {},
   "outputs": [],
   "source": [
    "# definde your parameters\n",
    "# definde your parameters\n",
    "class MyNumberClassificator(OptionsDetector):\n",
    "    def __init__(self):\n",
    "        OptionsDetector.__init__(self)\n",
    "        # outputs 1\n",
    "        self.CLASS_STATE = [\"BACKGROUND\", \"FILLED\", \"NOT_FILLED\"]\n",
    "        \n",
    "        # outputs 2\n",
    "        self.CLASS_REGION = [\"xx-unknown\", \"eu-ua-2015\", \"eu-ua-2004\", \"eu-ua-1995\", \"eu\", \"xx-transit\", \"ru\"]\n",
    "        \n",
    "        self.EPOCHS           = 100\n",
    "        self.BATCH_SIZE       = 128\n",
    "        \n",
    "        self.HEIGHT         = 64\n",
    "        self.WEIGHT         = 295\n"
   ]
  },
  {
   "cell_type": "code",
   "execution_count": 3,
   "metadata": {},
   "outputs": [
    {
     "name": "stdout",
     "output_type": "stream",
     "text": [
      "START PREPARING\n",
      "start train build\n",
      "end train build\n",
      "start test build\n",
      "end test build\n",
      "start test build\n",
      "end test build\n",
      "DATA PREPARED\n"
     ]
    }
   ],
   "source": [
    "# initialize region detector.\n",
    "numberClassificator = MyNumberClassificator()\n",
    "numberClassificator.prepare(PATH_TO_DATASET)"
   ]
  },
  {
   "cell_type": "code",
   "execution_count": 4,
   "metadata": {},
   "outputs": [
    {
     "name": "stderr",
     "output_type": "stream",
     "text": [
      "WARNING: Logging before flag parsing goes to stderr.\n",
      "W0305 19:06:01.922055 139675496924480 deprecation.py:506] From /usr/local/lib64/python3.6/site-packages/keras/backend/tensorflow_backend.py:3445: calling dropout (from tensorflow.python.ops.nn_ops) with keep_prob is deprecated and will be removed in a future version.\n",
      "Instructions for updating:\n",
      "Please use `rate` instead of `keep_prob`. Rate should be set to `rate = 1 - keep_prob`.\n",
      "W0305 19:06:01.959979 139675496924480 deprecation.py:506] From /usr/local/lib/python3.6/site-packages/tensorflow/python/training/moving_averages.py:210: calling Zeros.__init__ (from tensorflow.python.ops.init_ops) with dtype is deprecated and will be removed in a future version.\n",
      "Instructions for updating:\n",
      "Call initializer instance with the dtype argument instead of passing it to the constructor\n"
     ]
    },
    {
     "name": "stdout",
     "output_type": "stream",
     "text": [
      "Epoch 1/100\n",
      "121/120 [==============================] - 22s 185ms/step - loss: 0.8482 - REGION_loss: 0.6366 - STATE_loss: 0.1991 - REGION_acc: 0.8760 - STATE_acc: 0.9545 - val_loss: 0.2384 - val_REGION_loss: 0.1683 - val_STATE_loss: 0.0527 - val_REGION_acc: 0.9700 - val_STATE_acc: 0.9854\n",
      "Epoch 2/100\n",
      "121/120 [==============================] - 20s 168ms/step - loss: 0.2029 - REGION_loss: 0.1391 - STATE_loss: 0.0451 - REGION_acc: 0.9692 - STATE_acc: 0.9880 - val_loss: 0.1522 - val_REGION_loss: 0.0923 - val_STATE_loss: 0.0403 - val_REGION_acc: 0.9775 - val_STATE_acc: 0.9872\n",
      "Epoch 3/100\n",
      "121/120 [==============================] - 20s 167ms/step - loss: 0.1409 - REGION_loss: 0.0888 - STATE_loss: 0.0321 - REGION_acc: 0.9764 - STATE_acc: 0.9909 - val_loss: 0.1225 - val_REGION_loss: 0.0714 - val_STATE_loss: 0.0308 - val_REGION_acc: 0.9812 - val_STATE_acc: 0.9895\n",
      "Epoch 4/100\n",
      "121/120 [==============================] - 20s 167ms/step - loss: 0.1170 - REGION_loss: 0.0693 - STATE_loss: 0.0273 - REGION_acc: 0.9813 - STATE_acc: 0.9926 - val_loss: 0.1213 - val_REGION_loss: 0.0696 - val_STATE_loss: 0.0313 - val_REGION_acc: 0.9808 - val_STATE_acc: 0.9897\n",
      "Epoch 5/100\n",
      "121/120 [==============================] - 20s 166ms/step - loss: 0.1001 - REGION_loss: 0.0573 - STATE_loss: 0.0224 - REGION_acc: 0.9842 - STATE_acc: 0.9933 - val_loss: 0.1001 - val_REGION_loss: 0.0551 - val_STATE_loss: 0.0247 - val_REGION_acc: 0.9846 - val_STATE_acc: 0.9918\n",
      "Epoch 6/100\n",
      "121/120 [==============================] - 20s 167ms/step - loss: 0.0857 - REGION_loss: 0.0458 - STATE_loss: 0.0196 - REGION_acc: 0.9868 - STATE_acc: 0.9946 - val_loss: 0.1037 - val_REGION_loss: 0.0533 - val_STATE_loss: 0.0302 - val_REGION_acc: 0.9840 - val_STATE_acc: 0.9902\n",
      "Epoch 7/100\n",
      "121/120 [==============================] - 20s 168ms/step - loss: 0.0788 - REGION_loss: 0.0423 - STATE_loss: 0.0164 - REGION_acc: 0.9888 - STATE_acc: 0.9955 - val_loss: 0.0981 - val_REGION_loss: 0.0481 - val_STATE_loss: 0.0300 - val_REGION_acc: 0.9851 - val_STATE_acc: 0.9909\n",
      "Epoch 8/100\n",
      "121/120 [==============================] - 20s 168ms/step - loss: 0.0737 - REGION_loss: 0.0399 - STATE_loss: 0.0138 - REGION_acc: 0.9882 - STATE_acc: 0.9958 - val_loss: 0.0935 - val_REGION_loss: 0.0518 - val_STATE_loss: 0.0220 - val_REGION_acc: 0.9831 - val_STATE_acc: 0.9920\n",
      "Epoch 9/100\n",
      "121/120 [==============================] - 20s 167ms/step - loss: 0.0692 - REGION_loss: 0.0358 - STATE_loss: 0.0139 - REGION_acc: 0.9901 - STATE_acc: 0.9957 - val_loss: 0.0878 - val_REGION_loss: 0.0429 - val_STATE_loss: 0.0255 - val_REGION_acc: 0.9869 - val_STATE_acc: 0.9918\n",
      "Epoch 10/100\n",
      "121/120 [==============================] - 20s 169ms/step - loss: 0.0646 - REGION_loss: 0.0336 - STATE_loss: 0.0117 - REGION_acc: 0.9903 - STATE_acc: 0.9969 - val_loss: 0.0854 - val_REGION_loss: 0.0440 - val_STATE_loss: 0.0223 - val_REGION_acc: 0.9867 - val_STATE_acc: 0.9924\n",
      "Epoch 11/100\n",
      "121/120 [==============================] - 21s 171ms/step - loss: 0.0574 - REGION_loss: 0.0266 - STATE_loss: 0.0118 - REGION_acc: 0.9932 - STATE_acc: 0.9966 - val_loss: 0.0829 - val_REGION_loss: 0.0391 - val_STATE_loss: 0.0250 - val_REGION_acc: 0.9886 - val_STATE_acc: 0.9922\n",
      "Epoch 12/100\n",
      "121/120 [==============================] - 20s 169ms/step - loss: 0.0553 - REGION_loss: 0.0273 - STATE_loss: 0.0093 - REGION_acc: 0.9919 - STATE_acc: 0.9970 - val_loss: 0.0821 - val_REGION_loss: 0.0391 - val_STATE_loss: 0.0246 - val_REGION_acc: 0.9883 - val_STATE_acc: 0.9936\n",
      "Epoch 13/100\n",
      "121/120 [==============================] - 21s 170ms/step - loss: 0.0499 - REGION_loss: 0.0235 - STATE_loss: 0.0082 - REGION_acc: 0.9932 - STATE_acc: 0.9978 - val_loss: 0.0782 - val_REGION_loss: 0.0375 - val_STATE_loss: 0.0226 - val_REGION_acc: 0.9881 - val_STATE_acc: 0.9931\n",
      "Epoch 14/100\n",
      "121/120 [==============================] - 20s 168ms/step - loss: 0.0486 - REGION_loss: 0.0236 - STATE_loss: 0.0071 - REGION_acc: 0.9932 - STATE_acc: 0.9983 - val_loss: 0.0846 - val_REGION_loss: 0.0417 - val_STATE_loss: 0.0252 - val_REGION_acc: 0.9870 - val_STATE_acc: 0.9927\n",
      "Epoch 15/100\n",
      "121/120 [==============================] - 20s 168ms/step - loss: 0.0464 - REGION_loss: 0.0208 - STATE_loss: 0.0081 - REGION_acc: 0.9939 - STATE_acc: 0.9979 - val_loss: 0.0745 - val_REGION_loss: 0.0355 - val_STATE_loss: 0.0216 - val_REGION_acc: 0.9890 - val_STATE_acc: 0.9938\n",
      "Epoch 16/100\n",
      "121/120 [==============================] - 20s 167ms/step - loss: 0.0421 - REGION_loss: 0.0181 - STATE_loss: 0.0068 - REGION_acc: 0.9941 - STATE_acc: 0.9978 - val_loss: 0.0855 - val_REGION_loss: 0.0395 - val_STATE_loss: 0.0289 - val_REGION_acc: 0.9888 - val_STATE_acc: 0.9918\n",
      "Epoch 17/100\n",
      "121/120 [==============================] - 21s 170ms/step - loss: 0.0427 - REGION_loss: 0.0198 - STATE_loss: 0.0061 - REGION_acc: 0.9937 - STATE_acc: 0.9984 - val_loss: 0.0755 - val_REGION_loss: 0.0398 - val_STATE_loss: 0.0190 - val_REGION_acc: 0.9881 - val_STATE_acc: 0.9938\n",
      "Epoch 18/100\n",
      "121/120 [==============================] - 21s 170ms/step - loss: 0.0387 - REGION_loss: 0.0171 - STATE_loss: 0.0050 - REGION_acc: 0.9950 - STATE_acc: 0.9986 - val_loss: 0.0878 - val_REGION_loss: 0.0456 - val_STATE_loss: 0.0259 - val_REGION_acc: 0.9860 - val_STATE_acc: 0.9924\n",
      "Epoch 19/100\n",
      "121/120 [==============================] - 20s 168ms/step - loss: 0.0375 - REGION_loss: 0.0155 - STATE_loss: 0.0059 - REGION_acc: 0.9960 - STATE_acc: 0.9983 - val_loss: 0.0715 - val_REGION_loss: 0.0353 - val_STATE_loss: 0.0203 - val_REGION_acc: 0.9902 - val_STATE_acc: 0.9949\n",
      "Epoch 20/100\n",
      "121/120 [==============================] - 20s 168ms/step - loss: 0.0369 - REGION_loss: 0.0161 - STATE_loss: 0.0050 - REGION_acc: 0.9957 - STATE_acc: 0.9990 - val_loss: 0.0727 - val_REGION_loss: 0.0331 - val_STATE_loss: 0.0240 - val_REGION_acc: 0.9904 - val_STATE_acc: 0.9940\n",
      "Epoch 21/100\n",
      "121/120 [==============================] - 20s 167ms/step - loss: 0.0390 - REGION_loss: 0.0178 - STATE_loss: 0.0056 - REGION_acc: 0.9948 - STATE_acc: 0.9985 - val_loss: 0.0845 - val_REGION_loss: 0.0464 - val_STATE_loss: 0.0227 - val_REGION_acc: 0.9862 - val_STATE_acc: 0.9940\n",
      "Epoch 22/100\n",
      "121/120 [==============================] - 20s 167ms/step - loss: 0.0321 - REGION_loss: 0.0121 - STATE_loss: 0.0047 - REGION_acc: 0.9970 - STATE_acc: 0.9986 - val_loss: 0.0747 - val_REGION_loss: 0.0355 - val_STATE_loss: 0.0241 - val_REGION_acc: 0.9904 - val_STATE_acc: 0.9924\n",
      "Epoch 23/100\n",
      "121/120 [==============================] - 21s 172ms/step - loss: 0.0334 - REGION_loss: 0.0139 - STATE_loss: 0.0045 - REGION_acc: 0.9963 - STATE_acc: 0.9986 - val_loss: 0.0754 - val_REGION_loss: 0.0377 - val_STATE_loss: 0.0229 - val_REGION_acc: 0.9892 - val_STATE_acc: 0.9936\n",
      "Epoch 24/100\n",
      "121/120 [==============================] - 20s 166ms/step - loss: 0.0315 - REGION_loss: 0.0127 - STATE_loss: 0.0040 - REGION_acc: 0.9968 - STATE_acc: 0.9990 - val_loss: 0.0733 - val_REGION_loss: 0.0359 - val_STATE_loss: 0.0228 - val_REGION_acc: 0.9897 - val_STATE_acc: 0.9936\n",
      "Epoch 25/100\n",
      "121/120 [==============================] - 20s 165ms/step - loss: 0.0320 - REGION_loss: 0.0128 - STATE_loss: 0.0047 - REGION_acc: 0.9966 - STATE_acc: 0.9988 - val_loss: 0.0825 - val_REGION_loss: 0.0369 - val_STATE_loss: 0.0312 - val_REGION_acc: 0.9899 - val_STATE_acc: 0.9925\n",
      "Epoch 26/100\n",
      "121/120 [==============================] - 20s 165ms/step - loss: 0.0294 - REGION_loss: 0.0114 - STATE_loss: 0.0036 - REGION_acc: 0.9968 - STATE_acc: 0.9992 - val_loss: 0.0790 - val_REGION_loss: 0.0422 - val_STATE_loss: 0.0226 - val_REGION_acc: 0.9886 - val_STATE_acc: 0.9943\n",
      "Epoch 27/100\n",
      "121/120 [==============================] - 20s 164ms/step - loss: 0.0296 - REGION_loss: 0.0118 - STATE_loss: 0.0037 - REGION_acc: 0.9968 - STATE_acc: 0.9990 - val_loss: 0.0845 - val_REGION_loss: 0.0436 - val_STATE_loss: 0.0269 - val_REGION_acc: 0.9872 - val_STATE_acc: 0.9927\n",
      "Epoch 28/100\n",
      "121/120 [==============================] - 20s 165ms/step - loss: 0.0280 - REGION_loss: 0.0107 - STATE_loss: 0.0033 - REGION_acc: 0.9973 - STATE_acc: 0.9991 - val_loss: 0.0705 - val_REGION_loss: 0.0331 - val_STATE_loss: 0.0236 - val_REGION_acc: 0.9901 - val_STATE_acc: 0.9933\n",
      "Epoch 29/100\n"
     ]
    },
    {
     "name": "stdout",
     "output_type": "stream",
     "text": [
      "121/120 [==============================] - 20s 164ms/step - loss: 0.0263 - REGION_loss: 0.0096 - STATE_loss: 0.0029 - REGION_acc: 0.9978 - STATE_acc: 0.9994 - val_loss: 0.0703 - val_REGION_loss: 0.0341 - val_STATE_loss: 0.0225 - val_REGION_acc: 0.9901 - val_STATE_acc: 0.9941\n",
      "Epoch 30/100\n",
      "121/120 [==============================] - 20s 163ms/step - loss: 0.0273 - REGION_loss: 0.0101 - STATE_loss: 0.0037 - REGION_acc: 0.9972 - STATE_acc: 0.9988 - val_loss: 0.0811 - val_REGION_loss: 0.0360 - val_STATE_loss: 0.0317 - val_REGION_acc: 0.9893 - val_STATE_acc: 0.9918\n",
      "Epoch 31/100\n",
      "121/120 [==============================] - 20s 165ms/step - loss: 0.0255 - REGION_loss: 0.0096 - STATE_loss: 0.0025 - REGION_acc: 0.9975 - STATE_acc: 0.9997 - val_loss: 0.0756 - val_REGION_loss: 0.0355 - val_STATE_loss: 0.0268 - val_REGION_acc: 0.9899 - val_STATE_acc: 0.9931\n",
      "Epoch 32/100\n",
      "121/120 [==============================] - 20s 163ms/step - loss: 0.0249 - REGION_loss: 0.0090 - STATE_loss: 0.0027 - REGION_acc: 0.9977 - STATE_acc: 0.9993 - val_loss: 0.0843 - val_REGION_loss: 0.0451 - val_STATE_loss: 0.0261 - val_REGION_acc: 0.9881 - val_STATE_acc: 0.9933\n",
      "Epoch 33/100\n",
      "121/120 [==============================] - 20s 163ms/step - loss: 0.0242 - REGION_loss: 0.0084 - STATE_loss: 0.0028 - REGION_acc: 0.9980 - STATE_acc: 0.9993 - val_loss: 0.0712 - val_REGION_loss: 0.0323 - val_STATE_loss: 0.0260 - val_REGION_acc: 0.9890 - val_STATE_acc: 0.9929\n",
      "Epoch 34/100\n",
      "121/120 [==============================] - 20s 163ms/step - loss: 0.0243 - REGION_loss: 0.0082 - STATE_loss: 0.0032 - REGION_acc: 0.9981 - STATE_acc: 0.9993 - val_loss: 0.0790 - val_REGION_loss: 0.0433 - val_STATE_loss: 0.0229 - val_REGION_acc: 0.9890 - val_STATE_acc: 0.9934\n",
      "Epoch 35/100\n",
      "121/120 [==============================] - 20s 165ms/step - loss: 0.0241 - REGION_loss: 0.0089 - STATE_loss: 0.0025 - REGION_acc: 0.9978 - STATE_acc: 0.9994 - val_loss: 0.0705 - val_REGION_loss: 0.0348 - val_STATE_loss: 0.0230 - val_REGION_acc: 0.9902 - val_STATE_acc: 0.9936\n",
      "Epoch 36/100\n",
      "121/120 [==============================] - 20s 165ms/step - loss: 0.0251 - REGION_loss: 0.0103 - STATE_loss: 0.0022 - REGION_acc: 0.9972 - STATE_acc: 0.9993 - val_loss: 0.0809 - val_REGION_loss: 0.0422 - val_STATE_loss: 0.0262 - val_REGION_acc: 0.9881 - val_STATE_acc: 0.9940\n",
      "Epoch 37/100\n",
      "121/120 [==============================] - 20s 165ms/step - loss: 0.0238 - REGION_loss: 0.0085 - STATE_loss: 0.0029 - REGION_acc: 0.9975 - STATE_acc: 0.9992 - val_loss: 0.0745 - val_REGION_loss: 0.0353 - val_STATE_loss: 0.0270 - val_REGION_acc: 0.9901 - val_STATE_acc: 0.9925\n",
      "Epoch 38/100\n",
      "121/120 [==============================] - 20s 165ms/step - loss: 0.0229 - REGION_loss: 0.0085 - STATE_loss: 0.0022 - REGION_acc: 0.9982 - STATE_acc: 0.9995 - val_loss: 0.0766 - val_REGION_loss: 0.0449 - val_STATE_loss: 0.0196 - val_REGION_acc: 0.9881 - val_STATE_acc: 0.9941\n",
      "Epoch 39/100\n",
      "121/120 [==============================] - 20s 163ms/step - loss: 0.0220 - REGION_loss: 0.0077 - STATE_loss: 0.0022 - REGION_acc: 0.9981 - STATE_acc: 0.9994 - val_loss: 0.0698 - val_REGION_loss: 0.0325 - val_STATE_loss: 0.0251 - val_REGION_acc: 0.9904 - val_STATE_acc: 0.9943\n",
      "Epoch 40/100\n",
      "121/120 [==============================] - 20s 163ms/step - loss: 0.0224 - REGION_loss: 0.0081 - STATE_loss: 0.0023 - REGION_acc: 0.9981 - STATE_acc: 0.9994 - val_loss: 0.0844 - val_REGION_loss: 0.0453 - val_STATE_loss: 0.0273 - val_REGION_acc: 0.9885 - val_STATE_acc: 0.9934\n",
      "Epoch 41/100\n",
      "121/120 [==============================] - 20s 164ms/step - loss: 0.0213 - REGION_loss: 0.0073 - STATE_loss: 0.0021 - REGION_acc: 0.9981 - STATE_acc: 0.9996 - val_loss: 0.0720 - val_REGION_loss: 0.0376 - val_STATE_loss: 0.0226 - val_REGION_acc: 0.9904 - val_STATE_acc: 0.9936\n",
      "Epoch 42/100\n",
      "121/120 [==============================] - 20s 164ms/step - loss: 0.0210 - REGION_loss: 0.0066 - STATE_loss: 0.0026 - REGION_acc: 0.9986 - STATE_acc: 0.9992 - val_loss: 0.0719 - val_REGION_loss: 0.0335 - val_STATE_loss: 0.0267 - val_REGION_acc: 0.9902 - val_STATE_acc: 0.9945\n",
      "Epoch 43/100\n",
      "121/120 [==============================] - 20s 165ms/step - loss: 0.0211 - REGION_loss: 0.0064 - STATE_loss: 0.0031 - REGION_acc: 0.9986 - STATE_acc: 0.9990 - val_loss: 0.0747 - val_REGION_loss: 0.0360 - val_STATE_loss: 0.0271 - val_REGION_acc: 0.9897 - val_STATE_acc: 0.9920\n",
      "Epoch 44/100\n",
      "121/120 [==============================] - 20s 164ms/step - loss: 0.0197 - REGION_loss: 0.0066 - STATE_loss: 0.0016 - REGION_acc: 0.9986 - STATE_acc: 0.9998 - val_loss: 0.0702 - val_REGION_loss: 0.0389 - val_STATE_loss: 0.0198 - val_REGION_acc: 0.9899 - val_STATE_acc: 0.9945\n",
      "Epoch 45/100\n",
      "121/120 [==============================] - 20s 164ms/step - loss: 0.0198 - REGION_loss: 0.0065 - STATE_loss: 0.0019 - REGION_acc: 0.9986 - STATE_acc: 0.9996 - val_loss: 0.0687 - val_REGION_loss: 0.0337 - val_STATE_loss: 0.0238 - val_REGION_acc: 0.9908 - val_STATE_acc: 0.9936\n",
      "Epoch 46/100\n",
      "121/120 [==============================] - 20s 165ms/step - loss: 0.0205 - REGION_loss: 0.0077 - STATE_loss: 0.0016 - REGION_acc: 0.9979 - STATE_acc: 0.9997 - val_loss: 0.0711 - val_REGION_loss: 0.0357 - val_STATE_loss: 0.0243 - val_REGION_acc: 0.9892 - val_STATE_acc: 0.9929\n",
      "Epoch 47/100\n",
      "121/120 [==============================] - 20s 164ms/step - loss: 0.0204 - REGION_loss: 0.0072 - STATE_loss: 0.0021 - REGION_acc: 0.9981 - STATE_acc: 0.9995 - val_loss: 0.0759 - val_REGION_loss: 0.0390 - val_STATE_loss: 0.0258 - val_REGION_acc: 0.9888 - val_STATE_acc: 0.9936\n",
      "Epoch 48/100\n",
      "121/120 [==============================] - 20s 163ms/step - loss: 0.0200 - REGION_loss: 0.0073 - STATE_loss: 0.0017 - REGION_acc: 0.9981 - STATE_acc: 0.9997 - val_loss: 0.0730 - val_REGION_loss: 0.0387 - val_STATE_loss: 0.0233 - val_REGION_acc: 0.9899 - val_STATE_acc: 0.9934\n",
      "Epoch 49/100\n",
      "121/120 [==============================] - 20s 164ms/step - loss: 0.0174 - REGION_loss: 0.0045 - STATE_loss: 0.0020 - REGION_acc: 0.9991 - STATE_acc: 0.9995 - val_loss: 0.0740 - val_REGION_loss: 0.0376 - val_STATE_loss: 0.0255 - val_REGION_acc: 0.9888 - val_STATE_acc: 0.9936\n",
      "Epoch 50/100\n",
      "121/120 [==============================] - 20s 163ms/step - loss: 0.0208 - REGION_loss: 0.0077 - STATE_loss: 0.0023 - REGION_acc: 0.9982 - STATE_acc: 0.9994 - val_loss: 0.0852 - val_REGION_loss: 0.0473 - val_STATE_loss: 0.0271 - val_REGION_acc: 0.9879 - val_STATE_acc: 0.9936\n",
      "Epoch 51/100\n",
      "121/120 [==============================] - 20s 163ms/step - loss: 0.0203 - REGION_loss: 0.0076 - STATE_loss: 0.0020 - REGION_acc: 0.9986 - STATE_acc: 0.9995 - val_loss: 0.0707 - val_REGION_loss: 0.0366 - val_STATE_loss: 0.0234 - val_REGION_acc: 0.9895 - val_STATE_acc: 0.9940\n",
      "Epoch 52/100\n",
      "121/120 [==============================] - 20s 163ms/step - loss: 0.0168 - REGION_loss: 0.0046 - STATE_loss: 0.0017 - REGION_acc: 0.9994 - STATE_acc: 0.9997 - val_loss: 0.0747 - val_REGION_loss: 0.0363 - val_STATE_loss: 0.0278 - val_REGION_acc: 0.9895 - val_STATE_acc: 0.9929\n",
      "Epoch 53/100\n",
      "121/120 [==============================] - 20s 164ms/step - loss: 0.0178 - REGION_loss: 0.0057 - STATE_loss: 0.0016 - REGION_acc: 0.9986 - STATE_acc: 0.9998 - val_loss: 0.0673 - val_REGION_loss: 0.0387 - val_STATE_loss: 0.0181 - val_REGION_acc: 0.9902 - val_STATE_acc: 0.9947\n",
      "Epoch 54/100\n",
      "121/120 [==============================] - 20s 164ms/step - loss: 0.0176 - REGION_loss: 0.0054 - STATE_loss: 0.0017 - REGION_acc: 0.9989 - STATE_acc: 0.9996 - val_loss: 0.0682 - val_REGION_loss: 0.0314 - val_STATE_loss: 0.0263 - val_REGION_acc: 0.9899 - val_STATE_acc: 0.9931\n",
      "Epoch 55/100\n",
      "121/120 [==============================] - 20s 163ms/step - loss: 0.0173 - REGION_loss: 0.0049 - STATE_loss: 0.0020 - REGION_acc: 0.9990 - STATE_acc: 0.9995 - val_loss: 0.0678 - val_REGION_loss: 0.0380 - val_STATE_loss: 0.0194 - val_REGION_acc: 0.9895 - val_STATE_acc: 0.9949\n",
      "Epoch 56/100\n",
      "121/120 [==============================] - 20s 164ms/step - loss: 0.0171 - REGION_loss: 0.0052 - STATE_loss: 0.0016 - REGION_acc: 0.9988 - STATE_acc: 0.9998 - val_loss: 0.0825 - val_REGION_loss: 0.0458 - val_STATE_loss: 0.0264 - val_REGION_acc: 0.9881 - val_STATE_acc: 0.9929\n",
      "Epoch 57/100\n"
     ]
    },
    {
     "name": "stdout",
     "output_type": "stream",
     "text": [
      "121/120 [==============================] - 20s 164ms/step - loss: 0.0179 - REGION_loss: 0.0063 - STATE_loss: 0.0014 - REGION_acc: 0.9982 - STATE_acc: 0.9997 - val_loss: 0.0710 - val_REGION_loss: 0.0361 - val_STATE_loss: 0.0247 - val_REGION_acc: 0.9899 - val_STATE_acc: 0.9947\n",
      "Epoch 58/100\n",
      "121/120 [==============================] - 20s 163ms/step - loss: 0.0176 - REGION_loss: 0.0058 - STATE_loss: 0.0016 - REGION_acc: 0.9986 - STATE_acc: 0.9996 - val_loss: 0.0737 - val_REGION_loss: 0.0384 - val_STATE_loss: 0.0253 - val_REGION_acc: 0.9892 - val_STATE_acc: 0.9941\n",
      "Epoch 59/100\n",
      "121/120 [==============================] - 20s 163ms/step - loss: 0.0166 - REGION_loss: 0.0051 - STATE_loss: 0.0014 - REGION_acc: 0.9990 - STATE_acc: 0.9998 - val_loss: 0.0709 - val_REGION_loss: 0.0361 - val_STATE_loss: 0.0249 - val_REGION_acc: 0.9909 - val_STATE_acc: 0.9931\n",
      "Epoch 60/100\n",
      "121/120 [==============================] - 20s 164ms/step - loss: 0.0175 - REGION_loss: 0.0060 - STATE_loss: 0.0016 - REGION_acc: 0.9985 - STATE_acc: 0.9997 - val_loss: 0.0785 - val_REGION_loss: 0.0401 - val_STATE_loss: 0.0285 - val_REGION_acc: 0.9892 - val_STATE_acc: 0.9933\n",
      "Epoch 61/100\n",
      "121/120 [==============================] - 20s 165ms/step - loss: 0.0151 - REGION_loss: 0.0037 - STATE_loss: 0.0015 - REGION_acc: 0.9997 - STATE_acc: 0.9997 - val_loss: 0.0605 - val_REGION_loss: 0.0293 - val_STATE_loss: 0.0215 - val_REGION_acc: 0.9920 - val_STATE_acc: 0.9945\n",
      "Epoch 62/100\n",
      "121/120 [==============================] - 20s 163ms/step - loss: 0.0154 - REGION_loss: 0.0046 - STATE_loss: 0.0011 - REGION_acc: 0.9992 - STATE_acc: 1.0000 - val_loss: 0.0673 - val_REGION_loss: 0.0340 - val_STATE_loss: 0.0235 - val_REGION_acc: 0.9909 - val_STATE_acc: 0.9940\n",
      "Epoch 63/100\n",
      "121/120 [==============================] - 20s 164ms/step - loss: 0.0147 - REGION_loss: 0.0038 - STATE_loss: 0.0012 - REGION_acc: 0.9994 - STATE_acc: 0.9999 - val_loss: 0.0913 - val_REGION_loss: 0.0536 - val_STATE_loss: 0.0281 - val_REGION_acc: 0.9877 - val_STATE_acc: 0.9931\n",
      "Epoch 64/100\n",
      "121/120 [==============================] - 20s 164ms/step - loss: 0.0152 - REGION_loss: 0.0046 - STATE_loss: 0.0011 - REGION_acc: 0.9991 - STATE_acc: 1.0000 - val_loss: 0.0668 - val_REGION_loss: 0.0321 - val_STATE_loss: 0.0251 - val_REGION_acc: 0.9904 - val_STATE_acc: 0.9950\n",
      "Epoch 65/100\n",
      "121/120 [==============================] - 20s 164ms/step - loss: 0.0167 - REGION_loss: 0.0056 - STATE_loss: 0.0016 - REGION_acc: 0.9983 - STATE_acc: 0.9997 - val_loss: 0.0747 - val_REGION_loss: 0.0369 - val_STATE_loss: 0.0283 - val_REGION_acc: 0.9904 - val_STATE_acc: 0.9938\n",
      "Epoch 66/100\n",
      "121/120 [==============================] - 20s 163ms/step - loss: 0.0166 - REGION_loss: 0.0055 - STATE_loss: 0.0017 - REGION_acc: 0.9990 - STATE_acc: 0.9995 - val_loss: 0.0770 - val_REGION_loss: 0.0385 - val_STATE_loss: 0.0291 - val_REGION_acc: 0.9895 - val_STATE_acc: 0.9925\n",
      "Epoch 67/100\n",
      "121/120 [==============================] - 20s 163ms/step - loss: 0.0164 - REGION_loss: 0.0052 - STATE_loss: 0.0018 - REGION_acc: 0.9991 - STATE_acc: 0.9997 - val_loss: 0.0702 - val_REGION_loss: 0.0386 - val_STATE_loss: 0.0223 - val_REGION_acc: 0.9899 - val_STATE_acc: 0.9940\n",
      "Epoch 68/100\n",
      "121/120 [==============================] - 20s 164ms/step - loss: 0.0155 - REGION_loss: 0.0050 - STATE_loss: 0.0012 - REGION_acc: 0.9990 - STATE_acc: 0.9998 - val_loss: 0.0732 - val_REGION_loss: 0.0388 - val_STATE_loss: 0.0252 - val_REGION_acc: 0.9890 - val_STATE_acc: 0.9936\n",
      "Epoch 69/100\n",
      "121/120 [==============================] - 20s 165ms/step - loss: 0.0172 - REGION_loss: 0.0064 - STATE_loss: 0.0017 - REGION_acc: 0.9982 - STATE_acc: 0.9996 - val_loss: 0.0711 - val_REGION_loss: 0.0413 - val_STATE_loss: 0.0206 - val_REGION_acc: 0.9892 - val_STATE_acc: 0.9941\n",
      "Epoch 70/100\n",
      "121/120 [==============================] - 20s 164ms/step - loss: 0.0161 - REGION_loss: 0.0060 - STATE_loss: 0.0010 - REGION_acc: 0.9985 - STATE_acc: 0.9999 - val_loss: 0.0878 - val_REGION_loss: 0.0573 - val_STATE_loss: 0.0214 - val_REGION_acc: 0.9865 - val_STATE_acc: 0.9950\n",
      "Epoch 71/100\n",
      "121/120 [==============================] - 20s 164ms/step - loss: 0.0141 - REGION_loss: 0.0041 - STATE_loss: 9.6610e-04 - REGION_acc: 0.9993 - STATE_acc: 0.9999 - val_loss: 0.0737 - val_REGION_loss: 0.0385 - val_STATE_loss: 0.0261 - val_REGION_acc: 0.9886 - val_STATE_acc: 0.9934\n",
      "Epoch 72/100\n",
      "121/120 [==============================] - 20s 164ms/step - loss: 0.0148 - REGION_loss: 0.0050 - STATE_loss: 8.6069e-04 - REGION_acc: 0.9986 - STATE_acc: 1.0000 - val_loss: 0.0711 - val_REGION_loss: 0.0327 - val_STATE_loss: 0.0294 - val_REGION_acc: 0.9913 - val_STATE_acc: 0.9927\n",
      "Epoch 73/100\n",
      "121/120 [==============================] - 20s 164ms/step - loss: 0.0130 - REGION_loss: 0.0032 - STATE_loss: 7.9682e-04 - REGION_acc: 0.9995 - STATE_acc: 0.9999 - val_loss: 0.0774 - val_REGION_loss: 0.0493 - val_STATE_loss: 0.0191 - val_REGION_acc: 0.9888 - val_STATE_acc: 0.9947\n",
      "Epoch 74/100\n",
      "121/120 [==============================] - 20s 164ms/step - loss: 0.0140 - REGION_loss: 0.0039 - STATE_loss: 0.0011 - REGION_acc: 0.9990 - STATE_acc: 0.9999 - val_loss: 0.0634 - val_REGION_loss: 0.0311 - val_STATE_loss: 0.0233 - val_REGION_acc: 0.9909 - val_STATE_acc: 0.9947\n",
      "Epoch 75/100\n",
      "121/120 [==============================] - 20s 164ms/step - loss: 0.0131 - REGION_loss: 0.0031 - STATE_loss: 9.9185e-04 - REGION_acc: 0.9995 - STATE_acc: 0.9999 - val_loss: 0.0697 - val_REGION_loss: 0.0346 - val_STATE_loss: 0.0261 - val_REGION_acc: 0.9902 - val_STATE_acc: 0.9936\n",
      "Epoch 76/100\n",
      "121/120 [==============================] - 20s 164ms/step - loss: 0.0131 - REGION_loss: 0.0032 - STATE_loss: 9.5080e-04 - REGION_acc: 0.9995 - STATE_acc: 0.9999 - val_loss: 0.0698 - val_REGION_loss: 0.0367 - val_STATE_loss: 0.0241 - val_REGION_acc: 0.9918 - val_STATE_acc: 0.9938\n",
      "Epoch 77/100\n",
      "121/120 [==============================] - 20s 165ms/step - loss: 0.0134 - REGION_loss: 0.0034 - STATE_loss: 9.7043e-04 - REGION_acc: 0.9994 - STATE_acc: 0.9999 - val_loss: 0.0720 - val_REGION_loss: 0.0350 - val_STATE_loss: 0.0280 - val_REGION_acc: 0.9897 - val_STATE_acc: 0.9924\n",
      "Epoch 78/100\n",
      "121/120 [==============================] - 20s 163ms/step - loss: 0.0137 - REGION_loss: 0.0040 - STATE_loss: 7.3994e-04 - REGION_acc: 0.9990 - STATE_acc: 1.0000 - val_loss: 0.0683 - val_REGION_loss: 0.0406 - val_STATE_loss: 0.0188 - val_REGION_acc: 0.9899 - val_STATE_acc: 0.9952\n",
      "Epoch 79/100\n",
      "121/120 [==============================] - 20s 165ms/step - loss: 0.0134 - REGION_loss: 0.0035 - STATE_loss: 9.0999e-04 - REGION_acc: 0.9993 - STATE_acc: 0.9999 - val_loss: 0.0666 - val_REGION_loss: 0.0321 - val_STATE_loss: 0.0255 - val_REGION_acc: 0.9915 - val_STATE_acc: 0.9931\n",
      "Epoch 80/100\n",
      "121/120 [==============================] - 20s 164ms/step - loss: 0.0140 - REGION_loss: 0.0042 - STATE_loss: 8.8152e-04 - REGION_acc: 0.9992 - STATE_acc: 1.0000 - val_loss: 0.0711 - val_REGION_loss: 0.0362 - val_STATE_loss: 0.0260 - val_REGION_acc: 0.9895 - val_STATE_acc: 0.9940\n",
      "Epoch 81/100\n",
      "121/120 [==============================] - 20s 163ms/step - loss: 0.0132 - REGION_loss: 0.0034 - STATE_loss: 9.5142e-04 - REGION_acc: 0.9992 - STATE_acc: 1.0000 - val_loss: 0.0733 - val_REGION_loss: 0.0399 - val_STATE_loss: 0.0245 - val_REGION_acc: 0.9893 - val_STATE_acc: 0.9940\n",
      "Epoch 82/100\n",
      "121/120 [==============================] - 20s 164ms/step - loss: 0.0132 - REGION_loss: 0.0035 - STATE_loss: 8.3547e-04 - REGION_acc: 0.9993 - STATE_acc: 1.0000 - val_loss: 0.0634 - val_REGION_loss: 0.0318 - val_STATE_loss: 0.0227 - val_REGION_acc: 0.9915 - val_STATE_acc: 0.9940\n",
      "Epoch 83/100\n",
      "121/120 [==============================] - 20s 164ms/step - loss: 0.0135 - REGION_loss: 0.0035 - STATE_loss: 0.0010 - REGION_acc: 0.9994 - STATE_acc: 0.9999 - val_loss: 0.0772 - val_REGION_loss: 0.0402 - val_STATE_loss: 0.0281 - val_REGION_acc: 0.9899 - val_STATE_acc: 0.9941\n",
      "Epoch 84/100\n",
      "121/120 [==============================] - 20s 164ms/step - loss: 0.0135 - REGION_loss: 0.0034 - STATE_loss: 0.0011 - REGION_acc: 0.9994 - STATE_acc: 0.9999 - val_loss: 0.0646 - val_REGION_loss: 0.0323 - val_STATE_loss: 0.0234 - val_REGION_acc: 0.9909 - val_STATE_acc: 0.9940\n",
      "Epoch 85/100\n"
     ]
    },
    {
     "name": "stdout",
     "output_type": "stream",
     "text": [
      "121/120 [==============================] - 20s 164ms/step - loss: 0.0126 - REGION_loss: 0.0029 - STATE_loss: 8.8449e-04 - REGION_acc: 0.9997 - STATE_acc: 0.9999 - val_loss: 0.0808 - val_REGION_loss: 0.0431 - val_STATE_loss: 0.0289 - val_REGION_acc: 0.9883 - val_STATE_acc: 0.9927\n",
      "Epoch 86/100\n",
      "121/120 [==============================] - 20s 164ms/step - loss: 0.0127 - REGION_loss: 0.0030 - STATE_loss: 8.1346e-04 - REGION_acc: 0.9995 - STATE_acc: 0.9999 - val_loss: 0.0585 - val_REGION_loss: 0.0317 - val_STATE_loss: 0.0180 - val_REGION_acc: 0.9913 - val_STATE_acc: 0.9954\n",
      "Epoch 87/100\n",
      "121/120 [==============================] - 20s 163ms/step - loss: 0.0139 - REGION_loss: 0.0041 - STATE_loss: 9.9401e-04 - REGION_acc: 0.9990 - STATE_acc: 0.9999 - val_loss: 0.0728 - val_REGION_loss: 0.0350 - val_STATE_loss: 0.0289 - val_REGION_acc: 0.9915 - val_STATE_acc: 0.9927\n",
      "Epoch 88/100\n",
      "121/120 [==============================] - 20s 164ms/step - loss: 0.0132 - REGION_loss: 0.0032 - STATE_loss: 0.0011 - REGION_acc: 0.9994 - STATE_acc: 0.9999 - val_loss: 0.0689 - val_REGION_loss: 0.0405 - val_STATE_loss: 0.0195 - val_REGION_acc: 0.9895 - val_STATE_acc: 0.9954\n",
      "Epoch 89/100\n",
      "121/120 [==============================] - 20s 163ms/step - loss: 0.0125 - REGION_loss: 0.0029 - STATE_loss: 8.0429e-04 - REGION_acc: 0.9994 - STATE_acc: 1.0000 - val_loss: 0.0692 - val_REGION_loss: 0.0342 - val_STATE_loss: 0.0261 - val_REGION_acc: 0.9909 - val_STATE_acc: 0.9934\n",
      "Epoch 90/100\n",
      "121/120 [==============================] - 20s 165ms/step - loss: 0.0128 - REGION_loss: 0.0030 - STATE_loss: 9.4759e-04 - REGION_acc: 0.9995 - STATE_acc: 0.9999 - val_loss: 0.0681 - val_REGION_loss: 0.0386 - val_STATE_loss: 0.0206 - val_REGION_acc: 0.9897 - val_STATE_acc: 0.9943\n",
      "Epoch 91/100\n",
      "121/120 [==============================] - 20s 163ms/step - loss: 0.0139 - REGION_loss: 0.0036 - STATE_loss: 0.0014 - REGION_acc: 0.9993 - STATE_acc: 0.9997 - val_loss: 0.0755 - val_REGION_loss: 0.0379 - val_STATE_loss: 0.0287 - val_REGION_acc: 0.9890 - val_STATE_acc: 0.9929\n",
      "Epoch 92/100\n",
      "121/120 [==============================] - 20s 164ms/step - loss: 0.0130 - REGION_loss: 0.0029 - STATE_loss: 0.0012 - REGION_acc: 0.9996 - STATE_acc: 0.9997 - val_loss: 0.0656 - val_REGION_loss: 0.0336 - val_STATE_loss: 0.0232 - val_REGION_acc: 0.9911 - val_STATE_acc: 0.9941\n",
      "Epoch 93/100\n",
      "121/120 [==============================] - 20s 164ms/step - loss: 0.0134 - REGION_loss: 0.0037 - STATE_loss: 8.5161e-04 - REGION_acc: 0.9990 - STATE_acc: 1.0000 - val_loss: 0.0653 - val_REGION_loss: 0.0324 - val_STATE_loss: 0.0241 - val_REGION_acc: 0.9915 - val_STATE_acc: 0.9941\n",
      "Epoch 94/100\n",
      "121/120 [==============================] - 20s 164ms/step - loss: 0.0130 - REGION_loss: 0.0031 - STATE_loss: 9.9303e-04 - REGION_acc: 0.9997 - STATE_acc: 0.9999 - val_loss: 0.0714 - val_REGION_loss: 0.0388 - val_STATE_loss: 0.0237 - val_REGION_acc: 0.9899 - val_STATE_acc: 0.9941\n",
      "Epoch 95/100\n",
      "121/120 [==============================] - 20s 164ms/step - loss: 0.0128 - REGION_loss: 0.0030 - STATE_loss: 8.8880e-04 - REGION_acc: 0.9995 - STATE_acc: 0.9999 - val_loss: 0.0735 - val_REGION_loss: 0.0364 - val_STATE_loss: 0.0282 - val_REGION_acc: 0.9892 - val_STATE_acc: 0.9931\n",
      "Epoch 96/100\n",
      "121/120 [==============================] - 20s 165ms/step - loss: 0.0131 - REGION_loss: 0.0035 - STATE_loss: 7.2036e-04 - REGION_acc: 0.9995 - STATE_acc: 1.0000 - val_loss: 0.0649 - val_REGION_loss: 0.0339 - val_STATE_loss: 0.0221 - val_REGION_acc: 0.9917 - val_STATE_acc: 0.9941\n",
      "Epoch 97/100\n",
      "121/120 [==============================] - 20s 164ms/step - loss: 0.0132 - REGION_loss: 0.0031 - STATE_loss: 0.0012 - REGION_acc: 0.9997 - STATE_acc: 0.9997 - val_loss: 0.0778 - val_REGION_loss: 0.0401 - val_STATE_loss: 0.0289 - val_REGION_acc: 0.9893 - val_STATE_acc: 0.9927\n",
      "Epoch 98/100\n",
      "121/120 [==============================] - 20s 164ms/step - loss: 0.0127 - REGION_loss: 0.0029 - STATE_loss: 9.5220e-04 - REGION_acc: 0.9995 - STATE_acc: 0.9999 - val_loss: 0.0645 - val_REGION_loss: 0.0334 - val_STATE_loss: 0.0222 - val_REGION_acc: 0.9906 - val_STATE_acc: 0.9945\n",
      "Epoch 99/100\n",
      "121/120 [==============================] - 20s 165ms/step - loss: 0.0142 - REGION_loss: 0.0045 - STATE_loss: 8.5995e-04 - REGION_acc: 0.9990 - STATE_acc: 1.0000 - val_loss: 0.0673 - val_REGION_loss: 0.0350 - val_STATE_loss: 0.0234 - val_REGION_acc: 0.9904 - val_STATE_acc: 0.9947\n",
      "Epoch 100/100\n",
      "121/120 [==============================] - 20s 164ms/step - loss: 0.0124 - REGION_loss: 0.0027 - STATE_loss: 7.9964e-04 - REGION_acc: 0.9997 - STATE_acc: 1.0000 - val_loss: 0.0745 - val_REGION_loss: 0.0421 - val_STATE_loss: 0.0235 - val_REGION_acc: 0.9888 - val_STATE_acc: 0.9936\n"
     ]
    }
   ],
   "source": [
    "# train\n",
    "model = numberClassificator.train(LOG_DIR)"
   ]
  },
  {
   "cell_type": "code",
   "execution_count": 5,
   "metadata": {},
   "outputs": [
    {
     "name": "stdout",
     "output_type": "stream",
     "text": [
      "test loss: 0.08130261647007005\n",
      "test loss: 0.045430876405920244    test loss: 0.026984765447030604\n",
      "test acc: 0.9886363636363636    test acc 0.994140625\n"
     ]
    },
    {
     "data": {
      "text/plain": [
       "(0.08130261647007005,\n",
       " 0.045430876405920244,\n",
       " 0.026984765447030604,\n",
       " 0.9886363636363636,\n",
       " 0.994140625)"
      ]
     },
     "execution_count": 5,
     "metadata": {},
     "output_type": "execute_result"
    }
   ],
   "source": [
    "numberClassificator.test()"
   ]
  },
  {
   "cell_type": "code",
   "execution_count": 6,
   "metadata": {},
   "outputs": [
    {
     "name": "stdout",
     "output_type": "stream",
     "text": [
      "model save to /mnt/data/var/www/html2/js/nomeroff-net/models/numberplate_options_2019_03_05.h5\n"
     ]
    }
   ],
   "source": [
    "numberClassificator.save(RESULT_PATH)\n",
    "#model = numberClassificator.load(RESULT_PATH)"
   ]
  },
  {
   "cell_type": "markdown",
   "metadata": {},
   "source": [
    "### Convert keras options .h5 model to .pb graph"
   ]
  },
  {
   "cell_type": "code",
   "execution_count": 7,
   "metadata": {},
   "outputs": [
    {
     "name": "stdout",
     "output_type": "stream",
     "text": [
      "OUTPUT: REGION/Softmax,STATE/Softmax\n",
      "INPUT: input_2\n",
      "__________________________________________________________________________________________________\n",
      "Layer (type)                    Output Shape         Param #     Connected to                     \n",
      "==================================================================================================\n",
      "input_2 (InputLayer)            (None, 64, 295, 3)   0                                            \n",
      "__________________________________________________________________________________________________\n",
      "vgg16 (Model)                   multiple             14714688    input_2[0][0]                    \n",
      "__________________________________________________________________________________________________\n",
      "flatten_1 (Flatten)             (None, 9216)         0           vgg16[1][0]                      \n",
      "__________________________________________________________________________________________________\n",
      "flatten_2 (Flatten)             (None, 9216)         0           vgg16[1][0]                      \n",
      "__________________________________________________________________________________________________\n",
      "dropout_1 (Dropout)             (None, 9216)         0           flatten_1[0][0]                  \n",
      "__________________________________________________________________________________________________\n",
      "dropout_2 (Dropout)             (None, 9216)         0           flatten_2[0][0]                  \n",
      "__________________________________________________________________________________________________\n",
      "dense_1 (Dense)                 (None, 512)          4719104     dropout_1[0][0]                  \n",
      "__________________________________________________________________________________________________\n",
      "dense_3 (Dense)                 (None, 512)          4719104     dropout_2[0][0]                  \n",
      "__________________________________________________________________________________________________\n",
      "batch_normalization_1 (BatchNor (None, 512)          2048        dense_1[0][0]                    \n",
      "__________________________________________________________________________________________________\n",
      "batch_normalization_2 (BatchNor (None, 512)          2048        dense_3[0][0]                    \n",
      "__________________________________________________________________________________________________\n",
      "dense_2 (Dense)                 (None, 7)            3591        batch_normalization_1[0][0]      \n",
      "__________________________________________________________________________________________________\n",
      "dense_4 (Dense)                 (None, 3)            1539        batch_normalization_2[0][0]      \n",
      "__________________________________________________________________________________________________\n",
      "REGION (Activation)             (None, 7)            0           dense_2[0][0]                    \n",
      "__________________________________________________________________________________________________\n",
      "STATE (Activation)              (None, 3)            0           dense_4[0][0]                    \n",
      "==================================================================================================\n",
      "Total params: 24,162,122\n",
      "Trainable params: 24,160,074\n",
      "Non-trainable params: 2,048\n",
      "__________________________________________________________________________________________________\n"
     ]
    },
    {
     "name": "stderr",
     "output_type": "stream",
     "text": [
      "W0305 19:39:47.632772 139675496924480 deprecation.py:323] From /usr/local/lib/python3.6/site-packages/tensorflow/python/tools/freeze_graph.py:127: checkpoint_exists (from tensorflow.python.training.checkpoint_management) is deprecated and will be removed in a future version.\n",
      "Instructions for updating:\n",
      "Use standard file APIs to check for files with this prefix.\n",
      "W0305 19:39:48.297599 139675496924480 deprecation.py:323] From /usr/local/lib/python3.6/site-packages/tensorflow/python/tools/freeze_graph.py:232: convert_variables_to_constants (from tensorflow.python.framework.graph_util_impl) is deprecated and will be removed in a future version.\n",
      "Instructions for updating:\n",
      "Use tf.compat.v1.graph_util.convert_variables_to_constants\n",
      "W0305 19:39:48.298108 139675496924480 deprecation.py:323] From /usr/local/lib/python3.6/site-packages/tensorflow/python/framework/graph_util_impl.py:246: extract_sub_graph (from tensorflow.python.framework.graph_util_impl) is deprecated and will be removed in a future version.\n",
      "Instructions for updating:\n",
      "Use tf.compat.v1.graph_util.extract_sub_graph\n"
     ]
    }
   ],
   "source": [
    "import keras\n",
    "keras.backend.clear_session()\n",
    "model = numberClassificator.load(RESULT_PATH)\n",
    "convert_keras_to_freeze_pb(numberClassificator.MODEL, FROZEN_MODEL_PATH)"
   ]
  },
  {
   "cell_type": "code",
   "execution_count": null,
   "metadata": {},
   "outputs": [],
   "source": []
  }
 ],
 "metadata": {
  "kernelspec": {
   "display_name": "Python 3",
   "language": "python",
   "name": "python3"
  },
  "language_info": {
   "codemirror_mode": {
    "name": "ipython",
    "version": 3
   },
   "file_extension": ".py",
   "mimetype": "text/x-python",
   "name": "python",
   "nbconvert_exporter": "python",
   "pygments_lexer": "ipython3",
   "version": "3.6.8"
  }
 },
 "nbformat": 4,
 "nbformat_minor": 2
}
