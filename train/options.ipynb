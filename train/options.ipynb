{
 "cells": [
  {
   "cell_type": "markdown",
   "metadata": {},
   "source": [
    "# This example demonstrate how to train region detector model (standart image classification model)."
   ]
  },
  {
   "cell_type": "markdown",
   "metadata": {},
   "source": [
    "For train datasets please download last version of dataset [https://nomeroff.net.ua/datasets/](https://nomeroff.net.ua/datasets/). Unpack archive and rename to **./datasets/** .\n",
    "For examle\n",
    "```bash\n",
    "cd ./datasets/ocr\n",
    "wget https://nomeroff.net.ua/datasets/autoriaNumberplateOptionsDataset-2019-02-20.zip\n",
    "unzip autoriaNumberplateOptionsDataset-2019-02-20.zip\n",
    "mv autoriaNumberplateOptionsDataset-2019-02-20 ua\n",
    "```\n",
    "or use your own dataset."
   ]
  },
  {
   "cell_type": "code",
   "execution_count": 1,
   "metadata": {},
   "outputs": [
    {
     "name": "stderr",
     "output_type": "stream",
     "text": [
      "Using TensorFlow backend.\n",
      "WARNING: Logging before flag parsing goes to stderr.\n",
      "W0520 20:05:52.151694 140107327379264 deprecation_wrapper.py:119] From /mnt/data/var/www/html2/js/nomeroff-net_2/NomeroffNet/Detector.py:12: The name tf.ConfigProto is deprecated. Please use tf.compat.v1.ConfigProto instead.\n",
      "\n",
      "W0520 20:05:52.152354 140107327379264 deprecation_wrapper.py:119] From /mnt/data/var/www/html2/js/nomeroff-net_2/NomeroffNet/Detector.py:14: The name tf.Session is deprecated. Please use tf.compat.v1.Session instead.\n",
      "\n"
     ]
    }
   ],
   "source": [
    "import os\n",
    "import sys\n",
    "import warnings\n",
    "warnings.filterwarnings('ignore')\n",
    "\n",
    "# change this property\n",
    "NOMEROFF_NET_DIR = os.path.abspath('../')\n",
    "\n",
    "DATASET_NAME = \"options\"\n",
    "VERSION = \"2019_05_20\"\n",
    "\n",
    "LOG_DIR = os.path.join(NOMEROFF_NET_DIR, \"logs/\")\n",
    "PATH_TO_DATASET = os.path.join(NOMEROFF_NET_DIR, \"datasets/\", \"options\")\n",
    "RESULT_PATH = os.path.join(NOMEROFF_NET_DIR, \"models/\", 'numberplate_{}_{}.h5'.format(DATASET_NAME, VERSION))\n",
    "\n",
    "FROZEN_MODEL_PATH = os.path.join(NOMEROFF_NET_DIR, \"models/\", 'numberplate_{}_{}.pb'.format(DATASET_NAME, VERSION))\n",
    "\n",
    "sys.path.append(NOMEROFF_NET_DIR)\n",
    "\n",
    "from NomeroffNet import OptionsDetector\n",
    "from NomeroffNet.Base import convert_keras_to_freeze_pb"
   ]
  },
  {
   "cell_type": "code",
   "execution_count": 2,
   "metadata": {},
   "outputs": [],
   "source": [
    "# definde your parameters\n",
    "# definde your parameters\n",
    "class MyNumberClassificator(OptionsDetector):\n",
    "    def __init__(self):\n",
    "        OptionsDetector.__init__(self)\n",
    "        # outputs 1\n",
    "        self.CLASS_STATE = [\"BACKGROUND\", \"FILLED\", \"NOT_FILLED\"]\n",
    "        \n",
    "        # outputs 2\n",
    "        self.CLASS_REGION = [\"xx-unknown\", \"eu-ua-2015\", \"eu-ua-2004\", \"eu-ua-1995\", \"eu\", \"xx-transit\", \"ru\", \"kz\"]\n",
    "        \n",
    "        self.EPOCHS           = 10\n",
    "        self.BATCH_SIZE       = 64\n",
    "        \n",
    "        self.HEIGHT         = 64\n",
    "        self.WEIGHT         = 295\n"
   ]
  },
  {
   "cell_type": "code",
   "execution_count": 3,
   "metadata": {},
   "outputs": [
    {
     "name": "stdout",
     "output_type": "stream",
     "text": [
      "START PREPARING\n",
      "start train build\n",
      "end train build\n",
      "start test build\n",
      "end test build\n",
      "start test build\n",
      "end test build\n",
      "DATA PREPARED\n"
     ]
    }
   ],
   "source": [
    "# initialize region detector.\n",
    "numberClassificator = MyNumberClassificator()\n",
    "numberClassificator.prepare(PATH_TO_DATASET)"
   ]
  },
  {
   "cell_type": "code",
   "execution_count": 5,
   "metadata": {},
   "outputs": [
    {
     "name": "stderr",
     "output_type": "stream",
     "text": [
      "W0520 19:35:58.230660 140027891992384 deprecation_wrapper.py:119] From /usr/local/lib/python3.7/site-packages/keras/backend/tensorflow_backend.py:74: The name tf.get_default_graph is deprecated. Please use tf.compat.v1.get_default_graph instead.\n",
      "\n",
      "W0520 19:35:58.231425 140027891992384 deprecation_wrapper.py:119] From /usr/local/lib/python3.7/site-packages/keras/backend/tensorflow_backend.py:517: The name tf.placeholder is deprecated. Please use tf.compat.v1.placeholder instead.\n",
      "\n",
      "W0520 19:35:58.239687 140027891992384 deprecation_wrapper.py:119] From /usr/local/lib/python3.7/site-packages/keras/backend/tensorflow_backend.py:4138: The name tf.random_uniform is deprecated. Please use tf.random.uniform instead.\n",
      "\n",
      "W0520 19:35:58.253291 140027891992384 deprecation_wrapper.py:119] From /usr/local/lib/python3.7/site-packages/keras/backend/tensorflow_backend.py:3976: The name tf.nn.max_pool is deprecated. Please use tf.nn.max_pool2d instead.\n",
      "\n",
      "W0520 19:35:58.290189 140027891992384 deprecation.py:506] From /usr/local/lib/python3.7/site-packages/keras/backend/tensorflow_backend.py:3445: calling dropout (from tensorflow.python.ops.nn_ops) with keep_prob is deprecated and will be removed in a future version.\n",
      "Instructions for updating:\n",
      "Please use `rate` instead of `keep_prob`. Rate should be set to `rate = 1 - keep_prob`.\n",
      "W0520 19:35:58.327930 140027891992384 deprecation.py:506] From /usr/local/lib/python3.7/site-packages/tensorflow/python/training/moving_averages.py:212: calling Zeros.__init__ (from tensorflow.python.ops.init_ops) with dtype is deprecated and will be removed in a future version.\n",
      "Instructions for updating:\n",
      "Call initializer instance with the dtype argument instead of passing it to the constructor\n",
      "W0520 19:35:58.519589 140027891992384 deprecation_wrapper.py:119] From /usr/local/lib/python3.7/site-packages/keras/optimizers.py:790: The name tf.train.Optimizer is deprecated. Please use tf.compat.v1.train.Optimizer instead.\n",
      "\n"
     ]
    },
    {
     "name": "stdout",
     "output_type": "stream",
     "text": [
      "Epoch 1/10\n",
      "459/458 [==============================] - 48s 105ms/step - loss: 1.0303 - REGION_loss: 0.6455 - STATE_loss: 0.1790 - COUNT_LINE_loss: 0.1795 - REGION_acc: 0.8022 - STATE_acc: 0.9456 - COUNT_LINE_acc: 0.9428 - val_loss: 0.3546 - val_REGION_loss: 0.1831 - val_STATE_loss: 0.0823 - val_COUNT_LINE_loss: 0.0583 - val_REGION_acc: 0.9521 - val_STATE_acc: 0.9757 - val_COUNT_LINE_acc: 0.9795\n",
      "Epoch 2/10\n",
      "459/458 [==============================] - 172s 374ms/step - loss: 0.3453 - REGION_loss: 0.1759 - STATE_loss: 0.0782 - COUNT_LINE_loss: 0.0607 - REGION_acc: 0.9486 - STATE_acc: 0.9744 - COUNT_LINE_acc: 0.9797 - val_loss: 0.3293 - val_REGION_loss: 0.1497 - val_STATE_loss: 0.0865 - val_COUNT_LINE_loss: 0.0633 - val_REGION_acc: 0.9556 - val_STATE_acc: 0.9731 - val_COUNT_LINE_acc: 0.9782\n",
      "Epoch 3/10\n",
      "459/458 [==============================] - 172s 374ms/step - loss: 0.2412 - REGION_loss: 0.1091 - STATE_loss: 0.0593 - COUNT_LINE_loss: 0.0440 - REGION_acc: 0.9678 - STATE_acc: 0.9813 - COUNT_LINE_acc: 0.9858 - val_loss: 0.2448 - val_REGION_loss: 0.1079 - val_STATE_loss: 0.0637 - val_COUNT_LINE_loss: 0.0454 - val_REGION_acc: 0.9698 - val_STATE_acc: 0.9800 - val_COUNT_LINE_acc: 0.9845\n",
      "Epoch 4/10\n",
      "459/458 [==============================] - 173s 376ms/step - loss: 0.1926 - REGION_loss: 0.0842 - STATE_loss: 0.0462 - COUNT_LINE_loss: 0.0351 - REGION_acc: 0.9757 - STATE_acc: 0.9863 - COUNT_LINE_acc: 0.9893 - val_loss: 0.2035 - val_REGION_loss: 0.0852 - val_STATE_loss: 0.0552 - val_COUNT_LINE_loss: 0.0367 - val_REGION_acc: 0.9778 - val_STATE_acc: 0.9836 - val_COUNT_LINE_acc: 0.9879\n",
      "Epoch 5/10\n",
      "459/458 [==============================] - 171s 373ms/step - loss: 0.1628 - REGION_loss: 0.0677 - STATE_loss: 0.0409 - COUNT_LINE_loss: 0.0283 - REGION_acc: 0.9809 - STATE_acc: 0.9878 - COUNT_LINE_acc: 0.9916 - val_loss: 0.1771 - val_REGION_loss: 0.0704 - val_STATE_loss: 0.0495 - val_COUNT_LINE_loss: 0.0322 - val_REGION_acc: 0.9790 - val_STATE_acc: 0.9850 - val_COUNT_LINE_acc: 0.9890\n",
      "Epoch 6/10\n",
      "459/458 [==============================] - 172s 375ms/step - loss: 0.1384 - REGION_loss: 0.0564 - STATE_loss: 0.0346 - COUNT_LINE_loss: 0.0227 - REGION_acc: 0.9838 - STATE_acc: 0.9894 - COUNT_LINE_acc: 0.9928 - val_loss: 0.1679 - val_REGION_loss: 0.0678 - val_STATE_loss: 0.0469 - val_COUNT_LINE_loss: 0.0290 - val_REGION_acc: 0.9815 - val_STATE_acc: 0.9858 - val_COUNT_LINE_acc: 0.9917\n",
      "Epoch 7/10\n",
      "459/458 [==============================] - 171s 373ms/step - loss: 0.1250 - REGION_loss: 0.0482 - STATE_loss: 0.0317 - COUNT_LINE_loss: 0.0214 - REGION_acc: 0.9866 - STATE_acc: 0.9907 - COUNT_LINE_acc: 0.9935 - val_loss: 0.1425 - val_REGION_loss: 0.0545 - val_STATE_loss: 0.0407 - val_COUNT_LINE_loss: 0.0240 - val_REGION_acc: 0.9854 - val_STATE_acc: 0.9873 - val_COUNT_LINE_acc: 0.9930\n",
      "Epoch 8/10\n",
      "459/458 [==============================] - 171s 373ms/step - loss: 0.1151 - REGION_loss: 0.0429 - STATE_loss: 0.0298 - COUNT_LINE_loss: 0.0194 - REGION_acc: 0.9884 - STATE_acc: 0.9909 - COUNT_LINE_acc: 0.9937 - val_loss: 0.1279 - val_REGION_loss: 0.0441 - val_STATE_loss: 0.0390 - val_COUNT_LINE_loss: 0.0221 - val_REGION_acc: 0.9879 - val_STATE_acc: 0.9891 - val_COUNT_LINE_acc: 0.9932\n",
      "Epoch 9/10\n",
      "459/458 [==============================] - 172s 375ms/step - loss: 0.0998 - REGION_loss: 0.0366 - STATE_loss: 0.0254 - COUNT_LINE_loss: 0.0154 - REGION_acc: 0.9900 - STATE_acc: 0.9926 - COUNT_LINE_acc: 0.9956 - val_loss: 0.1323 - val_REGION_loss: 0.0511 - val_STATE_loss: 0.0381 - val_COUNT_LINE_loss: 0.0211 - val_REGION_acc: 0.9860 - val_STATE_acc: 0.9899 - val_COUNT_LINE_acc: 0.9946\n",
      "Epoch 10/10\n",
      "459/458 [==============================] - 174s 379ms/step - loss: 0.0994 - REGION_loss: 0.0344 - STATE_loss: 0.0267 - COUNT_LINE_loss: 0.0167 - REGION_acc: 0.9911 - STATE_acc: 0.9918 - COUNT_LINE_acc: 0.9948 - val_loss: 0.1334 - val_REGION_loss: 0.0426 - val_STATE_loss: 0.0379 - val_COUNT_LINE_loss: 0.0313 - val_REGION_acc: 0.9882 - val_STATE_acc: 0.9888 - val_COUNT_LINE_acc: 0.9902\n"
     ]
    }
   ],
   "source": [
    "# train\n",
    "model = numberClassificator.train(LOG_DIR, cnn=\"simple\")"
   ]
  },
  {
   "cell_type": "code",
   "execution_count": 5,
   "metadata": {},
   "outputs": [
    {
     "name": "stdout",
     "output_type": "stream",
     "text": [
      "test loss: 0.11561186027814861\n",
      "test loss: 0.037406989836971424    test loss: 0.03677210969529545       test loss: 0.01877278129241484\n",
      "test acc: 0.9894957983193278    test acc 0.9900210084033614      test acc 0.993828781512605\n"
     ]
    },
    {
     "data": {
      "text/plain": [
       "(0.11561186027814861,\n",
       " 0.037406989836971424,\n",
       " 0.03677210969529545,\n",
       " 0.01877278129241484,\n",
       " 0.9894957983193278,\n",
       " 0.9900210084033614,\n",
       " 0.993828781512605)"
      ]
     },
     "execution_count": 5,
     "metadata": {},
     "output_type": "execute_result"
    }
   ],
   "source": [
    "numberClassificator.test()"
   ]
  },
  {
   "cell_type": "code",
   "execution_count": 8,
   "metadata": {},
   "outputs": [],
   "source": [
    "RESULT_PATH = '/mnt/data/var/www/html2/js/nomeroff-net_2/models/numberplate_options_2019_05_20.h5'"
   ]
  },
  {
   "cell_type": "code",
   "execution_count": 4,
   "metadata": {},
   "outputs": [
    {
     "name": "stderr",
     "output_type": "stream",
     "text": [
      "W0520 20:06:02.622596 140107327379264 deprecation_wrapper.py:119] From /usr/local/lib/python3.7/site-packages/keras/backend/tensorflow_backend.py:517: The name tf.placeholder is deprecated. Please use tf.compat.v1.placeholder instead.\n",
      "\n",
      "W0520 20:06:02.626284 140107327379264 deprecation_wrapper.py:119] From /usr/local/lib/python3.7/site-packages/keras/backend/tensorflow_backend.py:4138: The name tf.random_uniform is deprecated. Please use tf.random.uniform instead.\n",
      "\n",
      "W0520 20:06:02.637252 140107327379264 deprecation_wrapper.py:119] From /usr/local/lib/python3.7/site-packages/keras/backend/tensorflow_backend.py:3976: The name tf.nn.max_pool is deprecated. Please use tf.nn.max_pool2d instead.\n",
      "\n",
      "W0520 20:06:02.678629 140107327379264 deprecation_wrapper.py:119] From /usr/local/lib/python3.7/site-packages/keras/backend/tensorflow_backend.py:131: The name tf.get_default_graph is deprecated. Please use tf.compat.v1.get_default_graph instead.\n",
      "\n",
      "W0520 20:06:02.682852 140107327379264 deprecation.py:506] From /usr/local/lib/python3.7/site-packages/keras/backend/tensorflow_backend.py:3445: calling dropout (from tensorflow.python.ops.nn_ops) with keep_prob is deprecated and will be removed in a future version.\n",
      "Instructions for updating:\n",
      "Please use `rate` instead of `keep_prob`. Rate should be set to `rate = 1 - keep_prob`.\n",
      "W0520 20:06:02.748704 140107327379264 deprecation.py:506] From /usr/local/lib/python3.7/site-packages/tensorflow/python/training/moving_averages.py:212: calling Zeros.__init__ (from tensorflow.python.ops.init_ops) with dtype is deprecated and will be removed in a future version.\n",
      "Instructions for updating:\n",
      "Call initializer instance with the dtype argument instead of passing it to the constructor\n",
      "W0520 20:06:03.835557 140107327379264 deprecation_wrapper.py:119] From /usr/local/lib/python3.7/site-packages/keras/optimizers.py:790: The name tf.train.Optimizer is deprecated. Please use tf.compat.v1.train.Optimizer instead.\n",
      "\n"
     ]
    }
   ],
   "source": [
    "#numberClassificator.save(RESULT_PATH)\n",
    "model = numberClassificator.load(RESULT_PATH)"
   ]
  },
  {
   "cell_type": "markdown",
   "metadata": {},
   "source": [
    "### Convert keras options .h5 model to .pb graph"
   ]
  },
  {
   "cell_type": "code",
   "execution_count": null,
   "metadata": {},
   "outputs": [],
   "source": [
    "import keras\n",
    "keras.backend.clear_session()\n",
    "model = numberClassificator.load(RESULT_PATH)\n",
    "convert_keras_to_freeze_pb(numberClassificator.MODEL, FROZEN_MODEL_PATH)"
   ]
  },
  {
   "cell_type": "code",
   "execution_count": null,
   "metadata": {},
   "outputs": [],
   "source": []
  }
 ],
 "metadata": {
  "kernelspec": {
   "display_name": "Python 3",
   "language": "python",
   "name": "python3"
  },
  "language_info": {
   "codemirror_mode": {
    "name": "ipython",
    "version": 3
   },
   "file_extension": ".py",
   "mimetype": "text/x-python",
   "name": "python",
   "nbconvert_exporter": "python",
   "pygments_lexer": "ipython3",
   "version": "3.6.6"
  }
 },
 "nbformat": 4,
 "nbformat_minor": 2
}
