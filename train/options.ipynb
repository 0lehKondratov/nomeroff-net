{
 "cells": [
  {
   "cell_type": "markdown",
   "metadata": {},
   "source": [
    "# This example demonstrate how to train region detector model (standart image classification model)."
   ]
  },
  {
   "cell_type": "markdown",
   "metadata": {},
   "source": [
    "For train datasets please download last version of dataset [https://nomeroff.net.ua/datasets/](https://nomeroff.net.ua/datasets/). Unpack archive and rename to **./datasets/** .\n",
    "For examle\n",
    "```bash\n",
    "cd ./datasets\n",
    "wget https://nomeroff.net.ua/datasets/autoriaNumberplateOptions3Dataset-2020-10-01.zip\n",
    "unzip autoriaNumberplateOptions3Dataset-2020-10-01.zip\n",
    "mv autoriaNumberplateOptions3Dataset-2020-10-01 options\n",
    "```\n",
    "or use your own dataset."
   ]
  },
  {
   "cell_type": "code",
   "execution_count": 1,
   "metadata": {},
   "outputs": [],
   "source": [
    "# Specify device\n",
    "import os\n",
    "os.environ[\"CUDA_VISIBLE_DEVICES\"] = \"0\" "
   ]
  },
  {
   "cell_type": "code",
   "execution_count": 6,
   "metadata": {},
   "outputs": [],
   "source": [
    "from tensorflow.compat.v1 import ConfigProto\n",
    "from tensorflow.compat.v1 import InteractiveSession\n",
    "\n",
    "config = ConfigProto()\n",
    "config.gpu_options.allow_growth = True\n",
    "session = InteractiveSession(config=config)"
   ]
  },
  {
   "cell_type": "code",
   "execution_count": 7,
   "metadata": {},
   "outputs": [],
   "source": [
    "import os\n",
    "import sys\n",
    "import warnings\n",
    "warnings.filterwarnings('ignore')\n",
    "\n",
    "# change this property\n",
    "NOMEROFF_NET_DIR = os.path.abspath('../')\n",
    "\n",
    "DATASET_NAME = \"options\"\n",
    "VERSION = \"2020_10_01_tensorflow_v2_3\"\n",
    "\n",
    "LOG_DIR = os.path.join(NOMEROFF_NET_DIR, \"logs/\")\n",
    "PATH_TO_DATASET = os.path.join(NOMEROFF_NET_DIR, \"datasets/\", DATASET_NAME)\n",
    "RESULT_PATH = os.path.join(NOMEROFF_NET_DIR, \"models/\", 'numberplate_{}_{}.h5'.format(DATASET_NAME, VERSION))\n",
    "\n",
    "sys.path.append(NOMEROFF_NET_DIR)\n",
    "\n",
    "from NomeroffNet import OptionsDetector"
   ]
  },
  {
   "cell_type": "code",
   "execution_count": 8,
   "metadata": {},
   "outputs": [],
   "source": [
    "# definde your parameters\n",
    "class MyNpClassificator(OptionsDetector):\n",
    "    def __init__(self):\n",
    "        OptionsDetector.__init__(self)\n",
    "        # outputs 1\n",
    "        self.CLASS_STATE = [\"garbage\", \"filled\", \"not filled\", \"empty\"]\n",
    "        \n",
    "        # outputs 2\n",
    "        self.CLASS_REGION = [\"xx-unknown\", \"eu-ua-2015\", \"eu-ua-2004\", \"eu-ua-1995\", \"eu\", \"xx-transit\", \"ru\", \"kz\", \"eu-ua-ordlo-dnr\", \"eu-ua-ordlo-lnr\", \"ge\", \"by\", \"su\"]\n",
    "        \n",
    "        # output 3\n",
    "        self.CLASS_COUNT_LINE = [\"0\", \"1\", \"2\", \"3\"]\n",
    "        \n",
    "        self.EPOCHS           = 100\n",
    "        self.BATCH_SIZE       = 64\n",
    "        \n",
    "        self.HEIGHT         = 64\n",
    "        self.WEIGHT         = 295\n"
   ]
  },
  {
   "cell_type": "code",
   "execution_count": 9,
   "metadata": {},
   "outputs": [
    {
     "name": "stdout",
     "output_type": "stream",
     "text": [
      "START PREPARING\n",
      "start train build\n",
      "end train build\n",
      "start test build\n",
      "end test build\n",
      "start test build\n",
      "end test build\n",
      "DATA PREPARED\n"
     ]
    }
   ],
   "source": [
    "# initialize region detector.\n",
    "npClassificator = MyNpClassificator()\n",
    "npClassificator.prepare(PATH_TO_DATASET, verbose=1)"
   ]
  },
  {
   "cell_type": "code",
   "execution_count": 10,
   "metadata": {},
   "outputs": [
    {
     "name": "stdout",
     "output_type": "stream",
     "text": [
      "WARNING:tensorflow:From /home/www/nomeroff-net/NomeroffNet/OptionsDetector.py:228: Model.fit_generator (from tensorflow.python.keras.engine.training) is deprecated and will be removed in a future version.\n",
      "Instructions for updating:\n",
      "Please use Model.fit, which supports generators.\n",
      "WARNING:tensorflow:Automatic model reloading for interrupted job was removed from the `ModelCheckpoint` callback in multi-worker mode, please use the `keras.callbacks.experimental.BackupAndRestore` callback instead. See this tutorial for details: https://www.tensorflow.org/tutorials/distribute/multi_worker_with_keras#backupandrestore_callback.\n",
      "Epoch 1/100\n",
      "510/509 [==============================] - 24s 46ms/step - loss: 1.5382 - REGION_loss: 1.0346 - STATE_loss: 0.2338 - COUNT_LINE_loss: 0.2354 - REGION_accuracy: 0.7202 - STATE_accuracy: 0.9403 - COUNT_LINE_accuracy: 0.9369 - val_loss: 1.6013 - val_REGION_loss: 0.9685 - val_STATE_loss: 0.3000 - val_COUNT_LINE_loss: 0.2917 - val_REGION_accuracy: 0.8493 - val_STATE_accuracy: 0.8066 - val_COUNT_LINE_accuracy: 0.8387\n",
      "Epoch 2/100\n",
      "510/509 [==============================] - 189s 371ms/step - loss: 0.5879 - REGION_loss: 0.3718 - STATE_loss: 0.0912 - COUNT_LINE_loss: 0.0841 - REGION_accuracy: 0.9021 - STATE_accuracy: 0.9697 - COUNT_LINE_accuracy: 0.9725 - val_loss: 0.4726 - val_REGION_loss: 0.2779 - val_STATE_loss: 0.0845 - val_COUNT_LINE_loss: 0.0701 - val_REGION_accuracy: 0.9280 - val_STATE_accuracy: 0.9722 - val_COUNT_LINE_accuracy: 0.9760\n",
      "Epoch 3/100\n",
      "510/509 [==============================] - 185s 362ms/step - loss: 0.4038 - REGION_loss: 0.2320 - STATE_loss: 0.0706 - COUNT_LINE_loss: 0.0622 - REGION_accuracy: 0.9391 - STATE_accuracy: 0.9775 - COUNT_LINE_accuracy: 0.9800 - val_loss: 0.3500 - val_REGION_loss: 0.1859 - val_STATE_loss: 0.0684 - val_COUNT_LINE_loss: 0.0576 - val_REGION_accuracy: 0.9517 - val_STATE_accuracy: 0.9787 - val_COUNT_LINE_accuracy: 0.9799\n",
      "Epoch 4/100\n",
      "510/509 [==============================] - 186s 364ms/step - loss: 0.3121 - REGION_loss: 0.1682 - STATE_loss: 0.0562 - COUNT_LINE_loss: 0.0505 - REGION_accuracy: 0.9556 - STATE_accuracy: 0.9823 - COUNT_LINE_accuracy: 0.9837 - val_loss: 0.2883 - val_REGION_loss: 0.1517 - val_STATE_loss: 0.0582 - val_COUNT_LINE_loss: 0.0418 - val_REGION_accuracy: 0.9602 - val_STATE_accuracy: 0.9830 - val_COUNT_LINE_accuracy: 0.9865\n",
      "Epoch 5/100\n",
      "510/509 [==============================] - 184s 360ms/step - loss: 0.2481 - REGION_loss: 0.1264 - STATE_loss: 0.0466 - COUNT_LINE_loss: 0.0391 - REGION_accuracy: 0.9665 - STATE_accuracy: 0.9854 - COUNT_LINE_accuracy: 0.9875 - val_loss: 0.3147 - val_REGION_loss: 0.1368 - val_STATE_loss: 0.0814 - val_COUNT_LINE_loss: 0.0611 - val_REGION_accuracy: 0.9634 - val_STATE_accuracy: 0.9736 - val_COUNT_LINE_accuracy: 0.9779\n",
      "Epoch 6/100\n",
      "510/509 [==============================] - 186s 365ms/step - loss: 0.2274 - REGION_loss: 0.1101 - STATE_loss: 0.0446 - COUNT_LINE_loss: 0.0378 - REGION_accuracy: 0.9705 - STATE_accuracy: 0.9868 - COUNT_LINE_accuracy: 0.9880 - val_loss: 0.2275 - val_REGION_loss: 0.1088 - val_STATE_loss: 0.0494 - val_COUNT_LINE_loss: 0.0348 - val_REGION_accuracy: 0.9709 - val_STATE_accuracy: 0.9847 - val_COUNT_LINE_accuracy: 0.9891\n",
      "Epoch 7/100\n",
      "510/509 [==============================] - 185s 364ms/step - loss: 0.2012 - REGION_loss: 0.0950 - STATE_loss: 0.0400 - COUNT_LINE_loss: 0.0321 - REGION_accuracy: 0.9739 - STATE_accuracy: 0.9872 - COUNT_LINE_accuracy: 0.9896 - val_loss: 0.2025 - val_REGION_loss: 0.0953 - val_STATE_loss: 0.0426 - val_COUNT_LINE_loss: 0.0309 - val_REGION_accuracy: 0.9751 - val_STATE_accuracy: 0.9879 - val_COUNT_LINE_accuracy: 0.9896\n",
      "Epoch 8/100\n",
      "510/509 [==============================] - 185s 362ms/step - loss: 0.1749 - REGION_loss: 0.0786 - STATE_loss: 0.0345 - COUNT_LINE_loss: 0.0283 - REGION_accuracy: 0.9790 - STATE_accuracy: 0.9888 - COUNT_LINE_accuracy: 0.9911 - val_loss: 0.1778 - val_REGION_loss: 0.0709 - val_STATE_loss: 0.0417 - val_COUNT_LINE_loss: 0.0322 - val_REGION_accuracy: 0.9822 - val_STATE_accuracy: 0.9873 - val_COUNT_LINE_accuracy: 0.9892\n",
      "Epoch 9/100\n",
      "510/509 [==============================] - 188s 368ms/step - loss: 0.1564 - REGION_loss: 0.0694 - STATE_loss: 0.0299 - COUNT_LINE_loss: 0.0244 - REGION_accuracy: 0.9812 - STATE_accuracy: 0.9911 - COUNT_LINE_accuracy: 0.9923 - val_loss: 0.1796 - val_REGION_loss: 0.0790 - val_STATE_loss: 0.0389 - val_COUNT_LINE_loss: 0.0293 - val_REGION_accuracy: 0.9783 - val_STATE_accuracy: 0.9875 - val_COUNT_LINE_accuracy: 0.9908\n",
      "Epoch 10/100\n",
      "510/509 [==============================] - 185s 363ms/step - loss: 0.1472 - REGION_loss: 0.0637 - STATE_loss: 0.0291 - COUNT_LINE_loss: 0.0224 - REGION_accuracy: 0.9831 - STATE_accuracy: 0.9911 - COUNT_LINE_accuracy: 0.9930 - val_loss: 0.1682 - val_REGION_loss: 0.0722 - val_STATE_loss: 0.0395 - val_COUNT_LINE_loss: 0.0248 - val_REGION_accuracy: 0.9821 - val_STATE_accuracy: 0.9885 - val_COUNT_LINE_accuracy: 0.9924\n",
      "Epoch 11/100\n",
      "510/509 [==============================] - 187s 367ms/step - loss: 0.1337 - REGION_loss: 0.0552 - STATE_loss: 0.0265 - COUNT_LINE_loss: 0.0206 - REGION_accuracy: 0.9861 - STATE_accuracy: 0.9916 - COUNT_LINE_accuracy: 0.9936 - val_loss: 0.1518 - val_REGION_loss: 0.0677 - val_STATE_loss: 0.0336 - val_COUNT_LINE_loss: 0.0193 - val_REGION_accuracy: 0.9812 - val_STATE_accuracy: 0.9896 - val_COUNT_LINE_accuracy: 0.9937\n",
      "Epoch 12/100\n",
      "510/509 [==============================] - 187s 367ms/step - loss: 0.1244 - REGION_loss: 0.0516 - STATE_loss: 0.0235 - COUNT_LINE_loss: 0.0185 - REGION_accuracy: 0.9863 - STATE_accuracy: 0.9930 - COUNT_LINE_accuracy: 0.9939 - val_loss: 0.1468 - val_REGION_loss: 0.0623 - val_STATE_loss: 0.0318 - val_COUNT_LINE_loss: 0.0223 - val_REGION_accuracy: 0.9837 - val_STATE_accuracy: 0.9903 - val_COUNT_LINE_accuracy: 0.9924\n",
      "Epoch 13/100\n",
      "510/509 [==============================] - 186s 364ms/step - loss: 0.1193 - REGION_loss: 0.0491 - STATE_loss: 0.0225 - COUNT_LINE_loss: 0.0175 - REGION_accuracy: 0.9881 - STATE_accuracy: 0.9931 - COUNT_LINE_accuracy: 0.9949 - val_loss: 0.1534 - val_REGION_loss: 0.0702 - val_STATE_loss: 0.0311 - val_COUNT_LINE_loss: 0.0223 - val_REGION_accuracy: 0.9811 - val_STATE_accuracy: 0.9905 - val_COUNT_LINE_accuracy: 0.9930\n",
      "Epoch 14/100\n",
      "510/509 [==============================] - 185s 364ms/step - loss: 0.1099 - REGION_loss: 0.0441 - STATE_loss: 0.0202 - COUNT_LINE_loss: 0.0160 - REGION_accuracy: 0.9889 - STATE_accuracy: 0.9932 - COUNT_LINE_accuracy: 0.9951 - val_loss: 0.1329 - val_REGION_loss: 0.0522 - val_STATE_loss: 0.0308 - val_COUNT_LINE_loss: 0.0204 - val_REGION_accuracy: 0.9857 - val_STATE_accuracy: 0.9905 - val_COUNT_LINE_accuracy: 0.9936\n",
      "Epoch 15/100\n",
      "510/509 [==============================] - 185s 363ms/step - loss: 0.1045 - REGION_loss: 0.0414 - STATE_loss: 0.0183 - COUNT_LINE_loss: 0.0154 - REGION_accuracy: 0.9890 - STATE_accuracy: 0.9946 - COUNT_LINE_accuracy: 0.9960 - val_loss: 0.1339 - val_REGION_loss: 0.0553 - val_STATE_loss: 0.0287 - val_COUNT_LINE_loss: 0.0209 - val_REGION_accuracy: 0.9857 - val_STATE_accuracy: 0.9916 - val_COUNT_LINE_accuracy: 0.9941\n",
      "Epoch 16/100\n",
      "510/509 [==============================] - 185s 364ms/step - loss: 0.0949 - REGION_loss: 0.0362 - STATE_loss: 0.0174 - COUNT_LINE_loss: 0.0125 - REGION_accuracy: 0.9910 - STATE_accuracy: 0.9949 - COUNT_LINE_accuracy: 0.9964 - val_loss: 0.1383 - val_REGION_loss: 0.0545 - val_STATE_loss: 0.0313 - val_COUNT_LINE_loss: 0.0239 - val_REGION_accuracy: 0.9860 - val_STATE_accuracy: 0.9904 - val_COUNT_LINE_accuracy: 0.9927\n",
      "Epoch 17/100\n",
      "510/509 [==============================] - 184s 361ms/step - loss: 0.0979 - REGION_loss: 0.0377 - STATE_loss: 0.0175 - COUNT_LINE_loss: 0.0144 - REGION_accuracy: 0.9909 - STATE_accuracy: 0.9947 - COUNT_LINE_accuracy: 0.9962 - val_loss: 0.1357 - val_REGION_loss: 0.0568 - val_STATE_loss: 0.0305 - val_COUNT_LINE_loss: 0.0203 - val_REGION_accuracy: 0.9865 - val_STATE_accuracy: 0.9903 - val_COUNT_LINE_accuracy: 0.9933\n",
      "Epoch 18/100\n",
      "510/509 [==============================] - 185s 362ms/step - loss: 0.0882 - REGION_loss: 0.0324 - STATE_loss: 0.0157 - COUNT_LINE_loss: 0.0122 - REGION_accuracy: 0.9919 - STATE_accuracy: 0.9956 - COUNT_LINE_accuracy: 0.9962 - val_loss: 0.1068 - val_REGION_loss: 0.0405 - val_STATE_loss: 0.0234 - val_COUNT_LINE_loss: 0.0153 - val_REGION_accuracy: 0.9892 - val_STATE_accuracy: 0.9929 - val_COUNT_LINE_accuracy: 0.9947\n"
     ]
    },
    {
     "name": "stdout",
     "output_type": "stream",
     "text": [
      "Epoch 19/100\n",
      "510/509 [==============================] - 187s 366ms/step - loss: 0.0862 - REGION_loss: 0.0330 - STATE_loss: 0.0149 - COUNT_LINE_loss: 0.0108 - REGION_accuracy: 0.9907 - STATE_accuracy: 0.9953 - COUNT_LINE_accuracy: 0.9966 - val_loss: 0.1234 - val_REGION_loss: 0.0487 - val_STATE_loss: 0.0288 - val_COUNT_LINE_loss: 0.0185 - val_REGION_accuracy: 0.9884 - val_STATE_accuracy: 0.9909 - val_COUNT_LINE_accuracy: 0.9944\n",
      "Epoch 20/100\n",
      "510/509 [==============================] - 182s 358ms/step - loss: 0.0801 - REGION_loss: 0.0298 - STATE_loss: 0.0135 - COUNT_LINE_loss: 0.0097 - REGION_accuracy: 0.9925 - STATE_accuracy: 0.9959 - COUNT_LINE_accuracy: 0.9974 - val_loss: 0.1092 - val_REGION_loss: 0.0483 - val_STATE_loss: 0.0198 - val_COUNT_LINE_loss: 0.0141 - val_REGION_accuracy: 0.9886 - val_STATE_accuracy: 0.9934 - val_COUNT_LINE_accuracy: 0.9946\n",
      "Epoch 21/100\n",
      "510/509 [==============================] - 184s 361ms/step - loss: 0.0816 - REGION_loss: 0.0304 - STATE_loss: 0.0132 - COUNT_LINE_loss: 0.0112 - REGION_accuracy: 0.9919 - STATE_accuracy: 0.9960 - COUNT_LINE_accuracy: 0.9967 - val_loss: 0.1142 - val_REGION_loss: 0.0425 - val_STATE_loss: 0.0284 - val_COUNT_LINE_loss: 0.0167 - val_REGION_accuracy: 0.9893 - val_STATE_accuracy: 0.9922 - val_COUNT_LINE_accuracy: 0.9947\n",
      "Epoch 22/100\n",
      "510/509 [==============================] - 185s 362ms/step - loss: 0.0738 - REGION_loss: 0.0251 - STATE_loss: 0.0133 - COUNT_LINE_loss: 0.0091 - REGION_accuracy: 0.9941 - STATE_accuracy: 0.9956 - COUNT_LINE_accuracy: 0.9975 - val_loss: 0.1065 - val_REGION_loss: 0.0398 - val_STATE_loss: 0.0241 - val_COUNT_LINE_loss: 0.0164 - val_REGION_accuracy: 0.9897 - val_STATE_accuracy: 0.9924 - val_COUNT_LINE_accuracy: 0.9950\n",
      "Epoch 23/100\n",
      "510/509 [==============================] - 184s 360ms/step - loss: 0.0802 - REGION_loss: 0.0289 - STATE_loss: 0.0146 - COUNT_LINE_loss: 0.0107 - REGION_accuracy: 0.9924 - STATE_accuracy: 0.9955 - COUNT_LINE_accuracy: 0.9972 - val_loss: 0.1124 - val_REGION_loss: 0.0449 - val_STATE_loss: 0.0258 - val_COUNT_LINE_loss: 0.0160 - val_REGION_accuracy: 0.9878 - val_STATE_accuracy: 0.9921 - val_COUNT_LINE_accuracy: 0.9947\n",
      "Epoch 24/100\n",
      "510/509 [==============================] - 187s 366ms/step - loss: 0.0755 - REGION_loss: 0.0263 - STATE_loss: 0.0134 - COUNT_LINE_loss: 0.0102 - REGION_accuracy: 0.9935 - STATE_accuracy: 0.9956 - COUNT_LINE_accuracy: 0.9970 - val_loss: 0.0961 - val_REGION_loss: 0.0420 - val_STATE_loss: 0.0178 - val_COUNT_LINE_loss: 0.0109 - val_REGION_accuracy: 0.9897 - val_STATE_accuracy: 0.9943 - val_COUNT_LINE_accuracy: 0.9970\n",
      "Epoch 25/100\n",
      "510/509 [==============================] - 185s 362ms/step - loss: 0.0694 - REGION_loss: 0.0229 - STATE_loss: 0.0127 - COUNT_LINE_loss: 0.0086 - REGION_accuracy: 0.9938 - STATE_accuracy: 0.9962 - COUNT_LINE_accuracy: 0.9976 - val_loss: 0.1280 - val_REGION_loss: 0.0471 - val_STATE_loss: 0.0345 - val_COUNT_LINE_loss: 0.0213 - val_REGION_accuracy: 0.9880 - val_STATE_accuracy: 0.9892 - val_COUNT_LINE_accuracy: 0.9934\n",
      "Epoch 26/100\n",
      "510/509 [==============================] - 186s 366ms/step - loss: 0.0662 - REGION_loss: 0.0231 - STATE_loss: 0.0100 - COUNT_LINE_loss: 0.0080 - REGION_accuracy: 0.9945 - STATE_accuracy: 0.9969 - COUNT_LINE_accuracy: 0.9977 - val_loss: 0.0981 - val_REGION_loss: 0.0437 - val_STATE_loss: 0.0193 - val_COUNT_LINE_loss: 0.0103 - val_REGION_accuracy: 0.9896 - val_STATE_accuracy: 0.9947 - val_COUNT_LINE_accuracy: 0.9969\n",
      "Epoch 27/100\n",
      "510/509 [==============================] - 186s 364ms/step - loss: 0.0691 - REGION_loss: 0.0239 - STATE_loss: 0.0116 - COUNT_LINE_loss: 0.0090 - REGION_accuracy: 0.9940 - STATE_accuracy: 0.9964 - COUNT_LINE_accuracy: 0.9976 - val_loss: 0.0908 - val_REGION_loss: 0.0364 - val_STATE_loss: 0.0186 - val_COUNT_LINE_loss: 0.0112 - val_REGION_accuracy: 0.9917 - val_STATE_accuracy: 0.9951 - val_COUNT_LINE_accuracy: 0.9967\n",
      "Epoch 28/100\n",
      "510/509 [==============================] - 185s 363ms/step - loss: 0.0669 - REGION_loss: 0.0231 - STATE_loss: 0.0112 - COUNT_LINE_loss: 0.0082 - REGION_accuracy: 0.9941 - STATE_accuracy: 0.9967 - COUNT_LINE_accuracy: 0.9978 - val_loss: 0.0955 - val_REGION_loss: 0.0386 - val_STATE_loss: 0.0198 - val_COUNT_LINE_loss: 0.0128 - val_REGION_accuracy: 0.9908 - val_STATE_accuracy: 0.9947 - val_COUNT_LINE_accuracy: 0.9957\n",
      "Epoch 29/100\n",
      "510/509 [==============================] - 186s 364ms/step - loss: 0.0618 - REGION_loss: 0.0198 - STATE_loss: 0.0104 - COUNT_LINE_loss: 0.0075 - REGION_accuracy: 0.9953 - STATE_accuracy: 0.9972 - COUNT_LINE_accuracy: 0.9981 - val_loss: 0.0967 - val_REGION_loss: 0.0413 - val_STATE_loss: 0.0198 - val_COUNT_LINE_loss: 0.0116 - val_REGION_accuracy: 0.9903 - val_STATE_accuracy: 0.9931 - val_COUNT_LINE_accuracy: 0.9962\n",
      "Epoch 30/100\n",
      "510/509 [==============================] - 186s 364ms/step - loss: 0.0600 - REGION_loss: 0.0196 - STATE_loss: 0.0095 - COUNT_LINE_loss: 0.0070 - REGION_accuracy: 0.9952 - STATE_accuracy: 0.9973 - COUNT_LINE_accuracy: 0.9980 - val_loss: 0.1036 - val_REGION_loss: 0.0428 - val_STATE_loss: 0.0233 - val_COUNT_LINE_loss: 0.0137 - val_REGION_accuracy: 0.9896 - val_STATE_accuracy: 0.9925 - val_COUNT_LINE_accuracy: 0.9953\n",
      "Epoch 31/100\n",
      "510/509 [==============================] - 184s 361ms/step - loss: 0.0600 - REGION_loss: 0.0203 - STATE_loss: 0.0096 - COUNT_LINE_loss: 0.0066 - REGION_accuracy: 0.9948 - STATE_accuracy: 0.9971 - COUNT_LINE_accuracy: 0.9985 - val_loss: 0.1089 - val_REGION_loss: 0.0413 - val_STATE_loss: 0.0248 - val_COUNT_LINE_loss: 0.0194 - val_REGION_accuracy: 0.9903 - val_STATE_accuracy: 0.9924 - val_COUNT_LINE_accuracy: 0.9944\n",
      "Epoch 32/100\n",
      "510/509 [==============================] - 187s 366ms/step - loss: 0.0590 - REGION_loss: 0.0201 - STATE_loss: 0.0085 - COUNT_LINE_loss: 0.0070 - REGION_accuracy: 0.9953 - STATE_accuracy: 0.9975 - COUNT_LINE_accuracy: 0.9983 - val_loss: 0.0875 - val_REGION_loss: 0.0364 - val_STATE_loss: 0.0170 - val_COUNT_LINE_loss: 0.0108 - val_REGION_accuracy: 0.9916 - val_STATE_accuracy: 0.9949 - val_COUNT_LINE_accuracy: 0.9962\n",
      "Epoch 33/100\n",
      "510/509 [==============================] - 188s 368ms/step - loss: 0.0581 - REGION_loss: 0.0192 - STATE_loss: 0.0091 - COUNT_LINE_loss: 0.0067 - REGION_accuracy: 0.9955 - STATE_accuracy: 0.9974 - COUNT_LINE_accuracy: 0.9983 - val_loss: 0.1014 - val_REGION_loss: 0.0391 - val_STATE_loss: 0.0251 - val_COUNT_LINE_loss: 0.0141 - val_REGION_accuracy: 0.9917 - val_STATE_accuracy: 0.9929 - val_COUNT_LINE_accuracy: 0.9951\n",
      "Epoch 34/100\n",
      "510/509 [==============================] - 185s 363ms/step - loss: 0.0576 - REGION_loss: 0.0179 - STATE_loss: 0.0092 - COUNT_LINE_loss: 0.0077 - REGION_accuracy: 0.9956 - STATE_accuracy: 0.9974 - COUNT_LINE_accuracy: 0.9979 - val_loss: 0.0960 - val_REGION_loss: 0.0376 - val_STATE_loss: 0.0197 - val_COUNT_LINE_loss: 0.0160 - val_REGION_accuracy: 0.9904 - val_STATE_accuracy: 0.9944 - val_COUNT_LINE_accuracy: 0.9955\n",
      "Epoch 35/100\n",
      "510/509 [==============================] - 185s 363ms/step - loss: 0.0542 - REGION_loss: 0.0166 - STATE_loss: 0.0080 - COUNT_LINE_loss: 0.0070 - REGION_accuracy: 0.9960 - STATE_accuracy: 0.9978 - COUNT_LINE_accuracy: 0.9983 - val_loss: 0.0911 - val_REGION_loss: 0.0362 - val_STATE_loss: 0.0198 - val_COUNT_LINE_loss: 0.0126 - val_REGION_accuracy: 0.9916 - val_STATE_accuracy: 0.9943 - val_COUNT_LINE_accuracy: 0.9957\n",
      "Epoch 36/100\n",
      "510/509 [==============================] - 185s 362ms/step - loss: 0.0505 - REGION_loss: 0.0156 - STATE_loss: 0.0074 - COUNT_LINE_loss: 0.0052 - REGION_accuracy: 0.9965 - STATE_accuracy: 0.9981 - COUNT_LINE_accuracy: 0.9989 - val_loss: 0.0874 - val_REGION_loss: 0.0327 - val_STATE_loss: 0.0198 - val_COUNT_LINE_loss: 0.0127 - val_REGION_accuracy: 0.9917 - val_STATE_accuracy: 0.9944 - val_COUNT_LINE_accuracy: 0.9963\n",
      "Epoch 37/100\n",
      "510/509 [==============================] - 188s 368ms/step - loss: 0.0523 - REGION_loss: 0.0156 - STATE_loss: 0.0086 - COUNT_LINE_loss: 0.0061 - REGION_accuracy: 0.9964 - STATE_accuracy: 0.9977 - COUNT_LINE_accuracy: 0.9985 - val_loss: 0.0872 - val_REGION_loss: 0.0379 - val_STATE_loss: 0.0168 - val_COUNT_LINE_loss: 0.0106 - val_REGION_accuracy: 0.9916 - val_STATE_accuracy: 0.9949 - val_COUNT_LINE_accuracy: 0.9967\n",
      "Epoch 38/100\n"
     ]
    },
    {
     "name": "stdout",
     "output_type": "stream",
     "text": [
      "510/509 [==============================] - 184s 360ms/step - loss: 0.0554 - REGION_loss: 0.0187 - STATE_loss: 0.0089 - COUNT_LINE_loss: 0.0060 - REGION_accuracy: 0.9952 - STATE_accuracy: 0.9974 - COUNT_LINE_accuracy: 0.9983 - val_loss: 0.0802 - val_REGION_loss: 0.0266 - val_STATE_loss: 0.0192 - val_COUNT_LINE_loss: 0.0128 - val_REGION_accuracy: 0.9931 - val_STATE_accuracy: 0.9942 - val_COUNT_LINE_accuracy: 0.9963\n",
      "Epoch 39/100\n",
      "510/509 [==============================] - 184s 361ms/step - loss: 0.0528 - REGION_loss: 0.0161 - STATE_loss: 0.0081 - COUNT_LINE_loss: 0.0070 - REGION_accuracy: 0.9959 - STATE_accuracy: 0.9975 - COUNT_LINE_accuracy: 0.9981 - val_loss: 0.0938 - val_REGION_loss: 0.0404 - val_STATE_loss: 0.0191 - val_COUNT_LINE_loss: 0.0128 - val_REGION_accuracy: 0.9912 - val_STATE_accuracy: 0.9946 - val_COUNT_LINE_accuracy: 0.9960\n",
      "Epoch 40/100\n",
      "510/509 [==============================] - 184s 360ms/step - loss: 0.0510 - REGION_loss: 0.0153 - STATE_loss: 0.0083 - COUNT_LINE_loss: 0.0061 - REGION_accuracy: 0.9962 - STATE_accuracy: 0.9974 - COUNT_LINE_accuracy: 0.9984 - val_loss: 0.0917 - val_REGION_loss: 0.0404 - val_STATE_loss: 0.0166 - val_COUNT_LINE_loss: 0.0134 - val_REGION_accuracy: 0.9908 - val_STATE_accuracy: 0.9953 - val_COUNT_LINE_accuracy: 0.9966\n",
      "Epoch 41/100\n",
      "510/509 [==============================] - 185s 362ms/step - loss: 0.0480 - REGION_loss: 0.0142 - STATE_loss: 0.0074 - COUNT_LINE_loss: 0.0054 - REGION_accuracy: 0.9969 - STATE_accuracy: 0.9978 - COUNT_LINE_accuracy: 0.9985 - val_loss: 0.0671 - val_REGION_loss: 0.0231 - val_STATE_loss: 0.0153 - val_COUNT_LINE_loss: 0.0078 - val_REGION_accuracy: 0.9941 - val_STATE_accuracy: 0.9957 - val_COUNT_LINE_accuracy: 0.9975\n",
      "Epoch 42/100\n",
      "510/509 [==============================] - 183s 359ms/step - loss: 0.0450 - REGION_loss: 0.0130 - STATE_loss: 0.0063 - COUNT_LINE_loss: 0.0048 - REGION_accuracy: 0.9972 - STATE_accuracy: 0.9983 - COUNT_LINE_accuracy: 0.9988 - val_loss: 0.0997 - val_REGION_loss: 0.0446 - val_STATE_loss: 0.0197 - val_COUNT_LINE_loss: 0.0147 - val_REGION_accuracy: 0.9909 - val_STATE_accuracy: 0.9938 - val_COUNT_LINE_accuracy: 0.9955\n",
      "Epoch 43/100\n",
      "510/509 [==============================] - 184s 360ms/step - loss: 0.0450 - REGION_loss: 0.0136 - STATE_loss: 0.0059 - COUNT_LINE_loss: 0.0047 - REGION_accuracy: 0.9967 - STATE_accuracy: 0.9985 - COUNT_LINE_accuracy: 0.9987 - val_loss: 0.0925 - val_REGION_loss: 0.0341 - val_STATE_loss: 0.0215 - val_COUNT_LINE_loss: 0.0163 - val_REGION_accuracy: 0.9921 - val_STATE_accuracy: 0.9935 - val_COUNT_LINE_accuracy: 0.9955\n",
      "Epoch 44/100\n",
      "510/509 [==============================] - 187s 366ms/step - loss: 0.0483 - REGION_loss: 0.0143 - STATE_loss: 0.0072 - COUNT_LINE_loss: 0.0063 - REGION_accuracy: 0.9966 - STATE_accuracy: 0.9981 - COUNT_LINE_accuracy: 0.9985 - val_loss: 0.0796 - val_REGION_loss: 0.0322 - val_STATE_loss: 0.0159 - val_COUNT_LINE_loss: 0.0112 - val_REGION_accuracy: 0.9928 - val_STATE_accuracy: 0.9946 - val_COUNT_LINE_accuracy: 0.9967\n",
      "Epoch 45/100\n",
      "510/509 [==============================] - 184s 360ms/step - loss: 0.0495 - REGION_loss: 0.0141 - STATE_loss: 0.0081 - COUNT_LINE_loss: 0.0070 - REGION_accuracy: 0.9969 - STATE_accuracy: 0.9980 - COUNT_LINE_accuracy: 0.9983 - val_loss: 0.0994 - val_REGION_loss: 0.0420 - val_STATE_loss: 0.0211 - val_COUNT_LINE_loss: 0.0162 - val_REGION_accuracy: 0.9910 - val_STATE_accuracy: 0.9944 - val_COUNT_LINE_accuracy: 0.9955\n",
      "Epoch 46/100\n",
      "510/509 [==============================] - 185s 363ms/step - loss: 0.0434 - REGION_loss: 0.0128 - STATE_loss: 0.0058 - COUNT_LINE_loss: 0.0049 - REGION_accuracy: 0.9973 - STATE_accuracy: 0.9984 - COUNT_LINE_accuracy: 0.9989 - val_loss: 0.0845 - val_REGION_loss: 0.0345 - val_STATE_loss: 0.0188 - val_COUNT_LINE_loss: 0.0112 - val_REGION_accuracy: 0.9929 - val_STATE_accuracy: 0.9951 - val_COUNT_LINE_accuracy: 0.9972\n",
      "Epoch 47/100\n",
      "510/509 [==============================] - 184s 361ms/step - loss: 0.0446 - REGION_loss: 0.0135 - STATE_loss: 0.0068 - COUNT_LINE_loss: 0.0046 - REGION_accuracy: 0.9969 - STATE_accuracy: 0.9983 - COUNT_LINE_accuracy: 0.9988 - val_loss: 0.0871 - val_REGION_loss: 0.0344 - val_STATE_loss: 0.0195 - val_COUNT_LINE_loss: 0.0135 - val_REGION_accuracy: 0.9923 - val_STATE_accuracy: 0.9946 - val_COUNT_LINE_accuracy: 0.9953\n",
      "Epoch 48/100\n",
      "510/509 [==============================] - 187s 366ms/step - loss: 0.0420 - REGION_loss: 0.0111 - STATE_loss: 0.0063 - COUNT_LINE_loss: 0.0050 - REGION_accuracy: 0.9976 - STATE_accuracy: 0.9985 - COUNT_LINE_accuracy: 0.9987 - val_loss: 0.0881 - val_REGION_loss: 0.0346 - val_STATE_loss: 0.0187 - val_COUNT_LINE_loss: 0.0153 - val_REGION_accuracy: 0.9927 - val_STATE_accuracy: 0.9953 - val_COUNT_LINE_accuracy: 0.9959\n",
      "Epoch 49/100\n",
      "510/509 [==============================] - 189s 371ms/step - loss: 0.0446 - REGION_loss: 0.0128 - STATE_loss: 0.0066 - COUNT_LINE_loss: 0.0058 - REGION_accuracy: 0.9968 - STATE_accuracy: 0.9983 - COUNT_LINE_accuracy: 0.9986 - val_loss: 0.0761 - val_REGION_loss: 0.0290 - val_STATE_loss: 0.0166 - val_COUNT_LINE_loss: 0.0112 - val_REGION_accuracy: 0.9931 - val_STATE_accuracy: 0.9957 - val_COUNT_LINE_accuracy: 0.9967\n",
      "Epoch 50/100\n",
      "510/509 [==============================] - 192s 377ms/step - loss: 0.0414 - REGION_loss: 0.0111 - STATE_loss: 0.0061 - COUNT_LINE_loss: 0.0050 - REGION_accuracy: 0.9978 - STATE_accuracy: 0.9983 - COUNT_LINE_accuracy: 0.9988 - val_loss: 0.0757 - val_REGION_loss: 0.0294 - val_STATE_loss: 0.0164 - val_COUNT_LINE_loss: 0.0108 - val_REGION_accuracy: 0.9930 - val_STATE_accuracy: 0.9951 - val_COUNT_LINE_accuracy: 0.9970\n",
      "Epoch 51/100\n",
      "510/509 [==============================] - 194s 380ms/step - loss: 0.0432 - REGION_loss: 0.0122 - STATE_loss: 0.0067 - COUNT_LINE_loss: 0.0053 - REGION_accuracy: 0.9972 - STATE_accuracy: 0.9980 - COUNT_LINE_accuracy: 0.9987 - val_loss: 0.0926 - val_REGION_loss: 0.0390 - val_STATE_loss: 0.0196 - val_COUNT_LINE_loss: 0.0149 - val_REGION_accuracy: 0.9909 - val_STATE_accuracy: 0.9944 - val_COUNT_LINE_accuracy: 0.9957\n",
      "Epoch 52/100\n",
      "510/509 [==============================] - 192s 377ms/step - loss: 0.0362 - REGION_loss: 0.0089 - STATE_loss: 0.0050 - COUNT_LINE_loss: 0.0033 - REGION_accuracy: 0.9979 - STATE_accuracy: 0.9987 - COUNT_LINE_accuracy: 0.9992 - val_loss: 0.0782 - val_REGION_loss: 0.0303 - val_STATE_loss: 0.0171 - val_COUNT_LINE_loss: 0.0117 - val_REGION_accuracy: 0.9928 - val_STATE_accuracy: 0.9953 - val_COUNT_LINE_accuracy: 0.9961\n",
      "Epoch 53/100\n",
      "510/509 [==============================] - 190s 373ms/step - loss: 0.0361 - REGION_loss: 0.0089 - STATE_loss: 0.0048 - COUNT_LINE_loss: 0.0034 - REGION_accuracy: 0.9980 - STATE_accuracy: 0.9986 - COUNT_LINE_accuracy: 0.9992 - val_loss: 0.0692 - val_REGION_loss: 0.0275 - val_STATE_loss: 0.0149 - val_COUNT_LINE_loss: 0.0078 - val_REGION_accuracy: 0.9937 - val_STATE_accuracy: 0.9954 - val_COUNT_LINE_accuracy: 0.9972\n",
      "Epoch 54/100\n",
      "510/509 [==============================] - 192s 376ms/step - loss: 0.0359 - REGION_loss: 0.0088 - STATE_loss: 0.0046 - COUNT_LINE_loss: 0.0036 - REGION_accuracy: 0.9979 - STATE_accuracy: 0.9988 - COUNT_LINE_accuracy: 0.9992 - val_loss: 0.0878 - val_REGION_loss: 0.0335 - val_STATE_loss: 0.0195 - val_COUNT_LINE_loss: 0.0159 - val_REGION_accuracy: 0.9918 - val_STATE_accuracy: 0.9953 - val_COUNT_LINE_accuracy: 0.9961\n",
      "Epoch 55/100\n",
      "510/509 [==============================] - 195s 382ms/step - loss: 0.0333 - REGION_loss: 0.0077 - STATE_loss: 0.0041 - COUNT_LINE_loss: 0.0027 - REGION_accuracy: 0.9984 - STATE_accuracy: 0.9987 - COUNT_LINE_accuracy: 0.9995 - val_loss: 0.0755 - val_REGION_loss: 0.0296 - val_STATE_loss: 0.0163 - val_COUNT_LINE_loss: 0.0108 - val_REGION_accuracy: 0.9928 - val_STATE_accuracy: 0.9948 - val_COUNT_LINE_accuracy: 0.9963\n",
      "Epoch 56/100\n",
      "510/509 [==============================] - 188s 369ms/step - loss: 0.0357 - REGION_loss: 0.0093 - STATE_loss: 0.0045 - COUNT_LINE_loss: 0.0031 - REGION_accuracy: 0.9977 - STATE_accuracy: 0.9988 - COUNT_LINE_accuracy: 0.9994 - val_loss: 0.0857 - val_REGION_loss: 0.0364 - val_STATE_loss: 0.0176 - val_COUNT_LINE_loss: 0.0128 - val_REGION_accuracy: 0.9925 - val_STATE_accuracy: 0.9951 - val_COUNT_LINE_accuracy: 0.9969\n",
      "Epoch 57/100\n"
     ]
    },
    {
     "name": "stdout",
     "output_type": "stream",
     "text": [
      "510/509 [==============================] - 189s 371ms/step - loss: 0.0334 - REGION_loss: 0.0074 - STATE_loss: 0.0042 - COUNT_LINE_loss: 0.0030 - REGION_accuracy: 0.9985 - STATE_accuracy: 0.9990 - COUNT_LINE_accuracy: 0.9993 - val_loss: 0.0698 - val_REGION_loss: 0.0283 - val_STATE_loss: 0.0143 - val_COUNT_LINE_loss: 0.0084 - val_REGION_accuracy: 0.9940 - val_STATE_accuracy: 0.9961 - val_COUNT_LINE_accuracy: 0.9972\n",
      "Epoch 58/100\n",
      "510/509 [==============================] - 190s 372ms/step - loss: 0.0319 - REGION_loss: 0.0067 - STATE_loss: 0.0039 - COUNT_LINE_loss: 0.0025 - REGION_accuracy: 0.9987 - STATE_accuracy: 0.9990 - COUNT_LINE_accuracy: 0.9995 - val_loss: 0.0789 - val_REGION_loss: 0.0321 - val_STATE_loss: 0.0186 - val_COUNT_LINE_loss: 0.0094 - val_REGION_accuracy: 0.9934 - val_STATE_accuracy: 0.9956 - val_COUNT_LINE_accuracy: 0.9976\n",
      "Epoch 59/100\n",
      "510/509 [==============================] - 188s 369ms/step - loss: 0.0365 - REGION_loss: 0.0095 - STATE_loss: 0.0045 - COUNT_LINE_loss: 0.0037 - REGION_accuracy: 0.9981 - STATE_accuracy: 0.9991 - COUNT_LINE_accuracy: 0.9992 - val_loss: 0.0731 - val_REGION_loss: 0.0284 - val_STATE_loss: 0.0145 - val_COUNT_LINE_loss: 0.0115 - val_REGION_accuracy: 0.9940 - val_STATE_accuracy: 0.9960 - val_COUNT_LINE_accuracy: 0.9967\n",
      "Epoch 60/100\n",
      "510/509 [==============================] - 187s 368ms/step - loss: 0.0349 - REGION_loss: 0.0082 - STATE_loss: 0.0043 - COUNT_LINE_loss: 0.0037 - REGION_accuracy: 0.9983 - STATE_accuracy: 0.9991 - COUNT_LINE_accuracy: 0.9991 - val_loss: 0.0746 - val_REGION_loss: 0.0304 - val_STATE_loss: 0.0158 - val_COUNT_LINE_loss: 0.0097 - val_REGION_accuracy: 0.9927 - val_STATE_accuracy: 0.9955 - val_COUNT_LINE_accuracy: 0.9968\n",
      "Epoch 61/100\n",
      "510/509 [==============================] - 185s 362ms/step - loss: 0.0362 - REGION_loss: 0.0092 - STATE_loss: 0.0050 - COUNT_LINE_loss: 0.0033 - REGION_accuracy: 0.9981 - STATE_accuracy: 0.9988 - COUNT_LINE_accuracy: 0.9992 - val_loss: 0.0714 - val_REGION_loss: 0.0278 - val_STATE_loss: 0.0162 - val_COUNT_LINE_loss: 0.0087 - val_REGION_accuracy: 0.9935 - val_STATE_accuracy: 0.9951 - val_COUNT_LINE_accuracy: 0.9975\n",
      "Epoch 62/100\n",
      "510/509 [==============================] - 187s 366ms/step - loss: 0.0321 - REGION_loss: 0.0071 - STATE_loss: 0.0037 - COUNT_LINE_loss: 0.0027 - REGION_accuracy: 0.9985 - STATE_accuracy: 0.9990 - COUNT_LINE_accuracy: 0.9994 - val_loss: 0.0734 - val_REGION_loss: 0.0296 - val_STATE_loss: 0.0154 - val_COUNT_LINE_loss: 0.0098 - val_REGION_accuracy: 0.9925 - val_STATE_accuracy: 0.9951 - val_COUNT_LINE_accuracy: 0.9969\n",
      "Epoch 63/100\n",
      "510/509 [==============================] - 188s 369ms/step - loss: 0.0344 - REGION_loss: 0.0087 - STATE_loss: 0.0041 - COUNT_LINE_loss: 0.0030 - REGION_accuracy: 0.9979 - STATE_accuracy: 0.9990 - COUNT_LINE_accuracy: 0.9994 - val_loss: 0.0752 - val_REGION_loss: 0.0307 - val_STATE_loss: 0.0164 - val_COUNT_LINE_loss: 0.0094 - val_REGION_accuracy: 0.9924 - val_STATE_accuracy: 0.9954 - val_COUNT_LINE_accuracy: 0.9973\n",
      "Epoch 64/100\n",
      "510/509 [==============================] - 187s 366ms/step - loss: 0.0342 - REGION_loss: 0.0082 - STATE_loss: 0.0042 - COUNT_LINE_loss: 0.0032 - REGION_accuracy: 0.9982 - STATE_accuracy: 0.9990 - COUNT_LINE_accuracy: 0.9994 - val_loss: 0.0743 - val_REGION_loss: 0.0318 - val_STATE_loss: 0.0140 - val_COUNT_LINE_loss: 0.0099 - val_REGION_accuracy: 0.9928 - val_STATE_accuracy: 0.9956 - val_COUNT_LINE_accuracy: 0.9973\n",
      "Epoch 65/100\n",
      "510/509 [==============================] - 186s 365ms/step - loss: 0.0334 - REGION_loss: 0.0080 - STATE_loss: 0.0038 - COUNT_LINE_loss: 0.0030 - REGION_accuracy: 0.9984 - STATE_accuracy: 0.9990 - COUNT_LINE_accuracy: 0.9993 - val_loss: 0.0610 - val_REGION_loss: 0.0244 - val_STATE_loss: 0.0117 - val_COUNT_LINE_loss: 0.0064 - val_REGION_accuracy: 0.9946 - val_STATE_accuracy: 0.9962 - val_COUNT_LINE_accuracy: 0.9978\n",
      "Epoch 66/100\n",
      "510/509 [==============================] - 188s 368ms/step - loss: 0.0347 - REGION_loss: 0.0084 - STATE_loss: 0.0043 - COUNT_LINE_loss: 0.0034 - REGION_accuracy: 0.9981 - STATE_accuracy: 0.9990 - COUNT_LINE_accuracy: 0.9993 - val_loss: 0.0737 - val_REGION_loss: 0.0290 - val_STATE_loss: 0.0155 - val_COUNT_LINE_loss: 0.0105 - val_REGION_accuracy: 0.9940 - val_STATE_accuracy: 0.9957 - val_COUNT_LINE_accuracy: 0.9972\n",
      "Epoch 67/100\n",
      "510/509 [==============================] - 186s 364ms/step - loss: 0.0340 - REGION_loss: 0.0079 - STATE_loss: 0.0042 - COUNT_LINE_loss: 0.0032 - REGION_accuracy: 0.9982 - STATE_accuracy: 0.9989 - COUNT_LINE_accuracy: 0.9992 - val_loss: 0.0727 - val_REGION_loss: 0.0274 - val_STATE_loss: 0.0157 - val_COUNT_LINE_loss: 0.0109 - val_REGION_accuracy: 0.9940 - val_STATE_accuracy: 0.9959 - val_COUNT_LINE_accuracy: 0.9962\n",
      "Epoch 68/100\n",
      "510/509 [==============================] - 191s 374ms/step - loss: 0.0339 - REGION_loss: 0.0074 - STATE_loss: 0.0042 - COUNT_LINE_loss: 0.0037 - REGION_accuracy: 0.9985 - STATE_accuracy: 0.9991 - COUNT_LINE_accuracy: 0.9992 - val_loss: 0.0733 - val_REGION_loss: 0.0283 - val_STATE_loss: 0.0161 - val_COUNT_LINE_loss: 0.0103 - val_REGION_accuracy: 0.9940 - val_STATE_accuracy: 0.9955 - val_COUNT_LINE_accuracy: 0.9969\n",
      "Epoch 69/100\n",
      "510/509 [==============================] - 190s 372ms/step - loss: 0.0335 - REGION_loss: 0.0083 - STATE_loss: 0.0038 - COUNT_LINE_loss: 0.0029 - REGION_accuracy: 0.9981 - STATE_accuracy: 0.9990 - COUNT_LINE_accuracy: 0.9994 - val_loss: 0.0663 - val_REGION_loss: 0.0273 - val_STATE_loss: 0.0123 - val_COUNT_LINE_loss: 0.0081 - val_REGION_accuracy: 0.9943 - val_STATE_accuracy: 0.9962 - val_COUNT_LINE_accuracy: 0.9968\n",
      "Epoch 70/100\n",
      "510/509 [==============================] - 196s 384ms/step - loss: 0.0332 - REGION_loss: 0.0078 - STATE_loss: 0.0039 - COUNT_LINE_loss: 0.0029 - REGION_accuracy: 0.9985 - STATE_accuracy: 0.9990 - COUNT_LINE_accuracy: 0.9995 - val_loss: 0.0761 - val_REGION_loss: 0.0287 - val_STATE_loss: 0.0184 - val_COUNT_LINE_loss: 0.0104 - val_REGION_accuracy: 0.9933 - val_STATE_accuracy: 0.9950 - val_COUNT_LINE_accuracy: 0.9973\n",
      "Epoch 71/100\n",
      "510/509 [==============================] - 198s 389ms/step - loss: 0.0337 - REGION_loss: 0.0082 - STATE_loss: 0.0037 - COUNT_LINE_loss: 0.0031 - REGION_accuracy: 0.9983 - STATE_accuracy: 0.9990 - COUNT_LINE_accuracy: 0.9993 - val_loss: 0.0905 - val_REGION_loss: 0.0384 - val_STATE_loss: 0.0194 - val_COUNT_LINE_loss: 0.0140 - val_REGION_accuracy: 0.9916 - val_STATE_accuracy: 0.9944 - val_COUNT_LINE_accuracy: 0.9961\n",
      "Epoch 72/100\n",
      "510/509 [==============================] - 200s 392ms/step - loss: 0.0321 - REGION_loss: 0.0072 - STATE_loss: 0.0036 - COUNT_LINE_loss: 0.0028 - REGION_accuracy: 0.9985 - STATE_accuracy: 0.9991 - COUNT_LINE_accuracy: 0.9994 - val_loss: 0.0738 - val_REGION_loss: 0.0293 - val_STATE_loss: 0.0152 - val_COUNT_LINE_loss: 0.0107 - val_REGION_accuracy: 0.9931 - val_STATE_accuracy: 0.9955 - val_COUNT_LINE_accuracy: 0.9966\n",
      "Epoch 73/100\n",
      "510/509 [==============================] - 200s 392ms/step - loss: 0.0338 - REGION_loss: 0.0082 - STATE_loss: 0.0043 - COUNT_LINE_loss: 0.0027 - REGION_accuracy: 0.9983 - STATE_accuracy: 0.9987 - COUNT_LINE_accuracy: 0.9994 - val_loss: 0.0759 - val_REGION_loss: 0.0319 - val_STATE_loss: 0.0158 - val_COUNT_LINE_loss: 0.0097 - val_REGION_accuracy: 0.9934 - val_STATE_accuracy: 0.9961 - val_COUNT_LINE_accuracy: 0.9972\n",
      "Epoch 74/100\n",
      "510/509 [==============================] - 200s 392ms/step - loss: 0.0351 - REGION_loss: 0.0087 - STATE_loss: 0.0048 - COUNT_LINE_loss: 0.0030 - REGION_accuracy: 0.9981 - STATE_accuracy: 0.9987 - COUNT_LINE_accuracy: 0.9994 - val_loss: 0.0755 - val_REGION_loss: 0.0297 - val_STATE_loss: 0.0159 - val_COUNT_LINE_loss: 0.0113 - val_REGION_accuracy: 0.9933 - val_STATE_accuracy: 0.9953 - val_COUNT_LINE_accuracy: 0.9968\n",
      "Epoch 75/100\n",
      "510/509 [==============================] - 200s 392ms/step - loss: 0.0316 - REGION_loss: 0.0070 - STATE_loss: 0.0037 - COUNT_LINE_loss: 0.0023 - REGION_accuracy: 0.9984 - STATE_accuracy: 0.9991 - COUNT_LINE_accuracy: 0.9995 - val_loss: 0.0856 - val_REGION_loss: 0.0354 - val_STATE_loss: 0.0179 - val_COUNT_LINE_loss: 0.0138 - val_REGION_accuracy: 0.9922 - val_STATE_accuracy: 0.9949 - val_COUNT_LINE_accuracy: 0.9960\n",
      "Epoch 76/100\n"
     ]
    },
    {
     "name": "stdout",
     "output_type": "stream",
     "text": [
      "510/509 [==============================] - 187s 366ms/step - loss: 0.0335 - REGION_loss: 0.0079 - STATE_loss: 0.0042 - COUNT_LINE_loss: 0.0028 - REGION_accuracy: 0.9985 - STATE_accuracy: 0.9990 - COUNT_LINE_accuracy: 0.9994 - val_loss: 0.0712 - val_REGION_loss: 0.0275 - val_STATE_loss: 0.0153 - val_COUNT_LINE_loss: 0.0097 - val_REGION_accuracy: 0.9940 - val_STATE_accuracy: 0.9955 - val_COUNT_LINE_accuracy: 0.9970\n",
      "Epoch 77/100\n",
      "510/509 [==============================] - 187s 367ms/step - loss: 0.0333 - REGION_loss: 0.0080 - STATE_loss: 0.0036 - COUNT_LINE_loss: 0.0032 - REGION_accuracy: 0.9984 - STATE_accuracy: 0.9991 - COUNT_LINE_accuracy: 0.9993 - val_loss: 0.0714 - val_REGION_loss: 0.0278 - val_STATE_loss: 0.0152 - val_COUNT_LINE_loss: 0.0098 - val_REGION_accuracy: 0.9936 - val_STATE_accuracy: 0.9961 - val_COUNT_LINE_accuracy: 0.9970\n",
      "Epoch 78/100\n",
      "510/509 [==============================] - 187s 367ms/step - loss: 0.0324 - REGION_loss: 0.0074 - STATE_loss: 0.0038 - COUNT_LINE_loss: 0.0026 - REGION_accuracy: 0.9985 - STATE_accuracy: 0.9990 - COUNT_LINE_accuracy: 0.9994 - val_loss: 0.0769 - val_REGION_loss: 0.0302 - val_STATE_loss: 0.0173 - val_COUNT_LINE_loss: 0.0109 - val_REGION_accuracy: 0.9930 - val_STATE_accuracy: 0.9948 - val_COUNT_LINE_accuracy: 0.9972\n",
      "Epoch 79/100\n",
      "510/509 [==============================] - 185s 362ms/step - loss: 0.0359 - REGION_loss: 0.0097 - STATE_loss: 0.0043 - COUNT_LINE_loss: 0.0033 - REGION_accuracy: 0.9980 - STATE_accuracy: 0.9990 - COUNT_LINE_accuracy: 0.9994 - val_loss: 0.0686 - val_REGION_loss: 0.0269 - val_STATE_loss: 0.0141 - val_COUNT_LINE_loss: 0.0090 - val_REGION_accuracy: 0.9941 - val_STATE_accuracy: 0.9955 - val_COUNT_LINE_accuracy: 0.9972\n",
      "Epoch 80/100\n",
      "510/509 [==============================] - 186s 364ms/step - loss: 0.0332 - REGION_loss: 0.0076 - STATE_loss: 0.0040 - COUNT_LINE_loss: 0.0031 - REGION_accuracy: 0.9984 - STATE_accuracy: 0.9990 - COUNT_LINE_accuracy: 0.9994 - val_loss: 0.0741 - val_REGION_loss: 0.0278 - val_STATE_loss: 0.0168 - val_COUNT_LINE_loss: 0.0110 - val_REGION_accuracy: 0.9935 - val_STATE_accuracy: 0.9949 - val_COUNT_LINE_accuracy: 0.9967\n",
      "Epoch 81/100\n",
      "510/509 [==============================] - 187s 366ms/step - loss: 0.0331 - REGION_loss: 0.0080 - STATE_loss: 0.0034 - COUNT_LINE_loss: 0.0031 - REGION_accuracy: 0.9984 - STATE_accuracy: 0.9992 - COUNT_LINE_accuracy: 0.9994 - val_loss: 0.0743 - val_REGION_loss: 0.0288 - val_STATE_loss: 0.0160 - val_COUNT_LINE_loss: 0.0109 - val_REGION_accuracy: 0.9937 - val_STATE_accuracy: 0.9957 - val_COUNT_LINE_accuracy: 0.9970\n",
      "Epoch 82/100\n",
      "510/509 [==============================] - 186s 366ms/step - loss: 0.0349 - REGION_loss: 0.0082 - STATE_loss: 0.0049 - COUNT_LINE_loss: 0.0031 - REGION_accuracy: 0.9984 - STATE_accuracy: 0.9984 - COUNT_LINE_accuracy: 0.9993 - val_loss: 0.0713 - val_REGION_loss: 0.0297 - val_STATE_loss: 0.0142 - val_COUNT_LINE_loss: 0.0089 - val_REGION_accuracy: 0.9933 - val_STATE_accuracy: 0.9959 - val_COUNT_LINE_accuracy: 0.9974\n",
      "Epoch 83/100\n",
      "510/509 [==============================] - 184s 362ms/step - loss: 0.0340 - REGION_loss: 0.0078 - STATE_loss: 0.0041 - COUNT_LINE_loss: 0.0035 - REGION_accuracy: 0.9986 - STATE_accuracy: 0.9989 - COUNT_LINE_accuracy: 0.9992 - val_loss: 0.0682 - val_REGION_loss: 0.0306 - val_STATE_loss: 0.0127 - val_COUNT_LINE_loss: 0.0064 - val_REGION_accuracy: 0.9937 - val_STATE_accuracy: 0.9961 - val_COUNT_LINE_accuracy: 0.9979\n",
      "Epoch 84/100\n",
      "510/509 [==============================] - 186s 365ms/step - loss: 0.0320 - REGION_loss: 0.0075 - STATE_loss: 0.0033 - COUNT_LINE_loss: 0.0026 - REGION_accuracy: 0.9984 - STATE_accuracy: 0.9993 - COUNT_LINE_accuracy: 0.9994 - val_loss: 0.0734 - val_REGION_loss: 0.0269 - val_STATE_loss: 0.0169 - val_COUNT_LINE_loss: 0.0111 - val_REGION_accuracy: 0.9937 - val_STATE_accuracy: 0.9948 - val_COUNT_LINE_accuracy: 0.9967\n",
      "Epoch 85/100\n",
      "510/509 [==============================] - 186s 364ms/step - loss: 0.0368 - REGION_loss: 0.0095 - STATE_loss: 0.0050 - COUNT_LINE_loss: 0.0037 - REGION_accuracy: 0.9976 - STATE_accuracy: 0.9988 - COUNT_LINE_accuracy: 0.9991 - val_loss: 0.0670 - val_REGION_loss: 0.0268 - val_STATE_loss: 0.0138 - val_COUNT_LINE_loss: 0.0079 - val_REGION_accuracy: 0.9940 - val_STATE_accuracy: 0.9959 - val_COUNT_LINE_accuracy: 0.9978\n",
      "Epoch 86/100\n",
      "510/509 [==============================] - 187s 366ms/step - loss: 0.0321 - REGION_loss: 0.0072 - STATE_loss: 0.0037 - COUNT_LINE_loss: 0.0026 - REGION_accuracy: 0.9987 - STATE_accuracy: 0.9993 - COUNT_LINE_accuracy: 0.9993 - val_loss: 0.0744 - val_REGION_loss: 0.0303 - val_STATE_loss: 0.0163 - val_COUNT_LINE_loss: 0.0092 - val_REGION_accuracy: 0.9935 - val_STATE_accuracy: 0.9955 - val_COUNT_LINE_accuracy: 0.9970\n",
      "Epoch 87/100\n",
      "510/509 [==============================] - 188s 370ms/step - loss: 0.0342 - REGION_loss: 0.0084 - STATE_loss: 0.0043 - COUNT_LINE_loss: 0.0029 - REGION_accuracy: 0.9982 - STATE_accuracy: 0.9988 - COUNT_LINE_accuracy: 0.9994 - val_loss: 0.0808 - val_REGION_loss: 0.0304 - val_STATE_loss: 0.0190 - val_COUNT_LINE_loss: 0.0128 - val_REGION_accuracy: 0.9928 - val_STATE_accuracy: 0.9947 - val_COUNT_LINE_accuracy: 0.9968\n",
      "Epoch 88/100\n",
      "510/509 [==============================] - 188s 369ms/step - loss: 0.0331 - REGION_loss: 0.0076 - STATE_loss: 0.0036 - COUNT_LINE_loss: 0.0032 - REGION_accuracy: 0.9982 - STATE_accuracy: 0.9991 - COUNT_LINE_accuracy: 0.9993 - val_loss: 0.0750 - val_REGION_loss: 0.0311 - val_STATE_loss: 0.0151 - val_COUNT_LINE_loss: 0.0103 - val_REGION_accuracy: 0.9933 - val_STATE_accuracy: 0.9959 - val_COUNT_LINE_accuracy: 0.9973\n",
      "Epoch 89/100\n",
      "510/509 [==============================] - 189s 370ms/step - loss: 0.0336 - REGION_loss: 0.0081 - STATE_loss: 0.0043 - COUNT_LINE_loss: 0.0026 - REGION_accuracy: 0.9985 - STATE_accuracy: 0.9988 - COUNT_LINE_accuracy: 0.9995 - val_loss: 0.0702 - val_REGION_loss: 0.0276 - val_STATE_loss: 0.0146 - val_COUNT_LINE_loss: 0.0094 - val_REGION_accuracy: 0.9933 - val_STATE_accuracy: 0.9956 - val_COUNT_LINE_accuracy: 0.9974\n",
      "Epoch 90/100\n",
      "510/509 [==============================] - 196s 383ms/step - loss: 0.0325 - REGION_loss: 0.0073 - STATE_loss: 0.0039 - COUNT_LINE_loss: 0.0028 - REGION_accuracy: 0.9984 - STATE_accuracy: 0.9991 - COUNT_LINE_accuracy: 0.9995 - val_loss: 0.0746 - val_REGION_loss: 0.0291 - val_STATE_loss: 0.0154 - val_COUNT_LINE_loss: 0.0116 - val_REGION_accuracy: 0.9935 - val_STATE_accuracy: 0.9955 - val_COUNT_LINE_accuracy: 0.9969\n",
      "Epoch 91/100\n",
      "510/509 [==============================] - 199s 390ms/step - loss: 0.0348 - REGION_loss: 0.0084 - STATE_loss: 0.0045 - COUNT_LINE_loss: 0.0034 - REGION_accuracy: 0.9982 - STATE_accuracy: 0.9990 - COUNT_LINE_accuracy: 0.9993 - val_loss: 0.0755 - val_REGION_loss: 0.0293 - val_STATE_loss: 0.0168 - val_COUNT_LINE_loss: 0.0108 - val_REGION_accuracy: 0.9936 - val_STATE_accuracy: 0.9954 - val_COUNT_LINE_accuracy: 0.9976\n",
      "Epoch 92/100\n",
      "510/509 [==============================] - 195s 382ms/step - loss: 0.0343 - REGION_loss: 0.0084 - STATE_loss: 0.0041 - COUNT_LINE_loss: 0.0032 - REGION_accuracy: 0.9980 - STATE_accuracy: 0.9991 - COUNT_LINE_accuracy: 0.9991 - val_loss: 0.0749 - val_REGION_loss: 0.0276 - val_STATE_loss: 0.0178 - val_COUNT_LINE_loss: 0.0110 - val_REGION_accuracy: 0.9933 - val_STATE_accuracy: 0.9950 - val_COUNT_LINE_accuracy: 0.9973\n",
      "Epoch 93/100\n",
      "510/509 [==============================] - 193s 379ms/step - loss: 0.0334 - REGION_loss: 0.0081 - STATE_loss: 0.0036 - COUNT_LINE_loss: 0.0031 - REGION_accuracy: 0.9985 - STATE_accuracy: 0.9992 - COUNT_LINE_accuracy: 0.9994 - val_loss: 0.0790 - val_REGION_loss: 0.0329 - val_STATE_loss: 0.0165 - val_COUNT_LINE_loss: 0.0110 - val_REGION_accuracy: 0.9922 - val_STATE_accuracy: 0.9949 - val_COUNT_LINE_accuracy: 0.9970\n",
      "Epoch 94/100\n",
      "510/509 [==============================] - 196s 384ms/step - loss: 0.0320 - REGION_loss: 0.0071 - STATE_loss: 0.0036 - COUNT_LINE_loss: 0.0027 - REGION_accuracy: 0.9987 - STATE_accuracy: 0.9991 - COUNT_LINE_accuracy: 0.9995 - val_loss: 0.0719 - val_REGION_loss: 0.0282 - val_STATE_loss: 0.0153 - val_COUNT_LINE_loss: 0.0099 - val_REGION_accuracy: 0.9942 - val_STATE_accuracy: 0.9955 - val_COUNT_LINE_accuracy: 0.9966\n",
      "Epoch 95/100\n"
     ]
    },
    {
     "name": "stdout",
     "output_type": "stream",
     "text": [
      "510/509 [==============================] - 193s 378ms/step - loss: 0.0336 - REGION_loss: 0.0079 - STATE_loss: 0.0038 - COUNT_LINE_loss: 0.0033 - REGION_accuracy: 0.9984 - STATE_accuracy: 0.9989 - COUNT_LINE_accuracy: 0.9991 - val_loss: 0.0754 - val_REGION_loss: 0.0324 - val_STATE_loss: 0.0147 - val_COUNT_LINE_loss: 0.0096 - val_REGION_accuracy: 0.9928 - val_STATE_accuracy: 0.9960 - val_COUNT_LINE_accuracy: 0.9973\n",
      "Epoch 96/100\n",
      "510/509 [==============================] - 194s 381ms/step - loss: 0.0324 - REGION_loss: 0.0075 - STATE_loss: 0.0039 - COUNT_LINE_loss: 0.0024 - REGION_accuracy: 0.9985 - STATE_accuracy: 0.9991 - COUNT_LINE_accuracy: 0.9996 - val_loss: 0.0737 - val_REGION_loss: 0.0274 - val_STATE_loss: 0.0159 - val_COUNT_LINE_loss: 0.0118 - val_REGION_accuracy: 0.9931 - val_STATE_accuracy: 0.9957 - val_COUNT_LINE_accuracy: 0.9969\n",
      "Epoch 97/100\n",
      "510/509 [==============================] - 195s 383ms/step - loss: 0.0365 - REGION_loss: 0.0093 - STATE_loss: 0.0047 - COUNT_LINE_loss: 0.0039 - REGION_accuracy: 0.9979 - STATE_accuracy: 0.9989 - COUNT_LINE_accuracy: 0.9991 - val_loss: 0.0690 - val_REGION_loss: 0.0285 - val_STATE_loss: 0.0139 - val_COUNT_LINE_loss: 0.0081 - val_REGION_accuracy: 0.9940 - val_STATE_accuracy: 0.9957 - val_COUNT_LINE_accuracy: 0.9972\n",
      "Epoch 98/100\n",
      "510/509 [==============================] - 194s 381ms/step - loss: 0.0326 - REGION_loss: 0.0072 - STATE_loss: 0.0042 - COUNT_LINE_loss: 0.0026 - REGION_accuracy: 0.9984 - STATE_accuracy: 0.9989 - COUNT_LINE_accuracy: 0.9995 - val_loss: 0.0805 - val_REGION_loss: 0.0323 - val_STATE_loss: 0.0180 - val_COUNT_LINE_loss: 0.0117 - val_REGION_accuracy: 0.9934 - val_STATE_accuracy: 0.9948 - val_COUNT_LINE_accuracy: 0.9963\n",
      "Epoch 99/100\n",
      "510/509 [==============================] - 195s 382ms/step - loss: 0.0385 - REGION_loss: 0.0102 - STATE_loss: 0.0053 - COUNT_LINE_loss: 0.0044 - REGION_accuracy: 0.9979 - STATE_accuracy: 0.9985 - COUNT_LINE_accuracy: 0.9992 - val_loss: 0.0681 - val_REGION_loss: 0.0248 - val_STATE_loss: 0.0154 - val_COUNT_LINE_loss: 0.0094 - val_REGION_accuracy: 0.9936 - val_STATE_accuracy: 0.9955 - val_COUNT_LINE_accuracy: 0.9968\n",
      "Epoch 100/100\n",
      "510/509 [==============================] - 194s 380ms/step - loss: 0.0336 - REGION_loss: 0.0082 - STATE_loss: 0.0037 - COUNT_LINE_loss: 0.0031 - REGION_accuracy: 0.9982 - STATE_accuracy: 0.9992 - COUNT_LINE_accuracy: 0.9991 - val_loss: 0.0806 - val_REGION_loss: 0.0372 - val_STATE_loss: 0.0158 - val_COUNT_LINE_loss: 0.0090 - val_REGION_accuracy: 0.9923 - val_STATE_accuracy: 0.9956 - val_COUNT_LINE_accuracy: 0.9975\n"
     ]
    }
   ],
   "source": [
    "# train\n",
    "model = npClassificator.train(LOG_DIR, cnn=\"simple\")"
   ]
  },
  {
   "cell_type": "code",
   "execution_count": 11,
   "metadata": {},
   "outputs": [
    {
     "name": "stdout",
     "output_type": "stream",
     "text": [
      "WARNING:tensorflow:From /home/www/nomeroff-net/NomeroffNet/OptionsDetector.py:246: Model.evaluate_generator (from tensorflow.python.keras.engine.training) is deprecated and will be removed in a future version.\n",
      "Instructions for updating:\n",
      "Please use Model.evaluate, which supports generators.\n",
      "test loss: 0.07031703740358353\n",
      "test loss: 0.02467857114970684    test loss: 0.01761162467300892       test loss: 0.009411533363163471\n",
      "test acc: 0.9938446879386902    test acc 0.9955018758773804      test acc 0.9976325631141663\n"
     ]
    },
    {
     "data": {
      "text/plain": [
       "(0.07031703740358353,\n",
       " 0.02467857114970684,\n",
       " 0.01761162467300892,\n",
       " 0.009411533363163471,\n",
       " 0.9938446879386902,\n",
       " 0.9955018758773804,\n",
       " 0.9976325631141663)"
      ]
     },
     "execution_count": 11,
     "metadata": {},
     "output_type": "execute_result"
    }
   ],
   "source": [
    "npClassificator.test()"
   ]
  },
  {
   "cell_type": "code",
   "execution_count": 12,
   "metadata": {},
   "outputs": [
    {
     "name": "stdout",
     "output_type": "stream",
     "text": [
      "model save to /home/www/nomeroff-net/models/numberplate_options_2020_10_01_tensorflow_v2_3.h5\n"
     ]
    }
   ],
   "source": [
    "npClassificator.save(RESULT_PATH)"
   ]
  },
  {
   "cell_type": "code",
   "execution_count": null,
   "metadata": {},
   "outputs": [],
   "source": []
  }
 ],
 "metadata": {
  "kernelspec": {
   "display_name": "Python 3",
   "language": "python",
   "name": "python3"
  },
  "language_info": {
   "codemirror_mode": {
    "name": "ipython",
    "version": 3
   },
   "file_extension": ".py",
   "mimetype": "text/x-python",
   "name": "python",
   "nbconvert_exporter": "python",
   "pygments_lexer": "ipython3",
   "version": "3.6.9"
  }
 },
 "nbformat": 4,
 "nbformat_minor": 2
}
