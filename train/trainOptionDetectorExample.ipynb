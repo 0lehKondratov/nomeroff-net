{
 "cells": [
  {
   "cell_type": "markdown",
   "metadata": {},
   "source": [
    "# This example demonstrate how to train region detector model (standart image classification model).\n",
    "## Before starting download trainable [model](https://nomeroff.net.ua/datasets/autoriaNPCountryDataset-2019-01-14.zip)."
   ]
  },
  {
   "cell_type": "code",
   "execution_count": 1,
   "metadata": {},
   "outputs": [
    {
     "name": "stderr",
     "output_type": "stream",
     "text": [
      "Using TensorFlow backend.\n"
     ]
    }
   ],
   "source": [
    "import os\n",
    "import sys\n",
    "\n",
    "# change this property\n",
    "NOMEROFF_NET_DIR = os.path.abspath('../')\n",
    "PATH_TO_AUTORIA_NUMBERPLATE_COUNTRY_DATASET = os.path.join(NOMEROFF_NET_DIR, \"datasets\")\n",
    "RESULT_DIR = os.path.join(NOMEROFF_NET_DIR, \"models\")\n",
    "\n",
    "sys.path.append(NOMEROFF_NET_DIR)\n",
    "\n",
    "from NomeroffNet import OptionsDetector"
   ]
  },
  {
   "cell_type": "code",
   "execution_count": null,
   "metadata": {},
   "outputs": [],
   "source": [
    "# definde your parameters\n",
    "# definde your parameters\n",
    "class MyNumberClassificator(OptionsDetector):\n",
    "    def __init__(self):\n",
    "        OptionsDetector.__init__(self)\n",
    "        # outputs 1\n",
    "        self.CLASS_STATE = [\"BACKGROUND\", \"FILLED\", \"NOT_FILLED\"]\n",
    "        \n",
    "        # outputs 2\n",
    "        self.CLASS_REGION = [\"xx-unknown\", \"eu-ua-2015\", \"eu-ua-2004\", \"eu-ua-1995\", \"eu\", \"xx-transit\"]\n",
    "        \n",
    "        self.EPOCHS           = 3\n",
    "        self.BATCH_SIZE       = 32\n",
    "        \n",
    "        self.HEIGHT         = 64\n",
    "        self.WEIGHT         = 128\n"
   ]
  },
  {
   "cell_type": "code",
   "execution_count": null,
   "metadata": {},
   "outputs": [
    {
     "name": "stdout",
     "output_type": "stream",
     "text": [
      "start train build\n",
      "end train build\n",
      "start test build\n",
      "end test build\n"
     ]
    },
    {
     "name": "stderr",
     "output_type": "stream",
     "text": [
      "/var/www/nomeroff-net/NomeroffNet/OptionsDetector.py:102: UserWarning: Update your `Dense` call to the Keras 2 API: `Dense(6, kernel_initializer=\"uniform\", kernel_regularizer=<keras.reg...)`\n",
      "  x1 = layers.Dense(output_labels1, init=out_dense_init, W_regularizer=W_regularizer)(x1)\n",
      "/var/www/nomeroff-net/NomeroffNet/OptionsDetector.py:110: UserWarning: Update your `Dense` call to the Keras 2 API: `Dense(3, kernel_initializer=\"uniform\", kernel_regularizer=<keras.reg...)`\n",
      "  x2 = layers.Dense(output_labels2, init=out_dense_init, W_regularizer=W_regularizer)(x2)\n",
      "/var/www/nomeroff-net/NomeroffNet/OptionsDetector.py:114: UserWarning: Update your `Model` call to the Keras 2 API: `Model(outputs=[<tf.Tenso..., inputs=Tensor(\"in...)`\n",
      "  model = Model(input=input_model, outputs=[x1, x2])\n"
     ]
    },
    {
     "name": "stdout",
     "output_type": "stream",
     "text": [
      "Epoch 1/3\n",
      "100/100 [==============================] - 161s 2s/step - loss: 1.4373 - REGION_loss: 1.1105 - STATE_loss: 0.3178 - REGION_acc: 0.6891 - STATE_acc: 0.9075 - val_loss: 0.7601 - val_REGION_loss: 0.6228 - val_STATE_loss: 0.1247 - val_REGION_acc: 0.8569 - val_STATE_acc: 0.9631\n",
      "Epoch 2/3\n",
      "100/100 [==============================] - 157s 2s/step - loss: 0.7139 - REGION_loss: 0.5485 - STATE_loss: 0.1514 - REGION_acc: 0.8538 - STATE_acc: 0.9528 - val_loss: 0.4201 - val_REGION_loss: 0.3146 - val_STATE_loss: 0.0903 - val_REGION_acc: 0.9206 - val_STATE_acc: 0.9688\n",
      "Epoch 3/3\n",
      " 99/100 [============================>.] - ETA: 1s - loss: 0.4780 - REGION_loss: 0.3549 - STATE_loss: 0.1073 - REGION_acc: 0.8999 - STATE_acc: 0.9662"
     ]
    }
   ],
   "source": [
    "# initialize region detector.\n",
    "numberClassificator = MyNumberClassificator()\n",
    "\n",
    "# train\n",
    "model = numberClassificator.train(PATH_TO_AUTORIA_NUMBERPLATE_COUNTRY_DATASET, RESULT_DIR, \"my_model\")"
   ]
  }
 ],
 "metadata": {
  "kernelspec": {
   "display_name": "Python 3",
   "language": "python",
   "name": "python3"
  },
  "language_info": {
   "codemirror_mode": {
    "name": "ipython",
    "version": 3
   },
   "file_extension": ".py",
   "mimetype": "text/x-python",
   "name": "python",
   "nbconvert_exporter": "python",
   "pygments_lexer": "ipython3",
   "version": "3.6.6"
  }
 },
 "nbformat": 4,
 "nbformat_minor": 2
}
