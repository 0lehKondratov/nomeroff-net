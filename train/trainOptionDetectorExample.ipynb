{
 "cells": [
  {
   "cell_type": "markdown",
   "metadata": {},
   "source": [
    "# This example demonstrate how to train region detector model (standart image classification model)."
   ]
  },
  {
   "cell_type": "markdown",
   "metadata": {},
   "source": [
    "For train datasets please download last version of dataset [https://nomeroff.net.ua/datasets/](https://nomeroff.net.ua/datasets/). Unpack archive and rename to **./datasets/** .\n",
    "For examle\n",
    "```bash\n",
    "cd ./datasets/ocr\n",
    "wget https://nomeroff.net.ua/datasets/autoriaNumberplateOptionsDataset-2019-02-20.zip\n",
    "unzip autoriaNumberplateOptionsDataset-2019-02-20.zip\n",
    "mv autoriaNumberplateOptionsDataset-2019-02-20 ua\n",
    "```\n",
    "or use your own dataset."
   ]
  },
  {
   "cell_type": "code",
   "execution_count": 1,
   "metadata": {},
   "outputs": [
    {
     "name": "stderr",
     "output_type": "stream",
     "text": [
      "Using TensorFlow backend.\n"
     ]
    }
   ],
   "source": [
    "import os\n",
    "import sys\n",
    "import warnings\n",
    "warnings.filterwarnings('ignore')\n",
    "\n",
    "# change this property\n",
    "NOMEROFF_NET_DIR = os.path.abspath('../')\n",
    "\n",
    "DATASET_NAME = \"options\"\n",
    "VERSION = \"2019_2_20\"\n",
    "\n",
    "LOG_DIR = os.path.join(NOMEROFF_NET_DIR, \"logs/\")\n",
    "PATH_TO_DATASET = os.path.join(NOMEROFF_NET_DIR, \"datasets/\", DATASET_NAME)\n",
    "RESULT_PATH = os.path.join(NOMEROFF_NET_DIR, \"models/\", 'numberplate_{}_{}.h5'.format(DATASET_NAME, VERSION))\n",
    "\n",
    "sys.path.append(NOMEROFF_NET_DIR)\n",
    "\n",
    "from NomeroffNet import OptionsDetector"
   ]
  },
  {
   "cell_type": "code",
   "execution_count": 2,
   "metadata": {},
   "outputs": [],
   "source": [
    "# definde your parameters\n",
    "# definde your parameters\n",
    "class MyNumberClassificator(OptionsDetector):\n",
    "    def __init__(self):\n",
    "        OptionsDetector.__init__(self)\n",
    "        # outputs 1\n",
    "        self.CLASS_STATE = [\"BACKGROUND\", \"FILLED\", \"NOT_FILLED\"]\n",
    "        \n",
    "        # outputs 2\n",
    "        self.CLASS_REGION = [\"xx-unknown\", \"eu-ua-2015\", \"eu-ua-2004\", \"eu-ua-1995\", \"eu\", \"xx-transit\"]\n",
    "        \n",
    "        self.EPOCHS           = 20\n",
    "        self.BATCH_SIZE       = 64\n",
    "        \n",
    "        self.HEIGHT         = 64\n",
    "        self.WEIGHT         = 295\n"
   ]
  },
  {
   "cell_type": "code",
   "execution_count": 3,
   "metadata": {},
   "outputs": [
    {
     "name": "stdout",
     "output_type": "stream",
     "text": [
      "START PREPARING\n",
      "start train build\n",
      "end train build\n",
      "start test build\n",
      "end test build\n",
      "start test build\n",
      "end test build\n",
      "DATA PREPARED\n"
     ]
    }
   ],
   "source": [
    "# initialize region detector.\n",
    "numberClassificator = MyNumberClassificator()\n",
    "numberClassificator.prepare(PATH_TO_DATASET)"
   ]
  },
  {
   "cell_type": "code",
   "execution_count": 4,
   "metadata": {},
   "outputs": [
    {
     "name": "stdout",
     "output_type": "stream",
     "text": [
      "WARNING:tensorflow:From /usr/local/lib/python3.6/site-packages/tensorflow/python/framework/op_def_library.py:263: colocate_with (from tensorflow.python.framework.ops) is deprecated and will be removed in a future version.\n",
      "Instructions for updating:\n",
      "Colocations handled automatically by placer.\n",
      "WARNING:tensorflow:From /usr/local/lib64/python3.6/site-packages/keras/backend/tensorflow_backend.py:3445: calling dropout (from tensorflow.python.ops.nn_ops) with keep_prob is deprecated and will be removed in a future version.\n",
      "Instructions for updating:\n",
      "Please use `rate` instead of `keep_prob`. Rate should be set to `rate = 1 - keep_prob`.\n",
      "WARNING:tensorflow:From /usr/local/lib/python3.6/site-packages/tensorflow/python/training/moving_averages.py:210: calling Zeros.__init__ (from tensorflow.python.ops.init_ops) with dtype is deprecated and will be removed in a future version.\n",
      "Instructions for updating:\n",
      "Call initializer instance with the dtype argument instead of passing it to the constructor\n",
      "WARNING:tensorflow:From /usr/local/lib/python3.6/site-packages/tensorflow/python/ops/math_ops.py:3068: to_int32 (from tensorflow.python.ops.math_ops) is deprecated and will be removed in a future version.\n",
      "Instructions for updating:\n",
      "Use tf.cast instead.\n",
      "Epoch 1/20\n",
      "100/100 [==============================] - 16s 157ms/step - loss: 1.0616 - REGION_loss: 0.7974 - STATE_loss: 0.2544 - REGION_acc: 0.8189 - STATE_acc: 0.9356 - val_loss: 0.3681 - val_REGION_loss: 0.2812 - val_STATE_loss: 0.0730 - val_REGION_acc: 0.9503 - val_STATE_acc: 0.9800\n",
      "Epoch 2/20\n",
      "100/100 [==============================] - 13s 128ms/step - loss: 0.3380 - REGION_loss: 0.2451 - STATE_loss: 0.0777 - REGION_acc: 0.9442 - STATE_acc: 0.9778 - val_loss: 0.2069 - val_REGION_loss: 0.1357 - val_STATE_loss: 0.0552 - val_REGION_acc: 0.9703 - val_STATE_acc: 0.9841\n",
      "Epoch 3/20\n",
      "100/100 [==============================] - 13s 128ms/step - loss: 0.2185 - REGION_loss: 0.1480 - STATE_loss: 0.0538 - REGION_acc: 0.9636 - STATE_acc: 0.9859 - val_loss: 0.1565 - val_REGION_loss: 0.0984 - val_STATE_loss: 0.0409 - val_REGION_acc: 0.9731 - val_STATE_acc: 0.9872\n",
      "Epoch 4/20\n",
      "100/100 [==============================] - 13s 125ms/step - loss: 0.1924 - REGION_loss: 0.1276 - STATE_loss: 0.0474 - REGION_acc: 0.9637 - STATE_acc: 0.9856 - val_loss: 0.1545 - val_REGION_loss: 0.0918 - val_STATE_loss: 0.0451 - val_REGION_acc: 0.9722 - val_STATE_acc: 0.9844\n",
      "Epoch 5/20\n",
      "100/100 [==============================] - 13s 127ms/step - loss: 0.1599 - REGION_loss: 0.1069 - STATE_loss: 0.0353 - REGION_acc: 0.9684 - STATE_acc: 0.9895 - val_loss: 0.1140 - val_REGION_loss: 0.0692 - val_STATE_loss: 0.0269 - val_REGION_acc: 0.9806 - val_STATE_acc: 0.9925\n",
      "Epoch 6/20\n",
      "100/100 [==============================] - 12s 125ms/step - loss: 0.1393 - REGION_loss: 0.0876 - STATE_loss: 0.0339 - REGION_acc: 0.9748 - STATE_acc: 0.9892 - val_loss: 0.1271 - val_REGION_loss: 0.0746 - val_STATE_loss: 0.0346 - val_REGION_acc: 0.9778 - val_STATE_acc: 0.9900\n",
      "Epoch 7/20\n",
      "100/100 [==============================] - 13s 129ms/step - loss: 0.1257 - REGION_loss: 0.0789 - STATE_loss: 0.0289 - REGION_acc: 0.9770 - STATE_acc: 0.9914 - val_loss: 0.1380 - val_REGION_loss: 0.0941 - val_STATE_loss: 0.0259 - val_REGION_acc: 0.9709 - val_STATE_acc: 0.9903\n",
      "Epoch 8/20\n",
      "100/100 [==============================] - 13s 127ms/step - loss: 0.1330 - REGION_loss: 0.0828 - STATE_loss: 0.0321 - REGION_acc: 0.9747 - STATE_acc: 0.9912 - val_loss: 0.1034 - val_REGION_loss: 0.0582 - val_STATE_loss: 0.0271 - val_REGION_acc: 0.9847 - val_STATE_acc: 0.9919\n",
      "Epoch 9/20\n",
      "100/100 [==============================] - 13s 126ms/step - loss: 0.1125 - REGION_loss: 0.0692 - STATE_loss: 0.0253 - REGION_acc: 0.9803 - STATE_acc: 0.9933 - val_loss: 0.1025 - val_REGION_loss: 0.0552 - val_STATE_loss: 0.0293 - val_REGION_acc: 0.9859 - val_STATE_acc: 0.9903\n",
      "Epoch 10/20\n",
      "100/100 [==============================] - 13s 127ms/step - loss: 0.1070 - REGION_loss: 0.0641 - STATE_loss: 0.0249 - REGION_acc: 0.9786 - STATE_acc: 0.9925 - val_loss: 0.1095 - val_REGION_loss: 0.0698 - val_STATE_loss: 0.0218 - val_REGION_acc: 0.9791 - val_STATE_acc: 0.9916\n",
      "Epoch 11/20\n",
      "100/100 [==============================] - 13s 125ms/step - loss: 0.1007 - REGION_loss: 0.0593 - STATE_loss: 0.0235 - REGION_acc: 0.9809 - STATE_acc: 0.9923 - val_loss: 0.1020 - val_REGION_loss: 0.0557 - val_STATE_loss: 0.0283 - val_REGION_acc: 0.9841 - val_STATE_acc: 0.9916\n",
      "Epoch 12/20\n",
      "100/100 [==============================] - 13s 128ms/step - loss: 0.0968 - REGION_loss: 0.0583 - STATE_loss: 0.0205 - REGION_acc: 0.9814 - STATE_acc: 0.9938 - val_loss: 0.0941 - val_REGION_loss: 0.0495 - val_STATE_loss: 0.0266 - val_REGION_acc: 0.9853 - val_STATE_acc: 0.9925\n",
      "Epoch 13/20\n",
      "100/100 [==============================] - 13s 127ms/step - loss: 0.0937 - REGION_loss: 0.0566 - STATE_loss: 0.0193 - REGION_acc: 0.9816 - STATE_acc: 0.9941 - val_loss: 0.0887 - val_REGION_loss: 0.0523 - val_STATE_loss: 0.0186 - val_REGION_acc: 0.9831 - val_STATE_acc: 0.9931\n",
      "Epoch 14/20\n",
      "100/100 [==============================] - 13s 125ms/step - loss: 0.0834 - REGION_loss: 0.0497 - STATE_loss: 0.0158 - REGION_acc: 0.9855 - STATE_acc: 0.9952 - val_loss: 0.1270 - val_REGION_loss: 0.0620 - val_STATE_loss: 0.0473 - val_REGION_acc: 0.9822 - val_STATE_acc: 0.9869\n",
      "Epoch 15/20\n",
      "100/100 [==============================] - 12s 123ms/step - loss: 0.0904 - REGION_loss: 0.0506 - STATE_loss: 0.0221 - REGION_acc: 0.9842 - STATE_acc: 0.9938 - val_loss: 0.0917 - val_REGION_loss: 0.0480 - val_STATE_loss: 0.0259 - val_REGION_acc: 0.9869 - val_STATE_acc: 0.9928\n",
      "Epoch 16/20\n",
      "100/100 [==============================] - 13s 126ms/step - loss: 0.0751 - REGION_loss: 0.0454 - STATE_loss: 0.0120 - REGION_acc: 0.9855 - STATE_acc: 0.9966 - val_loss: 0.0839 - val_REGION_loss: 0.0484 - val_STATE_loss: 0.0178 - val_REGION_acc: 0.9856 - val_STATE_acc: 0.9953\n",
      "Epoch 17/20\n",
      "100/100 [==============================] - 12s 118ms/step - loss: 0.0735 - REGION_loss: 0.0394 - STATE_loss: 0.0165 - REGION_acc: 0.9886 - STATE_acc: 0.9956 - val_loss: 0.1074 - val_REGION_loss: 0.0534 - val_STATE_loss: 0.0365 - val_REGION_acc: 0.9856 - val_STATE_acc: 0.9906\n",
      "Epoch 18/20\n",
      "100/100 [==============================] - 12s 120ms/step - loss: 0.0724 - REGION_loss: 0.0417 - STATE_loss: 0.0134 - REGION_acc: 0.9877 - STATE_acc: 0.9964 - val_loss: 0.0835 - val_REGION_loss: 0.0435 - val_STATE_loss: 0.0225 - val_REGION_acc: 0.9888 - val_STATE_acc: 0.9931\n",
      "Epoch 19/20\n",
      "100/100 [==============================] - 11s 111ms/step - loss: 0.0765 - REGION_loss: 0.0433 - STATE_loss: 0.0159 - REGION_acc: 0.9887 - STATE_acc: 0.9956 - val_loss: 0.0935 - val_REGION_loss: 0.0535 - val_STATE_loss: 0.0227 - val_REGION_acc: 0.9847 - val_STATE_acc: 0.9931\n",
      "Epoch 20/20\n",
      "100/100 [==============================] - 12s 117ms/step - loss: 0.0715 - REGION_loss: 0.0410 - STATE_loss: 0.0133 - REGION_acc: 0.9886 - STATE_acc: 0.9961 - val_loss: 0.0819 - val_REGION_loss: 0.0444 - val_STATE_loss: 0.0203 - val_REGION_acc: 0.9859 - val_STATE_acc: 0.9925\n"
     ]
    }
   ],
   "source": [
    "# train\n",
    "model = numberClassificator.train(LOG_DIR)"
   ]
  },
  {
   "cell_type": "code",
   "execution_count": 5,
   "metadata": {},
   "outputs": [],
   "source": [
    "#model = numberClassificator.load(RESULT_PATH)"
   ]
  },
  {
   "cell_type": "code",
   "execution_count": 6,
   "metadata": {},
   "outputs": [
    {
     "name": "stdout",
     "output_type": "stream",
     "text": [
      "test loss: 0.09093580417335033\n",
      "test loss: 0.04968464970588684    test loss: 0.024136091159889475\n",
      "test acc: 0.988125    test acc 0.99375\n"
     ]
    },
    {
     "data": {
      "text/plain": [
       "(0.09093580417335033,\n",
       " 0.04968464970588684,\n",
       " 0.024136091159889475,\n",
       " 0.988125,\n",
       " 0.99375)"
      ]
     },
     "execution_count": 6,
     "metadata": {},
     "output_type": "execute_result"
    }
   ],
   "source": [
    "numberClassificator.test()"
   ]
  },
  {
   "cell_type": "code",
   "execution_count": 7,
   "metadata": {},
   "outputs": [
    {
     "name": "stdout",
     "output_type": "stream",
     "text": [
      "model save to /mnt/data/var/www/html2/js/nomeroff-net/models/numberplate_options_2019_2_20.h5\n"
     ]
    }
   ],
   "source": [
    "numberClassificator.save(RESULT_PATH)"
   ]
  },
  {
   "cell_type": "code",
   "execution_count": null,
   "metadata": {},
   "outputs": [],
   "source": []
  }
 ],
 "metadata": {
  "kernelspec": {
   "display_name": "Python 3",
   "language": "python",
   "name": "python3"
  },
  "language_info": {
   "codemirror_mode": {
    "name": "ipython",
    "version": 3
   },
   "file_extension": ".py",
   "mimetype": "text/x-python",
   "name": "python",
   "nbconvert_exporter": "python",
   "pygments_lexer": "ipython3",
   "version": "3.6.6"
  }
 },
 "nbformat": 4,
 "nbformat_minor": 2
}
