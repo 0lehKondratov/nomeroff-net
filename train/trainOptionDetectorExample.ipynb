{
 "cells": [
  {
   "cell_type": "markdown",
   "metadata": {},
   "source": [
    "# This example demonstrate how to train region detector model (standart image classification model)."
   ]
  },
  {
   "cell_type": "markdown",
   "metadata": {},
   "source": [
    "For train datasets please download last version of dataset [https://nomeroff.net.ua/datasets/](https://nomeroff.net.ua/datasets/). Unpack archive and rename to **./datasets/ocr** .\n",
    "For examle\n",
    "```bash\n",
    "cd ./datasets/ocr\n",
    "wget https://nomeroff.net.ua/datasets/autoriaNumberplateOptionsDataset-2019-02-20.zip\n",
    "unzip autoriaNumberplateOptionsDataset-2019-02-20.zip\n",
    "mv autoriaNumberplateOptionsDataset-2019-02-20 ua\n",
    "```\n",
    "or use your own dataset."
   ]
  },
  {
   "cell_type": "code",
   "execution_count": 1,
   "metadata": {},
   "outputs": [
    {
     "name": "stderr",
     "output_type": "stream",
     "text": [
      "Using TensorFlow backend.\n"
     ]
    }
   ],
   "source": [
    "import os\n",
    "import sys\n",
    "import warnings\n",
    "warnings.filterwarnings('ignore')\n",
    "\n",
    "# change this property\n",
    "NOMEROFF_NET_DIR = os.path.abspath('../')\n",
    "\n",
    "DATASET_NAME = \"options\"\n",
    "VERSION = \"1\"\n",
    "\n",
    "LOG_DIR = os.path.join(NOMEROFF_NET_DIR, \"logs/\")\n",
    "PATH_TO_DATASET = os.path.join(NOMEROFF_NET_DIR, \"datasets/\", DATASET_NAME)\n",
    "RESULT_PATH = os.path.join(NOMEROFF_NET_DIR, \"models/\", 'anpr_ocr_{}_{}.h5'.format(DATASET_NAME, VERSION))\n",
    "\n",
    "sys.path.append(NOMEROFF_NET_DIR)\n",
    "\n",
    "from NomeroffNet import OptionsDetector"
   ]
  },
  {
   "cell_type": "code",
   "execution_count": 2,
   "metadata": {},
   "outputs": [],
   "source": [
    "# definde your parameters\n",
    "# definde your parameters\n",
    "class MyNumberClassificator(OptionsDetector):\n",
    "    def __init__(self):\n",
    "        OptionsDetector.__init__(self)\n",
    "        # outputs 1\n",
    "        self.CLASS_STATE = [\"BACKGROUND\", \"FILLED\", \"NOT_FILLED\"]\n",
    "        \n",
    "        # outputs 2\n",
    "        self.CLASS_REGION = [\"xx-unknown\", \"eu-ua-2015\", \"eu-ua-2004\", \"eu-ua-1995\", \"eu\", \"xx-transit\"]\n",
    "        \n",
    "        self.EPOCHS           = 3\n",
    "        self.BATCH_SIZE       = 1\n",
    "        \n",
    "        self.HEIGHT         = 64\n",
    "        self.WEIGHT         = 128\n"
   ]
  },
  {
   "cell_type": "code",
   "execution_count": 3,
   "metadata": {},
   "outputs": [
    {
     "name": "stdout",
     "output_type": "stream",
     "text": [
      "START PREPARING\n",
      "start train build\n",
      "end train build\n",
      "start test build\n",
      "end test build\n",
      "start test build\n",
      "end test build\n",
      "DATA PREPARED\n"
     ]
    }
   ],
   "source": [
    "# initialize region detector.\n",
    "numberClassificator = MyNumberClassificator()\n",
    "numberClassificator.prepare(PATH_TO_DATASET)"
   ]
  },
  {
   "cell_type": "code",
   "execution_count": 4,
   "metadata": {},
   "outputs": [
    {
     "name": "stdout",
     "output_type": "stream",
     "text": [
      "Epoch 1/3\n",
      "100/100 [==============================] - 10s 105ms/step - loss: 1.4557 - REGION_loss: 0.9502 - STATE_loss: 0.4887 - REGION_acc: 0.6700 - STATE_acc: 0.8900 - val_loss: 5.6760 - val_REGION_loss: 4.6631 - val_STATE_loss: 0.9852 - val_REGION_acc: 0.0600 - val_STATE_acc: 0.7800\n",
      "Epoch 2/3\n",
      "100/100 [==============================] - 9s 90ms/step - loss: 1.0017 - REGION_loss: 0.6353 - STATE_loss: 0.3374 - REGION_acc: 0.7000 - STATE_acc: 0.9000 - val_loss: 5.1757 - val_REGION_loss: 3.8483 - val_STATE_loss: 1.2979 - val_REGION_acc: 0.1400 - val_STATE_acc: 0.6800\n",
      "Epoch 3/3\n",
      "100/100 [==============================] - 9s 92ms/step - loss: 0.9891 - REGION_loss: 0.6258 - STATE_loss: 0.3343 - REGION_acc: 0.7000 - STATE_acc: 0.9000 - val_loss: 5.3167 - val_REGION_loss: 4.5408 - val_STATE_loss: 0.7473 - val_REGION_acc: 0.0400 - val_STATE_acc: 0.8400\n"
     ]
    }
   ],
   "source": [
    "# train\n",
    "model = numberClassificator.train(LOG_DIR)"
   ]
  },
  {
   "cell_type": "code",
   "execution_count": 5,
   "metadata": {},
   "outputs": [
    {
     "name": "stdout",
     "output_type": "stream",
     "text": [
      "test loss: 6.512574993371963\n",
      "test loss: 5.108704742193222    test loss: 1.374362211227417\n",
      "test acc: 0.02    test acc 0.72\n"
     ]
    },
    {
     "data": {
      "text/plain": [
       "(6.512574993371963, 5.108704742193222, 1.374362211227417, 0.02, 0.72)"
      ]
     },
     "execution_count": 5,
     "metadata": {},
     "output_type": "execute_result"
    }
   ],
   "source": [
    "numberClassificator.test()"
   ]
  },
  {
   "cell_type": "code",
   "execution_count": 6,
   "metadata": {},
   "outputs": [
    {
     "name": "stdout",
     "output_type": "stream",
     "text": [
      "model save to /mnt/data/www/nomeroff-net/models/anpr_ocr_options_1.h5\n"
     ]
    }
   ],
   "source": [
    "numberClassificator.save(RESULT_PATH)"
   ]
  }
 ],
 "metadata": {
  "kernelspec": {
   "display_name": "Python 3",
   "language": "python",
   "name": "python3"
  },
  "language_info": {
   "codemirror_mode": {
    "name": "ipython",
    "version": 3
   },
   "file_extension": ".py",
   "mimetype": "text/x-python",
   "name": "python",
   "nbconvert_exporter": "python",
   "pygments_lexer": "ipython3",
   "version": "3.6.6"
  }
 },
 "nbformat": 4,
 "nbformat_minor": 2
}
