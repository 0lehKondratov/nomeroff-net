{
 "cells": [
  {
   "cell_type": "markdown",
   "metadata": {},
   "source": [
    "# This example demonstrate how to train region detector model (standart image classification model)."
   ]
  },
  {
   "cell_type": "markdown",
   "metadata": {},
   "source": [
    "For train datasets please download last version of dataset [https://nomeroff.net.ua/datasets/](https://nomeroff.net.ua/datasets/). Unpack archive and rename to **./datasets/ocr** .\n",
    "For examle\n",
    "```bash\n",
    "cd ./datasets/ocr\n",
    "wget https://nomeroff.net.ua/datasets/autoriaNumberplateOptionsDataset-2019-02-20.zip\n",
    "unzip autoriaNumberplateOptionsDataset-2019-02-20.zip\n",
    "mv autoriaNumberplateOptionsDataset-2019-02-20 ua\n",
    "```\n",
    "or use your own dataset."
   ]
  },
  {
   "cell_type": "code",
   "execution_count": 2,
   "metadata": {},
   "outputs": [
    {
     "name": "stderr",
     "output_type": "stream",
     "text": [
      "Using TensorFlow backend.\n"
     ]
    }
   ],
   "source": [
    "import os\n",
    "import sys\n",
    "import warnings\n",
    "warnings.filterwarnings('ignore')\n",
    "\n",
    "# change this property\n",
    "NOMEROFF_NET_DIR = os.path.abspath('../')\n",
    "\n",
    "DATASET_NAME = \"options\"\n",
    "VERSION = \"1\"\n",
    "\n",
    "PATH_TO_DATASET = os.path.join(NOMEROFF_NET_DIR, \"datasets/\", DATASET_NAME)\n",
    "RESULT_PATH = os.path.join(NOMEROFF_NET_DIR, \"models/\", 'anpr_ocr_{}_{}.h5'.format(DATASET_NAME, VERSION))\n",
    "\n",
    "sys.path.append(NOMEROFF_NET_DIR)\n",
    "\n",
    "from NomeroffNet import OptionsDetector"
   ]
  },
  {
   "cell_type": "code",
   "execution_count": 3,
   "metadata": {},
   "outputs": [],
   "source": [
    "# definde your parameters\n",
    "# definde your parameters\n",
    "class MyNumberClassificator(OptionsDetector):\n",
    "    def __init__(self):\n",
    "        OptionsDetector.__init__(self)\n",
    "        # outputs 1\n",
    "        self.CLASS_STATE = [\"BACKGROUND\", \"FILLED\", \"NOT_FILLED\"]\n",
    "        \n",
    "        # outputs 2\n",
    "        self.CLASS_REGION = [\"xx-unknown\", \"eu-ua-2015\", \"eu-ua-2004\", \"eu-ua-1995\", \"eu\", \"xx-transit\"]\n",
    "        \n",
    "        self.EPOCHS           = 3\n",
    "        self.BATCH_SIZE       = 32\n",
    "        \n",
    "        self.HEIGHT         = 64\n",
    "        self.WEIGHT         = 128\n"
   ]
  },
  {
   "cell_type": "code",
   "execution_count": null,
   "metadata": {},
   "outputs": [
    {
     "name": "stdout",
     "output_type": "stream",
     "text": [
      "START PREPARING\n",
      "start train build\n"
     ]
    },
    {
     "name": "stderr",
     "output_type": "stream",
     "text": [
      "/mnt/data/www/nomeroff-net/NomeroffNet/Base/ImgGenerator.py:50: RuntimeWarning: invalid value encountered in true_divide\n",
      "  img /= img_max\n"
     ]
    },
    {
     "name": "stdout",
     "output_type": "stream",
     "text": [
      "end train build\n"
     ]
    }
   ],
   "source": [
    "# initialize region detector.\n",
    "numberClassificator = MyNumberClassificator()\n",
    "numberClassificator.prepare(PATH_TO_DATASET)"
   ]
  },
  {
   "cell_type": "code",
   "execution_count": null,
   "metadata": {},
   "outputs": [],
   "source": [
    "# train\n",
    "model = numberClassificator.train()"
   ]
  },
  {
   "cell_type": "code",
   "execution_count": null,
   "metadata": {},
   "outputs": [],
   "source": [
    "numberClassificator.save(RESULT_PATH)"
   ]
  }
 ],
 "metadata": {
  "kernelspec": {
   "display_name": "Python 3",
   "language": "python",
   "name": "python3"
  },
  "language_info": {
   "codemirror_mode": {
    "name": "ipython",
    "version": 3
   },
   "file_extension": ".py",
   "mimetype": "text/x-python",
   "name": "python",
   "nbconvert_exporter": "python",
   "pygments_lexer": "ipython3",
   "version": "3.6.6"
  }
 },
 "nbformat": 4,
 "nbformat_minor": 2
}
