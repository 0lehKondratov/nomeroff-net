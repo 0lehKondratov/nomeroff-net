{
 "cells": [
  {
   "cell_type": "markdown",
   "metadata": {},
   "source": [
    "# Train OCR text Detector quick example"
   ]
  },
  {
   "cell_type": "code",
   "execution_count": 1,
   "metadata": {},
   "outputs": [],
   "source": [
    "import os\n",
    "import sys\n",
    "import warnings\n",
    "from matplotlib import pyplot as plt\n",
    "warnings.filterwarnings('ignore')\n",
    "\n",
    "# change this property\n",
    "NOMEROFF_NET_DIR = os.path.abspath('../')\n",
    "sys.path.append(NOMEROFF_NET_DIR)\n",
    "\n",
    "from NomeroffNet.TextDetectors.base import OCR"
   ]
  },
  {
   "cell_type": "code",
   "execution_count": 2,
   "metadata": {},
   "outputs": [],
   "source": [
    "plt.rcParams[\"figure.figsize\"] = (10, 10)"
   ]
  },
  {
   "cell_type": "code",
   "execution_count": 3,
   "metadata": {},
   "outputs": [],
   "source": [
    "%matplotlib inline "
   ]
  },
  {
   "cell_type": "code",
   "execution_count": 4,
   "metadata": {},
   "outputs": [],
   "source": [
    "# auto download latest dataset\n",
    "from NomeroffNet.tools import modelhub\n",
    "\n",
    "# auto download latest dataset\n",
    "info = modelhub.download_dataset_for_model(\"Ge\")\n",
    "PATH_TO_DATASET = info[\"dataset_path\"]\n",
    "\n",
    "# local path dataset\n",
    "#PATH_TO_DATASET = os.path.join(NOMEROFF_NET_DIR, \"./data/dataset/OptionsDetector/numberplate_options_example\")"
   ]
  },
  {
   "cell_type": "code",
   "execution_count": 5,
   "metadata": {},
   "outputs": [
    {
     "data": {
      "text/plain": [
       "'/var/www/nomeroff-net24/NomeroffNet/tools/../../data/./dataset/TextDetector/Ge/autoriaNumberplateOcrGe-2019-07-06'"
      ]
     },
     "execution_count": 5,
     "metadata": {},
     "output_type": "execute_result"
    }
   ],
   "source": [
    "PATH_TO_DATASET"
   ]
  },
  {
   "cell_type": "code",
   "execution_count": 6,
   "metadata": {},
   "outputs": [],
   "source": [
    "DATASET_NAME = \"ge\"\n",
    "VERSION = \"2021_08_30_pytorch_lightning\"\n",
    "\n",
    "RESULT_MODEL_PATH = os.path.join(NOMEROFF_NET_DIR, \n",
    "                                 \"models/\", \n",
    "                                 'anpr_ocr_{}_{}.ckpt'.format(DATASET_NAME, VERSION))"
   ]
  },
  {
   "cell_type": "code",
   "execution_count": 7,
   "metadata": {},
   "outputs": [
    {
     "data": {
      "text/plain": [
       "'/var/www/nomeroff-net24/models/anpr_ocr_ge_2021_08_30_pytorch_lightning.ckpt'"
      ]
     },
     "execution_count": 7,
     "metadata": {},
     "output_type": "execute_result"
    }
   ],
   "source": [
    "RESULT_MODEL_PATH"
   ]
  },
  {
   "cell_type": "code",
   "execution_count": 8,
   "metadata": {},
   "outputs": [],
   "source": [
    "class ge(OCR):\n",
    "    def __init__(self):\n",
    "        OCR.__init__(self)\n",
    "        # only for usage model\n",
    "        # in train generate automaticly\n",
    "        self.letters = [\"0\", \"1\", \"2\", \"3\", \"4\", \"5\", \"6\", \"7\", \"8\", \"9\", \"A\", \"B\", \"C\", \"D\", \"E\", \"F\", \"G\", \"H\", \"I\",\n",
    "                        \"J\", \"K\", \"L\", \"M\", \"N\", \"P\", \"Q\", \"R\", \"S\", \"T\", \"U\", \"V\", \"W\", \"X\", \"Y\", \"Z\"]\n",
    "\n",
    "\n",
    "        # Train hyperparameters\n",
    "        self.batch_size = 64\n",
    "        self.epochs = 50\n",
    "        self.gpus = 1"
   ]
  },
  {
   "cell_type": "code",
   "execution_count": 9,
   "metadata": {},
   "outputs": [
    {
     "name": "stdout",
     "output_type": "stream",
     "text": [
      "GET ALPHABET\n",
      "Max plate length in \"val\": 7\n",
      "Max plate length in \"train\": 7\n",
      "Max plate length in \"test\": 7\n",
      "Letters train  {'T', 'C', 'J', 'K', 'S', 'P', 'Q', 'R', 'I', 'Z', '8', '9', '5', 'U', '3', '0', 'F', '6', 'E', 'A', 'L', 'X', 'G', '2', '1', 'V', 'M', 'B', 'N', 'D', 'Y', 'W', '7', 'H', '4'}\n",
      "Letters val  {'T', 'C', 'J', 'K', 'S', 'P', 'Q', 'R', 'I', 'Z', '8', '9', '5', 'U', '3', '0', 'F', 'E', '6', 'A', 'L', 'X', 'G', '2', '1', 'V', 'B', 'N', 'M', 'D', 'Y', 'W', '7', 'H', '4'}\n",
      "Letters test  {'T', 'C', 'J', 'K', 'P', 'S', 'Q', 'R', 'I', 'Z', '8', '9', '5', 'U', '3', '0', 'F', '6', 'E', 'A', 'L', 'X', 'G', '2', '1', 'M', 'B', 'N', 'V', 'Y', 'D', 'W', '7', 'H', '4'}\n",
      "Max plate length in train, test and val do match\n",
      "Letters in train, val and test do match\n",
      "Letters: 0 1 2 3 4 5 6 7 8 9 A B C D E F G H I J K L M N P Q R S T U V W X Y Z\n",
      "\n",
      "EXPLAIN DATA TRANSFORMATIONS\n",
      "START BUILD DATA\n",
      "DATA PREPARED\n"
     ]
    }
   ],
   "source": [
    "ocrTextDetector = ge()\n",
    "model = ocrTextDetector.prepare(PATH_TO_DATASET, use_aug=False, num_workers=24)"
   ]
  },
  {
   "cell_type": "code",
   "execution_count": 10,
   "metadata": {},
   "outputs": [],
   "source": [
    "#ocrTextDetector.load(RESULT_MODEL_PATH)"
   ]
  },
  {
   "cell_type": "code",
   "execution_count": 10,
   "metadata": {
    "scrolled": false
   },
   "outputs": [
    {
     "name": "stderr",
     "output_type": "stream",
     "text": [
      "GPU available: True, used: True\n",
      "TPU available: False, using: 0 TPU cores\n",
      "LOCAL_RANK: 0 - CUDA_VISIBLE_DEVICES: [0]\n",
      "\n",
      "  | Name    | Type       | Params\n",
      "---------------------------------------\n",
      "0 | resnet  | Sequential | 2.8 M \n",
      "1 | cnn     | BlockCNN   | 590 K \n",
      "2 | linear1 | Linear     | 524 K \n",
      "3 | gru1    | BlockRNN   | 139 K \n",
      "4 | gru2    | BlockRNN   | 16.9 K\n",
      "5 | linear2 | Linear     | 2.3 K \n",
      "---------------------------------------\n",
      "4.1 M     Trainable params\n",
      "0         Non-trainable params\n",
      "4.1 M     Total params\n",
      "16.229    Total estimated model params size (MB)\n"
     ]
    },
    {
     "data": {
      "application/vnd.jupyter.widget-view+json": {
       "model_id": "7aac7c6ddf9f4ae08e4db7aee690977a",
       "version_major": 2,
       "version_minor": 0
      },
      "text/plain": [
       "HBox(children=(HTML(value='Finding best initial lr'), FloatProgress(value=0.0), HTML(value='')))"
      ]
     },
     "metadata": {},
     "output_type": "display_data"
    },
    {
     "name": "stderr",
     "output_type": "stream",
     "text": [
      "Restored states from the checkpoint file at /var/www/nomeroff-net24/train/lr_find_temp_model.ckpt\n"
     ]
    },
    {
     "name": "stdout",
     "output_type": "stream",
     "text": [
      "Found lr: 0.5011872336272719\n",
      "\n"
     ]
    },
    {
     "data": {
      "image/png": "[encoded data removed]",
      "text/plain": [
       "<Figure size 432x288 with 1 Axes>"
      ]
     },
     "metadata": {
      "needs_background": "light"
     },
     "output_type": "display_data"
    }
   ],
   "source": [
    "# tune\n",
    "lr_finder = ocrTextDetector.tune()\n",
    "\n",
    "# Plot with\n",
    "fig = lr_finder.plot(suggest=True)\n",
    "fig.show()"
   ]
  },
  {
   "cell_type": "code",
   "execution_count": 11,
   "metadata": {
    "scrolled": true
   },
   "outputs": [
    {
     "name": "stderr",
     "output_type": "stream",
     "text": [
      "GPU available: True, used: True\n",
      "TPU available: False, using: 0 TPU cores\n",
      "LOCAL_RANK: 0 - CUDA_VISIBLE_DEVICES: [0]\n"
     ]
    },
    {
     "data": {
      "application/vnd.jupyter.widget-view+json": {
       "model_id": "",
       "version_major": 2,
       "version_minor": 0
      },
      "text/plain": [
       "HBox(children=(HTML(value='Validation sanity check'), FloatProgress(value=1.0, bar_style='info', layout=Layout…"
      ]
     },
     "metadata": {},
     "output_type": "display_data"
    },
    {
     "data": {
      "application/vnd.jupyter.widget-view+json": {
       "model_id": "4e01fbb73b2c4036a225d4836a55e122",
       "version_major": 2,
       "version_minor": 0
      },
      "text/plain": [
       "HBox(children=(HTML(value='Training'), FloatProgress(value=1.0, bar_style='info', layout=Layout(flex='2'), max…"
      ]
     },
     "metadata": {},
     "output_type": "display_data"
    },
    {
     "data": {
      "application/vnd.jupyter.widget-view+json": {
       "model_id": "",
       "version_major": 2,
       "version_minor": 0
      },
      "text/plain": [
       "HBox(children=(HTML(value='Validating'), FloatProgress(value=1.0, bar_style='info', layout=Layout(flex='2'), m…"
      ]
     },
     "metadata": {},
     "output_type": "display_data"
    },
    {
     "data": {
      "application/vnd.jupyter.widget-view+json": {
       "model_id": "",
       "version_major": 2,
       "version_minor": 0
      },
      "text/plain": [
       "HBox(children=(HTML(value='Validating'), FloatProgress(value=1.0, bar_style='info', layout=Layout(flex='2'), m…"
      ]
     },
     "metadata": {},
     "output_type": "display_data"
    },
    {
     "data": {
      "application/vnd.jupyter.widget-view+json": {
       "model_id": "",
       "version_major": 2,
       "version_minor": 0
      },
      "text/plain": [
       "HBox(children=(HTML(value='Validating'), FloatProgress(value=1.0, bar_style='info', layout=Layout(flex='2'), m…"
      ]
     },
     "metadata": {},
     "output_type": "display_data"
    },
    {
     "data": {
      "application/vnd.jupyter.widget-view+json": {
       "model_id": "",
       "version_major": 2,
       "version_minor": 0
      },
      "text/plain": [
       "HBox(children=(HTML(value='Validating'), FloatProgress(value=1.0, bar_style='info', layout=Layout(flex='2'), m…"
      ]
     },
     "metadata": {},
     "output_type": "display_data"
    },
    {
     "data": {
      "application/vnd.jupyter.widget-view+json": {
       "model_id": "",
       "version_major": 2,
       "version_minor": 0
      },
      "text/plain": [
       "HBox(children=(HTML(value='Validating'), FloatProgress(value=1.0, bar_style='info', layout=Layout(flex='2'), m…"
      ]
     },
     "metadata": {},
     "output_type": "display_data"
    },
    {
     "data": {
      "application/vnd.jupyter.widget-view+json": {
       "model_id": "",
       "version_major": 2,
       "version_minor": 0
      },
      "text/plain": [
       "HBox(children=(HTML(value='Validating'), FloatProgress(value=1.0, bar_style='info', layout=Layout(flex='2'), m…"
      ]
     },
     "metadata": {},
     "output_type": "display_data"
    },
    {
     "data": {
      "application/vnd.jupyter.widget-view+json": {
       "model_id": "",
       "version_major": 2,
       "version_minor": 0
      },
      "text/plain": [
       "HBox(children=(HTML(value='Validating'), FloatProgress(value=1.0, bar_style='info', layout=Layout(flex='2'), m…"
      ]
     },
     "metadata": {},
     "output_type": "display_data"
    },
    {
     "data": {
      "application/vnd.jupyter.widget-view+json": {
       "model_id": "",
       "version_major": 2,
       "version_minor": 0
      },
      "text/plain": [
       "HBox(children=(HTML(value='Validating'), FloatProgress(value=1.0, bar_style='info', layout=Layout(flex='2'), m…"
      ]
     },
     "metadata": {},
     "output_type": "display_data"
    },
    {
     "data": {
      "application/vnd.jupyter.widget-view+json": {
       "model_id": "",
       "version_major": 2,
       "version_minor": 0
      },
      "text/plain": [
       "HBox(children=(HTML(value='Validating'), FloatProgress(value=1.0, bar_style='info', layout=Layout(flex='2'), m…"
      ]
     },
     "metadata": {},
     "output_type": "display_data"
    },
    {
     "data": {
      "application/vnd.jupyter.widget-view+json": {
       "model_id": "",
       "version_major": 2,
       "version_minor": 0
      },
      "text/plain": [
       "HBox(children=(HTML(value='Validating'), FloatProgress(value=1.0, bar_style='info', layout=Layout(flex='2'), m…"
      ]
     },
     "metadata": {},
     "output_type": "display_data"
    },
    {
     "data": {
      "application/vnd.jupyter.widget-view+json": {
       "model_id": "",
       "version_major": 2,
       "version_minor": 0
      },
      "text/plain": [
       "HBox(children=(HTML(value='Validating'), FloatProgress(value=1.0, bar_style='info', layout=Layout(flex='2'), m…"
      ]
     },
     "metadata": {},
     "output_type": "display_data"
    },
    {
     "data": {
      "application/vnd.jupyter.widget-view+json": {
       "model_id": "",
       "version_major": 2,
       "version_minor": 0
      },
      "text/plain": [
       "HBox(children=(HTML(value='Validating'), FloatProgress(value=1.0, bar_style='info', layout=Layout(flex='2'), m…"
      ]
     },
     "metadata": {},
     "output_type": "display_data"
    },
    {
     "data": {
      "application/vnd.jupyter.widget-view+json": {
       "model_id": "",
       "version_major": 2,
       "version_minor": 0
      },
      "text/plain": [
       "HBox(children=(HTML(value='Validating'), FloatProgress(value=1.0, bar_style='info', layout=Layout(flex='2'), m…"
      ]
     },
     "metadata": {},
     "output_type": "display_data"
    },
    {
     "data": {
      "application/vnd.jupyter.widget-view+json": {
       "model_id": "",
       "version_major": 2,
       "version_minor": 0
      },
      "text/plain": [
       "HBox(children=(HTML(value='Validating'), FloatProgress(value=1.0, bar_style='info', layout=Layout(flex='2'), m…"
      ]
     },
     "metadata": {},
     "output_type": "display_data"
    },
    {
     "data": {
      "application/vnd.jupyter.widget-view+json": {
       "model_id": "",
       "version_major": 2,
       "version_minor": 0
      },
      "text/plain": [
       "HBox(children=(HTML(value='Validating'), FloatProgress(value=1.0, bar_style='info', layout=Layout(flex='2'), m…"
      ]
     },
     "metadata": {},
     "output_type": "display_data"
    },
    {
     "data": {
      "application/vnd.jupyter.widget-view+json": {
       "model_id": "",
       "version_major": 2,
       "version_minor": 0
      },
      "text/plain": [
       "HBox(children=(HTML(value='Validating'), FloatProgress(value=1.0, bar_style='info', layout=Layout(flex='2'), m…"
      ]
     },
     "metadata": {},
     "output_type": "display_data"
    },
    {
     "data": {
      "application/vnd.jupyter.widget-view+json": {
       "model_id": "",
       "version_major": 2,
       "version_minor": 0
      },
      "text/plain": [
       "HBox(children=(HTML(value='Validating'), FloatProgress(value=1.0, bar_style='info', layout=Layout(flex='2'), m…"
      ]
     },
     "metadata": {},
     "output_type": "display_data"
    },
    {
     "data": {
      "application/vnd.jupyter.widget-view+json": {
       "model_id": "",
       "version_major": 2,
       "version_minor": 0
      },
      "text/plain": [
       "HBox(children=(HTML(value='Validating'), FloatProgress(value=1.0, bar_style='info', layout=Layout(flex='2'), m…"
      ]
     },
     "metadata": {},
     "output_type": "display_data"
    },
    {
     "data": {
      "application/vnd.jupyter.widget-view+json": {
       "model_id": "",
       "version_major": 2,
       "version_minor": 0
      },
      "text/plain": [
       "HBox(children=(HTML(value='Validating'), FloatProgress(value=1.0, bar_style='info', layout=Layout(flex='2'), m…"
      ]
     },
     "metadata": {},
     "output_type": "display_data"
    },
    {
     "data": {
      "application/vnd.jupyter.widget-view+json": {
       "model_id": "",
       "version_major": 2,
       "version_minor": 0
      },
      "text/plain": [
       "HBox(children=(HTML(value='Validating'), FloatProgress(value=1.0, bar_style='info', layout=Layout(flex='2'), m…"
      ]
     },
     "metadata": {},
     "output_type": "display_data"
    },
    {
     "data": {
      "application/vnd.jupyter.widget-view+json": {
       "model_id": "",
       "version_major": 2,
       "version_minor": 0
      },
      "text/plain": [
       "HBox(children=(HTML(value='Validating'), FloatProgress(value=1.0, bar_style='info', layout=Layout(flex='2'), m…"
      ]
     },
     "metadata": {},
     "output_type": "display_data"
    },
    {
     "data": {
      "application/vnd.jupyter.widget-view+json": {
       "model_id": "",
       "version_major": 2,
       "version_minor": 0
      },
      "text/plain": [
       "HBox(children=(HTML(value='Validating'), FloatProgress(value=1.0, bar_style='info', layout=Layout(flex='2'), m…"
      ]
     },
     "metadata": {},
     "output_type": "display_data"
    },
    {
     "data": {
      "application/vnd.jupyter.widget-view+json": {
       "model_id": "",
       "version_major": 2,
       "version_minor": 0
      },
      "text/plain": [
       "HBox(children=(HTML(value='Validating'), FloatProgress(value=1.0, bar_style='info', layout=Layout(flex='2'), m…"
      ]
     },
     "metadata": {},
     "output_type": "display_data"
    },
    {
     "data": {
      "application/vnd.jupyter.widget-view+json": {
       "model_id": "",
       "version_major": 2,
       "version_minor": 0
      },
      "text/plain": [
       "HBox(children=(HTML(value='Validating'), FloatProgress(value=1.0, bar_style='info', layout=Layout(flex='2'), m…"
      ]
     },
     "metadata": {},
     "output_type": "display_data"
    },
    {
     "data": {
      "application/vnd.jupyter.widget-view+json": {
       "model_id": "",
       "version_major": 2,
       "version_minor": 0
      },
      "text/plain": [
       "HBox(children=(HTML(value='Validating'), FloatProgress(value=1.0, bar_style='info', layout=Layout(flex='2'), m…"
      ]
     },
     "metadata": {},
     "output_type": "display_data"
    },
    {
     "data": {
      "application/vnd.jupyter.widget-view+json": {
       "model_id": "",
       "version_major": 2,
       "version_minor": 0
      },
      "text/plain": [
       "HBox(children=(HTML(value='Validating'), FloatProgress(value=1.0, bar_style='info', layout=Layout(flex='2'), m…"
      ]
     },
     "metadata": {},
     "output_type": "display_data"
    },
    {
     "data": {
      "application/vnd.jupyter.widget-view+json": {
       "model_id": "",
       "version_major": 2,
       "version_minor": 0
      },
      "text/plain": [
       "HBox(children=(HTML(value='Validating'), FloatProgress(value=1.0, bar_style='info', layout=Layout(flex='2'), m…"
      ]
     },
     "metadata": {},
     "output_type": "display_data"
    },
    {
     "data": {
      "application/vnd.jupyter.widget-view+json": {
       "model_id": "",
       "version_major": 2,
       "version_minor": 0
      },
      "text/plain": [
       "HBox(children=(HTML(value='Validating'), FloatProgress(value=1.0, bar_style='info', layout=Layout(flex='2'), m…"
      ]
     },
     "metadata": {},
     "output_type": "display_data"
    },
    {
     "data": {
      "application/vnd.jupyter.widget-view+json": {
       "model_id": "",
       "version_major": 2,
       "version_minor": 0
      },
      "text/plain": [
       "HBox(children=(HTML(value='Validating'), FloatProgress(value=1.0, bar_style='info', layout=Layout(flex='2'), m…"
      ]
     },
     "metadata": {},
     "output_type": "display_data"
    },
    {
     "name": "stdout",
     "output_type": "stream",
     "text": [
      "Epoch    29: reducing learning rate of group 0 to 2.0000e-03.\n"
     ]
    },
    {
     "data": {
      "application/vnd.jupyter.widget-view+json": {
       "model_id": "",
       "version_major": 2,
       "version_minor": 0
      },
      "text/plain": [
       "HBox(children=(HTML(value='Validating'), FloatProgress(value=1.0, bar_style='info', layout=Layout(flex='2'), m…"
      ]
     },
     "metadata": {},
     "output_type": "display_data"
    },
    {
     "data": {
      "application/vnd.jupyter.widget-view+json": {
       "model_id": "",
       "version_major": 2,
       "version_minor": 0
      },
      "text/plain": [
       "HBox(children=(HTML(value='Validating'), FloatProgress(value=1.0, bar_style='info', layout=Layout(flex='2'), m…"
      ]
     },
     "metadata": {},
     "output_type": "display_data"
    },
    {
     "data": {
      "application/vnd.jupyter.widget-view+json": {
       "model_id": "",
       "version_major": 2,
       "version_minor": 0
      },
      "text/plain": [
       "HBox(children=(HTML(value='Validating'), FloatProgress(value=1.0, bar_style='info', layout=Layout(flex='2'), m…"
      ]
     },
     "metadata": {},
     "output_type": "display_data"
    },
    {
     "data": {
      "application/vnd.jupyter.widget-view+json": {
       "model_id": "",
       "version_major": 2,
       "version_minor": 0
      },
      "text/plain": [
       "HBox(children=(HTML(value='Validating'), FloatProgress(value=1.0, bar_style='info', layout=Layout(flex='2'), m…"
      ]
     },
     "metadata": {},
     "output_type": "display_data"
    },
    {
     "data": {
      "application/vnd.jupyter.widget-view+json": {
       "model_id": "",
       "version_major": 2,
       "version_minor": 0
      },
      "text/plain": [
       "HBox(children=(HTML(value='Validating'), FloatProgress(value=1.0, bar_style='info', layout=Layout(flex='2'), m…"
      ]
     },
     "metadata": {},
     "output_type": "display_data"
    },
    {
     "data": {
      "application/vnd.jupyter.widget-view+json": {
       "model_id": "",
       "version_major": 2,
       "version_minor": 0
      },
      "text/plain": [
       "HBox(children=(HTML(value='Validating'), FloatProgress(value=1.0, bar_style='info', layout=Layout(flex='2'), m…"
      ]
     },
     "metadata": {},
     "output_type": "display_data"
    },
    {
     "name": "stdout",
     "output_type": "stream",
     "text": [
      "Epoch    35: reducing learning rate of group 0 to 2.0000e-04.\n"
     ]
    },
    {
     "data": {
      "application/vnd.jupyter.widget-view+json": {
       "model_id": "",
       "version_major": 2,
       "version_minor": 0
      },
      "text/plain": [
       "HBox(children=(HTML(value='Validating'), FloatProgress(value=1.0, bar_style='info', layout=Layout(flex='2'), m…"
      ]
     },
     "metadata": {},
     "output_type": "display_data"
    },
    {
     "data": {
      "application/vnd.jupyter.widget-view+json": {
       "model_id": "",
       "version_major": 2,
       "version_minor": 0
      },
      "text/plain": [
       "HBox(children=(HTML(value='Validating'), FloatProgress(value=1.0, bar_style='info', layout=Layout(flex='2'), m…"
      ]
     },
     "metadata": {},
     "output_type": "display_data"
    },
    {
     "data": {
      "application/vnd.jupyter.widget-view+json": {
       "model_id": "",
       "version_major": 2,
       "version_minor": 0
      },
      "text/plain": [
       "HBox(children=(HTML(value='Validating'), FloatProgress(value=1.0, bar_style='info', layout=Layout(flex='2'), m…"
      ]
     },
     "metadata": {},
     "output_type": "display_data"
    },
    {
     "data": {
      "application/vnd.jupyter.widget-view+json": {
       "model_id": "",
       "version_major": 2,
       "version_minor": 0
      },
      "text/plain": [
       "HBox(children=(HTML(value='Validating'), FloatProgress(value=1.0, bar_style='info', layout=Layout(flex='2'), m…"
      ]
     },
     "metadata": {},
     "output_type": "display_data"
    },
    {
     "data": {
      "application/vnd.jupyter.widget-view+json": {
       "model_id": "",
       "version_major": 2,
       "version_minor": 0
      },
      "text/plain": [
       "HBox(children=(HTML(value='Validating'), FloatProgress(value=1.0, bar_style='info', layout=Layout(flex='2'), m…"
      ]
     },
     "metadata": {},
     "output_type": "display_data"
    },
    {
     "data": {
      "application/vnd.jupyter.widget-view+json": {
       "model_id": "",
       "version_major": 2,
       "version_minor": 0
      },
      "text/plain": [
       "HBox(children=(HTML(value='Validating'), FloatProgress(value=1.0, bar_style='info', layout=Layout(flex='2'), m…"
      ]
     },
     "metadata": {},
     "output_type": "display_data"
    },
    {
     "name": "stdout",
     "output_type": "stream",
     "text": [
      "Epoch    41: reducing learning rate of group 0 to 2.0000e-05.\n"
     ]
    },
    {
     "data": {
      "application/vnd.jupyter.widget-view+json": {
       "model_id": "",
       "version_major": 2,
       "version_minor": 0
      },
      "text/plain": [
       "HBox(children=(HTML(value='Validating'), FloatProgress(value=1.0, bar_style='info', layout=Layout(flex='2'), m…"
      ]
     },
     "metadata": {},
     "output_type": "display_data"
    },
    {
     "data": {
      "application/vnd.jupyter.widget-view+json": {
       "model_id": "",
       "version_major": 2,
       "version_minor": 0
      },
      "text/plain": [
       "HBox(children=(HTML(value='Validating'), FloatProgress(value=1.0, bar_style='info', layout=Layout(flex='2'), m…"
      ]
     },
     "metadata": {},
     "output_type": "display_data"
    },
    {
     "data": {
      "application/vnd.jupyter.widget-view+json": {
       "model_id": "",
       "version_major": 2,
       "version_minor": 0
      },
      "text/plain": [
       "HBox(children=(HTML(value='Validating'), FloatProgress(value=1.0, bar_style='info', layout=Layout(flex='2'), m…"
      ]
     },
     "metadata": {},
     "output_type": "display_data"
    },
    {
     "data": {
      "application/vnd.jupyter.widget-view+json": {
       "model_id": "",
       "version_major": 2,
       "version_minor": 0
      },
      "text/plain": [
       "HBox(children=(HTML(value='Validating'), FloatProgress(value=1.0, bar_style='info', layout=Layout(flex='2'), m…"
      ]
     },
     "metadata": {},
     "output_type": "display_data"
    },
    {
     "data": {
      "application/vnd.jupyter.widget-view+json": {
       "model_id": "",
       "version_major": 2,
       "version_minor": 0
      },
      "text/plain": [
       "HBox(children=(HTML(value='Validating'), FloatProgress(value=1.0, bar_style='info', layout=Layout(flex='2'), m…"
      ]
     },
     "metadata": {},
     "output_type": "display_data"
    },
    {
     "data": {
      "application/vnd.jupyter.widget-view+json": {
       "model_id": "",
       "version_major": 2,
       "version_minor": 0
      },
      "text/plain": [
       "HBox(children=(HTML(value='Validating'), FloatProgress(value=1.0, bar_style='info', layout=Layout(flex='2'), m…"
      ]
     },
     "metadata": {},
     "output_type": "display_data"
    },
    {
     "name": "stdout",
     "output_type": "stream",
     "text": [
      "Epoch    47: reducing learning rate of group 0 to 2.0000e-06.\n"
     ]
    },
    {
     "data": {
      "application/vnd.jupyter.widget-view+json": {
       "model_id": "",
       "version_major": 2,
       "version_minor": 0
      },
      "text/plain": [
       "HBox(children=(HTML(value='Validating'), FloatProgress(value=1.0, bar_style='info', layout=Layout(flex='2'), m…"
      ]
     },
     "metadata": {},
     "output_type": "display_data"
    },
    {
     "data": {
      "application/vnd.jupyter.widget-view+json": {
       "model_id": "",
       "version_major": 2,
       "version_minor": 0
      },
      "text/plain": [
       "HBox(children=(HTML(value='Validating'), FloatProgress(value=1.0, bar_style='info', layout=Layout(flex='2'), m…"
      ]
     },
     "metadata": {},
     "output_type": "display_data"
    },
    {
     "data": {
      "application/vnd.jupyter.widget-view+json": {
       "model_id": "",
       "version_major": 2,
       "version_minor": 0
      },
      "text/plain": [
       "HBox(children=(HTML(value='Validating'), FloatProgress(value=1.0, bar_style='info', layout=Layout(flex='2'), m…"
      ]
     },
     "metadata": {},
     "output_type": "display_data"
    },
    {
     "name": "stderr",
     "output_type": "stream",
     "text": [
      "LOCAL_RANK: 0 - CUDA_VISIBLE_DEVICES: [0]\n"
     ]
    },
    {
     "name": "stdout",
     "output_type": "stream",
     "text": [
      "\n",
      "[INFO] best model path /var/www/nomeroff-net24/NomeroffNet/data/logs/ocr/epoch=22-step=9015-v1.ckpt\n"
     ]
    },
    {
     "data": {
      "application/vnd.jupyter.widget-view+json": {
       "model_id": "8e3778c77e5747bdbd47461dd3a18f6b",
       "version_major": 2,
       "version_minor": 0
      },
      "text/plain": [
       "HBox(children=(HTML(value='Testing'), FloatProgress(value=1.0, bar_style='info', layout=Layout(flex='2'), max=…"
      ]
     },
     "metadata": {},
     "output_type": "display_data"
    },
    {
     "name": "stdout",
     "output_type": "stream",
     "text": [
      "\n",
      "--------------------------------------------------------------------------------\n",
      "DATALOADER:0 TEST RESULTS\n",
      "{'test_loss': 0.07721823453903198}\n",
      "--------------------------------------------------------------------------------\n"
     ]
    },
    {
     "data": {
      "text/plain": [
       "NPOcrNet(\n",
       "  (resnet): Sequential(\n",
       "    (0): Conv2d(3, 64, kernel_size=(7, 7), stride=(2, 2), padding=(3, 3), bias=False)\n",
       "    (1): BatchNorm2d(64, eps=1e-05, momentum=0.1, affine=True, track_running_stats=True)\n",
       "    (2): ReLU(inplace=True)\n",
       "    (3): MaxPool2d(kernel_size=3, stride=2, padding=1, dilation=1, ceil_mode=False)\n",
       "    (4): Sequential(\n",
       "      (0): BasicBlock(\n",
       "        (conv1): Conv2d(64, 64, kernel_size=(3, 3), stride=(1, 1), padding=(1, 1), bias=False)\n",
       "        (bn1): BatchNorm2d(64, eps=1e-05, momentum=0.1, affine=True, track_running_stats=True)\n",
       "        (relu): ReLU(inplace=True)\n",
       "        (conv2): Conv2d(64, 64, kernel_size=(3, 3), stride=(1, 1), padding=(1, 1), bias=False)\n",
       "        (bn2): BatchNorm2d(64, eps=1e-05, momentum=0.1, affine=True, track_running_stats=True)\n",
       "      )\n",
       "      (1): BasicBlock(\n",
       "        (conv1): Conv2d(64, 64, kernel_size=(3, 3), stride=(1, 1), padding=(1, 1), bias=False)\n",
       "        (bn1): BatchNorm2d(64, eps=1e-05, momentum=0.1, affine=True, track_running_stats=True)\n",
       "        (relu): ReLU(inplace=True)\n",
       "        (conv2): Conv2d(64, 64, kernel_size=(3, 3), stride=(1, 1), padding=(1, 1), bias=False)\n",
       "        (bn2): BatchNorm2d(64, eps=1e-05, momentum=0.1, affine=True, track_running_stats=True)\n",
       "      )\n",
       "    )\n",
       "    (5): Sequential(\n",
       "      (0): BasicBlock(\n",
       "        (conv1): Conv2d(64, 128, kernel_size=(3, 3), stride=(2, 2), padding=(1, 1), bias=False)\n",
       "        (bn1): BatchNorm2d(128, eps=1e-05, momentum=0.1, affine=True, track_running_stats=True)\n",
       "        (relu): ReLU(inplace=True)\n",
       "        (conv2): Conv2d(128, 128, kernel_size=(3, 3), stride=(1, 1), padding=(1, 1), bias=False)\n",
       "        (bn2): BatchNorm2d(128, eps=1e-05, momentum=0.1, affine=True, track_running_stats=True)\n",
       "        (downsample): Sequential(\n",
       "          (0): Conv2d(64, 128, kernel_size=(1, 1), stride=(2, 2), bias=False)\n",
       "          (1): BatchNorm2d(128, eps=1e-05, momentum=0.1, affine=True, track_running_stats=True)\n",
       "        )\n",
       "      )\n",
       "      (1): BasicBlock(\n",
       "        (conv1): Conv2d(128, 128, kernel_size=(3, 3), stride=(1, 1), padding=(1, 1), bias=False)\n",
       "        (bn1): BatchNorm2d(128, eps=1e-05, momentum=0.1, affine=True, track_running_stats=True)\n",
       "        (relu): ReLU(inplace=True)\n",
       "        (conv2): Conv2d(128, 128, kernel_size=(3, 3), stride=(1, 1), padding=(1, 1), bias=False)\n",
       "        (bn2): BatchNorm2d(128, eps=1e-05, momentum=0.1, affine=True, track_running_stats=True)\n",
       "      )\n",
       "    )\n",
       "    (6): Sequential(\n",
       "      (0): BasicBlock(\n",
       "        (conv1): Conv2d(128, 256, kernel_size=(3, 3), stride=(2, 2), padding=(1, 1), bias=False)\n",
       "        (bn1): BatchNorm2d(256, eps=1e-05, momentum=0.1, affine=True, track_running_stats=True)\n",
       "        (relu): ReLU(inplace=True)\n",
       "        (conv2): Conv2d(256, 256, kernel_size=(3, 3), stride=(1, 1), padding=(1, 1), bias=False)\n",
       "        (bn2): BatchNorm2d(256, eps=1e-05, momentum=0.1, affine=True, track_running_stats=True)\n",
       "        (downsample): Sequential(\n",
       "          (0): Conv2d(128, 256, kernel_size=(1, 1), stride=(2, 2), bias=False)\n",
       "          (1): BatchNorm2d(256, eps=1e-05, momentum=0.1, affine=True, track_running_stats=True)\n",
       "        )\n",
       "      )\n",
       "      (1): BasicBlock(\n",
       "        (conv1): Conv2d(256, 256, kernel_size=(3, 3), stride=(1, 1), padding=(1, 1), bias=False)\n",
       "        (bn1): BatchNorm2d(256, eps=1e-05, momentum=0.1, affine=True, track_running_stats=True)\n",
       "        (relu): ReLU(inplace=True)\n",
       "        (conv2): Conv2d(256, 256, kernel_size=(3, 3), stride=(1, 1), padding=(1, 1), bias=False)\n",
       "        (bn2): BatchNorm2d(256, eps=1e-05, momentum=0.1, affine=True, track_running_stats=True)\n",
       "      )\n",
       "    )\n",
       "  )\n",
       "  (cnn): BlockCNN(\n",
       "    (conv): Conv2d(256, 256, kernel_size=(3, 3), stride=(1, 1), padding=(1, 1))\n",
       "    (bn): BatchNorm2d(256, eps=1e-05, momentum=0.1, affine=True, track_running_stats=True)\n",
       "  )\n",
       "  (linear1): Linear(in_features=1024, out_features=512, bias=True)\n",
       "  (gru1): BlockRNN(\n",
       "    (gru): LSTM(512, 32, batch_first=True, bidirectional=True)\n",
       "  )\n",
       "  (gru2): BlockRNN(\n",
       "    (gru): LSTM(32, 32, batch_first=True, bidirectional=True)\n",
       "  )\n",
       "  (linear2): Linear(in_features=64, out_features=36, bias=True)\n",
       "  (criterion): CTCLoss()\n",
       ")"
      ]
     },
     "execution_count": 11,
     "metadata": {},
     "output_type": "execute_result"
    }
   ],
   "source": [
    "ocrTextDetector.train()"
   ]
  },
  {
   "cell_type": "code",
   "execution_count": 12,
   "metadata": {},
   "outputs": [
    {
     "name": "stdout",
     "output_type": "stream",
     "text": [
      "model save to /var/www/nomeroff-net24/models/anpr_ocr_ge_2021_08_30_pytorch_lightning.ckpt\n"
     ]
    }
   ],
   "source": [
    "ocrTextDetector.save(RESULT_MODEL_PATH)"
   ]
  },
  {
   "cell_type": "code",
   "execution_count": 12,
   "metadata": {
    "scrolled": true
   },
   "outputs": [
    {
     "data": {
      "text/plain": [
       "NPOcrNet(\n",
       "  (resnet): Sequential(\n",
       "    (0): Conv2d(3, 64, kernel_size=(7, 7), stride=(2, 2), padding=(3, 3), bias=False)\n",
       "    (1): BatchNorm2d(64, eps=1e-05, momentum=0.1, affine=True, track_running_stats=True)\n",
       "    (2): ReLU(inplace=True)\n",
       "    (3): MaxPool2d(kernel_size=3, stride=2, padding=1, dilation=1, ceil_mode=False)\n",
       "    (4): Sequential(\n",
       "      (0): BasicBlock(\n",
       "        (conv1): Conv2d(64, 64, kernel_size=(3, 3), stride=(1, 1), padding=(1, 1), bias=False)\n",
       "        (bn1): BatchNorm2d(64, eps=1e-05, momentum=0.1, affine=True, track_running_stats=True)\n",
       "        (relu): ReLU(inplace=True)\n",
       "        (conv2): Conv2d(64, 64, kernel_size=(3, 3), stride=(1, 1), padding=(1, 1), bias=False)\n",
       "        (bn2): BatchNorm2d(64, eps=1e-05, momentum=0.1, affine=True, track_running_stats=True)\n",
       "      )\n",
       "      (1): BasicBlock(\n",
       "        (conv1): Conv2d(64, 64, kernel_size=(3, 3), stride=(1, 1), padding=(1, 1), bias=False)\n",
       "        (bn1): BatchNorm2d(64, eps=1e-05, momentum=0.1, affine=True, track_running_stats=True)\n",
       "        (relu): ReLU(inplace=True)\n",
       "        (conv2): Conv2d(64, 64, kernel_size=(3, 3), stride=(1, 1), padding=(1, 1), bias=False)\n",
       "        (bn2): BatchNorm2d(64, eps=1e-05, momentum=0.1, affine=True, track_running_stats=True)\n",
       "      )\n",
       "    )\n",
       "    (5): Sequential(\n",
       "      (0): BasicBlock(\n",
       "        (conv1): Conv2d(64, 128, kernel_size=(3, 3), stride=(2, 2), padding=(1, 1), bias=False)\n",
       "        (bn1): BatchNorm2d(128, eps=1e-05, momentum=0.1, affine=True, track_running_stats=True)\n",
       "        (relu): ReLU(inplace=True)\n",
       "        (conv2): Conv2d(128, 128, kernel_size=(3, 3), stride=(1, 1), padding=(1, 1), bias=False)\n",
       "        (bn2): BatchNorm2d(128, eps=1e-05, momentum=0.1, affine=True, track_running_stats=True)\n",
       "        (downsample): Sequential(\n",
       "          (0): Conv2d(64, 128, kernel_size=(1, 1), stride=(2, 2), bias=False)\n",
       "          (1): BatchNorm2d(128, eps=1e-05, momentum=0.1, affine=True, track_running_stats=True)\n",
       "        )\n",
       "      )\n",
       "      (1): BasicBlock(\n",
       "        (conv1): Conv2d(128, 128, kernel_size=(3, 3), stride=(1, 1), padding=(1, 1), bias=False)\n",
       "        (bn1): BatchNorm2d(128, eps=1e-05, momentum=0.1, affine=True, track_running_stats=True)\n",
       "        (relu): ReLU(inplace=True)\n",
       "        (conv2): Conv2d(128, 128, kernel_size=(3, 3), stride=(1, 1), padding=(1, 1), bias=False)\n",
       "        (bn2): BatchNorm2d(128, eps=1e-05, momentum=0.1, affine=True, track_running_stats=True)\n",
       "      )\n",
       "    )\n",
       "    (6): Sequential(\n",
       "      (0): BasicBlock(\n",
       "        (conv1): Conv2d(128, 256, kernel_size=(3, 3), stride=(2, 2), padding=(1, 1), bias=False)\n",
       "        (bn1): BatchNorm2d(256, eps=1e-05, momentum=0.1, affine=True, track_running_stats=True)\n",
       "        (relu): ReLU(inplace=True)\n",
       "        (conv2): Conv2d(256, 256, kernel_size=(3, 3), stride=(1, 1), padding=(1, 1), bias=False)\n",
       "        (bn2): BatchNorm2d(256, eps=1e-05, momentum=0.1, affine=True, track_running_stats=True)\n",
       "        (downsample): Sequential(\n",
       "          (0): Conv2d(128, 256, kernel_size=(1, 1), stride=(2, 2), bias=False)\n",
       "          (1): BatchNorm2d(256, eps=1e-05, momentum=0.1, affine=True, track_running_stats=True)\n",
       "        )\n",
       "      )\n",
       "      (1): BasicBlock(\n",
       "        (conv1): Conv2d(256, 256, kernel_size=(3, 3), stride=(1, 1), padding=(1, 1), bias=False)\n",
       "        (bn1): BatchNorm2d(256, eps=1e-05, momentum=0.1, affine=True, track_running_stats=True)\n",
       "        (relu): ReLU(inplace=True)\n",
       "        (conv2): Conv2d(256, 256, kernel_size=(3, 3), stride=(1, 1), padding=(1, 1), bias=False)\n",
       "        (bn2): BatchNorm2d(256, eps=1e-05, momentum=0.1, affine=True, track_running_stats=True)\n",
       "      )\n",
       "    )\n",
       "  )\n",
       "  (cnn): BlockCNN(\n",
       "    (conv): Conv2d(256, 256, kernel_size=(3, 3), stride=(1, 1), padding=(1, 1))\n",
       "    (bn): BatchNorm2d(256, eps=1e-05, momentum=0.1, affine=True, track_running_stats=True)\n",
       "  )\n",
       "  (linear1): Linear(in_features=1024, out_features=512, bias=True)\n",
       "  (gru1): BlockRNN(\n",
       "    (gru): LSTM(512, 32, batch_first=True, bidirectional=True)\n",
       "  )\n",
       "  (gru2): BlockRNN(\n",
       "    (gru): LSTM(32, 32, batch_first=True, bidirectional=True)\n",
       "  )\n",
       "  (linear2): Linear(in_features=64, out_features=37, bias=True)\n",
       ")"
      ]
     },
     "execution_count": 12,
     "metadata": {},
     "output_type": "execute_result"
    }
   ],
   "source": [
    "ocrTextDetector.load(RESULT_MODEL_PATH)"
   ]
  },
  {
   "cell_type": "code",
   "execution_count": 13,
   "metadata": {
    "scrolled": true
   },
   "outputs": [
    {
     "name": "stdout",
     "output_type": "stream",
     "text": [
      "\n",
      "[INFO] /var/www/nomeroff-net24/NomeroffNet/tools/../../data/./dataset/TextDetector/Ge/autoriaNumberplateOcrGe-2019-07-06/test/img/070240333897_0.png\n",
      "Predicted: n57kx \t\t\t True: nn575xx\n",
      "\n",
      "[INFO] /var/www/nomeroff-net24/NomeroffNet/tools/../../data/./dataset/TextDetector/Ge/autoriaNumberplateOcrGe-2019-07-06/test/img/WW504WO_0.png\n",
      "Predicted: ww504k0 \t\t\t True: ww504w0\n",
      "\n",
      "[INFO] /var/www/nomeroff-net24/NomeroffNet/tools/../../data/./dataset/TextDetector/Ge/autoriaNumberplateOcrGe-2019-07-06/test/img/II672MI_1.png\n",
      "Predicted: aa7995te \t\t\t True: ii672mi\n",
      "\n",
      "[INFO] /var/www/nomeroff-net24/NomeroffNet/tools/../../data/./dataset/TextDetector/Ge/autoriaNumberplateOcrGe-2019-07-06/test/img/070140295957_0.png\n",
      "Predicted: wu904a \t\t\t True: wu906a\n",
      "\n",
      "[INFO] /var/www/nomeroff-net24/NomeroffNet/tools/../../data/./dataset/TextDetector/Ge/autoriaNumberplateOcrGe-2019-07-06/test/img/112734171320_0.png\n",
      "Predicted: rb235ss \t\t\t True: r735ss\n",
      "\n",
      "[INFO] /var/www/nomeroff-net24/NomeroffNet/tools/../../data/./dataset/TextDetector/Ge/autoriaNumberplateOcrGe-2019-07-06/test/img/37135583-37135583_3_0.png\n",
      "Predicted: f947fk \t\t\t True: kf947fk\n",
      "\n",
      "[INFO] /var/www/nomeroff-net24/NomeroffNet/tools/../../data/./dataset/TextDetector/Ge/autoriaNumberplateOcrGe-2019-07-06/test/img/OO-148-MM_0.png\n",
      "Predicted: 0014mm \t\t\t True: 00148mm\n",
      "\n",
      "[INFO] /var/www/nomeroff-net24/NomeroffNet/tools/../../data/./dataset/TextDetector/Ge/autoriaNumberplateOcrGe-2019-07-06/test/img/DUT300_0.png\n",
      "Predicted: bw029bsw \t\t\t True: dut300\n",
      "\n",
      "[INFO] /var/www/nomeroff-net24/NomeroffNet/tools/../../data/./dataset/TextDetector/Ge/autoriaNumberplateOcrGe-2019-07-06/test/img/39387941-39387941_5_0.png\n",
      "Predicted: ih09300 \t\t\t True: ik09300\n",
      "\n",
      "[INFO] /var/www/nomeroff-net24/NomeroffNet/tools/../../data/./dataset/TextDetector/Ge/autoriaNumberplateOcrGe-2019-07-06/test/img/LOR600_0.png\n",
      "Predicted: l0r6000 \t\t\t True: l0r600\n",
      "\n",
      "[INFO] /var/www/nomeroff-net24/NomeroffNet/tools/../../data/./dataset/TextDetector/Ge/autoriaNumberplateOcrGe-2019-07-06/test/img/HO404OH_0.png\n",
      "Predicted: h04000h \t\t\t True: h04040h\n",
      "\n",
      "[INFO] /var/www/nomeroff-net24/NomeroffNet/tools/../../data/./dataset/TextDetector/Ge/autoriaNumberplateOcrGe-2019-07-06/test/img/YY324XX_0.png\n",
      "Predicted: yy321xx \t\t\t True: yy324xx\n",
      "\n",
      "[INFO] /var/www/nomeroff-net24/NomeroffNet/tools/../../data/./dataset/TextDetector/Ge/autoriaNumberplateOcrGe-2019-07-06/test/img/070240335020_0.png\n",
      "Predicted: hyh533 \t\t\t True: hvh533\n",
      "\n",
      "[INFO] /var/www/nomeroff-net24/NomeroffNet/tools/../../data/./dataset/TextDetector/Ge/autoriaNumberplateOcrGe-2019-07-06/test/img/112934176224_0.png\n",
      "Predicted: sx840qs \t\t\t True: s78402s\n",
      "\n",
      "[INFO] /var/www/nomeroff-net24/NomeroffNet/tools/../../data/./dataset/TextDetector/Ge/autoriaNumberplateOcrGe-2019-07-06/test/img/070240325158_0.png\n",
      "Predicted: epe923 \t\t\t True: epe023\n",
      "\n",
      "[INFO] /var/www/nomeroff-net24/NomeroffNet/tools/../../data/./dataset/TextDetector/Ge/autoriaNumberplateOcrGe-2019-07-06/test/img/070240355982_0.png\n",
      "Predicted: kk981dd \t\t\t True: xk981dd\n",
      "\n",
      "[INFO] /var/www/nomeroff-net24/NomeroffNet/tools/../../data/./dataset/TextDetector/Ge/autoriaNumberplateOcrGe-2019-07-06/test/img/15574896365cd567e464889_0.png\n",
      "Predicted: cm117mc \t\t\t True: ch117mc\n",
      "\n",
      "[INFO] /var/www/nomeroff-net24/NomeroffNet/tools/../../data/./dataset/TextDetector/Ge/autoriaNumberplateOcrGe-2019-07-06/test/img/DO521RI_0.png\n",
      "Predicted: 00521ki \t\t\t True: d0521ri\n",
      "\n",
      "[INFO] /var/www/nomeroff-net24/NomeroffNet/tools/../../data/./dataset/TextDetector/Ge/autoriaNumberplateOcrGe-2019-07-06/test/img/IQC001_0.png\n",
      "Predicted: tqc001 \t\t\t True: iqc001\n",
      "\n",
      "[INFO] /var/www/nomeroff-net24/NomeroffNet/tools/../../data/./dataset/TextDetector/Ge/autoriaNumberplateOcrGe-2019-07-06/test/img/39051630-39051630_6_0.png\n",
      "Predicted: gt3097 \t\t\t True: gt3097j\n",
      "\n",
      "[INFO] /var/www/nomeroff-net24/NomeroffNet/tools/../../data/./dataset/TextDetector/Ge/autoriaNumberplateOcrGe-2019-07-06/test/img/063040293062_0.png\n",
      "Predicted: uu920ss \t\t\t True: u0920ss\n",
      "\n",
      "[INFO] /var/www/nomeroff-net24/NomeroffNet/tools/../../data/./dataset/TextDetector/Ge/autoriaNumberplateOcrGe-2019-07-06/test/img/060439723842_0.png\n",
      "Predicted: ge5597a \t\t\t True: ge5597\n",
      "\n",
      "[INFO] /var/www/nomeroff-net24/NomeroffNet/tools/../../data/./dataset/TextDetector/Ge/autoriaNumberplateOcrGe-2019-07-06/test/img/VW046WW_0.png\n",
      "Predicted: c6d04za \t\t\t True: vw046ww\n",
      "\n",
      "[INFO] /var/www/nomeroff-net24/NomeroffNet/tools/../../data/./dataset/TextDetector/Ge/autoriaNumberplateOcrGe-2019-07-06/test/img/KY888IV_0.png\n",
      "Predicted: ky888yv \t\t\t True: ky888iv\n",
      "\n",
      "[INFO] /var/www/nomeroff-net24/NomeroffNet/tools/../../data/./dataset/TextDetector/Ge/autoriaNumberplateOcrGe-2019-07-06/test/img/LG-150-GL_0.png\n",
      "Predicted: lg150gc \t\t\t True: lg150gl\n",
      "\n",
      "[INFO] /var/www/nomeroff-net24/NomeroffNet/tools/../../data/./dataset/TextDetector/Ge/autoriaNumberplateOcrGe-2019-07-06/test/img/AX004CR_0.png\n",
      "Predicted: ax004cm \t\t\t True: ax004cr\n",
      "\n",
      "[INFO] /var/www/nomeroff-net24/NomeroffNet/tools/../../data/./dataset/TextDetector/Ge/autoriaNumberplateOcrGe-2019-07-06/test/img/070440385125_0.png\n",
      "Predicted: zc230x \t\t\t True: zc230cz\n",
      "\n",
      "[INFO] /var/www/nomeroff-net24/NomeroffNet/tools/../../data/./dataset/TextDetector/Ge/autoriaNumberplateOcrGe-2019-07-06/test/img/39363006-39363006_4_0.png\n",
      "Predicted: zn880nz \t\t\t True: zn880wz\n",
      "\n",
      "[INFO] /var/www/nomeroff-net24/NomeroffNet/tools/../../data/./dataset/TextDetector/Ge/autoriaNumberplateOcrGe-2019-07-06/test/img/XATIA_0.png\n",
      "Predicted: xata \t\t\t True: xatia\n",
      "\n",
      "[INFO] /var/www/nomeroff-net24/NomeroffNet/tools/../../data/./dataset/TextDetector/Ge/autoriaNumberplateOcrGe-2019-07-06/test/img/15607660355d0766533b88a_0.png\n",
      "Predicted: 0z53800 \t\t\t True: 0zs3800\n",
      "\n",
      "[INFO] /var/www/nomeroff-net24/NomeroffNet/tools/../../data/./dataset/TextDetector/Ge/autoriaNumberplateOcrGe-2019-07-06/test/img/WT040TW_0.png\n",
      "Predicted: cx0622 \t\t\t True: wt040tw\n",
      "\n",
      "[INFO] /var/www/nomeroff-net24/NomeroffNet/tools/../../data/./dataset/TextDetector/Ge/autoriaNumberplateOcrGe-2019-07-06/test/img/062940279574_0.png\n",
      "Predicted: hi700ls \t\t\t True: mm700ls\n",
      "\n",
      "[INFO] /var/www/nomeroff-net24/NomeroffNet/tools/../../data/./dataset/TextDetector/Ge/autoriaNumberplateOcrGe-2019-07-06/test/img/SS816SS_0.png\n",
      "Predicted: ss815ss \t\t\t True: ss816ss\n",
      "\n",
      "[INFO] /var/www/nomeroff-net24/NomeroffNet/tools/../../data/./dataset/TextDetector/Ge/autoriaNumberplateOcrGe-2019-07-06/test/img/AA435CA_0.png\n",
      "Predicted: aa455ea \t\t\t True: aa435ca\n",
      "\n",
      "[INFO] /var/www/nomeroff-net24/NomeroffNet/tools/../../data/./dataset/TextDetector/Ge/autoriaNumberplateOcrGe-2019-07-06/test/img/XIM005_0.png\n",
      "Predicted: cs899sc \t\t\t True: xim005\n",
      "\n",
      "[INFO] /var/www/nomeroff-net24/NomeroffNet/tools/../../data/./dataset/TextDetector/Ge/autoriaNumberplateOcrGe-2019-07-06/test/img/063040293437_0.png\n",
      "Predicted: rr522rr \t\t\t True: rr527rr\n",
      "\n",
      "[INFO] /var/www/nomeroff-net24/NomeroffNet/tools/../../data/./dataset/TextDetector/Ge/autoriaNumberplateOcrGe-2019-07-06/test/img/061139869255_0.png\n",
      "Predicted: ff584rr \t\t\t True: ff654rr\n",
      "\n",
      "[INFO] /var/www/nomeroff-net24/NomeroffNet/tools/../../data/./dataset/TextDetector/Ge/autoriaNumberplateOcrGe-2019-07-06/test/img/GVB444_0.png\n",
      "Predicted: qv444 \t\t\t True: gvb444\n",
      "\n",
      "[INFO] /var/www/nomeroff-net24/NomeroffNet/tools/../../data/./dataset/TextDetector/Ge/autoriaNumberplateOcrGe-2019-07-06/test/img/JCJ835_0.png\n",
      "Predicted: blcj835 \t\t\t True: jcj835\n",
      "\n",
      "[INFO] /var/www/nomeroff-net24/NomeroffNet/tools/../../data/./dataset/TextDetector/Ge/autoriaNumberplateOcrGe-2019-07-06/test/img/HH055HH_0.png\n",
      "Predicted: bi546ch \t\t\t True: hh055hh\n",
      "\n",
      "[INFO] /var/www/nomeroff-net24/NomeroffNet/tools/../../data/./dataset/TextDetector/Ge/autoriaNumberplateOcrGe-2019-07-06/test/img/GMB500_0.png\n",
      "Predicted: tsb55 \t\t\t True: gmb500\n",
      "\n",
      "[INFO] /var/www/nomeroff-net24/NomeroffNet/tools/../../data/./dataset/TextDetector/Ge/autoriaNumberplateOcrGe-2019-07-06/test/img/070140308578_0.png\n",
      "Predicted: ge9942 \t\t\t True: ge99942\n",
      "\n",
      "[INFO] /var/www/nomeroff-net24/NomeroffNet/tools/../../data/./dataset/TextDetector/Ge/autoriaNumberplateOcrGe-2019-07-06/test/img/WWO931_0.png\n",
      "Predicted: wh0931 \t\t\t True: ww0931\n",
      "\n",
      "[INFO] /var/www/nomeroff-net24/NomeroffNet/tools/../../data/./dataset/TextDetector/Ge/autoriaNumberplateOcrGe-2019-07-06/test/img/062140103812_0.png\n",
      "Predicted: cc634ww \t\t\t True: cc634wv\n",
      "\n",
      "[INFO] /var/www/nomeroff-net24/NomeroffNet/tools/../../data/./dataset/TextDetector/Ge/autoriaNumberplateOcrGe-2019-07-06/test/img/062640222310_0.png\n",
      "Predicted: ua282kk \t\t\t True: uu282kk\n",
      "\n",
      "[INFO] /var/www/nomeroff-net24/NomeroffNet/tools/../../data/./dataset/TextDetector/Ge/autoriaNumberplateOcrGe-2019-07-06/test/img/070240355986_0.png\n",
      "Predicted: gj652 \t\t\t True: jgj652\n"
     ]
    },
    {
     "name": "stdout",
     "output_type": "stream",
     "text": [
      "\n",
      "[INFO] /var/www/nomeroff-net24/NomeroffNet/tools/../../data/./dataset/TextDetector/Ge/autoriaNumberplateOcrGe-2019-07-06/test/img/030636971076_0.png\n",
      "Predicted: ga2049 \t\t\t True: gga2049\n",
      "\n",
      "[INFO] /var/www/nomeroff-net24/NomeroffNet/tools/../../data/./dataset/TextDetector/Ge/autoriaNumberplateOcrGe-2019-07-06/test/img/TBS854_0.png\n",
      "Predicted: tbs584 \t\t\t True: tbs854\n",
      "\n",
      "[INFO] /var/www/nomeroff-net24/NomeroffNet/tools/../../data/./dataset/TextDetector/Ge/autoriaNumberplateOcrGe-2019-07-06/test/img/39409354-39409354_1_0.png\n",
      "Predicted: t1472 \t\t\t True: gt1472\n",
      "\n",
      "[INFO] /var/www/nomeroff-net24/NomeroffNet/tools/../../data/./dataset/TextDetector/Ge/autoriaNumberplateOcrGe-2019-07-06/test/img/OO001AO_0.png\n",
      "Predicted: dd001a0 \t\t\t True: 00001a0\n",
      "\n",
      "[INFO] /var/www/nomeroff-net24/NomeroffNet/tools/../../data/./dataset/TextDetector/Ge/autoriaNumberplateOcrGe-2019-07-06/test/img/070140322468_1.png\n",
      "Predicted: br519rf \t\t\t True: b519rf\n",
      "\n",
      "[INFO] /var/www/nomeroff-net24/NomeroffNet/tools/../../data/./dataset/TextDetector/Ge/autoriaNumberplateOcrGe-2019-07-06/test/img/070240356244_0.png\n",
      "Predicted: ig1511 \t\t\t True: gg1511\n",
      "\n",
      "[INFO] /var/www/nomeroff-net24/NomeroffNet/tools/../../data/./dataset/TextDetector/Ge/autoriaNumberplateOcrGe-2019-07-06/test/img/JII-997_0.png\n",
      "Predicted: ji97 \t\t\t True: jii997\n",
      "\n",
      "[INFO] /var/www/nomeroff-net24/NomeroffNet/tools/../../data/./dataset/TextDetector/Ge/autoriaNumberplateOcrGe-2019-07-06/test/img/31471652-31471652_7_0.png\n",
      "Predicted: gc811gg \t\t\t True: cc811gg\n",
      "\n",
      "[INFO] /var/www/nomeroff-net24/NomeroffNet/tools/../../data/./dataset/TextDetector/Ge/autoriaNumberplateOcrGe-2019-07-06/test/img/062040073815_0.png\n",
      "Predicted: nn590hn \t\t\t True: nn590nn\n",
      "\n",
      "[INFO] /var/www/nomeroff-net24/NomeroffNet/tools/../../data/./dataset/TextDetector/Ge/autoriaNumberplateOcrGe-2019-07-06/test/img/063040295415_2.png\n",
      "Predicted: zz708bq \t\t\t True: zz4549\n",
      "\n",
      "[INFO] /var/www/nomeroff-net24/NomeroffNet/tools/../../data/./dataset/TextDetector/Ge/autoriaNumberplateOcrGe-2019-07-06/test/img/070240349977_1.png\n",
      "Predicted: bb202n7 \t\t\t True: bb70zt\n",
      "\n",
      "[INFO] /var/www/nomeroff-net24/NomeroffNet/tools/../../data/./dataset/TextDetector/Ge/autoriaNumberplateOcrGe-2019-07-06/test/img/EC999MS_0.png\n",
      "Predicted: ec999s \t\t\t True: ec999ms\n",
      "\n",
      "[INFO] /var/www/nomeroff-net24/NomeroffNet/tools/../../data/./dataset/TextDetector/Ge/autoriaNumberplateOcrGe-2019-07-06/test/img/39357537-39357537_3_0.png\n",
      "Predicted: tn635nt \t\t\t True: tm635nt\n",
      "\n",
      "[INFO] /var/www/nomeroff-net24/NomeroffNet/tools/../../data/./dataset/TextDetector/Ge/autoriaNumberplateOcrGe-2019-07-06/test/img/SP787PS_0.png\n",
      "Predicted: ss787ps \t\t\t True: sp787ps\n",
      "\n",
      "[INFO] /var/www/nomeroff-net24/NomeroffNet/tools/../../data/./dataset/TextDetector/Ge/autoriaNumberplateOcrGe-2019-07-06/test/img/052739566881_0.png\n",
      "Predicted: lb5000 \t\t\t True: lb50000\n",
      "\n",
      "[INFO] /var/www/nomeroff-net24/NomeroffNet/tools/../../data/./dataset/TextDetector/Ge/autoriaNumberplateOcrGe-2019-07-06/test/img/020135982507_0.png\n",
      "Predicted: hf097fh \t\t\t True: hf007gh\n",
      "\n",
      "[INFO] /var/www/nomeroff-net24/NomeroffNet/tools/../../data/./dataset/TextDetector/Ge/autoriaNumberplateOcrGe-2019-07-06/test/img/070340356628_0.png\n",
      "Predicted: yk001ka \t\t\t True: bk80r0\n",
      "\n",
      "[INFO] /var/www/nomeroff-net24/NomeroffNet/tools/../../data/./dataset/TextDetector/Ge/autoriaNumberplateOcrGe-2019-07-06/test/img/070340383232_0.png\n",
      "Predicted: get1453 \t\t\t True: gt1453\n",
      "\n",
      "[INFO] /var/www/nomeroff-net24/NomeroffNet/tools/../../data/./dataset/TextDetector/Ge/autoriaNumberplateOcrGe-2019-07-06/test/img/070140296317_0.png\n",
      "Predicted: jv197 \t\t\t True: jvj197\n",
      "\n",
      "[INFO] /var/www/nomeroff-net24/NomeroffNet/tools/../../data/./dataset/TextDetector/Ge/autoriaNumberplateOcrGe-2019-07-06/test/img/VD325DV_1.png\n",
      "Predicted: vm325dv \t\t\t True: vd325dv\n",
      "\n",
      "[INFO] /var/www/nomeroff-net24/NomeroffNet/tools/../../data/./dataset/TextDetector/Ge/autoriaNumberplateOcrGe-2019-07-06/test/img/070140324633_0.png\n",
      "Predicted: vu989vu \t\t\t True: vu989vd\n",
      "Testing Accuracy:  0.9759770527070635\n"
     ]
    },
    {
     "data": {
      "text/plain": [
       "0.9759770527070635"
      ]
     },
     "execution_count": 13,
     "metadata": {},
     "output_type": "execute_result"
    }
   ],
   "source": [
    "ocrTextDetector.test_acc(verbose=True)"
   ]
  },
  {
   "cell_type": "code",
   "execution_count": 14,
   "metadata": {},
   "outputs": [],
   "source": [
    "#ocrTextDetector.val_acc(verbose=False)\n",
    "#ocrTextDetector.train_acc(verbose=False)"
   ]
  },
  {
   "cell_type": "markdown",
   "metadata": {},
   "source": [
    "## than train with augumentation"
   ]
  },
  {
   "cell_type": "code",
   "execution_count": 8,
   "metadata": {},
   "outputs": [],
   "source": [
    "class ge(OCR):\n",
    "    def __init__(self):\n",
    "        OCR.__init__(self)\n",
    "        # only for usage model\n",
    "        # in train generate automaticly\n",
    "        self.letters = [\"0\", \"1\", \"2\", \"3\", \"4\", \"5\", \"6\", \"7\", \"8\", \"9\", \"A\", \"B\", \"C\", \"D\", \"E\", \"F\", \"G\", \"H\", \"I\",\n",
    "                        \"J\", \"K\", \"L\", \"M\", \"N\", \"P\", \"Q\", \"R\", \"S\", \"T\", \"U\", \"V\", \"W\", \"X\", \"Y\", \"Z\"]\n",
    "\n",
    "        \n",
    "        # Train hyperparameters\n",
    "        self.batch_size = 64\n",
    "        self.epochs = 35\n",
    "        self.gpus = 1"
   ]
  },
  {
   "cell_type": "code",
   "execution_count": 9,
   "metadata": {},
   "outputs": [
    {
     "name": "stdout",
     "output_type": "stream",
     "text": [
      "GET ALPHABET\n",
      "Max plate length in \"val\": 7\n",
      "Max plate length in \"train\": 7\n",
      "Max plate length in \"test\": 7\n",
      "Letters train  {'4', 'U', 'Q', '0', 'H', '1', 'F', 'K', '2', 'V', 'J', 'I', 'M', '6', 'E', 'X', 'D', 'W', 'R', 'P', 'G', '7', 'Z', 'Y', 'A', '5', '9', '3', '8', 'N', 'T', 'L', 'C', 'S', 'B'}\n",
      "Letters val  {'4', 'U', 'Q', '0', 'H', '1', 'F', 'K', '2', 'V', 'J', 'I', '6', 'M', 'E', 'X', 'D', 'W', 'R', 'P', 'G', '7', 'Z', 'Y', 'A', '5', '9', '3', '8', 'N', 'T', 'L', 'C', 'S', 'B'}\n",
      "Letters test  {'4', 'U', 'Q', '0', 'H', '1', 'F', 'K', 'J', '2', 'V', 'I', '6', 'M', 'E', 'X', 'D', 'W', 'R', 'P', 'G', '7', 'Z', 'Y', 'A', '5', '9', '3', '8', 'N', 'T', 'L', 'C', 'S', 'B'}\n",
      "Max plate length in train, test and val do match\n",
      "Letters in train, val and test do match\n",
      "Letters: 0 1 2 3 4 5 6 7 8 9 A B C D E F G H I J K L M N P Q R S T U V W X Y Z\n",
      "\n",
      "EXPLAIN DATA TRANSFORMATIONS\n",
      "START BUILD DATA\n",
      "DATA PREPARED\n"
     ]
    }
   ],
   "source": [
    "ocrTextDetector = ge()\n",
    "model = ocrTextDetector.prepare(PATH_TO_DATASET, use_aug=True, num_workers=24)"
   ]
  },
  {
   "cell_type": "code",
   "execution_count": 12,
   "metadata": {},
   "outputs": [
    {
     "data": {
      "text/plain": [
       "NPOcrNet(\n",
       "  (resnet): Sequential(\n",
       "    (0): Conv2d(3, 64, kernel_size=(7, 7), stride=(2, 2), padding=(3, 3), bias=False)\n",
       "    (1): BatchNorm2d(64, eps=1e-05, momentum=0.1, affine=True, track_running_stats=True)\n",
       "    (2): ReLU(inplace=True)\n",
       "    (3): MaxPool2d(kernel_size=3, stride=2, padding=1, dilation=1, ceil_mode=False)\n",
       "    (4): Sequential(\n",
       "      (0): BasicBlock(\n",
       "        (conv1): Conv2d(64, 64, kernel_size=(3, 3), stride=(1, 1), padding=(1, 1), bias=False)\n",
       "        (bn1): BatchNorm2d(64, eps=1e-05, momentum=0.1, affine=True, track_running_stats=True)\n",
       "        (relu): ReLU(inplace=True)\n",
       "        (conv2): Conv2d(64, 64, kernel_size=(3, 3), stride=(1, 1), padding=(1, 1), bias=False)\n",
       "        (bn2): BatchNorm2d(64, eps=1e-05, momentum=0.1, affine=True, track_running_stats=True)\n",
       "      )\n",
       "      (1): BasicBlock(\n",
       "        (conv1): Conv2d(64, 64, kernel_size=(3, 3), stride=(1, 1), padding=(1, 1), bias=False)\n",
       "        (bn1): BatchNorm2d(64, eps=1e-05, momentum=0.1, affine=True, track_running_stats=True)\n",
       "        (relu): ReLU(inplace=True)\n",
       "        (conv2): Conv2d(64, 64, kernel_size=(3, 3), stride=(1, 1), padding=(1, 1), bias=False)\n",
       "        (bn2): BatchNorm2d(64, eps=1e-05, momentum=0.1, affine=True, track_running_stats=True)\n",
       "      )\n",
       "    )\n",
       "    (5): Sequential(\n",
       "      (0): BasicBlock(\n",
       "        (conv1): Conv2d(64, 128, kernel_size=(3, 3), stride=(2, 2), padding=(1, 1), bias=False)\n",
       "        (bn1): BatchNorm2d(128, eps=1e-05, momentum=0.1, affine=True, track_running_stats=True)\n",
       "        (relu): ReLU(inplace=True)\n",
       "        (conv2): Conv2d(128, 128, kernel_size=(3, 3), stride=(1, 1), padding=(1, 1), bias=False)\n",
       "        (bn2): BatchNorm2d(128, eps=1e-05, momentum=0.1, affine=True, track_running_stats=True)\n",
       "        (downsample): Sequential(\n",
       "          (0): Conv2d(64, 128, kernel_size=(1, 1), stride=(2, 2), bias=False)\n",
       "          (1): BatchNorm2d(128, eps=1e-05, momentum=0.1, affine=True, track_running_stats=True)\n",
       "        )\n",
       "      )\n",
       "      (1): BasicBlock(\n",
       "        (conv1): Conv2d(128, 128, kernel_size=(3, 3), stride=(1, 1), padding=(1, 1), bias=False)\n",
       "        (bn1): BatchNorm2d(128, eps=1e-05, momentum=0.1, affine=True, track_running_stats=True)\n",
       "        (relu): ReLU(inplace=True)\n",
       "        (conv2): Conv2d(128, 128, kernel_size=(3, 3), stride=(1, 1), padding=(1, 1), bias=False)\n",
       "        (bn2): BatchNorm2d(128, eps=1e-05, momentum=0.1, affine=True, track_running_stats=True)\n",
       "      )\n",
       "    )\n",
       "    (6): Sequential(\n",
       "      (0): BasicBlock(\n",
       "        (conv1): Conv2d(128, 256, kernel_size=(3, 3), stride=(2, 2), padding=(1, 1), bias=False)\n",
       "        (bn1): BatchNorm2d(256, eps=1e-05, momentum=0.1, affine=True, track_running_stats=True)\n",
       "        (relu): ReLU(inplace=True)\n",
       "        (conv2): Conv2d(256, 256, kernel_size=(3, 3), stride=(1, 1), padding=(1, 1), bias=False)\n",
       "        (bn2): BatchNorm2d(256, eps=1e-05, momentum=0.1, affine=True, track_running_stats=True)\n",
       "        (downsample): Sequential(\n",
       "          (0): Conv2d(128, 256, kernel_size=(1, 1), stride=(2, 2), bias=False)\n",
       "          (1): BatchNorm2d(256, eps=1e-05, momentum=0.1, affine=True, track_running_stats=True)\n",
       "        )\n",
       "      )\n",
       "      (1): BasicBlock(\n",
       "        (conv1): Conv2d(256, 256, kernel_size=(3, 3), stride=(1, 1), padding=(1, 1), bias=False)\n",
       "        (bn1): BatchNorm2d(256, eps=1e-05, momentum=0.1, affine=True, track_running_stats=True)\n",
       "        (relu): ReLU(inplace=True)\n",
       "        (conv2): Conv2d(256, 256, kernel_size=(3, 3), stride=(1, 1), padding=(1, 1), bias=False)\n",
       "        (bn2): BatchNorm2d(256, eps=1e-05, momentum=0.1, affine=True, track_running_stats=True)\n",
       "      )\n",
       "    )\n",
       "  )\n",
       "  (cnn): BlockCNN(\n",
       "    (conv): Conv2d(256, 256, kernel_size=(3, 3), stride=(1, 1), padding=(1, 1))\n",
       "    (bn): BatchNorm2d(256, eps=1e-05, momentum=0.1, affine=True, track_running_stats=True)\n",
       "  )\n",
       "  (linear1): Linear(in_features=1024, out_features=512, bias=True)\n",
       "  (gru1): BlockRNN(\n",
       "    (gru): LSTM(512, 32, batch_first=True, bidirectional=True)\n",
       "  )\n",
       "  (gru2): BlockRNN(\n",
       "    (gru): LSTM(32, 32, batch_first=True, bidirectional=True)\n",
       "  )\n",
       "  (linear2): Linear(in_features=64, out_features=36, bias=True)\n",
       ")"
      ]
     },
     "execution_count": 12,
     "metadata": {},
     "output_type": "execute_result"
    }
   ],
   "source": [
    "#ocrTextDetector.load(RESULT_MODEL_PATH)\n",
    "ocrTextDetector.load('/var/www/nomeroff-net24/models/anpr_ocr_ge_2021_08_30_pytorch_lightning.ckpt.5')"
   ]
  },
  {
   "cell_type": "code",
   "execution_count": 11,
   "metadata": {},
   "outputs": [
    {
     "name": "stderr",
     "output_type": "stream",
     "text": [
      "GPU available: True, used: True\n",
      "TPU available: False, using: 0 TPU cores\n",
      "LOCAL_RANK: 0 - CUDA_VISIBLE_DEVICES: [0]\n",
      "\n",
      "  | Name    | Type       | Params\n",
      "---------------------------------------\n",
      "0 | resnet  | Sequential | 2.8 M \n",
      "1 | cnn     | BlockCNN   | 590 K \n",
      "2 | linear1 | Linear     | 524 K \n",
      "3 | gru1    | BlockRNN   | 139 K \n",
      "4 | gru2    | BlockRNN   | 16.9 K\n",
      "5 | linear2 | Linear     | 2.3 K \n",
      "---------------------------------------\n",
      "4.1 M     Trainable params\n",
      "0         Non-trainable params\n",
      "4.1 M     Total params\n",
      "16.229    Total estimated model params size (MB)\n"
     ]
    },
    {
     "data": {
      "application/vnd.jupyter.widget-view+json": {
       "model_id": "6c0ac56d640e4d19b3b1beff959589a1",
       "version_major": 2,
       "version_minor": 0
      },
      "text/plain": [
       "HBox(children=(HTML(value='Finding best initial lr'), FloatProgress(value=0.0), HTML(value='')))"
      ]
     },
     "metadata": {},
     "output_type": "display_data"
    },
    {
     "name": "stderr",
     "output_type": "stream",
     "text": [
      "Restored states from the checkpoint file at /var/www/nomeroff-net24/train/lr_find_temp_model.ckpt\n",
      "Global seed set to 8\n"
     ]
    },
    {
     "name": "stdout",
     "output_type": "stream",
     "text": [
      "Found lr: 0.5011872336272719\n",
      "\n"
     ]
    },
    {
     "name": "stderr",
     "output_type": "stream",
     "text": [
      "GPU available: True, used: True\n",
      "TPU available: False, using: 0 TPU cores\n",
      "LOCAL_RANK: 0 - CUDA_VISIBLE_DEVICES: [0]\n"
     ]
    },
    {
     "data": {
      "application/vnd.jupyter.widget-view+json": {
       "model_id": "",
       "version_major": 2,
       "version_minor": 0
      },
      "text/plain": [
       "HBox(children=(HTML(value='Validation sanity check'), FloatProgress(value=1.0, bar_style='info', layout=Layout…"
      ]
     },
     "metadata": {},
     "output_type": "display_data"
    },
    {
     "name": "stderr",
     "output_type": "stream",
     "text": [
      "Global seed set to 8\n"
     ]
    },
    {
     "data": {
      "application/vnd.jupyter.widget-view+json": {
       "model_id": "c5277e905cfe4823b7d715bb541269c7",
       "version_major": 2,
       "version_minor": 0
      },
      "text/plain": [
       "HBox(children=(HTML(value='Training'), FloatProgress(value=1.0, bar_style='info', layout=Layout(flex='2'), max…"
      ]
     },
     "metadata": {},
     "output_type": "display_data"
    },
    {
     "data": {
      "application/vnd.jupyter.widget-view+json": {
       "model_id": "",
       "version_major": 2,
       "version_minor": 0
      },
      "text/plain": [
       "HBox(children=(HTML(value='Validating'), FloatProgress(value=1.0, bar_style='info', layout=Layout(flex='2'), m…"
      ]
     },
     "metadata": {},
     "output_type": "display_data"
    },
    {
     "data": {
      "application/vnd.jupyter.widget-view+json": {
       "model_id": "",
       "version_major": 2,
       "version_minor": 0
      },
      "text/plain": [
       "HBox(children=(HTML(value='Validating'), FloatProgress(value=1.0, bar_style='info', layout=Layout(flex='2'), m…"
      ]
     },
     "metadata": {},
     "output_type": "display_data"
    },
    {
     "data": {
      "application/vnd.jupyter.widget-view+json": {
       "model_id": "",
       "version_major": 2,
       "version_minor": 0
      },
      "text/plain": [
       "HBox(children=(HTML(value='Validating'), FloatProgress(value=1.0, bar_style='info', layout=Layout(flex='2'), m…"
      ]
     },
     "metadata": {},
     "output_type": "display_data"
    },
    {
     "data": {
      "application/vnd.jupyter.widget-view+json": {
       "model_id": "",
       "version_major": 2,
       "version_minor": 0
      },
      "text/plain": [
       "HBox(children=(HTML(value='Validating'), FloatProgress(value=1.0, bar_style='info', layout=Layout(flex='2'), m…"
      ]
     },
     "metadata": {},
     "output_type": "display_data"
    },
    {
     "data": {
      "application/vnd.jupyter.widget-view+json": {
       "model_id": "",
       "version_major": 2,
       "version_minor": 0
      },
      "text/plain": [
       "HBox(children=(HTML(value='Validating'), FloatProgress(value=1.0, bar_style='info', layout=Layout(flex='2'), m…"
      ]
     },
     "metadata": {},
     "output_type": "display_data"
    },
    {
     "data": {
      "application/vnd.jupyter.widget-view+json": {
       "model_id": "",
       "version_major": 2,
       "version_minor": 0
      },
      "text/plain": [
       "HBox(children=(HTML(value='Validating'), FloatProgress(value=1.0, bar_style='info', layout=Layout(flex='2'), m…"
      ]
     },
     "metadata": {},
     "output_type": "display_data"
    },
    {
     "data": {
      "application/vnd.jupyter.widget-view+json": {
       "model_id": "",
       "version_major": 2,
       "version_minor": 0
      },
      "text/plain": [
       "HBox(children=(HTML(value='Validating'), FloatProgress(value=1.0, bar_style='info', layout=Layout(flex='2'), m…"
      ]
     },
     "metadata": {},
     "output_type": "display_data"
    },
    {
     "data": {
      "application/vnd.jupyter.widget-view+json": {
       "model_id": "",
       "version_major": 2,
       "version_minor": 0
      },
      "text/plain": [
       "HBox(children=(HTML(value='Validating'), FloatProgress(value=1.0, bar_style='info', layout=Layout(flex='2'), m…"
      ]
     },
     "metadata": {},
     "output_type": "display_data"
    },
    {
     "data": {
      "application/vnd.jupyter.widget-view+json": {
       "model_id": "",
       "version_major": 2,
       "version_minor": 0
      },
      "text/plain": [
       "HBox(children=(HTML(value='Validating'), FloatProgress(value=1.0, bar_style='info', layout=Layout(flex='2'), m…"
      ]
     },
     "metadata": {},
     "output_type": "display_data"
    },
    {
     "data": {
      "application/vnd.jupyter.widget-view+json": {
       "model_id": "",
       "version_major": 2,
       "version_minor": 0
      },
      "text/plain": [
       "HBox(children=(HTML(value='Validating'), FloatProgress(value=1.0, bar_style='info', layout=Layout(flex='2'), m…"
      ]
     },
     "metadata": {},
     "output_type": "display_data"
    },
    {
     "data": {
      "application/vnd.jupyter.widget-view+json": {
       "model_id": "",
       "version_major": 2,
       "version_minor": 0
      },
      "text/plain": [
       "HBox(children=(HTML(value='Validating'), FloatProgress(value=1.0, bar_style='info', layout=Layout(flex='2'), m…"
      ]
     },
     "metadata": {},
     "output_type": "display_data"
    },
    {
     "data": {
      "application/vnd.jupyter.widget-view+json": {
       "model_id": "",
       "version_major": 2,
       "version_minor": 0
      },
      "text/plain": [
       "HBox(children=(HTML(value='Validating'), FloatProgress(value=1.0, bar_style='info', layout=Layout(flex='2'), m…"
      ]
     },
     "metadata": {},
     "output_type": "display_data"
    },
    {
     "data": {
      "application/vnd.jupyter.widget-view+json": {
       "model_id": "",
       "version_major": 2,
       "version_minor": 0
      },
      "text/plain": [
       "HBox(children=(HTML(value='Validating'), FloatProgress(value=1.0, bar_style='info', layout=Layout(flex='2'), m…"
      ]
     },
     "metadata": {},
     "output_type": "display_data"
    },
    {
     "data": {
      "application/vnd.jupyter.widget-view+json": {
       "model_id": "",
       "version_major": 2,
       "version_minor": 0
      },
      "text/plain": [
       "HBox(children=(HTML(value='Validating'), FloatProgress(value=1.0, bar_style='info', layout=Layout(flex='2'), m…"
      ]
     },
     "metadata": {},
     "output_type": "display_data"
    },
    {
     "data": {
      "application/vnd.jupyter.widget-view+json": {
       "model_id": "",
       "version_major": 2,
       "version_minor": 0
      },
      "text/plain": [
       "HBox(children=(HTML(value='Validating'), FloatProgress(value=1.0, bar_style='info', layout=Layout(flex='2'), m…"
      ]
     },
     "metadata": {},
     "output_type": "display_data"
    },
    {
     "data": {
      "application/vnd.jupyter.widget-view+json": {
       "model_id": "",
       "version_major": 2,
       "version_minor": 0
      },
      "text/plain": [
       "HBox(children=(HTML(value='Validating'), FloatProgress(value=1.0, bar_style='info', layout=Layout(flex='2'), m…"
      ]
     },
     "metadata": {},
     "output_type": "display_data"
    },
    {
     "data": {
      "application/vnd.jupyter.widget-view+json": {
       "model_id": "",
       "version_major": 2,
       "version_minor": 0
      },
      "text/plain": [
       "HBox(children=(HTML(value='Validating'), FloatProgress(value=1.0, bar_style='info', layout=Layout(flex='2'), m…"
      ]
     },
     "metadata": {},
     "output_type": "display_data"
    },
    {
     "data": {
      "application/vnd.jupyter.widget-view+json": {
       "model_id": "",
       "version_major": 2,
       "version_minor": 0
      },
      "text/plain": [
       "HBox(children=(HTML(value='Validating'), FloatProgress(value=1.0, bar_style='info', layout=Layout(flex='2'), m…"
      ]
     },
     "metadata": {},
     "output_type": "display_data"
    },
    {
     "data": {
      "application/vnd.jupyter.widget-view+json": {
       "model_id": "",
       "version_major": 2,
       "version_minor": 0
      },
      "text/plain": [
       "HBox(children=(HTML(value='Validating'), FloatProgress(value=1.0, bar_style='info', layout=Layout(flex='2'), m…"
      ]
     },
     "metadata": {},
     "output_type": "display_data"
    },
    {
     "data": {
      "application/vnd.jupyter.widget-view+json": {
       "model_id": "",
       "version_major": 2,
       "version_minor": 0
      },
      "text/plain": [
       "HBox(children=(HTML(value='Validating'), FloatProgress(value=1.0, bar_style='info', layout=Layout(flex='2'), m…"
      ]
     },
     "metadata": {},
     "output_type": "display_data"
    },
    {
     "data": {
      "application/vnd.jupyter.widget-view+json": {
       "model_id": "",
       "version_major": 2,
       "version_minor": 0
      },
      "text/plain": [
       "HBox(children=(HTML(value='Validating'), FloatProgress(value=1.0, bar_style='info', layout=Layout(flex='2'), m…"
      ]
     },
     "metadata": {},
     "output_type": "display_data"
    },
    {
     "data": {
      "application/vnd.jupyter.widget-view+json": {
       "model_id": "",
       "version_major": 2,
       "version_minor": 0
      },
      "text/plain": [
       "HBox(children=(HTML(value='Validating'), FloatProgress(value=1.0, bar_style='info', layout=Layout(flex='2'), m…"
      ]
     },
     "metadata": {},
     "output_type": "display_data"
    },
    {
     "data": {
      "application/vnd.jupyter.widget-view+json": {
       "model_id": "",
       "version_major": 2,
       "version_minor": 0
      },
      "text/plain": [
       "HBox(children=(HTML(value='Validating'), FloatProgress(value=1.0, bar_style='info', layout=Layout(flex='2'), m…"
      ]
     },
     "metadata": {},
     "output_type": "display_data"
    },
    {
     "name": "stdout",
     "output_type": "stream",
     "text": [
      "Epoch    23: reducing learning rate of group 0 to 2.0000e-03.\n"
     ]
    },
    {
     "data": {
      "application/vnd.jupyter.widget-view+json": {
       "model_id": "",
       "version_major": 2,
       "version_minor": 0
      },
      "text/plain": [
       "HBox(children=(HTML(value='Validating'), FloatProgress(value=1.0, bar_style='info', layout=Layout(flex='2'), m…"
      ]
     },
     "metadata": {},
     "output_type": "display_data"
    },
    {
     "data": {
      "application/vnd.jupyter.widget-view+json": {
       "model_id": "",
       "version_major": 2,
       "version_minor": 0
      },
      "text/plain": [
       "HBox(children=(HTML(value='Validating'), FloatProgress(value=1.0, bar_style='info', layout=Layout(flex='2'), m…"
      ]
     },
     "metadata": {},
     "output_type": "display_data"
    },
    {
     "data": {
      "application/vnd.jupyter.widget-view+json": {
       "model_id": "",
       "version_major": 2,
       "version_minor": 0
      },
      "text/plain": [
       "HBox(children=(HTML(value='Validating'), FloatProgress(value=1.0, bar_style='info', layout=Layout(flex='2'), m…"
      ]
     },
     "metadata": {},
     "output_type": "display_data"
    },
    {
     "data": {
      "application/vnd.jupyter.widget-view+json": {
       "model_id": "",
       "version_major": 2,
       "version_minor": 0
      },
      "text/plain": [
       "HBox(children=(HTML(value='Validating'), FloatProgress(value=1.0, bar_style='info', layout=Layout(flex='2'), m…"
      ]
     },
     "metadata": {},
     "output_type": "display_data"
    },
    {
     "data": {
      "application/vnd.jupyter.widget-view+json": {
       "model_id": "",
       "version_major": 2,
       "version_minor": 0
      },
      "text/plain": [
       "HBox(children=(HTML(value='Validating'), FloatProgress(value=1.0, bar_style='info', layout=Layout(flex='2'), m…"
      ]
     },
     "metadata": {},
     "output_type": "display_data"
    },
    {
     "data": {
      "application/vnd.jupyter.widget-view+json": {
       "model_id": "",
       "version_major": 2,
       "version_minor": 0
      },
      "text/plain": [
       "HBox(children=(HTML(value='Validating'), FloatProgress(value=1.0, bar_style='info', layout=Layout(flex='2'), m…"
      ]
     },
     "metadata": {},
     "output_type": "display_data"
    },
    {
     "data": {
      "application/vnd.jupyter.widget-view+json": {
       "model_id": "",
       "version_major": 2,
       "version_minor": 0
      },
      "text/plain": [
       "HBox(children=(HTML(value='Validating'), FloatProgress(value=1.0, bar_style='info', layout=Layout(flex='2'), m…"
      ]
     },
     "metadata": {},
     "output_type": "display_data"
    },
    {
     "data": {
      "application/vnd.jupyter.widget-view+json": {
       "model_id": "",
       "version_major": 2,
       "version_minor": 0
      },
      "text/plain": [
       "HBox(children=(HTML(value='Validating'), FloatProgress(value=1.0, bar_style='info', layout=Layout(flex='2'), m…"
      ]
     },
     "metadata": {},
     "output_type": "display_data"
    },
    {
     "data": {
      "application/vnd.jupyter.widget-view+json": {
       "model_id": "",
       "version_major": 2,
       "version_minor": 0
      },
      "text/plain": [
       "HBox(children=(HTML(value='Validating'), FloatProgress(value=1.0, bar_style='info', layout=Layout(flex='2'), m…"
      ]
     },
     "metadata": {},
     "output_type": "display_data"
    },
    {
     "data": {
      "application/vnd.jupyter.widget-view+json": {
       "model_id": "",
       "version_major": 2,
       "version_minor": 0
      },
      "text/plain": [
       "HBox(children=(HTML(value='Validating'), FloatProgress(value=1.0, bar_style='info', layout=Layout(flex='2'), m…"
      ]
     },
     "metadata": {},
     "output_type": "display_data"
    },
    {
     "name": "stdout",
     "output_type": "stream",
     "text": [
      "Epoch    33: reducing learning rate of group 0 to 2.0000e-04.\n"
     ]
    },
    {
     "data": {
      "application/vnd.jupyter.widget-view+json": {
       "model_id": "",
       "version_major": 2,
       "version_minor": 0
      },
      "text/plain": [
       "HBox(children=(HTML(value='Validating'), FloatProgress(value=1.0, bar_style='info', layout=Layout(flex='2'), m…"
      ]
     },
     "metadata": {},
     "output_type": "display_data"
    },
    {
     "data": {
      "application/vnd.jupyter.widget-view+json": {
       "model_id": "",
       "version_major": 2,
       "version_minor": 0
      },
      "text/plain": [
       "HBox(children=(HTML(value='Validating'), FloatProgress(value=1.0, bar_style='info', layout=Layout(flex='2'), m…"
      ]
     },
     "metadata": {},
     "output_type": "display_data"
    },
    {
     "name": "stderr",
     "output_type": "stream",
     "text": [
      "LOCAL_RANK: 0 - CUDA_VISIBLE_DEVICES: [0]\n"
     ]
    },
    {
     "name": "stdout",
     "output_type": "stream",
     "text": [
      "\n",
      "[INFO] best model path /var/www/nomeroff-net24/NomeroffNet/data/logs/ocr/epoch=26-step=10583-v1.ckpt\n"
     ]
    },
    {
     "data": {
      "application/vnd.jupyter.widget-view+json": {
       "model_id": "5584ae07f7c84d84b2d89bf1babfdf1b",
       "version_major": 2,
       "version_minor": 0
      },
      "text/plain": [
       "HBox(children=(HTML(value='Testing'), FloatProgress(value=1.0, bar_style='info', layout=Layout(flex='2'), max=…"
      ]
     },
     "metadata": {},
     "output_type": "display_data"
    },
    {
     "name": "stdout",
     "output_type": "stream",
     "text": [
      "\n",
      "--------------------------------------------------------------------------------\n",
      "DATALOADER:0 TEST RESULTS\n",
      "{'test_loss': 0.06415875256061554}\n",
      "--------------------------------------------------------------------------------\n",
      "\n",
      "[INFO] /var/www/nomeroff-net24/NomeroffNet/tools/../../data/./dataset/TextDetector/Ge/autoriaNumberplateOcrGe-2019-07-06/test/img/II672MI_1.png\n",
      "Predicted: aa795te \t\t\t True: ii672mi\n",
      "\n",
      "[INFO] /var/www/nomeroff-net24/NomeroffNet/tools/../../data/./dataset/TextDetector/Ge/autoriaNumberplateOcrGe-2019-07-06/test/img/070140295957_0.png\n",
      "Predicted: wu100aa \t\t\t True: wu906a\n",
      "\n",
      "[INFO] /var/www/nomeroff-net24/NomeroffNet/tools/../../data/./dataset/TextDetector/Ge/autoriaNumberplateOcrGe-2019-07-06/test/img/112734171320_0.png\n",
      "Predicted: bb225ss \t\t\t True: r735ss\n",
      "\n",
      "[INFO] /var/www/nomeroff-net24/NomeroffNet/tools/../../data/./dataset/TextDetector/Ge/autoriaNumberplateOcrGe-2019-07-06/test/img/37135583-37135583_3_0.png\n",
      "Predicted: ks94fk \t\t\t True: kf947fk\n",
      "\n",
      "[INFO] /var/www/nomeroff-net24/NomeroffNet/tools/../../data/./dataset/TextDetector/Ge/autoriaNumberplateOcrGe-2019-07-06/test/img/AA559AA_2.png\n",
      "Predicted: sbr08 \t\t\t True: sbr888\n",
      "\n",
      "[INFO] /var/www/nomeroff-net24/NomeroffNet/tools/../../data/./dataset/TextDetector/Ge/autoriaNumberplateOcrGe-2019-07-06/test/img/022736724232_0.png\n",
      "Predicted: gt23511 \t\t\t True: gt2351\n",
      "\n",
      "[INFO] /var/www/nomeroff-net24/NomeroffNet/tools/../../data/./dataset/TextDetector/Ge/autoriaNumberplateOcrGe-2019-07-06/test/img/DUT300_0.png\n",
      "Predicted: bw028bw \t\t\t True: dut300\n",
      "\n",
      "[INFO] /var/www/nomeroff-net24/NomeroffNet/tools/../../data/./dataset/TextDetector/Ge/autoriaNumberplateOcrGe-2019-07-06/test/img/062540185472_0.png\n",
      "Predicted: sx760xa \t\t\t True: aa760xa\n",
      "\n",
      "[INFO] /var/www/nomeroff-net24/NomeroffNet/tools/../../data/./dataset/TextDetector/Ge/autoriaNumberplateOcrGe-2019-07-06/test/img/39160103-39160103_6_0.png\n",
      "Predicted: gg4319 \t\t\t True: gg4819\n",
      "\n",
      "[INFO] /var/www/nomeroff-net24/NomeroffNet/tools/../../data/./dataset/TextDetector/Ge/autoriaNumberplateOcrGe-2019-07-06/test/img/070240335020_0.png\n",
      "Predicted: hyh533 \t\t\t True: hvh533\n",
      "\n",
      "[INFO] /var/www/nomeroff-net24/NomeroffNet/tools/../../data/./dataset/TextDetector/Ge/autoriaNumberplateOcrGe-2019-07-06/test/img/112934176224_0.png\n",
      "Predicted: s740bs \t\t\t True: s78402s\n",
      "\n",
      "[INFO] /var/www/nomeroff-net24/NomeroffNet/tools/../../data/./dataset/TextDetector/Ge/autoriaNumberplateOcrGe-2019-07-06/test/img/070240325158_0.png\n",
      "Predicted: epe923 \t\t\t True: epe023\n",
      "\n",
      "[INFO] /var/www/nomeroff-net24/NomeroffNet/tools/../../data/./dataset/TextDetector/Ge/autoriaNumberplateOcrGe-2019-07-06/test/img/GGG386_1.png\n",
      "Predicted: ggg388 \t\t\t True: ggg386\n",
      "\n",
      "[INFO] /var/www/nomeroff-net24/NomeroffNet/tools/../../data/./dataset/TextDetector/Ge/autoriaNumberplateOcrGe-2019-07-06/test/img/TU888RO_0.png\n",
      "Predicted: tu888rp \t\t\t True: tu888r0\n",
      "\n",
      "[INFO] /var/www/nomeroff-net24/NomeroffNet/tools/../../data/./dataset/TextDetector/Ge/autoriaNumberplateOcrGe-2019-07-06/test/img/070240355982_0.png\n",
      "Predicted: kk981dd \t\t\t True: xk981dd\n",
      "\n",
      "[INFO] /var/www/nomeroff-net24/NomeroffNet/tools/../../data/./dataset/TextDetector/Ge/autoriaNumberplateOcrGe-2019-07-06/test/img/15574896365cd567e464889_0.png\n",
      "Predicted: cm117mc \t\t\t True: ch117mc\n",
      "\n",
      "[INFO] /var/www/nomeroff-net24/NomeroffNet/tools/../../data/./dataset/TextDetector/Ge/autoriaNumberplateOcrGe-2019-07-06/test/img/ANAL555_0.png\n",
      "Predicted: ana555 \t\t\t True: anal555\n",
      "\n",
      "[INFO] /var/www/nomeroff-net24/NomeroffNet/tools/../../data/./dataset/TextDetector/Ge/autoriaNumberplateOcrGe-2019-07-06/test/img/DO521RI_0.png\n",
      "Predicted: f0521ki \t\t\t True: d0521ri\n",
      "\n",
      "[INFO] /var/www/nomeroff-net24/NomeroffNet/tools/../../data/./dataset/TextDetector/Ge/autoriaNumberplateOcrGe-2019-07-06/test/img/39051630-39051630_6_0.png\n",
      "Predicted: gt3097 \t\t\t True: gt3097j\n",
      "\n",
      "[INFO] /var/www/nomeroff-net24/NomeroffNet/tools/../../data/./dataset/TextDetector/Ge/autoriaNumberplateOcrGe-2019-07-06/test/img/39343409-39343409_4_0.png\n",
      "Predicted: ge4945 \t\t\t True: ge1945\n",
      "\n",
      "[INFO] /var/www/nomeroff-net24/NomeroffNet/tools/../../data/./dataset/TextDetector/Ge/autoriaNumberplateOcrGe-2019-07-06/test/img/063040293062_0.png\n",
      "Predicted: ud920ss \t\t\t True: u0920ss\n",
      "\n",
      "[INFO] /var/www/nomeroff-net24/NomeroffNet/tools/../../data/./dataset/TextDetector/Ge/autoriaNumberplateOcrGe-2019-07-06/test/img/060439723842_0.png\n",
      "Predicted: ge5592 \t\t\t True: ge5597\n",
      "\n",
      "[INFO] /var/www/nomeroff-net24/NomeroffNet/tools/../../data/./dataset/TextDetector/Ge/autoriaNumberplateOcrGe-2019-07-06/test/img/VW046WW_0.png\n",
      "Predicted: g0042a \t\t\t True: vw046ww\n",
      "\n",
      "[INFO] /var/www/nomeroff-net24/NomeroffNet/tools/../../data/./dataset/TextDetector/Ge/autoriaNumberplateOcrGe-2019-07-06/test/img/LG-150-GL_0.png\n",
      "Predicted: lg156gc \t\t\t True: lg150gl\n",
      "\n",
      "[INFO] /var/www/nomeroff-net24/NomeroffNet/tools/../../data/./dataset/TextDetector/Ge/autoriaNumberplateOcrGe-2019-07-06/test/img/GSM565_0.png\n",
      "Predicted: gsm568 \t\t\t True: gsm565\n",
      "\n",
      "[INFO] /var/www/nomeroff-net24/NomeroffNet/tools/../../data/./dataset/TextDetector/Ge/autoriaNumberplateOcrGe-2019-07-06/test/img/AX004CR_0.png\n",
      "Predicted: ak004cr \t\t\t True: ax004cr\n",
      "\n",
      "[INFO] /var/www/nomeroff-net24/NomeroffNet/tools/../../data/./dataset/TextDetector/Ge/autoriaNumberplateOcrGe-2019-07-06/test/img/070440385125_0.png\n",
      "Predicted: zc230z \t\t\t True: zc230cz\n",
      "\n",
      "[INFO] /var/www/nomeroff-net24/NomeroffNet/tools/../../data/./dataset/TextDetector/Ge/autoriaNumberplateOcrGe-2019-07-06/test/img/39363006-39363006_4_0.png\n",
      "Predicted: zn880nz \t\t\t True: zn880wz\n",
      "\n",
      "[INFO] /var/www/nomeroff-net24/NomeroffNet/tools/../../data/./dataset/TextDetector/Ge/autoriaNumberplateOcrGe-2019-07-06/test/img/XATIA_0.png\n",
      "Predicted: xatiaa \t\t\t True: xatia\n",
      "\n",
      "[INFO] /var/www/nomeroff-net24/NomeroffNet/tools/../../data/./dataset/TextDetector/Ge/autoriaNumberplateOcrGe-2019-07-06/test/img/15607660355d0766533b88a_0.png\n",
      "Predicted: 0z53800 \t\t\t True: 0zs3800\n",
      "\n",
      "[INFO] /var/www/nomeroff-net24/NomeroffNet/tools/../../data/./dataset/TextDetector/Ge/autoriaNumberplateOcrGe-2019-07-06/test/img/WT040TW_0.png\n",
      "Predicted: cx062 \t\t\t True: wt040tw\n",
      "\n",
      "[INFO] /var/www/nomeroff-net24/NomeroffNet/tools/../../data/./dataset/TextDetector/Ge/autoriaNumberplateOcrGe-2019-07-06/test/img/062940279574_0.png\n",
      "Predicted: hi700ls \t\t\t True: mm700ls\n",
      "\n",
      "[INFO] /var/www/nomeroff-net24/NomeroffNet/tools/../../data/./dataset/TextDetector/Ge/autoriaNumberplateOcrGe-2019-07-06/test/img/SS816SS_0.png\n",
      "Predicted: sb816ss \t\t\t True: ss816ss\n",
      "\n",
      "[INFO] /var/www/nomeroff-net24/NomeroffNet/tools/../../data/./dataset/TextDetector/Ge/autoriaNumberplateOcrGe-2019-07-06/test/img/BMW625_0.png\n",
      "Predicted: bmk625 \t\t\t True: bmw625\n",
      "\n",
      "[INFO] /var/www/nomeroff-net24/NomeroffNet/tools/../../data/./dataset/TextDetector/Ge/autoriaNumberplateOcrGe-2019-07-06/test/img/070240327012_0.png\n",
      "Predicted: gg6826 \t\t\t True: gg6825\n",
      "\n",
      "[INFO] /var/www/nomeroff-net24/NomeroffNet/tools/../../data/./dataset/TextDetector/Ge/autoriaNumberplateOcrGe-2019-07-06/test/img/XIM005_0.png\n",
      "Predicted: cs899sc \t\t\t True: xim005\n",
      "\n",
      "[INFO] /var/www/nomeroff-net24/NomeroffNet/tools/../../data/./dataset/TextDetector/Ge/autoriaNumberplateOcrGe-2019-07-06/test/img/IL787LL_0.png\n",
      "Predicted: tl787ll \t\t\t True: il787ll\n",
      "\n",
      "[INFO] /var/www/nomeroff-net24/NomeroffNet/tools/../../data/./dataset/TextDetector/Ge/autoriaNumberplateOcrGe-2019-07-06/test/img/063040293437_0.png\n",
      "Predicted: rr522rr \t\t\t True: rr527rr\n",
      "\n",
      "[INFO] /var/www/nomeroff-net24/NomeroffNet/tools/../../data/./dataset/TextDetector/Ge/autoriaNumberplateOcrGe-2019-07-06/test/img/061139869255_0.png\n",
      "Predicted: ff584rr \t\t\t True: ff654rr\n",
      "\n",
      "[INFO] /var/www/nomeroff-net24/NomeroffNet/tools/../../data/./dataset/TextDetector/Ge/autoriaNumberplateOcrGe-2019-07-06/test/img/JCJ835_0.png\n",
      "Predicted: zjcj835 \t\t\t True: jcj835\n",
      "\n",
      "[INFO] /var/www/nomeroff-net24/NomeroffNet/tools/../../data/./dataset/TextDetector/Ge/autoriaNumberplateOcrGe-2019-07-06/test/img/HH055HH_0.png\n",
      "Predicted: bi586gh \t\t\t True: hh055hh\n",
      "\n",
      "[INFO] /var/www/nomeroff-net24/NomeroffNet/tools/../../data/./dataset/TextDetector/Ge/autoriaNumberplateOcrGe-2019-07-06/test/img/063040290881_0.png\n",
      "Predicted: km730hx \t\t\t True: xm730mx\n",
      "\n",
      "[INFO] /var/www/nomeroff-net24/NomeroffNet/tools/../../data/./dataset/TextDetector/Ge/autoriaNumberplateOcrGe-2019-07-06/test/img/FFF-777_0.png\n",
      "Predicted: ff777 \t\t\t True: fff777\n",
      "\n",
      "[INFO] /var/www/nomeroff-net24/NomeroffNet/tools/../../data/./dataset/TextDetector/Ge/autoriaNumberplateOcrGe-2019-07-06/test/img/GMB500_0.png\n",
      "Predicted: ts5s \t\t\t True: gmb500\n",
      "\n",
      "[INFO] /var/www/nomeroff-net24/NomeroffNet/tools/../../data/./dataset/TextDetector/Ge/autoriaNumberplateOcrGe-2019-07-06/test/img/070140308578_0.png\n",
      "Predicted: ge9942 \t\t\t True: ge99942\n",
      "\n",
      "[INFO] /var/www/nomeroff-net24/NomeroffNet/tools/../../data/./dataset/TextDetector/Ge/autoriaNumberplateOcrGe-2019-07-06/test/img/WWO931_0.png\n",
      "Predicted: wn0981 \t\t\t True: ww0931\n"
     ]
    },
    {
     "name": "stdout",
     "output_type": "stream",
     "text": [
      "\n",
      "[INFO] /var/www/nomeroff-net24/NomeroffNet/tools/../../data/./dataset/TextDetector/Ge/autoriaNumberplateOcrGe-2019-07-06/test/img/SS501VV_0.png\n",
      "Predicted: ss501iv \t\t\t True: ss501vv\n",
      "\n",
      "[INFO] /var/www/nomeroff-net24/NomeroffNet/tools/../../data/./dataset/TextDetector/Ge/autoriaNumberplateOcrGe-2019-07-06/test/img/062140103812_0.png\n",
      "Predicted: cc634ww \t\t\t True: cc634wv\n",
      "\n",
      "[INFO] /var/www/nomeroff-net24/NomeroffNet/tools/../../data/./dataset/TextDetector/Ge/autoriaNumberplateOcrGe-2019-07-06/test/img/BBS602_1.png\n",
      "Predicted: dz899zd \t\t\t True: dz399zd\n",
      "\n",
      "[INFO] /var/www/nomeroff-net24/NomeroffNet/tools/../../data/./dataset/TextDetector/Ge/autoriaNumberplateOcrGe-2019-07-06/test/img/070340383593_0.png\n",
      "Predicted: i111ka \t\t\t True: ii111ka\n",
      "\n",
      "[INFO] /var/www/nomeroff-net24/NomeroffNet/tools/../../data/./dataset/TextDetector/Ge/autoriaNumberplateOcrGe-2019-07-06/test/img/062640222310_0.png\n",
      "Predicted: uu282jk \t\t\t True: uu282kk\n",
      "\n",
      "[INFO] /var/www/nomeroff-net24/NomeroffNet/tools/../../data/./dataset/TextDetector/Ge/autoriaNumberplateOcrGe-2019-07-06/test/img/070340366597_1.png\n",
      "Predicted: ej10000 \t\t\t True: ei10000\n",
      "\n",
      "[INFO] /var/www/nomeroff-net24/NomeroffNet/tools/../../data/./dataset/TextDetector/Ge/autoriaNumberplateOcrGe-2019-07-06/test/img/070340363788_0.png\n",
      "Predicted: s001it \t\t\t True: s0001it\n",
      "\n",
      "[INFO] /var/www/nomeroff-net24/NomeroffNet/tools/../../data/./dataset/TextDetector/Ge/autoriaNumberplateOcrGe-2019-07-06/test/img/030636971076_0.png\n",
      "Predicted: ga2049 \t\t\t True: gga2049\n",
      "\n",
      "[INFO] /var/www/nomeroff-net24/NomeroffNet/tools/../../data/./dataset/TextDetector/Ge/autoriaNumberplateOcrGe-2019-07-06/test/img/INA816_0.png\n",
      "Predicted: jna816 \t\t\t True: ina816\n",
      "\n",
      "[INFO] /var/www/nomeroff-net24/NomeroffNet/tools/../../data/./dataset/TextDetector/Ge/autoriaNumberplateOcrGe-2019-07-06/test/img/TBS854_0.png\n",
      "Predicted: ts584 \t\t\t True: tbs854\n",
      "\n",
      "[INFO] /var/www/nomeroff-net24/NomeroffNet/tools/../../data/./dataset/TextDetector/Ge/autoriaNumberplateOcrGe-2019-07-06/test/img/OO001AO_0.png\n",
      "Predicted: zd001a0 \t\t\t True: 00001a0\n",
      "\n",
      "[INFO] /var/www/nomeroff-net24/NomeroffNet/tools/../../data/./dataset/TextDetector/Ge/autoriaNumberplateOcrGe-2019-07-06/test/img/070140322468_1.png\n",
      "Predicted: er519rf \t\t\t True: b519rf\n",
      "\n",
      "[INFO] /var/www/nomeroff-net24/NomeroffNet/tools/../../data/./dataset/TextDetector/Ge/autoriaNumberplateOcrGe-2019-07-06/test/img/070240356244_0.png\n",
      "Predicted: lg151i \t\t\t True: gg1511\n",
      "\n",
      "[INFO] /var/www/nomeroff-net24/NomeroffNet/tools/../../data/./dataset/TextDetector/Ge/autoriaNumberplateOcrGe-2019-07-06/test/img/31471652-31471652_7_0.png\n",
      "Predicted: gc811gg \t\t\t True: cc811gg\n",
      "\n",
      "[INFO] /var/www/nomeroff-net24/NomeroffNet/tools/../../data/./dataset/TextDetector/Ge/autoriaNumberplateOcrGe-2019-07-06/test/img/062240103793_0.png\n",
      "Predicted: sg4993 \t\t\t True: gg4993\n",
      "\n",
      "[INFO] /var/www/nomeroff-net24/NomeroffNet/tools/../../data/./dataset/TextDetector/Ge/autoriaNumberplateOcrGe-2019-07-06/test/img/062040073815_0.png\n",
      "Predicted: nn590hn \t\t\t True: nn590nn\n",
      "\n",
      "[INFO] /var/www/nomeroff-net24/NomeroffNet/tools/../../data/./dataset/TextDetector/Ge/autoriaNumberplateOcrGe-2019-07-06/test/img/063040295415_2.png\n",
      "Predicted: az6908q \t\t\t True: zz4549\n",
      "\n",
      "[INFO] /var/www/nomeroff-net24/NomeroffNet/tools/../../data/./dataset/TextDetector/Ge/autoriaNumberplateOcrGe-2019-07-06/test/img/VAA951_0.png\n",
      "Predicted: vaa956 \t\t\t True: vaa951\n",
      "\n",
      "[INFO] /var/www/nomeroff-net24/NomeroffNet/tools/../../data/./dataset/TextDetector/Ge/autoriaNumberplateOcrGe-2019-07-06/test/img/070240349977_1.png\n",
      "Predicted: bb202n3 \t\t\t True: bb70zt\n",
      "\n",
      "[INFO] /var/www/nomeroff-net24/NomeroffNet/tools/../../data/./dataset/TextDetector/Ge/autoriaNumberplateOcrGe-2019-07-06/test/img/39357537-39357537_3_0.png\n",
      "Predicted: tn635nt \t\t\t True: tm635nt\n",
      "\n",
      "[INFO] /var/www/nomeroff-net24/NomeroffNet/tools/../../data/./dataset/TextDetector/Ge/autoriaNumberplateOcrGe-2019-07-06/test/img/070240356129_0.png\n",
      "Predicted: ge5453 \t\t\t True: ge3453\n",
      "\n",
      "[INFO] /var/www/nomeroff-net24/NomeroffNet/tools/../../data/./dataset/TextDetector/Ge/autoriaNumberplateOcrGe-2019-07-06/test/img/052739566881_0.png\n",
      "Predicted: lb5000 \t\t\t True: lb50000\n",
      "\n",
      "[INFO] /var/www/nomeroff-net24/NomeroffNet/tools/../../data/./dataset/TextDetector/Ge/autoriaNumberplateOcrGe-2019-07-06/test/img/070340383363_0.png\n",
      "Predicted: nkn868 \t\t\t True: njn868\n",
      "\n",
      "[INFO] /var/www/nomeroff-net24/NomeroffNet/tools/../../data/./dataset/TextDetector/Ge/autoriaNumberplateOcrGe-2019-07-06/test/img/JZZ320_0.png\n",
      "Predicted: jz320 \t\t\t True: jzz320\n",
      "\n",
      "[INFO] /var/www/nomeroff-net24/NomeroffNet/tools/../../data/./dataset/TextDetector/Ge/autoriaNumberplateOcrGe-2019-07-06/test/img/020135982507_0.png\n",
      "Predicted: hf097fh \t\t\t True: hf007gh\n",
      "\n",
      "[INFO] /var/www/nomeroff-net24/NomeroffNet/tools/../../data/./dataset/TextDetector/Ge/autoriaNumberplateOcrGe-2019-07-06/test/img/070340356628_0.png\n",
      "Predicted: jk001ka \t\t\t True: bk80r0\n",
      "\n",
      "[INFO] /var/www/nomeroff-net24/NomeroffNet/tools/../../data/./dataset/TextDetector/Ge/autoriaNumberplateOcrGe-2019-07-06/test/img/070140324633_0.png\n",
      "Predicted: vu939vu \t\t\t True: vu989vd\n"
     ]
    },
    {
     "name": "stderr",
     "output_type": "stream",
     "text": [
      "GPU available: True, used: True\n",
      "TPU available: False, using: 0 TPU cores\n"
     ]
    },
    {
     "name": "stdout",
     "output_type": "stream",
     "text": [
      "Testing Accuracy:  0.9738257439942631\n",
      "model save to /var/www/nomeroff-net24/models/anpr_ocr_ge_2021_08_30_pytorch_lightning.ckpt.8\n"
     ]
    },
    {
     "name": "stderr",
     "output_type": "stream",
     "text": [
      "LOCAL_RANK: 0 - CUDA_VISIBLE_DEVICES: [0]\n",
      "\n",
      "  | Name    | Type       | Params\n",
      "---------------------------------------\n",
      "0 | resnet  | Sequential | 2.8 M \n",
      "1 | cnn     | BlockCNN   | 590 K \n",
      "2 | linear1 | Linear     | 524 K \n",
      "3 | gru1    | BlockRNN   | 139 K \n",
      "4 | gru2    | BlockRNN   | 16.9 K\n",
      "5 | linear2 | Linear     | 2.3 K \n",
      "---------------------------------------\n",
      "4.1 M     Trainable params\n",
      "0         Non-trainable params\n",
      "4.1 M     Total params\n",
      "16.229    Total estimated model params size (MB)\n",
      "Global seed set to 8\n"
     ]
    },
    {
     "data": {
      "application/vnd.jupyter.widget-view+json": {
       "model_id": "ad3ebe6922c54da390d16ecd8e6de75a",
       "version_major": 2,
       "version_minor": 0
      },
      "text/plain": [
       "HBox(children=(HTML(value='Finding best initial lr'), FloatProgress(value=0.0), HTML(value='')))"
      ]
     },
     "metadata": {},
     "output_type": "display_data"
    },
    {
     "name": "stderr",
     "output_type": "stream",
     "text": [
      "Restored states from the checkpoint file at /var/www/nomeroff-net24/train/lr_find_temp_model.ckpt\n",
      "Global seed set to 9\n",
      "GPU available: True, used: True\n",
      "TPU available: False, using: 0 TPU cores\n",
      "LOCAL_RANK: 0 - CUDA_VISIBLE_DEVICES: [0]\n"
     ]
    },
    {
     "name": "stdout",
     "output_type": "stream",
     "text": [
      "Found lr: 0.5011872336272719\n"
     ]
    },
    {
     "data": {
      "application/vnd.jupyter.widget-view+json": {
       "model_id": "",
       "version_major": 2,
       "version_minor": 0
      },
      "text/plain": [
       "HBox(children=(HTML(value='Validation sanity check'), FloatProgress(value=1.0, bar_style='info', layout=Layout…"
      ]
     },
     "metadata": {},
     "output_type": "display_data"
    },
    {
     "name": "stderr",
     "output_type": "stream",
     "text": [
      "Global seed set to 9\n"
     ]
    },
    {
     "data": {
      "application/vnd.jupyter.widget-view+json": {
       "model_id": "81686c012a22478f8a7c524a13bd1184",
       "version_major": 2,
       "version_minor": 0
      },
      "text/plain": [
       "HBox(children=(HTML(value='Training'), FloatProgress(value=1.0, bar_style='info', layout=Layout(flex='2'), max…"
      ]
     },
     "metadata": {},
     "output_type": "display_data"
    },
    {
     "name": "stdout",
     "output_type": "stream",
     "text": [
      "\n",
      "\n",
      "\n",
      "\n",
      "\n",
      "\n",
      "\n",
      "\n",
      "\n",
      "\n",
      "\n"
     ]
    },
    {
     "data": {
      "application/vnd.jupyter.widget-view+json": {
       "model_id": "",
       "version_major": 2,
       "version_minor": 0
      },
      "text/plain": [
       "HBox(children=(HTML(value='Validating'), FloatProgress(value=1.0, bar_style='info', layout=Layout(flex='2'), m…"
      ]
     },
     "metadata": {},
     "output_type": "display_data"
    },
    {
     "data": {
      "application/vnd.jupyter.widget-view+json": {
       "model_id": "",
       "version_major": 2,
       "version_minor": 0
      },
      "text/plain": [
       "HBox(children=(HTML(value='Validating'), FloatProgress(value=1.0, bar_style='info', layout=Layout(flex='2'), m…"
      ]
     },
     "metadata": {},
     "output_type": "display_data"
    },
    {
     "data": {
      "application/vnd.jupyter.widget-view+json": {
       "model_id": "",
       "version_major": 2,
       "version_minor": 0
      },
      "text/plain": [
       "HBox(children=(HTML(value='Validating'), FloatProgress(value=1.0, bar_style='info', layout=Layout(flex='2'), m…"
      ]
     },
     "metadata": {},
     "output_type": "display_data"
    },
    {
     "data": {
      "application/vnd.jupyter.widget-view+json": {
       "model_id": "",
       "version_major": 2,
       "version_minor": 0
      },
      "text/plain": [
       "HBox(children=(HTML(value='Validating'), FloatProgress(value=1.0, bar_style='info', layout=Layout(flex='2'), m…"
      ]
     },
     "metadata": {},
     "output_type": "display_data"
    },
    {
     "data": {
      "application/vnd.jupyter.widget-view+json": {
       "model_id": "",
       "version_major": 2,
       "version_minor": 0
      },
      "text/plain": [
       "HBox(children=(HTML(value='Validating'), FloatProgress(value=1.0, bar_style='info', layout=Layout(flex='2'), m…"
      ]
     },
     "metadata": {},
     "output_type": "display_data"
    },
    {
     "data": {
      "application/vnd.jupyter.widget-view+json": {
       "model_id": "",
       "version_major": 2,
       "version_minor": 0
      },
      "text/plain": [
       "HBox(children=(HTML(value='Validating'), FloatProgress(value=1.0, bar_style='info', layout=Layout(flex='2'), m…"
      ]
     },
     "metadata": {},
     "output_type": "display_data"
    },
    {
     "data": {
      "application/vnd.jupyter.widget-view+json": {
       "model_id": "",
       "version_major": 2,
       "version_minor": 0
      },
      "text/plain": [
       "HBox(children=(HTML(value='Validating'), FloatProgress(value=1.0, bar_style='info', layout=Layout(flex='2'), m…"
      ]
     },
     "metadata": {},
     "output_type": "display_data"
    },
    {
     "data": {
      "application/vnd.jupyter.widget-view+json": {
       "model_id": "",
       "version_major": 2,
       "version_minor": 0
      },
      "text/plain": [
       "HBox(children=(HTML(value='Validating'), FloatProgress(value=1.0, bar_style='info', layout=Layout(flex='2'), m…"
      ]
     },
     "metadata": {},
     "output_type": "display_data"
    },
    {
     "data": {
      "application/vnd.jupyter.widget-view+json": {
       "model_id": "",
       "version_major": 2,
       "version_minor": 0
      },
      "text/plain": [
       "HBox(children=(HTML(value='Validating'), FloatProgress(value=1.0, bar_style='info', layout=Layout(flex='2'), m…"
      ]
     },
     "metadata": {},
     "output_type": "display_data"
    },
    {
     "data": {
      "application/vnd.jupyter.widget-view+json": {
       "model_id": "",
       "version_major": 2,
       "version_minor": 0
      },
      "text/plain": [
       "HBox(children=(HTML(value='Validating'), FloatProgress(value=1.0, bar_style='info', layout=Layout(flex='2'), m…"
      ]
     },
     "metadata": {},
     "output_type": "display_data"
    },
    {
     "data": {
      "application/vnd.jupyter.widget-view+json": {
       "model_id": "",
       "version_major": 2,
       "version_minor": 0
      },
      "text/plain": [
       "HBox(children=(HTML(value='Validating'), FloatProgress(value=1.0, bar_style='info', layout=Layout(flex='2'), m…"
      ]
     },
     "metadata": {},
     "output_type": "display_data"
    },
    {
     "data": {
      "application/vnd.jupyter.widget-view+json": {
       "model_id": "",
       "version_major": 2,
       "version_minor": 0
      },
      "text/plain": [
       "HBox(children=(HTML(value='Validating'), FloatProgress(value=1.0, bar_style='info', layout=Layout(flex='2'), m…"
      ]
     },
     "metadata": {},
     "output_type": "display_data"
    },
    {
     "data": {
      "application/vnd.jupyter.widget-view+json": {
       "model_id": "",
       "version_major": 2,
       "version_minor": 0
      },
      "text/plain": [
       "HBox(children=(HTML(value='Validating'), FloatProgress(value=1.0, bar_style='info', layout=Layout(flex='2'), m…"
      ]
     },
     "metadata": {},
     "output_type": "display_data"
    },
    {
     "data": {
      "application/vnd.jupyter.widget-view+json": {
       "model_id": "",
       "version_major": 2,
       "version_minor": 0
      },
      "text/plain": [
       "HBox(children=(HTML(value='Validating'), FloatProgress(value=1.0, bar_style='info', layout=Layout(flex='2'), m…"
      ]
     },
     "metadata": {},
     "output_type": "display_data"
    },
    {
     "data": {
      "application/vnd.jupyter.widget-view+json": {
       "model_id": "",
       "version_major": 2,
       "version_minor": 0
      },
      "text/plain": [
       "HBox(children=(HTML(value='Validating'), FloatProgress(value=1.0, bar_style='info', layout=Layout(flex='2'), m…"
      ]
     },
     "metadata": {},
     "output_type": "display_data"
    },
    {
     "data": {
      "application/vnd.jupyter.widget-view+json": {
       "model_id": "",
       "version_major": 2,
       "version_minor": 0
      },
      "text/plain": [
       "HBox(children=(HTML(value='Validating'), FloatProgress(value=1.0, bar_style='info', layout=Layout(flex='2'), m…"
      ]
     },
     "metadata": {},
     "output_type": "display_data"
    },
    {
     "data": {
      "application/vnd.jupyter.widget-view+json": {
       "model_id": "",
       "version_major": 2,
       "version_minor": 0
      },
      "text/plain": [
       "HBox(children=(HTML(value='Validating'), FloatProgress(value=1.0, bar_style='info', layout=Layout(flex='2'), m…"
      ]
     },
     "metadata": {},
     "output_type": "display_data"
    },
    {
     "data": {
      "application/vnd.jupyter.widget-view+json": {
       "model_id": "",
       "version_major": 2,
       "version_minor": 0
      },
      "text/plain": [
       "HBox(children=(HTML(value='Validating'), FloatProgress(value=1.0, bar_style='info', layout=Layout(flex='2'), m…"
      ]
     },
     "metadata": {},
     "output_type": "display_data"
    },
    {
     "data": {
      "application/vnd.jupyter.widget-view+json": {
       "model_id": "",
       "version_major": 2,
       "version_minor": 0
      },
      "text/plain": [
       "HBox(children=(HTML(value='Validating'), FloatProgress(value=1.0, bar_style='info', layout=Layout(flex='2'), m…"
      ]
     },
     "metadata": {},
     "output_type": "display_data"
    },
    {
     "data": {
      "application/vnd.jupyter.widget-view+json": {
       "model_id": "",
       "version_major": 2,
       "version_minor": 0
      },
      "text/plain": [
       "HBox(children=(HTML(value='Validating'), FloatProgress(value=1.0, bar_style='info', layout=Layout(flex='2'), m…"
      ]
     },
     "metadata": {},
     "output_type": "display_data"
    },
    {
     "data": {
      "application/vnd.jupyter.widget-view+json": {
       "model_id": "",
       "version_major": 2,
       "version_minor": 0
      },
      "text/plain": [
       "HBox(children=(HTML(value='Validating'), FloatProgress(value=1.0, bar_style='info', layout=Layout(flex='2'), m…"
      ]
     },
     "metadata": {},
     "output_type": "display_data"
    },
    {
     "data": {
      "application/vnd.jupyter.widget-view+json": {
       "model_id": "",
       "version_major": 2,
       "version_minor": 0
      },
      "text/plain": [
       "HBox(children=(HTML(value='Validating'), FloatProgress(value=1.0, bar_style='info', layout=Layout(flex='2'), m…"
      ]
     },
     "metadata": {},
     "output_type": "display_data"
    },
    {
     "data": {
      "application/vnd.jupyter.widget-view+json": {
       "model_id": "",
       "version_major": 2,
       "version_minor": 0
      },
      "text/plain": [
       "HBox(children=(HTML(value='Validating'), FloatProgress(value=1.0, bar_style='info', layout=Layout(flex='2'), m…"
      ]
     },
     "metadata": {},
     "output_type": "display_data"
    },
    {
     "data": {
      "application/vnd.jupyter.widget-view+json": {
       "model_id": "",
       "version_major": 2,
       "version_minor": 0
      },
      "text/plain": [
       "HBox(children=(HTML(value='Validating'), FloatProgress(value=1.0, bar_style='info', layout=Layout(flex='2'), m…"
      ]
     },
     "metadata": {},
     "output_type": "display_data"
    },
    {
     "data": {
      "application/vnd.jupyter.widget-view+json": {
       "model_id": "",
       "version_major": 2,
       "version_minor": 0
      },
      "text/plain": [
       "HBox(children=(HTML(value='Validating'), FloatProgress(value=1.0, bar_style='info', layout=Layout(flex='2'), m…"
      ]
     },
     "metadata": {},
     "output_type": "display_data"
    },
    {
     "data": {
      "application/vnd.jupyter.widget-view+json": {
       "model_id": "",
       "version_major": 2,
       "version_minor": 0
      },
      "text/plain": [
       "HBox(children=(HTML(value='Validating'), FloatProgress(value=1.0, bar_style='info', layout=Layout(flex='2'), m…"
      ]
     },
     "metadata": {},
     "output_type": "display_data"
    },
    {
     "data": {
      "application/vnd.jupyter.widget-view+json": {
       "model_id": "",
       "version_major": 2,
       "version_minor": 0
      },
      "text/plain": [
       "HBox(children=(HTML(value='Validating'), FloatProgress(value=1.0, bar_style='info', layout=Layout(flex='2'), m…"
      ]
     },
     "metadata": {},
     "output_type": "display_data"
    },
    {
     "data": {
      "application/vnd.jupyter.widget-view+json": {
       "model_id": "",
       "version_major": 2,
       "version_minor": 0
      },
      "text/plain": [
       "HBox(children=(HTML(value='Validating'), FloatProgress(value=1.0, bar_style='info', layout=Layout(flex='2'), m…"
      ]
     },
     "metadata": {},
     "output_type": "display_data"
    },
    {
     "data": {
      "application/vnd.jupyter.widget-view+json": {
       "model_id": "",
       "version_major": 2,
       "version_minor": 0
      },
      "text/plain": [
       "HBox(children=(HTML(value='Validating'), FloatProgress(value=1.0, bar_style='info', layout=Layout(flex='2'), m…"
      ]
     },
     "metadata": {},
     "output_type": "display_data"
    },
    {
     "data": {
      "application/vnd.jupyter.widget-view+json": {
       "model_id": "",
       "version_major": 2,
       "version_minor": 0
      },
      "text/plain": [
       "HBox(children=(HTML(value='Validating'), FloatProgress(value=1.0, bar_style='info', layout=Layout(flex='2'), m…"
      ]
     },
     "metadata": {},
     "output_type": "display_data"
    },
    {
     "data": {
      "application/vnd.jupyter.widget-view+json": {
       "model_id": "",
       "version_major": 2,
       "version_minor": 0
      },
      "text/plain": [
       "HBox(children=(HTML(value='Validating'), FloatProgress(value=1.0, bar_style='info', layout=Layout(flex='2'), m…"
      ]
     },
     "metadata": {},
     "output_type": "display_data"
    },
    {
     "data": {
      "application/vnd.jupyter.widget-view+json": {
       "model_id": "",
       "version_major": 2,
       "version_minor": 0
      },
      "text/plain": [
       "HBox(children=(HTML(value='Validating'), FloatProgress(value=1.0, bar_style='info', layout=Layout(flex='2'), m…"
      ]
     },
     "metadata": {},
     "output_type": "display_data"
    },
    {
     "data": {
      "application/vnd.jupyter.widget-view+json": {
       "model_id": "",
       "version_major": 2,
       "version_minor": 0
      },
      "text/plain": [
       "HBox(children=(HTML(value='Validating'), FloatProgress(value=1.0, bar_style='info', layout=Layout(flex='2'), m…"
      ]
     },
     "metadata": {},
     "output_type": "display_data"
    },
    {
     "data": {
      "application/vnd.jupyter.widget-view+json": {
       "model_id": "",
       "version_major": 2,
       "version_minor": 0
      },
      "text/plain": [
       "HBox(children=(HTML(value='Validating'), FloatProgress(value=1.0, bar_style='info', layout=Layout(flex='2'), m…"
      ]
     },
     "metadata": {},
     "output_type": "display_data"
    },
    {
     "data": {
      "application/vnd.jupyter.widget-view+json": {
       "model_id": "",
       "version_major": 2,
       "version_minor": 0
      },
      "text/plain": [
       "HBox(children=(HTML(value='Validating'), FloatProgress(value=1.0, bar_style='info', layout=Layout(flex='2'), m…"
      ]
     },
     "metadata": {},
     "output_type": "display_data"
    },
    {
     "name": "stderr",
     "output_type": "stream",
     "text": [
      "LOCAL_RANK: 0 - CUDA_VISIBLE_DEVICES: [0]\n"
     ]
    },
    {
     "name": "stdout",
     "output_type": "stream",
     "text": [
      "\n",
      "[INFO] best model path /var/www/nomeroff-net24/NomeroffNet/data/logs/ocr/epoch=33-step=13327-v1.ckpt\n"
     ]
    },
    {
     "data": {
      "application/vnd.jupyter.widget-view+json": {
       "model_id": "9f2a2a0c563e46c19d7262a80fc89203",
       "version_major": 2,
       "version_minor": 0
      },
      "text/plain": [
       "HBox(children=(HTML(value='Testing'), FloatProgress(value=1.0, bar_style='info', layout=Layout(flex='2'), max=…"
      ]
     },
     "metadata": {},
     "output_type": "display_data"
    },
    {
     "name": "stdout",
     "output_type": "stream",
     "text": [
      "\n",
      "--------------------------------------------------------------------------------\n",
      "DATALOADER:0 TEST RESULTS\n",
      "{'test_loss': 0.06102776899933815}\n",
      "--------------------------------------------------------------------------------\n",
      "\n",
      "[INFO] /var/www/nomeroff-net24/NomeroffNet/tools/../../data/./dataset/TextDetector/Ge/autoriaNumberplateOcrGe-2019-07-06/test/img/070240333897_0.png\n",
      "Predicted: nn57xx \t\t\t True: nn575xx\n",
      "\n",
      "[INFO] /var/www/nomeroff-net24/NomeroffNet/tools/../../data/./dataset/TextDetector/Ge/autoriaNumberplateOcrGe-2019-07-06/test/img/II672MI_1.png\n",
      "Predicted: aa795te \t\t\t True: ii672mi\n",
      "\n",
      "[INFO] /var/www/nomeroff-net24/NomeroffNet/tools/../../data/./dataset/TextDetector/Ge/autoriaNumberplateOcrGe-2019-07-06/test/img/070140295957_0.png\n",
      "Predicted: wu90aa \t\t\t True: wu906a\n",
      "\n",
      "[INFO] /var/www/nomeroff-net24/NomeroffNet/tools/../../data/./dataset/TextDetector/Ge/autoriaNumberplateOcrGe-2019-07-06/test/img/112734171320_0.png\n",
      "Predicted: qcz235ss \t\t\t True: r735ss\n",
      "\n",
      "[INFO] /var/www/nomeroff-net24/NomeroffNet/tools/../../data/./dataset/TextDetector/Ge/autoriaNumberplateOcrGe-2019-07-06/test/img/AA559AA_2.png\n",
      "Predicted: sbb888 \t\t\t True: sbr888\n",
      "\n",
      "[INFO] /var/www/nomeroff-net24/NomeroffNet/tools/../../data/./dataset/TextDetector/Ge/autoriaNumberplateOcrGe-2019-07-06/test/img/022736724232_0.png\n",
      "Predicted: gt251 \t\t\t True: gt2351\n",
      "\n",
      "[INFO] /var/www/nomeroff-net24/NomeroffNet/tools/../../data/./dataset/TextDetector/Ge/autoriaNumberplateOcrGe-2019-07-06/test/img/DUT300_0.png\n",
      "Predicted: bwm29bw \t\t\t True: dut300\n",
      "\n",
      "[INFO] /var/www/nomeroff-net24/NomeroffNet/tools/../../data/./dataset/TextDetector/Ge/autoriaNumberplateOcrGe-2019-07-06/test/img/HO404OH_0.png\n",
      "Predicted: h064040h \t\t\t True: h04040h\n",
      "\n",
      "[INFO] /var/www/nomeroff-net24/NomeroffNet/tools/../../data/./dataset/TextDetector/Ge/autoriaNumberplateOcrGe-2019-07-06/test/img/070240335020_0.png\n",
      "Predicted: hyh533 \t\t\t True: hvh533\n",
      "\n",
      "[INFO] /var/www/nomeroff-net24/NomeroffNet/tools/../../data/./dataset/TextDetector/Ge/autoriaNumberplateOcrGe-2019-07-06/test/img/112934176224_0.png\n",
      "Predicted: st840qs \t\t\t True: s78402s\n",
      "\n",
      "[INFO] /var/www/nomeroff-net24/NomeroffNet/tools/../../data/./dataset/TextDetector/Ge/autoriaNumberplateOcrGe-2019-07-06/test/img/070240325158_0.png\n",
      "Predicted: epe923 \t\t\t True: epe023\n",
      "\n",
      "[INFO] /var/www/nomeroff-net24/NomeroffNet/tools/../../data/./dataset/TextDetector/Ge/autoriaNumberplateOcrGe-2019-07-06/test/img/GGG386_1.png\n",
      "Predicted: ggs386 \t\t\t True: ggg386\n",
      "\n",
      "[INFO] /var/www/nomeroff-net24/NomeroffNet/tools/../../data/./dataset/TextDetector/Ge/autoriaNumberplateOcrGe-2019-07-06/test/img/070240355982_0.png\n",
      "Predicted: kk981dd \t\t\t True: xk981dd\n",
      "\n",
      "[INFO] /var/www/nomeroff-net24/NomeroffNet/tools/../../data/./dataset/TextDetector/Ge/autoriaNumberplateOcrGe-2019-07-06/test/img/15574896365cd567e464889_0.png\n",
      "Predicted: cm117mc \t\t\t True: ch117mc\n",
      "\n",
      "[INFO] /var/www/nomeroff-net24/NomeroffNet/tools/../../data/./dataset/TextDetector/Ge/autoriaNumberplateOcrGe-2019-07-06/test/img/ANAL555_0.png\n",
      "Predicted: ana555 \t\t\t True: anal555\n",
      "\n",
      "[INFO] /var/www/nomeroff-net24/NomeroffNet/tools/../../data/./dataset/TextDetector/Ge/autoriaNumberplateOcrGe-2019-07-06/test/img/DO521RI_0.png\n",
      "Predicted: d0521ni \t\t\t True: d0521ri\n",
      "\n",
      "[INFO] /var/www/nomeroff-net24/NomeroffNet/tools/../../data/./dataset/TextDetector/Ge/autoriaNumberplateOcrGe-2019-07-06/test/img/39051630-39051630_6_0.png\n",
      "Predicted: gt3097 \t\t\t True: gt3097j\n",
      "\n",
      "[INFO] /var/www/nomeroff-net24/NomeroffNet/tools/../../data/./dataset/TextDetector/Ge/autoriaNumberplateOcrGe-2019-07-06/test/img/AMR111_1.png\n",
      "Predicted: amp1111 \t\t\t True: amp111\n",
      "\n",
      "[INFO] /var/www/nomeroff-net24/NomeroffNet/tools/../../data/./dataset/TextDetector/Ge/autoriaNumberplateOcrGe-2019-07-06/test/img/063040293062_0.png\n",
      "Predicted: uu920ss \t\t\t True: u0920ss\n",
      "\n",
      "[INFO] /var/www/nomeroff-net24/NomeroffNet/tools/../../data/./dataset/TextDetector/Ge/autoriaNumberplateOcrGe-2019-07-06/test/img/VW046WW_0.png\n",
      "Predicted: gg46za \t\t\t True: vw046ww\n",
      "\n",
      "[INFO] /var/www/nomeroff-net24/NomeroffNet/tools/../../data/./dataset/TextDetector/Ge/autoriaNumberplateOcrGe-2019-07-06/test/img/KY888IV_0.png\n",
      "Predicted: ky888mv \t\t\t True: ky888iv\n",
      "\n",
      "[INFO] /var/www/nomeroff-net24/NomeroffNet/tools/../../data/./dataset/TextDetector/Ge/autoriaNumberplateOcrGe-2019-07-06/test/img/LG-150-GL_0.png\n",
      "Predicted: lg155gl \t\t\t True: lg150gl\n",
      "\n",
      "[INFO] /var/www/nomeroff-net24/NomeroffNet/tools/../../data/./dataset/TextDetector/Ge/autoriaNumberplateOcrGe-2019-07-06/test/img/AAA111_0.png\n",
      "Predicted: aaa11i \t\t\t True: aaa111\n",
      "\n",
      "[INFO] /var/www/nomeroff-net24/NomeroffNet/tools/../../data/./dataset/TextDetector/Ge/autoriaNumberplateOcrGe-2019-07-06/test/img/070440385125_0.png\n",
      "Predicted: zc230zz \t\t\t True: zc230cz\n",
      "\n",
      "[INFO] /var/www/nomeroff-net24/NomeroffNet/tools/../../data/./dataset/TextDetector/Ge/autoriaNumberplateOcrGe-2019-07-06/test/img/39363006-39363006_4_0.png\n",
      "Predicted: zn880nz \t\t\t True: zn880wz\n",
      "\n",
      "[INFO] /var/www/nomeroff-net24/NomeroffNet/tools/../../data/./dataset/TextDetector/Ge/autoriaNumberplateOcrGe-2019-07-06/test/img/ACO345_0.png\n",
      "Predicted: vy361yv \t\t\t True: vy361vv\n",
      "\n",
      "[INFO] /var/www/nomeroff-net24/NomeroffNet/tools/../../data/./dataset/TextDetector/Ge/autoriaNumberplateOcrGe-2019-07-06/test/img/GL008GL_1.png\n",
      "Predicted: hyhn39 \t\t\t True: hhn439\n",
      "\n",
      "[INFO] /var/www/nomeroff-net24/NomeroffNet/tools/../../data/./dataset/TextDetector/Ge/autoriaNumberplateOcrGe-2019-07-06/test/img/XATIA_0.png\n",
      "Predicted: xati \t\t\t True: xatia\n",
      "\n",
      "[INFO] /var/www/nomeroff-net24/NomeroffNet/tools/../../data/./dataset/TextDetector/Ge/autoriaNumberplateOcrGe-2019-07-06/test/img/15607660355d0766533b88a_0.png\n",
      "Predicted: 0z53800 \t\t\t True: 0zs3800\n",
      "\n",
      "[INFO] /var/www/nomeroff-net24/NomeroffNet/tools/../../data/./dataset/TextDetector/Ge/autoriaNumberplateOcrGe-2019-07-06/test/img/WT040TW_0.png\n",
      "Predicted: ck062 \t\t\t True: wt040tw\n",
      "\n",
      "[INFO] /var/www/nomeroff-net24/NomeroffNet/tools/../../data/./dataset/TextDetector/Ge/autoriaNumberplateOcrGe-2019-07-06/test/img/062940279574_0.png\n",
      "Predicted: hi700ls \t\t\t True: mm700ls\n",
      "\n",
      "[INFO] /var/www/nomeroff-net24/NomeroffNet/tools/../../data/./dataset/TextDetector/Ge/autoriaNumberplateOcrGe-2019-07-06/test/img/SS816SS_0.png\n",
      "Predicted: se816ss \t\t\t True: ss816ss\n",
      "\n",
      "[INFO] /var/www/nomeroff-net24/NomeroffNet/tools/../../data/./dataset/TextDetector/Ge/autoriaNumberplateOcrGe-2019-07-06/test/img/AA435CA_0.png\n",
      "Predicted: aa459ga \t\t\t True: aa435ca\n",
      "\n",
      "[INFO] /var/www/nomeroff-net24/NomeroffNet/tools/../../data/./dataset/TextDetector/Ge/autoriaNumberplateOcrGe-2019-07-06/test/img/BMW625_0.png\n",
      "Predicted: bmk625 \t\t\t True: bmw625\n",
      "\n",
      "[INFO] /var/www/nomeroff-net24/NomeroffNet/tools/../../data/./dataset/TextDetector/Ge/autoriaNumberplateOcrGe-2019-07-06/test/img/XIM005_0.png\n",
      "Predicted: cs899sc \t\t\t True: xim005\n",
      "\n",
      "[INFO] /var/www/nomeroff-net24/NomeroffNet/tools/../../data/./dataset/TextDetector/Ge/autoriaNumberplateOcrGe-2019-07-06/test/img/IL787LL_0.png\n",
      "Predicted: tl787lz \t\t\t True: il787ll\n",
      "\n",
      "[INFO] /var/www/nomeroff-net24/NomeroffNet/tools/../../data/./dataset/TextDetector/Ge/autoriaNumberplateOcrGe-2019-07-06/test/img/QKQ684_0.png\n",
      "Predicted: qkq664 \t\t\t True: qkq684\n",
      "\n",
      "[INFO] /var/www/nomeroff-net24/NomeroffNet/tools/../../data/./dataset/TextDetector/Ge/autoriaNumberplateOcrGe-2019-07-06/test/img/061139869255_0.png\n",
      "Predicted: ff584rr \t\t\t True: ff654rr\n",
      "\n",
      "[INFO] /var/www/nomeroff-net24/NomeroffNet/tools/../../data/./dataset/TextDetector/Ge/autoriaNumberplateOcrGe-2019-07-06/test/img/GVB444_0.png\n",
      "Predicted: 0vb444 \t\t\t True: gvb444\n",
      "\n",
      "[INFO] /var/www/nomeroff-net24/NomeroffNet/tools/../../data/./dataset/TextDetector/Ge/autoriaNumberplateOcrGe-2019-07-06/test/img/JCJ835_0.png\n",
      "Predicted: lcj835 \t\t\t True: jcj835\n",
      "\n",
      "[INFO] /var/www/nomeroff-net24/NomeroffNet/tools/../../data/./dataset/TextDetector/Ge/autoriaNumberplateOcrGe-2019-07-06/test/img/HH055HH_0.png\n",
      "Predicted: bi5846ch \t\t\t True: hh055hh\n",
      "\n",
      "[INFO] /var/www/nomeroff-net24/NomeroffNet/tools/../../data/./dataset/TextDetector/Ge/autoriaNumberplateOcrGe-2019-07-06/test/img/063040290881_0.png\n",
      "Predicted: mm730mx \t\t\t True: xm730mx\n",
      "\n",
      "[INFO] /var/www/nomeroff-net24/NomeroffNet/tools/../../data/./dataset/TextDetector/Ge/autoriaNumberplateOcrGe-2019-07-06/test/img/070340374064_0.png\n",
      "Predicted: gag3325 \t\t\t True: ga1325\n",
      "\n",
      "[INFO] /var/www/nomeroff-net24/NomeroffNet/tools/../../data/./dataset/TextDetector/Ge/autoriaNumberplateOcrGe-2019-07-06/test/img/GMB500_0.png\n",
      "Predicted: tsb55 \t\t\t True: gmb500\n",
      "\n",
      "[INFO] /var/www/nomeroff-net24/NomeroffNet/tools/../../data/./dataset/TextDetector/Ge/autoriaNumberplateOcrGe-2019-07-06/test/img/070140308578_0.png\n",
      "Predicted: ge9942 \t\t\t True: ge99942\n",
      "\n",
      "[INFO] /var/www/nomeroff-net24/NomeroffNet/tools/../../data/./dataset/TextDetector/Ge/autoriaNumberplateOcrGe-2019-07-06/test/img/070340375542_0.png\n",
      "Predicted: id14dd \t\t\t True: id144dd\n"
     ]
    },
    {
     "name": "stdout",
     "output_type": "stream",
     "text": [
      "\n",
      "[INFO] /var/www/nomeroff-net24/NomeroffNet/tools/../../data/./dataset/TextDetector/Ge/autoriaNumberplateOcrGe-2019-07-06/test/img/SS501VV_0.png\n",
      "Predicted: se501iy \t\t\t True: ss501vv\n",
      "\n",
      "[INFO] /var/www/nomeroff-net24/NomeroffNet/tools/../../data/./dataset/TextDetector/Ge/autoriaNumberplateOcrGe-2019-07-06/test/img/062140103812_0.png\n",
      "Predicted: cc634ww \t\t\t True: cc634wv\n",
      "\n",
      "[INFO] /var/www/nomeroff-net24/NomeroffNet/tools/../../data/./dataset/TextDetector/Ge/autoriaNumberplateOcrGe-2019-07-06/test/img/WT-274-TW_0.png\n",
      "Predicted: wt274pw \t\t\t True: wt274tw\n",
      "\n",
      "[INFO] /var/www/nomeroff-net24/NomeroffNet/tools/../../data/./dataset/TextDetector/Ge/autoriaNumberplateOcrGe-2019-07-06/test/img/BBS602_1.png\n",
      "Predicted: dz399zu \t\t\t True: dz399zd\n",
      "\n",
      "[INFO] /var/www/nomeroff-net24/NomeroffNet/tools/../../data/./dataset/TextDetector/Ge/autoriaNumberplateOcrGe-2019-07-06/test/img/063040289542_0.png\n",
      "Predicted: hh693iw \t\t\t True: hh693ih\n",
      "\n",
      "[INFO] /var/www/nomeroff-net24/NomeroffNet/tools/../../data/./dataset/TextDetector/Ge/autoriaNumberplateOcrGe-2019-07-06/test/img/MFC101_0.png\n",
      "Predicted: mfcg101 \t\t\t True: mfc101\n",
      "\n",
      "[INFO] /var/www/nomeroff-net24/NomeroffNet/tools/../../data/./dataset/TextDetector/Ge/autoriaNumberplateOcrGe-2019-07-06/test/img/030636971076_0.png\n",
      "Predicted: ga2049 \t\t\t True: gga2049\n",
      "\n",
      "[INFO] /var/www/nomeroff-net24/NomeroffNet/tools/../../data/./dataset/TextDetector/Ge/autoriaNumberplateOcrGe-2019-07-06/test/img/LHL741_0.png\n",
      "Predicted: lwl41 \t\t\t True: lhl741\n",
      "\n",
      "[INFO] /var/www/nomeroff-net24/NomeroffNet/tools/../../data/./dataset/TextDetector/Ge/autoriaNumberplateOcrGe-2019-07-06/test/img/39305075-39305075_9_0.png\n",
      "Predicted: gg444 \t\t\t True: gg4444\n",
      "\n",
      "[INFO] /var/www/nomeroff-net24/NomeroffNet/tools/../../data/./dataset/TextDetector/Ge/autoriaNumberplateOcrGe-2019-07-06/test/img/TBS854_0.png\n",
      "Predicted: tbs581 \t\t\t True: tbs854\n",
      "\n",
      "[INFO] /var/www/nomeroff-net24/NomeroffNet/tools/../../data/./dataset/TextDetector/Ge/autoriaNumberplateOcrGe-2019-07-06/test/img/39409354-39409354_1_0.png\n",
      "Predicted: ls1472 \t\t\t True: gt1472\n",
      "\n",
      "[INFO] /var/www/nomeroff-net24/NomeroffNet/tools/../../data/./dataset/TextDetector/Ge/autoriaNumberplateOcrGe-2019-07-06/test/img/OO001AO_0.png\n",
      "Predicted: dc201a0 \t\t\t True: 00001a0\n",
      "\n",
      "[INFO] /var/www/nomeroff-net24/NomeroffNet/tools/../../data/./dataset/TextDetector/Ge/autoriaNumberplateOcrGe-2019-07-06/test/img/070140322468_1.png\n",
      "Predicted: gf519rf \t\t\t True: b519rf\n",
      "\n",
      "[INFO] /var/www/nomeroff-net24/NomeroffNet/tools/../../data/./dataset/TextDetector/Ge/autoriaNumberplateOcrGe-2019-07-06/test/img/070240356244_0.png\n",
      "Predicted: ig151i \t\t\t True: gg1511\n",
      "\n",
      "[INFO] /var/www/nomeroff-net24/NomeroffNet/tools/../../data/./dataset/TextDetector/Ge/autoriaNumberplateOcrGe-2019-07-06/test/img/31471652-31471652_7_0.png\n",
      "Predicted: gc811gg \t\t\t True: cc811gg\n",
      "\n",
      "[INFO] /var/www/nomeroff-net24/NomeroffNet/tools/../../data/./dataset/TextDetector/Ge/autoriaNumberplateOcrGe-2019-07-06/test/img/062240103793_0.png\n",
      "Predicted: ag493 \t\t\t True: gg4993\n",
      "\n",
      "[INFO] /var/www/nomeroff-net24/NomeroffNet/tools/../../data/./dataset/TextDetector/Ge/autoriaNumberplateOcrGe-2019-07-06/test/img/062040073815_0.png\n",
      "Predicted: nn590hn \t\t\t True: nn590nn\n",
      "\n",
      "[INFO] /var/www/nomeroff-net24/NomeroffNet/tools/../../data/./dataset/TextDetector/Ge/autoriaNumberplateOcrGe-2019-07-06/test/img/063040295415_2.png\n",
      "Predicted: zz008q \t\t\t True: zz4549\n",
      "\n",
      "[INFO] /var/www/nomeroff-net24/NomeroffNet/tools/../../data/./dataset/TextDetector/Ge/autoriaNumberplateOcrGe-2019-07-06/test/img/OO-699-CC_0.png\n",
      "Predicted: 00g699cc \t\t\t True: 00699cc\n",
      "\n",
      "[INFO] /var/www/nomeroff-net24/NomeroffNet/tools/../../data/./dataset/TextDetector/Ge/autoriaNumberplateOcrGe-2019-07-06/test/img/070240349977_1.png\n",
      "Predicted: bb202ms \t\t\t True: bb70zt\n",
      "\n",
      "[INFO] /var/www/nomeroff-net24/NomeroffNet/tools/../../data/./dataset/TextDetector/Ge/autoriaNumberplateOcrGe-2019-07-06/test/img/39357537-39357537_3_0.png\n",
      "Predicted: tn635nt \t\t\t True: tm635nt\n",
      "\n",
      "[INFO] /var/www/nomeroff-net24/NomeroffNet/tools/../../data/./dataset/TextDetector/Ge/autoriaNumberplateOcrGe-2019-07-06/test/img/T 1_1_0.png\n",
      "Predicted: t11 \t\t\t True: t1\n",
      "\n",
      "[INFO] /var/www/nomeroff-net24/NomeroffNet/tools/../../data/./dataset/TextDetector/Ge/autoriaNumberplateOcrGe-2019-07-06/test/img/NUK873_0.png\n",
      "Predicted: iuk873 \t\t\t True: nuk873\n",
      "\n",
      "[INFO] /var/www/nomeroff-net24/NomeroffNet/tools/../../data/./dataset/TextDetector/Ge/autoriaNumberplateOcrGe-2019-07-06/test/img/070240356129_0.png\n",
      "Predicted: ge5453 \t\t\t True: ge3453\n",
      "\n",
      "[INFO] /var/www/nomeroff-net24/NomeroffNet/tools/../../data/./dataset/TextDetector/Ge/autoriaNumberplateOcrGe-2019-07-06/test/img/052739566881_0.png\n",
      "Predicted: lb5000 \t\t\t True: lb50000\n",
      "\n",
      "[INFO] /var/www/nomeroff-net24/NomeroffNet/tools/../../data/./dataset/TextDetector/Ge/autoriaNumberplateOcrGe-2019-07-06/test/img/020135982507_0.png\n",
      "Predicted: hf097fh \t\t\t True: hf007gh\n",
      "\n",
      "[INFO] /var/www/nomeroff-net24/NomeroffNet/tools/../../data/./dataset/TextDetector/Ge/autoriaNumberplateOcrGe-2019-07-06/test/img/070340356628_0.png\n",
      "Predicted: jk001ka \t\t\t True: bk80r0\n",
      "\n",
      "[INFO] /var/www/nomeroff-net24/NomeroffNet/tools/../../data/./dataset/TextDetector/Ge/autoriaNumberplateOcrGe-2019-07-06/test/img/OO040OK_0.png\n",
      "Predicted: 00040dk \t\t\t True: 000400k\n",
      "\n",
      "[INFO] /var/www/nomeroff-net24/NomeroffNet/tools/../../data/./dataset/TextDetector/Ge/autoriaNumberplateOcrGe-2019-07-06/test/img/T1_0.png\n",
      "Predicted: t11 \t\t\t True: t1\n",
      "\n",
      "[INFO] /var/www/nomeroff-net24/NomeroffNet/tools/../../data/./dataset/TextDetector/Ge/autoriaNumberplateOcrGe-2019-07-06/test/img/070140296317_0.png\n",
      "Predicted: jv1977 \t\t\t True: jvj197\n",
      "\n",
      "[INFO] /var/www/nomeroff-net24/NomeroffNet/tools/../../data/./dataset/TextDetector/Ge/autoriaNumberplateOcrGe-2019-07-06/test/img/39409848-39409848_5_0.png\n",
      "Predicted: di011iy \t\t\t True: di011ii\n",
      "\n",
      "[INFO] /var/www/nomeroff-net24/NomeroffNet/tools/../../data/./dataset/TextDetector/Ge/autoriaNumberplateOcrGe-2019-07-06/test/img/070140324633_0.png\n",
      "Predicted: iu989vu \t\t\t True: vu989vd\n"
     ]
    },
    {
     "name": "stderr",
     "output_type": "stream",
     "text": [
      "GPU available: True, used: True\n",
      "TPU available: False, using: 0 TPU cores\n",
      "LOCAL_RANK: 0 - CUDA_VISIBLE_DEVICES: [0]\n",
      "\n",
      "  | Name    | Type       | Params\n",
      "---------------------------------------\n",
      "0 | resnet  | Sequential | 2.8 M \n",
      "1 | cnn     | BlockCNN   | 590 K \n",
      "2 | linear1 | Linear     | 524 K \n",
      "3 | gru1    | BlockRNN   | 139 K \n",
      "4 | gru2    | BlockRNN   | 16.9 K\n",
      "5 | linear2 | Linear     | 2.3 K \n",
      "---------------------------------------\n",
      "4.1 M     Trainable params\n",
      "0         Non-trainable params\n",
      "4.1 M     Total params\n",
      "16.229    Total estimated model params size (MB)\n"
     ]
    },
    {
     "name": "stdout",
     "output_type": "stream",
     "text": [
      "Testing Accuracy:  0.9720329867335963\n",
      "model save to /var/www/nomeroff-net24/models/anpr_ocr_ge_2021_08_30_pytorch_lightning.ckpt.9\n"
     ]
    },
    {
     "name": "stderr",
     "output_type": "stream",
     "text": [
      "Global seed set to 9\n"
     ]
    },
    {
     "data": {
      "application/vnd.jupyter.widget-view+json": {
       "model_id": "9d3d1ec98b1f439e94ef113ffd79ee37",
       "version_major": 2,
       "version_minor": 0
      },
      "text/plain": [
       "HBox(children=(HTML(value='Finding best initial lr'), FloatProgress(value=0.0), HTML(value='')))"
      ]
     },
     "metadata": {},
     "output_type": "display_data"
    },
    {
     "name": "stderr",
     "output_type": "stream",
     "text": [
      "Restored states from the checkpoint file at /var/www/nomeroff-net24/train/lr_find_temp_model.ckpt\n",
      "Global seed set to 10\n",
      "GPU available: True, used: True\n",
      "TPU available: False, using: 0 TPU cores\n",
      "LOCAL_RANK: 0 - CUDA_VISIBLE_DEVICES: [0]\n"
     ]
    },
    {
     "name": "stdout",
     "output_type": "stream",
     "text": [
      "Found lr: 0.5011872336272719\n"
     ]
    },
    {
     "data": {
      "application/vnd.jupyter.widget-view+json": {
       "model_id": "",
       "version_major": 2,
       "version_minor": 0
      },
      "text/plain": [
       "HBox(children=(HTML(value='Validation sanity check'), FloatProgress(value=1.0, bar_style='info', layout=Layout…"
      ]
     },
     "metadata": {},
     "output_type": "display_data"
    },
    {
     "name": "stderr",
     "output_type": "stream",
     "text": [
      "Global seed set to 10\n"
     ]
    },
    {
     "data": {
      "application/vnd.jupyter.widget-view+json": {
       "model_id": "905acfc93f6346f792ce05893069699d",
       "version_major": 2,
       "version_minor": 0
      },
      "text/plain": [
       "HBox(children=(HTML(value='Training'), FloatProgress(value=1.0, bar_style='info', layout=Layout(flex='2'), max…"
      ]
     },
     "metadata": {},
     "output_type": "display_data"
    },
    {
     "name": "stdout",
     "output_type": "stream",
     "text": [
      "\n",
      "\n",
      "\n",
      "\n",
      "\n",
      "\n",
      "\n",
      "\n",
      "\n",
      "\n",
      "\n"
     ]
    },
    {
     "data": {
      "application/vnd.jupyter.widget-view+json": {
       "model_id": "",
       "version_major": 2,
       "version_minor": 0
      },
      "text/plain": [
       "HBox(children=(HTML(value='Validating'), FloatProgress(value=1.0, bar_style='info', layout=Layout(flex='2'), m…"
      ]
     },
     "metadata": {},
     "output_type": "display_data"
    },
    {
     "data": {
      "application/vnd.jupyter.widget-view+json": {
       "model_id": "",
       "version_major": 2,
       "version_minor": 0
      },
      "text/plain": [
       "HBox(children=(HTML(value='Validating'), FloatProgress(value=1.0, bar_style='info', layout=Layout(flex='2'), m…"
      ]
     },
     "metadata": {},
     "output_type": "display_data"
    },
    {
     "data": {
      "application/vnd.jupyter.widget-view+json": {
       "model_id": "",
       "version_major": 2,
       "version_minor": 0
      },
      "text/plain": [
       "HBox(children=(HTML(value='Validating'), FloatProgress(value=1.0, bar_style='info', layout=Layout(flex='2'), m…"
      ]
     },
     "metadata": {},
     "output_type": "display_data"
    },
    {
     "data": {
      "application/vnd.jupyter.widget-view+json": {
       "model_id": "",
       "version_major": 2,
       "version_minor": 0
      },
      "text/plain": [
       "HBox(children=(HTML(value='Validating'), FloatProgress(value=1.0, bar_style='info', layout=Layout(flex='2'), m…"
      ]
     },
     "metadata": {},
     "output_type": "display_data"
    },
    {
     "data": {
      "application/vnd.jupyter.widget-view+json": {
       "model_id": "",
       "version_major": 2,
       "version_minor": 0
      },
      "text/plain": [
       "HBox(children=(HTML(value='Validating'), FloatProgress(value=1.0, bar_style='info', layout=Layout(flex='2'), m…"
      ]
     },
     "metadata": {},
     "output_type": "display_data"
    },
    {
     "data": {
      "application/vnd.jupyter.widget-view+json": {
       "model_id": "",
       "version_major": 2,
       "version_minor": 0
      },
      "text/plain": [
       "HBox(children=(HTML(value='Validating'), FloatProgress(value=1.0, bar_style='info', layout=Layout(flex='2'), m…"
      ]
     },
     "metadata": {},
     "output_type": "display_data"
    },
    {
     "data": {
      "application/vnd.jupyter.widget-view+json": {
       "model_id": "",
       "version_major": 2,
       "version_minor": 0
      },
      "text/plain": [
       "HBox(children=(HTML(value='Validating'), FloatProgress(value=1.0, bar_style='info', layout=Layout(flex='2'), m…"
      ]
     },
     "metadata": {},
     "output_type": "display_data"
    },
    {
     "data": {
      "application/vnd.jupyter.widget-view+json": {
       "model_id": "",
       "version_major": 2,
       "version_minor": 0
      },
      "text/plain": [
       "HBox(children=(HTML(value='Validating'), FloatProgress(value=1.0, bar_style='info', layout=Layout(flex='2'), m…"
      ]
     },
     "metadata": {},
     "output_type": "display_data"
    },
    {
     "data": {
      "application/vnd.jupyter.widget-view+json": {
       "model_id": "",
       "version_major": 2,
       "version_minor": 0
      },
      "text/plain": [
       "HBox(children=(HTML(value='Validating'), FloatProgress(value=1.0, bar_style='info', layout=Layout(flex='2'), m…"
      ]
     },
     "metadata": {},
     "output_type": "display_data"
    },
    {
     "data": {
      "application/vnd.jupyter.widget-view+json": {
       "model_id": "",
       "version_major": 2,
       "version_minor": 0
      },
      "text/plain": [
       "HBox(children=(HTML(value='Validating'), FloatProgress(value=1.0, bar_style='info', layout=Layout(flex='2'), m…"
      ]
     },
     "metadata": {},
     "output_type": "display_data"
    },
    {
     "data": {
      "application/vnd.jupyter.widget-view+json": {
       "model_id": "",
       "version_major": 2,
       "version_minor": 0
      },
      "text/plain": [
       "HBox(children=(HTML(value='Validating'), FloatProgress(value=1.0, bar_style='info', layout=Layout(flex='2'), m…"
      ]
     },
     "metadata": {},
     "output_type": "display_data"
    },
    {
     "data": {
      "application/vnd.jupyter.widget-view+json": {
       "model_id": "",
       "version_major": 2,
       "version_minor": 0
      },
      "text/plain": [
       "HBox(children=(HTML(value='Validating'), FloatProgress(value=1.0, bar_style='info', layout=Layout(flex='2'), m…"
      ]
     },
     "metadata": {},
     "output_type": "display_data"
    },
    {
     "data": {
      "application/vnd.jupyter.widget-view+json": {
       "model_id": "",
       "version_major": 2,
       "version_minor": 0
      },
      "text/plain": [
       "HBox(children=(HTML(value='Validating'), FloatProgress(value=1.0, bar_style='info', layout=Layout(flex='2'), m…"
      ]
     },
     "metadata": {},
     "output_type": "display_data"
    },
    {
     "data": {
      "application/vnd.jupyter.widget-view+json": {
       "model_id": "",
       "version_major": 2,
       "version_minor": 0
      },
      "text/plain": [
       "HBox(children=(HTML(value='Validating'), FloatProgress(value=1.0, bar_style='info', layout=Layout(flex='2'), m…"
      ]
     },
     "metadata": {},
     "output_type": "display_data"
    },
    {
     "data": {
      "application/vnd.jupyter.widget-view+json": {
       "model_id": "",
       "version_major": 2,
       "version_minor": 0
      },
      "text/plain": [
       "HBox(children=(HTML(value='Validating'), FloatProgress(value=1.0, bar_style='info', layout=Layout(flex='2'), m…"
      ]
     },
     "metadata": {},
     "output_type": "display_data"
    },
    {
     "data": {
      "application/vnd.jupyter.widget-view+json": {
       "model_id": "",
       "version_major": 2,
       "version_minor": 0
      },
      "text/plain": [
       "HBox(children=(HTML(value='Validating'), FloatProgress(value=1.0, bar_style='info', layout=Layout(flex='2'), m…"
      ]
     },
     "metadata": {},
     "output_type": "display_data"
    },
    {
     "data": {
      "application/vnd.jupyter.widget-view+json": {
       "model_id": "",
       "version_major": 2,
       "version_minor": 0
      },
      "text/plain": [
       "HBox(children=(HTML(value='Validating'), FloatProgress(value=1.0, bar_style='info', layout=Layout(flex='2'), m…"
      ]
     },
     "metadata": {},
     "output_type": "display_data"
    },
    {
     "data": {
      "application/vnd.jupyter.widget-view+json": {
       "model_id": "",
       "version_major": 2,
       "version_minor": 0
      },
      "text/plain": [
       "HBox(children=(HTML(value='Validating'), FloatProgress(value=1.0, bar_style='info', layout=Layout(flex='2'), m…"
      ]
     },
     "metadata": {},
     "output_type": "display_data"
    },
    {
     "data": {
      "application/vnd.jupyter.widget-view+json": {
       "model_id": "",
       "version_major": 2,
       "version_minor": 0
      },
      "text/plain": [
       "HBox(children=(HTML(value='Validating'), FloatProgress(value=1.0, bar_style='info', layout=Layout(flex='2'), m…"
      ]
     },
     "metadata": {},
     "output_type": "display_data"
    },
    {
     "data": {
      "application/vnd.jupyter.widget-view+json": {
       "model_id": "",
       "version_major": 2,
       "version_minor": 0
      },
      "text/plain": [
       "HBox(children=(HTML(value='Validating'), FloatProgress(value=1.0, bar_style='info', layout=Layout(flex='2'), m…"
      ]
     },
     "metadata": {},
     "output_type": "display_data"
    },
    {
     "data": {
      "application/vnd.jupyter.widget-view+json": {
       "model_id": "",
       "version_major": 2,
       "version_minor": 0
      },
      "text/plain": [
       "HBox(children=(HTML(value='Validating'), FloatProgress(value=1.0, bar_style='info', layout=Layout(flex='2'), m…"
      ]
     },
     "metadata": {},
     "output_type": "display_data"
    },
    {
     "data": {
      "application/vnd.jupyter.widget-view+json": {
       "model_id": "",
       "version_major": 2,
       "version_minor": 0
      },
      "text/plain": [
       "HBox(children=(HTML(value='Validating'), FloatProgress(value=1.0, bar_style='info', layout=Layout(flex='2'), m…"
      ]
     },
     "metadata": {},
     "output_type": "display_data"
    },
    {
     "data": {
      "application/vnd.jupyter.widget-view+json": {
       "model_id": "",
       "version_major": 2,
       "version_minor": 0
      },
      "text/plain": [
       "HBox(children=(HTML(value='Validating'), FloatProgress(value=1.0, bar_style='info', layout=Layout(flex='2'), m…"
      ]
     },
     "metadata": {},
     "output_type": "display_data"
    },
    {
     "data": {
      "application/vnd.jupyter.widget-view+json": {
       "model_id": "",
       "version_major": 2,
       "version_minor": 0
      },
      "text/plain": [
       "HBox(children=(HTML(value='Validating'), FloatProgress(value=1.0, bar_style='info', layout=Layout(flex='2'), m…"
      ]
     },
     "metadata": {},
     "output_type": "display_data"
    },
    {
     "data": {
      "application/vnd.jupyter.widget-view+json": {
       "model_id": "",
       "version_major": 2,
       "version_minor": 0
      },
      "text/plain": [
       "HBox(children=(HTML(value='Validating'), FloatProgress(value=1.0, bar_style='info', layout=Layout(flex='2'), m…"
      ]
     },
     "metadata": {},
     "output_type": "display_data"
    },
    {
     "data": {
      "application/vnd.jupyter.widget-view+json": {
       "model_id": "",
       "version_major": 2,
       "version_minor": 0
      },
      "text/plain": [
       "HBox(children=(HTML(value='Validating'), FloatProgress(value=1.0, bar_style='info', layout=Layout(flex='2'), m…"
      ]
     },
     "metadata": {},
     "output_type": "display_data"
    },
    {
     "data": {
      "application/vnd.jupyter.widget-view+json": {
       "model_id": "",
       "version_major": 2,
       "version_minor": 0
      },
      "text/plain": [
       "HBox(children=(HTML(value='Validating'), FloatProgress(value=1.0, bar_style='info', layout=Layout(flex='2'), m…"
      ]
     },
     "metadata": {},
     "output_type": "display_data"
    },
    {
     "data": {
      "application/vnd.jupyter.widget-view+json": {
       "model_id": "",
       "version_major": 2,
       "version_minor": 0
      },
      "text/plain": [
       "HBox(children=(HTML(value='Validating'), FloatProgress(value=1.0, bar_style='info', layout=Layout(flex='2'), m…"
      ]
     },
     "metadata": {},
     "output_type": "display_data"
    },
    {
     "data": {
      "application/vnd.jupyter.widget-view+json": {
       "model_id": "",
       "version_major": 2,
       "version_minor": 0
      },
      "text/plain": [
       "HBox(children=(HTML(value='Validating'), FloatProgress(value=1.0, bar_style='info', layout=Layout(flex='2'), m…"
      ]
     },
     "metadata": {},
     "output_type": "display_data"
    },
    {
     "data": {
      "application/vnd.jupyter.widget-view+json": {
       "model_id": "",
       "version_major": 2,
       "version_minor": 0
      },
      "text/plain": [
       "HBox(children=(HTML(value='Validating'), FloatProgress(value=1.0, bar_style='info', layout=Layout(flex='2'), m…"
      ]
     },
     "metadata": {},
     "output_type": "display_data"
    },
    {
     "data": {
      "application/vnd.jupyter.widget-view+json": {
       "model_id": "",
       "version_major": 2,
       "version_minor": 0
      },
      "text/plain": [
       "HBox(children=(HTML(value='Validating'), FloatProgress(value=1.0, bar_style='info', layout=Layout(flex='2'), m…"
      ]
     },
     "metadata": {},
     "output_type": "display_data"
    },
    {
     "data": {
      "application/vnd.jupyter.widget-view+json": {
       "model_id": "",
       "version_major": 2,
       "version_minor": 0
      },
      "text/plain": [
       "HBox(children=(HTML(value='Validating'), FloatProgress(value=1.0, bar_style='info', layout=Layout(flex='2'), m…"
      ]
     },
     "metadata": {},
     "output_type": "display_data"
    },
    {
     "data": {
      "application/vnd.jupyter.widget-view+json": {
       "model_id": "",
       "version_major": 2,
       "version_minor": 0
      },
      "text/plain": [
       "HBox(children=(HTML(value='Validating'), FloatProgress(value=1.0, bar_style='info', layout=Layout(flex='2'), m…"
      ]
     },
     "metadata": {},
     "output_type": "display_data"
    },
    {
     "data": {
      "application/vnd.jupyter.widget-view+json": {
       "model_id": "",
       "version_major": 2,
       "version_minor": 0
      },
      "text/plain": [
       "HBox(children=(HTML(value='Validating'), FloatProgress(value=1.0, bar_style='info', layout=Layout(flex='2'), m…"
      ]
     },
     "metadata": {},
     "output_type": "display_data"
    },
    {
     "data": {
      "application/vnd.jupyter.widget-view+json": {
       "model_id": "",
       "version_major": 2,
       "version_minor": 0
      },
      "text/plain": [
       "HBox(children=(HTML(value='Validating'), FloatProgress(value=1.0, bar_style='info', layout=Layout(flex='2'), m…"
      ]
     },
     "metadata": {},
     "output_type": "display_data"
    },
    {
     "name": "stderr",
     "output_type": "stream",
     "text": [
      "LOCAL_RANK: 0 - CUDA_VISIBLE_DEVICES: [0]\n"
     ]
    },
    {
     "name": "stdout",
     "output_type": "stream",
     "text": [
      "\n",
      "[INFO] best model path /var/www/nomeroff-net24/NomeroffNet/data/logs/ocr/epoch=30-step=12151-v2.ckpt\n"
     ]
    },
    {
     "data": {
      "application/vnd.jupyter.widget-view+json": {
       "model_id": "18840d29798748fd8391eee0cc62ae55",
       "version_major": 2,
       "version_minor": 0
      },
      "text/plain": [
       "HBox(children=(HTML(value='Testing'), FloatProgress(value=1.0, bar_style='info', layout=Layout(flex='2'), max=…"
      ]
     },
     "metadata": {},
     "output_type": "display_data"
    },
    {
     "name": "stdout",
     "output_type": "stream",
     "text": [
      "\n",
      "--------------------------------------------------------------------------------\n",
      "DATALOADER:0 TEST RESULTS\n",
      "{'test_loss': 0.06411600857973099}\n",
      "--------------------------------------------------------------------------------\n",
      "\n",
      "[INFO] /var/www/nomeroff-net24/NomeroffNet/tools/../../data/./dataset/TextDetector/Ge/autoriaNumberplateOcrGe-2019-07-06/test/img/070240333897_0.png\n",
      "Predicted: n575x \t\t\t True: nn575xx\n",
      "\n",
      "[INFO] /var/www/nomeroff-net24/NomeroffNet/tools/../../data/./dataset/TextDetector/Ge/autoriaNumberplateOcrGe-2019-07-06/test/img/II672MI_1.png\n",
      "Predicted: aa7995te \t\t\t True: ii672mi\n",
      "\n",
      "[INFO] /var/www/nomeroff-net24/NomeroffNet/tools/../../data/./dataset/TextDetector/Ge/autoriaNumberplateOcrGe-2019-07-06/test/img/070140295957_0.png\n",
      "Predicted: wu90a \t\t\t True: wu906a\n",
      "\n",
      "[INFO] /var/www/nomeroff-net24/NomeroffNet/tools/../../data/./dataset/TextDetector/Ge/autoriaNumberplateOcrGe-2019-07-06/test/img/112734171320_0.png\n",
      "Predicted: zb35s \t\t\t True: r735ss\n",
      "\n",
      "[INFO] /var/www/nomeroff-net24/NomeroffNet/tools/../../data/./dataset/TextDetector/Ge/autoriaNumberplateOcrGe-2019-07-06/test/img/37135583-37135583_3_0.png\n",
      "Predicted: k947fk \t\t\t True: kf947fk\n",
      "\n",
      "[INFO] /var/www/nomeroff-net24/NomeroffNet/tools/../../data/./dataset/TextDetector/Ge/autoriaNumberplateOcrGe-2019-07-06/test/img/AA559AA_2.png\n",
      "Predicted: sbr866 \t\t\t True: sbr888\n",
      "\n",
      "[INFO] /var/www/nomeroff-net24/NomeroffNet/tools/../../data/./dataset/TextDetector/Ge/autoriaNumberplateOcrGe-2019-07-06/test/img/DUT300_0.png\n",
      "Predicted: bw029bw \t\t\t True: dut300\n",
      "\n",
      "[INFO] /var/www/nomeroff-net24/NomeroffNet/tools/../../data/./dataset/TextDetector/Ge/autoriaNumberplateOcrGe-2019-07-06/test/img/QJQ488_0.png\n",
      "Predicted: zjq488 \t\t\t True: qjq488\n",
      "\n",
      "[INFO] /var/www/nomeroff-net24/NomeroffNet/tools/../../data/./dataset/TextDetector/Ge/autoriaNumberplateOcrGe-2019-07-06/test/img/070240345355_0.png\n",
      "Predicted: z0969zq \t\t\t True: zq969zq\n",
      "\n",
      "[INFO] /var/www/nomeroff-net24/NomeroffNet/tools/../../data/./dataset/TextDetector/Ge/autoriaNumberplateOcrGe-2019-07-06/test/img/LOR600_0.png\n",
      "Predicted: lar600 \t\t\t True: l0r600\n",
      "\n",
      "[INFO] /var/www/nomeroff-net24/NomeroffNet/tools/../../data/./dataset/TextDetector/Ge/autoriaNumberplateOcrGe-2019-07-06/test/img/HO404OH_0.png\n",
      "Predicted: h0440h \t\t\t True: h04040h\n",
      "\n",
      "[INFO] /var/www/nomeroff-net24/NomeroffNet/tools/../../data/./dataset/TextDetector/Ge/autoriaNumberplateOcrGe-2019-07-06/test/img/063040295215_0.png\n",
      "Predicted: ga6014 \t\t\t True: ga6074\n",
      "\n",
      "[INFO] /var/www/nomeroff-net24/NomeroffNet/tools/../../data/./dataset/TextDetector/Ge/autoriaNumberplateOcrGe-2019-07-06/test/img/062540185472_0.png\n",
      "Predicted: aa760a \t\t\t True: aa760xa\n",
      "\n",
      "[INFO] /var/www/nomeroff-net24/NomeroffNet/tools/../../data/./dataset/TextDetector/Ge/autoriaNumberplateOcrGe-2019-07-06/test/img/070240335020_0.png\n",
      "Predicted: hyh533 \t\t\t True: hvh533\n",
      "\n",
      "[INFO] /var/www/nomeroff-net24/NomeroffNet/tools/../../data/./dataset/TextDetector/Ge/autoriaNumberplateOcrGe-2019-07-06/test/img/112934176224_0.png\n",
      "Predicted: sy840zs \t\t\t True: s78402s\n",
      "\n",
      "[INFO] /var/www/nomeroff-net24/NomeroffNet/tools/../../data/./dataset/TextDetector/Ge/autoriaNumberplateOcrGe-2019-07-06/test/img/070240325158_0.png\n",
      "Predicted: epe923 \t\t\t True: epe023\n",
      "\n",
      "[INFO] /var/www/nomeroff-net24/NomeroffNet/tools/../../data/./dataset/TextDetector/Ge/autoriaNumberplateOcrGe-2019-07-06/test/img/GGG386_1.png\n",
      "Predicted: ggg388 \t\t\t True: ggg386\n",
      "\n",
      "[INFO] /var/www/nomeroff-net24/NomeroffNet/tools/../../data/./dataset/TextDetector/Ge/autoriaNumberplateOcrGe-2019-07-06/test/img/BZB-169_1_0.png\n",
      "Predicted: bzb1069 \t\t\t True: bzb169\n",
      "\n",
      "[INFO] /var/www/nomeroff-net24/NomeroffNet/tools/../../data/./dataset/TextDetector/Ge/autoriaNumberplateOcrGe-2019-07-06/test/img/070240349203_0.png\n",
      "Predicted: g777dk \t\t\t True: gt777dk\n",
      "\n",
      "[INFO] /var/www/nomeroff-net24/NomeroffNet/tools/../../data/./dataset/TextDetector/Ge/autoriaNumberplateOcrGe-2019-07-06/test/img/070240355982_0.png\n",
      "Predicted: kk981dd \t\t\t True: xk981dd\n",
      "\n",
      "[INFO] /var/www/nomeroff-net24/NomeroffNet/tools/../../data/./dataset/TextDetector/Ge/autoriaNumberplateOcrGe-2019-07-06/test/img/15574896365cd567e464889_0.png\n",
      "Predicted: cm117mc \t\t\t True: ch117mc\n",
      "\n",
      "[INFO] /var/www/nomeroff-net24/NomeroffNet/tools/../../data/./dataset/TextDetector/Ge/autoriaNumberplateOcrGe-2019-07-06/test/img/DO521RI_0.png\n",
      "Predicted: 00521ari \t\t\t True: d0521ri\n",
      "\n",
      "[INFO] /var/www/nomeroff-net24/NomeroffNet/tools/../../data/./dataset/TextDetector/Ge/autoriaNumberplateOcrGe-2019-07-06/test/img/39051630-39051630_6_0.png\n",
      "Predicted: gt3097 \t\t\t True: gt3097j\n",
      "\n",
      "[INFO] /var/www/nomeroff-net24/NomeroffNet/tools/../../data/./dataset/TextDetector/Ge/autoriaNumberplateOcrGe-2019-07-06/test/img/063040293062_0.png\n",
      "Predicted: uu920ss \t\t\t True: u0920ss\n",
      "\n",
      "[INFO] /var/www/nomeroff-net24/NomeroffNet/tools/../../data/./dataset/TextDetector/Ge/autoriaNumberplateOcrGe-2019-07-06/test/img/060439723842_0.png\n",
      "Predicted: ge557z \t\t\t True: ge5597\n",
      "\n",
      "[INFO] /var/www/nomeroff-net24/NomeroffNet/tools/../../data/./dataset/TextDetector/Ge/autoriaNumberplateOcrGe-2019-07-06/test/img/062140102567_0.png\n",
      "Predicted: ga349 \t\t\t True: ga3499\n",
      "\n",
      "[INFO] /var/www/nomeroff-net24/NomeroffNet/tools/../../data/./dataset/TextDetector/Ge/autoriaNumberplateOcrGe-2019-07-06/test/img/VW046WW_0.png\n",
      "Predicted: c44za \t\t\t True: vw046ww\n",
      "\n",
      "[INFO] /var/www/nomeroff-net24/NomeroffNet/tools/../../data/./dataset/TextDetector/Ge/autoriaNumberplateOcrGe-2019-07-06/test/img/KY888IV_0.png\n",
      "Predicted: ky888yv \t\t\t True: ky888iv\n",
      "\n",
      "[INFO] /var/www/nomeroff-net24/NomeroffNet/tools/../../data/./dataset/TextDetector/Ge/autoriaNumberplateOcrGe-2019-07-06/test/img/GSM565_0.png\n",
      "Predicted: gsm566 \t\t\t True: gsm565\n",
      "\n",
      "[INFO] /var/www/nomeroff-net24/NomeroffNet/tools/../../data/./dataset/TextDetector/Ge/autoriaNumberplateOcrGe-2019-07-06/test/img/070440385125_0.png\n",
      "Predicted: zc230a \t\t\t True: zc230cz\n",
      "\n",
      "[INFO] /var/www/nomeroff-net24/NomeroffNet/tools/../../data/./dataset/TextDetector/Ge/autoriaNumberplateOcrGe-2019-07-06/test/img/39363006-39363006_4_0.png\n",
      "Predicted: zn880nz \t\t\t True: zn880wz\n",
      "\n",
      "[INFO] /var/www/nomeroff-net24/NomeroffNet/tools/../../data/./dataset/TextDetector/Ge/autoriaNumberplateOcrGe-2019-07-06/test/img/XATIA_0.png\n",
      "Predicted: xataa \t\t\t True: xatia\n",
      "\n",
      "[INFO] /var/www/nomeroff-net24/NomeroffNet/tools/../../data/./dataset/TextDetector/Ge/autoriaNumberplateOcrGe-2019-07-06/test/img/15607660355d0766533b88a_0.png\n",
      "Predicted: 0z53800 \t\t\t True: 0zs3800\n",
      "\n",
      "[INFO] /var/www/nomeroff-net24/NomeroffNet/tools/../../data/./dataset/TextDetector/Ge/autoriaNumberplateOcrGe-2019-07-06/test/img/WT040TW_0.png\n",
      "Predicted: cx062 \t\t\t True: wt040tw\n",
      "\n",
      "[INFO] /var/www/nomeroff-net24/NomeroffNet/tools/../../data/./dataset/TextDetector/Ge/autoriaNumberplateOcrGe-2019-07-06/test/img/TBT177_0.png\n",
      "Predicted: ibt177 \t\t\t True: tbt177\n",
      "\n",
      "[INFO] /var/www/nomeroff-net24/NomeroffNet/tools/../../data/./dataset/TextDetector/Ge/autoriaNumberplateOcrGe-2019-07-06/test/img/062940279574_0.png\n",
      "Predicted: hi700ls \t\t\t True: mm700ls\n",
      "\n",
      "[INFO] /var/www/nomeroff-net24/NomeroffNet/tools/../../data/./dataset/TextDetector/Ge/autoriaNumberplateOcrGe-2019-07-06/test/img/SS816SS_0.png\n",
      "Predicted: ss816sg \t\t\t True: ss816ss\n",
      "\n",
      "[INFO] /var/www/nomeroff-net24/NomeroffNet/tools/../../data/./dataset/TextDetector/Ge/autoriaNumberplateOcrGe-2019-07-06/test/img/AA435CA_0.png\n",
      "Predicted: aa455ga \t\t\t True: aa435ca\n",
      "\n",
      "[INFO] /var/www/nomeroff-net24/NomeroffNet/tools/../../data/./dataset/TextDetector/Ge/autoriaNumberplateOcrGe-2019-07-06/test/img/BS875S_0.png\n",
      "Predicted: b875s \t\t\t True: bs875s\n",
      "\n",
      "[INFO] /var/www/nomeroff-net24/NomeroffNet/tools/../../data/./dataset/TextDetector/Ge/autoriaNumberplateOcrGe-2019-07-06/test/img/XIM005_0.png\n",
      "Predicted: cs899sc \t\t\t True: xim005\n",
      "\n",
      "[INFO] /var/www/nomeroff-net24/NomeroffNet/tools/../../data/./dataset/TextDetector/Ge/autoriaNumberplateOcrGe-2019-07-06/test/img/063040293437_0.png\n",
      "Predicted: rr522rr \t\t\t True: rr527rr\n",
      "\n",
      "[INFO] /var/www/nomeroff-net24/NomeroffNet/tools/../../data/./dataset/TextDetector/Ge/autoriaNumberplateOcrGe-2019-07-06/test/img/061139869255_0.png\n",
      "Predicted: ff584rr \t\t\t True: ff654rr\n",
      "\n",
      "[INFO] /var/www/nomeroff-net24/NomeroffNet/tools/../../data/./dataset/TextDetector/Ge/autoriaNumberplateOcrGe-2019-07-06/test/img/GVB444_0.png\n",
      "Predicted: gv444 \t\t\t True: gvb444\n",
      "\n",
      "[INFO] /var/www/nomeroff-net24/NomeroffNet/tools/../../data/./dataset/TextDetector/Ge/autoriaNumberplateOcrGe-2019-07-06/test/img/062040061442_0.png\n",
      "Predicted: ga7461 \t\t\t True: ga7651\n",
      "\n",
      "[INFO] /var/www/nomeroff-net24/NomeroffNet/tools/../../data/./dataset/TextDetector/Ge/autoriaNumberplateOcrGe-2019-07-06/test/img/JCJ835_0.png\n",
      "Predicted: zjj835 \t\t\t True: jcj835\n",
      "\n",
      "[INFO] /var/www/nomeroff-net24/NomeroffNet/tools/../../data/./dataset/TextDetector/Ge/autoriaNumberplateOcrGe-2019-07-06/test/img/HH055HH_0.png\n",
      "Predicted: bi546ch \t\t\t True: hh055hh\n",
      "\n",
      "[INFO] /var/www/nomeroff-net24/NomeroffNet/tools/../../data/./dataset/TextDetector/Ge/autoriaNumberplateOcrGe-2019-07-06/test/img/063040290881_0.png\n",
      "Predicted: xm730mxx \t\t\t True: xm730mx\n"
     ]
    },
    {
     "name": "stdout",
     "output_type": "stream",
     "text": [
      "\n",
      "[INFO] /var/www/nomeroff-net24/NomeroffNet/tools/../../data/./dataset/TextDetector/Ge/autoriaNumberplateOcrGe-2019-07-06/test/img/GMB500_0.png\n",
      "Predicted: tsb55 \t\t\t True: gmb500\n",
      "\n",
      "[INFO] /var/www/nomeroff-net24/NomeroffNet/tools/../../data/./dataset/TextDetector/Ge/autoriaNumberplateOcrGe-2019-07-06/test/img/070140308578_0.png\n",
      "Predicted: ge9942 \t\t\t True: ge99942\n",
      "\n",
      "[INFO] /var/www/nomeroff-net24/NomeroffNet/tools/../../data/./dataset/TextDetector/Ge/autoriaNumberplateOcrGe-2019-07-06/test/img/WWO931_0.png\n",
      "Predicted: wm0901 \t\t\t True: ww0931\n",
      "\n",
      "[INFO] /var/www/nomeroff-net24/NomeroffNet/tools/../../data/./dataset/TextDetector/Ge/autoriaNumberplateOcrGe-2019-07-06/test/img/070340375542_0.png\n",
      "Predicted: id14dd \t\t\t True: id144dd\n",
      "\n",
      "[INFO] /var/www/nomeroff-net24/NomeroffNet/tools/../../data/./dataset/TextDetector/Ge/autoriaNumberplateOcrGe-2019-07-06/test/img/SS501VV_0.png\n",
      "Predicted: ss501vy \t\t\t True: ss501vv\n",
      "\n",
      "[INFO] /var/www/nomeroff-net24/NomeroffNet/tools/../../data/./dataset/TextDetector/Ge/autoriaNumberplateOcrGe-2019-07-06/test/img/062140103812_0.png\n",
      "Predicted: cc634ww \t\t\t True: cc634wv\n",
      "\n",
      "[INFO] /var/www/nomeroff-net24/NomeroffNet/tools/../../data/./dataset/TextDetector/Ge/autoriaNumberplateOcrGe-2019-07-06/test/img/TWT005_0.png\n",
      "Predicted: tvt005 \t\t\t True: twt005\n",
      "\n",
      "[INFO] /var/www/nomeroff-net24/NomeroffNet/tools/../../data/./dataset/TextDetector/Ge/autoriaNumberplateOcrGe-2019-07-06/test/img/BBS602_1.png\n",
      "Predicted: 0z399zd \t\t\t True: dz399zd\n",
      "\n",
      "[INFO] /var/www/nomeroff-net24/NomeroffNet/tools/../../data/./dataset/TextDetector/Ge/autoriaNumberplateOcrGe-2019-07-06/test/img/070240355986_0.png\n",
      "Predicted: 0gj652 \t\t\t True: jgj652\n",
      "\n",
      "[INFO] /var/www/nomeroff-net24/NomeroffNet/tools/../../data/./dataset/TextDetector/Ge/autoriaNumberplateOcrGe-2019-07-06/test/img/SG-837-SG_0.png\n",
      "Predicted: sg839sg \t\t\t True: sg837sg\n",
      "\n",
      "[INFO] /var/www/nomeroff-net24/NomeroffNet/tools/../../data/./dataset/TextDetector/Ge/autoriaNumberplateOcrGe-2019-07-06/test/img/030636971076_0.png\n",
      "Predicted: ga2049 \t\t\t True: gga2049\n",
      "\n",
      "[INFO] /var/www/nomeroff-net24/NomeroffNet/tools/../../data/./dataset/TextDetector/Ge/autoriaNumberplateOcrGe-2019-07-06/test/img/060839826585_0.png\n",
      "Predicted: mm090mn \t\t\t True: mn090mn\n",
      "\n",
      "[INFO] /var/www/nomeroff-net24/NomeroffNet/tools/../../data/./dataset/TextDetector/Ge/autoriaNumberplateOcrGe-2019-07-06/test/img/TBS854_0.png\n",
      "Predicted: tss544 \t\t\t True: tbs854\n",
      "\n",
      "[INFO] /var/www/nomeroff-net24/NomeroffNet/tools/../../data/./dataset/TextDetector/Ge/autoriaNumberplateOcrGe-2019-07-06/test/img/AA-577-C_0.png\n",
      "Predicted: aa57c \t\t\t True: aa577c\n",
      "\n",
      "[INFO] /var/www/nomeroff-net24/NomeroffNet/tools/../../data/./dataset/TextDetector/Ge/autoriaNumberplateOcrGe-2019-07-06/test/img/OO001AO_0.png\n",
      "Predicted: dd001a0 \t\t\t True: 00001a0\n",
      "\n",
      "[INFO] /var/www/nomeroff-net24/NomeroffNet/tools/../../data/./dataset/TextDetector/Ge/autoriaNumberplateOcrGe-2019-07-06/test/img/070140322468_1.png\n",
      "Predicted: ea519rf \t\t\t True: b519rf\n",
      "\n",
      "[INFO] /var/www/nomeroff-net24/NomeroffNet/tools/../../data/./dataset/TextDetector/Ge/autoriaNumberplateOcrGe-2019-07-06/test/img/070240356244_0.png\n",
      "Predicted: lg1511i \t\t\t True: gg1511\n",
      "\n",
      "[INFO] /var/www/nomeroff-net24/NomeroffNet/tools/../../data/./dataset/TextDetector/Ge/autoriaNumberplateOcrGe-2019-07-06/test/img/31471652-31471652_7_0.png\n",
      "Predicted: gc811gg \t\t\t True: cc811gg\n",
      "\n",
      "[INFO] /var/www/nomeroff-net24/NomeroffNet/tools/../../data/./dataset/TextDetector/Ge/autoriaNumberplateOcrGe-2019-07-06/test/img/062240103793_0.png\n",
      "Predicted: ggg493 \t\t\t True: gg4993\n",
      "\n",
      "[INFO] /var/www/nomeroff-net24/NomeroffNet/tools/../../data/./dataset/TextDetector/Ge/autoriaNumberplateOcrGe-2019-07-06/test/img/062040073815_0.png\n",
      "Predicted: nn590hn \t\t\t True: nn590nn\n",
      "\n",
      "[INFO] /var/www/nomeroff-net24/NomeroffNet/tools/../../data/./dataset/TextDetector/Ge/autoriaNumberplateOcrGe-2019-07-06/test/img/063040295415_2.png\n",
      "Predicted: zza0qq \t\t\t True: zz4549\n",
      "\n",
      "[INFO] /var/www/nomeroff-net24/NomeroffNet/tools/../../data/./dataset/TextDetector/Ge/autoriaNumberplateOcrGe-2019-07-06/test/img/OO-699-CC_0.png\n",
      "Predicted: 000699cc \t\t\t True: 00699cc\n",
      "\n",
      "[INFO] /var/www/nomeroff-net24/NomeroffNet/tools/../../data/./dataset/TextDetector/Ge/autoriaNumberplateOcrGe-2019-07-06/test/img/TIA074_1.png\n",
      "Predicted: tta074 \t\t\t True: tia074\n",
      "\n",
      "[INFO] /var/www/nomeroff-net24/NomeroffNet/tools/../../data/./dataset/TextDetector/Ge/autoriaNumberplateOcrGe-2019-07-06/test/img/VAA951_0.png\n",
      "Predicted: vaa95h \t\t\t True: vaa951\n",
      "\n",
      "[INFO] /var/www/nomeroff-net24/NomeroffNet/tools/../../data/./dataset/TextDetector/Ge/autoriaNumberplateOcrGe-2019-07-06/test/img/070240349977_1.png\n",
      "Predicted: bb202m \t\t\t True: bb70zt\n",
      "\n",
      "[INFO] /var/www/nomeroff-net24/NomeroffNet/tools/../../data/./dataset/TextDetector/Ge/autoriaNumberplateOcrGe-2019-07-06/test/img/39357537-39357537_3_0.png\n",
      "Predicted: tn635nt \t\t\t True: tm635nt\n",
      "\n",
      "[INFO] /var/www/nomeroff-net24/NomeroffNet/tools/../../data/./dataset/TextDetector/Ge/autoriaNumberplateOcrGe-2019-07-06/test/img/NUK873_0.png\n",
      "Predicted: muk873 \t\t\t True: nuk873\n",
      "\n",
      "[INFO] /var/www/nomeroff-net24/NomeroffNet/tools/../../data/./dataset/TextDetector/Ge/autoriaNumberplateOcrGe-2019-07-06/test/img/070240356129_0.png\n",
      "Predicted: ge5453 \t\t\t True: ge3453\n",
      "\n",
      "[INFO] /var/www/nomeroff-net24/NomeroffNet/tools/../../data/./dataset/TextDetector/Ge/autoriaNumberplateOcrGe-2019-07-06/test/img/052739566881_0.png\n",
      "Predicted: lb5000 \t\t\t True: lb50000\n",
      "\n",
      "[INFO] /var/www/nomeroff-net24/NomeroffNet/tools/../../data/./dataset/TextDetector/Ge/autoriaNumberplateOcrGe-2019-07-06/test/img/020135982507_0.png\n",
      "Predicted: hf097fh \t\t\t True: hf007gh\n",
      "\n",
      "[INFO] /var/www/nomeroff-net24/NomeroffNet/tools/../../data/./dataset/TextDetector/Ge/autoriaNumberplateOcrGe-2019-07-06/test/img/070340356628_0.png\n",
      "Predicted: lk001ka \t\t\t True: bk80r0\n",
      "\n",
      "[INFO] /var/www/nomeroff-net24/NomeroffNet/tools/../../data/./dataset/TextDetector/Ge/autoriaNumberplateOcrGe-2019-07-06/test/img/070340383232_0.png\n",
      "Predicted: gt1653 \t\t\t True: gt1453\n",
      "\n",
      "[INFO] /var/www/nomeroff-net24/NomeroffNet/tools/../../data/./dataset/TextDetector/Ge/autoriaNumberplateOcrGe-2019-07-06/test/img/070140324633_0.png\n",
      "Predicted: vu989vu \t\t\t True: vu989vd\n"
     ]
    },
    {
     "name": "stderr",
     "output_type": "stream",
     "text": [
      "GPU available: True, used: True\n",
      "TPU available: False, using: 0 TPU cores\n",
      "LOCAL_RANK: 0 - CUDA_VISIBLE_DEVICES: [0]\n",
      "\n",
      "  | Name    | Type       | Params\n",
      "---------------------------------------\n",
      "0 | resnet  | Sequential | 2.8 M \n",
      "1 | cnn     | BlockCNN   | 590 K \n",
      "2 | linear1 | Linear     | 524 K \n",
      "3 | gru1    | BlockRNN   | 139 K \n",
      "4 | gru2    | BlockRNN   | 16.9 K\n",
      "5 | linear2 | Linear     | 2.3 K \n",
      "---------------------------------------\n",
      "4.1 M     Trainable params\n",
      "0         Non-trainable params\n",
      "4.1 M     Total params\n",
      "16.229    Total estimated model params size (MB)\n"
     ]
    },
    {
     "name": "stdout",
     "output_type": "stream",
     "text": [
      "Testing Accuracy:  0.9713158838293295\n",
      "model save to /var/www/nomeroff-net24/models/anpr_ocr_ge_2021_08_30_pytorch_lightning.ckpt.10\n"
     ]
    },
    {
     "name": "stderr",
     "output_type": "stream",
     "text": [
      "Global seed set to 10\n"
     ]
    },
    {
     "data": {
      "application/vnd.jupyter.widget-view+json": {
       "model_id": "6c57ff7f32794035b50fdd3e2d71864c",
       "version_major": 2,
       "version_minor": 0
      },
      "text/plain": [
       "HBox(children=(HTML(value='Finding best initial lr'), FloatProgress(value=0.0), HTML(value='')))"
      ]
     },
     "metadata": {},
     "output_type": "display_data"
    },
    {
     "name": "stderr",
     "output_type": "stream",
     "text": [
      "Restored states from the checkpoint file at /var/www/nomeroff-net24/train/lr_find_temp_model.ckpt\n",
      "Global seed set to 11\n",
      "GPU available: True, used: True\n",
      "TPU available: False, using: 0 TPU cores\n",
      "LOCAL_RANK: 0 - CUDA_VISIBLE_DEVICES: [0]\n"
     ]
    },
    {
     "name": "stdout",
     "output_type": "stream",
     "text": [
      "Found lr: 0.5011872336272719\n"
     ]
    },
    {
     "data": {
      "application/vnd.jupyter.widget-view+json": {
       "model_id": "",
       "version_major": 2,
       "version_minor": 0
      },
      "text/plain": [
       "HBox(children=(HTML(value='Validation sanity check'), FloatProgress(value=1.0, bar_style='info', layout=Layout…"
      ]
     },
     "metadata": {},
     "output_type": "display_data"
    },
    {
     "name": "stdout",
     "output_type": "stream",
     "text": [
      "\n"
     ]
    },
    {
     "name": "stderr",
     "output_type": "stream",
     "text": [
      "Global seed set to 11\n"
     ]
    },
    {
     "data": {
      "application/vnd.jupyter.widget-view+json": {
       "model_id": "02086288eb6e4a9fb05ba00ba7f318b4",
       "version_major": 2,
       "version_minor": 0
      },
      "text/plain": [
       "HBox(children=(HTML(value='Training'), FloatProgress(value=1.0, bar_style='info', layout=Layout(flex='2'), max…"
      ]
     },
     "metadata": {},
     "output_type": "display_data"
    },
    {
     "data": {
      "application/vnd.jupyter.widget-view+json": {
       "model_id": "",
       "version_major": 2,
       "version_minor": 0
      },
      "text/plain": [
       "HBox(children=(HTML(value='Validating'), FloatProgress(value=1.0, bar_style='info', layout=Layout(flex='2'), m…"
      ]
     },
     "metadata": {},
     "output_type": "display_data"
    },
    {
     "data": {
      "application/vnd.jupyter.widget-view+json": {
       "model_id": "",
       "version_major": 2,
       "version_minor": 0
      },
      "text/plain": [
       "HBox(children=(HTML(value='Validating'), FloatProgress(value=1.0, bar_style='info', layout=Layout(flex='2'), m…"
      ]
     },
     "metadata": {},
     "output_type": "display_data"
    },
    {
     "data": {
      "application/vnd.jupyter.widget-view+json": {
       "model_id": "",
       "version_major": 2,
       "version_minor": 0
      },
      "text/plain": [
       "HBox(children=(HTML(value='Validating'), FloatProgress(value=1.0, bar_style='info', layout=Layout(flex='2'), m…"
      ]
     },
     "metadata": {},
     "output_type": "display_data"
    },
    {
     "data": {
      "application/vnd.jupyter.widget-view+json": {
       "model_id": "",
       "version_major": 2,
       "version_minor": 0
      },
      "text/plain": [
       "HBox(children=(HTML(value='Validating'), FloatProgress(value=1.0, bar_style='info', layout=Layout(flex='2'), m…"
      ]
     },
     "metadata": {},
     "output_type": "display_data"
    },
    {
     "data": {
      "application/vnd.jupyter.widget-view+json": {
       "model_id": "",
       "version_major": 2,
       "version_minor": 0
      },
      "text/plain": [
       "HBox(children=(HTML(value='Validating'), FloatProgress(value=1.0, bar_style='info', layout=Layout(flex='2'), m…"
      ]
     },
     "metadata": {},
     "output_type": "display_data"
    },
    {
     "data": {
      "application/vnd.jupyter.widget-view+json": {
       "model_id": "",
       "version_major": 2,
       "version_minor": 0
      },
      "text/plain": [
       "HBox(children=(HTML(value='Validating'), FloatProgress(value=1.0, bar_style='info', layout=Layout(flex='2'), m…"
      ]
     },
     "metadata": {},
     "output_type": "display_data"
    },
    {
     "data": {
      "application/vnd.jupyter.widget-view+json": {
       "model_id": "",
       "version_major": 2,
       "version_minor": 0
      },
      "text/plain": [
       "HBox(children=(HTML(value='Validating'), FloatProgress(value=1.0, bar_style='info', layout=Layout(flex='2'), m…"
      ]
     },
     "metadata": {},
     "output_type": "display_data"
    },
    {
     "data": {
      "application/vnd.jupyter.widget-view+json": {
       "model_id": "",
       "version_major": 2,
       "version_minor": 0
      },
      "text/plain": [
       "HBox(children=(HTML(value='Validating'), FloatProgress(value=1.0, bar_style='info', layout=Layout(flex='2'), m…"
      ]
     },
     "metadata": {},
     "output_type": "display_data"
    },
    {
     "data": {
      "application/vnd.jupyter.widget-view+json": {
       "model_id": "",
       "version_major": 2,
       "version_minor": 0
      },
      "text/plain": [
       "HBox(children=(HTML(value='Validating'), FloatProgress(value=1.0, bar_style='info', layout=Layout(flex='2'), m…"
      ]
     },
     "metadata": {},
     "output_type": "display_data"
    },
    {
     "data": {
      "application/vnd.jupyter.widget-view+json": {
       "model_id": "",
       "version_major": 2,
       "version_minor": 0
      },
      "text/plain": [
       "HBox(children=(HTML(value='Validating'), FloatProgress(value=1.0, bar_style='info', layout=Layout(flex='2'), m…"
      ]
     },
     "metadata": {},
     "output_type": "display_data"
    },
    {
     "data": {
      "application/vnd.jupyter.widget-view+json": {
       "model_id": "",
       "version_major": 2,
       "version_minor": 0
      },
      "text/plain": [
       "HBox(children=(HTML(value='Validating'), FloatProgress(value=1.0, bar_style='info', layout=Layout(flex='2'), m…"
      ]
     },
     "metadata": {},
     "output_type": "display_data"
    },
    {
     "data": {
      "application/vnd.jupyter.widget-view+json": {
       "model_id": "",
       "version_major": 2,
       "version_minor": 0
      },
      "text/plain": [
       "HBox(children=(HTML(value='Validating'), FloatProgress(value=1.0, bar_style='info', layout=Layout(flex='2'), m…"
      ]
     },
     "metadata": {},
     "output_type": "display_data"
    },
    {
     "data": {
      "application/vnd.jupyter.widget-view+json": {
       "model_id": "",
       "version_major": 2,
       "version_minor": 0
      },
      "text/plain": [
       "HBox(children=(HTML(value='Validating'), FloatProgress(value=1.0, bar_style='info', layout=Layout(flex='2'), m…"
      ]
     },
     "metadata": {},
     "output_type": "display_data"
    },
    {
     "data": {
      "application/vnd.jupyter.widget-view+json": {
       "model_id": "",
       "version_major": 2,
       "version_minor": 0
      },
      "text/plain": [
       "HBox(children=(HTML(value='Validating'), FloatProgress(value=1.0, bar_style='info', layout=Layout(flex='2'), m…"
      ]
     },
     "metadata": {},
     "output_type": "display_data"
    },
    {
     "data": {
      "application/vnd.jupyter.widget-view+json": {
       "model_id": "",
       "version_major": 2,
       "version_minor": 0
      },
      "text/plain": [
       "HBox(children=(HTML(value='Validating'), FloatProgress(value=1.0, bar_style='info', layout=Layout(flex='2'), m…"
      ]
     },
     "metadata": {},
     "output_type": "display_data"
    },
    {
     "data": {
      "application/vnd.jupyter.widget-view+json": {
       "model_id": "",
       "version_major": 2,
       "version_minor": 0
      },
      "text/plain": [
       "HBox(children=(HTML(value='Validating'), FloatProgress(value=1.0, bar_style='info', layout=Layout(flex='2'), m…"
      ]
     },
     "metadata": {},
     "output_type": "display_data"
    },
    {
     "data": {
      "application/vnd.jupyter.widget-view+json": {
       "model_id": "",
       "version_major": 2,
       "version_minor": 0
      },
      "text/plain": [
       "HBox(children=(HTML(value='Validating'), FloatProgress(value=1.0, bar_style='info', layout=Layout(flex='2'), m…"
      ]
     },
     "metadata": {},
     "output_type": "display_data"
    },
    {
     "data": {
      "application/vnd.jupyter.widget-view+json": {
       "model_id": "",
       "version_major": 2,
       "version_minor": 0
      },
      "text/plain": [
       "HBox(children=(HTML(value='Validating'), FloatProgress(value=1.0, bar_style='info', layout=Layout(flex='2'), m…"
      ]
     },
     "metadata": {},
     "output_type": "display_data"
    },
    {
     "data": {
      "application/vnd.jupyter.widget-view+json": {
       "model_id": "",
       "version_major": 2,
       "version_minor": 0
      },
      "text/plain": [
       "HBox(children=(HTML(value='Validating'), FloatProgress(value=1.0, bar_style='info', layout=Layout(flex='2'), m…"
      ]
     },
     "metadata": {},
     "output_type": "display_data"
    },
    {
     "data": {
      "application/vnd.jupyter.widget-view+json": {
       "model_id": "",
       "version_major": 2,
       "version_minor": 0
      },
      "text/plain": [
       "HBox(children=(HTML(value='Validating'), FloatProgress(value=1.0, bar_style='info', layout=Layout(flex='2'), m…"
      ]
     },
     "metadata": {},
     "output_type": "display_data"
    },
    {
     "data": {
      "application/vnd.jupyter.widget-view+json": {
       "model_id": "",
       "version_major": 2,
       "version_minor": 0
      },
      "text/plain": [
       "HBox(children=(HTML(value='Validating'), FloatProgress(value=1.0, bar_style='info', layout=Layout(flex='2'), m…"
      ]
     },
     "metadata": {},
     "output_type": "display_data"
    },
    {
     "data": {
      "application/vnd.jupyter.widget-view+json": {
       "model_id": "",
       "version_major": 2,
       "version_minor": 0
      },
      "text/plain": [
       "HBox(children=(HTML(value='Validating'), FloatProgress(value=1.0, bar_style='info', layout=Layout(flex='2'), m…"
      ]
     },
     "metadata": {},
     "output_type": "display_data"
    },
    {
     "data": {
      "application/vnd.jupyter.widget-view+json": {
       "model_id": "",
       "version_major": 2,
       "version_minor": 0
      },
      "text/plain": [
       "HBox(children=(HTML(value='Validating'), FloatProgress(value=1.0, bar_style='info', layout=Layout(flex='2'), m…"
      ]
     },
     "metadata": {},
     "output_type": "display_data"
    },
    {
     "data": {
      "application/vnd.jupyter.widget-view+json": {
       "model_id": "",
       "version_major": 2,
       "version_minor": 0
      },
      "text/plain": [
       "HBox(children=(HTML(value='Validating'), FloatProgress(value=1.0, bar_style='info', layout=Layout(flex='2'), m…"
      ]
     },
     "metadata": {},
     "output_type": "display_data"
    },
    {
     "data": {
      "application/vnd.jupyter.widget-view+json": {
       "model_id": "",
       "version_major": 2,
       "version_minor": 0
      },
      "text/plain": [
       "HBox(children=(HTML(value='Validating'), FloatProgress(value=1.0, bar_style='info', layout=Layout(flex='2'), m…"
      ]
     },
     "metadata": {},
     "output_type": "display_data"
    },
    {
     "data": {
      "application/vnd.jupyter.widget-view+json": {
       "model_id": "",
       "version_major": 2,
       "version_minor": 0
      },
      "text/plain": [
       "HBox(children=(HTML(value='Validating'), FloatProgress(value=1.0, bar_style='info', layout=Layout(flex='2'), m…"
      ]
     },
     "metadata": {},
     "output_type": "display_data"
    },
    {
     "data": {
      "application/vnd.jupyter.widget-view+json": {
       "model_id": "",
       "version_major": 2,
       "version_minor": 0
      },
      "text/plain": [
       "HBox(children=(HTML(value='Validating'), FloatProgress(value=1.0, bar_style='info', layout=Layout(flex='2'), m…"
      ]
     },
     "metadata": {},
     "output_type": "display_data"
    },
    {
     "data": {
      "application/vnd.jupyter.widget-view+json": {
       "model_id": "",
       "version_major": 2,
       "version_minor": 0
      },
      "text/plain": [
       "HBox(children=(HTML(value='Validating'), FloatProgress(value=1.0, bar_style='info', layout=Layout(flex='2'), m…"
      ]
     },
     "metadata": {},
     "output_type": "display_data"
    },
    {
     "data": {
      "application/vnd.jupyter.widget-view+json": {
       "model_id": "",
       "version_major": 2,
       "version_minor": 0
      },
      "text/plain": [
       "HBox(children=(HTML(value='Validating'), FloatProgress(value=1.0, bar_style='info', layout=Layout(flex='2'), m…"
      ]
     },
     "metadata": {},
     "output_type": "display_data"
    },
    {
     "data": {
      "application/vnd.jupyter.widget-view+json": {
       "model_id": "",
       "version_major": 2,
       "version_minor": 0
      },
      "text/plain": [
       "HBox(children=(HTML(value='Validating'), FloatProgress(value=1.0, bar_style='info', layout=Layout(flex='2'), m…"
      ]
     },
     "metadata": {},
     "output_type": "display_data"
    },
    {
     "data": {
      "application/vnd.jupyter.widget-view+json": {
       "model_id": "",
       "version_major": 2,
       "version_minor": 0
      },
      "text/plain": [
       "HBox(children=(HTML(value='Validating'), FloatProgress(value=1.0, bar_style='info', layout=Layout(flex='2'), m…"
      ]
     },
     "metadata": {},
     "output_type": "display_data"
    },
    {
     "data": {
      "application/vnd.jupyter.widget-view+json": {
       "model_id": "",
       "version_major": 2,
       "version_minor": 0
      },
      "text/plain": [
       "HBox(children=(HTML(value='Validating'), FloatProgress(value=1.0, bar_style='info', layout=Layout(flex='2'), m…"
      ]
     },
     "metadata": {},
     "output_type": "display_data"
    },
    {
     "data": {
      "application/vnd.jupyter.widget-view+json": {
       "model_id": "",
       "version_major": 2,
       "version_minor": 0
      },
      "text/plain": [
       "HBox(children=(HTML(value='Validating'), FloatProgress(value=1.0, bar_style='info', layout=Layout(flex='2'), m…"
      ]
     },
     "metadata": {},
     "output_type": "display_data"
    },
    {
     "data": {
      "application/vnd.jupyter.widget-view+json": {
       "model_id": "",
       "version_major": 2,
       "version_minor": 0
      },
      "text/plain": [
       "HBox(children=(HTML(value='Validating'), FloatProgress(value=1.0, bar_style='info', layout=Layout(flex='2'), m…"
      ]
     },
     "metadata": {},
     "output_type": "display_data"
    },
    {
     "data": {
      "application/vnd.jupyter.widget-view+json": {
       "model_id": "",
       "version_major": 2,
       "version_minor": 0
      },
      "text/plain": [
       "HBox(children=(HTML(value='Validating'), FloatProgress(value=1.0, bar_style='info', layout=Layout(flex='2'), m…"
      ]
     },
     "metadata": {},
     "output_type": "display_data"
    },
    {
     "name": "stderr",
     "output_type": "stream",
     "text": [
      "LOCAL_RANK: 0 - CUDA_VISIBLE_DEVICES: [0]\n"
     ]
    },
    {
     "name": "stdout",
     "output_type": "stream",
     "text": [
      "\n",
      "[INFO] best model path /var/www/nomeroff-net24/NomeroffNet/data/logs/ocr/epoch=30-step=12151-v3.ckpt\n"
     ]
    },
    {
     "data": {
      "application/vnd.jupyter.widget-view+json": {
       "model_id": "482324deb342430dbad8e46922a68cca",
       "version_major": 2,
       "version_minor": 0
      },
      "text/plain": [
       "HBox(children=(HTML(value='Testing'), FloatProgress(value=1.0, bar_style='info', layout=Layout(flex='2'), max=…"
      ]
     },
     "metadata": {},
     "output_type": "display_data"
    },
    {
     "name": "stdout",
     "output_type": "stream",
     "text": [
      "\n",
      "--------------------------------------------------------------------------------\n",
      "DATALOADER:0 TEST RESULTS\n",
      "{'test_loss': 0.0661911591887474}\n",
      "--------------------------------------------------------------------------------\n",
      "\n",
      "[INFO] /var/www/nomeroff-net24/NomeroffNet/tools/../../data/./dataset/TextDetector/Ge/autoriaNumberplateOcrGe-2019-07-06/test/img/070240333897_0.png\n",
      "Predicted: nn574xx \t\t\t True: nn575xx\n",
      "\n",
      "[INFO] /var/www/nomeroff-net24/NomeroffNet/tools/../../data/./dataset/TextDetector/Ge/autoriaNumberplateOcrGe-2019-07-06/test/img/DN-999-OM_0.png\n",
      "Predicted: dn990m \t\t\t True: dn9990m\n",
      "\n",
      "[INFO] /var/www/nomeroff-net24/NomeroffNet/tools/../../data/./dataset/TextDetector/Ge/autoriaNumberplateOcrGe-2019-07-06/test/img/MT-007-RO_0.png\n",
      "Predicted: mt007p0 \t\t\t True: mt007r0\n",
      "\n",
      "[INFO] /var/www/nomeroff-net24/NomeroffNet/tools/../../data/./dataset/TextDetector/Ge/autoriaNumberplateOcrGe-2019-07-06/test/img/II672MI_1.png\n",
      "Predicted: aa7995ts \t\t\t True: ii672mi\n",
      "\n",
      "[INFO] /var/www/nomeroff-net24/NomeroffNet/tools/../../data/./dataset/TextDetector/Ge/autoriaNumberplateOcrGe-2019-07-06/test/img/070140295957_0.png\n",
      "Predicted: wu900aa \t\t\t True: wu906a\n",
      "\n",
      "[INFO] /var/www/nomeroff-net24/NomeroffNet/tools/../../data/./dataset/TextDetector/Ge/autoriaNumberplateOcrGe-2019-07-06/test/img/112734171320_0.png\n",
      "Predicted: bb235ss \t\t\t True: r735ss\n",
      "\n",
      "[INFO] /var/www/nomeroff-net24/NomeroffNet/tools/../../data/./dataset/TextDetector/Ge/autoriaNumberplateOcrGe-2019-07-06/test/img/061940029684_0.png\n",
      "Predicted: ge9973 \t\t\t True: ge9974\n",
      "\n",
      "[INFO] /var/www/nomeroff-net24/NomeroffNet/tools/../../data/./dataset/TextDetector/Ge/autoriaNumberplateOcrGe-2019-07-06/test/img/37135583-37135583_3_0.png\n",
      "Predicted: k947fk \t\t\t True: kf947fk\n",
      "\n",
      "[INFO] /var/www/nomeroff-net24/NomeroffNet/tools/../../data/./dataset/TextDetector/Ge/autoriaNumberplateOcrGe-2019-07-06/test/img/DOD071_0.png\n",
      "Predicted: ddd071 \t\t\t True: d0d071\n",
      "\n",
      "[INFO] /var/www/nomeroff-net24/NomeroffNet/tools/../../data/./dataset/TextDetector/Ge/autoriaNumberplateOcrGe-2019-07-06/test/img/AA559AA_2.png\n",
      "Predicted: sbr88 \t\t\t True: sbr888\n",
      "\n",
      "[INFO] /var/www/nomeroff-net24/NomeroffNet/tools/../../data/./dataset/TextDetector/Ge/autoriaNumberplateOcrGe-2019-07-06/test/img/RT-072-TR_0.png\n",
      "Predicted: pt072tr \t\t\t True: rt072tr\n",
      "\n",
      "[INFO] /var/www/nomeroff-net24/NomeroffNet/tools/../../data/./dataset/TextDetector/Ge/autoriaNumberplateOcrGe-2019-07-06/test/img/DUT300_0.png\n",
      "Predicted: bw022bw \t\t\t True: dut300\n",
      "\n",
      "[INFO] /var/www/nomeroff-net24/NomeroffNet/tools/../../data/./dataset/TextDetector/Ge/autoriaNumberplateOcrGe-2019-07-06/test/img/070240345355_0.png\n",
      "Predicted: zd969zq \t\t\t True: zq969zq\n",
      "\n",
      "[INFO] /var/www/nomeroff-net24/NomeroffNet/tools/../../data/./dataset/TextDetector/Ge/autoriaNumberplateOcrGe-2019-07-06/test/img/062540185472_0.png\n",
      "Predicted: ax760xa \t\t\t True: aa760xa\n",
      "\n",
      "[INFO] /var/www/nomeroff-net24/NomeroffNet/tools/../../data/./dataset/TextDetector/Ge/autoriaNumberplateOcrGe-2019-07-06/test/img/070240335020_0.png\n",
      "Predicted: hyh533 \t\t\t True: hvh533\n",
      "\n",
      "[INFO] /var/www/nomeroff-net24/NomeroffNet/tools/../../data/./dataset/TextDetector/Ge/autoriaNumberplateOcrGe-2019-07-06/test/img/112934176224_0.png\n",
      "Predicted: sx340qs \t\t\t True: s78402s\n",
      "\n",
      "[INFO] /var/www/nomeroff-net24/NomeroffNet/tools/../../data/./dataset/TextDetector/Ge/autoriaNumberplateOcrGe-2019-07-06/test/img/070240325158_0.png\n",
      "Predicted: epe923 \t\t\t True: epe023\n",
      "\n",
      "[INFO] /var/www/nomeroff-net24/NomeroffNet/tools/../../data/./dataset/TextDetector/Ge/autoriaNumberplateOcrGe-2019-07-06/test/img/GGG386_1.png\n",
      "Predicted: ggg359 \t\t\t True: ggg386\n",
      "\n",
      "[INFO] /var/www/nomeroff-net24/NomeroffNet/tools/../../data/./dataset/TextDetector/Ge/autoriaNumberplateOcrGe-2019-07-06/test/img/070240355982_0.png\n",
      "Predicted: kk981dd \t\t\t True: xk981dd\n",
      "\n",
      "[INFO] /var/www/nomeroff-net24/NomeroffNet/tools/../../data/./dataset/TextDetector/Ge/autoriaNumberplateOcrGe-2019-07-06/test/img/15574896365cd567e464889_0.png\n",
      "Predicted: cm117mc \t\t\t True: ch117mc\n",
      "\n",
      "[INFO] /var/www/nomeroff-net24/NomeroffNet/tools/../../data/./dataset/TextDetector/Ge/autoriaNumberplateOcrGe-2019-07-06/test/img/ANAL555_0.png\n",
      "Predicted: ana55 \t\t\t True: anal555\n",
      "\n",
      "[INFO] /var/www/nomeroff-net24/NomeroffNet/tools/../../data/./dataset/TextDetector/Ge/autoriaNumberplateOcrGe-2019-07-06/test/img/DO521RI_0.png\n",
      "Predicted: m0521ri \t\t\t True: d0521ri\n",
      "\n",
      "[INFO] /var/www/nomeroff-net24/NomeroffNet/tools/../../data/./dataset/TextDetector/Ge/autoriaNumberplateOcrGe-2019-07-06/test/img/MON-300_0.png\n",
      "Predicted: m0n30 \t\t\t True: m0n300\n",
      "\n",
      "[INFO] /var/www/nomeroff-net24/NomeroffNet/tools/../../data/./dataset/TextDetector/Ge/autoriaNumberplateOcrGe-2019-07-06/test/img/39051630-39051630_6_0.png\n",
      "Predicted: gt3097 \t\t\t True: gt3097j\n",
      "\n",
      "[INFO] /var/www/nomeroff-net24/NomeroffNet/tools/../../data/./dataset/TextDetector/Ge/autoriaNumberplateOcrGe-2019-07-06/test/img/39343409-39343409_4_0.png\n",
      "Predicted: ge7945 \t\t\t True: ge1945\n",
      "\n",
      "[INFO] /var/www/nomeroff-net24/NomeroffNet/tools/../../data/./dataset/TextDetector/Ge/autoriaNumberplateOcrGe-2019-07-06/test/img/063040293062_0.png\n",
      "Predicted: ud920ss \t\t\t True: u0920ss\n",
      "\n",
      "[INFO] /var/www/nomeroff-net24/NomeroffNet/tools/../../data/./dataset/TextDetector/Ge/autoriaNumberplateOcrGe-2019-07-06/test/img/060439723842_0.png\n",
      "Predicted: ge597a \t\t\t True: ge5597\n",
      "\n",
      "[INFO] /var/www/nomeroff-net24/NomeroffNet/tools/../../data/./dataset/TextDetector/Ge/autoriaNumberplateOcrGe-2019-07-06/test/img/RYR181_0.png\n",
      "Predicted: rypr181 \t\t\t True: ryr181\n",
      "\n",
      "[INFO] /var/www/nomeroff-net24/NomeroffNet/tools/../../data/./dataset/TextDetector/Ge/autoriaNumberplateOcrGe-2019-07-06/test/img/VW046WW_0.png\n",
      "Predicted: g043a2a \t\t\t True: vw046ww\n",
      "\n",
      "[INFO] /var/www/nomeroff-net24/NomeroffNet/tools/../../data/./dataset/TextDetector/Ge/autoriaNumberplateOcrGe-2019-07-06/test/img/AX004CR_0.png\n",
      "Predicted: ax004cm \t\t\t True: ax004cr\n",
      "\n",
      "[INFO] /var/www/nomeroff-net24/NomeroffNet/tools/../../data/./dataset/TextDetector/Ge/autoriaNumberplateOcrGe-2019-07-06/test/img/070440385125_0.png\n",
      "Predicted: zc230lx \t\t\t True: zc230cz\n",
      "\n",
      "[INFO] /var/www/nomeroff-net24/NomeroffNet/tools/../../data/./dataset/TextDetector/Ge/autoriaNumberplateOcrGe-2019-07-06/test/img/39363006-39363006_4_0.png\n",
      "Predicted: zn880nz \t\t\t True: zn880wz\n",
      "\n",
      "[INFO] /var/www/nomeroff-net24/NomeroffNet/tools/../../data/./dataset/TextDetector/Ge/autoriaNumberplateOcrGe-2019-07-06/test/img/GL008GL_1.png\n",
      "Predicted: hhn4399 \t\t\t True: hhn439\n",
      "\n",
      "[INFO] /var/www/nomeroff-net24/NomeroffNet/tools/../../data/./dataset/TextDetector/Ge/autoriaNumberplateOcrGe-2019-07-06/test/img/15607660355d0766533b88a_0.png\n",
      "Predicted: 0z53800 \t\t\t True: 0zs3800\n",
      "\n",
      "[INFO] /var/www/nomeroff-net24/NomeroffNet/tools/../../data/./dataset/TextDetector/Ge/autoriaNumberplateOcrGe-2019-07-06/test/img/WT040TW_0.png\n",
      "Predicted: cx062 \t\t\t True: wt040tw\n",
      "\n",
      "[INFO] /var/www/nomeroff-net24/NomeroffNet/tools/../../data/./dataset/TextDetector/Ge/autoriaNumberplateOcrGe-2019-07-06/test/img/062940279574_0.png\n",
      "Predicted: hi700ls \t\t\t True: mm700ls\n",
      "\n",
      "[INFO] /var/www/nomeroff-net24/NomeroffNet/tools/../../data/./dataset/TextDetector/Ge/autoriaNumberplateOcrGe-2019-07-06/test/img/063040292386_0.png\n",
      "Predicted: tg007hz \t\t\t True: tg007nz\n",
      "\n",
      "[INFO] /var/www/nomeroff-net24/NomeroffNet/tools/../../data/./dataset/TextDetector/Ge/autoriaNumberplateOcrGe-2019-07-06/test/img/AA435CA_0.png\n",
      "Predicted: aa435ga \t\t\t True: aa435ca\n",
      "\n",
      "[INFO] /var/www/nomeroff-net24/NomeroffNet/tools/../../data/./dataset/TextDetector/Ge/autoriaNumberplateOcrGe-2019-07-06/test/img/BS875S_0.png\n",
      "Predicted: b875s \t\t\t True: bs875s\n",
      "\n",
      "[INFO] /var/www/nomeroff-net24/NomeroffNet/tools/../../data/./dataset/TextDetector/Ge/autoriaNumberplateOcrGe-2019-07-06/test/img/XIM005_0.png\n",
      "Predicted: cs899sc \t\t\t True: xim005\n",
      "\n",
      "[INFO] /var/www/nomeroff-net24/NomeroffNet/tools/../../data/./dataset/TextDetector/Ge/autoriaNumberplateOcrGe-2019-07-06/test/img/IL787LL_0.png\n",
      "Predicted: tl787ll \t\t\t True: il787ll\n",
      "\n",
      "[INFO] /var/www/nomeroff-net24/NomeroffNet/tools/../../data/./dataset/TextDetector/Ge/autoriaNumberplateOcrGe-2019-07-06/test/img/070240355453_0.png\n",
      "Predicted: kl752lx \t\t\t True: kl752lk\n",
      "\n",
      "[INFO] /var/www/nomeroff-net24/NomeroffNet/tools/../../data/./dataset/TextDetector/Ge/autoriaNumberplateOcrGe-2019-07-06/test/img/063040293437_0.png\n",
      "Predicted: rr522rr \t\t\t True: rr527rr\n",
      "\n",
      "[INFO] /var/www/nomeroff-net24/NomeroffNet/tools/../../data/./dataset/TextDetector/Ge/autoriaNumberplateOcrGe-2019-07-06/test/img/IZI880_0.png\n",
      "Predicted: izi280 \t\t\t True: izi880\n",
      "\n",
      "[INFO] /var/www/nomeroff-net24/NomeroffNet/tools/../../data/./dataset/TextDetector/Ge/autoriaNumberplateOcrGe-2019-07-06/test/img/061139869255_0.png\n",
      "Predicted: ff584rr \t\t\t True: ff654rr\n"
     ]
    },
    {
     "name": "stdout",
     "output_type": "stream",
     "text": [
      "\n",
      "[INFO] /var/www/nomeroff-net24/NomeroffNet/tools/../../data/./dataset/TextDetector/Ge/autoriaNumberplateOcrGe-2019-07-06/test/img/ZA050RN_0.png\n",
      "Predicted: za050bn \t\t\t True: za050rn\n",
      "\n",
      "[INFO] /var/www/nomeroff-net24/NomeroffNet/tools/../../data/./dataset/TextDetector/Ge/autoriaNumberplateOcrGe-2019-07-06/test/img/GVB444_0.png\n",
      "Predicted: gvd444 \t\t\t True: gvb444\n",
      "\n",
      "[INFO] /var/www/nomeroff-net24/NomeroffNet/tools/../../data/./dataset/TextDetector/Ge/autoriaNumberplateOcrGe-2019-07-06/test/img/BB165ZZ_0.png\n",
      "Predicted: bb155zz \t\t\t True: bb165zz\n",
      "\n",
      "[INFO] /var/www/nomeroff-net24/NomeroffNet/tools/../../data/./dataset/TextDetector/Ge/autoriaNumberplateOcrGe-2019-07-06/test/img/JCJ835_0.png\n",
      "Predicted: jcj35 \t\t\t True: jcj835\n",
      "\n",
      "[INFO] /var/www/nomeroff-net24/NomeroffNet/tools/../../data/./dataset/TextDetector/Ge/autoriaNumberplateOcrGe-2019-07-06/test/img/HH055HH_0.png\n",
      "Predicted: bi5360ch \t\t\t True: hh055hh\n",
      "\n",
      "[INFO] /var/www/nomeroff-net24/NomeroffNet/tools/../../data/./dataset/TextDetector/Ge/autoriaNumberplateOcrGe-2019-07-06/test/img/39392857-39392857_2_0.png\n",
      "Predicted: gg890 \t\t\t True: gg8990\n",
      "\n",
      "[INFO] /var/www/nomeroff-net24/NomeroffNet/tools/../../data/./dataset/TextDetector/Ge/autoriaNumberplateOcrGe-2019-07-06/test/img/HHN244_0.png\n",
      "Predicted: hhn24 \t\t\t True: hhn244\n",
      "\n",
      "[INFO] /var/www/nomeroff-net24/NomeroffNet/tools/../../data/./dataset/TextDetector/Ge/autoriaNumberplateOcrGe-2019-07-06/test/img/GMB500_0.png\n",
      "Predicted: tsb55 \t\t\t True: gmb500\n",
      "\n",
      "[INFO] /var/www/nomeroff-net24/NomeroffNet/tools/../../data/./dataset/TextDetector/Ge/autoriaNumberplateOcrGe-2019-07-06/test/img/070140308578_0.png\n",
      "Predicted: ge9942 \t\t\t True: ge99942\n",
      "\n",
      "[INFO] /var/www/nomeroff-net24/NomeroffNet/tools/../../data/./dataset/TextDetector/Ge/autoriaNumberplateOcrGe-2019-07-06/test/img/WWO931_0.png\n",
      "Predicted: ww0997 \t\t\t True: ww0931\n",
      "\n",
      "[INFO] /var/www/nomeroff-net24/NomeroffNet/tools/../../data/./dataset/TextDetector/Ge/autoriaNumberplateOcrGe-2019-07-06/test/img/070340375542_0.png\n",
      "Predicted: itd14dd \t\t\t True: id144dd\n",
      "\n",
      "[INFO] /var/www/nomeroff-net24/NomeroffNet/tools/../../data/./dataset/TextDetector/Ge/autoriaNumberplateOcrGe-2019-07-06/test/img/102433171843_0.png\n",
      "Predicted: ge990d7 \t\t\t True: ge9907\n",
      "\n",
      "[INFO] /var/www/nomeroff-net24/NomeroffNet/tools/../../data/./dataset/TextDetector/Ge/autoriaNumberplateOcrGe-2019-07-06/test/img/SS501VV_0.png\n",
      "Predicted: ss501vy \t\t\t True: ss501vv\n",
      "\n",
      "[INFO] /var/www/nomeroff-net24/NomeroffNet/tools/../../data/./dataset/TextDetector/Ge/autoriaNumberplateOcrGe-2019-07-06/test/img/062140103812_0.png\n",
      "Predicted: cc634ww \t\t\t True: cc634wv\n",
      "\n",
      "[INFO] /var/www/nomeroff-net24/NomeroffNet/tools/../../data/./dataset/TextDetector/Ge/autoriaNumberplateOcrGe-2019-07-06/test/img/OW478WO_0.png\n",
      "Predicted: 0w478wd \t\t\t True: 0w478w0\n",
      "\n",
      "[INFO] /var/www/nomeroff-net24/NomeroffNet/tools/../../data/./dataset/TextDetector/Ge/autoriaNumberplateOcrGe-2019-07-06/test/img/KO555PL_0.png\n",
      "Predicted: x0555pl \t\t\t True: k0555pl\n",
      "\n",
      "[INFO] /var/www/nomeroff-net24/NomeroffNet/tools/../../data/./dataset/TextDetector/Ge/autoriaNumberplateOcrGe-2019-07-06/test/img/030636971076_0.png\n",
      "Predicted: ga2049 \t\t\t True: gga2049\n",
      "\n",
      "[INFO] /var/www/nomeroff-net24/NomeroffNet/tools/../../data/./dataset/TextDetector/Ge/autoriaNumberplateOcrGe-2019-07-06/test/img/060839826585_0.png\n",
      "Predicted: mm090mn \t\t\t True: mn090mn\n",
      "\n",
      "[INFO] /var/www/nomeroff-net24/NomeroffNet/tools/../../data/./dataset/TextDetector/Ge/autoriaNumberplateOcrGe-2019-07-06/test/img/39305075-39305075_9_0.png\n",
      "Predicted: gg444 \t\t\t True: gg4444\n",
      "\n",
      "[INFO] /var/www/nomeroff-net24/NomeroffNet/tools/../../data/./dataset/TextDetector/Ge/autoriaNumberplateOcrGe-2019-07-06/test/img/TBS854_0.png\n",
      "Predicted: tbs584 \t\t\t True: tbs854\n",
      "\n",
      "[INFO] /var/www/nomeroff-net24/NomeroffNet/tools/../../data/./dataset/TextDetector/Ge/autoriaNumberplateOcrGe-2019-07-06/test/img/OO001AO_0.png\n",
      "Predicted: 0c001a0 \t\t\t True: 00001a0\n",
      "\n",
      "[INFO] /var/www/nomeroff-net24/NomeroffNet/tools/../../data/./dataset/TextDetector/Ge/autoriaNumberplateOcrGe-2019-07-06/test/img/070140322468_1.png\n",
      "Predicted: er319rf \t\t\t True: b519rf\n",
      "\n",
      "[INFO] /var/www/nomeroff-net24/NomeroffNet/tools/../../data/./dataset/TextDetector/Ge/autoriaNumberplateOcrGe-2019-07-06/test/img/070240356244_0.png\n",
      "Predicted: ig1511 \t\t\t True: gg1511\n",
      "\n",
      "[INFO] /var/www/nomeroff-net24/NomeroffNet/tools/../../data/./dataset/TextDetector/Ge/autoriaNumberplateOcrGe-2019-07-06/test/img/070340373059_0.png\n",
      "Predicted: yvy002 \t\t\t True: yvy008\n",
      "\n",
      "[INFO] /var/www/nomeroff-net24/NomeroffNet/tools/../../data/./dataset/TextDetector/Ge/autoriaNumberplateOcrGe-2019-07-06/test/img/31471652-31471652_7_0.png\n",
      "Predicted: gc811gg \t\t\t True: cc811gg\n",
      "\n",
      "[INFO] /var/www/nomeroff-net24/NomeroffNet/tools/../../data/./dataset/TextDetector/Ge/autoriaNumberplateOcrGe-2019-07-06/test/img/MII-128_0.png\n",
      "Predicted: mi128 \t\t\t True: mii128\n",
      "\n",
      "[INFO] /var/www/nomeroff-net24/NomeroffNet/tools/../../data/./dataset/TextDetector/Ge/autoriaNumberplateOcrGe-2019-07-06/test/img/062240103793_0.png\n",
      "Predicted: gg493 \t\t\t True: gg4993\n",
      "\n",
      "[INFO] /var/www/nomeroff-net24/NomeroffNet/tools/../../data/./dataset/TextDetector/Ge/autoriaNumberplateOcrGe-2019-07-06/test/img/062040073815_0.png\n",
      "Predicted: nn590hn \t\t\t True: nn590nn\n",
      "\n",
      "[INFO] /var/www/nomeroff-net24/NomeroffNet/tools/../../data/./dataset/TextDetector/Ge/autoriaNumberplateOcrGe-2019-07-06/test/img/063040295415_2.png\n",
      "Predicted: aza40qd \t\t\t True: zz4549\n",
      "\n",
      "[INFO] /var/www/nomeroff-net24/NomeroffNet/tools/../../data/./dataset/TextDetector/Ge/autoriaNumberplateOcrGe-2019-07-06/test/img/070240349977_1.png\n",
      "Predicted: bb202mt \t\t\t True: bb70zt\n",
      "\n",
      "[INFO] /var/www/nomeroff-net24/NomeroffNet/tools/../../data/./dataset/TextDetector/Ge/autoriaNumberplateOcrGe-2019-07-06/test/img/IVI062_0.png\n",
      "Predicted: yvi062 \t\t\t True: ivi062\n",
      "\n",
      "[INFO] /var/www/nomeroff-net24/NomeroffNet/tools/../../data/./dataset/TextDetector/Ge/autoriaNumberplateOcrGe-2019-07-06/test/img/070340381963_0.png\n",
      "Predicted: gg4912a \t\t\t True: gg4912\n",
      "\n",
      "[INFO] /var/www/nomeroff-net24/NomeroffNet/tools/../../data/./dataset/TextDetector/Ge/autoriaNumberplateOcrGe-2019-07-06/test/img/032337596022_0.png\n",
      "Predicted: gg6508 \t\t\t True: gg6506\n",
      "\n",
      "[INFO] /var/www/nomeroff-net24/NomeroffNet/tools/../../data/./dataset/TextDetector/Ge/autoriaNumberplateOcrGe-2019-07-06/test/img/060939830319_0.png\n",
      "Predicted: ga29d1 \t\t\t True: ga2901\n",
      "\n",
      "[INFO] /var/www/nomeroff-net24/NomeroffNet/tools/../../data/./dataset/TextDetector/Ge/autoriaNumberplateOcrGe-2019-07-06/test/img/EC999MS_0.png\n",
      "Predicted: ec990hs \t\t\t True: ec999ms\n",
      "\n",
      "[INFO] /var/www/nomeroff-net24/NomeroffNet/tools/../../data/./dataset/TextDetector/Ge/autoriaNumberplateOcrGe-2019-07-06/test/img/39357537-39357537_3_0.png\n",
      "Predicted: tn635nt \t\t\t True: tm635nt\n",
      "\n",
      "[INFO] /var/www/nomeroff-net24/NomeroffNet/tools/../../data/./dataset/TextDetector/Ge/autoriaNumberplateOcrGe-2019-07-06/test/img/NUK873_0.png\n",
      "Predicted: iuk873 \t\t\t True: nuk873\n",
      "\n",
      "[INFO] /var/www/nomeroff-net24/NomeroffNet/tools/../../data/./dataset/TextDetector/Ge/autoriaNumberplateOcrGe-2019-07-06/test/img/070240356129_0.png\n",
      "Predicted: ge543 \t\t\t True: ge3453\n",
      "\n",
      "[INFO] /var/www/nomeroff-net24/NomeroffNet/tools/../../data/./dataset/TextDetector/Ge/autoriaNumberplateOcrGe-2019-07-06/test/img/052739566881_0.png\n",
      "Predicted: lb5000 \t\t\t True: lb50000\n",
      "\n",
      "[INFO] /var/www/nomeroff-net24/NomeroffNet/tools/../../data/./dataset/TextDetector/Ge/autoriaNumberplateOcrGe-2019-07-06/test/img/RR-163-BB_0.png\n",
      "Predicted: rp163bb \t\t\t True: rr163bb\n",
      "\n",
      "[INFO] /var/www/nomeroff-net24/NomeroffNet/tools/../../data/./dataset/TextDetector/Ge/autoriaNumberplateOcrGe-2019-07-06/test/img/RR163BB_0.png\n",
      "Predicted: rp163bb \t\t\t True: rr163bb\n",
      "\n",
      "[INFO] /var/www/nomeroff-net24/NomeroffNet/tools/../../data/./dataset/TextDetector/Ge/autoriaNumberplateOcrGe-2019-07-06/test/img/020135982507_0.png\n",
      "Predicted: hf097fh \t\t\t True: hf007gh\n",
      "\n",
      "[INFO] /var/www/nomeroff-net24/NomeroffNet/tools/../../data/./dataset/TextDetector/Ge/autoriaNumberplateOcrGe-2019-07-06/test/img/DA777IN_1.png\n",
      "Predicted: ecf299 \t\t\t True: fcf299\n",
      "\n",
      "[INFO] /var/www/nomeroff-net24/NomeroffNet/tools/../../data/./dataset/TextDetector/Ge/autoriaNumberplateOcrGe-2019-07-06/test/img/070340356628_0.png\n",
      "Predicted: ik001ka \t\t\t True: bk80r0\n",
      "\n",
      "[INFO] /var/www/nomeroff-net24/NomeroffNet/tools/../../data/./dataset/TextDetector/Ge/autoriaNumberplateOcrGe-2019-07-06/test/img/070140296317_0.png\n",
      "Predicted: jvi197 \t\t\t True: jvj197\n"
     ]
    },
    {
     "name": "stdout",
     "output_type": "stream",
     "text": [
      "\n",
      "[INFO] /var/www/nomeroff-net24/NomeroffNet/tools/../../data/./dataset/TextDetector/Ge/autoriaNumberplateOcrGe-2019-07-06/test/img/070140324633_0.png\n",
      "Predicted: vu989uu \t\t\t True: vu989vd\n",
      "Testing Accuracy:  0.9673718178558623\n",
      "model save to /var/www/nomeroff-net24/models/anpr_ocr_ge_2021_08_30_pytorch_lightning.ckpt.11\n"
     ]
    },
    {
     "data": {
      "image/png": "[encoded data removed]",
      "text/plain": [
       "<Figure size 432x288 with 1 Axes>"
      ]
     },
     "metadata": {
      "needs_background": "light"
     },
     "output_type": "display_data"
    },
    {
     "data": {
      "image/png": "[encoded data removed]",
      "text/plain": [
       "<Figure size 432x288 with 1 Axes>"
      ]
     },
     "metadata": {
      "needs_background": "light"
     },
     "output_type": "display_data"
    },
    {
     "data": {
      "image/png": "[encoded data removed]",
      "text/plain": [
       "<Figure size 432x288 with 1 Axes>"
      ]
     },
     "metadata": {
      "needs_background": "light"
     },
     "output_type": "display_data"
    },
    {
     "data": {
      "image/png": "[encoded data removed]",
      "text/plain": [
       "<Figure size 432x288 with 1 Axes>"
      ]
     },
     "metadata": {
      "needs_background": "light"
     },
     "output_type": "display_data"
    }
   ],
   "source": [
    "for i in range(8,12):\n",
    "    # tune\n",
    "    lr_finder = ocrTextDetector.tune()\n",
    "\n",
    "    # Plot with\n",
    "    fig = lr_finder.plot(suggest=True)\n",
    "    fig.show()\n",
    "    model = ocrTextDetector.train(seed=i)\n",
    "    ocrTextDetector.test_acc(verbose=True)\n",
    "    ocrTextDetector.save('{}.{}'.format(RESULT_MODEL_PATH,i))"
   ]
  },
  {
   "cell_type": "code",
   "execution_count": null,
   "metadata": {},
   "outputs": [],
   "source": []
  }
 ],
 "metadata": {
  "kernelspec": {
   "display_name": "Python 3",
   "language": "python",
   "name": "python3"
  },
  "language_info": {
   "codemirror_mode": {
    "name": "ipython",
    "version": 3
   },
   "file_extension": ".py",
   "mimetype": "text/x-python",
   "name": "python",
   "nbconvert_exporter": "python",
   "pygments_lexer": "ipython3",
   "version": "3.9.6"
  }
 },
 "nbformat": 4,
 "nbformat_minor": 2
}
