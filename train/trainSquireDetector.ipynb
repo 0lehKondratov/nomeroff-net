{
 "cells": [
  {
   "cell_type": "code",
   "execution_count": 1,
   "metadata": {},
   "outputs": [
    {
     "name": "stderr",
     "output_type": "stream",
     "text": [
      "Using TensorFlow backend.\n"
     ]
    }
   ],
   "source": [
    "import os\n",
    "import sys\n",
    "\n",
    "# change this property\n",
    "NOMEROFF_NET_DIR = \"/var/www/nomeroff-net/\"\n",
    "PATH_TO_AUTORIA_NUMBERPLATE_COUNTRY_DATASET = \"/var/www/datasets/autoriaSquireNPDataset-2019-01-24/\"\n",
    "RESULT_DIR = os.path.join(NOMEROFF_NET_DIR, \"models\")\n",
    "\n",
    "sys.path.append(NOMEROFF_NET_DIR)\n",
    "\n",
    "from NomeroffNet import  SquireDetector"
   ]
  },
  {
   "cell_type": "code",
   "execution_count": 2,
   "metadata": {},
   "outputs": [
    {
     "name": "stdout",
     "output_type": "stream",
     "text": [
      "Found 272 images belonging to 2 classes.\n",
      "Found 67 images belonging to 2 classes.\n"
     ]
    },
    {
     "name": "stderr",
     "output_type": "stream",
     "text": [
      "/var/www/nomeroff-net/NomeroffNet/Base/ImgClassificator.py:85: UserWarning: Update your `Dense` call to the Keras 2 API: `Dense(2, activation=\"softmax\", kernel_initializer=\"uniform\", kernel_regularizer=<keras.reg...)`\n",
      "  activation=out_dense_activation)(x)\n",
      "/var/www/nomeroff-net/NomeroffNet/Base/ImgClassificator.py:86: UserWarning: Update your `Model` call to the Keras 2 API: `Model(inputs=Tensor(\"in..., outputs=Tensor(\"de...)`\n",
      "  model = Model(input=input_model, output=x)\n"
     ]
    },
    {
     "name": "stdout",
     "output_type": "stream",
     "text": [
      "Epoch 1/1\n",
      "100/100 [==============================] - 401s 4s/step - loss: 0.1570 - acc: 0.9516 - val_loss: 0.0199 - val_acc: 1.0000\n",
      "Found 43 images belonging to 2 classes.\n",
      "test acc: 0.9534883753643479 test loss: 0.1390115607963052\n",
      "model save to /var/www/nomeroff-net/models/model_2019_1_23.h5\n"
     ]
    }
   ],
   "source": [
    "# definde your parameters\n",
    "class MySquireDetector(SquireDetector):\n",
    "     def __init__(self):\n",
    "        SquireDetector.__init__(self)\n",
    "        self.EPOCHS = 1\n",
    "\n",
    "squireDetector = MySquireDetector()\n",
    "\n",
    "squireDetector.train(PATH_TO_AUTORIA_NUMBERPLATE_COUNTRY_DATASET, RESULT_DIR)"
   ]
  },
  {
   "cell_type": "code",
   "execution_count": null,
   "metadata": {},
   "outputs": [],
   "source": []
  }
 ],
 "metadata": {
  "kernelspec": {
   "display_name": "Python 3",
   "language": "python",
   "name": "python3"
  },
  "language_info": {
   "codemirror_mode": {
    "name": "ipython",
    "version": 3
   },
   "file_extension": ".py",
   "mimetype": "text/x-python",
   "name": "python",
   "nbconvert_exporter": "python",
   "pygments_lexer": "ipython3",
   "version": "3.6.6"
  }
 },
 "nbformat": 4,
 "nbformat_minor": 2
}
