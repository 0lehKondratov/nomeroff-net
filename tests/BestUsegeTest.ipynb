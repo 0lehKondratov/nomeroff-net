{
 "cells": [
  {
   "cell_type": "code",
   "execution_count": 1,
   "metadata": {},
   "outputs": [
    {
     "name": "stderr",
     "output_type": "stream",
     "text": [
      "Using TensorFlow backend.\n"
     ]
    }
   ],
   "source": [
    "# Import all necessary libraries.\n",
    "import os\n",
    "import sys\n",
    "import matplotlib.image as mpimg\n",
    "import warnings\n",
    "warnings.filterwarnings('ignore')\n",
    "\n",
    "\n",
    "# change this property\n",
    "NOMEROFF_NET_DIR = os.path.abspath('../')\n",
    "\n",
    "# specify the path to Mask_RCNN if you placed it outside Nomeroff-net project\n",
    "MASK_RCNN_DIR = os.path.join(NOMEROFF_NET_DIR, 'Mask_RCNN')\n",
    "\n",
    "MASK_RCNN_LOG_DIR = \"../logs/\"\n",
    "MASK_RCNN_MODEL_PATH = \"../models/mask_rcnn_numberplate_0700.h5\"\n",
    "OPTIONS_MODEL_PATH =  \"../models/numberplate_options_2019_2_15.h5\"\n",
    "OCR_NP_UKR_TEXT =  \"../models/anpr_ocr_ua_1_2_11-cpu.h5\"\n",
    "OCR_NP_EU_TEXT =  \"../models/anpr_ocr_eu_2-cpu.h5\"\n",
    "\n",
    "sys.path.append(NOMEROFF_NET_DIR)\n",
    "\n",
    "# Import license plate recognition tools.\n",
    "from NomeroffNet import  filters, RectDetector, TextDetector,  OptionsDetector, Detector, textPostprocessing\n",
    "from NomeroffNet.TextDetectors.ocr_eu import ocr_eu"
   ]
  },
  {
   "cell_type": "code",
   "execution_count": 2,
   "metadata": {},
   "outputs": [],
   "source": [
    "import numpy as np\n",
    "import cv2\n",
    "import asyncio\n",
    "import time"
   ]
  },
  {
   "cell_type": "code",
   "execution_count": 3,
   "metadata": {},
   "outputs": [],
   "source": [
    "class my_ocr_eu(ocr_eu):\n",
    "    def __init__(self):\n",
    "        ocr_eu.__init__(self)\n",
    "        \n",
    "    def normalize(self, img):\n",
    "        img = cv2.cvtColor(img, cv2.COLOR_RGB2GRAY)\n",
    "        img = cv2.resize(img, (self.IMG_W, self.IMG_H))\n",
    "        img = img.astype(np.float32)\n",
    "        img -= np.amin(img)\n",
    "        img /= np.amax(img)\n",
    "        img = [[[h] for h in w] for w in img.T]\n",
    "\n",
    "        x = np.zeros((self.IMG_W, self.IMG_H, 1))\n",
    "        x[:, :, :] = img\n",
    "        return x\n",
    "    \n",
    "    def predict(self, imgs):\n",
    "        Xs = []\n",
    "        for img in imgs:\n",
    "            x = self.normalize(img)\n",
    "            Xs.append(x)\n",
    "        net_out_value = self.MODEL.predict(np.array(Xs))\n",
    "        pred_texts = self.decode_batch(net_out_value)\n",
    "        return pred_texts"
   ]
  },
  {
   "cell_type": "code",
   "execution_count": 4,
   "metadata": {},
   "outputs": [],
   "source": [
    "class MyOptionsDetector(OptionsDetector):\n",
    "    def __init__(self):\n",
    "        OptionsDetector.__init__(self)\n",
    "        \n",
    "    def predict(self, imgs):\n",
    "        Xs = []\n",
    "        for img in imgs:\n",
    "            Xs.append(self.normalize(img))\n",
    "        predicted = self.MODEL.predict(np.array(Xs))\n",
    "\n",
    "        regionIds = []\n",
    "        for region in predicted[0]:\n",
    "            regionIds.append(int(np.argmax(region)))\n",
    "        \n",
    "        stateIds = []\n",
    "        for state in predicted[1]:\n",
    "            stateIds.append(int(np.argmax(state)))\n",
    "            \n",
    "        return regionIds, stateIds\n",
    "    \n",
    "    def getRegionLabels(self, indexes):\n",
    "        return [self.CLASS_REGION[index] for index in indexes]"
   ]
  },
  {
   "cell_type": "code",
   "execution_count": 5,
   "metadata": {},
   "outputs": [
    {
     "name": "stdout",
     "output_type": "stream",
     "text": [
      "WARNING:tensorflow:From /usr/local/lib/python3.6/site-packages/tensorflow/python/ops/sparse_ops.py:1165: sparse_to_dense (from tensorflow.python.ops.sparse_ops) is deprecated and will be removed in a future version.\n",
      "Instructions for updating:\n",
      "Create a `tf.sparse.SparseTensor` and use `tf.sparse.to_dense` instead.\n"
     ]
    }
   ],
   "source": [
    "nnet = Detector(MASK_RCNN_DIR, MASK_RCNN_LOG_DIR)\n",
    "nnet.loadModel(MASK_RCNN_MODEL_PATH)\n",
    "rectDetector = RectDetector()\n",
    "\n",
    "euTextDetector = my_ocr_eu()\n",
    "euTextDetector.load(OCR_NP_EU_TEXT)\n",
    "euTextDetector2 = ocr_eu()\n",
    "euTextDetector2.load(OCR_NP_EU_TEXT)\n",
    "\n",
    "optionsDetector = MyOptionsDetector()\n",
    "optionsDetector.load(OPTIONS_MODEL_PATH)\n",
    "optionsDetector2 = OptionsDetector()\n",
    "optionsDetector2.load(OPTIONS_MODEL_PATH)"
   ]
  },
  {
   "cell_type": "code",
   "execution_count": 6,
   "metadata": {},
   "outputs": [],
   "source": [
    "# Detect numberplate\n",
    "img_path = '../examples/images/example2.jpg'\n",
    "img = mpimg.imread(img_path)\n",
    "NP = nnet.detect([img])"
   ]
  },
  {
   "cell_type": "code",
   "execution_count": 7,
   "metadata": {},
   "outputs": [],
   "source": [
    "async def test_1(): # put to model 2 np\n",
    "    cv_img_masks = filters.cv_img_mask(NP)\n",
    "    zones = []\n",
    "    for img_mask in cv_img_masks:\n",
    "        points = rectDetector.detect(img_mask)\n",
    "        zone = rectDetector.get_cv_zonesBGR(img, points)\n",
    "        zones.append(zone)\n",
    "\n",
    "    regionIds, stateIds = optionsDetector.predict(zones)\n",
    "    regionNames = optionsDetector.getRegionLabels(regionIds)\n",
    "    return euTextDetector.predict(zones)\n",
    "\n",
    "\n",
    "async def test_2(): # stay how to be\n",
    "    cv_img_masks = filters.cv_img_mask(NP)\n",
    "    texts = []\n",
    "    for img_mask in cv_img_masks:\n",
    "        points = rectDetector.detect(img_mask)\n",
    "        zone = rectDetector.get_cv_zonesBGR(img, points)\n",
    "\n",
    "        regionId, stateId = optionsDetector2.predict(zone)\n",
    "        regionName = optionsDetector2.getRegionLabel(regionId)\n",
    "\n",
    "        text = euTextDetector2.predict(zone)\n",
    "        texts.append(text)\n",
    "    return texts\n",
    "\n",
    "\n",
    "async def async_func(img_mask): # async \n",
    "    points = rectDetector.detect(img_mask)\n",
    "    zone = rectDetector.get_cv_zonesBGR(img, points)\n",
    "    regionId, stateId = optionsDetector2.predict(zone)\n",
    "    regionName = optionsDetector2.getRegionLabel(regionId)\n",
    "    return euTextDetector2.predict(zone)       \n",
    "async def test_3(): # async test\n",
    "    texts = []\n",
    "    loop = asyncio.get_event_loop()\n",
    "    promises = []\n",
    "    cv_img_masks = filters.cv_img_mask(NP)\n",
    "    for img_mask in cv_img_masks:\n",
    "        promise = loop.create_task(async_func(img_mask))\n",
    "        promises.append(promise)\n",
    "    if bool(promises):\n",
    "        await asyncio.wait(promises)\n",
    "    for promise in promises:\n",
    "        texts.append(promise.result())\n",
    "    return texts"
   ]
  },
  {
   "cell_type": "code",
   "execution_count": 8,
   "metadata": {},
   "outputs": [],
   "source": [
    "COUNT_ITERATIONS = 16"
   ]
  },
  {
   "cell_type": "code",
   "execution_count": 9,
   "metadata": {},
   "outputs": [
    {
     "name": "stdout",
     "output_type": "stream",
     "text": [
      "TEST (2 input): 14.026314735412598\n"
     ]
    }
   ],
   "source": [
    "start_time = time.time()\n",
    "for i in range(COUNT_ITERATIONS):\n",
    "    await test_1()    \n",
    "print(f'TEST (2 input): {time.time() - start_time}')"
   ]
  },
  {
   "cell_type": "code",
   "execution_count": 10,
   "metadata": {},
   "outputs": [
    {
     "name": "stdout",
     "output_type": "stream",
     "text": [
      "TEST (how to be): 14.354429721832275\n"
     ]
    }
   ],
   "source": [
    "start_time = time.time()\n",
    "for i in range(COUNT_ITERATIONS):\n",
    "    await test_2()    \n",
    "print(f'TEST (how to be): {time.time() - start_time}')"
   ]
  },
  {
   "cell_type": "code",
   "execution_count": 11,
   "metadata": {},
   "outputs": [
    {
     "name": "stdout",
     "output_type": "stream",
     "text": [
      "TEST (async): 13.410621404647827\n"
     ]
    }
   ],
   "source": [
    "start_time = time.time()\n",
    "for i in range(COUNT_ITERATIONS):\n",
    "    await test_3()    \n",
    "print(f'TEST (async): {time.time() - start_time}')"
   ]
  },
  {
   "cell_type": "code",
   "execution_count": 12,
   "metadata": {},
   "outputs": [],
   "source": [
    "# async"
   ]
  },
  {
   "cell_type": "code",
   "execution_count": 13,
   "metadata": {},
   "outputs": [
    {
     "name": "stdout",
     "output_type": "stream",
     "text": [
      "TEST (2 input): 13.145161628723145\n"
     ]
    }
   ],
   "source": [
    "start_time = time.time()\n",
    "loop = asyncio.get_event_loop()\n",
    "promises = []\n",
    "for i in range(COUNT_ITERATIONS):\n",
    "    promise = loop.create_task(test_1())\n",
    "    promises.append(promise)\n",
    "    \n",
    "if bool(promises):\n",
    "    await asyncio.wait(promises)\n",
    "print(f'TEST (2 input): {time.time() - start_time}')"
   ]
  },
  {
   "cell_type": "code",
   "execution_count": 14,
   "metadata": {},
   "outputs": [
    {
     "name": "stdout",
     "output_type": "stream",
     "text": [
      "TEST (how to be): 12.776089668273926\n"
     ]
    }
   ],
   "source": [
    "start_time = time.time()\n",
    "loop = asyncio.get_event_loop()\n",
    "promises = []\n",
    "for i in range(COUNT_ITERATIONS):\n",
    "    promise = loop.create_task(test_2())\n",
    "    promises.append(promise)\n",
    "    \n",
    "if bool(promises):\n",
    "    await asyncio.wait(promises)\n",
    "print(f'TEST (how to be): {time.time() - start_time}')"
   ]
  },
  {
   "cell_type": "code",
   "execution_count": 15,
   "metadata": {},
   "outputs": [
    {
     "name": "stdout",
     "output_type": "stream",
     "text": [
      "TEST (async): 12.657196283340454\n"
     ]
    }
   ],
   "source": [
    "start_time = time.time()\n",
    "loop = asyncio.get_event_loop()\n",
    "promises = []\n",
    "for i in range(COUNT_ITERATIONS):\n",
    "    promise = loop.create_task(test_3())\n",
    "    promises.append(promise)\n",
    "    \n",
    "if bool(promises):\n",
    "    await asyncio.wait(promises)\n",
    "print(f'TEST (async): {time.time() - start_time}')"
   ]
  },
  {
   "cell_type": "code",
   "execution_count": null,
   "metadata": {},
   "outputs": [],
   "source": []
  }
 ],
 "metadata": {
  "kernelspec": {
   "display_name": "Python 3",
   "language": "python",
   "name": "python3"
  },
  "language_info": {
   "codemirror_mode": {
    "name": "ipython",
    "version": 3
   },
   "file_extension": ".py",
   "mimetype": "text/x-python",
   "name": "python",
   "nbconvert_exporter": "python",
   "pygments_lexer": "ipython3",
   "version": "3.6.6"
  }
 },
 "nbformat": 4,
 "nbformat_minor": 2
}
