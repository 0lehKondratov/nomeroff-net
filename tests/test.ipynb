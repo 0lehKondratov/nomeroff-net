{
 "cells": [
  {
   "cell_type": "markdown",
   "metadata": {},
   "source": [
    "# Tests"
   ]
  },
  {
   "cell_type": "code",
   "execution_count": 1,
   "metadata": {},
   "outputs": [],
   "source": [
    "import os\n",
    "import sys\n",
    "import json\n",
    "import matplotlib.image as mpimg\n",
    "from matplotlib import pyplot as plt\n",
    "from termcolor import colored\n",
    "\n",
    "# change this property\n",
    "NOMEROFF_NET_DIR = \"/var/www/nomeroff-net/\"\n",
    "MASK_RCNN_DIR = \"/var/www/Mask_RCNN/\"\n",
    "\n",
    "MASK_RCNN_LOG_DIR = os.path.join(NOMEROFF_NET_DIR, \"logs/\")\n",
    "MASK_RCNN_MODEL_PATH = os.path.join(NOMEROFF_NET_DIR, \"models/np/mask_rcnn_numberplate_0700.h5\")\n",
    "REGION_MODEL_PATH = os.path.join(NOMEROFF_NET_DIR, \"models/npstd/npregion_v4_2018-12-27-295x64-2.h5\")\n",
    "\n",
    "sys.path.append(NOMEROFF_NET_DIR)"
   ]
  },
  {
   "cell_type": "code",
   "execution_count": null,
   "metadata": {},
   "outputs": [
    {
     "name": "stderr",
     "output_type": "stream",
     "text": [
      "Using TensorFlow backend.\n"
     ]
    }
   ],
   "source": [
    "from NomeroffNet import  filters, RectDetector, TextDetector, RegionDetector, Detector, textPostprocessing\n",
    "\n",
    "nnet = Detector(MASK_RCNN_DIR, MASK_RCNN_LOG_DIR)\n",
    "nnet.loadModel(MASK_RCNN_MODEL_PATH)\n",
    "\n",
    "rectDetector = RectDetector()\n",
    "textDetector = TextDetector()\n",
    "regionDetector = RegionDetector()\n",
    "regionDetector.load(REGION_MODEL_PATH)"
   ]
  },
  {
   "cell_type": "code",
   "execution_count": null,
   "metadata": {},
   "outputs": [],
   "source": [
    "def test(dirName, fname, y, verbose=0):\n",
    "    img_path = os.path.join(dirName, fname)\n",
    "    if verbose==1:\n",
    "        print(colored(f\"__________ \\t\\t {img_path} \\t\\t __________\", \"blue\"))\n",
    "    img = mpimg.imread(img_path)\n",
    "    NP = nnet.detect([img])\n",
    "    if verbose==1:\n",
    "        print(colored(\"MASK_RCNN RESULTS:\", \"blue\"))\n",
    "        print(NP)\n",
    "    cv_img_masks = filters.cv_img_mask(NP) \n",
    "    nGood = 0\n",
    "    nBad = 0\n",
    "    res = []\n",
    "    for img_mask in cv_img_masks:\n",
    "        #mpimg.imsave(\"mask.m.png\", img_mask)\n",
    "        points = rectDetector.detect(img_mask, fixRectangleAngle=1, outboundWidthOffset=2)\n",
    "        if verbose==1:\n",
    "            print(colored(\"RECT DETECTOR RESULTS:\", \"blue\"))\n",
    "            print(points)\n",
    "        zone = rectDetector.get_cv_zones(img, points)\n",
    "      \n",
    "        if verbose==1:\n",
    "            plt.axis(\"off\")\n",
    "            plt.imshow(zone)\n",
    "            plt.show()\n",
    "        regionId = regionDetector.predict(zone)\n",
    "        regionName = regionDetector.getLabels(regionId)\n",
    "        if verbose==1:\n",
    "            print(colored(\"REGION NAME:\", \"blue\"))\n",
    "            print(regionName)\n",
    "        text = textDetector.detect(zone)\n",
    "        if verbose==1:\n",
    "            print(colored(\"SOURCE TEXT:\", \"blue\"))\n",
    "            print(text)\n",
    "        text = textPostprocessing(text, regionName)\n",
    "        if verbose==1:\n",
    "            print(colored(\"POSTPROCESSED TEXT:\", \"blue\"))\n",
    "            print(text)\n",
    "        res.append(text)\n",
    "    for yText in y:\n",
    "        if yText in res:\n",
    "            print(colored(f\"OK: TEXT:{yText} \\t RESULTS:{res} \\t\\t in PATH:{img_path}\", 'green'))\n",
    "            nGood += 1\n",
    "        else:\n",
    "            print(colored(f\"NOT OK: TEXT:{yText} \\t RESULTS:{res} \\t\\t in PATH:{img_path} \", 'red'))\n",
    "            nBad += 1\n",
    "    return nGood, nBad"
   ]
  },
  {
   "cell_type": "code",
   "execution_count": null,
   "metadata": {},
   "outputs": [],
   "source": [
    "dirName = \"images/\"\n",
    "testData = {\n",
    "    \"0.jpeg\": [\"AI5255EI\"],\n",
    "    \"1.jpeg\": [\"HH7777CC\"],\n",
    "    \"2.jpeg\": [\"AT1515CK\"],\n",
    "    \"3.jpeg\": [\"BX0578CE\"],\n",
    "    \"4.jpeg\": [\"AC4249CB\"],\n",
    "    \"5.jpeg\": [\"BC3496HC\"],\n",
    "    \"6.jpeg\": [\"BC3496HC\"],\n",
    "    \"7.jpeg\": [\"AO1306CH\"],\n",
    "    \"8.jpeg\": [\"AE1077CO\"],\n",
    "    \"9.jpeg\": [\"AB3391AK\"],\n",
    "    \"10.jpeg\": [\"BE7425CB\"],\n",
    "    \"11.jpeg\": [\"BE7425CB\"],\n",
    "    \"12.jpeg\": [\"AB0608EA\"],\n",
    "    \"13.jpeg\": [\"AB0680EA\"],\n",
    "    \"14.jpeg\": [\"BM1930BM\"],\n",
    "    \"15.jpeg\": [\"AI1382HB\"],\n",
    "    \"16.jpeg\": [\"AB7333BH\"],\n",
    "    \"17.jpeg\": [\"AB7642CT\"],\n",
    "    \"18.jpeg\": [\"AC4921CB\"],\n",
    "    \"19.jpeg\": [\"BC9911BK\"],\n",
    "    \"20.jpeg\": [\"BC7007AK\"],\n",
    "    \"21.jpeg\": [\"AB5649CI\"],\n",
    "    \"22.jpeg\": [\"AX2756EK\"],\n",
    "    \"23.jpeg\": [\"AA7564MX\"],\n",
    "    \"24.jpeg\": [\"AM5696CK\"],\n",
    "    \"25.jpeg\": [\"AM5696CK\"],\n",
    "}\n",
    "\n",
    "gGood = 0\n",
    "gBad = 0\n",
    "i = 0\n",
    "for fileName in testData.keys():\n",
    "    print(f\"step {i}\")\n",
    "    nGood, nBad = test(dirName, fileName, testData[fileName])\n",
    "    gGood += nGood\n",
    "    gBad += nBad\n",
    "    i += 1\n",
    "total = gGood + gBad\n",
    "print(f\"TOTAL GOOD: {gGood/total}\")\n",
    "print(f\"TOTAL BED: {gBad/total}\")"
   ]
  },
  {
   "cell_type": "code",
   "execution_count": null,
   "metadata": {},
   "outputs": [],
   "source": [
    "test(dirName, \"13.jpeg\", [\"AB0680EA\"], verbose=1)"
   ]
  },
  {
   "cell_type": "code",
   "execution_count": null,
   "metadata": {},
   "outputs": [],
   "source": []
  }
 ],
 "metadata": {
  "kernelspec": {
   "display_name": "Python 3",
   "language": "python",
   "name": "python3"
  },
  "language_info": {
   "codemirror_mode": {
    "name": "ipython",
    "version": 3
   },
   "file_extension": ".py",
   "mimetype": "text/x-python",
   "name": "python",
   "nbconvert_exporter": "python",
   "pygments_lexer": "ipython3",
   "version": "3.6.6"
  }
 },
 "nbformat": 4,
 "nbformat_minor": 2
}
