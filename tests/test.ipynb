{
 "cells": [
  {
   "cell_type": "markdown",
   "metadata": {},
   "source": [
    "# Tests"
   ]
  },
  {
   "cell_type": "code",
   "execution_count": 1,
   "metadata": {},
   "outputs": [],
   "source": [
    "import os\n",
    "import sys\n",
    "import json\n",
    "import matplotlib.image as mpimg\n",
    "from matplotlib import pyplot as plt\n",
    "from termcolor import colored\n",
    "\n",
    "with open('../config/default.json') as data_file:\n",
    "    config = json.load(data_file)\n",
    "    \n",
    "sys.path.append(os.path.abspath(config[\"NOMEROFF_NET\"][\"ROOT\"]))"
   ]
  },
  {
   "cell_type": "code",
   "execution_count": 2,
   "metadata": {},
   "outputs": [
    {
     "name": "stderr",
     "output_type": "stream",
     "text": [
      "Using TensorFlow backend.\n",
      "/usr/local/lib64/python3.6/site-packages/keras/engine/saving.py:304: UserWarning: Error in loading the saved optimizer state. As a result, your model is starting with a freshly initialized optimizer.\n",
      "  warnings.warn('Error in loading the saved optimizer '\n"
     ]
    }
   ],
   "source": [
    "from NomeroffNet import  filters, RectDetector, TextDetector, RegionDetector, Detector, textPostprocessing\n",
    "\n",
    "nnet = Detector(config)\n",
    "nnet.loadModel()\n",
    "\n",
    "rectDetector = RectDetector(config[\"RECT_DETECTOR\"])\n",
    "textDetector = TextDetector(config[\"TEXT_DETECTOR\"][\"ENGINE\"])\n",
    "regionDetector = RegionDetector()\n",
    "regionDetector.load(os.path.join(config[\"NOMEROFF_NET\"][\"ROOT\"], config[\"NP_STANDART_DETECTOR\"][\"MODEL_PATH\"]))"
   ]
  },
  {
   "cell_type": "code",
   "execution_count": 3,
   "metadata": {},
   "outputs": [],
   "source": [
    "def test(dirName, fname, y, verbose=0):\n",
    "    img_path = os.path.join(dirName, fname)\n",
    "    if verbose==1:\n",
    "        print(colored(f\"__________ \\t\\t {img_path} \\t\\t __________\", \"blue\"))\n",
    "    img = mpimg.imread(img_path)\n",
    "    NP = nnet.detect([img])\n",
    "    if verbose==1:\n",
    "        print(colored(\"MASK_RCNN RESULTS:\", \"blue\"))\n",
    "        print(NP)\n",
    "    cv_img_masks = filters.cv_img_mask(NP) \n",
    "    nGood = 0\n",
    "    nBad = 0\n",
    "    res = []\n",
    "    for img_mask in cv_img_masks:\n",
    "        points = rectDetector.detect(img_mask, fixRectangleAngle=1, outboundWidthOffset=3)\n",
    "        if verbose==1:\n",
    "            print(colored(\"RECT DETECTOR RESULTS:\", \"blue\"))\n",
    "            print(points)\n",
    "        zone = rectDetector.get_cv_zones(img, points)\n",
    "      \n",
    "        if verbose==1:\n",
    "            plt.axis(\"off\")\n",
    "            plt.imshow(zone)\n",
    "            plt.show()\n",
    "        regionId = regionDetector.predict(zone)\n",
    "        regionName = regionDetector.getLabels(regionId)\n",
    "        if verbose==1:\n",
    "            print(colored(\"REGION NAME:\", \"blue\"))\n",
    "            print(regionName)\n",
    "        text = textDetector.detect(zone)\n",
    "        if verbose==1:\n",
    "            print(colored(\"SOURCE TEXT:\", \"blue\"))\n",
    "            print(text)\n",
    "        text = textPostprocessing(text, regionName)\n",
    "        if verbose==1:\n",
    "            print(colored(\"POSTPROCESSED TEXT:\", \"blue\"))\n",
    "            print(text)\n",
    "        res.append(text)\n",
    "    for yText in y:\n",
    "        if yText in res:\n",
    "            print(colored(f\"OK: TEXT:{yText} \\t RESULTS:{res} \\t\\t in PATH:{img_path}\", 'green'))\n",
    "            nGood += 1\n",
    "        else:\n",
    "            print(colored(f\"NOT OK: TEXT:{yText} \\t RESULTS:{res} \\t\\t in PATH:{img_path} \", 'red'))\n",
    "            nBad += 1\n",
    "    return nGood, nBad"
   ]
  },
  {
   "cell_type": "code",
   "execution_count": 4,
   "metadata": {},
   "outputs": [],
   "source": [
    "dirName = \"images/\"\n",
    "testData = {\n",
    "    \"0.jpeg\": [\"AI5255EI\"],\n",
    "    \"1.jpeg\": [\"HH7777CC\"],\n",
    "    \"2.jpeg\": [\"AT1515CK\"],\n",
    "    \"3.jpeg\": [\"BX0578CE\"],\n",
    "    \"4.jpeg\": [\"AC4249CB\"],\n",
    "    \"5.jpeg\": [\"BC3496HC\"],\n",
    "    \"6.jpeg\": [\"BC3496HC\"],\n",
    "    \"7.jpeg\": [\"AO1306CH\"],\n",
    "    \"8.jpeg\": [\"AE1077CO\"],\n",
    "    \"9.jpeg\": [\"AB3391AK\"],\n",
    "    \"10.jpeg\": [\"BE7425CB\"],\n",
    "    \"11.jpeg\": [\"BE7425CB\"],\n",
    "    \"12.jpeg\": [\"AB0608EA\"],\n",
    "    \"13.jpeg\": [\"AB0680EA\"],\n",
    "    \"14.jpeg\": [\"BM1930BM\"],\n",
    "    \"15.jpeg\": [\"AI1382HB\"],\n",
    "    \"16.jpeg\": [\"AB7333BH\"],\n",
    "    \"17.jpeg\": [\"AB7642CT\"],\n",
    "    \"18.jpeg\": [\"AC4921CB\"],\n",
    "    \"19.jpeg\": [\"BC9911BK\"],\n",
    "    \"20.jpeg\": [\"BC7007AK\"],\n",
    "    \"21.jpeg\": [\"AB5649CI\"],\n",
    "    \"22.jpeg\": [\"AX2756EK\"],\n",
    "    \"23.jpeg\": [\"AA7564MX\"],\n",
    "    \"24.jpeg\": [\"AM5696CK\"],\n",
    "    \"25.jpeg\": [\"AM5696CK\"],\n",
    "}\n",
    "\n",
    "gGood = 0\n",
    "gBad = 0\n",
    "i = 0\n",
    "for fileName in testData.keys():\n",
    "    print(f\"step {i}\")\n",
    "    nGood, nBad = test(dirName, fileName, testData[fileName])\n",
    "    gGood += nGood\n",
    "    gBad += nBad\n",
    "    i += 1\n",
    "total = gGood + gBad\n",
    "print(f\"TOTAL GOOD: {gGood/total}\")\n",
    "print(f\"TOTAL BED: {gBad/total}\")"
   ]
  },
  {
   "cell_type": "code",
   "execution_count": 5,
   "metadata": {},
   "outputs": [
    {
     "name": "stderr",
     "output_type": "stream",
     "text": [
      "/usr/local/lib64/python3.6/site-packages/skimage/transform/_warps.py:110: UserWarning: Anti-aliasing will be enabled by default in skimage 0.15 to avoid aliasing artifacts when down-sampling images.\n",
      "  warn(\"Anti-aliasing will be enabled by default in skimage 0.15 to \"\n"
     ]
    },
    {
     "name": "stdout",
     "output_type": "stream",
     "text": [
      "\u001b[34m__________ \t\t images/12.jpeg \t\t __________\u001b[0m\n",
      "\u001b[34mMASK_RCNN RESULTS:\u001b[0m\n",
      "[{'rois': array([[345,  55, 401, 121],\n",
      "       [ 76, 253, 120, 276]], dtype=int32), 'class_ids': array([1, 1], dtype=int32), 'scores': array([0.999734  , 0.92951983], dtype=float32), 'masks': array([[[False, False],\n",
      "        [False, False],\n",
      "        [False, False],\n",
      "        ...,\n",
      "        [False, False],\n",
      "        [False, False],\n",
      "        [False, False]],\n",
      "\n",
      "       [[False, False],\n",
      "        [False, False],\n",
      "        [False, False],\n",
      "        ...,\n",
      "        [False, False],\n",
      "        [False, False],\n",
      "        [False, False]],\n",
      "\n",
      "       [[False, False],\n",
      "        [False, False],\n",
      "        [False, False],\n",
      "        ...,\n",
      "        [False, False],\n",
      "        [False, False],\n",
      "        [False, False]],\n",
      "\n",
      "       ...,\n",
      "\n",
      "       [[False, False],\n",
      "        [False, False],\n",
      "        [False, False],\n",
      "        ...,\n",
      "        [False, False],\n",
      "        [False, False],\n",
      "        [False, False]],\n",
      "\n",
      "       [[False, False],\n",
      "        [False, False],\n",
      "        [False, False],\n",
      "        ...,\n",
      "        [False, False],\n",
      "        [False, False],\n",
      "        [False, False]],\n",
      "\n",
      "       [[False, False],\n",
      "        [False, False],\n",
      "        [False, False],\n",
      "        ...,\n",
      "        [False, False],\n",
      "        [False, False],\n",
      "        [False, False]]])}]\n",
      "\u001b[34mRECT DETECTOR RESULTS:\u001b[0m\n",
      "[[121.03180996 383.41532833]\n",
      " [122.44519639 406.02948055]\n",
      " [ 45.39292692 355.77798403]\n",
      " [ 44.101178   335.11003177]]\n"
     ]
    },
    {
     "data": {
      "image/png": "[encoded data removed]",
      "text/plain": [
       "<Figure size 432x288 with 1 Axes>"
      ]
     },
     "metadata": {
      "needs_background": "light"
     },
     "output_type": "display_data"
    },
    {
     "name": "stdout",
     "output_type": "stream",
     "text": [
      "\u001b[34mREGION NAME:\u001b[0m\n",
      "eu-ua-2004\n",
      "\u001b[34mSOURCE TEXT:\u001b[0m\n",
      "LB OLB0EA\n",
      "\u001b[34mPOSTPROCESSED TEXT:\u001b[0m\n",
      "ABOLB0EA\n",
      "\u001b[34mRECT DETECTOR RESULTS:\u001b[0m\n",
      "[[275.          73.        ]\n",
      " [275.         122.        ]\n",
      " [253.55172729 122.        ]\n",
      " [253.55172729  73.        ]]\n"
     ]
    },
    {
     "data": {
      "image/png": "[encoded data removed]",
      "text/plain": [
       "<Figure size 432x288 with 1 Axes>"
      ]
     },
     "metadata": {
      "needs_background": "light"
     },
     "output_type": "display_data"
    },
    {
     "name": "stdout",
     "output_type": "stream",
     "text": [
      "\u001b[34mREGION NAME:\u001b[0m\n",
      "xx-unknown\n",
      "\u001b[34mSOURCE TEXT:\u001b[0m\n",
      "EfiiiiiRg\n",
      "\u001b[34mPOSTPROCESSED TEXT:\u001b[0m\n",
      "\n",
      "\u001b[31mNOT OK: TEXT:AB0608EA \t RESULTS:['ABOLB0EA', ''] \t\t in PATH:images/12.jpeg \u001b[0m\n",
      "\u001b[34m__________ \t\t images/11.jpeg \t\t __________\u001b[0m\n"
     ]
    },
    {
     "name": "stderr",
     "output_type": "stream",
     "text": [
      "/usr/local/lib64/python3.6/site-packages/skimage/transform/_warps.py:110: UserWarning: Anti-aliasing will be enabled by default in skimage 0.15 to avoid aliasing artifacts when down-sampling images.\n",
      "  warn(\"Anti-aliasing will be enabled by default in skimage 0.15 to \"\n"
     ]
    },
    {
     "name": "stdout",
     "output_type": "stream",
     "text": [
      "\u001b[34mMASK_RCNN RESULTS:\u001b[0m\n",
      "[{'rois': array([[ 295, 1134,  371, 1208]], dtype=int32), 'class_ids': array([1], dtype=int32), 'scores': array([0.9983311], dtype=float32), 'masks': array([[[False],\n",
      "        [False],\n",
      "        [False],\n",
      "        ...,\n",
      "        [False],\n",
      "        [False],\n",
      "        [False]],\n",
      "\n",
      "       [[False],\n",
      "        [False],\n",
      "        [False],\n",
      "        ...,\n",
      "        [False],\n",
      "        [False],\n",
      "        [False]],\n",
      "\n",
      "       [[False],\n",
      "        [False],\n",
      "        [False],\n",
      "        ...,\n",
      "        [False],\n",
      "        [False],\n",
      "        [False]],\n",
      "\n",
      "       ...,\n",
      "\n",
      "       [[False],\n",
      "        [False],\n",
      "        [False],\n",
      "        ...,\n",
      "        [False],\n",
      "        [False],\n",
      "        [False]],\n",
      "\n",
      "       [[False],\n",
      "        [False],\n",
      "        [False],\n",
      "        ...,\n",
      "        [False],\n",
      "        [False],\n",
      "        [False]],\n",
      "\n",
      "       [[False],\n",
      "        [False],\n",
      "        [False],\n",
      "        ...,\n",
      "        [False],\n",
      "        [False],\n",
      "        [False]]])}]\n",
      "\u001b[34mRECT DETECTOR RESULTS:\u001b[0m\n",
      "[[1202.05112772  292.83522713]\n",
      " [1214.45969733  342.4692309 ]\n",
      " [1137.81203125  375.31818362]\n",
      " [1125.40346219  325.68421254]]\n"
     ]
    },
    {
     "data": {
      "image/png": "[encoded data removed]",
      "text/plain": [
       "<Figure size 432x288 with 1 Axes>"
      ]
     },
     "metadata": {
      "needs_background": "light"
     },
     "output_type": "display_data"
    },
    {
     "name": "stdout",
     "output_type": "stream",
     "text": [
      "\u001b[34mREGION NAME:\u001b[0m\n",
      "eu-ua-2015\n",
      "\u001b[34mSOURCE TEXT:\u001b[0m\n",
      "=BE 7225C5)\n",
      "\u001b[34mPOSTPROCESSED TEXT:\u001b[0m\n",
      "ABE7225C5)\n",
      "\u001b[31mNOT OK: TEXT:BE7425CB \t RESULTS:['ABE7225C5)'] \t\t in PATH:images/11.jpeg \u001b[0m\n"
     ]
    },
    {
     "data": {
      "text/plain": [
       "(0, 1)"
      ]
     },
     "execution_count": 5,
     "metadata": {},
     "output_type": "execute_result"
    }
   ],
   "source": [
    "test(dirName, \"12.jpeg\", testData[\"12.jpeg\"], verbose=1)\n",
    "test(dirName, \"11.jpeg\", testData[\"11.jpeg\"], verbose=1)"
   ]
  }
 ],
 "metadata": {
  "kernelspec": {
   "display_name": "Python 3",
   "language": "python",
   "name": "python3"
  },
  "language_info": {
   "codemirror_mode": {
    "name": "ipython",
    "version": 3
   },
   "file_extension": ".py",
   "mimetype": "text/x-python",
   "name": "python",
   "nbconvert_exporter": "python",
   "pygments_lexer": "ipython3",
   "version": "3.6.6"
  }
 },
 "nbformat": 4,
 "nbformat_minor": 2
}
