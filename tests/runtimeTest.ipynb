{
 "cells": [
  {
   "cell_type": "markdown",
   "metadata": {},
   "source": [
    "# Runtime Test"
   ]
  },
  {
   "cell_type": "code",
   "execution_count": 1,
   "metadata": {},
   "outputs": [
    {
     "name": "stderr",
     "output_type": "stream",
     "text": [
      "Using TensorFlow backend.\n"
     ]
    },
    {
     "name": "stdout",
     "output_type": "stream",
     "text": [
      "WARNING:tensorflow:From /usr/local/lib/python3.6/site-packages/tensorflow/python/ops/sparse_ops.py:1165: sparse_to_dense (from tensorflow.python.ops.sparse_ops) is deprecated and will be removed in a future version.\n",
      "Instructions for updating:\n",
      "Create a `tf.sparse.SparseTensor` and use `tf.sparse.to_dense` instead.\n"
     ]
    }
   ],
   "source": [
    "import os\n",
    "import sys\n",
    "import json\n",
    "import matplotlib.image as mpimg\n",
    "from matplotlib import pyplot as plt\n",
    "from termcolor import colored\n",
    "import cv2\n",
    "import time\n",
    "import numpy as np\n",
    "import warnings\n",
    "warnings.filterwarnings('ignore')\n",
    "\n",
    "# change this property\n",
    "NOMEROFF_NET_DIR = \"/var/www/nomeroff-net/\"\n",
    "MASK_RCNN_DIR = \"/var/www/Mask_RCNN/\"\n",
    "\n",
    "MASK_RCNN_LOG_DIR = os.path.join(NOMEROFF_NET_DIR, \"logs/\")\n",
    "MASK_RCNN_MODEL_PATH = os.path.join(NOMEROFF_NET_DIR, \"models/mask_rcnn_numberplate_0700.h5\")\n",
    "REGION_MODEL_PATH = os.path.join(NOMEROFF_NET_DIR, \"models/imagenet_vgg16_np_region_2019_1_18.h5\")\n",
    "FILL_MODEL_PATH = os.path.join(NOMEROFF_NET_DIR, \"models/imagenet_vgg16_np_filled_2019_1_15.h5\")\n",
    "\n",
    "sys.path.append(NOMEROFF_NET_DIR)\n",
    "\n",
    "from NomeroffNet import  filters, RectDetector, TextDetector, RegionDetector, Detector, textPostprocessing, FillDetector\n",
    "\n",
    "nnet = Detector(MASK_RCNN_DIR, MASK_RCNN_LOG_DIR)\n",
    "nnet.loadModel(MASK_RCNN_MODEL_PATH)\n",
    "\n",
    "rectDetector = RectDetector()\n",
    "textDetector = TextDetector()\n",
    "regionDetector = RegionDetector()\n",
    "regionDetector.load(REGION_MODEL_PATH)\n",
    "fillDetector = FillDetector()\n",
    "fillDetector.load(FILL_MODEL_PATH)"
   ]
  },
  {
   "cell_type": "code",
   "execution_count": 2,
   "metadata": {},
   "outputs": [],
   "source": [
    "def test(dirName, fname):\n",
    "    img_path = os.path.join(dirName, fname)\n",
    "    img = mpimg.imread(img_path)\n",
    "    img_w = img.shape[1]\n",
    "    img_h = img.shape[0]\n",
    "    if img_w > 1920:\n",
    "        img = cv2.resize(img, (1920, int(1920/img_w*img_h)))\n",
    "    NP = nnet.detect([img])\n",
    "    cv_img_masks = filters.cv_img_mask(NP) \n",
    "    nGood = 0\n",
    "    nBad = 0\n",
    "    res = []\n",
    "    for img_mask in cv_img_masks:\n",
    "        points = rectDetector.detect(img_mask, fixRectangleAngle=1, outboundWidthOffset=3)\n",
    "        zone = rectDetector.get_cv_zones(img, points)\n",
    "        regionId = regionDetector.predict(zone)\n",
    "        regionName = regionDetector.getLabels(regionId)\n",
    "        text = textDetector.detect(zone)\n",
    "        text = textPostprocessing(text, regionName)\n",
    "        res.append(text)"
   ]
  },
  {
   "cell_type": "code",
   "execution_count": 3,
   "metadata": {},
   "outputs": [
    {
     "name": "stdout",
     "output_type": "stream",
     "text": [
      "0.1\n",
      "0.2\n",
      "0.3\n",
      "0.4\n",
      "0.5\n",
      "0.6\n",
      "0.7\n",
      "0.8\n",
      "0.9\n",
      "1.0\n"
     ]
    }
   ],
   "source": [
    "N = 10\n",
    "\n",
    "i = 0\n",
    "j = 0\n",
    "start_time = time.time()\n",
    "rootDir = 'images/'\n",
    "for i in np.arange(N):\n",
    "    for dirName, subdirList, fileList in os.walk(rootDir):\n",
    "        for fname in fileList:\n",
    "            test(dirName, fname)\n",
    "            j += 1\n",
    "    i += 1\n",
    "    print(i/N)\n",
    "end_time = time.time() - start_time"
   ]
  },
  {
   "cell_type": "markdown",
   "metadata": {},
   "source": [
    "### Intel(R) Core(TM) i5-7500 CPU @ 3.40GHz"
   ]
  },
  {
   "cell_type": "code",
   "execution_count": 4,
   "metadata": {},
   "outputs": [
    {
     "name": "stdout",
     "output_type": "stream",
     "text": [
      "Processed 260 photos\n",
      "Time 1931.2203931808472\n",
      "One photo process 7.427770743003259 seconds\n"
     ]
    }
   ],
   "source": [
    "print(f\"Processed {j} photos\")\n",
    "print(f\"Time {end_time}\")\n",
    "print(f\"One photo process {end_time/j} seconds\")"
   ]
  }
 ],
 "metadata": {
  "kernelspec": {
   "display_name": "Python 3",
   "language": "python",
   "name": "python3"
  },
  "language_info": {
   "codemirror_mode": {
    "name": "ipython",
    "version": 3
   },
   "file_extension": ".py",
   "mimetype": "text/x-python",
   "name": "python",
   "nbconvert_exporter": "python",
   "pygments_lexer": "ipython3",
   "version": "3.6.6"
  }
 },
 "nbformat": 4,
 "nbformat_minor": 2
}
