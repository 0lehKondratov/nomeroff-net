{
 "cells": [
  {
   "cell_type": "markdown",
   "metadata": {},
   "source": [
    "# Runtime Test"
   ]
  },
  {
   "cell_type": "markdown",
   "metadata": {},
   "source": [
    "Before runing this test, please download models from [https://nomeroff.net.ua/models/](https://nomeroff.net.ua/models/) to **./models/** directory. "
   ]
  },
  {
   "cell_type": "code",
   "execution_count": 1,
   "metadata": {},
   "outputs": [
    {
     "name": "stderr",
     "output_type": "stream",
     "text": [
      "Using TensorFlow backend.\n"
     ]
    },
    {
     "name": "stdout",
     "output_type": "stream",
     "text": [
      "Limited tf.compat.v2.summary API due to missing TensorBoard installation\n"
     ]
    },
    {
     "name": "stderr",
     "output_type": "stream",
     "text": [
      "WARNING: Logging before flag parsing goes to stderr.\n",
      "W0221 19:06:19.404698 140014263108928 deprecation.py:506] From /usr/local/lib/python3.6/site-packages/mrcnn/model.py:423: calling crop_and_resize_v1 (from tensorflow.python.ops.image_ops_impl) with box_ind is deprecated and will be removed in a future version.\n",
      "Instructions for updating:\n",
      "box_ind is deprecated, use box_indices instead\n",
      "W0221 19:06:19.673711 140014263108928 deprecation.py:323] From /usr/local/lib/python3.6/site-packages/mrcnn/model.py:775: to_float (from tensorflow.python.ops.math_ops) is deprecated and will be removed in a future version.\n",
      "Instructions for updating:\n",
      "Use tf.cast instead.\n",
      "W0221 19:06:25.043378 140014263108928 deprecation.py:506] From /usr/local/lib64/python3.6/site-packages/keras/backend/tensorflow_backend.py:3445: calling dropout (from tensorflow.python.ops.nn_ops) with keep_prob is deprecated and will be removed in a future version.\n",
      "Instructions for updating:\n",
      "Please use `rate` instead of `keep_prob`. Rate should be set to `rate = 1 - keep_prob`.\n",
      "W0221 19:06:25.097008 140014263108928 deprecation.py:506] From /usr/local/lib/python3.6/site-packages/tensorflow/python/training/moving_averages.py:210: calling Zeros.__init__ (from tensorflow.python.ops.init_ops) with dtype is deprecated and will be removed in a future version.\n",
      "Instructions for updating:\n",
      "Call initializer instance with the dtype argument instead of passing it to the constructor\n",
      "W0221 19:06:28.445755 140014263108928 deprecation.py:323] From /usr/local/lib64/python3.6/site-packages/keras/backend/tensorflow_backend.py:4249: to_int32 (from tensorflow.python.ops.math_ops) is deprecated and will be removed in a future version.\n",
      "Instructions for updating:\n",
      "Use tf.cast instead.\n",
      "W0221 19:06:28.520356 140014263108928 deprecation.py:323] From /usr/local/lib64/python3.6/site-packages/keras/backend/tensorflow_backend.py:4229: to_int64 (from tensorflow.python.ops.math_ops) is deprecated and will be removed in a future version.\n",
      "Instructions for updating:\n",
      "Use tf.cast instead.\n"
     ]
    }
   ],
   "source": [
    "import os\n",
    "import sys\n",
    "import json\n",
    "import matplotlib.image as mpimg\n",
    "from matplotlib import pyplot as plt\n",
    "from termcolor import colored\n",
    "import cv2\n",
    "import time\n",
    "import numpy as np\n",
    "import warnings\n",
    "warnings.filterwarnings('ignore')\n",
    "\n",
    "# change this property\n",
    "NOMEROFF_NET_DIR = os.path.abspath('../')\n",
    "\n",
    "# specify the path to Mask_RCNN if you placed it outside Nomeroff-net project\n",
    "MASK_RCNN_DIR = os.path.join(NOMEROFF_NET_DIR, 'Mask_RCNN')\n",
    "\n",
    "MASK_RCNN_LOG_DIR = \"../logs/\"\n",
    "MASK_RCNN_MODEL_PATH = \"../models/mask_rcnn_numberplate_0700.h5\"\n",
    "OPTIONS_MODEL_PATH =  \"../models/numberplate_options_2019_2_15.h5\"\n",
    "OCR_NP_UKR_TEXT =  \"../models/anpr_ocr_ua_1_2_11-cpu.h5\"\n",
    "OCR_NP_EU_TEXT =  \"../models/anpr_ocr_eu_2-cpu.h5\"\n",
    "\n",
    "sys.path.append(NOMEROFF_NET_DIR)\n",
    "\n",
    "from NomeroffNet import  filters, RectDetector, TextDetector, OptionsDetector, Detector, textPostprocessingAsync\n",
    "\n",
    "nnet = Detector(MASK_RCNN_DIR, MASK_RCNN_LOG_DIR)\n",
    "nnet.loadModel(MASK_RCNN_MODEL_PATH)\n",
    "\n",
    "rectDetector = RectDetector()\n",
    "\n",
    "optionsDetector = OptionsDetector()\n",
    "optionsDetector.load(OPTIONS_MODEL_PATH)\n",
    "\n",
    "# Initialize text detector.\n",
    "textDetector = TextDetector({\n",
    "    \"eu_ua_2014_2015\": {\n",
    "        \"for_regions\": [\"eu_ua_2015\", \"eu_ua_2004\"],\n",
    "        \"model_path\": OCR_NP_UKR_TEXT\n",
    "    },\n",
    "    \"eu\": {\n",
    "        \"for_regions\": [\"eu\", \"eu_ua_1995\"],\n",
    "        \"model_path\": OCR_NP_EU_TEXT\n",
    "    }\n",
    "})"
   ]
  },
  {
   "cell_type": "code",
   "execution_count": 2,
   "metadata": {},
   "outputs": [],
   "source": [
    "async def test(dirName, fname, max_img_w=1280):\n",
    "    img_path = os.path.join(dirName, fname)\n",
    "    img = mpimg.imread(img_path)\n",
    "\n",
    "    # corect size for better speed\n",
    "    img_w = img.shape[1]\n",
    "    img_h = img.shape[0]\n",
    "    img_w_r = 1\n",
    "    img_h_r = 1\n",
    "    if img_w > max_img_w:\n",
    "        resized_img = cv2.resize(img, (max_img_w, int(max_img_w/img_w*img_h)))\n",
    "        img_w_r = img_w/max_img_w\n",
    "        img_h_r = img_h/(max_img_w/img_w*img_h)\n",
    "    else:\n",
    "        resized_img = img\n",
    "\n",
    "    NP = nnet.detect([resized_img]) \n",
    "\n",
    "    # Generate image mask.\n",
    "    cv_img_masks = await filters.cv_img_mask_async(NP)\n",
    "\n",
    "    # Detect points.\n",
    "    arrPoints = await rectDetector.detectAsync(cv_img_masks,  outboundHeightOffset=3-img_w_r)\n",
    "    arrPoints[..., 1:2] = arrPoints[..., 1:2]*img_h_r\n",
    "    arrPoints[..., 0:1] = arrPoints[..., 0:1]*img_w_r\n",
    "\n",
    "    # cut zones\n",
    "    zones = await rectDetector.get_cv_zonesBGR_async(img, arrPoints)\n",
    "\n",
    "    # find standart\n",
    "    regionIds, stateIds = optionsDetector.predict(zones)\n",
    "    regionNames = optionsDetector.getRegionLabels(regionIds)\n",
    "\n",
    "    # find text with postprocessing by standart  \n",
    "    textArr = textDetector.predict(zones, regionNames)\n",
    "    textArr = await textPostprocessingAsync(textArr, regionNames)\n",
    "    return textArr"
   ]
  },
  {
   "cell_type": "code",
   "execution_count": 3,
   "metadata": {},
   "outputs": [
    {
     "name": "stdout",
     "output_type": "stream",
     "text": [
      "0.1\n",
      "0.2\n",
      "0.3\n",
      "0.4\n",
      "0.5\n",
      "0.6\n",
      "0.7\n",
      "0.8\n",
      "0.9\n",
      "1.0\n"
     ]
    }
   ],
   "source": [
    "N = 10\n",
    "\n",
    "i = 0\n",
    "j = 0\n",
    "start_time = time.time()\n",
    "rootDir = 'images/'\n",
    "for i in np.arange(N):\n",
    "    for dirName, subdirList, fileList in os.walk(rootDir):\n",
    "        for fname in fileList:\n",
    "            await test(dirName, fname)\n",
    "            j += 1\n",
    "    i += 1\n",
    "    print(i/N)\n",
    "end_time = time.time() - start_time"
   ]
  },
  {
   "cell_type": "markdown",
   "metadata": {},
   "source": [
    "### Intel(R) Core(TM) i5-7500 CPU @ 3.40GHz"
   ]
  },
  {
   "cell_type": "code",
   "execution_count": 4,
   "metadata": {},
   "outputs": [
    {
     "name": "stdout",
     "output_type": "stream",
     "text": [
      "Processed 260 photos\n",
      "Time 1637.1073093414307\n",
      "One photo process 6.296566574390118 seconds\n"
     ]
    }
   ],
   "source": [
    "print(f\"Processed {j} photos\")\n",
    "print(f\"Time {end_time}\")\n",
    "print(f\"One photo process {end_time/j} seconds\")"
   ]
  },
  {
   "cell_type": "markdown",
   "metadata": {},
   "source": [
    "### Intel(R) Core(TM) i7-7700K CPU @ 4.20GHz + GeForce® GTX 1080 Ti"
   ]
  },
  {
   "cell_type": "code",
   "execution_count": 4,
   "metadata": {},
   "outputs": [
    {
     "name": "stdout",
     "output_type": "stream",
     "text": [
      "Processed 260 photos\n",
      "Time 219.38208556175232\n",
      "One photo process 0.8437772521605859 seconds\n"
     ]
    }
   ],
   "source": [
    "print(f\"Processed {j} photos\")\n",
    "print(f\"Time {end_time}\")\n",
    "print(f\"One photo process {end_time/j} seconds\")"
   ]
  },
  {
   "cell_type": "code",
   "execution_count": null,
   "metadata": {},
   "outputs": [],
   "source": []
  }
 ],
 "metadata": {
  "kernelspec": {
   "display_name": "Python 3",
   "language": "python",
   "name": "python3"
  },
  "language_info": {
   "codemirror_mode": {
    "name": "ipython",
    "version": 3
   },
   "file_extension": ".py",
   "mimetype": "text/x-python",
   "name": "python",
   "nbconvert_exporter": "python",
   "pygments_lexer": "ipython3",
   "version": "3.6.8"
  }
 },
 "nbformat": 4,
 "nbformat_minor": 2
}
