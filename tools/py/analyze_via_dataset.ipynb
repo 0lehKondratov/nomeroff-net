{
 "cells": [
  {
   "cell_type": "code",
   "execution_count": 6,
   "metadata": {},
   "outputs": [],
   "source": [
    "import os\n",
    "import json\n",
    "import glob\n",
    "import tqdm\n",
    "import matplotlib.pyplot as plt"
   ]
  },
  {
   "cell_type": "code",
   "execution_count": 7,
   "metadata": {},
   "outputs": [],
   "source": [
    "STATES = [\"val\",\"train\"]\n",
    "PATH_TO_JSON = \"/var/www/nomeroff-net/yolov5/data_source/autoriaNumberplateDataset-2021-03-01/{}/via_region_data.json\"\n",
    "PATH_TO_IMAGES = \"/var/www/nomeroff-net/yolov5/data_source/autoriaNumberplateDataset-2021-03-01/{}\""
   ]
  },
  {
   "cell_type": "code",
   "execution_count": 8,
   "metadata": {},
   "outputs": [],
   "source": [
    "%matplotlib inline\n",
    "plt.rcParams[\"figure.figsize\"] = (20,10)"
   ]
  },
  {
   "cell_type": "code",
   "execution_count": 15,
   "metadata": {},
   "outputs": [],
   "source": [
    "def analyze_via_dataset(path_to_images, \n",
    "                        path_to_json,\n",
    "                        delete_not_used_images=True):\n",
    "    with open(path_to_json) as ann:\n",
    "        annData = json.load(ann)\n",
    "    image_list = annData\n",
    "    \n",
    "    file_names = []\n",
    "    for _id in tqdm.tqdm(image_list[\"_via_img_metadata\"]):\n",
    "        is_corrupted = 0\n",
    "        image_id = image_list[\"_via_img_metadata\"][_id][\"file_name\"]\n",
    "        file_name = f'{path_to_images}/{image_id}'\n",
    "        \n",
    "        if not os.path.exists(file_name):\n",
    "            print(\"[PROBLEM] Path\", file_name, \"not exists\")\n",
    "        file_names.append(file_name)\n",
    "    print(\"[INFO] json file\", path_to_json, \"has\",  len(file_names), \"annotated items\")\n",
    "    \n",
    "    if not delete_not_used_images:\n",
    "        return 0\n",
    "    deleted_count = 0\n",
    "    for file_name in glob.glob(f\"{path_to_images}/*\"):\n",
    "        if file_name not in file_names and file_name != path_to_json:\n",
    "            os.remove(file_name)\n",
    "            deleted_count += 1\n",
    "    print(\"[INFO] deleted not used images \", deleted_count)\n",
    "    return 0"
   ]
  },
  {
   "cell_type": "code",
   "execution_count": 16,
   "metadata": {},
   "outputs": [
    {
     "name": "stderr",
     "output_type": "stream",
     "text": [
      "100%|██████████| 376/376 [00:00<00:00, 395847.97it/s]\n",
      "100%|██████████| 7666/7666 [00:00<00:00, 528901.92it/s]\n"
     ]
    },
    {
     "name": "stdout",
     "output_type": "stream",
     "text": [
      "[INFO] json file /var/www/nomeroff-net/yolov5/data_source/autoriaNumberplateDataset-2021-03-01/val/via_region_data.json has 376 annotated items\n",
      "[INFO] deleted not used images  0\n",
      "[INFO] json file /var/www/nomeroff-net/yolov5/data_source/autoriaNumberplateDataset-2021-03-01/train/via_region_data.json has 7666 annotated items\n",
      "[INFO] deleted not used images  0\n"
     ]
    }
   ],
   "source": [
    "for state in STATES:\n",
    "\n",
    "    path_to_json    = PATH_TO_JSON.format(state)\n",
    "    path_to_images  = PATH_TO_IMAGES.format(state)\n",
    "    \n",
    "    analyze_via_dataset(path_to_images, \n",
    "                     path_to_json)"
   ]
  },
  {
   "cell_type": "code",
   "execution_count": null,
   "metadata": {},
   "outputs": [],
   "source": []
  }
 ],
 "metadata": {
  "kernelspec": {
   "display_name": "Python 3",
   "language": "python",
   "name": "python3"
  },
  "language_info": {
   "codemirror_mode": {
    "name": "ipython",
    "version": 3
   },
   "file_extension": ".py",
   "mimetype": "text/x-python",
   "name": "python",
   "nbconvert_exporter": "python",
   "pygments_lexer": "ipython3",
   "version": "3.9.0"
  }
 },
 "nbformat": 4,
 "nbformat_minor": 4
}