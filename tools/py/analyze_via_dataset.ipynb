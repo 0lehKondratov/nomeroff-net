{
 "cells": [
  {
   "cell_type": "code",
   "execution_count": 1,
   "metadata": {},
   "outputs": [],
   "source": [
    "import os\n",
    "import json\n",
    "import glob\n",
    "import tqdm\n",
    "import matplotlib.pyplot as plt"
   ]
  },
  {
   "cell_type": "code",
   "execution_count": 2,
   "metadata": {},
   "outputs": [],
   "source": [
    "from _paths import nomeroff_net_dir"
   ]
  },
  {
   "cell_type": "code",
   "execution_count": 3,
   "metadata": {},
   "outputs": [],
   "source": [
    "STATES = [\"val\", \"train\"]\n",
    "\n",
    "PATH_TO_IMAGES = os.path.join(nomeroff_net_dir, \"./data/dataset/Detector/yolov5/autoria_numberplate_dataset_example/{}/\")\n",
    "PATH_TO_JSON = os.path.join(PATH_TO_IMAGES, \"./via_region_data.json\")"
   ]
  },
  {
   "cell_type": "code",
   "execution_count": 4,
   "metadata": {},
   "outputs": [],
   "source": [
    "%matplotlib inline\n",
    "plt.rcParams[\"figure.figsize\"] = (20,10)"
   ]
  },
  {
   "cell_type": "code",
   "execution_count": 5,
   "metadata": {},
   "outputs": [],
   "source": [
    "def analyze_via_dataset(path_to_images, \n",
    "                        path_to_json,\n",
    "                        delete_not_used_images=True):\n",
    "    with open(path_to_json) as ann:\n",
    "        annData = json.load(ann)\n",
    "    image_list = annData\n",
    "    \n",
    "    file_names = []\n",
    "    for _id in tqdm.tqdm(image_list[\"_via_img_metadata\"]):\n",
    "        is_corrupted = 0\n",
    "        image_id = image_list[\"_via_img_metadata\"][_id][\"filename\"]\n",
    "        file_name = f'{path_to_images}/{image_id}'\n",
    "        \n",
    "        if not os.path.exists(file_name):\n",
    "            print(\"[PROBLEM] Path\", file_name, \"not exists\")\n",
    "        file_names.append(file_name)\n",
    "    print(\"[INFO] json file\", path_to_json, \"has\",  len(file_names), \"annotated items\")\n",
    "    \n",
    "    if not delete_not_used_images:\n",
    "        return 0\n",
    "    deleted_count = 0\n",
    "    for file_name in glob.glob(f\"{path_to_images}/*\"):\n",
    "        if file_name not in file_names and file_name != path_to_json:\n",
    "            os.remove(file_name)\n",
    "            deleted_count += 1\n",
    "    print(\"[INFO] deleted not used images \", deleted_count)\n",
    "    return 0"
   ]
  },
  {
   "cell_type": "code",
   "execution_count": 6,
   "metadata": {},
   "outputs": [
    {
     "name": "stderr",
     "output_type": "stream",
     "text": [
      "100%|██████████| 1/1 [00:00<00:00, 710.30it/s]\n",
      "100%|██████████| 1/1 [00:00<00:00, 5242.88it/s]"
     ]
    },
    {
     "name": "stdout",
     "output_type": "stream",
     "text": [
      "[INFO] json file /mnt/data/var/www/nomeroff-net/tools/py/../.././data/dataset/Detector/yolov5/autoria_numberplate_dataset_example/val/./via_region_data.json has 1 annotated items\n",
      "[INFO] json file /mnt/data/var/www/nomeroff-net/tools/py/../.././data/dataset/Detector/yolov5/autoria_numberplate_dataset_example/train/./via_region_data.json has 1 annotated items\n"
     ]
    },
    {
     "name": "stderr",
     "output_type": "stream",
     "text": [
      "\n"
     ]
    }
   ],
   "source": [
    "for state in STATES:\n",
    "\n",
    "    path_to_json    = PATH_TO_JSON.format(state)\n",
    "    path_to_images  = PATH_TO_IMAGES.format(state)\n",
    "    \n",
    "    analyze_via_dataset(path_to_images, \n",
    "                        path_to_json,\n",
    "                        delete_not_used_images=False)"
   ]
  },
  {
   "cell_type": "code",
   "execution_count": null,
   "metadata": {},
   "outputs": [],
   "source": []
  }
 ],
 "metadata": {
  "kernelspec": {
   "display_name": "Python 3",
   "language": "python",
   "name": "python3"
  },
  "language_info": {
   "codemirror_mode": {
    "name": "ipython",
    "version": 3
   },
   "file_extension": ".py",
   "mimetype": "text/x-python",
   "name": "python",
   "nbconvert_exporter": "python",
   "pygments_lexer": "ipython3",
   "version": "3.8.7"
  }
 },
 "nbformat": 4,
 "nbformat_minor": 4
}