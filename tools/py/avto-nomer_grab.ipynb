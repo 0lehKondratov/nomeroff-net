{
 "cells": [
  {
   "cell_type": "markdown",
   "metadata": {},
   "source": [
    "<img width=\"400\" src=\"https://nomeroff.net.ua/images/logo/nomeroff_net.svg\" alt=\"Nomeroff Net. Automatic numberplate recognition system\" align=\"left\"/>"
   ]
  },
  {
   "cell_type": "markdown",
   "metadata": {},
   "source": [
    "## The example demonstrates license plate number detection."
   ]
  },
  {
   "cell_type": "markdown",
   "metadata": {},
   "source": [
    "Before runing this demo, please download models from [https://nomeroff.net.ua/models/](https://nomeroff.net.ua/models/) to **./models/** directory. "
   ]
  },
  {
   "cell_type": "code",
   "execution_count": 1,
   "metadata": {},
   "outputs": [],
   "source": [
    "#Specify device\n",
    "import os\n",
    "os.environ[\"CUDA_VISIBLE_DEVICES\"] = \"\""
   ]
  },
  {
   "cell_type": "code",
   "execution_count": 2,
   "metadata": {},
   "outputs": [],
   "source": [
    "import matplotlib.image as mpimg\n",
    "import os\n",
    "import pandas as pd"
   ]
  },
  {
   "cell_type": "code",
   "execution_count": 3,
   "metadata": {},
   "outputs": [],
   "source": [
    "# Import all necessary libraries.\n",
    "import numpy as np\n",
    "import sys\n",
    "import matplotlib.image as mpimg\n",
    "import matplotlib.pyplot as plt\n",
    "import copy\n",
    "\n",
    "# nomeroff_net path\n",
    "NOMEROFF_NET_DIR = os.path.abspath('../../../')\n",
    "sys.path.append(NOMEROFF_NET_DIR)"
   ]
  },
  {
   "cell_type": "code",
   "execution_count": 4,
   "metadata": {},
   "outputs": [],
   "source": [
    "from nomeroff_net.YoloV5Detector import Detector\n",
    "\n",
    "detector = Detector()\n",
    "detector.load()"
   ]
  },
  {
   "cell_type": "code",
   "execution_count": 5,
   "metadata": {},
   "outputs": [
    {
     "name": "stdout",
     "output_type": "stream",
     "text": [
      "Loading weights from checkpoint (/mnt/store/nomeroff-net-dev/nomeroff_net/tools/../../data/./models/np_points_craft/craft_mlt/craft_mlt_25k_2020-02-16.pth)\n",
      "Loading weights of refiner from checkpoint (/mnt/store/nomeroff-net-dev/nomeroff_net/tools/../../data/./models/np_points_craft/craft_refiner/craft_refiner_CTW1500_2020-02-16.pth)\n"
     ]
    }
   ],
   "source": [
    "from nomeroff_net.bbox_np_points import np_points_craft, get_cv_zone_rgb, convert_cv_zones_rgb_to_bgr, reshape_points\n",
    "\n",
    "np_points_craft = np_points_craft()\n",
    "np_points_craft.load()"
   ]
  },
  {
   "cell_type": "code",
   "execution_count": 8,
   "metadata": {},
   "outputs": [],
   "source": [
    "%matplotlib inline\n",
    "plt.rcParams[\"figure.figsize\"] = (20,10)"
   ]
  },
  {
   "cell_type": "code",
   "execution_count": 9,
   "metadata": {},
   "outputs": [],
   "source": [
    "root_dir = '/mnt/storage1/datasets/numberplate/eu_dataset_photos_test/'\n",
    "\n",
    "photos = pd.read_csv('photos_eu_dataset.csv')\n",
    "photos = photos.set_index(['photoId'])"
   ]
  },
  {
   "cell_type": "code",
   "execution_count": 10,
   "metadata": {},
   "outputs": [
    {
     "name": "stdout",
     "output_type": "stream",
     "text": [
      "/mnt/storage1/datasets/numberplate/eu_dataset_photos_test/412259506.jpeg\n",
      "rotate 0.39914163090128757\n",
      "propably_points\n",
      "[[832.2904993163336, 681.8512623275226], [823.0, 626.5506133825558], [1046.7095172244713, 588.9674147167312], [1056.0, 644.2680655247069]]\n",
      "/mnt/storage1/datasets/numberplate/eu_dataset_photos_test/412176490.jpeg\n",
      "rotate 1.0169491525423728\n",
      "propably_points\n",
      "[[128.4987229795356, 693.5548753112739], [148.17117030239427, 656.66904897868], [270.94349670410156, 722.1476211547852], [251.27105712890622, 759.033447265625]]\n"
     ]
    },
    {
     "name": "stderr",
     "output_type": "stream",
     "text": [
      "/mnt/store/nomeroff-net-dev/nomeroff_net/tools/../../data/./repos/np_points_craft/craft_mlt/craft_utils.py:239: VisibleDeprecationWarning: Creating an ndarray from ragged nested sequences (which is a list-or-tuple of lists-or-tuples-or ndarrays with different lengths or shapes) is deprecated. If you meant to do this, you must specify 'dtype=object' when creating the ndarray\n",
      "  polys = np.array(polys)\n"
     ]
    }
   ],
   "source": [
    "for dir_name, subdir_list, file_list in os.walk(root_dir):\n",
    "    for fname in file_list:\n",
    "        try:\n",
    "            baseName = os.path.splitext(os.path.basename(fname))[0]\n",
    "            img_path = os.path.join(dir_name, fname)\n",
    "            print(img_path)\n",
    "            img = mpimg.imread(img_path)   \n",
    "\n",
    "            target_boxes = detector.detect_bbox(copy.deepcopy(img))\n",
    "            \n",
    "\n",
    "            all_points = np_points_craft.detect(img, target_boxes)\n",
    "            all_points = [ps for ps in all_points if len(ps)]\n",
    "\n",
    "            # cut zones\n",
    "            to_show_zones = [get_cv_zone_rgb(img, reshape_points(rect, 1)) for rect in all_points]\n",
    "            zones = convert_cv_zones_rgb_to_bgr(to_show_zones)\n",
    "\n",
    "            if len(to_show_zones) > 1:\n",
    "                areas = [zone.shape[0]*zone.shape[1] for zone in zones]\n",
    "                zone = to_show_zones[np.argmax(areas)]\n",
    "            else:\n",
    "                zone = to_show_zones[0]\n",
    "\n",
    "            text = photos.loc[int(baseName)]['npText']\n",
    "            imgpath = \"/mnt/storage1/datasets/numberplate/eu_numberplates_test/{}_{}.png\".format(baseName, text)\n",
    "            mpimg.imsave(imgpath, zone)\n",
    "\n",
    "        except Exception as ex:\n",
    "            print('[ERROR]', ex)"
   ]
  },
  {
   "cell_type": "code",
   "execution_count": null,
   "metadata": {},
   "outputs": [],
   "source": []
  }
 ],
 "metadata": {
  "kernelspec": {
   "display_name": "Python 3",
   "language": "python",
   "name": "python3"
  },
  "language_info": {
   "codemirror_mode": {
    "name": "ipython",
    "version": 3
   },
   "file_extension": ".py",
   "mimetype": "text/x-python",
   "name": "python",
   "nbconvert_exporter": "python",
   "pygments_lexer": "ipython3",
   "version": "3.9.5"
  }
 },
 "nbformat": 4,
 "nbformat_minor": 2
}