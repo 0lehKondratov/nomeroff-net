{
 "cells": [
  {
   "cell_type": "markdown",
   "metadata": {},
   "source": [
    "<img width=\"400\" src=\"https://nomeroff.net.ua/images/logo/nomeroff_net.svg\" alt=\"Nomeroff Net. Automatic numberplate recognition system\" align=\"left\"/>"
   ]
  },
  {
   "cell_type": "markdown",
   "metadata": {},
   "source": [
    "## The example demonstrates license plate number detection."
   ]
  },
  {
   "cell_type": "code",
   "execution_count": 1,
   "metadata": {},
   "outputs": [],
   "source": [
    "#Specify device\n",
    "import os\n",
    "os.environ[\"CUDA_VISIBLE_DEVICES\"] = \"\" \n",
    "os.environ[\"TF_FORCE_GPU_ALLOW_GROWTH\"] = \"true\""
   ]
  },
  {
   "cell_type": "code",
   "execution_count": null,
   "metadata": {},
   "outputs": [],
   "source": [
    "import matplotlib.image as mpimg\n",
    "import os\n",
    "import pandas as pd"
   ]
  },
  {
   "cell_type": "code",
   "execution_count": null,
   "metadata": {},
   "outputs": [],
   "source": [
    "# Import all necessary libraries.\n",
    "import numpy as np\n",
    "import sys\n",
    "import glob\n",
    "import matplotlib.image as mpimg\n",
    "import matplotlib.pyplot as plt\n",
    "import cv2\n",
    "import copy\n",
    "\n",
    "# NomeroffNet path\n",
    "NOMEROFF_NET_DIR = os.path.abspath('../../../')\n",
    "sys.path.append(NOMEROFF_NET_DIR)"
   ]
  },
  {
   "cell_type": "code",
   "execution_count": null,
   "metadata": {},
   "outputs": [],
   "source": [
    "from NomeroffNet.YoloV5Detector import Detector\n",
    "\n",
    "detector = Detector()\n",
    "detector.load()"
   ]
  },
  {
   "cell_type": "code",
   "execution_count": null,
   "metadata": {},
   "outputs": [],
   "source": [
    "from NomeroffNet.BBoxNpPoints import NpPointsCraft, getCvZoneRGB, convertCvZonesRGBtoBGR, reshapePoints\n",
    "\n",
    "npPointsCraft = NpPointsCraft()\n",
    "npPointsCraft.load()"
   ]
  },
  {
   "cell_type": "code",
   "execution_count": null,
   "metadata": {},
   "outputs": [],
   "source": [
    "%matplotlib inline\n",
    "plt.rcParams[\"figure.figsize\"] = (20,10)"
   ]
  },
  {
   "cell_type": "code",
   "execution_count": null,
   "metadata": {},
   "outputs": [],
   "source": [
    "rootDir = '/mnt/storage1/datasets/numberplate/eu_dataset_photos_test/'\n",
    "\n",
    "photos = pd.read_csv('photos_eu_dataset.csv')\n",
    "photos = photos.set_index(['photoId'])"
   ]
  },
  {
   "cell_type": "code",
   "execution_count": null,
   "metadata": {},
   "outputs": [],
   "source": [
    "for dirName, subdirList, fileList in os.walk(rootDir):\n",
    "    for fname in fileList:\n",
    "        try:\n",
    "            baseName = os.path.splitext(os.path.basename(fname))[0]\n",
    "            img_path = os.path.join(dirName, fname)\n",
    "            print(img_path)\n",
    "            img = mpimg.imread(img_path)   \n",
    "\n",
    "            targetBoxes = detector.detect_bbox(copy.deepcopy(img))\n",
    "            targetBoxes = targetBoxes\n",
    "\n",
    "            all_points = npPointsCraft.detect(img, targetBoxes)\n",
    "            all_points = [ps for ps in all_points if len(ps)]\n",
    "\n",
    "            # cut zones\n",
    "            toShowZones = [getCvZoneRGB(img, reshapePoints(rect, 1)) for rect in all_points]\n",
    "            zones = convertCvZonesRGBtoBGR(toShowZones)\n",
    "\n",
    "            if len(toShowZones) > 1:\n",
    "                areas = [zone.shape[0]*zone.shape[1] for zone in zones]\n",
    "                zone = toShowZones[np.argmax(areas)]\n",
    "            else:\n",
    "                zone = toShowZones[0]\n",
    "\n",
    "            text = photos.loc[int(baseName)]['npText']\n",
    "            imgpath = \"/mnt/storage1/datasets/numberplate/eu_numberplates_test/{}_{}.png\".format(baseName, text)\n",
    "            mpimg.imsave(imgpath, zone)\n",
    "\n",
    "            # plt.axis(\"off\")\n",
    "            # plt.imshow(zone)\n",
    "            # plt.show()\n",
    "        except Exception as ex:\n",
    "            print('[ERROR]', ex)"
   ]
  }
 ],
 "metadata": {
  "kernelspec": {
   "display_name": "Python 3",
   "language": "python",
   "name": "python3"
  },
  "language_info": {
   "codemirror_mode": {
    "name": "ipython",
    "version": 3
   },
   "file_extension": ".py",
   "mimetype": "text/x-python",
   "name": "python",
   "nbconvert_exporter": "python",
   "pygments_lexer": "ipython3",
   "version": "3.9.5"
  }
 },
 "nbformat": 4,
 "nbformat_minor": 2
}
