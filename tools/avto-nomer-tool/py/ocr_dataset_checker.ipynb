{
 "cells": [
  {
   "cell_type": "code",
   "execution_count": 3,
   "metadata": {},
   "outputs": [],
   "source": [
    "import importlib\n",
    "import cv2\n",
    "import json\n",
    "import os\n",
    "import sys\n",
    "\n",
    "# change this property\n",
    "NOMEROFF_NET_DIR = os.path.abspath('../../../')\n",
    "sys.path.append(NOMEROFF_NET_DIR)\n",
    "\n",
    "def compare(model_path=\"../../../models/anpr_ocr_eu_2-gpu.h5\", \n",
    "           text_detector_name = \"eu\",\n",
    "           img_format = \"png\",\n",
    "           root_dir='/mnt/data/home/nn/datasets/autoriaNumberplateOcrEu-2019-02-19/train', # ../../../datasets/ocr/kz/kz2\n",
    "           predicted_part_size=1000,\n",
    "           replace_tamplate = {'moderation': {'isModerated': 1, 'moderatedBy': 'ApelSYN'}}):\n",
    "    text_detector_module = importlib.import_module(\"NomeroffNet.TextDetectors.\"+text_detector_name)\n",
    "    text_detector = getattr(text_detector_module, text_detector_name)()\n",
    "    text_detector.load(model_path)\n",
    "\n",
    "    ann_dir = os.path.join(root_dir, \"ann\")\n",
    "    jsons = []\n",
    "    jsons_paths = []\n",
    "    for dirName, subdirList, fileList in os.walk(ann_dir):\n",
    "        for fname in fileList:\n",
    "            fname = os.path.join(ann_dir, fname)\n",
    "            jsons_paths.append(fname)\n",
    "            with open(fname) as jsonF:\n",
    "                jsonData = json.load(jsonF)\n",
    "            jsons.append(jsonData)\n",
    "    print(\"LOADED {} ANNOTATIONS\".format(len(jsons)))\n",
    "\n",
    "    img_dir = os.path.join(root_dir, \"img\")\n",
    "    imgs = []                \n",
    "    for j in jsons:\n",
    "        img_path =os.path.join(img_dir, \"{}.{}\".format(j[\"name\"], img_format))\n",
    "        img = cv2.imread(img_path)\n",
    "        imgs.append(img)\n",
    "    print(\"LOADED {} IMAGES\".format(len(imgs)))\n",
    "\n",
    "    predicted = []\n",
    "    N = int(len(imgs) / predicted_part_size) + 1\n",
    "    for i in range(N):\n",
    "        part = i*predicted_part_size\n",
    "        part_imgs = imgs[part:part+predicted_part_size]\n",
    "        predicted_part = text_detector.predict(part_imgs)\n",
    "        predicted += predicted_part\n",
    "\n",
    "    print(\"PREDICTED {} IMAGES\".format(len(predicted)))\n",
    "\n",
    "    err_cnt = 0\n",
    "    for i in range(len(jsons_paths)):\n",
    "        json_path      = jsons_paths[i]\n",
    "        predicted_item = predicted[i]\n",
    "        jsonData       = jsons[i]\n",
    "        jsonData[\"moderation\"][\"predicted\"] = predicted_item\n",
    "        if jsonData[\"description\"] == jsonData[\"moderation\"][\"predicted\"]:\n",
    "            #jsonData.update(replace_tamplate)\n",
    "            jsonData[\"moderation\"][\"isModerated\"] = 1\n",
    "        else:\n",
    "            print(\"Predicted '{}', real: '{}' in file {}\".format(jsonData[\"moderation\"][\"predicted\"],jsonData[\"description\"], json_path))\n",
    "            err_cnt = err_cnt+1\n",
    "\n",
    "        with open(json_path, \"w\") as jsonWF:\n",
    "            json.dump(jsonData, jsonWF)\n",
    "\n",
    "    print(\"Error detection count: {}\".format(err_cnt))\n",
    "    print(\"Accuracy: {}\".format(1-err_cnt/len(predicted)))"
   ]
  },
  {
   "cell_type": "code",
   "execution_count": 4,
   "metadata": {},
   "outputs": [
    {
     "name": "stdout",
     "output_type": "stream",
     "text": [
      "LOADED 6255 ANNOTATIONS\n",
      "LOADED 6255 IMAGES\n",
      "PREDICTED 6255 IMAGES\n",
      "Predicted 'EZ7766', real: 'EZ677LX' in file /mnt/data/home/nn/datasets/autoriaNumberplateOcrEu-2019-02-19/train/ann/260250990.json\n",
      "Predicted '81129IB', real: '81929IB' in file /mnt/data/home/nn/datasets/autoriaNumberplateOcrEu-2019-02-19/train/ann/259310102orig.jpegzone1.json\n",
      "Predicted '32KKD34', real: '2KKD34' in file /mnt/data/home/nn/datasets/autoriaNumberplateOcrEu-2019-02-19/train/ann/260231086.json\n",
      "Predicted '7575OXM', real: '75750XM' in file /mnt/data/home/nn/datasets/autoriaNumberplateOcrEu-2019-02-19/train/ann/259980445.json\n",
      "Predicted '8B3782', real: 'RB3782' in file /mnt/data/home/nn/datasets/autoriaNumberplateOcrEu-2019-02-19/train/ann/260065301.json\n",
      "Predicted 'LCH51557', real: 'LCH52557' in file /mnt/data/home/nn/datasets/autoriaNumberplateOcrEu-2019-02-19/train/ann/259977823.json\n",
      "Predicted '75860O', real: '75860OA' in file /mnt/data/home/nn/datasets/autoriaNumberplateOcrEu-2019-02-19/train/ann/261392950.json\n",
      "Predicted '71462MO', real: '80462MO' in file /mnt/data/home/nn/datasets/autoriaNumberplateOcrEu-2019-02-19/train/ann/261355178.json\n",
      "Predicted 'SV22GVO', real: 'SVE22GV0' in file /mnt/data/home/nn/datasets/autoriaNumberplateOcrEu-2019-02-19/train/ann/260568896.json\n",
      "Predicted '7575OXM', real: '75750XM' in file /mnt/data/home/nn/datasets/autoriaNumberplateOcrEu-2019-02-19/train/ann/259980421.json\n",
      "Error detection count: 10\n",
      "Accuracy: 0.9984012789768185\n"
     ]
    }
   ],
   "source": [
    "compare()"
   ]
  },
  {
   "cell_type": "code",
   "execution_count": null,
   "metadata": {},
   "outputs": [],
   "source": []
  }
 ],
 "metadata": {
  "kernelspec": {
   "display_name": "Python 3",
   "language": "python",
   "name": "python3"
  },
  "language_info": {
   "codemirror_mode": {
    "name": "ipython",
    "version": 3
   },
   "file_extension": ".py",
   "mimetype": "text/x-python",
   "name": "python",
   "nbconvert_exporter": "python",
   "pygments_lexer": "ipython3",
   "version": "3.6.6"
  }
 },
 "nbformat": 4,
 "nbformat_minor": 2
}
