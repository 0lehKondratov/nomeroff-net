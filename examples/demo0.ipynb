{
 "cells": [
  {
   "cell_type": "markdown",
   "metadata": {},
   "source": [
    "<img width=\"400\" src=\"https://nomeroff.net.ua/images/logo/nomeroff_net.svg\" alt=\"Nomeroff Net. Automatic numberplate recognition system\" align=\"left\"/>"
   ]
  },
  {
   "cell_type": "markdown",
   "metadata": {},
   "source": [
    "## Quick recognition example."
   ]
  },
  {
   "cell_type": "markdown",
   "metadata": {},
   "source": [
    "Before runing this demo, please download models from [https://nomeroff.net.ua/models/](https://nomeroff.net.ua/models/) to **./models/** directory. "
   ]
  },
  {
   "cell_type": "code",
   "execution_count": 1,
   "metadata": {},
   "outputs": [],
   "source": [
    "# Import all necessary libraries.\n",
    "import os\n",
    "import sys\n",
    "import matplotlib.image as mpimg\n",
    "import warnings\n",
    "warnings.filterwarnings('ignore')\n",
    "\n",
    "# change this property\n",
    "NOMEROFF_NET_DIR = os.path.abspath('../')\n",
    "\n",
    "# specify the path to Mask_RCNN if you placed it outside Nomeroff-net project\n",
    "MASK_RCNN_DIR = os.path.join(NOMEROFF_NET_DIR, 'Mask_RCNN')\n",
    "\n",
    "MASK_RCNN_LOG_DIR = \"../logs/\"\n",
    "MASK_RCNN_MODEL_PATH = \"../models/mask_rcnn_numberplate_0700.h5\"\n",
    "OPTIONS_MODEL_PATH =  \"../models/numberplate_options_2019_2_15.h5\"\n",
    "\n",
    "# If you use gpu version tensorflow please change model to gpu version named like *-gpu.h5\n",
    "OCR_NP_UKR_TEXT =  \"../models/anpr_ocr_ua_1_2_11-cpu.h5\"\n",
    "OCR_NP_EU_TEXT =  \"../models/anpr_ocr_eu_2-cpu.h5\"\n",
    "\n",
    "sys.path.append(NOMEROFF_NET_DIR)"
   ]
  },
  {
   "cell_type": "code",
   "execution_count": 2,
   "metadata": {},
   "outputs": [
    {
     "name": "stderr",
     "output_type": "stream",
     "text": [
      "Using TensorFlow backend.\n"
     ]
    },
    {
     "name": "stdout",
     "output_type": "stream",
     "text": [
      "WARNING:tensorflow:From /usr/local/lib/python3.6/site-packages/tensorflow/python/ops/sparse_ops.py:1165: sparse_to_dense (from tensorflow.python.ops.sparse_ops) is deprecated and will be removed in a future version.\n",
      "Instructions for updating:\n",
      "Create a `tf.sparse.SparseTensor` and use `tf.sparse.to_dense` instead.\n"
     ]
    }
   ],
   "source": [
    "# Import license plate recognition tools.\n",
    "from NomeroffNet import  filters, RectDetector, TextDetector,  OptionsDetector, Detector, textPostprocessing\n",
    "\n",
    "# Initialize npdetector with default configuration file.\n",
    "nnet = Detector(MASK_RCNN_DIR, MASK_RCNN_LOG_DIR)\n",
    "\n",
    "# Load weights in keras format.\n",
    "nnet.loadModel(MASK_RCNN_MODEL_PATH)\n",
    "\n",
    "# Initialize rect detector with default configuration file.\n",
    "rectDetector = RectDetector()\n",
    "\n",
    "# Initialize text detector.\n",
    "# You may use gpu version modeks.\n",
    "textDetector = TextDetector({\n",
    "    \"eu_ua_2014_2015\": {\n",
    "        \"for_regions\": [\"eu_ua_2015\", \"eu_ua_2004\"],\n",
    "        \"model_path\": OCR_NP_UKR_TEXT\n",
    "    },\n",
    "    \"eu\": {\n",
    "        \"for_regions\": [\"eu\", \"eu_ua_1995\"],\n",
    "        \"model_path\": OCR_NP_EU_TEXT\n",
    "    }\n",
    "})\n",
    "\n",
    "# Initialize train detector.\n",
    "optionsDetector = OptionsDetector()\n",
    "optionsDetector.load(OPTIONS_MODEL_PATH)"
   ]
  },
  {
   "cell_type": "code",
   "execution_count": 3,
   "metadata": {},
   "outputs": [],
   "source": [
    "# Detect numberplate\n",
    "img_path = 'images/example2.jpg'\n",
    "img = mpimg.imread(img_path)\n",
    "NP = nnet.detect([img])"
   ]
  },
  {
   "cell_type": "code",
   "execution_count": 4,
   "metadata": {},
   "outputs": [
    {
     "name": "stdout",
     "output_type": "stream",
     "text": [
      "['RP70012', 'JJF509']\n"
     ]
    }
   ],
   "source": [
    "# Generate image mask.\n",
    "cv_img_masks = filters.cv_img_mask(NP)\n",
    "\n",
    "# Detect points.\n",
    "arrPoints = rectDetector.detect(cv_img_masks)\n",
    "zones = rectDetector.get_cv_zonesBGR(img, arrPoints)\n",
    "\n",
    "# find standart\n",
    "regionIds, stateIds = optionsDetector.predict(zones)\n",
    "regionNames = optionsDetector.getRegionLabels(regionIds)\n",
    " \n",
    "# find text with postprocessing by standart  \n",
    "textArr = textDetector.predict(zones, regionNames)\n",
    "textArr = textPostprocessing(textArr, regionNames)\n",
    "print(textArr)"
   ]
  },
  {
   "cell_type": "code",
   "execution_count": null,
   "metadata": {},
   "outputs": [],
   "source": []
  }
 ],
 "metadata": {
  "kernelspec": {
   "display_name": "Python 3",
   "language": "python",
   "name": "python3"
  },
  "language_info": {
   "codemirror_mode": {
    "name": "ipython",
    "version": 3
   },
   "file_extension": ".py",
   "mimetype": "text/x-python",
   "name": "python",
   "nbconvert_exporter": "python",
   "pygments_lexer": "ipython3",
   "version": "3.6.6"
  }
 },
 "nbformat": 4,
 "nbformat_minor": 2
}
