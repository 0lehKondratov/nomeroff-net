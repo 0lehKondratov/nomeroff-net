{
 "cells": [
  {
   "cell_type": "markdown",
   "metadata": {},
   "source": [
    "# Nomeroff Net. Quick recognition example.\n",
    "> **NOTE**: Before executing this example please clone **default.json.example** to **default.json** in ./config "
   ]
  },
  {
   "cell_type": "code",
   "execution_count": 7,
   "metadata": {},
   "outputs": [],
   "source": [
    "# Import all necessary libraries.\n",
    "import os\n",
    "import sys\n",
    "import json\n",
    "import matplotlib.image as mpimg\n",
    "# Load default configuration file.\n",
    "with open('../config/default.json') as data_file:\n",
    "    config = json.load(data_file)\n",
    "    \n",
    "sys.path.append(os.path.abspath(config[\"NOMEROFF_NET\"][\"ROOT\"]))\n",
    "\n",
    "\n",
    "# Import license plate recognition tools.\n",
    "from NomeroffNet import Detector"
   ]
  },
  {
   "cell_type": "code",
   "execution_count": 8,
   "metadata": {},
   "outputs": [],
   "source": [
    "# Initialize npdetector with default configuration file.\n",
    "nnet = Detector(config)\n",
    "\n",
    "# Load weights in keras format.\n",
    "nnet.loadModel()"
   ]
  },
  {
   "cell_type": "code",
   "execution_count": 9,
   "metadata": {},
   "outputs": [],
   "source": [
    "# Import license plate recognition tools.\n",
    "from NomeroffNet import  filters, RectDetector, TextDetector\n",
    "\n",
    "# Initialize rect detector with default configuration file.\n",
    "rectDetector = RectDetector(config[\"RECT_DETECTOR\"])\n",
    "\n",
    "# Initialize text detector.\n",
    "textDetector = TextDetector(config[\"TEXT_DETECTOR\"])"
   ]
  },
  {
   "cell_type": "code",
   "execution_count": 10,
   "metadata": {},
   "outputs": [],
   "source": [
    "# Detect numberplate\n",
    "img_path = '../examples/ok/example1.jpeg'\n",
    "img = mpimg.imread(img_path)\n",
    "NP = nnet.detect([img])"
   ]
  },
  {
   "cell_type": "code",
   "execution_count": 11,
   "metadata": {},
   "outputs": [
    {
     "name": "stdout",
     "output_type": "stream",
     "text": [
      "Detected numberplate: mAC4921CB\n"
     ]
    }
   ],
   "source": [
    "# Generate image mask.\n",
    "cv_img_masks = filters.cv_img_mask(NP)\n",
    "for img_mask in cv_img_masks:\n",
    "    # Detect points.\n",
    "    points = rectDetector.detect(img_mask, outboundOffset=3, fixRectangleAngle=3)\n",
    "    # Split on zones\n",
    "    zones = rectDetector.get_cv_zones(img, points)\n",
    "    for zone in zones:\n",
    "        text = textDetector.detect(zone)\n",
    "        print('Detected numberplate: %s'%text)    \n",
    "    "
   ]
  },
  {
   "cell_type": "code",
   "execution_count": null,
   "metadata": {},
   "outputs": [],
   "source": []
  }
 ],
 "metadata": {
  "kernelspec": {
   "display_name": "Python 3",
   "language": "python",
   "name": "python3"
  },
  "language_info": {
   "codemirror_mode": {
    "name": "ipython",
    "version": 3
   },
   "file_extension": ".py",
   "mimetype": "text/x-python",
   "name": "python",
   "nbconvert_exporter": "python",
   "pygments_lexer": "ipython3",
   "version": "3.6.6"
  }
 },
 "nbformat": 4,
 "nbformat_minor": 2
}
