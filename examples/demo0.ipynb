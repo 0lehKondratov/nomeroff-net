{
 "cells": [
  {
   "cell_type": "markdown",
   "metadata": {},
   "source": [
    "<img width=\"400\" src=\"https://nomeroff.net.ua/images/logo/nomeroff_net.svg\" alt=\"Nomeroff Net. Automatic numberplate recognition system\" align=\"left\"/>"
   ]
  },
  {
   "cell_type": "markdown",
   "metadata": {},
   "source": [
    "## Quick recognition example."
   ]
  },
  {
   "cell_type": "markdown",
   "metadata": {},
   "source": [
    "Before runing this demo, please download models from [https://nomeroff.net.ua/models/](https://nomeroff.net.ua/models/) to **./models/** directory. "
   ]
  },
  {
   "cell_type": "code",
   "execution_count": 1,
   "metadata": {},
   "outputs": [],
   "source": [
    "# Specify device\n",
    "import os\n",
    "os.environ[\"CUDA_VISIBLE_DEVICES\"] = \"0\" \n",
    "# os.environ[\"CUDA_VISIBLE_DEVICES\"] = \"\"  # For CPU inference"
   ]
  },
  {
   "cell_type": "code",
   "execution_count": 2,
   "metadata": {},
   "outputs": [],
   "source": [
    "# dynamically grow the memory used on the GPU\n",
    "from tensorflow.compat.v1.keras.backend import set_session\n",
    "import tensorflow as tf\n",
    "config = tf.compat.v1.ConfigProto()\n",
    "config.gpu_options.allow_growth = True \n",
    "sess = tf.compat.v1.Session(config=config)\n",
    "set_session(sess)"
   ]
  },
  {
   "cell_type": "code",
   "execution_count": 3,
   "metadata": {},
   "outputs": [],
   "source": [
    "# Import all necessary libraries.\n",
    "import os\n",
    "import numpy as np\n",
    "import sys\n",
    "import matplotlib.image as mpimg\n",
    "\n",
    "# NomeroffNet path\n",
    "NOMEROFF_NET_DIR = os.path.abspath('../')\n",
    "sys.path.append(NOMEROFF_NET_DIR)"
   ]
  },
  {
   "cell_type": "code",
   "execution_count": 4,
   "metadata": {},
   "outputs": [
    {
     "name": "stderr",
     "output_type": "stream",
     "text": [
      "Config '/var/www/nomeroff-net/./NomeroffNet/configs/centermask2/numberplates/centermask_numberplate_V_39_eSE_FPN_ms_3x.yaml' has no VERSION. Assuming it to be compatible with latest v2.\n",
      "centermask-numberplate_V_39_ms_3x_2020_06_05.pth: 421MB [03:11, 2.20MB/s]                              \n"
     ]
    },
    {
     "data": {
      "text/plain": [
       "<tensorflow.python.keras.engine.functional.Functional at 0x7f118f039358>"
      ]
     },
     "execution_count": 4,
     "metadata": {},
     "output_type": "execute_result"
    }
   ],
   "source": [
    "# Import license plate recognition tools.\n",
    "from NomeroffNet import  Detector\n",
    "from NomeroffNet import  filters\n",
    "from NomeroffNet import  RectDetector\n",
    "from NomeroffNet import  OptionsDetector\n",
    "from NomeroffNet import  TextDetector\n",
    "from NomeroffNet import  textPostprocessing\n",
    "\n",
    "# load models\n",
    "nnet = Detector()\n",
    "nnet.loadModel(NOMEROFF_NET_DIR)\n",
    "\n",
    "rectDetector = RectDetector()\n",
    "\n",
    "optionsDetector = OptionsDetector()\n",
    "optionsDetector.load(\"latest\")\n",
    "\n",
    "textDetector = TextDetector.get_static_module(\"eu\")()\n",
    "textDetector.load(\"latest\")"
   ]
  },
  {
   "cell_type": "code",
   "execution_count": 5,
   "metadata": {},
   "outputs": [
    {
     "name": "stderr",
     "output_type": "stream",
     "text": [
      "/var/www/nomeroff-net/centermask2/centermask/modeling/fcos/fcos_outputs.py:402: UserWarning: This overload of nonzero is deprecated:\n",
      "\tnonzero()\n",
      "Consider using one of the following signatures instead:\n",
      "\tnonzero(*, bool as_tuple) (Triggered internally at  /pytorch/torch/csrc/utils/python_arg_parser.cpp:766.)\n",
      "  per_candidate_nonzeros = per_candidate_inds.nonzero()\n"
     ]
    }
   ],
   "source": [
    "# Detect numberplate\n",
    "img_path = 'images/example2.jpeg'\n",
    "img = mpimg.imread(img_path)\n",
    "NP = nnet.detect_mask([img])"
   ]
  },
  {
   "cell_type": "code",
   "execution_count": 6,
   "metadata": {},
   "outputs": [
    {
     "name": "stderr",
     "output_type": "stream",
     "text": [
      "/usr/local/lib/python3.6/dist-packages/numpy/core/fromnumeric.py:3335: RuntimeWarning: Mean of empty slice.\n",
      "  out=out, **kwargs)\n",
      "/usr/local/lib/python3.6/dist-packages/numpy/core/_methods.py:161: RuntimeWarning: invalid value encountered in true_divide\n",
      "  ret = ret.dtype.type(ret / rcount)\n"
     ]
    },
    {
     "name": "stdout",
     "output_type": "stream",
     "text": [
      "['RP70012', 'JJF509']\n"
     ]
    }
   ],
   "source": [
    "# Generate image mask.\n",
    "cv_imgs_masks = nnet.detect_mask([img])\n",
    "    \n",
    "for cv_img_masks in cv_imgs_masks:\n",
    "    # Detect points.\n",
    "    arrPoints = rectDetector.detect(cv_img_masks)\n",
    "    \n",
    "    # cut zones\n",
    "    zones = rectDetector.get_cv_zonesBGR(img, arrPoints, 64, 295)\n",
    "\n",
    "    # find standart\n",
    "    regionIds, stateIds, countLines = optionsDetector.predict(zones)\n",
    "    regionNames = optionsDetector.getRegionLabels(regionIds)\n",
    "    \n",
    "    # find text with postprocessing by standart  \n",
    "    textArr = textDetector.predict(zones)\n",
    "    textArr = textPostprocessing(textArr, regionNames)\n",
    "    print(textArr)"
   ]
  },
  {
   "cell_type": "code",
   "execution_count": null,
   "metadata": {},
   "outputs": [],
   "source": []
  }
 ],
 "metadata": {
  "kernelspec": {
   "display_name": "Python 3",
   "language": "python",
   "name": "python3"
  },
  "language_info": {
   "codemirror_mode": {
    "name": "ipython",
    "version": 3
   },
   "file_extension": ".py",
   "mimetype": "text/x-python",
   "name": "python",
   "nbconvert_exporter": "python",
   "pygments_lexer": "ipython3",
   "version": "3.6.9"
  }
 },
 "nbformat": 4,
 "nbformat_minor": 2
}
