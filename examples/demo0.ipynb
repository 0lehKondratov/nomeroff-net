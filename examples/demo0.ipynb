{
 "cells": [
  {
   "cell_type": "markdown",
   "metadata": {},
   "source": [
    "<img width=\"400\" src=\"https://nomeroff.net.ua/images/logo/nomeroff_net.svg\" alt=\"Nomeroff Net. Automatic numberplate recognition system\" align=\"left\"/>"
   ]
  },
  {
   "cell_type": "markdown",
   "metadata": {},
   "source": [
    "## Quick recognition example.\n",
    "> **NOTE**: Before executing this example please clone **default.json.example** to **default.json** in ./config "
   ]
  },
  {
   "cell_type": "code",
   "execution_count": 1,
   "metadata": {},
   "outputs": [
    {
     "name": "stderr",
     "output_type": "stream",
     "text": [
      "Using TensorFlow backend.\n"
     ]
    }
   ],
   "source": [
    "# Import all necessary libraries.\n",
    "import os\n",
    "import sys\n",
    "import json\n",
    "import matplotlib.image as mpimg\n",
    "\n",
    "\n",
    "# change this property\n",
    "NOMEROFF_NET_DIR = \"/var/www/nomeroff-net/\"\n",
    "MASK_RCNN_DIR = \"/var/www/Mask_RCNN/\"\n",
    "\n",
    "MASK_RCNN_LOG_DIR = os.path.join(NOMEROFF_NET_DIR, \"logs/\")\n",
    "MASK_RCNN_MODEL_PATH = os.path.join(NOMEROFF_NET_DIR, \"models/mask_rcnn_numberplate_0700.h5\")\n",
    "\n",
    "sys.path.append(NOMEROFF_NET_DIR)\n",
    "\n",
    "# Import license plate recognition tools.\n",
    "from NomeroffNet import Detector"
   ]
  },
  {
   "cell_type": "code",
   "execution_count": 2,
   "metadata": {},
   "outputs": [],
   "source": [
    "# Initialize npdetector with default configuration file.\n",
    "nnet = Detector(MASK_RCNN_DIR, MASK_RCNN_LOG_DIR)\n",
    "\n",
    "# Load weights in keras format.\n",
    "nnet.loadModel(MASK_RCNN_MODEL_PATH)"
   ]
  },
  {
   "cell_type": "code",
   "execution_count": 3,
   "metadata": {},
   "outputs": [],
   "source": [
    "# Import license plate recognition tools.\n",
    "from NomeroffNet import  filters, RectDetector, TextDetector\n",
    "\n",
    "# Initialize rect detector with default configuration file.\n",
    "rectDetector = RectDetector()\n",
    "\n",
    "# Initialize text detector.\n",
    "textDetector = TextDetector()"
   ]
  },
  {
   "cell_type": "code",
   "execution_count": 4,
   "metadata": {},
   "outputs": [
    {
     "name": "stderr",
     "output_type": "stream",
     "text": [
      "/usr/local/lib64/python3.6/site-packages/skimage/transform/_warps.py:110: UserWarning: Anti-aliasing will be enabled by default in skimage 0.15 to avoid aliasing artifacts when down-sampling images.\n",
      "  warn(\"Anti-aliasing will be enabled by default in skimage 0.15 to \"\n"
     ]
    }
   ],
   "source": [
    "# Detect numberplate\n",
    "img_path = 'images/example1.jpeg'\n",
    "img = mpimg.imread(img_path)\n",
    "NP = nnet.detect([img])"
   ]
  },
  {
   "cell_type": "code",
   "execution_count": 5,
   "metadata": {},
   "outputs": [
    {
     "name": "stdout",
     "output_type": "stream",
     "text": [
      "Detected numberplate: WAC 4921CB\n"
     ]
    }
   ],
   "source": [
    "# Generate image mask.\n",
    "cv_img_masks = filters.cv_img_mask(NP)\n",
    "for img_mask in cv_img_masks:\n",
    "    # Detect points.\n",
    "    points = rectDetector.detect(img_mask)\n",
    "    # Split on zones\n",
    "    zone = rectDetector.get_cv_zones(img, points)\n",
    "    text = textDetector.detect(zone)\n",
    "    print('Detected numberplate: %s'%text)    \n",
    "    "
   ]
  },
  {
   "cell_type": "code",
   "execution_count": null,
   "metadata": {},
   "outputs": [],
   "source": []
  }
 ],
 "metadata": {
  "kernelspec": {
   "display_name": "Python 3",
   "language": "python",
   "name": "python3"
  },
  "language_info": {
   "codemirror_mode": {
    "name": "ipython",
    "version": 3
   },
   "file_extension": ".py",
   "mimetype": "text/x-python",
   "name": "python",
   "nbconvert_exporter": "python",
   "pygments_lexer": "ipython3",
   "version": "3.6.6"
  }
 },
 "nbformat": 4,
 "nbformat_minor": 2
}
