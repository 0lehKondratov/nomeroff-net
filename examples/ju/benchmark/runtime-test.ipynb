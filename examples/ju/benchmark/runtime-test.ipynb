{
 "cells": [
  {
   "cell_type": "markdown",
   "metadata": {},
   "source": [
    "# Runtime Test"
   ]
  },
  {
   "cell_type": "markdown",
   "metadata": {},
   "source": [
    "Before runing this test, please download models from [https://nomeroff.net.ua/models/](https://nomeroff.net.ua/models/) to **./models/** directory."
   ]
  },
  {
   "cell_type": "code",
   "execution_count": 1,
   "metadata": {},
   "outputs": [],
   "source": [
    "import warnings\n",
    "import os\n",
    "from glob import glob\n",
    "\n",
    "from _paths import nomeroff_net_dir\n",
    "from nomeroff_net import pipeline"
   ]
  },
  {
   "cell_type": "code",
   "execution_count": 2,
   "metadata": {},
   "outputs": [],
   "source": [
    "warnings.filterwarnings(\"ignore\")\n",
    "os.environ[\"CUDA_VISIBLE_DEVICES\"] = \"0\""
   ]
  },
  {
   "cell_type": "code",
   "execution_count": 3,
   "metadata": {},
   "outputs": [
    {
     "name": "stderr",
     "output_type": "stream",
     "text": [
      "YOLOv5 🚀 v6.0-154-gb8a4bab torch 1.9.0+cu102 CPU\n",
      "\n",
      "Fusing layers... \n",
      "Model Summary: 213 layers, 7012822 parameters, 0 gradients\n"
     ]
    },
    {
     "name": "stdout",
     "output_type": "stream",
     "text": [
      "Loading weights from checkpoint (/mnt/data/var/www/nomeroff-net/benchmark/../nomeroff_net/tools/../../data/./models/np_points_craft/craft_mlt/craft_mlt_25k_2020-02-16.pth)\n",
      "Loading weights of refiner from checkpoint (/mnt/data/var/www/nomeroff-net/benchmark/../nomeroff_net/tools/../../data/./models/np_points_craft/craft_refiner/craft_refiner_CTW1500_2020-02-16.pth)\n"
     ]
    }
   ],
   "source": [
    "number_plate_detection_and_reading = pipeline(\"number_plate_detection_and_reading_runtime\", \n",
    "                                              image_loader=\"opencv\", # Try 'turbo' for faster performance.\n",
    "                                              quality_profile=[1, 0, 0])"
   ]
  },
  {
   "cell_type": "code",
   "execution_count": 4,
   "metadata": {
    "scrolled": true
   },
   "outputs": [
    {
     "name": "stdout",
     "output_type": "stream",
     "text": [
      "pass 0\n",
      "pass 1\n",
      "pass 2\n",
      "pass 3\n",
      "pass 4\n",
      "pass 5\n",
      "pass 6\n",
      "pass 7\n",
      "pass 8\n",
      "pass 9\n"
     ]
    }
   ],
   "source": [
    "num_run = 1\n",
    "batch_size=1\n",
    "num_workers=1\n",
    "\n",
    "# change on ./data/examples/benchmark_oneline_np_images/*\n",
    "images = glob(os.path.join(nomeroff_net_dir, \"./data/examples/benchmark_oneline_np_images/1.jpeg\"))\n",
    "\n",
    "number_plate_detection_and_reading.clear_stat()\n",
    "\n",
    "for i in range(num_run):\n",
    "    print(f\"pass {i}\")\n",
    "    outputs = number_plate_detection_and_reading(images, \n",
    "                                                 batch_size=batch_size,\n",
    "                                                 num_workers=num_workers)"
   ]
  },
  {
   "cell_type": "code",
   "execution_count": 5,
   "metadata": {},
   "outputs": [],
   "source": [
    "timer_stat = number_plate_detection_and_reading.get_timer_stat(len(images)*num_run)"
   ]
  },
  {
   "cell_type": "code",
   "execution_count": 6,
   "metadata": {},
   "outputs": [
    {
     "data": {
      "text/plain": [
       "{'NumberPlateLocalization.call': 0.18235226249694825,\n",
       " 'NumberPlateKeyPointsDetection.call': 0.3217800159454346,\n",
       " 'NumberPlateClassification.call': 0.020738576889038084,\n",
       " 'NumberPlateTextReading.call': 0.017198630332946777,\n",
       " 'NumberPlateDetectionAndReadingRuntime.call': 0.6050878925323486}"
      ]
     },
     "execution_count": 6,
     "metadata": {},
     "output_type": "execute_result"
    }
   ],
   "source": [
    "timer_stat"
   ]
  },
  {
   "cell_type": "code",
   "execution_count": 7,
   "metadata": {},
   "outputs": [],
   "source": [
    "# old version\n",
    "\n",
    "# Processed 310 photos\n",
    "# Time 15.948540687561035\n",
    "# One photo process 0.05144690544374528 seconds\n",
    "\n",
    "# image_load_time_all 6.033987283706665; 0.01946447510873118 per one photo\n",
    "# detect_bbox_time_all 2.778740644454956; 0.008963679498241794 per one photo\n",
    "# craft_time_all 4.546112775802612; 0.01466487992194391 per one photo\n",
    "# perspective_align_time_all 0.9103446006774902; 0.00293659548605642 per one photo\n",
    "# classification_time_all 0.7576234340667725; 0.0024439465615057176 per one photo\n",
    "# ocr_time_all 0.908959150314331; 0.002932126291336552 per one photo"
   ]
  },
  {
   "cell_type": "markdown",
   "metadata": {},
   "source": [
    "### Intel(R) Core(TM) i9-9900K CPU @ 3.60GHz + NVIDIA RTX 3090"
   ]
  },
  {
   "cell_type": "code",
   "execution_count": 8,
   "metadata": {},
   "outputs": [
    {
     "name": "stdout",
     "output_type": "stream",
     "text": [
      "Processed 25 photos\n",
      "One photo process 0.6050878925323486 seconds\n",
      "\n",
      "detect_bbox_time_all 0.18235226249694825 per one photo\n",
      "craft_time_all 0.3217800159454346 per one photo\n",
      "classification_time_all 0.020738576889038084 per one photo\n",
      "ocr_time_all 0.017198630332946777 per one photo\n"
     ]
    }
   ],
   "source": [
    "print(f\"Processed {len(images)} photos\")\n",
    "print(f\"One photo process {timer_stat['NumberPlateDetectionAndReadingRuntime.call']} seconds\")\n",
    "print()\n",
    "print(f\"detect_bbox_time_all {timer_stat['NumberPlateLocalization.call']} per one photo\")\n",
    "print(f\"craft_time_all {timer_stat['NumberPlateKeyPointsDetection.call']} per one photo\")\n",
    "print(f\"classification_time_all {timer_stat['NumberPlateClassification.call']} per one photo\")\n",
    "print(f\"ocr_time_all {timer_stat['NumberPlateTextReading.call']} per one photo\")"
   ]
  },
  {
   "cell_type": "markdown",
   "metadata": {},
   "source": [
    "### Jetson Xavier"
   ]
  },
  {
   "cell_type": "code",
   "execution_count": null,
   "metadata": {},
   "outputs": [],
   "source": []
  }
 ],
 "metadata": {
  "kernelspec": {
   "display_name": "Python 3",
   "language": "python",
   "name": "python3"
  },
  "language_info": {
   "codemirror_mode": {
    "name": "ipython",
    "version": 3
   },
   "file_extension": ".py",
   "mimetype": "text/x-python",
   "name": "python",
   "nbconvert_exporter": "python",
   "pygments_lexer": "ipython3",
   "version": "3.8.7"
  }
 },
 "nbformat": 4,
 "nbformat_minor": 2
}