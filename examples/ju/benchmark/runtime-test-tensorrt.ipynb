{
 "cells": [
  {
   "cell_type": "markdown",
   "metadata": {},
   "source": [
    "# Runtime Test"
   ]
  },
  {
   "cell_type": "markdown",
   "metadata": {},
   "source": [
    "For conver yolov5 model to trt plan (**yolov5s-2021-07-28.engine**) and build **libmyplugins.so** for your system see instruction: https://github.com/wang-xinyu/tensorrtx/tree/master/yolov5#how-to-run-yolov5s-as-example\n",
    "\n",
    "Based on this instruction, we wrote a small shell script.\n",
    "\n",
    "```bash\n",
    "cd ../inference/convertors/yolo2tensorrt/bin/\n",
    "./yolov5_tensorrt.sh\n",
    "```\n",
    "Before runing this script, please download install additionaly **opencv-contrib** and **pycuda**\n",
    "\n",
    "   * Copy the resulting **libmyplugins.so** to the folder from which you will run this notebook\n",
    "   * Replace the data model **data/models/Detector/yolov5engine/yolov5s-2021-07-28.engine** with the one you just got from running the script\n",
    "\n",
    "Convert options and ocr\n",
    "* options (inference/convertors/options2tensorrt/convert_numberplate_options_to_onnx.py)\n",
    "* ocrs (inference/convertors/ocr2tensorrt/convert_ocr_to_onnx.py)"
   ]
  },
  {
   "cell_type": "code",
   "execution_count": 1,
   "metadata": {},
   "outputs": [],
   "source": [
    "import os\n",
    "import sys"
   ]
  },
  {
   "cell_type": "code",
   "execution_count": 2,
   "metadata": {},
   "outputs": [],
   "source": [
    "os.environ[\"CUDA_DEVICE_ORDER\"]=\"PCI_BUS_ID\"   # see issue #152\n",
    "os.environ[\"CUDA_VISIBLE_DEVICES\"]=\"3\"\n",
    "\n",
    "current_dir = os.getcwd()\n",
    "nomeroff_net_dir = os.path.join(current_dir, \"../../../\")\n",
    "sys.path.append(nomeroff_net_dir)"
   ]
  },
  {
   "cell_type": "code",
   "execution_count": 3,
   "metadata": {},
   "outputs": [],
   "source": [
    "import matplotlib.pyplot as plt\n",
    "from glob import glob\n",
    "import pycuda.autoinit\n",
    "\n",
    "from nomeroff_net.tools import unzip\n",
    "from nomeroff_net.pipelines.number_plate_detection_and_reading_trt_runtime import NumberPlateDetectionAndReadingTrtRuntime"
   ]
  },
  {
   "cell_type": "code",
   "execution_count": 5,
   "metadata": {
    "scrolled": false
   },
   "outputs": [
    {
     "name": "stdout",
     "output_type": "stream",
     "text": [
      "Loading weights from checkpoint (/var/www/nomeroff-net/examples/ju/benchmark/../../../nomeroff_net/tools/../../data/./models/np_points_craft/craft_mlt/craft_mlt_25k_2020-02-16.pth)\n",
      "Loading weights of refiner from checkpoint (/var/www/nomeroff-net/examples/ju/benchmark/../../../nomeroff_net/tools/../../data/./models/np_points_craft/craft_refiner/craft_refiner_CTW1500_2020-02-16.pth)\n"
     ]
    },
    {
     "name": "stderr",
     "output_type": "stream",
     "text": [
      "[TensorRT] WARNING: The logger passed into createInferRuntime differs from one already provided for an existing builder, runtime, or refitter. TensorRT maintains only a single logger pointer at any given time, so the existing value, which can be retrieved with getLogger(), will be used instead. In order to use a new logger, first destroy all existing builder, runner or refitter objects.\n",
      "\n",
      "[TensorRT] INFO: [MemUsageChange] Init CUDA: CPU +0, GPU +0, now: CPU 3549, GPU 5907 (MiB)\n",
      "[TensorRT] INFO: Loaded engine size: 24 MB\n",
      "[TensorRT] INFO: [MemUsageSnapshot] deserializeCudaEngine begin: CPU 3573 MiB, GPU 5907 MiB\n",
      "[TensorRT] INFO: [MemUsageChange] Init cuBLAS/cuBLASLt: CPU +0, GPU +8, now: CPU 3583, GPU 5931 (MiB)\n",
      "[TensorRT] INFO: [MemUsageChange] Init cuDNN: CPU +0, GPU +11, now: CPU 3583, GPU 5942 (MiB)\n",
      "[TensorRT] INFO: [MemUsageChange] Init cuBLAS/cuBLASLt: CPU +0, GPU +0, now: CPU 3583, GPU 5926 (MiB)\n",
      "[TensorRT] INFO: [MemUsageSnapshot] deserializeCudaEngine end: CPU 3583 MiB, GPU 5926 MiB\n",
      "[TensorRT] INFO: [MemUsageSnapshot] ExecutionContext creation begin: CPU 3559 MiB, GPU 5926 MiB\n",
      "[TensorRT] INFO: [MemUsageChange] Init cuBLAS/cuBLASLt: CPU +0, GPU +8, now: CPU 3559, GPU 5934 (MiB)\n",
      "[TensorRT] INFO: [MemUsageChange] Init cuDNN: CPU +0, GPU +8, now: CPU 3559, GPU 5942 (MiB)\n",
      "[TensorRT] INFO: [MemUsageSnapshot] ExecutionContext creation end: CPU 3559 MiB, GPU 5976 MiB\n",
      "[TensorRT] WARNING: The logger passed into createInferRuntime differs from one already provided for an existing builder, runtime, or refitter. TensorRT maintains only a single logger pointer at any given time, so the existing value, which can be retrieved with getLogger(), will be used instead. In order to use a new logger, first destroy all existing builder, runner or refitter objects.\n",
      "\n",
      "[TensorRT] INFO: [MemUsageChange] Init CUDA: CPU +0, GPU +0, now: CPU 3559, GPU 5982 (MiB)\n",
      "[TensorRT] INFO: Loaded engine size: 87 MB\n",
      "[TensorRT] INFO: [MemUsageSnapshot] deserializeCudaEngine begin: CPU 3647 MiB, GPU 5982 MiB\n",
      "[TensorRT] INFO: [MemUsageChange] Init cuBLAS/cuBLASLt: CPU +1, GPU +8, now: CPU 3648, GPU 6078 (MiB)\n",
      "[TensorRT] INFO: [MemUsageChange] Init cuDNN: CPU +0, GPU +12, now: CPU 3648, GPU 6090 (MiB)\n",
      "[TensorRT] INFO: [MemUsageChange] Init cuBLAS/cuBLASLt: CPU +0, GPU +0, now: CPU 3648, GPU 6072 (MiB)\n",
      "[TensorRT] INFO: [MemUsageSnapshot] deserializeCudaEngine end: CPU 3648 MiB, GPU 6072 MiB\n",
      "[TensorRT] WARNING: The logger passed into createInferRuntime differs from one already provided for an existing builder, runtime, or refitter. TensorRT maintains only a single logger pointer at any given time, so the existing value, which can be retrieved with getLogger(), will be used instead. In order to use a new logger, first destroy all existing builder, runner or refitter objects.\n",
      "\n",
      "[TensorRT] INFO: [MemUsageChange] Init CUDA: CPU +0, GPU +0, now: CPU 3560, GPU 6072 (MiB)\n",
      "[TensorRT] WARNING: The logger passed into createInferRuntime differs from one already provided for an existing builder, runtime, or refitter. TensorRT maintains only a single logger pointer at any given time, so the existing value, which can be retrieved with getLogger(), will be used instead. In order to use a new logger, first destroy all existing builder, runner or refitter objects.\n",
      "\n",
      "[TensorRT] INFO: [MemUsageChange] Init CUDA: CPU +0, GPU +0, now: CPU 3560, GPU 6072 (MiB)\n",
      "[TensorRT] INFO: Loaded engine size: 17 MB\n",
      "[TensorRT] INFO: [MemUsageSnapshot] deserializeCudaEngine begin: CPU 3577 MiB, GPU 6072 MiB\n",
      "[TensorRT] INFO: [MemUsageChange] Init cuBLAS/cuBLASLt: CPU +0, GPU +8, now: CPU 3578, GPU 6094 (MiB)\n",
      "[TensorRT] INFO: [MemUsageChange] Init cuDNN: CPU +0, GPU +10, now: CPU 3578, GPU 6104 (MiB)\n",
      "[TensorRT] INFO: [MemUsageChange] Init cuBLAS/cuBLASLt: CPU +0, GPU +0, now: CPU 3578, GPU 6086 (MiB)\n",
      "[TensorRT] INFO: [MemUsageSnapshot] deserializeCudaEngine end: CPU 3578 MiB, GPU 6086 MiB\n",
      "[TensorRT] INFO: [MemUsageSnapshot] ExecutionContext creation begin: CPU 3561 MiB, GPU 6086 MiB\n",
      "[TensorRT] INFO: [MemUsageChange] Init cuBLAS/cuBLASLt: CPU +0, GPU +8, now: CPU 3561, GPU 6094 (MiB)\n",
      "[TensorRT] INFO: [MemUsageChange] Init cuDNN: CPU +0, GPU +10, now: CPU 3561, GPU 6104 (MiB)\n",
      "[TensorRT] INFO: [MemUsageSnapshot] ExecutionContext creation end: CPU 3564 MiB, GPU 6112 MiB\n",
      "[TensorRT] WARNING: The logger passed into createInferRuntime differs from one already provided for an existing builder, runtime, or refitter. TensorRT maintains only a single logger pointer at any given time, so the existing value, which can be retrieved with getLogger(), will be used instead. In order to use a new logger, first destroy all existing builder, runner or refitter objects.\n",
      "\n",
      "[TensorRT] INFO: [MemUsageChange] Init CUDA: CPU +0, GPU +0, now: CPU 3564, GPU 6112 (MiB)\n",
      "[TensorRT] WARNING: The logger passed into createInferRuntime differs from one already provided for an existing builder, runtime, or refitter. TensorRT maintains only a single logger pointer at any given time, so the existing value, which can be retrieved with getLogger(), will be used instead. In order to use a new logger, first destroy all existing builder, runner or refitter objects.\n",
      "\n",
      "[TensorRT] INFO: [MemUsageChange] Init CUDA: CPU +0, GPU +0, now: CPU 3564, GPU 6112 (MiB)\n",
      "[TensorRT] INFO: Loaded engine size: 17 MB\n",
      "[TensorRT] INFO: [MemUsageSnapshot] deserializeCudaEngine begin: CPU 3581 MiB, GPU 6112 MiB\n",
      "[TensorRT] INFO: [MemUsageChange] Init cuBLAS/cuBLASLt: CPU +0, GPU +8, now: CPU 3582, GPU 6134 (MiB)\n",
      "[TensorRT] INFO: [MemUsageChange] Init cuDNN: CPU +1, GPU +10, now: CPU 3583, GPU 6144 (MiB)\n",
      "[TensorRT] INFO: [MemUsageChange] Init cuBLAS/cuBLASLt: CPU +0, GPU +0, now: CPU 3582, GPU 6128 (MiB)\n",
      "[TensorRT] INFO: [MemUsageSnapshot] deserializeCudaEngine end: CPU 3582 MiB, GPU 6128 MiB\n",
      "[TensorRT] INFO: [MemUsageSnapshot] ExecutionContext creation begin: CPU 3565 MiB, GPU 6128 MiB\n",
      "[TensorRT] INFO: [MemUsageChange] Init cuBLAS/cuBLASLt: CPU +0, GPU +8, now: CPU 3565, GPU 6136 (MiB)\n",
      "[TensorRT] INFO: [MemUsageChange] Init cuDNN: CPU +0, GPU +8, now: CPU 3565, GPU 6144 (MiB)\n",
      "[TensorRT] INFO: [MemUsageSnapshot] ExecutionContext creation end: CPU 3568 MiB, GPU 6148 MiB\n",
      "[TensorRT] WARNING: The logger passed into createInferRuntime differs from one already provided for an existing builder, runtime, or refitter. TensorRT maintains only a single logger pointer at any given time, so the existing value, which can be retrieved with getLogger(), will be used instead. In order to use a new logger, first destroy all existing builder, runner or refitter objects.\n",
      "\n",
      "[TensorRT] INFO: [MemUsageChange] Init CUDA: CPU +0, GPU +0, now: CPU 3568, GPU 6148 (MiB)\n",
      "[TensorRT] WARNING: The logger passed into createInferRuntime differs from one already provided for an existing builder, runtime, or refitter. TensorRT maintains only a single logger pointer at any given time, so the existing value, which can be retrieved with getLogger(), will be used instead. In order to use a new logger, first destroy all existing builder, runner or refitter objects.\n",
      "\n",
      "[TensorRT] INFO: [MemUsageChange] Init CUDA: CPU +0, GPU +0, now: CPU 3568, GPU 6148 (MiB)\n",
      "[TensorRT] INFO: Loaded engine size: 17 MB\n",
      "[TensorRT] INFO: [MemUsageSnapshot] deserializeCudaEngine begin: CPU 3586 MiB, GPU 6148 MiB\n",
      "[TensorRT] INFO: [MemUsageChange] Init cuBLAS/cuBLASLt: CPU +0, GPU +8, now: CPU 3587, GPU 6170 (MiB)\n",
      "[TensorRT] INFO: [MemUsageChange] Init cuDNN: CPU +0, GPU +10, now: CPU 3587, GPU 6180 (MiB)\n",
      "[TensorRT] INFO: [MemUsageChange] Init cuBLAS/cuBLASLt: CPU +0, GPU +0, now: CPU 3587, GPU 6164 (MiB)\n",
      "[TensorRT] INFO: [MemUsageSnapshot] deserializeCudaEngine end: CPU 3587 MiB, GPU 6164 MiB\n",
      "[TensorRT] INFO: [MemUsageSnapshot] ExecutionContext creation begin: CPU 3569 MiB, GPU 6164 MiB\n",
      "[TensorRT] INFO: [MemUsageChange] Init cuBLAS/cuBLASLt: CPU +0, GPU +8, now: CPU 3569, GPU 6172 (MiB)\n",
      "[TensorRT] INFO: [MemUsageChange] Init cuDNN: CPU +0, GPU +8, now: CPU 3569, GPU 6180 (MiB)\n",
      "[TensorRT] INFO: [MemUsageSnapshot] ExecutionContext creation end: CPU 3573 MiB, GPU 6184 MiB\n",
      "[TensorRT] WARNING: The logger passed into createInferRuntime differs from one already provided for an existing builder, runtime, or refitter. TensorRT maintains only a single logger pointer at any given time, so the existing value, which can be retrieved with getLogger(), will be used instead. In order to use a new logger, first destroy all existing builder, runner or refitter objects.\n",
      "\n",
      "[TensorRT] INFO: [MemUsageChange] Init CUDA: CPU +0, GPU +0, now: CPU 3573, GPU 6184 (MiB)\n",
      "[TensorRT] WARNING: The logger passed into createInferRuntime differs from one already provided for an existing builder, runtime, or refitter. TensorRT maintains only a single logger pointer at any given time, so the existing value, which can be retrieved with getLogger(), will be used instead. In order to use a new logger, first destroy all existing builder, runner or refitter objects.\n",
      "\n",
      "[TensorRT] INFO: [MemUsageChange] Init CUDA: CPU +0, GPU +0, now: CPU 3573, GPU 6184 (MiB)\n",
      "[TensorRT] INFO: Loaded engine size: 17 MB\n",
      "[TensorRT] INFO: [MemUsageSnapshot] deserializeCudaEngine begin: CPU 3590 MiB, GPU 6184 MiB\n",
      "[TensorRT] INFO: [MemUsageChange] Init cuBLAS/cuBLASLt: CPU +0, GPU +8, now: CPU 3591, GPU 6206 (MiB)\n",
      "[TensorRT] INFO: [MemUsageChange] Init cuDNN: CPU +0, GPU +10, now: CPU 3591, GPU 6216 (MiB)\n",
      "[TensorRT] INFO: [MemUsageChange] Init cuBLAS/cuBLASLt: CPU +0, GPU +0, now: CPU 3591, GPU 6200 (MiB)\n"
     ]
    },
    {
     "name": "stderr",
     "output_type": "stream",
     "text": [
      "[TensorRT] INFO: [MemUsageSnapshot] deserializeCudaEngine end: CPU 3591 MiB, GPU 6200 MiB\n",
      "[TensorRT] INFO: [MemUsageSnapshot] ExecutionContext creation begin: CPU 3574 MiB, GPU 6200 MiB\n",
      "[TensorRT] INFO: [MemUsageChange] Init cuBLAS/cuBLASLt: CPU +0, GPU +8, now: CPU 3574, GPU 6208 (MiB)\n",
      "[TensorRT] INFO: [MemUsageChange] Init cuDNN: CPU +0, GPU +8, now: CPU 3574, GPU 6216 (MiB)\n",
      "[TensorRT] INFO: [MemUsageSnapshot] ExecutionContext creation end: CPU 3577 MiB, GPU 6220 MiB\n",
      "[TensorRT] WARNING: The logger passed into createInferRuntime differs from one already provided for an existing builder, runtime, or refitter. TensorRT maintains only a single logger pointer at any given time, so the existing value, which can be retrieved with getLogger(), will be used instead. In order to use a new logger, first destroy all existing builder, runner or refitter objects.\n",
      "\n",
      "[TensorRT] INFO: [MemUsageChange] Init CUDA: CPU +0, GPU +0, now: CPU 3577, GPU 6220 (MiB)\n",
      "[TensorRT] WARNING: The logger passed into createInferRuntime differs from one already provided for an existing builder, runtime, or refitter. TensorRT maintains only a single logger pointer at any given time, so the existing value, which can be retrieved with getLogger(), will be used instead. In order to use a new logger, first destroy all existing builder, runner or refitter objects.\n",
      "\n",
      "[TensorRT] INFO: [MemUsageChange] Init CUDA: CPU +0, GPU +0, now: CPU 3577, GPU 6220 (MiB)\n",
      "[TensorRT] INFO: Loaded engine size: 17 MB\n",
      "[TensorRT] INFO: [MemUsageSnapshot] deserializeCudaEngine begin: CPU 3595 MiB, GPU 6220 MiB\n",
      "[TensorRT] INFO: [MemUsageChange] Init cuBLAS/cuBLASLt: CPU +0, GPU +8, now: CPU 3596, GPU 6242 (MiB)\n",
      "[TensorRT] INFO: [MemUsageChange] Init cuDNN: CPU +0, GPU +10, now: CPU 3596, GPU 6252 (MiB)\n",
      "[TensorRT] INFO: [MemUsageChange] Init cuBLAS/cuBLASLt: CPU +0, GPU +0, now: CPU 3596, GPU 6236 (MiB)\n",
      "[TensorRT] INFO: [MemUsageSnapshot] deserializeCudaEngine end: CPU 3596 MiB, GPU 6236 MiB\n",
      "[TensorRT] INFO: [MemUsageSnapshot] ExecutionContext creation begin: CPU 3578 MiB, GPU 6236 MiB\n",
      "[TensorRT] INFO: [MemUsageChange] Init cuBLAS/cuBLASLt: CPU +0, GPU +8, now: CPU 3578, GPU 6244 (MiB)\n",
      "[TensorRT] INFO: [MemUsageChange] Init cuDNN: CPU +0, GPU +8, now: CPU 3578, GPU 6252 (MiB)\n",
      "[TensorRT] INFO: [MemUsageSnapshot] ExecutionContext creation end: CPU 3582 MiB, GPU 6256 MiB\n",
      "[TensorRT] WARNING: The logger passed into createInferRuntime differs from one already provided for an existing builder, runtime, or refitter. TensorRT maintains only a single logger pointer at any given time, so the existing value, which can be retrieved with getLogger(), will be used instead. In order to use a new logger, first destroy all existing builder, runner or refitter objects.\n",
      "\n",
      "[TensorRT] INFO: [MemUsageChange] Init CUDA: CPU +0, GPU +0, now: CPU 3582, GPU 6256 (MiB)\n",
      "[TensorRT] WARNING: The logger passed into createInferRuntime differs from one already provided for an existing builder, runtime, or refitter. TensorRT maintains only a single logger pointer at any given time, so the existing value, which can be retrieved with getLogger(), will be used instead. In order to use a new logger, first destroy all existing builder, runner or refitter objects.\n",
      "\n",
      "[TensorRT] INFO: [MemUsageChange] Init CUDA: CPU +0, GPU +0, now: CPU 3582, GPU 6256 (MiB)\n",
      "[TensorRT] INFO: Loaded engine size: 17 MB\n",
      "[TensorRT] INFO: [MemUsageSnapshot] deserializeCudaEngine begin: CPU 3599 MiB, GPU 6256 MiB\n",
      "[TensorRT] INFO: [MemUsageChange] Init cuBLAS/cuBLASLt: CPU +0, GPU +8, now: CPU 3600, GPU 6278 (MiB)\n",
      "[TensorRT] INFO: [MemUsageChange] Init cuDNN: CPU +0, GPU +12, now: CPU 3600, GPU 6290 (MiB)\n",
      "[TensorRT] INFO: [MemUsageChange] Init cuBLAS/cuBLASLt: CPU +0, GPU +0, now: CPU 3600, GPU 6272 (MiB)\n",
      "[TensorRT] INFO: [MemUsageSnapshot] deserializeCudaEngine end: CPU 3600 MiB, GPU 6272 MiB\n",
      "[TensorRT] INFO: [MemUsageSnapshot] ExecutionContext creation begin: CPU 3582 MiB, GPU 6272 MiB\n",
      "[TensorRT] INFO: [MemUsageChange] Init cuBLAS/cuBLASLt: CPU +1, GPU +8, now: CPU 3583, GPU 6280 (MiB)\n",
      "[TensorRT] INFO: [MemUsageChange] Init cuDNN: CPU +0, GPU +10, now: CPU 3583, GPU 6290 (MiB)\n",
      "[TensorRT] INFO: [MemUsageSnapshot] ExecutionContext creation end: CPU 3586 MiB, GPU 6294 MiB\n",
      "[TensorRT] WARNING: The logger passed into createInferRuntime differs from one already provided for an existing builder, runtime, or refitter. TensorRT maintains only a single logger pointer at any given time, so the existing value, which can be retrieved with getLogger(), will be used instead. In order to use a new logger, first destroy all existing builder, runner or refitter objects.\n",
      "\n",
      "[TensorRT] INFO: [MemUsageChange] Init CUDA: CPU +0, GPU +0, now: CPU 3586, GPU 6294 (MiB)\n",
      "[TensorRT] WARNING: The logger passed into createInferRuntime differs from one already provided for an existing builder, runtime, or refitter. TensorRT maintains only a single logger pointer at any given time, so the existing value, which can be retrieved with getLogger(), will be used instead. In order to use a new logger, first destroy all existing builder, runner or refitter objects.\n",
      "\n",
      "[TensorRT] INFO: [MemUsageChange] Init CUDA: CPU +0, GPU +0, now: CPU 3586, GPU 6294 (MiB)\n",
      "[TensorRT] INFO: Loaded engine size: 17 MB\n",
      "[TensorRT] INFO: [MemUsageSnapshot] deserializeCudaEngine begin: CPU 3603 MiB, GPU 6294 MiB\n",
      "[TensorRT] INFO: [MemUsageChange] Init cuBLAS/cuBLASLt: CPU +0, GPU +8, now: CPU 3604, GPU 6316 (MiB)\n",
      "[TensorRT] INFO: [MemUsageChange] Init cuDNN: CPU +1, GPU +10, now: CPU 3605, GPU 6326 (MiB)\n",
      "[TensorRT] INFO: [MemUsageChange] Init cuBLAS/cuBLASLt: CPU +0, GPU +0, now: CPU 3604, GPU 6310 (MiB)\n",
      "[TensorRT] INFO: [MemUsageSnapshot] deserializeCudaEngine end: CPU 3604 MiB, GPU 6310 MiB\n",
      "[TensorRT] INFO: [MemUsageSnapshot] ExecutionContext creation begin: CPU 3587 MiB, GPU 6310 MiB\n",
      "[TensorRT] INFO: [MemUsageChange] Init cuBLAS/cuBLASLt: CPU +0, GPU +8, now: CPU 3587, GPU 6318 (MiB)\n",
      "[TensorRT] INFO: [MemUsageChange] Init cuDNN: CPU +0, GPU +8, now: CPU 3587, GPU 6326 (MiB)\n",
      "[TensorRT] INFO: [MemUsageSnapshot] ExecutionContext creation end: CPU 3590 MiB, GPU 6332 MiB\n"
     ]
    }
   ],
   "source": [
    "number_plate_detection_and_reading_trt_runtime = NumberPlateDetectionAndReadingTrtRuntime(\n",
    "    \"number_plate_detection_and_reading_runtime\", \n",
    "    image_loader=\"opencv\", # Try 'turbo' for faster performance.\n",
    "    \n",
    "    # numberplate detector trt paths\n",
    "    path_to_model=os.path.join(nomeroff_net_dir,\n",
    "                               \"./data/model_repository/yolov5s/1/model.engine\"),\n",
    "    plugin_lib=os.path.join(nomeroff_net_dir, \n",
    "                            \"./data/model_repository/yolov5s/1/libmyplugins.so\"),\n",
    "    \n",
    "    # numberplate classification trt paths\n",
    "    path_to_classification_model=os.path.join(nomeroff_net_dir,\n",
    "                                              \"./data/model_repository/numberplate_options/1/model.trt\"),\n",
    "    options = {\n",
    "        \"class_region\": [\n",
    "                \"military\",\n",
    "                \"eu_ua_2015\",\n",
    "                \"eu_ua_2004\",\n",
    "                \"eu_ua_1995\",\n",
    "                \"eu\",\n",
    "                \"xx_transit\",\n",
    "                \"ru\",\n",
    "                \"kz\",\n",
    "                \"eu-ua-fake-dpr\",\n",
    "                \"eu-ua-fake-lpr\",\n",
    "                \"ge\",\n",
    "                \"by\",\n",
    "                \"su\",\n",
    "                \"kg\",\n",
    "                \"am\"\n",
    "            ],\n",
    "            \"count_lines\": [\n",
    "                1,\n",
    "                2,\n",
    "                3\n",
    "            ],\n",
    "    },\n",
    "    \n",
    "    # numberplate text recognition trt paths\n",
    "    prisets={\n",
    "        \"eu_ua_2004_2015\": {\n",
    "            \"for_regions\": [\"eu_ua_2015\", \"eu_ua_2004\"],\n",
    "            \"model_path\": os.path.join(nomeroff_net_dir, \n",
    "                                       \"./data/model_repository/ocr-eu_ua_2004_2015/1/model.trt\")\n",
    "        },\n",
    "        \"eu_ua_1995\": {\n",
    "            \"for_regions\": [\"eu_ua_1995\"],\n",
    "            \"model_path\": os.path.join(nomeroff_net_dir,\n",
    "                                       \"./data/model_repository/ocr-eu_ua_1995/1/model.trt\")\n",
    "        },\n",
    "        \"eu\": {\n",
    "            \"for_regions\": [\"eu\"],\n",
    "            \"model_path\": os.path.join(nomeroff_net_dir,\n",
    "                                       \"./data/model_repository/ocr-eu/1/model.trt\")\n",
    "        },\n",
    "        \"ru\": {\n",
    "            \"for_regions\": [\"ru\", \"eu-ua-ordlo-lpr\", \"eu-ua-ordlo-dpr\"],\n",
    "            \"model_path\": os.path.join(nomeroff_net_dir,\n",
    "                                       \"./data/model_repository/ocr-ru/1/model.trt\")\n",
    "        },\n",
    "        \"kz\": {\n",
    "            \"for_regions\": [\"kz\"],\n",
    "            \"model_path\": os.path.join(nomeroff_net_dir,\n",
    "                                       \"./data/model_repository/ocr-kz/1/model.trt\")\n",
    "        },\n",
    "        \"ge\": {\n",
    "            \"for_regions\": [\"ge\"],\n",
    "            \"model_path\": os.path.join(nomeroff_net_dir,\n",
    "                                       \"./data/model_repository/ocr-ge/1/model.trt\")\n",
    "        },\n",
    "        \"su\": {\n",
    "            \"for_regions\": [\"su\"],\n",
    "            \"model_path\": os.path.join(nomeroff_net_dir,\n",
    "                                       \"./data/model_repository/ocr-su/1/model.trt\")\n",
    "        }\n",
    "    },\n",
    "    default_label = \"eu\",\n",
    ")"
   ]
  },
  {
   "cell_type": "code",
   "execution_count": 6,
   "metadata": {},
   "outputs": [
    {
     "name": "stdout",
     "output_type": "stream",
     "text": [
      "pass 0\n"
     ]
    },
    {
     "name": "stderr",
     "output_type": "stream",
     "text": [
      "[TensorRT] INFO: [MemUsageSnapshot] ExecutionContext creation begin: CPU 4738 MiB, GPU 6971 MiB\n",
      "[TensorRT] INFO: [MemUsageChange] Init cuBLAS/cuBLASLt: CPU +0, GPU +8, now: CPU 4738, GPU 6979 (MiB)\n",
      "[TensorRT] INFO: [MemUsageChange] Init cuDNN: CPU +0, GPU +8, now: CPU 4738, GPU 6987 (MiB)\n",
      "[TensorRT] INFO: [MemUsageSnapshot] ExecutionContext creation end: CPU 4738 MiB, GPU 6991 MiB\n",
      "[TensorRT] INFO: [MemUsageChange] Init cuBLAS/cuBLASLt: CPU +0, GPU +0, now: CPU 4738, GPU 6975 (MiB)\n"
     ]
    }
   ],
   "source": [
    "num_run = 1\n",
    "batch_size = 1\n",
    "num_workers = 1\n",
    "\n",
    "# change on ./data/examples/benchmark_oneline_np_images/*\n",
    "images = glob(os.path.join(nomeroff_net_dir, \"./data/examples/benchmark_oneline_np_images/1.jpeg\"))\n",
    "\n",
    "number_plate_detection_and_reading_trt_runtime.clear_stat()\n",
    "\n",
    "for i in range(num_run):\n",
    "    print(f\"pass {i}\")\n",
    "    outputs = number_plate_detection_and_reading_trt_runtime(\n",
    "        images, \n",
    "        batch_size=batch_size,\n",
    "        num_workers=num_workers)"
   ]
  },
  {
   "cell_type": "code",
   "execution_count": 7,
   "metadata": {},
   "outputs": [],
   "source": [
    "timer_stat = number_plate_detection_and_reading_trt_runtime.get_timer_stat(len(images)*num_run)"
   ]
  },
  {
   "cell_type": "markdown",
   "metadata": {},
   "source": [
    "### Jetson Xavier Tensorrt"
   ]
  },
  {
   "cell_type": "code",
   "execution_count": 10,
   "metadata": {},
   "outputs": [
    {
     "name": "stdout",
     "output_type": "stream",
     "text": [
      "Processed 1 photos\n",
      "One photo process 1.5155892372131348 seconds\n",
      "\n",
      "detect_bbox_time_all 0.023494243621826172 per one photo\n",
      "craft_time_all 1.4205985069274902 per one photo\n",
      "classification_time_all 0.006005048751831055 per one photo\n",
      "ocr_time_all 0.0020470619201660156 per one photo\n"
     ]
    }
   ],
   "source": [
    "print(f\"Processed {len(images)} photos\")\n",
    "print(f\"One photo process {timer_stat['NumberPlateDetectionAndReadingTrtRuntime.call']} seconds\")\n",
    "print()\n",
    "print(f\"detect_bbox_time_all {timer_stat['NumberPlateLocalizationTrt.call']} per one photo\")\n",
    "print(f\"craft_time_all {timer_stat['NumberPlateKeyPointsDetection.call']} per one photo\")\n",
    "print(f\"classification_time_all {timer_stat['NumberPlateClassificationTrt.call']} per one photo\")\n",
    "print(f\"ocr_time_all {timer_stat['NumberPlateTextReadingTrt.call']} per one photo\")"
   ]
  },
  {
   "cell_type": "markdown",
   "metadata": {},
   "source": [
    "### Intel(R) Core(TM) i9-9900K CPU @ 3.60GHz + RTX 3090 Tensorrt in Docker"
   ]
  },
  {
   "cell_type": "code",
   "execution_count": null,
   "metadata": {},
   "outputs": [],
   "source": []
  }
 ],
 "metadata": {
  "kernelspec": {
   "display_name": "Python 3 (ipykernel)",
   "language": "python",
   "name": "python3"
  },
  "language_info": {
   "codemirror_mode": {
    "name": "ipython",
    "version": 3
   },
   "file_extension": ".py",
   "mimetype": "text/x-python",
   "name": "python",
   "nbconvert_exporter": "python",
   "pygments_lexer": "ipython3",
   "version": "3.8.10"
  }
 },
 "nbformat": 4,
 "nbformat_minor": 2
}