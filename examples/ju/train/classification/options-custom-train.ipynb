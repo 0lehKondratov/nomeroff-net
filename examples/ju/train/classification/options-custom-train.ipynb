{
 "cells": [
  {
   "cell_type": "markdown",
   "metadata": {},
   "source": [
    "# This example demonstrate how to train region classification (standart image classification model)."
   ]
  },
  {
   "cell_type": "code",
   "execution_count": 1,
   "metadata": {},
   "outputs": [],
   "source": [
    "import os\n",
    "import sys\n",
    "import torch\n",
    "import warnings\n",
    "from datetime import datetime\n",
    "from matplotlib import pyplot as plt\n",
    "warnings.filterwarnings('ignore')\n",
    "\n",
    "# Nomeroff-Net path\n",
    "NOMEROFF_NET_DIR = os.path.abspath('../../../../')\n",
    "sys.path.append(NOMEROFF_NET_DIR)"
   ]
  },
  {
   "cell_type": "code",
   "execution_count": 2,
   "metadata": {},
   "outputs": [],
   "source": [
    "plt.rcParams[\"figure.figsize\"] = (10, 10)"
   ]
  },
  {
   "cell_type": "code",
   "execution_count": 3,
   "metadata": {},
   "outputs": [],
   "source": [
    "%matplotlib inline "
   ]
  },
  {
   "cell_type": "code",
   "execution_count": 4,
   "metadata": {},
   "outputs": [],
   "source": [
    "# # auto download latest dataset\n",
    "# from nomeroff_net.tools import modelhub\n",
    "# info = modelhub.download_dataset_for_model(\"numberplate_options\")\n",
    "# PATH_TO_DATASET = info[\"dataset_path\"]\n",
    "\n",
    "# local path dataset\n",
    "PATH_TO_DATASET = os.path.join(NOMEROFF_NET_DIR, \"./data/dataset/OptionsDetector/numberplate_options_example\")\n",
    "\n",
    "PATH_TO_REG_CUSTOM_DATASET = f'{PATH_TO_DATASET}_custom_reg'\n",
    "PATH_TO_LINE_CUSTOM_DATASET = f'{PATH_TO_DATASET}_custom_line'"
   ]
  },
  {
   "cell_type": "code",
   "execution_count": 5,
   "metadata": {},
   "outputs": [
    {
     "data": {
      "text/plain": [
       "'/mnt/data/var/www/nomeroff-net/./data/dataset/OptionsDetector/numberplate_options_example'"
      ]
     },
     "execution_count": 5,
     "metadata": {},
     "output_type": "execute_result"
    }
   ],
   "source": [
    "PATH_TO_DATASET"
   ]
  },
  {
   "cell_type": "code",
   "execution_count": 6,
   "metadata": {},
   "outputs": [
    {
     "data": {
      "text/plain": [
       "'/mnt/data/var/www/nomeroff-net/./data/dataset/OptionsDetector/numberplate_options_example_custom_reg'"
      ]
     },
     "execution_count": 6,
     "metadata": {},
     "output_type": "execute_result"
    }
   ],
   "source": [
    "PATH_TO_REG_CUSTOM_DATASET"
   ]
  },
  {
   "cell_type": "code",
   "execution_count": 7,
   "metadata": {},
   "outputs": [
    {
     "data": {
      "text/plain": [
       "'/mnt/data/var/www/nomeroff-net/./data/dataset/OptionsDetector/numberplate_options_example_custom_line'"
      ]
     },
     "execution_count": 7,
     "metadata": {},
     "output_type": "execute_result"
    }
   ],
   "source": [
    "PATH_TO_LINE_CUSTOM_DATASET"
   ]
  },
  {
   "cell_type": "code",
   "execution_count": 8,
   "metadata": {},
   "outputs": [],
   "source": [
    "DATASET_NAME = \"options\"\n",
    "VERSION = f\"{datetime.now().strftime('%Y_%m_%d')}_pytorch_lightning\"\n",
    "\n",
    "RESULT_PATH = os.path.join(NOMEROFF_NET_DIR, \"./data/models/\", 'numberplate_{}_{}.ckpt'.format(DATASET_NAME, VERSION))"
   ]
  },
  {
   "cell_type": "code",
   "execution_count": 9,
   "metadata": {},
   "outputs": [],
   "source": [
    "from nomeroff_net.tools import custom_options\n",
    "from nomeroff_net import OptionsDetector\n",
    "\n",
    "class_region_custom = [\n",
    "    \"eu-ua-2015\",\n",
    "    \"eu-ua-2004\",\n",
    "    \"eu-ua-1995\",\n",
    "    \"eu\",\n",
    "    \"xx-transit\",\n",
    "    \"eu-ua-ordlo-dpr\",\n",
    "    \"eu-ua-ordlo-lpr\",\n",
    "    \"ge\",\n",
    "    \"su\"\n",
    "]\n",
    "\n",
    "class_count_lines_custom = [\"1\", \"2\", \"3\"]\n",
    "\n",
    "state_ids_only_labels = [\"not filled\"]\n",
    "\n",
    "customOptionsMakerReg = custom_options.CustomOptionsMaker(\n",
    "    PATH_TO_DATASET,\n",
    "    PATH_TO_REG_CUSTOM_DATASET, \n",
    "    OptionsDetector.get_class_region_all(),\n",
    "    class_region_custom,\n",
    "    OptionsDetector.get_class_count_lines_all(),\n",
    "    class_count_lines_custom,\n",
    "    OptionsDetector.get_class_state_all(),\n",
    "    state_ids_only_labels,\n",
    "    items_per_class = 2\n",
    ")\n",
    "\n",
    "customOptionsMakerCountLine = custom_options.CustomOptionsMaker(\n",
    "    PATH_TO_DATASET,\n",
    "    PATH_TO_LINE_CUSTOM_DATASET, \n",
    "    OptionsDetector.get_class_region_all(),\n",
    "    class_region_custom,\n",
    "    OptionsDetector.get_class_count_lines_all(),\n",
    "    class_count_lines_custom,\n",
    "    OptionsDetector.get_class_state_all(),\n",
    "    state_ids_only_labels,\n",
    "    items_per_class = 2\n",
    ")"
   ]
  },
  {
   "cell_type": "code",
   "execution_count": 10,
   "metadata": {},
   "outputs": [
    {
     "name": "stdout",
     "output_type": "stream",
     "text": [
      "Creating path \"/mnt/data/var/www/nomeroff-net/./data/dataset/OptionsDetector/numberplate_options_example_custom_line\" for custom options\n",
      "dir: /mnt/data/var/www/nomeroff-net/./data/dataset/OptionsDetector/numberplate_options_example option_dir: train custom_options_sub_dirs[0]: ann\n",
      "/mnt/data/var/www/nomeroff-net/./data/dataset/OptionsDetector/numberplate_options_example/train/ann/eu-ua-2015-2.json\n",
      "/mnt/data/var/www/nomeroff-net/./data/dataset/OptionsDetector/numberplate_options_example/train/ann/eu-ua-ordlo-lpr.json\n",
      "/mnt/data/var/www/nomeroff-net/./data/dataset/OptionsDetector/numberplate_options_example/train/ann/kg.json\n",
      "/mnt/data/var/www/nomeroff-net/./data/dataset/OptionsDetector/numberplate_options_example/train/ann/am.json\n",
      "/mnt/data/var/www/nomeroff-net/./data/dataset/OptionsDetector/numberplate_options_example/train/ann/eu-ua-1995.json\n",
      "/mnt/data/var/www/nomeroff-net/./data/dataset/OptionsDetector/numberplate_options_example/train/ann/eu.json\n",
      "/mnt/data/var/www/nomeroff-net/./data/dataset/OptionsDetector/numberplate_options_example/train/ann/military-ru.json\n",
      "/mnt/data/var/www/nomeroff-net/./data/dataset/OptionsDetector/numberplate_options_example/train/ann/eu-ua-2015-3.json\n",
      "/mnt/data/var/www/nomeroff-net/./data/dataset/OptionsDetector/numberplate_options_example/train/ann/eu-ua-2004.json\n",
      "/mnt/data/var/www/nomeroff-net/./data/dataset/OptionsDetector/numberplate_options_example/train/ann/ge.json\n",
      "/mnt/data/var/www/nomeroff-net/./data/dataset/OptionsDetector/numberplate_options_example/train/ann/xx-unknown.json\n",
      "/mnt/data/var/www/nomeroff-net/./data/dataset/OptionsDetector/numberplate_options_example/train/ann/by.json\n",
      "/mnt/data/var/www/nomeroff-net/./data/dataset/OptionsDetector/numberplate_options_example/train/ann/eu-ua-ordlo-dpr.json\n",
      "/mnt/data/var/www/nomeroff-net/./data/dataset/OptionsDetector/numberplate_options_example/train/ann/su.json\n",
      "/mnt/data/var/www/nomeroff-net/./data/dataset/OptionsDetector/numberplate_options_example/train/ann/eu-ua-2015.json\n",
      "/mnt/data/var/www/nomeroff-net/./data/dataset/OptionsDetector/numberplate_options_example/train/ann/ru.json\n",
      "/mnt/data/var/www/nomeroff-net/./data/dataset/OptionsDetector/numberplate_options_example/train/ann/kz.json\n",
      "/mnt/data/var/www/nomeroff-net/./data/dataset/OptionsDetector/numberplate_options_example/train/ann/xx-transit.json\n",
      "/mnt/data/var/www/nomeroff-net/./data/dataset/OptionsDetector/numberplate_options_example/train/ann/military-ua.json\n",
      "Labels stat for /mnt/data/var/www/nomeroff-net/./data/dataset/OptionsDetector/numberplate_options_example/train/ann\n",
      "[((2, 1), 1), ((1, 9), 1), ((1, 13), 1), ((1, 14), 1), ((1, 3), 1), ((1, 4), 1), ((1, 16), 1), ((3, 1), 1), ((1, 2), 1), ((1, 10), 1), ((0, 0), 1), ((1, 11), 1), ((1, 8), 1), ((1, 12), 1), ((1, 1), 1), ((1, 6), 1), ((1, 7), 1), ((1, 5), 1), ((1, 15), 1)]\n",
      "In train prepared 11 records\n",
      "In train filtered by state_id 1 records\n",
      "dir: /mnt/data/var/www/nomeroff-net/./data/dataset/OptionsDetector/numberplate_options_example option_dir: val custom_options_sub_dirs[0]: ann\n",
      "/mnt/data/var/www/nomeroff-net/./data/dataset/OptionsDetector/numberplate_options_example/val/ann/eu-ua-2015-2.json\n",
      "/mnt/data/var/www/nomeroff-net/./data/dataset/OptionsDetector/numberplate_options_example/val/ann/eu-ua-ordlo-lpr.json\n",
      "/mnt/data/var/www/nomeroff-net/./data/dataset/OptionsDetector/numberplate_options_example/val/ann/kg.json\n",
      "/mnt/data/var/www/nomeroff-net/./data/dataset/OptionsDetector/numberplate_options_example/val/ann/am.json\n",
      "/mnt/data/var/www/nomeroff-net/./data/dataset/OptionsDetector/numberplate_options_example/val/ann/eu-ua-1995.json\n",
      "/mnt/data/var/www/nomeroff-net/./data/dataset/OptionsDetector/numberplate_options_example/val/ann/eu.json\n",
      "/mnt/data/var/www/nomeroff-net/./data/dataset/OptionsDetector/numberplate_options_example/val/ann/military-ru.json\n",
      "/mnt/data/var/www/nomeroff-net/./data/dataset/OptionsDetector/numberplate_options_example/val/ann/eu-ua-2015-3.json\n",
      "/mnt/data/var/www/nomeroff-net/./data/dataset/OptionsDetector/numberplate_options_example/val/ann/eu-ua-2004.json\n",
      "/mnt/data/var/www/nomeroff-net/./data/dataset/OptionsDetector/numberplate_options_example/val/ann/ge.json\n",
      "/mnt/data/var/www/nomeroff-net/./data/dataset/OptionsDetector/numberplate_options_example/val/ann/xx-unknown.json\n",
      "/mnt/data/var/www/nomeroff-net/./data/dataset/OptionsDetector/numberplate_options_example/val/ann/by.json\n",
      "/mnt/data/var/www/nomeroff-net/./data/dataset/OptionsDetector/numberplate_options_example/val/ann/eu-ua-ordlo-dpr.json\n",
      "/mnt/data/var/www/nomeroff-net/./data/dataset/OptionsDetector/numberplate_options_example/val/ann/su.json\n",
      "/mnt/data/var/www/nomeroff-net/./data/dataset/OptionsDetector/numberplate_options_example/val/ann/eu-ua-2015.json\n",
      "/mnt/data/var/www/nomeroff-net/./data/dataset/OptionsDetector/numberplate_options_example/val/ann/ru.json\n",
      "/mnt/data/var/www/nomeroff-net/./data/dataset/OptionsDetector/numberplate_options_example/val/ann/kz.json\n",
      "/mnt/data/var/www/nomeroff-net/./data/dataset/OptionsDetector/numberplate_options_example/val/ann/xx-transit.json\n",
      "/mnt/data/var/www/nomeroff-net/./data/dataset/OptionsDetector/numberplate_options_example/val/ann/military-ua.json\n",
      "Labels stat for /mnt/data/var/www/nomeroff-net/./data/dataset/OptionsDetector/numberplate_options_example/val/ann\n",
      "[((2, 1), 1), ((1, 9), 1), ((1, 13), 1), ((1, 14), 1), ((1, 3), 1), ((1, 4), 1), ((1, 16), 1), ((3, 1), 1), ((1, 2), 1), ((1, 10), 1), ((0, 0), 1), ((1, 11), 1), ((1, 8), 1), ((1, 12), 1), ((1, 1), 1), ((1, 6), 1), ((1, 7), 1), ((1, 5), 1), ((1, 15), 1)]\n",
      "In val prepared 11 records\n",
      "In val filtered by state_id 1 records\n",
      "dir: /mnt/data/var/www/nomeroff-net/./data/dataset/OptionsDetector/numberplate_options_example option_dir: test custom_options_sub_dirs[0]: ann\n",
      "/mnt/data/var/www/nomeroff-net/./data/dataset/OptionsDetector/numberplate_options_example/test/ann/eu-ua-2015-2.json\n",
      "/mnt/data/var/www/nomeroff-net/./data/dataset/OptionsDetector/numberplate_options_example/test/ann/eu-ua-ordlo-lpr.json\n",
      "/mnt/data/var/www/nomeroff-net/./data/dataset/OptionsDetector/numberplate_options_example/test/ann/kg.json\n",
      "/mnt/data/var/www/nomeroff-net/./data/dataset/OptionsDetector/numberplate_options_example/test/ann/am.json\n",
      "/mnt/data/var/www/nomeroff-net/./data/dataset/OptionsDetector/numberplate_options_example/test/ann/eu-ua-1995.json\n",
      "/mnt/data/var/www/nomeroff-net/./data/dataset/OptionsDetector/numberplate_options_example/test/ann/eu.json\n",
      "/mnt/data/var/www/nomeroff-net/./data/dataset/OptionsDetector/numberplate_options_example/test/ann/military-ru.json\n",
      "/mnt/data/var/www/nomeroff-net/./data/dataset/OptionsDetector/numberplate_options_example/test/ann/eu-ua-2015-3.json\n",
      "/mnt/data/var/www/nomeroff-net/./data/dataset/OptionsDetector/numberplate_options_example/test/ann/eu-ua-2004.json\n",
      "/mnt/data/var/www/nomeroff-net/./data/dataset/OptionsDetector/numberplate_options_example/test/ann/ge.json\n",
      "/mnt/data/var/www/nomeroff-net/./data/dataset/OptionsDetector/numberplate_options_example/test/ann/xx-unknown.json\n",
      "/mnt/data/var/www/nomeroff-net/./data/dataset/OptionsDetector/numberplate_options_example/test/ann/by.json\n",
      "/mnt/data/var/www/nomeroff-net/./data/dataset/OptionsDetector/numberplate_options_example/test/ann/eu-ua-ordlo-dpr.json\n",
      "/mnt/data/var/www/nomeroff-net/./data/dataset/OptionsDetector/numberplate_options_example/test/ann/su.json\n",
      "/mnt/data/var/www/nomeroff-net/./data/dataset/OptionsDetector/numberplate_options_example/test/ann/eu-ua-2015.json\n",
      "/mnt/data/var/www/nomeroff-net/./data/dataset/OptionsDetector/numberplate_options_example/test/ann/ru.json\n",
      "/mnt/data/var/www/nomeroff-net/./data/dataset/OptionsDetector/numberplate_options_example/test/ann/kz.json\n",
      "/mnt/data/var/www/nomeroff-net/./data/dataset/OptionsDetector/numberplate_options_example/test/ann/xx-transit.json\n",
      "/mnt/data/var/www/nomeroff-net/./data/dataset/OptionsDetector/numberplate_options_example/test/ann/military-ua.json\n",
      "Labels stat for /mnt/data/var/www/nomeroff-net/./data/dataset/OptionsDetector/numberplate_options_example/test/ann\n",
      "[((2, 1), 1), ((1, 9), 1), ((1, 13), 1), ((1, 14), 1), ((1, 3), 1), ((1, 4), 1), ((1, 16), 1), ((3, 1), 1), ((1, 2), 1), ((1, 10), 1), ((0, 0), 1), ((1, 11), 1), ((1, 8), 1), ((1, 12), 1), ((1, 1), 1), ((1, 6), 1), ((1, 7), 1), ((1, 5), 1), ((1, 15), 1)]\n",
      "In test prepared 11 records\n",
      "In test filtered by state_id 1 records\n"
     ]
    }
   ],
   "source": [
    "customOptionsMakerCountLine.make()"
   ]
  },
  {
   "cell_type": "code",
   "execution_count": 11,
   "metadata": {},
   "outputs": [
    {
     "name": "stdout",
     "output_type": "stream",
     "text": [
      "Creating path \"/mnt/data/var/www/nomeroff-net/./data/dataset/OptionsDetector/numberplate_options_example_custom_reg\" for custom options\n",
      "dir: /mnt/data/var/www/nomeroff-net/./data/dataset/OptionsDetector/numberplate_options_example option_dir: train custom_options_sub_dirs[0]: ann\n",
      "/mnt/data/var/www/nomeroff-net/./data/dataset/OptionsDetector/numberplate_options_example/train/ann/eu-ua-2015-2.json\n",
      "/mnt/data/var/www/nomeroff-net/./data/dataset/OptionsDetector/numberplate_options_example/train/ann/eu-ua-ordlo-lpr.json\n",
      "/mnt/data/var/www/nomeroff-net/./data/dataset/OptionsDetector/numberplate_options_example/train/ann/kg.json\n",
      "/mnt/data/var/www/nomeroff-net/./data/dataset/OptionsDetector/numberplate_options_example/train/ann/am.json\n",
      "/mnt/data/var/www/nomeroff-net/./data/dataset/OptionsDetector/numberplate_options_example/train/ann/eu-ua-1995.json\n",
      "/mnt/data/var/www/nomeroff-net/./data/dataset/OptionsDetector/numberplate_options_example/train/ann/eu.json\n",
      "/mnt/data/var/www/nomeroff-net/./data/dataset/OptionsDetector/numberplate_options_example/train/ann/military-ru.json\n",
      "/mnt/data/var/www/nomeroff-net/./data/dataset/OptionsDetector/numberplate_options_example/train/ann/eu-ua-2015-3.json\n",
      "/mnt/data/var/www/nomeroff-net/./data/dataset/OptionsDetector/numberplate_options_example/train/ann/eu-ua-2004.json\n",
      "/mnt/data/var/www/nomeroff-net/./data/dataset/OptionsDetector/numberplate_options_example/train/ann/ge.json\n",
      "/mnt/data/var/www/nomeroff-net/./data/dataset/OptionsDetector/numberplate_options_example/train/ann/xx-unknown.json\n",
      "/mnt/data/var/www/nomeroff-net/./data/dataset/OptionsDetector/numberplate_options_example/train/ann/by.json\n",
      "/mnt/data/var/www/nomeroff-net/./data/dataset/OptionsDetector/numberplate_options_example/train/ann/eu-ua-ordlo-dpr.json\n",
      "/mnt/data/var/www/nomeroff-net/./data/dataset/OptionsDetector/numberplate_options_example/train/ann/su.json\n",
      "/mnt/data/var/www/nomeroff-net/./data/dataset/OptionsDetector/numberplate_options_example/train/ann/eu-ua-2015.json\n",
      "/mnt/data/var/www/nomeroff-net/./data/dataset/OptionsDetector/numberplate_options_example/train/ann/ru.json\n",
      "/mnt/data/var/www/nomeroff-net/./data/dataset/OptionsDetector/numberplate_options_example/train/ann/kz.json\n",
      "/mnt/data/var/www/nomeroff-net/./data/dataset/OptionsDetector/numberplate_options_example/train/ann/xx-transit.json\n",
      "/mnt/data/var/www/nomeroff-net/./data/dataset/OptionsDetector/numberplate_options_example/train/ann/military-ua.json\n",
      "Labels stat for /mnt/data/var/www/nomeroff-net/./data/dataset/OptionsDetector/numberplate_options_example/train/ann\n",
      "[((2, 1), 1), ((1, 9), 1), ((1, 13), 1), ((1, 14), 1), ((1, 3), 1), ((1, 4), 1), ((1, 16), 1), ((3, 1), 1), ((1, 2), 1), ((1, 10), 1), ((0, 0), 1), ((1, 11), 1), ((1, 8), 1), ((1, 12), 1), ((1, 1), 1), ((1, 6), 1), ((1, 7), 1), ((1, 5), 1), ((1, 15), 1)]\n",
      "In train prepared 11 records\n",
      "In train filtered by state_id 1 records\n",
      "dir: /mnt/data/var/www/nomeroff-net/./data/dataset/OptionsDetector/numberplate_options_example option_dir: val custom_options_sub_dirs[0]: ann\n",
      "/mnt/data/var/www/nomeroff-net/./data/dataset/OptionsDetector/numberplate_options_example/val/ann/eu-ua-2015-2.json\n",
      "/mnt/data/var/www/nomeroff-net/./data/dataset/OptionsDetector/numberplate_options_example/val/ann/eu-ua-ordlo-lpr.json\n",
      "/mnt/data/var/www/nomeroff-net/./data/dataset/OptionsDetector/numberplate_options_example/val/ann/kg.json\n",
      "/mnt/data/var/www/nomeroff-net/./data/dataset/OptionsDetector/numberplate_options_example/val/ann/am.json\n",
      "/mnt/data/var/www/nomeroff-net/./data/dataset/OptionsDetector/numberplate_options_example/val/ann/eu-ua-1995.json\n",
      "/mnt/data/var/www/nomeroff-net/./data/dataset/OptionsDetector/numberplate_options_example/val/ann/eu.json\n",
      "/mnt/data/var/www/nomeroff-net/./data/dataset/OptionsDetector/numberplate_options_example/val/ann/military-ru.json\n",
      "/mnt/data/var/www/nomeroff-net/./data/dataset/OptionsDetector/numberplate_options_example/val/ann/eu-ua-2015-3.json\n",
      "/mnt/data/var/www/nomeroff-net/./data/dataset/OptionsDetector/numberplate_options_example/val/ann/eu-ua-2004.json\n",
      "/mnt/data/var/www/nomeroff-net/./data/dataset/OptionsDetector/numberplate_options_example/val/ann/ge.json\n",
      "/mnt/data/var/www/nomeroff-net/./data/dataset/OptionsDetector/numberplate_options_example/val/ann/xx-unknown.json\n",
      "/mnt/data/var/www/nomeroff-net/./data/dataset/OptionsDetector/numberplate_options_example/val/ann/by.json\n",
      "/mnt/data/var/www/nomeroff-net/./data/dataset/OptionsDetector/numberplate_options_example/val/ann/eu-ua-ordlo-dpr.json\n",
      "/mnt/data/var/www/nomeroff-net/./data/dataset/OptionsDetector/numberplate_options_example/val/ann/su.json\n",
      "/mnt/data/var/www/nomeroff-net/./data/dataset/OptionsDetector/numberplate_options_example/val/ann/eu-ua-2015.json\n",
      "/mnt/data/var/www/nomeroff-net/./data/dataset/OptionsDetector/numberplate_options_example/val/ann/ru.json\n",
      "/mnt/data/var/www/nomeroff-net/./data/dataset/OptionsDetector/numberplate_options_example/val/ann/kz.json\n",
      "/mnt/data/var/www/nomeroff-net/./data/dataset/OptionsDetector/numberplate_options_example/val/ann/xx-transit.json\n",
      "/mnt/data/var/www/nomeroff-net/./data/dataset/OptionsDetector/numberplate_options_example/val/ann/military-ua.json\n",
      "Labels stat for /mnt/data/var/www/nomeroff-net/./data/dataset/OptionsDetector/numberplate_options_example/val/ann\n",
      "[((2, 1), 1), ((1, 9), 1), ((1, 13), 1), ((1, 14), 1), ((1, 3), 1), ((1, 4), 1), ((1, 16), 1), ((3, 1), 1), ((1, 2), 1), ((1, 10), 1), ((0, 0), 1), ((1, 11), 1), ((1, 8), 1), ((1, 12), 1), ((1, 1), 1), ((1, 6), 1), ((1, 7), 1), ((1, 5), 1), ((1, 15), 1)]\n",
      "In val prepared 11 records\n",
      "In val filtered by state_id 1 records\n",
      "dir: /mnt/data/var/www/nomeroff-net/./data/dataset/OptionsDetector/numberplate_options_example option_dir: test custom_options_sub_dirs[0]: ann\n",
      "/mnt/data/var/www/nomeroff-net/./data/dataset/OptionsDetector/numberplate_options_example/test/ann/eu-ua-2015-2.json\n",
      "/mnt/data/var/www/nomeroff-net/./data/dataset/OptionsDetector/numberplate_options_example/test/ann/eu-ua-ordlo-lpr.json\n",
      "/mnt/data/var/www/nomeroff-net/./data/dataset/OptionsDetector/numberplate_options_example/test/ann/kg.json\n",
      "/mnt/data/var/www/nomeroff-net/./data/dataset/OptionsDetector/numberplate_options_example/test/ann/am.json\n",
      "/mnt/data/var/www/nomeroff-net/./data/dataset/OptionsDetector/numberplate_options_example/test/ann/eu-ua-1995.json\n",
      "/mnt/data/var/www/nomeroff-net/./data/dataset/OptionsDetector/numberplate_options_example/test/ann/eu.json\n",
      "/mnt/data/var/www/nomeroff-net/./data/dataset/OptionsDetector/numberplate_options_example/test/ann/military-ru.json\n",
      "/mnt/data/var/www/nomeroff-net/./data/dataset/OptionsDetector/numberplate_options_example/test/ann/eu-ua-2015-3.json\n",
      "/mnt/data/var/www/nomeroff-net/./data/dataset/OptionsDetector/numberplate_options_example/test/ann/eu-ua-2004.json\n",
      "/mnt/data/var/www/nomeroff-net/./data/dataset/OptionsDetector/numberplate_options_example/test/ann/ge.json\n",
      "/mnt/data/var/www/nomeroff-net/./data/dataset/OptionsDetector/numberplate_options_example/test/ann/xx-unknown.json\n",
      "/mnt/data/var/www/nomeroff-net/./data/dataset/OptionsDetector/numberplate_options_example/test/ann/by.json\n",
      "/mnt/data/var/www/nomeroff-net/./data/dataset/OptionsDetector/numberplate_options_example/test/ann/eu-ua-ordlo-dpr.json\n",
      "/mnt/data/var/www/nomeroff-net/./data/dataset/OptionsDetector/numberplate_options_example/test/ann/su.json\n",
      "/mnt/data/var/www/nomeroff-net/./data/dataset/OptionsDetector/numberplate_options_example/test/ann/eu-ua-2015.json\n",
      "/mnt/data/var/www/nomeroff-net/./data/dataset/OptionsDetector/numberplate_options_example/test/ann/ru.json\n",
      "/mnt/data/var/www/nomeroff-net/./data/dataset/OptionsDetector/numberplate_options_example/test/ann/kz.json\n",
      "/mnt/data/var/www/nomeroff-net/./data/dataset/OptionsDetector/numberplate_options_example/test/ann/xx-transit.json\n",
      "/mnt/data/var/www/nomeroff-net/./data/dataset/OptionsDetector/numberplate_options_example/test/ann/military-ua.json\n",
      "Labels stat for /mnt/data/var/www/nomeroff-net/./data/dataset/OptionsDetector/numberplate_options_example/test/ann\n",
      "[((2, 1), 1), ((1, 9), 1), ((1, 13), 1), ((1, 14), 1), ((1, 3), 1), ((1, 4), 1), ((1, 16), 1), ((3, 1), 1), ((1, 2), 1), ((1, 10), 1), ((0, 0), 1), ((1, 11), 1), ((1, 8), 1), ((1, 12), 1), ((1, 1), 1), ((1, 6), 1), ((1, 7), 1), ((1, 5), 1), ((1, 15), 1)]\n",
      "In test prepared 11 records\n",
      "In test filtered by state_id 1 records\n"
     ]
    }
   ],
   "source": [
    "customOptionsMakerReg.make()"
   ]
  },
  {
   "cell_type": "code",
   "execution_count": 12,
   "metadata": {},
   "outputs": [
    {
     "name": "stdout",
     "output_type": "stream",
     "text": [
      "Prepare data for region_id: 0\n",
      "Increase class region_id 0 from 3 to 10\n",
      "Multiply 3 class data in 3 times and add random 1 items of class\n",
      "Make full copy for index 1\n",
      "Try make duplicate/augmentation for 3 items\n",
      "Make augmented file: \"/mnt/data/var/www/nomeroff-net/./data/dataset/OptionsDetector/numberplate_options_example_custom_reg/train/img/aug_1_eu-ua-2015-2.png\"\n",
      "Make augmented file: \"/mnt/data/var/www/nomeroff-net/./data/dataset/OptionsDetector/numberplate_options_example_custom_reg/train/img/aug_1_eu-ua-2015-3.png\"\n",
      "Make augmented file: \"/mnt/data/var/www/nomeroff-net/./data/dataset/OptionsDetector/numberplate_options_example_custom_reg/train/img/aug_1_eu-ua-2015.png\"\n",
      "Make full copy for index 2\n",
      "Try make duplicate/augmentation for 3 items\n",
      "Make augmented file: \"/mnt/data/var/www/nomeroff-net/./data/dataset/OptionsDetector/numberplate_options_example_custom_reg/train/img/aug_2_eu-ua-2015-2.png\"\n",
      "Make augmented file: \"/mnt/data/var/www/nomeroff-net/./data/dataset/OptionsDetector/numberplate_options_example_custom_reg/train/img/aug_2_eu-ua-2015-3.png\"\n",
      "Make augmented file: \"/mnt/data/var/www/nomeroff-net/./data/dataset/OptionsDetector/numberplate_options_example_custom_reg/train/img/aug_2_eu-ua-2015.png\"\n",
      "Add appendix (1 items) for index 3\n",
      "Try make duplicate/augmentation for 1 items\n",
      "Make augmented file: \"/mnt/data/var/www/nomeroff-net/./data/dataset/OptionsDetector/numberplate_options_example_custom_reg/train/img/aug_3_eu-ua-2015-3.png\"\n",
      "Prepare data for region_id: 6\n",
      "Increase class region_id 6 from 1 to 10\n",
      "Multiply 1 class data in 10 times and add random 0 items of class\n",
      "Make full copy for index 1\n",
      "Try make duplicate/augmentation for 1 items\n",
      "Make augmented file: \"/mnt/data/var/www/nomeroff-net/./data/dataset/OptionsDetector/numberplate_options_example_custom_reg/train/img/aug_1_eu-ua-ordlo-lpr.png\"\n",
      "Make full copy for index 2\n",
      "Try make duplicate/augmentation for 1 items\n",
      "Make augmented file: \"/mnt/data/var/www/nomeroff-net/./data/dataset/OptionsDetector/numberplate_options_example_custom_reg/train/img/aug_2_eu-ua-ordlo-lpr.png\"\n",
      "Make full copy for index 3\n",
      "Try make duplicate/augmentation for 1 items\n",
      "Make augmented file: \"/mnt/data/var/www/nomeroff-net/./data/dataset/OptionsDetector/numberplate_options_example_custom_reg/train/img/aug_3_eu-ua-ordlo-lpr.png\"\n",
      "Make full copy for index 4\n",
      "Try make duplicate/augmentation for 1 items\n",
      "Make augmented file: \"/mnt/data/var/www/nomeroff-net/./data/dataset/OptionsDetector/numberplate_options_example_custom_reg/train/img/aug_4_eu-ua-ordlo-lpr.png\"\n",
      "Make full copy for index 5\n",
      "Try make duplicate/augmentation for 1 items\n",
      "Make augmented file: \"/mnt/data/var/www/nomeroff-net/./data/dataset/OptionsDetector/numberplate_options_example_custom_reg/train/img/aug_5_eu-ua-ordlo-lpr.png\"\n",
      "Make full copy for index 6\n",
      "Try make duplicate/augmentation for 1 items\n",
      "Make augmented file: \"/mnt/data/var/www/nomeroff-net/./data/dataset/OptionsDetector/numberplate_options_example_custom_reg/train/img/aug_6_eu-ua-ordlo-lpr.png\"\n",
      "Make full copy for index 7\n",
      "Try make duplicate/augmentation for 1 items\n",
      "Make augmented file: \"/mnt/data/var/www/nomeroff-net/./data/dataset/OptionsDetector/numberplate_options_example_custom_reg/train/img/aug_7_eu-ua-ordlo-lpr.png\"\n",
      "Make full copy for index 8\n",
      "Try make duplicate/augmentation for 1 items\n",
      "Make augmented file: \"/mnt/data/var/www/nomeroff-net/./data/dataset/OptionsDetector/numberplate_options_example_custom_reg/train/img/aug_8_eu-ua-ordlo-lpr.png\"\n",
      "Make full copy for index 9\n",
      "Try make duplicate/augmentation for 1 items\n",
      "Make augmented file: \"/mnt/data/var/www/nomeroff-net/./data/dataset/OptionsDetector/numberplate_options_example_custom_reg/train/img/aug_9_eu-ua-ordlo-lpr.png\"\n",
      "Add appendix (0 items) for index 10\n",
      "Try make duplicate/augmentation for 0 items\n",
      "Prepare data for region_id: 2\n",
      "Increase class region_id 2 from 1 to 10\n",
      "Multiply 1 class data in 10 times and add random 0 items of class\n",
      "Make full copy for index 1\n",
      "Try make duplicate/augmentation for 1 items\n",
      "Make augmented file: \"/mnt/data/var/www/nomeroff-net/./data/dataset/OptionsDetector/numberplate_options_example_custom_reg/train/img/aug_1_eu-ua-1995.png\"\n",
      "Make full copy for index 2\n",
      "Try make duplicate/augmentation for 1 items\n",
      "Make augmented file: \"/mnt/data/var/www/nomeroff-net/./data/dataset/OptionsDetector/numberplate_options_example_custom_reg/train/img/aug_2_eu-ua-1995.png\"\n",
      "Make full copy for index 3\n",
      "Try make duplicate/augmentation for 1 items\n",
      "Make augmented file: \"/mnt/data/var/www/nomeroff-net/./data/dataset/OptionsDetector/numberplate_options_example_custom_reg/train/img/aug_3_eu-ua-1995.png\"\n",
      "Make full copy for index 4\n",
      "Try make duplicate/augmentation for 1 items\n",
      "Make augmented file: \"/mnt/data/var/www/nomeroff-net/./data/dataset/OptionsDetector/numberplate_options_example_custom_reg/train/img/aug_4_eu-ua-1995.png\"\n",
      "Make full copy for index 5\n",
      "Try make duplicate/augmentation for 1 items\n",
      "Make augmented file: \"/mnt/data/var/www/nomeroff-net/./data/dataset/OptionsDetector/numberplate_options_example_custom_reg/train/img/aug_5_eu-ua-1995.png\"\n",
      "Make full copy for index 6\n",
      "Try make duplicate/augmentation for 1 items\n",
      "Make augmented file: \"/mnt/data/var/www/nomeroff-net/./data/dataset/OptionsDetector/numberplate_options_example_custom_reg/train/img/aug_6_eu-ua-1995.png\"\n",
      "Make full copy for index 7\n",
      "Try make duplicate/augmentation for 1 items\n",
      "Make augmented file: \"/mnt/data/var/www/nomeroff-net/./data/dataset/OptionsDetector/numberplate_options_example_custom_reg/train/img/aug_7_eu-ua-1995.png\"\n",
      "Make full copy for index 8\n",
      "Try make duplicate/augmentation for 1 items\n",
      "Make augmented file: \"/mnt/data/var/www/nomeroff-net/./data/dataset/OptionsDetector/numberplate_options_example_custom_reg/train/img/aug_8_eu-ua-1995.png\"\n",
      "Make full copy for index 9\n",
      "Try make duplicate/augmentation for 1 items\n",
      "Make augmented file: \"/mnt/data/var/www/nomeroff-net/./data/dataset/OptionsDetector/numberplate_options_example_custom_reg/train/img/aug_9_eu-ua-1995.png\"\n",
      "Add appendix (0 items) for index 10\n",
      "Try make duplicate/augmentation for 0 items\n",
      "Prepare data for region_id: 3\n",
      "Increase class region_id 3 from 1 to 10\n",
      "Multiply 1 class data in 10 times and add random 0 items of class\n",
      "Make full copy for index 1\n",
      "Try make duplicate/augmentation for 1 items\n",
      "Make augmented file: \"/mnt/data/var/www/nomeroff-net/./data/dataset/OptionsDetector/numberplate_options_example_custom_reg/train/img/aug_1_eu.png\"\n",
      "Make full copy for index 2\n",
      "Try make duplicate/augmentation for 1 items\n",
      "Make augmented file: \"/mnt/data/var/www/nomeroff-net/./data/dataset/OptionsDetector/numberplate_options_example_custom_reg/train/img/aug_2_eu.png\"\n",
      "Make full copy for index 3\n",
      "Try make duplicate/augmentation for 1 items\n",
      "Make augmented file: \"/mnt/data/var/www/nomeroff-net/./data/dataset/OptionsDetector/numberplate_options_example_custom_reg/train/img/aug_3_eu.png\"\n",
      "Make full copy for index 4\n",
      "Try make duplicate/augmentation for 1 items\n",
      "Make augmented file: \"/mnt/data/var/www/nomeroff-net/./data/dataset/OptionsDetector/numberplate_options_example_custom_reg/train/img/aug_4_eu.png\"\n",
      "Make full copy for index 5\n",
      "Try make duplicate/augmentation for 1 items\n",
      "Make augmented file: \"/mnt/data/var/www/nomeroff-net/./data/dataset/OptionsDetector/numberplate_options_example_custom_reg/train/img/aug_5_eu.png\"\n",
      "Make full copy for index 6\n",
      "Try make duplicate/augmentation for 1 items\n",
      "Make augmented file: \"/mnt/data/var/www/nomeroff-net/./data/dataset/OptionsDetector/numberplate_options_example_custom_reg/train/img/aug_6_eu.png\"\n",
      "Make full copy for index 7\n",
      "Try make duplicate/augmentation for 1 items\n",
      "Make augmented file: \"/mnt/data/var/www/nomeroff-net/./data/dataset/OptionsDetector/numberplate_options_example_custom_reg/train/img/aug_7_eu.png\"\n",
      "Make full copy for index 8\n",
      "Try make duplicate/augmentation for 1 items\n",
      "Make augmented file: \"/mnt/data/var/www/nomeroff-net/./data/dataset/OptionsDetector/numberplate_options_example_custom_reg/train/img/aug_8_eu.png\"\n",
      "Make full copy for index 9\n",
      "Try make duplicate/augmentation for 1 items\n",
      "Make augmented file: \"/mnt/data/var/www/nomeroff-net/./data/dataset/OptionsDetector/numberplate_options_example_custom_reg/train/img/aug_9_eu.png\"\n",
      "Add appendix (0 items) for index 10\n",
      "Try make duplicate/augmentation for 0 items\n",
      "Prepare data for region_id: 1\n",
      "Increase class region_id 1 from 1 to 10\n",
      "Multiply 1 class data in 10 times and add random 0 items of class\n",
      "Make full copy for index 1\n",
      "Try make duplicate/augmentation for 1 items\n",
      "Make augmented file: \"/mnt/data/var/www/nomeroff-net/./data/dataset/OptionsDetector/numberplate_options_example_custom_reg/train/img/aug_1_eu-ua-2004.png\"\n",
      "Make full copy for index 2\n",
      "Try make duplicate/augmentation for 1 items\n",
      "Make augmented file: \"/mnt/data/var/www/nomeroff-net/./data/dataset/OptionsDetector/numberplate_options_example_custom_reg/train/img/aug_2_eu-ua-2004.png\"\n",
      "Make full copy for index 3\n",
      "Try make duplicate/augmentation for 1 items\n",
      "Make augmented file: \"/mnt/data/var/www/nomeroff-net/./data/dataset/OptionsDetector/numberplate_options_example_custom_reg/train/img/aug_3_eu-ua-2004.png\"\n",
      "Make full copy for index 4\n",
      "Try make duplicate/augmentation for 1 items\n",
      "Make augmented file: \"/mnt/data/var/www/nomeroff-net/./data/dataset/OptionsDetector/numberplate_options_example_custom_reg/train/img/aug_4_eu-ua-2004.png\"\n",
      "Make full copy for index 5\n",
      "Try make duplicate/augmentation for 1 items\n",
      "Make augmented file: \"/mnt/data/var/www/nomeroff-net/./data/dataset/OptionsDetector/numberplate_options_example_custom_reg/train/img/aug_5_eu-ua-2004.png\"\n",
      "Make full copy for index 6\n",
      "Try make duplicate/augmentation for 1 items\n",
      "Make augmented file: \"/mnt/data/var/www/nomeroff-net/./data/dataset/OptionsDetector/numberplate_options_example_custom_reg/train/img/aug_6_eu-ua-2004.png\"\n",
      "Make full copy for index 7\n",
      "Try make duplicate/augmentation for 1 items\n",
      "Make augmented file: \"/mnt/data/var/www/nomeroff-net/./data/dataset/OptionsDetector/numberplate_options_example_custom_reg/train/img/aug_7_eu-ua-2004.png\"\n",
      "Make full copy for index 8\n",
      "Try make duplicate/augmentation for 1 items\n",
      "Make augmented file: \"/mnt/data/var/www/nomeroff-net/./data/dataset/OptionsDetector/numberplate_options_example_custom_reg/train/img/aug_8_eu-ua-2004.png\"\n",
      "Make full copy for index 9\n",
      "Try make duplicate/augmentation for 1 items\n",
      "Make augmented file: \"/mnt/data/var/www/nomeroff-net/./data/dataset/OptionsDetector/numberplate_options_example_custom_reg/train/img/aug_9_eu-ua-2004.png\"\n",
      "Add appendix (0 items) for index 10\n",
      "Try make duplicate/augmentation for 0 items\n",
      "Prepare data for region_id: 7\n",
      "Increase class region_id 7 from 1 to 10\n",
      "Multiply 1 class data in 10 times and add random 0 items of class\n",
      "Make full copy for index 1\n",
      "Try make duplicate/augmentation for 1 items\n",
      "Make augmented file: \"/mnt/data/var/www/nomeroff-net/./data/dataset/OptionsDetector/numberplate_options_example_custom_reg/train/img/aug_1_ge.png\"\n",
      "Make full copy for index 2\n",
      "Try make duplicate/augmentation for 1 items\n",
      "Make augmented file: \"/mnt/data/var/www/nomeroff-net/./data/dataset/OptionsDetector/numberplate_options_example_custom_reg/train/img/aug_2_ge.png\"\n",
      "Make full copy for index 3\n",
      "Try make duplicate/augmentation for 1 items\n",
      "Make augmented file: \"/mnt/data/var/www/nomeroff-net/./data/dataset/OptionsDetector/numberplate_options_example_custom_reg/train/img/aug_3_ge.png\"\n",
      "Make full copy for index 4\n",
      "Try make duplicate/augmentation for 1 items\n",
      "Make augmented file: \"/mnt/data/var/www/nomeroff-net/./data/dataset/OptionsDetector/numberplate_options_example_custom_reg/train/img/aug_4_ge.png\"\n",
      "Make full copy for index 5\n",
      "Try make duplicate/augmentation for 1 items\n",
      "Make augmented file: \"/mnt/data/var/www/nomeroff-net/./data/dataset/OptionsDetector/numberplate_options_example_custom_reg/train/img/aug_5_ge.png\"\n",
      "Make full copy for index 6\n",
      "Try make duplicate/augmentation for 1 items\n",
      "Make augmented file: \"/mnt/data/var/www/nomeroff-net/./data/dataset/OptionsDetector/numberplate_options_example_custom_reg/train/img/aug_6_ge.png\"\n",
      "Make full copy for index 7\n",
      "Try make duplicate/augmentation for 1 items\n",
      "Make augmented file: \"/mnt/data/var/www/nomeroff-net/./data/dataset/OptionsDetector/numberplate_options_example_custom_reg/train/img/aug_7_ge.png\"\n",
      "Make full copy for index 8\n",
      "Try make duplicate/augmentation for 1 items\n",
      "Make augmented file: \"/mnt/data/var/www/nomeroff-net/./data/dataset/OptionsDetector/numberplate_options_example_custom_reg/train/img/aug_8_ge.png\"\n",
      "Make full copy for index 9\n",
      "Try make duplicate/augmentation for 1 items\n",
      "Make augmented file: \"/mnt/data/var/www/nomeroff-net/./data/dataset/OptionsDetector/numberplate_options_example_custom_reg/train/img/aug_9_ge.png\"\n",
      "Add appendix (0 items) for index 10\n",
      "Try make duplicate/augmentation for 0 items\n",
      "Prepare data for region_id: 5\n",
      "Increase class region_id 5 from 1 to 10\n",
      "Multiply 1 class data in 10 times and add random 0 items of class\n",
      "Make full copy for index 1\n",
      "Try make duplicate/augmentation for 1 items\n",
      "Make augmented file: \"/mnt/data/var/www/nomeroff-net/./data/dataset/OptionsDetector/numberplate_options_example_custom_reg/train/img/aug_1_eu-ua-ordlo-dpr.png\"\n",
      "Make full copy for index 2\n",
      "Try make duplicate/augmentation for 1 items\n",
      "Make augmented file: \"/mnt/data/var/www/nomeroff-net/./data/dataset/OptionsDetector/numberplate_options_example_custom_reg/train/img/aug_2_eu-ua-ordlo-dpr.png\"\n",
      "Make full copy for index 3\n",
      "Try make duplicate/augmentation for 1 items\n",
      "Make augmented file: \"/mnt/data/var/www/nomeroff-net/./data/dataset/OptionsDetector/numberplate_options_example_custom_reg/train/img/aug_3_eu-ua-ordlo-dpr.png\"\n",
      "Make full copy for index 4\n",
      "Try make duplicate/augmentation for 1 items\n",
      "Make augmented file: \"/mnt/data/var/www/nomeroff-net/./data/dataset/OptionsDetector/numberplate_options_example_custom_reg/train/img/aug_4_eu-ua-ordlo-dpr.png\"\n",
      "Make full copy for index 5\n",
      "Try make duplicate/augmentation for 1 items\n",
      "Make augmented file: \"/mnt/data/var/www/nomeroff-net/./data/dataset/OptionsDetector/numberplate_options_example_custom_reg/train/img/aug_5_eu-ua-ordlo-dpr.png\"\n"
     ]
    },
    {
     "name": "stdout",
     "output_type": "stream",
     "text": [
      "Make full copy for index 6\n",
      "Try make duplicate/augmentation for 1 items\n",
      "Make augmented file: \"/mnt/data/var/www/nomeroff-net/./data/dataset/OptionsDetector/numberplate_options_example_custom_reg/train/img/aug_6_eu-ua-ordlo-dpr.png\"\n",
      "Make full copy for index 7\n",
      "Try make duplicate/augmentation for 1 items\n",
      "Make augmented file: \"/mnt/data/var/www/nomeroff-net/./data/dataset/OptionsDetector/numberplate_options_example_custom_reg/train/img/aug_7_eu-ua-ordlo-dpr.png\"\n",
      "Make full copy for index 8\n",
      "Try make duplicate/augmentation for 1 items\n",
      "Make augmented file: \"/mnt/data/var/www/nomeroff-net/./data/dataset/OptionsDetector/numberplate_options_example_custom_reg/train/img/aug_8_eu-ua-ordlo-dpr.png\"\n",
      "Make full copy for index 9\n",
      "Try make duplicate/augmentation for 1 items\n",
      "Make augmented file: \"/mnt/data/var/www/nomeroff-net/./data/dataset/OptionsDetector/numberplate_options_example_custom_reg/train/img/aug_9_eu-ua-ordlo-dpr.png\"\n",
      "Add appendix (0 items) for index 10\n",
      "Try make duplicate/augmentation for 0 items\n",
      "Prepare data for region_id: 8\n",
      "Increase class region_id 8 from 1 to 10\n",
      "Multiply 1 class data in 10 times and add random 0 items of class\n",
      "Make full copy for index 1\n",
      "Try make duplicate/augmentation for 1 items\n",
      "Make augmented file: \"/mnt/data/var/www/nomeroff-net/./data/dataset/OptionsDetector/numberplate_options_example_custom_reg/train/img/aug_1_su.png\"\n",
      "Make full copy for index 2\n",
      "Try make duplicate/augmentation for 1 items\n",
      "Make augmented file: \"/mnt/data/var/www/nomeroff-net/./data/dataset/OptionsDetector/numberplate_options_example_custom_reg/train/img/aug_2_su.png\"\n",
      "Make full copy for index 3\n",
      "Try make duplicate/augmentation for 1 items\n",
      "Make augmented file: \"/mnt/data/var/www/nomeroff-net/./data/dataset/OptionsDetector/numberplate_options_example_custom_reg/train/img/aug_3_su.png\"\n",
      "Make full copy for index 4\n",
      "Try make duplicate/augmentation for 1 items\n",
      "Make augmented file: \"/mnt/data/var/www/nomeroff-net/./data/dataset/OptionsDetector/numberplate_options_example_custom_reg/train/img/aug_4_su.png\"\n",
      "Make full copy for index 5\n",
      "Try make duplicate/augmentation for 1 items\n",
      "Make augmented file: \"/mnt/data/var/www/nomeroff-net/./data/dataset/OptionsDetector/numberplate_options_example_custom_reg/train/img/aug_5_su.png\"\n",
      "Make full copy for index 6\n",
      "Try make duplicate/augmentation for 1 items\n",
      "Make augmented file: \"/mnt/data/var/www/nomeroff-net/./data/dataset/OptionsDetector/numberplate_options_example_custom_reg/train/img/aug_6_su.png\"\n",
      "Make full copy for index 7\n",
      "Try make duplicate/augmentation for 1 items\n",
      "Make augmented file: \"/mnt/data/var/www/nomeroff-net/./data/dataset/OptionsDetector/numberplate_options_example_custom_reg/train/img/aug_7_su.png\"\n",
      "Make full copy for index 8\n",
      "Try make duplicate/augmentation for 1 items\n",
      "Make augmented file: \"/mnt/data/var/www/nomeroff-net/./data/dataset/OptionsDetector/numberplate_options_example_custom_reg/train/img/aug_8_su.png\"\n",
      "Make full copy for index 9\n",
      "Try make duplicate/augmentation for 1 items\n",
      "Make augmented file: \"/mnt/data/var/www/nomeroff-net/./data/dataset/OptionsDetector/numberplate_options_example_custom_reg/train/img/aug_9_su.png\"\n",
      "Add appendix (0 items) for index 10\n",
      "Try make duplicate/augmentation for 0 items\n",
      "Prepare data for region_id: 4\n",
      "Increase class region_id 4 from 1 to 10\n",
      "Multiply 1 class data in 10 times and add random 0 items of class\n",
      "Make full copy for index 1\n",
      "Try make duplicate/augmentation for 1 items\n",
      "Make augmented file: \"/mnt/data/var/www/nomeroff-net/./data/dataset/OptionsDetector/numberplate_options_example_custom_reg/train/img/aug_1_xx-transit.png\"\n",
      "Make full copy for index 2\n",
      "Try make duplicate/augmentation for 1 items\n",
      "Make augmented file: \"/mnt/data/var/www/nomeroff-net/./data/dataset/OptionsDetector/numberplate_options_example_custom_reg/train/img/aug_2_xx-transit.png\"\n",
      "Make full copy for index 3\n",
      "Try make duplicate/augmentation for 1 items\n",
      "Make augmented file: \"/mnt/data/var/www/nomeroff-net/./data/dataset/OptionsDetector/numberplate_options_example_custom_reg/train/img/aug_3_xx-transit.png\"\n",
      "Make full copy for index 4\n",
      "Try make duplicate/augmentation for 1 items\n",
      "Make augmented file: \"/mnt/data/var/www/nomeroff-net/./data/dataset/OptionsDetector/numberplate_options_example_custom_reg/train/img/aug_4_xx-transit.png\"\n",
      "Make full copy for index 5\n",
      "Try make duplicate/augmentation for 1 items\n",
      "Make augmented file: \"/mnt/data/var/www/nomeroff-net/./data/dataset/OptionsDetector/numberplate_options_example_custom_reg/train/img/aug_5_xx-transit.png\"\n",
      "Make full copy for index 6\n",
      "Try make duplicate/augmentation for 1 items\n",
      "Make augmented file: \"/mnt/data/var/www/nomeroff-net/./data/dataset/OptionsDetector/numberplate_options_example_custom_reg/train/img/aug_6_xx-transit.png\"\n",
      "Make full copy for index 7\n",
      "Try make duplicate/augmentation for 1 items\n",
      "Make augmented file: \"/mnt/data/var/www/nomeroff-net/./data/dataset/OptionsDetector/numberplate_options_example_custom_reg/train/img/aug_7_xx-transit.png\"\n",
      "Make full copy for index 8\n",
      "Try make duplicate/augmentation for 1 items\n",
      "Make augmented file: \"/mnt/data/var/www/nomeroff-net/./data/dataset/OptionsDetector/numberplate_options_example_custom_reg/train/img/aug_8_xx-transit.png\"\n",
      "Make full copy for index 9\n",
      "Try make duplicate/augmentation for 1 items\n",
      "Make augmented file: \"/mnt/data/var/www/nomeroff-net/./data/dataset/OptionsDetector/numberplate_options_example_custom_reg/train/img/aug_9_xx-transit.png\"\n",
      "Add appendix (0 items) for index 10\n",
      "Try make duplicate/augmentation for 0 items\n",
      "Rebalance options stats {'1': {'eu-ua-2015-2.json': {'state_id': 2, 'region_id': 0, 'name': 'eu-ua-2015-2', 'count_lines': 1, 'orientation': 0}}, '0': {'eu-ua-ordlo-lpr.json': {'state_id': 2, 'region_id': 6, 'name': 'eu-ua-ordlo-lpr', 'count_lines': 0, 'orientation': 0}, 'eu-ua-1995.json': {'state_id': 2, 'region_id': 2, 'name': 'eu-ua-1995', 'count_lines': 0, 'orientation': 0}, 'eu.json': {'state_id': 2, 'region_id': 3, 'name': 'eu', 'count_lines': 0, 'orientation': 0}, 'eu-ua-2004.json': {'state_id': 2, 'region_id': 1, 'name': 'eu-ua-2004', 'count_lines': 0, 'orientation': 0}, 'ge.json': {'state_id': 2, 'region_id': 7, 'name': 'ge', 'count_lines': 0, 'orientation': 0}, 'eu-ua-ordlo-dpr.json': {'state_id': 2, 'region_id': 5, 'name': 'eu-ua-ordlo-dpr', 'count_lines': 0, 'orientation': 0}, 'su.json': {'state_id': 2, 'region_id': 8, 'name': 'su', 'count_lines': 0, 'orientation': 0}, 'eu-ua-2015.json': {'state_id': 2, 'region_id': 0, 'name': 'eu-ua-2015', 'count_lines': 0, 'orientation': 0}, 'xx-transit.json': {'state_id': 2, 'region_id': 4, 'name': 'xx-transit', 'count_lines': 0, 'orientation': 0}}, '2': {'eu-ua-2015-3.json': {'state_id': 2, 'region_id': 0, 'name': 'eu-ua-2015-3', 'count_lines': 2, 'orientation': 0}}}\n",
      "Prepare data for count_lines: 1\n",
      "Increase class region_id 1 from 1 to 10\n",
      "Multiply 1 class data in 10 times and add random 0 items of class\n",
      "Make full copy for index 1\n",
      "Try make duplicate/augmentation for 1 items\n",
      "Make augmented file: \"/mnt/data/var/www/nomeroff-net/./data/dataset/OptionsDetector/numberplate_options_example_custom_line/train/img/aug_1_eu-ua-2015-2.png\"\n",
      "Make full copy for index 2\n",
      "Try make duplicate/augmentation for 1 items\n",
      "Make augmented file: \"/mnt/data/var/www/nomeroff-net/./data/dataset/OptionsDetector/numberplate_options_example_custom_line/train/img/aug_2_eu-ua-2015-2.png\"\n",
      "Make full copy for index 3\n",
      "Try make duplicate/augmentation for 1 items\n",
      "Make augmented file: \"/mnt/data/var/www/nomeroff-net/./data/dataset/OptionsDetector/numberplate_options_example_custom_line/train/img/aug_3_eu-ua-2015-2.png\"\n",
      "Make full copy for index 4\n",
      "Try make duplicate/augmentation for 1 items\n",
      "Make augmented file: \"/mnt/data/var/www/nomeroff-net/./data/dataset/OptionsDetector/numberplate_options_example_custom_line/train/img/aug_4_eu-ua-2015-2.png\"\n",
      "Make full copy for index 5\n",
      "Try make duplicate/augmentation for 1 items\n",
      "Make augmented file: \"/mnt/data/var/www/nomeroff-net/./data/dataset/OptionsDetector/numberplate_options_example_custom_line/train/img/aug_5_eu-ua-2015-2.png\"\n",
      "Make full copy for index 6\n",
      "Try make duplicate/augmentation for 1 items\n",
      "Make augmented file: \"/mnt/data/var/www/nomeroff-net/./data/dataset/OptionsDetector/numberplate_options_example_custom_line/train/img/aug_6_eu-ua-2015-2.png\"\n",
      "Make full copy for index 7\n",
      "Try make duplicate/augmentation for 1 items\n",
      "Make augmented file: \"/mnt/data/var/www/nomeroff-net/./data/dataset/OptionsDetector/numberplate_options_example_custom_line/train/img/aug_7_eu-ua-2015-2.png\"\n",
      "Make full copy for index 8\n",
      "Try make duplicate/augmentation for 1 items\n",
      "Make augmented file: \"/mnt/data/var/www/nomeroff-net/./data/dataset/OptionsDetector/numberplate_options_example_custom_line/train/img/aug_8_eu-ua-2015-2.png\"\n",
      "Make full copy for index 9\n",
      "Try make duplicate/augmentation for 1 items\n",
      "Make augmented file: \"/mnt/data/var/www/nomeroff-net/./data/dataset/OptionsDetector/numberplate_options_example_custom_line/train/img/aug_9_eu-ua-2015-2.png\"\n",
      "Add appendix (0 items) for index 10\n",
      "Try make duplicate/augmentation for 0 items\n",
      "Prepare data for count_lines: 0\n",
      "Increase class region_id 0 from 9 to 10\n",
      "Multiply 9 class data in 1 times and add random 1 items of class\n",
      "Add appendix (1 items) for index 1\n",
      "Try make duplicate/augmentation for 1 items\n",
      "Make augmented file: \"/mnt/data/var/www/nomeroff-net/./data/dataset/OptionsDetector/numberplate_options_example_custom_line/train/img/aug_1_ge.png\"\n",
      "Prepare data for count_lines: 2\n",
      "Increase class region_id 2 from 1 to 10\n",
      "Multiply 1 class data in 10 times and add random 0 items of class\n",
      "Make full copy for index 1\n",
      "Try make duplicate/augmentation for 1 items\n",
      "Make augmented file: \"/mnt/data/var/www/nomeroff-net/./data/dataset/OptionsDetector/numberplate_options_example_custom_line/train/img/aug_1_eu-ua-2015-3.png\"\n",
      "Make full copy for index 2\n",
      "Try make duplicate/augmentation for 1 items\n",
      "Make augmented file: \"/mnt/data/var/www/nomeroff-net/./data/dataset/OptionsDetector/numberplate_options_example_custom_line/train/img/aug_2_eu-ua-2015-3.png\"\n",
      "Make full copy for index 3\n",
      "Try make duplicate/augmentation for 1 items\n",
      "Make augmented file: \"/mnt/data/var/www/nomeroff-net/./data/dataset/OptionsDetector/numberplate_options_example_custom_line/train/img/aug_3_eu-ua-2015-3.png\"\n",
      "Make full copy for index 4\n",
      "Try make duplicate/augmentation for 1 items\n",
      "Make augmented file: \"/mnt/data/var/www/nomeroff-net/./data/dataset/OptionsDetector/numberplate_options_example_custom_line/train/img/aug_4_eu-ua-2015-3.png\"\n",
      "Make full copy for index 5\n",
      "Try make duplicate/augmentation for 1 items\n",
      "Make augmented file: \"/mnt/data/var/www/nomeroff-net/./data/dataset/OptionsDetector/numberplate_options_example_custom_line/train/img/aug_5_eu-ua-2015-3.png\"\n",
      "Make full copy for index 6\n",
      "Try make duplicate/augmentation for 1 items\n",
      "Make augmented file: \"/mnt/data/var/www/nomeroff-net/./data/dataset/OptionsDetector/numberplate_options_example_custom_line/train/img/aug_6_eu-ua-2015-3.png\"\n",
      "Make full copy for index 7\n",
      "Try make duplicate/augmentation for 1 items\n",
      "Make augmented file: \"/mnt/data/var/www/nomeroff-net/./data/dataset/OptionsDetector/numberplate_options_example_custom_line/train/img/aug_7_eu-ua-2015-3.png\"\n",
      "Make full copy for index 8\n",
      "Try make duplicate/augmentation for 1 items\n",
      "Make augmented file: \"/mnt/data/var/www/nomeroff-net/./data/dataset/OptionsDetector/numberplate_options_example_custom_line/train/img/aug_8_eu-ua-2015-3.png\"\n",
      "Make full copy for index 9\n",
      "Try make duplicate/augmentation for 1 items\n",
      "Make augmented file: \"/mnt/data/var/www/nomeroff-net/./data/dataset/OptionsDetector/numberplate_options_example_custom_line/train/img/aug_9_eu-ua-2015-3.png\"\n",
      "Add appendix (0 items) for index 10\n",
      "Try make duplicate/augmentation for 0 items\n"
     ]
    },
    {
     "data": {
      "text/plain": [
       "1"
      ]
     },
     "execution_count": 12,
     "metadata": {},
     "output_type": "execute_result"
    }
   ],
   "source": [
    "customOptionsMakerReg.rebalance_regions('train', with_aug=True, verbose=True)\n",
    "customOptionsMakerCountLine.rebalance_count_lines('train', with_aug=True, verbose=True)"
   ]
  },
  {
   "cell_type": "code",
   "execution_count": 13,
   "metadata": {},
   "outputs": [],
   "source": [
    "# definde your parameters\n",
    "class MyNpClassificator(OptionsDetector):\n",
    "    def __init__(self):\n",
    "        OptionsDetector.__init__(self)\n",
    "        \n",
    "        # outputs 2\n",
    "        self.class_region = class_region_custom\n",
    "        \n",
    "        # output 3\n",
    "        self.count_lines = class_count_lines_custom\n",
    "        \n",
    "        self.epochs           = 2\n",
    "        self.batch_size       = 2\n",
    "        \n",
    "        # count gpu for train\n",
    "        self.gpus = torch.cuda.device_count()\n",
    "        \n",
    "        self.height         = 64\n",
    "        self.width         = 295\n"
   ]
  },
  {
   "cell_type": "code",
   "execution_count": 14,
   "metadata": {},
   "outputs": [
    {
     "name": "stderr",
     "output_type": "stream",
     "text": [
      "\r",
      "  0%|          | 0/90 [00:00<?, ?it/s]"
     ]
    },
    {
     "name": "stdout",
     "output_type": "stream",
     "text": [
      "START PREPARING\n"
     ]
    },
    {
     "name": "stderr",
     "output_type": "stream",
     "text": [
      "100%|██████████| 90/90 [00:00<00:00, 349.10it/s]\n",
      "100%|██████████| 11/11 [00:00<00:00, 231.19it/s]\n",
      "100%|██████████| 11/11 [00:00<00:00, 258.22it/s]"
     ]
    },
    {
     "name": "stdout",
     "output_type": "stream",
     "text": [
      "DATA PREPARED\n"
     ]
    },
    {
     "name": "stderr",
     "output_type": "stream",
     "text": [
      "\n"
     ]
    }
   ],
   "source": [
    "# initialize region detector.\n",
    "npClassificator = MyNpClassificator()\n",
    "npClassificator.prepare(PATH_TO_REG_CUSTOM_DATASET, verbose=1, num_workers=1)"
   ]
  },
  {
   "cell_type": "code",
   "execution_count": 15,
   "metadata": {},
   "outputs": [
    {
     "name": "stderr",
     "output_type": "stream",
     "text": [
      "GPU available: False, used: False\n",
      "TPU available: False, using: 0 TPU cores\n",
      "IPU available: False, using: 0 IPUs\n"
     ]
    },
    {
     "data": {
      "application/vnd.jupyter.widget-view+json": {
       "model_id": "eee173200d9d46f899c77bd1a7199b09",
       "version_major": 2,
       "version_minor": 0
      },
      "text/plain": [
       "HBox(children=(FloatProgress(value=0.0, description='Finding best initial lr', max=9.0, style=ProgressStyle(de…"
      ]
     },
     "metadata": {},
     "output_type": "display_data"
    },
    {
     "name": "stderr",
     "output_type": "stream",
     "text": [
      "/usr/local/lib/python3.8/site-packages/pytorch_lightning/loops/optimization/closure.py:35: LightningDeprecationWarning: One of the returned values {'progress_bar', 'log'} has a `grad_fn`. We will detach it automatically but this behaviour will change in v1.6. Please detach it manually: `return {'loss': ..., 'something': something.detach()}`\n",
      "  rank_zero_deprecation(\n",
      "Restoring states from the checkpoint path at /mnt/data/var/www/nomeroff-net/examples/ju/train/classification/lr_find_temp_model_ea1ba7c2-ebe9-4635-963b-4d0e05479070.ckpt\n",
      "Failed to compute suggesting for `lr`. There might not be enough points.\n",
      "Traceback (most recent call last):\n",
      "  File \"/usr/local/lib/python3.8/site-packages/pytorch_lightning/tuner/lr_finder.py\", line 176, in suggestion\n",
      "    min_grad = np.gradient(loss).argmin()\n",
      "  File \"<__array_function__ internals>\", line 5, in gradient\n",
      "  File \"/usr/local/lib64/python3.8/site-packages/numpy/lib/function_base.py\", line 1041, in gradient\n",
      "    raise ValueError(\n",
      "ValueError: Shape of array too small to calculate a numerical gradient, at least (edge_order + 1) elements are required.\n",
      "Failed to compute suggesting for `lr`. There might not be enough points.\n",
      "Traceback (most recent call last):\n",
      "  File \"/usr/local/lib/python3.8/site-packages/pytorch_lightning/tuner/lr_finder.py\", line 176, in suggestion\n",
      "    min_grad = np.gradient(loss).argmin()\n",
      "  File \"<__array_function__ internals>\", line 5, in gradient\n",
      "  File \"/usr/local/lib64/python3.8/site-packages/numpy/lib/function_base.py\", line 1041, in gradient\n",
      "    raise ValueError(\n",
      "ValueError: Shape of array too small to calculate a numerical gradient, at least (edge_order + 1) elements are required.\n"
     ]
    },
    {
     "name": "stdout",
     "output_type": "stream",
     "text": [
      "Found lr: None\n"
     ]
    }
   ],
   "source": [
    "# train\n",
    "lr_finder = npClassificator.tune()\n",
    "\n",
    "# Plot with\n",
    "fig = lr_finder.plot(suggest=True)\n",
    "fig.show()"
   ]
  },
  {
   "cell_type": "code",
   "execution_count": 16,
   "metadata": {
    "scrolled": false
   },
   "outputs": [
    {
     "name": "stderr",
     "output_type": "stream",
     "text": [
      "GPU available: False, used: False\n",
      "TPU available: False, using: 0 TPU cores\n",
      "IPU available: False, using: 0 IPUs\n",
      "/usr/local/lib/python3.8/site-packages/pytorch_lightning/core/datamodule.py:469: LightningDeprecationWarning: DataModule.setup has already been called, so it will not be called again. In v1.6 this behavior will change to always call DataModule.setup.\n",
      "  rank_zero_deprecation(\n"
     ]
    },
    {
     "name": "stdout",
     "output_type": "stream",
     "text": [
      "\n"
     ]
    },
    {
     "name": "stderr",
     "output_type": "stream",
     "text": [
      "\n",
      "   | Name            | Type        | Params\n",
      "-------------------------------------------------\n",
      "0  | resnet          | Sequential  | 2.8 M \n",
      "1  | dropout_reg     | Dropout     | 0     \n",
      "2  | fc1_reg         | Linear      | 10.0 M\n",
      "3  | fc2_reg         | Linear      | 131 K \n",
      "4  | batch_norm_reg  | BatchNorm1d | 1.0 K \n",
      "5  | fc3_reg         | Linear      | 2.3 K \n",
      "6  | dropout_line    | Dropout     | 0     \n",
      "7  | fc1_line        | Linear      | 10.0 M\n",
      "8  | fc2_line        | Linear      | 131 K \n",
      "9  | batch_norm_line | BatchNorm1d | 1.0 K \n",
      "10 | fc3_line        | Linear      | 771   \n",
      "-------------------------------------------------\n",
      "23.0 M    Trainable params\n",
      "0         Non-trainable params\n",
      "23.0 M    Total params\n",
      "91.898    Total estimated model params size (MB)\n"
     ]
    },
    {
     "data": {
      "application/vnd.jupyter.widget-view+json": {
       "model_id": "",
       "version_major": 2,
       "version_minor": 0
      },
      "text/plain": [
       "HBox(children=(FloatProgress(value=1.0, bar_style='info', description='Validation sanity check', layout=Layout…"
      ]
     },
     "metadata": {},
     "output_type": "display_data"
    },
    {
     "data": {
      "application/vnd.jupyter.widget-view+json": {
       "model_id": "b8befeff2b174b59a2794e380ee9c26d",
       "version_major": 2,
       "version_minor": 0
      },
      "text/plain": [
       "HBox(children=(FloatProgress(value=1.0, bar_style='info', description='Training', layout=Layout(flex='2'), max…"
      ]
     },
     "metadata": {},
     "output_type": "display_data"
    },
    {
     "data": {
      "application/vnd.jupyter.widget-view+json": {
       "model_id": "",
       "version_major": 2,
       "version_minor": 0
      },
      "text/plain": [
       "HBox(children=(FloatProgress(value=1.0, bar_style='info', description='Validating', layout=Layout(flex='2'), m…"
      ]
     },
     "metadata": {},
     "output_type": "display_data"
    },
    {
     "data": {
      "application/vnd.jupyter.widget-view+json": {
       "model_id": "",
       "version_major": 2,
       "version_minor": 0
      },
      "text/plain": [
       "HBox(children=(FloatProgress(value=1.0, bar_style='info', description='Validating', layout=Layout(flex='2'), m…"
      ]
     },
     "metadata": {},
     "output_type": "display_data"
    },
    {
     "data": {
      "application/vnd.jupyter.widget-view+json": {
       "model_id": "",
       "version_major": 2,
       "version_minor": 0
      },
      "text/plain": [
       "HBox(children=(FloatProgress(value=1.0, bar_style='info', description='Validating', layout=Layout(flex='2'), m…"
      ]
     },
     "metadata": {},
     "output_type": "display_data"
    },
    {
     "data": {
      "application/vnd.jupyter.widget-view+json": {
       "model_id": "",
       "version_major": 2,
       "version_minor": 0
      },
      "text/plain": [
       "HBox(children=(FloatProgress(value=1.0, bar_style='info', description='Validating', layout=Layout(flex='2'), m…"
      ]
     },
     "metadata": {},
     "output_type": "display_data"
    },
    {
     "data": {
      "application/vnd.jupyter.widget-view+json": {
       "model_id": "",
       "version_major": 2,
       "version_minor": 0
      },
      "text/plain": [
       "HBox(children=(FloatProgress(value=1.0, bar_style='info', description='Validating', layout=Layout(flex='2'), m…"
      ]
     },
     "metadata": {},
     "output_type": "display_data"
    },
    {
     "name": "stdout",
     "output_type": "stream",
     "text": [
      "\n"
     ]
    },
    {
     "name": "stderr",
     "output_type": "stream",
     "text": [
      "/usr/local/lib/python3.8/site-packages/pytorch_lightning/core/datamodule.py:469: LightningDeprecationWarning: DataModule.teardown has already been called, so it will not be called again. In v1.6 this behavior will change to always call DataModule.teardown.\n",
      "  rank_zero_deprecation(\n"
     ]
    }
   ],
   "source": [
    "# train\n",
    "model = npClassificator.train()"
   ]
  },
  {
   "cell_type": "code",
   "execution_count": 17,
   "metadata": {},
   "outputs": [
    {
     "name": "stderr",
     "output_type": "stream",
     "text": [
      "100%|██████████| 19/19 [00:00<00:00, 13583.05it/s]\n",
      "100%|██████████| 19/19 [00:00<00:00, 16293.55it/s]\n",
      "100%|██████████| 19/19 [00:00<00:00, 15733.82it/s]"
     ]
    },
    {
     "name": "stdout",
     "output_type": "stream",
     "text": [
      "START PREPARING\n",
      "DATA PREPARED\n"
     ]
    },
    {
     "name": "stderr",
     "output_type": "stream",
     "text": [
      "\n"
     ]
    }
   ],
   "source": [
    "npClassificator.prepare(PATH_TO_DATASET, verbose=1)"
   ]
  },
  {
   "cell_type": "code",
   "execution_count": 18,
   "metadata": {},
   "outputs": [
    {
     "name": "stdout",
     "output_type": "stream",
     "text": [
      "model save to /mnt/data/var/www/nomeroff-net/./data/models/numberplate_options_2022_03_26_pytorch_lightning.ckpt\n"
     ]
    }
   ],
   "source": [
    "npClassificator.save(RESULT_PATH)"
   ]
  },
  {
   "cell_type": "markdown",
   "metadata": {},
   "source": [
    "# Classification Report"
   ]
  },
  {
   "cell_type": "code",
   "execution_count": 19,
   "metadata": {},
   "outputs": [
    {
     "data": {
      "text/plain": [
       "NPOptionsNet(\n",
       "  (resnet): Sequential(\n",
       "    (0): Conv2d(3, 64, kernel_size=(7, 7), stride=(2, 2), padding=(3, 3), bias=False)\n",
       "    (1): BatchNorm2d(64, eps=1e-05, momentum=0.1, affine=True, track_running_stats=True)\n",
       "    (2): ReLU(inplace=True)\n",
       "    (3): MaxPool2d(kernel_size=3, stride=2, padding=1, dilation=1, ceil_mode=False)\n",
       "    (4): Sequential(\n",
       "      (0): BasicBlock(\n",
       "        (conv1): Conv2d(64, 64, kernel_size=(3, 3), stride=(1, 1), padding=(1, 1), bias=False)\n",
       "        (bn1): BatchNorm2d(64, eps=1e-05, momentum=0.1, affine=True, track_running_stats=True)\n",
       "        (relu): ReLU(inplace=True)\n",
       "        (conv2): Conv2d(64, 64, kernel_size=(3, 3), stride=(1, 1), padding=(1, 1), bias=False)\n",
       "        (bn2): BatchNorm2d(64, eps=1e-05, momentum=0.1, affine=True, track_running_stats=True)\n",
       "      )\n",
       "      (1): BasicBlock(\n",
       "        (conv1): Conv2d(64, 64, kernel_size=(3, 3), stride=(1, 1), padding=(1, 1), bias=False)\n",
       "        (bn1): BatchNorm2d(64, eps=1e-05, momentum=0.1, affine=True, track_running_stats=True)\n",
       "        (relu): ReLU(inplace=True)\n",
       "        (conv2): Conv2d(64, 64, kernel_size=(3, 3), stride=(1, 1), padding=(1, 1), bias=False)\n",
       "        (bn2): BatchNorm2d(64, eps=1e-05, momentum=0.1, affine=True, track_running_stats=True)\n",
       "      )\n",
       "    )\n",
       "    (5): Sequential(\n",
       "      (0): BasicBlock(\n",
       "        (conv1): Conv2d(64, 128, kernel_size=(3, 3), stride=(2, 2), padding=(1, 1), bias=False)\n",
       "        (bn1): BatchNorm2d(128, eps=1e-05, momentum=0.1, affine=True, track_running_stats=True)\n",
       "        (relu): ReLU(inplace=True)\n",
       "        (conv2): Conv2d(128, 128, kernel_size=(3, 3), stride=(1, 1), padding=(1, 1), bias=False)\n",
       "        (bn2): BatchNorm2d(128, eps=1e-05, momentum=0.1, affine=True, track_running_stats=True)\n",
       "        (downsample): Sequential(\n",
       "          (0): Conv2d(64, 128, kernel_size=(1, 1), stride=(2, 2), bias=False)\n",
       "          (1): BatchNorm2d(128, eps=1e-05, momentum=0.1, affine=True, track_running_stats=True)\n",
       "        )\n",
       "      )\n",
       "      (1): BasicBlock(\n",
       "        (conv1): Conv2d(128, 128, kernel_size=(3, 3), stride=(1, 1), padding=(1, 1), bias=False)\n",
       "        (bn1): BatchNorm2d(128, eps=1e-05, momentum=0.1, affine=True, track_running_stats=True)\n",
       "        (relu): ReLU(inplace=True)\n",
       "        (conv2): Conv2d(128, 128, kernel_size=(3, 3), stride=(1, 1), padding=(1, 1), bias=False)\n",
       "        (bn2): BatchNorm2d(128, eps=1e-05, momentum=0.1, affine=True, track_running_stats=True)\n",
       "      )\n",
       "    )\n",
       "    (6): Sequential(\n",
       "      (0): BasicBlock(\n",
       "        (conv1): Conv2d(128, 256, kernel_size=(3, 3), stride=(2, 2), padding=(1, 1), bias=False)\n",
       "        (bn1): BatchNorm2d(256, eps=1e-05, momentum=0.1, affine=True, track_running_stats=True)\n",
       "        (relu): ReLU(inplace=True)\n",
       "        (conv2): Conv2d(256, 256, kernel_size=(3, 3), stride=(1, 1), padding=(1, 1), bias=False)\n",
       "        (bn2): BatchNorm2d(256, eps=1e-05, momentum=0.1, affine=True, track_running_stats=True)\n",
       "        (downsample): Sequential(\n",
       "          (0): Conv2d(128, 256, kernel_size=(1, 1), stride=(2, 2), bias=False)\n",
       "          (1): BatchNorm2d(256, eps=1e-05, momentum=0.1, affine=True, track_running_stats=True)\n",
       "        )\n",
       "      )\n",
       "      (1): BasicBlock(\n",
       "        (conv1): Conv2d(256, 256, kernel_size=(3, 3), stride=(1, 1), padding=(1, 1), bias=False)\n",
       "        (bn1): BatchNorm2d(256, eps=1e-05, momentum=0.1, affine=True, track_running_stats=True)\n",
       "        (relu): ReLU(inplace=True)\n",
       "        (conv2): Conv2d(256, 256, kernel_size=(3, 3), stride=(1, 1), padding=(1, 1), bias=False)\n",
       "        (bn2): BatchNorm2d(256, eps=1e-05, momentum=0.1, affine=True, track_running_stats=True)\n",
       "      )\n",
       "    )\n",
       "  )\n",
       "  (dropout_reg): Dropout(p=0.2, inplace=False)\n",
       "  (fc1_reg): Linear(in_features=19456, out_features=512, bias=True)\n",
       "  (fc2_reg): Linear(in_features=512, out_features=256, bias=True)\n",
       "  (batch_norm_reg): BatchNorm1d(512, eps=1e-05, momentum=0.1, affine=True, track_running_stats=True)\n",
       "  (fc3_reg): Linear(in_features=256, out_features=9, bias=True)\n",
       "  (dropout_line): Dropout(p=0.2, inplace=False)\n",
       "  (fc1_line): Linear(in_features=19456, out_features=512, bias=True)\n",
       "  (fc2_line): Linear(in_features=512, out_features=256, bias=True)\n",
       "  (batch_norm_line): BatchNorm1d(512, eps=1e-05, momentum=0.1, affine=True, track_running_stats=True)\n",
       "  (fc3_line): Linear(in_features=256, out_features=3, bias=True)\n",
       ")"
      ]
     },
     "execution_count": 19,
     "metadata": {},
     "output_type": "execute_result"
    }
   ],
   "source": [
    "npClassificator.load(RESULT_PATH)"
   ]
  },
  {
   "cell_type": "code",
   "execution_count": 20,
   "metadata": {},
   "outputs": [],
   "source": [
    "from nomeroff_net.data_loaders import ImgGenerator\n",
    "from sklearn.metrics import classification_report\n",
    "import torch\n",
    "\n",
    "def options_classification_report(npClassificator, \n",
    "                                  path_dir=os.path.join(PATH_TO_REG_CUSTOM_DATASET, \"test\"), \n",
    "                                  mode_torch=\"gpu\" if torch.cuda.device_count() else \"cpu\"):\n",
    "    imageGenerator = ImgGenerator(\n",
    "        path_dir,\n",
    "        npClassificator.width,\n",
    "        npClassificator.height,\n",
    "        npClassificator.batch_size,\n",
    "        [len(npClassificator.class_region), len(npClassificator.count_lines)])\n",
    "    imageGenerator.build_data()\n",
    "    gen = imageGenerator.path_generator()\n",
    "    \n",
    "    out_idx_reg_all = []\n",
    "    out_idx_line_all = []\n",
    "    label_idx_reg_all = []\n",
    "    label_idx_line_all = []\n",
    "    for i, (img_paths, inputs, labels) in enumerate(gen, 0):\n",
    "        # get the inputs; data is a list of [inputs, labels]\n",
    "        inputs = torch.from_numpy(inputs)\n",
    "        if mode_torch == \"gpu\":\n",
    "            inputs = inputs.cuda()\n",
    "            npClassificator.model.cuda()\n",
    "        with torch.no_grad():\n",
    "            outputs = npClassificator.model(inputs)\n",
    "        label_reg = torch.from_numpy(labels[0])\n",
    "        label_cnt = torch.from_numpy(labels[1])\n",
    "        if mode_torch == \"gpu\":\n",
    "            label_reg = label_reg.cuda()\n",
    "            label_cnt = label_cnt.cuda()\n",
    "        \n",
    "        out_idx_reg = torch.max(outputs[0], 1)[1].cpu().numpy()\n",
    "        out_idx_line = torch.max(outputs[1], 1)[1].cpu().numpy()\n",
    "        \n",
    "        label_idx_reg = torch.max(label_reg, 1)[1].cpu().numpy()\n",
    "        label_idx_line = torch.max(label_cnt, 1)[1].cpu().numpy()\n",
    "        \n",
    "        out_idx_reg_all.extend(out_idx_reg)\n",
    "        out_idx_line_all.extend(out_idx_line)\n",
    "        label_idx_reg_all.extend(label_idx_reg)\n",
    "        label_idx_line_all.extend(label_idx_line)\n",
    "    #print(\"npClassificator.class_region\", npClassificator.class_region)\n",
    "    print(\"\\n\\nclass region classification report:\")\n",
    "    print(classification_report(label_idx_reg_all, \n",
    "                                out_idx_reg_all, \n",
    "                                target_names=npClassificator.get_class_region_for_report()))\n",
    "    print(\"\\n\\ncount lines classification report:\")\n",
    "    print(classification_report(label_idx_line_all, \n",
    "                                out_idx_line_all, \n",
    "                                target_names=npClassificator.count_lines))"
   ]
  },
  {
   "cell_type": "code",
   "execution_count": 21,
   "metadata": {
    "scrolled": false
   },
   "outputs": [
    {
     "name": "stderr",
     "output_type": "stream",
     "text": [
      "100%|██████████| 11/11 [00:00<00:00, 14032.04it/s]"
     ]
    },
    {
     "name": "stdout",
     "output_type": "stream",
     "text": [
      "\n",
      "\n",
      "class region classification report:\n",
      "                 precision    recall  f1-score   support\n",
      "\n",
      "     eu-ua-2015       1.00      0.50      0.67         4\n",
      "     eu-ua-2004       1.00      1.00      1.00         1\n",
      "     eu-ua-1995       1.00      1.00      1.00         1\n",
      "             eu       1.00      1.00      1.00         1\n",
      "     xx-transit       1.00      1.00      1.00         1\n",
      "eu-ua-ordlo-dpr       0.00      0.00      0.00         1\n",
      "eu-ua-ordlo-lpr       0.50      1.00      0.67         1\n",
      "             ge       0.33      1.00      0.50         1\n",
      "             su       1.00      1.00      1.00         1\n",
      "\n",
      "       accuracy                           0.75        12\n",
      "      macro avg       0.76      0.83      0.76        12\n",
      "   weighted avg       0.82      0.75      0.74        12\n",
      "\n",
      "\n",
      "\n",
      "count lines classification report:\n",
      "              precision    recall  f1-score   support\n",
      "\n",
      "           1       1.00      1.00      1.00        10\n",
      "           2       1.00      1.00      1.00         1\n",
      "           3       1.00      1.00      1.00         1\n",
      "\n",
      "    accuracy                           1.00        12\n",
      "   macro avg       1.00      1.00      1.00        12\n",
      "weighted avg       1.00      1.00      1.00        12\n",
      "\n"
     ]
    },
    {
     "name": "stderr",
     "output_type": "stream",
     "text": [
      "\n"
     ]
    }
   ],
   "source": [
    "options_classification_report(npClassificator)"
   ]
  },
  {
   "cell_type": "markdown",
   "metadata": {},
   "source": [
    "# Fine-tuning regions"
   ]
  },
  {
   "cell_type": "code",
   "execution_count": 22,
   "metadata": {},
   "outputs": [],
   "source": [
    "# npClassificator.train_regions = True\n",
    "# npClassificator.train_count_lines = False\n",
    "# npClassificator.epochs = 20"
   ]
  },
  {
   "cell_type": "code",
   "execution_count": 23,
   "metadata": {},
   "outputs": [],
   "source": [
    "# npClassificator.prepare(PATH_TO_REG_CUSTOM_DATASET, verbose=1, num_workers=24)"
   ]
  },
  {
   "cell_type": "code",
   "execution_count": 24,
   "metadata": {},
   "outputs": [],
   "source": [
    "# npClassificator.load(RESULT_PATH)"
   ]
  },
  {
   "cell_type": "code",
   "execution_count": 25,
   "metadata": {},
   "outputs": [],
   "source": [
    "# # train\n",
    "# model = npClassificator.train()"
   ]
  },
  {
   "cell_type": "code",
   "execution_count": 26,
   "metadata": {},
   "outputs": [],
   "source": [
    "# npClassificator.prepare(PATH_TO_DATASET, verbose=1)\n",
    "# npClassificator.test()"
   ]
  },
  {
   "cell_type": "code",
   "execution_count": 27,
   "metadata": {},
   "outputs": [],
   "source": [
    "# npClassificator.save(RESULT_PATH)"
   ]
  },
  {
   "cell_type": "code",
   "execution_count": 28,
   "metadata": {},
   "outputs": [],
   "source": [
    "# options_classification_report(npClassificator, path_dir=os.path.join(PATH_TO_REG_CUSTOM_DATASET, \"test\"))"
   ]
  },
  {
   "cell_type": "markdown",
   "metadata": {},
   "source": [
    "# Fine-tuning regions"
   ]
  },
  {
   "cell_type": "code",
   "execution_count": 29,
   "metadata": {},
   "outputs": [],
   "source": [
    "# npClassificator.train_regions = False\n",
    "# npClassificator.train_count_lines = True\n",
    "# npClassificator.epochs = 20"
   ]
  },
  {
   "cell_type": "code",
   "execution_count": 30,
   "metadata": {},
   "outputs": [],
   "source": [
    "# npClassificator.prepare(PATH_TO_LINE_CUSTOM_DATASET, verbose=1, num_workers=24)"
   ]
  },
  {
   "cell_type": "code",
   "execution_count": 31,
   "metadata": {},
   "outputs": [],
   "source": [
    "# npClassificator.load(RESULT_PATH)"
   ]
  },
  {
   "cell_type": "code",
   "execution_count": 32,
   "metadata": {},
   "outputs": [],
   "source": [
    "# # train\n",
    "# model = npClassificator.train()"
   ]
  },
  {
   "cell_type": "code",
   "execution_count": 33,
   "metadata": {},
   "outputs": [],
   "source": [
    "# npClassificator.prepare(PATH_TO_DATASET, verbose=1)\n",
    "# npClassificator.test()"
   ]
  },
  {
   "cell_type": "code",
   "execution_count": 34,
   "metadata": {},
   "outputs": [],
   "source": [
    "# npClassificator.save(RESULT_PATH)"
   ]
  },
  {
   "cell_type": "code",
   "execution_count": 35,
   "metadata": {},
   "outputs": [],
   "source": [
    "# options_classification_report(npClassificator, path_dir=os.path.join(PATH_TO_LINE_CUSTOM_DATASET, \"test\"))"
   ]
  },
  {
   "cell_type": "markdown",
   "metadata": {},
   "source": [
    "# Check small accuracy images"
   ]
  },
  {
   "cell_type": "code",
   "execution_count": 36,
   "metadata": {},
   "outputs": [
    {
     "data": {
      "text/plain": [
       "NPOptionsNet(\n",
       "  (resnet): Sequential(\n",
       "    (0): Conv2d(3, 64, kernel_size=(7, 7), stride=(2, 2), padding=(3, 3), bias=False)\n",
       "    (1): BatchNorm2d(64, eps=1e-05, momentum=0.1, affine=True, track_running_stats=True)\n",
       "    (2): ReLU(inplace=True)\n",
       "    (3): MaxPool2d(kernel_size=3, stride=2, padding=1, dilation=1, ceil_mode=False)\n",
       "    (4): Sequential(\n",
       "      (0): BasicBlock(\n",
       "        (conv1): Conv2d(64, 64, kernel_size=(3, 3), stride=(1, 1), padding=(1, 1), bias=False)\n",
       "        (bn1): BatchNorm2d(64, eps=1e-05, momentum=0.1, affine=True, track_running_stats=True)\n",
       "        (relu): ReLU(inplace=True)\n",
       "        (conv2): Conv2d(64, 64, kernel_size=(3, 3), stride=(1, 1), padding=(1, 1), bias=False)\n",
       "        (bn2): BatchNorm2d(64, eps=1e-05, momentum=0.1, affine=True, track_running_stats=True)\n",
       "      )\n",
       "      (1): BasicBlock(\n",
       "        (conv1): Conv2d(64, 64, kernel_size=(3, 3), stride=(1, 1), padding=(1, 1), bias=False)\n",
       "        (bn1): BatchNorm2d(64, eps=1e-05, momentum=0.1, affine=True, track_running_stats=True)\n",
       "        (relu): ReLU(inplace=True)\n",
       "        (conv2): Conv2d(64, 64, kernel_size=(3, 3), stride=(1, 1), padding=(1, 1), bias=False)\n",
       "        (bn2): BatchNorm2d(64, eps=1e-05, momentum=0.1, affine=True, track_running_stats=True)\n",
       "      )\n",
       "    )\n",
       "    (5): Sequential(\n",
       "      (0): BasicBlock(\n",
       "        (conv1): Conv2d(64, 128, kernel_size=(3, 3), stride=(2, 2), padding=(1, 1), bias=False)\n",
       "        (bn1): BatchNorm2d(128, eps=1e-05, momentum=0.1, affine=True, track_running_stats=True)\n",
       "        (relu): ReLU(inplace=True)\n",
       "        (conv2): Conv2d(128, 128, kernel_size=(3, 3), stride=(1, 1), padding=(1, 1), bias=False)\n",
       "        (bn2): BatchNorm2d(128, eps=1e-05, momentum=0.1, affine=True, track_running_stats=True)\n",
       "        (downsample): Sequential(\n",
       "          (0): Conv2d(64, 128, kernel_size=(1, 1), stride=(2, 2), bias=False)\n",
       "          (1): BatchNorm2d(128, eps=1e-05, momentum=0.1, affine=True, track_running_stats=True)\n",
       "        )\n",
       "      )\n",
       "      (1): BasicBlock(\n",
       "        (conv1): Conv2d(128, 128, kernel_size=(3, 3), stride=(1, 1), padding=(1, 1), bias=False)\n",
       "        (bn1): BatchNorm2d(128, eps=1e-05, momentum=0.1, affine=True, track_running_stats=True)\n",
       "        (relu): ReLU(inplace=True)\n",
       "        (conv2): Conv2d(128, 128, kernel_size=(3, 3), stride=(1, 1), padding=(1, 1), bias=False)\n",
       "        (bn2): BatchNorm2d(128, eps=1e-05, momentum=0.1, affine=True, track_running_stats=True)\n",
       "      )\n",
       "    )\n",
       "    (6): Sequential(\n",
       "      (0): BasicBlock(\n",
       "        (conv1): Conv2d(128, 256, kernel_size=(3, 3), stride=(2, 2), padding=(1, 1), bias=False)\n",
       "        (bn1): BatchNorm2d(256, eps=1e-05, momentum=0.1, affine=True, track_running_stats=True)\n",
       "        (relu): ReLU(inplace=True)\n",
       "        (conv2): Conv2d(256, 256, kernel_size=(3, 3), stride=(1, 1), padding=(1, 1), bias=False)\n",
       "        (bn2): BatchNorm2d(256, eps=1e-05, momentum=0.1, affine=True, track_running_stats=True)\n",
       "        (downsample): Sequential(\n",
       "          (0): Conv2d(128, 256, kernel_size=(1, 1), stride=(2, 2), bias=False)\n",
       "          (1): BatchNorm2d(256, eps=1e-05, momentum=0.1, affine=True, track_running_stats=True)\n",
       "        )\n",
       "      )\n",
       "      (1): BasicBlock(\n",
       "        (conv1): Conv2d(256, 256, kernel_size=(3, 3), stride=(1, 1), padding=(1, 1), bias=False)\n",
       "        (bn1): BatchNorm2d(256, eps=1e-05, momentum=0.1, affine=True, track_running_stats=True)\n",
       "        (relu): ReLU(inplace=True)\n",
       "        (conv2): Conv2d(256, 256, kernel_size=(3, 3), stride=(1, 1), padding=(1, 1), bias=False)\n",
       "        (bn2): BatchNorm2d(256, eps=1e-05, momentum=0.1, affine=True, track_running_stats=True)\n",
       "      )\n",
       "    )\n",
       "  )\n",
       "  (dropout_reg): Dropout(p=0.2, inplace=False)\n",
       "  (fc1_reg): Linear(in_features=19456, out_features=512, bias=True)\n",
       "  (fc2_reg): Linear(in_features=512, out_features=256, bias=True)\n",
       "  (batch_norm_reg): BatchNorm1d(512, eps=1e-05, momentum=0.1, affine=True, track_running_stats=True)\n",
       "  (fc3_reg): Linear(in_features=256, out_features=9, bias=True)\n",
       "  (dropout_line): Dropout(p=0.2, inplace=False)\n",
       "  (fc1_line): Linear(in_features=19456, out_features=512, bias=True)\n",
       "  (fc2_line): Linear(in_features=512, out_features=256, bias=True)\n",
       "  (batch_norm_line): BatchNorm1d(512, eps=1e-05, momentum=0.1, affine=True, track_running_stats=True)\n",
       "  (fc3_line): Linear(in_features=256, out_features=3, bias=True)\n",
       ")"
      ]
     },
     "execution_count": 36,
     "metadata": {},
     "output_type": "execute_result"
    }
   ],
   "source": [
    "npClassificator.load(RESULT_PATH)"
   ]
  },
  {
   "cell_type": "code",
   "execution_count": 37,
   "metadata": {},
   "outputs": [],
   "source": [
    "%matplotlib inline"
   ]
  },
  {
   "cell_type": "code",
   "execution_count": 43,
   "metadata": {},
   "outputs": [],
   "source": [
    "from nomeroff_net.data_loaders import ImgGenerator\n",
    "import torch\n",
    "import json\n",
    "import cv2\n",
    "import matplotlib.pyplot as plt\n",
    "\n",
    "def show_img(img_path):\n",
    "    img = cv2.imread(img_path)\n",
    "    img = img[..., ::-1]\n",
    "    plt.imshow(img)\n",
    "    plt.show()\n",
    "\n",
    "def mark_for_moderation(p):\n",
    "    json_filepath = p.replace('/img/','/ann/').replace('.png','.json')\n",
    "    item_data = json.load(open(json_filepath, 'r'))\n",
    "    if not item_data['moderation']:\n",
    "        item_data['moderation'] = { \"moderatedBy\": \"dimabendera\" }\n",
    "    item_data['moderation'][\"isModerated\"] = 0\n",
    "    with open(json_filepath, \"w\") as json_file:\n",
    "        json.dump(item_data, json_file)\n",
    "    \n",
    "    \n",
    "def small_acc(npClassificator, \n",
    "              path_dir=os.path.join(PATH_TO_REG_CUSTOM_DATASET, \"test\"), \n",
    "              mode_torch=\"gpu\" if torch.cuda.device_count() else \"cpu\", \n",
    "              min_acc=0.75):\n",
    "    imageGenerator = ImgGenerator(\n",
    "        path_dir,\n",
    "        npClassificator.width,\n",
    "        npClassificator.height,\n",
    "        npClassificator.batch_size,\n",
    "        [len(npClassificator.class_region), len(npClassificator.count_lines)])\n",
    "    print(\"start imageGenerator build\")\n",
    "    imageGenerator.build_data()\n",
    "    print(\"end imageGenerator build\")\n",
    "    gen = imageGenerator.path_generator()\n",
    "\n",
    "# (npClassificator, \n",
    "#               path_dir=os.path.join(PATH_TO_DATASET, \"test\"), \n",
    "#               mode_torch=\"gpu\", \n",
    "#               min_acc=0.75):\n",
    "#     imageGenerator = ImgGenerator(\n",
    "#         path_dir,\n",
    "#         npClassificator.width,\n",
    "#         npClassificator.height,\n",
    "#         npClassificator.batch_size,\n",
    "#         [len(npClassificator.class_region), len(npClassificator.count_lines)])\n",
    "#     print(\"start imageGenerator build\")\n",
    "#     imageGenerator.build_data()\n",
    "#     print(\"end imageGenerator build\")\n",
    "#     gen = imageGenerator.path_generator()\n",
    "    cnt = 0\n",
    "    cnt_all = 0\n",
    "    for i, (img_paths, inputs, labels) in enumerate(gen, 0):\n",
    "        # get the inputs; data is a list of [inputs, labels]\n",
    "        inputs = torch.from_numpy(inputs)\n",
    "        if mode_torch == \"gpu\":\n",
    "            inputs = inputs.cuda()\n",
    "        outputs = npClassificator.model(inputs)\n",
    "        label_reg = torch.from_numpy(labels[0])\n",
    "        label_cnt = torch.from_numpy(labels[1])\n",
    "        if mode_torch == \"gpu\":\n",
    "            label_reg = label_reg.cuda()\n",
    "            label_cnt = label_cnt.cuda()\n",
    "        out_idx_reg = torch.max(outputs[0], 1)[1].cpu().numpy()\n",
    "        out_idx_line = torch.max(outputs[1], 1)[1].cpu().numpy()\n",
    "        \n",
    "        label_idx_reg = torch.max(label_reg, 1)[1].cpu().numpy()\n",
    "        label_idx_line = torch.max(label_cnt, 1)[1].cpu().numpy()\n",
    "        \n",
    "        cnt_all += 1\n",
    "        # check reg\n",
    "        for o, l, p, tens in zip(out_idx_reg, label_idx_reg, img_paths, outputs[0]):\n",
    "            if o != l:\n",
    "                print(\"[WRONG REGION PREDICTED] pred {}[{}] -> {}[{}] source: {}\".format(o,npClassificator.class_region[o], l, npClassificator.class_region[l], p))\n",
    "                #mark_for_moderation(p)\n",
    "                show_img(p)\n",
    "                cnt += 1\n",
    "    print(\"Wrong detection: {} numberplates of {}\".format(cnt, cnt_all))\n",
    "#             elif tens[l] < min_acc:\n",
    "#                 print(\"[SMALL ACC REGION PREDICTED]  pred\", o, l, tens[l], p)\n",
    "#                 show_img(p)\n",
    "        # check line\n",
    "#         for o, l, p, tens in zip(out_idx_line, label_idx_line, img_paths, outputs[1]):\n",
    "#             if o != l:\n",
    "#                 print(\"[WRONG LINE PREDICTED]  pred\", o, l, p)\n",
    "#                 show_img(p)\n",
    "#             elif tens[l] < min_acc:\n",
    "#                 print(\"[SMALL ACC LINE PREDICTED]  pred\", o, l, tens[l], p)\n",
    "#                 show_img(p)\n",
    "    "
   ]
  },
  {
   "cell_type": "code",
   "execution_count": 44,
   "metadata": {},
   "outputs": [
    {
     "name": "stderr",
     "output_type": "stream",
     "text": [
      "100%|██████████| 11/11 [00:00<00:00, 2689.13it/s]"
     ]
    },
    {
     "name": "stdout",
     "output_type": "stream",
     "text": [
      "start imageGenerator build\n",
      "end imageGenerator build\n",
      "[WRONG REGION PREDICTED] pred 7[ge] -> 0[eu-ua-2015] source: /mnt/data/var/www/nomeroff-net/./data/dataset/OptionsDetector/numberplate_options_example_custom_reg/test/img/eu-ua-2015.png\n"
     ]
    },
    {
     "name": "stderr",
     "output_type": "stream",
     "text": [
      "\n"
     ]
    },
    {
     "data": {
      "image/png": "[encoded data removed]",
      "text/plain": [
       "<Figure size 432x288 with 1 Axes>"
      ]
     },
     "metadata": {
      "needs_background": "light"
     },
     "output_type": "display_data"
    },
    {
     "name": "stdout",
     "output_type": "stream",
     "text": [
      "[WRONG REGION PREDICTED] pred 7[ge] -> 0[eu-ua-2015] source: /mnt/data/var/www/nomeroff-net/./data/dataset/OptionsDetector/numberplate_options_example_custom_reg/test/img/eu-ua-2015.png\n"
     ]
    },
    {
     "data": {
      "image/png": "[encoded data removed]",
      "text/plain": [
       "<Figure size 432x288 with 1 Axes>"
      ]
     },
     "metadata": {
      "needs_background": "light"
     },
     "output_type": "display_data"
    },
    {
     "name": "stdout",
     "output_type": "stream",
     "text": [
      "[WRONG REGION PREDICTED] pred 6[eu-ua-ordlo-lpr] -> 5[eu-ua-ordlo-dpr] source: /mnt/data/var/www/nomeroff-net/./data/dataset/OptionsDetector/numberplate_options_example_custom_reg/test/img/eu-ua-ordlo-dpr.png\n"
     ]
    },
    {
     "data": {
      "image/png": "[encoded data removed]",
      "text/plain": [
       "<Figure size 432x288 with 1 Axes>"
      ]
     },
     "metadata": {
      "needs_background": "light"
     },
     "output_type": "display_data"
    },
    {
     "name": "stdout",
     "output_type": "stream",
     "text": [
      "Wrong detection: 3 numberplates of 6\n"
     ]
    }
   ],
   "source": [
    "small_acc(npClassificator, os.path.join(PATH_TO_REG_CUSTOM_DATASET, \"test\"))"
   ]
  },
  {
   "cell_type": "code",
   "execution_count": 41,
   "metadata": {},
   "outputs": [],
   "source": [
    "#small_acc(npClassificator, os.path.join(PATH_TO_TMP_CUSTOM_DATASET, \"train\"))"
   ]
  },
  {
   "cell_type": "code",
   "execution_count": 42,
   "metadata": {},
   "outputs": [],
   "source": [
    "#small_acc(npClassificator, os.path.join(PATH_TO_TMP_CUSTOM_DATASET, \"val\"))"
   ]
  },
  {
   "cell_type": "code",
   "execution_count": null,
   "metadata": {},
   "outputs": [],
   "source": []
  }
 ],
 "metadata": {
  "kernelspec": {
   "display_name": "Python 3",
   "language": "python",
   "name": "python3"
  },
  "language_info": {
   "codemirror_mode": {
    "name": "ipython",
    "version": 3
   },
   "file_extension": ".py",
   "mimetype": "text/x-python",
   "name": "python",
   "nbconvert_exporter": "python",
   "pygments_lexer": "ipython3",
   "version": "3.8.7"
  }
 },
 "nbformat": 4,
 "nbformat_minor": 2
}