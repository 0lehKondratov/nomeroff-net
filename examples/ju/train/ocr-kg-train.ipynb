{
 "cells": [
  {
   "cell_type": "markdown",
   "metadata": {},
   "source": [
    "# Train OCR text Detector quick example"
   ]
  },
  {
   "cell_type": "code",
   "execution_count": 1,
   "metadata": {},
   "outputs": [],
   "source": [
    "import os\n",
    "import sys\n",
    "import torch\n",
    "import warnings\n",
    "from datetime import datetime\n",
    "from matplotlib import pyplot as plt\n",
    "warnings.filterwarnings('ignore')\n",
    "\n",
    "# change this property\n",
    "NOMEROFF_NET_DIR = os.path.abspath('../../../')\n",
    "sys.path.append(NOMEROFF_NET_DIR)\n",
    "\n",
    "from nomeroff_net.text_detectors.base.ocr import OCR"
   ]
  },
  {
   "cell_type": "code",
   "execution_count": 2,
   "metadata": {},
   "outputs": [],
   "source": [
    "plt.rcParams[\"figure.figsize\"] = (10, 10)"
   ]
  },
  {
   "cell_type": "code",
   "execution_count": 3,
   "metadata": {},
   "outputs": [],
   "source": [
    "%matplotlib inline "
   ]
  },
  {
   "cell_type": "code",
   "execution_count": 4,
   "metadata": {},
   "outputs": [],
   "source": [
    "# auto download latest dataset\n",
    "from nomeroff_net.tools import modelhub\n",
    "\n",
    "# auto download latest dataset\n",
    "#info = modelhub.download_dataset_for_model(\"Kg\")\n",
    "#PATH_TO_DATASET = info[\"dataset_path\"]\n",
    "\n",
    "# local path dataset\n",
    "PATH_TO_DATASET = os.path.join(NOMEROFF_NET_DIR, \"./data/dataset/TextDetector/ocr_example\")"
   ]
  },
  {
   "cell_type": "code",
   "execution_count": 5,
   "metadata": {},
   "outputs": [
    {
     "data": {
      "text/plain": [
       "'/mnt/data/var/www/nomeroff-net/./data/dataset/TextDetector/ocr_example'"
      ]
     },
     "execution_count": 5,
     "metadata": {},
     "output_type": "execute_result"
    }
   ],
   "source": [
    "PATH_TO_DATASET"
   ]
  },
  {
   "cell_type": "code",
   "execution_count": 6,
   "metadata": {},
   "outputs": [],
   "source": [
    "DATASET_NAME = \"kg\"\n",
    "VERSION = f\"{datetime.now().strftime('%Y_%m_%d')}_pytorch_lightning\"\n",
    "\n",
    "RESULT_MODEL_PATH = os.path.join(NOMEROFF_NET_DIR, \n",
    "                                 \"models/\", \n",
    "                                 'anpr_ocr_{}_{}.ckpt'.format(DATASET_NAME, VERSION))"
   ]
  },
  {
   "cell_type": "code",
   "execution_count": 7,
   "metadata": {},
   "outputs": [
    {
     "data": {
      "text/plain": [
       "'/mnt/data/var/www/nomeroff-net/models/anpr_ocr_kg_2022_03_24_pytorch_lightning.ckpt'"
      ]
     },
     "execution_count": 7,
     "metadata": {},
     "output_type": "execute_result"
    }
   ],
   "source": [
    "RESULT_MODEL_PATH"
   ]
  },
  {
   "cell_type": "code",
   "execution_count": 8,
   "metadata": {},
   "outputs": [],
   "source": [
    "class kg(OCR):\n",
    "    def __init__(self):\n",
    "        OCR.__init__(self)\n",
    "        # only for usage model\n",
    "        # in train generate automaticly\n",
    "        self.letters = [\"0\", \"1\", \"2\", \"3\", \"4\", \"5\", \"6\", \"7\", \"8\", \"9\",\n",
    "                        \"A\", \"B\", \"C\", \"D\", \"E\", \"F\", \"G\", \"H\", \"I\", \"J\",\n",
    "                        \"K\", \"L\", \"M\", \"N\", \"O\", \"P\", \"Q\", \"R\", \"S\", \"T\",\n",
    "                        \"U\", \"V\", \"W\", \"X\", \"Y\", \"Z\"]\n",
    "\n",
    "        # Train hyperparameters\n",
    "        self.batch_size = 4\n",
    "        self.epochs = 5\n",
    "        self.gpus = torch.cuda.device_count()"
   ]
  },
  {
   "cell_type": "code",
   "execution_count": 9,
   "metadata": {},
   "outputs": [
    {
     "name": "stderr",
     "output_type": "stream",
     "text": [
      "100%|██████████| 4/4 [00:00<00:00, 6702.84it/s]"
     ]
    },
    {
     "name": "stdout",
     "output_type": "stream",
     "text": [
      "GET ALPHABET\n",
      "Max plate length in \"val\": 9\n",
      "Max plate length in \"train\": 9\n",
      "Max plate length in \"test\": 9\n",
      "Letters train  {'3', '4', ' ', '0', 'H', '9', 'M', '7', 'B', 'C', 'S', '1', 'K', '8', '-', '6', '2', 'X', 'A'}\n",
      "Letters val  {'3', '4', ' ', '0', 'H', '9', 'M', '7', 'B', 'C', 'S', '1', 'K', '8', '-', '6', '2', 'X', 'A'}\n",
      "Letters test  {'3', '4', ' ', '0', 'H', '9', 'M', '7', 'B', 'C', 'S', '1', 'K', '8', '-', '6', '2', 'X', 'A'}\n",
      "Max plate length in train, test and val do match\n",
      "Letters in train, val and test do match\n",
      "Letters:   - 0 1 2 3 4 6 7 8 9 A B C H K M S X\n",
      "START BUILD DATA\n"
     ]
    },
    {
     "name": "stderr",
     "output_type": "stream",
     "text": [
      "\n",
      "100%|██████████| 4/4 [00:00<00:00, 8481.91it/s]\n",
      "100%|██████████| 4/4 [00:00<00:00, 2524.03it/s]"
     ]
    },
    {
     "name": "stdout",
     "output_type": "stream",
     "text": [
      "DATA PREPARED\n"
     ]
    },
    {
     "name": "stderr",
     "output_type": "stream",
     "text": [
      "\n"
     ]
    }
   ],
   "source": [
    "ocrTextDetector = kg()\n",
    "model = ocrTextDetector.prepare(PATH_TO_DATASET, use_aug=False, num_workers=24)"
   ]
  },
  {
   "cell_type": "code",
   "execution_count": 11,
   "metadata": {
    "scrolled": false
   },
   "outputs": [
    {
     "data": {
      "application/vnd.jupyter.widget-view+json": {
       "model_id": "907c09e7f10d4572acadbcaa4564c4ea",
       "version_major": 2,
       "version_minor": 0
      },
      "text/plain": [
       "HBox(children=(FloatProgress(value=0.0, description='Finding best initial lr', max=1.0, style=ProgressStyle(de…"
      ]
     },
     "metadata": {},
     "output_type": "display_data"
    },
    {
     "name": "stderr",
     "output_type": "stream",
     "text": [
      "2022-03-24 17:19:38,432 [1554948] ERROR    pytorch_lightning.tuner.lr_finder:181: [JupyterRequire] Failed to compute suggesting for `lr`. There might not be enough points.\n",
      "Traceback (most recent call last):\n",
      "  File \"/usr/local/lib/python3.8/site-packages/pytorch_lightning/tuner/lr_finder.py\", line 176, in suggestion\n",
      "    min_grad = np.gradient(loss).argmin()\n",
      "  File \"<__array_function__ internals>\", line 5, in gradient\n",
      "  File \"/usr/local/lib64/python3.8/site-packages/numpy/lib/function_base.py\", line 1041, in gradient\n",
      "    raise ValueError(\n",
      "ValueError: Shape of array too small to calculate a numerical gradient, at least (edge_order + 1) elements are required.\n",
      "2022-03-24 17:19:38,453 [1554948] ERROR    pytorch_lightning.tuner.lr_finder:181: [JupyterRequire] Failed to compute suggesting for `lr`. There might not be enough points.\n",
      "Traceback (most recent call last):\n",
      "  File \"/usr/local/lib/python3.8/site-packages/pytorch_lightning/tuner/lr_finder.py\", line 176, in suggestion\n",
      "    min_grad = np.gradient(loss).argmin()\n",
      "  File \"<__array_function__ internals>\", line 5, in gradient\n",
      "  File \"/usr/local/lib64/python3.8/site-packages/numpy/lib/function_base.py\", line 1041, in gradient\n",
      "    raise ValueError(\n",
      "ValueError: Shape of array too small to calculate a numerical gradient, at least (edge_order + 1) elements are required.\n"
     ]
    },
    {
     "name": "stdout",
     "output_type": "stream",
     "text": [
      "Found lr: None\n",
      "\n"
     ]
    },
    {
     "data": {
      "image/png": "[encoded data removed]",
      "text/plain": [
       "<Figure size 432x288 with 1 Axes>"
      ]
     },
     "metadata": {
      "needs_background": "light"
     },
     "output_type": "display_data"
    }
   ],
   "source": [
    "# tune\n",
    "lr_finder = ocrTextDetector.tune()\n",
    "\n",
    "# Plot with\n",
    "fig = lr_finder.plot(suggest=True)\n",
    "fig.show()"
   ]
  },
  {
   "cell_type": "code",
   "execution_count": 12,
   "metadata": {
    "scrolled": true
   },
   "outputs": [
    {
     "name": "stderr",
     "output_type": "stream",
     "text": [
      "2022-03-24 17:19:41,293 [1554948] WARNING  py.warnings:109: [JupyterRequire] /usr/local/lib/python3.8/site-packages/pytorch_lightning/trainer/connectors/callback_connector.py:167: LightningDeprecationWarning: Setting `Trainer(weights_summary=None)` is deprecated in v1.5 and will be removed in v1.7. Please set `Trainer(enable_model_summary=False)` instead.\n",
      "  rank_zero_deprecation(\n",
      "\n",
      "2022-03-24 17:19:41,299 [1554948] WARNING  py.warnings:109: [JupyterRequire] /usr/local/lib/python3.8/site-packages/pytorch_lightning/core/datamodule.py:469: LightningDeprecationWarning: DataModule.setup has already been called, so it will not be called again. In v1.6 this behavior will change to always call DataModule.setup.\n",
      "  rank_zero_deprecation(\n",
      "\n"
     ]
    },
    {
     "data": {
      "application/vnd.jupyter.widget-view+json": {
       "model_id": "",
       "version_major": 2,
       "version_minor": 0
      },
      "text/plain": [
       "HBox(children=(FloatProgress(value=1.0, bar_style='info', description='Validation sanity check', layout=Layout…"
      ]
     },
     "metadata": {},
     "output_type": "display_data"
    },
    {
     "data": {
      "application/vnd.jupyter.widget-view+json": {
       "model_id": "652865c735044fbd824ecd3d8cf41802",
       "version_major": 2,
       "version_minor": 0
      },
      "text/plain": [
       "HBox(children=(FloatProgress(value=1.0, bar_style='info', description='Training', layout=Layout(flex='2'), max…"
      ]
     },
     "metadata": {},
     "output_type": "display_data"
    },
    {
     "data": {
      "application/vnd.jupyter.widget-view+json": {
       "model_id": "",
       "version_major": 2,
       "version_minor": 0
      },
      "text/plain": [
       "HBox(children=(FloatProgress(value=1.0, bar_style='info', description='Validating', layout=Layout(flex='2'), m…"
      ]
     },
     "metadata": {},
     "output_type": "display_data"
    },
    {
     "data": {
      "application/vnd.jupyter.widget-view+json": {
       "model_id": "",
       "version_major": 2,
       "version_minor": 0
      },
      "text/plain": [
       "HBox(children=(FloatProgress(value=1.0, bar_style='info', description='Validating', layout=Layout(flex='2'), m…"
      ]
     },
     "metadata": {},
     "output_type": "display_data"
    },
    {
     "data": {
      "application/vnd.jupyter.widget-view+json": {
       "model_id": "",
       "version_major": 2,
       "version_minor": 0
      },
      "text/plain": [
       "HBox(children=(FloatProgress(value=1.0, bar_style='info', description='Validating', layout=Layout(flex='2'), m…"
      ]
     },
     "metadata": {},
     "output_type": "display_data"
    },
    {
     "data": {
      "application/vnd.jupyter.widget-view+json": {
       "model_id": "",
       "version_major": 2,
       "version_minor": 0
      },
      "text/plain": [
       "HBox(children=(FloatProgress(value=1.0, bar_style='info', description='Validating', layout=Layout(flex='2'), m…"
      ]
     },
     "metadata": {},
     "output_type": "display_data"
    },
    {
     "data": {
      "application/vnd.jupyter.widget-view+json": {
       "model_id": "",
       "version_major": 2,
       "version_minor": 0
      },
      "text/plain": [
       "HBox(children=(FloatProgress(value=1.0, bar_style='info', description='Validating', layout=Layout(flex='2'), m…"
      ]
     },
     "metadata": {},
     "output_type": "display_data"
    },
    {
     "name": "stderr",
     "output_type": "stream",
     "text": [
      "2022-03-24 17:19:46,847 [1554948] WARNING  py.warnings:109: [JupyterRequire] /usr/local/lib/python3.8/site-packages/pytorch_lightning/core/datamodule.py:469: LightningDeprecationWarning: DataModule.teardown has already been called, so it will not be called again. In v1.6 this behavior will change to always call DataModule.teardown.\n",
      "  rank_zero_deprecation(\n",
      "\n"
     ]
    },
    {
     "name": "stdout",
     "output_type": "stream",
     "text": [
      "\n",
      "[INFO] best model path /mnt/data/var/www/nomeroff-net/nomeroff_net/text_detectors/data/logs/ocr/epoch=4-step=4-v89.ckpt\n"
     ]
    },
    {
     "data": {
      "text/plain": [
       "NPOcrNet(\n",
       "  (cnn): BlockCNN(\n",
       "    (conv): Conv2d(256, 256, kernel_size=(3, 3), stride=(1,), padding=(1, 1))\n",
       "    (bn): BatchNorm2d(256, eps=1e-05, momentum=0.1, affine=True, track_running_stats=True)\n",
       "  )\n",
       "  (linear1): Linear(in_features=1024, out_features=512, bias=True)\n",
       "  (gru1): BlockRNN(\n",
       "    (gru): LSTM(512, 32, batch_first=True, bidirectional=True)\n",
       "  )\n",
       "  (gru2): BlockRNN(\n",
       "    (gru): LSTM(32, 32, batch_first=True, bidirectional=True)\n",
       "  )\n",
       "  (linear2): Linear(in_features=64, out_features=20, bias=True)\n",
       "  (criterion): CTCLoss()\n",
       ")"
      ]
     },
     "execution_count": 12,
     "metadata": {},
     "output_type": "execute_result"
    }
   ],
   "source": [
    "ocrTextDetector.train()"
   ]
  },
  {
   "cell_type": "code",
   "execution_count": 13,
   "metadata": {},
   "outputs": [
    {
     "name": "stdout",
     "output_type": "stream",
     "text": [
      "model save to /mnt/data/var/www/nomeroff-net/models/anpr_ocr_kg_2022_03_24_pytorch_lightning.ckpt\n"
     ]
    }
   ],
   "source": [
    "ocrTextDetector.save(RESULT_MODEL_PATH)"
   ]
  },
  {
   "cell_type": "code",
   "execution_count": 14,
   "metadata": {
    "scrolled": true
   },
   "outputs": [
    {
     "data": {
      "text/plain": [
       "NPOcrNet(\n",
       "  (cnn): BlockCNN(\n",
       "    (conv): Conv2d(256, 256, kernel_size=(3, 3), stride=(1,), padding=(1, 1))\n",
       "    (bn): BatchNorm2d(256, eps=1e-05, momentum=0.1, affine=True, track_running_stats=True)\n",
       "  )\n",
       "  (linear1): Linear(in_features=1024, out_features=512, bias=True)\n",
       "  (gru1): BlockRNN(\n",
       "    (gru): LSTM(512, 32, batch_first=True, bidirectional=True)\n",
       "  )\n",
       "  (gru2): BlockRNN(\n",
       "    (gru): LSTM(32, 32, batch_first=True, bidirectional=True)\n",
       "  )\n",
       "  (linear2): Linear(in_features=64, out_features=20, bias=True)\n",
       ")"
      ]
     },
     "execution_count": 14,
     "metadata": {},
     "output_type": "execute_result"
    }
   ],
   "source": [
    "ocrTextDetector.load(RESULT_MODEL_PATH)"
   ]
  },
  {
   "cell_type": "code",
   "execution_count": 15,
   "metadata": {
    "scrolled": true
   },
   "outputs": [
    {
     "name": "stdout",
     "output_type": "stream",
     "text": [
      "\n",
      "[INFO] /mnt/data/var/www/nomeroff-net/./data/dataset/TextDetector/ocr_example/test/img/AA0013BM.png\n",
      "Predicted:  \t\t\t True: aa0013bm\n",
      "\n",
      "[INFO] /mnt/data/var/www/nomeroff-net/./data/dataset/TextDetector/ocr_example/test/img/0038SC-0.png\n",
      "Predicted:  \t\t\t True: 0038sc\n",
      "\n",
      "[INFO] /mnt/data/var/www/nomeroff-net/./data/dataset/TextDetector/ocr_example/test/img/10001_2914KC7_0.png\n",
      "Predicted:  \t\t\t True: 2914 kc-7\n",
      "\n",
      "[INFO] /mnt/data/var/www/nomeroff-net/./data/dataset/TextDetector/ocr_example/test/img/1000_X371HK96_0.png\n",
      "Predicted:  \t\t\t True: x371hk96\n",
      "Testing Accuracy:  0.0\n"
     ]
    },
    {
     "data": {
      "text/plain": [
       "0.0"
      ]
     },
     "execution_count": 15,
     "metadata": {},
     "output_type": "execute_result"
    }
   ],
   "source": [
    "ocrTextDetector.test_acc(verbose=True)"
   ]
  },
  {
   "cell_type": "code",
   "execution_count": null,
   "metadata": {},
   "outputs": [],
   "source": [
    "#ocrTextDetector.val_acc(verbose=False)\n",
    "#ocrTextDetector.train_acc(verbose=False)"
   ]
  },
  {
   "cell_type": "markdown",
   "metadata": {},
   "source": [
    "## than train with augumentation"
   ]
  },
  {
   "cell_type": "code",
   "execution_count": 16,
   "metadata": {},
   "outputs": [],
   "source": [
    "class kg(OCR):\n",
    "    def __init__(self):\n",
    "        OCR.__init__(self)\n",
    "        # only for usage model\n",
    "        # in train generate automaticly\n",
    "        self.letters = [\"0\", \"1\", \"2\", \"3\", \"4\", \"5\", \"6\", \"7\", \"8\", \"9\",\n",
    "                        \"A\", \"B\", \"C\", \"D\", \"E\", \"F\", \"G\", \"H\", \"I\", \"J\",\n",
    "                        \"K\", \"L\", \"M\", \"N\", \"O\", \"P\", \"Q\", \"R\", \"S\", \"T\",\n",
    "                        \"U\", \"V\", \"W\", \"X\", \"Y\", \"Z\"]\n",
    "        \n",
    "        # Train hyperparameters\n",
    "        self.batch_size = 4\n",
    "        self.epochs = 5\n",
    "        self.gpus = torch.cuda.device_count()"
   ]
  },
  {
   "cell_type": "code",
   "execution_count": 17,
   "metadata": {},
   "outputs": [
    {
     "name": "stdout",
     "output_type": "stream",
     "text": [
      "GET ALPHABET\n",
      "Max plate length in \"val\": 9\n",
      "Max plate length in \"train\": 9\n",
      "Max plate length in \"test\": 9\n",
      "Letters train  {'3', '4', ' ', '0', 'H', '9', 'M', '7', 'B', 'C', 'S', '1', 'K', '8', '-', '6', '2', 'X', 'A'}\n",
      "Letters val  {'3', '4', ' ', '0', 'H', '9', 'M', '7', 'B', 'C', 'S', '1', 'K', '8', '-', '6', '2', 'X', 'A'}\n",
      "Letters test  {'3', '4', ' ', '0', 'H', '9', 'M', '7', 'B', 'C', 'S', '1', 'K', '8', '-', '6', '2', 'X', 'A'}\n",
      "Max plate length in train, test and val do match\n",
      "Letters in train, val and test do match\n",
      "Letters:   - 0 1 2 3 4 6 7 8 9 A B C H K M S X\n",
      "START BUILD DATA\n"
     ]
    },
    {
     "name": "stderr",
     "output_type": "stream",
     "text": [
      "100%|██████████| 4/4 [00:00<00:00, 619.18it/s]\n",
      "100%|██████████| 4/4 [00:00<00:00, 8297.34it/s]\n",
      "100%|██████████| 4/4 [00:00<00:00, 6978.88it/s]"
     ]
    },
    {
     "name": "stdout",
     "output_type": "stream",
     "text": [
      "DATA PREPARED\n"
     ]
    },
    {
     "name": "stderr",
     "output_type": "stream",
     "text": [
      "\n"
     ]
    }
   ],
   "source": [
    "ocrTextDetector = kg()\n",
    "model = ocrTextDetector.prepare(PATH_TO_DATASET, use_aug=True, num_workers=24)"
   ]
  },
  {
   "cell_type": "code",
   "execution_count": 18,
   "metadata": {},
   "outputs": [
    {
     "data": {
      "text/plain": [
       "NPOcrNet(\n",
       "  (cnn): BlockCNN(\n",
       "    (conv): Conv2d(256, 256, kernel_size=(3, 3), stride=(1,), padding=(1, 1))\n",
       "    (bn): BatchNorm2d(256, eps=1e-05, momentum=0.1, affine=True, track_running_stats=True)\n",
       "  )\n",
       "  (linear1): Linear(in_features=1024, out_features=512, bias=True)\n",
       "  (gru1): BlockRNN(\n",
       "    (gru): LSTM(512, 32, batch_first=True, bidirectional=True)\n",
       "  )\n",
       "  (gru2): BlockRNN(\n",
       "    (gru): LSTM(32, 32, batch_first=True, bidirectional=True)\n",
       "  )\n",
       "  (linear2): Linear(in_features=64, out_features=20, bias=True)\n",
       ")"
      ]
     },
     "execution_count": 18,
     "metadata": {},
     "output_type": "execute_result"
    }
   ],
   "source": [
    "ocrTextDetector.load(RESULT_MODEL_PATH)"
   ]
  },
  {
   "cell_type": "code",
   "execution_count": 19,
   "metadata": {},
   "outputs": [
    {
     "data": {
      "application/vnd.jupyter.widget-view+json": {
       "model_id": "37a5c494be36415dbdcc61c4580533bd",
       "version_major": 2,
       "version_minor": 0
      },
      "text/plain": [
       "HBox(children=(FloatProgress(value=0.0, description='Finding best initial lr', max=1.0, style=ProgressStyle(de…"
      ]
     },
     "metadata": {},
     "output_type": "display_data"
    },
    {
     "name": "stderr",
     "output_type": "stream",
     "text": [
      "2022-03-24 17:20:21,196 [1554948] ERROR    pytorch_lightning.tuner.lr_finder:181: [JupyterRequire] Failed to compute suggesting for `lr`. There might not be enough points.\n",
      "Traceback (most recent call last):\n",
      "  File \"/usr/local/lib/python3.8/site-packages/pytorch_lightning/tuner/lr_finder.py\", line 176, in suggestion\n",
      "    min_grad = np.gradient(loss).argmin()\n",
      "  File \"<__array_function__ internals>\", line 5, in gradient\n",
      "  File \"/usr/local/lib64/python3.8/site-packages/numpy/lib/function_base.py\", line 1041, in gradient\n",
      "    raise ValueError(\n",
      "ValueError: Shape of array too small to calculate a numerical gradient, at least (edge_order + 1) elements are required.\n",
      "2022-03-24 17:20:21,216 [1554948] ERROR    pytorch_lightning.tuner.lr_finder:181: [JupyterRequire] Failed to compute suggesting for `lr`. There might not be enough points.\n",
      "Traceback (most recent call last):\n",
      "  File \"/usr/local/lib/python3.8/site-packages/pytorch_lightning/tuner/lr_finder.py\", line 176, in suggestion\n",
      "    min_grad = np.gradient(loss).argmin()\n",
      "  File \"<__array_function__ internals>\", line 5, in gradient\n",
      "  File \"/usr/local/lib64/python3.8/site-packages/numpy/lib/function_base.py\", line 1041, in gradient\n",
      "    raise ValueError(\n",
      "ValueError: Shape of array too small to calculate a numerical gradient, at least (edge_order + 1) elements are required.\n"
     ]
    },
    {
     "name": "stdout",
     "output_type": "stream",
     "text": [
      "Found lr: None\n",
      "\n"
     ]
    },
    {
     "data": {
      "application/vnd.jupyter.widget-view+json": {
       "model_id": "",
       "version_major": 2,
       "version_minor": 0
      },
      "text/plain": [
       "HBox(children=(FloatProgress(value=1.0, bar_style='info', description='Validation sanity check', layout=Layout…"
      ]
     },
     "metadata": {},
     "output_type": "display_data"
    },
    {
     "data": {
      "application/vnd.jupyter.widget-view+json": {
       "model_id": "a3c5f8f148004c959c00ddc4f0f5d3fa",
       "version_major": 2,
       "version_minor": 0
      },
      "text/plain": [
       "HBox(children=(FloatProgress(value=1.0, bar_style='info', description='Training', layout=Layout(flex='2'), max…"
      ]
     },
     "metadata": {},
     "output_type": "display_data"
    },
    {
     "data": {
      "application/vnd.jupyter.widget-view+json": {
       "model_id": "",
       "version_major": 2,
       "version_minor": 0
      },
      "text/plain": [
       "HBox(children=(FloatProgress(value=1.0, bar_style='info', description='Validating', layout=Layout(flex='2'), m…"
      ]
     },
     "metadata": {},
     "output_type": "display_data"
    },
    {
     "data": {
      "application/vnd.jupyter.widget-view+json": {
       "model_id": "",
       "version_major": 2,
       "version_minor": 0
      },
      "text/plain": [
       "HBox(children=(FloatProgress(value=1.0, bar_style='info', description='Validating', layout=Layout(flex='2'), m…"
      ]
     },
     "metadata": {},
     "output_type": "display_data"
    },
    {
     "data": {
      "application/vnd.jupyter.widget-view+json": {
       "model_id": "",
       "version_major": 2,
       "version_minor": 0
      },
      "text/plain": [
       "HBox(children=(FloatProgress(value=1.0, bar_style='info', description='Validating', layout=Layout(flex='2'), m…"
      ]
     },
     "metadata": {},
     "output_type": "display_data"
    },
    {
     "data": {
      "application/vnd.jupyter.widget-view+json": {
       "model_id": "",
       "version_major": 2,
       "version_minor": 0
      },
      "text/plain": [
       "HBox(children=(FloatProgress(value=1.0, bar_style='info', description='Validating', layout=Layout(flex='2'), m…"
      ]
     },
     "metadata": {},
     "output_type": "display_data"
    },
    {
     "data": {
      "application/vnd.jupyter.widget-view+json": {
       "model_id": "",
       "version_major": 2,
       "version_minor": 0
      },
      "text/plain": [
       "HBox(children=(FloatProgress(value=1.0, bar_style='info', description='Validating', layout=Layout(flex='2'), m…"
      ]
     },
     "metadata": {},
     "output_type": "display_data"
    },
    {
     "name": "stdout",
     "output_type": "stream",
     "text": [
      "\n",
      "[INFO] best model path /mnt/data/var/www/nomeroff-net/nomeroff_net/text_detectors/data/logs/ocr/epoch=4-step=4-v90.ckpt\n",
      "\n",
      "[INFO] /mnt/data/var/www/nomeroff-net/./data/dataset/TextDetector/ocr_example/test/img/AA0013BM.png\n",
      "Predicted:  \t\t\t True: aa0013bm\n",
      "\n",
      "[INFO] /mnt/data/var/www/nomeroff-net/./data/dataset/TextDetector/ocr_example/test/img/0038SC-0.png\n",
      "Predicted:  \t\t\t True: 0038sc\n",
      "\n",
      "[INFO] /mnt/data/var/www/nomeroff-net/./data/dataset/TextDetector/ocr_example/test/img/10001_2914KC7_0.png\n",
      "Predicted:  \t\t\t True: 2914 kc-7\n",
      "\n",
      "[INFO] /mnt/data/var/www/nomeroff-net/./data/dataset/TextDetector/ocr_example/test/img/1000_X371HK96_0.png\n",
      "Predicted: 3 \t\t\t True: x371hk96\n",
      "Testing Accuracy:  0.0\n",
      "model save to /mnt/data/var/www/nomeroff-net/models/anpr_ocr_kg_2022_03_24_pytorch_lightning.ckpt.1\n"
     ]
    },
    {
     "data": {
      "image/png": "[encoded data removed]",
      "text/plain": [
       "<Figure size 432x288 with 1 Axes>"
      ]
     },
     "metadata": {
      "needs_background": "light"
     },
     "output_type": "display_data"
    }
   ],
   "source": [
    "for i in range(1,2):\n",
    "    # tune\n",
    "    lr_finder = ocrTextDetector.tune()\n",
    "\n",
    "    # Plot with\n",
    "    fig = lr_finder.plot(suggest=True)\n",
    "    fig.show()\n",
    "    model = ocrTextDetector.train(seed=i)\n",
    "    ocrTextDetector.test_acc(verbose=True)\n",
    "    ocrTextDetector.save('{}.{}'.format(RESULT_MODEL_PATH,i))"
   ]
  },
  {
   "cell_type": "code",
   "execution_count": null,
   "metadata": {},
   "outputs": [],
   "source": []
  }
 ],
 "metadata": {
  "kernelspec": {
   "display_name": "Python 3",
   "language": "python",
   "name": "python3"
  },
  "language_info": {
   "codemirror_mode": {
    "name": "ipython",
    "version": 3
   },
   "file_extension": ".py",
   "mimetype": "text/x-python",
   "name": "python",
   "nbconvert_exporter": "python",
   "pygments_lexer": "ipython3",
   "version": "3.8.7"
  }
 },
 "nbformat": 4,
 "nbformat_minor": 2
}
