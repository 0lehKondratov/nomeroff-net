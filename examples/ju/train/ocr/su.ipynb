{
 "cells": [
  {
   "cell_type": "markdown",
   "metadata": {},
   "source": [
    "# Train OCR su text Detector"
   ]
  },
  {
   "cell_type": "code",
   "execution_count": 1,
   "metadata": {},
   "outputs": [],
   "source": [
    "import os\n",
    "import sys\n",
    "import torch\n",
    "import warnings\n",
    "from datetime import datetime\n",
    "from matplotlib import pyplot as plt\n",
    "warnings.filterwarnings('ignore')\n",
    "\n",
    "# change this property\n",
    "NOMEROFF_NET_DIR = os.path.abspath('../../../../')\n",
    "sys.path.append(NOMEROFF_NET_DIR)\n",
    "\n",
    "from nomeroff_net.text_detectors.base.ocr import OCR"
   ]
  },
  {
   "cell_type": "code",
   "execution_count": null,
   "metadata": {},
   "outputs": [],
   "source": [
    "plt.rcParams[\"figure.figsize\"] = (10, 10)"
   ]
  },
  {
   "cell_type": "code",
   "execution_count": null,
   "metadata": {},
   "outputs": [],
   "source": [
    "%matplotlib inline "
   ]
  },
  {
   "cell_type": "code",
   "execution_count": 2,
   "metadata": {},
   "outputs": [],
   "source": [
    "# auto download latest dataset\n",
    "from nomeroff_net.tools import modelhub\n",
    "\n",
    "# auto download latest dataset\n",
    "#info = modelhub.download_dataset_for_model(\"Su\")\n",
    "#PATH_TO_DATASET = info[\"dataset_path\"]\n",
    "\n",
    "# local path dataset\n",
    "PATH_TO_DATASET = os.path.join(NOMEROFF_NET_DIR, \"./data/dataset/TextDetector/ocr_example\")"
   ]
  },
  {
   "cell_type": "code",
   "execution_count": 3,
   "metadata": {},
   "outputs": [
    {
     "data": {
      "text/plain": [
       "'/mnt/data/var/www/nomeroff-net/./data/dataset/TextDetector/ocr_example'"
      ]
     },
     "execution_count": 3,
     "metadata": {},
     "output_type": "execute_result"
    }
   ],
   "source": [
    "PATH_TO_DATASET"
   ]
  },
  {
   "cell_type": "code",
   "execution_count": 4,
   "metadata": {},
   "outputs": [],
   "source": [
    "DATASET_NAME = \"su\"\n",
    "VERSION = f\"{datetime.now().strftime('%Y_%m_%d')}_pytorch_lightning\"\n",
    "\n",
    "RESULT_MODEL_PATH = os.path.join(NOMEROFF_NET_DIR, \n",
    "                                 \"models/\", \n",
    "                                 'anpr_ocr_{}_{}.ckpt'.format(DATASET_NAME, VERSION))"
   ]
  },
  {
   "cell_type": "code",
   "execution_count": 5,
   "metadata": {},
   "outputs": [
    {
     "data": {
      "text/plain": [
       "'/mnt/data/var/www/nomeroff-net/models/anpr_ocr_su_2022_03_24_pytorch_lightning.ckpt'"
      ]
     },
     "execution_count": 5,
     "metadata": {},
     "output_type": "execute_result"
    }
   ],
   "source": [
    "RESULT_MODEL_PATH"
   ]
  },
  {
   "cell_type": "code",
   "execution_count": 6,
   "metadata": {},
   "outputs": [],
   "source": [
    "class su(OCR):\n",
    "    def __init__(self):\n",
    "        OCR.__init__(self)\n",
    "        # only for usage model\n",
    "        # in train generate automaticly\n",
    "        self.letters = ['0', '1', '2', '3', '4', '5', '6', '7', '8', '9', 'А', 'Б', 'В', 'Г', 'Д', 'Е', 'Ж', 'З', 'И', \n",
    "                        'К', 'Л', 'М', 'Н', 'О', 'П', 'Р', 'С', 'Т', 'У', 'Ф', 'Х', 'Ц', 'Ч', 'Ш', 'Щ', 'Э', 'Ю', 'Я']\n",
    "        \n",
    "        # Train hyperparameters\n",
    "        self.batch_size = 4\n",
    "        self.epochs = 5\n",
    "        self.gpus = torch.cuda.device_count()"
   ]
  },
  {
   "cell_type": "code",
   "execution_count": 8,
   "metadata": {},
   "outputs": [
    {
     "name": "stderr",
     "output_type": "stream",
     "text": [
      "100%|██████████| 4/4 [00:00<00:00, 10407.70it/s]"
     ]
    },
    {
     "name": "stdout",
     "output_type": "stream",
     "text": [
      "GET ALPHABET\n",
      "Max plate length in \"val\": 9\n",
      "Max plate length in \"train\": 9\n",
      "Max plate length in \"test\": 9\n",
      "Letters train  {'9', '4', 'H', '0', 'C', 'K', '3', '1', 'A', '6', 'B', 'M', '-', '2', 'X', 'S', ' ', '8', '7'}\n",
      "Letters val  {'9', '4', 'H', '0', 'C', 'K', '3', '1', 'A', '6', 'B', 'M', '-', '2', 'X', 'S', ' ', '8', '7'}\n",
      "Letters test  {'9', '4', 'H', '0', 'C', 'K', '3', '1', 'A', '6', 'B', 'M', '-', '2', 'X', 'S', ' ', '8', '7'}\n",
      "Max plate length in train, test and val do match\n",
      "Letters in train, val and test do match\n",
      "Letters:   - 0 1 2 3 4 6 7 8 9 A B C H K M S X\n",
      "START BUILD DATA\n"
     ]
    },
    {
     "name": "stderr",
     "output_type": "stream",
     "text": [
      "\n",
      "100%|██████████| 4/4 [00:00<00:00, 7206.71it/s]\n",
      "100%|██████████| 4/4 [00:00<00:00, 6670.86it/s]"
     ]
    },
    {
     "name": "stdout",
     "output_type": "stream",
     "text": [
      "DATA PREPARED\n"
     ]
    },
    {
     "name": "stderr",
     "output_type": "stream",
     "text": [
      "\n"
     ]
    }
   ],
   "source": [
    "ocrTextDetector = su()\n",
    "model = ocrTextDetector.prepare(PATH_TO_DATASET, use_aug=False, num_workers=1)"
   ]
  },
  {
   "cell_type": "code",
   "execution_count": 9,
   "metadata": {},
   "outputs": [
    {
     "data": {
      "application/vnd.jupyter.widget-view+json": {
       "model_id": "95719b1d2fbc459d904229ab213a7989",
       "version_major": 2,
       "version_minor": 0
      },
      "text/plain": [
       "HBox(children=(FloatProgress(value=0.0, description='Finding best initial lr', max=1.0, style=ProgressStyle(de…"
      ]
     },
     "metadata": {},
     "output_type": "display_data"
    },
    {
     "name": "stderr",
     "output_type": "stream",
     "text": [
      "2022-03-24 17:32:20,423 [1566597] ERROR    pytorch_lightning.tuner.lr_finder:181: [JupyterRequire] Failed to compute suggesting for `lr`. There might not be enough points.\n",
      "Traceback (most recent call last):\n",
      "  File \"/usr/local/lib/python3.8/site-packages/pytorch_lightning/tuner/lr_finder.py\", line 176, in suggestion\n",
      "    min_grad = np.gradient(loss).argmin()\n",
      "  File \"<__array_function__ internals>\", line 5, in gradient\n",
      "  File \"/usr/local/lib64/python3.8/site-packages/numpy/lib/function_base.py\", line 1041, in gradient\n",
      "    raise ValueError(\n",
      "ValueError: Shape of array too small to calculate a numerical gradient, at least (edge_order + 1) elements are required.\n",
      "2022-03-24 17:32:20,446 [1566597] ERROR    pytorch_lightning.tuner.lr_finder:181: [JupyterRequire] Failed to compute suggesting for `lr`. There might not be enough points.\n",
      "Traceback (most recent call last):\n",
      "  File \"/usr/local/lib/python3.8/site-packages/pytorch_lightning/tuner/lr_finder.py\", line 176, in suggestion\n",
      "    min_grad = np.gradient(loss).argmin()\n",
      "  File \"<__array_function__ internals>\", line 5, in gradient\n",
      "  File \"/usr/local/lib64/python3.8/site-packages/numpy/lib/function_base.py\", line 1041, in gradient\n",
      "    raise ValueError(\n",
      "ValueError: Shape of array too small to calculate a numerical gradient, at least (edge_order + 1) elements are required.\n"
     ]
    },
    {
     "name": "stdout",
     "output_type": "stream",
     "text": [
      "Found lr: None\n",
      "\n"
     ]
    }
   ],
   "source": [
    "# # tune\n",
    "# lr_finder = ocrTextDetector.tune()\n",
    "#\n",
    "# # Plot with\n",
    "# fig = lr_finder.plot(suggest=True)\n",
    "# fig.show()"
   ]
  },
  {
   "cell_type": "code",
   "execution_count": 10,
   "metadata": {},
   "outputs": [
    {
     "name": "stderr",
     "output_type": "stream",
     "text": [
      "2022-03-24 17:32:27,961 [1566597] WARNING  py.warnings:109: [JupyterRequire] /usr/local/lib/python3.8/site-packages/pytorch_lightning/trainer/connectors/callback_connector.py:167: LightningDeprecationWarning: Setting `Trainer(weights_summary=None)` is deprecated in v1.5 and will be removed in v1.7. Please set `Trainer(enable_model_summary=False)` instead.\n",
      "  rank_zero_deprecation(\n",
      "\n",
      "2022-03-24 17:32:27,968 [1566597] WARNING  py.warnings:109: [JupyterRequire] /usr/local/lib/python3.8/site-packages/pytorch_lightning/core/datamodule.py:469: LightningDeprecationWarning: DataModule.setup has already been called, so it will not be called again. In v1.6 this behavior will change to always call DataModule.setup.\n",
      "  rank_zero_deprecation(\n",
      "\n"
     ]
    },
    {
     "data": {
      "application/vnd.jupyter.widget-view+json": {
       "model_id": "",
       "version_major": 2,
       "version_minor": 0
      },
      "text/plain": [
       "HBox(children=(FloatProgress(value=1.0, bar_style='info', description='Validation sanity check', layout=Layout…"
      ]
     },
     "metadata": {},
     "output_type": "display_data"
    },
    {
     "data": {
      "application/vnd.jupyter.widget-view+json": {
       "model_id": "62a3d44484734ee1823df804e00433b3",
       "version_major": 2,
       "version_minor": 0
      },
      "text/plain": [
       "HBox(children=(FloatProgress(value=1.0, bar_style='info', description='Training', layout=Layout(flex='2'), max…"
      ]
     },
     "metadata": {},
     "output_type": "display_data"
    },
    {
     "data": {
      "application/vnd.jupyter.widget-view+json": {
       "model_id": "",
       "version_major": 2,
       "version_minor": 0
      },
      "text/plain": [
       "HBox(children=(FloatProgress(value=1.0, bar_style='info', description='Validating', layout=Layout(flex='2'), m…"
      ]
     },
     "metadata": {},
     "output_type": "display_data"
    },
    {
     "data": {
      "application/vnd.jupyter.widget-view+json": {
       "model_id": "",
       "version_major": 2,
       "version_minor": 0
      },
      "text/plain": [
       "HBox(children=(FloatProgress(value=1.0, bar_style='info', description='Validating', layout=Layout(flex='2'), m…"
      ]
     },
     "metadata": {},
     "output_type": "display_data"
    },
    {
     "data": {
      "application/vnd.jupyter.widget-view+json": {
       "model_id": "",
       "version_major": 2,
       "version_minor": 0
      },
      "text/plain": [
       "HBox(children=(FloatProgress(value=1.0, bar_style='info', description='Validating', layout=Layout(flex='2'), m…"
      ]
     },
     "metadata": {},
     "output_type": "display_data"
    },
    {
     "data": {
      "application/vnd.jupyter.widget-view+json": {
       "model_id": "",
       "version_major": 2,
       "version_minor": 0
      },
      "text/plain": [
       "HBox(children=(FloatProgress(value=1.0, bar_style='info', description='Validating', layout=Layout(flex='2'), m…"
      ]
     },
     "metadata": {},
     "output_type": "display_data"
    },
    {
     "data": {
      "application/vnd.jupyter.widget-view+json": {
       "model_id": "",
       "version_major": 2,
       "version_minor": 0
      },
      "text/plain": [
       "HBox(children=(FloatProgress(value=1.0, bar_style='info', description='Validating', layout=Layout(flex='2'), m…"
      ]
     },
     "metadata": {},
     "output_type": "display_data"
    },
    {
     "name": "stderr",
     "output_type": "stream",
     "text": [
      "2022-03-24 17:32:29,789 [1566597] WARNING  py.warnings:109: [JupyterRequire] /usr/local/lib/python3.8/site-packages/pytorch_lightning/core/datamodule.py:469: LightningDeprecationWarning: DataModule.teardown has already been called, so it will not be called again. In v1.6 this behavior will change to always call DataModule.teardown.\n",
      "  rank_zero_deprecation(\n",
      "\n"
     ]
    },
    {
     "name": "stdout",
     "output_type": "stream",
     "text": [
      "\n",
      "[INFO] best model path /mnt/data/var/www/nomeroff-net/nomeroff_net/text_detectors/data/logs/ocr/epoch=4-step=4-v99.ckpt\n"
     ]
    },
    {
     "data": {
      "text/plain": [
       "NPOcrNet(\n",
       "  (cnn): BlockCNN(\n",
       "    (conv): Conv2d(256, 256, kernel_size=(3, 3), stride=(1,), padding=(1, 1))\n",
       "    (bn): BatchNorm2d(256, eps=1e-05, momentum=0.1, affine=True, track_running_stats=True)\n",
       "  )\n",
       "  (linear1): Linear(in_features=1024, out_features=512, bias=True)\n",
       "  (gru1): BlockRNN(\n",
       "    (gru): LSTM(512, 32, batch_first=True, bidirectional=True)\n",
       "  )\n",
       "  (gru2): BlockRNN(\n",
       "    (gru): LSTM(32, 32, batch_first=True, bidirectional=True)\n",
       "  )\n",
       "  (linear2): Linear(in_features=64, out_features=20, bias=True)\n",
       "  (criterion): CTCLoss()\n",
       ")"
      ]
     },
     "execution_count": 10,
     "metadata": {},
     "output_type": "execute_result"
    }
   ],
   "source": [
    "ocrTextDetector.train()"
   ]
  },
  {
   "cell_type": "code",
   "execution_count": 11,
   "metadata": {},
   "outputs": [
    {
     "name": "stdout",
     "output_type": "stream",
     "text": [
      "model save to /mnt/data/var/www/nomeroff-net/models/anpr_ocr_su_2022_03_24_pytorch_lightning.ckpt\n"
     ]
    }
   ],
   "source": [
    "ocrTextDetector.save(RESULT_MODEL_PATH)"
   ]
  },
  {
   "cell_type": "code",
   "execution_count": 12,
   "metadata": {},
   "outputs": [
    {
     "data": {
      "text/plain": [
       "NPOcrNet(\n",
       "  (cnn): BlockCNN(\n",
       "    (conv): Conv2d(256, 256, kernel_size=(3, 3), stride=(1,), padding=(1, 1))\n",
       "    (bn): BatchNorm2d(256, eps=1e-05, momentum=0.1, affine=True, track_running_stats=True)\n",
       "  )\n",
       "  (linear1): Linear(in_features=1024, out_features=512, bias=True)\n",
       "  (gru1): BlockRNN(\n",
       "    (gru): LSTM(512, 32, batch_first=True, bidirectional=True)\n",
       "  )\n",
       "  (gru2): BlockRNN(\n",
       "    (gru): LSTM(32, 32, batch_first=True, bidirectional=True)\n",
       "  )\n",
       "  (linear2): Linear(in_features=64, out_features=20, bias=True)\n",
       ")"
      ]
     },
     "execution_count": 12,
     "metadata": {},
     "output_type": "execute_result"
    }
   ],
   "source": [
    "ocrTextDetector.load(RESULT_MODEL_PATH)"
   ]
  },
  {
   "cell_type": "code",
   "execution_count": 13,
   "metadata": {},
   "outputs": [
    {
     "name": "stdout",
     "output_type": "stream",
     "text": [
      "\n",
      "[INFO] /mnt/data/var/www/nomeroff-net/./data/dataset/TextDetector/ocr_example/test/img/AA0013BM.png\n",
      "Predicted:  \t\t\t True: aa0013bm\n",
      "\n",
      "[INFO] /mnt/data/var/www/nomeroff-net/./data/dataset/TextDetector/ocr_example/test/img/0038SC-0.png\n",
      "Predicted:  \t\t\t True: 0038sc\n",
      "\n",
      "[INFO] /mnt/data/var/www/nomeroff-net/./data/dataset/TextDetector/ocr_example/test/img/10001_2914KC7_0.png\n",
      "Predicted:  \t\t\t True: 2914 kc-7\n",
      "\n",
      "[INFO] /mnt/data/var/www/nomeroff-net/./data/dataset/TextDetector/ocr_example/test/img/1000_X371HK96_0.png\n",
      "Predicted:  \t\t\t True: x371hk96\n",
      "Testing Accuracy:  0.0\n"
     ]
    },
    {
     "data": {
      "text/plain": [
       "0.0"
      ]
     },
     "execution_count": 13,
     "metadata": {},
     "output_type": "execute_result"
    }
   ],
   "source": [
    "# show wrong mp text and calc acc\n",
    "ocrTextDetector.test_acc(verbose=True)\n",
    "#ocrTextDetector.val_acc(verbose=False)\n",
    "#ocrTextDetector.train_acc(verbose=False)"
   ]
  },
  {
   "cell_type": "code",
   "execution_count": 14,
   "metadata": {},
   "outputs": [],
   "source": [
    "for i in range(0,1):\n",
    "    # Train next 2 epochs on augumentated dataset\n",
    "    ocrTextDetector.epochs += 2\n",
    "\n",
    "    # prepare with augumentation\n",
    "    ocrTextDetector.prepare(PATH_TO_DATASET, use_aug=True, num_workers=1, seed=i)\n",
    "\n",
    "    # Plot with\n",
    "    #fig = lr_finder.plot(suggest=True)\n",
    "    #fig.show()\n",
    "    model = ocrTextDetector.train(seed=i, ckpt_path=RESULT_MODEL_PATH)\n",
    "    ocrTextDetector.test_acc(verbose=False)\n",
    "    ocrTextDetector.save(RESULT_MODEL_PATH)"
   ]
  },
  {
   "cell_type": "code",
   "execution_count": null,
   "metadata": {},
   "outputs": [],
   "source": []
  }
 ],
 "metadata": {
  "kernelspec": {
   "display_name": "Python 3",
   "language": "python",
   "name": "python3"
  },
  "language_info": {
   "codemirror_mode": {
    "name": "ipython",
    "version": 3
   },
   "file_extension": ".py",
   "mimetype": "text/x-python",
   "name": "python",
   "nbconvert_exporter": "python",
   "pygments_lexer": "ipython3",
   "version": "3.8.7"
  }
 },
 "nbformat": 4,
 "nbformat_minor": 2
}