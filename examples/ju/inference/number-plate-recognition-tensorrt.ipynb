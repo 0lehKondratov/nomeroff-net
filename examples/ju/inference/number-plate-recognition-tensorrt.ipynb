{
 "cells": [
  {
   "cell_type": "markdown",
   "id": "e91e342e",
   "metadata": {},
   "source": [
    "## firstly you must convert models by your system\n",
    "dockerfile docker/tensorrt/Dockerfile\n",
    "\n",
    "convertors:\n",
    "* yolov5 (inference/convertors/yolo2tensorrt/bin/yolov5_tensorrt.sh)\n",
    "* options (inference/convertors/options2tensorrt/convert_numberplate_options_to_onnx.py)\n",
    "* ocrs (inference/convertors/ocr2tensorrt/convert_ocr_to_onnx.py)"
   ]
  },
  {
   "cell_type": "code",
   "execution_count": 1,
   "id": "beeb7f6a",
   "metadata": {},
   "outputs": [],
   "source": [
    "import os\n",
    "import matplotlib.pyplot as plt\n",
    "from glob import glob\n",
    "import pycuda.autoinit\n",
    "\n",
    "from _paths import nomeroff_net_dir\n",
    "from nomeroff_net.tools import unzip\n",
    "from nomeroff_net.pipelines.number_plate_detection_and_reading_trt import NumberPlateDetectionAndReadingTrt"
   ]
  },
  {
   "cell_type": "code",
   "execution_count": 2,
   "id": "92aef667",
   "metadata": {},
   "outputs": [
    {
     "name": "stdout",
     "output_type": "stream",
     "text": [
      "Loading weights from checkpoint (/var/www/nomeroff-net/examples/../nomeroff_net/tools/../../data/./models/np_points_craft/craft_mlt/craft_mlt_25k_2020-02-16.pth)\n",
      "Loading weights of refiner from checkpoint (/var/www/nomeroff-net/examples/../nomeroff_net/tools/../../data/./models/np_points_craft/craft_refiner/craft_refiner_CTW1500_2020-02-16.pth)\n"
     ]
    }
   ],
   "source": [
    "number_plate_detection_and_reading_trt = NumberPlateDetectionAndReadingTrt(\n",
    "    task=\"number_plate_detection_and_reading_trt\", \n",
    "    image_loader=\"opencv\",\n",
    "    path_to_model=\"../inference/convertors/yolo2tensorrt/yolov5s-2021-12-14.engine\",\n",
    "    plugin_lib=\"../inference/convertors/yolo2tensorrt/libmyplugins.so\",\n",
    "    path_to_classification_model=\"../data/model_repository/numberplate_options/1/model.onnx\",\n",
    "    prisets={\n",
    "        \"eu_ua_2004_2015\": {\n",
    "            \"for_regions\": [\"eu_ua_2015\", \"eu_ua_2004\"],\n",
    "            \"model_path\": \"../data/model_repository/ocr-eu_ua_2004_2015/1/model.onnx\"\n",
    "        },\n",
    "        \"eu_ua_1995\": {\n",
    "            \"for_regions\": [\"eu_ua_1995\"],\n",
    "            \"model_path\": \"../data/model_repository/ocr-eu_ua_1995/1/model.onnx\"\n",
    "        },\n",
    "        \"eu\": {\n",
    "            \"for_regions\": [\"eu\"],\n",
    "            \"model_path\": \"../data/model_repository/ocr-eu/1/model.onnx\"\n",
    "        },\n",
    "        \"ru\": {\n",
    "            \"for_regions\": [\"ru\", \"eu-ua-ordlo-lpr\", \"eu-ua-ordlo-dpr\"],\n",
    "            \"model_path\": \"../data/model_repository/ocr-ru/1/model.onnx\"\n",
    "        },\n",
    "        \"kz\": {\n",
    "            \"for_regions\": [\"kz\"],\n",
    "            \"model_path\": \"../data/model_repository/ocr-kz/1/model.onnx\"\n",
    "        },\n",
    "        \"ge\": {\n",
    "            \"for_regions\": [\"ge\"],\n",
    "            \"model_path\": \"../data/model_repository/ocr-ge/1/model.onnx\"\n",
    "        },\n",
    "        \"su\": {\n",
    "            \"for_regions\": [\"su\"],\n",
    "            \"model_path\": \"../data/model_repository/ocr-su/1/model.onnx\"\n",
    "        }\n",
    "    },\n",
    "    default_label = \"eu\",\n",
    "    options = {\n",
    "        \"class_region\": [\n",
    "                \"military\",\n",
    "                \"eu_ua_2015\",\n",
    "                \"eu_ua_2004\",\n",
    "                \"eu_ua_1995\",\n",
    "                \"eu\",\n",
    "                \"xx_transit\",\n",
    "                \"ru\",\n",
    "                \"kz\",\n",
    "                \"eu-ua-fake-dpr\",\n",
    "                \"eu-ua-fake-lpr\",\n",
    "                \"ge\",\n",
    "                \"by\",\n",
    "                \"su\",\n",
    "                \"kg\",\n",
    "                \"am\"\n",
    "            ],\n",
    "            \"count_lines\": [\n",
    "                1,\n",
    "                2,\n",
    "                3\n",
    "            ],\n",
    "    }\n",
    ")"
   ]
  },
  {
   "cell_type": "code",
   "execution_count": null,
   "id": "8f6e04a5",
   "metadata": {},
   "outputs": [],
   "source": [
    "result = number_plate_detection_and_reading_trt(glob(os.path.join(nomeroff_net_dir,\n",
    "                                                                  './data/examples/oneline_images/*')))"
   ]
  },
  {
   "cell_type": "code",
   "execution_count": null,
   "id": "c5a321aa",
   "metadata": {},
   "outputs": [],
   "source": [
    "(images, images_bboxs, \n",
    " images_points, images_zones, region_ids, \n",
    " region_names, count_lines, \n",
    " confidences, texts) = unzip(result)"
   ]
  },
  {
   "cell_type": "code",
   "execution_count": null,
   "id": "ee8b78db",
   "metadata": {},
   "outputs": [],
   "source": [
    "%matplotlib inline\n",
    "plt.rcParams[\"figure.figsize\"] = (20,10)\n",
    "\n",
    "for img, np in zip(images, texts):\n",
    "    print(np)\n",
    "    plt.imshow(img)\n",
    "    plt.show()"
   ]
  },
  {
   "cell_type": "code",
   "execution_count": null,
   "id": "368a5a01",
   "metadata": {},
   "outputs": [],
   "source": []
  }
 ],
 "metadata": {
  "kernelspec": {
   "display_name": "Python 3 (ipykernel)",
   "language": "python",
   "name": "python3"
  },
  "language_info": {
   "codemirror_mode": {
    "name": "ipython",
    "version": 3
   },
   "file_extension": ".py",
   "mimetype": "text/x-python",
   "name": "python",
   "nbconvert_exporter": "python",
   "pygments_lexer": "ipython3",
   "version": "3.8.10"
  }
 },
 "nbformat": 4,
 "nbformat_minor": 5
}