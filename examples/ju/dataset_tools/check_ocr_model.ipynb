{
 "cells": [
  {
   "cell_type": "code",
   "execution_count": 1,
   "metadata": {},
   "outputs": [],
   "source": [
    "import os\n",
    "from _paths import nomeroff_net_dir\n",
    "from nomeroff_net.tools.datasets_tools import check_ocr_model\n"
   ]
  },
  {
   "cell_type": "code",
   "execution_count": 9,
   "metadata": {},
   "outputs": [
    {
     "name": "stdout",
     "output_type": "stream",
     "text": [
      "LOADED 1 ANNOTATIONS\n",
      "LOADED 1 IMAGES\n",
      "PREDICTED 1 IMAGES\n",
      "Predicted 'Y929', real: '0038SC' in file /mnt/data/var/www/nomeroff-net/tools/py/../.././data/dataset/TextDetector/ocr_example/val/ann/0038SC-0.json\n",
      "Error detection count: 1\n",
      "Accuracy: 0.0\n"
     ]
    }
   ],
   "source": [
    "check_ocr_model(os.path.join(nomeroff_net_dir,  './data/dataset/TextDetector/ocr_example/val'))"
   ]
  },
  {
   "cell_type": "code",
   "execution_count": null,
   "metadata": {},
   "outputs": [],
   "source": []
  }
 ],
 "metadata": {
  "kernelspec": {
   "display_name": "Python 3",
   "language": "python",
   "name": "python3"
  },
  "language_info": {
   "codemirror_mode": {
    "name": "ipython",
    "version": 3
   },
   "file_extension": ".py",
   "mimetype": "text/x-python",
   "name": "python",
   "nbconvert_exporter": "python",
   "pygments_lexer": "ipython3",
   "version": "3.8.7"
  }
 },
 "nbformat": 4,
 "nbformat_minor": 2
}