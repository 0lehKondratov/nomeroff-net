{
 "cells": [
  {
   "cell_type": "code",
   "execution_count": 1,
   "metadata": {},
   "outputs": [],
   "source": [
    "import cv2\n",
    "import json\n",
    "import os\n",
    "from _paths import nomeroff_net_dir\n",
    "from nomeroff_net.pipes.number_plate_text_readers.text_detector import TextDetector"
   ]
  },
  {
   "cell_type": "code",
   "execution_count": 8,
   "metadata": {},
   "outputs": [],
   "source": [
    "def compare(model_path=\"latest\",\n",
    "            text_detector_name = \"eu\",\n",
    "            img_format = \"png\",\n",
    "            root_dir=os.path.join(nomeroff_net_dir,  './data/dataset/TextDetector/ocr_example/val'),\n",
    "            predicted_part_size=1000,\n",
    "            replace_tamplate = None):\n",
    "    if replace_tamplate is None:\n",
    "        replace_tamplate = {'moderation': {'isModerated': 1, 'moderatedBy': 'ApelSYN'}}\n",
    "    text_detector = TextDetector({\n",
    "        text_detector_name: {\n",
    "            \"for_regions\": [\"\"],\n",
    "            \"model_path\": model_path\n",
    "        },\n",
    "    })\n",
    "\n",
    "    ann_dir = os.path.join(root_dir, \"ann\")\n",
    "    jsons = []\n",
    "    jsons_paths = []\n",
    "    for dir_name, subdir_list, file_list in os.walk(ann_dir):\n",
    "        for fname in file_list:\n",
    "            fname = os.path.join(ann_dir, fname)\n",
    "            jsons_paths.append(fname)\n",
    "            with open(fname) as jsonF:\n",
    "                jsonData = json.load(jsonF)\n",
    "            jsons.append(jsonData)\n",
    "    print(\"LOADED {} ANNOTATIONS\".format(len(jsons)))\n",
    "\n",
    "    img_dir = os.path.join(root_dir, \"img\")\n",
    "    imgs = []                \n",
    "    for j in jsons:\n",
    "        img_path =os.path.join(img_dir, \"{}.{}\".format(j[\"name\"], img_format))\n",
    "        img = cv2.imread(img_path)\n",
    "        imgs.append(img)\n",
    "    print(\"LOADED {} IMAGES\".format(len(imgs)))\n",
    "\n",
    "    predicted = []\n",
    "    N = int(len(imgs) / predicted_part_size) + 1\n",
    "    for i in range(N):\n",
    "        part = i*predicted_part_size\n",
    "        part_imgs = imgs[part:part+predicted_part_size]\n",
    "        model_inputs = text_detector.preprocess(part_imgs, [\"\" for _ in part_imgs], [1 for _ in part_imgs])\n",
    "        model_outputs = text_detector.forward(model_inputs)\n",
    "        predicted_part = text_detector.postprocess(model_outputs)\n",
    "        predicted += predicted_part\n",
    "\n",
    "    print(\"PREDICTED {} IMAGES\".format(len(predicted)))\n",
    "\n",
    "    err_cnt = 0\n",
    "    for i in range(len(jsons_paths)):\n",
    "        json_path      = jsons_paths[i]\n",
    "        predicted_item = predicted[i]\n",
    "        jsonData       = jsons[i]\n",
    "        jsonData[\"moderation\"][\"predicted\"] = predicted_item\n",
    "        if jsonData[\"description\"] == jsonData[\"moderation\"][\"predicted\"]:\n",
    "            jsonData.update(replace_tamplate)\n",
    "            jsonData[\"moderation\"][\"isModerated\"] = 1\n",
    "        else:\n",
    "            print(\"Predicted '{}', real: '{}' in file {}\".format(jsonData[\"moderation\"][\"predicted\"],jsonData[\"description\"], json_path))\n",
    "            err_cnt = err_cnt+1\n",
    "\n",
    "        with open(json_path, \"w\") as jsonWF:\n",
    "            json.dump(jsonData, jsonWF)\n",
    "\n",
    "    print(\"Error detection count: {}\".format(err_cnt))\n",
    "    print(\"Accuracy: {}\".format(1-err_cnt/len(predicted)))"
   ]
  },
  {
   "cell_type": "code",
   "execution_count": 9,
   "metadata": {},
   "outputs": [
    {
     "name": "stdout",
     "output_type": "stream",
     "text": [
      "LOADED 1 ANNOTATIONS\n",
      "LOADED 1 IMAGES\n",
      "PREDICTED 1 IMAGES\n",
      "Predicted 'Y929', real: '0038SC' in file /mnt/data/var/www/nomeroff-net/tools/py/../.././data/dataset/TextDetector/ocr_example/val/ann/0038SC-0.json\n",
      "Error detection count: 1\n",
      "Accuracy: 0.0\n"
     ]
    }
   ],
   "source": [
    "compare()"
   ]
  },
  {
   "cell_type": "code",
   "execution_count": null,
   "metadata": {},
   "outputs": [],
   "source": []
  }
 ],
 "metadata": {
  "kernelspec": {
   "display_name": "Python 3",
   "language": "python",
   "name": "python3"
  },
  "language_info": {
   "codemirror_mode": {
    "name": "ipython",
    "version": 3
   },
   "file_extension": ".py",
   "mimetype": "text/x-python",
   "name": "python",
   "nbconvert_exporter": "python",
   "pygments_lexer": "ipython3",
   "version": "3.8.7"
  }
 },
 "nbformat": 4,
 "nbformat_minor": 2
}