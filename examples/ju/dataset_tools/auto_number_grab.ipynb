{
 "cells": [
  {
   "cell_type": "markdown",
   "metadata": {},
   "source": [
    "<img width=\"400\" src=\"https://nomeroff.net.ua/images/logo/nomeroff_net.svg\" alt=\"Nomeroff Net. Automatic numberplate recognition system\" align=\"left\"/>"
   ]
  },
  {
   "cell_type": "markdown",
   "metadata": {},
   "source": [
    "## The example demonstrates license plate number detection."
   ]
  },
  {
   "cell_type": "markdown",
   "metadata": {},
   "source": [
    "Before runing this demo, please download models from [https://nomeroff.net.ua/models/](https://nomeroff.net.ua/models/) to **./models/** directory. "
   ]
  },
  {
   "cell_type": "code",
   "execution_count": 1,
   "metadata": {},
   "outputs": [],
   "source": [
    "import os\n",
    "import pandas as pd"
   ]
  },
  {
   "cell_type": "code",
   "execution_count": 3,
   "metadata": {},
   "outputs": [],
   "source": [
    "# Import all necessary libraries.\n",
    "import numpy as np\n",
    "import matplotlib.image as mpimg\n",
    "import matplotlib.pyplot as plt"
   ]
  },
  {
   "cell_type": "code",
   "execution_count": 12,
   "metadata": {},
   "outputs": [],
   "source": [
    "from _paths import nomeroff_net_dir\n",
    "from nomeroff_net.pipes.number_plate_localizators.yolo_v5_detector import Detector\n",
    "from nomeroff_net.pipes.number_plate_keypoints_detectors.bbox_np_points import NpPointsCraft\n",
    "\n",
    "from nomeroff_net.tools.image_processing import (\n",
    "    get_cv_zone_rgb,\n",
    "    convert_cv_zones_rgb_to_bgr,\n",
    "    reshape_points)"
   ]
  },
  {
   "cell_type": "code",
   "execution_count": 5,
   "metadata": {},
   "outputs": [
    {
     "name": "stderr",
     "output_type": "stream",
     "text": [
      "YOLOv5 🚀 v6.1-2-g4bab565 torch 1.9.0+cu102 CPU\n",
      "\n",
      "Fusing layers... \n",
      "Model Summary: 213 layers, 7012822 parameters, 0 gradients\n"
     ]
    },
    {
     "name": "stdout",
     "output_type": "stream",
     "text": [
      "Loading weights from checkpoint (/mnt/data/var/www/nomeroff-net/tools/py/../../nomeroff_net/tools/../../data/./models/np_points_craft/craft_mlt/craft_mlt_25k_2020-02-16.pth)\n",
      "Loading weights of refiner from checkpoint (/mnt/data/var/www/nomeroff-net/tools/py/../../nomeroff_net/tools/../../data/./models/np_points_craft/craft_refiner/craft_refiner_CTW1500_2020-02-16.pth)\n"
     ]
    }
   ],
   "source": [
    "detector = Detector()\n",
    "detector.load()\n",
    "\n",
    "np_points_craft = NpPointsCraft()\n",
    "np_points_craft.load()"
   ]
  },
  {
   "cell_type": "code",
   "execution_count": 6,
   "metadata": {},
   "outputs": [],
   "source": [
    "%matplotlib inline\n",
    "plt.rcParams[\"figure.figsize\"] = (20,10)"
   ]
  },
  {
   "cell_type": "code",
   "execution_count": 7,
   "metadata": {},
   "outputs": [],
   "source": [
    "root_dir = os.path.join(nomeroff_net_dir, './data/dataset/Detector/yolov5/autoria_numberplate_dataset_example/train/')\n",
    "\n",
    "photos = pd.read_csv(os.path.join(nomeroff_net_dir,\n",
    "                                  './data/dataset/Detector/yolov5/autoria_numberplate_dataset_example/train/photos_dataset.csv'))\n",
    "photos = photos.set_index(['photoId'])"
   ]
  },
  {
   "cell_type": "code",
   "execution_count": 14,
   "metadata": {},
   "outputs": [
    {
     "name": "stdout",
     "output_type": "stream",
     "text": [
      "[WARNING] /mnt/data/var/www/nomeroff-net/tools/py/../.././data/dataset/Detector/yolov5/autoria_numberplate_dataset_example/train/photos_dataset.csv is not image\n",
      "[WARNING] /mnt/data/var/www/nomeroff-net/tools/py/../.././data/dataset/Detector/yolov5/autoria_numberplate_dataset_example/train/via_region_data.json is not image\n"
     ]
    }
   ],
   "source": [
    "res_dir = os.path.join(nomeroff_net_dir, \"./data/dataset/TextDetector/grab_res/\")\n",
    "os.makedirs(res_dir, exist_ok = False) \n",
    "\n",
    "for dir_name, subdir_list, file_list in os.walk(root_dir):\n",
    "    for fname in file_list:\n",
    "        #try:\n",
    "            baseName = os.path.splitext(os.path.basename(fname))[0]\n",
    "            img_path = os.path.join(dir_name, fname)\n",
    "            try:\n",
    "                img = mpimg.imread(img_path)   \n",
    "            except IOError:\n",
    "                print(f\"[WARNING] {img_path} is not image\")\n",
    "                continue\n",
    "            \n",
    "            #print(img.reshape([1, *img.shape]))\n",
    "            target_boxes = detector.detect_bbox(img)\n",
    "            \n",
    "\n",
    "            images_points, images_mline_boxes = np_points_craft.detect([[img, target_boxes]])\n",
    "            all_points = images_points[0]\n",
    "            all_points = [ps for ps in all_points if len(ps)]\n",
    "\n",
    "            # cut zones\n",
    "            to_show_zones = [get_cv_zone_rgb(img, reshape_points(rect, 1)) for rect in all_points]\n",
    "            zones = convert_cv_zones_rgb_to_bgr(to_show_zones)\n",
    "\n",
    "            if len(to_show_zones) > 1:\n",
    "                areas = [zone.shape[0]*zone.shape[1] for zone in zones]\n",
    "                zone = to_show_zones[np.argmax(areas)]\n",
    "            else:\n",
    "                zone = to_show_zones[0]\n",
    "\n",
    "            text = photos.loc[baseName]['npText']\n",
    "            \n",
    "            imgpath = os.path.join(res_dir, \"./{}_{}.png\".format(baseName, text))\n",
    "            mpimg.imsave(imgpath, zone)\n",
    "\n",
    "        #except Exception as ex:\n",
    "        #    print('[ERROR]', ex)"
   ]
  },
  {
   "cell_type": "code",
   "execution_count": null,
   "metadata": {},
   "outputs": [],
   "source": []
  }
 ],
 "metadata": {
  "kernelspec": {
   "display_name": "Python 3",
   "language": "python",
   "name": "python3"
  },
  "language_info": {
   "codemirror_mode": {
    "name": "ipython",
    "version": 3
   },
   "file_extension": ".py",
   "mimetype": "text/x-python",
   "name": "python",
   "nbconvert_exporter": "python",
   "pygments_lexer": "ipython3",
   "version": "3.8.7"
  }
 },
 "nbformat": 4,
 "nbformat_minor": 2
}