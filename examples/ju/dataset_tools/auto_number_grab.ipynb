{
 "cells": [
  {
   "cell_type": "markdown",
   "metadata": {},
   "source": [
    "<img width=\"400\" src=\"https://nomeroff.net.ua/images/logo/nomeroff_net.svg\" alt=\"Nomeroff Net. Automatic numberplate recognition system\" align=\"left\"/>"
   ]
  },
  {
   "cell_type": "markdown",
   "metadata": {},
   "source": [
    "## The example demonstrates license plate number detection."
   ]
  },
  {
   "cell_type": "markdown",
   "metadata": {},
   "source": [
    "Before runing this demo, please download models from [https://nomeroff.net.ua/models/](https://nomeroff.net.ua/models/) to **./models/** directory. "
   ]
  },
  {
   "cell_type": "code",
   "execution_count": 1,
   "metadata": {},
   "outputs": [],
   "source": [
    "import os\n",
    "import warnings\n",
    "import matplotlib.pyplot as plt\n",
    "from _paths import nomeroff_net_dir\n",
    "from nomeroff_net.tools.datasets_tools import auto_number_grab"
   ]
  },
  {
   "cell_type": "code",
   "execution_count": 2,
   "metadata": {},
   "outputs": [],
   "source": [
    "warnings.filterwarnings(\"ignore\")"
   ]
  },
  {
   "cell_type": "code",
   "execution_count": 3,
   "metadata": {},
   "outputs": [
    {
     "name": "stderr",
     "output_type": "stream",
     "text": [
      "YOLOv5 🚀 v6.1-168-g5743deb torch 1.9.0+cu102 CPU\n",
      "\n",
      "Fusing layers... \n",
      "Model summary: 213 layers, 7012822 parameters, 0 gradients, 15.8 GFLOPs\n",
      "Adding AutoShape... \n",
      "100%|██████████| 1/1 [00:00<00:00,  1.45it/s]\n"
     ]
    }
   ],
   "source": [
    "root_dir = os.path.join(nomeroff_net_dir, './data/dataset/Detector/autoria_numberplate_dataset_example/train/')\n",
    "res_dir = os.path.join(nomeroff_net_dir, \"./data/dataset/TextDetector/grab_res/\")\n",
    "csv_dataset_path = os.path.join(\n",
    "    nomeroff_net_dir,\n",
    "    './data/dataset/Detector/autoria_numberplate_dataset_example/train/photos_dataset.csv')\n",
    "\n",
    "auto_number_grab(root_dir, res_dir, image_loader=\"turbo\",\n",
    "                 replace_template={'moderation': {'isModerated': 1, 'moderatedBy': 'RIA.com'}, 'state_id': 2},\n",
    "                 csv_dataset_path=csv_dataset_path, # or None if you don`t have moderated data\n",
    "                 prisets={\n",
    "                     \"eu\": {\n",
    "                         \"for_regions\": [\"eu\"],\n",
    "                         \"model_path\": \"latest\"\n",
    "                     },\n",
    "                 },\n",
    "                 default_label = \"eu\",\n",
    "                 quality_profile=[3, 1, 0],)"
   ]
  },
  {
   "cell_type": "code",
   "execution_count": null,
   "metadata": {},
   "outputs": [],
   "source": []
  }
 ],
 "metadata": {
  "kernelspec": {
   "display_name": "Python 3",
   "language": "python",
   "name": "python3"
  },
  "language_info": {
   "codemirror_mode": {
    "name": "ipython",
    "version": 3
   },
   "file_extension": ".py",
   "mimetype": "text/x-python",
   "name": "python",
   "nbconvert_exporter": "python",
   "pygments_lexer": "ipython3",
   "version": "3.8.7"
  }
 },
 "nbformat": 4,
 "nbformat_minor": 2
}
