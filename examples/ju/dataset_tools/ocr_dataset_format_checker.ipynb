{
 "cells": [
  {
   "cell_type": "code",
   "execution_count": 2,
   "id": "a32f7ded",
   "metadata": {},
   "outputs": [],
   "source": [
    "import cv2\n",
    "import json\n",
    "import os\n",
    "import re\n",
    "import multiprocessing\n",
    "from matplotlib import pyplot as plt\n",
    "from collections import Counter\n",
    "\n",
    "from _paths import nomeroff_net_dir\n",
    "from nomeroff_net.tools import modelhub"
   ]
  },
  {
   "cell_type": "code",
   "execution_count": 3,
   "id": "b9d24029",
   "metadata": {},
   "outputs": [],
   "source": [
    "%matplotlib inline\n",
    "plt.rcParams[\"figure.figsize\"] = (10, 10)"
   ]
  },
  {
   "cell_type": "code",
   "execution_count": 5,
   "id": "e8637d5b",
   "metadata": {},
   "outputs": [],
   "source": [
    "def get_datasets(names = None, states = None):\n",
    "    if names is None:\n",
    "        names = [\n",
    "            \"EuUaFrom2004\",\n",
    "            \"EuUa1995\",\n",
    "            \"Eu\",\n",
    "            \"Ru\",\n",
    "            \"Kz\",\n",
    "            \"Ge\",\n",
    "            \"By\",\n",
    "            \"Su\",\n",
    "            \"Kg\",\n",
    "            \"Am\",\n",
    "        ]\n",
    "    if states is None:\n",
    "        states = [\n",
    "            \"train\",\n",
    "            \"test\",\n",
    "            \"val\"\n",
    "        ]\n",
    "    \n",
    "    datasets = {}\n",
    "    for name in names:\n",
    "        info = modelhub.download_dataset_for_model(name)\n",
    "        print(name, info[\"dataset_path\"])\n",
    "        for state in states:\n",
    "            datasets[(name, state)] = os.path.join(info[\"dataset_path\"], state)\n",
    "    return datasets"
   ]
  },
  {
   "cell_type": "code",
   "execution_count": 6,
   "id": "9b9d2639",
   "metadata": {},
   "outputs": [],
   "source": [
    "def read_json(fname):\n",
    "    with open(fname) as jsonF:\n",
    "        json_data = json.load(jsonF)\n",
    "    return fname, json_data"
   ]
  },
  {
   "cell_type": "code",
   "execution_count": 7,
   "id": "45fbd49c",
   "metadata": {},
   "outputs": [],
   "source": [
    "def read_annotations(root_dir, processes=10):\n",
    "    ann_dir = os.path.join(root_dir, \"ann\")\n",
    "    jsons_paths = []\n",
    "    for dir_name, subdir_list, file_list in os.walk(ann_dir):\n",
    "        for fname in file_list:\n",
    "            fname = os.path.join(ann_dir, fname)\n",
    "            jsons_paths.append(fname)\n",
    "    with multiprocessing.Pool(processes=processes) as pool:\n",
    "        results = pool.map(read_json, jsons_paths)\n",
    "    jsons = {}\n",
    "    for (fname, json_data) in results:\n",
    "        jsons[fname] = json_data\n",
    "    return jsons"
   ]
  },
  {
   "cell_type": "code",
   "execution_count": 8,
   "id": "38c5be6f",
   "metadata": {},
   "outputs": [],
   "source": [
    "def find_all_datset_format(annotations):\n",
    "    formats_counter = Counter()\n",
    "    for fanme in annotations:\n",
    "        json_data = annotations[fanme]\n",
    "        numberplate_format = json_data[\"description\"].lower()\n",
    "        numberplate_format = re.sub(r\"[0-9]\", \"#\", numberplate_format)  # number\n",
    "        numberplate_format = re.sub(r\"[a-z]\", \"@\", numberplate_format)  # letter\n",
    "        numberplate_format = re.sub(r\"[а-я]\", \"@\", numberplate_format)  # letter\n",
    "        numberplate_format = re.sub(r\"[їіёъ]\", \"@\", numberplate_format)  # letter\n",
    "        formats_counter[numberplate_format] += 1\n",
    "    return formats_counter.most_common()"
   ]
  },
  {
   "cell_type": "code",
   "execution_count": 9,
   "id": "c97ac2f4",
   "metadata": {},
   "outputs": [],
   "source": [
    "def print_datset_format(annotations, ann_format):\n",
    "    for fname in annotations:\n",
    "        json_data = annotations[fname]\n",
    "        numberplate_format = json_data[\"description\"].lower()\n",
    "        numberplate_format = re.sub(r\"[0-9]\", \"#\", numberplate_format)  # number\n",
    "        numberplate_format = re.sub(r\"[a-z]\", \"@\", numberplate_format)  # letter\n",
    "        numberplate_format = re.sub(r\"[а-я]\", \"@\", numberplate_format)  # letter\n",
    "        numberplate_format = re.sub(r\"[їіёъ]\", \"@\", numberplate_format)  # letter\n",
    "        if ann_format == numberplate_format:\n",
    "            print(\"\\t\\t\\t\", fname, json_data)\n",
    "            img_path = os.path.dirname(fname)\n",
    "            img_path = img_path.replace(\"ann\", \"img\")\n",
    "            img_path = os.path.join(img_path, f\"{json_data['name']}.png\")\n",
    "            img = cv2.imread(img_path)\n",
    "            plt.imshow(img)\n",
    "            plt.plot()"
   ]
  },
  {
   "cell_type": "code",
   "execution_count": 19,
   "id": "02d24ddd",
   "metadata": {},
   "outputs": [],
   "source": [
    "# use custom datasets\n",
    "datasets = {\n",
    "    \"ocr_example\": os.path.join(nomeroff_net_dir, \"./data/dataset/TextDetector/ocr_example/train\")\n",
    "}\n",
    "\n",
    "## or download standart dataset\n",
    "\n",
    "# datasets = get_datasets(names=[\n",
    "#     \"Su\",\n",
    "#     \"EuUaFrom2004\",\n",
    "#     \"EuUa1995\",\n",
    "#     \"Eu\",\n",
    "#     \"Ru\",\n",
    "#     \"Kz\",\n",
    "#     \"Ge\",\n",
    "#     \"By\",\n",
    "#     \"Kg\",\n",
    "#     \"Am\",\n",
    "# ])"
   ]
  },
  {
   "cell_type": "code",
   "execution_count": 20,
   "id": "cb73c836",
   "metadata": {
    "scrolled": false
   },
   "outputs": [
    {
     "name": "stdout",
     "output_type": "stream",
     "text": [
      "\n",
      "\n",
      "[DATSET] /mnt/data/var/www/nomeroff-net/tools/py/../.././data/dataset/TextDetector/ocr_example/train :\n",
      "\t ####@@ \t\t 1\n"
     ]
    }
   ],
   "source": [
    "for key in datasets:\n",
    "    dataset = datasets[key]\n",
    "    print(\"\\n\\n[DATSET]\", dataset, \":\")\n",
    "    annotations = read_annotations(dataset)\n",
    "    formats = find_all_datset_format(annotations)\n",
    "    all_count = sum([count for ann_format, count in formats])\n",
    "    for ann_format, count in formats:\n",
    "        print(\"\\t\", ann_format, \"\\t\\t\", count)"
   ]
  },
  {
   "cell_type": "code",
   "execution_count": null,
   "id": "6f0465f3",
   "metadata": {},
   "outputs": [],
   "source": []
  }
 ],
 "metadata": {
  "kernelspec": {
   "display_name": "Python 3",
   "language": "python",
   "name": "python3"
  },
  "language_info": {
   "codemirror_mode": {
    "name": "ipython",
    "version": 3
   },
   "file_extension": ".py",
   "mimetype": "text/x-python",
   "name": "python",
   "nbconvert_exporter": "python",
   "pygments_lexer": "ipython3",
   "version": "3.8.7"
  }
 },
 "nbformat": 4,
 "nbformat_minor": 5
}