{
 "cells": [
  {
   "cell_type": "code",
   "execution_count": 2,
   "id": "a32f7ded",
   "metadata": {},
   "outputs": [],
   "source": [
    "\n",
    "import os\n",
    "from matplotlib import pyplot as plt\n",
    "from _paths import nomeroff_net_dir\n",
    "from nomeroff_net.tools.datasets_tools import read_annotations\n",
    "from nomeroff_net.tools.datasets_tools import find_all_datset_format"
   ]
  },
  {
   "cell_type": "code",
   "execution_count": 3,
   "id": "b9d24029",
   "metadata": {},
   "outputs": [],
   "source": [
    "%matplotlib inline\n",
    "plt.rcParams[\"figure.figsize\"] = (10, 10)\n"
   ]
  },
  {
   "cell_type": "code",
   "execution_count": 19,
   "id": "02d24ddd",
   "metadata": {},
   "outputs": [],
   "source": [
    "# use custom datasets\n",
    "datasets = {\n",
    "    \"ocr_example\": os.path.join(nomeroff_net_dir, \"./data/dataset/TextDetector/ocr_example/train\")\n",
    "}\n",
    "\n",
    "## or download standart dataset\n",
    "\n",
    "# datasets = get_datasets(names=[\n",
    "#     \"Su\",\n",
    "#     \"EuUaFrom2004\",\n",
    "#     \"EuUa1995\",\n",
    "#     \"Eu\",\n",
    "#     \"Ru\",\n",
    "#     \"Kz\",\n",
    "#     \"Ge\",\n",
    "#     \"By\",\n",
    "#     \"Kg\",\n",
    "#     \"Am\",\n",
    "# ])"
   ]
  },
  {
   "cell_type": "code",
   "execution_count": 20,
   "id": "cb73c836",
   "metadata": {
    "scrolled": false
   },
   "outputs": [
    {
     "name": "stdout",
     "output_type": "stream",
     "text": [
      "\n",
      "\n",
      "[DATSET] /mnt/data/var/www/nomeroff-net/tools/py/../.././data/dataset/TextDetector/ocr_example/train :\n",
      "\t ####@@ \t\t 1\n"
     ]
    }
   ],
   "source": [
    "for key in datasets:\n",
    "    dataset = datasets[key]\n",
    "    print(\"\\n\\n[DATSET]\", dataset, \":\")\n",
    "    annotations = read_annotations(dataset)\n",
    "    formats = find_all_datset_format(annotations)\n",
    "    all_count = sum([count for ann_format, count in formats])\n",
    "    for ann_format, count in formats:\n",
    "        print(\"\\t\", ann_format, \"\\t\\t\", count)"
   ]
  },
  {
   "cell_type": "code",
   "execution_count": null,
   "id": "6f0465f3",
   "metadata": {},
   "outputs": [],
   "source": []
  }
 ],
 "metadata": {
  "kernelspec": {
   "display_name": "Python 3",
   "language": "python",
   "name": "python3"
  },
  "language_info": {
   "codemirror_mode": {
    "name": "ipython",
    "version": 3
   },
   "file_extension": ".py",
   "mimetype": "text/x-python",
   "name": "python",
   "nbconvert_exporter": "python",
   "pygments_lexer": "ipython3",
   "version": "3.8.7"
  }
 },
 "nbformat": 4,
 "nbformat_minor": 5
}