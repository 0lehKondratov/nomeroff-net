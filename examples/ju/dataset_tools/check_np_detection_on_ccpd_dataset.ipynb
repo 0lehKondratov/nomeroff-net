{
 "cells": [
  {
   "cell_type": "markdown",
   "metadata": {},
   "source": [
    "Check numberplate detection on dataset from\n",
    "https://github.com/detectRecog/CCPD\n",
    "\n",
    "#### Dataset Annotations\n",
    "\n",
    "Annotations are embedded in file name.\n",
    "\n",
    "A sample image name is \"025-95_113-154&383_386&473-386&473_177&454_154&383_363&402-0_0_22_27_27_33_16-37-15.jpg\". Each name can be splited into seven fields. Those fields are explained as follows.\n",
    "\n",
    "- **Area**: Area ratio of license plate area to the entire picture area.\n",
    "\n",
    "- **Tilt degree**: Horizontal tilt degree and vertical tilt degree.\n",
    "\n",
    "- **Bounding box coordinates**: The coordinates of the left-up and the right-bottom vertices.\n",
    "\n",
    "- **Four vertices locations**: The exact (x, y) coordinates of the four vertices of LP in the whole image. These coordinates start from the right-bottom vertex.\n",
    "\n",
    "- **License plate number**: Each image in CCPD has only one LP. Each LP number is comprised of a Chinese character, a letter, and five letters or numbers. A valid Chinese license plate consists of seven characters: province (1 character), alphabets (1 character), alphabets+digits (5 characters). \"0_0_22_27_27_33_16\" is the index of each character. These three arrays are defined as follows. The last character of each array is letter O rather than a digit 0. We use O as a sign of \"no character\" because there is no O in Chinese license plate characters.\n",
    "```\n",
    "provinces = [\"皖\", \"沪\", \"津\", \"渝\", \"冀\", \"晋\", \"蒙\", \"辽\", \"吉\", \"黑\", \"苏\", \"浙\", \"京\", \"闽\", \"赣\", \"鲁\", \"豫\", \"鄂\", \"湘\", \"粤\", \"桂\", \"琼\", \"川\", \"贵\", \"云\", \"藏\", \"陕\", \"甘\", \"青\", \"宁\", \"新\", \"警\", \"学\", \"O\"]\n",
    "alphabets = ['A', 'B', 'C', 'D', 'E', 'F', 'G', 'H', 'J', 'K', 'L', 'M', 'N', 'P', 'Q', 'R', 'S', 'T', 'U', 'V', 'W',\n",
    "             'X', 'Y', 'Z', 'O']\n",
    "ads = ['A', 'B', 'C', 'D', 'E', 'F', 'G', 'H', 'J', 'K', 'L', 'M', 'N', 'P', 'Q', 'R', 'S', 'T', 'U', 'V', 'W', 'X',\n",
    "       'Y', 'Z', '0', '1', '2', '3', '4', '5', '6', '7', '8', '9', 'O']\n",
    "```\n",
    "\n",
    "- **Brightness**: The brightness of the license plate region.\n",
    "\n",
    "- **Blurriness**: The Blurriness of the license plate region.\n"
   ]
  },
  {
   "cell_type": "code",
   "execution_count": 1,
   "metadata": {},
   "outputs": [],
   "source": [
    "import os\n",
    "import sys\n",
    "\n",
    "NOMEROFF_NET_PATH = \"../../\"\n",
    "sys.path.append(NOMEROFF_NET_PATH)"
   ]
  },
  {
   "cell_type": "code",
   "execution_count": 3,
   "metadata": {},
   "outputs": [],
   "source": [
    "from nomeroff_net.pipes.number_plate_localizators.yolo_v5_detector import Detector"
   ]
  },
  {
   "cell_type": "code",
   "execution_count": null,
   "metadata": {},
   "outputs": [],
   "source": [
    "detector = Detector()\n",
    "detector.load(\"/var/www/nomeroff-net/best_china.pt\")"
   ]
  },
  {
   "cell_type": "code",
   "execution_count": 8,
   "metadata": {},
   "outputs": [],
   "source": [
    "import glob\n",
    "import cv2\n",
    "import copy\n",
    "import tqdm\n",
    "from shutil import copyfile\n",
    "from matplotlib import pyplot as plt"
   ]
  },
  {
   "cell_type": "code",
   "execution_count": 9,
   "metadata": {},
   "outputs": [],
   "source": [
    "def parse_file_name_ccpd(\n",
    "    name=\"025-95_113-154&383_386&473-386&473_177&454_154&383_363&402-0_0_22_27_27_33_16-37-15.jpg\",\n",
    "    provinces = [\"皖\", \"沪\", \"津\", \"渝\", \"冀\", \"晋\", \"蒙\", \"辽\", \"吉\", \"黑\", \"苏\", \"浙\", \"京\", \"闽\", \"赣\", \"鲁\", \"豫\", \"鄂\", \"湘\", \"粤\", \"桂\", \"琼\", \n",
    "              \"川\", \"贵\", \"云\", \"藏\", \"陕\", \"甘\", \"青\", \"宁\", \"新\", \"警\", \"学\", \"O\"],\n",
    "    alphabets = ['A', 'B', 'C', 'D', 'E', 'F', 'G', 'H', 'J', 'K', 'L', 'M', 'N', 'P', 'Q', 'R', 'S', 'T', 'U', 'V', 'W',\n",
    "              'X', 'Y', 'Z', 'O'],\n",
    "    ads = ['A', 'B', 'C', 'D', 'E', 'F', 'G', 'H', 'J', 'K', 'L', 'M', 'N', 'P', 'Q', 'R', 'S', 'T', 'U', 'V', 'W', 'X',\n",
    "        'Y', 'Z', '0', '1', '2', '3', '4', '5', '6', '7', '8', '9', 'O']):\n",
    "\n",
    "    name = os.path.basename(name)\n",
    "    name = name.split(\".\")[0]\n",
    "    area, tilt_degrees, bbox, vertices, plate_number, brightness, blurriness  = name.split(\"-\")\n",
    "    \n",
    "    area = int(area)\n",
    "    brightness = int(brightness)\n",
    "    blurriness = int(blurriness)\n",
    "    \n",
    "    horizontal_tilt_degree, vertical_tilt_degree = tilt_degrees.split(\"_\")\n",
    "    horizontal_tilt_degree = int(horizontal_tilt_degree)\n",
    "    vertical_tilt_degree = int(vertical_tilt_degree)\n",
    "    \n",
    "    left_up, right_bottom = bbox.split(\"_\")\n",
    "    bbox = [*left_up.split(\"&\"), *right_bottom.split(\"&\")]\n",
    "    bbox = [int(item) for item in bbox]\n",
    "    \n",
    "    vertices = vertices.split(\"_\")\n",
    "    vertices = [[int(coord) for coord in p.split(\"&\")] for p in vertices]\n",
    "    \n",
    "    plate_number = \"\".join([ads[int(idx)] for idx in plate_number.split(\"_\")])\n",
    "    \n",
    "    return dict(\n",
    "        area=area, \n",
    "        tilt_degree=dict(\n",
    "            horizontal=horizontal_tilt_degree, \n",
    "            vertical=vertical_tilt_degree\n",
    "        ),\n",
    "        bbox=bbox, \n",
    "        vertices=vertices, \n",
    "        plate_number=plate_number, \n",
    "        brightness=brightness, \n",
    "        blurriness=blurriness\n",
    "    )"
   ]
  },
  {
   "cell_type": "code",
   "execution_count": 10,
   "metadata": {},
   "outputs": [
    {
     "data": {
      "text/plain": [
       "{'area': 25,\n",
       " 'tilt_degree': {'horizontal': 95, 'vertical': 113},\n",
       " 'bbox': [154, 383, 386, 473],\n",
       " 'vertices': [[386, 473], [177, 454], [154, 383], [363, 402]],\n",
       " 'plate_number': 'AAY339S',\n",
       " 'brightness': 37,\n",
       " 'blurriness': 15}"
      ]
     },
     "execution_count": 10,
     "metadata": {},
     "output_type": "execute_result"
    }
   ],
   "source": [
    "# test parse function\n",
    "parse_file_name_ccpd()"
   ]
  },
  {
   "cell_type": "code",
   "execution_count": 11,
   "metadata": {},
   "outputs": [],
   "source": [
    "def show_diff(img, info, predicted=None):    \n",
    "    cv2.rectangle(img, \n",
    "                  (int(info[\"bbox\"][0]), int(info[\"bbox\"][1])), \n",
    "                  (int(info[\"bbox\"][2]), int(info[\"bbox\"][3])), \n",
    "                  (0,120,255), \n",
    "                  3)\n",
    "    if predicted:\n",
    "        cv2.rectangle(img, \n",
    "                  (int(predicted[0]), int(predicted[1])), \n",
    "                  (int(predicted[2]), int(predicted[3])), \n",
    "                  (255,120,0), \n",
    "                  3)\n",
    "    plt.imshow(img)\n",
    "    plt.show()"
   ]
  },
  {
   "cell_type": "code",
   "execution_count": 12,
   "metadata": {},
   "outputs": [],
   "source": [
    "def bb_intersection_over_union(boxA, boxB):\n",
    "    # determine the (x, y)-coordinates of the intersection rectangle\n",
    "    xA = max(boxA[0], boxB[0])\n",
    "    yA = max(boxA[1], boxB[1])\n",
    "    xB = min(boxA[2], boxB[2])\n",
    "    yB = min(boxA[3], boxB[3])\n",
    "    # compute the area of intersection rectangle\n",
    "    interArea = max(0, xB - xA + 1) * max(0, yB - yA + 1)\n",
    "    # compute the area of both the prediction and ground-truth\n",
    "    # rectangles\n",
    "    boxAArea = (boxA[2] - boxA[0] + 1) * (boxA[3] - boxA[1] + 1)\n",
    "    boxBArea = (boxB[2] - boxB[0] + 1) * (boxB[3] - boxB[1] + 1)\n",
    "    # compute the intersection over union by taking the intersection\n",
    "    # area and dividing it by the sum of prediction + ground-truth\n",
    "    # areas - the interesection area\n",
    "    iou = interArea / float(boxAArea + boxBArea - interArea)\n",
    "    # return the intersection over union value\n",
    "    return iou"
   ]
  },
  {
   "cell_type": "code",
   "execution_count": 13,
   "metadata": {},
   "outputs": [],
   "source": [
    "def compare(path, false_positive=True, false_negative=False, min_iou=0.5, debug=0, res_dir=\"/var/www/nomeroff-net/datasets/numberplate_china/not_recognizion\"):\n",
    "    if min_iou < 0:\n",
    "        raise Exception(\"min_iou mast be grater or equal '0'\")\n",
    "    \n",
    "    img = cv2.imread(path)\n",
    "    info = parse_file_name_ccpd(path)\n",
    "    target_boxes = detector.detect_bbox(copy.deepcopy(img))\n",
    "    max_iou = 0\n",
    "    max_bbox = None\n",
    "    for bbox in target_boxes:\n",
    "        iou = bb_intersection_over_union(bbox, info[\"bbox\"])\n",
    "        if false_negative and (not iou or iou < min_iou):\n",
    "            if debug:\n",
    "                print(\"[INFO] path\", path)\n",
    "                print(\"[INFO] parsed info\", info)\n",
    "                print(\"[INFO] false_negative iou\", max_iou)\n",
    "                show_diff(img, info, max_bbox)\n",
    "        if max_iou < iou:\n",
    "            max_iou = iou\n",
    "            max_bbox = bbox\n",
    "    if false_positive and (not max_iou or max_iou < min_iou):\n",
    "        if debug:\n",
    "            print(\"[INFO] path\", path)\n",
    "            print(\"[INFO] parsed info\", info)\n",
    "            print(\"[INFO] false_positive iou\", max_iou)\n",
    "            show_diff(img, info, max_bbox)\n",
    "        copyfile(path, os.path.join(res_dir, os.path.basename(path)))\n",
    "        return 0\n",
    "    return 1"
   ]
  },
  {
   "cell_type": "code",
   "execution_count": 14,
   "metadata": {},
   "outputs": [],
   "source": [
    "%matplotlib inline\n",
    "#plt.rcParams[\"figure.figsize\"] = (20,10)"
   ]
  },
  {
   "cell_type": "code",
   "execution_count": 15,
   "metadata": {},
   "outputs": [
    {
     "name": "stderr",
     "output_type": "stream",
     "text": [
      "100%|██████████| 1001/1001 [00:11<00:00, 86.41it/s]"
     ]
    },
    {
     "name": "stdout",
     "output_type": "stream",
     "text": [
      "[INFO] accuracy: 0.998001998001998\n"
     ]
    },
    {
     "name": "stderr",
     "output_type": "stream",
     "text": [
      "\n"
     ]
    }
   ],
   "source": [
    "GLOB_CCPD_IMAGES = \"/var/www/nomeroff-net/datasets/numberplate_china/CCPD2020/ccpd_green/test/*\"\n",
    "\n",
    "good_count = 0\n",
    "bad_count = 0\n",
    "for path in tqdm.tqdm(glob.glob(GLOB_CCPD_IMAGES)):\n",
    "    is_good = compare(path)\n",
    "    if is_good:\n",
    "        good_count += 1\n",
    "    else:\n",
    "        bad_count += 1\n",
    "print(\"[INFO] accuracy:\", good_count/(good_count+bad_count))"
   ]
  },
  {
   "cell_type": "code",
   "execution_count": null,
   "metadata": {},
   "outputs": [
    {
     "name": "stderr",
     "output_type": "stream",
     "text": [
      "  0%|          | 8/50003 [00:00<10:50, 76.83it/s]"
     ]
    },
    {
     "name": "stdout",
     "output_type": "stream",
     "text": [
      "[INFO] Start process ccpd_challenge\n"
     ]
    },
    {
     "name": "stderr",
     "output_type": "stream",
     "text": [
      "100%|██████████| 50003/50003 [09:17<00:00, 89.74it/s]\n",
      "  0%|          | 9/10132 [00:00<01:53, 89.25it/s]"
     ]
    },
    {
     "name": "stdout",
     "output_type": "stream",
     "text": [
      "[INFO] accuracy: 0.9218646881187129\n",
      "[INFO] Start process ccpd_db\n"
     ]
    },
    {
     "name": "stderr",
     "output_type": "stream",
     "text": [
      "100%|██████████| 10132/10132 [01:49<00:00, 92.76it/s]\n",
      "  0%|          | 9/20967 [00:00<03:55, 88.92it/s]"
     ]
    },
    {
     "name": "stdout",
     "output_type": "stream",
     "text": [
      "[INFO] accuracy: 0.8786024476904856\n",
      "[INFO] Start process ccpd_fn\n"
     ]
    },
    {
     "name": "stderr",
     "output_type": "stream",
     "text": [
      "100%|██████████| 20967/20967 [04:39<00:00, 75.13it/s]\n",
      "  0%|          | 10/10053 [00:00<01:50, 90.50it/s]"
     ]
    },
    {
     "name": "stdout",
     "output_type": "stream",
     "text": [
      "[INFO] accuracy: 0.8875375590213193\n",
      "[INFO] Start process ccpd_rotate\n"
     ]
    },
    {
     "name": "stderr",
     "output_type": "stream",
     "text": [
      "100%|██████████| 10053/10053 [01:49<00:00, 91.83it/s]\n",
      "  0%|          | 10/30216 [00:00<05:25, 92.85it/s]"
     ]
    },
    {
     "name": "stdout",
     "output_type": "stream",
     "text": [
      "[INFO] accuracy: 0.9335521734805531\n",
      "[INFO] Start process ccpd_tilt\n"
     ]
    },
    {
     "name": "stderr",
     "output_type": "stream",
     "text": [
      "100%|██████████| 30216/30216 [05:30<00:00, 91.35it/s]\n",
      "  0%|          | 10/9999 [00:00<01:48, 91.75it/s]"
     ]
    },
    {
     "name": "stdout",
     "output_type": "stream",
     "text": [
      "[INFO] accuracy: 0.9439369870267408\n",
      "[INFO] Start process ccpd_weather\n"
     ]
    },
    {
     "name": "stderr",
     "output_type": "stream",
     "text": [
      "100%|██████████| 9999/9999 [01:48<00:00, 92.00it/s]\n",
      "  0%|          | 10/20611 [00:00<03:37, 94.69it/s]"
     ]
    },
    {
     "name": "stdout",
     "output_type": "stream",
     "text": [
      "[INFO] accuracy: 0.9901990199019902\n",
      "[INFO] Start process ccpd_blur\n"
     ]
    },
    {
     "name": "stderr",
     "output_type": "stream",
     "text": [
      "100%|██████████| 20611/20611 [03:38<00:00, 94.17it/s]"
     ]
    },
    {
     "name": "stdout",
     "output_type": "stream",
     "text": [
      "[INFO] accuracy: 0.8050070350783562\n"
     ]
    },
    {
     "name": "stderr",
     "output_type": "stream",
     "text": [
      "\n"
     ]
    }
   ],
   "source": [
    "suffixes = [\n",
    "    #\"ccpd_base\", \n",
    "    \"ccpd_challenge\", \n",
    "    \"ccpd_db\", \n",
    "    \"ccpd_fn\", \n",
    "    \"ccpd_rotate\", \n",
    "    \"ccpd_tilt\", \n",
    "    \"ccpd_weather\",\n",
    "    \"ccpd_blur\", \n",
    "]\n",
    "glob_images_format = \"/var/www/nomeroff-net/datasets/numberplate_china/CCPD2019/{}/*\"\n",
    "\n",
    "for suffix in suffixes:\n",
    "    print(\"[INFO] Start process\", suffix)\n",
    "    glob_images = glob_images_format.format(suffix)\n",
    "    good_count = 0\n",
    "    bad_count = 0\n",
    "    for path in tqdm.tqdm(glob.glob(glob_images)):\n",
    "        is_good = compare(path, debug=0)\n",
    "        if is_good:\n",
    "            good_count += 1\n",
    "        else:\n",
    "            bad_count += 1\n",
    "    print(\"[INFO] accuracy:\", good_count/(good_count+bad_count))"
   ]
  },
  {
   "cell_type": "code",
   "execution_count": null,
   "metadata": {},
   "outputs": [],
   "source": []
  },
  {
   "cell_type": "code",
   "execution_count": 148,
   "metadata": {},
   "outputs": [
    {
     "name": "stdout",
     "output_type": "stream",
     "text": [
      "ccpd_green 0.8997112771739131 1180.9999999999995\n",
      "ccpd_rotate 0.9150502337610663 854.0000000000003\n",
      "ccpd_tilt 0.9163026211278793 2528.999999999999\n",
      "ccpd_weather 0.9585958595859586 413.9999999999999\n",
      "ccpd_base 0.9922348446968939 1553.0000000000005\n",
      "ccpd_blur 0.6204939110183882 7822.0\n",
      "ccpd_challenge 0.8537887726736396 7310.999999999998\n",
      "ccpd_db 0.7181208053691275 2856.0000000000005\n",
      "ccpd_fn 0.8068870129250727 4049.000000000001\n"
     ]
    }
   ],
   "source": [
    "print(\"ccpd_green\", 0.8997112771739131, 11776*(1-0.8997112771739131))\n",
    "print(\"ccpd_rotate\", 0.9150502337610663, 10053*(1-0.9150502337610663))\n",
    "print(\"ccpd_tilt\", 0.9163026211278793, 30216*(1-0.9163026211278793))\n",
    "print(\"ccpd_weather\", 0.9585958595859586, 9999*(1-0.9585958595859586))\n",
    "print(\"ccpd_base\", 0.9922348446968939, 199996*(1-0.9922348446968939))\n",
    "print(\"ccpd_blur\", 0.6204939110183882, 20611*(1-0.6204939110183882))\n",
    "print(\"ccpd_challenge\", 0.8537887726736396, 50003*(1-0.8537887726736396))\n",
    "print(\"ccpd_db\", 0.7181208053691275, 10132*(1-0.7181208053691275))\n",
    "print(\"ccpd_fn\", 0.8068870129250727, 20967*(1-0.8068870129250727))"
   ]
  },
  {
   "cell_type": "code",
   "execution_count": 147,
   "metadata": {},
   "outputs": [
    {
     "name": "stdout",
     "output_type": "stream",
     "text": [
      "[INFO] Start process ccpd_base\n",
      "199996\n",
      "[INFO] Start process ccpd_blur\n",
      "20611\n",
      "[INFO] Start process ccpd_challenge\n",
      "50003\n",
      "[INFO] Start process ccpd_db\n",
      "10132\n",
      "[INFO] Start process ccpd_fn\n",
      "20967\n",
      "[INFO] Start process ccpd_rotate\n",
      "10053\n",
      "[INFO] Start process ccpd_tilt\n",
      "30216\n",
      "[INFO] Start process ccpd_weather\n",
      "9999\n"
     ]
    }
   ],
   "source": [
    "suffixes = [\n",
    "            \"ccpd_base\", \"ccpd_blur\", \"ccpd_challenge\", \"ccpd_db\", \"ccpd_fn\", \n",
    "            \"ccpd_rotate\", \"ccpd_tilt\", \"ccpd_weather\"\n",
    "]\n",
    "glob_images_format = \"/var/www/nomeroff-net/datasets/numberplate_china/CCPD2019/{}/*\"\n",
    "\n",
    "for suffix in suffixes:\n",
    "    print(\"[INFO] Start process\", suffix)\n",
    "    glob_images = glob_images_format.format(suffix)\n",
    "    print(len(glob.glob(glob_images)))"
   ]
  },
  {
   "cell_type": "code",
   "execution_count": null,
   "metadata": {},
   "outputs": [],
   "source": []
  }
 ],
 "metadata": {
  "kernelspec": {
   "display_name": "Python 3",
   "language": "python",
   "name": "python3"
  },
  "language_info": {
   "codemirror_mode": {
    "name": "ipython",
    "version": 3
   },
   "file_extension": ".py",
   "mimetype": "text/x-python",
   "name": "python",
   "nbconvert_exporter": "python",
   "pygments_lexer": "ipython3",
   "version": "3.8.7"
  }
 },
 "nbformat": 4,
 "nbformat_minor": 4
}
