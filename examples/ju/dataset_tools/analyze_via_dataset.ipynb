{
 "cells": [
  {
   "cell_type": "code",
   "execution_count": 1,
   "metadata": {},
   "outputs": [],
   "source": [
    "import os\n",
    "import matplotlib.pyplot as plt\n",
    "from _paths import nomeroff_net_dir\n",
    "from nomeroff_net.tools.datasets_tools import delete_not_used_images_from_via_dataset"
   ]
  },
  {
   "cell_type": "code",
   "execution_count": 3,
   "metadata": {},
   "outputs": [],
   "source": [
    "STATES = [\"val\", \"train\"]\n",
    "\n",
    "PATH_TO_IMAGES = os.path.join(nomeroff_net_dir,\n",
    "                              \"./data/dataset/Detector/autoria_numberplate_dataset_example/{}/\")\n",
    "PATH_TO_JSON = os.path.join(PATH_TO_IMAGES, \"./via_region_data.json\")"
   ]
  },
  {
   "cell_type": "code",
   "execution_count": 4,
   "metadata": {},
   "outputs": [],
   "source": [
    "%matplotlib inline\n",
    "plt.rcParams[\"figure.figsize\"] = (20,10)"
   ]
  },
  {
   "cell_type": "code",
   "execution_count": 5,
   "metadata": {},
   "outputs": [],
   "source": [
    "for state in STATES:\n",
    "\n",
    "    path_to_json = PATH_TO_JSON.format(state)\n",
    "    path_to_images = PATH_TO_IMAGES.format(state)\n",
    "    \n",
    "    delete_not_used_images_from_via_dataset(\n",
    "        path_to_images,\n",
    "        path_to_json,\n",
    "        delete_not_used_images=False)"
   ]
  },
  {
   "cell_type": "code",
   "execution_count": null,
   "metadata": {},
   "outputs": [],
   "source": []
  }
 ],
 "metadata": {
  "kernelspec": {
   "display_name": "Python 3",
   "language": "python",
   "name": "python3"
  },
  "language_info": {
   "codemirror_mode": {
    "name": "ipython",
    "version": 3
   },
   "file_extension": ".py",
   "mimetype": "text/x-python",
   "name": "python",
   "nbconvert_exporter": "python",
   "pygments_lexer": "ipython3",
   "version": "3.8.7"
  }
 },
 "nbformat": 4,
 "nbformat_minor": 4
}