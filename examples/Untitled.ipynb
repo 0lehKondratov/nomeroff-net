{
 "cells": [
  {
   "cell_type": "code",
   "execution_count": 1,
   "metadata": {},
   "outputs": [],
   "source": [
    "import os\n",
    "os.environ[\"CUDA_VISIBLE_DEVICES\"] = \"0\"\n",
    "\n",
    "# add nomeroff_net to path\n",
    "import sys\n",
    "NOMEROFF_NET_DIR = os.path.abspath('../')\n",
    "sys.path.append(NOMEROFF_NET_DIR)\n",
    "\n",
    "import matplotlib.pyplot as plt"
   ]
  },
  {
   "cell_type": "code",
   "execution_count": 2,
   "metadata": {},
   "outputs": [],
   "source": [
    "from nomeroff_net import pipeline"
   ]
  },
  {
   "cell_type": "code",
   "execution_count": 3,
   "metadata": {
    "scrolled": false
   },
   "outputs": [
    {
     "name": "stderr",
     "output_type": "stream",
     "text": [
      "YOLOv5 🚀 v6.0-154-gb8a4bab torch 1.9.0+cu102 CPU\n",
      "\n",
      "Fusing layers... \n",
      "Model Summary: 213 layers, 7012822 parameters, 0 gradients\n"
     ]
    },
    {
     "name": "stdout",
     "output_type": "stream",
     "text": [
      "Loading weights from checkpoint (/mnt/data/var/www/nomeroff-net/nomeroff_net/tools/../../data/./models/np_points_craft/craft_mlt/craft_mlt_25k_2020-02-16.pth)\n",
      "Loading weights of refiner from checkpoint (/mnt/data/var/www/nomeroff-net/nomeroff_net/tools/../../data/./models/np_points_craft/craft_refiner/craft_refiner_CTW1500_2020-02-16.pth)\n"
     ]
    }
   ],
   "source": [
    "number_plate_detection_and_reading = pipeline(\"number_plate_detection_and_reading_runtime\", \n",
    "                                              image_loader=\"turbo\")"
   ]
  },
  {
   "cell_type": "code",
   "execution_count": 4,
   "metadata": {},
   "outputs": [
    {
     "name": "stderr",
     "output_type": "stream",
     "text": [
      "/mnt/data/var/www/nomeroff-net/nomeroff_net/nnmodels/numberplate_options_model.py:112: UserWarning: Implicit dimension choice for softmax has been deprecated. Change the call to include dim=X as an argument.\n",
      "  x1 = functional.softmax(self.fc3_reg(x1))\n",
      "/mnt/data/var/www/nomeroff-net/nomeroff_net/nnmodels/numberplate_options_model.py:121: UserWarning: Implicit dimension choice for softmax has been deprecated. Change the call to include dim=X as an argument.\n",
      "  x2 = functional.softmax(self.fc3_line(x2))\n"
     ]
    }
   ],
   "source": [
    "outputs = number_plate_detection_and_reading(['./images/example1.jpeg', './images/example2.jpeg'], \n",
    "                                             batch_size=1)"
   ]
  },
  {
   "cell_type": "code",
   "execution_count": 5,
   "metadata": {},
   "outputs": [
    {
     "data": {
      "text/plain": [
       "{'NumberPlateLocalization.preprocess': 0.026872634887695312,\n",
       " 'NumberPlateLocalization.forward': 0.18301606178283691,\n",
       " 'NumberPlateLocalization.postprocess': 0.0014810562133789062,\n",
       " 'NumberPlateLocalization.call': 0.2114121913909912,\n",
       " 'NumberPlateKeyPointsDetection.preprocess': 9.775161743164062e-06,\n",
       " 'NumberPlateKeyPointsDetection.forward': 0.2213599681854248,\n",
       " 'NumberPlateKeyPointsDetection.postprocess': 2.384185791015625e-06,\n",
       " 'NumberPlateKeyPointsDetection.call': 0.221388578414917,\n",
       " 'NumberPlateClassification.preprocess': 0.0052144527435302734,\n",
       " 'NumberPlateClassification.forward': 0.023713350296020508,\n",
       " 'NumberPlateClassification.postprocess': 0.00010275840759277344,\n",
       " 'NumberPlateClassification.call': 0.029063940048217773,\n",
       " 'NumberPlateTextReading.preprocess': 4.291534423828125e-06,\n",
       " 'NumberPlateTextReading.forward': 0.019723176956176758,\n",
       " 'NumberPlateTextReading.postprocess': 0.0006933212280273438,\n",
       " 'NumberPlateTextReading.call': 0.020440101623535156,\n",
       " 'NumberPlateDetectionAndReadingRuntime.call': 0.4851994514465332}"
      ]
     },
     "execution_count": 5,
     "metadata": {},
     "output_type": "execute_result"
    }
   ],
   "source": [
    "number_plate_detection_and_reading.get_timer_stat()"
   ]
  },
  {
   "cell_type": "code",
   "execution_count": 7,
   "metadata": {},
   "outputs": [
    {
     "name": "stdout",
     "output_type": "stream",
     "text": [
      "\n",
      "[1] ['eu_ua_2015']\n",
      "['AC4921CB']\n",
      "\n",
      "[4, 4] ['eu', 'eu']\n",
      "['RP70012', 'JJF509']\n"
     ]
    }
   ],
   "source": [
    "for images, images_bboxs, \\\n",
    "        images_points, zones, \\\n",
    "        region_ids, region_names, \\\n",
    "        count_lines, confidences, texts in outputs:\n",
    "    print()\n",
    "    print(region_ids, region_names)\n",
    "    print(texts)"
   ]
  },
  {
   "cell_type": "code",
   "execution_count": null,
   "metadata": {},
   "outputs": [],
   "source": []
  }
 ],
 "metadata": {
  "kernelspec": {
   "display_name": "Python 3",
   "language": "python",
   "name": "python3"
  },
  "language_info": {
   "codemirror_mode": {
    "name": "ipython",
    "version": 3
   },
   "file_extension": ".py",
   "mimetype": "text/x-python",
   "name": "python",
   "nbconvert_exporter": "python",
   "pygments_lexer": "ipython3",
   "version": "3.8.7"
  }
 },
 "nbformat": 4,
 "nbformat_minor": 4
}
