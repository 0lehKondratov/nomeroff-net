{
 "cells": [
  {
   "cell_type": "markdown",
   "metadata": {},
   "source": [
    "<img width=\"400\" src=\"https://nomeroff.net.ua/images/logo/nomeroff_net.svg\" alt=\"Nomeroff Net. Automatic numberplate recognition system\" align=\"left\"/>"
   ]
  },
  {
   "cell_type": "markdown",
   "metadata": {},
   "source": [
    "## Quick recognition example."
   ]
  },
  {
   "cell_type": "markdown",
   "metadata": {},
   "source": [
    "Before runing this demo, please download models from [https://nomeroff.net.ua/models/](https://nomeroff.net.ua/models/) to **./models/** directory. "
   ]
  },
  {
   "cell_type": "code",
   "execution_count": 1,
   "metadata": {},
   "outputs": [],
   "source": [
    "# Specify device\n",
    "import os\n",
    "os.environ[\"CUDA_VISIBLE_DEVICES\"] = \"0\" \n",
    "# os.environ[\"CUDA_VISIBLE_DEVICES\"] = \"\"  # For CPU inference"
   ]
  },
  {
   "cell_type": "code",
   "execution_count": 2,
   "metadata": {},
   "outputs": [],
   "source": [
    "# dynamically grow the memory used on the GPU\n",
    "from tensorflow.compat.v1.keras.backend import set_session\n",
    "import tensorflow as tf\n",
    "config = tf.compat.v1.ConfigProto()\n",
    "config.gpu_options.allow_growth = True \n",
    "sess = tf.compat.v1.Session(config=config)\n",
    "set_session(sess)"
   ]
  },
  {
   "cell_type": "code",
   "execution_count": 3,
   "metadata": {},
   "outputs": [],
   "source": [
    "# Import all necessary libraries.\n",
    "import os\n",
    "import numpy as np\n",
    "import sys\n",
    "import matplotlib.image as mpimg\n",
    "\n",
    "# NomeroffNet path\n",
    "NOMEROFF_NET_DIR = os.path.abspath('../')\n",
    "sys.path.append(NOMEROFF_NET_DIR)"
   ]
  },
  {
   "cell_type": "code",
   "execution_count": 4,
   "metadata": {},
   "outputs": [
    {
     "name": "stderr",
     "output_type": "stream",
     "text": [
      "Config '/var/www/nomeroff-net/./NomeroffNet/configs/centermask2/numberplates/centermask_numberplate_V_39_eSE_FPN_ms_3x.yaml' has no VERSION. Assuming it to be compatible with latest v2.\n"
     ]
    }
   ],
   "source": [
    "# Import license plate recognition tools.\n",
    "from NomeroffNet import  Detector\n",
    "from NomeroffNet import  filters\n",
    "from NomeroffNet import  RectDetector\n",
    "from NomeroffNet import  OptionsDetector\n",
    "from NomeroffNet import  TextDetector\n",
    "from NomeroffNet import  textPostprocessing\n",
    "\n",
    "# load models\n",
    "nnet = Detector()\n",
    "nnet.loadModel(NOMEROFF_NET_DIR)\n",
    "\n",
    "rectDetector = RectDetector()\n",
    "\n",
    "optionsDetector = OptionsDetector()\n",
    "optionsDetector.load_pb(\"../models/trt_saved_model_options\")\n",
    "\n",
    "textDetector = TextDetector.get_static_module(\"eu\")()\n",
    "textDetector.load_pb(\"../models/trt_saved_model_ocr_eu\")"
   ]
  },
  {
   "cell_type": "code",
   "execution_count": 5,
   "metadata": {},
   "outputs": [
    {
     "name": "stderr",
     "output_type": "stream",
     "text": [
      "/var/www/nomeroff-net/centermask2/centermask/modeling/fcos/fcos_outputs.py:402: UserWarning: This overload of nonzero is deprecated:\n",
      "\tnonzero()\n",
      "Consider using one of the following signatures instead:\n",
      "\tnonzero(*, bool as_tuple) (Triggered internally at  /pytorch/torch/csrc/utils/python_arg_parser.cpp:766.)\n",
      "  per_candidate_nonzeros = per_candidate_inds.nonzero()\n"
     ]
    }
   ],
   "source": [
    "# Detect numberplate\n",
    "img_path = 'images/example2.jpeg'\n",
    "img = mpimg.imread(img_path)\n",
    "NP = nnet.detect_mask([img])"
   ]
  },
  {
   "cell_type": "code",
   "execution_count": 7,
   "metadata": {},
   "outputs": [
    {
     "name": "stdout",
     "output_type": "stream",
     "text": [
      "CPU times: user 58.4 s, sys: 34.5 s, total: 1min 32s\n",
      "Wall time: 8.11 s\n"
     ]
    }
   ],
   "source": [
    "%%time\n",
    "# Generate image mask.\n",
    "cv_imgs_masks = nnet.detect_mask([img])\n",
    "\n",
    "for i in range(100):\n",
    "    for cv_img_masks in cv_imgs_masks:\n",
    "        # Detect points.\n",
    "        arrPoints = rectDetector.detect(cv_img_masks)\n",
    "\n",
    "        # cut zones\n",
    "        zones = rectDetector.get_cv_zonesBGR(img, arrPoints, 64, 295)\n",
    "\n",
    "        # find standart\n",
    "        regionIds, stateIds, countLines = optionsDetector.predict_pb(zones)\n",
    "        regionNames = optionsDetector.getRegionLabels(regionIds)\n",
    "\n",
    "        # find text with postprocessing by standart  \n",
    "        textArr = textDetector.predict_pb(zones)\n",
    "        textArr = textPostprocessing(textArr, regionNames)"
   ]
  },
  {
   "cell_type": "markdown",
   "metadata": {},
   "source": [
    "## keras result\n",
    "\n",
    "CPU times: user 59.7 s, sys: 35.3 s, total: 1min 35s\n",
    "Wall time: 9.64 s\n",
    " \n",
    "CPU times: user 1min, sys: 35.2 s, total: 1min 35s\n",
    "Wall time: 9.64 s\n",
    "\n",
    "CPU times: user 1min, sys: 35.2 s, total: 1min 35s\n",
    "Wall time: 9.76 s\n",
    "\n",
    "## trt result"
   ]
  },
  {
   "cell_type": "code",
   "execution_count": null,
   "metadata": {},
   "outputs": [],
   "source": []
  }
 ],
 "metadata": {
  "kernelspec": {
   "display_name": "Python 3",
   "language": "python",
   "name": "python3"
  },
  "language_info": {
   "codemirror_mode": {
    "name": "ipython",
    "version": 3
   },
   "file_extension": ".py",
   "mimetype": "text/x-python",
   "name": "python",
   "nbconvert_exporter": "python",
   "pygments_lexer": "ipython3",
   "version": "3.6.9"
  }
 },
 "nbformat": 4,
 "nbformat_minor": 2
}
