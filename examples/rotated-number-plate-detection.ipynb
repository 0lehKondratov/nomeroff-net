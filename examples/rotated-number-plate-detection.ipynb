{
 "cells": [
  {
   "cell_type": "markdown",
   "metadata": {},
   "source": [
    "<img width=\"400\" src=\"https://nomeroff.net.ua/images/logo/nomeroff_net.svg\" alt=\"Nomeroff Net. Automatic numberplate recognition system\" align=\"left\"/>"
   ]
  },
  {
   "cell_type": "markdown",
   "metadata": {},
   "source": [
    "## The example demonstrates license plate number detection."
   ]
  },
  {
   "cell_type": "markdown",
   "metadata": {},
   "source": [
    "Before runing this demo, please download models from [https://nomeroff.net.ua/models/](https://nomeroff.net.ua/models/) to **./models/** directory. "
   ]
  },
  {
   "cell_type": "code",
   "execution_count": 1,
   "metadata": {},
   "outputs": [],
   "source": [
    "#Specify device\n",
    "import os\n",
    "os.environ[\"CUDA_VISIBLE_DEVICES\"] = \"0\""
   ]
  },
  {
   "cell_type": "code",
   "execution_count": 2,
   "metadata": {},
   "outputs": [],
   "source": [
    "# Import all necessary libraries.\n",
    "import sys\n",
    "import glob\n",
    "import matplotlib.image as mpimg\n",
    "import matplotlib.pyplot as plt\n",
    "import cv2\n",
    "import copy\n",
    "\n",
    "# nomeroff_net path\n",
    "NOMEROFF_NET_DIR = os.path.abspath('../')\n",
    "sys.path.append(NOMEROFF_NET_DIR)"
   ]
  },
  {
   "cell_type": "code",
   "execution_count": 3,
   "metadata": {},
   "outputs": [],
   "source": [
    "from nomeroff_net.tools.image_processing import rotate_im"
   ]
  },
  {
   "cell_type": "code",
   "execution_count": 4,
   "metadata": {},
   "outputs": [
    {
     "name": "stderr",
     "output_type": "stream",
     "text": [
      "/usr/local/lib64/python3.9/site-packages/torch/nn/functional.py:718: UserWarning: Named tensors and all their associated APIs are an experimental feature and subject to change. Please do not use them for anything important until they are released as stable. (Triggered internally at  /pytorch/c10/core/TensorImpl.h:1156.)\n",
      "  return torch.max_pool2d(input, kernel_size, stride, padding, dilation, ceil_mode)\n"
     ]
    }
   ],
   "source": [
    "from nomeroff_net.YoloV5Detector import Detector\n",
    "\n",
    "detector = Detector()\n",
    "detector.load()"
   ]
  },
  {
   "cell_type": "code",
   "execution_count": 5,
   "metadata": {},
   "outputs": [],
   "source": [
    "%matplotlib inline\n",
    "plt.rcParams[\"figure.figsize\"] = (20,10)"
   ]
  },
  {
   "cell_type": "code",
   "execution_count": 6,
   "metadata": {
    "scrolled": false
   },
   "outputs": [],
   "source": [
    "def test_rotateted_detection(root_dir='../banchmarks/images/*',\n",
    "                             angle=0,\n",
    "                             debug=0):\n",
    "    bad_detection_count = 0\n",
    "    image_count = 0\n",
    "    \n",
    "    for img_path in glob.glob(root_dir):\n",
    "        print(img_path)\n",
    "        img = mpimg.imread(img_path)\n",
    "        img = rotate_im(img, angle)\n",
    "\n",
    "        target_boxes = detector.detect_bbox(copy.deepcopy(img))\n",
    "        if debug:\n",
    "            for bbox  in target_boxes:\n",
    "                cv2.rectangle(img, \n",
    "                              (int(bbox[0]), int(bbox[1])), \n",
    "                              (int(bbox[2]), int(bbox[3])), \n",
    "                              (0,120,255), \n",
    "                              3)\n",
    "            plt.imshow(img)\n",
    "            plt.show()\n",
    "\n",
    "        image_count += 1\n",
    "        if not len(target_boxes):\n",
    "            bad_detection_count += 1\n",
    "    \n",
    "    print(\"angle\", angle)\n",
    "    print(\"bad_detection_count\", bad_detection_count)\n",
    "    print(\"image_count\", image_count)\n",
    "    print(\"accuracy\", (image_count-bad_detection_count)/image_count)"
   ]
  },
  {
   "cell_type": "code",
   "execution_count": 7,
   "metadata": {},
   "outputs": [
    {
     "name": "stdout",
     "output_type": "stream",
     "text": [
      "../banchmarks/images/22.jpeg\n",
      "../banchmarks/images/21.jpeg\n",
      "../banchmarks/images/12.jpeg\n",
      "../banchmarks/images/16.jpeg\n",
      "../banchmarks/images/19.jpeg\n",
      "../banchmarks/images/13.jpeg\n",
      "../banchmarks/images/10.jpeg\n",
      "../banchmarks/images/18.jpeg\n",
      "../banchmarks/images/1.jpeg\n",
      "../banchmarks/images/2.jpeg\n",
      "../banchmarks/images/9.jpeg\n",
      "../banchmarks/images/17.jpeg\n",
      "../banchmarks/images/8.jpeg\n",
      "../banchmarks/images/20.jpeg\n",
      "../banchmarks/images/14.jpeg\n",
      "../banchmarks/images/3.jpeg\n",
      "../banchmarks/images/5.jpeg\n",
      "../banchmarks/images/6.jpeg\n",
      "../banchmarks/images/0.jpeg\n",
      "../banchmarks/images/23.jpeg\n",
      "../banchmarks/images/4.jpeg\n",
      "../banchmarks/images/7.jpeg\n",
      "../banchmarks/images/24.jpeg\n",
      "../banchmarks/images/11.jpeg\n",
      "../banchmarks/images/15.jpeg\n",
      "../banchmarks/images/25.jpeg\n",
      "angle 0\n",
      "bad_detection_count 0\n",
      "image_count 26\n",
      "accuracy 1.0\n"
     ]
    }
   ],
   "source": [
    "test_rotateted_detection(angle=0)"
   ]
  },
  {
   "cell_type": "code",
   "execution_count": 8,
   "metadata": {},
   "outputs": [
    {
     "name": "stdout",
     "output_type": "stream",
     "text": [
      "../banchmarks/images/22.jpeg\n",
      "../banchmarks/images/21.jpeg\n",
      "../banchmarks/images/12.jpeg\n",
      "../banchmarks/images/16.jpeg\n",
      "../banchmarks/images/19.jpeg\n",
      "../banchmarks/images/13.jpeg\n",
      "../banchmarks/images/10.jpeg\n",
      "../banchmarks/images/18.jpeg\n",
      "../banchmarks/images/1.jpeg\n",
      "../banchmarks/images/2.jpeg\n",
      "../banchmarks/images/9.jpeg\n",
      "../banchmarks/images/17.jpeg\n",
      "../banchmarks/images/8.jpeg\n",
      "../banchmarks/images/20.jpeg\n",
      "../banchmarks/images/14.jpeg\n",
      "../banchmarks/images/3.jpeg\n",
      "../banchmarks/images/5.jpeg\n",
      "../banchmarks/images/6.jpeg\n",
      "../banchmarks/images/0.jpeg\n",
      "../banchmarks/images/23.jpeg\n",
      "../banchmarks/images/4.jpeg\n",
      "../banchmarks/images/7.jpeg\n",
      "../banchmarks/images/24.jpeg\n",
      "../banchmarks/images/11.jpeg\n",
      "../banchmarks/images/15.jpeg\n",
      "../banchmarks/images/25.jpeg\n",
      "angle 90\n",
      "bad_detection_count 0\n",
      "image_count 26\n",
      "accuracy 1.0\n"
     ]
    }
   ],
   "source": [
    "test_rotateted_detection(angle=90)"
   ]
  },
  {
   "cell_type": "code",
   "execution_count": 9,
   "metadata": {},
   "outputs": [
    {
     "name": "stdout",
     "output_type": "stream",
     "text": [
      "../banchmarks/images/22.jpeg\n",
      "../banchmarks/images/21.jpeg\n",
      "../banchmarks/images/12.jpeg\n",
      "../banchmarks/images/16.jpeg\n",
      "../banchmarks/images/19.jpeg\n",
      "../banchmarks/images/13.jpeg\n",
      "../banchmarks/images/10.jpeg\n",
      "../banchmarks/images/18.jpeg\n",
      "../banchmarks/images/1.jpeg\n",
      "../banchmarks/images/2.jpeg\n",
      "../banchmarks/images/9.jpeg\n",
      "../banchmarks/images/17.jpeg\n",
      "../banchmarks/images/8.jpeg\n",
      "../banchmarks/images/20.jpeg\n",
      "../banchmarks/images/14.jpeg\n",
      "../banchmarks/images/3.jpeg\n",
      "../banchmarks/images/5.jpeg\n",
      "../banchmarks/images/6.jpeg\n",
      "../banchmarks/images/0.jpeg\n",
      "../banchmarks/images/23.jpeg\n",
      "../banchmarks/images/4.jpeg\n",
      "../banchmarks/images/7.jpeg\n",
      "../banchmarks/images/24.jpeg\n",
      "../banchmarks/images/11.jpeg\n",
      "../banchmarks/images/15.jpeg\n",
      "../banchmarks/images/25.jpeg\n",
      "angle 180\n",
      "bad_detection_count 0\n",
      "image_count 26\n",
      "accuracy 1.0\n"
     ]
    }
   ],
   "source": [
    "test_rotateted_detection(angle=180)"
   ]
  },
  {
   "cell_type": "code",
   "execution_count": 10,
   "metadata": {},
   "outputs": [
    {
     "name": "stdout",
     "output_type": "stream",
     "text": [
      "../banchmarks/images/22.jpeg\n",
      "../banchmarks/images/21.jpeg\n",
      "../banchmarks/images/12.jpeg\n",
      "../banchmarks/images/16.jpeg\n",
      "../banchmarks/images/19.jpeg\n",
      "../banchmarks/images/13.jpeg\n",
      "../banchmarks/images/10.jpeg\n",
      "../banchmarks/images/18.jpeg\n",
      "../banchmarks/images/1.jpeg\n",
      "../banchmarks/images/2.jpeg\n",
      "../banchmarks/images/9.jpeg\n",
      "../banchmarks/images/17.jpeg\n",
      "../banchmarks/images/8.jpeg\n",
      "../banchmarks/images/20.jpeg\n",
      "../banchmarks/images/14.jpeg\n",
      "../banchmarks/images/3.jpeg\n",
      "../banchmarks/images/5.jpeg\n",
      "../banchmarks/images/6.jpeg\n",
      "../banchmarks/images/0.jpeg\n",
      "../banchmarks/images/23.jpeg\n",
      "../banchmarks/images/4.jpeg\n",
      "../banchmarks/images/7.jpeg\n",
      "../banchmarks/images/24.jpeg\n",
      "../banchmarks/images/11.jpeg\n",
      "../banchmarks/images/15.jpeg\n",
      "../banchmarks/images/25.jpeg\n",
      "angle 270\n",
      "bad_detection_count 0\n",
      "image_count 26\n",
      "accuracy 1.0\n"
     ]
    }
   ],
   "source": [
    "test_rotateted_detection(angle=270)"
   ]
  },
  {
   "cell_type": "code",
   "execution_count": null,
   "metadata": {},
   "outputs": [],
   "source": []
  }
 ],
 "metadata": {
  "kernelspec": {
   "display_name": "Python 3",
   "language": "python",
   "name": "python3"
  },
  "language_info": {
   "codemirror_mode": {
    "name": "ipython",
    "version": 3
   },
   "file_extension": ".py",
   "mimetype": "text/x-python",
   "name": "python",
   "nbconvert_exporter": "python",
   "pygments_lexer": "ipython3",
   "version": "3.9.5"
  }
 },
 "nbformat": 4,
 "nbformat_minor": 2
}