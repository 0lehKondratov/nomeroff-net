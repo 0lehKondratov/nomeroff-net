{
 "cells": [
  {
   "cell_type": "code",
   "execution_count": 1,
   "metadata": {},
   "outputs": [],
   "source": [
    "# Specify device\n",
    "import os\n",
    "os.environ[\"CUDA_VISIBLE_DEVICES\"] = \"0\""
   ]
  },
  {
   "cell_type": "code",
   "execution_count": 2,
   "metadata": {},
   "outputs": [],
   "source": [
    "# Import all necessary libraries.\n",
    "import numpy as np\n",
    "import sys\n",
    "import time\n",
    "from turbojpeg import TurboJPEG\n",
    "jpeg = TurboJPEG()\n",
    "\n",
    "import warnings\n",
    "warnings.filterwarnings('ignore')\n",
    "\n",
    "# NomeroffNet path\n",
    "NOMEROFF_NET_DIR = os.path.abspath('../')\n",
    "sys.path.append(NOMEROFF_NET_DIR)"
   ]
  },
  {
   "cell_type": "code",
   "execution_count": 3,
   "metadata": {},
   "outputs": [
    {
     "name": "stderr",
     "output_type": "stream",
     "text": [
      "YOLOv5 🚀 v6.0-244-g9cf80b7 torch 1.10.0+cu113 CUDA:0 (NVIDIA GeForce RTX 2080 Ti, 11019MiB)\n",
      "\n",
      "Fusing layers... \n",
      "Model Summary: 213 layers, 7012822 parameters, 0 gradients, 15.8 GFLOPs\n"
     ]
    }
   ],
   "source": [
    "from nomeroff_net.pipes.number_plate_localizators.yolo_v5_detector import Detector\n",
    "\n",
    "detector = Detector()\n",
    "detector.load()"
   ]
  },
  {
   "cell_type": "code",
   "execution_count": 4,
   "metadata": {},
   "outputs": [
    {
     "name": "stdout",
     "output_type": "stream",
     "text": [
      "Loading weights from checkpoint (/mnt/store/nomeroff-net/nomeroff_net/tools/../../data/./models/np_points_craft/craft_mlt/craft_mlt_25k_2020-02-16.pth)\n",
      "Loading weights of refiner from checkpoint (/mnt/store/nomeroff-net/nomeroff_net/tools/../../data/./models/np_points_craft/craft_refiner/craft_refiner_CTW1500_2020-02-16.pth)\n"
     ]
    }
   ],
   "source": [
    "from nomeroff_net.pipes.number_plate_keypoints_detectors.bbox_np_points import NpPointsCraft\n",
    "from nomeroff_net.tools import convert_cv_zones_rgb_to_bgr, get_cv_zone_rgb, reshape_points\n",
    "\n",
    "npPointsCraft = NpPointsCraft()\n",
    "npPointsCraft.load()"
   ]
  },
  {
   "cell_type": "code",
   "execution_count": 5,
   "metadata": {},
   "outputs": [
    {
     "data": {
      "text/plain": [
       "NPOptionsNet(\n",
       "  (resnet): Sequential(\n",
       "    (0): Conv2d(3, 64, kernel_size=(7, 7), stride=(2, 2), padding=(3, 3), bias=False)\n",
       "    (1): BatchNorm2d(64, eps=1e-05, momentum=0.1, affine=True, track_running_stats=True)\n",
       "    (2): ReLU(inplace=True)\n",
       "    (3): MaxPool2d(kernel_size=3, stride=2, padding=1, dilation=1, ceil_mode=False)\n",
       "    (4): Sequential(\n",
       "      (0): BasicBlock(\n",
       "        (conv1): Conv2d(64, 64, kernel_size=(3, 3), stride=(1, 1), padding=(1, 1), bias=False)\n",
       "        (bn1): BatchNorm2d(64, eps=1e-05, momentum=0.1, affine=True, track_running_stats=True)\n",
       "        (relu): ReLU(inplace=True)\n",
       "        (conv2): Conv2d(64, 64, kernel_size=(3, 3), stride=(1, 1), padding=(1, 1), bias=False)\n",
       "        (bn2): BatchNorm2d(64, eps=1e-05, momentum=0.1, affine=True, track_running_stats=True)\n",
       "      )\n",
       "      (1): BasicBlock(\n",
       "        (conv1): Conv2d(64, 64, kernel_size=(3, 3), stride=(1, 1), padding=(1, 1), bias=False)\n",
       "        (bn1): BatchNorm2d(64, eps=1e-05, momentum=0.1, affine=True, track_running_stats=True)\n",
       "        (relu): ReLU(inplace=True)\n",
       "        (conv2): Conv2d(64, 64, kernel_size=(3, 3), stride=(1, 1), padding=(1, 1), bias=False)\n",
       "        (bn2): BatchNorm2d(64, eps=1e-05, momentum=0.1, affine=True, track_running_stats=True)\n",
       "      )\n",
       "    )\n",
       "    (5): Sequential(\n",
       "      (0): BasicBlock(\n",
       "        (conv1): Conv2d(64, 128, kernel_size=(3, 3), stride=(2, 2), padding=(1, 1), bias=False)\n",
       "        (bn1): BatchNorm2d(128, eps=1e-05, momentum=0.1, affine=True, track_running_stats=True)\n",
       "        (relu): ReLU(inplace=True)\n",
       "        (conv2): Conv2d(128, 128, kernel_size=(3, 3), stride=(1, 1), padding=(1, 1), bias=False)\n",
       "        (bn2): BatchNorm2d(128, eps=1e-05, momentum=0.1, affine=True, track_running_stats=True)\n",
       "        (downsample): Sequential(\n",
       "          (0): Conv2d(64, 128, kernel_size=(1, 1), stride=(2, 2), bias=False)\n",
       "          (1): BatchNorm2d(128, eps=1e-05, momentum=0.1, affine=True, track_running_stats=True)\n",
       "        )\n",
       "      )\n",
       "      (1): BasicBlock(\n",
       "        (conv1): Conv2d(128, 128, kernel_size=(3, 3), stride=(1, 1), padding=(1, 1), bias=False)\n",
       "        (bn1): BatchNorm2d(128, eps=1e-05, momentum=0.1, affine=True, track_running_stats=True)\n",
       "        (relu): ReLU(inplace=True)\n",
       "        (conv2): Conv2d(128, 128, kernel_size=(3, 3), stride=(1, 1), padding=(1, 1), bias=False)\n",
       "        (bn2): BatchNorm2d(128, eps=1e-05, momentum=0.1, affine=True, track_running_stats=True)\n",
       "      )\n",
       "    )\n",
       "    (6): Sequential(\n",
       "      (0): BasicBlock(\n",
       "        (conv1): Conv2d(128, 256, kernel_size=(3, 3), stride=(2, 2), padding=(1, 1), bias=False)\n",
       "        (bn1): BatchNorm2d(256, eps=1e-05, momentum=0.1, affine=True, track_running_stats=True)\n",
       "        (relu): ReLU(inplace=True)\n",
       "        (conv2): Conv2d(256, 256, kernel_size=(3, 3), stride=(1, 1), padding=(1, 1), bias=False)\n",
       "        (bn2): BatchNorm2d(256, eps=1e-05, momentum=0.1, affine=True, track_running_stats=True)\n",
       "        (downsample): Sequential(\n",
       "          (0): Conv2d(128, 256, kernel_size=(1, 1), stride=(2, 2), bias=False)\n",
       "          (1): BatchNorm2d(256, eps=1e-05, momentum=0.1, affine=True, track_running_stats=True)\n",
       "        )\n",
       "      )\n",
       "      (1): BasicBlock(\n",
       "        (conv1): Conv2d(256, 256, kernel_size=(3, 3), stride=(1, 1), padding=(1, 1), bias=False)\n",
       "        (bn1): BatchNorm2d(256, eps=1e-05, momentum=0.1, affine=True, track_running_stats=True)\n",
       "        (relu): ReLU(inplace=True)\n",
       "        (conv2): Conv2d(256, 256, kernel_size=(3, 3), stride=(1, 1), padding=(1, 1), bias=False)\n",
       "        (bn2): BatchNorm2d(256, eps=1e-05, momentum=0.1, affine=True, track_running_stats=True)\n",
       "      )\n",
       "    )\n",
       "  )\n",
       "  (dropout_reg): Dropout(p=0.2, inplace=False)\n",
       "  (fc1_reg): Linear(in_features=19456, out_features=512, bias=True)\n",
       "  (fc2_reg): Linear(in_features=512, out_features=256, bias=True)\n",
       "  (batch_norm_reg): BatchNorm1d(512, eps=1e-05, momentum=0.1, affine=True, track_running_stats=True)\n",
       "  (fc3_reg): Linear(in_features=256, out_features=15, bias=True)\n",
       "  (dropout_line): Dropout(p=0.2, inplace=False)\n",
       "  (fc1_line): Linear(in_features=19456, out_features=512, bias=True)\n",
       "  (fc2_line): Linear(in_features=512, out_features=256, bias=True)\n",
       "  (batch_norm_line): BatchNorm1d(512, eps=1e-05, momentum=0.1, affine=True, track_running_stats=True)\n",
       "  (fc3_line): Linear(in_features=256, out_features=3, bias=True)\n",
       ")"
      ]
     },
     "execution_count": 5,
     "metadata": {},
     "output_type": "execute_result"
    }
   ],
   "source": [
    "from nomeroff_net.pipes.number_plate_classificators.options_detector import OptionsDetector\n",
    "\n",
    "optionsDetector = OptionsDetector()\n",
    "optionsDetector.load()"
   ]
  },
  {
   "cell_type": "code",
   "execution_count": 6,
   "metadata": {},
   "outputs": [],
   "source": [
    "from nomeroff_net.pipes.number_plate_text_readers.text_detector import TextDetector\n",
    "\n",
    "# Initialize text detector.\n",
    "textDetector = TextDetector({\n",
    "    \"eu_ua_2004_2015\": {\n",
    "        \"for_regions\": [\"eu_ua_2015\", \"eu_ua_2004\"],\n",
    "        \"model_path\": \"latest\"\n",
    "    },\n",
    "    \"eu_ua_1995\": {\n",
    "        \"for_regions\": [\"eu_ua_1995\"],\n",
    "        \"model_path\": \"latest\"\n",
    "    },\n",
    "    \"eu\": {\n",
    "        \"for_regions\": [\"eu\"],\n",
    "        \"model_path\": \"latest\"\n",
    "    },\n",
    "    \"ru\": {\n",
    "        \"for_regions\": [\"ru\", \"eu-ua-ordlo-lpr\", \"eu-ua-ordlo-dpr\"],\n",
    "        \"model_path\": \"latest\" \n",
    "    },\n",
    "    \"kz\": {\n",
    "        \"for_regions\": [\"kz\"],\n",
    "        \"model_path\": \"latest\"\n",
    "    },\n",
    "    \"kg\": {\n",
    "        \"for_regions\": [\"kg\"],\n",
    "        \"model_path\": \"latest\"\n",
    "    },\n",
    "    \"ge\": {\n",
    "        \"for_regions\": [\"ge\"],\n",
    "        \"model_path\": \"latest\"\n",
    "    },\n",
    "    \"su\": {\n",
    "        \"for_regions\": [\"su\"],\n",
    "        \"model_path\": \"latest\"\n",
    "    },\n",
    "    \"am\": {\n",
    "        \"for_regions\": [\"am\"],\n",
    "        \"model_path\": \"latest\"\n",
    "    },\n",
    "})"
   ]
  },
  {
   "cell_type": "code",
   "execution_count": 7,
   "metadata": {},
   "outputs": [],
   "source": [
    "async def test(dirName, fname):\n",
    "    start_time = time.time()\n",
    "    img_path = os.path.join(dirName, fname)\n",
    "    with open(img_path, 'rb') as in_file:\n",
    "        img = jpeg.decode(in_file.read())\n",
    "    #img = cv2.imread(img_path)\n",
    "    image_load_time = time.time() - start_time\n",
    "\n",
    "    start_time = time.time()\n",
    "    targetBoxes = detector.detect_bbox(img)\n",
    "    detect_bbox_time = time.time() - start_time\n",
    "    \n",
    "    start_time = time.time()\n",
    "    all_points = npPointsCraft.detect(img, targetBoxes)\n",
    "    all_points = [ps for ps in all_points if len(ps)]\n",
    "    craft_time = time.time() - start_time\n",
    "    \n",
    "    start_time = time.time()\n",
    "    \n",
    "    zones = convert_cv_zones_rgb_to_bgr([get_cv_zone_rgb(img, reshape_points(rect,1)) for rect in all_points])\n",
    "    \n",
    "    perspective_align_time = time.time() - start_time\n",
    "    \n",
    "    start_time = time.time()\n",
    "    regionIds, countLines = optionsDetector.predict(zones)\n",
    "    regionNames = optionsDetector.get_region_labels(regionIds)\n",
    "    classification_time = time.time() - start_time\n",
    "    \n",
    "    start_time = time.time()\n",
    "    #print(fname, regionNames, countLines)\n",
    "    #textArr = textDetector.predict(zones, regionNames, countLines)\n",
    "    model_inputs = textDetector.preprocess(zones, regionNames, countLines)\n",
    "    model_outputs = textDetector.forward(model_inputs)\n",
    "    #textArr = self.ocr_detector.postprocess(model_outputs)\n",
    "    ocr_time = time.time() - start_time\n",
    "    return (image_load_time, detect_bbox_time, craft_time, perspective_align_time, classification_time, ocr_time)"
   ]
  },
  {
   "cell_type": "code",
   "execution_count": 12,
   "metadata": {},
   "outputs": [
    {
     "name": "stdout",
     "output_type": "stream",
     "text": [
      "pass 0\n",
      "pass 1\n",
      "pass 2\n",
      "pass 3\n",
      "pass 4\n",
      "pass 5\n",
      "pass 6\n",
      "pass 7\n",
      "pass 8\n",
      "pass 9\n"
     ]
    }
   ],
   "source": [
    "N = 10\n",
    "\n",
    "i = 0\n",
    "j = 0\n",
    "\n",
    "image_load_time_all        = 0\n",
    "detect_bbox_time_all       = 0\n",
    "craft_time_all             = 0\n",
    "perspective_align_time_all = 0\n",
    "classification_time_all    = 0\n",
    "ocr_time_all               = 0\n",
    "\n",
    "start_time = time.time()\n",
    "rootDir = 'images/'\n",
    "for i in np.arange(N):\n",
    "    print(\"pass {}\".format(i))\n",
    "    for dirName, subdirList, fileList in os.walk(rootDir):\n",
    "        for fname in fileList:\n",
    "            image_load_time, \\\n",
    "                detect_bbox_time, \\\n",
    "                craft_time, \\\n",
    "                perspective_align_time, \\\n",
    "                classification_time, \\\n",
    "                ocr_time = await test(dirName, fname)\n",
    "            image_load_time_all        += image_load_time\n",
    "            detect_bbox_time_all       += detect_bbox_time\n",
    "            craft_time_all             += craft_time\n",
    "            perspective_align_time_all += perspective_align_time\n",
    "            classification_time_all    += classification_time\n",
    "            ocr_time_all               += ocr_time\n",
    "            j += 1\n",
    "            #print(i, j)\n",
    "    i += 1\n",
    "end_time = time.time() - start_time"
   ]
  },
  {
   "cell_type": "code",
   "execution_count": 13,
   "metadata": {},
   "outputs": [
    {
     "name": "stdout",
     "output_type": "stream",
     "text": [
      "Processed 250 photos\n",
      "Time 14.905659914016724\n",
      "One photo process 0.05962263965606689 seconds\n",
      "\n",
      "image_load_time_all 5.617801666259766; 0.022471206665039063 per one photo\n",
      "detect_bbox_time_all 2.6758947372436523; 0.010703578948974609 per one photo\n",
      "craft_time_all 4.165661096572876; 0.016662644386291503 per one photo\n",
      "perspective_align_time_all 0.7589242458343506; 0.0030356969833374024 per one photo\n",
      "classification_time_all 0.7444291114807129; 0.0029777164459228516 per one photo\n",
      "ocr_time_all 0.9303250312805176; 0.00372130012512207 per one photo\n"
     ]
    }
   ],
   "source": [
    "print(f\"Processed {j} photos\")\n",
    "print(f\"Time {end_time}\")\n",
    "print(f\"One photo process {end_time/j} seconds\")\n",
    "print()\n",
    "print(f\"image_load_time_all {image_load_time_all}; {image_load_time_all/j} per one photo\")\n",
    "print(f\"detect_bbox_time_all {detect_bbox_time_all}; {detect_bbox_time_all/j} per one photo\")\n",
    "print(f\"craft_time_all {craft_time_all}; {craft_time_all/j} per one photo\")\n",
    "print(f\"perspective_align_time_all {perspective_align_time_all}; {perspective_align_time_all/j} per one photo\")\n",
    "print(f\"classification_time_all {classification_time_all}; {classification_time_all/j} per one photo\")\n",
    "print(f\"ocr_time_all {ocr_time_all}; {ocr_time_all/j} per one photo\")"
   ]
  },
  {
   "cell_type": "code",
   "execution_count": null,
   "metadata": {},
   "outputs": [],
   "source": [
    "# old version\n",
    "\n",
    "# Processed 310 photos\n",
    "# Time 15.948540687561035\n",
    "# One photo process 0.05144690544374528 seconds\n",
    "\n",
    "# image_load_time_all 6.033987283706665; 0.01946447510873118 per one photo\n",
    "# detect_bbox_time_all 2.778740644454956; 0.008963679498241794 per one photo\n",
    "# craft_time_all 4.546112775802612; 0.01466487992194391 per one photo\n",
    "# perspective_align_time_all 0.9103446006774902; 0.00293659548605642 per one photo\n",
    "# classification_time_all 0.7576234340667725; 0.0024439465615057176 per one photo\n",
    "# ocr_time_all 0.908959150314331; 0.002932126291336552 per one photo"
   ]
  }
 ],
 "metadata": {
  "kernelspec": {
   "display_name": "Python (python3.9)",
   "language": "python",
   "name": "python3.9"
  },
  "language_info": {
   "codemirror_mode": {
    "name": "ipython",
    "version": 3
   },
   "file_extension": ".py",
   "mimetype": "text/x-python",
   "name": "python",
   "nbconvert_exporter": "python",
   "pygments_lexer": "ipython3",
   "version": "3.9.9"
  }
 },
 "nbformat": 4,
 "nbformat_minor": 2
}
