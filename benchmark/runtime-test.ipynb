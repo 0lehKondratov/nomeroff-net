{
 "cells": [
  {
   "cell_type": "markdown",
   "metadata": {},
   "source": [
    "# Runtime Test"
   ]
  },
  {
   "cell_type": "markdown",
   "metadata": {},
   "source": [
    "Before runing this test, please download models from [https://nomeroff.net.ua/models/](https://nomeroff.net.ua/models/) to **./models/** directory. "
   ]
  },
  {
   "cell_type": "code",
   "execution_count": 1,
   "metadata": {},
   "outputs": [],
   "source": [
    "import os\n",
    "os.environ[\"CUDA_VISIBLE_DEVICES\"] = \"0\"\n",
    "\n",
    "# add nomeroff_net to path\n",
    "import sys\n",
    "NOMEROFF_NET_DIR = os.path.abspath('../')\n",
    "sys.path.append(NOMEROFF_NET_DIR)\n",
    "\n",
    "import matplotlib.pyplot as plt\n",
    "from glob import glob"
   ]
  },
  {
   "cell_type": "code",
   "execution_count": 2,
   "metadata": {},
   "outputs": [
    {
     "name": "stderr",
     "output_type": "stream",
     "text": [
      "\r",
      "0it [00:00, ?it/s]"
     ]
    },
    {
     "name": "stdout",
     "output_type": "stream",
     "text": [
      "git clone https://github.com/clovaai/CRAFT-pytorch.git\n"
     ]
    },
    {
     "name": "stderr",
     "output_type": "stream",
     "text": [
      "100%|██████████| 25.0/25.0 [00:03<00:00,  6.79it/s]\n",
      "0it [00:00, ?it/s]"
     ]
    },
    {
     "name": "stdout",
     "output_type": "stream",
     "text": [
      "git clone https://github.com/ultralytics/yolov5.git\n"
     ]
    },
    {
     "name": "stderr",
     "output_type": "stream",
     "text": [
      "100%|██████████| 7121.0/7121.0 [00:06<00:00, 1048.70it/s]  \n"
     ]
    }
   ],
   "source": [
    "from nomeroff_net import pipeline\n",
    "from nomeroff_net.tools import chunked_iterable"
   ]
  },
  {
   "cell_type": "code",
   "execution_count": 3,
   "metadata": {},
   "outputs": [
    {
     "name": "stderr",
     "output_type": "stream",
     "text": [
      "YOLOv5 🚀 v6.0-154-gb8a4bab torch 1.9.0+cu102 CPU\n",
      "\n",
      "Fusing layers... \n",
      "Model Summary: 213 layers, 7012822 parameters, 0 gradients\n"
     ]
    },
    {
     "name": "stdout",
     "output_type": "stream",
     "text": [
      "Loading weights from checkpoint (/mnt/data/var/www/nomeroff-net/nomeroff_net/tools/../../data/./models/np_points_craft/craft_mlt/craft_mlt_25k_2020-02-16.pth)\n",
      "Loading weights of refiner from checkpoint (/mnt/data/var/www/nomeroff-net/nomeroff_net/tools/../../data/./models/np_points_craft/craft_refiner/craft_refiner_CTW1500_2020-02-16.pth)\n"
     ]
    }
   ],
   "source": [
    "number_plate_detection_and_reading = pipeline(\"number_plate_detection_and_reading_runtime\", image_loader=\"turbo\")"
   ]
  },
  {
   "cell_type": "code",
   "execution_count": 4,
   "metadata": {},
   "outputs": [],
   "source": [
    "batch_size=1\n",
    "images = glob('./images/*')\n",
    "images_chunks = list(chunked_iterable(images, batch_size))"
   ]
  },
  {
   "cell_type": "code",
   "execution_count": 5,
   "metadata": {
    "scrolled": true
   },
   "outputs": [
    {
     "name": "stderr",
     "output_type": "stream",
     "text": [
      "/mnt/data/var/www/nomeroff-net/nomeroff_net/nnmodels/numberplate_options_model.py:112: UserWarning: Implicit dimension choice for softmax has been deprecated. Change the call to include dim=X as an argument.\n",
      "  x1 = functional.softmax(self.fc3_reg(x1))\n",
      "/mnt/data/var/www/nomeroff-net/nomeroff_net/nnmodels/numberplate_options_model.py:121: UserWarning: Implicit dimension choice for softmax has been deprecated. Change the call to include dim=X as an argument.\n",
      "  x2 = functional.softmax(self.fc3_line(x2))\n",
      "/mnt/data/var/www/nomeroff-net/nomeroff_net/nnmodels/numberplate_options_model.py:112: UserWarning: Implicit dimension choice for softmax has been deprecated. Change the call to include dim=X as an argument.\n",
      "  x1 = functional.softmax(self.fc3_reg(x1))\n",
      "/mnt/data/var/www/nomeroff-net/nomeroff_net/nnmodels/numberplate_options_model.py:121: UserWarning: Implicit dimension choice for softmax has been deprecated. Change the call to include dim=X as an argument.\n",
      "  x2 = functional.softmax(self.fc3_line(x2))\n",
      "/mnt/data/var/www/nomeroff-net/nomeroff_net/nnmodels/numberplate_options_model.py:112: UserWarning: Implicit dimension choice for softmax has been deprecated. Change the call to include dim=X as an argument.\n",
      "  x1 = functional.softmax(self.fc3_reg(x1))\n",
      "/mnt/data/var/www/nomeroff-net/nomeroff_net/nnmodels/numberplate_options_model.py:121: UserWarning: Implicit dimension choice for softmax has been deprecated. Change the call to include dim=X as an argument.\n",
      "  x2 = functional.softmax(self.fc3_line(x2))\n",
      "/mnt/data/var/www/nomeroff-net/nomeroff_net/nnmodels/numberplate_options_model.py:112: UserWarning: Implicit dimension choice for softmax has been deprecated. Change the call to include dim=X as an argument.\n",
      "  x1 = functional.softmax(self.fc3_reg(x1))\n",
      "/mnt/data/var/www/nomeroff-net/nomeroff_net/nnmodels/numberplate_options_model.py:121: UserWarning: Implicit dimension choice for softmax has been deprecated. Change the call to include dim=X as an argument.\n",
      "  x2 = functional.softmax(self.fc3_line(x2))\n",
      "/mnt/data/var/www/nomeroff-net/nomeroff_net/nnmodels/numberplate_options_model.py:112: UserWarning: Implicit dimension choice for softmax has been deprecated. Change the call to include dim=X as an argument.\n",
      "  x1 = functional.softmax(self.fc3_reg(x1))\n",
      "/mnt/data/var/www/nomeroff-net/nomeroff_net/nnmodels/numberplate_options_model.py:121: UserWarning: Implicit dimension choice for softmax has been deprecated. Change the call to include dim=X as an argument.\n",
      "  x2 = functional.softmax(self.fc3_line(x2))\n",
      "/mnt/data/var/www/nomeroff-net/nomeroff_net/nnmodels/numberplate_options_model.py:112: UserWarning: Implicit dimension choice for softmax has been deprecated. Change the call to include dim=X as an argument.\n",
      "  x1 = functional.softmax(self.fc3_reg(x1))\n",
      "/mnt/data/var/www/nomeroff-net/nomeroff_net/nnmodels/numberplate_options_model.py:121: UserWarning: Implicit dimension choice for softmax has been deprecated. Change the call to include dim=X as an argument.\n",
      "  x2 = functional.softmax(self.fc3_line(x2))\n",
      "/mnt/data/var/www/nomeroff-net/nomeroff_net/nnmodels/numberplate_options_model.py:112: UserWarning: Implicit dimension choice for softmax has been deprecated. Change the call to include dim=X as an argument.\n",
      "  x1 = functional.softmax(self.fc3_reg(x1))\n",
      "/mnt/data/var/www/nomeroff-net/nomeroff_net/nnmodels/numberplate_options_model.py:121: UserWarning: Implicit dimension choice for softmax has been deprecated. Change the call to include dim=X as an argument.\n",
      "  x2 = functional.softmax(self.fc3_line(x2))\n",
      "/mnt/data/var/www/nomeroff-net/nomeroff_net/nnmodels/numberplate_options_model.py:112: UserWarning: Implicit dimension choice for softmax has been deprecated. Change the call to include dim=X as an argument.\n",
      "  x1 = functional.softmax(self.fc3_reg(x1))\n",
      "/mnt/data/var/www/nomeroff-net/nomeroff_net/nnmodels/numberplate_options_model.py:121: UserWarning: Implicit dimension choice for softmax has been deprecated. Change the call to include dim=X as an argument.\n",
      "  x2 = functional.softmax(self.fc3_line(x2))\n",
      "/mnt/data/var/www/nomeroff-net/nomeroff_net/nnmodels/numberplate_options_model.py:112: UserWarning: Implicit dimension choice for softmax has been deprecated. Change the call to include dim=X as an argument.\n",
      "  x1 = functional.softmax(self.fc3_reg(x1))\n",
      "/mnt/data/var/www/nomeroff-net/nomeroff_net/nnmodels/numberplate_options_model.py:121: UserWarning: Implicit dimension choice for softmax has been deprecated. Change the call to include dim=X as an argument.\n",
      "  x2 = functional.softmax(self.fc3_line(x2))\n",
      "/mnt/data/var/www/nomeroff-net/nomeroff_net/nnmodels/numberplate_options_model.py:112: UserWarning: Implicit dimension choice for softmax has been deprecated. Change the call to include dim=X as an argument.\n",
      "  x1 = functional.softmax(self.fc3_reg(x1))\n",
      "/mnt/data/var/www/nomeroff-net/nomeroff_net/nnmodels/numberplate_options_model.py:121: UserWarning: Implicit dimension choice for softmax has been deprecated. Change the call to include dim=X as an argument.\n",
      "  x2 = functional.softmax(self.fc3_line(x2))\n",
      "/mnt/data/var/www/nomeroff-net/nomeroff_net/nnmodels/numberplate_options_model.py:112: UserWarning: Implicit dimension choice for softmax has been deprecated. Change the call to include dim=X as an argument.\n",
      "  x1 = functional.softmax(self.fc3_reg(x1))\n",
      "/mnt/data/var/www/nomeroff-net/nomeroff_net/nnmodels/numberplate_options_model.py:121: UserWarning: Implicit dimension choice for softmax has been deprecated. Change the call to include dim=X as an argument.\n",
      "  x2 = functional.softmax(self.fc3_line(x2))\n",
      "/mnt/data/var/www/nomeroff-net/nomeroff_net/nnmodels/numberplate_options_model.py:112: UserWarning: Implicit dimension choice for softmax has been deprecated. Change the call to include dim=X as an argument.\n",
      "  x1 = functional.softmax(self.fc3_reg(x1))\n",
      "/mnt/data/var/www/nomeroff-net/nomeroff_net/nnmodels/numberplate_options_model.py:121: UserWarning: Implicit dimension choice for softmax has been deprecated. Change the call to include dim=X as an argument.\n",
      "  x2 = functional.softmax(self.fc3_line(x2))\n",
      "/mnt/data/var/www/nomeroff-net/nomeroff_net/nnmodels/numberplate_options_model.py:112: UserWarning: Implicit dimension choice for softmax has been deprecated. Change the call to include dim=X as an argument.\n",
      "  x1 = functional.softmax(self.fc3_reg(x1))\n",
      "/mnt/data/var/www/nomeroff-net/nomeroff_net/nnmodels/numberplate_options_model.py:121: UserWarning: Implicit dimension choice for softmax has been deprecated. Change the call to include dim=X as an argument.\n",
      "  x2 = functional.softmax(self.fc3_line(x2))\n",
      "/mnt/data/var/www/nomeroff-net/nomeroff_net/nnmodels/numberplate_options_model.py:112: UserWarning: Implicit dimension choice for softmax has been deprecated. Change the call to include dim=X as an argument.\n",
      "  x1 = functional.softmax(self.fc3_reg(x1))\n",
      "/mnt/data/var/www/nomeroff-net/nomeroff_net/nnmodels/numberplate_options_model.py:121: UserWarning: Implicit dimension choice for softmax has been deprecated. Change the call to include dim=X as an argument.\n",
      "  x2 = functional.softmax(self.fc3_line(x2))\n",
      "/mnt/data/var/www/nomeroff-net/nomeroff_net/nnmodels/numberplate_options_model.py:112: UserWarning: Implicit dimension choice for softmax has been deprecated. Change the call to include dim=X as an argument.\n",
      "  x1 = functional.softmax(self.fc3_reg(x1))\n",
      "/mnt/data/var/www/nomeroff-net/nomeroff_net/nnmodels/numberplate_options_model.py:121: UserWarning: Implicit dimension choice for softmax has been deprecated. Change the call to include dim=X as an argument.\n",
      "  x2 = functional.softmax(self.fc3_line(x2))\n",
      "/mnt/data/var/www/nomeroff-net/nomeroff_net/nnmodels/numberplate_options_model.py:112: UserWarning: Implicit dimension choice for softmax has been deprecated. Change the call to include dim=X as an argument.\n",
      "  x1 = functional.softmax(self.fc3_reg(x1))\n",
      "/mnt/data/var/www/nomeroff-net/nomeroff_net/nnmodels/numberplate_options_model.py:121: UserWarning: Implicit dimension choice for softmax has been deprecated. Change the call to include dim=X as an argument.\n",
      "  x2 = functional.softmax(self.fc3_line(x2))\n",
      "/mnt/data/var/www/nomeroff-net/nomeroff_net/nnmodels/numberplate_options_model.py:112: UserWarning: Implicit dimension choice for softmax has been deprecated. Change the call to include dim=X as an argument.\n",
      "  x1 = functional.softmax(self.fc3_reg(x1))\n",
      "/mnt/data/var/www/nomeroff-net/nomeroff_net/nnmodels/numberplate_options_model.py:121: UserWarning: Implicit dimension choice for softmax has been deprecated. Change the call to include dim=X as an argument.\n",
      "  x2 = functional.softmax(self.fc3_line(x2))\n"
     ]
    },
    {
     "name": "stderr",
     "output_type": "stream",
     "text": [
      "/mnt/data/var/www/nomeroff-net/nomeroff_net/nnmodels/numberplate_options_model.py:112: UserWarning: Implicit dimension choice for softmax has been deprecated. Change the call to include dim=X as an argument.\n",
      "  x1 = functional.softmax(self.fc3_reg(x1))\n",
      "/mnt/data/var/www/nomeroff-net/nomeroff_net/nnmodels/numberplate_options_model.py:121: UserWarning: Implicit dimension choice for softmax has been deprecated. Change the call to include dim=X as an argument.\n",
      "  x2 = functional.softmax(self.fc3_line(x2))\n",
      "/mnt/data/var/www/nomeroff-net/nomeroff_net/nnmodels/numberplate_options_model.py:112: UserWarning: Implicit dimension choice for softmax has been deprecated. Change the call to include dim=X as an argument.\n",
      "  x1 = functional.softmax(self.fc3_reg(x1))\n",
      "/mnt/data/var/www/nomeroff-net/nomeroff_net/nnmodels/numberplate_options_model.py:121: UserWarning: Implicit dimension choice for softmax has been deprecated. Change the call to include dim=X as an argument.\n",
      "  x2 = functional.softmax(self.fc3_line(x2))\n",
      "/mnt/data/var/www/nomeroff-net/nomeroff_net/nnmodels/numberplate_options_model.py:112: UserWarning: Implicit dimension choice for softmax has been deprecated. Change the call to include dim=X as an argument.\n",
      "  x1 = functional.softmax(self.fc3_reg(x1))\n",
      "/mnt/data/var/www/nomeroff-net/nomeroff_net/nnmodels/numberplate_options_model.py:121: UserWarning: Implicit dimension choice for softmax has been deprecated. Change the call to include dim=X as an argument.\n",
      "  x2 = functional.softmax(self.fc3_line(x2))\n",
      "/mnt/data/var/www/nomeroff-net/nomeroff_net/nnmodels/numberplate_options_model.py:112: UserWarning: Implicit dimension choice for softmax has been deprecated. Change the call to include dim=X as an argument.\n",
      "  x1 = functional.softmax(self.fc3_reg(x1))\n",
      "/mnt/data/var/www/nomeroff-net/nomeroff_net/nnmodels/numberplate_options_model.py:121: UserWarning: Implicit dimension choice for softmax has been deprecated. Change the call to include dim=X as an argument.\n",
      "  x2 = functional.softmax(self.fc3_line(x2))\n",
      "/mnt/data/var/www/nomeroff-net/nomeroff_net/nnmodels/numberplate_options_model.py:112: UserWarning: Implicit dimension choice for softmax has been deprecated. Change the call to include dim=X as an argument.\n",
      "  x1 = functional.softmax(self.fc3_reg(x1))\n",
      "/mnt/data/var/www/nomeroff-net/nomeroff_net/nnmodels/numberplate_options_model.py:121: UserWarning: Implicit dimension choice for softmax has been deprecated. Change the call to include dim=X as an argument.\n",
      "  x2 = functional.softmax(self.fc3_line(x2))\n",
      "/mnt/data/var/www/nomeroff-net/nomeroff_net/nnmodels/numberplate_options_model.py:112: UserWarning: Implicit dimension choice for softmax has been deprecated. Change the call to include dim=X as an argument.\n",
      "  x1 = functional.softmax(self.fc3_reg(x1))\n",
      "/mnt/data/var/www/nomeroff-net/nomeroff_net/nnmodels/numberplate_options_model.py:121: UserWarning: Implicit dimension choice for softmax has been deprecated. Change the call to include dim=X as an argument.\n",
      "  x2 = functional.softmax(self.fc3_line(x2))\n",
      "/mnt/data/var/www/nomeroff-net/nomeroff_net/nnmodels/numberplate_options_model.py:112: UserWarning: Implicit dimension choice for softmax has been deprecated. Change the call to include dim=X as an argument.\n",
      "  x1 = functional.softmax(self.fc3_reg(x1))\n",
      "/mnt/data/var/www/nomeroff-net/nomeroff_net/nnmodels/numberplate_options_model.py:121: UserWarning: Implicit dimension choice for softmax has been deprecated. Change the call to include dim=X as an argument.\n",
      "  x2 = functional.softmax(self.fc3_line(x2))\n",
      "/mnt/data/var/www/nomeroff-net/nomeroff_net/nnmodels/numberplate_options_model.py:112: UserWarning: Implicit dimension choice for softmax has been deprecated. Change the call to include dim=X as an argument.\n",
      "  x1 = functional.softmax(self.fc3_reg(x1))\n",
      "/mnt/data/var/www/nomeroff-net/nomeroff_net/nnmodels/numberplate_options_model.py:121: UserWarning: Implicit dimension choice for softmax has been deprecated. Change the call to include dim=X as an argument.\n",
      "  x2 = functional.softmax(self.fc3_line(x2))\n",
      "/mnt/data/var/www/nomeroff-net/nomeroff_net/nnmodels/numberplate_options_model.py:112: UserWarning: Implicit dimension choice for softmax has been deprecated. Change the call to include dim=X as an argument.\n",
      "  x1 = functional.softmax(self.fc3_reg(x1))\n",
      "/mnt/data/var/www/nomeroff-net/nomeroff_net/nnmodels/numberplate_options_model.py:121: UserWarning: Implicit dimension choice for softmax has been deprecated. Change the call to include dim=X as an argument.\n",
      "  x2 = functional.softmax(self.fc3_line(x2))\n",
      "/mnt/data/var/www/nomeroff-net/nomeroff_net/nnmodels/numberplate_options_model.py:112: UserWarning: Implicit dimension choice for softmax has been deprecated. Change the call to include dim=X as an argument.\n",
      "  x1 = functional.softmax(self.fc3_reg(x1))\n",
      "/mnt/data/var/www/nomeroff-net/nomeroff_net/nnmodels/numberplate_options_model.py:121: UserWarning: Implicit dimension choice for softmax has been deprecated. Change the call to include dim=X as an argument.\n",
      "  x2 = functional.softmax(self.fc3_line(x2))\n",
      "/mnt/data/var/www/nomeroff-net/nomeroff_net/nnmodels/numberplate_options_model.py:112: UserWarning: Implicit dimension choice for softmax has been deprecated. Change the call to include dim=X as an argument.\n",
      "  x1 = functional.softmax(self.fc3_reg(x1))\n",
      "/mnt/data/var/www/nomeroff-net/nomeroff_net/nnmodels/numberplate_options_model.py:121: UserWarning: Implicit dimension choice for softmax has been deprecated. Change the call to include dim=X as an argument.\n",
      "  x2 = functional.softmax(self.fc3_line(x2))\n",
      "/mnt/data/var/www/nomeroff-net/nomeroff_net/nnmodels/numberplate_options_model.py:112: UserWarning: Implicit dimension choice for softmax has been deprecated. Change the call to include dim=X as an argument.\n",
      "  x1 = functional.softmax(self.fc3_reg(x1))\n",
      "/mnt/data/var/www/nomeroff-net/nomeroff_net/nnmodels/numberplate_options_model.py:121: UserWarning: Implicit dimension choice for softmax has been deprecated. Change the call to include dim=X as an argument.\n",
      "  x2 = functional.softmax(self.fc3_line(x2))\n",
      "/mnt/data/var/www/nomeroff-net/nomeroff_net/nnmodels/numberplate_options_model.py:112: UserWarning: Implicit dimension choice for softmax has been deprecated. Change the call to include dim=X as an argument.\n",
      "  x1 = functional.softmax(self.fc3_reg(x1))\n",
      "/mnt/data/var/www/nomeroff-net/nomeroff_net/nnmodels/numberplate_options_model.py:121: UserWarning: Implicit dimension choice for softmax has been deprecated. Change the call to include dim=X as an argument.\n",
      "  x2 = functional.softmax(self.fc3_line(x2))\n",
      "/mnt/data/var/www/nomeroff-net/nomeroff_net/nnmodels/numberplate_options_model.py:112: UserWarning: Implicit dimension choice for softmax has been deprecated. Change the call to include dim=X as an argument.\n",
      "  x1 = functional.softmax(self.fc3_reg(x1))\n",
      "/mnt/data/var/www/nomeroff-net/nomeroff_net/nnmodels/numberplate_options_model.py:121: UserWarning: Implicit dimension choice for softmax has been deprecated. Change the call to include dim=X as an argument.\n",
      "  x2 = functional.softmax(self.fc3_line(x2))\n"
     ]
    }
   ],
   "source": [
    "for images_chunk in images_chunks:\n",
    "    (images, images_bboxs, \n",
    "     images_points, images_zones, region_ids, \n",
    "     region_names, count_lines, \n",
    "     confidences, texts) = number_plate_detection_and_reading(images_chunk)"
   ]
  },
  {
   "cell_type": "code",
   "execution_count": 6,
   "metadata": {},
   "outputs": [],
   "source": [
    "timer_stat = number_plate_detection_and_reading.get_timer_stat(batch_size)"
   ]
  },
  {
   "cell_type": "markdown",
   "metadata": {},
   "source": [
    "### Intel(R) Core(TM) i9-9900K CPU @ 3.60GHz + NVIDIA RTX 3090"
   ]
  },
  {
   "cell_type": "code",
   "execution_count": 7,
   "metadata": {},
   "outputs": [
    {
     "name": "stdout",
     "output_type": "stream",
     "text": [
      "Processed 1 photos\n",
      "One photo process 0.45876855234945974 seconds\n",
      "\n",
      "detect_bbox_time_all 0.16217605529292936 per one photo\n",
      "craft_time_all 0.2420763123419977 per one photo\n",
      "classification_time_all 0.01569067278215962 per one photo\n",
      "ocr_time_all 0.010903104659049742 per one photo\n"
     ]
    }
   ],
   "source": [
    "print(f\"Processed {len(images)} photos\")\n",
    "print(f\"One photo process {timer_stat['NumberPlateDetectionAndReadingRuntime.call']} seconds\")\n",
    "print()\n",
    "print(f\"detect_bbox_time_all {timer_stat['NumberPlateLocalization.call']} per one photo\")\n",
    "print(f\"craft_time_all {timer_stat['NumberPlateKeyPointsDetection.call']} per one photo\")\n",
    "print(f\"classification_time_all {timer_stat['NumberPlateClassification.call']} per one photo\")\n",
    "print(f\"ocr_time_all {timer_stat['NumberPlateTextReading.call']} per one photo\")"
   ]
  },
  {
   "cell_type": "markdown",
   "metadata": {},
   "source": [
    "### Jetson Xavier"
   ]
  },
  {
   "cell_type": "code",
   "execution_count": 8,
   "metadata": {},
   "outputs": [
    {
     "ename": "NameError",
     "evalue": "name 'j' is not defined",
     "output_type": "error",
     "traceback": [
      "\u001b[0;31m---------------------------------------------------------------------------\u001b[0m",
      "\u001b[0;31mNameError\u001b[0m                                 Traceback (most recent call last)",
      "\u001b[0;32m<ipython-input-8-d0f5f9d84754>\u001b[0m in \u001b[0;36m<module>\u001b[0;34m\u001b[0m\n\u001b[0;32m----> 1\u001b[0;31m \u001b[0mprint\u001b[0m\u001b[0;34m(\u001b[0m\u001b[0;34mf\"Processed {j} photos\"\u001b[0m\u001b[0;34m)\u001b[0m\u001b[0;34m\u001b[0m\u001b[0;34m\u001b[0m\u001b[0m\n\u001b[0m\u001b[1;32m      2\u001b[0m \u001b[0mprint\u001b[0m\u001b[0;34m(\u001b[0m\u001b[0;34mf\"Time {end_time}\"\u001b[0m\u001b[0;34m)\u001b[0m\u001b[0;34m\u001b[0m\u001b[0;34m\u001b[0m\u001b[0m\n\u001b[1;32m      3\u001b[0m \u001b[0mprint\u001b[0m\u001b[0;34m(\u001b[0m\u001b[0;34mf\"One photo process {end_time/j} seconds\"\u001b[0m\u001b[0;34m)\u001b[0m\u001b[0;34m\u001b[0m\u001b[0;34m\u001b[0m\u001b[0m\n\u001b[1;32m      4\u001b[0m \u001b[0mprint\u001b[0m\u001b[0;34m(\u001b[0m\u001b[0;34m)\u001b[0m\u001b[0;34m\u001b[0m\u001b[0;34m\u001b[0m\u001b[0m\n\u001b[1;32m      5\u001b[0m \u001b[0mprint\u001b[0m\u001b[0;34m(\u001b[0m\u001b[0;34mf\"image_load_time_all {image_load_time_all}; {image_load_time_all/j} per one photo\"\u001b[0m\u001b[0;34m)\u001b[0m\u001b[0;34m\u001b[0m\u001b[0;34m\u001b[0m\u001b[0m\n",
      "\u001b[0;31mNameError\u001b[0m: name 'j' is not defined"
     ]
    }
   ],
   "source": [
    "print(f\"Processed {j} photos\")\n",
    "print(f\"Time {end_time}\")\n",
    "print(f\"One photo process {end_time/j} seconds\")\n",
    "print()\n",
    "print(f\"image_load_time_all {image_load_time_all}; {image_load_time_all/j} per one photo\")\n",
    "print(f\"detect_bbox_time_all {detect_bbox_time_all}; {detect_bbox_time_all/j} per one photo\")\n",
    "print(f\"craft_time_all {craft_time_all}; {craft_time_all/j} per one photo\")\n",
    "print(f\"perspective_align_time_all {perspective_align_time_all}; {perspective_align_time_all/j} per one photo\")\n",
    "print(f\"classification_time_all {classification_time_all}; {classification_time_all/j} per one photo\")\n",
    "print(f\"ocr_time_all {ocr_time_all}; {ocr_time_all/j} per one photo\")"
   ]
  },
  {
   "cell_type": "code",
   "execution_count": null,
   "metadata": {},
   "outputs": [],
   "source": []
  },
  {
   "cell_type": "code",
   "execution_count": null,
   "metadata": {},
   "outputs": [],
   "source": []
  },
  {
   "cell_type": "code",
   "execution_count": null,
   "metadata": {},
   "outputs": [],
   "source": []
  }
 ],
 "metadata": {
  "kernelspec": {
   "display_name": "Python 3",
   "language": "python",
   "name": "python3"
  },
  "language_info": {
   "codemirror_mode": {
    "name": "ipython",
    "version": 3
   },
   "file_extension": ".py",
   "mimetype": "text/x-python",
   "name": "python",
   "nbconvert_exporter": "python",
   "pygments_lexer": "ipython3",
   "version": "3.8.7"
  }
 },
 "nbformat": 4,
 "nbformat_minor": 2
}
