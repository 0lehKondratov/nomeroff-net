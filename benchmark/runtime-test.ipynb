{
 "cells": [
  {
   "cell_type": "markdown",
   "metadata": {},
   "source": [
    "# Runtime Test"
   ]
  },
  {
   "cell_type": "markdown",
   "metadata": {},
   "source": [
    "Before runing this test, please download models from [https://nomeroff.net.ua/models/](https://nomeroff.net.ua/models/) to **./models/** directory. "
   ]
  },
  {
   "cell_type": "code",
   "execution_count": 1,
   "metadata": {},
   "outputs": [],
   "source": [
    "import warnings\n",
    "warnings.filterwarnings(\"ignore\")\n",
    "\n",
    "import os\n",
    "os.environ[\"CUDA_VISIBLE_DEVICES\"] = \"0\"\n",
    "\n",
    "# add nomeroff_net to path\n",
    "import sys\n",
    "NOMEROFF_NET_DIR = os.path.abspath('../')\n",
    "sys.path.append(NOMEROFF_NET_DIR)\n",
    "\n",
    "import matplotlib.pyplot as plt\n",
    "from glob import glob"
   ]
  },
  {
   "cell_type": "code",
   "execution_count": 2,
   "metadata": {},
   "outputs": [],
   "source": [
    "from nomeroff_net import pipeline"
   ]
  },
  {
   "cell_type": "code",
   "execution_count": 3,
   "metadata": {},
   "outputs": [
    {
     "name": "stderr",
     "output_type": "stream",
     "text": [
      "YOLOv5 🚀 v6.0-154-gb8a4bab torch 1.9.0+cu102 CPU\n",
      "\n",
      "Fusing layers... \n",
      "Model Summary: 213 layers, 7012822 parameters, 0 gradients\n"
     ]
    },
    {
     "name": "stdout",
     "output_type": "stream",
     "text": [
      "Loading weights from checkpoint (/mnt/data/var/www/nomeroff-net/nomeroff_net/tools/../../data/./models/np_points_craft/craft_mlt/craft_mlt_25k_2020-02-16.pth)\n",
      "Loading weights of refiner from checkpoint (/mnt/data/var/www/nomeroff-net/nomeroff_net/tools/../../data/./models/np_points_craft/craft_refiner/craft_refiner_CTW1500_2020-02-16.pth)\n"
     ]
    }
   ],
   "source": [
    "number_plate_detection_and_reading = pipeline(\"number_plate_detection_and_reading_runtime\", \n",
    "                                              image_loader=\"turbo\")"
   ]
  },
  {
   "cell_type": "code",
   "execution_count": 4,
   "metadata": {
    "scrolled": true
   },
   "outputs": [],
   "source": [
    "batch_size=4\n",
    "num_workers=4\n",
    "images = glob('./images/*')\n",
    "\n",
    "number_plate_detection_and_reading.clear_stat()\n",
    "outputs = number_plate_detection_and_reading(images, \n",
    "                                             batch_size=batch_size,\n",
    "                                             num_workers=num_workers)"
   ]
  },
  {
   "cell_type": "code",
   "execution_count": 5,
   "metadata": {},
   "outputs": [],
   "source": [
    "timer_stat = number_plate_detection_and_reading.get_timer_stat(batch_size)"
   ]
  },
  {
   "cell_type": "code",
   "execution_count": 6,
   "metadata": {},
   "outputs": [
    {
     "data": {
      "text/plain": [
       "Counter({'NumberPlateLocalization.preprocess': 8,\n",
       "         'NumberPlateLocalization.forward': 8,\n",
       "         'NumberPlateLocalization.postprocess': 8,\n",
       "         'NumberPlateLocalization.run_single': 8,\n",
       "         'NumberPlateKeyPointsDetection.preprocess': 8,\n",
       "         'NumberPlateKeyPointsDetection.forward': 8,\n",
       "         'NumberPlateKeyPointsDetection.postprocess': 8,\n",
       "         'NumberPlateKeyPointsDetection.run_single': 8,\n",
       "         'NumberPlateClassification.preprocess': 35,\n",
       "         'NumberPlateClassification.forward': 35,\n",
       "         'NumberPlateClassification.postprocess': 35,\n",
       "         'NumberPlateClassification.run_single': 35,\n",
       "         'NumberPlateTextReading.preprocess': 35,\n",
       "         'NumberPlateTextReading.forward': 35,\n",
       "         'NumberPlateTextReading.postprocess': 35,\n",
       "         'NumberPlateTextReading.run_single': 35,\n",
       "         'NumberPlateDetectionAndReadingRuntime.run_single': 8})"
      ]
     },
     "execution_count": 6,
     "metadata": {},
     "output_type": "execute_result"
    }
   ],
   "source": [
    "number_plate_detection_and_reading.count_stat"
   ]
  },
  {
   "cell_type": "markdown",
   "metadata": {},
   "source": [
    "### Intel(R) Core(TM) i9-9900K CPU @ 3.60GHz + NVIDIA RTX 3090"
   ]
  },
  {
   "cell_type": "code",
   "execution_count": 7,
   "metadata": {},
   "outputs": [
    {
     "name": "stdout",
     "output_type": "stream",
     "text": [
      "Processed 31 photos\n",
      "One photo process 0.3246191740036011 seconds\n",
      "\n",
      "detect_bbox_time_all 0.10578802227973938 per one photo\n",
      "craft_time_all 0.1948586255311966 per one photo\n",
      "classification_time_all 0.0027245691844395227 per one photo\n",
      "ocr_time_all 0.0019314374242510115 per one photo\n"
     ]
    }
   ],
   "source": [
    "print(f\"Processed {len(images)} photos\")\n",
    "print(f\"One photo process {timer_stat['NumberPlateDetectionAndReadingRuntime.run_single']} seconds\")\n",
    "print()\n",
    "print(f\"detect_bbox_time_all {timer_stat['NumberPlateLocalization.run_single']} per one photo\")\n",
    "print(f\"craft_time_all {timer_stat['NumberPlateKeyPointsDetection.run_single']} per one photo\")\n",
    "print(f\"classification_time_all {timer_stat['NumberPlateClassification.run_single']} per one photo\")\n",
    "print(f\"ocr_time_all {timer_stat['NumberPlateTextReading.run_single']} per one photo\")"
   ]
  },
  {
   "cell_type": "markdown",
   "metadata": {},
   "source": [
    "### Jetson Xavier"
   ]
  },
  {
   "cell_type": "code",
   "execution_count": null,
   "metadata": {},
   "outputs": [],
   "source": []
  },
  {
   "cell_type": "code",
   "execution_count": 8,
   "metadata": {},
   "outputs": [
    {
     "name": "stdout",
     "output_type": "stream",
     "text": [
      "['AM5696CK'] ['eu_ua_2015']\n",
      "['AC4921CB'] ['eu_ua_2015']\n",
      "['BC7007AK', 'EM546TW'] ['eu_ua_2015', 'eu']\n",
      "['AX2756EK'] ['eu_ua_2015']\n",
      "['AT1595CK', 'RP69881'] ['eu_ua_2015', 'eu']\n",
      "['AI5255EI'] ['eu_ua_2015']\n",
      "['Ж2', 'BI48T'] ['su', 'eu_ua_2004']\n",
      "['РС'] ['su']\n",
      "['AE1077CO'] ['eu_ua_2004']\n",
      "['AB3391AK'] ['eu_ua_2004']\n",
      "['А42Р'] ['su']\n",
      "['Ф7272Р'] ['su']\n",
      "['AT683CM'] ['eu_ua_2004']\n",
      "['AC4249CB'] ['eu_ua_2015']\n",
      "['BX0578CE'] ['eu_ua_2015']\n",
      "['BE7425BC'] ['eu_ua_2015']\n",
      "['AM5696CK'] ['eu_ua_2015']\n",
      "['AB7333BH'] ['eu_ua_2015']\n",
      "['AI1382HB'] ['eu_ua_2015']\n",
      "['AB5649CI'] ['eu_ua_2015']\n",
      "['AO1306CH'] ['eu_ua_2015']\n",
      "['AB0680EA'] ['eu_ua_2015']\n",
      "['BC3496HC'] ['eu_ua_2015']\n",
      "['BC3496HC'] ['eu_ua_2015']\n",
      "['AB7642CT'] ['eu_ua_2015']\n",
      "['BM1930BM', 'KRN27XX'] ['eu_ua_2015', 'ge']\n",
      "['А4932'] ['su']\n",
      "['BC9911BK'] ['eu_ua_2015']\n",
      "['BE7425CB'] ['eu_ua_2015']\n",
      "['AA7564MX'] ['eu_ua_2004']\n",
      "['AB0680EA'] ['eu_ua_2015']\n"
     ]
    }
   ],
   "source": [
    "for images, images_bboxs, \\\n",
    "        images_points, zones, \\\n",
    "        region_ids, region_names, \\\n",
    "        count_lines, confidences, texts in outputs:\n",
    "    print(texts, region_names)"
   ]
  },
  {
   "cell_type": "code",
   "execution_count": null,
   "metadata": {},
   "outputs": [],
   "source": []
  }
 ],
 "metadata": {
  "kernelspec": {
   "display_name": "Python 3",
   "language": "python",
   "name": "python3"
  },
  "language_info": {
   "codemirror_mode": {
    "name": "ipython",
    "version": 3
   },
   "file_extension": ".py",
   "mimetype": "text/x-python",
   "name": "python",
   "nbconvert_exporter": "python",
   "pygments_lexer": "ipython3",
   "version": "3.8.7"
  }
 },
 "nbformat": 4,
 "nbformat_minor": 2
}
