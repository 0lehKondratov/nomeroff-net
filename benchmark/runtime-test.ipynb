{
 "cells": [
  {
   "cell_type": "markdown",
   "metadata": {},
   "source": [
    "# Runtime Test"
   ]
  },
  {
   "cell_type": "markdown",
   "metadata": {},
   "source": [
    "Before runing this test, please download models from [https://nomeroff.net.ua/models/](https://nomeroff.net.ua/models/) to **./models/** directory. "
   ]
  },
  {
   "cell_type": "code",
   "execution_count": 1,
   "metadata": {},
   "outputs": [],
   "source": [
    "import os\n",
    "os.environ[\"CUDA_VISIBLE_DEVICES\"] = \"0\"\n",
    "\n",
    "# add nomeroff_net to path\n",
    "import sys\n",
    "NOMEROFF_NET_DIR = os.path.abspath('../')\n",
    "sys.path.append(NOMEROFF_NET_DIR)\n",
    "\n",
    "import matplotlib.pyplot as plt\n",
    "from glob import glob"
   ]
  },
  {
   "cell_type": "code",
   "execution_count": 2,
   "metadata": {},
   "outputs": [],
   "source": [
    "from nomeroff_net import pipeline\n",
    "from nomeroff_net.tools import chunked_iterable"
   ]
  },
  {
   "cell_type": "code",
   "execution_count": 17,
   "metadata": {},
   "outputs": [
    {
     "name": "stdout",
     "output_type": "stream",
     "text": [
      "Loading weights from checkpoint (/mnt/data/var/www/nomeroff-net/nomeroff_net/tools/../../data/./models/np_points_craft/craft_mlt/craft_mlt_25k_2020-02-16.pth)\n",
      "Loading weights of refiner from checkpoint (/mnt/data/var/www/nomeroff-net/nomeroff_net/tools/../../data/./models/np_points_craft/craft_refiner/craft_refiner_CTW1500_2020-02-16.pth)\n"
     ]
    }
   ],
   "source": [
    "number_plate_detection_and_reading = pipeline(\"number_plate_detection_and_reading_runtime\", image_loader=\"turbo\")"
   ]
  },
  {
   "cell_type": "code",
   "execution_count": 18,
   "metadata": {},
   "outputs": [],
   "source": [
    "batch_size=1\n",
    "images = glob('./images/*')\n",
    "images_chunks = list(chunked_iterable(images, batch_size))"
   ]
  },
  {
   "cell_type": "code",
   "execution_count": 19,
   "metadata": {
    "scrolled": true
   },
   "outputs": [
    {
     "name": "stderr",
     "output_type": "stream",
     "text": [
      "2021-12-20 18:02:49,309 [305221] WARNING  py.warnings:109: [JupyterRequire] /mnt/data/var/www/nomeroff-net/nomeroff_net/nnmodels/numberplate_options_model.py:112: UserWarning: Implicit dimension choice for softmax has been deprecated. Change the call to include dim=X as an argument.\n",
      "  x1 = functional.softmax(self.fc3_reg(x1))\n",
      "\n",
      "2021-12-20 18:02:49,322 [305221] WARNING  py.warnings:109: [JupyterRequire] /mnt/data/var/www/nomeroff-net/nomeroff_net/nnmodels/numberplate_options_model.py:121: UserWarning: Implicit dimension choice for softmax has been deprecated. Change the call to include dim=X as an argument.\n",
      "  x2 = functional.softmax(self.fc3_line(x2))\n",
      "\n",
      "2021-12-20 18:02:49,612 [305221] WARNING  py.warnings:109: [JupyterRequire] /mnt/data/var/www/nomeroff-net/nomeroff_net/nnmodels/numberplate_options_model.py:112: UserWarning: Implicit dimension choice for softmax has been deprecated. Change the call to include dim=X as an argument.\n",
      "  x1 = functional.softmax(self.fc3_reg(x1))\n",
      "\n",
      "2021-12-20 18:02:49,627 [305221] WARNING  py.warnings:109: [JupyterRequire] /mnt/data/var/www/nomeroff-net/nomeroff_net/nnmodels/numberplate_options_model.py:121: UserWarning: Implicit dimension choice for softmax has been deprecated. Change the call to include dim=X as an argument.\n",
      "  x2 = functional.softmax(self.fc3_line(x2))\n",
      "\n",
      "2021-12-20 18:02:50,603 [305221] WARNING  py.warnings:109: [JupyterRequire] /mnt/data/var/www/nomeroff-net/nomeroff_net/nnmodels/numberplate_options_model.py:112: UserWarning: Implicit dimension choice for softmax has been deprecated. Change the call to include dim=X as an argument.\n",
      "  x1 = functional.softmax(self.fc3_reg(x1))\n",
      "\n",
      "2021-12-20 18:02:50,616 [305221] WARNING  py.warnings:109: [JupyterRequire] /mnt/data/var/www/nomeroff-net/nomeroff_net/nnmodels/numberplate_options_model.py:121: UserWarning: Implicit dimension choice for softmax has been deprecated. Change the call to include dim=X as an argument.\n",
      "  x2 = functional.softmax(self.fc3_line(x2))\n",
      "\n",
      "2021-12-20 18:02:51,420 [305221] WARNING  py.warnings:109: [JupyterRequire] /mnt/data/var/www/nomeroff-net/nomeroff_net/nnmodels/numberplate_options_model.py:112: UserWarning: Implicit dimension choice for softmax has been deprecated. Change the call to include dim=X as an argument.\n",
      "  x1 = functional.softmax(self.fc3_reg(x1))\n",
      "\n",
      "2021-12-20 18:02:51,433 [305221] WARNING  py.warnings:109: [JupyterRequire] /mnt/data/var/www/nomeroff-net/nomeroff_net/nnmodels/numberplate_options_model.py:121: UserWarning: Implicit dimension choice for softmax has been deprecated. Change the call to include dim=X as an argument.\n",
      "  x2 = functional.softmax(self.fc3_line(x2))\n",
      "\n",
      "2021-12-20 18:02:52,338 [305221] WARNING  py.warnings:109: [JupyterRequire] /mnt/data/var/www/nomeroff-net/nomeroff_net/nnmodels/numberplate_options_model.py:112: UserWarning: Implicit dimension choice for softmax has been deprecated. Change the call to include dim=X as an argument.\n",
      "  x1 = functional.softmax(self.fc3_reg(x1))\n",
      "\n",
      "2021-12-20 18:02:52,347 [305221] WARNING  py.warnings:109: [JupyterRequire] /mnt/data/var/www/nomeroff-net/nomeroff_net/nnmodels/numberplate_options_model.py:121: UserWarning: Implicit dimension choice for softmax has been deprecated. Change the call to include dim=X as an argument.\n",
      "  x2 = functional.softmax(self.fc3_line(x2))\n",
      "\n",
      "2021-12-20 18:02:52,638 [305221] WARNING  py.warnings:109: [JupyterRequire] /mnt/data/var/www/nomeroff-net/nomeroff_net/nnmodels/numberplate_options_model.py:112: UserWarning: Implicit dimension choice for softmax has been deprecated. Change the call to include dim=X as an argument.\n",
      "  x1 = functional.softmax(self.fc3_reg(x1))\n",
      "\n",
      "2021-12-20 18:02:52,649 [305221] WARNING  py.warnings:109: [JupyterRequire] /mnt/data/var/www/nomeroff-net/nomeroff_net/nnmodels/numberplate_options_model.py:121: UserWarning: Implicit dimension choice for softmax has been deprecated. Change the call to include dim=X as an argument.\n",
      "  x2 = functional.softmax(self.fc3_line(x2))\n",
      "\n",
      "2021-12-20 18:02:52,880 [305221] WARNING  py.warnings:109: [JupyterRequire] /mnt/data/var/www/nomeroff-net/nomeroff_net/nnmodels/numberplate_options_model.py:112: UserWarning: Implicit dimension choice for softmax has been deprecated. Change the call to include dim=X as an argument.\n",
      "  x1 = functional.softmax(self.fc3_reg(x1))\n",
      "\n",
      "2021-12-20 18:02:52,894 [305221] WARNING  py.warnings:109: [JupyterRequire] /mnt/data/var/www/nomeroff-net/nomeroff_net/nnmodels/numberplate_options_model.py:121: UserWarning: Implicit dimension choice for softmax has been deprecated. Change the call to include dim=X as an argument.\n",
      "  x2 = functional.softmax(self.fc3_line(x2))\n",
      "\n",
      "2021-12-20 18:02:53,118 [305221] WARNING  py.warnings:109: [JupyterRequire] /mnt/data/var/www/nomeroff-net/nomeroff_net/nnmodels/numberplate_options_model.py:112: UserWarning: Implicit dimension choice for softmax has been deprecated. Change the call to include dim=X as an argument.\n",
      "  x1 = functional.softmax(self.fc3_reg(x1))\n",
      "\n",
      "2021-12-20 18:02:53,131 [305221] WARNING  py.warnings:109: [JupyterRequire] /mnt/data/var/www/nomeroff-net/nomeroff_net/nnmodels/numberplate_options_model.py:121: UserWarning: Implicit dimension choice for softmax has been deprecated. Change the call to include dim=X as an argument.\n",
      "  x2 = functional.softmax(self.fc3_line(x2))\n",
      "\n",
      "2021-12-20 18:02:53,552 [305221] WARNING  py.warnings:109: [JupyterRequire] /mnt/data/var/www/nomeroff-net/nomeroff_net/nnmodels/numberplate_options_model.py:112: UserWarning: Implicit dimension choice for softmax has been deprecated. Change the call to include dim=X as an argument.\n",
      "  x1 = functional.softmax(self.fc3_reg(x1))\n",
      "\n",
      "2021-12-20 18:02:53,565 [305221] WARNING  py.warnings:109: [JupyterRequire] /mnt/data/var/www/nomeroff-net/nomeroff_net/nnmodels/numberplate_options_model.py:121: UserWarning: Implicit dimension choice for softmax has been deprecated. Change the call to include dim=X as an argument.\n",
      "  x2 = functional.softmax(self.fc3_line(x2))\n",
      "\n",
      "2021-12-20 18:02:53,895 [305221] WARNING  py.warnings:109: [JupyterRequire] /mnt/data/var/www/nomeroff-net/nomeroff_net/nnmodels/numberplate_options_model.py:112: UserWarning: Implicit dimension choice for softmax has been deprecated. Change the call to include dim=X as an argument.\n",
      "  x1 = functional.softmax(self.fc3_reg(x1))\n",
      "\n",
      "2021-12-20 18:02:53,908 [305221] WARNING  py.warnings:109: [JupyterRequire] /mnt/data/var/www/nomeroff-net/nomeroff_net/nnmodels/numberplate_options_model.py:121: UserWarning: Implicit dimension choice for softmax has been deprecated. Change the call to include dim=X as an argument.\n",
      "  x2 = functional.softmax(self.fc3_line(x2))\n",
      "\n",
      "2021-12-20 18:02:54,185 [305221] WARNING  py.warnings:109: [JupyterRequire] /mnt/data/var/www/nomeroff-net/nomeroff_net/nnmodels/numberplate_options_model.py:112: UserWarning: Implicit dimension choice for softmax has been deprecated. Change the call to include dim=X as an argument.\n",
      "  x1 = functional.softmax(self.fc3_reg(x1))\n",
      "\n",
      "2021-12-20 18:02:54,201 [305221] WARNING  py.warnings:109: [JupyterRequire] /mnt/data/var/www/nomeroff-net/nomeroff_net/nnmodels/numberplate_options_model.py:121: UserWarning: Implicit dimension choice for softmax has been deprecated. Change the call to include dim=X as an argument.\n",
      "  x2 = functional.softmax(self.fc3_line(x2))\n",
      "\n",
      "2021-12-20 18:02:54,702 [305221] WARNING  py.warnings:109: [JupyterRequire] /mnt/data/var/www/nomeroff-net/nomeroff_net/nnmodels/numberplate_options_model.py:112: UserWarning: Implicit dimension choice for softmax has been deprecated. Change the call to include dim=X as an argument.\n",
      "  x1 = functional.softmax(self.fc3_reg(x1))\n",
      "\n",
      "2021-12-20 18:02:54,711 [305221] WARNING  py.warnings:109: [JupyterRequire] /mnt/data/var/www/nomeroff-net/nomeroff_net/nnmodels/numberplate_options_model.py:121: UserWarning: Implicit dimension choice for softmax has been deprecated. Change the call to include dim=X as an argument.\n",
      "  x2 = functional.softmax(self.fc3_line(x2))\n",
      "\n",
      "2021-12-20 18:02:54,876 [305221] WARNING  py.warnings:109: [JupyterRequire] /mnt/data/var/www/nomeroff-net/nomeroff_net/nnmodels/numberplate_options_model.py:112: UserWarning: Implicit dimension choice for softmax has been deprecated. Change the call to include dim=X as an argument.\n",
      "  x1 = functional.softmax(self.fc3_reg(x1))\n",
      "\n"
     ]
    },
    {
     "name": "stderr",
     "output_type": "stream",
     "text": [
      "2021-12-20 18:02:54,884 [305221] WARNING  py.warnings:109: [JupyterRequire] /mnt/data/var/www/nomeroff-net/nomeroff_net/nnmodels/numberplate_options_model.py:121: UserWarning: Implicit dimension choice for softmax has been deprecated. Change the call to include dim=X as an argument.\n",
      "  x2 = functional.softmax(self.fc3_line(x2))\n",
      "\n",
      "2021-12-20 18:02:55,311 [305221] WARNING  py.warnings:109: [JupyterRequire] /mnt/data/var/www/nomeroff-net/nomeroff_net/nnmodels/numberplate_options_model.py:112: UserWarning: Implicit dimension choice for softmax has been deprecated. Change the call to include dim=X as an argument.\n",
      "  x1 = functional.softmax(self.fc3_reg(x1))\n",
      "\n",
      "2021-12-20 18:02:55,318 [305221] WARNING  py.warnings:109: [JupyterRequire] /mnt/data/var/www/nomeroff-net/nomeroff_net/nnmodels/numberplate_options_model.py:121: UserWarning: Implicit dimension choice for softmax has been deprecated. Change the call to include dim=X as an argument.\n",
      "  x2 = functional.softmax(self.fc3_line(x2))\n",
      "\n",
      "2021-12-20 18:02:55,632 [305221] WARNING  py.warnings:109: [JupyterRequire] /mnt/data/var/www/nomeroff-net/nomeroff_net/nnmodels/numberplate_options_model.py:112: UserWarning: Implicit dimension choice for softmax has been deprecated. Change the call to include dim=X as an argument.\n",
      "  x1 = functional.softmax(self.fc3_reg(x1))\n",
      "\n",
      "2021-12-20 18:02:55,635 [305221] WARNING  py.warnings:109: [JupyterRequire] /mnt/data/var/www/nomeroff-net/nomeroff_net/nnmodels/numberplate_options_model.py:121: UserWarning: Implicit dimension choice for softmax has been deprecated. Change the call to include dim=X as an argument.\n",
      "  x2 = functional.softmax(self.fc3_line(x2))\n",
      "\n",
      "2021-12-20 18:02:55,855 [305221] WARNING  py.warnings:109: [JupyterRequire] /mnt/data/var/www/nomeroff-net/nomeroff_net/nnmodels/numberplate_options_model.py:112: UserWarning: Implicit dimension choice for softmax has been deprecated. Change the call to include dim=X as an argument.\n",
      "  x1 = functional.softmax(self.fc3_reg(x1))\n",
      "\n",
      "2021-12-20 18:02:55,859 [305221] WARNING  py.warnings:109: [JupyterRequire] /mnt/data/var/www/nomeroff-net/nomeroff_net/nnmodels/numberplate_options_model.py:121: UserWarning: Implicit dimension choice for softmax has been deprecated. Change the call to include dim=X as an argument.\n",
      "  x2 = functional.softmax(self.fc3_line(x2))\n",
      "\n",
      "2021-12-20 18:02:56,489 [305221] WARNING  py.warnings:109: [JupyterRequire] /mnt/data/var/www/nomeroff-net/nomeroff_net/nnmodels/numberplate_options_model.py:112: UserWarning: Implicit dimension choice for softmax has been deprecated. Change the call to include dim=X as an argument.\n",
      "  x1 = functional.softmax(self.fc3_reg(x1))\n",
      "\n",
      "2021-12-20 18:02:56,493 [305221] WARNING  py.warnings:109: [JupyterRequire] /mnt/data/var/www/nomeroff-net/nomeroff_net/nnmodels/numberplate_options_model.py:121: UserWarning: Implicit dimension choice for softmax has been deprecated. Change the call to include dim=X as an argument.\n",
      "  x2 = functional.softmax(self.fc3_line(x2))\n",
      "\n",
      "2021-12-20 18:02:56,800 [305221] WARNING  py.warnings:109: [JupyterRequire] /mnt/data/var/www/nomeroff-net/nomeroff_net/nnmodels/numberplate_options_model.py:112: UserWarning: Implicit dimension choice for softmax has been deprecated. Change the call to include dim=X as an argument.\n",
      "  x1 = functional.softmax(self.fc3_reg(x1))\n",
      "\n",
      "2021-12-20 18:02:56,804 [305221] WARNING  py.warnings:109: [JupyterRequire] /mnt/data/var/www/nomeroff-net/nomeroff_net/nnmodels/numberplate_options_model.py:121: UserWarning: Implicit dimension choice for softmax has been deprecated. Change the call to include dim=X as an argument.\n",
      "  x2 = functional.softmax(self.fc3_line(x2))\n",
      "\n",
      "2021-12-20 18:02:57,068 [305221] WARNING  py.warnings:109: [JupyterRequire] /mnt/data/var/www/nomeroff-net/nomeroff_net/nnmodels/numberplate_options_model.py:112: UserWarning: Implicit dimension choice for softmax has been deprecated. Change the call to include dim=X as an argument.\n",
      "  x1 = functional.softmax(self.fc3_reg(x1))\n",
      "\n",
      "2021-12-20 18:02:57,071 [305221] WARNING  py.warnings:109: [JupyterRequire] /mnt/data/var/www/nomeroff-net/nomeroff_net/nnmodels/numberplate_options_model.py:121: UserWarning: Implicit dimension choice for softmax has been deprecated. Change the call to include dim=X as an argument.\n",
      "  x2 = functional.softmax(self.fc3_line(x2))\n",
      "\n",
      "2021-12-20 18:02:58,142 [305221] WARNING  py.warnings:109: [JupyterRequire] /mnt/data/var/www/nomeroff-net/nomeroff_net/nnmodels/numberplate_options_model.py:112: UserWarning: Implicit dimension choice for softmax has been deprecated. Change the call to include dim=X as an argument.\n",
      "  x1 = functional.softmax(self.fc3_reg(x1))\n",
      "\n",
      "2021-12-20 18:02:58,146 [305221] WARNING  py.warnings:109: [JupyterRequire] /mnt/data/var/www/nomeroff-net/nomeroff_net/nnmodels/numberplate_options_model.py:121: UserWarning: Implicit dimension choice for softmax has been deprecated. Change the call to include dim=X as an argument.\n",
      "  x2 = functional.softmax(self.fc3_line(x2))\n",
      "\n",
      "2021-12-20 18:02:58,499 [305221] WARNING  py.warnings:109: [JupyterRequire] /mnt/data/var/www/nomeroff-net/nomeroff_net/nnmodels/numberplate_options_model.py:112: UserWarning: Implicit dimension choice for softmax has been deprecated. Change the call to include dim=X as an argument.\n",
      "  x1 = functional.softmax(self.fc3_reg(x1))\n",
      "\n",
      "2021-12-20 18:02:58,503 [305221] WARNING  py.warnings:109: [JupyterRequire] /mnt/data/var/www/nomeroff-net/nomeroff_net/nnmodels/numberplate_options_model.py:121: UserWarning: Implicit dimension choice for softmax has been deprecated. Change the call to include dim=X as an argument.\n",
      "  x2 = functional.softmax(self.fc3_line(x2))\n",
      "\n",
      "2021-12-20 18:02:58,898 [305221] WARNING  py.warnings:109: [JupyterRequire] /mnt/data/var/www/nomeroff-net/nomeroff_net/nnmodels/numberplate_options_model.py:112: UserWarning: Implicit dimension choice for softmax has been deprecated. Change the call to include dim=X as an argument.\n",
      "  x1 = functional.softmax(self.fc3_reg(x1))\n",
      "\n",
      "2021-12-20 18:02:58,901 [305221] WARNING  py.warnings:109: [JupyterRequire] /mnt/data/var/www/nomeroff-net/nomeroff_net/nnmodels/numberplate_options_model.py:121: UserWarning: Implicit dimension choice for softmax has been deprecated. Change the call to include dim=X as an argument.\n",
      "  x2 = functional.softmax(self.fc3_line(x2))\n",
      "\n",
      "2021-12-20 18:02:59,884 [305221] WARNING  py.warnings:109: [JupyterRequire] /mnt/data/var/www/nomeroff-net/nomeroff_net/nnmodels/numberplate_options_model.py:112: UserWarning: Implicit dimension choice for softmax has been deprecated. Change the call to include dim=X as an argument.\n",
      "  x1 = functional.softmax(self.fc3_reg(x1))\n",
      "\n",
      "2021-12-20 18:02:59,887 [305221] WARNING  py.warnings:109: [JupyterRequire] /mnt/data/var/www/nomeroff-net/nomeroff_net/nnmodels/numberplate_options_model.py:121: UserWarning: Implicit dimension choice for softmax has been deprecated. Change the call to include dim=X as an argument.\n",
      "  x2 = functional.softmax(self.fc3_line(x2))\n",
      "\n",
      "2021-12-20 18:03:00,913 [305221] WARNING  py.warnings:109: [JupyterRequire] /mnt/data/var/www/nomeroff-net/nomeroff_net/nnmodels/numberplate_options_model.py:112: UserWarning: Implicit dimension choice for softmax has been deprecated. Change the call to include dim=X as an argument.\n",
      "  x1 = functional.softmax(self.fc3_reg(x1))\n",
      "\n",
      "2021-12-20 18:03:00,927 [305221] WARNING  py.warnings:109: [JupyterRequire] /mnt/data/var/www/nomeroff-net/nomeroff_net/nnmodels/numberplate_options_model.py:121: UserWarning: Implicit dimension choice for softmax has been deprecated. Change the call to include dim=X as an argument.\n",
      "  x2 = functional.softmax(self.fc3_line(x2))\n",
      "\n",
      "2021-12-20 18:03:01,180 [305221] WARNING  py.warnings:109: [JupyterRequire] /mnt/data/var/www/nomeroff-net/nomeroff_net/nnmodels/numberplate_options_model.py:112: UserWarning: Implicit dimension choice for softmax has been deprecated. Change the call to include dim=X as an argument.\n",
      "  x1 = functional.softmax(self.fc3_reg(x1))\n",
      "\n",
      "2021-12-20 18:03:01,192 [305221] WARNING  py.warnings:109: [JupyterRequire] /mnt/data/var/www/nomeroff-net/nomeroff_net/nnmodels/numberplate_options_model.py:121: UserWarning: Implicit dimension choice for softmax has been deprecated. Change the call to include dim=X as an argument.\n",
      "  x2 = functional.softmax(self.fc3_line(x2))\n",
      "\n"
     ]
    },
    {
     "name": "stderr",
     "output_type": "stream",
     "text": [
      "2021-12-20 18:03:01,488 [305221] WARNING  py.warnings:109: [JupyterRequire] /mnt/data/var/www/nomeroff-net/nomeroff_net/nnmodels/numberplate_options_model.py:112: UserWarning: Implicit dimension choice for softmax has been deprecated. Change the call to include dim=X as an argument.\n",
      "  x1 = functional.softmax(self.fc3_reg(x1))\n",
      "\n",
      "2021-12-20 18:03:01,495 [305221] WARNING  py.warnings:109: [JupyterRequire] /mnt/data/var/www/nomeroff-net/nomeroff_net/nnmodels/numberplate_options_model.py:121: UserWarning: Implicit dimension choice for softmax has been deprecated. Change the call to include dim=X as an argument.\n",
      "  x2 = functional.softmax(self.fc3_line(x2))\n",
      "\n",
      "2021-12-20 18:03:02,106 [305221] WARNING  py.warnings:109: [JupyterRequire] /mnt/data/var/www/nomeroff-net/nomeroff_net/nnmodels/numberplate_options_model.py:112: UserWarning: Implicit dimension choice for softmax has been deprecated. Change the call to include dim=X as an argument.\n",
      "  x1 = functional.softmax(self.fc3_reg(x1))\n",
      "\n",
      "2021-12-20 18:03:02,113 [305221] WARNING  py.warnings:109: [JupyterRequire] /mnt/data/var/www/nomeroff-net/nomeroff_net/nnmodels/numberplate_options_model.py:121: UserWarning: Implicit dimension choice for softmax has been deprecated. Change the call to include dim=X as an argument.\n",
      "  x2 = functional.softmax(self.fc3_line(x2))\n",
      "\n",
      "2021-12-20 18:03:02,779 [305221] WARNING  py.warnings:109: [JupyterRequire] /mnt/data/var/www/nomeroff-net/nomeroff_net/nnmodels/numberplate_options_model.py:112: UserWarning: Implicit dimension choice for softmax has been deprecated. Change the call to include dim=X as an argument.\n",
      "  x1 = functional.softmax(self.fc3_reg(x1))\n",
      "\n",
      "2021-12-20 18:03:02,787 [305221] WARNING  py.warnings:109: [JupyterRequire] /mnt/data/var/www/nomeroff-net/nomeroff_net/nnmodels/numberplate_options_model.py:121: UserWarning: Implicit dimension choice for softmax has been deprecated. Change the call to include dim=X as an argument.\n",
      "  x2 = functional.softmax(self.fc3_line(x2))\n",
      "\n",
      "2021-12-20 18:03:02,999 [305221] WARNING  py.warnings:109: [JupyterRequire] /mnt/data/var/www/nomeroff-net/nomeroff_net/nnmodels/numberplate_options_model.py:112: UserWarning: Implicit dimension choice for softmax has been deprecated. Change the call to include dim=X as an argument.\n",
      "  x1 = functional.softmax(self.fc3_reg(x1))\n",
      "\n",
      "2021-12-20 18:03:03,006 [305221] WARNING  py.warnings:109: [JupyterRequire] /mnt/data/var/www/nomeroff-net/nomeroff_net/nnmodels/numberplate_options_model.py:121: UserWarning: Implicit dimension choice for softmax has been deprecated. Change the call to include dim=X as an argument.\n",
      "  x2 = functional.softmax(self.fc3_line(x2))\n",
      "\n",
      "2021-12-20 18:03:03,319 [305221] WARNING  py.warnings:109: [JupyterRequire] /mnt/data/var/www/nomeroff-net/nomeroff_net/nnmodels/numberplate_options_model.py:112: UserWarning: Implicit dimension choice for softmax has been deprecated. Change the call to include dim=X as an argument.\n",
      "  x1 = functional.softmax(self.fc3_reg(x1))\n",
      "\n",
      "2021-12-20 18:03:03,325 [305221] WARNING  py.warnings:109: [JupyterRequire] /mnt/data/var/www/nomeroff-net/nomeroff_net/nnmodels/numberplate_options_model.py:121: UserWarning: Implicit dimension choice for softmax has been deprecated. Change the call to include dim=X as an argument.\n",
      "  x2 = functional.softmax(self.fc3_line(x2))\n",
      "\n",
      "2021-12-20 18:03:03,532 [305221] WARNING  py.warnings:109: [JupyterRequire] /mnt/data/var/www/nomeroff-net/nomeroff_net/nnmodels/numberplate_options_model.py:112: UserWarning: Implicit dimension choice for softmax has been deprecated. Change the call to include dim=X as an argument.\n",
      "  x1 = functional.softmax(self.fc3_reg(x1))\n",
      "\n",
      "2021-12-20 18:03:03,541 [305221] WARNING  py.warnings:109: [JupyterRequire] /mnt/data/var/www/nomeroff-net/nomeroff_net/nnmodels/numberplate_options_model.py:121: UserWarning: Implicit dimension choice for softmax has been deprecated. Change the call to include dim=X as an argument.\n",
      "  x2 = functional.softmax(self.fc3_line(x2))\n",
      "\n"
     ]
    }
   ],
   "source": [
    "for images_chunk in images_chunks:\n",
    "    (images, images_bboxs, \n",
    "     images_points, images_zones, region_ids, \n",
    "     region_names, count_lines, \n",
    "     confidences, texts) = number_plate_detection_and_reading(images_chunk)"
   ]
  },
  {
   "cell_type": "code",
   "execution_count": 20,
   "metadata": {},
   "outputs": [],
   "source": [
    "timer_stat = number_plate_detection_and_reading.get_timer_stat(batch_size)"
   ]
  },
  {
   "cell_type": "markdown",
   "metadata": {},
   "source": [
    "### Intel(R) Core(TM) i9-9900K CPU @ 3.60GHz + NVIDIA RTX 3090"
   ]
  },
  {
   "cell_type": "code",
   "execution_count": 21,
   "metadata": {},
   "outputs": [
    {
     "name": "stdout",
     "output_type": "stream",
     "text": [
      "Processed 1 photos\n",
      "One photo process 0.48142807714400754 seconds\n",
      "\n",
      "detect_bbox_time_all 0.1709865677741266 per one photo\n",
      "craft_time_all 0.2405942178541614 per one photo\n",
      "classification_time_all 0.022152777641050277 per one photo\n",
      "ocr_time_all 0.019364072430518367 per one photo\n"
     ]
    }
   ],
   "source": [
    "print(f\"Processed {len(images)} photos\")\n",
    "print(f\"One photo process {timer_stat['NumberPlateDetectionAndReadingRuntime.call']} seconds\")\n",
    "print()\n",
    "print(f\"detect_bbox_time_all {timer_stat['NumberPlateLocalization.call']} per one photo\")\n",
    "print(f\"craft_time_all {timer_stat['NumberPlateKeyPointsDetection.call']} per one photo\")\n",
    "print(f\"classification_time_all {timer_stat['NumberPlateClassification.call']} per one photo\")\n",
    "print(f\"ocr_time_all {timer_stat['NumberPlateTextReading.call']} per one photo\")"
   ]
  },
  {
   "cell_type": "markdown",
   "metadata": {},
   "source": [
    "### Jetson Xavier"
   ]
  },
  {
   "cell_type": "code",
   "execution_count": null,
   "metadata": {},
   "outputs": [],
   "source": [
    "print(f\"Processed {j} photos\")\n",
    "print(f\"Time {end_time}\")\n",
    "print(f\"One photo process {end_time/j} seconds\")\n",
    "print()\n",
    "print(f\"image_load_time_all {image_load_time_all}; {image_load_time_all/j} per one photo\")\n",
    "print(f\"detect_bbox_time_all {detect_bbox_time_all}; {detect_bbox_time_all/j} per one photo\")\n",
    "print(f\"craft_time_all {craft_time_all}; {craft_time_all/j} per one photo\")\n",
    "print(f\"perspective_align_time_all {perspective_align_time_all}; {perspective_align_time_all/j} per one photo\")\n",
    "print(f\"classification_time_all {classification_time_all}; {classification_time_all/j} per one photo\")\n",
    "print(f\"ocr_time_all {ocr_time_all}; {ocr_time_all/j} per one photo\")"
   ]
  },
  {
   "cell_type": "code",
   "execution_count": null,
   "metadata": {},
   "outputs": [],
   "source": []
  },
  {
   "cell_type": "code",
   "execution_count": null,
   "metadata": {},
   "outputs": [],
   "source": []
  },
  {
   "cell_type": "code",
   "execution_count": null,
   "metadata": {},
   "outputs": [],
   "source": []
  }
 ],
 "metadata": {
  "kernelspec": {
   "display_name": "Python 3",
   "language": "python",
   "name": "python3"
  },
  "language_info": {
   "codemirror_mode": {
    "name": "ipython",
    "version": 3
   },
   "file_extension": ".py",
   "mimetype": "text/x-python",
   "name": "python",
   "nbconvert_exporter": "python",
   "pygments_lexer": "ipython3",
   "version": "3.8.7"
  }
 },
 "nbformat": 4,
 "nbformat_minor": 2
}
