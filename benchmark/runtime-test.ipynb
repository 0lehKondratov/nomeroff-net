{
 "cells": [
  {
   "cell_type": "markdown",
   "metadata": {},
   "source": [
    "# Runtime Test"
   ]
  },
  {
   "cell_type": "markdown",
   "metadata": {},
   "source": [
    "Before runing this test, please download models from [https://nomeroff.net.ua/models/](https://nomeroff.net.ua/models/) to **./models/** directory. "
   ]
  },
  {
   "cell_type": "code",
   "execution_count": 1,
   "metadata": {},
   "outputs": [],
   "source": [
    "import warnings\n",
    "import os\n",
    "from glob import glob\n",
    "\n",
    "from _paths import current_dir\n",
    "from nomeroff_net import pipeline"
   ]
  },
  {
   "cell_type": "code",
   "execution_count": 2,
   "metadata": {},
   "outputs": [],
   "source": [
    "warnings.filterwarnings(\"ignore\")\n",
    "os.environ[\"CUDA_VISIBLE_DEVICES\"] = \"0\""
   ]
  },
  {
   "cell_type": "code",
   "execution_count": 3,
   "metadata": {},
   "outputs": [
    {
     "name": "stderr",
     "output_type": "stream",
     "text": [
      "YOLOv5 🚀 v6.0-154-gb8a4bab torch 1.9.0+cu102 CPU\n",
      "\n",
      "Fusing layers... \n",
      "Model Summary: 213 layers, 7012822 parameters, 0 gradients\n"
     ]
    },
    {
     "name": "stdout",
     "output_type": "stream",
     "text": [
      "Loading weights from checkpoint (/mnt/data/var/www/nomeroff-net/benchmark/../nomeroff_net/tools/../../data/./models/np_points_craft/craft_mlt/craft_mlt_25k_2020-02-16.pth)\n",
      "Loading weights of refiner from checkpoint (/mnt/data/var/www/nomeroff-net/benchmark/../nomeroff_net/tools/../../data/./models/np_points_craft/craft_refiner/craft_refiner_CTW1500_2020-02-16.pth)\n"
     ]
    }
   ],
   "source": [
    "number_plate_detection_and_reading = pipeline(\"number_plate_detection_and_reading_runtime\", \n",
    "                                              image_loader=\"turbo\")"
   ]
  },
  {
   "cell_type": "code",
   "execution_count": 4,
   "metadata": {
    "scrolled": true
   },
   "outputs": [
    {
     "name": "stdout",
     "output_type": "stream",
     "text": [
      "pass 0\n"
     ]
    }
   ],
   "source": [
    "num_run = 1\n",
    "batch_size=4\n",
    "num_workers=4\n",
    "images = glob(os.path.join(current_dir, './images/*'))\n",
    "\n",
    "number_plate_detection_and_reading.clear_stat()\n",
    "outputs = number_plate_detection_and_reading(images, \n",
    "                                             batch_size=batch_size,\n",
    "                                             num_workers=num_workers)\n",
    "number_plate_detection_and_reading.clear_stat()\n",
    "\n",
    "for i in range(num_run):\n",
    "    print(f\"pass {i}\")\n",
    "    outputs = number_plate_detection_and_reading(images, \n",
    "                                                 batch_size=batch_size,\n",
    "                                                 num_workers=num_workers)"
   ]
  },
  {
   "cell_type": "code",
   "execution_count": 5,
   "metadata": {},
   "outputs": [],
   "source": [
    "timer_stat = number_plate_detection_and_reading.get_timer_stat(batch_size)"
   ]
  },
  {
   "cell_type": "markdown",
   "metadata": {},
   "source": [
    "### Intel(R) Core(TM) i9-9900K CPU @ 3.60GHz + NVIDIA RTX 3090"
   ]
  },
  {
   "cell_type": "code",
   "execution_count": 6,
   "metadata": {},
   "outputs": [
    {
     "name": "stdout",
     "output_type": "stream",
     "text": [
      "Processed 25 photos\n",
      "One photo process 0.3117575815745762 seconds\n",
      "\n",
      "detect_bbox_time_all 0.028591434955596923 per one photo\n",
      "craft_time_all 0.05139396667480469 per one photo\n",
      "classification_time_all 0.00312245317867824 per one photo\n",
      "ocr_time_all 0.002463106598172869 per one photo\n"
     ]
    }
   ],
   "source": [
    "print(f\"Processed {len(images)} photos\")\n",
    "print(f\"One photo process {timer_stat['NumberPlateDetectionAndReadingRuntime.run_single']} seconds\")\n",
    "print()\n",
    "print(f\"detect_bbox_time_all {timer_stat['NumberPlateLocalization.run_single']} per one photo\")\n",
    "print(f\"craft_time_all {timer_stat['NumberPlateKeyPointsDetection.run_single']} per one photo\")\n",
    "print(f\"classification_time_all {timer_stat['NumberPlateClassification.run_single']} per one photo\")\n",
    "print(f\"ocr_time_all {timer_stat['NumberPlateTextReading.run_single']} per one photo\")"
   ]
  },
  {
   "cell_type": "markdown",
   "metadata": {},
   "source": [
    "### Jetson Xavier"
   ]
  },
  {
   "cell_type": "code",
   "execution_count": null,
   "metadata": {},
   "outputs": [],
   "source": []
  }
 ],
 "metadata": {
  "kernelspec": {
   "display_name": "Python 3",
   "language": "python",
   "name": "python3"
  },
  "language_info": {
   "codemirror_mode": {
    "name": "ipython",
    "version": 3
   },
   "file_extension": ".py",
   "mimetype": "text/x-python",
   "name": "python",
   "nbconvert_exporter": "python",
   "pygments_lexer": "ipython3",
   "version": "3.8.7"
  }
 },
 "nbformat": 4,
 "nbformat_minor": 2
}
