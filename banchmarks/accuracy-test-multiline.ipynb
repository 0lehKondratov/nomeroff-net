{
 "cells": [
  {
   "cell_type": "markdown",
   "metadata": {},
   "source": [
    "# Start to end test"
   ]
  },
  {
   "cell_type": "code",
   "execution_count": null,
   "metadata": {},
   "outputs": [],
   "source": [
    "# Specify device\n",
    "import os\n",
    "os.environ[\"CUDA_VISIBLE_DEVICES\"] = \"0\" \n",
    "os.environ[\"TF_FORCE_GPU_ALLOW_GROWTH\"]=\"true\""
   ]
  },
  {
   "cell_type": "markdown",
   "metadata": {},
   "source": [
    "Before runing this test, please download models from [https://nomeroff.net.ua/models/](https://nomeroff.net.ua/models/) to **./models/** directory. "
   ]
  },
  {
   "cell_type": "code",
   "execution_count": null,
   "metadata": {},
   "outputs": [],
   "source": [
    "# Import all necessary libraries.\n",
    "import numpy as np\n",
    "import sys\n",
    "import glob\n",
    "import matplotlib.image as mpimg\n",
    "import matplotlib.pyplot as plt\n",
    "import cv2\n",
    "from termcolor import colored\n",
    "\n",
    "plt.rcParams[\"figure.figsize\"] = (10,10)"
   ]
  },
  {
   "cell_type": "code",
   "execution_count": null,
   "metadata": {},
   "outputs": [],
   "source": [
    "# NomeroffNet path\n",
    "NOMEROFF_NET_DIR = os.path.abspath('../')\n",
    "sys.path.append(NOMEROFF_NET_DIR)"
   ]
  },
  {
   "cell_type": "code",
   "execution_count": null,
   "metadata": {},
   "outputs": [],
   "source": [
    "from NomeroffNet.BBoxNpPoints import NpPointsCraft, getCvZoneRGB, convertCvZonesRGBtoBGR, reshapePoints\n",
    "from NomeroffNet.MultiLineNPExtractor import CCraft\n",
    "                                            \n",
    "\n",
    "ccraft = CCraft()\n",
    "npPointsCraft = NpPointsCraft()\n",
    "npPointsCraft.load()"
   ]
  },
  {
   "cell_type": "code",
   "execution_count": null,
   "metadata": {},
   "outputs": [],
   "source": [
    "from NomeroffNet.YoloV5Detector import Detector\n",
    "\n",
    "detector = Detector()\n",
    "detector.load()"
   ]
  },
  {
   "cell_type": "code",
   "execution_count": null,
   "metadata": {},
   "outputs": [],
   "source": [
    "from NomeroffNet.OptionsDetector import OptionsDetector\n",
    "\n",
    "optionsDetector = OptionsDetector()\n",
    "optionsDetector.load()"
   ]
  },
  {
   "cell_type": "code",
   "execution_count": null,
   "metadata": {},
   "outputs": [],
   "source": [
    "from NomeroffNet.TextDetector import TextDetector\n",
    "textDetector = TextDetector({\n",
    "    \"eu_ua_2004_2015\": {\n",
    "        \"for_regions\": [\"eu_ua_2015\", \"eu_ua_2004\"],\n",
    "        \"model_path\": \"latest\"\n",
    "    },\n",
    "    \"eu_ua_1995\": {\n",
    "        \"for_regions\": [\"eu_ua_1995\"],\n",
    "        \"model_path\": \"latest\"\n",
    "    },\n",
    "    \"eu\": {\n",
    "        \"for_regions\": [\"eu\"],\n",
    "        \"model_path\": \"latest\"\n",
    "    },\n",
    "    \"ru\": {\n",
    "        \"for_regions\": [\"ru\", \"eu-ua-fake-lnr\", \"eu-ua-fake-dnr\"],\n",
    "        \"model_path\": \"latest\" \n",
    "    },\n",
    "    \"kz\": {\n",
    "        \"for_regions\": [\"kz\"],\n",
    "        \"model_path\": \"latest\"\n",
    "    },\n",
    "    \"ge\": {\n",
    "        \"for_regions\": [\"ge\"],\n",
    "        \"model_path\": \"latest\"\n",
    "    },\n",
    "    \"su\": {\n",
    "        \"for_regions\": [\"su\"],\n",
    "        \"model_path\": \"latest\"\n",
    "    }\n",
    "})"
   ]
  },
  {
   "cell_type": "code",
   "execution_count": null,
   "metadata": {},
   "outputs": [],
   "source": [
    "import cv2\n",
    "import numpy as np\n",
    "\n",
    "async def test(dirName, fname, y, min_bbox_acc = 0.5, verbose=0):\n",
    "    nGood = 0\n",
    "    nBad  = 0\n",
    "    img_path = os.path.join(dirName, fname)\n",
    "    if verbose==1:\n",
    "        print(colored(f\"__________ \\t\\t {img_path} \\t\\t __________\", \"blue\"))\n",
    "    img = cv2.imread(img_path)\n",
    "    img = cv2.cvtColor(img, cv2.COLOR_BGR2RGB)\n",
    "\n",
    "    targetBoxes = detector.detect_bbox(img)\n",
    "    \n",
    "    # all_points = npPointsCraft.detect(img, targetBoxes,[5,2,0])\n",
    "    all_points, all_mline_boxes = npPointsCraft.detect_mline(img, targetBoxes, [5,2,0])\n",
    "    # for  images/14.jpeg bug\n",
    "    all_points = [ps for ps in all_points if len(ps)]\n",
    "\n",
    "    \n",
    "    print('all_points')\n",
    "    print(all_points)\n",
    "    # cut zones\n",
    "    toShowZones = [getCvZoneRGB(img, reshapePoints(rect,1)) for rect in all_points]\n",
    "    zones = convertCvZonesRGBtoBGR(toShowZones)    \n",
    "\n",
    "    # find standart\n",
    "    regionIds, countLines = optionsDetector.predict(zones)\n",
    "    regionNames = optionsDetector.getRegionLabels(regionIds)\n",
    "    print(regionNames)\n",
    "    print(countLines)\n",
    "    \n",
    "    # convert multiline to one line\n",
    "    image_parts = [img[int(box[1]):int(box[3]), int(box[0]):int(box[2])] \n",
    "                   for box, cl in zip(targetBoxes, countLines) \n",
    "                   if cl > 1]\n",
    "    all_mline_boxes_rect = [mline_boxes \n",
    "                   for mline_boxes, cl in zip(all_mline_boxes, countLines) \n",
    "                   if cl > 1]\n",
    "    region_names_rect = [region_name \n",
    "                           for region_name, cl in zip(regionNames, countLines) \n",
    "                           if cl > 1]\n",
    "    index_rect = [i \n",
    "                  for i, cl in enumerate(countLines) \n",
    "                  if cl > 1]\n",
    "    (zones_rect, \n",
    "     zones_target_points, \n",
    "     zones_mline_boxes) = ccraft.multiline_to_one_line(all_mline_boxes_rect,\n",
    "                                                            image_parts,\n",
    "                                                            region_names_rect)\n",
    "    for i, zone in zip(index_rect, zones_rect):\n",
    "        zones[i] = zone\n",
    "        toShowZones[i] = cv2.cvtColor(zone,cv2.COLOR_GRAY2RGB)\n",
    "    \n",
    "    for zone, points in zip(toShowZones, all_points):\n",
    "        plt.axis(\"off\")\n",
    "        plt.imshow(zone)\n",
    "        plt.show()\n",
    "\n",
    "    # find text with postprocessing by standart  \n",
    "    textArr = textDetector.predict(zones, regionNames, countLines)\n",
    "    print(textArr)\n",
    "    \n",
    "     # draw rect and 4 points\n",
    "    for targetBox, points in zip(targetBoxes, all_points):\n",
    "        # draw \n",
    "        cv2.rectangle(img, \n",
    "                      (int(targetBox[0]), int(targetBox[1])), \n",
    "                      (int(targetBox[2]), int(targetBox[3])), \n",
    "                      (0,120,255), \n",
    "                      3)\n",
    "        #print(points, points.shape)\n",
    "        cv2.polylines(img, np.array([points], np.int32), True, (255,120,255),3)\n",
    "    plt.imshow(img)\n",
    "    plt.show()\n",
    "\n",
    "    for yText in y:\n",
    "        if yText in textArr:\n",
    "            print(colored(f\"OK: TEXT:{yText} \\t\\t\\t RESULTS:{textArr} \\n\\t\\t\\t\\t\\t in PATH:{img_path}\", 'green'))\n",
    "            nGood += 1\n",
    "        else:\n",
    "            print(colored(f\"NOT OK: TEXT:{yText} \\t\\t\\t RESULTS:{textArr} \\n\\t\\t\\t\\t\\t in PATH:{img_path} \", 'red'))\n",
    "            nBad += 1\n",
    "    return nGood, nBad"
   ]
  },
  {
   "cell_type": "code",
   "execution_count": null,
   "metadata": {},
   "outputs": [],
   "source": [
    "dirName = \"./images\""
   ]
  },
  {
   "cell_type": "code",
   "execution_count": null,
   "metadata": {
    "scrolled": true
   },
   "outputs": [],
   "source": [
    "testData = {\n",
    "    \"0.jpeg\": [\"AI5255EI\"],\n",
    "    \"1.jpeg\": [\"AT6883CM\"],\n",
    "    \"2.jpeg\": [\"AT1515CK\"],\n",
    "    \"3.jpeg\": [\"BX0578CE\"],\n",
    "    \"4.jpeg\": [\"AC4249CB\"],\n",
    "    \"5.jpeg\": [\"BC3496HC\"],\n",
    "    \"6.jpeg\": [\"BC3496HC\"],\n",
    "    \"7.jpeg\": [\"AO1306CH\"],\n",
    "    \"8.jpeg\": [\"AE1077CO\"],\n",
    "    \"9.jpeg\": [\"AB3391AK\"],\n",
    "    \"10.jpeg\": [\"BE7425CB\"],\n",
    "    \"11.jpeg\": [\"BE7425CB\"],\n",
    "    \"12.jpeg\": [\"AB0680EA\"],\n",
    "    \"13.jpeg\": [\"AB0680EA\"],\n",
    "    \"14.jpeg\": [\"BM1930BM\"],\n",
    "    \"15.jpeg\": [\"AI1382HB\"],\n",
    "    \"16.jpeg\": [\"AB7333BH\"],\n",
    "    \"17.jpeg\": [\"AB7642CT\"],\n",
    "    \"18.jpeg\": [\"AC4921CB\"],\n",
    "    \"19.jpeg\": [\"BC9911BK\"],\n",
    "    \"20.jpeg\": [\"BC7007AK\"],\n",
    "    \"21.jpeg\": [\"AB5649CI\"],\n",
    "    \"22.jpeg\": [\"AX2756EK\"],\n",
    "    \"23.jpeg\": [\"AA7564MX\"],\n",
    "    \"24.jpeg\": [\"AM5696CK\"],\n",
    "    \"25.jpeg\": [\"AM5696CK\"],\n",
    "    \"326497737.jpeg\": [\"7686ЖЦ\"],\n",
    "    \"203920279.jpeg\": [\"10922ВХ\"],\n",
    "    \"308309115.jpeg\": [\"41353АЕ\"],\n",
    "    \"318207762.jpeg\": [\"30217ВІ\"],\n",
    "    \"326754115.jpeg\": [\"6808ХО\"]\n",
    "}\n",
    "\n",
    "%matplotlib inline\n",
    "plt.rcParams[\"figure.figsize\"]  = (20, 20)    \n",
    "\n",
    "gGood = 0\n",
    "gBad = 0\n",
    "i = 0\n",
    "for fileName in testData.keys():\n",
    "    nGood, nBad = await test(dirName, fileName, testData[fileName], verbose=1)\n",
    "    gGood += nGood\n",
    "    gBad += nBad\n",
    "    i += 1\n",
    "total = gGood + gBad\n",
    "print(f\"TOTAL GOOD: {gGood/total}\")\n",
    "print(f\"TOTAL BED: {gBad/total}\")"
   ]
  },
  {
   "cell_type": "code",
   "execution_count": null,
   "metadata": {},
   "outputs": [],
   "source": []
  }
 ],
 "metadata": {
  "kernelspec": {
   "display_name": "Python 3",
   "language": "python",
   "name": "python3"
  },
  "language_info": {
   "codemirror_mode": {
    "name": "ipython",
    "version": 3
   },
   "file_extension": ".py",
   "mimetype": "text/x-python",
   "name": "python",
   "nbconvert_exporter": "python",
   "pygments_lexer": "ipython3",
   "version": "3.9.5"
  }
 },
 "nbformat": 4,
 "nbformat_minor": 2
}
