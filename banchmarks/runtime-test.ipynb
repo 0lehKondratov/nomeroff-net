{
 "cells": [
  {
   "cell_type": "markdown",
   "metadata": {},
   "source": [
    "# Runtime Test"
   ]
  },
  {
   "cell_type": "markdown",
   "metadata": {},
   "source": [
    "Before runing this test, please download models from [https://nomeroff.net.ua/models/](https://nomeroff.net.ua/models/) to **./models/** directory. "
   ]
  },
  {
   "cell_type": "code",
   "execution_count": 1,
   "metadata": {},
   "outputs": [],
   "source": [
    "# Specify device\n",
    "import os\n",
    "os.environ[\"CUDA_VISIBLE_DEVICES\"] = \"0\" \n",
    "# os.environ[\"CUDA_VISIBLE_DEVICES\"] = \"\"  # For CPU inference\n",
    "os.environ[\"TF_FORCE_GPU_ALLOW_GROWTH\"]=\"true\""
   ]
  },
  {
   "cell_type": "code",
   "execution_count": 2,
   "metadata": {},
   "outputs": [],
   "source": [
    "# Import all necessary libraries.\n",
    "import numpy as np\n",
    "import sys\n",
    "import glob\n",
    "import time\n",
    "import matplotlib.image as mpimg\n",
    "import matplotlib.pyplot as plt\n",
    "import cv2\n",
    "from turbojpeg import TurboJPEG\n",
    "jpeg = TurboJPEG()\n",
    "\n",
    "# NomeroffNet path\n",
    "NOMEROFF_NET_DIR = os.path.abspath('../')\n",
    "sys.path.append(NOMEROFF_NET_DIR)"
   ]
  },
  {
   "cell_type": "code",
   "execution_count": 3,
   "metadata": {},
   "outputs": [
    {
     "name": "stdout",
     "output_type": "stream",
     "text": [
      "Fusing layers... \n"
     ]
    }
   ],
   "source": [
    "from NomeroffNet.YoloV5Detector import Detector\n",
    "\n",
    "detector = Detector()\n",
    "detector.load()"
   ]
  },
  {
   "cell_type": "code",
   "execution_count": 4,
   "metadata": {},
   "outputs": [
    {
     "name": "stdout",
     "output_type": "stream",
     "text": [
      "Loading weights from checkpoint (/var/www/nomeroff-net/NomeroffNet/Base/mcm/./models/NpPointsCraft/mtl/craft_mlt_25k_2020-02-16.pth)\n",
      "Loading weights of refiner from checkpoint (/var/www/nomeroff-net/NomeroffNet/Base/mcm/./models/NpPointsCraft/refiner/craft_refiner_CTW1500_2020-02-16.pth)\n"
     ]
    }
   ],
   "source": [
    "from NomeroffNet.BBoxNpPoints import NpPointsCraft, convertCvZonesRGBtoBGR, getCvZoneRGB, reshapePoints\n",
    "\n",
    "npPointsCraft = NpPointsCraft()\n",
    "npPointsCraft.load()"
   ]
  },
  {
   "cell_type": "code",
   "execution_count": 5,
   "metadata": {},
   "outputs": [],
   "source": [
    "from NomeroffNet.OptionsDetector import OptionsDetector\n",
    "\n",
    "optionsDetector = OptionsDetector()\n",
    "optionsDetector.load(\"../best.pb\")"
   ]
  },
  {
   "cell_type": "code",
   "execution_count": 6,
   "metadata": {},
   "outputs": [],
   "source": [
    "from NomeroffNet.TextDetector import TextDetector\n",
    "\n",
    "# Initialize text detector.\n",
    "textDetector = TextDetector({\n",
    "    \"eu_ua_2004_2015\": {\n",
    "        \"for_regions\": [\"eu_ua_2015\", \"eu_ua_2004\"],\n",
    "        \"model_path\": \"latest\"\n",
    "    },\n",
    "    \"eu_ua_1995\": {\n",
    "        \"for_regions\": [\"eu_ua_1995\"],\n",
    "        \"model_path\": \"latest\"\n",
    "    },\n",
    "    \"eu\": {\n",
    "        \"for_regions\": [\"eu\"],\n",
    "        \"model_path\": \"latest\"\n",
    "    },\n",
    "    \"ru\": {\n",
    "        \"for_regions\": [\"ru\", \"eu-ua-fake-lnr\", \"eu-ua-fake-dnr\"],\n",
    "        \"model_path\": \"latest\" \n",
    "    },\n",
    "    \"kz\": {\n",
    "        \"for_regions\": [\"kz\"],\n",
    "        \"model_path\": \"latest\"\n",
    "    },\n",
    "    \"ge\": {\n",
    "        \"for_regions\": [\"ge\"],\n",
    "        \"model_path\": \"latest\"\n",
    "    },\n",
    "    \"su\": {\n",
    "        \"for_regions\": [\"su\"],\n",
    "        \"model_path\": \"latest\"\n",
    "    }\n",
    "})"
   ]
  },
  {
   "cell_type": "code",
   "execution_count": 7,
   "metadata": {},
   "outputs": [],
   "source": [
    "async def test(dirName, fname):\n",
    "    start_time = time.time()\n",
    "    img_path = os.path.join(dirName, fname)\n",
    "    with open(img_path, 'rb') as in_file:\n",
    "        img = jpeg.decode(in_file.read())\n",
    "    #img = cv2.imread(img_path)\n",
    "    image_load_time = time.time() - start_time\n",
    "\n",
    "    start_time = time.time()\n",
    "    targetBoxes = detector.detect_bbox(img)\n",
    "    detect_bbox_time = time.time() - start_time\n",
    "    \n",
    "    start_time = time.time()\n",
    "    all_points = npPointsCraft.detect(img, targetBoxes)\n",
    "    all_points = [ps for ps in all_points if len(ps)]\n",
    "    craft_time = time.time() - start_time\n",
    "    \n",
    "    start_time = time.time()\n",
    "    \n",
    "    zones = convertCvZonesRGBtoBGR([getCvZoneRGB(img, reshapePoints(rect,1)) for rect in all_points])\n",
    "    \n",
    "    perspective_align_time = time.time() - start_time\n",
    "    \n",
    "    start_time = time.time()\n",
    "    regionIds, countLines = optionsDetector.predict(zones)\n",
    "    regionNames = optionsDetector.getRegionLabels(regionIds)\n",
    "    classification_time = time.time() - start_time\n",
    "    \n",
    "    start_time = time.time()\n",
    "    textArr = textDetector.predict(zones, regionNames, countLines)\n",
    "    ocr_time = time.time() - start_time\n",
    "    return (image_load_time, detect_bbox_time, craft_time, perspective_align_time, classification_time, ocr_time)"
   ]
  },
  {
   "cell_type": "code",
   "execution_count": 8,
   "metadata": {
    "scrolled": false
   },
   "outputs": [
    {
     "name": "stdout",
     "output_type": "stream",
     "text": [
      "pass 0\n"
     ]
    },
    {
     "name": "stderr",
     "output_type": "stream",
     "text": [
      "/var/www/nomeroff-net/NomeroffNet/../CRAFT-pytorch/craft_utils.py:239: VisibleDeprecationWarning: Creating an ndarray from ragged nested sequences (which is a list-or-tuple of lists-or-tuples-or ndarrays with different lengths or shapes) is deprecated. If you meant to do this, you must specify 'dtype=object' when creating the ndarray\n",
      "  polys = np.array(polys)\n",
      "/var/www/nomeroff-net/NomeroffNet/Base/nnmodels.py:34: UserWarning: Implicit dimension choice for softmax has been deprecated. Change the call to include dim=X as an argument.\n",
      "  x1 = F.softmax(self.fc3_reg(x1))\n",
      "/var/www/nomeroff-net/NomeroffNet/Base/nnmodels.py:40: UserWarning: Implicit dimension choice for softmax has been deprecated. Change the call to include dim=X as an argument.\n",
      "  x2 = F.softmax(self.fc3_line(x2))\n"
     ]
    },
    {
     "name": "stdout",
     "output_type": "stream",
     "text": [
      "pass 1\n",
      "pass 2\n",
      "pass 3\n",
      "pass 4\n",
      "pass 5\n",
      "pass 6\n",
      "pass 7\n",
      "pass 8\n",
      "pass 9\n"
     ]
    }
   ],
   "source": [
    "N = 10\n",
    "\n",
    "i = 0\n",
    "j = 0\n",
    "\n",
    "image_load_time_all        = 0\n",
    "detect_bbox_time_all       = 0\n",
    "craft_time_all             = 0\n",
    "perspective_align_time_all = 0\n",
    "classification_time_all    = 0\n",
    "ocr_time_all               = 0\n",
    "\n",
    "start_time = time.time()\n",
    "rootDir = 'images/'\n",
    "for i in np.arange(N):\n",
    "    print(\"pass {}\".format(i))\n",
    "    for dirName, subdirList, fileList in os.walk(rootDir):\n",
    "        for fname in fileList:\n",
    "            image_load_time, \\\n",
    "                detect_bbox_time, \\\n",
    "                craft_time, \\\n",
    "                perspective_align_time, \\\n",
    "                classification_time, \\\n",
    "                ocr_time = await test(dirName, fname)\n",
    "            image_load_time_all        += image_load_time\n",
    "            detect_bbox_time_all       += detect_bbox_time\n",
    "            craft_time_all             += craft_time\n",
    "            perspective_align_time_all += perspective_align_time\n",
    "            classification_time_all    += classification_time\n",
    "            ocr_time_all               += ocr_time\n",
    "            j += 1\n",
    "            #print(i, j)\n",
    "    i += 1\n",
    "end_time = time.time() - start_time"
   ]
  },
  {
   "cell_type": "markdown",
   "metadata": {},
   "source": [
    "### Intel(R) Core(TM) i9-9900K CPU @ 3.60GHz + NVIDIA RTX 3090"
   ]
  },
  {
   "cell_type": "code",
   "execution_count": 9,
   "metadata": {},
   "outputs": [
    {
     "name": "stdout",
     "output_type": "stream",
     "text": [
      "Processed 260 photos\n",
      "Time 22.44437289237976\n",
      "One photo process 0.08632451112453754 seconds\n",
      "\n",
      "image_load_time_all 5.669478178024292; 0.02180568530009343 per one photo\n",
      "detect_bbox_time_all 2.0681071281433105; 0.007954258185166579 per one photo\n",
      "craft_time_all 7.951882600784302; 0.03058416384917039 per one photo\n",
      "perspective_align_time_all 0.7732529640197754; 0.002974049861614521 per one photo\n",
      "classification_time_all 0.34340953826904297; 0.001320805916419396 per one photo\n",
      "ocr_time_all 5.6229612827301025; 0.021626774164346548 per one photo\n"
     ]
    }
   ],
   "source": [
    "print(f\"Processed {j} photos\")\n",
    "print(f\"Time {end_time}\")\n",
    "print(f\"One photo process {end_time/j} seconds\")\n",
    "print()\n",
    "print(f\"image_load_time_all {image_load_time_all}; {image_load_time_all/j} per one photo\")\n",
    "print(f\"detect_bbox_time_all {detect_bbox_time_all}; {detect_bbox_time_all/j} per one photo\")\n",
    "print(f\"craft_time_all {craft_time_all}; {craft_time_all/j} per one photo\")\n",
    "print(f\"perspective_align_time_all {perspective_align_time_all}; {perspective_align_time_all/j} per one photo\")\n",
    "print(f\"classification_time_all {classification_time_all}; {classification_time_all/j} per one photo\")\n",
    "print(f\"ocr_time_all {ocr_time_all}; {ocr_time_all/j} per one photo\")"
   ]
  },
  {
   "cell_type": "code",
   "execution_count": 10,
   "metadata": {},
   "outputs": [],
   "source": [
    "# cv2 image load time 0.057034785930926986\n",
    "# TurboJPEG image load time 0.030525074555323675"
   ]
  },
  {
   "cell_type": "markdown",
   "metadata": {},
   "source": [
    "### Intel(R) Core(TM) i9-9900K CPU @ 3.60GHz + Quadro RTX 8000"
   ]
  }
 ],
 "metadata": {
  "kernelspec": {
   "display_name": "Python 3",
   "language": "python",
   "name": "python3"
  },
  "language_info": {
   "codemirror_mode": {
    "name": "ipython",
    "version": 3
   },
   "file_extension": ".py",
   "mimetype": "text/x-python",
   "name": "python",
   "nbconvert_exporter": "python",
   "pygments_lexer": "ipython3",
   "version": "3.9.0"
  }
 },
 "nbformat": 4,
 "nbformat_minor": 2
}
