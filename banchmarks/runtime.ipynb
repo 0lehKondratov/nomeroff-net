{
 "cells": [
  {
   "cell_type": "markdown",
   "metadata": {},
   "source": [
    "# Runtime Test"
   ]
  },
  {
   "cell_type": "markdown",
   "metadata": {},
   "source": [
    "Before runing this test, please download models from [https://nomeroff.net.ua/models/](https://nomeroff.net.ua/models/) to **./models/** directory. "
   ]
  },
  {
   "cell_type": "code",
   "execution_count": 1,
   "metadata": {},
   "outputs": [
    {
     "name": "stderr",
     "output_type": "stream",
     "text": [
      "Using TensorFlow backend.\n"
     ]
    },
    {
     "name": "stdout",
     "output_type": "stream",
     "text": [
      "/mnt/data/www/nomeroff-net/Mask_RCNN\n",
      "WARNING:tensorflow:From /usr/local/lib/python3.6/site-packages/tensorflow/python/ops/sparse_ops.py:1165: sparse_to_dense (from tensorflow.python.ops.sparse_ops) is deprecated and will be removed in a future version.\n",
      "Instructions for updating:\n",
      "Create a `tf.sparse.SparseTensor` and use `tf.sparse.to_dense` instead.\n"
     ]
    }
   ],
   "source": [
    "import os\n",
    "import sys\n",
    "import json\n",
    "import matplotlib.image as mpimg\n",
    "from matplotlib import pyplot as plt\n",
    "from termcolor import colored\n",
    "import cv2\n",
    "import time\n",
    "import numpy as np\n",
    "import warnings\n",
    "warnings.filterwarnings('ignore')\n",
    "\n",
    "# change this property\n",
    "NOMEROFF_NET_DIR = os.path.abspath('../')\n",
    "\n",
    "# specify the path to Mask_RCNN if you placed it outside Nomeroff-net project\n",
    "MASK_RCNN_DIR = os.path.join(NOMEROFF_NET_DIR, 'Mask_RCNN')\n",
    "\n",
    "MASK_RCNN_LOG_DIR = \"../logs/\"\n",
    "MASK_RCNN_MODEL_PATH = \"../models/mask_rcnn_numberplate_0700.pb\"\n",
    "OPTIONS_MODEL_PATH =  \"../models/numberplate_options_2019_2_15.pb\"\n",
    "OCR_NP_UKR_TEXT =  \"../models/anpr_ocr_ua_1_2_11-cpu.pb\"\n",
    "OCR_NP_EU_TEXT =  \"../models/anpr_ocr_eu_2-cpu.pb\"\n",
    "\n",
    "sys.path.append(NOMEROFF_NET_DIR)\n",
    "\n",
    "from NomeroffNet import  filters, RectDetector, TextDetector, OptionsDetector, Detector, textPostprocessingAsync\n",
    "\n",
    "nnet = Detector(MASK_RCNN_DIR, MASK_RCNN_LOG_DIR)\n",
    "nnet.loadModel(MASK_RCNN_MODEL_PATH)\n",
    "\n",
    "rectDetector = RectDetector()\n",
    "\n",
    "optionsDetector = OptionsDetector()\n",
    "optionsDetector.load(OPTIONS_MODEL_PATH)\n",
    "\n",
    "# Initialize text detector.\n",
    "textDetector = TextDetector({\n",
    "    \"eu_ua_2014_2015\": {\n",
    "        \"for_regions\": [\"eu_ua_2015\", \"eu_ua_2004\"],\n",
    "        \"model_path\": OCR_NP_UKR_TEXT\n",
    "    },\n",
    "    \"eu\": {\n",
    "        \"for_regions\": [\"eu\", \"eu_ua_1995\"],\n",
    "        \"model_path\": OCR_NP_EU_TEXT\n",
    "    }\n",
    "})"
   ]
  },
  {
   "cell_type": "code",
   "execution_count": 2,
   "metadata": {},
   "outputs": [],
   "source": [
    "async def test(dirName, fname, max_img_w=1280):\n",
    "    img_path = os.path.join(dirName, fname)\n",
    "    img = mpimg.imread(img_path)\n",
    "\n",
    "    # corect size for better speed\n",
    "    img_w = img.shape[1]\n",
    "    img_h = img.shape[0]\n",
    "    img_w_r = 1\n",
    "    img_h_r = 1\n",
    "    if img_w > max_img_w:\n",
    "        resized_img = cv2.resize(img, (max_img_w, int(max_img_w/img_w*img_h)))\n",
    "        img_w_r = img_w/max_img_w\n",
    "        img_h_r = img_h/(max_img_w/img_w*img_h)\n",
    "    else:\n",
    "        resized_img = img\n",
    "\n",
    "    NP = nnet.detect([resized_img]) \n",
    "\n",
    "    # Generate image mask.\n",
    "    cv_img_masks = await filters.cv_img_mask_async(NP)\n",
    "\n",
    "    # Detect points.\n",
    "    arrPoints = await rectDetector.detectAsync(cv_img_masks,  outboundHeightOffset=3-img_w_r)\n",
    "    arrPoints[..., 1:2] = arrPoints[..., 1:2]*img_h_r\n",
    "    arrPoints[..., 0:1] = arrPoints[..., 0:1]*img_w_r\n",
    "\n",
    "    # cut zones\n",
    "    zones = await rectDetector.get_cv_zonesBGR_async(img, arrPoints)\n",
    "\n",
    "    # find standart\n",
    "    regionIds, stateIds = optionsDetector.predict(zones)\n",
    "    regionNames = optionsDetector.getRegionLabels(regionIds)\n",
    "\n",
    "    # find text with postprocessing by standart  \n",
    "    textArr = textDetector.predict(zones, regionNames)\n",
    "    textArr = await textPostprocessingAsync(textArr, regionNames)\n",
    "    return textArr"
   ]
  },
  {
   "cell_type": "code",
   "execution_count": 3,
   "metadata": {},
   "outputs": [
    {
     "name": "stdout",
     "output_type": "stream",
     "text": [
      "0.5\n",
      "1.0\n"
     ]
    }
   ],
   "source": [
    "N = 2\n",
    "\n",
    "i = 0\n",
    "j = 0\n",
    "start_time = time.time()\n",
    "rootDir = 'images/'\n",
    "for i in np.arange(N):\n",
    "    for dirName, subdirList, fileList in os.walk(rootDir):\n",
    "        for fname in fileList:\n",
    "            await test(dirName, fname)\n",
    "            j += 1\n",
    "    i += 1\n",
    "    print(i/N)\n",
    "end_time = time.time() - start_time"
   ]
  },
  {
   "cell_type": "markdown",
   "metadata": {},
   "source": [
    "### Intel(R) Core(TM) i5-7500 CPU @ 3.40GHz"
   ]
  },
  {
   "cell_type": "code",
   "execution_count": 4,
   "metadata": {},
   "outputs": [
    {
     "name": "stdout",
     "output_type": "stream",
     "text": [
      "Processed 52 photos\n",
      "Time 320.86500120162964\n",
      "One photo process 6.170480792339031 seconds\n"
     ]
    }
   ],
   "source": [
    "print(f\"Processed {j} photos\")\n",
    "print(f\"Time {end_time}\")\n",
    "print(f\"One photo process {end_time/j} seconds\")"
   ]
  },
  {
   "cell_type": "markdown",
   "metadata": {},
   "source": [
    "### Intel(R) Core(TM) i7-7700K CPU @ 4.20GHz + GeForce® GTX 1080 Ti"
   ]
  },
  {
   "cell_type": "code",
   "execution_count": 5,
   "metadata": {},
   "outputs": [
    {
     "name": "stdout",
     "output_type": "stream",
     "text": [
      "Processed 52 photos\n",
      "Time 320.86500120162964\n",
      "One photo process 6.170480792339031 seconds\n"
     ]
    }
   ],
   "source": [
    "print(f\"Processed {j} photos\")\n",
    "print(f\"Time {end_time}\")\n",
    "print(f\"One photo process {end_time/j} seconds\")"
   ]
  },
  {
   "cell_type": "code",
   "execution_count": null,
   "metadata": {},
   "outputs": [],
   "source": []
  }
 ],
 "metadata": {
  "kernelspec": {
   "display_name": "Python 3",
   "language": "python",
   "name": "python3"
  },
  "language_info": {
   "codemirror_mode": {
    "name": "ipython",
    "version": 3
   },
   "file_extension": ".py",
   "mimetype": "text/x-python",
   "name": "python",
   "nbconvert_exporter": "python",
   "pygments_lexer": "ipython3",
   "version": "3.6.6"
  }
 },
 "nbformat": 4,
 "nbformat_minor": 2
}
