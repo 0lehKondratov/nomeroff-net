{
 "cells": [
  {
   "cell_type": "markdown",
   "metadata": {},
   "source": [
    "# Runtime Test"
   ]
  },
  {
   "cell_type": "markdown",
   "metadata": {},
   "source": [
    "Before runing this test, please download models from [https://nomeroff.net.ua/models/](https://nomeroff.net.ua/models/) to **./models/** directory. "
   ]
  },
  {
   "cell_type": "code",
   "execution_count": 1,
   "metadata": {},
   "outputs": [],
   "source": [
    "# Specify device\n",
    "import os\n",
    "os.environ[\"CUDA_VISIBLE_DEVICES\"] = \"0\" \n",
    "#os.environ[\"CUDA_HOME\"] = \"/usr/local/cuda\" \n",
    "# os.environ[\"CUDA_VISIBLE_DEVICES\"] = \"\"  # For CPU inference"
   ]
  },
  {
   "cell_type": "code",
   "execution_count": 2,
   "metadata": {},
   "outputs": [
    {
     "name": "stdout",
     "output_type": "stream",
     "text": [
      "WARNING:tensorflow:From /usr/local/lib64/python3.9/site-packages/tensorflow/python/util/module_wrapper.py:49: The name tf.keras.backend.set_session is deprecated. Please use tf.compat.v1.keras.backend.set_session instead.\n",
      "\n"
     ]
    }
   ],
   "source": [
    " # dynamically grow the memory used on the GPU\n",
    "from tensorflow.compat.v1.keras.backend import set_session\n",
    "import tensorflow as tf\n",
    "#config = tf.compat.v1.ConfigProto()\n",
    "#config.gpu_options.allow_growth = True \n",
    "#sess = tf.compat.v1.Session(config=config)\n",
    "gpu_options = tf.compat.v1.GPUOptions(per_process_gpu_memory_fraction=0.5)\n",
    "sess = tf.compat.v1.Session(config=tf.compat.v1.ConfigProto(gpu_options=gpu_options))\n",
    "set_session(sess)\n"
   ]
  },
  {
   "cell_type": "code",
   "execution_count": 3,
   "metadata": {},
   "outputs": [],
   "source": [
    "# Import all necessary libraries.\n",
    "import numpy as np\n",
    "import sys\n",
    "import glob\n",
    "import time\n",
    "import matplotlib.image as mpimg\n",
    "import matplotlib.pyplot as plt\n",
    "import cv2\n",
    "from turbojpeg import TurboJPEG\n",
    "jpeg = TurboJPEG()\n",
    "\n",
    "# NomeroffNet path\n",
    "NOMEROFF_NET_DIR = os.path.abspath('../')\n",
    "sys.path.append(NOMEROFF_NET_DIR)"
   ]
  },
  {
   "cell_type": "code",
   "execution_count": 4,
   "metadata": {},
   "outputs": [
    {
     "name": "stdout",
     "output_type": "stream",
     "text": [
      "\u001b[33mWARNING: Running pip install with root privileges is generally not a good idea. Try `pip3 install --user` instead.\u001b[0m\n",
      "Looking in indexes: https://pypi.org/simple, https://pypi.ngc.nvidia.com\n",
      "Collecting git+git://github.com/lilohuang/PyTurboJPEG.git\n",
      "  Cloning git://github.com/lilohuang/PyTurboJPEG.git to /tmp/pip-req-build-ik9g_85t\n",
      "Requirement already satisfied, skipping upgrade: numpy in /usr/local/lib64/python3.9/site-packages (from PyTurboJPEG==1.4.1) (1.19.4)\n",
      "Building wheels for collected packages: PyTurboJPEG\n",
      "  Building wheel for PyTurboJPEG (setup.py) ... \u001b[?25ldone\n",
      "\u001b[?25h  Created wheel for PyTurboJPEG: filename=PyTurboJPEG-1.4.1-py3-none-any.whl size=7846 sha256=221ed580f2c5238c8e7e19e1c964e52b1a74112271e841fd57ad74d7766c084a\n",
      "  Stored in directory: /tmp/pip-ephem-wheel-cache-jeuek6n6/wheels/0b/47/e5/13fc5b97f66f9e83aa0c98f39496df95b023ec2c847ef49c0e\n",
      "Successfully built PyTurboJPEG\n",
      "Installing collected packages: PyTurboJPEG\n",
      "  Attempting uninstall: PyTurboJPEG\n",
      "    Found existing installation: PyTurboJPEG 1.4.1\n",
      "    Uninstalling PyTurboJPEG-1.4.1:\n",
      "      Successfully uninstalled PyTurboJPEG-1.4.1\n",
      "Successfully installed PyTurboJPEG-1.4.1\n"
     ]
    }
   ],
   "source": [
    "!pip3 install -U git+git://github.com/lilohuang/PyTurboJPEG.git"
   ]
  },
  {
   "cell_type": "code",
   "execution_count": 5,
   "metadata": {},
   "outputs": [
    {
     "name": "stdout",
     "output_type": "stream",
     "text": [
      "Fusing layers... \n"
     ]
    }
   ],
   "source": [
    "from NomeroffNet.YoloV5Detector import Detector\n",
    "\n",
    "detector = Detector()\n",
    "detector.load()"
   ]
  },
  {
   "cell_type": "code",
   "execution_count": 6,
   "metadata": {},
   "outputs": [
    {
     "name": "stdout",
     "output_type": "stream",
     "text": [
      "Loading weights from checkpoint (/var/www/nomeroff-netv2/nomeroff-net/NomeroffNet/Base/mcm/./models/NpPointsCraft/mtl/craft_mlt_25k_2020-02-16.pth)\n",
      "Loading weights of refiner from checkpoint (/var/www/nomeroff-netv2/nomeroff-net/NomeroffNet/Base/mcm/./models/NpPointsCraft/refiner/craft_refiner_CTW1500_2020-02-16.pth)\n"
     ]
    }
   ],
   "source": [
    "from NomeroffNet.BBoxNpPoints import NpPointsCraft\n",
    "\n",
    "npPointsCraft = NpPointsCraft()\n",
    "npPointsCraft.load()"
   ]
  },
  {
   "cell_type": "code",
   "execution_count": 7,
   "metadata": {},
   "outputs": [],
   "source": [
    "from NomeroffNet.OptionsDetector import OptionsDetector\n",
    "from NomeroffNet.TextDetector import TextDetector\n",
    "\n",
    "# Import license plate recognition tools.\n",
    "from NomeroffNet.RectDetector import  RectDetector\n",
    "\n",
    "rectDetector = RectDetector()\n",
    "\n",
    "optionsDetector = OptionsDetector()\n",
    "optionsDetector.load(\"latest\")\n",
    "\n",
    "# Initialize text detector.\n",
    "textDetector = TextDetector({\n",
    "    \"eu_ua_2004_2015\": {\n",
    "        \"for_regions\": [\"eu_ua_2015\", \"eu_ua_2004\"],\n",
    "        \"model_path\": \"latest\"\n",
    "    },\n",
    "    \"eu_ua_1995\": {\n",
    "        \"for_regions\": [\"eu_ua_1995\"],\n",
    "        \"model_path\": \"latest\"\n",
    "    },\n",
    "    \"eu\": {\n",
    "        \"for_regions\": [\"eu\"],\n",
    "        \"model_path\": \"latest\"\n",
    "    },\n",
    "    \"ru\": {\n",
    "        \"for_regions\": [\"ru\", \"eu-ua-fake-lnr\", \"eu-ua-fake-dnr\"],\n",
    "        \"model_path\": \"latest\" \n",
    "    },\n",
    "    \"kz\": {\n",
    "        \"for_regions\": [\"kz\"],\n",
    "        \"model_path\": \"latest\"\n",
    "    },\n",
    "    \"ge\": {\n",
    "        \"for_regions\": [\"ge\"],\n",
    "        \"model_path\": \"latest\"\n",
    "    },\n",
    "    \"su\": {\n",
    "        \"for_regions\": [\"su\"],\n",
    "        \"model_path\": \"latest\"\n",
    "    }\n",
    "})"
   ]
  },
  {
   "cell_type": "code",
   "execution_count": 8,
   "metadata": {},
   "outputs": [],
   "source": [
    "async def test(dirName, fname, min_bbox_acc = 0.5):\n",
    "    start_time = time.time()\n",
    "    img_path = os.path.join(dirName, fname)\n",
    "    with open(img_path, 'rb') as in_file:\n",
    "        img = jpeg.decode(in_file.read())\n",
    "    #img = cv2.imread(img_path)\n",
    "    image_load_time = time.time() - start_time\n",
    "\n",
    "    start_time = time.time()\n",
    "    targetBoxes = detector.detect_bbox(img)\n",
    "    detect_bbox_time = time.time() - start_time\n",
    "    \n",
    "    start_time = time.time()\n",
    "    all_points = npPointsCraft.detect(img, targetBoxes)\n",
    "    all_points = [ps for ps in all_points if len(ps)]\n",
    "    craft_time = time.time() - start_time\n",
    "    \n",
    "    start_time = time.time()\n",
    "    zones = rectDetector.get_cv_zonesBGR(img, all_points)\n",
    "    perspective_align_time = time.time() - start_time\n",
    "    \n",
    "    start_time = time.time()\n",
    "    regionIds, stateIds, countLines = optionsDetector.predict(zones)\n",
    "    regionNames = optionsDetector.getRegionLabels(regionIds)\n",
    "    classification_time = time.time() - start_time\n",
    "    \n",
    "    start_time = time.time()\n",
    "    textArr = textDetector.predict(zones, regionNames, countLines)\n",
    "    ocr_time = time.time() - start_time\n",
    "    return (image_load_time, detect_bbox_time, craft_time, perspective_align_time, classification_time, ocr_time)"
   ]
  },
  {
   "cell_type": "code",
   "execution_count": 9,
   "metadata": {
    "scrolled": false
   },
   "outputs": [
    {
     "name": "stdout",
     "output_type": "stream",
     "text": [
      "pass 0\n"
     ]
    },
    {
     "name": "stderr",
     "output_type": "stream",
     "text": [
      "/var/www/nomeroff-netv2/nomeroff-net/NomeroffNet/../CRAFT-pytorch/craft_utils.py:239: VisibleDeprecationWarning: Creating an ndarray from ragged nested sequences (which is a list-or-tuple of lists-or-tuples-or ndarrays with different lengths or shapes) is deprecated. If you meant to do this, you must specify 'dtype=object' when creating the ndarray\n",
      "  polys = np.array(polys)\n"
     ]
    },
    {
     "name": "stdout",
     "output_type": "stream",
     "text": [
      "pass 1\n",
      "pass 2\n",
      "pass 3\n",
      "pass 4\n",
      "pass 5\n",
      "pass 6\n",
      "pass 7\n",
      "pass 8\n",
      "pass 9\n"
     ]
    }
   ],
   "source": [
    "N = 10\n",
    "\n",
    "i = 0\n",
    "j = 0\n",
    "\n",
    "image_load_time_all        = 0\n",
    "detect_bbox_time_all       = 0\n",
    "craft_time_all             = 0\n",
    "perspective_align_time_all = 0\n",
    "classification_time_all    = 0\n",
    "ocr_time_all               = 0\n",
    "\n",
    "start_time = time.time()\n",
    "rootDir = 'images/'\n",
    "for i in np.arange(N):\n",
    "    print(\"pass {}\".format(i))\n",
    "    for dirName, subdirList, fileList in os.walk(rootDir):\n",
    "        for fname in fileList:\n",
    "            image_load_time, \\\n",
    "                detect_bbox_time, \\\n",
    "                craft_time, \\\n",
    "                perspective_align_time, \\\n",
    "                classification_time, \\\n",
    "                ocr_time = await test(dirName, fname)\n",
    "            image_load_time_all        += image_load_time\n",
    "            detect_bbox_time_all       += detect_bbox_time\n",
    "            craft_time_all             += craft_time\n",
    "            perspective_align_time_all += perspective_align_time\n",
    "            classification_time_all    += classification_time\n",
    "            ocr_time_all               += ocr_time\n",
    "            j += 1\n",
    "            #print(i, j)\n",
    "    i += 1\n",
    "end_time = time.time() - start_time"
   ]
  },
  {
   "cell_type": "markdown",
   "metadata": {},
   "source": [
    "### Intel(R) Core(TM) i9-9900K CPU @ 3.60GHz + NVIDIA RTX 2080TI"
   ]
  },
  {
   "cell_type": "code",
   "execution_count": 10,
   "metadata": {},
   "outputs": [
    {
     "name": "stdout",
     "output_type": "stream",
     "text": [
      "Processed 260 photos\n",
      "Time 23.027413368225098\n",
      "One photo process 0.08856697449317345 seconds\n",
      "\n",
      "image_load_time_all 5.73335862159729; 0.02205137931383573 per one photo\n",
      "detect_bbox_time_all 4.434998273849487; 0.017057685668651873 per one photo\n",
      "craft_time_all 4.67983078956604; 0.017999349190638614 per one photo\n",
      "perspective_align_time_all 0.09322357177734375; 0.0003585521991436298 per one photo\n",
      "classification_time_all 2.4537336826324463; 0.009437437240894023 per one photo\n",
      "ocr_time_all 5.618906497955322; 0.0216111788382897 per one photo\n"
     ]
    }
   ],
   "source": [
    "print(f\"Processed {j} photos\")\n",
    "print(f\"Time {end_time}\")\n",
    "print(f\"One photo process {end_time/j} seconds\")\n",
    "print()\n",
    "print(f\"image_load_time_all {image_load_time_all}; {image_load_time_all/j} per one photo\")\n",
    "print(f\"detect_bbox_time_all {detect_bbox_time_all}; {detect_bbox_time_all/j} per one photo\")\n",
    "print(f\"craft_time_all {craft_time_all}; {craft_time_all/j} per one photo\")\n",
    "print(f\"perspective_align_time_all {perspective_align_time_all}; {perspective_align_time_all/j} per one photo\")\n",
    "print(f\"classification_time_all {classification_time_all}; {classification_time_all/j} per one photo\")\n",
    "print(f\"ocr_time_all {ocr_time_all}; {ocr_time_all/j} per one photo\")"
   ]
  },
  {
   "cell_type": "code",
   "execution_count": 11,
   "metadata": {},
   "outputs": [],
   "source": [
    "# keras classification                             time 0.0423\n",
    "# keras classification with bach size              time 0.0347\n",
    "# keras classification model()                     time 0.0120\n",
    "# keras classification model() tr=false            time 0.0120\n",
    "# keras classification model() tr=false, one batch time 0.0100"
   ]
  },
  {
   "cell_type": "code",
   "execution_count": 12,
   "metadata": {},
   "outputs": [],
   "source": [
    "# keras ocr                                        time 0.0562\n",
    "# keras ocr with bach size                         time 0.0537\n",
    "# keras classification model()                     time 0.0307\n",
    "# keras classification model() tr=false            time 0.0295\n",
    "# keras classification model() tr=false, one batch time 0.0284"
   ]
  },
  {
   "cell_type": "code",
   "execution_count": 13,
   "metadata": {},
   "outputs": [],
   "source": [
    "# cv2 image load time 0.057034785930926986\n",
    "# image load time 0.030525074555323675"
   ]
  },
  {
   "cell_type": "code",
   "execution_count": null,
   "metadata": {},
   "outputs": [],
   "source": []
  },
  {
   "cell_type": "markdown",
   "metadata": {},
   "source": [
    "### Intel(R) Core(TM) i9-9900K CPU @ 3.60GHz + Quadro RTX 8000"
   ]
  }
 ],
 "metadata": {
  "kernelspec": {
   "display_name": "Python 3",
   "language": "python",
   "name": "python3"
  },
  "language_info": {
   "codemirror_mode": {
    "name": "ipython",
    "version": 3
   },
   "file_extension": ".py",
   "mimetype": "text/x-python",
   "name": "python",
   "nbconvert_exporter": "python",
   "pygments_lexer": "ipython3",
   "version": "3.9.0"
  }
 },
 "nbformat": 4,
 "nbformat_minor": 2
}
